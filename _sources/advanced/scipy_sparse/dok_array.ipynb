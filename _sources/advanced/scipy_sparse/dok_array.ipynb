{
 "cells": [
  {
   "cell_type": "code",
   "execution_count": null,
   "id": "f4ba9084",
   "metadata": {
    "tags": [
     "hide-input"
    ]
   },
   "outputs": [],
   "source": [
    "import numpy as np\n",
    "import scipy as sp"
   ]
  },
  {
   "cell_type": "markdown",
   "id": "de0c31de",
   "metadata": {},
   "source": [
    "# Dictionary of Keys Format (DOK)\n",
    "\n",
    "- subclass of Python dict\n",
    "  - keys are `(row, column)` index tuples (no duplicate entries allowed)\n",
    "  - values are corresponding non-zero values\n",
    "- efficient for constructing sparse arrays incrementally\n",
    "- constructor accepts:\n",
    "  - dense array/matrix\n",
    "  - sparse array/matrix\n",
    "  - shape tuple (create empty array)\n",
    "- efficient O(1) access to individual elements\n",
    "- flexible slicing, changing sparsity structure is efficient\n",
    "- can be efficiently converted to a coo_array once constructed\n",
    "- slow arithmetic (`for` loops with `dict.items()`)\n",
    "- use:\n",
    "  - when sparsity pattern is not known apriori or changes\n",
    "\n",
    "## Examples\n",
    "\n",
    "### Create a DOK array element by element:"
   ]
  },
  {
   "cell_type": "code",
   "execution_count": null,
   "id": "a52f208a",
   "metadata": {},
   "outputs": [],
   "source": [
    "mtx = sp.sparse.dok_array((5, 5), dtype=np.float64)\n",
    "mtx"
   ]
  },
  {
   "cell_type": "code",
   "execution_count": null,
   "id": "af94b621",
   "metadata": {},
   "outputs": [],
   "source": [
    "for ir in range(5):\n",
    "    for ic in range(5):\n",
    "        mtx[ir, ic] = 1.0 * (ir != ic)\n",
    "mtx"
   ]
  },
  {
   "cell_type": "code",
   "execution_count": null,
   "id": "a3c906bf",
   "metadata": {},
   "outputs": [],
   "source": [
    "mtx.toarray()"
   ]
  },
  {
   "cell_type": "markdown",
   "id": "39f1a0f0",
   "metadata": {},
   "source": [
    "### Slicing and indexing:"
   ]
  },
  {
   "cell_type": "code",
   "execution_count": null,
   "id": "0456f118",
   "metadata": {},
   "outputs": [],
   "source": [
    "mtx[1, 1]"
   ]
  },
  {
   "cell_type": "code",
   "execution_count": null,
   "id": "7ff7ebe6",
   "metadata": {},
   "outputs": [],
   "source": [
    "mtx[[1], 1:3]"
   ]
  },
  {
   "cell_type": "code",
   "execution_count": null,
   "id": "9d53f816",
   "metadata": {},
   "outputs": [],
   "source": [
    "mtx[[1], 1:3].toarray()"
   ]
  },
  {
   "cell_type": "code",
   "execution_count": null,
   "id": "b4d0666e",
   "metadata": {},
   "outputs": [],
   "source": [
    "mtx[[2, 1], 1:3].toarray()"
   ]
  }
 ],
 "metadata": {
  "jupytext": {
   "text_representation": {
    "extension": ".md",
    "format_name": "myst",
    "format_version": 0.13,
    "jupytext_version": "1.18.0-dev"
   }
  },
  "kernelspec": {
   "display_name": "Python 3 (ipykernel)",
   "language": "python",
   "name": "python3"
  },
  "orphan": true
 },
 "nbformat": 4,
 "nbformat_minor": 5
}