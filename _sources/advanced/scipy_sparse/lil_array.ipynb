{
 "cells": [
  {
   "cell_type": "code",
   "execution_count": 1,
   "id": "1933d20f",
   "metadata": {
    "tags": [
     "hide-input"
    ]
   },
   "outputs": [],
   "source": [
    "import numpy as np\n",
    "import scipy as sp"
   ]
  },
  {
   "cell_type": "markdown",
   "id": "37b886fd",
   "metadata": {},
   "source": [
    "# List of Lists Format (LIL)\n",
    "\n",
    "- row-based linked list\n",
    "  - each row is a Python list (sorted) of column indices of non-zero elements\n",
    "  - rows stored in a NumPy array (`dtype=np.object`)\n",
    "  - non-zero values data stored analogously\n",
    "- efficient for constructing sparse arrays incrementally\n",
    "- constructor accepts:\n",
    "  - dense array/matrix\n",
    "  - sparse array/matrix\n",
    "  - shape tuple (create empty array)\n",
    "- flexible slicing, changing sparsity structure is efficient\n",
    "- slow arithmetic, slow column slicing due to being row-based\n",
    "- use:\n",
    "  - when sparsity pattern is not known _apriori_ or changes\n",
    "  - example: reading a sparse array from a text file\n",
    "\n",
    "## Examples\n",
    "\n",
    "### Create an empty LIL array:"
   ]
  },
  {
   "cell_type": "code",
   "execution_count": 2,
   "id": "464245c7",
   "metadata": {},
   "outputs": [],
   "source": [
    "mtx = sp.sparse.lil_array((4, 5))"
   ]
  },
  {
   "cell_type": "markdown",
   "id": "2d9cedfe",
   "metadata": {},
   "source": [
    "### Prepare random data"
   ]
  },
  {
   "cell_type": "code",
   "execution_count": 3,
   "id": "321b992b",
   "metadata": {},
   "outputs": [
    {
     "data": {
      "text/plain": [
       "array([[1., 0., 1.],\n",
       "       [0., 0., 1.]])"
      ]
     },
     "execution_count": 3,
     "metadata": {},
     "output_type": "execute_result"
    }
   ],
   "source": [
    "rng = np.random.default_rng(27446968)\n",
    "data = np.round(rng.random((2, 3)))\n",
    "data"
   ]
  },
  {
   "cell_type": "markdown",
   "id": "56ae4a72",
   "metadata": {},
   "source": [
    "### Assign the data using fancy indexing"
   ]
  },
  {
   "cell_type": "code",
   "execution_count": 4,
   "id": "4774eeb7",
   "metadata": {},
   "outputs": [
    {
     "data": {
      "text/plain": [
       "<List of Lists sparse array of dtype 'float64'\n",
       "\twith 3 stored elements and shape (4, 5)>"
      ]
     },
     "execution_count": 4,
     "metadata": {},
     "output_type": "execute_result"
    }
   ],
   "source": [
    "mtx[:2, [1, 2, 3]] = data\n",
    "mtx"
   ]
  },
  {
   "cell_type": "code",
   "execution_count": 5,
   "id": "0ce77429",
   "metadata": {},
   "outputs": [
    {
     "name": "stdout",
     "output_type": "stream",
     "text": [
      "<List of Lists sparse array of dtype 'float64'\n",
      "\twith 3 stored elements and shape (4, 5)>\n",
      "  Coords\tValues\n",
      "  (0, 1)\t1.0\n",
      "  (0, 3)\t1.0\n",
      "  (1, 3)\t1.0\n"
     ]
    }
   ],
   "source": [
    "print(mtx)"
   ]
  },
  {
   "cell_type": "code",
   "execution_count": 6,
   "id": "1b226d1d",
   "metadata": {},
   "outputs": [
    {
     "data": {
      "text/plain": [
       "array([[0., 1., 0., 1., 0.],\n",
       "       [0., 0., 0., 1., 0.],\n",
       "       [0., 0., 0., 0., 0.],\n",
       "       [0., 0., 0., 0., 0.]])"
      ]
     },
     "execution_count": 6,
     "metadata": {},
     "output_type": "execute_result"
    }
   ],
   "source": [
    "mtx.toarray()"
   ]
  },
  {
   "cell_type": "code",
   "execution_count": 7,
   "id": "94e44dc6",
   "metadata": {},
   "outputs": [
    {
     "data": {
      "text/plain": [
       "array([[0., 1., 0., 1., 0.],\n",
       "       [0., 0., 0., 1., 0.],\n",
       "       [0., 0., 0., 0., 0.],\n",
       "       [0., 0., 0., 0., 0.]])"
      ]
     },
     "execution_count": 7,
     "metadata": {},
     "output_type": "execute_result"
    }
   ],
   "source": [
    "mtx.toarray()"
   ]
  },
  {
   "cell_type": "markdown",
   "id": "4bf64e22",
   "metadata": {},
   "source": [
    "### More slicing and indexing"
   ]
  },
  {
   "cell_type": "code",
   "execution_count": 8,
   "id": "bb722e2a",
   "metadata": {},
   "outputs": [
    {
     "data": {
      "text/plain": [
       "array([[0, 1, 2, 0],\n",
       "       [3, 0, 1, 0],\n",
       "       [1, 0, 0, 1]])"
      ]
     },
     "execution_count": 8,
     "metadata": {},
     "output_type": "execute_result"
    }
   ],
   "source": [
    "mtx = sp.sparse.lil_array([[0, 1, 2, 0], [3, 0, 1, 0], [1, 0, 0, 1]])\n",
    "mtx.toarray()"
   ]
  },
  {
   "cell_type": "code",
   "execution_count": 9,
   "id": "14b939de",
   "metadata": {},
   "outputs": [
    {
     "name": "stdout",
     "output_type": "stream",
     "text": [
      "<List of Lists sparse array of dtype 'int64'\n",
      "\twith 6 stored elements and shape (3, 4)>\n",
      "  Coords\tValues\n",
      "  (0, 1)\t1\n",
      "  (0, 2)\t2\n",
      "  (1, 0)\t3\n",
      "  (1, 2)\t1\n",
      "  (2, 0)\t1\n",
      "  (2, 3)\t1\n"
     ]
    }
   ],
   "source": [
    "print(mtx)"
   ]
  },
  {
   "cell_type": "code",
   "execution_count": 10,
   "id": "c1895ca0",
   "metadata": {},
   "outputs": [
    {
     "data": {
      "text/plain": [
       "<List of Lists sparse array of dtype 'int64'\n",
       "\twith 4 stored elements and shape (2, 4)>"
      ]
     },
     "execution_count": 10,
     "metadata": {},
     "output_type": "execute_result"
    }
   ],
   "source": [
    "mtx[:2, :]"
   ]
  },
  {
   "cell_type": "code",
   "execution_count": 11,
   "id": "c38d1805",
   "metadata": {},
   "outputs": [
    {
     "data": {
      "text/plain": [
       "array([[0, 1, 2, 0],\n",
       "       [3, 0, 1, 0]])"
      ]
     },
     "execution_count": 11,
     "metadata": {},
     "output_type": "execute_result"
    }
   ],
   "source": [
    "mtx[:2, :].toarray()"
   ]
  },
  {
   "cell_type": "code",
   "execution_count": 12,
   "id": "5599c401",
   "metadata": {},
   "outputs": [
    {
     "data": {
      "text/plain": [
       "array([[3, 1]])"
      ]
     },
     "execution_count": 12,
     "metadata": {},
     "output_type": "execute_result"
    }
   ],
   "source": [
    "mtx[1:2, [0,2]].toarray()"
   ]
  },
  {
   "cell_type": "code",
   "execution_count": 13,
   "id": "18b20f50",
   "metadata": {},
   "outputs": [
    {
     "data": {
      "text/plain": [
       "array([[0, 1, 2, 0],\n",
       "       [3, 0, 1, 0],\n",
       "       [1, 0, 0, 1]])"
      ]
     },
     "execution_count": 13,
     "metadata": {},
     "output_type": "execute_result"
    }
   ],
   "source": [
    "mtx.toarray()"
   ]
  }
 ],
 "metadata": {
  "jupytext": {
   "text_representation": {
    "extension": ".md",
    "format_name": "myst",
    "format_version": 0.13,
    "jupytext_version": "1.18.0-dev"
   }
  },
  "kernelspec": {
   "display_name": "Python 3 (ipykernel)",
   "language": "python",
   "name": "python3"
  },
  "language_info": {
   "codemirror_mode": {
    "name": "ipython",
    "version": 3
   },
   "file_extension": ".py",
   "mimetype": "text/x-python",
   "name": "python",
   "nbconvert_exporter": "python",
   "pygments_lexer": "ipython3",
   "version": "3.12.2"
  },
  "orphan": true
 },
 "nbformat": 4,
 "nbformat_minor": 5
}