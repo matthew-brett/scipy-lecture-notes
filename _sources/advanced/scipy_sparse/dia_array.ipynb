{
 "cells": [
  {
   "cell_type": "code",
   "execution_count": 1,
   "id": "50815818",
   "metadata": {
    "tags": [
     "hide-input"
    ]
   },
   "outputs": [],
   "source": [
    "import numpy as np\n",
    "import scipy as sp"
   ]
  },
  {
   "cell_type": "markdown",
   "id": "6b3a3460",
   "metadata": {},
   "source": [
    "# Diagonal Format (DIA)\n",
    "\n",
    "- very simple scheme\n",
    "- diagonals in dense NumPy array of shape `(n_diag, length)`\n",
    "  - fixed length -> waste space a bit when far from main diagonal\n",
    "  - subclass of {class}`_data_matrix` (sparse array classes with\n",
    "    `.data` attribute)\n",
    "- offset for each diagonal\n",
    "  - 0 is the main diagonal\n",
    "  - negative offset = below\n",
    "  - positive offset = above\n",
    "- fast matrix \\* vector (sparsetools)\n",
    "- fast and easy item-wise operations\n",
    "  - manipulate data array directly (fast NumPy machinery)\n",
    "- constructor accepts:\n",
    "  - dense array/matrix\n",
    "  - sparse array/matrix\n",
    "  - shape tuple (create empty array)\n",
    "  - `(data, offsets)` tuple\n",
    "- no slicing, no individual item access\n",
    "- use:\n",
    "  - rather specialized\n",
    "  - solving PDEs by finite differences\n",
    "  - with an iterative solver\n",
    "\n",
    "## Examples\n",
    "\n",
    "### Create some DIA arrays:"
   ]
  },
  {
   "cell_type": "code",
   "execution_count": 2,
   "id": "686e3497",
   "metadata": {},
   "outputs": [
    {
     "data": {
      "text/plain": [
       "array([[1, 2, 3, 4],\n",
       "       [1, 2, 3, 4],\n",
       "       [1, 2, 3, 4]])"
      ]
     },
     "execution_count": 2,
     "metadata": {},
     "output_type": "execute_result"
    }
   ],
   "source": [
    "data = np.array([[1, 2, 3, 4]]).repeat(3, axis=0)\n",
    "data"
   ]
  },
  {
   "cell_type": "code",
   "execution_count": 3,
   "id": "bc5d672d",
   "metadata": {},
   "outputs": [
    {
     "data": {
      "text/plain": [
       "<DIAgonal sparse array of dtype 'int64'\n",
       "\twith 9 stored elements (3 diagonals) and shape (4, 4)>"
      ]
     },
     "execution_count": 3,
     "metadata": {},
     "output_type": "execute_result"
    }
   ],
   "source": [
    "offsets = np.array([0, -1, 2])\n",
    "mtx = sp.sparse.dia_array((data, offsets), shape=(4, 4))\n",
    "mtx"
   ]
  },
  {
   "cell_type": "code",
   "execution_count": 4,
   "id": "53c037d5",
   "metadata": {},
   "outputs": [
    {
     "data": {
      "text/plain": [
       "array([[1, 0, 3, 0],\n",
       "       [1, 2, 0, 4],\n",
       "       [0, 2, 3, 0],\n",
       "       [0, 0, 3, 4]])"
      ]
     },
     "execution_count": 4,
     "metadata": {},
     "output_type": "execute_result"
    }
   ],
   "source": [
    "mtx.toarray()"
   ]
  },
  {
   "cell_type": "code",
   "execution_count": 5,
   "id": "c568be2c",
   "metadata": {},
   "outputs": [
    {
     "data": {
      "text/plain": [
       "array([[ 1,  2,  3,  4],\n",
       "       [ 5,  6,  7,  8],\n",
       "       [ 9, 10, 11, 12]])"
      ]
     },
     "execution_count": 5,
     "metadata": {},
     "output_type": "execute_result"
    }
   ],
   "source": [
    "data = np.arange(12).reshape((3, 4)) + 1\n",
    "data"
   ]
  },
  {
   "cell_type": "code",
   "execution_count": 6,
   "id": "fdbaac37",
   "metadata": {},
   "outputs": [
    {
     "data": {
      "text/plain": [
       "array([[ 1,  2,  3,  4],\n",
       "       [ 5,  6,  7,  8],\n",
       "       [ 9, 10, 11, 12]])"
      ]
     },
     "execution_count": 6,
     "metadata": {},
     "output_type": "execute_result"
    }
   ],
   "source": [
    "mtx = sp.sparse.dia_array((data, offsets), shape=(4, 4))\n",
    "mtx.data"
   ]
  },
  {
   "cell_type": "code",
   "execution_count": 7,
   "id": "9669aec8",
   "metadata": {},
   "outputs": [
    {
     "data": {
      "text/plain": [
       "array([ 0, -1,  2], dtype=int32)"
      ]
     },
     "execution_count": 7,
     "metadata": {},
     "output_type": "execute_result"
    }
   ],
   "source": [
    "mtx.offsets"
   ]
  },
  {
   "cell_type": "code",
   "execution_count": 8,
   "id": "11c4e428",
   "metadata": {},
   "outputs": [
    {
     "name": "stdout",
     "output_type": "stream",
     "text": [
      "<DIAgonal sparse array of dtype 'int64'\n",
      "\twith 9 stored elements (3 diagonals) and shape (4, 4)>\n",
      "  Coords\tValues\n",
      "  (0, 0)\t1\n",
      "  (1, 1)\t2\n",
      "  (2, 2)\t3\n",
      "  (3, 3)\t4\n",
      "  (1, 0)\t5\n",
      "  (2, 1)\t6\n",
      "  (3, 2)\t7\n",
      "  (0, 2)\t11\n",
      "  (1, 3)\t12\n"
     ]
    }
   ],
   "source": [
    "print(mtx)"
   ]
  },
  {
   "cell_type": "code",
   "execution_count": 9,
   "id": "c33d5dd4",
   "metadata": {},
   "outputs": [
    {
     "data": {
      "text/plain": [
       "array([[ 1,  0, 11,  0],\n",
       "       [ 5,  2,  0, 12],\n",
       "       [ 0,  6,  3,  0],\n",
       "       [ 0,  0,  7,  4]])"
      ]
     },
     "execution_count": 9,
     "metadata": {},
     "output_type": "execute_result"
    }
   ],
   "source": [
    "mtx.toarray()"
   ]
  },
  {
   "cell_type": "markdown",
   "id": "9c489497",
   "metadata": {},
   "source": [
    "### Explanation with a scheme:\n",
    "\n",
    "```\n",
    "offset: row\n",
    "\n",
    "    2:  9\n",
    "    1:  --10------\n",
    "    0:  1  . 11  .\n",
    "    -1:  5  2  . 12\n",
    "    -2:  .  6  3  .\n",
    "    -3:  .  .  7  4\n",
    "        ---------8\n",
    "```\n",
    "\n",
    "### Matrix-vector multiplication"
   ]
  },
  {
   "cell_type": "code",
   "execution_count": 10,
   "id": "15af71d3",
   "metadata": {},
   "outputs": [
    {
     "data": {
      "text/plain": [
       "array([1., 1., 1., 1.])"
      ]
     },
     "execution_count": 10,
     "metadata": {},
     "output_type": "execute_result"
    }
   ],
   "source": [
    "vec = np.ones((4, ))\n",
    "vec"
   ]
  },
  {
   "cell_type": "code",
   "execution_count": 11,
   "id": "06e1d022",
   "metadata": {},
   "outputs": [
    {
     "data": {
      "text/plain": [
       "array([12., 19.,  9., 11.])"
      ]
     },
     "execution_count": 11,
     "metadata": {},
     "output_type": "execute_result"
    }
   ],
   "source": [
    "mtx @ vec"
   ]
  },
  {
   "cell_type": "code",
   "execution_count": 12,
   "id": "e62f02f9",
   "metadata": {},
   "outputs": [
    {
     "data": {
      "text/plain": [
       "array([[ 1.,  0., 11.,  0.],\n",
       "       [ 5.,  2.,  0., 12.],\n",
       "       [ 0.,  6.,  3.,  0.],\n",
       "       [ 0.,  0.,  7.,  4.]])"
      ]
     },
     "execution_count": 12,
     "metadata": {},
     "output_type": "execute_result"
    }
   ],
   "source": [
    "(mtx * vec).toarray()"
   ]
  }
 ],
 "metadata": {
  "jupytext": {
   "text_representation": {
    "extension": ".md",
    "format_name": "myst",
    "format_version": 0.13,
    "jupytext_version": "1.18.0-dev"
   }
  },
  "kernelspec": {
   "display_name": "Python 3 (ipykernel)",
   "language": "python",
   "name": "python3"
  },
  "language_info": {
   "codemirror_mode": {
    "name": "ipython",
    "version": 3
   },
   "file_extension": ".py",
   "mimetype": "text/x-python",
   "name": "python",
   "nbconvert_exporter": "python",
   "pygments_lexer": "ipython3",
   "version": "3.12.7"
  },
  "orphan": true
 },
 "nbformat": 4,
 "nbformat_minor": 5
}