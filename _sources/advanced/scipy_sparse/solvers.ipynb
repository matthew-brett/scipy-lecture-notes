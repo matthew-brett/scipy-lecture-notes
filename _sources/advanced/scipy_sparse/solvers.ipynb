{
 "cells": [
  {
   "cell_type": "markdown",
   "id": "43180729",
   "metadata": {},
   "source": [
    "# Linear System Solvers\n",
    "\n",
    "- sparse matrix/eigenvalue problem solvers live in {mod}`scipy.sparse.linalg`\n",
    "\n",
    "- the submodules:\n",
    "  - {mod}`dsolve`: direct factorization methods for solving linear systems\n",
    "  - {mod}`isolve`: iterative methods for solving linear systems\n",
    "  - {mod}`eigen`: sparse eigenvalue problem solvers\n",
    "\n",
    "All solvers are accessible from:"
   ]
  },
  {
   "cell_type": "code",
   "execution_count": 1,
   "id": "6405dea2",
   "metadata": {},
   "outputs": [
    {
     "data": {
      "text/plain": [
       "['ArpackError',\n",
       " 'ArpackNoConvergence',\n",
       " 'LaplacianNd',\n",
       " 'LinearOperator',\n",
       " 'MatrixRankWarning',\n",
       " 'SuperLU',\n",
       " 'aslinearoperator',\n",
       " 'bicg',\n",
       " 'bicgstab',\n",
       " 'cg',\n",
       " 'cgs',\n",
       " 'dsolve',\n",
       " 'eigen',\n",
       " 'eigs',\n",
       " 'eigsh',\n",
       " 'expm',\n",
       " 'expm_multiply',\n",
       " 'factorized',\n",
       " 'gcrotmk',\n",
       " 'gmres',\n",
       " 'interface',\n",
       " 'inv',\n",
       " 'is_sptriangular',\n",
       " 'isolve',\n",
       " 'lgmres',\n",
       " 'lobpcg',\n",
       " 'lsmr',\n",
       " 'lsqr',\n",
       " 'matfuncs',\n",
       " 'matrix_power',\n",
       " 'minres',\n",
       " 'norm',\n",
       " 'onenormest',\n",
       " 'qmr',\n",
       " 'spbandwidth',\n",
       " 'spilu',\n",
       " 'splu',\n",
       " 'spsolve',\n",
       " 'spsolve_triangular',\n",
       " 'svds',\n",
       " 'tfqmr',\n",
       " 'use_solver']"
      ]
     },
     "execution_count": 1,
     "metadata": {},
     "output_type": "execute_result"
    }
   ],
   "source": [
    "import scipy as sp\n",
    "sp.sparse.linalg.__all__"
   ]
  },
  {
   "cell_type": "markdown",
   "id": "5f360c6a",
   "metadata": {},
   "source": [
    "## Sparse Direct Solvers\n",
    "\n",
    "- default solver: SuperLU\n",
    "  - included in SciPy\n",
    "  - real and complex systems\n",
    "  - both single and double precision\n",
    "- optional: umfpack\n",
    "  - real and complex systems\n",
    "  - double precision only\n",
    "  - recommended for performance\n",
    "  - wrappers now live in {mod}`scikits.umfpack`\n",
    "  - check-out the new {mod}`scikits.suitesparse` by Nathaniel Smith\n",
    "\n",
    "### Examples\n",
    "\n",
    "Import the whole module, and see its docstring:"
   ]
  },
  {
   "cell_type": "code",
   "execution_count": 2,
   "id": "109a7b0b",
   "metadata": {},
   "outputs": [
    {
     "name": "stdout",
     "output_type": "stream",
     "text": [
      "Help on function spsolve in module scipy.sparse.linalg._dsolve.linsolve:\n",
      "\n",
      "spsolve(A, b, permc_spec=None, use_umfpack=True)\n",
      "    Solve the sparse linear system Ax=b, where b may be a vector or a matrix.\n",
      "\n",
      "    Parameters\n",
      "    ----------\n",
      "    A : ndarray or sparse array or matrix\n",
      "        The square matrix A will be converted into CSC or CSR form\n",
      "    b : ndarray or sparse array or matrix\n",
      "        The matrix or vector representing the right hand side of the equation.\n",
      "        If a vector, b.shape must be (n,) or (n, 1).\n",
      "    permc_spec : str, optional\n",
      "        How to permute the columns of the matrix for sparsity preservation.\n",
      "        (default: 'COLAMD')\n",
      "\n",
      "        - ``NATURAL``: natural ordering.\n",
      "        - ``MMD_ATA``: minimum degree ordering on the structure of A^T A.\n",
      "        - ``MMD_AT_PLUS_A``: minimum degree ordering on the structure of A^T+A.\n",
      "        - ``COLAMD``: approximate minimum degree column ordering [1]_, [2]_.\n",
      "\n",
      "    use_umfpack : bool, optional\n",
      "        if True (default) then use UMFPACK for the solution [3]_, [4]_, [5]_,\n",
      "        [6]_ . This is only referenced if b is a vector and\n",
      "        ``scikits.umfpack`` is installed.\n",
      "\n",
      "    Returns\n",
      "    -------\n",
      "    x : ndarray or sparse array or matrix\n",
      "        the solution of the sparse linear equation.\n",
      "        If b is a vector, then x is a vector of size A.shape[1]\n",
      "        If b is a matrix, then x is a matrix of size (A.shape[1], b.shape[1])\n",
      "\n",
      "    Notes\n",
      "    -----\n",
      "    For solving the matrix expression AX = B, this solver assumes the resulting\n",
      "    matrix X is sparse, as is often the case for very sparse inputs.  If the\n",
      "    resulting X is dense, the construction of this sparse result will be\n",
      "    relatively expensive.  In that case, consider converting A to a dense\n",
      "    matrix and using scipy.linalg.solve or its variants.\n",
      "\n",
      "    References\n",
      "    ----------\n",
      "    .. [1] T. A. Davis, J. R. Gilbert, S. Larimore, E. Ng, Algorithm 836:\n",
      "           COLAMD, an approximate column minimum degree ordering algorithm,\n",
      "           ACM Trans. on Mathematical Software, 30(3), 2004, pp. 377--380.\n",
      "           :doi:`10.1145/1024074.1024080`\n",
      "\n",
      "    .. [2] T. A. Davis, J. R. Gilbert, S. Larimore, E. Ng, A column approximate\n",
      "           minimum degree ordering algorithm, ACM Trans. on Mathematical\n",
      "           Software, 30(3), 2004, pp. 353--376. :doi:`10.1145/1024074.1024079`\n",
      "\n",
      "    .. [3] T. A. Davis, Algorithm 832:  UMFPACK - an unsymmetric-pattern\n",
      "           multifrontal method with a column pre-ordering strategy, ACM\n",
      "           Trans. on Mathematical Software, 30(2), 2004, pp. 196--199.\n",
      "           https://dl.acm.org/doi/abs/10.1145/992200.992206\n",
      "\n",
      "    .. [4] T. A. Davis, A column pre-ordering strategy for the\n",
      "           unsymmetric-pattern multifrontal method, ACM Trans.\n",
      "           on Mathematical Software, 30(2), 2004, pp. 165--195.\n",
      "           https://dl.acm.org/doi/abs/10.1145/992200.992205\n",
      "\n",
      "    .. [5] T. A. Davis and I. S. Duff, A combined unifrontal/multifrontal\n",
      "           method for unsymmetric sparse matrices, ACM Trans. on\n",
      "           Mathematical Software, 25(1), 1999, pp. 1--19.\n",
      "           https://doi.org/10.1145/305658.287640\n",
      "\n",
      "    .. [6] T. A. Davis and I. S. Duff, An unsymmetric-pattern multifrontal\n",
      "           method for sparse LU factorization, SIAM J. Matrix Analysis and\n",
      "           Computations, 18(1), 1997, pp. 140--158.\n",
      "           https://doi.org/10.1137/S0895479894246905T.\n",
      "\n",
      "\n",
      "    Examples\n",
      "    --------\n",
      "    >>> import numpy as np\n",
      "    >>> from scipy.sparse import csc_array\n",
      "    >>> from scipy.sparse.linalg import spsolve\n",
      "    >>> A = csc_array([[3, 2, 0], [1, -1, 0], [0, 5, 1]], dtype=float)\n",
      "    >>> B = csc_array([[2, 0], [-1, 0], [2, 0]], dtype=float)\n",
      "    >>> x = spsolve(A, B)\n",
      "    >>> np.allclose(A.dot(x).toarray(), B.toarray())\n",
      "    True\n",
      "\n"
     ]
    }
   ],
   "source": [
    "help(sp.sparse.linalg.spsolve)"
   ]
  },
  {
   "cell_type": "markdown",
   "id": "75b2ba70",
   "metadata": {},
   "source": [
    "Both superlu and umfpack can be used (if the latter is installed) as follows.\n",
    "\n",
    "Prepare a linear system:"
   ]
  },
  {
   "cell_type": "code",
   "execution_count": 3,
   "id": "ee7a5e95",
   "metadata": {},
   "outputs": [
    {
     "data": {
      "text/plain": [
       "array([[ 1,  5,  0,  0,  0],\n",
       "       [ 0,  2,  8,  0,  0],\n",
       "       [ 0,  0,  3,  9,  0],\n",
       "       [ 0,  0,  0,  4, 10],\n",
       "       [ 0,  0,  0,  0,  5]])"
      ]
     },
     "execution_count": 3,
     "metadata": {},
     "output_type": "execute_result"
    }
   ],
   "source": [
    "import numpy as np\n",
    "mtx = sp.sparse.spdiags([[1, 2, 3, 4, 5], [6, 5, 8, 9, 10]], [0, 1], 5, 5, \"csc\")\n",
    "mtx.toarray()"
   ]
  },
  {
   "cell_type": "code",
   "execution_count": 4,
   "id": "9e9e0aba",
   "metadata": {},
   "outputs": [],
   "source": [
    "rhs = np.array([1, 2, 3, 4, 5], dtype=np.float32)"
   ]
  },
  {
   "cell_type": "markdown",
   "id": "0c1b969e",
   "metadata": {},
   "source": [
    "Solve as single precision real:"
   ]
  },
  {
   "cell_type": "code",
   "execution_count": 5,
   "id": "6fe0d3d2",
   "metadata": {},
   "outputs": [
    {
     "name": "stdout",
     "output_type": "stream",
     "text": [
      "[106.  -21.    5.5  -1.5   1. ]\n"
     ]
    }
   ],
   "source": [
    "mtx1 = mtx.astype(np.float32)\n",
    "x = sp.sparse.linalg.spsolve(mtx1, rhs, use_umfpack=False)\n",
    "print(x)"
   ]
  },
  {
   "cell_type": "code",
   "execution_count": 6,
   "id": "e8b043b2",
   "metadata": {},
   "outputs": [
    {
     "name": "stdout",
     "output_type": "stream",
     "text": [
      "Error: [0. 0. 0. 0. 0.]\n"
     ]
    }
   ],
   "source": [
    "print(\"Error: %s\" % (mtx1 * x - rhs))"
   ]
  },
  {
   "cell_type": "markdown",
   "id": "6554c664",
   "metadata": {},
   "source": [
    "Solve as double precision real:"
   ]
  },
  {
   "cell_type": "code",
   "execution_count": 7,
   "id": "45aed0a5",
   "metadata": {},
   "outputs": [
    {
     "name": "stdout",
     "output_type": "stream",
     "text": [
      "[106.  -21.    5.5  -1.5   1. ]\n"
     ]
    }
   ],
   "source": [
    "mtx2 = mtx.astype(np.float64)\n",
    "x = sp.sparse.linalg.spsolve(mtx2, rhs, use_umfpack=True)\n",
    "print(x)"
   ]
  },
  {
   "cell_type": "code",
   "execution_count": 8,
   "id": "7dbb1ff7",
   "metadata": {},
   "outputs": [
    {
     "name": "stdout",
     "output_type": "stream",
     "text": [
      "Error: [0. 0. 0. 0. 0.]\n"
     ]
    }
   ],
   "source": [
    "print(\"Error: %s\" % (mtx2 * x - rhs))"
   ]
  },
  {
   "cell_type": "markdown",
   "id": "06bb98af",
   "metadata": {},
   "source": [
    "Solve as single precision complex:"
   ]
  },
  {
   "cell_type": "code",
   "execution_count": 9,
   "id": "931f2cc8",
   "metadata": {},
   "outputs": [
    {
     "name": "stdout",
     "output_type": "stream",
     "text": [
      "[106. +0.j -21. +0.j   5.5+0.j  -1.5+0.j   1. +0.j]\n"
     ]
    }
   ],
   "source": [
    "mtx1 = mtx.astype(np.complex64)\n",
    "x = sp.sparse.linalg.spsolve(mtx1, rhs, use_umfpack=False)\n",
    "print(x)"
   ]
  },
  {
   "cell_type": "code",
   "execution_count": 10,
   "id": "9ff8302a",
   "metadata": {},
   "outputs": [
    {
     "name": "stdout",
     "output_type": "stream",
     "text": [
      "Error: [0.+0.j 0.+0.j 0.+0.j 0.+0.j 0.+0.j]\n"
     ]
    }
   ],
   "source": [
    "print(\"Error: %s\" % (mtx1 * x - rhs))"
   ]
  },
  {
   "cell_type": "markdown",
   "id": "0cd4f7df",
   "metadata": {},
   "source": [
    "Solve as double precision complex:"
   ]
  },
  {
   "cell_type": "code",
   "execution_count": 11,
   "id": "d8a3295d",
   "metadata": {},
   "outputs": [
    {
     "name": "stdout",
     "output_type": "stream",
     "text": [
      "[106. +0.j -21. +0.j   5.5+0.j  -1.5+0.j   1. +0.j]\n"
     ]
    }
   ],
   "source": [
    "mtx2 = mtx.astype(np.complex128)\n",
    "x = sp.sparse.linalg.spsolve(mtx2, rhs, use_umfpack=True)\n",
    "print(x)"
   ]
  },
  {
   "cell_type": "code",
   "execution_count": 12,
   "id": "b823283d",
   "metadata": {},
   "outputs": [
    {
     "name": "stdout",
     "output_type": "stream",
     "text": [
      "Error: [0.+0.j 0.+0.j 0.+0.j 0.+0.j 0.+0.j]\n"
     ]
    }
   ],
   "source": [
    "print(\"Error: %s\" % (mtx2 * x - rhs))"
   ]
  },
  {
   "cell_type": "markdown",
   "id": "990ba4c6",
   "metadata": {},
   "source": [
    "{download}`examples/direct_solve.py`"
   ]
  },
  {
   "cell_type": "markdown",
   "id": "1513bacf",
   "metadata": {},
   "source": [
    "## Iterative Solvers\n",
    "\n",
    "- the {mod}`isolve` module contains the following solvers:\n",
    "  - `bicg` (BIConjugate Gradient)\n",
    "  - `bicgstab` (BIConjugate Gradient STABilized)\n",
    "  - `cg` (Conjugate Gradient) - symmetric positive definite matrices\n",
    "    only\n",
    "  - `cgs` (Conjugate Gradient Squared)\n",
    "  - `gmres` (Generalized Minimal RESidual)\n",
    "  - `minres` (MINimum RESidual)\n",
    "  - `qmr` (Quasi-Minimal Residual)"
   ]
  },
  {
   "cell_type": "markdown",
   "id": "d7160bcc",
   "metadata": {},
   "source": [
    "### Common Parameters\n",
    "\n",
    "- mandatory:\n",
    "\n",
    "  - `A` : The N-by-N matrix of the linear system.\n",
    "  - `b`: Right hand side of the linear system. Has shape (N,) or (N,1).\n",
    "\n",
    "- optional:\n",
    "\n",
    "  - `x0`: Starting guess for the solution.\n",
    "  - `tol` : Relative tolerance to achieve before terminating.\n",
    "  - `maxiter` : Maximum number of iterations. Iteration will stop after maxiter\n",
    "    steps even if the specified tolerance has not been achieved.\n",
    "  - `M` : Preconditioner for A. The preconditioner should approximate the\n",
    "    inverse of A. Effective preconditioning dramatically improves the\n",
    "    rate of convergence, which implies that fewer iterations are needed\n",
    "    to reach a given error tolerance.\n",
    "  - `callback` : User-supplied function to call after each iteration. It is\n",
    "    called as `callback(xk)`, where `xk` is the current solution vector."
   ]
  },
  {
   "cell_type": "markdown",
   "id": "c905577c",
   "metadata": {},
   "source": [
    "### LinearOperator Class\n",
    "\n",
    "- common interface for performing matrix vector products\n",
    "- useful abstraction that enables using dense and sparse matrices within\n",
    "  the solvers, as well as _matrix-free_ solutions\n",
    "- has `shape` and `matvec()` (+ some optional parameters)\n",
    "\n",
    "Here is an example:"
   ]
  },
  {
   "cell_type": "code",
   "execution_count": 13,
   "id": "b2dc7e83",
   "metadata": {},
   "outputs": [],
   "source": [
    "import numpy as np\n",
    "import scipy as sp\n",
    "\n",
    "def mv(v):\n",
    "    return np.array([2 * v[0], 3 * v[1]])"
   ]
  },
  {
   "cell_type": "code",
   "execution_count": 14,
   "id": "412f4901",
   "metadata": {},
   "outputs": [
    {
     "data": {
      "text/plain": [
       "<2x2 _CustomLinearOperator with dtype=int8>"
      ]
     },
     "execution_count": 14,
     "metadata": {},
     "output_type": "execute_result"
    }
   ],
   "source": [
    "A = sp.sparse.linalg.LinearOperator((2, 2), matvec=mv)\n",
    "A"
   ]
  },
  {
   "cell_type": "code",
   "execution_count": 15,
   "id": "17e930ad",
   "metadata": {},
   "outputs": [
    {
     "data": {
      "text/plain": [
       "array([2., 3.])"
      ]
     },
     "execution_count": 15,
     "metadata": {},
     "output_type": "execute_result"
    }
   ],
   "source": [
    "A.matvec(np.ones(2))"
   ]
  },
  {
   "cell_type": "code",
   "execution_count": 16,
   "id": "30dba36a",
   "metadata": {},
   "outputs": [
    {
     "data": {
      "text/plain": [
       "array([2., 3.])"
      ]
     },
     "execution_count": 16,
     "metadata": {},
     "output_type": "execute_result"
    }
   ],
   "source": [
    "A * np.ones(2)"
   ]
  },
  {
   "cell_type": "markdown",
   "id": "7fc64a7d",
   "metadata": {},
   "source": [
    "### A Few Notes on Preconditioning\n",
    "\n",
    "- problem specific\n",
    "- often hard to develop\n",
    "- if not sure, try ILU\n",
    "  - available in {mod}`scipy.sparse.linalg` as {func}`spilu()`\n",
    "\n",
    "## Eigenvalue Problem Solvers\n",
    "\n",
    "### The {mod}`eigen` module\n",
    "\n",
    "- `arpack`: a collection of Fortran77 subroutines designed to solve large scale eigenvalue problems\n",
    "- `lobpcg`: (Locally Optimal Block Preconditioned Conjugate\n",
    "  Gradient Method); \\* works very well in combination with\n",
    "  [PyAMG](https://github.com/pyamg/pyamg)\n",
    "\n",
    "  - example by Nathan Bell:\n",
    "\n",
    "    {download}`examples/pyamg_with_lobpcg.py`\n",
    "\n",
    "Another example by Nils Wagner:\n",
    "\n",
    "{download}`examples/lobpcg_sakurai.py`\n",
    "\n",
    "Output:\n",
    "\n",
    "```bash\n",
    "$ python examples/lobpcg_sakurai.py\n",
    "Results by LOBPCG for n=2500\n",
    "\n",
    "[ 0.06250083  0.06250028  0.06250007]\n",
    "\n",
    "Exact eigenvalues\n",
    "\n",
    "[ 0.06250005  0.0625002   0.06250044]\n",
    "\n",
    "Elapsed time 7.01\n",
    "```\n",
    "\n",
    "![](figures/lobpcg_eigenvalues.png)"
   ]
  }
 ],
 "metadata": {
  "jupytext": {
   "text_representation": {
    "extension": ".md",
    "format_name": "myst",
    "format_version": 0.13,
    "jupytext_version": "1.18.0-dev"
   }
  },
  "kernelspec": {
   "display_name": "Python 3 (ipykernel)",
   "language": "python",
   "name": "python3"
  },
  "language_info": {
   "codemirror_mode": {
    "name": "ipython",
    "version": 3
   },
   "file_extension": ".py",
   "mimetype": "text/x-python",
   "name": "python",
   "nbconvert_exporter": "python",
   "pygments_lexer": "ipython3",
   "version": "3.12.2"
  }
 },
 "nbformat": 4,
 "nbformat_minor": 5
}