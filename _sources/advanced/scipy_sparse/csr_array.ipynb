{
 "cells": [
  {
   "cell_type": "code",
   "execution_count": null,
   "id": "7ad3a897",
   "metadata": {
    "tags": [
     "hide-input"
    ]
   },
   "outputs": [],
   "source": [
    "import numpy as np\n",
    "import scipy as sp"
   ]
  },
  {
   "cell_type": "markdown",
   "id": "616c52bf",
   "metadata": {},
   "source": [
    "# Compressed Sparse Row Format (CSR)\n",
    "\n",
    "- row oriented\n",
    "  - three NumPy arrays: `indices`, `indptr`, `data`\n",
    "    - `indices` is array of column indices\n",
    "    - `data` is array of corresponding nonzero values\n",
    "    - `indptr` points to row starts in `indices` and `data`\n",
    "    - length of `indptr` is `n_row + 1`,\n",
    "      last item = number of values = length of both `indices` and `data`\n",
    "    - nonzero values of the `i`-th row are `data[indptr[i]:indptr[i + 1]]`\n",
    "      with column indices `indices[indptr[i]:indptr[i + 1]]`\n",
    "    - item `(i, j)` can be accessed as `data[indptr[i] + k]`, where `k` is\n",
    "      position of `j` in `indices[indptr[i]:indptr[i + 1]]`\n",
    "  - subclass of {class}`_cs_matrix` (common CSR/CSC functionality)\n",
    "    - subclass of {class}`_data_matrix` (sparse array classes with\n",
    "      `.data` attribute)\n",
    "- fast matrix vector products and other arithmetic (sparsetools)\n",
    "- constructor accepts:\n",
    "  - dense array/matrix\n",
    "  - sparse array/matrix\n",
    "  - shape tuple (create empty array)\n",
    "  - `(data, coords)` tuple\n",
    "  - `(data, indices, indptr)` tuple\n",
    "- efficient row slicing, row-oriented operations\n",
    "- slow column slicing, expensive changes to the sparsity structure\n",
    "- use:\n",
    "  - actual computations (most linear solvers support this format)\n",
    "\n",
    "## Examples\n",
    "\n",
    "### Create empty CSR array:"
   ]
  },
  {
   "cell_type": "code",
   "execution_count": null,
   "id": "f31e8d19",
   "metadata": {},
   "outputs": [],
   "source": [
    "mtx = sp.sparse.csr_array((3, 4), dtype=np.int8)\n",
    "mtx.toarray()"
   ]
  },
  {
   "cell_type": "markdown",
   "id": "733db236",
   "metadata": {},
   "source": [
    "### Create using `(data, coords)` tuple:"
   ]
  },
  {
   "cell_type": "code",
   "execution_count": null,
   "id": "88cf8fbb",
   "metadata": {},
   "outputs": [],
   "source": [
    "row = np.array([0, 0, 1, 2, 2, 2])\n",
    "col = np.array([0, 2, 2, 0, 1, 2])\n",
    "data = np.array([1, 2, 3, 4, 5, 6])\n",
    "mtx = sp.sparse.csr_array((data, (row, col)), shape=(3, 3))\n",
    "mtx"
   ]
  },
  {
   "cell_type": "code",
   "execution_count": null,
   "id": "894d8c07",
   "metadata": {},
   "outputs": [],
   "source": [
    "mtx.toarray()"
   ]
  },
  {
   "cell_type": "code",
   "execution_count": null,
   "id": "ca678c6c",
   "metadata": {},
   "outputs": [],
   "source": [
    "mtx.data"
   ]
  },
  {
   "cell_type": "code",
   "execution_count": null,
   "id": "089fe694",
   "metadata": {},
   "outputs": [],
   "source": [
    "mtx.indices"
   ]
  },
  {
   "cell_type": "code",
   "execution_count": null,
   "id": "68c31338",
   "metadata": {},
   "outputs": [],
   "source": [
    "mtx.indptr"
   ]
  },
  {
   "cell_type": "markdown",
   "id": "7023c364",
   "metadata": {},
   "source": [
    "### Create using `(data, indices, indptr)` tuple:"
   ]
  },
  {
   "cell_type": "code",
   "execution_count": null,
   "id": "f134152a",
   "metadata": {},
   "outputs": [],
   "source": [
    "data = np.array([1, 2, 3, 4, 5, 6])\n",
    "indices = np.array([0, 2, 2, 0, 1, 2])\n",
    "indptr = np.array([0, 2, 3, 6])\n",
    "mtx = sp.sparse.csr_array((data, indices, indptr), shape=(3, 3))\n",
    "mtx.toarray()"
   ]
  }
 ],
 "metadata": {
  "jupytext": {
   "text_representation": {
    "extension": ".md",
    "format_name": "myst",
    "format_version": 0.13,
    "jupytext_version": "1.18.0-dev"
   }
  },
  "kernelspec": {
   "display_name": "Python 3 (ipykernel)",
   "language": "python",
   "name": "python3"
  },
  "orphan": true
 },
 "nbformat": 4,
 "nbformat_minor": 5
}