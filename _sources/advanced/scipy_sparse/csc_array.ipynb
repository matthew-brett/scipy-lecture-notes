{
 "cells": [
  {
   "cell_type": "code",
   "execution_count": null,
   "id": "1bc74afa",
   "metadata": {
    "tags": [
     "hide-input"
    ]
   },
   "outputs": [],
   "source": [
    "import numpy as np\n",
    "import scipy as sp"
   ]
  },
  {
   "cell_type": "markdown",
   "id": "68b5530f",
   "metadata": {},
   "source": [
    "# Compressed Sparse Column Format (CSC)\n",
    "\n",
    "- column oriented\n",
    "  - three NumPy arrays: `indices`, `indptr`, `data`\n",
    "    - `indices` is array of row indices\n",
    "    - `data` is array of corresponding nonzero values\n",
    "    - `indptr` points to column starts in `indices` and `data`\n",
    "    - length is `n_col + 1`, last item = number of values = length of both\n",
    "      `indices` and `data`\n",
    "    - nonzero values of the `i`-th column are `data[indptr[i]:indptr[i+1]]`\n",
    "      with row indices `indices[indptr[i]:indptr[i+1]]`\n",
    "    - item `(i, j)` can be accessed as `data[indptr[j]+k]`, where `k` is\n",
    "      position of `i` in `indices[indptr[j]:indptr[j+1]]`\n",
    "    - subclass of {class}`_cs_matrix` (common CSR/CSC functionality)\n",
    "      - subclass of {class}`_data_matrix` (sparse array classes with `.data`\n",
    "        attribute)\n",
    "- fast matrix vector products and other arithmetic (sparsetools)\n",
    "- constructor accepts:\n",
    "  - dense array/matrix\n",
    "  - sparse array/matrix\n",
    "  - shape tuple (create empty array)\n",
    "  - `(data, coords)` tuple\n",
    "  - `(data, indices, indptr)` tuple\n",
    "- efficient column slicing, column-oriented operations\n",
    "- slow row slicing, expensive changes to the sparsity structure\n",
    "- use:\n",
    "  - actual computations (most linear solvers support this format)\n",
    "\n",
    "## Examples\n",
    "\n",
    "- create empty CSC array:"
   ]
  },
  {
   "cell_type": "code",
   "execution_count": null,
   "id": "7b1e3659",
   "metadata": {},
   "outputs": [],
   "source": [
    "mtx = sp.sparse.csc_array((3, 4), dtype=np.int8)\n",
    "mtx.toarray()"
   ]
  },
  {
   "cell_type": "markdown",
   "id": "c346f9d7",
   "metadata": {},
   "source": [
    "### Create using `(data, coords)` tuple:"
   ]
  },
  {
   "cell_type": "code",
   "execution_count": null,
   "id": "4dcab648",
   "metadata": {},
   "outputs": [],
   "source": [
    "row = np.array([0, 0, 1, 2, 2, 2])\n",
    "col = np.array([0, 2, 2, 0, 1, 2])\n",
    "data = np.array([1, 2, 3, 4, 5, 6])\n",
    "mtx = sp.sparse.csc_array((data, (row, col)), shape=(3, 3))\n",
    "mtx"
   ]
  },
  {
   "cell_type": "code",
   "execution_count": null,
   "id": "3159d401",
   "metadata": {},
   "outputs": [],
   "source": [
    "mtx.toarray()"
   ]
  },
  {
   "cell_type": "code",
   "execution_count": null,
   "id": "8bec2bfa",
   "metadata": {},
   "outputs": [],
   "source": [
    "mtx.data"
   ]
  },
  {
   "cell_type": "code",
   "execution_count": null,
   "id": "c0a13fb3",
   "metadata": {},
   "outputs": [],
   "source": [
    "mtx.indices"
   ]
  },
  {
   "cell_type": "code",
   "execution_count": null,
   "id": "5e720454",
   "metadata": {},
   "outputs": [],
   "source": [
    "mtx.indptr"
   ]
  },
  {
   "cell_type": "markdown",
   "id": "15a9f603",
   "metadata": {},
   "source": [
    "### Create using `(data, indices, indptr)` tuple:"
   ]
  },
  {
   "cell_type": "code",
   "execution_count": null,
   "id": "4597fa96",
   "metadata": {},
   "outputs": [],
   "source": [
    "data = np.array([1, 4, 5, 2, 3, 6])\n",
    "indices = np.array([0, 2, 2, 0, 1, 2])\n",
    "indptr = np.array([0, 2, 3, 6])\n",
    "mtx = sp.sparse.csc_array((data, indices, indptr), shape=(3, 3))\n",
    "mtx.toarray()"
   ]
  }
 ],
 "metadata": {
  "jupytext": {
   "text_representation": {
    "extension": ".md",
    "format_name": "myst",
    "format_version": 0.13,
    "jupytext_version": "1.18.0-dev"
   }
  },
  "kernelspec": {
   "display_name": "Python 3 (ipykernel)",
   "language": "python",
   "name": "python3"
  },
  "orphan": true
 },
 "nbformat": 4,
 "nbformat_minor": 5
}