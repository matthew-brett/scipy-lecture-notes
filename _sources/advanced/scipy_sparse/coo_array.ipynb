{
 "cells": [
  {
   "cell_type": "code",
   "execution_count": null,
   "id": "5fe3c196",
   "metadata": {
    "tags": [
     "hide-input"
    ]
   },
   "outputs": [],
   "source": [
    "import numpy as np\n",
    "import scipy as sp"
   ]
  },
  {
   "cell_type": "markdown",
   "id": "d5ffe9a6",
   "metadata": {},
   "source": [
    "# Coordinate Format (COO)\n",
    "\n",
    "- also known as the 'ijv' or 'triplet' format\n",
    "  - three NumPy arrays: `row`, `col`, `data`.\n",
    "  - attribute `coords` is the tuple `(row, col)`\n",
    "  - `data[i]` is value at `(row[i], col[i])` position\n",
    "  - permits duplicate entries\n",
    "  - subclass of {class}`_data_matrix` (sparse matrix classes with\n",
    "    `.data` attribute)\n",
    "- fast format for constructing sparse arrays\n",
    "- constructor accepts:\n",
    "  - dense array/matrix\n",
    "  - sparse array/matrix\n",
    "  - shape tuple (create empty matrix)\n",
    "  - `(data, coords)` tuple\n",
    "- very fast conversion to and from CSR/CSC formats\n",
    "- fast matrix \\* vector (sparsetools)\n",
    "- fast and easy item-wise operations\n",
    "  - manipulate data array directly (fast NumPy machinery)\n",
    "- no slicing, no arithmetic (directly, converts to CSR)\n",
    "- use:\n",
    "\n",
    "  - facilitates fast conversion among sparse formats\n",
    "\n",
    "  - when converting to other format (usually CSR or CSC), duplicate\n",
    "    entries are summed together\n",
    "\n",
    "  - facilitates efficient construction of finite element matrices\n",
    "\n",
    "## Examples\n",
    "\n",
    "### Create empty COO array:"
   ]
  },
  {
   "cell_type": "code",
   "execution_count": null,
   "id": "03ca067d",
   "metadata": {},
   "outputs": [],
   "source": [
    "mtx = sp.sparse.coo_array((3, 4), dtype=np.int8)\n",
    "mtx.toarray()"
   ]
  },
  {
   "cell_type": "markdown",
   "id": "b7e8e340",
   "metadata": {},
   "source": [
    "### Create using `(data, ij)` tuple:"
   ]
  },
  {
   "cell_type": "code",
   "execution_count": null,
   "id": "c959c378",
   "metadata": {},
   "outputs": [],
   "source": [
    "row = np.array([0, 3, 1, 0])\n",
    "col = np.array([0, 3, 1, 2])\n",
    "data = np.array([4, 5, 7, 9])\n",
    "mtx = sp.sparse.coo_array((data, (row, col)), shape=(4, 4))\n",
    "mtx"
   ]
  },
  {
   "cell_type": "code",
   "execution_count": null,
   "id": "da644763",
   "metadata": {},
   "outputs": [],
   "source": [
    "mtx.toarray()"
   ]
  },
  {
   "cell_type": "markdown",
   "id": "4a94f689",
   "metadata": {},
   "source": [
    "**Note**: duplicate entries are summed together:"
   ]
  },
  {
   "cell_type": "code",
   "execution_count": null,
   "id": "3dbdf18e",
   "metadata": {},
   "outputs": [],
   "source": [
    "row = np.array([0, 0, 1, 3, 1, 0, 0])\n",
    "col = np.array([0, 2, 1, 3, 1, 0, 0])\n",
    "data = np.array([1, 1, 1, 1, 1, 1, 1])\n",
    "mtx = sp.sparse.coo_array((data, (row, col)), shape=(4, 4))\n",
    "mtx.toarray()"
   ]
  },
  {
   "cell_type": "markdown",
   "id": "7c8f731d",
   "metadata": {},
   "source": [
    "**Note**: no slicing...:"
   ]
  },
  {
   "cell_type": "code",
   "execution_count": null,
   "id": "659a69ac",
   "metadata": {
    "tags": [
     "raises-exception"
    ]
   },
   "outputs": [],
   "source": [
    "mtx[2, 3]"
   ]
  }
 ],
 "metadata": {
  "jupytext": {
   "text_representation": {
    "extension": ".md",
    "format_name": "myst",
    "format_version": 0.13,
    "jupytext_version": "1.18.0-dev"
   }
  },
  "kernelspec": {
   "display_name": "Python 3 (ipykernel)",
   "language": "python",
   "name": "python3"
  },
  "orphan": true
 },
 "nbformat": 4,
 "nbformat_minor": 5
}