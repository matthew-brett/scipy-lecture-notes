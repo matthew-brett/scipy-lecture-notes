{
 "cells": [
  {
   "cell_type": "code",
   "execution_count": 1,
   "id": "e453fe55",
   "metadata": {
    "tags": [
     "hide-input"
    ]
   },
   "outputs": [],
   "source": [
    "import numpy as np\n",
    "import scipy as sp"
   ]
  },
  {
   "cell_type": "markdown",
   "id": "e1f8bbe5",
   "metadata": {},
   "source": [
    "# Coordinate Format (COO)\n",
    "\n",
    "- also known as the 'ijv' or 'triplet' format\n",
    "  - three NumPy arrays: `row`, `col`, `data`.\n",
    "  - attribute `coords` is the tuple `(row, col)`\n",
    "  - `data[i]` is value at `(row[i], col[i])` position\n",
    "  - permits duplicate entries\n",
    "  - subclass of {class}`_data_matrix` (sparse matrix classes with\n",
    "    `.data` attribute)\n",
    "- fast format for constructing sparse arrays\n",
    "- constructor accepts:\n",
    "  - dense array/matrix\n",
    "  - sparse array/matrix\n",
    "  - shape tuple (create empty matrix)\n",
    "  - `(data, coords)` tuple\n",
    "- very fast conversion to and from CSR/CSC formats\n",
    "- fast matrix \\* vector (sparsetools)\n",
    "- fast and easy item-wise operations\n",
    "  - manipulate data array directly (fast NumPy machinery)\n",
    "- no slicing, no arithmetic (directly, converts to CSR)\n",
    "- use:\n",
    "\n",
    "  - facilitates fast conversion among sparse formats\n",
    "\n",
    "  - when converting to other format (usually CSR or CSC), duplicate\n",
    "    entries are summed together\n",
    "\n",
    "  - facilitates efficient construction of finite element matrices\n",
    "\n",
    "## Examples\n",
    "\n",
    "### Create empty COO array:"
   ]
  },
  {
   "cell_type": "code",
   "execution_count": 2,
   "id": "2c12227b",
   "metadata": {},
   "outputs": [
    {
     "data": {
      "text/plain": [
       "array([[0, 0, 0, 0],\n",
       "       [0, 0, 0, 0],\n",
       "       [0, 0, 0, 0]], dtype=int8)"
      ]
     },
     "execution_count": 2,
     "metadata": {},
     "output_type": "execute_result"
    }
   ],
   "source": [
    "mtx = sp.sparse.coo_array((3, 4), dtype=np.int8)\n",
    "mtx.toarray()"
   ]
  },
  {
   "cell_type": "markdown",
   "id": "d25a0c77",
   "metadata": {},
   "source": [
    "### Create using `(data, ij)` tuple:"
   ]
  },
  {
   "cell_type": "code",
   "execution_count": 3,
   "id": "273c224a",
   "metadata": {},
   "outputs": [
    {
     "data": {
      "text/plain": [
       "<COOrdinate sparse array of dtype 'int64'\n",
       "\twith 4 stored elements and shape (4, 4)>"
      ]
     },
     "execution_count": 3,
     "metadata": {},
     "output_type": "execute_result"
    }
   ],
   "source": [
    "row = np.array([0, 3, 1, 0])\n",
    "col = np.array([0, 3, 1, 2])\n",
    "data = np.array([4, 5, 7, 9])\n",
    "mtx = sp.sparse.coo_array((data, (row, col)), shape=(4, 4))\n",
    "mtx"
   ]
  },
  {
   "cell_type": "code",
   "execution_count": 4,
   "id": "aa98af92",
   "metadata": {},
   "outputs": [
    {
     "data": {
      "text/plain": [
       "array([[4, 0, 9, 0],\n",
       "       [0, 7, 0, 0],\n",
       "       [0, 0, 0, 0],\n",
       "       [0, 0, 0, 5]])"
      ]
     },
     "execution_count": 4,
     "metadata": {},
     "output_type": "execute_result"
    }
   ],
   "source": [
    "mtx.toarray()"
   ]
  },
  {
   "cell_type": "markdown",
   "id": "bdddb8e8",
   "metadata": {},
   "source": [
    "**Note**: duplicate entries are summed together:"
   ]
  },
  {
   "cell_type": "code",
   "execution_count": 5,
   "id": "ba4c4487",
   "metadata": {},
   "outputs": [
    {
     "data": {
      "text/plain": [
       "array([[3, 0, 1, 0],\n",
       "       [0, 2, 0, 0],\n",
       "       [0, 0, 0, 0],\n",
       "       [0, 0, 0, 1]])"
      ]
     },
     "execution_count": 5,
     "metadata": {},
     "output_type": "execute_result"
    }
   ],
   "source": [
    "row = np.array([0, 0, 1, 3, 1, 0, 0])\n",
    "col = np.array([0, 2, 1, 3, 1, 0, 0])\n",
    "data = np.array([1, 1, 1, 1, 1, 1, 1])\n",
    "mtx = sp.sparse.coo_array((data, (row, col)), shape=(4, 4))\n",
    "mtx.toarray()"
   ]
  },
  {
   "cell_type": "markdown",
   "id": "5f7337e8",
   "metadata": {},
   "source": [
    "**Note**: no slicing...:"
   ]
  },
  {
   "cell_type": "code",
   "execution_count": 6,
   "id": "24efec0e",
   "metadata": {
    "tags": [
     "raises-exception"
    ]
   },
   "outputs": [
    {
     "ename": "TypeError",
     "evalue": "'coo_array' object is not subscriptable",
     "output_type": "error",
     "traceback": [
      "\u001b[31m---------------------------------------------------------------------------\u001b[39m",
      "\u001b[31mTypeError\u001b[39m                                 Traceback (most recent call last)",
      "\u001b[36mCell\u001b[39m\u001b[36m \u001b[39m\u001b[32mIn[6]\u001b[39m\u001b[32m, line 1\u001b[39m\n\u001b[32m----> \u001b[39m\u001b[32m1\u001b[39m \u001b[43mmtx\u001b[49m\u001b[43m[\u001b[49m\u001b[32;43m2\u001b[39;49m\u001b[43m,\u001b[49m\u001b[43m \u001b[49m\u001b[32;43m3\u001b[39;49m\u001b[43m]\u001b[49m\n",
      "\u001b[31mTypeError\u001b[39m: 'coo_array' object is not subscriptable"
     ]
    }
   ],
   "source": [
    "mtx[2, 3]"
   ]
  }
 ],
 "metadata": {
  "jupytext": {
   "text_representation": {
    "extension": ".md",
    "format_name": "myst",
    "format_version": 0.13,
    "jupytext_version": "1.18.0-dev"
   }
  },
  "kernelspec": {
   "display_name": "Python 3 (ipykernel)",
   "language": "python",
   "name": "python3"
  },
  "language_info": {
   "codemirror_mode": {
    "name": "ipython",
    "version": 3
   },
   "file_extension": ".py",
   "mimetype": "text/x-python",
   "name": "python",
   "nbconvert_exporter": "python",
   "pygments_lexer": "ipython3",
   "version": "3.12.7"
  },
  "orphan": true
 },
 "nbformat": 4,
 "nbformat_minor": 5
}