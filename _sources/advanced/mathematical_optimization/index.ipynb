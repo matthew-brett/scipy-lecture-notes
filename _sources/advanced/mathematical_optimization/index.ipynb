{
 "cells": [
  {
   "cell_type": "markdown",
   "id": "2140745a",
   "metadata": {},
   "source": [
    "(mathematical-optimization)="
   ]
  },
  {
   "cell_type": "markdown",
   "id": "f6796443",
   "metadata": {},
   "source": [
    "# Mathematical optimization: finding minima of functions"
   ]
  },
  {
   "cell_type": "code",
   "execution_count": null,
   "id": "e71caae2",
   "metadata": {
    "tags": [
     "hide-input"
    ]
   },
   "outputs": [],
   "source": [
    "import numpy as np\n",
    "import matplotlib.pyplot as plt\n",
    "import scipy as sp"
   ]
  },
  {
   "cell_type": "markdown",
   "id": "61623f95",
   "metadata": {},
   "source": [
    "**Authors**: _Gaël Varoquaux_\n",
    "\n",
    "[Mathematical optimization](https://en.wikipedia.org/wiki/Mathematical_optimization) deals with the\n",
    "problem of finding numerically minimums (or maximums or zeros) of\n",
    "a function. In this context, the function is called _cost function_, or\n",
    "_objective function_, or _energy_.\n",
    "\n",
    "Here, we are interested in using {mod}`scipy.optimize` for black-box\n",
    "optimization: we do not rely on the mathematical expression of the\n",
    "function that we are optimizing. Note that this expression can often be\n",
    "used for more efficient, non black-box, optimization.\n",
    "\n",
    ":::{admonition} Prerequisites\n",
    "\n",
    "- {ref}`NumPy <numpy>`\n",
    "- {ref}`SciPy <scipy>`\n",
    "- {ref}`Matplotlib <matplotlib>`\n",
    "\n",
    ":::\n",
    "\n",
    ":::{admonition} See also\n",
    "\n",
    "**References**\n",
    "\n",
    "Mathematical optimization is very ... mathematical. If you want\n",
    "performance, it really pays to read the books:\n",
    "\n",
    "- [Convex Optimization](https://web.stanford.edu/~boyd/cvxbook/)\n",
    "  by Boyd and Vandenberghe (pdf available free online).\n",
    "- [Numerical\n",
    "  Optimization](https://users.eecs.northwestern.edu/~nocedal/book/num-opt.html)\n",
    "  by Nocedal and Wright. Detailed reference on gradient descent methods.\n",
    "- [Practical Methods of\n",
    "  Optimization](https://www.amazon.com/gp/product/0471494631/ref=ox_sc_act_title_1?ie=UTF8&smid=ATVPDKIKX0DER)\n",
    "  by Fletcher. Good at hand-waving explanations.\n",
    "\n",
    ":::\n",
    "\n",
    "<!---\n",
    "XXX: should I discuss root finding?\n",
    "-->"
   ]
  },
  {
   "cell_type": "markdown",
   "id": "619667ed",
   "metadata": {},
   "source": [
    "## Knowing your problem\n",
    "\n",
    "Not all optimization problems are equal. Knowing your problem enables you\n",
    "to choose the right tool.\n",
    "\n",
    ":::{admonition} Dimensionality of the problem\n",
    "The scale of an optimization problem is pretty much set by the\n",
    "_dimensionality of the problem_, i.e. the number of scalar variables\n",
    "on which the search is performed.\n",
    "\n",
    ":::"
   ]
  },
  {
   "cell_type": "markdown",
   "id": "f1c86fda",
   "metadata": {},
   "source": [
    "### Convex versus non-convex optimization"
   ]
  },
  {
   "cell_type": "markdown",
   "id": "738a406f",
   "metadata": {},
   "source": [
    "::: {list-table}\n",
    "\n",
    "- - ::: {glue} convex_func\n",
    "    :doc: optimization_examples.md\n",
    "    :::\n",
    "  - ::: {glue} non_convex_func\n",
    "    :doc: optimization_examples.md\n",
    "    :::\n",
    "- - **A convex function**:\n",
    "\n",
    "    - $f$ is above all its tangents.\n",
    "    - Equivalently, for two points $A, B$, $f(C)$ lies below the segment\n",
    "      $[f(A), f(B])]$, if $A < C < B$.\n",
    "\n",
    "  - **A non-convex function**\n",
    "\n",
    ":::\n",
    "\n",
    "::: {admonition} Plot code\n",
    ":class: dropdown\n",
    "\n",
    "See [convex, non-convex function plots](convex-function-eg).\n",
    "\n",
    ":::\n",
    "\n",
    "**Optimizing convex functions is easy. Optimizing non-convex functions can\n",
    "be very hard.**\n",
    "\n",
    ":::{note}\n",
    "It can be proven that for a convex function a local minimum is\n",
    "also a global minimum. Then, in some sense, the minimum is unique.\n",
    ":::"
   ]
  },
  {
   "cell_type": "markdown",
   "id": "f09bef66",
   "metadata": {},
   "source": [
    "### Smooth and non-smooth problems\n",
    "\n",
    "::: {list-table}\n",
    "\n",
    "- - ::: {glue} smooth_func\n",
    "    :doc: optimization_examples.md\n",
    "    :::\n",
    "  - ::: {glue} non_smooth_func\n",
    "    :doc: optimization_examples.md\n",
    "    :::\n",
    "\n",
    "- - **A smooth function**:\n",
    "\n",
    "    The gradient is defined everywhere, and is a continuous function\n",
    "\n",
    "  - **A non-smooth function**\n",
    "\n",
    ":::\n",
    "\n",
    "::: {admonition} Plot code\n",
    ":class: dropdown\n",
    "\n",
    "See [smooth, non-smooth function plots](smooth-function-eg).\n",
    "\n",
    ":::"
   ]
  },
  {
   "cell_type": "markdown",
   "id": "e1e7f957",
   "metadata": {},
   "source": [
    "**Optimizing smooth functions is easier**\n",
    "(true in the context of _black-box_ optimization, otherwise\n",
    "[Linear Programming](https://en.wikipedia.org/wiki/Linear_programming)\n",
    "is an example of methods which deal very efficiently with\n",
    "piece-wise linear functions)."
   ]
  },
  {
   "cell_type": "markdown",
   "id": "bb03ea77",
   "metadata": {},
   "source": [
    "### Noisy versus exact cost functions\n",
    "\n",
    "::: {list-table}\n",
    "\n",
    "- - Noisy (blue) and non-noisy (orange) functions\n",
    "  - ::: {glue} noisy_non_noisy\n",
    "    :doc: optimization_examples.md\n",
    "    :::\n",
    "\n",
    ":::\n",
    "\n",
    "::: {admonition} Plot code\n",
    ":class: dropdown\n",
    "\n",
    "See [noisy, non-noisy function plots](noisy-non-noisy-eg).\n",
    "\n",
    ":::\n",
    "\n",
    ":::{admonition} Noisy gradients\n",
    "Many optimization methods rely on gradients of the objective function.\n",
    "If the gradient function is not given, they are computed numerically,\n",
    "which induces errors. In such situation, even if the objective\n",
    "function is not noisy, a gradient-based optimization may be a noisy\n",
    "optimization.\n",
    ":::"
   ]
  },
  {
   "cell_type": "markdown",
   "id": "bb1a9b1d",
   "metadata": {},
   "source": [
    "### Constraints\n",
    "\n",
    "::: {list-table}\n",
    "\n",
    "- - Optimizations under constraints\n",
    "\n",
    "    Here:\n",
    "\n",
    "    $-1 < x_1 < 1$\n",
    "\n",
    "    $-1 < x_2 < 1$\n",
    "\n",
    "  - ::: {glue} constraints_no_path\n",
    "    :doc: optimization_examples.md\n",
    "    :::\n",
    "\n",
    ":::\n",
    "\n",
    "::: {admonition} Plot code\n",
    ":class: dropdown\n",
    "\n",
    "See [constraint plots](constraints-eg).\n",
    "\n",
    ":::"
   ]
  },
  {
   "cell_type": "markdown",
   "id": "3dfed01c",
   "metadata": {},
   "source": [
    "## A review of the different optimizers"
   ]
  },
  {
   "cell_type": "markdown",
   "id": "d4557137",
   "metadata": {},
   "source": [
    "### Getting started: 1D optimization\n",
    "\n",
    "Let's get started by finding the minimum of the scalar function\n",
    "$f(x)=\\exp[(x-0.5)^2]$. {func}`scipy.optimize.minimize_scalar` uses\n",
    "Brent's method to find the minimum of a function:"
   ]
  },
  {
   "cell_type": "code",
   "execution_count": null,
   "id": "383b705c",
   "metadata": {},
   "outputs": [],
   "source": [
    "def f(x):\n",
    "    return -np.exp(-(x - 0.5)**2)\n",
    "\n",
    "result = sp.optimize.minimize_scalar(f)\n",
    "result.success # check if solver was successful"
   ]
  },
  {
   "cell_type": "code",
   "execution_count": null,
   "id": "5655cbd1",
   "metadata": {},
   "outputs": [],
   "source": [
    "x_min = result.x\n",
    "x_min"
   ]
  },
  {
   "cell_type": "code",
   "execution_count": null,
   "id": "149ac595",
   "metadata": {},
   "outputs": [],
   "source": [
    "x_min - 0.5"
   ]
  },
  {
   "cell_type": "markdown",
   "id": "740bd85a",
   "metadata": {},
   "source": [
    "::: {list-table} **Brent's method on a quadratic function**: it converges in 3 iterations, as the quadratic approximation is then exact.\n",
    "\n",
    "- - ::: {glue} brent_epsilon_0_func\n",
    "    :doc: optimization_examples.md\n",
    "    :::\n",
    "  - ::: {glue} brent_epsilon_0_err\n",
    "    :doc: optimization_examples.md\n",
    "    :::\n",
    "\n",
    ":::\n",
    "\n",
    "::: {list-table} **Brent's method on a non-convex function**: note that the fact that the optimizer avoided the local minimum is a matter of luck.\n",
    "\n",
    "- - ::: {glue} brent_epsilon_1_func\n",
    "    :doc: optimization_examples.md\n",
    "    :::\n",
    "  - ::: {glue} brent_epsilon_1_err\n",
    "    :doc: optimization_examples.md\n",
    "    :::\n",
    "\n",
    ":::\n",
    "\n",
    "::: {admonition} Plot code\n",
    ":class: dropdown\n",
    "\n",
    "See [Brent's method figures](brents-method-eg).\n",
    "\n",
    ":::\n",
    "\n",
    ":::{note}\n",
    "\n",
    "You can use different solvers using the parameter `method`.\n",
    "\n",
    ":::\n",
    "\n",
    ":::{note}\n",
    "\n",
    "{func}`scipy.optimize.minimize_scalar` can also be used for optimization\n",
    "constrained to an interval using the parameter `bounds`.\n",
    "\n",
    ":::"
   ]
  },
  {
   "cell_type": "markdown",
   "id": "064b6ea5",
   "metadata": {},
   "source": [
    "### Gradient based methods"
   ]
  },
  {
   "cell_type": "markdown",
   "id": "0cbaebfb",
   "metadata": {},
   "source": [
    "#### Some intuitions about gradient descent\n",
    "\n",
    "Here we focus on **intuitions**, not code. Code will follow.\n",
    "\n",
    "[Gradient descent](https://en.wikipedia.org/wiki/Gradient_descent)\n",
    "basically consists in taking small steps in the direction of the\n",
    "gradient, that is the direction of the _steepest descent_."
   ]
  },
  {
   "cell_type": "markdown",
   "id": "4b6bfc4f",
   "metadata": {},
   "source": [
    "::: {list-table} **Fixed step gradient descent**\n",
    "\n",
    "- - **A well-conditioned quadratic function.**\n",
    "\n",
    "  - ::: {glue} gradient_descent_q_07_gd_func\n",
    "    :doc: optimization_examples.md\n",
    "    :::\n",
    "  - ::: {glue} gradient_descent_q_07_gd_err\n",
    "    :doc: optimization_examples.md\n",
    "    :::\n",
    "\n",
    "- - **An ill-conditioned quadratic function.**\n",
    "\n",
    "    The core problem of gradient-methods on ill-conditioned problems is\n",
    "    that the gradient tends not to point in the direction of the\n",
    "    minimum.\n",
    "\n",
    "  - ::: {glue} gradient_descent_q_002_gd_func\n",
    "    :doc: optimization_examples.md\n",
    "    :::\n",
    "  - ::: {glue} gradient_descent_q_002_gd_err\n",
    "    :doc: optimization_examples.md\n",
    "    :::\n",
    "\n",
    ":::\n",
    "\n",
    "::: {admonition} Plot code\n",
    ":class: dropdown\n",
    "\n",
    "See [gradient descent plots](gradient-descent-eg).\n",
    "\n",
    ":::\n",
    "\n",
    "We can see that very anisotropic ([ill-conditioned](https://en.wikipedia.org/wiki/Condition_number)) functions are harder\n",
    "to optimize.\n",
    "\n",
    ":::{admonition} Take home message: conditioning number and preconditioning\n",
    "If you know natural scaling for your variables, prescale them so that\n",
    "they behave similarly. This is related to [preconditioning](https://en.wikipedia.org/wiki/Preconditioner).\n",
    ":::\n",
    "\n",
    "Also, it clearly can be advantageous to take bigger steps. This\n",
    "is done in gradient descent code using a\n",
    "[line search](https://en.wikipedia.org/wiki/Line_search).\n",
    "\n",
    "::: {list-table} **Adaptive step gradient descent**\n",
    "\n",
    "- - A well-conditioned quadratic function.\n",
    "\n",
    "  - ::: {glue} gradient_descent_q_07_gda_func\n",
    "    :doc: optimization_examples.md\n",
    "    :::\n",
    "  - ::: {glue} gradient_descent_q_07_gda_err\n",
    "    :doc: optimization_examples.md\n",
    "    :::\n",
    "\n",
    "- - An ill-conditioned quadratic function.\n",
    "\n",
    "  - ::: {glue} gradient_descent_q_002_gda_func\n",
    "    :doc: optimization_examples.md\n",
    "    :::\n",
    "  - ::: {glue} gradient_descent_q_002_gda_err\n",
    "    :doc: optimization_examples.md\n",
    "    :::\n",
    "\n",
    "- - An ill-conditioned non-quadratic function.\n",
    "\n",
    "  - ::: {glue} gradient_descent_g_002_gda_func\n",
    "    :doc: optimization_examples.md\n",
    "    :::\n",
    "  - ::: {glue} gradient_descent_g_002_gda_err\n",
    "    :doc: optimization_examples.md\n",
    "    :::\n",
    "\n",
    "- - An ill-conditioned very non-quadratic function.\n",
    "\n",
    "  - ::: {glue} gradient_descent_rb_gda_func\n",
    "    :doc: optimization_examples.md\n",
    "    :::\n",
    "  - ::: {glue} gradient_descent_rb_gda_err\n",
    "    :doc: optimization_examples.md\n",
    "    :::\n",
    "\n",
    ":::\n",
    "\n",
    "::: {admonition} Plot code\n",
    ":class: dropdown\n",
    "\n",
    "See [gradient descent plots](gradient-descent-eg).\n",
    "\n",
    ":::\n",
    "\n",
    "The more a function looks like a quadratic function (elliptic\n",
    "iso-curves), the easier it is to optimize."
   ]
  },
  {
   "cell_type": "markdown",
   "id": "198f5e2c",
   "metadata": {},
   "source": [
    "#### Conjugate gradient descent\n",
    "\n",
    "The gradient descent algorithms above are toys not to be used on real\n",
    "problems.\n",
    "\n",
    "As can be seen from the above experiments, one of the problems of the\n",
    "simple gradient descent algorithms, is that it tends to oscillate across\n",
    "a valley, each time following the direction of the gradient, that makes\n",
    "it cross the valley. The conjugate gradient solves this problem by adding\n",
    "a _friction_ term: each step depends on the two last values of the\n",
    "gradient and sharp turns are reduced.\n",
    "\n",
    "::: {list-table} **Conjugate gradient descent**\n",
    "\n",
    "- - An ill-conditioned non-quadratic function.\n",
    "\n",
    "  - ::: {glue} gradient_descent_g_002_cg_func\n",
    "    :doc: optimization_examples.md\n",
    "    :::\n",
    "  - ::: {glue} gradient_descent_g_002_cg_err\n",
    "    :doc: optimization_examples.md\n",
    "    :::\n",
    "\n",
    "- - An ill-conditioned very non-quadratic function.\n",
    "\n",
    "  - ::: {glue} gradient_descent_rb_cg_func\n",
    "    :doc: optimization_examples.md\n",
    "    :::\n",
    "  - ::: {glue} gradient_descent_rb_cg_err\n",
    "    :doc: optimization_examples.md\n",
    "    :::\n",
    "\n",
    ":::\n",
    "\n",
    "::: {admonition} Plot code\n",
    ":class: dropdown\n",
    "\n",
    "See [gradient descent plots](gradient-descent-eg).\n",
    "\n",
    ":::\n",
    "\n",
    "SciPy provides {func}`scipy.optimize.minimize` to find the minimum of scalar\n",
    "functions of one or more variables. The simple conjugate gradient method can\n",
    "be used by setting the parameter `method` to CG"
   ]
  },
  {
   "cell_type": "code",
   "execution_count": null,
   "id": "86cd32c1",
   "metadata": {},
   "outputs": [],
   "source": [
    "def f(x):   # The rosenbrock function\n",
    "    return .5*(1 - x[0])**2 + (x[1] - x[0]**2)**2\n",
    "\n",
    "sp.optimize.minimize(f, [2, -1], method=\"CG\")"
   ]
  },
  {
   "cell_type": "markdown",
   "id": "6a33ef69",
   "metadata": {},
   "source": [
    "Gradient methods need the Jacobian (gradient) of the function. They can\n",
    "compute it numerically, but will perform better if you can pass them the\n",
    "gradient:"
   ]
  },
  {
   "cell_type": "code",
   "execution_count": null,
   "id": "47df9166",
   "metadata": {},
   "outputs": [],
   "source": [
    "def jacobian(x):\n",
    "    return np.array((-2*.5*(1 - x[0]) - 4*x[0]*(x[1] - x[0]**2), 2*(x[1] - x[0]**2)))\n",
    "\n",
    "sp.optimize.minimize(f, [2, 1], method=\"CG\", jac=jacobian)"
   ]
  },
  {
   "cell_type": "markdown",
   "id": "913af39c",
   "metadata": {},
   "source": [
    "Note that the function has only been evaluated 27 times, compared to 108\n",
    "without the gradient."
   ]
  },
  {
   "cell_type": "markdown",
   "id": "8f987112",
   "metadata": {},
   "source": [
    "### Newton and quasi-newton methods"
   ]
  },
  {
   "cell_type": "markdown",
   "id": "ab1a86ea",
   "metadata": {},
   "source": [
    "#### Newton methods: using the Hessian (2nd differential)\n",
    "\n",
    "[Newton methods](https://en.wikipedia.org/wiki/Newton%27s_method_in_optimization) use a\n",
    "local quadratic approximation to compute the jump direction. For this\n",
    "purpose, they rely on the 2 first derivative of the function: the\n",
    "_gradient_ and the [Hessian](https://en.wikipedia.org/wiki/Hessian_matrix).\n",
    "\n",
    "::: {list-table}\n",
    "\n",
    "- - **An ill-conditioned quadratic function:**\n",
    "\n",
    "    Note that, as the quadratic approximation is exact, the Newton\n",
    "    method is blazing fast\n",
    "\n",
    "  - ::: {glue} gradient_descent_q_002_ncg_func\n",
    "    :doc: optimization_examples.md\n",
    "    :::\n",
    "  - ::: {glue} gradient_descent_q_002_ncg_err\n",
    "    :doc: optimization_examples.md\n",
    "    :::\n",
    "\n",
    "- - **An ill-conditioned non-quadratic function:**\n",
    "\n",
    "    Here we are optimizing a Gaussian, which is always below its\n",
    "    quadratic approximation. As a result, the Newton method overshoots\n",
    "    and leads to oscillations.\n",
    "\n",
    "  - ::: {glue} gradient_descent_g_002_ncg_func\n",
    "    :doc: optimization_examples.md\n",
    "    :::\n",
    "  - ::: {glue} gradient_descent_g_002_ncg_err\n",
    "    :doc: optimization_examples.md\n",
    "    :::\n",
    "\n",
    "- - **An ill-conditioned very non-quadratic function:**\n",
    "\n",
    "  - ::: {glue} gradient_descent_rb_ncg_func\n",
    "    :doc: optimization_examples.md\n",
    "    :::\n",
    "  - ::: {glue} gradient_descent_rb_ncg_err\n",
    "    :doc: optimization_examples.md\n",
    "    :::\n",
    "\n",
    ":::\n",
    "\n",
    "::: {admonition} Plot code\n",
    ":class: dropdown\n",
    "\n",
    "See [gradient descent plots](gradient-descent-eg).\n",
    "\n",
    ":::\n",
    "\n",
    "In SciPy, you can use the Newton method by setting `method` to Newton-CG in\n",
    "{func}`scipy.optimize.minimize`. Here, CG refers to the fact that an internal\n",
    "inversion of the Hessian is performed by conjugate gradient."
   ]
  },
  {
   "cell_type": "code",
   "execution_count": null,
   "id": "6bc28a45",
   "metadata": {},
   "outputs": [],
   "source": [
    "def f(x):   # The rosenbrock function\n",
    "    return .5*(1 - x[0])**2 + (x[1] - x[0]**2)**2\n",
    "\n",
    "def jacobian(x):\n",
    "    return np.array((-2*.5*(1 - x[0]) - 4*x[0]*(x[1] - x[0]**2), 2*(x[1] - x[0]**2)))\n",
    "\n",
    "sp.optimize.minimize(f, [2,-1], method=\"Newton-CG\", jac=jacobian)"
   ]
  },
  {
   "cell_type": "markdown",
   "id": "ebd68ff1",
   "metadata": {},
   "source": [
    "Note that compared to a conjugate gradient (above), Newton's method has\n",
    "required less function evaluations, but more gradient evaluations, as it\n",
    "uses it to approximate the Hessian. Let's compute the Hessian and pass it\n",
    "to the algorithm:"
   ]
  },
  {
   "cell_type": "code",
   "execution_count": null,
   "id": "c93d783b",
   "metadata": {},
   "outputs": [],
   "source": [
    "def hessian(x): # Computed with sympy\n",
    "    return np.array(((1 - 4*x[1] + 12*x[0]**2, -4*x[0]), (-4*x[0], 2)))\n",
    "\n",
    "sp.optimize.minimize(f, [2,-1], method=\"Newton-CG\", jac=jacobian, hess=hessian)"
   ]
  },
  {
   "cell_type": "markdown",
   "id": "40adc2f4",
   "metadata": {},
   "source": [
    ":::{note}\n",
    "\n",
    "At very high-dimension, the inversion of the Hessian can be costly\n",
    "and unstable (large scale > 250).\n",
    "\n",
    ":::\n",
    "\n",
    ":::{note}\n",
    "Newton optimizers should not to be confused with Newton's root finding\n",
    "method, based on the same principles, {func}`scipy.optimize.newton`.\n",
    ":::\n",
    "\n",
    "(quasi-newton)="
   ]
  },
  {
   "cell_type": "markdown",
   "id": "babab97a",
   "metadata": {},
   "source": [
    "#### Quasi-Newton methods: approximating the Hessian on the fly\n",
    "\n",
    "**BFGS**: BFGS (Broyden-Fletcher-Goldfarb-Shanno algorithm) refines at\n",
    "each step an approximation of the Hessian.\n",
    "\n",
    "::: {list-table}\n",
    "\n",
    "- - **An ill-conditioned quadratic function:**\n",
    "\n",
    "    On a exactly quadratic function, BFGS is not as fast as Newton's\n",
    "    method, but still very fast.\n",
    "\n",
    "  - ::: {glue} gradient_descent_q_002_bgfs_func\n",
    "    :doc: optimization_examples.md\n",
    "    :::\n",
    "  - ::: {glue} gradient_descent_q_002_bgfs_err\n",
    "    :doc: optimization_examples.md\n",
    "    :::\n",
    "\n",
    "- - **An ill-conditioned non-quadratic function:**\n",
    "\n",
    "    Here BFGS does better than Newton, as its empirical estimate of the\n",
    "    curvature is better than that given by the Hessian.\n",
    "\n",
    "  - ::: {glue} gradient_descent_g_002_bgfs_func\n",
    "    :doc: optimization_examples.md\n",
    "    :::\n",
    "  - ::: {glue} gradient_descent_g_002_bgfs_err\n",
    "    :doc: optimization_examples.md\n",
    "    :::\n",
    "\n",
    "- - **An ill-conditioned very non-quadratic function:**\n",
    "\n",
    "  - ::: {glue} gradient_descent_rb_bgfs_func\n",
    "    :doc: optimization_examples.md\n",
    "    :::\n",
    "  - ::: {glue} gradient_descent_rb_bgfs_err\n",
    "    :doc: optimization_examples.md\n",
    "    :::\n",
    "\n",
    ":::\n",
    "\n",
    "::: {admonition} Plot code\n",
    ":class: dropdown\n",
    "\n",
    "See [gradient descent plots](gradient-descent-eg).\n",
    "\n",
    ":::"
   ]
  },
  {
   "cell_type": "code",
   "execution_count": null,
   "id": "40b8aeb7",
   "metadata": {},
   "outputs": [],
   "source": [
    "def f(x):   # The rosenbrock function\n",
    "    return .5*(1 - x[0])**2 + (x[1] - x[0]**2)**2\n",
    "\n",
    "def jacobian(x):\n",
    "    return np.array((-2*.5*(1 - x[0]) - 4*x[0]*(x[1] - x[0]**2), 2*(x[1] - x[0]**2)))\n",
    "\n",
    "sp.optimize.minimize(f, [2, -1], method=\"BFGS\", jac=jacobian)"
   ]
  },
  {
   "cell_type": "markdown",
   "id": "0a59804a",
   "metadata": {},
   "source": [
    "**L-BFGS:** Limited-memory BFGS sits between BFGS and conjugate gradient: in\n",
    "very high dimensions (> 250) the Hessian matrix is too costly to compute and\n",
    "invert. L-BFGS keeps a low-rank version. In addition, box bounds are also\n",
    "supported by L-BFGS-B:"
   ]
  },
  {
   "cell_type": "code",
   "execution_count": null,
   "id": "0d1acf45",
   "metadata": {},
   "outputs": [],
   "source": [
    "def f(x):   # The rosenbrock function\n",
    "    return .5*(1 - x[0])**2 + (x[1] - x[0]**2)**2\n",
    "\n",
    "def jacobian(x):\n",
    "    return np.array((-2*.5*(1 - x[0]) - 4*x[0]*(x[1] - x[0]**2), 2*(x[1] - x[0]**2)))\n",
    "\n",
    "sp.optimize.minimize(f, [2, 2], method=\"L-BFGS-B\", jac=jacobian)"
   ]
  },
  {
   "cell_type": "markdown",
   "id": "70bb04e5",
   "metadata": {},
   "source": [
    "### Gradient-less methods"
   ]
  },
  {
   "cell_type": "markdown",
   "id": "cf8bc39e",
   "metadata": {},
   "source": [
    "#### A shooting method: the Powell algorithm\n",
    "\n",
    "Almost a gradient approach:\n",
    "\n",
    "::: {list-table}\n",
    "\n",
    "- - **An ill-conditioned quadratic function:**\n",
    "\n",
    "    Powell's method isn't too sensitive to local ill-conditionning in\n",
    "    low dimensions\n",
    "\n",
    "  - ::: {glue} gradient_descent_q_002_pow_func\n",
    "    :doc: optimization_examples.md\n",
    "    :::\n",
    "  - ::: {glue} gradient_descent_q_002_pow_err\n",
    "    :doc: optimization_examples.md\n",
    "    :::\n",
    "\n",
    "- - **An ill-conditioned very non-quadratic function:**\n",
    "\n",
    "  - ::: {glue} gradient_descent_rb_pow_func\n",
    "    :doc: optimization_examples.md\n",
    "    :::\n",
    "  - ::: {glue} gradient_descent_rb_pow_err\n",
    "    :doc: optimization_examples.md\n",
    "    :::\n",
    "\n",
    ":::\n",
    "\n",
    "::: {admonition} Plot code\n",
    ":class: dropdown\n",
    "\n",
    "See [gradient descent plots](gradient-descent-eg).\n",
    "\n",
    ":::"
   ]
  },
  {
   "cell_type": "markdown",
   "id": "4291c33f",
   "metadata": {},
   "source": [
    "#### Simplex method: the Nelder-Mead\n",
    "\n",
    "The Nelder-Mead algorithms are a generalization of dichotomy approaches to\n",
    "high-dimensional spaces. The algorithm works by refining\n",
    "a [simplex](https://en.wikipedia.org/wiki/Simplex), the generalization of\n",
    "intervals and triangles to high-dimensional spaces, to bracket the minimum.\n",
    "\n",
    "**Strong points**: it is robust to noise, as it does not rely on\n",
    "computing gradients. Thus it can work on functions that are not locally\n",
    "smooth such as experimental data points, as long as they display a\n",
    "large-scale bell-shape behavior. However it is slower than gradient-based\n",
    "methods on smooth, non-noisy functions.\n",
    "\n",
    "::: {list-table}\n",
    "\n",
    "- - **An ill-conditioned non-quadratic function:**\n",
    "\n",
    "  - ::: {glue} gradient_descent_g_002_nm_func\n",
    "    :doc: optimization_examples.md\n",
    "    :::\n",
    "  - ::: {glue} gradient_descent_g_002_nm_err\n",
    "    :doc: optimization_examples.md\n",
    "    :::\n",
    "\n",
    "- - **An ill-conditioned very non-quadratic function:**\n",
    "\n",
    "  - ::: {glue} gradient_descent_rb_nm_func\n",
    "    :doc: optimization_examples.md\n",
    "    :::\n",
    "  - ::: {glue} gradient_descent_rb_nm_err\n",
    "    :doc: optimization_examples.md\n",
    "    :::\n",
    "\n",
    ":::\n",
    "\n",
    "::: {admonition} Plot code\n",
    ":class: dropdown\n",
    "\n",
    "See [gradient descent plots](gradient-descent-eg).\n",
    "\n",
    ":::\n",
    "\n",
    "Using the Nelder-Mead solver in {func}`scipy.optimize.minimize`:"
   ]
  },
  {
   "cell_type": "code",
   "execution_count": null,
   "id": "c45efad6",
   "metadata": {},
   "outputs": [],
   "source": [
    "def f(x):   # The rosenbrock function\n",
    "    return .5*(1 - x[0])**2 + (x[1] - x[0]**2)**2\n",
    "\n",
    "sp.optimize.minimize(f, [2, -1], method=\"Nelder-Mead\")"
   ]
  },
  {
   "cell_type": "markdown",
   "id": "0d791909",
   "metadata": {},
   "source": [
    "### Global optimizers\n",
    "\n",
    "If your problem does not admit a unique local minimum (which can be hard\n",
    "to test unless the function is convex), and you do not have prior\n",
    "information to initialize the optimization close to the solution, you\n",
    "may need a global optimizer."
   ]
  },
  {
   "cell_type": "markdown",
   "id": "f0ecfe83",
   "metadata": {},
   "source": [
    "#### Brute force: a grid search\n",
    "\n",
    "{func}`scipy.optimize.brute` evaluates the function on a given grid of\n",
    "parameters and returns the parameters corresponding to the minimum\n",
    "value. The parameters are specified with ranges given to\n",
    "{obj}`numpy.mgrid`. By default, 20 steps are taken in each direction:"
   ]
  },
  {
   "cell_type": "code",
   "execution_count": null,
   "id": "5713e0cd",
   "metadata": {},
   "outputs": [],
   "source": [
    "def f(x):   # The rosenbrock function\n",
    "    return .5*(1 - x[0])**2 + (x[1] - x[0]**2)**2\n",
    "\n",
    "sp.optimize.brute(f, ((-1, 2), (-1, 2)))"
   ]
  },
  {
   "cell_type": "markdown",
   "id": "e179b477",
   "metadata": {},
   "source": [
    "## Practical guide to optimization with SciPy"
   ]
  },
  {
   "cell_type": "markdown",
   "id": "e731dafe",
   "metadata": {},
   "source": [
    "### Choosing a method\n",
    "\n",
    "All methods are exposed as the `method` argument of\n",
    "{func}`scipy.optimize.minimize`.\n",
    "\n",
    "::: {glue} compare_optimizers\n",
    ":doc: optimization_examples.md\n",
    ":::\n",
    "\n",
    "::: {admonition} Code for plot above\n",
    ":class: dropdown\n",
    "\n",
    "See [compare optimizers](compare-optimizers-eg).\n",
    "\n",
    ":::\n",
    "\n",
    "::: {list-table} **Rules of thumb for choosing a method**\n",
    "\n",
    "- - Without knowledge of the gradient\n",
    "\n",
    "  - - In general, prefer **BFGS** or **L-BFGS**, even if you have to\n",
    "      approximate numerically gradients. These are also the default if you\n",
    "      omit the parameter `method` - depending if the problem has constraints\n",
    "      or bounds.\n",
    "    - On well-conditioned problems, **Powell** and **Nelder-Mead**, both\n",
    "      gradient-free methods, work well in high dimension, but they collapse\n",
    "      for ill-conditioned problems.\n",
    "\n",
    "- - With knowledge of the gradient\n",
    "\n",
    "  - - **BFGS** or **L-BFGS**.\n",
    "    - Computational overhead of BFGS is larger than that L-BFGS, itself\n",
    "      larger than that of conjugate gradient. On the other side, BFGS usually\n",
    "      needs less function evaluations than CG. Thus conjugate gradient method\n",
    "      is better than BFGS at optimizing computationally cheap functions.\n",
    "\n",
    "- - With the Hessian\n",
    "\n",
    "  - - If you can compute the Hessian, prefer the Newton method (**Newton-CG**\n",
    "      or **TCG**).\n",
    "\n",
    "- - If you have noisy measurements\n",
    "\n",
    "  - - Use **Nelder-Mead** or **Powell**.\n",
    "\n",
    ":::"
   ]
  },
  {
   "cell_type": "markdown",
   "id": "be5220f1",
   "metadata": {},
   "source": [
    "### Making your optimizer faster\n",
    "\n",
    "- Choose the right method (see above), do compute analytically the\n",
    "  gradient and Hessian, if you can.\n",
    "- Use [preconditionning](https://en.wikipedia.org/wiki/Preconditioner)\n",
    "  when possible.\n",
    "- Choose your initialization points wisely. For instance, if you are\n",
    "  running many similar optimizations, warm-restart one with the results of\n",
    "  another.\n",
    "- Relax the tolerance if you don't need precision using the parameter `tol`."
   ]
  },
  {
   "cell_type": "markdown",
   "id": "276ede68",
   "metadata": {},
   "source": [
    "### Computing gradients\n",
    "\n",
    "Computing gradients, and even more Hessians, is very tedious but worth\n",
    "the effort. Symbolic computation with {ref}`Sympy <sympy>` may come in\n",
    "handy.\n",
    "\n",
    "**Warning**\n",
    "\n",
    "A _very_ common source of optimization not converging well is human\n",
    "error in the computation of the gradient. You can use\n",
    "{func}`scipy.optimize.check_grad` to check that your gradient is\n",
    "correct. It returns the norm of the different between the gradient\n",
    "given, and a gradient computed numerically:"
   ]
  },
  {
   "cell_type": "code",
   "execution_count": null,
   "id": "c3a51e9a",
   "metadata": {},
   "outputs": [],
   "source": [
    "sp.optimize.check_grad(f, jacobian, [2, -1])"
   ]
  },
  {
   "cell_type": "markdown",
   "id": "168df5d6",
   "metadata": {},
   "source": [
    "See also {func}`scipy.optimize.approx_fprime` to find your errors."
   ]
  },
  {
   "cell_type": "markdown",
   "id": "16a446f3",
   "metadata": {},
   "source": [
    "### Synthetic exercises\n",
    "\n",
    "**A simple (?) quadratic function**\n",
    "\n",
    "::: {exercise-start}\n",
    ":label: mo-simple-quad-ex\n",
    ":class: dropdown\n",
    ":::\n",
    "\n",
    "Optimize the following function, using K[0] as a starting point:"
   ]
  },
  {
   "cell_type": "code",
   "execution_count": null,
   "id": "904e54a7",
   "metadata": {},
   "outputs": [],
   "source": [
    "rng = np.random.default_rng(27446968)\n",
    "K = rng.normal(size=(100, 100))\n",
    "\n",
    "def f(x):\n",
    "    return np.sum((K @ (x - 1))**2) + np.sum(x**2)**2"
   ]
  },
  {
   "cell_type": "markdown",
   "id": "c1cb24ac",
   "metadata": {},
   "source": [
    "Time your approach. Find the fastest approach. Why is BFGS not\n",
    "working well?\n",
    "\n",
    "::: {exercise-end}\n",
    ":::\n",
    "\n",
    "::: {solution-start} mo-simple-quad-ex\n",
    ":class: dropdown\n",
    ":::\n",
    "\n",
    "**Alternating optimization**\n",
    "\n",
    "The challenge here is that Hessian of the problem is a very ill-conditioned\n",
    "matrix. This can easily be seen, as the Hessian of the first term in simply\n",
    "`2 * K.T @ K`. Thus the conditioning of the problem can be judged from looking\n",
    "at the conditioning of `K`."
   ]
  },
  {
   "cell_type": "code",
   "execution_count": null,
   "id": "265e7abb",
   "metadata": {},
   "outputs": [],
   "source": [
    "import time\n",
    "\n",
    "rng = np.random.default_rng(27446968)\n",
    "\n",
    "K = rng.normal(size=(100, 100))\n",
    "\n",
    "\n",
    "def f(x):\n",
    "    return np.sum((K @ (x - 1)) ** 2) + np.sum(x**2) ** 2\n",
    "\n",
    "\n",
    "def f_prime(x):\n",
    "    return 2 * K.T @ K @ (x - 1) + 4 * np.sum(x**2) * x\n",
    "\n",
    "\n",
    "def hessian(x):\n",
    "    H = 2 * K.T @ K + 4 * 2 * x * x[:, np.newaxis]\n",
    "    return H + 4 * np.eye(H.shape[0]) * np.sum(x**2)"
   ]
  },
  {
   "cell_type": "markdown",
   "id": "a7643217",
   "metadata": {},
   "source": [
    "Some pretty plotting"
   ]
  },
  {
   "cell_type": "code",
   "execution_count": null,
   "id": "c350ec47",
   "metadata": {},
   "outputs": [],
   "source": [
    "plt.figure()\n",
    "Z = X, Y = np.mgrid[-1.5:1.5:100j, -1.1:1.1:100j]  # type: ignore[misc]\n",
    "# Complete in the additional dimensions with zeros\n",
    "Z = np.reshape(Z, (2, -1)).copy()\n",
    "Z.resize((100, Z.shape[-1]))\n",
    "Z = np.apply_along_axis(f, 0, Z)\n",
    "Z = np.reshape(Z, X.shape)\n",
    "plt.imshow(Z.T, cmap=\"gray_r\", extent=(-1.5, 1.5, -1.1, 1.1), origin=\"lower\")\n",
    "plt.contour(X, Y, Z, cmap=\"gnuplot\")"
   ]
  },
  {
   "cell_type": "markdown",
   "id": "8a258c54",
   "metadata": {},
   "source": [
    "A reference but slow solution:"
   ]
  },
  {
   "cell_type": "code",
   "execution_count": null,
   "id": "d646df0e",
   "metadata": {},
   "outputs": [],
   "source": [
    "t0 = time.time()\n",
    "x_ref = sp.optimize.minimize(f, K[0], method=\"Powell\").x\n",
    "print(f\"     Powell: time {time.time() - t0:.2f}s\")\n",
    "f_ref = f(x_ref)"
   ]
  },
  {
   "cell_type": "markdown",
   "id": "6f7ca411",
   "metadata": {},
   "source": [
    "Compare different approaches"
   ]
  },
  {
   "cell_type": "code",
   "execution_count": null,
   "id": "0d3544a6",
   "metadata": {},
   "outputs": [],
   "source": [
    "t0 = time.time()\n",
    "x_bfgs = sp.optimize.minimize(f, K[0], method=\"BFGS\").x\n",
    "print(\n",
    "    f\"       BFGS: time {time.time() - t0:.2f}s, x error {np.sqrt(np.sum((x_bfgs - x_ref) ** 2)):.2f}, f error {f(x_bfgs) - f_ref:.2f}\"\n",
    ")\n",
    "\n",
    "t0 = time.time()\n",
    "x_l_bfgs = sp.optimize.minimize(f, K[0], method=\"L-BFGS-B\").x\n",
    "print(\n",
    "    f\"     L-BFGS: time {time.time() - t0:.2f}s, x error {np.sqrt(np.sum((x_l_bfgs - x_ref) ** 2)):.2f}, f error {f(x_l_bfgs) - f_ref:.2f}\"\n",
    ")"
   ]
  },
  {
   "cell_type": "code",
   "execution_count": null,
   "id": "b4004d3e",
   "metadata": {},
   "outputs": [],
   "source": [
    "t0 = time.time()\n",
    "x_bfgs = sp.optimize.minimize(f, K[0], jac=f_prime, method=\"BFGS\").x\n",
    "print(\n",
    "    f\"  BFGS w f': time {time.time() - t0:.2f}s, x error {np.sqrt(np.sum((x_bfgs - x_ref) ** 2)):.2f}, f error {f(x_bfgs) - f_ref:.2f}\"\n",
    ")\n",
    "\n",
    "t0 = time.time()\n",
    "x_l_bfgs = sp.optimize.minimize(f, K[0], jac=f_prime, method=\"L-BFGS-B\").x\n",
    "print(\n",
    "    f\"L-BFGS w f': time {time.time() - t0:.2f}s, x error {np.sqrt(np.sum((x_l_bfgs - x_ref) ** 2)):.2f}, f error {f(x_l_bfgs) - f_ref:.2f}\"\n",
    ")"
   ]
  },
  {
   "cell_type": "code",
   "execution_count": null,
   "id": "7ba0e158",
   "metadata": {},
   "outputs": [],
   "source": [
    "t0 = time.time()\n",
    "x_newton = sp.optimize.minimize(\n",
    "    f, K[0], jac=f_prime, hess=hessian, method=\"Newton-CG\"\n",
    ").x\n",
    "print(\n",
    "    f\"     Newton: time {time.time() - t0:.2f}s, x error {np.sqrt(np.sum((x_newton - x_ref) ** 2)):.2f}, f error {f(x_newton) - f_ref:.2f}\"\n",
    ")"
   ]
  },
  {
   "cell_type": "markdown",
   "id": "b1811fe5",
   "metadata": {},
   "source": [
    "::: {solution-end}\n",
    ":::\n",
    "\n",
    "**A locally flat minimum**\n",
    "\n",
    "::: {exercise-start}\n",
    ":label: mo-flat-min-ex\n",
    ":class: dropdown\n",
    ":::\n",
    "\n",
    "Consider the function `exp(-1/(.1*x**2 + y**2)`. This function admits\n",
    "a minimum in (0, 0). Starting from an initialization at (1, 1), try\n",
    "to get within 1e-8 of this minimum point.\n",
    "\n",
    "This exercise is hard because the function is very flat around the minimum\n",
    "(all its derivatives are zero). Thus gradient information is unreliable.\n",
    "\n",
    "::: {exercise-end}\n",
    ":::\n",
    "\n",
    "::: {solution-start} mo-flat-min-ex\n",
    ":class: dropdown\n",
    ":::\n",
    "\n",
    "**Finding a minimum in a flat neighborhood**\n",
    "\n",
    "The function admits a minimum in [0, 0]. The challenge is to get within\n",
    "1e-7 of this minimum, starting at x0 = [1, 1].\n",
    "\n",
    "The solution that we adopt here is to give up on using gradient or\n",
    "information based on local differences, and to rely on the Powell\n",
    "algorithm. With 162 function evaluations, we get to 1e-8 of the\n",
    "solution."
   ]
  },
  {
   "cell_type": "code",
   "execution_count": null,
   "id": "aed6cdfc",
   "metadata": {},
   "outputs": [],
   "source": [
    "def f(x):\n",
    "    return np.exp(-1 / (0.01 * x[0] ** 2 + x[1] ** 2))"
   ]
  },
  {
   "cell_type": "markdown",
   "id": "cf04cc61",
   "metadata": {},
   "source": [
    "A well-conditioned version of f:"
   ]
  },
  {
   "cell_type": "code",
   "execution_count": null,
   "id": "7efe30ec",
   "metadata": {},
   "outputs": [],
   "source": [
    "def g(x):\n",
    "    return f([10 * x[0], x[1]])"
   ]
  },
  {
   "cell_type": "markdown",
   "id": "858d1263",
   "metadata": {},
   "source": [
    "The gradient of g. We won't use it here for the optimization."
   ]
  },
  {
   "cell_type": "code",
   "execution_count": null,
   "id": "fe1ed9b2",
   "metadata": {},
   "outputs": [],
   "source": [
    "def g_prime(x):\n",
    "    r = np.sqrt(x[0] ** 2 + x[1] ** 2)\n",
    "    return 2 / r**3 * g(x) * x / r\n",
    "\n",
    "result = sp.optimize.minimize(g, [1, 1], method=\"Powell\", tol=1e-10)\n",
    "x_min = result.x\n",
    "x_min"
   ]
  },
  {
   "cell_type": "markdown",
   "id": "fba08508",
   "metadata": {},
   "source": [
    "Some pretty plotting:"
   ]
  },
  {
   "cell_type": "code",
   "execution_count": null,
   "id": "02148b0d",
   "metadata": {},
   "outputs": [],
   "source": [
    "t = np.linspace(-1.1, 1.1, 100)\n",
    "plt.plot(t, f([0, t]));"
   ]
  },
  {
   "cell_type": "code",
   "execution_count": null,
   "id": "dbbff0bb",
   "metadata": {},
   "outputs": [],
   "source": [
    "X, Y = np.mgrid[-1.5:1.5:100j, -1.1:1.1:100j]  # type: ignore[misc]\n",
    "plt.imshow(f([X, Y]).T, cmap=\"gray_r\", extent=(-1.5, 1.5, -1.1, 1.1), origin=\"lower\")\n",
    "plt.contour(X, Y, f([X, Y]), cmap=\"gnuplot\")\n",
    "\n",
    "# Plot the gradient\n",
    "dX, dY = g_prime([0.1 * X[::5, ::5], Y[::5, ::5]])\n",
    "# Adjust for our preconditioning\n",
    "dX *= 0.1\n",
    "plt.quiver(X[::5, ::5], Y[::5, ::5], dX, dY, color=\".5\")\n",
    "\n",
    "# Plot our solution\n",
    "plt.plot(x_min[0], x_min[1], \"r+\", markersize=15);"
   ]
  },
  {
   "cell_type": "markdown",
   "id": "bb06019d",
   "metadata": {},
   "source": [
    "::: {solution-end}\n",
    ":::"
   ]
  },
  {
   "cell_type": "markdown",
   "id": "8e628318",
   "metadata": {},
   "source": [
    "## Special case: non-linear least-squares"
   ]
  },
  {
   "cell_type": "markdown",
   "id": "0b2a72fb",
   "metadata": {},
   "source": [
    "### Minimizing the norm of a vector function\n",
    "\n",
    "Least square problems, minimizing the norm of a vector function, have a\n",
    "specific structure that can be used in the [Levenberg–Marquardt algorithm](https://en.wikipedia.org/wiki/Levenberg-Marquardt_algorithm)\n",
    "implemented in {func}`scipy.optimize.leastsq`.\n",
    "\n",
    "Lets try to minimize the norm of the following vectorial function:"
   ]
  },
  {
   "cell_type": "code",
   "execution_count": null,
   "id": "7f5da273",
   "metadata": {},
   "outputs": [],
   "source": [
    "def f(x):\n",
    "    return np.arctan(x) - np.arctan(np.linspace(0, 1, len(x)))"
   ]
  },
  {
   "cell_type": "code",
   "execution_count": null,
   "id": "6238c43c",
   "metadata": {},
   "outputs": [],
   "source": [
    "x0 = np.zeros(10)\n",
    "sp.optimize.leastsq(f, x0)"
   ]
  },
  {
   "cell_type": "markdown",
   "id": "ca41ba54",
   "metadata": {},
   "source": [
    "This took 67 function evaluations (check it with 'full_output=True'). What\n",
    "if we compute the norm ourselves and use a good generic optimizer (BFGS):"
   ]
  },
  {
   "cell_type": "code",
   "execution_count": null,
   "id": "c3ce8e23",
   "metadata": {},
   "outputs": [],
   "source": [
    "def g(x):\n",
    "    return np.sum(f(x)**2)\n",
    "\n",
    "result = sp.optimize.minimize(g, x0, method=\"BFGS\")\n",
    "result.fun"
   ]
  },
  {
   "cell_type": "markdown",
   "id": "1d51951f",
   "metadata": {},
   "source": [
    "BFGS needs more function calls, and gives a less precise result.\n",
    "\n",
    ":::{note}\n",
    "`leastsq` is interesting compared to BFGS only if the\n",
    "dimensionality of the output vector is large, and larger than the number\n",
    "of parameters to optimize.\n",
    ":::\n",
    "\n",
    ":::{warning}\n",
    "If the function is linear, this is a linear-algebra problem, and\n",
    "should be solved with {func}`scipy.linalg.lstsq`.\n",
    ":::"
   ]
  },
  {
   "cell_type": "markdown",
   "id": "9e84f817",
   "metadata": {},
   "source": [
    "### Curve fitting\n",
    "\n",
    "Least square problems occur often when fitting a non-linear to data.\n",
    "While it is possible to construct our optimization problem ourselves,\n",
    "SciPy provides a helper function for this purpose:\n",
    "{func}`scipy.optimize.curve_fit`:"
   ]
  },
  {
   "cell_type": "code",
   "execution_count": null,
   "id": "8cc721c0",
   "metadata": {},
   "outputs": [],
   "source": [
    "def f(t, omega, phi):\n",
    "    return np.cos(omega * t + phi)"
   ]
  },
  {
   "cell_type": "code",
   "execution_count": null,
   "id": "cc22c846",
   "metadata": {},
   "outputs": [],
   "source": [
    "x = np.linspace(0, 3, 50)\n",
    "rng = np.random.default_rng(27446968)\n",
    "y = f(x, 1.5, 1) + .1*rng.normal(size=50)"
   ]
  },
  {
   "cell_type": "code",
   "execution_count": null,
   "id": "e443b757",
   "metadata": {},
   "outputs": [],
   "source": [
    "sp.optimize.curve_fit(f, x, y)"
   ]
  },
  {
   "cell_type": "code",
   "execution_count": null,
   "id": "85447aef",
   "metadata": {
    "tags": [
     "hide-input"
    ]
   },
   "outputs": [],
   "source": [
    "rng = np.random.default_rng(27446968)\n",
    "\n",
    "\n",
    "# Our test function\n",
    "def f(t, omega, phi):\n",
    "    return np.cos(omega * t + phi)\n",
    "\n",
    "\n",
    "# Our x and y data\n",
    "x = np.linspace(0, 3, 50)\n",
    "y = f(x, 1.5, 1) + 0.1 * np.random.normal(size=50)\n",
    "\n",
    "# Fit the model: the parameters omega and phi can be found in the\n",
    "# `params` vector\n",
    "params, params_cov = sp.optimize.curve_fit(f, x, y)\n",
    "\n",
    "# plot the data and the fitted curve\n",
    "t = np.linspace(0, 3, 1000)\n",
    "\n",
    "plt.plot(x, y, \"bx\")\n",
    "plt.plot(t, f(t, *params), \"r-\");"
   ]
  },
  {
   "cell_type": "markdown",
   "id": "5ebf35dc",
   "metadata": {},
   "source": [
    "::: {exercise-start}\n",
    ":label: mo-omega3-ex\n",
    ":class: dropdown\n",
    ":::\n",
    "\n",
    "Do the same with omega = 3. What is the difficulty?\n",
    "\n",
    "::: {exercise-end}\n",
    ":::"
   ]
  },
  {
   "cell_type": "markdown",
   "id": "ef919a0a",
   "metadata": {},
   "source": [
    "## Optimization with constraints"
   ]
  },
  {
   "cell_type": "markdown",
   "id": "7baf8276",
   "metadata": {},
   "source": [
    "### Box bounds\n",
    "\n",
    "Box bounds correspond to limiting each of the individual parameters of\n",
    "the optimization. Note that some problems that are not originally written\n",
    "as box bounds can be rewritten as such via change of variables. Both\n",
    "{func}`scipy.optimize.minimize_scalar` and {func}`scipy.optimize.minimize`\n",
    "support bound constraints with the parameter `bounds`:"
   ]
  },
  {
   "cell_type": "code",
   "execution_count": null,
   "id": "f1724b58",
   "metadata": {},
   "outputs": [],
   "source": [
    "def f(x):\n",
    "    return np.sqrt((x[0] - 3)**2 + (x[1] - 2)**2)\n",
    "\n",
    "sp.optimize.minimize(f, np.array([0, 0]), bounds=((-1.5, 1.5), (-1.5, 1.5)))"
   ]
  },
  {
   "cell_type": "markdown",
   "id": "b354f952",
   "metadata": {},
   "source": [
    "::: {glue} constraints_path\n",
    ":doc: optimization_examples.md\n",
    ":::\n",
    "\n",
    "::: {admonition} Plot code\n",
    ":class: dropdown\n",
    "\n",
    "See [constraint plots](constraints-eg).\n",
    "\n",
    ":::"
   ]
  },
  {
   "cell_type": "markdown",
   "id": "dcf2f034",
   "metadata": {},
   "source": [
    "### General constraints\n",
    "\n",
    "Equality and inequality constraints specified as functions: $f(x) = 0$\n",
    "and $g(x) < 0$."
   ]
  },
  {
   "cell_type": "markdown",
   "id": "212fd463",
   "metadata": {},
   "source": [
    "#### {func}`scipy.optimize.fmin_slsqp` Sequential least square programming: equality and inequality constraints\n",
    "\n",
    "::: {glue} constraints_non_bounds\n",
    ":doc: optimization_examples.md\n",
    ":::\n",
    "\n",
    "::: {admonition} Plot code\n",
    ":class: dropdown\n",
    "\n",
    "See [constraint non-bounds](constraints-non-bounds-eg).\n",
    "\n",
    ":::"
   ]
  },
  {
   "cell_type": "code",
   "execution_count": null,
   "id": "726ec0b0",
   "metadata": {},
   "outputs": [],
   "source": [
    "def f(x):\n",
    "    return np.sqrt((x[0] - 3)**2 + (x[1] - 2)**2)"
   ]
  },
  {
   "cell_type": "code",
   "execution_count": null,
   "id": "ecb32335",
   "metadata": {},
   "outputs": [],
   "source": [
    "def constraint(x):\n",
    "    return np.atleast_1d(1.5 - np.sum(np.abs(x)))"
   ]
  },
  {
   "cell_type": "code",
   "execution_count": null,
   "id": "1d993999",
   "metadata": {},
   "outputs": [],
   "source": [
    "x0 = np.array([0, 0])\n",
    "sp.optimize.minimize(f, x0, constraints={\"fun\": constraint, \"type\": \"ineq\"})"
   ]
  },
  {
   "cell_type": "markdown",
   "id": "d719dd06",
   "metadata": {},
   "source": [
    ":::{warning}\n",
    "The above problem is known as the [Lasso](<https://en.wikipedia.org/wiki/Lasso_(statistics)>)\n",
    "problem in statistics, and there exist very efficient solvers for it\n",
    "(for instance in [scikit-learn](https://scikit-learn.org)). In\n",
    "general do not use generic solvers when specific ones exist.\n",
    "\n",
    ":::\n",
    "\n",
    ":::{admonition} Lagrange multipliers\n",
    "If you are ready to do a bit of math, many constrained optimization\n",
    "problems can be converted to non-constrained optimization problems\n",
    "using a mathematical trick known as [Lagrange multipliers](https://en.wikipedia.org/wiki/Lagrange_multiplier).\n",
    "\n",
    ":::"
   ]
  },
  {
   "cell_type": "markdown",
   "id": "4513a1ff",
   "metadata": {},
   "source": [
    ":::{admonition} See also\n",
    "\n",
    "**Other Software**\n",
    "\n",
    "SciPy tries to include the best well-established, general-use,\n",
    "and permissively-licensed optimization algorithms available. However,\n",
    "even better options for a given task may be available in other libraries;\n",
    "please also see [IPOPT] and [PyGMO].\n",
    "\n",
    ":::\n",
    "\n",
    "[ipopt]: https://github.com/xuy/pyipopt\n",
    "[pygmo]: https://esa.github.io/pygmo2/"
   ]
  }
 ],
 "metadata": {
  "jupytext": {
   "notebook_metadata_filter": "all,-language_info",
   "split_at_heading": true,
   "text_representation": {
    "extension": ".md",
    "format_name": "myst",
    "format_version": 0.13,
    "jupytext_version": "1.18.0-dev"
   }
  },
  "kernelspec": {
   "display_name": "Python 3 (ipykernel)",
   "language": "python",
   "name": "python3"
  }
 },
 "nbformat": 4,
 "nbformat_minor": 5
}