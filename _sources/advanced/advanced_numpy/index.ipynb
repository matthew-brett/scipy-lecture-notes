{
 "cells": [
  {
   "cell_type": "markdown",
   "id": "be10ec1d",
   "metadata": {},
   "source": [
    "(advanced-numpy)=\n",
    "\n",
    "# Advanced NumPy\n",
    "\n",
    "**Author**: _Pauli Virtanen_\n",
    "\n",
    "NumPy is at the base of Python's scientific stack of tools. Its purpose\n",
    "to implement efficient operations on many items in a block of memory.\n",
    "Understanding how it works in detail helps in making efficient use of its\n",
    "flexibility, taking useful shortcuts.\n",
    "\n",
    "This section covers:\n",
    "\n",
    "- Anatomy of NumPy arrays, and its consequences. Tips and\n",
    "  tricks.\n",
    "- Universal functions: what, why, and what to do if you want\n",
    "  a new one.\n",
    "- Integration with other tools: NumPy offers several ways to\n",
    "  wrap any data in an ndarray, without unnecessary copies.\n",
    "- Recently added features, and what's in them: PEP\n",
    "  3118 buffers, generalized ufuncs, ...\n",
    "\n",
    ":::{admonition} Prerequisites\n",
    "\n",
    "- NumPy\n",
    "- Cython\n",
    "- Pillow (Python imaging library, used in a couple of examples)\n",
    "  :::"
   ]
  },
  {
   "cell_type": "code",
   "execution_count": null,
   "id": "40657f73",
   "metadata": {},
   "outputs": [],
   "source": [
    "# Import Numpy module.\n",
    "import numpy as np\n",
    "# Import Matplotlib (for later).\n",
    "import matplotlib.pyplot as plt"
   ]
  },
  {
   "cell_type": "markdown",
   "id": "fa8f611f",
   "metadata": {},
   "source": [
    "## Life of ndarray\n",
    "\n",
    "### It's...\n",
    "\n",
    "::: {admonition} What is an **ndarray**\n",
    "\n",
    "An **ndarray** is:\n",
    "\n",
    "- A block of memory and\n",
    "- an indexing scheme and\n",
    "- a data type descriptor.\n",
    "  :::\n",
    "\n",
    "Put another way, an ndarray has **raw data**, and algorithms to:\n",
    "\n",
    "- locate an element\n",
    "- interpret an element\n",
    "\n",
    "::: {image} threefundamental.png\n",
    ":::\n",
    "\n",
    "```c\n",
    "typedef struct PyArrayObject {\n",
    "        PyObject_HEAD\n",
    "\n",
    "        /* Block of memory */\n",
    "        char *data;\n",
    "\n",
    "        /* Data type descriptor */\n",
    "        PyArray_Descr *descr;\n",
    "\n",
    "        /* Indexing scheme */\n",
    "        int nd;\n",
    "        npy_intp *dimensions;\n",
    "        npy_intp *strides;\n",
    "\n",
    "        /* Other stuff */\n",
    "        PyObject *base;\n",
    "        int flags;\n",
    "        PyObject *weakreflist;\n",
    "} PyArrayObject;\n",
    "```\n",
    "\n",
    "### Block of memory"
   ]
  },
  {
   "cell_type": "code",
   "execution_count": null,
   "id": "d36c236c",
   "metadata": {},
   "outputs": [],
   "source": [
    "x = np.array([1, 2, 3], dtype=np.int32)\n",
    "x.data"
   ]
  },
  {
   "cell_type": "code",
   "execution_count": null,
   "id": "193b9b5c",
   "metadata": {},
   "outputs": [],
   "source": [
    "bytes(x.data)"
   ]
  },
  {
   "cell_type": "markdown",
   "id": "5cfc7090",
   "metadata": {},
   "source": [
    "Memory address of the data:"
   ]
  },
  {
   "cell_type": "code",
   "execution_count": null,
   "id": "fd5afc60",
   "metadata": {},
   "outputs": [],
   "source": [
    "x.__array_interface__['data'][0]"
   ]
  },
  {
   "cell_type": "markdown",
   "id": "eb9486d3",
   "metadata": {},
   "source": [
    "The whole `__array_interface__`:"
   ]
  },
  {
   "cell_type": "code",
   "execution_count": null,
   "id": "86b77c19",
   "metadata": {},
   "outputs": [],
   "source": [
    "x.__array_interface__"
   ]
  },
  {
   "cell_type": "markdown",
   "id": "4fefc1ba",
   "metadata": {},
   "source": [
    "Reminder: two {class}`ndarrays <ndarray>` may share the same memory:"
   ]
  },
  {
   "cell_type": "code",
   "execution_count": null,
   "id": "ab680516",
   "metadata": {},
   "outputs": [],
   "source": [
    "x = np.array([1, 2, 3, 4])\n",
    "y = x[:-1]\n",
    "x[0] = 9\n",
    "y"
   ]
  },
  {
   "cell_type": "markdown",
   "id": "5dba6721",
   "metadata": {},
   "source": [
    "Memory does not need to be owned by an {class}`ndarray`:"
   ]
  },
  {
   "cell_type": "code",
   "execution_count": null,
   "id": "3e49ad48",
   "metadata": {},
   "outputs": [],
   "source": [
    "x = b'1234'"
   ]
  },
  {
   "cell_type": "markdown",
   "id": "4970244a",
   "metadata": {},
   "source": [
    "x is a string (in Python 3 a bytes), we can represent its data as an\n",
    "array of ints:"
   ]
  },
  {
   "cell_type": "code",
   "execution_count": null,
   "id": "284100d9",
   "metadata": {},
   "outputs": [],
   "source": [
    "y = np.frombuffer(x, dtype=np.int8)\n",
    "y.data"
   ]
  },
  {
   "cell_type": "code",
   "execution_count": null,
   "id": "af227ee1",
   "metadata": {},
   "outputs": [],
   "source": [
    "y.base is x"
   ]
  },
  {
   "cell_type": "code",
   "execution_count": null,
   "id": "fd29bc8d",
   "metadata": {},
   "outputs": [],
   "source": [
    "y.flags"
   ]
  },
  {
   "cell_type": "markdown",
   "id": "77629f50",
   "metadata": {},
   "source": [
    "The `owndata` and `writeable` flags indicate status of the memory\n",
    "block.\n",
    "\n",
    ":::{admonition} See also\n",
    "\n",
    "[array interface](https://numpy.org/doc/stable/reference/arrays.interface.html)\n",
    ":::\n",
    "\n",
    "### Data types\n",
    "\n",
    "#### The descriptor\n",
    "\n",
    "{class}`dtype` describes a single item in the array:\n",
    "\n",
    "::: {list-table} **Dtypes**\n",
    "\n",
    "- - type\n",
    "  - **scalar type** of the data, one of:\n",
    "    - int8, int16, float64, _et al._ (fixed size)\n",
    "    - str, unicode, void (flexible size)\n",
    "- - itemsize\n",
    "  - **size** of the data block\n",
    "- - byteorder\n",
    "  - **byte order**:\n",
    "    - big-endian `>`\n",
    "    - little-endian `<`\n",
    "    - not applicable `|`\n",
    "- - fields\n",
    "  - sub-dtypes, if it's a **structured data type**\n",
    "- - shape\n",
    "  - shape of the array, if it's a **sub-array**\n",
    "\n",
    ":::"
   ]
  },
  {
   "cell_type": "code",
   "execution_count": null,
   "id": "cfecc0b5",
   "metadata": {},
   "outputs": [],
   "source": [
    "np.dtype(int).type"
   ]
  },
  {
   "cell_type": "code",
   "execution_count": null,
   "id": "5a1911ab",
   "metadata": {},
   "outputs": [],
   "source": [
    "np.dtype(int).itemsize"
   ]
  },
  {
   "cell_type": "code",
   "execution_count": null,
   "id": "d711f60b",
   "metadata": {},
   "outputs": [],
   "source": [
    "np.dtype(int).byteorder"
   ]
  },
  {
   "cell_type": "markdown",
   "id": "e6b8f491",
   "metadata": {},
   "source": [
    "#### Example: reading `.wav` files\n",
    "\n",
    "The `.wav` file header:\n",
    "\n",
    "|                 |                                       |\n",
    "| --------------- | ------------------------------------- |\n",
    "| chunk_id        | `\"RIFF\"`                              |\n",
    "| chunk_size      | 4-byte unsigned little-endian integer |\n",
    "| format          | `\"WAVE\"`                              |\n",
    "| fmt_id          | `\"fmt \"`                              |\n",
    "| fmt_size        | 4-byte unsigned little-endian integer |\n",
    "| audio_fmt       | 2-byte unsigned little-endian integer |\n",
    "| num_channels    | 2-byte unsigned little-endian integer |\n",
    "| sample_rate     | 4-byte unsigned little-endian integer |\n",
    "| byte_rate       | 4-byte unsigned little-endian integer |\n",
    "| block_align     | 2-byte unsigned little-endian integer |\n",
    "| bits_per_sample | 2-byte unsigned little-endian integer |\n",
    "| data_id         | `\"data\"`                              |\n",
    "| data_size       | 4-byte unsigned little-endian integer |\n",
    "\n",
    "- 44-byte block of raw data (in the beginning of the file)\n",
    "- ... followed by `data_size` bytes of actual sound data.\n",
    "\n",
    "The `.wav` file header as a NumPy _structured_ data type:"
   ]
  },
  {
   "cell_type": "code",
   "execution_count": null,
   "id": "53b7c471",
   "metadata": {},
   "outputs": [],
   "source": [
    "wav_header_dtype = np.dtype([\n",
    "    (\"chunk_id\", (bytes, 4)), # flexible-sized scalar type, item size 4\n",
    "    (\"chunk_size\", \"<u4\"),    # little-endian unsigned 32-bit integer\n",
    "    (\"format\", \"S4\"),         # 4-byte string\n",
    "    (\"fmt_id\", \"S4\"),\n",
    "    (\"fmt_size\", \"<u4\"),\n",
    "    (\"audio_fmt\", \"<u2\"),     #\n",
    "    (\"num_channels\", \"<u2\"),  # .. more of the same ...\n",
    "    (\"sample_rate\", \"<u4\"),   #\n",
    "    (\"byte_rate\", \"<u4\"),\n",
    "    (\"block_align\", \"<u2\"),\n",
    "    (\"bits_per_sample\", \"<u2\"),\n",
    "    (\"data_id\", (\"S1\", (2, 2))), # sub-array, just for fun!\n",
    "    (\"data_size\", \"u4\"),\n",
    "    #\n",
    "    # the sound data itself cannot be represented here:\n",
    "    # it does not have a fixed size\n",
    "   ])"
   ]
  },
  {
   "cell_type": "markdown",
   "id": "8c47bccb",
   "metadata": {},
   "source": [
    ":::{admonition} See also\n",
    "\n",
    "wavreader.py\n",
    ":::"
   ]
  },
  {
   "cell_type": "code",
   "execution_count": null,
   "id": "32678ac7",
   "metadata": {},
   "outputs": [],
   "source": [
    "wav_header_dtype['format']"
   ]
  },
  {
   "cell_type": "code",
   "execution_count": null,
   "id": "8e8762b7",
   "metadata": {},
   "outputs": [],
   "source": [
    "wav_header_dtype.fields"
   ]
  },
  {
   "cell_type": "code",
   "execution_count": null,
   "id": "02d47557",
   "metadata": {},
   "outputs": [],
   "source": [
    "wav_header_dtype.fields['format']"
   ]
  },
  {
   "cell_type": "markdown",
   "id": "95db001f",
   "metadata": {},
   "source": [
    "- The first element is the sub-dtype in the structured data, corresponding\n",
    "  to the name `format`\n",
    "- The second one is its offset (in bytes) from the beginning of the item\n",
    "\n",
    "::: {exercise-start}\n",
    ":label: sparse-dtype\n",
    ":class: dropdown\n",
    ":::\n",
    "\n",
    "Make a \"sparse\" dtype by using offsets, and only some of the fields:"
   ]
  },
  {
   "cell_type": "code",
   "execution_count": null,
   "id": "df9fbf98",
   "metadata": {
    "tags": [
     "raises-exception"
    ]
   },
   "outputs": [],
   "source": [
    "wav_header_dtype = np.dtype(dict(\n",
    "  names=['format', 'sample_rate', 'data_id'],\n",
    "  offsets=[offset_1, offset_2, offset_3], # counted from start of structure in bytes\n",
    "  formats=list of dtypes for each of the fields,\n",
    "))"
   ]
  },
  {
   "cell_type": "markdown",
   "id": "74173122",
   "metadata": {},
   "source": [
    "and use that to read the sample rate, and `data_id` (as sub-array).\n",
    "\n",
    "::: {exercise-end}\n",
    ":::"
   ]
  },
  {
   "cell_type": "code",
   "execution_count": null,
   "id": "4f953779",
   "metadata": {},
   "outputs": [],
   "source": [
    "f = open('data/test.wav', 'r')\n",
    "wav_header = np.fromfile(f, dtype=wav_header_dtype, count=1)\n",
    "f.close()\n",
    "print(wav_header)"
   ]
  },
  {
   "cell_type": "code",
   "execution_count": null,
   "id": "723f295f",
   "metadata": {},
   "outputs": [],
   "source": [
    "wav_header['sample_rate']"
   ]
  },
  {
   "cell_type": "markdown",
   "id": "f7bb2400",
   "metadata": {},
   "source": [
    "Let's try accessing the sub-array:"
   ]
  },
  {
   "cell_type": "code",
   "execution_count": null,
   "id": "2c4d1948",
   "metadata": {},
   "outputs": [],
   "source": [
    "wav_header['data_id']"
   ]
  },
  {
   "cell_type": "code",
   "execution_count": null,
   "id": "dc933dd3",
   "metadata": {},
   "outputs": [],
   "source": [
    "wav_header.shape"
   ]
  },
  {
   "cell_type": "code",
   "execution_count": null,
   "id": "0cd5a286",
   "metadata": {},
   "outputs": [],
   "source": [
    "wav_header['data_id'].shape"
   ]
  },
  {
   "cell_type": "markdown",
   "id": "c08a9204",
   "metadata": {},
   "source": [
    "When accessing sub-arrays, the dimensions get added to the end!\n",
    "\n",
    ":::{note}\n",
    "\n",
    "There are existing modules such as `wavfile`, `audiolab`,\n",
    "etc. for loading sound data...\n",
    "\n",
    ":::\n",
    "\n",
    "#### Casting and re-interpretation/views\n",
    "\n",
    "**casting**\n",
    "\n",
    "- on assignment\n",
    "- on array construction\n",
    "- on arithmetic\n",
    "- etc.\n",
    "- and manually: `.astype(dtype)`\n",
    "\n",
    "**data re-interpretation**\n",
    "\n",
    "- manually: `.view(dtype)`\n",
    "\n",
    "##### Casting\n",
    "\n",
    "- Casting in arithmetic, in nutshell:\n",
    "\n",
    "  - only type (not value!) of operands matters\n",
    "  - largest \"safe\" type able to represent both is picked\n",
    "  - scalars can \"lose\" to arrays in some situations\n",
    "\n",
    "- Casting in general copies data:"
   ]
  },
  {
   "cell_type": "code",
   "execution_count": null,
   "id": "a00d0308",
   "metadata": {},
   "outputs": [],
   "source": [
    "x = np.array([1, 2, 3, 4], dtype=float)\n",
    "x"
   ]
  },
  {
   "cell_type": "code",
   "execution_count": null,
   "id": "0bc7581d",
   "metadata": {},
   "outputs": [],
   "source": [
    "y = x.astype(np.int8)\n",
    "y"
   ]
  },
  {
   "cell_type": "code",
   "execution_count": null,
   "id": "cb6bdfca",
   "metadata": {},
   "outputs": [],
   "source": [
    "y + 1"
   ]
  },
  {
   "cell_type": "code",
   "execution_count": null,
   "id": "a5bdda37",
   "metadata": {
    "tags": [
     "raises-exception"
    ]
   },
   "outputs": [],
   "source": [
    "y + 256"
   ]
  },
  {
   "cell_type": "code",
   "execution_count": null,
   "id": "c537e8bb",
   "metadata": {},
   "outputs": [],
   "source": [
    "y + 256.0"
   ]
  },
  {
   "cell_type": "code",
   "execution_count": null,
   "id": "aaccd3f8",
   "metadata": {},
   "outputs": [],
   "source": [
    "y + np.array([256], dtype=np.int32)"
   ]
  },
  {
   "cell_type": "markdown",
   "id": "1bbe7a40",
   "metadata": {},
   "source": [
    "- Casting on setitem: dtype of the array is not changed on item assignment:"
   ]
  },
  {
   "cell_type": "code",
   "execution_count": null,
   "id": "3c58c7d5",
   "metadata": {},
   "outputs": [],
   "source": [
    "y[:] = y + 1.5\n",
    "y"
   ]
  },
  {
   "cell_type": "markdown",
   "id": "21463ced",
   "metadata": {},
   "source": [
    ":::{note}\n",
    "\n",
    "Exact rules: see [NumPy documentation](https://numpy.org/doc/stable/reference/ufuncs.html#casting-rules)\n",
    "\n",
    ":::\n",
    "\n",
    "##### Re-interpretation / viewing\n",
    "\n",
    "Let's say we have a data block in memory (4 bytes). For the moment (as indicated by the bars between the values), we'll consider this to be four `unit8` values:\n",
    "\n",
    "|        |     |        |     |        |     |        |\n",
    "| ------ | --- | ------ | --- | ------ | --- | ------ |\n",
    "| `0x01` | │   | `0x02` | │   | `0x03` | │   | `0x04` |\n",
    "\n",
    "However, we can interpret this block as:\n",
    "\n",
    "- 4 of uint8 (as here), OR,\n",
    "- 4 of int8, OR,\n",
    "- 2 of int16, OR,\n",
    "- 1 of int32, OR,\n",
    "- 1 of float32, OR,\n",
    "- ...\n",
    "\n",
    "How to switch from one to another?\n",
    "\n",
    "**Option 1: Switch the dtype**"
   ]
  },
  {
   "cell_type": "code",
   "execution_count": null,
   "id": "de163c50",
   "metadata": {},
   "outputs": [],
   "source": [
    "x = np.array([1, 2, 3, 4], dtype=np.uint8)\n",
    "x.dtype = \"<i2\"\n",
    "x"
   ]
  },
  {
   "cell_type": "markdown",
   "id": "bbc250ba",
   "metadata": {},
   "source": [
    "|        |        |     |        |        |\n",
    "| ------ | ------ | --- | ------ | ------ |\n",
    "| `0x01` | `0x02` | │   | `0x03` | `0x04` |\n",
    "\n",
    ":::{note}\n",
    "\n",
    "little-endian: least significant byte is on the _left_ in memory\n",
    "\n",
    ":::\n",
    "\n",
    "**Option 2: Create a new view of type `uint32`, shorthand `i4`**"
   ]
  },
  {
   "cell_type": "code",
   "execution_count": null,
   "id": "b441b2e6",
   "metadata": {},
   "outputs": [],
   "source": [
    "y = x.view(\"<i4\")\n",
    "y"
   ]
  },
  {
   "cell_type": "markdown",
   "id": "da00dba6",
   "metadata": {},
   "source": [
    "|        |        |        |        |\n",
    "| ------ | ------ | ------ | ------ |\n",
    "| `0x01` | `0x02` | `0x03` | `0x04` |\n",
    "\n",
    "**On Views**\n",
    "\n",
    "- `.view()` makes _views_, does not copy (or alter) the memory block\n",
    "- it only changes the dtype (and adjusts array shape):"
   ]
  },
  {
   "cell_type": "code",
   "execution_count": null,
   "id": "c43544f7",
   "metadata": {},
   "outputs": [],
   "source": [
    "x[1] = 5\n",
    "y"
   ]
  },
  {
   "cell_type": "code",
   "execution_count": null,
   "id": "877032ce",
   "metadata": {},
   "outputs": [],
   "source": [
    "y.base is x"
   ]
  },
  {
   "cell_type": "markdown",
   "id": "cd536b9c",
   "metadata": {},
   "source": [
    "**Mini-exercise: data re-interpretation**\n",
    "\n",
    ":::{admonition} See also\n",
    "\n",
    "view-colors.py\n",
    ":::\n",
    "\n",
    "::: {exercise-start}\n",
    ":label: rgba-to-structured\n",
    ":class: dropdown\n",
    ":::\n",
    "\n",
    "You have RGBA data in an array:"
   ]
  },
  {
   "cell_type": "code",
   "execution_count": null,
   "id": "79b9fbcd",
   "metadata": {},
   "outputs": [],
   "source": [
    "x = np.zeros((10, 10, 4), dtype=np.int8)\n",
    "x[:, :, 0] = 1\n",
    "x[:, :, 1] = 2\n",
    "x[:, :, 2] = 3\n",
    "x[:, :, 3] = 4"
   ]
  },
  {
   "cell_type": "markdown",
   "id": "d9b899ab",
   "metadata": {},
   "source": [
    "where the last three dimensions are the R, B, and G, and alpha channels.\n",
    "\n",
    "How would you make a (10, 10) structured array with field names 'r', 'g', 'b',\n",
    "'a' without copying data?"
   ]
  },
  {
   "cell_type": "code",
   "execution_count": null,
   "id": "ee73e8e0",
   "metadata": {},
   "outputs": [],
   "source": [
    "y = ..."
   ]
  },
  {
   "cell_type": "code",
   "execution_count": null,
   "id": "353e7bb4",
   "metadata": {
    "tags": [
     "raises-exception"
    ]
   },
   "outputs": [],
   "source": [
    "assert (y['r'] == 1).all()\n",
    "assert (y['g'] == 2).all()\n",
    "assert (y['b'] == 3).all()\n",
    "assert (y['a'] == 4).all()"
   ]
  },
  {
   "cell_type": "markdown",
   "id": "81952563",
   "metadata": {},
   "source": [
    "::: {exercise-end}\n",
    ":::"
   ]
  },
  {
   "cell_type": "markdown",
   "id": "9aebceda",
   "metadata": {},
   "source": [
    "::: {solution-start} rgba-to-structured\n",
    ":class: dropdown\n",
    ":::"
   ]
  },
  {
   "cell_type": "code",
   "execution_count": null,
   "id": "472a4a68",
   "metadata": {},
   "outputs": [],
   "source": [
    "y = x.view([('r', 'i1'),\n",
    "            ('g', 'i1'),\n",
    "            ('b', 'i1'),\n",
    "            ('a', 'i1')]\n",
    "             )[:, :, 0]"
   ]
  },
  {
   "cell_type": "markdown",
   "id": "865724d0",
   "metadata": {},
   "source": [
    "::: {solution-end}\n",
    ":::\n",
    "\n",
    "#### A puzzle\n",
    "\n",
    "Another two arrays, each occupying exactly 4 bytes of memory:"
   ]
  },
  {
   "cell_type": "code",
   "execution_count": null,
   "id": "17e13aa4",
   "metadata": {},
   "outputs": [],
   "source": [
    "x = np.array([[1, 3], [2, 4]], dtype=np.uint8)\n",
    "x"
   ]
  },
  {
   "cell_type": "code",
   "execution_count": null,
   "id": "f9b43e56",
   "metadata": {},
   "outputs": [],
   "source": [
    "y = x.transpose()\n",
    "y"
   ]
  },
  {
   "cell_type": "markdown",
   "id": "e2ebb6ae",
   "metadata": {},
   "source": [
    "We view the elements of `x` (1 byte each) as `int16` (2 bytes each):"
   ]
  },
  {
   "cell_type": "code",
   "execution_count": null,
   "id": "d3b7e9bb",
   "metadata": {},
   "outputs": [],
   "source": [
    "x.view(np.int16)"
   ]
  },
  {
   "cell_type": "markdown",
   "id": "71d8362a",
   "metadata": {},
   "source": [
    "What is happening here? Take a look at the bytes stored in memory\n",
    "by `x`:"
   ]
  },
  {
   "cell_type": "code",
   "execution_count": null,
   "id": "1d71c86e",
   "metadata": {},
   "outputs": [],
   "source": [
    "x.tobytes()"
   ]
  },
  {
   "cell_type": "markdown",
   "id": "21ce43d8",
   "metadata": {},
   "source": [
    "The `\\x` stands for heXadecimal, so what we are seeing is:\n",
    "\n",
    "```\n",
    "0x01 0x03 0x02 0x04\n",
    "```\n",
    "\n",
    "We ask NumPy to interpret these bytes as elements of dtype\n",
    "`int16`—each of which occupies _two_ bytes in memory. Therefore,\n",
    "`0x01 0x03` becomes the first `uint16` and `0x02 0x04` the\n",
    "second.\n",
    "\n",
    "You may then expect to see `0x0103` (259, when converting from\n",
    "hexadecimal to decimal) as the first result. But your computer\n",
    "likely stores most significant bytes first, and as such reads the\n",
    "number as `0x0301` or 769 (go on and type `0x0301` into your Python\n",
    "terminal to verify).\n",
    "\n",
    "We can do the same on a copy of `y` (why doesn't it work on `y`\n",
    "directly?):"
   ]
  },
  {
   "cell_type": "code",
   "execution_count": null,
   "id": "974858e8",
   "metadata": {},
   "outputs": [],
   "source": [
    "y.copy().view(np.int16)"
   ]
  },
  {
   "cell_type": "markdown",
   "id": "7d0b53b2",
   "metadata": {},
   "source": [
    "Can you explain these numbers, 513 and 1027, as well as the output\n",
    "shape of the resulting array?\n",
    "\n",
    "### Indexing scheme: strides\n",
    "\n",
    "#### Main point\n",
    "\n",
    "**The question**:"
   ]
  },
  {
   "cell_type": "code",
   "execution_count": null,
   "id": "3308fdff",
   "metadata": {},
   "outputs": [],
   "source": [
    "x = np.array([[1, 2, 3],\n",
    "              [4, 5, 6],\n",
    "              [7, 8, 9]], dtype=np.int8)\n",
    "x.tobytes('A')"
   ]
  },
  {
   "cell_type": "markdown",
   "id": "6fdb467a",
   "metadata": {},
   "source": [
    "**The answer** (in NumPy)\n",
    "\n",
    "- **strides**: the number of bytes to jump to find the next element\n",
    "- 1 stride per dimension"
   ]
  },
  {
   "cell_type": "code",
   "execution_count": null,
   "id": "168c0673",
   "metadata": {},
   "outputs": [],
   "source": [
    "x.strides"
   ]
  },
  {
   "cell_type": "code",
   "execution_count": null,
   "id": "aab69378",
   "metadata": {},
   "outputs": [],
   "source": [
    "byte_offset = 3 * 1 + 1 * 2  # to find x[1, 2]\n",
    "x.flat[byte_offset]"
   ]
  },
  {
   "cell_type": "code",
   "execution_count": null,
   "id": "ab17a9dc",
   "metadata": {},
   "outputs": [],
   "source": [
    "x[1, 2]"
   ]
  },
  {
   "cell_type": "markdown",
   "id": "40403472",
   "metadata": {},
   "source": [
    "simple, **flexible**\n",
    "\n",
    "##### C and Fortran order\n",
    "\n",
    ":::{note}\n",
    "\n",
    "The Python built-in {py:class}`bytes` returns bytes in C-order by default\n",
    "which can cause confusion when trying to inspect memory layout. We use\n",
    "{meth}`numpy.ndarray.tobytes` with `order=A` instead, which preserves\n",
    "the C or F ordering of the bytes in memory.\n",
    "\n",
    ":::"
   ]
  },
  {
   "cell_type": "code",
   "execution_count": null,
   "id": "b5eba2d5",
   "metadata": {},
   "outputs": [],
   "source": [
    "x = np.array([[1, 2, 3],\n",
    "              [4, 5, 6]], dtype=np.int16, order='C')\n",
    "x.strides"
   ]
  },
  {
   "cell_type": "code",
   "execution_count": null,
   "id": "2885a9b3",
   "metadata": {},
   "outputs": [],
   "source": [
    "x.tobytes('A')"
   ]
  },
  {
   "cell_type": "markdown",
   "id": "f5fde8cc",
   "metadata": {},
   "source": [
    "- Need to jump 6 bytes to find the next row\n",
    "- Need to jump 2 bytes to find the next column"
   ]
  },
  {
   "cell_type": "code",
   "execution_count": null,
   "id": "813eebfc",
   "metadata": {},
   "outputs": [],
   "source": [
    "y = np.array(x, order='F')\n",
    "y.strides"
   ]
  },
  {
   "cell_type": "code",
   "execution_count": null,
   "id": "77836370",
   "metadata": {},
   "outputs": [],
   "source": [
    "y.tobytes('A')"
   ]
  },
  {
   "cell_type": "markdown",
   "id": "f824619e",
   "metadata": {},
   "source": [
    "- Need to jump 2 bytes to find the next row\n",
    "- Need to jump 4 bytes to find the next column\n",
    "\n",
    "Similarly for higher dimensions:\n",
    "\n",
    "- C: last dimensions vary fastest (= smaller strides)\n",
    "- F: first dimensions vary fastest\n",
    "\n",
    "$$\n",
    "\\begin{align}\n",
    "\\mathrm{shape} &= (d_1, d_2, ..., d_n)\n",
    "\\\\\n",
    "\\mathrm{strides} &= (s_1, s_2, ..., s_n)\n",
    "\\\\\n",
    "s_j^C &= d_{j+1} d_{j+2} ... d_{n} \\times \\mathrm{itemsize}\n",
    "\\\\\n",
    "s_j^F &= d_{1} d_{2} ... d_{j-1} \\times \\mathrm{itemsize}\n",
    "\\end{align}\n",
    "$$\n",
    "\n",
    "**Now we can understand the behavior of `.view()`**"
   ]
  },
  {
   "cell_type": "code",
   "execution_count": null,
   "id": "189b6ec9",
   "metadata": {},
   "outputs": [],
   "source": [
    "y = np.array([[1, 3], [2, 4]], dtype=np.uint8).transpose()\n",
    "x = y.copy()"
   ]
  },
  {
   "cell_type": "markdown",
   "id": "4faa2c04",
   "metadata": {},
   "source": [
    "Transposition does not affect the memory layout of the data, only strides"
   ]
  },
  {
   "cell_type": "code",
   "execution_count": null,
   "id": "d34677d2",
   "metadata": {},
   "outputs": [],
   "source": [
    "x.strides"
   ]
  },
  {
   "cell_type": "code",
   "execution_count": null,
   "id": "3b8a5a41",
   "metadata": {},
   "outputs": [],
   "source": [
    "y.strides"
   ]
  },
  {
   "cell_type": "code",
   "execution_count": null,
   "id": "95d0ad94",
   "metadata": {},
   "outputs": [],
   "source": [
    "x.tobytes('A')"
   ]
  },
  {
   "cell_type": "code",
   "execution_count": null,
   "id": "a7bfffa1",
   "metadata": {},
   "outputs": [],
   "source": [
    "y.tobytes('A')"
   ]
  },
  {
   "cell_type": "markdown",
   "id": "4a28ef07",
   "metadata": {},
   "source": [
    "- the results are different when interpreted as 2 of int16\n",
    "- `.copy()` creates new arrays in the C order (by default)"
   ]
  },
  {
   "cell_type": "markdown",
   "id": "8c9acd5b",
   "metadata": {},
   "source": [
    "##### Slicing with integers\n",
    "\n",
    "- _Everything_ can be represented by changing only `shape`, `strides`,\n",
    "  and possibly adjusting the `data` pointer!\n",
    "- Never makes copies of the data"
   ]
  },
  {
   "cell_type": "code",
   "execution_count": null,
   "id": "d54163f5",
   "metadata": {},
   "outputs": [],
   "source": [
    "x = np.array([1, 2, 3, 4, 5, 6], dtype=np.int32)\n",
    "y = x[::-1]\n",
    "y"
   ]
  },
  {
   "cell_type": "code",
   "execution_count": null,
   "id": "5a3fcb9e",
   "metadata": {},
   "outputs": [],
   "source": [
    "y.strides"
   ]
  },
  {
   "cell_type": "code",
   "execution_count": null,
   "id": "d8bd9c3b",
   "metadata": {},
   "outputs": [],
   "source": [
    "y = x[2:]\n",
    "y.__array_interface__['data'][0] - x.__array_interface__['data'][0]"
   ]
  },
  {
   "cell_type": "code",
   "execution_count": null,
   "id": "a45b3216",
   "metadata": {},
   "outputs": [],
   "source": [
    "x = np.zeros((10, 10, 10), dtype=float)\n",
    "x.strides"
   ]
  },
  {
   "cell_type": "code",
   "execution_count": null,
   "id": "f253f012",
   "metadata": {},
   "outputs": [],
   "source": [
    "x[::2,::3,::4].strides"
   ]
  },
  {
   "cell_type": "markdown",
   "id": "f23debca",
   "metadata": {},
   "source": [
    "Similarly, transposes never make copies (it just swaps strides):"
   ]
  },
  {
   "cell_type": "code",
   "execution_count": null,
   "id": "c856b9c4",
   "metadata": {},
   "outputs": [],
   "source": [
    "x = np.zeros((10, 10, 10), dtype=float)\n",
    "x.strides"
   ]
  },
  {
   "cell_type": "code",
   "execution_count": null,
   "id": "372e91aa",
   "metadata": {},
   "outputs": [],
   "source": [
    "x.T.strides"
   ]
  },
  {
   "cell_type": "markdown",
   "id": "7aafde3b",
   "metadata": {},
   "source": [
    "But: not all reshaping operations can be represented by playing with\n",
    "strides:"
   ]
  },
  {
   "cell_type": "code",
   "execution_count": null,
   "id": "c0d2d42a",
   "metadata": {},
   "outputs": [],
   "source": [
    "a = np.arange(6, dtype=np.int8).reshape(3, 2)\n",
    "b = a.T\n",
    "b.strides"
   ]
  },
  {
   "cell_type": "markdown",
   "id": "fd67a77d",
   "metadata": {},
   "source": [
    "So far, so good. However:"
   ]
  },
  {
   "cell_type": "code",
   "execution_count": null,
   "id": "8ea03065",
   "metadata": {},
   "outputs": [],
   "source": [
    "bytes(a.data)"
   ]
  },
  {
   "cell_type": "code",
   "execution_count": null,
   "id": "a0a2e272",
   "metadata": {},
   "outputs": [],
   "source": [
    "b"
   ]
  },
  {
   "cell_type": "code",
   "execution_count": null,
   "id": "c3b014c8",
   "metadata": {},
   "outputs": [],
   "source": [
    "c = b.reshape(3*2)\n",
    "c"
   ]
  },
  {
   "cell_type": "markdown",
   "id": "e1039ed3",
   "metadata": {},
   "source": [
    "Here, there is no way to represent the array `c` given one stride\n",
    "and the block of memory for `a`. Therefore, the `reshape`\n",
    "operation needs to make a copy here.\n",
    "\n",
    "(stride-manipulation-label)=\n",
    "\n",
    "#### Example: fake dimensions with strides\n",
    "\n",
    "**Stride manipulation**"
   ]
  },
  {
   "cell_type": "code",
   "execution_count": null,
   "id": "2c15e452",
   "metadata": {},
   "outputs": [],
   "source": [
    "from numpy.lib.stride_tricks import as_strided\n",
    "help(as_strided)"
   ]
  },
  {
   "cell_type": "markdown",
   "id": "34a77506",
   "metadata": {},
   "source": [
    ":::{warning}\n",
    "`as_strided` does **not** check that you stay inside the memory\n",
    "block bounds...\n",
    ":::"
   ]
  },
  {
   "cell_type": "code",
   "execution_count": null,
   "id": "c1f44a63",
   "metadata": {},
   "outputs": [],
   "source": [
    "x = np.array([1, 2, 3, 4], dtype=np.int16)\n",
    "as_strided(x, strides=(2*2, ), shape=(2, ))"
   ]
  },
  {
   "cell_type": "code",
   "execution_count": null,
   "id": "442896d2",
   "metadata": {},
   "outputs": [],
   "source": [
    "x[::2]"
   ]
  },
  {
   "cell_type": "markdown",
   "id": "3cf0dd57",
   "metadata": {},
   "source": [
    ":::{admonition} See also\n",
    "\n",
    "stride-fakedims.py\n",
    ":::\n",
    "\n",
    "::: {exercise-start}\n",
    ":label: harder-strides\n",
    ":class: dropdown\n",
    ":::\n",
    "\n",
    "Convert this:"
   ]
  },
  {
   "cell_type": "code",
   "execution_count": null,
   "id": "917ce807",
   "metadata": {},
   "outputs": [],
   "source": [
    "in_arr = np.array([1, 2, 3, 4], dtype=np.int8)\n",
    "in_arr"
   ]
  },
  {
   "cell_type": "markdown",
   "id": "84401d9d",
   "metadata": {},
   "source": [
    "to this:\n",
    "\n",
    "```python\n",
    "array([[1, 2, 3, 4],\n",
    "       [1, 2, 3, 4],\n",
    "       [1, 2, 3, 4]], dtype=np.int8)\n",
    "```\n",
    "\n",
    "using only `as_strided`.:\n",
    "\n",
    "**Hint**: `byte_offset = stride[0]*index[0] + stride[1]*index[1] + ...`\n",
    "\n",
    "::: {exercise-end}\n",
    ":::\n",
    "\n",
    "::: {admonition} Spoiler for strides exercise\n",
    ":class: dropdown\n",
    "\n",
    "Stride can also be _0_:\n",
    "\n",
    ":::"
   ]
  },
  {
   "cell_type": "markdown",
   "id": "e10cc80a",
   "metadata": {},
   "source": [
    "::: {solution-start} harder-strides\n",
    ":class: dropdown\n",
    ":::"
   ]
  },
  {
   "cell_type": "code",
   "execution_count": null,
   "id": "1c819181",
   "metadata": {},
   "outputs": [],
   "source": [
    "x = np.array([1, 2, 3, 4], dtype=np.int8)\n",
    "y = as_strided(x, strides=(0, 1), shape=(3, 4))\n",
    "y"
   ]
  },
  {
   "cell_type": "code",
   "execution_count": null,
   "id": "c110c4a8",
   "metadata": {},
   "outputs": [],
   "source": [
    "y.base.base is x"
   ]
  },
  {
   "cell_type": "markdown",
   "id": "bab89fe5",
   "metadata": {},
   "source": [
    "::: {solution-end}\n",
    ":::\n",
    "\n",
    "(broadcasting-advanced)=\n",
    "\n",
    "#### Broadcasting\n",
    "\n",
    "- Doing something useful with it: outer product\n",
    "  of `[1, 2, 3, 4]` and `[5, 6, 7]`"
   ]
  },
  {
   "cell_type": "code",
   "execution_count": null,
   "id": "8d7789ba",
   "metadata": {},
   "outputs": [],
   "source": [
    "x = np.array([1, 2, 3, 4], dtype=np.int16)\n",
    "x2 = as_strided(x, strides=(0, 1*2), shape=(3, 4))\n",
    "x2"
   ]
  },
  {
   "cell_type": "code",
   "execution_count": null,
   "id": "4b7c4aae",
   "metadata": {},
   "outputs": [],
   "source": [
    "y = np.array([5, 6, 7], dtype=np.int16)\n",
    "y2 = as_strided(y, strides=(1*2, 0), shape=(3, 4))\n",
    "y2"
   ]
  },
  {
   "cell_type": "code",
   "execution_count": null,
   "id": "c062b833",
   "metadata": {},
   "outputs": [],
   "source": [
    "x2 * y2"
   ]
  },
  {
   "cell_type": "markdown",
   "id": "0da25a49",
   "metadata": {},
   "source": [
    "**... seems somehow familiar ...**"
   ]
  },
  {
   "cell_type": "code",
   "execution_count": null,
   "id": "21d80a35",
   "metadata": {},
   "outputs": [],
   "source": [
    "x = np.array([1, 2, 3, 4], dtype=np.int16)\n",
    "y = np.array([5, 6, 7], dtype=np.int16)\n",
    "x[np.newaxis,:] * y[:,np.newaxis]"
   ]
  },
  {
   "cell_type": "markdown",
   "id": "271302fc",
   "metadata": {},
   "source": [
    "- Internally, array **broadcasting** is indeed implemented using 0-strides.\n",
    "\n",
    "#### More tricks: diagonals\n",
    "\n",
    ":::{admonition} See also\n",
    "\n",
    "stride-diagonals.py\n",
    ":::\n",
    "\n",
    "::: {exercise-start}\n",
    ":label: stride-diagonals\n",
    ":class: dropdown\n",
    ":::\n",
    "\n",
    "Pick diagonal entries of the matrix: (assume C memory order):"
   ]
  },
  {
   "cell_type": "code",
   "execution_count": null,
   "id": "4699b9d6",
   "metadata": {},
   "outputs": [],
   "source": [
    "x = np.array([[1, 2, 3],\n",
    "              [4, 5, 6],\n",
    "              [7, 8, 9]], dtype=np.int32)"
   ]
  },
  {
   "cell_type": "markdown",
   "id": "980abbc3",
   "metadata": {},
   "source": [
    "Your task is to work out the correct strides for to get the diagonal of the array, as in:\n",
    "\n",
    "```\n",
    "x_diag = as_strided(x, shape=(3,), strides=(...,))\n",
    "```\n",
    "\n",
    "Next:\n",
    "\n",
    "- Pick the first super-diagonal entries `[2, 6]`.\n",
    "- And the sub-diagonals?\n",
    "\n",
    "**Hint to the last two**: slicing first moves the point where striding starts\n",
    "from.\n",
    "\n",
    "::: {exercise-end}\n",
    ":::\n",
    "\n",
    "::: {solution-start} stride-diagonals\n",
    ":class: dropdown\n",
    ":::\n",
    "\n",
    "Pick diagonals:"
   ]
  },
  {
   "cell_type": "code",
   "execution_count": null,
   "id": "e73ad58f",
   "metadata": {},
   "outputs": [],
   "source": [
    "x_diag = as_strided(x, shape=(3, ), strides=((3+1)*x.itemsize,))\n",
    "x_diag"
   ]
  },
  {
   "cell_type": "markdown",
   "id": "4d1cdb2a",
   "metadata": {},
   "source": [
    "Slice first, to adjust the data pointer:"
   ]
  },
  {
   "cell_type": "code",
   "execution_count": null,
   "id": "1902bed0",
   "metadata": {},
   "outputs": [],
   "source": [
    "as_strided(x[0, 1:], shape=(2, ), strides=((3+1)*x.itemsize, ))"
   ]
  },
  {
   "cell_type": "code",
   "execution_count": null,
   "id": "cff972b3",
   "metadata": {},
   "outputs": [],
   "source": [
    "as_strided(x[1:, 0], shape=(2, ), strides=((3+1)*x.itemsize, ))"
   ]
  },
  {
   "cell_type": "markdown",
   "id": "4a138faa",
   "metadata": {},
   "source": [
    "::: {solution-end}\n",
    ":::\n",
    "\n",
    "#### Using np.diag"
   ]
  },
  {
   "cell_type": "code",
   "execution_count": null,
   "id": "744de617",
   "metadata": {},
   "outputs": [],
   "source": [
    "y = np.diag(x, k=1)\n",
    "y"
   ]
  },
  {
   "cell_type": "markdown",
   "id": "d97ae848",
   "metadata": {},
   "source": [
    "However,"
   ]
  },
  {
   "cell_type": "code",
   "execution_count": null,
   "id": "76b479d0",
   "metadata": {},
   "outputs": [],
   "source": [
    "y.flags.owndata"
   ]
  },
  {
   "cell_type": "markdown",
   "id": "c1b12715",
   "metadata": {},
   "source": [
    "**Challenge**\n",
    "\n",
    "::: {exercise-start}\n",
    ":label: tensor-trace\n",
    ":class: dropdown\n",
    ":::\n",
    "\n",
    "Compute the tensor trace:"
   ]
  },
  {
   "cell_type": "code",
   "execution_count": null,
   "id": "013e758a",
   "metadata": {},
   "outputs": [],
   "source": [
    "x = np.arange(5*5*5*5).reshape(5, 5, 5, 5)\n",
    "s = 0\n",
    "for i in range(5):\n",
    "    for j in range(5):\n",
    "        s += x[j, i, j, i]"
   ]
  },
  {
   "cell_type": "markdown",
   "id": "1c567765",
   "metadata": {},
   "source": [
    "by striding, and using `sum()` on the result."
   ]
  },
  {
   "cell_type": "code",
   "execution_count": null,
   "id": "10e30f2d",
   "metadata": {
    "tags": [
     "raises-exception"
    ]
   },
   "outputs": [],
   "source": [
    "y = as_strided(x, shape=(5, 5), strides=(..., ...))\n",
    "s2 = ...\n",
    "assert s == s2"
   ]
  },
  {
   "cell_type": "markdown",
   "id": "7840bd1f",
   "metadata": {},
   "source": [
    "::: {exercise-end}\n",
    ":::\n",
    "\n",
    "::: {solution-start} tensor-trace\n",
    ":class: dropdown\n",
    ":::"
   ]
  },
  {
   "cell_type": "code",
   "execution_count": null,
   "id": "1d8d8d49",
   "metadata": {},
   "outputs": [],
   "source": [
    "y = as_strided(x, shape=(5, 5), strides=((5*5*5 + 5)*x.itemsize,\n",
    "                                         (5*5 + 1)*x.itemsize))\n",
    "s2 = y.sum()\n",
    "s2"
   ]
  },
  {
   "cell_type": "markdown",
   "id": "0097a028",
   "metadata": {},
   "source": [
    "::: {solution-end}\n",
    ":::\n",
    "\n",
    "(cache-effects)=\n",
    "\n",
    "#### CPU cache effects\n",
    "\n",
    "Memory layout can affect performance:"
   ]
  },
  {
   "cell_type": "code",
   "execution_count": null,
   "id": "79063aa0",
   "metadata": {},
   "outputs": [],
   "source": [
    "x = np.zeros((20000,))\n",
    "y = np.zeros((20000*67,))[::67]\n",
    "\n",
    "x.shape, y.shape"
   ]
  },
  {
   "cell_type": "code",
   "execution_count": null,
   "id": "74807aac",
   "metadata": {},
   "outputs": [],
   "source": [
    "%timeit np.median(x)"
   ]
  },
  {
   "cell_type": "code",
   "execution_count": null,
   "id": "77c2bdc5",
   "metadata": {},
   "outputs": [],
   "source": [
    "%timeit np.median(y)"
   ]
  },
  {
   "cell_type": "code",
   "execution_count": null,
   "id": "28bdabec",
   "metadata": {},
   "outputs": [],
   "source": [
    "x.strides, y.strides"
   ]
  },
  {
   "cell_type": "markdown",
   "id": "7659a010",
   "metadata": {},
   "source": [
    "::: {note}\n",
    "\n",
    "** Are smaller strides faster**\n",
    "\n",
    "::: {image} cpu-cacheline.png\n",
    ":::\n",
    "\n",
    "- CPU pulls data from main memory to its cache in blocks\n",
    "- If many array items consecutively operated on fit in a single block (small stride):\n",
    "\n",
    "  - $\\Rightarrow$ fewer transfers needed\n",
    "  - $\\Rightarrow$ faster\n",
    "\n",
    ":::\n",
    "\n",
    ":::{admonition} See also\n",
    "\n",
    "- [numexpr](https://numexpr.readthedocs.io/projects/NumExpr3/en/latest/) is designed to mitigate\n",
    "  cache effects when evaluating array expressions.\n",
    "- [numba](https://numba.pydata.org/) is a compiler for Python code,\n",
    "  that is aware of numpy arrays.\n",
    "  :::\n",
    "\n",
    "### Findings in dissection\n",
    "\n",
    "::: {image} threefundamental.png\n",
    ":::\n",
    "\n",
    "- _memory block_: may be shared, `.base`, `.data`\n",
    "- _data type descriptor_: structured data, sub-arrays, byte order,\n",
    "  casting, viewing, `.astype()`, `.view()`\n",
    "- _strided indexing_: strides, C/F-order, slicing w/ integers,\n",
    "  `as_strided`, broadcasting, stride tricks, `diag`, CPU cache\n",
    "  coherence\n",
    "\n",
    "## Universal functions\n",
    "\n",
    "### What are they?\n",
    "\n",
    "- Ufunc performs an elementwise operation on all elements of an array.\n",
    "\n",
    "  Examples: `np.add, np.subtract, scipy.special.*,` ...\n",
    "\n",
    "- Automatically support: broadcasting, casting, ...\n",
    "- The author of an ufunc only has to supply the elementwise operation,\n",
    "  NumPy takes care of the rest.\n",
    "- The elementwise operation needs to be implemented in C (or, e.g., Cython)\n",
    "\n",
    "#### Parts of an Ufunc\n",
    "\n",
    "**Part 1: provided by user**\n",
    "\n",
    "```c\n",
    "void ufunc_loop(void **args, int *dimensions, int *steps, void *data)\n",
    "{\n",
    "    /*\n",
    "    * int8 output = elementwise_function(int8 input_1, int8 input_2)\n",
    "    *\n",
    "    * This function must compute the ufunc for many values at once,\n",
    "    * in the way shown below.\n",
    "    */\n",
    "    char *input_1 = (char*)args[0];\n",
    "    char *input_2 = (char*)args[1];\n",
    "    char *output = (char*)args[2];\n",
    "    int i;\n",
    "\n",
    "    for (i = 0; i < dimensions[0]; ++i) {\n",
    "        *output = elementwise_function(*input_1, *input_2);\n",
    "        input_1 += steps[0];\n",
    "        input_2 += steps[1];\n",
    "        output += steps[2];\n",
    "    }\n",
    "}\n",
    "```\n",
    "\n",
    "**Part 2. The NumPy part, built by**\n",
    "\n",
    "```c\n",
    "char types[3]\n",
    "\n",
    "types[0] = NPY_BYTE   /* type of first input arg */\n",
    "types[1] = NPY_BYTE   /* type of second input arg */\n",
    "types[2] = NPY_BYTE   /* type of third input arg */\n",
    "\n",
    "PyObject *python_ufunc = PyUFunc_FromFuncAndData(\n",
    "    ufunc_loop,\n",
    "    NULL,\n",
    "    types,\n",
    "    1, /* ntypes */\n",
    "    2, /* num_inputs */\n",
    "    1, /* num_outputs */\n",
    "    identity_element,\n",
    "    name,\n",
    "    docstring,\n",
    "    unused)\n",
    "```\n",
    "\n",
    "A ufunc can also support multiple different input-output type combinations.\n",
    "\n",
    "#### Making it easier\n",
    "\n",
    "`ufunc_loop` is of very generic form, and NumPy provides pre-made ones\n",
    "\n",
    "|                |                                                                          |\n",
    "| -------------- | ------------------------------------------------------------------------ |\n",
    "| `PyUfunc_f_f`  | `float elementwise_func(float input_1)`                                  |\n",
    "| `PyUfunc_ff_f` | `float elementwise_func(float input_1, float input_2)`                   |\n",
    "| `PyUfunc_d_d`  | `double elementwise_func(double input_1)`                                |\n",
    "| `PyUfunc_dd_d` | `double elementwise_func(double input_1, double input_2)`                |\n",
    "| `PyUfunc_D_D`  | `elementwise_func(npy_cdouble *input, npy_cdouble* output)`              |\n",
    "| `PyUfunc_DD_D` | `elementwise_func(npy_cdouble *in1, npy_cdouble *in2, npy_cdouble* out)` |\n",
    "\n",
    "- Only `elementwise_func` needs to be supplied\n",
    "- ... except when your elementwise function is not in one of the above forms\n",
    "\n",
    "### Exercise: building an ufunc from scratch\n",
    "\n",
    "::: {exercise-start}\n",
    ":label: mandelbrot-ufunc\n",
    ":class: dropdown\n",
    ":::"
   ]
  },
  {
   "cell_type": "markdown",
   "id": "c9377ed3",
   "metadata": {},
   "source": [
    "The Mandelbrot fractal is defined by the iteration\n",
    "\n",
    "$$\n",
    "z \\leftarrow z^2 + c\n",
    "$$\n",
    "\n",
    "where $c = x + i y$ is a complex number. This iteration is\n",
    "repeated -- if $z$ stays finite no matter how long the iteration\n",
    "runs, $c$ belongs to the Mandelbrot set.\n",
    "\n",
    "First — make a ufunc called `mandel(z0, c)` that computes:\n",
    "\n",
    "```python\n",
    "z = z0\n",
    "for k in range(iterations):\n",
    "    z = z*z + c\n",
    "```\n",
    "\n",
    "Run for, say, 100 iterations or until `z.real**2 + z.imag**2 > 1000`.\n",
    "Use it to determine which `c` are in the Mandelbrot set.\n",
    "\n",
    "Our function is a simple one, so make use of the `PyUFunc_*` helpers.\n",
    "\n",
    "Write it in Cython\n",
    "\n",
    ":::{admonition} See also\n",
    "\n",
    "mandel.pyx, mandelplot.py\n",
    ":::\n",
    "\n",
    ":::{only} latex\n",
    "\n",
    "```{literalinclude} examples/mandel.pyx\n",
    "\n",
    "```\n",
    "\n",
    ":::\n",
    "\n",
    "**Reminder**: some pre-made Ufunc loops:\n",
    "\n",
    "|                |                                                                                   |\n",
    "| -------------- | --------------------------------------------------------------------------------- |\n",
    "| `PyUfunc_f_f`  | `float elementwise_func(float input_1)`                                           |\n",
    "| `PyUfunc_ff_f` | `float elementwise_func(float input_1, float input_2)`                            |\n",
    "| `PyUfunc_d_d`  | `double elementwise_func(double input_1)`                                         |\n",
    "| `PyUfunc_dd_d` | `double elementwise_func(double input_1, double input_2)`                         |\n",
    "| `PyUfunc_D_D`  | `elementwise_func(complex_double *input, complex_double* output)`                 |\n",
    "| `PyUfunc_DD_D` | `elementwise_func(complex_double *in1, complex_double *in2, complex_double* out)` |\n",
    "\n",
    "Type codes:\n",
    "\n",
    "```\n",
    "NPY_BOOL, NPY_BYTE, NPY_UBYTE, NPY_SHORT, NPY_USHORT, NPY_INT, NPY_UINT,\n",
    "NPY_LONG, NPY_ULONG, NPY_LONGLONG, NPY_ULONGLONG, NPY_FLOAT, NPY_DOUBLE,\n",
    "NPY_LONGDOUBLE, NPY_CFLOAT, NPY_CDOUBLE, NPY_CLONGDOUBLE, NPY_DATETIME,\n",
    "NPY_TIMEDELTA, NPY_OBJECT, NPY_STRING, NPY_UNICODE, NPY_VOID\n",
    "```\n",
    "\n",
    "::: {exercise-end}\n",
    ":::\n",
    "\n",
    "::: {solution-start} mandelbrot-ufunc\n",
    ":class: dropdown\n",
    ":::\n",
    "\n",
    "```{literalinclude} examples/mandel-answer.pyx\n",
    ":language: python\n",
    "```\n",
    "\n",
    "```{literalinclude} examples/mandelplot.py\n",
    ":language: python\n",
    "```\n",
    "\n",
    "::: {image} mandelbrot.png\n",
    ":::\n",
    "\n",
    ":::{note}\n",
    "\n",
    "Most of the boilerplate could be automated by these Cython modules:\n",
    "\n",
    "<https://github.com/cython/cython/wiki/MarkLodato-CreatingUfuncs>\n",
    "\n",
    ":::\n",
    "\n",
    "**Several accepted input types**\n",
    "\n",
    "E.g. supporting both single- and double-precision versions\n",
    "\n",
    "```cython\n",
    "cdef void mandel_single_point(double complex *z_in,\n",
    "                              double complex *c_in,\n",
    "                              double complex *z_out) nogil:\n",
    "   ...\n",
    "\n",
    "cdef void mandel_single_point_singleprec(float complex *z_in,\n",
    "                                         float complex *c_in,\n",
    "                                         float complex *z_out) nogil:\n",
    "   ...\n",
    "\n",
    "cdef PyUFuncGenericFunction loop_funcs[2]\n",
    "cdef char input_output_types[3*2]\n",
    "cdef void *elementwise_funcs[1*2]\n",
    "\n",
    "loop_funcs[0] = PyUFunc_DD_D\n",
    "input_output_types[0] = NPY_CDOUBLE\n",
    "input_output_types[1] = NPY_CDOUBLE\n",
    "input_output_types[2] = NPY_CDOUBLE\n",
    "elementwise_funcs[0] = <void*>mandel_single_point\n",
    "\n",
    "loop_funcs[1] = PyUFunc_FF_F\n",
    "input_output_types[3] = NPY_CFLOAT\n",
    "input_output_types[4] = NPY_CFLOAT\n",
    "input_output_types[5] = NPY_CFLOAT\n",
    "elementwise_funcs[1] = <void*>mandel_single_point_singleprec\n",
    "\n",
    "mandel = PyUFunc_FromFuncAndData(\n",
    "    loop_func,\n",
    "    elementwise_funcs,\n",
    "    input_output_types,\n",
    "    2, # number of supported input types   <----------------\n",
    "    2, # number of input args\n",
    "    1, # number of output args\n",
    "    0, # `identity` element, never mind this\n",
    "    \"mandel\", # function name\n",
    "    \"mandel(z, c) -> computes iterated z*z + c\", # docstring\n",
    "    0 # unused\n",
    "    )\n",
    "```\n",
    "\n",
    "::: {solution-end}\n",
    ":::\n",
    "\n",
    "### Generalized ufuncs\n",
    "\n",
    "**ufunc**\n",
    "\n",
    "`output = elementwise_function(input)`\n",
    "\n",
    "Both `output` and `input` can be a single array element only.\n",
    "\n",
    "**generalized ufunc**\n",
    "\n",
    "`output` and `input` can be arrays with a fixed number of dimensions\n",
    "\n",
    "For example, matrix trace (sum of diag elements):\n",
    "\n",
    "```text\n",
    "input shape = (n, n)\n",
    "output shape = ()    #  i.e.  scalar\n",
    "\n",
    "(n, n) -> ()\n",
    "```\n",
    "\n",
    "Matrix product:\n",
    "\n",
    "```text\n",
    "input_1 shape = (m, n)\n",
    "input_2 shape = (n, p)\n",
    "output shape  = (m, p)\n",
    "\n",
    "(m, n), (n, p) -> (m, p)\n",
    "```\n",
    "\n",
    "- This is called the _\"signature\"_ of the generalized ufunc\n",
    "- The dimensions on which the g-ufunc acts, are _\"core dimensions\"_\n",
    "\n",
    "**Status in NumPy**\n",
    "\n",
    "- g-ufuncs are in NumPy already ...\n",
    "- new ones can be created with `PyUFunc_FromFuncAndDataAndSignature`\n",
    "- most linear-algebra functions are implemented as g-ufuncs to enable working\n",
    "  with stacked arrays:"
   ]
  },
  {
   "cell_type": "code",
   "execution_count": null,
   "id": "98a0dded",
   "metadata": {},
   "outputs": [],
   "source": [
    "import numpy as np\n",
    "rng = np.random.default_rng(27446968)\n",
    "np.linalg.det(rng.random((3, 5, 5)))"
   ]
  },
  {
   "cell_type": "code",
   "execution_count": null,
   "id": "88b460e5",
   "metadata": {},
   "outputs": [],
   "source": [
    "np.linalg._umath_linalg.det.signature"
   ]
  },
  {
   "cell_type": "markdown",
   "id": "77c54593",
   "metadata": {},
   "source": [
    "- matrix multiplication this way could be useful for operating on\n",
    "  many small matrices at once\n",
    "- Also see `tensordot` and `einsum`\n",
    "\n",
    "<!---\n",
    "\n",
    "The below gufunc examples were from `np.core.umath_tests`,\n",
    "which is now deprecated. We need another source of example\n",
    "gufuncs.  See the discussion at:\n",
    "\n",
    "https://mail.python.org/archives/list/numpy-discussion@python.org/thread/ZG7AUSPYYUNSPQU3YUZS2XCFD7AT3BJP/\n",
    "\n",
    "import numpy.core.umath_tests as ut\n",
    "ut.matrix_multiply.signature\n",
    "\n",
    "'(m,n),(n,p)->(m,p)'\n",
    "\n",
    "x = np.ones((10, 2, 4))\n",
    "y = np.ones((10, 4, 5))\n",
    "ut.matrix_multiply(x, y).shape\n",
    "\n",
    "(10, 2, 5)\n",
    "\n",
    "* in both examples the last two dimensions became *core dimensions*,\n",
    "and are modified as per the *signature*\n",
    "* otherwise, the g-ufunc operates \"elementwise\"\n",
    "\n",
    "-->\n",
    "\n",
    "**Generalized ufunc loop**\n",
    "\n",
    "Matrix multiplication `(m,n),(n,p) -> (m,p)`\n",
    "\n",
    "```c\n",
    "void gufunc_loop(void **args, int *dimensions, int *steps, void *data)\n",
    "{\n",
    "    char *input_1 = (char*)args[0];  /* these are as previously */\n",
    "    char *input_2 = (char*)args[1];\n",
    "    char *output = (char*)args[2];\n",
    "\n",
    "    int input_1_stride_m = steps[3];  /* strides for the core dimensions */\n",
    "    int input_1_stride_n = steps[4];  /* are added after the non-core */\n",
    "    int input_2_strides_n = steps[5]; /* steps */\n",
    "    int input_2_strides_p = steps[6];\n",
    "    int output_strides_n = steps[7];\n",
    "    int output_strides_p = steps[8];\n",
    "\n",
    "    int m = dimension[1]; /* core dimensions are added after */\n",
    "    int n = dimension[2]; /* the main dimension; order as in */\n",
    "    int p = dimension[3]; /* signature */\n",
    "\n",
    "    int i;\n",
    "\n",
    "    for (i = 0; i < dimensions[0]; ++i) {\n",
    "        matmul_for_strided_matrices(input_1, input_2, output,\n",
    "                                    strides for each array...);\n",
    "\n",
    "        input_1 += steps[0];\n",
    "        input_2 += steps[1];\n",
    "        output += steps[2];\n",
    "    }\n",
    "}\n",
    "```\n",
    "\n",
    "## Interoperability features\n",
    "\n",
    "### Sharing multidimensional, typed data\n",
    "\n",
    "Suppose you\n",
    "\n",
    "1. Write a library than handles (multidimensional) binary data,\n",
    "2. Want to make it easy to manipulate the data with NumPy, or whatever\n",
    "   other library,\n",
    "3. ... but would **not** like to have NumPy as a dependency.\n",
    "\n",
    "Currently, 3 solutions:\n",
    "\n",
    "1. the \"old\" buffer interface\n",
    "2. the array interface\n",
    "3. the \"new\" buffer interface ({pep}`3118`)\n",
    "\n",
    "### The old buffer protocol\n",
    "\n",
    "- Only 1-D buffers\n",
    "- No data type information\n",
    "- C-level interface; `PyBufferProcs tp_as_buffer` in the type object\n",
    "- But it's integrated into Python (e.g. strings support it)\n",
    "\n",
    "Mini-exercise using [Pillow](https://python-pillow.org/) (Python\n",
    "Imaging Library):\n",
    "\n",
    ":::{admonition} See also\n",
    "\n",
    "pilbuffer.py\n",
    ":::\n",
    "\n",
    "::: {exercise-start}\n",
    ":label: pil-buffer\n",
    ":class: dropdown\n",
    ":::"
   ]
  },
  {
   "cell_type": "code",
   "execution_count": null,
   "id": "147331fe",
   "metadata": {},
   "outputs": [],
   "source": [
    "from PIL import Image\n",
    "data = np.zeros((200, 200, 4), dtype=np.uint8)\n",
    "data[:, :] = [255, 0, 0, 255] # Red\n",
    "# In PIL, RGBA images consist of 32-bit integers whose bytes are [RR,GG,BB,AA]\n",
    "data = data.view(np.int32).squeeze()\n",
    "img = Image.frombuffer(\"RGBA\", (200, 200), data, \"raw\", \"RGBA\", 0, 1)\n",
    "img.save('test.png')"
   ]
  },
  {
   "cell_type": "markdown",
   "id": "fa08d840",
   "metadata": {},
   "source": [
    "**The question**\n",
    "\n",
    "What happens if `data` is now modified, and `img` saved again?\n",
    "\n",
    "::: {exercise-end}\n",
    ":::\n",
    "\n",
    "### The old buffer protocol\n",
    "\n",
    "Show how to exchange data between numpy and a library that only knows\n",
    "the buffer interface:"
   ]
  },
  {
   "cell_type": "code",
   "execution_count": null,
   "id": "3f250cb8",
   "metadata": {},
   "outputs": [],
   "source": [
    "# Make a sample image, RGBA format\n",
    "x = np.zeros((200, 200, 4), dtype=np.uint8)\n",
    "x[:, :, 0] = 255  # red\n",
    "x[:, :, 3] = 255  # opaque\n",
    "\n",
    "data_i32 = x.view(np.int32)  # Check that you understand why this is OK!\n",
    "\n",
    "img = Image.frombuffer(\"RGBA\", (200, 200), data_i32)\n",
    "img.save(\"test_red.png\")\n",
    "\n",
    "# Modify the original data, and save again.\n",
    "x[:, :, 1] = 255\n",
    "img.save(\"test_recolored.png\")"
   ]
  },
  {
   "cell_type": "markdown",
   "id": "077e494d",
   "metadata": {},
   "source": [
    "::: {image} test_red.png\n",
    ":::\n",
    "\n",
    "::: {image} test_recolored.png\n",
    ":::\n",
    "\n",
    "### Array interface protocol\n",
    "\n",
    "- Multidimensional buffers\n",
    "- Data type information present\n",
    "- NumPy-specific approach; slowly deprecated (but not going away)\n",
    "- Not integrated in Python otherwise\n",
    "\n",
    ":::{admonition} See also\n",
    "\n",
    "Documentation:\n",
    "<https://numpy.org/doc/stable/reference/arrays.interface.html>\n",
    ":::"
   ]
  },
  {
   "cell_type": "code",
   "execution_count": null,
   "id": "802a67bb",
   "metadata": {},
   "outputs": [],
   "source": [
    "x = np.array([[1, 2], [3, 4]])\n",
    "x.__array_interface__"
   ]
  },
  {
   "cell_type": "code",
   "execution_count": null,
   "id": "fe3d9e94",
   "metadata": {
    "tags": [
     "hide-input"
    ]
   },
   "outputs": [],
   "source": [
    "import matplotlib\n",
    "matplotlib.use('Agg')\n",
    "import matplotlib.pyplot as plt\n",
    "import os\n",
    "if not os.path.exists('data'): os.mkdir('data')\n",
    "plt.imsave('data/test.png', data)"
   ]
  },
  {
   "cell_type": "code",
   "execution_count": null,
   "id": "0b6275fb",
   "metadata": {},
   "outputs": [],
   "source": [
    "from PIL import Image\n",
    "img = Image.open('data/test.png')\n",
    "img.__array_interface__"
   ]
  },
  {
   "cell_type": "code",
   "execution_count": null,
   "id": "82028513",
   "metadata": {},
   "outputs": [],
   "source": [
    "x = np.asarray(img)\n",
    "x.shape"
   ]
  },
  {
   "cell_type": "markdown",
   "id": "2fc3ad07",
   "metadata": {},
   "source": [
    ":::{note}\n",
    "\n",
    "A more C-friendly variant of the array interface is also defined.\n",
    "\n",
    ":::\n",
    "\n",
    "(array-siblings)=\n",
    "\n",
    "## Array siblings: {class}`chararray`, {class}`MaskedArray`\n",
    "\n",
    "### {class}`chararray <numpy.char.chararray>`: vectorized string operations"
   ]
  },
  {
   "cell_type": "code",
   "execution_count": null,
   "id": "fa33974e",
   "metadata": {},
   "outputs": [],
   "source": [
    "x = np.char.asarray(['a', '  bbb', '  ccc'])\n",
    "x"
   ]
  },
  {
   "cell_type": "code",
   "execution_count": null,
   "id": "c9bb09b9",
   "metadata": {},
   "outputs": [],
   "source": [
    "x.upper()"
   ]
  },
  {
   "cell_type": "markdown",
   "id": "40326207",
   "metadata": {},
   "source": [
    "### {class}`MaskedArray <numpy.ma.MaskedArray>` missing data\n",
    "\n",
    "Masked arrays are arrays that may have missing or invalid entries.\n",
    "\n",
    "For example, suppose we have an array where the fourth entry is invalid:"
   ]
  },
  {
   "cell_type": "code",
   "execution_count": null,
   "id": "55eca4f0",
   "metadata": {},
   "outputs": [],
   "source": [
    "x = np.array([1, 2, 3, -99, 5])"
   ]
  },
  {
   "cell_type": "markdown",
   "id": "c655f5e3",
   "metadata": {},
   "source": [
    "One way to describe this is to create a masked array:"
   ]
  },
  {
   "cell_type": "code",
   "execution_count": null,
   "id": "85b9480b",
   "metadata": {},
   "outputs": [],
   "source": [
    "mx = np.ma.MaskedArray(x, mask=[0, 0, 0, 1, 0])\n",
    "mx"
   ]
  },
  {
   "cell_type": "markdown",
   "id": "30281aaa",
   "metadata": {},
   "source": [
    "Masked mean ignores masked data:"
   ]
  },
  {
   "cell_type": "code",
   "execution_count": null,
   "id": "bde7d63e",
   "metadata": {},
   "outputs": [],
   "source": [
    "mx.mean()"
   ]
  },
  {
   "cell_type": "code",
   "execution_count": null,
   "id": "dafd4387",
   "metadata": {},
   "outputs": [],
   "source": [
    "np.mean(mx)"
   ]
  },
  {
   "cell_type": "markdown",
   "id": "565e7d65",
   "metadata": {},
   "source": [
    ":::{warning}\n",
    "Not all NumPy functions respect masks, for instance\n",
    "`np.dot`, so check the return types.\n",
    ":::\n",
    "\n",
    "The `MaskedArray` returns a **view** to the original array:"
   ]
  },
  {
   "cell_type": "code",
   "execution_count": null,
   "id": "2541bb69",
   "metadata": {},
   "outputs": [],
   "source": [
    "mx[1] = 9\n",
    "x"
   ]
  },
  {
   "cell_type": "markdown",
   "id": "cf8968cb",
   "metadata": {},
   "source": [
    "#### The mask\n",
    "\n",
    "You can modify the mask by assigning:"
   ]
  },
  {
   "cell_type": "code",
   "execution_count": null,
   "id": "8e565476",
   "metadata": {},
   "outputs": [],
   "source": [
    "mx[1] = np.ma.masked\n",
    "mx"
   ]
  },
  {
   "cell_type": "markdown",
   "id": "b702a605",
   "metadata": {},
   "source": [
    "The mask is cleared on assignment:"
   ]
  },
  {
   "cell_type": "code",
   "execution_count": null,
   "id": "07436c64",
   "metadata": {},
   "outputs": [],
   "source": [
    "mx[1] = 9\n",
    "mx"
   ]
  },
  {
   "cell_type": "markdown",
   "id": "29335a4e",
   "metadata": {},
   "source": [
    "The mask is also available directly:"
   ]
  },
  {
   "cell_type": "code",
   "execution_count": null,
   "id": "329ebcb3",
   "metadata": {},
   "outputs": [],
   "source": [
    "mx.mask"
   ]
  },
  {
   "cell_type": "markdown",
   "id": "e448a3c5",
   "metadata": {},
   "source": [
    "The masked entries can be filled with a given value to get an usual\n",
    "array back:"
   ]
  },
  {
   "cell_type": "code",
   "execution_count": null,
   "id": "e3da27a3",
   "metadata": {},
   "outputs": [],
   "source": [
    "x2 = mx.filled(-1)\n",
    "x2"
   ]
  },
  {
   "cell_type": "markdown",
   "id": "f75f3581",
   "metadata": {},
   "source": [
    "The mask can also be cleared:"
   ]
  },
  {
   "cell_type": "code",
   "execution_count": null,
   "id": "40c4aa3b",
   "metadata": {},
   "outputs": [],
   "source": [
    "mx.mask = np.ma.nomask\n",
    "mx"
   ]
  },
  {
   "cell_type": "markdown",
   "id": "09e2b99a",
   "metadata": {},
   "source": [
    "#### Domain-aware functions\n",
    "\n",
    "The masked array package also contains domain-aware functions:"
   ]
  },
  {
   "cell_type": "code",
   "execution_count": null,
   "id": "16a296f3",
   "metadata": {},
   "outputs": [],
   "source": [
    "np.ma.log(np.array([1, 2, -1, -2, 3, -5]))"
   ]
  },
  {
   "cell_type": "markdown",
   "id": "02e36445",
   "metadata": {},
   "source": [
    ":::{note}\n",
    "\n",
    "Streamlined and more seamless support for dealing with missing data\n",
    "in arrays is making its way into NumPy 1.7. Stay tuned!\n",
    "\n",
    ":::\n",
    "\n",
    "**Example: Masked statistics**\n",
    "\n",
    "Canadian rangers were distracted when counting hares and lynxes in\n",
    "1903-1910 and 1917-1918, and got the numbers are wrong. (Carrot\n",
    "farmers stayed alert, though.) Compute the mean populations over\n",
    "time, ignoring the invalid numbers."
   ]
  },
  {
   "cell_type": "code",
   "execution_count": null,
   "id": "62a1a9ee",
   "metadata": {},
   "outputs": [],
   "source": [
    "data = np.loadtxt('data/populations.txt')\n",
    "populations = np.ma.MaskedArray(data[:,1:])\n",
    "year = data[:, 0]"
   ]
  },
  {
   "cell_type": "code",
   "execution_count": null,
   "id": "4b116a7b",
   "metadata": {},
   "outputs": [],
   "source": [
    "bad_years = (((year >= 1903) & (year <= 1910))\n",
    "           | ((year >= 1917) & (year <= 1918)))\n",
    "# '&' means 'and' and '|' means 'or'\n",
    "populations[bad_years, 0] = np.ma.masked\n",
    "populations[bad_years, 1] = np.ma.masked"
   ]
  },
  {
   "cell_type": "code",
   "execution_count": null,
   "id": "b450b7fc",
   "metadata": {},
   "outputs": [],
   "source": [
    "populations.mean(axis=0)"
   ]
  },
  {
   "cell_type": "code",
   "execution_count": null,
   "id": "b52eb258",
   "metadata": {},
   "outputs": [],
   "source": [
    "populations.std(axis=0)"
   ]
  },
  {
   "cell_type": "markdown",
   "id": "759170ae",
   "metadata": {},
   "source": [
    "Note that Matplotlib knows about masked arrays:"
   ]
  },
  {
   "cell_type": "code",
   "execution_count": null,
   "id": "c4d843ae",
   "metadata": {},
   "outputs": [],
   "source": [
    "plt.plot(year, populations, 'o-')"
   ]
  },
  {
   "cell_type": "markdown",
   "id": "53dd2fc9",
   "metadata": {},
   "source": [
    "### `np.recarray`: purely convenience"
   ]
  },
  {
   "cell_type": "code",
   "execution_count": null,
   "id": "7d4096ef",
   "metadata": {},
   "outputs": [],
   "source": [
    "arr = np.array([('a', 1), ('b', 2)], dtype=[('x', 'S1'), ('y', int)])\n",
    "arr2 = arr.view(np.recarray)\n",
    "arr2.x"
   ]
  },
  {
   "cell_type": "code",
   "execution_count": null,
   "id": "307b1ea0",
   "metadata": {},
   "outputs": [],
   "source": [
    "arr2.y"
   ]
  },
  {
   "cell_type": "markdown",
   "id": "2f3b6dc2",
   "metadata": {},
   "source": [
    "## Summary\n",
    "\n",
    "- Anatomy of the ndarray: data, dtype, strides.\n",
    "- Universal functions: elementwise operations, how to make new ones\n",
    "- Ndarray subclasses\n",
    "- Various buffer interfaces for integration with other tools\n",
    "- Recent additions: PEP 3118, generalized ufuncs\n",
    "\n",
    "## Contributing to NumPy/SciPy\n",
    "\n",
    "Get this tutorial: <https://www.euroscipy.org/talk/882>\n",
    "\n",
    "### Why\n",
    "\n",
    "- \"There's a bug?\"\n",
    "- \"I don't understand what this is supposed to do?\"\n",
    "- \"I have this fancy code. Would you like to have it?\"\n",
    "- \"I'd like to help! What can I do?\"\n",
    "\n",
    "### Reporting bugs\n",
    "\n",
    "- Bug tracker (prefer **this**)\n",
    "\n",
    "  - <https://github.com/numpy/numpy/issues>\n",
    "  - <https://github.com/scipy/scipy/issues>\n",
    "  - Click the \"Sign up\" link to get an account\n",
    "\n",
    "- Mailing lists (<https://numpy.org/community/>)\n",
    "\n",
    "  - If you're unsure\n",
    "  - No replies in a week or so? Just file a bug ticket.\n",
    "\n",
    "#### Good bug report\n",
    "\n",
    "```text\n",
    "Title: numpy.random.permutations fails for non-integer arguments\n",
    "\n",
    "I'm trying to generate random permutations, using numpy.random.permutations\n",
    "\n",
    "When calling numpy.random.permutation with non-integer arguments\n",
    "it fails with a cryptic error message::\n",
    "\n",
    "    >>> rng.permutation(12)\n",
    "    array([ 2,  6,  4,  1,  8, 11, 10,  5,  9,  3,  7,  0])\n",
    "    >>> rng.permutation(12.)\n",
    "    Traceback (most recent call last):\n",
    "    File \"<stdin>\", line 1, in <module>\n",
    "    File \"_generator.pyx\", line 4844, in numpy.random._generator.Generator.permutation\n",
    "    numpy.exceptions.AxisError: axis 0 is out of bounds for array of dimension 0\n",
    "\n",
    "This also happens with long arguments, and so\n",
    "np.random.permutation(X.shape[0]) where X is an array fails on 64\n",
    "bit windows (where shape is a tuple of longs).\n",
    "\n",
    "It would be great if it could cast to integer or at least raise a\n",
    "proper error for non-integer types.\n",
    "\n",
    "I'm using NumPy 1.4.1, built from the official tarball, on Windows\n",
    "64 with Visual studio 2008, on Python.org 64-bit Python.\n",
    "```\n",
    "\n",
    "0. What are you trying to do?\n",
    "1. **Small code snippet reproducing the bug** (if possible)\n",
    "\n",
    "   - What actually happens\n",
    "   - What you'd expect\n",
    "\n",
    "2. Platform (Windows / Linux / OSX, 32/64 bits, x86/PPC, ...)\n",
    "3. Version of NumPy/SciPy"
   ]
  },
  {
   "cell_type": "code",
   "execution_count": null,
   "id": "414f2210",
   "metadata": {},
   "outputs": [],
   "source": [
    "print(np.__version__)"
   ]
  },
  {
   "cell_type": "markdown",
   "id": "4cf6f5f5",
   "metadata": {},
   "source": [
    "**Check that the following is what you expect**"
   ]
  },
  {
   "cell_type": "code",
   "execution_count": null,
   "id": "47a202dc",
   "metadata": {},
   "outputs": [],
   "source": [
    "print(np.__file__)"
   ]
  },
  {
   "cell_type": "markdown",
   "id": "1c5a15f9",
   "metadata": {},
   "source": [
    "In case you have old/broken NumPy installations lying around.\n",
    "\n",
    "If unsure, try to remove existing NumPy installations, and reinstall...\n",
    "\n",
    "### Contributing to documentation\n",
    "\n",
    "1. Documentation editor\n",
    "\n",
    "   - <https://numpy.org/doc/stable/>\n",
    "\n",
    "   - Registration\n",
    "\n",
    "     - Register an account\n",
    "\n",
    "     - Subscribe to `scipy-dev` mailing list (subscribers-only)\n",
    "\n",
    "     - Problem with mailing lists: you get mail\n",
    "\n",
    "       - But: **you can turn mail delivery off**\n",
    "\n",
    "       - \"change your subscription options\", at the bottom of\n",
    "\n",
    "         <https://mail.python.org/mailman3/lists/scipy-dev.python.org/>\n",
    "\n",
    "     - Send a mail @ `scipy-dev` mailing list; ask for activation:\n",
    "\n",
    "       ```text\n",
    "       To: scipy-dev@scipy.org\n",
    "\n",
    "       Hi,\n",
    "\n",
    "       I'd like to edit NumPy/SciPy docstrings. My account is XXXXX\n",
    "\n",
    "       Cheers,\n",
    "       N. N.\n",
    "       ```\n",
    "\n",
    "   - Check the style guide:\n",
    "\n",
    "     - <https://numpy.org/doc/stable/>\n",
    "     - Don't be intimidated; to fix a small thing, just fix it\n",
    "\n",
    "   - Edit\n",
    "\n",
    "2. Edit sources and send patches (as for bugs)\n",
    "\n",
    "3. Complain on the mailing list\n",
    "\n",
    "### Contributing features\n",
    "\n",
    "The contribution of features is documented on <https://numpy.org/doc/stable/dev/>\n",
    "\n",
    "### How to help, in general\n",
    "\n",
    "- Bug fixes always welcome!\n",
    "\n",
    "  - What irks you most\n",
    "  - Browse the tracker\n",
    "\n",
    "- Documentation work\n",
    "\n",
    "  - API docs: improvements to docstrings\n",
    "\n",
    "    - Know some SciPy module well?\n",
    "\n",
    "  - _User guide_\n",
    "\n",
    "    - <https://numpy.org/doc/stable/user/>\n",
    "\n",
    "- Ask on communication channels:\n",
    "\n",
    "  - `numpy-discussion` list\n",
    "  - `scipy-dev` list"
   ]
  }
 ],
 "metadata": {
  "jupytext": {
   "text_representation": {
    "extension": ".md",
    "format_name": "myst",
    "format_version": 0.13,
    "jupytext_version": "1.18.0-dev"
   }
  },
  "kernelspec": {
   "display_name": "Python 3 (ipykernel)",
   "language": "python",
   "name": "python3"
  }
 },
 "nbformat": 4,
 "nbformat_minor": 5
}