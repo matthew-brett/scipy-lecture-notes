{
 "cells": [
  {
   "cell_type": "markdown",
   "id": "9b147284",
   "metadata": {},
   "source": [
    "(scipy)=\n",
    "\n",
    "# SciPy: high-level scientific computing\n",
    "\n",
    "**Authors**: _Gaël Varoquaux, Adrien Chauve, Andre Espaze, Emmanuelle Gouillart, Ralf Gommers_\n",
    "\n",
    ":::{admonition} Scipy\n",
    "The {mod}`scipy` package contains various toolboxes dedicated to common\n",
    "issues in scientific computing. Its different submodules correspond\n",
    "to different applications, such as interpolation, integration,\n",
    "optimization, image processing, statistics, special functions, etc.\n",
    ":::\n",
    "\n",
    "::: {note}\n",
    ":class: dropdown\n",
    "\n",
    "{mod}`scipy` can be compared to other standard scientific-computing\n",
    "libraries, such as the GSL (GNU Scientific Library for C and C++),\n",
    "or Matlab's toolboxes. `scipy` is the core package for scientific\n",
    "routines in Python; it is meant to operate efficiently on `numpy`\n",
    "arrays, so that NumPy and SciPy work hand in hand.\n",
    "\n",
    "Before implementing a routine, it is worth checking if the desired\n",
    "data processing is not already implemented in SciPy. As\n",
    "non-professional programmers, scientists often tend to **re-invent the\n",
    "wheel**, which leads to buggy, non-optimal, difficult-to-share and\n",
    "unmaintainable code. By contrast, `SciPy`'s routines are optimized\n",
    "and tested, and should therefore be used when possible.\n",
    ":::\n",
    "\n",
    ":::{warning}\n",
    "This tutorial is far from an introduction to numerical computing.\n",
    "As enumerating the different submodules and functions in SciPy would\n",
    "be very boring, we concentrate instead on a few examples to give a\n",
    "general idea of how to use `scipy` for scientific computing.\n",
    ":::\n",
    "\n",
    "{mod}`scipy` is composed of task-specific sub-modules:\n",
    "\n",
    "|                          |                                        |\n",
    "| ------------------------ | -------------------------------------- |\n",
    "| {mod}`scipy.cluster`     | Vector quantization / Kmeans           |\n",
    "| {mod}`scipy.constants`   | Physical and mathematical constants    |\n",
    "| {mod}`scipy.fft`         | Fourier transform                      |\n",
    "| {mod}`scipy.integrate`   | Integration routines                   |\n",
    "| {mod}`scipy.interpolate` | Interpolation                          |\n",
    "| {mod}`scipy.io`          | Data input and output                  |\n",
    "| {mod}`scipy.linalg`      | Linear algebra routines                |\n",
    "| {mod}`scipy.ndimage`     | n-dimensional image package            |\n",
    "| {mod}`scipy.odr`         | Orthogonal distance regression         |\n",
    "| {mod}`scipy.optimize`    | Optimization                           |\n",
    "| {mod}`scipy.signal`      | Signal processing                      |\n",
    "| {mod}`scipy.sparse`      | Sparse matrices                        |\n",
    "| {mod}`scipy.spatial`     | Spatial data structures and algorithms |\n",
    "| {mod}`scipy.special`     | Any special mathematical functions     |\n",
    "| {mod}`scipy.stats`       | Statistics                             |\n",
    "\n",
    "Scipy modules all depend on {mod}`numpy`, but are mostly independent of each\n",
    "other. The standard way of importing NumPy and these SciPy modules is:"
   ]
  },
  {
   "cell_type": "code",
   "execution_count": null,
   "id": "366db1ce",
   "metadata": {},
   "outputs": [],
   "source": [
    "import numpy as np\n",
    "import scipy as sp"
   ]
  },
  {
   "cell_type": "markdown",
   "id": "0359ae6c",
   "metadata": {},
   "source": [
    "We will also be using plotting for this tutorial."
   ]
  },
  {
   "cell_type": "code",
   "execution_count": null,
   "id": "50530179",
   "metadata": {},
   "outputs": [],
   "source": [
    "import matplotlib.pyplot as plt"
   ]
  },
  {
   "cell_type": "markdown",
   "id": "64cc46c5",
   "metadata": {},
   "source": [
    "## File input/output: {mod}`scipy.io`\n",
    "\n",
    "{mod}`scipy.io` contains functions for loading and saving data in\n",
    "several common formats including Matlab, IDL, Matrix Market, and\n",
    "Harwell-Boeing.\n",
    "\n",
    "**Matlab files**: Loading and saving:"
   ]
  },
  {
   "cell_type": "code",
   "execution_count": null,
   "id": "0b8e33b3",
   "metadata": {},
   "outputs": [],
   "source": [
    "a = np.ones((3, 3))\n",
    "sp.io.savemat('file.mat', {'a': a})  # savemat expects a dictionary\n",
    "data = sp.io.loadmat('file.mat')\n",
    "data['a']"
   ]
  },
  {
   "cell_type": "markdown",
   "id": "e6e7b7d6",
   "metadata": {},
   "source": [
    "**Warning — Python / Matlab mismatch**\n",
    "\n",
    "The Matlab file format does not support 1D arrays."
   ]
  },
  {
   "cell_type": "code",
   "execution_count": null,
   "id": "8908eee3",
   "metadata": {},
   "outputs": [],
   "source": [
    "a = np.ones(3)\n",
    "a"
   ]
  },
  {
   "cell_type": "code",
   "execution_count": null,
   "id": "766c7a98",
   "metadata": {},
   "outputs": [],
   "source": [
    "a.shape"
   ]
  },
  {
   "cell_type": "code",
   "execution_count": null,
   "id": "84e90b2d",
   "metadata": {},
   "outputs": [],
   "source": [
    "sp.io.savemat('file.mat', {'a': a})\n",
    "a2 = sp.io.loadmat('file.mat')['a']\n",
    "a2"
   ]
  },
  {
   "cell_type": "code",
   "execution_count": null,
   "id": "161ae6f2",
   "metadata": {},
   "outputs": [],
   "source": [
    "a2.shape"
   ]
  },
  {
   "cell_type": "markdown",
   "id": "9370fbe3",
   "metadata": {},
   "source": [
    "Notice that the original array was a one-dimensional array, whereas the\n",
    "saved and reloaded array is a two-dimensional array with a single row.\n",
    "\n",
    "For other formats, see the {mod}`scipy.io` documentation.\n",
    "\n",
    "**End of warning**\n",
    "\n",
    ":::{admonition} See also\n",
    "\n",
    "- Load text files: {func}`numpy.loadtxt`/{func}`numpy.savetxt`\n",
    "- Clever loading of text/csv files:\n",
    "  {func}`numpy.genfromtxt`\n",
    "- Fast and efficient, but NumPy-specific, binary format:\n",
    "  {func}`numpy.save`/{func}`numpy.load`\n",
    "- Basic input/output of images in Matplotlib:\n",
    "  {func}`matplotlib.pyplot.imread`/{func}`matplotlib.pyplot.imsave`\n",
    "- More advanced input/output of images: {mod}`imageio`\n",
    "  :::\n",
    "\n",
    "## Special functions: {mod}`scipy.special`\n",
    "\n",
    "\"Special\" functions are functions commonly used in science and mathematics that\n",
    "are not considered to be \"elementary\" functions. Examples include\n",
    "\n",
    "- the gamma function, {func}`scipy.special.gamma`,\n",
    "- the error function, {func}`scipy.special.erf`,\n",
    "- Bessel functions, such as {func}`scipy.special.jv`\n",
    "  (Bessel function of the first kind), and\n",
    "- elliptic functions, such as {func}`scipy.special.ellipj`\n",
    "  (Jacobi elliptic functions).\n",
    "\n",
    "Other special functions are combinations of familiar elementary functions,\n",
    "but they offer better accuracy or robustness than their naive implementations\n",
    "would.\n",
    "\n",
    "Most of these function are computed elementwise and follow standard\n",
    "NumPy broadcasting rules when the input arrays have different shapes.\n",
    "For example, {func}`scipy.special.xlog1py` is mathematically equivalent\n",
    "to $x\\log(1 + y)$."
   ]
  },
  {
   "cell_type": "code",
   "execution_count": null,
   "id": "f60f62cc",
   "metadata": {},
   "outputs": [],
   "source": [
    "x = np.asarray([1, 2])\n",
    "y = np.asarray([[3], [4], [5]])\n",
    "res = sp.special.xlog1py(x, y)\n",
    "res.shape"
   ]
  },
  {
   "cell_type": "code",
   "execution_count": null,
   "id": "74937b15",
   "metadata": {},
   "outputs": [],
   "source": [
    "ref = x * np.log(1 + y)\n",
    "np.allclose(res, ref)"
   ]
  },
  {
   "cell_type": "markdown",
   "id": "e21272c6",
   "metadata": {},
   "source": [
    "However, {func}`scipy.special.xlog1py` is numerically favorable for small $y$,\n",
    "when explicit addition of `1` would lead to loss of precision due to floating\n",
    "point truncation error."
   ]
  },
  {
   "cell_type": "code",
   "execution_count": null,
   "id": "8ba0029c",
   "metadata": {},
   "outputs": [],
   "source": [
    "x = 2.5\n",
    "y = 1e-18\n",
    "x * np.log(1 + y)"
   ]
  },
  {
   "cell_type": "code",
   "execution_count": null,
   "id": "b4481690",
   "metadata": {},
   "outputs": [],
   "source": [
    "sp.special.xlog1py(x, y)"
   ]
  },
  {
   "cell_type": "markdown",
   "id": "59502d13",
   "metadata": {},
   "source": [
    "Many special functions also have \"logarithmized\" variants. For instance,\n",
    "the gamma function $\\Gamma(\\cdot)$ is related to the factorial\n",
    "function by $n! = \\Gamma(n + 1)$, but it extends the domain from the\n",
    "positive integers to the complex plane."
   ]
  },
  {
   "cell_type": "code",
   "execution_count": null,
   "id": "3404b4df",
   "metadata": {},
   "outputs": [],
   "source": [
    "x = np.arange(10)\n",
    "np.allclose(sp.special.gamma(x + 1), sp.special.factorial(x))"
   ]
  },
  {
   "cell_type": "code",
   "execution_count": null,
   "id": "e97484d6",
   "metadata": {},
   "outputs": [],
   "source": [
    "sp.special.gamma(5) < sp.special.gamma(5.5) < sp.special.gamma(6)"
   ]
  },
  {
   "cell_type": "markdown",
   "id": "0c9c23de",
   "metadata": {},
   "source": [
    "The factorial function grows quickly, and so the gamma function overflows\n",
    "for moderate values of the argument. However, sometimes only the logarithm\n",
    "of the gamma function is needed. In such cases, we can compute the logarithm\n",
    "of the gamma function directly using {func}`scipy.special.gammaln`."
   ]
  },
  {
   "cell_type": "code",
   "execution_count": null,
   "id": "5845e0f6",
   "metadata": {},
   "outputs": [],
   "source": [
    "x = [5, 50, 500]\n",
    "np.log(sp.special.gamma(x))"
   ]
  },
  {
   "cell_type": "code",
   "execution_count": null,
   "id": "9b60b9e7",
   "metadata": {},
   "outputs": [],
   "source": [
    "sp.special.gammaln(x)"
   ]
  },
  {
   "cell_type": "markdown",
   "id": "0a2706d8",
   "metadata": {},
   "source": [
    "Such functions can often be used when the intermediate components of a\n",
    "calculation would overflow or underflow, but the final result would not.\n",
    "For example, suppose we wish to compute the ratio\n",
    "$\\Gamma(500)/\\Gamma(499)$."
   ]
  },
  {
   "cell_type": "code",
   "execution_count": null,
   "id": "ce29e1a3",
   "metadata": {},
   "outputs": [],
   "source": [
    "a = sp.special.gamma(500)\n",
    "b = sp.special.gamma(499)\n",
    "a, b"
   ]
  },
  {
   "cell_type": "markdown",
   "id": "02c76fe8",
   "metadata": {},
   "source": [
    "Both the numerator and denominator overflow, so performing $a / b$ will\n",
    "not return the result we seek. However, the magnitude of the result should\n",
    "be moderate, so the use of logarithms comes to mind. Combining the identities\n",
    "$\\log(a/b) = \\log(a) - \\log(b)$ and $\\exp(\\log(x)) = x$,\n",
    "we get:"
   ]
  },
  {
   "cell_type": "code",
   "execution_count": null,
   "id": "97130ae2",
   "metadata": {},
   "outputs": [],
   "source": [
    "log_a = sp.special.gammaln(500)\n",
    "log_b = sp.special.gammaln(499)\n",
    "log_res = log_a - log_b\n",
    "res = np.exp(log_res)\n",
    "res"
   ]
  },
  {
   "cell_type": "markdown",
   "id": "716329f9",
   "metadata": {},
   "source": [
    "Similarly, suppose we wish to compute the difference\n",
    "$\\log(\\Gamma(500) - \\Gamma(499))$. For this, we use\n",
    "{func}`scipy.special.logsumexp`, which computes\n",
    "$\\log(\\exp(x) + \\exp(y))$ using a numerical trick that avoids overflow."
   ]
  },
  {
   "cell_type": "code",
   "execution_count": null,
   "id": "976ca8bc",
   "metadata": {},
   "outputs": [],
   "source": [
    "res = sp.special.logsumexp([log_a, log_b],\n",
    "                            b=[1, -1])  # weights the terms of the sum\n",
    "res"
   ]
  },
  {
   "cell_type": "markdown",
   "id": "e33f011d",
   "metadata": {},
   "source": [
    "For more information about these and many other special functions, see\n",
    "the documentation of {mod}`scipy.special`."
   ]
  },
  {
   "cell_type": "markdown",
   "id": "ba5ba979",
   "metadata": {},
   "source": [
    "(scipy-linalg)=\n",
    "\n",
    "## Linear algebra operations: {mod}`scipy.linalg`\n",
    "\n",
    "{mod}`scipy.linalg` provides a Python interface to efficient, compiled\n",
    "implementations of standard linear algebra operations: the BLAS (Basic\n",
    "Linear Algebra Subroutines) and LAPACK (Linear Algebra PACKage) libraries.\n",
    "\n",
    "For example, the {func}`scipy.linalg.det` function computes the determinant\n",
    "of a square matrix:"
   ]
  },
  {
   "cell_type": "code",
   "execution_count": null,
   "id": "20041b63",
   "metadata": {},
   "outputs": [],
   "source": [
    "arr = np.array([[1, 2],\n",
    "                [3, 4]])\n",
    "sp.linalg.det(arr)"
   ]
  },
  {
   "cell_type": "markdown",
   "id": "4d254a12",
   "metadata": {},
   "source": [
    "Mathematically, the solution of a linear system $Ax = b$ is $x = A^{-1}b$,\n",
    "but explicit inversion of a matrix is numerically unstable and should be avoided.\n",
    "Instead, use {func}`scipy.linalg.solve`:"
   ]
  },
  {
   "cell_type": "code",
   "execution_count": null,
   "id": "de6f4b09",
   "metadata": {},
   "outputs": [],
   "source": [
    "A = np.array([[1, 2],\n",
    "              [2, 3]])\n",
    "b = np.array([14, 23])\n",
    "x = sp.linalg.solve(A, b)\n",
    "x"
   ]
  },
  {
   "cell_type": "code",
   "execution_count": null,
   "id": "984781a0",
   "metadata": {},
   "outputs": [],
   "source": [
    "np.allclose(A @ x, b)"
   ]
  },
  {
   "cell_type": "markdown",
   "id": "1142f003",
   "metadata": {},
   "source": [
    "Linear systems with special structure can often be solved more efficiently\n",
    "than more general systems. For example, systems with triangular matrices\n",
    "can be solved using {func}`scipy.linalg.solve_triangular`:"
   ]
  },
  {
   "cell_type": "code",
   "execution_count": null,
   "id": "f48f7fa8",
   "metadata": {},
   "outputs": [],
   "source": [
    "A_upper = np.triu(A)\n",
    "A_upper"
   ]
  },
  {
   "cell_type": "code",
   "execution_count": null,
   "id": "d4e07620",
   "metadata": {},
   "outputs": [],
   "source": [
    "np.allclose(sp.linalg.solve_triangular(A_upper, b, lower=False),\n",
    "            sp.linalg.solve(A_upper, b))"
   ]
  },
  {
   "cell_type": "markdown",
   "id": "5ff59457",
   "metadata": {},
   "source": [
    "{mod}`scipy.linalg` also features matrix factorizations/decompositions\n",
    "such as the singular value decomposition."
   ]
  },
  {
   "cell_type": "code",
   "execution_count": null,
   "id": "1bd796d6",
   "metadata": {},
   "outputs": [],
   "source": [
    "A = np.array([[1, 2],\n",
    "              [2, 3]])\n",
    "U, s, Vh = sp.linalg.svd(A)\n",
    "s  # singular values"
   ]
  },
  {
   "cell_type": "markdown",
   "id": "c032ef73",
   "metadata": {},
   "source": [
    "The original matrix can be recovered by matrix multiplication of the\n",
    "factors:"
   ]
  },
  {
   "cell_type": "code",
   "execution_count": null,
   "id": "7841f04b",
   "metadata": {},
   "outputs": [],
   "source": [
    "S = np.diag(s)  # convert to diagonal matrix before matrix multiplication\n",
    "A2 = U @ S @ Vh\n",
    "np.allclose(A2, A)"
   ]
  },
  {
   "cell_type": "code",
   "execution_count": null,
   "id": "459dc081",
   "metadata": {},
   "outputs": [],
   "source": [
    "A3 = (U * s) @ Vh  # more efficient: use array math broadcasting rules!\n",
    "np.allclose(A3, A)"
   ]
  },
  {
   "cell_type": "markdown",
   "id": "e2ec8389",
   "metadata": {},
   "source": [
    "Many other decompositions (e.g. LU, Cholesky, QR), solvers for structured\n",
    "linear systems (e.g. triangular, circulant), eigenvalue problem algorithms,\n",
    "matrix functions (e.g. matrix exponential), and routines for special matrix\n",
    "creation (e.g. block diagonal, toeplitz) are available in {mod}`scipy.linalg`."
   ]
  },
  {
   "cell_type": "markdown",
   "id": "2237ac06",
   "metadata": {},
   "source": [
    "(intro-scipy-interpolate)=\n",
    "\n",
    "## Interpolation: {mod}`scipy.interpolate`\n",
    "\n",
    "{mod}`scipy.interpolate` is used for fitting a function -- an \"interpolant\" --\n",
    "to experimental or computed data. Once fit, the interpolant can be used to\n",
    "approximate the underlying function at intermediate points; it can also be used\n",
    "to compute the integral, derivative, or inverse of the function.\n",
    "\n",
    "Some kinds of interpolants, known as \"smoothing splines\", are designed to\n",
    "generate smooth curves from noisy data. For example, suppose we have\n",
    "the following data:"
   ]
  },
  {
   "cell_type": "code",
   "execution_count": null,
   "id": "5ea81313",
   "metadata": {},
   "outputs": [],
   "source": [
    "rng = np.random.default_rng(27446968)\n",
    "\n",
    "measured_time = np.linspace(0, 2 * np.pi, 20)\n",
    "function = np.sin(measured_time)\n",
    "noise = rng.normal(loc=0, scale=0.1, size=20)\n",
    "measurements = function + noise"
   ]
  },
  {
   "cell_type": "markdown",
   "id": "dc827358",
   "metadata": {},
   "source": [
    "{func}`scipy.interpolate.make_smoothing_spline` can be used to form a curve\n",
    "similar to the underlying sine function."
   ]
  },
  {
   "cell_type": "code",
   "execution_count": null,
   "id": "16075118",
   "metadata": {},
   "outputs": [],
   "source": [
    "smoothing_spline = sp.interpolate.make_smoothing_spline(measured_time, measurements)\n",
    "interpolation_time = np.linspace(0, 2 * np.pi, 200)\n",
    "smooth_results = smoothing_spline(interpolation_time)"
   ]
  },
  {
   "cell_type": "code",
   "execution_count": null,
   "id": "314fd11a",
   "metadata": {
    "tags": [
     "hide-input"
    ]
   },
   "outputs": [],
   "source": [
    "plt.figure(figsize=(6, 4))\n",
    "plt.plot(measured_time, measurements, \".\", ms=6, label=\"measurements\")\n",
    "plt.plot(interpolation_time, smooth_results, label=\"smoothing spline\")\n",
    "plt.plot(interpolation_time, np.sin(interpolation_time), \"--\", label=\"underlying curve\")\n",
    "plt.legend();"
   ]
  },
  {
   "cell_type": "markdown",
   "id": "8099a59c",
   "metadata": {},
   "source": [
    "On the other hand, if the data are not noisy, it may be desirable to pass\n",
    "exactly through each point."
   ]
  },
  {
   "cell_type": "code",
   "execution_count": null,
   "id": "4fa354fd",
   "metadata": {},
   "outputs": [],
   "source": [
    "interp_spline = sp.interpolate.make_interp_spline(measured_time, function)\n",
    "interp_results = interp_spline(interpolation_time)"
   ]
  },
  {
   "cell_type": "code",
   "execution_count": null,
   "id": "5affa97f",
   "metadata": {
    "tags": [
     "hide-input"
    ]
   },
   "outputs": [],
   "source": [
    "# Plot the data, the interpolant, and the original function\n",
    "plt.figure(figsize=(6, 4))\n",
    "plt.plot(measured_time, function, \".\", ms=6, label=\"measurements\")\n",
    "plt.plot(interpolation_time, interp_results, label=\"interpolating spline\")\n",
    "plt.plot(interpolation_time, np.sin(interpolation_time), \"--\", label=\"underlying curve\")\n",
    "plt.legend();"
   ]
  },
  {
   "cell_type": "markdown",
   "id": "c718c14d",
   "metadata": {},
   "source": [
    "The `derivative` and `antiderivative` methods of the result object can be used\n",
    "for differentiation and integration. For the latter, the constant of integration is\n",
    "assumed to be zero, but we can \"wrap\" the antiderivative to include a nonzero\n",
    "constant of integration."
   ]
  },
  {
   "cell_type": "code",
   "execution_count": null,
   "id": "49453105",
   "metadata": {},
   "outputs": [],
   "source": [
    "d_interp_spline = interp_spline.derivative()\n",
    "d_interp_results = d_interp_spline(interpolation_time)\n",
    "i_interp_spline = lambda t: interp_spline.antiderivative()(t) - 1\n",
    "i_interp_results = i_interp_spline(interpolation_time)"
   ]
  },
  {
   "cell_type": "code",
   "execution_count": null,
   "id": "9a5842d9",
   "metadata": {
    "tags": [
     "hide-input"
    ]
   },
   "outputs": [],
   "source": [
    "# Plot interpolant, its derivative, and its antiderivative\n",
    "plt.figure(figsize=(6, 4))\n",
    "t = interpolation_time\n",
    "plt.plot(t, interp_results, label=\"spline\")\n",
    "plt.plot(t, d_interp_results, label=\"derivative\")\n",
    "plt.plot(t, i_interp_results, label=\"antiderivative\")\n",
    "plt.legend();"
   ]
  },
  {
   "cell_type": "markdown",
   "id": "3fd36d10",
   "metadata": {},
   "source": [
    "For functions that are monotonic on an interval (e.g. $\\sin$ from $\\pi/2$\n",
    "to $3\\pi/2$), we can reverse the arguments of `make_interp_spline` to\n",
    "interpolate the inverse function. Because the first argument is expected to be\n",
    "monotonically _increasing_, we also reverse the order of elements in the arrays\n",
    "with {func}`numpy.flip`."
   ]
  },
  {
   "cell_type": "code",
   "execution_count": null,
   "id": "cc3a2b56",
   "metadata": {},
   "outputs": [],
   "source": [
    "i = (measured_time > np.pi/2) & (measured_time < 3*np.pi/2)\n",
    "inverse_spline = sp.interpolate.make_interp_spline(np.flip(function[i]),\n",
    "                                                   np.flip(measured_time[i]))\n",
    "inverse_spline(0)"
   ]
  },
  {
   "cell_type": "markdown",
   "id": "cca267bb",
   "metadata": {},
   "source": [
    "See the summary exercise on {ref}`summary-exercise-stat-interp` for a more\n",
    "advanced spline interpolation example, and read the [SciPy interpolation\n",
    "tutorial](https://scipy.github.io/devdocs/tutorial/interpolate.html) and the\n",
    "{mod}`scipy.interpolate` documentation for much more information."
   ]
  },
  {
   "cell_type": "markdown",
   "id": "6bc18bff",
   "metadata": {},
   "source": [
    "## Optimization and fit: {mod}`scipy.optimize`\n",
    "\n",
    "{mod}`scipy.optimize` provides algorithms for root finding, curve fitting,\n",
    "and more general optimization.\n",
    "\n",
    "### Root Finding\n",
    "\n",
    "{func}`scipy.optimize.root_scalar` attempts to find a root of a specified\n",
    "scalar-valued function (i.e., an argument at which the function value is zero).\n",
    "Like many {mod}`scipy.optimize` functions, the function needs an initial\n",
    "guess of the solution, which the algorithm will refine until it converges or\n",
    "recognizes failure. We also provide the derivative to improve the rate of\n",
    "convergence."
   ]
  },
  {
   "cell_type": "code",
   "execution_count": null,
   "id": "fa43e993",
   "metadata": {},
   "outputs": [],
   "source": [
    "def f(x):\n",
    "    return (x-1)*(x-2)\n",
    "\n",
    "def df(x):\n",
    "    return 2*x - 3\n",
    "\n",
    "x0 = 0  # guess\n",
    "res = sp.optimize.root_scalar(f, x0=x0, fprime=df)\n",
    "res"
   ]
  },
  {
   "cell_type": "markdown",
   "id": "fde33906",
   "metadata": {},
   "source": [
    ":::{warning}\n",
    "\n",
    "None of the functions in {mod}`scipy.optimize` that accept a guess are\n",
    "guaranteed to converge for all possible guesses! (For example, try\n",
    "`x0=1.5` in the example above, where the derivative of the function is\n",
    "exactly zero.) If this occurs, try a different guess, adjust the options\n",
    "(like providing a `bracket` as shown below), or consider whether SciPy\n",
    "offers a more appropriate method for the problem.\n",
    "\n",
    ":::\n",
    "\n",
    "Note that only one the root at `1.0` is found. By inspection, we can tell\n",
    "that there is a second root at `2.0`. We can direct the function toward a\n",
    "particular root by changing the guess or by passing a bracket that contains\n",
    "only the root we seek."
   ]
  },
  {
   "cell_type": "code",
   "execution_count": null,
   "id": "e87631e0",
   "metadata": {},
   "outputs": [],
   "source": [
    "res = sp.optimize.root_scalar(f, bracket=(1.5, 10))\n",
    "res.root"
   ]
  },
  {
   "cell_type": "markdown",
   "id": "9222b3e7",
   "metadata": {},
   "source": [
    "For multivariate problems, use {func}`scipy.optimize.root`."
   ]
  },
  {
   "cell_type": "code",
   "execution_count": null,
   "id": "b9cd6d72",
   "metadata": {},
   "outputs": [],
   "source": [
    "def f(x):\n",
    "    # intersection of unit circle and line from origin\n",
    "    return [x[0]**2 + x[1]**2 - 1,\n",
    "            x[1] - x[0]]\n",
    "\n",
    "res = sp.optimize.root(f, x0=[0, 0])\n",
    "np.allclose(f(res.x), 0, atol=1e-10)"
   ]
  },
  {
   "cell_type": "code",
   "execution_count": null,
   "id": "c34468ab",
   "metadata": {},
   "outputs": [],
   "source": [
    "np.allclose(res.x, np.sqrt(2)/2)"
   ]
  },
  {
   "cell_type": "markdown",
   "id": "c2aeb3bb",
   "metadata": {},
   "source": [
    "Over-constrained problems can be solved in the least-squares sense using\n",
    "{func}`scipy.optimize.root` with `method='lm'` (Levenberg-Marquardt)."
   ]
  },
  {
   "cell_type": "code",
   "execution_count": null,
   "id": "6451d1ad",
   "metadata": {},
   "outputs": [],
   "source": [
    "def f(x):\n",
    "    # intersection of unit circle, line from origin, and parabola\n",
    "    return [x[0]**2 + x[1]**2 - 1,\n",
    "            x[1] - x[0],\n",
    "            x[1] - x[0]**2]\n",
    "\n",
    "res = sp.optimize.root(f, x0=[1, 1], method='lm')\n",
    "res.success"
   ]
  },
  {
   "cell_type": "code",
   "execution_count": null,
   "id": "fa2f9d57",
   "metadata": {},
   "outputs": [],
   "source": [
    "res.x"
   ]
  },
  {
   "cell_type": "markdown",
   "id": "fb1953f8",
   "metadata": {},
   "source": [
    "See the documentation of {func}`scipy.optimize.root_scalar` and\n",
    "{func}`scipy.optimize.root` for a variety of other solution algorithms and\n",
    "options."
   ]
  },
  {
   "cell_type": "markdown",
   "id": "94d6b10f",
   "metadata": {},
   "source": [
    "### Curve fitting"
   ]
  },
  {
   "cell_type": "markdown",
   "id": "90107a46",
   "metadata": {},
   "source": [
    "Suppose we have data that is sinusoidal but noisy:"
   ]
  },
  {
   "cell_type": "code",
   "execution_count": null,
   "id": "3d20d6fd",
   "metadata": {},
   "outputs": [],
   "source": [
    "x_data = np.linspace(-5, 5, num=50)  # 50 values between -5 and 5\n",
    "noise = 0.01 * np.cos(100 * x_data)\n",
    "a, b = 2.9, 1.5\n",
    "y_data = a * np.cos(b * x_data) + noise"
   ]
  },
  {
   "cell_type": "code",
   "execution_count": null,
   "id": "dafd21eb",
   "metadata": {
    "tags": [
     "hide-input"
    ]
   },
   "outputs": [],
   "source": [
    "plt.figure(figsize=(6, 4))\n",
    "plt.scatter(x_data, y_data);"
   ]
  },
  {
   "cell_type": "markdown",
   "id": "fd4bf6c2",
   "metadata": {},
   "source": [
    "We can approximate the underlying amplitude, frequency, and phase\n",
    "from the data by least squares curve fitting. To begin, we write\n",
    "a function that accepts the independent variable as the first\n",
    "argument and all parameters to fit as separate arguments:"
   ]
  },
  {
   "cell_type": "code",
   "execution_count": null,
   "id": "63efc5ed",
   "metadata": {},
   "outputs": [],
   "source": [
    "def f(x, a, b, c):\n",
    "    return a * np.sin(b * x + c)"
   ]
  },
  {
   "cell_type": "markdown",
   "id": "a7043e8c",
   "metadata": {},
   "source": [
    "We then use {func}`scipy.optimize.curve_fit` to find $a$ and $b$:"
   ]
  },
  {
   "cell_type": "code",
   "execution_count": null,
   "id": "cfd3fd94",
   "metadata": {},
   "outputs": [],
   "source": [
    "params, _ = sp.optimize.curve_fit(f, x_data, y_data, p0=[2, 1, 3])\n",
    "params"
   ]
  },
  {
   "cell_type": "code",
   "execution_count": null,
   "id": "c4665461",
   "metadata": {},
   "outputs": [],
   "source": [
    "ref = [a, b, np.pi/2]  # what we'd expect\n",
    "np.allclose(params, ref, rtol=1e-3)"
   ]
  },
  {
   "cell_type": "markdown",
   "id": "e61368e9",
   "metadata": {},
   "source": [
    "We plot the resulting curve on the data:"
   ]
  },
  {
   "cell_type": "code",
   "execution_count": null,
   "id": "0909ea88",
   "metadata": {
    "tags": [
     "hide-input"
    ]
   },
   "outputs": [],
   "source": [
    "plt.figure(figsize=(6, 4))\n",
    "plt.scatter(x_data, y_data, label=\"Data\")\n",
    "plt.plot(x_data, f(x_data, *params), label=\"Fitted function\")\n",
    "plt.legend(loc=\"best\");"
   ]
  },
  {
   "cell_type": "markdown",
   "id": "fc2f7a7b",
   "metadata": {},
   "source": [
    "::: {exercise-start}\n",
    ":label: scipy-curve-fit-ex\n",
    ":class: dropdown\n",
    ":::\n",
    "\n",
    "The temperature extremes in Alaska for each month, starting in January, are\n",
    "given by (in degrees Celsius):\n",
    "\n",
    "```text\n",
    "max:  17,  19,  21,  28,  33,  38, 37,  37,  31,  23,  19,  18\n",
    "min: -62, -59, -56, -46, -32, -18, -9, -13, -25, -46, -52, -58\n",
    "```\n",
    "\n",
    "1. Plot these temperature extremes.\n",
    "2. Define a function that can describe min and max temperatures.\n",
    "   Hint: this function has to have a period of 1 year.\n",
    "   Hint: include a time offset.\n",
    "3. Fit this function to the data with {func}`scipy.optimize.curve_fit`.\n",
    "4. Plot the result. Is the fit reasonable? If not, why?\n",
    "5. Is the time offset for min and max temperatures the same within the fit\n",
    "   accuracy?\n",
    "\n",
    "::: {exercise-end}\n",
    ":::\n",
    "\n",
    "::: {solution-start} scipy-curve-fit-ex\n",
    ":class: dropdown\n",
    ":::\n",
    "\n",
    "Curve fitting: temperature as a function of month of the year\n",
    "\n",
    "We have the min and max temperatures in Alaska for each months of the\n",
    "year. We would like to find a function to describe this yearly evolution.\n",
    "\n",
    "For this, we will fit a periodic function."
   ]
  },
  {
   "cell_type": "code",
   "execution_count": null,
   "id": "b655fb9b",
   "metadata": {},
   "outputs": [],
   "source": [
    "# The data\n",
    "temp_max = np.array([17, 19, 21, 28, 33, 38, 37, 37, 31, 23, 19, 18])\n",
    "temp_min = np.array([-62, -59, -56, -46, -32, -18, -9, -13, -25, -46, -52, -58])\n",
    "\n",
    "months = np.arange(12)\n",
    "plt.plot(months, temp_max, \"ro\")\n",
    "plt.plot(months, temp_min, \"bo\")\n",
    "plt.xlabel(\"Month\")\n",
    "plt.ylabel(\"Min and max temperature\");"
   ]
  },
  {
   "cell_type": "markdown",
   "id": "171ab17d",
   "metadata": {},
   "source": [
    "Fitting it to a periodic function:"
   ]
  },
  {
   "cell_type": "code",
   "execution_count": null,
   "id": "ef18b943",
   "metadata": {},
   "outputs": [],
   "source": [
    "def yearly_temps(times, avg, ampl, time_offset):\n",
    "    return avg + ampl * np.cos((times + time_offset) * 2 * np.pi / times.max())\n",
    "\n",
    "res_max, cov_max = sp.optimize.curve_fit(yearly_temps, months, temp_max, [20, 10, 0])\n",
    "res_min, cov_min = sp.optimize.curve_fit(yearly_temps, months, temp_min, [-40, 20, 0])"
   ]
  },
  {
   "cell_type": "markdown",
   "id": "1babed4a",
   "metadata": {},
   "source": [
    "Plotting the fit"
   ]
  },
  {
   "cell_type": "code",
   "execution_count": null,
   "id": "df49e446",
   "metadata": {},
   "outputs": [],
   "source": [
    "days = np.linspace(0, 12, num=365)\n",
    "plt.figure()\n",
    "plt.plot(months, temp_max, \"ro\")\n",
    "plt.plot(days, yearly_temps(days, *res_max), \"r-\")\n",
    "plt.plot(months, temp_min, \"bo\")\n",
    "plt.plot(days, yearly_temps(days, *res_min), \"b-\")\n",
    "plt.xlabel(\"Month\")\n",
    "plt.ylabel(r\"Temperature ($^\\circ$C)\");"
   ]
  },
  {
   "cell_type": "markdown",
   "id": "86e1ccb6",
   "metadata": {},
   "source": [
    "::: {solution-end}\n",
    ":::"
   ]
  },
  {
   "cell_type": "markdown",
   "id": "2bfce191",
   "metadata": {},
   "source": [
    "### Optimization"
   ]
  },
  {
   "cell_type": "markdown",
   "id": "dbc9a760",
   "metadata": {},
   "source": [
    "Suppose we wish to minimize the scalar-valued function of a single\n",
    "variable $f(x) = x^2  + 10 \\sin(x)$:"
   ]
  },
  {
   "cell_type": "code",
   "execution_count": null,
   "id": "b3aa01e8",
   "metadata": {},
   "outputs": [],
   "source": [
    "def f(x):\n",
    "    return x**2 + 10 * np.sin(x)\n",
    "\n",
    "x = np.arange(-5, 5, 0.1)\n",
    "plt.plot(x, f(x))"
   ]
  },
  {
   "cell_type": "markdown",
   "id": "632450e6",
   "metadata": {},
   "source": [
    "We can see that the function has a local minimizer near $x = 3.8$ and a global\n",
    "minimizer near $x = -1.3$, but the precise values cannot be determined from the\n",
    "plot.\n",
    "\n",
    "The most appropriate function for this purpose is\n",
    "{func}`scipy.optimize.minimize_scalar`.\n",
    "Since we know the approximate locations of the minima, we will provide\n",
    "bounds that restrict the search to the vicinity of the global minimum."
   ]
  },
  {
   "cell_type": "code",
   "execution_count": null,
   "id": "73840275",
   "metadata": {},
   "outputs": [],
   "source": [
    "res = sp.optimize.minimize_scalar(f, bounds=(-2, -1))\n",
    "res"
   ]
  },
  {
   "cell_type": "code",
   "execution_count": null,
   "id": "56736d5e",
   "metadata": {},
   "outputs": [],
   "source": [
    "res.fun == f(res.x)"
   ]
  },
  {
   "cell_type": "markdown",
   "id": "cd922e6d",
   "metadata": {},
   "source": [
    "If we did not already know the approximate location of the global minimum,\n",
    "we could use one of SciPy's global minimizers, such as\n",
    "{func}`scipy.optimize.differential_evolution`. We are required to pass\n",
    "`bounds`, but they do not need to be tight."
   ]
  },
  {
   "cell_type": "code",
   "execution_count": null,
   "id": "ab6f95b0",
   "metadata": {},
   "outputs": [],
   "source": [
    "bounds=[(-5, 5)]  # list of lower, upper bound for each variable\n",
    "res = sp.optimize.differential_evolution(f, bounds=bounds)\n",
    "res"
   ]
  },
  {
   "cell_type": "markdown",
   "id": "f6fe2823",
   "metadata": {},
   "source": [
    "For multivariate optimization, a good choice for many problems is\n",
    "{func}`scipy.optimize.minimize`.\n",
    "Suppose we wish to find the minimum of a quadratic function of two\n",
    "variables, $f(x_0, x_1) = (x_0-1)^2 + (x_1-2)^2$."
   ]
  },
  {
   "cell_type": "code",
   "execution_count": null,
   "id": "9a1f4415",
   "metadata": {},
   "outputs": [],
   "source": [
    "def f(x):\n",
    "    return (x[0] - 1)**2 + (x[1] - 2)**2"
   ]
  },
  {
   "cell_type": "markdown",
   "id": "df8952a3",
   "metadata": {},
   "source": [
    "Like {func}`scipy.optimize.root`, {func}`scipy.optimize.minimize`\n",
    "requires a guess `x0`. (Note that this is the initial value of\n",
    "_both_ variables rather than the value of the variable we happened to\n",
    "label $x_0$.)"
   ]
  },
  {
   "cell_type": "code",
   "execution_count": null,
   "id": "11df3556",
   "metadata": {},
   "outputs": [],
   "source": [
    "res = sp.optimize.minimize(f, x0=[0, 0])\n",
    "res"
   ]
  },
  {
   "cell_type": "markdown",
   "id": "3a48e378",
   "metadata": {},
   "source": [
    ":::{sidebar} Maximization?\n",
    "Is {func}`scipy.optimize.minimize` restricted to the solution of\n",
    "minimization problems? Nope! To solve a maximization problem,\n",
    "simply minimize the _negative_ of the original objective function.\n",
    ":::\n",
    "\n",
    "This barely scratches the surface of SciPy's optimization features, which\n",
    "include mixed integer linear programming, constrained nonlinear programming,\n",
    "and the solution of assignment problems. For much more information, see the\n",
    "documentation of {mod}`scipy.optimize` and the advanced chapter\n",
    "{ref}`mathematical-optimization`.\n",
    "\n",
    "::: {exercise-start}\n",
    ":label: scipy-2d-minimization-ex\n",
    ":class: dropdown\n",
    ":::\n",
    "\n",
    "This is an exercise on 2-D minimization.\n",
    "\n",
    "The six-hump camelback function\n",
    "\n",
    "$f(x, y) = (4 - 2.1x^2 + \\frac{x^4}{3})x^2 + xy + (4y^2 - 4)y^2$\n",
    "\n",
    "has multiple local minima. Find a global minimum (there is more than one,\n",
    "each with the same value of the objective function) and at least one other\n",
    "local minimum.\n",
    "\n",
    "Hints:\n",
    "\n",
    "- Variables can be restricted to $-2 < x < 2$ and $-1 < y < 1$.\n",
    "- {func}`numpy.meshgrid` and {func}`matplotlib.pyplot.imshow` can help\n",
    "  with visualization.\n",
    "- Try minimizing with {func}`scipy.optimize.minimize` with an initial\n",
    "  guess of $(x, y) = (0, 0)$. Does it find the global minimum, or\n",
    "  converge to a local minimum? What about other initial guesses?\n",
    "- Try minimizing with {func}`scipy.optimize.differential_evolution`.\n",
    "\n",
    "::: {exercise-end}\n",
    ":::\n",
    "\n",
    "::: {solution-start} scipy-2d-minimization-ex\n",
    ":class: dropdown\n",
    ":::\n",
    "\n",
    "Optimization of a two-parameter function:"
   ]
  },
  {
   "cell_type": "code",
   "execution_count": null,
   "id": "7129111e",
   "metadata": {},
   "outputs": [],
   "source": [
    "# Define the function that we are interested in\n",
    "def sixhump(x):\n",
    "    return (\n",
    "        (4 - 2.1 * x[0] ** 2 + x[0] ** 4 / 3) * x[0] ** 2\n",
    "        + x[0] * x[1]\n",
    "        + (-4 + 4 * x[1] ** 2) * x[1] ** 2\n",
    "    )\n",
    "\n",
    "# Make a grid to evaluate the function (for plotting)\n",
    "xlim = [-2, 2]\n",
    "ylim = [-1, 1]\n",
    "x = np.linspace(*xlim)  # type: ignore[call-overload]\n",
    "y = np.linspace(*ylim)  # type: ignore[call-overload]\n",
    "xg, yg = np.meshgrid(x, y)"
   ]
  },
  {
   "cell_type": "markdown",
   "id": "cbdd15d9",
   "metadata": {},
   "source": [
    "A 2D image plot of the function:"
   ]
  },
  {
   "cell_type": "code",
   "execution_count": null,
   "id": "702d3c25",
   "metadata": {},
   "outputs": [],
   "source": [
    "# Simple visualization in 2D\n",
    "plt.figure()\n",
    "plt.imshow(sixhump([xg, yg]), extent=xlim + ylim, origin=\"lower\")  # type: ignore[arg-type]\n",
    "plt.colorbar();"
   ]
  },
  {
   "cell_type": "markdown",
   "id": "66cd087f",
   "metadata": {},
   "source": [
    "A 3D surface plot of the function:"
   ]
  },
  {
   "cell_type": "code",
   "execution_count": null,
   "id": "4497a30c",
   "metadata": {},
   "outputs": [],
   "source": [
    "from mpl_toolkits.mplot3d import Axes3D\n",
    "\n",
    "fig = plt.figure()\n",
    "ax: Axes3D = fig.add_subplot(111, projection=\"3d\")\n",
    "surf = ax.plot_surface(\n",
    "    xg,\n",
    "    yg,\n",
    "    sixhump([xg, yg]),\n",
    "    rstride=1,\n",
    "    cstride=1,\n",
    "    cmap=\"viridis\",\n",
    "    linewidth=0,\n",
    "    antialiased=False,\n",
    ")\n",
    "\n",
    "ax.set_xlabel(\"x\")\n",
    "ax.set_ylabel(\"y\")\n",
    "ax.set_zlabel(\"f(x, y)\")\n",
    "ax.set_title(\"Six-hump Camelback function\");"
   ]
  },
  {
   "cell_type": "markdown",
   "id": "06640ea6",
   "metadata": {},
   "source": [
    "Find minima:"
   ]
  },
  {
   "cell_type": "code",
   "execution_count": null,
   "id": "689fe38b",
   "metadata": {},
   "outputs": [],
   "source": [
    "# local minimization\n",
    "res_local = sp.optimize.minimize(sixhump, x0=[0, 0])\n",
    "# global minimization\n",
    "res_global = sp.optimize.differential_evolution(sixhump, bounds=[xlim, ylim])"
   ]
  },
  {
   "cell_type": "code",
   "execution_count": null,
   "id": "cdd48652",
   "metadata": {
    "tags": [
     "hide-input"
    ]
   },
   "outputs": [],
   "source": [
    "plt.figure()\n",
    "# Show the function in 2D\n",
    "plt.imshow(sixhump([xg, yg]), extent=xlim + ylim, origin=\"lower\")  # type: ignore[arg-type]\n",
    "plt.colorbar()\n",
    "# Mark the minima\n",
    "plt.scatter(res_local.x[0], res_local.x[1], label=\"local minimizer\")\n",
    "plt.scatter(res_global.x[0], res_global.x[1], label=\"global minimizer\")\n",
    "plt.legend();"
   ]
  },
  {
   "cell_type": "markdown",
   "id": "becc6547",
   "metadata": {},
   "source": [
    "::: {solution-end}\n",
    ":::\n",
    "\n",
    "See the summary exercise on {ref}`summary-exercise-optimize` for another, more\n",
    "advanced example."
   ]
  },
  {
   "cell_type": "markdown",
   "id": "1821ab0f",
   "metadata": {},
   "source": [
    "## Statistics and random numbers: {mod}`scipy.stats`\n",
    "\n",
    "{mod}`scipy.stats` contains fundamental tools for statistics in Python.\n",
    "\n",
    "### Statistical Distributions\n",
    "\n",
    "Consider a random variable distributed according to the standard normal.\n",
    "We draw a sample consisting of 100000 observations from the random variable.\n",
    "The normalized histogram of the sample is an estimator of the random\n",
    "variable's probability density function (PDF):"
   ]
  },
  {
   "cell_type": "code",
   "execution_count": null,
   "id": "9325061c",
   "metadata": {},
   "outputs": [],
   "source": [
    "dist = sp.stats.norm(loc=0, scale=1)  # standard normal distribution\n",
    "sample = dist.rvs(size=100000)  # \"random variate sample\"\n",
    "plt.hist(sample, bins=50, density=True, label='normalized histogram')\n",
    "x = np.linspace(-5, 5)\n",
    "plt.plot(x, dist.pdf(x), label='PDF')\n",
    "plt.legend()"
   ]
  },
  {
   "cell_type": "markdown",
   "id": "2af717ac",
   "metadata": {},
   "source": [
    ":::{sidebar} Distribution objects and frozen distributions\n",
    "\n",
    "Each of the 100+ {mod}`scipy.stats` distribution families is represented by an\n",
    "_object_ with a `__call__` method. Here, we call the {class}`scipy.stats.norm`\n",
    "object to specify its location and scale, and it returns a _frozen_\n",
    "distribution: a particular element of a distribution family with all\n",
    "parameters fixed. The frozen distribution object has methods to compute\n",
    "essential functions of the particular distribution.\n",
    "\n",
    ":::\n",
    "\n",
    "Suppose we knew that the sample had been drawn from a distribution belonging to\n",
    "the family of normal distributions, but we did not know the particular\n",
    "distribution's location (mean) and scale (standard deviation). We perform\n",
    "maximum likelihood estimation of the unknown parameters using the distribution\n",
    "family's `fit` method:"
   ]
  },
  {
   "cell_type": "code",
   "execution_count": null,
   "id": "0adfa47f",
   "metadata": {},
   "outputs": [],
   "source": [
    "loc, scale = sp.stats.norm.fit(sample)\n",
    "loc"
   ]
  },
  {
   "cell_type": "code",
   "execution_count": null,
   "id": "13075011",
   "metadata": {},
   "outputs": [],
   "source": [
    "scale"
   ]
  },
  {
   "cell_type": "markdown",
   "id": "b49490f9",
   "metadata": {},
   "source": [
    "Since we know the true parameters of the distribution from which the\n",
    "sample was drawn, we are not surprised that these estimates are similar.\n",
    "\n",
    "::: {exercise-start}\n",
    ":label: scipy-prob-dist-ex\n",
    ":class: dropdown\n",
    ":::\n",
    "\n",
    "Generate 1000 random variates from a gamma distribution with a shape\n",
    "parameter of 1. _Hint: the shape parameter is passed as the first\n",
    "argument when freezing the distribution_. Plot the histogram of the\n",
    "sample, and overlay the distribution's PDF. Estimate the shape parameter\n",
    "from the sample using the `fit` method.\n",
    "\n",
    "Extra: the distributions have many useful methods. Explore them\n",
    "using tab completion. Plot the cumulative density function of the\n",
    "distribution, and compute the variance.\n",
    "\n",
    "::: {exercise-end}\n",
    ":::"
   ]
  },
  {
   "cell_type": "markdown",
   "id": "aa0c75e7",
   "metadata": {},
   "source": [
    "### Sample Statistics and Hypothesis Tests\n",
    "\n",
    "The sample mean is an estimator of the mean of the distribution from which\n",
    "the sample was drawn:"
   ]
  },
  {
   "cell_type": "code",
   "execution_count": null,
   "id": "214b28f4",
   "metadata": {},
   "outputs": [],
   "source": [
    "np.mean(sample)"
   ]
  },
  {
   "cell_type": "markdown",
   "id": "39d648fc",
   "metadata": {},
   "source": [
    "NumPy includes some of the most fundamental sample statistics (e.g.\n",
    "{func}`numpy.mean`, {func}`numpy.var`, {func}`numpy.percentile`);\n",
    "{mod}`scipy.stats` includes many more. For instance, the geometric mean\n",
    "is a common measure of central tendency for data that tends to be\n",
    "distributed over many orders of magnitude."
   ]
  },
  {
   "cell_type": "code",
   "execution_count": null,
   "id": "88ca6bc5",
   "metadata": {},
   "outputs": [],
   "source": [
    "sp.stats.gmean(2**sample)"
   ]
  },
  {
   "cell_type": "markdown",
   "id": "00da7362",
   "metadata": {},
   "source": [
    "SciPy also includes a variety of hypothesis tests that produce a\n",
    "sample statistic and a p-value. For instance, suppose we wish to\n",
    "test the null hypothesis that `sample` was drawn from a normal\n",
    "distribution:"
   ]
  },
  {
   "cell_type": "code",
   "execution_count": null,
   "id": "1428fe4a",
   "metadata": {},
   "outputs": [],
   "source": [
    "res = sp.stats.normaltest(sample)\n",
    "res.statistic"
   ]
  },
  {
   "cell_type": "code",
   "execution_count": null,
   "id": "2b1f7a0d",
   "metadata": {},
   "outputs": [],
   "source": [
    "res.pvalue"
   ]
  },
  {
   "cell_type": "markdown",
   "id": "1df0e49b",
   "metadata": {},
   "source": [
    "Here, `statistic` is a sample statistic that tends to be high for\n",
    "samples that are drawn from non-normal distributions. `pvalue` is\n",
    "the probability of observing such a high value of the statistic for\n",
    "a sample that _has_ been drawn from a normal distribution. If the\n",
    "p-value is unusually small, this may be taken as evidence that\n",
    "`sample` was _not_ drawn from the normal distribution. Our statistic\n",
    "and p-value are moderate, so the test is inconclusive.\n",
    "\n",
    "There are many other features of {mod}`scipy.stats`, including circular\n",
    "statistics, quasi-Monte Carlo methods, and resampling methods.\n",
    "For much more information, see the documentation of {mod}`scipy.stats`\n",
    "and the advanced chapter {ref}`statistics <statistics>`."
   ]
  },
  {
   "cell_type": "markdown",
   "id": "cb5162a5",
   "metadata": {},
   "source": [
    "## Numerical integration: {mod}`scipy.integrate`\n",
    "\n",
    "### Quadrature\n",
    "\n",
    "Suppose we wish to compute the definite integral\n",
    "$\\int_0^{\\pi / 2} \\sin(t) dt$ numerically. {func}`scipy.integrate.quad`\n",
    "chooses one of several adaptive techniques depending on the parameters, and\n",
    "is therefore the recommended first choice for integration of function of a single variable:"
   ]
  },
  {
   "cell_type": "code",
   "execution_count": null,
   "id": "089eff69",
   "metadata": {},
   "outputs": [],
   "source": [
    "integral, error_estimate = sp.integrate.quad(np.sin, 0, np.pi / 2)\n",
    "np.allclose(integral, 1)  # numerical result ~ analytical result"
   ]
  },
  {
   "cell_type": "code",
   "execution_count": null,
   "id": "53bee9ba",
   "metadata": {},
   "outputs": [],
   "source": [
    "abs(integral - 1) < error_estimate  #  actual error < estimated error"
   ]
  },
  {
   "cell_type": "markdown",
   "id": "27b13978",
   "metadata": {},
   "source": [
    "Other functions for _numerical quadrature_, including integration of\n",
    "multivariate functions and approximating integrals from samples, are available\n",
    "in {mod}`scipy.integrate`."
   ]
  },
  {
   "cell_type": "markdown",
   "id": "efa85f7d",
   "metadata": {},
   "source": [
    "### Initial Value Problems\n",
    "\n",
    "{mod}`scipy.integrate` also features routines for integrating [Ordinary\n",
    "Differential Equations\n",
    "(ODE)](https://en.wikipedia.org/wiki/Ordinary_differential_equation). For\n",
    "example, {func}`scipy.integrate.solve_ivp` integrates ODEs of the form:\n",
    "\n",
    "$$\n",
    "\\frac{dy}{dt} = f(t, y(t))\n",
    "$$\n",
    "\n",
    "from an initial time $t_0$ and initial state $y(t=t_0)=t_0$ to a final\n",
    "time $t_f$ or until an event occurs (e.g. a specified state is reached).\n",
    "\n",
    "As an introduction, consider the initial value problem given by\n",
    "$\\frac{dy}{dt} = -2 y$ and the initial condition $y(t=0) = 1$ on\n",
    "the interval $t = 0 \\dots 4$. We begin by defining a callable that\n",
    "computes $f(t, y(t))$ given the current time and state."
   ]
  },
  {
   "cell_type": "code",
   "execution_count": null,
   "id": "9adf02d7",
   "metadata": {},
   "outputs": [],
   "source": [
    "def f(t, y):\n",
    "    return -2 * y"
   ]
  },
  {
   "cell_type": "markdown",
   "id": "351a8eec",
   "metadata": {},
   "source": [
    "Then, to compute `y` as a function of time:"
   ]
  },
  {
   "cell_type": "code",
   "execution_count": null,
   "id": "8323a108",
   "metadata": {},
   "outputs": [],
   "source": [
    "t_span = (0, 4)  # time interval\n",
    "t_eval = np.linspace(*t_span)  # times at which to evaluate `y`\n",
    "y0 = [1,]  # initial state\n",
    "res = sp.integrate.solve_ivp(f, t_span=t_span, y0=y0, t_eval=t_eval)"
   ]
  },
  {
   "cell_type": "markdown",
   "id": "556f648f",
   "metadata": {},
   "source": [
    "and plot the result:"
   ]
  },
  {
   "cell_type": "code",
   "execution_count": null,
   "id": "26847816",
   "metadata": {},
   "outputs": [],
   "source": [
    "plt.figure(figsize=(4, 3))\n",
    "plt.plot(res.t, res.y[0])\n",
    "plt.xlabel('t')\n",
    "plt.ylabel('y')\n",
    "plt.title('Solution of Initial Value Problem')\n",
    "plt.tight_layout();"
   ]
  },
  {
   "cell_type": "markdown",
   "id": "cf0b92c6",
   "metadata": {},
   "source": [
    "Let us integrate a more complex ODE: a [damped\n",
    "spring-mass oscillator](https://en.wikipedia.org/wiki/Harmonic_oscillator#Damped_harmonic_oscillator).\n",
    "The position of a mass attached to a spring obeys the 2nd order ODE\n",
    "$\\ddot{y} + 2 \\zeta \\omega_0  \\dot{y} + \\omega_0^2 y = 0$ with natural frequency\n",
    "$\\omega_0 = \\sqrt{k/m}$, damping ratio $\\zeta = c/(2 m \\omega_0)$,\n",
    "spring constant $k$, mass $m$, and damping coefficient $c$.\n",
    "\n",
    "Before using {func}`scipy.integrate.solve_ivp`, the 2nd order ODE needs to be\n",
    "transformed into a system of first-order ODEs. Note that\n",
    "\n",
    "$$\n",
    "\\frac{dy}{dt} = \\dot{y}\n",
    "\\frac{d\\dot{y}}{dt} = \\ddot{y} = -(2 \\zeta \\omega_0  \\dot{y} + \\omega_0^2 y)\n",
    "$$\n",
    "\n",
    "If we define $z = [z_0, z_1]$ where $z_0 = y$ and $z_1 = \\dot{y}$, then the\n",
    "first order equation:\n",
    "\n",
    "$$\n",
    "\\frac{dz}{dt} =\n",
    "\\begin{bmatrix}\n",
    "    \\frac{dz_0}{dt} \\\\\n",
    "    \\frac{dz_1}{dt}\n",
    "\\end{bmatrix} =\n",
    "\\begin{bmatrix}\n",
    "    z_1  \\\\\n",
    "    -(2 \\zeta \\omega_0  z_1 + \\omega_0^2 z_0)\n",
    "\\end{bmatrix}\n",
    "$$\n",
    "\n",
    "is equivalent to the original second order equation.\n",
    "\n",
    "We set:"
   ]
  },
  {
   "cell_type": "code",
   "execution_count": null,
   "id": "8c3e706b",
   "metadata": {},
   "outputs": [],
   "source": [
    "m = 0.5  # kg\n",
    "k = 4  # N/m\n",
    "c = 0.4  # N s/m\n",
    "zeta = c / (2 * m * np.sqrt(k/m))\n",
    "omega = np.sqrt(k / m)"
   ]
  },
  {
   "cell_type": "markdown",
   "id": "7a90b33e",
   "metadata": {},
   "source": [
    "and define the function that computes $\\dot{z} = f(t, z(t))$:"
   ]
  },
  {
   "cell_type": "code",
   "execution_count": null,
   "id": "20e90842",
   "metadata": {},
   "outputs": [],
   "source": [
    "def f(t, z, zeta, omega):\n",
    "    return (z[1], -2.0 * zeta * omega * z[1] - omega**2 * z[0])"
   ]
  },
  {
   "cell_type": "markdown",
   "id": "7016c1e8",
   "metadata": {},
   "source": [
    "Integration of the system follows:"
   ]
  },
  {
   "cell_type": "code",
   "execution_count": null,
   "id": "0a7d8be4",
   "metadata": {},
   "outputs": [],
   "source": [
    "t_span = (0, 10)\n",
    "t_eval = np.linspace(*t_span, 100)\n",
    "z0 = [1, 0]\n",
    "res = sp.integrate.solve_ivp(f, t_span, z0, t_eval=t_eval,\n",
    "                             args=(zeta, omega), method='LSODA')"
   ]
  },
  {
   "cell_type": "code",
   "execution_count": null,
   "id": "f5e0923f",
   "metadata": {
    "tags": [
     "hide-input"
    ]
   },
   "outputs": [],
   "source": [
    "plt.figure(figsize=(4, 3))\n",
    "plt.plot(res.t, res.y[0], label=\"y\")\n",
    "plt.plot(res.t, res.y[1], label=\"dy/dt\")\n",
    "plt.legend(loc=\"best\");"
   ]
  },
  {
   "cell_type": "markdown",
   "id": "1e156014",
   "metadata": {},
   "source": [
    "::: {note}\n",
    ":class: dropdown\n",
    "\n",
    "With the option `method='LSODA'`, {func}`scipy.integrate.solve_ivp` uses the LSODA\n",
    "(Livermore Solver for Ordinary Differential equations with Automatic method switching\n",
    "for stiff and non-stiff problems). See the [ODEPACK Fortran library] for more details.\n",
    ":::\n",
    "\n",
    ":::{admonition} See also\n",
    "\n",
    "**Partial Differental Equations**\n",
    "\n",
    "There is no Partial Differential Equations (PDE) solver in SciPy.\n",
    "Some Python packages for solving PDE's are available, such as [fipy]\n",
    "or [SfePy].\n",
    ":::"
   ]
  },
  {
   "cell_type": "markdown",
   "id": "9d5414f8",
   "metadata": {},
   "source": [
    "## Fast Fourier transforms: {mod}`scipy.fft`\n",
    "\n",
    "The {mod}`scipy.fft` module computes fast Fourier transforms (FFTs)\n",
    "and offers utilities to handle them. Some important functions are:\n",
    "\n",
    "- {func}`scipy.fft.fft` to compute the FFT\n",
    "- {func}`scipy.fft.fftfreq` to generate the sampling frequencies\n",
    "- {func}`scipy.fft.ifft` to compute the inverse FFT, from frequency\n",
    "  space to signal space\n",
    "\n",
    "As an illustration, a example (noisy) input signal (`sig`), and its FFT:"
   ]
  },
  {
   "cell_type": "code",
   "execution_count": null,
   "id": "ff674fda",
   "metadata": {},
   "outputs": [],
   "source": [
    "# Time.\n",
    "dt = 0.02  # Time step.\n",
    "t = np.arange(0, 20, dt)  # Time vector.\n",
    "# An example noisy signal over time.\n",
    "sig = np.sin(2 * np.pi / 5.0 * t) + 0.5 * rng.normal(size=t.size)\n",
    "# FFT of signal.\n",
    "sig_fft = sp.fft.fft(sig)\n",
    "# Corresponding frequencies.\n",
    "freqs = sp.fft.fftfreq(sig.size, d=dt)"
   ]
  },
  {
   "cell_type": "markdown",
   "id": "70b39bca",
   "metadata": {},
   "source": [
    "::: {list-table}\n",
    "\n",
    "- - Signal\n",
    "  - FFT\n",
    "- - ::: {glue} original_signal_fig\n",
    "    :doc: scipy_examples.md\n",
    "    :::\n",
    "  - ::: {glue} fft_of_signal_fig\n",
    "    :doc: scipy_examples.md\n",
    "    :::\n",
    "\n",
    ":::\n",
    "\n",
    "The peak signal frequency can be found with `freqs[power.argmax()]`.\n",
    "\n",
    "The code of this example and the figures above can be found in the [Scipy FFT\n",
    "example](scipy-fft-example).\n",
    "\n",
    "Setting the Fourier component above this frequency to zero and inverting the\n",
    "FFT with {func}`scipy.fft.ifft`, gives a filtered signal (see the\n",
    "[example](scipy-fft-example) for detail).\n",
    "\n",
    "::: {glue} fft_filter_fig\n",
    ":doc: scipy_examples.md\n",
    ":::\n",
    "\n",
    ":::{admonition} `numpy.fft`\n",
    "\n",
    "NumPy also has an implementation of FFT ({mod}`numpy.fft`). However, the SciPy\n",
    "one should be preferred, as it uses more efficient underlying implementations.\n",
    "\n",
    ":::\n",
    "\n",
    "**Fully worked examples:**\n",
    "\n",
    "::: {list-table}\n",
    "\n",
    "- - [Crude periodicity finding](eg-periodicity-finder)\n",
    "  - [Image blur with FFT](eg-image-blur)\n",
    "- - ::: {glue} periodicity_fig\n",
    "    :doc: scipy_examples.md\n",
    "    :::\n",
    "  - ::: {glue} blur_fig\n",
    "    :doc: scipy_examples.md\n",
    "    :::\n",
    "\n",
    ":::\n",
    "\n",
    "::: {exercise-start}\n",
    ":label: scipy-image-denoise-ex\n",
    ":class: dropdown\n",
    ":::\n",
    "\n",
    "![](data/moonlanding.png)\n",
    "\n",
    "1. Examine the provided image {download}`moonlanding.png\n",
    "<data/moonlanding.png>`, which is heavily contaminated with periodic\n",
    "   noise. In this exercise, we aim to clean up the noise using the\n",
    "   Fast Fourier Transform.\n",
    "2. Load the image using {func}`matplotlib.pyplot.imread`.\n",
    "3. Find and use the 2-D FFT function in {mod}`scipy.fft`, and plot the\n",
    "   spectrum (Fourier transform of) the image. Do you have any trouble\n",
    "   visualising the spectrum? If so, why?\n",
    "4. The spectrum consists of high and low frequency components. The noise is\n",
    "   contained in the high-frequency part of the spectrum, so set some of\n",
    "   those components to zero (use array slicing).\n",
    "5. Apply the inverse Fourier transform to see the resulting image.\n",
    "\n",
    "::: {exercise-end}\n",
    ":::\n",
    "\n",
    "::: {solution-start} scipy-image-denoise-ex\n",
    ":class: dropdown\n",
    ":::\n",
    "\n",
    "Implementing image denoising with FFT.\n",
    "\n",
    "Denoise an image ({download}`data/moonlanding.png`) by implementing a blur\n",
    "with an FFT.\n",
    "\n",
    "Implements, via FFT, the following convolution:\n",
    "\n",
    "$$\n",
    "\\begin{align}\n",
    "f_1(t) = \\int dt'\\, K(t-t') f_0(t') \\\\\n",
    "\\tilde{f}_1(\\omega) = \\tilde{K}(\\omega) \\tilde{f}_0(\\omega)\n",
    "\\end{align}\n",
    "$$"
   ]
  },
  {
   "cell_type": "code",
   "execution_count": null,
   "id": "e1425bd1",
   "metadata": {},
   "outputs": [],
   "source": [
    "# Read and plot the image\n",
    "im = plt.imread(\"data/moonlanding.png\").astype(float)\n",
    "\n",
    "plt.figure()\n",
    "plt.imshow(im, \"gray\")\n",
    "plt.title(\"Original image\");"
   ]
  },
  {
   "cell_type": "code",
   "execution_count": null,
   "id": "177e64fd",
   "metadata": {},
   "outputs": [],
   "source": [
    "# Compute the 2d FFT of the input image\n",
    "im_fft = sp.fft.fft2(im)\n",
    "\n",
    "# Show the results\n",
    "from matplotlib.colors import LogNorm\n",
    "\n",
    "def plot_spectrum(im_fft):\n",
    "    # A logarithmic colormap\n",
    "    plt.imshow(np.abs(im_fft), norm=LogNorm(vmin=5))\n",
    "    plt.colorbar()\n",
    "\n",
    "plt.figure()\n",
    "plot_spectrum(im_fft)\n",
    "plt.title(\"Fourier transform\");"
   ]
  },
  {
   "cell_type": "markdown",
   "id": "efb14255",
   "metadata": {},
   "source": [
    "Filter in FFT:\n",
    "\n",
    "In the lines following, we'll make a copy of the original spectrum and\n",
    "truncate coefficients."
   ]
  },
  {
   "cell_type": "code",
   "execution_count": null,
   "id": "fe47637f",
   "metadata": {},
   "outputs": [],
   "source": [
    "# Define the fraction of coefficients (in each direction) we keep\n",
    "keep_fraction = 0.1\n",
    "\n",
    "# Call ff a copy of the original transform. NumPy arrays have a copy\n",
    "# method for this purpose.\n",
    "im_fft2 = im_fft.copy()\n",
    "\n",
    "# Set r and c to be the number of rows and columns of the array.\n",
    "r, c = im_fft2.shape\n",
    "\n",
    "# Set to zero all rows with indices between r*keep_fraction and\n",
    "# r*(1-keep_fraction):\n",
    "im_fft2[int(r * keep_fraction) : int(r * (1 - keep_fraction))] = 0\n",
    "\n",
    "# Similarly with the columns:\n",
    "im_fft2[:, int(c * keep_fraction) : int(c * (1 - keep_fraction))] = 0"
   ]
  },
  {
   "cell_type": "code",
   "execution_count": null,
   "id": "f4d3176e",
   "metadata": {},
   "outputs": [],
   "source": [
    "plt.figure()\n",
    "plot_spectrum(im_fft2)\n",
    "plt.title(\"Filtered Spectrum\");"
   ]
  },
  {
   "cell_type": "markdown",
   "id": "122fa382",
   "metadata": {},
   "source": [
    "Reconstruct the final image"
   ]
  },
  {
   "cell_type": "code",
   "execution_count": null,
   "id": "d96bf7d7",
   "metadata": {},
   "outputs": [],
   "source": [
    "# Reconstruct the denoised image from the filtered spectrum, keep only the\n",
    "# real part for display.\n",
    "im_new = sp.fft.ifft2(im_fft2).real\n",
    "\n",
    "plt.figure()\n",
    "plt.imshow(im_new, \"gray\")\n",
    "plt.title(\"Reconstructed Image\");"
   ]
  },
  {
   "cell_type": "markdown",
   "id": "780698f0",
   "metadata": {},
   "source": [
    "Easier and better: {func}`scipy.ndimage.gaussian_filter`\n",
    "\n",
    "Implementing filtering directly with FFTs is tricky and time consuming.\n",
    "We can use the Gaussian filter from {mod}`scipy.ndimage`"
   ]
  },
  {
   "cell_type": "code",
   "execution_count": null,
   "id": "25f2afa5",
   "metadata": {},
   "outputs": [],
   "source": [
    "im_blur = sp.ndimage.gaussian_filter(im, 4)\n",
    "\n",
    "plt.figure()\n",
    "plt.imshow(im_blur, \"gray\")\n",
    "plt.title(\"Blurred image\");"
   ]
  },
  {
   "cell_type": "markdown",
   "id": "997a6f0b",
   "metadata": {},
   "source": [
    "::: {solution-end}\n",
    ":::"
   ]
  },
  {
   "cell_type": "markdown",
   "id": "d74b4514",
   "metadata": {},
   "source": [
    "## Signal processing: {mod}`scipy.signal`\n",
    "\n",
    "::: {note}\n",
    ":class: dropdown\n",
    "\n",
    "{mod}`scipy.signal` is for typical signal processing: 1D,\n",
    "regularly-sampled signals.\n",
    ":::\n",
    "\n",
    "**Resampling** {func}`scipy.signal.resample`: resample a signal to `n`\n",
    "points using FFT."
   ]
  },
  {
   "cell_type": "code",
   "execution_count": null,
   "id": "1b764f72",
   "metadata": {},
   "outputs": [],
   "source": [
    "t = np.linspace(0, 5, 100)\n",
    "x = np.sin(t)\n",
    "\n",
    "x_resampled = sp.signal.resample(x, 25)"
   ]
  },
  {
   "cell_type": "code",
   "execution_count": null,
   "id": "d1201942",
   "metadata": {
    "tags": [
     "hide-input"
    ]
   },
   "outputs": [],
   "source": [
    "# Plot\n",
    "plt.figure(figsize=(5, 4))\n",
    "plt.plot(t, x, label=\"Original signal\")\n",
    "plt.plot(t[::4], x_resampled, \"ko\", label=\"Resampled signal\")\n",
    "plt.legend(loc=\"best\");"
   ]
  },
  {
   "cell_type": "markdown",
   "id": "e9dd1b0b",
   "metadata": {},
   "source": [
    "::: {note}\n",
    ":class: dropdown\n",
    "\n",
    "Notice how on the side of the window the resampling is less accurate\n",
    "and has a rippling effect.\n",
    "\n",
    "This resampling is different from the {ref}`interpolation\n",
    "<intro-scipy-interpolate>` provided by {mod}`scipy.interpolate` as it\n",
    "only applies to regularly sampled data.\n",
    ":::\n",
    "\n",
    "**Detrending** {func}`scipy.signal.detrend`: remove linear trend from signal:"
   ]
  },
  {
   "cell_type": "code",
   "execution_count": null,
   "id": "febf5a71",
   "metadata": {},
   "outputs": [],
   "source": [
    "t = np.linspace(0, 5, 100)\n",
    "rng = np.random.default_rng()\n",
    "x = t + rng.normal(size=100)\n",
    "\n",
    "x_detrended = sp.signal.detrend(x)"
   ]
  },
  {
   "cell_type": "code",
   "execution_count": null,
   "id": "a3e46df0",
   "metadata": {
    "tags": [
     "hide-input"
    ]
   },
   "outputs": [],
   "source": [
    "# Plot\n",
    "plt.figure(figsize=(5, 4))\n",
    "plt.plot(t, x, label=\"x\")\n",
    "plt.plot(t, x_detrended, label=\"x_detrended\")\n",
    "plt.legend(loc=\"best\");"
   ]
  },
  {
   "cell_type": "markdown",
   "id": "c963914e",
   "metadata": {},
   "source": [
    "**Filtering**:\n",
    "\n",
    "For non-linear filtering, {mod}`scipy.signal` has filtering (median\n",
    "filter {func}`scipy.signal.medfilt`, Wiener {func}`scipy.signal.wiener`),\n",
    "but we will discuss this in the image section.\n",
    "\n",
    "::: {note}\n",
    ":class: dropdown\n",
    "\n",
    "{mod}`scipy.signal` also has a full-blown set of tools for the design\n",
    "of linear filter (finite and infinite response filters), but this is\n",
    "out of the scope of this tutorial.\n",
    ":::\n",
    "\n",
    "**Spectral analysis**:\n",
    "\n",
    "{func}`scipy.signal.spectrogram` computes a spectrogram — frequency spectra\n",
    "over consecutive time windows — while {func}`scipy.signal.welch` computes\n",
    "a power spectrum density (PSD).\n",
    "\n",
    "::: {list-table}\n",
    ":header-rows: 1\n",
    "\n",
    "- - Signal\n",
    "  - Spectrogram\n",
    "  - Power Spectral Density\n",
    "- - ::: {glue} chirp_fig\n",
    "    :doc: scipy_examples.md\n",
    "    :::\n",
    "  - ::: {glue} spectrogram_fig\n",
    "    :doc: scipy_examples.md\n",
    "    :::\n",
    "  - ::: {glue} psd_fig\n",
    "    :doc: scipy_examples.md\n",
    "    :::\n",
    "\n",
    ":::\n",
    "\n",
    "See the [Spectrogram example](scipy-spectrogram-example)."
   ]
  },
  {
   "cell_type": "markdown",
   "id": "84e4eb0f",
   "metadata": {},
   "source": [
    "## Image manipulation: {mod}`scipy.ndimage`\n",
    "\n",
    "See [Scipy image processing](scipy-image-processing)"
   ]
  },
  {
   "cell_type": "markdown",
   "id": "aaa71121",
   "metadata": {},
   "source": [
    "## Summary exercises on scientific computing\n",
    "\n",
    "The summary exercises use mainly NumPy, SciPy and Matplotlib. They provide some\n",
    "real-life examples of scientific computing with Python. Now that the basics of\n",
    "working with NumPy and SciPy have been introduced, the interested user is\n",
    "invited to try these exercises.\n",
    "\n",
    "- [Statistical interpolotion](summary-exercise-stat-interp)\n",
    "- [Non-linear fitting](summary-exercise-optimize)\n",
    "- [Image processing](summary-exercise-image-processing)\n",
    "\n",
    ":::{admonition} See also\n",
    "\n",
    "**References to go further**\n",
    "\n",
    "- Some chapters of the [advanced](advanced-topics-part) and the\n",
    "  [packages and applications](applications-part) parts of the SciPy\n",
    "  lectures.\n",
    "- The [SciPy cookbook](https://scipy-cookbook.readthedocs.io)\n",
    "\n",
    ":::"
   ]
  },
  {
   "cell_type": "markdown",
   "id": "99965edc",
   "metadata": {},
   "source": [
    "## Other useful links\n",
    "\n",
    "- [fipy](https://www.ctcms.nist.gov/fipy)\n",
    "- [odepack fortran library](https://people.sc.fsu.edu/~jburkardt/f77_src/odepack/odepack.html)\n",
    "- [sfepy](https://sfepy.org/doc)"
   ]
  }
 ],
 "metadata": {
  "jupytext": {
   "text_representation": {
    "extension": ".md",
    "format_name": "myst",
    "format_version": 0.13,
    "jupytext_version": "1.18.0-dev"
   }
  },
  "kernelspec": {
   "display_name": "Python 3 (ipykernel)",
   "language": "python",
   "name": "python3"
  }
 },
 "nbformat": 4,
 "nbformat_minor": 5
}