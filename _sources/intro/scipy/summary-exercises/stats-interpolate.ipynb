{
 "cells": [
  {
   "cell_type": "markdown",
   "id": "c4a15cb3",
   "metadata": {},
   "source": [
    "(summary-exercise-stat-interp)=\n",
    "\n",
    "# Maximum wind speed prediction at the Sprogø station\n",
    "\n",
    "The exercise goal is to predict the maximum wind speed occurring every\n",
    "50 years even if no measure exists for such a period. The available\n",
    "data are only measured over 21 years at the Sprogø meteorological\n",
    "station located in Denmark. First, the statistical steps will be given\n",
    "and then illustrated with functions from the `scipy.interpolate` module. At\n",
    "the end the interested readers are invited to compute results from raw data\n",
    "and in a slightly different approach.\n",
    "\n",
    "## Statistical approach\n",
    "\n",
    "The annual maxima are supposed to fit a normal probability density\n",
    "function. However such function is not going to be estimated because\n",
    "it gives a probability from a wind speed maxima. Finding the maximum wind\n",
    "speed occurring every 50 years requires the opposite approach, the result\n",
    "needs to be found from a defined probability. That is the quantile function\n",
    "role and the exercise goal will be to find it. In the current model,\n",
    "it is supposed that the maximum wind speed occurring every 50 years is\n",
    "defined as the upper 2% quantile.\n",
    "\n",
    "By definition, the quantile function is the inverse of the cumulative\n",
    "distribution function. The latter describes the probability distribution\n",
    "of an annual maxima. In the exercise, the cumulative probability `p_i`\n",
    "for a given year `i` is defined as `p_i = i/(N+1)` with `N = 21`,\n",
    "the number of measured years. Thus it will be possible to calculate\n",
    "the cumulative probability of every measured wind speed maxima.\n",
    "From those experimental points, the scipy.interpolate module will be\n",
    "very useful for fitting the quantile function. Finally the 50 years\n",
    "maxima is going to be evaluated from the cumulative probability\n",
    "of the 2% quantile.\n",
    "\n",
    "## Computing the cumulative probabilities\n",
    "\n",
    "The annual wind speeds maxima have already been computed and saved in\n",
    "the NumPy format in the file {download}`examples/max-speeds.npy`, thus they will be loaded\n",
    "by using NumPy:"
   ]
  },
  {
   "cell_type": "code",
   "execution_count": null,
   "id": "d8979804",
   "metadata": {},
   "outputs": [],
   "source": [
    "import numpy as np\n",
    "import matplotlib.pyplot as plt"
   ]
  },
  {
   "cell_type": "code",
   "execution_count": null,
   "id": "af11df39",
   "metadata": {},
   "outputs": [],
   "source": [
    "max_speeds = np.load('examples/max-speeds.npy')\n",
    "years_nb = max_speeds.shape[0]"
   ]
  },
  {
   "cell_type": "markdown",
   "id": "2fa0b8f2",
   "metadata": {},
   "source": [
    "Following the cumulative probability definition `p_i` from the previous\n",
    "section, the corresponding values will be:"
   ]
  },
  {
   "cell_type": "code",
   "execution_count": null,
   "id": "5c675bc2",
   "metadata": {},
   "outputs": [],
   "source": [
    "cprob = (np.arange(years_nb, dtype=np.float32) + 1) / (years_nb + 1)"
   ]
  },
  {
   "cell_type": "markdown",
   "id": "39a0705b",
   "metadata": {},
   "source": [
    "and they are assumed to fit the given wind speeds:"
   ]
  },
  {
   "cell_type": "code",
   "execution_count": null,
   "id": "8579db90",
   "metadata": {},
   "outputs": [],
   "source": [
    "sorted_max_speeds = np.sort(max_speeds)"
   ]
  },
  {
   "cell_type": "markdown",
   "id": "8000a524",
   "metadata": {},
   "source": [
    "## Prediction with `UnivariateSpline`\n",
    "\n",
    "In this section the quantile function will be estimated by using the\n",
    "`UnivariateSpline` class which can represent a spline from points. The\n",
    "default behavior is to build a spline of degree 3 and points can\n",
    "have different weights according to their reliability. Variants are\n",
    "`InterpolatedUnivariateSpline` and `LSQUnivariateSpline` on which\n",
    "errors checking is going to change. In case a 2D spline is wanted,\n",
    "the `BivariateSpline` class family is provided. All those classes\n",
    "for 1D and 2D splines use the FITPACK Fortran subroutines, that's why a\n",
    "lower library access is available through the `splrep` and `splev`\n",
    "functions for respectively representing and evaluating a spline.\n",
    "Moreover interpolation functions without the use of FITPACK parameters\n",
    "are also provided for simpler use.\n",
    "\n",
    "For the Sprogø maxima wind speeds, the `UnivariateSpline` will be\n",
    "used because a spline of degree 3 seems to correctly fit the data:"
   ]
  },
  {
   "cell_type": "code",
   "execution_count": null,
   "id": "0a15d5de",
   "metadata": {},
   "outputs": [],
   "source": [
    "import scipy as sp\n",
    "\n",
    "quantile_func = sp.interpolate.UnivariateSpline(cprob, sorted_max_speeds)"
   ]
  },
  {
   "cell_type": "markdown",
   "id": "299c8a10",
   "metadata": {},
   "source": [
    "The quantile function is now going to be evaluated from the full range\n",
    "of probabilities:"
   ]
  },
  {
   "cell_type": "code",
   "execution_count": null,
   "id": "ea58fee0",
   "metadata": {},
   "outputs": [],
   "source": [
    "nprob = np.linspace(0, 1, 100)\n",
    "fitted_max_speeds = quantile_func(nprob)"
   ]
  },
  {
   "cell_type": "markdown",
   "id": "fc3ebb89",
   "metadata": {},
   "source": [
    "In the current model, the maximum wind speed occurring every 50 years is\n",
    "defined as the upper 2% quantile. As a result, the cumulative probability\n",
    "value will be:"
   ]
  },
  {
   "cell_type": "code",
   "execution_count": null,
   "id": "88a8965b",
   "metadata": {},
   "outputs": [],
   "source": [
    "fifty_prob = 1. - 0.02"
   ]
  },
  {
   "cell_type": "markdown",
   "id": "9e019a3a",
   "metadata": {},
   "source": [
    "So the storm wind speed occurring every 50 years can be guessed by:"
   ]
  },
  {
   "cell_type": "code",
   "execution_count": null,
   "id": "c591baa1",
   "metadata": {},
   "outputs": [],
   "source": [
    "fifty_wind = quantile_func(fifty_prob)\n",
    "fifty_wind"
   ]
  },
  {
   "cell_type": "markdown",
   "id": "14612e35",
   "metadata": {},
   "source": [
    "The results are now gathered on a Matplotlib figure:"
   ]
  },
  {
   "cell_type": "code",
   "execution_count": null,
   "id": "66b3437d",
   "metadata": {
    "tags": [
     "hide-input"
    ]
   },
   "outputs": [],
   "source": [
    "plt.plot(sorted_max_speeds, cprob, \"o\")\n",
    "plt.plot(fitted_max_speeds, nprob, \"g--\")\n",
    "plt.plot([fifty_wind], [fifty_prob], \"o\", ms=8.0, mfc=\"y\", mec=\"y\")\n",
    "plt.text(30, 0.05, rf\"$V_{{50}} = {fifty_wind:.2f} \\, m/s$\")\n",
    "plt.plot([fifty_wind, fifty_wind], [plt.axis()[2], fifty_prob], \"k--\")\n",
    "plt.xlabel(\"Annual wind speed maxima [$m/s$]\")\n",
    "plt.ylabel(\"Cumulative probability\")"
   ]
  },
  {
   "cell_type": "markdown",
   "id": "99c5e7f6",
   "metadata": {},
   "source": [
    "## Exercise with the Gumbell distribution\n",
    "\n",
    "The interested readers are now invited to make an exercise by using the wind\n",
    "speeds measured over 21 years. The measurement period is around 90 minutes\n",
    "(the original period was around 10 minutes but the file size has been reduced\n",
    "for making the exercise setup easier). The data are stored in NumPy format\n",
    "inside the file {download}`examples/sprog-windspeeds.npy`. Do not look at the\n",
    "source code for the plots until you have completed the exercise.\n",
    "\n",
    "::: {exercise-start}\n",
    ":label: gumbel-max-ex\n",
    ":class: dropdown\n",
    ":::\n",
    "\n",
    "The **first step** will be to find the annual maxima by using NumPy and plot\n",
    "them as a matplotlib bar figure.\n",
    "\n",
    "::: {exercise-end}\n",
    ":::\n",
    "\n",
    "::: {solution-start} gumbel-max-ex\n",
    ":class: dropdown\n",
    ":::"
   ]
  },
  {
   "cell_type": "code",
   "execution_count": null,
   "id": "4c1e826b",
   "metadata": {},
   "outputs": [],
   "source": [
    "years_nb = 21\n",
    "wspeeds = np.load(\"examples/sprog-windspeeds.npy\")\n",
    "max_speeds = np.array([arr.max() for arr in np.array_split(wspeeds, years_nb)])"
   ]
  },
  {
   "cell_type": "code",
   "execution_count": null,
   "id": "5a9637f9",
   "metadata": {},
   "outputs": [],
   "source": [
    "plt.bar(np.arange(years_nb) + 1, max_speeds)\n",
    "plt.axis(\"tight\")\n",
    "plt.xlabel(\"Year\")\n",
    "plt.ylabel(\"Annual wind speed maxima [$m/s$]\");"
   ]
  },
  {
   "cell_type": "markdown",
   "id": "3a36e167",
   "metadata": {},
   "source": [
    "::: {solution-end}\n",
    ":::\n",
    "\n",
    "::: {exercise-start}\n",
    ":label: gumbel-predict-ex\n",
    ":class: dropdown\n",
    ":::\n",
    "\n",
    "The **second step** will be to use the Gumbell distribution on cumulative\n",
    "probabilities `p_i` defined as `-log( -log(p_i) )` for fitting a linear\n",
    "quantile function (remember that you can define the degree of the\n",
    "`UnivariateSpline`). Plotting the annual maxima versus the Gumbell\n",
    "distribution should give you the following figure.\n",
    "\n",
    "The **last step** will be to find 34.23 m/s for the maximum wind speed\n",
    "occurring every 50 years.\n",
    "\n",
    "::: {exercise-end}\n",
    ":::\n",
    "\n",
    "::: {solution-start} gumbel-predict-ex\n",
    ":class: dropdown\n",
    ":::\n",
    "\n",
    "This follows on from the exercise above."
   ]
  },
  {
   "cell_type": "code",
   "execution_count": null,
   "id": "826c68ea",
   "metadata": {},
   "outputs": [],
   "source": [
    "def gumbell_dist(arr):\n",
    "    return -np.log(-np.log(arr))"
   ]
  },
  {
   "cell_type": "code",
   "execution_count": null,
   "id": "f2da039d",
   "metadata": {},
   "outputs": [],
   "source": [
    "sorted_max_speeds = np.sort(max_speeds)\n",
    "cprob = (np.arange(years_nb, dtype=np.float32) + 1) / (years_nb + 1)\n",
    "gprob = gumbell_dist(cprob)\n",
    "speed_spline = sp.interpolate.UnivariateSpline(gprob, sorted_max_speeds, k=1)\n",
    "nprob = gumbell_dist(np.linspace(1e-3, 1 - 1e-3, 100))\n",
    "fitted_max_speeds = speed_spline(nprob)"
   ]
  },
  {
   "cell_type": "code",
   "execution_count": null,
   "id": "4ddafb8e",
   "metadata": {},
   "outputs": [],
   "source": [
    "fifty_prob = gumbell_dist(49.0 / 50.0)\n",
    "fifty_wind = speed_spline(fifty_prob)"
   ]
  },
  {
   "cell_type": "code",
   "execution_count": null,
   "id": "06417b7b",
   "metadata": {},
   "outputs": [],
   "source": [
    "plt.plot(sorted_max_speeds, gprob, \"o\")\n",
    "plt.plot(fitted_max_speeds, nprob, \"g--\")\n",
    "plt.plot([fifty_wind], [fifty_prob], \"o\", ms=8.0, mfc=\"y\", mec=\"y\")\n",
    "plt.plot([fifty_wind, fifty_wind], [plt.axis()[2], fifty_prob], \"k--\")\n",
    "plt.text(35, -1, rf\"$V_{{50}} = {fifty_wind:.2f} \\, m/s$\")\n",
    "plt.xlabel(\"Annual wind speed maxima [$m/s$]\")\n",
    "plt.ylabel(\"Gumbell cumulative probability\");"
   ]
  },
  {
   "cell_type": "markdown",
   "id": "c808ff48",
   "metadata": {},
   "source": [
    "::: {solution-end}\n",
    ":::"
   ]
  }
 ],
 "metadata": {
  "jupytext": {
   "text_representation": {
    "extension": ".md",
    "format_name": "myst",
    "format_version": 0.13,
    "jupytext_version": "1.18.0-dev"
   }
  },
  "kernelspec": {
   "display_name": "Python 3 (ipykernel)",
   "language": "python",
   "name": "python3"
  },
  "orphan": true
 },
 "nbformat": 4,
 "nbformat_minor": 5
}