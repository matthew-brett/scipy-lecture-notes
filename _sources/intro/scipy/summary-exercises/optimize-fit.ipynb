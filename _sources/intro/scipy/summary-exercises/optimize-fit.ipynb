{
 "cells": [
  {
   "cell_type": "markdown",
   "id": "bb51659c",
   "metadata": {},
   "source": [
    "(summary-exercise-optimize)=\n",
    "\n",
    "# Non linear least squares curve fitting: application to point extraction in topographical lidar data\n",
    "\n",
    "The goal of this exercise is to fit a model to some data. The data used in this tutorial are lidar data and are described in details in the following introductory paragraph. If you're impatient and want to practice now, please skip it and go directly to {ref}`opt-fit-first-step`.\n",
    "\n",
    "## Introduction\n",
    "\n",
    "Lidars systems are optical rangefinders that analyze property of scattered\n",
    "light to measure distances. Most of them emit a short light impulsion towards\n",
    "a target and record the reflected signal. This signal is then processed to\n",
    "extract the distance between the lidar system and the target.\n",
    "\n",
    "Topographical lidar systems are such systems embedded in airborne platforms.\n",
    "They measure distances between the platform and the Earth, so as to deliver\n",
    "information on the Earth's topography (see [^mallet] for more details).\n",
    "\n",
    "[^mallet]:\n",
    "    Mallet, C. and Bretar, F. Full-Waveform Topographic Lidar:\n",
    "    State-of-the-Art. _ISPRS Journal of Photogrammetry and Remote Sensing_\n",
    "    64(1), pp.1-16, January 2009\n",
    "    <http://dx.doi.org/10.1016/j.isprsjprs.2008.09.007>\n",
    "\n",
    "In this tutorial, the goal is to analyze the waveform recorded by the lidar\n",
    "system [^data]. Such a signal contains peaks whose center and amplitude permit\n",
    "to compute the position and some characteristics of the hit target. When the\n",
    "footprint of the laser beam is around 1m on the Earth surface, the beam can\n",
    "hit multiple targets during the two-way propagation (for example the ground\n",
    "and the top of a tree or building). The sum of the contributions of each\n",
    "target hit by the laser beam then produces a complex signal with multiple\n",
    "peaks, each one containing information about one target.\n",
    "\n",
    "One state of the art method to extract information from these data is to\n",
    "decompose them in a sum of Gaussian functions where each function represents\n",
    "the contribution of a target hit by the laser beam.\n",
    "\n",
    "Therefore, we use the {mod}`scipy.optimize` module to fit a waveform to one or\n",
    "a sum of Gaussian functions.\n",
    "\n",
    "(opt-fit-first-step)=\n",
    "\n",
    "## Loading and visualization\n",
    "\n",
    "Load the first waveform using:"
   ]
  },
  {
   "cell_type": "code",
   "execution_count": null,
   "id": "81c73106",
   "metadata": {
    "tags": [
     "hide-input"
    ]
   },
   "outputs": [],
   "source": [
    "import numpy as np\n",
    "import scipy as sp\n",
    "import matplotlib.pyplot as plt"
   ]
  },
  {
   "cell_type": "code",
   "execution_count": null,
   "id": "9f2d2d48",
   "metadata": {},
   "outputs": [],
   "source": [
    "waveform_1 = np.load('examples/waveform_1.npy')\n",
    "\n",
    "# Times for samples.\n",
    "t = np.arange(len(waveform_1))"
   ]
  },
  {
   "cell_type": "markdown",
   "id": "97feede1",
   "metadata": {},
   "source": [
    "and visualize it:"
   ]
  },
  {
   "cell_type": "code",
   "execution_count": null,
   "id": "16aaa5e3",
   "metadata": {},
   "outputs": [],
   "source": [
    "fig, ax = plt.subplots(figsize=(8, 6))\n",
    "plt.plot(t, waveform_1)\n",
    "plt.xlabel(\"Time [ns]\")\n",
    "plt.ylabel(\"Amplitude [bins]\")"
   ]
  },
  {
   "cell_type": "markdown",
   "id": "a030713d",
   "metadata": {},
   "source": [
    "As shown above, this waveform is a 80-bin-length signal with a single peak\n",
    "with an amplitude of approximately 30 in the 15 nanosecond bin. Additionally,\n",
    "the base level of noise is approximately 3. These values can be used in the\n",
    "initial solution."
   ]
  },
  {
   "cell_type": "markdown",
   "id": "9390800c",
   "metadata": {},
   "source": [
    "## Fitting a waveform with a simple Gaussian model\n",
    "\n",
    "The signal is very simple and can be modeled as a single Gaussian function and\n",
    "an offset corresponding to the background noise. To fit the signal with the\n",
    "function, we must:\n",
    "\n",
    "- define the model\n",
    "- propose an initial solution\n",
    "- call `scipy.optimize.leastsq`\n",
    "\n",
    "### Model\n",
    "\n",
    "A Gaussian function defined by\n",
    "\n",
    "$$\n",
    "B + A \\exp\\left\\{-\\left(\\frac{t-\\mu}{\\sigma}\\right)^2\\right\\}\n",
    "$$\n",
    "\n",
    "can be defined in python by:"
   ]
  },
  {
   "cell_type": "code",
   "execution_count": null,
   "id": "83a45f8d",
   "metadata": {},
   "outputs": [],
   "source": [
    "def model(t, coeffs):\n",
    "    return coeffs[0] + coeffs[1] * np.exp( - ((t-coeffs[2])/coeffs[3])**2 )"
   ]
  },
  {
   "cell_type": "markdown",
   "id": "412b743c",
   "metadata": {},
   "source": [
    "where\n",
    "\n",
    "- `coeffs[0]` is $B$ (noise)\n",
    "- `coeffs[1]` is $A$ (amplitude)\n",
    "- `coeffs[2]` is $\\mu$ (center)\n",
    "- `coeffs[3]` is $\\sigma$ (width)\n",
    "\n",
    "### Initial solution\n",
    "\n",
    "One possible initial solution that we determine by inspection is:"
   ]
  },
  {
   "cell_type": "code",
   "execution_count": null,
   "id": "6f47c03d",
   "metadata": {},
   "outputs": [],
   "source": [
    "x0 = np.array([3, 30, 15, 1], dtype=float)"
   ]
  },
  {
   "cell_type": "markdown",
   "id": "2f526cc1",
   "metadata": {},
   "source": [
    "### Fit\n",
    "\n",
    "`scipy.optimize.leastsq` minimizes the sum of squares of the function given as\n",
    "an argument. Basically, the function to minimize is the residuals (the\n",
    "difference between the data and the model):"
   ]
  },
  {
   "cell_type": "code",
   "execution_count": null,
   "id": "c1499574",
   "metadata": {},
   "outputs": [],
   "source": [
    "def residuals(coeffs, y, t):\n",
    "    return y - model(t, coeffs)"
   ]
  },
  {
   "cell_type": "markdown",
   "id": "185f42ab",
   "metadata": {},
   "source": [
    "So let's get our solution by calling {func}`scipy.optimize.leastsq` with the\n",
    "following arguments:\n",
    "\n",
    "- the function to minimize\n",
    "- an initial solution\n",
    "- the additional arguments to pass to the function"
   ]
  },
  {
   "cell_type": "code",
   "execution_count": null,
   "id": "19e3f63e",
   "metadata": {},
   "outputs": [],
   "source": [
    "t = np.arange(len(waveform_1))\n",
    "x, flag = sp.optimize.leastsq(residuals, x0, args=(waveform_1, t))\n",
    "x"
   ]
  },
  {
   "cell_type": "markdown",
   "id": "0908c7b9",
   "metadata": {},
   "source": [
    "And visualize the solution:"
   ]
  },
  {
   "cell_type": "code",
   "execution_count": null,
   "id": "ea628465",
   "metadata": {
    "tags": [
     "hide-input"
    ]
   },
   "outputs": [],
   "source": [
    "fig, ax = plt.subplots(figsize=(8, 6))\n",
    "plt.plot(t, waveform_1, t, model(t, x))\n",
    "plt.xlabel(\"Time [ns]\")\n",
    "plt.ylabel(\"Amplitude [bins]\")\n",
    "plt.legend([\"Waveform\", \"Model\"]);"
   ]
  },
  {
   "cell_type": "markdown",
   "id": "a16e24cc",
   "metadata": {},
   "source": [
    "_Remark:_ in fact, you should rather use {func}`scipy.optimize.curve_fit`\n",
    "which takes the model and the data as arguments, so you don't need to define\n",
    "the residuals any more."
   ]
  },
  {
   "cell_type": "markdown",
   "id": "096f792a",
   "metadata": {},
   "source": [
    "## Going further\n",
    "\n",
    "::: {exercise-start}\n",
    ":label: opt-complex-lidar-ex\n",
    ":class: dropdown\n",
    ":::\n",
    "\n",
    "Try with a more complex waveform (for instance `waveform_2.npy`) that contains\n",
    "three significant peaks. You must adapt the model which is now a sum of\n",
    "Gaussian functions instead of only one Gaussian peak."
   ]
  },
  {
   "cell_type": "code",
   "execution_count": null,
   "id": "f6e722a5",
   "metadata": {},
   "outputs": [],
   "source": [
    "waveform_2 = np.load(\"examples/waveform_2.npy\")\n",
    "\n",
    "t = np.arange(len(waveform_2))\n",
    "\n",
    "fig, ax = plt.subplots(figsize=(8, 6))\n",
    "plt.plot(t, waveform_2)\n",
    "plt.xlabel(\"Time [ns]\")\n",
    "plt.ylabel(\"Amplitude [bins]\");"
   ]
  },
  {
   "cell_type": "markdown",
   "id": "c1f0a54a",
   "metadata": {},
   "source": [
    "In some cases, writing an explicit function to compute the Jacobian is faster\n",
    "than letting `leastsq` estimate it numerically. Create a function to compute\n",
    "the Jacobian of the residuals and use it as an input for `leastsq`.\n",
    "\n",
    "When we want to detect very small peaks in the signal, or when the initial\n",
    "guess is too far from a good solution, the result given by the algorithm is\n",
    "often not satisfying. Adding constraints to the parameters of the model\n",
    "enables to overcome such limitations. An example of _a priori_ knowledge we can\n",
    "add is the sign of our variables (which are all positive).\n",
    "\n",
    "::: {exercise-end}\n",
    ":::\n",
    "\n",
    "::: {solution-start} opt-complex-lidar-ex\n",
    ":class: dropdown\n",
    ":::\n",
    "\n",
    "Generate a chart of the data fitted by Gaussian curve:"
   ]
  },
  {
   "cell_type": "code",
   "execution_count": null,
   "id": "6b882fe4",
   "metadata": {},
   "outputs": [],
   "source": [
    "def model(t, coeffs):\n",
    "    return (\n",
    "        coeffs[0]\n",
    "        + coeffs[1] * np.exp(-(((t - coeffs[2]) / coeffs[3]) ** 2))\n",
    "        + coeffs[4] * np.exp(-(((t - coeffs[5]) / coeffs[6]) ** 2))\n",
    "        + coeffs[7] * np.exp(-(((t - coeffs[8]) / coeffs[9]) ** 2))\n",
    "    )"
   ]
  },
  {
   "cell_type": "code",
   "execution_count": null,
   "id": "54b7ca98",
   "metadata": {},
   "outputs": [],
   "source": [
    "def residuals(coeffs, y, t):\n",
    "    return y - model(t, coeffs)"
   ]
  },
  {
   "cell_type": "code",
   "execution_count": null,
   "id": "3c582bc6",
   "metadata": {},
   "outputs": [],
   "source": [
    "waveform_2 = np.load(\"examples/waveform_2.npy\")\n",
    "t = np.arange(len(waveform_2))"
   ]
  },
  {
   "cell_type": "code",
   "execution_count": null,
   "id": "fd279169",
   "metadata": {},
   "outputs": [],
   "source": [
    "x0 = np.array([3, 30, 20, 1, 12, 25, 1, 8, 28, 1], dtype=float)\n",
    "x, flag = sp.optimize.leastsq(residuals, x0, args=(waveform_2, t))"
   ]
  },
  {
   "cell_type": "code",
   "execution_count": null,
   "id": "287adf09",
   "metadata": {},
   "outputs": [],
   "source": [
    "fig, ax = plt.subplots(figsize=(8, 6))\n",
    "plt.plot(t, waveform_2, t, model(t, x))\n",
    "plt.xlabel(\"Time [ns]\")\n",
    "plt.ylabel(\"Amplitude [bins]\")\n",
    "plt.legend([\"Waveform\", \"Model\"]);"
   ]
  },
  {
   "cell_type": "markdown",
   "id": "420983f1",
   "metadata": {},
   "source": [
    "::: {solution-end}\n",
    ":::\n",
    "\n",
    "Further exercise: compare the result of {func}`scipy.optimize.leastsq` and\n",
    "what you can get with {func}`scipy.optimize.fmin_slsqp` when adding boundary\n",
    "constraints.\n",
    "\n",
    "[^data]:\n",
    "    The data used for this tutorial are part of the demonstration data\n",
    "    available for the [FullAnalyze\n",
    "    software](https://fullanalyze.sourceforge.net) and were kindly provided by\n",
    "    the GIS DRAIX."
   ]
  }
 ],
 "metadata": {
  "jupytext": {
   "text_representation": {
    "extension": ".md",
    "format_name": "myst",
    "format_version": 0.13,
    "jupytext_version": "1.18.0-dev"
   }
  },
  "kernelspec": {
   "display_name": "Python 3 (ipykernel)",
   "language": "python",
   "name": "python3"
  },
  "orphan": true
 },
 "nbformat": 4,
 "nbformat_minor": 5
}