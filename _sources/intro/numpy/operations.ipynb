{
 "cells": [
  {
   "cell_type": "markdown",
   "id": "50075226",
   "metadata": {},
   "source": [
    "# Numerical operations on arrays"
   ]
  },
  {
   "cell_type": "code",
   "execution_count": 1,
   "id": "6d90469f",
   "metadata": {
    "tags": [
     "hide-input"
    ]
   },
   "outputs": [],
   "source": [
    "import numpy as np\n",
    "import matplotlib.pyplot as plt"
   ]
  },
  {
   "cell_type": "markdown",
   "id": "91f88de6",
   "metadata": {},
   "source": [
    "## Elementwise operations\n",
    "\n",
    "### Basic operations\n",
    "\n",
    "With scalars:"
   ]
  },
  {
   "cell_type": "code",
   "execution_count": 2,
   "id": "da20df14",
   "metadata": {},
   "outputs": [
    {
     "data": {
      "text/plain": [
       "array([2, 3, 4, 5])"
      ]
     },
     "execution_count": 2,
     "metadata": {},
     "output_type": "execute_result"
    }
   ],
   "source": [
    "a = np.array([1, 2, 3, 4])\n",
    "a + 1"
   ]
  },
  {
   "cell_type": "code",
   "execution_count": 3,
   "id": "0d181ffe",
   "metadata": {},
   "outputs": [
    {
     "data": {
      "text/plain": [
       "array([ 2,  4,  8, 16])"
      ]
     },
     "execution_count": 3,
     "metadata": {},
     "output_type": "execute_result"
    }
   ],
   "source": [
    "2 ** a"
   ]
  },
  {
   "cell_type": "markdown",
   "id": "8a22983f",
   "metadata": {},
   "source": [
    "All arithmetic operates elementwise:"
   ]
  },
  {
   "cell_type": "code",
   "execution_count": 4,
   "id": "9337acc1",
   "metadata": {},
   "outputs": [
    {
     "data": {
      "text/plain": [
       "array([-1.,  0.,  1.,  2.])"
      ]
     },
     "execution_count": 4,
     "metadata": {},
     "output_type": "execute_result"
    }
   ],
   "source": [
    "b = np.ones(4) + 1\n",
    "a - b"
   ]
  },
  {
   "cell_type": "code",
   "execution_count": 5,
   "id": "a752edb4",
   "metadata": {},
   "outputs": [
    {
     "data": {
      "text/plain": [
       "array([2., 4., 6., 8.])"
      ]
     },
     "execution_count": 5,
     "metadata": {},
     "output_type": "execute_result"
    }
   ],
   "source": [
    "a * b"
   ]
  },
  {
   "cell_type": "code",
   "execution_count": 6,
   "id": "ad0020a3",
   "metadata": {},
   "outputs": [
    {
     "data": {
      "text/plain": [
       "array([ 2,  3,  6, 13, 28])"
      ]
     },
     "execution_count": 6,
     "metadata": {},
     "output_type": "execute_result"
    }
   ],
   "source": [
    "j = np.arange(5)\n",
    "2**(j + 1) - j"
   ]
  },
  {
   "cell_type": "markdown",
   "id": "128f5fe0",
   "metadata": {},
   "source": [
    "These operations are of course much faster than if you did them in pure python:"
   ]
  },
  {
   "cell_type": "code",
   "execution_count": 7,
   "id": "0df4b3b6",
   "metadata": {},
   "outputs": [
    {
     "name": "stdout",
     "output_type": "stream",
     "text": [
      "3.93 μs ± 75.1 ns per loop (mean ± std. dev. of 7 runs, 100,000 loops each)\n"
     ]
    }
   ],
   "source": [
    "a = np.arange(10000)\n",
    "%timeit a + 1"
   ]
  },
  {
   "cell_type": "code",
   "execution_count": 8,
   "id": "7c428754",
   "metadata": {},
   "outputs": [
    {
     "name": "stdout",
     "output_type": "stream",
     "text": [
      "404 μs ± 469 ns per loop (mean ± std. dev. of 7 runs, 1,000 loops each)\n"
     ]
    }
   ],
   "source": [
    "l = range(10000)\n",
    "%timeit [i+1 for i in l]"
   ]
  },
  {
   "cell_type": "markdown",
   "id": "0b8a778c",
   "metadata": {},
   "source": [
    "**Warning: array multiplication is not matrix multiplication**\n",
    "\n",
    "Consider these examples:"
   ]
  },
  {
   "cell_type": "code",
   "execution_count": 9,
   "id": "b12ffc8b",
   "metadata": {},
   "outputs": [
    {
     "data": {
      "text/plain": [
       "array([[1., 1., 1.],\n",
       "       [1., 1., 1.],\n",
       "       [1., 1., 1.]])"
      ]
     },
     "execution_count": 9,
     "metadata": {},
     "output_type": "execute_result"
    }
   ],
   "source": [
    "c = np.ones((3, 3))\n",
    "c * c                   # NOT matrix multiplication!"
   ]
  },
  {
   "cell_type": "markdown",
   "id": "82a70bf8",
   "metadata": {},
   "source": [
    "**Matrix multiplication:**"
   ]
  },
  {
   "cell_type": "code",
   "execution_count": 10,
   "id": "868fac02",
   "metadata": {},
   "outputs": [
    {
     "data": {
      "text/plain": [
       "array([[3., 3., 3.],\n",
       "       [3., 3., 3.],\n",
       "       [3., 3., 3.]])"
      ]
     },
     "execution_count": 10,
     "metadata": {},
     "output_type": "execute_result"
    }
   ],
   "source": [
    "c @ c"
   ]
  },
  {
   "cell_type": "markdown",
   "id": "a48c9d5a",
   "metadata": {},
   "source": [
    "::: {exercise-start}\n",
    ":label: elementwise-exercise\n",
    ":class: dropdown\n",
    ":::\n",
    "\n",
    "- Try simple arithmetic elementwise operations: add even elements\n",
    "  with odd elements\n",
    "- Time them against their pure python counterparts using `%timeit`.\n",
    "- Generate:\n",
    "\n",
    "  - `[2**0, 2**1, 2**2, 2**3, 2**4]`\n",
    "  - `a_j = 2^(3*j) - j`\n",
    "\n",
    "::: {exercise-end}\n",
    ":::\n",
    "\n",
    "### Other operations\n",
    "\n",
    "#### Comparisons"
   ]
  },
  {
   "cell_type": "code",
   "execution_count": 11,
   "id": "9479f396",
   "metadata": {},
   "outputs": [
    {
     "data": {
      "text/plain": [
       "array([False,  True, False,  True])"
      ]
     },
     "execution_count": 11,
     "metadata": {},
     "output_type": "execute_result"
    }
   ],
   "source": [
    "a = np.array([1, 2, 3, 4])\n",
    "b = np.array([4, 2, 2, 4])\n",
    "a == b"
   ]
  },
  {
   "cell_type": "code",
   "execution_count": 12,
   "id": "420041db",
   "metadata": {},
   "outputs": [
    {
     "data": {
      "text/plain": [
       "array([False, False,  True, False])"
      ]
     },
     "execution_count": 12,
     "metadata": {},
     "output_type": "execute_result"
    }
   ],
   "source": [
    "a > b"
   ]
  },
  {
   "cell_type": "markdown",
   "id": "875133c9",
   "metadata": {},
   "source": [
    "Array-wise comparisons:"
   ]
  },
  {
   "cell_type": "code",
   "execution_count": 13,
   "id": "41fca5d2",
   "metadata": {},
   "outputs": [
    {
     "data": {
      "text/plain": [
       "False"
      ]
     },
     "execution_count": 13,
     "metadata": {},
     "output_type": "execute_result"
    }
   ],
   "source": [
    "a = np.array([1, 2, 3, 4])\n",
    "b = np.array([4, 2, 2, 4])\n",
    "c = np.array([1, 2, 3, 4])\n",
    "np.array_equal(a, b)"
   ]
  },
  {
   "cell_type": "code",
   "execution_count": 14,
   "id": "edfaf6cb",
   "metadata": {},
   "outputs": [
    {
     "data": {
      "text/plain": [
       "True"
      ]
     },
     "execution_count": 14,
     "metadata": {},
     "output_type": "execute_result"
    }
   ],
   "source": [
    "np.array_equal(a, c)"
   ]
  },
  {
   "cell_type": "markdown",
   "id": "5064a9c6",
   "metadata": {},
   "source": [
    "#### Logical operations"
   ]
  },
  {
   "cell_type": "code",
   "execution_count": 15,
   "id": "6ca4d647",
   "metadata": {},
   "outputs": [
    {
     "data": {
      "text/plain": [
       "array([ True,  True,  True, False])"
      ]
     },
     "execution_count": 15,
     "metadata": {},
     "output_type": "execute_result"
    }
   ],
   "source": [
    "a = np.array([1, 1, 0, 0], dtype=bool)\n",
    "b = np.array([1, 0, 1, 0], dtype=bool)\n",
    "np.logical_or(a, b)"
   ]
  },
  {
   "cell_type": "code",
   "execution_count": 16,
   "id": "e0063f0d",
   "metadata": {},
   "outputs": [
    {
     "data": {
      "text/plain": [
       "array([ True, False, False, False])"
      ]
     },
     "execution_count": 16,
     "metadata": {},
     "output_type": "execute_result"
    }
   ],
   "source": [
    "np.logical_and(a, b)"
   ]
  },
  {
   "cell_type": "markdown",
   "id": "6d13eb0d",
   "metadata": {},
   "source": [
    "#### Transcendental functions"
   ]
  },
  {
   "cell_type": "code",
   "execution_count": 17,
   "id": "9c99f8fa",
   "metadata": {},
   "outputs": [
    {
     "data": {
      "text/plain": [
       "array([ 0.        ,  0.84147098,  0.90929743,  0.14112001, -0.7568025 ])"
      ]
     },
     "execution_count": 17,
     "metadata": {},
     "output_type": "execute_result"
    }
   ],
   "source": [
    "a = np.arange(5)\n",
    "np.sin(a)"
   ]
  },
  {
   "cell_type": "code",
   "execution_count": 18,
   "id": "395c5a75",
   "metadata": {},
   "outputs": [
    {
     "data": {
      "text/plain": [
       "array([ 1.        ,  2.71828183,  7.3890561 , 20.08553692, 54.59815003])"
      ]
     },
     "execution_count": 18,
     "metadata": {},
     "output_type": "execute_result"
    }
   ],
   "source": [
    "np.exp(a)"
   ]
  },
  {
   "cell_type": "code",
   "execution_count": 19,
   "id": "d7c68c00",
   "metadata": {},
   "outputs": [
    {
     "data": {
      "text/plain": [
       "array([0., 1., 2., 3., 4.])"
      ]
     },
     "execution_count": 19,
     "metadata": {},
     "output_type": "execute_result"
    }
   ],
   "source": [
    "np.log(np.exp(a))"
   ]
  },
  {
   "cell_type": "markdown",
   "id": "74385a75",
   "metadata": {},
   "source": [
    "#### Shape mismatches"
   ]
  },
  {
   "cell_type": "code",
   "execution_count": 20,
   "id": "98aad22f",
   "metadata": {
    "tags": [
     "raises-exception"
    ]
   },
   "outputs": [
    {
     "ename": "ValueError",
     "evalue": "operands could not be broadcast together with shapes (4,) (2,) ",
     "output_type": "error",
     "traceback": [
      "\u001b[31m---------------------------------------------------------------------------\u001b[39m",
      "\u001b[31mValueError\u001b[39m                                Traceback (most recent call last)",
      "\u001b[36mCell\u001b[39m\u001b[36m \u001b[39m\u001b[32mIn[20]\u001b[39m\u001b[32m, line 2\u001b[39m\n\u001b[32m      1\u001b[39m a = np.arange(\u001b[32m4\u001b[39m)\n\u001b[32m----> \u001b[39m\u001b[32m2\u001b[39m \u001b[43ma\u001b[49m\u001b[43m \u001b[49m\u001b[43m+\u001b[49m\u001b[43m \u001b[49m\u001b[43mnp\u001b[49m\u001b[43m.\u001b[49m\u001b[43marray\u001b[49m\u001b[43m(\u001b[49m\u001b[43m[\u001b[49m\u001b[32;43m1\u001b[39;49m\u001b[43m,\u001b[49m\u001b[43m \u001b[49m\u001b[32;43m2\u001b[39;49m\u001b[43m]\u001b[49m\u001b[43m)\u001b[49m\n",
      "\u001b[31mValueError\u001b[39m: operands could not be broadcast together with shapes (4,) (2,) "
     ]
    }
   ],
   "source": [
    "a = np.arange(4)\n",
    "a + np.array([1, 2])"
   ]
  },
  {
   "cell_type": "markdown",
   "id": "82b7256d",
   "metadata": {},
   "source": [
    "_Broadcasting?_ We'll return to that {ref}`later <broadcasting>`.\n",
    "\n",
    "#### Transposition"
   ]
  },
  {
   "cell_type": "code",
   "execution_count": 21,
   "id": "857ff5c9",
   "metadata": {},
   "outputs": [
    {
     "data": {
      "text/plain": [
       "array([[0., 1., 1.],\n",
       "       [0., 0., 1.],\n",
       "       [0., 0., 0.]])"
      ]
     },
     "execution_count": 21,
     "metadata": {},
     "output_type": "execute_result"
    }
   ],
   "source": [
    "a = np.triu(np.ones((3, 3)), 1)   # see help(np.triu)\n",
    "a"
   ]
  },
  {
   "cell_type": "code",
   "execution_count": 22,
   "id": "ec391fe5",
   "metadata": {},
   "outputs": [
    {
     "data": {
      "text/plain": [
       "array([[0., 0., 0.],\n",
       "       [1., 0., 0.],\n",
       "       [1., 1., 0.]])"
      ]
     },
     "execution_count": 22,
     "metadata": {},
     "output_type": "execute_result"
    }
   ],
   "source": [
    "a.T"
   ]
  },
  {
   "cell_type": "markdown",
   "id": "ba907c9a",
   "metadata": {},
   "source": [
    "Remember, **the transposition is a view**.\n",
    "\n",
    "The transpose returns a _view_ of the original array:"
   ]
  },
  {
   "cell_type": "code",
   "execution_count": 23,
   "id": "b9958f38",
   "metadata": {},
   "outputs": [
    {
     "data": {
      "text/plain": [
       "array([[  0,   3, 999],\n",
       "       [  1,   4,   7],\n",
       "       [  2,   5,   8]])"
      ]
     },
     "execution_count": 23,
     "metadata": {},
     "output_type": "execute_result"
    }
   ],
   "source": [
    "a = np.arange(9).reshape(3, 3)\n",
    "a.T[0, 2] = 999\n",
    "a.T"
   ]
  },
  {
   "cell_type": "code",
   "execution_count": 24,
   "id": "d8dfc2a4",
   "metadata": {},
   "outputs": [
    {
     "data": {
      "text/plain": [
       "array([[  0,   1,   2],\n",
       "       [  3,   4,   5],\n",
       "       [999,   7,   8]])"
      ]
     },
     "execution_count": 24,
     "metadata": {},
     "output_type": "execute_result"
    }
   ],
   "source": [
    "a"
   ]
  },
  {
   "cell_type": "markdown",
   "id": "3132bd46",
   "metadata": {},
   "source": [
    "#### Linear algebra\n",
    "\n",
    "The sub-module {mod}`numpy.linalg` implements basic linear algebra, such as\n",
    "solving linear systems, singular value decomposition, etc. However, it is\n",
    "not guaranteed to be compiled using efficient routines, and thus we\n",
    "recommend the use of {mod}`scipy.linalg`, as detailed in section\n",
    "{ref}`scipy-linalg`\n",
    "\n",
    "::: {exercise-start}\n",
    ":label: other-operations-exercise\n",
    ":class: dropdown\n",
    ":::\n",
    "\n",
    "- Look at the help for `np.allclose`. When might this be useful?\n",
    "- Look at the help for `np.triu` and `np.tril`.\n",
    "\n",
    "::: {exercise-end}\n",
    ":::\n",
    "\n",
    "## Basic reductions\n",
    "\n",
    "### Computing sums"
   ]
  },
  {
   "cell_type": "code",
   "execution_count": 25,
   "id": "ef61cfe4",
   "metadata": {},
   "outputs": [
    {
     "data": {
      "text/plain": [
       "np.int64(10)"
      ]
     },
     "execution_count": 25,
     "metadata": {},
     "output_type": "execute_result"
    }
   ],
   "source": [
    "x = np.array([1, 2, 3, 4])\n",
    "np.sum(x)"
   ]
  },
  {
   "cell_type": "code",
   "execution_count": 26,
   "id": "5069534d",
   "metadata": {},
   "outputs": [
    {
     "data": {
      "text/plain": [
       "np.int64(10)"
      ]
     },
     "execution_count": 26,
     "metadata": {},
     "output_type": "execute_result"
    }
   ],
   "source": [
    "x.sum()"
   ]
  },
  {
   "cell_type": "markdown",
   "id": "720d4ebd",
   "metadata": {},
   "source": [
    "![](images/reductions.png)\n",
    "\n",
    "Sum by rows and by columns:"
   ]
  },
  {
   "cell_type": "code",
   "execution_count": 27,
   "id": "89a32bde",
   "metadata": {},
   "outputs": [
    {
     "data": {
      "text/plain": [
       "array([[1, 1],\n",
       "       [2, 2]])"
      ]
     },
     "execution_count": 27,
     "metadata": {},
     "output_type": "execute_result"
    }
   ],
   "source": [
    "x = np.array([[1, 1], [2, 2]])\n",
    "x"
   ]
  },
  {
   "cell_type": "code",
   "execution_count": 28,
   "id": "b95f5f7e",
   "metadata": {},
   "outputs": [
    {
     "data": {
      "text/plain": [
       "array([3, 3])"
      ]
     },
     "execution_count": 28,
     "metadata": {},
     "output_type": "execute_result"
    }
   ],
   "source": [
    "x.sum(axis=0)   # columns (first dimension)"
   ]
  },
  {
   "cell_type": "code",
   "execution_count": 29,
   "id": "866e64b1",
   "metadata": {},
   "outputs": [
    {
     "data": {
      "text/plain": [
       "(np.int64(3), np.int64(3))"
      ]
     },
     "execution_count": 29,
     "metadata": {},
     "output_type": "execute_result"
    }
   ],
   "source": [
    "x[:, 0].sum(), x[:, 1].sum()"
   ]
  },
  {
   "cell_type": "code",
   "execution_count": 30,
   "id": "ef253209",
   "metadata": {},
   "outputs": [
    {
     "data": {
      "text/plain": [
       "array([2, 4])"
      ]
     },
     "execution_count": 30,
     "metadata": {},
     "output_type": "execute_result"
    }
   ],
   "source": [
    "x.sum(axis=1)   # rows (second dimension)"
   ]
  },
  {
   "cell_type": "code",
   "execution_count": 31,
   "id": "afcfae59",
   "metadata": {},
   "outputs": [
    {
     "data": {
      "text/plain": [
       "(np.int64(2), np.int64(4))"
      ]
     },
     "execution_count": 31,
     "metadata": {},
     "output_type": "execute_result"
    }
   ],
   "source": [
    "x[0, :].sum(), x[1, :].sum()"
   ]
  },
  {
   "cell_type": "markdown",
   "id": "241244b3",
   "metadata": {},
   "source": [
    "Here is the same idea in higher dimensions:"
   ]
  },
  {
   "cell_type": "code",
   "execution_count": 32,
   "id": "0f29b408",
   "metadata": {},
   "outputs": [
    {
     "data": {
      "text/plain": [
       "np.float64(0.7341517644004746)"
      ]
     },
     "execution_count": 32,
     "metadata": {},
     "output_type": "execute_result"
    }
   ],
   "source": [
    "rng = np.random.default_rng(27446968)\n",
    "x = rng.random((2, 2, 2))\n",
    "x.sum(axis=2)[0, 1]"
   ]
  },
  {
   "cell_type": "code",
   "execution_count": 33,
   "id": "2685c804",
   "metadata": {},
   "outputs": [
    {
     "data": {
      "text/plain": [
       "np.float64(0.7341517644004746)"
      ]
     },
     "execution_count": 33,
     "metadata": {},
     "output_type": "execute_result"
    }
   ],
   "source": [
    "x[0, 1, :].sum()"
   ]
  },
  {
   "cell_type": "markdown",
   "id": "e5be329d",
   "metadata": {},
   "source": [
    "### Other reductions\n",
    "\n",
    "These work the same way (and take `axis=`)\n",
    "\n",
    "#### Extrema"
   ]
  },
  {
   "cell_type": "code",
   "execution_count": 34,
   "id": "b2fda1f0",
   "metadata": {},
   "outputs": [
    {
     "data": {
      "text/plain": [
       "np.int64(1)"
      ]
     },
     "execution_count": 34,
     "metadata": {},
     "output_type": "execute_result"
    }
   ],
   "source": [
    "x = np.array([1, 3, 2])\n",
    "x.min()"
   ]
  },
  {
   "cell_type": "code",
   "execution_count": 35,
   "id": "9517dd86",
   "metadata": {},
   "outputs": [
    {
     "data": {
      "text/plain": [
       "np.int64(3)"
      ]
     },
     "execution_count": 35,
     "metadata": {},
     "output_type": "execute_result"
    }
   ],
   "source": [
    "x.max()"
   ]
  },
  {
   "cell_type": "code",
   "execution_count": 36,
   "id": "91419b51",
   "metadata": {},
   "outputs": [
    {
     "data": {
      "text/plain": [
       "np.int64(0)"
      ]
     },
     "execution_count": 36,
     "metadata": {},
     "output_type": "execute_result"
    }
   ],
   "source": [
    "x.argmin()  # index of minimum"
   ]
  },
  {
   "cell_type": "code",
   "execution_count": 37,
   "id": "686dfe9a",
   "metadata": {},
   "outputs": [
    {
     "data": {
      "text/plain": [
       "np.int64(1)"
      ]
     },
     "execution_count": 37,
     "metadata": {},
     "output_type": "execute_result"
    }
   ],
   "source": [
    "x.argmax()  # index of maximum"
   ]
  },
  {
   "cell_type": "markdown",
   "id": "c42237af",
   "metadata": {},
   "source": [
    "#### Logical operations"
   ]
  },
  {
   "cell_type": "code",
   "execution_count": 38,
   "id": "b3497d80",
   "metadata": {},
   "outputs": [
    {
     "data": {
      "text/plain": [
       "np.False_"
      ]
     },
     "execution_count": 38,
     "metadata": {},
     "output_type": "execute_result"
    }
   ],
   "source": [
    "np.all([True, True, False])"
   ]
  },
  {
   "cell_type": "code",
   "execution_count": 39,
   "id": "e4392797",
   "metadata": {},
   "outputs": [
    {
     "data": {
      "text/plain": [
       "np.True_"
      ]
     },
     "execution_count": 39,
     "metadata": {},
     "output_type": "execute_result"
    }
   ],
   "source": [
    "np.any([True, True, False])"
   ]
  },
  {
   "cell_type": "markdown",
   "id": "17601257",
   "metadata": {},
   "source": [
    "This can be used for array comparisons:"
   ]
  },
  {
   "cell_type": "code",
   "execution_count": 40,
   "id": "6932dc4d",
   "metadata": {},
   "outputs": [
    {
     "data": {
      "text/plain": [
       "np.False_"
      ]
     },
     "execution_count": 40,
     "metadata": {},
     "output_type": "execute_result"
    }
   ],
   "source": [
    "a = np.zeros((100, 100))\n",
    "np.any(a != 0)"
   ]
  },
  {
   "cell_type": "code",
   "execution_count": 41,
   "id": "5b34dfad",
   "metadata": {},
   "outputs": [
    {
     "data": {
      "text/plain": [
       "np.True_"
      ]
     },
     "execution_count": 41,
     "metadata": {},
     "output_type": "execute_result"
    }
   ],
   "source": [
    "np.all(a == a)"
   ]
  },
  {
   "cell_type": "code",
   "execution_count": 42,
   "id": "6bc09bbd",
   "metadata": {},
   "outputs": [
    {
     "data": {
      "text/plain": [
       "np.True_"
      ]
     },
     "execution_count": 42,
     "metadata": {},
     "output_type": "execute_result"
    }
   ],
   "source": [
    "a = np.array([1, 2, 3, 2])\n",
    "b = np.array([2, 2, 3, 2])\n",
    "c = np.array([6, 4, 4, 5])\n",
    "((a <= b) & (b <= c)).all()"
   ]
  },
  {
   "cell_type": "markdown",
   "id": "0a204d31",
   "metadata": {},
   "source": [
    "**Statistics:**"
   ]
  },
  {
   "cell_type": "code",
   "execution_count": 43,
   "id": "b35ae306",
   "metadata": {},
   "outputs": [
    {
     "data": {
      "text/plain": [
       "np.float64(1.75)"
      ]
     },
     "execution_count": 43,
     "metadata": {},
     "output_type": "execute_result"
    }
   ],
   "source": [
    "x = np.array([1, 2, 3, 1])\n",
    "y = np.array([[1, 2, 3], [5, 6, 1]])\n",
    "x.mean()"
   ]
  },
  {
   "cell_type": "code",
   "execution_count": 44,
   "id": "b2da1cb0",
   "metadata": {},
   "outputs": [
    {
     "data": {
      "text/plain": [
       "np.float64(1.5)"
      ]
     },
     "execution_count": 44,
     "metadata": {},
     "output_type": "execute_result"
    }
   ],
   "source": [
    "np.median(x)"
   ]
  },
  {
   "cell_type": "code",
   "execution_count": 45,
   "id": "c9e43116",
   "metadata": {},
   "outputs": [
    {
     "data": {
      "text/plain": [
       "array([2., 5.])"
      ]
     },
     "execution_count": 45,
     "metadata": {},
     "output_type": "execute_result"
    }
   ],
   "source": [
    "np.median(y, axis=-1) # last axis"
   ]
  },
  {
   "cell_type": "code",
   "execution_count": 46,
   "id": "18fcb401",
   "metadata": {},
   "outputs": [
    {
     "data": {
      "text/plain": [
       "np.float64(0.82915619758885)"
      ]
     },
     "execution_count": 46,
     "metadata": {},
     "output_type": "execute_result"
    }
   ],
   "source": [
    "x.std()          # full population standard dev."
   ]
  },
  {
   "cell_type": "markdown",
   "id": "0200aab6",
   "metadata": {},
   "source": [
    "... and many more (best to learn as you go).\n",
    "\n",
    "::: {exercise-start}\n",
    ":label: reductions-exercise\n",
    ":class: dropdown\n",
    ":::\n",
    "\n",
    "Given there is a `sum`, what other function might you expect to see?\n",
    "What is the difference between `sum` and `cumsum`?\n",
    "\n",
    "::: {exercise-end}\n",
    ":::\n",
    "\n",
    "#### Worked Example: diffusion using a random walk algorithm\n",
    "\n",
    "![](random_walk.png)\n",
    "\n",
    "Let us consider a simple 1D random walk process: at each time step a\n",
    "walker jumps right or left with equal probability.\n",
    "\n",
    "We are interested in finding the typical distance from the origin of a\n",
    "random walker after `t` left or right jumps? We are going to\n",
    "simulate many \"walkers\" to find this law, and we are going to do so\n",
    "using array computing tricks: we are going to create a 2D array with\n",
    "the \"stories\" (each walker has a story) in one direction, and the\n",
    "time in the other:\n",
    "\n",
    "![](random_walk_schema.png)"
   ]
  },
  {
   "cell_type": "code",
   "execution_count": 47,
   "id": "e23c8ce0",
   "metadata": {},
   "outputs": [],
   "source": [
    "n_stories = 1000 # number of walkers\n",
    "t_max = 200      # time during which we follow the walker"
   ]
  },
  {
   "cell_type": "markdown",
   "id": "0bb23dd1",
   "metadata": {},
   "source": [
    "We randomly choose all the steps 1 or -1 of the walk:"
   ]
  },
  {
   "cell_type": "code",
   "execution_count": 48,
   "id": "13d2b14c",
   "metadata": {},
   "outputs": [
    {
     "data": {
      "text/plain": [
       "array([-1,  1])"
      ]
     },
     "execution_count": 48,
     "metadata": {},
     "output_type": "execute_result"
    }
   ],
   "source": [
    "t = np.arange(t_max)\n",
    "rng = np.random.default_rng()\n",
    "steps = 2 * rng.integers(0, 1 + 1, (n_stories, t_max)) - 1 # +1 because the high value is exclusive\n",
    "np.unique(steps) # Verification: all steps are 1 or -1"
   ]
  },
  {
   "cell_type": "markdown",
   "id": "220078ce",
   "metadata": {},
   "source": [
    "We build the walks by summing steps along the time:"
   ]
  },
  {
   "cell_type": "code",
   "execution_count": 49,
   "id": "77c07585",
   "metadata": {},
   "outputs": [],
   "source": [
    "positions = np.cumsum(steps, axis=1) # axis = 1: dimension of time\n",
    "sq_distance = positions**2"
   ]
  },
  {
   "cell_type": "markdown",
   "id": "b9edabcf",
   "metadata": {},
   "source": [
    "We get the mean in the axis of the stories:"
   ]
  },
  {
   "cell_type": "code",
   "execution_count": 50,
   "id": "56b5e491",
   "metadata": {},
   "outputs": [],
   "source": [
    "mean_sq_distance = np.mean(sq_distance, axis=0)"
   ]
  },
  {
   "cell_type": "markdown",
   "id": "c82267ae",
   "metadata": {},
   "source": [
    "Plot the results:"
   ]
  },
  {
   "cell_type": "code",
   "execution_count": 51,
   "id": "e041edef",
   "metadata": {},
   "outputs": [
    {
     "data": {
      "image/png": "[encoded data removed]",
      "text/plain": [
       "<Figure size 400x300 with 1 Axes>"
      ]
     },
     "metadata": {},
     "output_type": "display_data"
    }
   ],
   "source": [
    "plt.figure(figsize=(4, 3))\n",
    "plt.plot(t, np.sqrt(mean_sq_distance), 'g.', t, np.sqrt(t), 'y-')\n",
    "plt.xlabel(r\"$t$\")\n",
    "plt.ylabel(r\"$\\sqrt{\\langle (\\delta x)^2 \\rangle}$\")\n",
    "plt.tight_layout() # provide sufficient space for labels"
   ]
  },
  {
   "cell_type": "markdown",
   "id": "d655152c",
   "metadata": {},
   "source": [
    "We find a well-known result in physics: the Root Mean Square (RMS) distance\n",
    "grows as the square root of the time!\n",
    "\n",
    "## Interim summary and exercises\n",
    "\n",
    "| Operation type | Numpy functions              |\n",
    "| -------------- | ---------------------------- |\n",
    "| arithmetic     | `sum`, `prod`, `mean`, `std` |\n",
    "| Extrema        | `min`, `max`                 |\n",
    "| logical        | `all`, `any`                 |\n",
    "\n",
    "Also, recall the `axis` argument to select the dimension over which an operation will be applied:"
   ]
  },
  {
   "cell_type": "code",
   "execution_count": 52,
   "id": "8e1d0c8e",
   "metadata": {},
   "outputs": [
    {
     "data": {
      "text/plain": [
       "array([[99, 12],\n",
       "       [11,  2]])"
      ]
     },
     "execution_count": 52,
     "metadata": {},
     "output_type": "execute_result"
    }
   ],
   "source": [
    "arr = np.array([[99, 12], [11, 2]])\n",
    "arr"
   ]
  },
  {
   "cell_type": "code",
   "execution_count": 53,
   "id": "068166d9",
   "metadata": {},
   "outputs": [
    {
     "data": {
      "text/plain": [
       "np.int64(2)"
      ]
     },
     "execution_count": 53,
     "metadata": {},
     "output_type": "execute_result"
    }
   ],
   "source": [
    "# Without axis=, operation applied over whole (flatted, 1D) array.\n",
    "np.min(arr)"
   ]
  },
  {
   "cell_type": "code",
   "execution_count": 54,
   "id": "0e9bc1d8",
   "metadata": {},
   "outputs": [
    {
     "data": {
      "text/plain": [
       "array([11,  2])"
      ]
     },
     "execution_count": 54,
     "metadata": {},
     "output_type": "execute_result"
    }
   ],
   "source": [
    "# Operate along first axis (rows).\n",
    "np.min(arr, axis=0)"
   ]
  },
  {
   "cell_type": "code",
   "execution_count": 55,
   "id": "48556d5d",
   "metadata": {},
   "outputs": [
    {
     "data": {
      "text/plain": [
       "array([12,  2])"
      ]
     },
     "execution_count": 55,
     "metadata": {},
     "output_type": "execute_result"
    }
   ],
   "source": [
    "# Operate along second axis (columns).\n",
    "np.min(arr, axis=1)"
   ]
  },
  {
   "cell_type": "markdown",
   "id": "6ac405bf",
   "metadata": {},
   "source": [
    "::: {exercise-start}\n",
    ":label: any-all-ex\n",
    ":class: dropdown\n",
    ":::\n",
    "\n",
    "We load an array from a text file:"
   ]
  },
  {
   "cell_type": "code",
   "execution_count": 56,
   "id": "0ab4430d",
   "metadata": {},
   "outputs": [],
   "source": [
    "an_array = np.loadtxt('data/an_array.txt')"
   ]
  },
  {
   "cell_type": "markdown",
   "id": "c7f25820",
   "metadata": {},
   "source": [
    "1. Verify if all elements in `an array` are equal to 1:\n",
    "2. Verify if any elements in an array are equal to 1\n",
    "3. Compute mean and standard deviation.\n",
    "4. Challenge: write a function `my_std` that computes the standard deviation\n",
    "   of the elements in the array, where you are only allowed to use `np.sum`\n",
    "   from Numpy in your function. Check your function returns a value close to that from `np.std` (use `np.allclose` for that check).\n",
    "\n",
    "::: {exercise-end}\n",
    ":::\n",
    "\n",
    "::: {solution-start} any-all-ex\n",
    ":class: dropdown\n",
    ":::"
   ]
  },
  {
   "cell_type": "code",
   "execution_count": 57,
   "id": "e0bb2bd0",
   "metadata": {},
   "outputs": [
    {
     "name": "stdout",
     "output_type": "stream",
     "text": [
      "Mean 4.025\n",
      "STD 2.1850343246731843\n"
     ]
    }
   ],
   "source": [
    "# 1. Verify if all elements in `an array` are equal to 1:\n",
    "np.all(an_array == 1)\n",
    "\n",
    "# 2. Verify if any elements in an array are equal to 1\n",
    "np.any(an_array == 1)\n",
    "\n",
    "# 3. Compute mean and standard deviation.\n",
    "print('Mean', np.mean(an_array))\n",
    "print('STD', np.std(an_array))"
   ]
  },
  {
   "cell_type": "code",
   "execution_count": 58,
   "id": "a28e2ec1",
   "metadata": {},
   "outputs": [],
   "source": [
    "# 4. Challenge: write a function `my_std` that computes the standard deviation\n",
    "# of the elements in the array, where you are only allowed to use `np.sum` from\n",
    "# Numpy in your function.\n",
    "\n",
    "def my_std(a):\n",
    "    n = a.size\n",
    "    m = np.sum(a) / n\n",
    "    return np.sqrt(np.sum((a - m) ** 2) / n)\n",
    "\n",
    "# Check we get the same answers from our function as for Numpy.\n",
    "assert np.allclose(my_std(an_array), np.std(an_array))\n",
    "assert np.allclose(my_std(an_array.ravel()), np.std(an_array))\n",
    "\n",
    "rng = np.random.default_rng()\n",
    "for i in range(10):\n",
    "    another_array = rng.uniform(size=(10, 4))\n",
    "    assert np.allclose(my_std(another_array), np.std(another_array))"
   ]
  },
  {
   "cell_type": "markdown",
   "id": "de7b1b05",
   "metadata": {},
   "source": [
    "::: {solution-end}\n",
    ":::\n",
    "\n",
    "(broadcasting)=\n",
    "\n",
    "## Broadcasting\n",
    "\n",
    "- Basic operations on `numpy` arrays (addition, etc.) are elementwise\n",
    "\n",
    "- This works on arrays of the same size.\n",
    "\n",
    "- **Nevertheless** , it's also possible to do\n",
    "  operations on arrays of different sizes if\n",
    "  _NumPy_ can transform these arrays so that\n",
    "  they all have the same size: this conversion\n",
    "  is called **broadcasting**.\n",
    "\n",
    "The image below gives an example of broadcasting:\n",
    "\n",
    "![](images/numpy_broadcasting.png)\n",
    "\n",
    "Let's verify:"
   ]
  },
  {
   "cell_type": "code",
   "execution_count": 59,
   "id": "efdac3fa",
   "metadata": {},
   "outputs": [
    {
     "data": {
      "text/plain": [
       "array([[ 0,  0,  0],\n",
       "       [10, 10, 10],\n",
       "       [20, 20, 20],\n",
       "       [30, 30, 30]])"
      ]
     },
     "execution_count": 59,
     "metadata": {},
     "output_type": "execute_result"
    }
   ],
   "source": [
    "a = np.tile(np.arange(0, 40, 10), (3, 1)).T\n",
    "a"
   ]
  },
  {
   "cell_type": "code",
   "execution_count": 60,
   "id": "5ab4d85b",
   "metadata": {},
   "outputs": [
    {
     "data": {
      "text/plain": [
       "array([[ 0,  1,  2],\n",
       "       [10, 11, 12],\n",
       "       [20, 21, 22],\n",
       "       [30, 31, 32]])"
      ]
     },
     "execution_count": 60,
     "metadata": {},
     "output_type": "execute_result"
    }
   ],
   "source": [
    "b = np.array([0, 1, 2])\n",
    "a + b"
   ]
  },
  {
   "cell_type": "markdown",
   "id": "a500b7e3",
   "metadata": {},
   "source": [
    "We have already used broadcasting without knowing it!:"
   ]
  },
  {
   "cell_type": "code",
   "execution_count": 61,
   "id": "58b4e922",
   "metadata": {},
   "outputs": [
    {
     "data": {
      "text/plain": [
       "array([[2., 2., 2., 2., 2.],\n",
       "       [1., 1., 1., 1., 1.],\n",
       "       [1., 1., 1., 1., 1.],\n",
       "       [1., 1., 1., 1., 1.]])"
      ]
     },
     "execution_count": 61,
     "metadata": {},
     "output_type": "execute_result"
    }
   ],
   "source": [
    "a = np.ones((4, 5))\n",
    "a[0] = 2  # we assign an array of dimension 0 to an array of dimension 1\n",
    "a"
   ]
  },
  {
   "cell_type": "markdown",
   "id": "77f3d410",
   "metadata": {},
   "source": [
    "A useful trick:"
   ]
  },
  {
   "cell_type": "code",
   "execution_count": 62,
   "id": "975d76e7",
   "metadata": {},
   "outputs": [
    {
     "data": {
      "text/plain": [
       "(4,)"
      ]
     },
     "execution_count": 62,
     "metadata": {},
     "output_type": "execute_result"
    }
   ],
   "source": [
    "a = np.arange(0, 40, 10)\n",
    "a.shape"
   ]
  },
  {
   "cell_type": "code",
   "execution_count": 63,
   "id": "b01b518e",
   "metadata": {},
   "outputs": [
    {
     "data": {
      "text/plain": [
       "(4, 1)"
      ]
     },
     "execution_count": 63,
     "metadata": {},
     "output_type": "execute_result"
    }
   ],
   "source": [
    "a = a[:, np.newaxis]  # adds a new axis -> 2D array\n",
    "a.shape"
   ]
  },
  {
   "cell_type": "code",
   "execution_count": 64,
   "id": "d9d1b968",
   "metadata": {},
   "outputs": [
    {
     "data": {
      "text/plain": [
       "array([[ 0],\n",
       "       [10],\n",
       "       [20],\n",
       "       [30]])"
      ]
     },
     "execution_count": 64,
     "metadata": {},
     "output_type": "execute_result"
    }
   ],
   "source": [
    "a"
   ]
  },
  {
   "cell_type": "code",
   "execution_count": 65,
   "id": "96af6720",
   "metadata": {},
   "outputs": [
    {
     "data": {
      "text/plain": [
       "array([[ 0,  1,  2],\n",
       "       [10, 11, 12],\n",
       "       [20, 21, 22],\n",
       "       [30, 31, 32]])"
      ]
     },
     "execution_count": 65,
     "metadata": {},
     "output_type": "execute_result"
    }
   ],
   "source": [
    "a + b"
   ]
  },
  {
   "cell_type": "markdown",
   "id": "5bc531d8",
   "metadata": {},
   "source": [
    "::: {note}\n",
    ":class: dropdown\n",
    "\n",
    "Broadcasting seems a bit magical, but it is actually quite natural to\n",
    "use it when we want to solve a problem whose output data is an array\n",
    "with more dimensions than input data.\n",
    ":::\n",
    "\n",
    "### Worked Example: Broadcasting\n",
    "\n",
    "Let's construct an array of distances (in miles) between cities of\n",
    "Route 66: Chicago, Springfield, Saint-Louis, Tulsa, Oklahoma City,\n",
    "Amarillo, Santa Fe, Albuquerque, Flagstaff and Los Angeles."
   ]
  },
  {
   "cell_type": "code",
   "execution_count": 66,
   "id": "96b90cb4",
   "metadata": {},
   "outputs": [
    {
     "data": {
      "text/plain": [
       "array([[   0,  198,  303,  736,  871, 1175, 1475, 1544, 1913, 2448],\n",
       "       [ 198,    0,  105,  538,  673,  977, 1277, 1346, 1715, 2250],\n",
       "       [ 303,  105,    0,  433,  568,  872, 1172, 1241, 1610, 2145],\n",
       "       [ 736,  538,  433,    0,  135,  439,  739,  808, 1177, 1712],\n",
       "       [ 871,  673,  568,  135,    0,  304,  604,  673, 1042, 1577],\n",
       "       [1175,  977,  872,  439,  304,    0,  300,  369,  738, 1273],\n",
       "       [1475, 1277, 1172,  739,  604,  300,    0,   69,  438,  973],\n",
       "       [1544, 1346, 1241,  808,  673,  369,   69,    0,  369,  904],\n",
       "       [1913, 1715, 1610, 1177, 1042,  738,  438,  369,    0,  535],\n",
       "       [2448, 2250, 2145, 1712, 1577, 1273,  973,  904,  535,    0]])"
      ]
     },
     "execution_count": 66,
     "metadata": {},
     "output_type": "execute_result"
    }
   ],
   "source": [
    "mileposts = np.array([0, 198, 303, 736, 871, 1175, 1475, 1544,\n",
    "       1913, 2448])\n",
    "distance_array = np.abs(mileposts - mileposts[:, np.newaxis])\n",
    "distance_array"
   ]
  },
  {
   "cell_type": "markdown",
   "id": "f757c0aa",
   "metadata": {},
   "source": [
    "![](images/route66.png)\n",
    "\n",
    "A lot of grid-based or network-based problems can also use\n",
    "broadcasting. For instance, if we want to compute the distance from\n",
    "the origin of points on a 5x5 grid, we can do"
   ]
  },
  {
   "cell_type": "code",
   "execution_count": 67,
   "id": "52d9b9ae",
   "metadata": {},
   "outputs": [
    {
     "data": {
      "text/plain": [
       "array([[0.        , 1.        , 2.        , 3.        , 4.        ],\n",
       "       [1.        , 1.41421356, 2.23606798, 3.16227766, 4.12310563],\n",
       "       [2.        , 2.23606798, 2.82842712, 3.60555128, 4.47213595],\n",
       "       [3.        , 3.16227766, 3.60555128, 4.24264069, 5.        ],\n",
       "       [4.        , 4.12310563, 4.47213595, 5.        , 5.65685425]])"
      ]
     },
     "execution_count": 67,
     "metadata": {},
     "output_type": "execute_result"
    }
   ],
   "source": [
    "x, y = np.arange(5), np.arange(5)[:, np.newaxis]\n",
    "distance = np.sqrt(x ** 2 + y ** 2)\n",
    "distance"
   ]
  },
  {
   "cell_type": "markdown",
   "id": "f8fcce08",
   "metadata": {},
   "source": [
    "Or in color:"
   ]
  },
  {
   "cell_type": "code",
   "execution_count": 68,
   "id": "5f5c34b4",
   "metadata": {},
   "outputs": [
    {
     "data": {
      "text/plain": [
       "<matplotlib.colorbar.Colorbar at 0x10a9078f0>"
      ]
     },
     "execution_count": 68,
     "metadata": {},
     "output_type": "execute_result"
    },
    {
     "data": {
      "image/png": "[encoded data removed]",
      "text/plain": [
       "<Figure size 640x480 with 2 Axes>"
      ]
     },
     "metadata": {},
     "output_type": "display_data"
    }
   ],
   "source": [
    "plt.pcolor(distance)\n",
    "plt.colorbar()"
   ]
  },
  {
   "cell_type": "markdown",
   "id": "b2198c0a",
   "metadata": {},
   "source": [
    "**Remark** : the {func}`numpy.ogrid` function allows to directly create\n",
    "vectors x and y of the previous example, with two \"significant dimensions\":"
   ]
  },
  {
   "cell_type": "code",
   "execution_count": 69,
   "id": "f4a4cacd",
   "metadata": {},
   "outputs": [
    {
     "data": {
      "text/plain": [
       "(array([[0],\n",
       "        [1],\n",
       "        [2],\n",
       "        [3],\n",
       "        [4]]),\n",
       " array([[0, 1, 2, 3, 4]]))"
      ]
     },
     "execution_count": 69,
     "metadata": {},
     "output_type": "execute_result"
    }
   ],
   "source": [
    "x, y = np.ogrid[0:5, 0:5]\n",
    "x, y"
   ]
  },
  {
   "cell_type": "code",
   "execution_count": 70,
   "id": "c326f6ae",
   "metadata": {},
   "outputs": [],
   "source": [
    "x.shape, y.shape\n",
    "distance = np.sqrt(x ** 2 + y ** 2)"
   ]
  },
  {
   "cell_type": "markdown",
   "id": "bedde738",
   "metadata": {},
   "source": [
    "So, `np.ogrid` is very useful as soon as we have to handle\n",
    "computations on a grid. On the other hand, `np.mgrid` directly\n",
    "provides matrices full of indices for cases where we can't (or don't\n",
    "want to) benefit from broadcasting:"
   ]
  },
  {
   "cell_type": "code",
   "execution_count": 71,
   "id": "cf8821f8",
   "metadata": {},
   "outputs": [
    {
     "data": {
      "text/plain": [
       "array([[0, 0, 0, 0],\n",
       "       [1, 1, 1, 1],\n",
       "       [2, 2, 2, 2],\n",
       "       [3, 3, 3, 3]])"
      ]
     },
     "execution_count": 71,
     "metadata": {},
     "output_type": "execute_result"
    }
   ],
   "source": [
    "x, y = np.mgrid[0:4, 0:4]\n",
    "x"
   ]
  },
  {
   "cell_type": "code",
   "execution_count": 72,
   "id": "9fbd86f3",
   "metadata": {},
   "outputs": [
    {
     "data": {
      "text/plain": [
       "array([[0, 1, 2, 3],\n",
       "       [0, 1, 2, 3],\n",
       "       [0, 1, 2, 3],\n",
       "       [0, 1, 2, 3]])"
      ]
     },
     "execution_count": 72,
     "metadata": {},
     "output_type": "execute_result"
    }
   ],
   "source": [
    "y"
   ]
  },
  {
   "cell_type": "markdown",
   "id": "c0f80ac4",
   "metadata": {},
   "source": [
    "<!---\n",
    "rules\n",
    "-->\n",
    "<!---\n",
    "some usage examples: scalars, 1-d matrix products\n",
    "-->\n",
    "<!---\n",
    "newaxis\n",
    "-->\n",
    "<!---\n",
    "EXE: add 1-d array to a scalar\n",
    "-->\n",
    "<!---\n",
    "EXE: add 1-d array to a 2-d array\n",
    "-->\n",
    "<!---\n",
    "EXE: multiply matrix from the right with a diagonal array\n",
    "-->\n",
    "<!---\n",
    "CHA: constructing grids -- meshgrid using only newaxis\n",
    "-->\n",
    "\n",
    ":::{admonition} See also\n",
    "\n",
    "{ref}`broadcasting-advanced`: discussion of broadcasting in\n",
    "the {ref}`advanced-numpy` chapter.\n",
    ":::\n",
    "\n",
    "## Array shape manipulation\n",
    "\n",
    "### Flattening"
   ]
  },
  {
   "cell_type": "code",
   "execution_count": 73,
   "id": "26a16293",
   "metadata": {},
   "outputs": [
    {
     "data": {
      "text/plain": [
       "array([1, 2, 3, 4, 5, 6])"
      ]
     },
     "execution_count": 73,
     "metadata": {},
     "output_type": "execute_result"
    }
   ],
   "source": [
    "a = np.array([[1, 2, 3], [4, 5, 6]])\n",
    "a.ravel()"
   ]
  },
  {
   "cell_type": "code",
   "execution_count": 74,
   "id": "5232cace",
   "metadata": {},
   "outputs": [
    {
     "data": {
      "text/plain": [
       "array([[1, 4],\n",
       "       [2, 5],\n",
       "       [3, 6]])"
      ]
     },
     "execution_count": 74,
     "metadata": {},
     "output_type": "execute_result"
    }
   ],
   "source": [
    "a.T"
   ]
  },
  {
   "cell_type": "code",
   "execution_count": 75,
   "id": "dfa41bf3",
   "metadata": {},
   "outputs": [
    {
     "data": {
      "text/plain": [
       "array([1, 4, 2, 5, 3, 6])"
      ]
     },
     "execution_count": 75,
     "metadata": {},
     "output_type": "execute_result"
    }
   ],
   "source": [
    "a.T.ravel()"
   ]
  },
  {
   "cell_type": "markdown",
   "id": "5c16e885",
   "metadata": {},
   "source": [
    "Higher dimensions: last dimensions ravel out \"first\".\n",
    "\n",
    "### Reshaping\n",
    "\n",
    "The inverse operation to flattening:"
   ]
  },
  {
   "cell_type": "code",
   "execution_count": 76,
   "id": "07d81f89",
   "metadata": {},
   "outputs": [
    {
     "data": {
      "text/plain": [
       "(2, 3)"
      ]
     },
     "execution_count": 76,
     "metadata": {},
     "output_type": "execute_result"
    }
   ],
   "source": [
    "a.shape"
   ]
  },
  {
   "cell_type": "code",
   "execution_count": 77,
   "id": "def4601b",
   "metadata": {},
   "outputs": [
    {
     "data": {
      "text/plain": [
       "array([[1, 2, 3],\n",
       "       [4, 5, 6]])"
      ]
     },
     "execution_count": 77,
     "metadata": {},
     "output_type": "execute_result"
    }
   ],
   "source": [
    "b = a.ravel()\n",
    "b = b.reshape((2, 3))\n",
    "b"
   ]
  },
  {
   "cell_type": "markdown",
   "id": "1951e815",
   "metadata": {},
   "source": [
    "Or,"
   ]
  },
  {
   "cell_type": "code",
   "execution_count": 78,
   "id": "ae7c9b04",
   "metadata": {},
   "outputs": [
    {
     "data": {
      "text/plain": [
       "array([[1, 2, 3],\n",
       "       [4, 5, 6]])"
      ]
     },
     "execution_count": 78,
     "metadata": {},
     "output_type": "execute_result"
    }
   ],
   "source": [
    "a.reshape((2, -1))    # unspecified (-1) value is inferred"
   ]
  },
  {
   "cell_type": "markdown",
   "id": "d678e52d",
   "metadata": {},
   "source": [
    ":::{warning}\n",
    "`ndarray.reshape` **may** return a view (cf `help(np.reshape)`)),\n",
    "or copy\n",
    ":::\n",
    "\n",
    "For example, consider:"
   ]
  },
  {
   "cell_type": "code",
   "execution_count": 79,
   "id": "96891140",
   "metadata": {},
   "outputs": [
    {
     "data": {
      "text/plain": [
       "array([[99,  2,  3],\n",
       "       [ 4,  5,  6]])"
      ]
     },
     "execution_count": 79,
     "metadata": {},
     "output_type": "execute_result"
    }
   ],
   "source": [
    "b[0, 0] = 99\n",
    "a"
   ]
  },
  {
   "cell_type": "markdown",
   "id": "1bf85826",
   "metadata": {},
   "source": [
    "Beware: reshape may also return a copy!:"
   ]
  },
  {
   "cell_type": "code",
   "execution_count": 80,
   "id": "decdb148",
   "metadata": {},
   "outputs": [
    {
     "data": {
      "text/plain": [
       "array([[0., 0.],\n",
       "       [0., 0.],\n",
       "       [0., 0.]])"
      ]
     },
     "execution_count": 80,
     "metadata": {},
     "output_type": "execute_result"
    }
   ],
   "source": [
    "a = np.zeros((3, 2))\n",
    "b = a.T.reshape(3*2)\n",
    "b[0] = 9\n",
    "a"
   ]
  },
  {
   "cell_type": "markdown",
   "id": "e891b6ff",
   "metadata": {},
   "source": [
    "To understand this you need to learn more about the memory layout of a NumPy array.\n",
    "\n",
    "### Adding a dimension\n",
    "\n",
    "Indexing with the `np.newaxis` object allows us to add an axis to an array\n",
    "(you have seen this already above in the broadcasting section):"
   ]
  },
  {
   "cell_type": "code",
   "execution_count": 81,
   "id": "d6dd20fa",
   "metadata": {},
   "outputs": [
    {
     "data": {
      "text/plain": [
       "array([1, 2, 3])"
      ]
     },
     "execution_count": 81,
     "metadata": {},
     "output_type": "execute_result"
    }
   ],
   "source": [
    "z = np.array([1, 2, 3])\n",
    "z"
   ]
  },
  {
   "cell_type": "code",
   "execution_count": 82,
   "id": "0e59b20f",
   "metadata": {},
   "outputs": [
    {
     "data": {
      "text/plain": [
       "array([[1],\n",
       "       [2],\n",
       "       [3]])"
      ]
     },
     "execution_count": 82,
     "metadata": {},
     "output_type": "execute_result"
    }
   ],
   "source": [
    "z[:, np.newaxis]"
   ]
  },
  {
   "cell_type": "code",
   "execution_count": 83,
   "id": "1f790a27",
   "metadata": {},
   "outputs": [
    {
     "data": {
      "text/plain": [
       "array([[1, 2, 3]])"
      ]
     },
     "execution_count": 83,
     "metadata": {},
     "output_type": "execute_result"
    }
   ],
   "source": [
    "z[np.newaxis, :]"
   ]
  },
  {
   "cell_type": "markdown",
   "id": "6ab68bd1",
   "metadata": {},
   "source": [
    "### Dimension shuffling"
   ]
  },
  {
   "cell_type": "code",
   "execution_count": 84,
   "id": "7385c508",
   "metadata": {},
   "outputs": [
    {
     "data": {
      "text/plain": [
       "(4, 3, 2)"
      ]
     },
     "execution_count": 84,
     "metadata": {},
     "output_type": "execute_result"
    }
   ],
   "source": [
    "a = np.arange(4*3*2).reshape(4, 3, 2)\n",
    "a.shape"
   ]
  },
  {
   "cell_type": "code",
   "execution_count": 85,
   "id": "6690f8ee",
   "metadata": {},
   "outputs": [
    {
     "data": {
      "text/plain": [
       "np.int64(5)"
      ]
     },
     "execution_count": 85,
     "metadata": {},
     "output_type": "execute_result"
    }
   ],
   "source": [
    "a[0, 2, 1]"
   ]
  },
  {
   "cell_type": "code",
   "execution_count": 86,
   "id": "193019d2",
   "metadata": {},
   "outputs": [
    {
     "data": {
      "text/plain": [
       "(3, 2, 4)"
      ]
     },
     "execution_count": 86,
     "metadata": {},
     "output_type": "execute_result"
    }
   ],
   "source": [
    "b = a.transpose(1, 2, 0)\n",
    "b.shape"
   ]
  },
  {
   "cell_type": "code",
   "execution_count": 87,
   "id": "b5a0d2b5",
   "metadata": {},
   "outputs": [
    {
     "data": {
      "text/plain": [
       "np.int64(5)"
      ]
     },
     "execution_count": 87,
     "metadata": {},
     "output_type": "execute_result"
    }
   ],
   "source": [
    "b[2, 1, 0]"
   ]
  },
  {
   "cell_type": "markdown",
   "id": "4e661fda",
   "metadata": {},
   "source": [
    "Also creates a view:"
   ]
  },
  {
   "cell_type": "code",
   "execution_count": 88,
   "id": "2f560063",
   "metadata": {},
   "outputs": [
    {
     "data": {
      "text/plain": [
       "np.int64(-1)"
      ]
     },
     "execution_count": 88,
     "metadata": {},
     "output_type": "execute_result"
    }
   ],
   "source": [
    "b[2, 1, 0] = -1\n",
    "a[0, 2, 1]"
   ]
  },
  {
   "cell_type": "markdown",
   "id": "64eb8e7d",
   "metadata": {},
   "source": [
    "### Resizing\n",
    "\n",
    "Size of an array can be changed with `ndarray.resize`:"
   ]
  },
  {
   "cell_type": "code",
   "execution_count": 89,
   "id": "c01221f6",
   "metadata": {},
   "outputs": [
    {
     "data": {
      "text/plain": [
       "array([0, 1, 2, 3, 0, 0, 0, 0])"
      ]
     },
     "execution_count": 89,
     "metadata": {},
     "output_type": "execute_result"
    }
   ],
   "source": [
    "a = np.arange(4)\n",
    "a.resize((8,))\n",
    "a"
   ]
  },
  {
   "cell_type": "markdown",
   "id": "af1a47a4",
   "metadata": {},
   "source": [
    "However, it must not be referred to somewhere else:"
   ]
  },
  {
   "cell_type": "code",
   "execution_count": 90,
   "id": "3d961cc3",
   "metadata": {
    "tags": [
     "raises-exception"
    ]
   },
   "outputs": [
    {
     "ename": "ValueError",
     "evalue": "cannot resize an array that references or is referenced\nby another array in this way.\nUse the np.resize function or refcheck=False",
     "output_type": "error",
     "traceback": [
      "\u001b[31m---------------------------------------------------------------------------\u001b[39m",
      "\u001b[31mValueError\u001b[39m                                Traceback (most recent call last)",
      "\u001b[36mCell\u001b[39m\u001b[36m \u001b[39m\u001b[32mIn[90]\u001b[39m\u001b[32m, line 2\u001b[39m\n\u001b[32m      1\u001b[39m b = a\n\u001b[32m----> \u001b[39m\u001b[32m2\u001b[39m \u001b[43ma\u001b[49m\u001b[43m.\u001b[49m\u001b[43mresize\u001b[49m\u001b[43m(\u001b[49m\u001b[43m(\u001b[49m\u001b[32;43m4\u001b[39;49m\u001b[43m,\u001b[49m\u001b[43m)\u001b[49m\u001b[43m)\u001b[49m\n",
      "\u001b[31mValueError\u001b[39m: cannot resize an array that references or is referenced\nby another array in this way.\nUse the np.resize function or refcheck=False"
     ]
    }
   ],
   "source": [
    "b = a\n",
    "a.resize((4,))"
   ]
  },
  {
   "cell_type": "markdown",
   "id": "ff868b02",
   "metadata": {},
   "source": [
    "<!---\n",
    "seealso: ``help(np.tensordot)``\n",
    "-->\n",
    "<!---\n",
    "resizing: how to do it, and *when* is it possible (not always!)\n",
    "-->\n",
    "<!---\n",
    "reshaping (demo using an image?)\n",
    "-->\n",
    "<!---\n",
    "dimension shuffling\n",
    "-->\n",
    "<!---\n",
    "when to use: some pre-made algorithm (e.g. in Fortran) accepts only\n",
    "1-D data, but you'd like to vectorize it\n",
    "-->\n",
    "<!---\n",
    "EXE: load data incrementally from a file, by appending to a resizing array\n",
    "-->\n",
    "<!---\n",
    "EXE: vectorize a pre-made routine that only accepts 1-D data\n",
    "-->\n",
    "<!---\n",
    "EXE: manipulating matrix direct product spaces back and forth (give an example from physics -- spin index and orbital indices)\n",
    "-->\n",
    "<!---\n",
    "EXE: shuffling dimensions when writing a general vectorized function\n",
    "-->\n",
    "<!---\n",
    "CHA: the mathematical 'vec' operation\n",
    "-->\n",
    "\n",
    "::: {exercise-start}\n",
    ":label: shape-manipulation-exercise\n",
    ":class: dropdown\n",
    ":::\n",
    "\n",
    "- Look at the docstring for `reshape`, especially the notes section which\n",
    "  has some more information about copies and views.\n",
    "- Use `flatten` as an alternative to `ravel`. What is the difference?\n",
    "  (Hint: check which one returns a view and which a copy)\n",
    "- Experiment with `transpose` for dimension shuffling.\n",
    "\n",
    "::: {exercise-end}\n",
    ":::\n",
    "\n",
    "## Sorting data\n",
    "\n",
    "Sorting along an axis:"
   ]
  },
  {
   "cell_type": "code",
   "execution_count": 91,
   "id": "3435fcab",
   "metadata": {},
   "outputs": [
    {
     "data": {
      "text/plain": [
       "array([[3, 4, 5],\n",
       "       [1, 1, 2]])"
      ]
     },
     "execution_count": 91,
     "metadata": {},
     "output_type": "execute_result"
    }
   ],
   "source": [
    "a = np.array([[4, 3, 5], [1, 2, 1]])\n",
    "b = np.sort(a, axis=1)\n",
    "b"
   ]
  },
  {
   "cell_type": "markdown",
   "id": "5ab27dc0",
   "metadata": {},
   "source": [
    ":::{note}\n",
    "Sorts each row separately!\n",
    ":::\n",
    "\n",
    "In-place sort:"
   ]
  },
  {
   "cell_type": "code",
   "execution_count": 92,
   "id": "346f9a00",
   "metadata": {},
   "outputs": [
    {
     "data": {
      "text/plain": [
       "array([[3, 4, 5],\n",
       "       [1, 1, 2]])"
      ]
     },
     "execution_count": 92,
     "metadata": {},
     "output_type": "execute_result"
    }
   ],
   "source": [
    "a.sort(axis=1)\n",
    "a"
   ]
  },
  {
   "cell_type": "markdown",
   "id": "f5d30adb",
   "metadata": {},
   "source": [
    "Sorting with fancy indexing:"
   ]
  },
  {
   "cell_type": "code",
   "execution_count": 93,
   "id": "62879521",
   "metadata": {},
   "outputs": [
    {
     "data": {
      "text/plain": [
       "array([2, 3, 1, 0])"
      ]
     },
     "execution_count": 93,
     "metadata": {},
     "output_type": "execute_result"
    }
   ],
   "source": [
    "a = np.array([4, 3, 1, 2])\n",
    "j = np.argsort(a)\n",
    "j"
   ]
  },
  {
   "cell_type": "code",
   "execution_count": 94,
   "id": "79f721e9",
   "metadata": {},
   "outputs": [
    {
     "data": {
      "text/plain": [
       "array([1, 2, 3, 4])"
      ]
     },
     "execution_count": 94,
     "metadata": {},
     "output_type": "execute_result"
    }
   ],
   "source": [
    "a[j]"
   ]
  },
  {
   "cell_type": "markdown",
   "id": "518065e7",
   "metadata": {},
   "source": [
    "Finding minima and maxima:"
   ]
  },
  {
   "cell_type": "code",
   "execution_count": 95,
   "id": "7eed0458",
   "metadata": {},
   "outputs": [
    {
     "data": {
      "text/plain": [
       "(np.int64(0), np.int64(2))"
      ]
     },
     "execution_count": 95,
     "metadata": {},
     "output_type": "execute_result"
    }
   ],
   "source": [
    "a = np.array([4, 3, 1, 2])\n",
    "j_max = np.argmax(a)\n",
    "j_min = np.argmin(a)\n",
    "j_max, j_min"
   ]
  },
  {
   "cell_type": "markdown",
   "id": "7e535553",
   "metadata": {},
   "source": [
    "<!---\n",
    "XXX: need a frame for summaries\n",
    "\n",
    "* Arithmetic etc. are elementwise operations\n",
    "* Basic linear algebra, ``@``\n",
    "* Reductions: ``sum(axis=1)``, ``std()``, ``all()``, ``any()``\n",
    "* Broadcasting: ``a = np.arange(4); a[:,np.newaxis] + a[np.newaxis,:]``\n",
    "* Shape manipulation: ``a.ravel()``, ``a.reshape(2, 2)``\n",
    "* Fancy indexing: ``a[a > 3]``, ``a[[2, 3]]``\n",
    "* Sorting data: ``.sort()``, ``np.sort``, ``np.argsort``, ``np.argmax``\n",
    "-->\n",
    "\n",
    "::: {exercise-start}\n",
    ":label: sorting-exercise\n",
    ":class: dropdown\n",
    ":::\n",
    "\n",
    "- Try both in-place and out-of-place sorting.\n",
    "- Try creating arrays with different dtypes and sorting them.\n",
    "- Use `all` or `array_equal` to check the results.\n",
    "- Look at `np.random.shuffle` for a way to create sortable input quicker.\n",
    "- Combine `ravel`, `sort` and `reshape`.\n",
    "- Look at the `axis` keyword for `sort` and rewrite the previous\n",
    "  exercise.\n",
    "\n",
    "::: {exercise-end}\n",
    ":::\n",
    "\n",
    "## Summary\n",
    "\n",
    "**What do you need to know to get started?**\n",
    "\n",
    "- Know how to create arrays : `array`, `arange`, `ones`,\n",
    "  `zeros`.\n",
    "\n",
    "- Know the shape of the array with `array.shape`, then use slicing\n",
    "  to obtain different views of the array: `array[::2]`,\n",
    "  etc. Adjust the shape of the array using `reshape` or flatten it\n",
    "  with `ravel`.\n",
    "\n",
    "- Obtain a subset of the elements of an array and/or modify their values\n",
    "  with masks, with e.g.:\n",
    "\n",
    "  ```python\n",
    "  a[a < 0] = 0\n",
    "  ```\n",
    "\n",
    "- Know miscellaneous operations on arrays, such as finding the mean or max\n",
    "  (`array.max()`, `array.mean()`). No need to retain everything, but\n",
    "  have the reflex to search in the documentation (online docs,\n",
    "  `help()`)!!\n",
    "\n",
    "- For advanced use: master the indexing with arrays of integers, as well as\n",
    "  broadcasting. Know more NumPy functions to handle various array\n",
    "  operations.\n",
    "\n",
    ":::{admonition} Quick read\n",
    "If you want to do a first quick pass through the Scientific Python Lectures\n",
    "to learn the ecosystem, you can directly skip to the next chapter:\n",
    "{ref}`matplotlib`.\n",
    "\n",
    "The remainder of this chapter is not necessary to follow the rest of\n",
    "the intro part. But be sure to come back and finish this chapter, as\n",
    "well as to do some more {ref}`exercises <numpy-exercises>`.\n",
    ":::"
   ]
  }
 ],
 "metadata": {
  "jupytext": {
   "text_representation": {
    "extension": ".md",
    "format_name": "myst",
    "format_version": 0.13,
    "jupytext_version": "1.18.0-dev"
   }
  },
  "kernelspec": {
   "display_name": "Python 3 (ipykernel)",
   "language": "python",
   "name": "python3"
  },
  "language_info": {
   "codemirror_mode": {
    "name": "ipython",
    "version": 3
   },
   "file_extension": ".py",
   "mimetype": "text/x-python",
   "name": "python",
   "nbconvert_exporter": "python",
   "pygments_lexer": "ipython3",
   "version": "3.12.7"
  }
 },
 "nbformat": 4,
 "nbformat_minor": 5
}