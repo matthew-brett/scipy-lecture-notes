{
 "cells": [
  {
   "cell_type": "markdown",
   "id": "526d47a1",
   "metadata": {},
   "source": [
    "# Advanced operations\n",
    "\n",
    "## Polynomials\n",
    "\n",
    "NumPy also contains polynomials in different bases:\n",
    "\n",
    "For example, $3x^2 + 2x - 1$:"
   ]
  },
  {
   "cell_type": "code",
   "execution_count": null,
   "id": "1a33399e",
   "metadata": {},
   "outputs": [],
   "source": [
    "import numpy as np\n",
    "import matplotlib.pyplot as plt"
   ]
  },
  {
   "cell_type": "code",
   "execution_count": null,
   "id": "74bec45d",
   "metadata": {},
   "outputs": [],
   "source": [
    "p = np.poly1d([3, 2, -1])\n",
    "p(0)"
   ]
  },
  {
   "cell_type": "code",
   "execution_count": null,
   "id": "515f54d3",
   "metadata": {},
   "outputs": [],
   "source": [
    "p.roots"
   ]
  },
  {
   "cell_type": "code",
   "execution_count": null,
   "id": "fc56ee3f",
   "metadata": {},
   "outputs": [],
   "source": [
    "p.order"
   ]
  },
  {
   "cell_type": "code",
   "execution_count": null,
   "id": "aa7e1e31",
   "metadata": {},
   "outputs": [],
   "source": [
    "x = np.linspace(0, 1, 20)\n",
    "rng = np.random.default_rng()\n",
    "y = np.cos(x) + 0.3*rng.random(20)\n",
    "p = np.poly1d(np.polyfit(x, y, 3))\n",
    "\n",
    "t = np.linspace(0, 1, 200) # use a larger number of points for smoother plotting\n",
    "plt.plot(x, y, 'o', t, p(t), '-');"
   ]
  },
  {
   "cell_type": "markdown",
   "id": "79edce7e",
   "metadata": {},
   "source": [
    "See <https://numpy.org/doc/stable/reference/routines.polynomials.poly1d.html>\n",
    "for more.\n",
    "\n",
    "### More polynomials (with more bases)\n",
    "\n",
    "NumPy also has a more sophisticated polynomial interface, which supports\n",
    "e.g. the Chebyshev basis.\n",
    "\n",
    "$3x^2 + 2x - 1$:"
   ]
  },
  {
   "cell_type": "code",
   "execution_count": null,
   "id": "f67bc550",
   "metadata": {},
   "outputs": [],
   "source": [
    "p = np.polynomial.Polynomial([-1, 2, 3]) # coefs in different order!\n",
    "p(0)"
   ]
  },
  {
   "cell_type": "code",
   "execution_count": null,
   "id": "dc1152c5",
   "metadata": {},
   "outputs": [],
   "source": [
    "p.roots()"
   ]
  },
  {
   "cell_type": "code",
   "execution_count": null,
   "id": "910d76f1",
   "metadata": {},
   "outputs": [],
   "source": [
    "p.degree()  # In general polynomials do not always expose 'order'"
   ]
  },
  {
   "cell_type": "markdown",
   "id": "52187d67",
   "metadata": {},
   "source": [
    "Example using polynomials in Chebyshev basis, for polynomials in\n",
    "range `[-1, 1]`:"
   ]
  },
  {
   "cell_type": "code",
   "execution_count": null,
   "id": "696282ae",
   "metadata": {},
   "outputs": [],
   "source": [
    "x = np.linspace(-1, 1, 2000)\n",
    "rng = np.random.default_rng()\n",
    "y = np.cos(x) + 0.3*rng.random(2000)\n",
    "p = np.polynomial.Chebyshev.fit(x, y, 90)"
   ]
  },
  {
   "cell_type": "code",
   "execution_count": null,
   "id": "eb9c2ca1",
   "metadata": {},
   "outputs": [],
   "source": [
    "plt.plot(x, y, 'r.')\n",
    "plt.plot(x, p(x), 'k-', lw=3)"
   ]
  },
  {
   "cell_type": "markdown",
   "id": "82527f65",
   "metadata": {},
   "source": [
    "The Chebyshev polynomials have some advantages in interpolation."
   ]
  },
  {
   "cell_type": "markdown",
   "id": "f59aaecf",
   "metadata": {},
   "source": [
    "## Loading data files\n",
    "\n",
    "### Text files\n",
    "\n",
    "Example: {download}`populations.txt <data/populations.txt>`."
   ]
  },
  {
   "cell_type": "code",
   "execution_count": null,
   "id": "06bb1ef9",
   "metadata": {},
   "outputs": [],
   "source": [
    "data = np.loadtxt('data/populations.txt')\n",
    "data"
   ]
  },
  {
   "cell_type": "code",
   "execution_count": null,
   "id": "727369cd",
   "metadata": {},
   "outputs": [],
   "source": [
    "np.savetxt('pop2.txt', data)\n",
    "data2 = np.loadtxt('pop2.txt')"
   ]
  },
  {
   "cell_type": "markdown",
   "id": "194da225",
   "metadata": {},
   "source": [
    ":::{note}\n",
    "If you have a complicated text file, what you can try are:\n",
    "\n",
    "- `np.genfromtxt`\n",
    "- Using Python's I/O functions and e.g. regexps for parsing\n",
    "  (Python is quite well suited for this)\n",
    "  :::\n",
    "\n",
    "### Reminder: Navigating the filesystem with Jupyter and IPython\n",
    "\n",
    "Show current directory:"
   ]
  },
  {
   "cell_type": "code",
   "execution_count": null,
   "id": "8adaa8ea",
   "metadata": {},
   "outputs": [],
   "source": [
    "pwd"
   ]
  },
  {
   "cell_type": "markdown",
   "id": "d75ae735",
   "metadata": {},
   "source": [
    "Change to `data` subdirectory:"
   ]
  },
  {
   "cell_type": "code",
   "execution_count": null,
   "id": "6ccb2dd7",
   "metadata": {},
   "outputs": [],
   "source": [
    "cd data"
   ]
  },
  {
   "cell_type": "markdown",
   "id": "d0d7b587",
   "metadata": {},
   "source": [
    "Show filesystem listing for current directory:"
   ]
  },
  {
   "cell_type": "code",
   "execution_count": null,
   "id": "778315a9",
   "metadata": {},
   "outputs": [],
   "source": [
    "ls"
   ]
  },
  {
   "cell_type": "markdown",
   "id": "9e654444",
   "metadata": {},
   "source": [
    "Change back to containing directory."
   ]
  },
  {
   "cell_type": "code",
   "execution_count": null,
   "id": "66640ae6",
   "metadata": {},
   "outputs": [],
   "source": [
    "cd .."
   ]
  },
  {
   "cell_type": "markdown",
   "id": "20e1488f",
   "metadata": {},
   "source": [
    "### Images\n",
    "\n",
    "Using Matplotlib:"
   ]
  },
  {
   "cell_type": "code",
   "execution_count": null,
   "id": "c5dbdd25",
   "metadata": {},
   "outputs": [],
   "source": [
    "img = plt.imread('data/elephant.png')\n",
    "img.shape, img.dtype"
   ]
  },
  {
   "cell_type": "code",
   "execution_count": null,
   "id": "fd4132e7",
   "metadata": {},
   "outputs": [],
   "source": [
    "# Plot and save the original figure\n",
    "plt.imshow(img)\n",
    "plt.savefig('plot.png')"
   ]
  },
  {
   "cell_type": "code",
   "execution_count": null,
   "id": "409e2f2c",
   "metadata": {},
   "outputs": [],
   "source": [
    "# Plot and save the red channel of the image.\n",
    "plt.imsave('red_elephant.png', img[:,:,0], cmap=plt.cm.gray)"
   ]
  },
  {
   "cell_type": "markdown",
   "id": "c2b66ed5",
   "metadata": {},
   "source": [
    "This saved only one channel (of RGB):"
   ]
  },
  {
   "cell_type": "code",
   "execution_count": null,
   "id": "9db01747",
   "metadata": {},
   "outputs": [],
   "source": [
    "plt.imshow(plt.imread('red_elephant.png'))"
   ]
  },
  {
   "cell_type": "markdown",
   "id": "19e34150",
   "metadata": {},
   "source": [
    "Other libraries:"
   ]
  },
  {
   "cell_type": "code",
   "execution_count": null,
   "id": "ba9afd5b",
   "metadata": {},
   "outputs": [],
   "source": [
    "import imageio.v3 as iio\n",
    "\n",
    "# Lower resolution (every sixth pixel in each dimension).\n",
    "iio.imwrite('tiny_elephant.png', (img[::6,::6] * 255).astype(np.uint8))\n",
    "plt.imshow(plt.imread('tiny_elephant.png'), interpolation='nearest')"
   ]
  },
  {
   "cell_type": "markdown",
   "id": "4637cb3c",
   "metadata": {},
   "source": [
    "### NumPy's own format\n",
    "\n",
    "NumPy has its own binary format, not portable but with efficient I/O:"
   ]
  },
  {
   "cell_type": "code",
   "execution_count": null,
   "id": "8338b1c4",
   "metadata": {},
   "outputs": [],
   "source": [
    "data = np.ones((3, 3))\n",
    "np.save('pop.npy', data)\n",
    "data3 = np.load('pop.npy')"
   ]
  },
  {
   "cell_type": "markdown",
   "id": "e1d3f4a1",
   "metadata": {},
   "source": [
    "### Well-known (& more obscure) file formats\n",
    "\n",
    "- HDF5: [h5py](https://www.h5py.org/), [PyTables](https://www.pytables.org)\n",
    "- NetCDF: `scipy.io.netcdf_file`, [netcdf4-python](https://code.google.com/archive/p/netcdf4-python), ...\n",
    "- Matlab: `scipy.io.loadmat`, `scipy.io.savemat`\n",
    "- MatrixMarket: `scipy.io.mmread`, `scipy.io.mmwrite`\n",
    "- IDL: `scipy.io.readsav`\n",
    "\n",
    "... if somebody uses it, there's probably also a Python library for it.\n",
    "\n",
    "::: {exercise-start}\n",
    ":label: npa-load-proc-ex\n",
    ":class: dropdown\n",
    ":::\n",
    "\n",
    "Write code that loads data from {download}`populations.txt\n",
    "<data/populations.txt>`: and drops the last column and the first 5 rows. Save\n",
    "the smaller dataset to `pop2.txt`.\n",
    "\n",
    "::: {exercise-end}\n",
    ":::\n",
    "\n",
    "::: {solution-start} npa-load-proc-ex\n",
    ":class: dropdown\n",
    ":::"
   ]
  },
  {
   "cell_type": "code",
   "execution_count": null,
   "id": "acd99926",
   "metadata": {},
   "outputs": [],
   "source": [
    "data = np.loadtxt(\"data/populations.txt\")\n",
    "reduced_data = data[5:, :-1]\n",
    "np.savetxt(\"pop2.txt\", reduced_data)"
   ]
  },
  {
   "cell_type": "markdown",
   "id": "3e0abc2e",
   "metadata": {},
   "source": [
    "::: {solution-end}\n",
    ":::\n",
    "\n",
    "<!---\n",
    "loadtxt, savez, load, fromfile, tofile\n",
    "-->\n",
    "<!---\n",
    "real life: point to HDF5, NetCDF, etc.\n",
    "-->\n",
    "<!---\n",
    "EXE: use loadtxt to load a data file\n",
    "-->\n",
    "<!---\n",
    "EXE: use savez and load to save data in binary format\n",
    "-->\n",
    "<!---\n",
    "EXE: use tofile and fromfile to put and get binary data bytes in/from a file\n",
    "follow-up: .view()\n",
    "-->\n",
    "<!---\n",
    "EXE: parsing text files -- Python can do this reasonably well natively!\n",
    "throw in the mix some random text file to be parsed (eg. PPM)\n",
    "-->\n",
    "<!---\n",
    "EXE: advanced: read the data in a PPM file\n",
    "-->\n",
    "\n",
    ":::{admonition} NumPy internals\n",
    "If you are interested in the NumPy internals, there is a good discussion in\n",
    "{ref}`advanced-numpy`.\n",
    ":::"
   ]
  }
 ],
 "metadata": {
  "jupytext": {
   "text_representation": {
    "extension": ".md",
    "format_name": "myst",
    "format_version": 0.13,
    "jupytext_version": "1.18.0-dev"
   }
  },
  "kernelspec": {
   "display_name": "Python 3 (ipykernel)",
   "language": "python",
   "name": "python3"
  }
 },
 "nbformat": 4,
 "nbformat_minor": 5
}