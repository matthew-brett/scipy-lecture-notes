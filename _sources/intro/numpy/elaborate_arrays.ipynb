{
 "cells": [
  {
   "cell_type": "code",
   "execution_count": 1,
   "id": "ee05e821",
   "metadata": {
    "tags": [
     "hide-input"
    ]
   },
   "outputs": [],
   "source": [
    "import numpy as np\n",
    "import matplotlib.pyplot as plt"
   ]
  },
  {
   "cell_type": "markdown",
   "id": "6e97a8ea",
   "metadata": {},
   "source": [
    "# More elaborate arrays\n",
    "\n",
    "## More data types\n",
    "\n",
    "### Casting\n",
    "\n",
    "\"Bigger\" type wins in mixed-type operations:"
   ]
  },
  {
   "cell_type": "code",
   "execution_count": 2,
   "id": "d7629748",
   "metadata": {},
   "outputs": [
    {
     "data": {
      "text/plain": [
       "array([2.5, 3.5, 4.5])"
      ]
     },
     "execution_count": 2,
     "metadata": {},
     "output_type": "execute_result"
    }
   ],
   "source": [
    "np.array([1, 2, 3]) + 1.5"
   ]
  },
  {
   "cell_type": "markdown",
   "id": "d119f4dd",
   "metadata": {},
   "source": [
    "Assignment never changes the type!"
   ]
  },
  {
   "cell_type": "code",
   "execution_count": 3,
   "id": "0f867d2d",
   "metadata": {},
   "outputs": [
    {
     "data": {
      "text/plain": [
       "dtype('int64')"
      ]
     },
     "execution_count": 3,
     "metadata": {},
     "output_type": "execute_result"
    }
   ],
   "source": [
    "a = np.array([1, 2, 3])\n",
    "a.dtype"
   ]
  },
  {
   "cell_type": "code",
   "execution_count": 4,
   "id": "de397fb3",
   "metadata": {},
   "outputs": [
    {
     "data": {
      "text/plain": [
       "array([1, 2, 3])"
      ]
     },
     "execution_count": 4,
     "metadata": {},
     "output_type": "execute_result"
    }
   ],
   "source": [
    "a[0] = 1.9     # <-- float is truncated to integer\n",
    "a"
   ]
  },
  {
   "cell_type": "markdown",
   "id": "42ccd85a",
   "metadata": {},
   "source": [
    "Forced casts:"
   ]
  },
  {
   "cell_type": "code",
   "execution_count": 5,
   "id": "739a2a1e",
   "metadata": {},
   "outputs": [
    {
     "data": {
      "text/plain": [
       "array([1, 1, 1])"
      ]
     },
     "execution_count": 5,
     "metadata": {},
     "output_type": "execute_result"
    }
   ],
   "source": [
    "a = np.array([1.7, 1.2, 1.6])\n",
    "b = a.astype(int)  # <-- truncates to integer\n",
    "b"
   ]
  },
  {
   "cell_type": "markdown",
   "id": "7c112653",
   "metadata": {},
   "source": [
    "Rounding:"
   ]
  },
  {
   "cell_type": "code",
   "execution_count": 6,
   "id": "a0dfae74",
   "metadata": {},
   "outputs": [
    {
     "data": {
      "text/plain": [
       "array([1., 2., 2., 2., 4., 4.])"
      ]
     },
     "execution_count": 6,
     "metadata": {},
     "output_type": "execute_result"
    }
   ],
   "source": [
    "a = np.array([1.2, 1.5, 1.6, 2.5, 3.5, 4.5])\n",
    "b = np.around(a)\n",
    "b                    # still floating-point"
   ]
  },
  {
   "cell_type": "code",
   "execution_count": 7,
   "id": "35049a2d",
   "metadata": {},
   "outputs": [
    {
     "data": {
      "text/plain": [
       "array([1, 2, 2, 2, 4, 4])"
      ]
     },
     "execution_count": 7,
     "metadata": {},
     "output_type": "execute_result"
    }
   ],
   "source": [
    "c = np.around(a).astype(int)\n",
    "c"
   ]
  },
  {
   "cell_type": "markdown",
   "id": "2b8e6f7c",
   "metadata": {},
   "source": [
    "### Different data type sizes\n",
    "\n",
    "Integers (signed):\n",
    "\n",
    "| Class   | Bits                                       |\n",
    "| ------- | ------------------------------------------ |\n",
    "| `int8`  | 8 bits                                     |\n",
    "| `int16` | 16b its                                    |\n",
    "| `int32` | 32 bits (same as `int` on 32-bit platform) |\n",
    "| `int64` | 64 bits (same as `int` on 64-bit platform) |"
   ]
  },
  {
   "cell_type": "code",
   "execution_count": 8,
   "id": "3f326d7a",
   "metadata": {},
   "outputs": [
    {
     "data": {
      "text/plain": [
       "dtype('int64')"
      ]
     },
     "execution_count": 8,
     "metadata": {},
     "output_type": "execute_result"
    }
   ],
   "source": [
    "np.array([1], dtype=int).dtype"
   ]
  },
  {
   "cell_type": "code",
   "execution_count": 9,
   "id": "36693a8b",
   "metadata": {},
   "outputs": [
    {
     "data": {
      "text/plain": [
       "(2147483647, 2147483647)"
      ]
     },
     "execution_count": 9,
     "metadata": {},
     "output_type": "execute_result"
    }
   ],
   "source": [
    "np.iinfo(np.int32).max, 2**31 - 1"
   ]
  },
  {
   "cell_type": "markdown",
   "id": "d48b4075",
   "metadata": {},
   "source": [
    "Unsigned integers:\n",
    "\n",
    "| Class    | Bits    |\n",
    "| -------- | ------- |\n",
    "| `uint8`  | 8 bits  |\n",
    "| `uint16` | 16 bits |\n",
    "| `uint32` | 32 bits |\n",
    "| `uint64` | 64 bits |"
   ]
  },
  {
   "cell_type": "code",
   "execution_count": 10,
   "id": "c4151e91",
   "metadata": {},
   "outputs": [
    {
     "data": {
      "text/plain": [
       "(4294967295, 4294967295)"
      ]
     },
     "execution_count": 10,
     "metadata": {},
     "output_type": "execute_result"
    }
   ],
   "source": [
    "np.iinfo(np.uint32).max, 2**32 - 1"
   ]
  },
  {
   "cell_type": "markdown",
   "id": "42c8e32c",
   "metadata": {},
   "source": [
    "Floating-point numbers:\n",
    "\n",
    "| Data Type  | Size (bits)                                            |\n",
    "| ---------- | ------------------------------------------------------ |\n",
    "| `float16`  | 16 bits                                                |\n",
    "| `float32`  | 32 bits                                                |\n",
    "| `float64`  | 64 bits (same as `float`)                              |\n",
    "| `float96`  | 96 bits, platform-dependent (same as `np.longdouble`)  |\n",
    "| `float128` | 128 bits, platform-dependent (same as `np.longdouble`) |"
   ]
  },
  {
   "cell_type": "code",
   "execution_count": 11,
   "id": "1e4e8df3",
   "metadata": {},
   "outputs": [
    {
     "data": {
      "text/plain": [
       "np.float32(1.1920929e-07)"
      ]
     },
     "execution_count": 11,
     "metadata": {},
     "output_type": "execute_result"
    }
   ],
   "source": [
    "np.finfo(np.float32).eps"
   ]
  },
  {
   "cell_type": "code",
   "execution_count": 12,
   "id": "b4937321",
   "metadata": {},
   "outputs": [
    {
     "data": {
      "text/plain": [
       "np.float64(2.220446049250313e-16)"
      ]
     },
     "execution_count": 12,
     "metadata": {},
     "output_type": "execute_result"
    }
   ],
   "source": [
    "np.finfo(np.float64).eps"
   ]
  },
  {
   "cell_type": "code",
   "execution_count": 13,
   "id": "7f2d4763",
   "metadata": {},
   "outputs": [
    {
     "data": {
      "text/plain": [
       "np.True_"
      ]
     },
     "execution_count": 13,
     "metadata": {},
     "output_type": "execute_result"
    }
   ],
   "source": [
    "np.float32(1e-8) + np.float32(1) == 1"
   ]
  },
  {
   "cell_type": "code",
   "execution_count": 14,
   "id": "02f3a948",
   "metadata": {},
   "outputs": [
    {
     "data": {
      "text/plain": [
       "np.False_"
      ]
     },
     "execution_count": 14,
     "metadata": {},
     "output_type": "execute_result"
    }
   ],
   "source": [
    "np.float64(1e-8) + np.float64(1) == 1"
   ]
  },
  {
   "cell_type": "markdown",
   "id": "d99121a3",
   "metadata": {},
   "source": [
    "Complex floating-point numbers:\n",
    "\n",
    "| Data Type    | Size (bits)                            |\n",
    "| ------------ | -------------------------------------- |\n",
    "| `complex64`  | two 32-bit floats                      |\n",
    "| `complex128` | two 64-bit floats                      |\n",
    "| `complex192` | two 96-bit floats, platform-dependent  |\n",
    "| `complex256` | two 128-bit floats, platform-dependent |\n",
    "\n",
    ":::{admonition} Smaller data types\n",
    "If you don't know you need special data types, then you probably don't.\n",
    "\n",
    "Comparison on using `float32` instead of `float64`:\n",
    "\n",
    "- Half the size in memory and on disk\n",
    "\n",
    "- Half the memory bandwidth required (may be a bit faster in some operations)\n",
    "\n",
    "  ```ipython\n",
    "  In [1]: a = np.zeros((int(1e6),), dtype=np.float64)\n",
    "\n",
    "  In [2]: b = np.zeros((int(1e6),), dtype=np.float32)\n",
    "\n",
    "  In [3]: %timeit a*a\n",
    "  1000 loops, best of 3: 1.78 ms per loop\n",
    "\n",
    "  In [4]: %timeit b*b\n",
    "  1000 loops, best of 3: 1.07 ms per loop\n",
    "  ```\n",
    "\n",
    "- But: bigger rounding errors — sometimes in surprising places\n",
    "  (i.e., don't use them unless you really need them)\n",
    "  :::\n",
    "\n",
    "## Structured data types\n",
    "\n",
    "| Data Type     | Description        |\n",
    "| ------------- | ------------------ |\n",
    "| `sensor_code` | 4-character string |\n",
    "| `position`    | float              |\n",
    "| `value`       | float              |"
   ]
  },
  {
   "cell_type": "code",
   "execution_count": 15,
   "id": "c9dc55b0",
   "metadata": {},
   "outputs": [
    {
     "data": {
      "text/plain": [
       "1"
      ]
     },
     "execution_count": 15,
     "metadata": {},
     "output_type": "execute_result"
    }
   ],
   "source": [
    "samples = np.zeros((6,), dtype=[('sensor_code', 'S4'),\n",
    "                                ('position', float), ('value', float)])\n",
    "samples.ndim"
   ]
  },
  {
   "cell_type": "code",
   "execution_count": 16,
   "id": "14dc94b8",
   "metadata": {},
   "outputs": [
    {
     "data": {
      "text/plain": [
       "(6,)"
      ]
     },
     "execution_count": 16,
     "metadata": {},
     "output_type": "execute_result"
    }
   ],
   "source": [
    "samples.shape"
   ]
  },
  {
   "cell_type": "code",
   "execution_count": 17,
   "id": "308e67b0",
   "metadata": {},
   "outputs": [
    {
     "data": {
      "text/plain": [
       "('sensor_code', 'position', 'value')"
      ]
     },
     "execution_count": 17,
     "metadata": {},
     "output_type": "execute_result"
    }
   ],
   "source": [
    "samples.dtype.names"
   ]
  },
  {
   "cell_type": "code",
   "execution_count": 18,
   "id": "d42dd039",
   "metadata": {},
   "outputs": [
    {
     "data": {
      "text/plain": [
       "array([(b'ALFA', 1. , 0.37), (b'BETA', 1. , 0.11), (b'TAU', 1. , 0.13),\n",
       "       (b'ALFA', 1.5, 0.37), (b'ALFA', 3. , 0.11), (b'TAU', 1.2, 0.13)],\n",
       "      dtype=[('sensor_code', 'S4'), ('position', '<f8'), ('value', '<f8')])"
      ]
     },
     "execution_count": 18,
     "metadata": {},
     "output_type": "execute_result"
    }
   ],
   "source": [
    "samples[:] = [('ALFA',   1, 0.37), ('BETA', 1, 0.11), ('TAU', 1,   0.13),\n",
    "              ('ALFA', 1.5, 0.37), ('ALFA', 3, 0.11), ('TAU', 1.2, 0.13)]\n",
    "samples"
   ]
  },
  {
   "cell_type": "markdown",
   "id": "01f2f437",
   "metadata": {},
   "source": [
    "Field access works by indexing with field names:"
   ]
  },
  {
   "cell_type": "code",
   "execution_count": 19,
   "id": "bffef1db",
   "metadata": {},
   "outputs": [
    {
     "data": {
      "text/plain": [
       "array([b'ALFA', b'BETA', b'TAU', b'ALFA', b'ALFA', b'TAU'], dtype='|S4')"
      ]
     },
     "execution_count": 19,
     "metadata": {},
     "output_type": "execute_result"
    }
   ],
   "source": [
    "samples['sensor_code']"
   ]
  },
  {
   "cell_type": "code",
   "execution_count": 20,
   "id": "5b219e29",
   "metadata": {},
   "outputs": [
    {
     "data": {
      "text/plain": [
       "array([0.37, 0.11, 0.13, 0.37, 0.11, 0.13])"
      ]
     },
     "execution_count": 20,
     "metadata": {},
     "output_type": "execute_result"
    }
   ],
   "source": [
    "samples['value']"
   ]
  },
  {
   "cell_type": "code",
   "execution_count": 21,
   "id": "4f6d82c2",
   "metadata": {},
   "outputs": [
    {
     "data": {
      "text/plain": [
       "np.void((b'ALFA', 1.0, 0.37), dtype=[('sensor_code', 'S4'), ('position', '<f8'), ('value', '<f8')])"
      ]
     },
     "execution_count": 21,
     "metadata": {},
     "output_type": "execute_result"
    }
   ],
   "source": [
    "samples[0]"
   ]
  },
  {
   "cell_type": "code",
   "execution_count": 22,
   "id": "50497b3b",
   "metadata": {},
   "outputs": [
    {
     "data": {
      "text/plain": [
       "np.void((b'TAU', 1.0, 0.37), dtype=[('sensor_code', 'S4'), ('position', '<f8'), ('value', '<f8')])"
      ]
     },
     "execution_count": 22,
     "metadata": {},
     "output_type": "execute_result"
    }
   ],
   "source": [
    "samples[0]['sensor_code'] = 'TAU'\n",
    "samples[0]"
   ]
  },
  {
   "cell_type": "markdown",
   "id": "7f52c1ee",
   "metadata": {},
   "source": [
    "Multiple fields at once:"
   ]
  },
  {
   "cell_type": "code",
   "execution_count": 23,
   "id": "dc9545c2",
   "metadata": {},
   "outputs": [
    {
     "data": {
      "text/plain": [
       "array([(1. , 0.37), (1. , 0.11), (1. , 0.13), (1.5, 0.37), (3. , 0.11),\n",
       "       (1.2, 0.13)],\n",
       "      dtype={'names': ['position', 'value'], 'formats': ['<f8', '<f8'], 'offsets': [4, 12], 'itemsize': 20})"
      ]
     },
     "execution_count": 23,
     "metadata": {},
     "output_type": "execute_result"
    }
   ],
   "source": [
    "samples[['position', 'value']]"
   ]
  },
  {
   "cell_type": "markdown",
   "id": "f0e98d2f",
   "metadata": {},
   "source": [
    "Fancy indexing works, as usual:"
   ]
  },
  {
   "cell_type": "code",
   "execution_count": 24,
   "id": "3c5455d7",
   "metadata": {},
   "outputs": [
    {
     "data": {
      "text/plain": [
       "array([(b'ALFA', 1.5, 0.37), (b'ALFA', 3. , 0.11)],\n",
       "      dtype=[('sensor_code', 'S4'), ('position', '<f8'), ('value', '<f8')])"
      ]
     },
     "execution_count": 24,
     "metadata": {},
     "output_type": "execute_result"
    }
   ],
   "source": [
    "samples[samples['sensor_code'] == b'ALFA']"
   ]
  },
  {
   "cell_type": "markdown",
   "id": "db41683a",
   "metadata": {},
   "source": [
    ":::{note}\n",
    "There are a bunch of other syntaxes for constructing structured\n",
    "arrays, see [here](https://numpy.org/doc/stable/user/basics.rec.html)\n",
    "and [here](https://numpy.org/doc/stable/reference/arrays.dtypes.html#specifying-and-constructing-data-types).\n",
    ":::\n",
    "\n",
    "## {class}`maskedarray`: dealing with (propagation of) missing data\n",
    "\n",
    "- For floats one could use NaN's, but masks work for all types:"
   ]
  },
  {
   "cell_type": "code",
   "execution_count": 25,
   "id": "f54af114",
   "metadata": {},
   "outputs": [
    {
     "data": {
      "text/plain": [
       "masked_array(data=[1, --, 3, --],\n",
       "             mask=[False,  True, False,  True],\n",
       "       fill_value=999999)"
      ]
     },
     "execution_count": 25,
     "metadata": {},
     "output_type": "execute_result"
    }
   ],
   "source": [
    "x = np.ma.array([1, 2, 3, 4], mask=[0, 1, 0, 1])\n",
    "x"
   ]
  },
  {
   "cell_type": "code",
   "execution_count": 26,
   "id": "d32071a7",
   "metadata": {},
   "outputs": [
    {
     "data": {
      "text/plain": [
       "masked_array(data=[2, --, --, --],\n",
       "             mask=[False,  True,  True,  True],\n",
       "       fill_value=999999)"
      ]
     },
     "execution_count": 26,
     "metadata": {},
     "output_type": "execute_result"
    }
   ],
   "source": [
    "y = np.ma.array([1, 2, 3, 4], mask=[0, 1, 1, 1])\n",
    "x + y"
   ]
  },
  {
   "cell_type": "markdown",
   "id": "2e6828a8",
   "metadata": {},
   "source": [
    "- Masking versions of common functions:"
   ]
  },
  {
   "cell_type": "code",
   "execution_count": 27,
   "id": "b162ee35",
   "metadata": {},
   "outputs": [
    {
     "data": {
      "text/plain": [
       "masked_array(data=[1.0, --, 1.4142135623730951, --],\n",
       "             mask=[False,  True, False,  True],\n",
       "       fill_value=1e+20)"
      ]
     },
     "execution_count": 27,
     "metadata": {},
     "output_type": "execute_result"
    }
   ],
   "source": [
    "np.ma.sqrt([1, -1, 2, -2])"
   ]
  },
  {
   "cell_type": "markdown",
   "id": "2103a0b6",
   "metadata": {},
   "source": [
    ":::{note}\n",
    "There are other useful {ref}`array siblings <array-siblings>`\n",
    ":::\n",
    "\n",
    "---\n",
    "\n",
    "While it is off topic in a chapter on NumPy, let's take a moment to\n",
    "recall good coding practice, which really do pay off in the long run:\n",
    "\n",
    ":::{admonition} Good practices\n",
    "\n",
    "- Explicit variable names (no need of a comment to explain what is in\n",
    "  the variable)\n",
    "\n",
    "- Style: spaces after commas, around `=`, etc.\n",
    "\n",
    "  A certain number of rules for writing \"beautiful\" code (and, more\n",
    "  importantly, using the same conventions as everybody else!) are\n",
    "  given in the [Style Guide for Python Code](https://peps.python.org/pep-0008) and the [Docstring\n",
    "  Conventions](https://peps.python.org/pep-0257) page (to\n",
    "  manage help strings).\n",
    "\n",
    "- Except some rare cases, variable names and comments in English.\n",
    "  :::"
   ]
  }
 ],
 "metadata": {
  "jupytext": {
   "text_representation": {
    "extension": ".md",
    "format_name": "myst",
    "format_version": 0.13,
    "jupytext_version": "1.18.0-dev"
   }
  },
  "kernelspec": {
   "display_name": "Python 3 (ipykernel)",
   "language": "python",
   "name": "python3"
  },
  "language_info": {
   "codemirror_mode": {
    "name": "ipython",
    "version": 3
   },
   "file_extension": ".py",
   "mimetype": "text/x-python",
   "name": "python",
   "nbconvert_exporter": "python",
   "pygments_lexer": "ipython3",
   "version": "3.12.7"
  }
 },
 "nbformat": 4,
 "nbformat_minor": 5
}