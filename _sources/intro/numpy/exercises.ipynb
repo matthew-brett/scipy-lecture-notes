{
 "cells": [
  {
   "cell_type": "markdown",
   "id": "671bb274",
   "metadata": {},
   "source": [
    "(numpy-exercises)=\n",
    "\n",
    "# Some exercises"
   ]
  },
  {
   "cell_type": "code",
   "execution_count": null,
   "id": "810b9209",
   "metadata": {},
   "outputs": [],
   "source": [
    "import numpy as np\n",
    "import matplotlib.pyplot as plt"
   ]
  },
  {
   "cell_type": "markdown",
   "id": "9f139922",
   "metadata": {},
   "source": [
    "## Array manipulations\n",
    "\n",
    "::: {exercise-start}\n",
    ":label: array-manipulation\n",
    ":class: dropdown\n",
    ":::\n",
    "\n",
    "**Form the 2-D array (without typing it in explicitly)**"
   ]
  },
  {
   "cell_type": "markdown",
   "id": "592cba32",
   "metadata": {},
   "source": [
    "```python\n",
    "[[1,  6, 11],\n",
    " [2,  7, 12],\n",
    " [3,  8, 13],\n",
    " [4,  9, 14],\n",
    " [5, 10, 15]]\n",
    "```\n",
    "\n",
    "and generate a new array containing its 2nd and 4th rows.\n",
    "\n",
    "**Divide each column of the array**"
   ]
  },
  {
   "cell_type": "code",
   "execution_count": null,
   "id": "39132e75",
   "metadata": {},
   "outputs": [],
   "source": [
    "import numpy as np\n",
    "a = np.arange(25).reshape(5, 5)"
   ]
  },
  {
   "cell_type": "markdown",
   "id": "c30fa767",
   "metadata": {},
   "source": [
    "elementwise with the array `b = np.array([1., 5, 10, 15, 20])`.\n",
    "(Hint: `np.newaxis`).\n",
    "\n",
    "**Harder one, random numbers**\n",
    "\n",
    "Generate a 10 x 3 array of random numbers (in range \\[0,1\\]). For each row, pick the number closest to 0.5.\n",
    "\n",
    "- Use `abs` and `argmin` to find the column `j` closest for\n",
    "  each row.\n",
    "- Use fancy indexing to extract the numbers. (Hint: `a[i,j]` -- the array `i`\n",
    "  must contain the row numbers corresponding to stuff in `j`.)\n",
    "\n",
    "::: {exercise-end}\n",
    ":::\n",
    "\n",
    "::: {solution-start} array-manipulation\n",
    ":class: dropdown\n",
    ":::"
   ]
  },
  {
   "cell_type": "code",
   "execution_count": null,
   "id": "7f62eb59",
   "metadata": {},
   "outputs": [],
   "source": [
    "import numpy as np\n",
    "from numpy import newaxis\n",
    "\n",
    "# Part 1.\n",
    "\n",
    "a = np.arange(1, 16).reshape(3, -1).T\n",
    "print(a)"
   ]
  },
  {
   "cell_type": "markdown",
   "id": "1ba7d658",
   "metadata": {},
   "source": [
    "::: {solution-end}\n",
    ":::"
   ]
  },
  {
   "cell_type": "markdown",
   "id": "e3cab630",
   "metadata": {},
   "source": [
    "## Picture manipulation: Framing a Face\n",
    "\n",
    "Let's do some manipulations on NumPy arrays by starting with an image\n",
    "of a raccoon. `scipy` provides a 2D array of this image with the\n",
    "`scipy.datasets.face` function:"
   ]
  },
  {
   "cell_type": "code",
   "execution_count": null,
   "id": "1aecd82c",
   "metadata": {},
   "outputs": [],
   "source": [
    "import scipy as sp\n",
    "face = sp.datasets.face(gray=True)  # 2D grayscale image"
   ]
  },
  {
   "cell_type": "markdown",
   "id": "18e4f58e",
   "metadata": {},
   "source": [
    "Here are a few images we will be able to obtain with our manipulations:\n",
    "use different colormaps, crop the image, change some parts of the image.\n",
    "\n",
    "![](images/faces.png)\n",
    "\n",
    "Let's use the `imshow` function of matplotlib to display the image."
   ]
  },
  {
   "cell_type": "code",
   "execution_count": null,
   "id": "ccf67043",
   "metadata": {},
   "outputs": [],
   "source": [
    "import matplotlib.pyplot as plt\n",
    "face = sp.datasets.face(gray=True)\n",
    "plt.imshow(face)"
   ]
  },
  {
   "cell_type": "markdown",
   "id": "160f9c9a",
   "metadata": {},
   "source": [
    "The face is displayed in false colors. A colormap must be specified for it\n",
    "to be displayed in grey."
   ]
  },
  {
   "cell_type": "code",
   "execution_count": null,
   "id": "322c8642",
   "metadata": {},
   "outputs": [],
   "source": [
    "plt.imshow(face, cmap=plt.cm.gray)"
   ]
  },
  {
   "cell_type": "markdown",
   "id": "7a92c0f1",
   "metadata": {},
   "source": [
    "### Narrow centering\n",
    "\n",
    "Create an array of the image with a narrower centering; remove 100 pixels from\n",
    "all the borders of the image. To check the result, display this new array with\n",
    "`imshow`."
   ]
  },
  {
   "cell_type": "code",
   "execution_count": null,
   "id": "68498583",
   "metadata": {},
   "outputs": [],
   "source": [
    "crop_face = face[100:-100, 100:-100]"
   ]
  },
  {
   "cell_type": "markdown",
   "id": "c4954b89",
   "metadata": {},
   "source": [
    "### Frame face\n",
    "\n",
    "We will now frame the face with a black locket. For this, we need to create\n",
    "a mask corresponding to the pixels we want to be black. The center of the face\n",
    "is around (660, 330), so we defined the mask by this condition `(y-300)\\*\\*2\n",
    "\n",
    "- (x-660)\\*\\*2`"
   ]
  },
  {
   "cell_type": "code",
   "execution_count": null,
   "id": "b81794a7",
   "metadata": {},
   "outputs": [],
   "source": [
    "sy, sx = face.shape\n",
    "y, x = np.ogrid[0:sy, 0:sx] # x and y indices of pixels\n",
    "y.shape, x.shape"
   ]
  },
  {
   "cell_type": "code",
   "execution_count": null,
   "id": "3dc38b35",
   "metadata": {},
   "outputs": [],
   "source": [
    "centerx, centery = (660, 300) # center of the image\n",
    "mask = ((y - centery)**2 + (x - centerx)**2) > 230**2 # circle"
   ]
  },
  {
   "cell_type": "markdown",
   "id": "18d7e6e7",
   "metadata": {},
   "source": [
    "then we assign the value 0 to the pixels of the image corresponding to the\n",
    "mask. The syntax is extremely simple and intuitive:"
   ]
  },
  {
   "cell_type": "code",
   "execution_count": null,
   "id": "94e1d0ee",
   "metadata": {},
   "outputs": [],
   "source": [
    "face[mask] = 0\n",
    "plt.imshow(face)"
   ]
  },
  {
   "cell_type": "markdown",
   "id": "ac44ab55",
   "metadata": {},
   "source": [
    "Follow-up:\n",
    "\n",
    "- copy all instructions of this exercise in a script called : `face_locket.py`\n",
    "  then execute this script in IPython with `%run face_locket.py`.\n",
    "- Change the circle to an ellipsoid.\n",
    "\n",
    "## Data statistics\n",
    "\n",
    "The data in {download}`populations.txt <../../data/populations.txt>`\n",
    "describes the populations of hares and lynxes (and carrots) in\n",
    "northern Canada during 20 years:"
   ]
  },
  {
   "cell_type": "code",
   "execution_count": null,
   "id": "0b4350e2",
   "metadata": {},
   "outputs": [],
   "source": [
    "data = np.loadtxt('data/populations.txt')\n",
    "year, hares, lynxes, carrots = data.T  # trick: columns to variables"
   ]
  },
  {
   "cell_type": "code",
   "execution_count": null,
   "id": "8b2b6de0",
   "metadata": {},
   "outputs": [],
   "source": [
    "import matplotlib.pyplot as plt\n",
    "\n",
    "plt.axes([0.2, 0.1, 0.5, 0.8])\n",
    "plt.plot(year, hares, year, lynxes, year, carrots)\n",
    "plt.legend(('Hare', 'Lynx', 'Carrot'), loc=(1.05, 0.5))"
   ]
  },
  {
   "cell_type": "markdown",
   "id": "a7d479ad",
   "metadata": {},
   "source": [
    "::: {exercise-start}\n",
    ":label: statistics-with-arrays\n",
    ":class: dropdown\n",
    ":::\n",
    "\n",
    "Compute and print, based on the data in `populations.txt`...\n",
    "\n",
    "1. The mean and std of the populations of each species for the years\n",
    "   in the period.\n",
    "2. Which year each species had the largest population.\n",
    "3. Which species has the largest population for each year.\n",
    "   (Hint: `argsort` & fancy indexing of\n",
    "   `np.array(['H', 'L', 'C'])`)\n",
    "4. Which years any of the populations is above 50000.\n",
    "   (Hint: comparisons and `np.any`)\n",
    "5. The top 2 years for each species when they had the lowest\n",
    "   populations. (Hint: `argsort`, fancy indexing)\n",
    "6. Compare (plot) the change in hare population (see\n",
    "   `help(np.gradient)`) and the number of lynxes. Check correlation\n",
    "   (see `help(np.corrcoef)`).\n",
    "\n",
    "... all without for-loops.\n",
    "\n",
    "::: {exercise-end}\n",
    ":::\n",
    "\n",
    "::: {solution-start} statistics-with-arrays\n",
    ":class: dropdown\n",
    ":::"
   ]
  },
  {
   "cell_type": "code",
   "execution_count": null,
   "id": "d41c8399",
   "metadata": {},
   "outputs": [],
   "source": [
    "import numpy as np\n",
    "\n",
    "data = np.loadtxt(\"data/populations.txt\")\n",
    "year, hares, lynxes, carrots = data.T\n",
    "populations = data[:, 1:]\n",
    "\n",
    "print(\"       Hares, Lynxes, Carrots\")\n",
    "print(\"Mean:\", populations.mean(axis=0))\n",
    "print(\"Std:\", populations.std(axis=0))\n",
    "\n",
    "j_max_years = np.argmax(populations, axis=0)\n",
    "print(\"Max. year:\", year[j_max_years])\n",
    "\n",
    "max_species = np.argmax(populations, axis=1)\n",
    "species = np.array([\"Hare\", \"Lynx\", \"Carrot\"])\n",
    "print(\"Max species:\")\n",
    "print(year)\n",
    "print(species[max_species])\n",
    "\n",
    "above_50000 = np.any(populations > 50000, axis=1)\n",
    "print(\"Any above 50000:\", year[above_50000])\n",
    "\n",
    "j_top_2 = np.argsort(populations, axis=0)[:2]\n",
    "print(\"Top 2 years with lowest populations for each:\")\n",
    "print(year[j_top_2])\n",
    "\n",
    "hare_grad = np.gradient(hares, 1.0)\n",
    "print(\"diff(Hares) vs. Lynxes correlation\", np.corrcoef(hare_grad, lynxes)[0, 1])\n",
    "\n",
    "import matplotlib.pyplot as plt\n",
    "\n",
    "plt.plot(year, hare_grad, year, -lynxes)\n",
    "plt.savefig(\"plot.png\")"
   ]
  },
  {
   "cell_type": "markdown",
   "id": "093d8044",
   "metadata": {},
   "source": [
    "::: {solution-end}\n",
    ":::\n",
    "\n",
    "## Crude integral approximations\n",
    "\n",
    "::: {exercise-start}\n",
    ":label: integral-approx\n",
    ":class: dropdown\n",
    ":::\n",
    "\n",
    "Write a function `f(a, b, c)` that returns $a^b - c$. Form\n",
    "a 24x12x6 array containing its values in parameter ranges `[0,1] x\n",
    "[0,1] x [0,1]`.\n",
    "\n",
    "Approximate the 3-d integral\n",
    "\n",
    "$$\n",
    "\\int_0^1\\int_0^1\\int_0^1(a^b-c)da\\,db\\,dc\n",
    "$$\n",
    "\n",
    "over this volume with the mean. The exact result is: $\\ln 2 -\n",
    "\\frac{1}{2}\\approx0.1931\\ldots$ --- what is your relative error?\n",
    "\n",
    "(Hints: use elementwise operations and broadcasting.\n",
    "You can make `np.ogrid` give a number of points in given range\n",
    "with `np.ogrid[0:1:20j]`.)\n",
    "\n",
    "**Reminder** Python functions:"
   ]
  },
  {
   "cell_type": "code",
   "execution_count": null,
   "id": "cb5b6967",
   "metadata": {},
   "outputs": [],
   "source": [
    "def f(a, b, c):\n",
    "    return some_result"
   ]
  },
  {
   "cell_type": "markdown",
   "id": "64589dcb",
   "metadata": {},
   "source": [
    "::: {exercise-end}\n",
    ":::\n",
    "\n",
    "::: {solution-start} integral-approx\n",
    ":class: dropdown\n",
    ":::"
   ]
  },
  {
   "cell_type": "code",
   "execution_count": null,
   "id": "7eb4d10e",
   "metadata": {},
   "outputs": [],
   "source": [
    "import numpy as np\n",
    "from numpy import newaxis\n",
    "\n",
    "\n",
    "def f(a, b, c):\n",
    "    return a**b - c\n",
    "\n",
    "\n",
    "a = np.linspace(0, 1, 24)\n",
    "b = np.linspace(0, 1, 12)\n",
    "c = np.linspace(0, 1, 6)\n",
    "\n",
    "samples = f(a[:, newaxis, newaxis], b[newaxis, :, newaxis], c[newaxis, newaxis, :])\n",
    "\n",
    "# or,\n",
    "#\n",
    "# a, b, c = np.ogrid[0:1:24j, 0:1:12j, 0:1:6j]\n",
    "# samples = f(a, b, c)\n",
    "\n",
    "integral = samples.mean()\n",
    "\n",
    "print(\"Approximation:\", integral)\n",
    "print(\"Exact:\", np.log(2) - 0.5)"
   ]
  },
  {
   "cell_type": "markdown",
   "id": "f8ba11d8",
   "metadata": {},
   "source": [
    "::: {solution-end}\n",
    ":::"
   ]
  },
  {
   "cell_type": "markdown",
   "id": "2e6b24d6",
   "metadata": {},
   "source": [
    "## Mandelbrot set\n",
    "\n",
    "::: {exercise-start}\n",
    ":label: mandelbrot-fractal\n",
    ":class: dropdown\n",
    ":::\n",
    "\n",
    "Write a script that computes the Mandelbrot fractal. The Mandelbrot\n",
    "iteration:"
   ]
  },
  {
   "cell_type": "code",
   "execution_count": null,
   "id": "c82b69da",
   "metadata": {},
   "outputs": [],
   "source": [
    "N_max = 50\n",
    "some_threshold = 50\n",
    "\n",
    "c = x + 1j*y\n",
    "\n",
    "z = 0\n",
    "for j in range(N_max):\n",
    "    z = z**2 + c"
   ]
  },
  {
   "cell_type": "markdown",
   "id": "5c2172df",
   "metadata": {},
   "source": [
    "Point (x, y) belongs to the Mandelbrot set if $|z|$ \\<\n",
    "`some_threshold`.\n",
    "\n",
    "Do this computation by:"
   ]
  },
  {
   "cell_type": "code",
   "execution_count": null,
   "id": "0badac98",
   "metadata": {
    "tags": [
     "hide-input"
    ]
   },
   "outputs": [],
   "source": [
    "mask = np.ones((3, 3))"
   ]
  },
  {
   "cell_type": "markdown",
   "id": "ef1359b7",
   "metadata": {},
   "source": [
    "1. Construct a grid of c = x + 1j\\*y values in range [-2, 1] x [-1.5, 1.5]\n",
    "2. Do the iteration\n",
    "3. Form the 2-d boolean mask indicating which points are in the set\n",
    "4. Save the result to an image with:\n",
    "\n",
    "   ```python\n",
    "   import matplotlib.pyplot as plt\n",
    "   plt.imshow(mask.T, extent=[-2, 1, -1.5, 1.5])\n",
    "   plt.gray()\n",
    "   plt.savefig('mandelbrot.png')\n",
    "   ```\n",
    "\n",
    "::: {exercise-end}\n",
    ":::\n",
    "\n",
    "::: {solution-start} mandelbrot-fractal\n",
    ":class: dropdown\n",
    ":::"
   ]
  },
  {
   "cell_type": "code",
   "execution_count": null,
   "id": "0d87688e",
   "metadata": {},
   "outputs": [],
   "source": [
    "import numpy as np\n",
    "import matplotlib.pyplot as plt\n",
    "from numpy import newaxis\n",
    "\n",
    "\n",
    "def compute_mandelbrot(N_max, some_threshold, nx, ny):\n",
    "    # A grid of c-values\n",
    "    x = np.linspace(-2, 1, nx)\n",
    "    y = np.linspace(-1.5, 1.5, ny)\n",
    "\n",
    "    c = x[:, newaxis] + 1j * y[newaxis, :]\n",
    "\n",
    "    # Mandelbrot iteration\n",
    "\n",
    "    z = c\n",
    "    for j in range(N_max):\n",
    "        z = z**2 + c\n",
    "\n",
    "    mandelbrot_set = abs(z) < some_threshold\n",
    "\n",
    "    return mandelbrot_set\n",
    "\n",
    "# Save\n",
    "\n",
    "mandelbrot_set = compute_mandelbrot(50, 50.0, 601, 401)\n",
    "\n",
    "plt.imshow(mandelbrot_set.T, extent=[-2, 1, -1.5, 1.5])  # type: ignore[arg-type]\n",
    "plt.gray()\n",
    "plt.savefig(\"mandelbrot.png\")"
   ]
  },
  {
   "cell_type": "markdown",
   "id": "1942de2e",
   "metadata": {},
   "source": [
    "::: {solution-end}\n",
    ":::"
   ]
  },
  {
   "cell_type": "markdown",
   "id": "3dbc86e1",
   "metadata": {},
   "source": [
    "## Markov chain\n",
    "\n",
    "![](images/markov-chain.png)\n",
    "\n",
    "::: {exercise-start}\n",
    ":label: markov-implementation\n",
    ":class: dropdown\n",
    ":::\n",
    "\n",
    "Markov chain transition matrix `P`, and probability distribution on\n",
    "the states `p`:\n",
    "\n",
    "1. `0 <= P[i,j] <= 1`: probability to go from state `i` to state `j`\n",
    "2. Transition rule: $p_{new} = P^T p_{old}$\n",
    "3. `all(sum(P, axis=1) == 1)`, `p.sum() == 1`: normalization\n",
    "\n",
    "Write a script that works with 5 states, and:\n",
    "\n",
    "- Constructs a random matrix, and normalizes each row so that it\n",
    "  is a transition matrix.\n",
    "- Starts from a random (normalized) probability distribution\n",
    "  `p` and takes 50 steps => `p_50`\n",
    "- Computes the stationary distribution: the eigenvector of `P.T`\n",
    "  with eigenvalue 1 (numerically: closest to 1) => `p_stationary`\n",
    "\n",
    "  Remember to normalize the eigenvector — I didn't...\n",
    "\n",
    "- Checks if `p_50` and `p_stationary` are equal to tolerance 1e-5\n",
    "\n",
    "Toolbox: `np.random`, `@`, `np.linalg.eig`, reductions, `abs()`, `argmin`,\n",
    "comparisons, `all`, `np.linalg.norm`, etc.\n",
    "\n",
    "::: {exercise-end}\n",
    ":::\n",
    "\n",
    "::: {solution-start} markov-implementation\n",
    ":class: dropdown\n",
    ":::\n",
    "\n",
    "Solution to Markov chain exercise."
   ]
  },
  {
   "cell_type": "code",
   "execution_count": null,
   "id": "a3aba9e2",
   "metadata": {},
   "outputs": [],
   "source": [
    "import numpy as np\n",
    "\n",
    "rng = np.random.default_rng(27446968)\n",
    "\n",
    "n_states = 5\n",
    "n_steps = 50\n",
    "tolerance = 1e-5\n",
    "\n",
    "# Random transition matrix and state vector\n",
    "P = rng.random(size=(n_states, n_states))\n",
    "p = rng.random(n_states)\n",
    "\n",
    "# Normalize rows in P\n",
    "P /= P.sum(axis=1)[:, np.newaxis]\n",
    "\n",
    "# Normalize p\n",
    "p /= p.sum()\n",
    "\n",
    "# Take steps\n",
    "for k in range(n_steps):\n",
    "    p = P.T @ p\n",
    "\n",
    "p_50 = p\n",
    "print(p_50)\n",
    "\n",
    "# Compute stationary state\n",
    "w, v = np.linalg.eig(P.T)\n",
    "\n",
    "j_stationary = np.argmin(abs(w - 1.0))\n",
    "p_stationary = v[:, j_stationary].real\n",
    "p_stationary /= p_stationary.sum()\n",
    "print(p_stationary)\n",
    "\n",
    "# Compare\n",
    "if all(abs(p_50 - p_stationary) < tolerance):\n",
    "    print(\"Tolerance satisfied in infty-norm\")\n",
    "\n",
    "if np.linalg.norm(p_50 - p_stationary) < tolerance:\n",
    "    print(\"Tolerance satisfied in 2-norm\")"
   ]
  },
  {
   "cell_type": "markdown",
   "id": "fc718672",
   "metadata": {},
   "source": [
    "::: {solution-end}\n",
    ":::"
   ]
  }
 ],
 "metadata": {
  "jupytext": {
   "text_representation": {
    "extension": ".md",
    "format_name": "myst",
    "format_version": 0.13,
    "jupytext_version": "1.18.0-dev"
   }
  },
  "kernelspec": {
   "display_name": "Python 3 (ipykernel)",
   "language": "python",
   "name": "python3"
  }
 },
 "nbformat": 4,
 "nbformat_minor": 5
}