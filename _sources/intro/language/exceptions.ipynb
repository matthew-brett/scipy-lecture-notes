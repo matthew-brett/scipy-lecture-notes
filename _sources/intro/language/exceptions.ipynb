{
 "cells": [
  {
   "cell_type": "markdown",
   "id": "96e162ea",
   "metadata": {},
   "source": [
    "# Exception handling in Python\n",
    "\n",
    "It is likely that you have raised Exceptions if you have\n",
    "typed all the previous commands of the tutorial. For example, you may\n",
    "have raised an exception if you entered a command with a typo.\n",
    "\n",
    "Exceptions are raised by different kinds of errors arising when executing\n",
    "Python code. In your own code, you may also catch errors, or define custom\n",
    "error types. You may want to look at the descriptions of the [the built-in\n",
    "Exceptions](https://docs.python.org/3/library/exceptions.html) when looking\n",
    "for the right exception type.\n",
    "\n",
    "## Exceptions\n",
    "\n",
    "Exceptions are raised by errors in Python:"
   ]
  },
  {
   "cell_type": "code",
   "execution_count": 1,
   "id": "8acc3f0f",
   "metadata": {
    "tags": [
     "raises-exception"
    ]
   },
   "outputs": [
    {
     "ename": "ZeroDivisionError",
     "evalue": "division by zero",
     "output_type": "error",
     "traceback": [
      "\u001b[31m---------------------------------------------------------------------------\u001b[39m",
      "\u001b[31mZeroDivisionError\u001b[39m                         Traceback (most recent call last)",
      "\u001b[36mCell\u001b[39m\u001b[36m \u001b[39m\u001b[32mIn[1]\u001b[39m\u001b[32m, line 1\u001b[39m\n\u001b[32m----> \u001b[39m\u001b[32m1\u001b[39m \u001b[32;43m1\u001b[39;49m\u001b[43m/\u001b[49m\u001b[32;43m0\u001b[39;49m\n",
      "\u001b[31mZeroDivisionError\u001b[39m: division by zero"
     ]
    }
   ],
   "source": [
    "1/0"
   ]
  },
  {
   "cell_type": "code",
   "execution_count": 2,
   "id": "e452ac5e",
   "metadata": {
    "tags": [
     "raises-exception"
    ]
   },
   "outputs": [
    {
     "ename": "TypeError",
     "evalue": "unsupported operand type(s) for +: 'int' and 'str'",
     "output_type": "error",
     "traceback": [
      "\u001b[31m---------------------------------------------------------------------------\u001b[39m",
      "\u001b[31mTypeError\u001b[39m                                 Traceback (most recent call last)",
      "\u001b[36mCell\u001b[39m\u001b[36m \u001b[39m\u001b[32mIn[2]\u001b[39m\u001b[32m, line 1\u001b[39m\n\u001b[32m----> \u001b[39m\u001b[32m1\u001b[39m \u001b[32;43m1\u001b[39;49m\u001b[43m \u001b[49m\u001b[43m+\u001b[49m\u001b[43m \u001b[49m\u001b[33;43m'\u001b[39;49m\u001b[33;43me\u001b[39;49m\u001b[33;43m'\u001b[39;49m\n",
      "\u001b[31mTypeError\u001b[39m: unsupported operand type(s) for +: 'int' and 'str'"
     ]
    }
   ],
   "source": [
    "1 + 'e'"
   ]
  },
  {
   "cell_type": "code",
   "execution_count": 3,
   "id": "975c24e4",
   "metadata": {
    "tags": [
     "raises-exception"
    ]
   },
   "outputs": [
    {
     "ename": "KeyError",
     "evalue": "3",
     "output_type": "error",
     "traceback": [
      "\u001b[31m---------------------------------------------------------------------------\u001b[39m",
      "\u001b[31mKeyError\u001b[39m                                  Traceback (most recent call last)",
      "\u001b[36mCell\u001b[39m\u001b[36m \u001b[39m\u001b[32mIn[3]\u001b[39m\u001b[32m, line 2\u001b[39m\n\u001b[32m      1\u001b[39m d = {\u001b[32m1\u001b[39m:\u001b[32m1\u001b[39m, \u001b[32m2\u001b[39m:\u001b[32m2\u001b[39m}\n\u001b[32m----> \u001b[39m\u001b[32m2\u001b[39m \u001b[43md\u001b[49m\u001b[43m[\u001b[49m\u001b[32;43m3\u001b[39;49m\u001b[43m]\u001b[49m\n",
      "\u001b[31mKeyError\u001b[39m: 3"
     ]
    }
   ],
   "source": [
    "d = {1:1, 2:2}\n",
    "d[3]"
   ]
  },
  {
   "cell_type": "code",
   "execution_count": 4,
   "id": "f24fef25",
   "metadata": {
    "tags": [
     "raises-exception"
    ]
   },
   "outputs": [
    {
     "ename": "IndexError",
     "evalue": "list index out of range",
     "output_type": "error",
     "traceback": [
      "\u001b[31m---------------------------------------------------------------------------\u001b[39m",
      "\u001b[31mIndexError\u001b[39m                                Traceback (most recent call last)",
      "\u001b[36mCell\u001b[39m\u001b[36m \u001b[39m\u001b[32mIn[4]\u001b[39m\u001b[32m, line 2\u001b[39m\n\u001b[32m      1\u001b[39m l = [\u001b[32m1\u001b[39m, \u001b[32m2\u001b[39m, \u001b[32m3\u001b[39m]\n\u001b[32m----> \u001b[39m\u001b[32m2\u001b[39m \u001b[43ml\u001b[49m\u001b[43m[\u001b[49m\u001b[32;43m4\u001b[39;49m\u001b[43m]\u001b[49m\n",
      "\u001b[31mIndexError\u001b[39m: list index out of range"
     ]
    }
   ],
   "source": [
    "l = [1, 2, 3]\n",
    "l[4]"
   ]
  },
  {
   "cell_type": "code",
   "execution_count": 5,
   "id": "1773a0c5",
   "metadata": {
    "tags": [
     "raises-exception"
    ]
   },
   "outputs": [
    {
     "ename": "AttributeError",
     "evalue": "'list' object has no attribute 'foobar'",
     "output_type": "error",
     "traceback": [
      "\u001b[31m---------------------------------------------------------------------------\u001b[39m",
      "\u001b[31mAttributeError\u001b[39m                            Traceback (most recent call last)",
      "\u001b[36mCell\u001b[39m\u001b[36m \u001b[39m\u001b[32mIn[5]\u001b[39m\u001b[32m, line 1\u001b[39m\n\u001b[32m----> \u001b[39m\u001b[32m1\u001b[39m \u001b[43ml\u001b[49m\u001b[43m.\u001b[49m\u001b[43mfoobar\u001b[49m\n",
      "\u001b[31mAttributeError\u001b[39m: 'list' object has no attribute 'foobar'"
     ]
    }
   ],
   "source": [
    "l.foobar"
   ]
  },
  {
   "cell_type": "markdown",
   "id": "b759bc03",
   "metadata": {},
   "source": [
    "As you can see, there are **different types** of exceptions for different errors.\n",
    "\n",
    "## Catching exceptions\n",
    "\n",
    "### try/except\n",
    "\n",
    "```ipython\n",
    "In [1]: while True:\n",
    "   ....:     try:\n",
    "   ....:         x = int(input('Please enter a number: '))\n",
    "   ....:         break\n",
    "   ....:     except ValueError:\n",
    "   ....:         print('That was no valid number.  Try again...')\n",
    "   ....:\n",
    "Please enter a number: a\n",
    "That was no valid number.  Try again...\n",
    "Please enter a number: 1\n",
    "\n",
    "In [2]: x\n",
    "Out[9]: 1\n",
    "```\n",
    "\n",
    "### try/finally\n",
    "\n",
    "```ipython\n",
    "In [1]: try:\n",
    "   ....:     x = int(input('Please enter a number: '))\n",
    "   ....: finally:\n",
    "   ....:     print('Thank you for your input')\n",
    "   ....:\n",
    "Please enter a number: a\n",
    "Thank you for your input\n",
    "---------------------------------------------------------------------------\n",
    "ValueError                                Traceback (most recent call last)\n",
    "Cell In[10], line 2\n",
    "      1 try:\n",
    "----> 2     x = int(input('Please enter a number: '))\n",
    "      3 finally:\n",
    "      4     print('Thank you for your input')\n",
    "ValueError: invalid literal for int() with base 10: 'a'\n",
    "```\n",
    "\n",
    "Important for resource management (e.g. closing a file)\n",
    "\n",
    "### Easier to ask for forgiveness than for permission"
   ]
  },
  {
   "cell_type": "code",
   "execution_count": 6,
   "id": "19ac0c2d",
   "metadata": {},
   "outputs": [],
   "source": [
    "def print_sorted(collection):\n",
    "    try:\n",
    "        collection.sort()\n",
    "    except AttributeError:\n",
    "        pass # The pass statement does nothing\n",
    "    print(collection)"
   ]
  },
  {
   "cell_type": "code",
   "execution_count": 7,
   "id": "a09c9efe",
   "metadata": {},
   "outputs": [
    {
     "name": "stdout",
     "output_type": "stream",
     "text": [
      "[1, 2, 3]\n"
     ]
    }
   ],
   "source": [
    "print_sorted([1, 3, 2])"
   ]
  },
  {
   "cell_type": "code",
   "execution_count": 8,
   "id": "b6458315",
   "metadata": {},
   "outputs": [
    {
     "name": "stdout",
     "output_type": "stream",
     "text": [
      "{1, 2, 3}\n"
     ]
    }
   ],
   "source": [
    "print_sorted(set((1, 3, 2)))"
   ]
  },
  {
   "cell_type": "code",
   "execution_count": 9,
   "id": "bf161564",
   "metadata": {},
   "outputs": [
    {
     "name": "stdout",
     "output_type": "stream",
     "text": [
      "132\n"
     ]
    }
   ],
   "source": [
    "print_sorted('132')"
   ]
  },
  {
   "cell_type": "markdown",
   "id": "aa2da0b5",
   "metadata": {},
   "source": [
    "## Raising exceptions\n",
    "\n",
    "### Capturing and re-raising an exception:"
   ]
  },
  {
   "cell_type": "code",
   "execution_count": 10,
   "id": "78aab9a7",
   "metadata": {},
   "outputs": [
    {
     "name": "stdout",
     "output_type": "stream",
     "text": [
      "OK, Gaël\n"
     ]
    },
    {
     "data": {
      "text/plain": [
       "'Gaël'"
      ]
     },
     "execution_count": 10,
     "metadata": {},
     "output_type": "execute_result"
    }
   ],
   "source": [
    "def filter_name(name):\n",
    "    try:\n",
    "        name = name.encode('ascii')\n",
    "    except UnicodeError as e:\n",
    "        if name == 'Gaël':\n",
    "            print('OK, Gaël')\n",
    "        else:\n",
    "            raise e\n",
    "    return name\n",
    "\n",
    "filter_name('Gaël')"
   ]
  },
  {
   "cell_type": "code",
   "execution_count": 11,
   "id": "4ff24cfc",
   "metadata": {
    "tags": [
     "raises-exception"
    ]
   },
   "outputs": [
    {
     "ename": "UnicodeEncodeError",
     "evalue": "'ascii' codec can't encode character '\\xe9' in position 2: ordinal not in range(128)",
     "output_type": "error",
     "traceback": [
      "\u001b[31m---------------------------------------------------------------------------\u001b[39m",
      "\u001b[31mUnicodeEncodeError\u001b[39m                        Traceback (most recent call last)",
      "\u001b[36mCell\u001b[39m\u001b[36m \u001b[39m\u001b[32mIn[11]\u001b[39m\u001b[32m, line 1\u001b[39m\n\u001b[32m----> \u001b[39m\u001b[32m1\u001b[39m \u001b[43mfilter_name\u001b[49m\u001b[43m(\u001b[49m\u001b[33;43m'\u001b[39;49m\u001b[33;43mStéfan\u001b[39;49m\u001b[33;43m'\u001b[39;49m\u001b[43m)\u001b[49m\n",
      "\u001b[36mCell\u001b[39m\u001b[36m \u001b[39m\u001b[32mIn[10]\u001b[39m\u001b[32m, line 8\u001b[39m, in \u001b[36mfilter_name\u001b[39m\u001b[34m(name)\u001b[39m\n\u001b[32m      6\u001b[39m         \u001b[38;5;28mprint\u001b[39m(\u001b[33m'\u001b[39m\u001b[33mOK, Gaël\u001b[39m\u001b[33m'\u001b[39m)\n\u001b[32m      7\u001b[39m     \u001b[38;5;28;01melse\u001b[39;00m:\n\u001b[32m----> \u001b[39m\u001b[32m8\u001b[39m         \u001b[38;5;28;01mraise\u001b[39;00m e\n\u001b[32m      9\u001b[39m \u001b[38;5;28;01mreturn\u001b[39;00m name\n",
      "\u001b[36mCell\u001b[39m\u001b[36m \u001b[39m\u001b[32mIn[10]\u001b[39m\u001b[32m, line 3\u001b[39m, in \u001b[36mfilter_name\u001b[39m\u001b[34m(name)\u001b[39m\n\u001b[32m      1\u001b[39m \u001b[38;5;28;01mdef\u001b[39;00m\u001b[38;5;250m \u001b[39m\u001b[34mfilter_name\u001b[39m(name):\n\u001b[32m      2\u001b[39m     \u001b[38;5;28;01mtry\u001b[39;00m:\n\u001b[32m----> \u001b[39m\u001b[32m3\u001b[39m         name = \u001b[43mname\u001b[49m\u001b[43m.\u001b[49m\u001b[43mencode\u001b[49m\u001b[43m(\u001b[49m\u001b[33;43m'\u001b[39;49m\u001b[33;43mascii\u001b[39;49m\u001b[33;43m'\u001b[39;49m\u001b[43m)\u001b[49m\n\u001b[32m      4\u001b[39m     \u001b[38;5;28;01mexcept\u001b[39;00m \u001b[38;5;167;01mUnicodeError\u001b[39;00m \u001b[38;5;28;01mas\u001b[39;00m e:\n\u001b[32m      5\u001b[39m         \u001b[38;5;28;01mif\u001b[39;00m name == \u001b[33m'\u001b[39m\u001b[33mGaël\u001b[39m\u001b[33m'\u001b[39m:\n",
      "\u001b[31mUnicodeEncodeError\u001b[39m: 'ascii' codec can't encode character '\\xe9' in position 2: ordinal not in range(128)"
     ]
    }
   ],
   "source": [
    "filter_name('Stéfan')"
   ]
  },
  {
   "cell_type": "markdown",
   "id": "19d1075d",
   "metadata": {},
   "source": [
    "### Exceptions to pass messages between parts of the code:"
   ]
  },
  {
   "cell_type": "code",
   "execution_count": 12,
   "id": "2916e765",
   "metadata": {},
   "outputs": [
    {
     "data": {
      "text/plain": [
       "0.9990234375"
      ]
     },
     "execution_count": 12,
     "metadata": {},
     "output_type": "execute_result"
    }
   ],
   "source": [
    "def achilles_arrow(x):\n",
    "    if abs(x - 1) < 1e-3:\n",
    "        raise StopIteration\n",
    "    x = 1 - (1-x)/2.\n",
    "    return x\n",
    "\n",
    "x = 0\n",
    "\n",
    "while True:\n",
    "    try:\n",
    "        x = achilles_arrow(x)\n",
    "    except StopIteration:\n",
    "        break\n",
    "\n",
    "x"
   ]
  },
  {
   "cell_type": "markdown",
   "id": "b85cc4e1",
   "metadata": {},
   "source": [
    "Use exceptions to notify certain conditions are met (e.g. `StopIteration`) or\n",
    "not (e.g. custom error raising)."
   ]
  }
 ],
 "metadata": {
  "jupytext": {
   "text_representation": {
    "extension": ".md",
    "format_name": "myst",
    "format_version": 0.13,
    "jupytext_version": "1.18.0-dev"
   }
  },
  "kernelspec": {
   "display_name": "Python 3 (ipykernel)",
   "language": "python",
   "name": "python3"
  },
  "language_info": {
   "codemirror_mode": {
    "name": "ipython",
    "version": 3
   },
   "file_extension": ".py",
   "mimetype": "text/x-python",
   "name": "python",
   "nbconvert_exporter": "python",
   "pygments_lexer": "ipython3",
   "version": "3.12.2"
  }
 },
 "nbformat": 4,
 "nbformat_minor": 5
}