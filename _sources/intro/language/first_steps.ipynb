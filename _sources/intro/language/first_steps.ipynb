{
 "cells": [
  {
   "cell_type": "markdown",
   "id": "b926b194",
   "metadata": {},
   "source": [
    "# First steps\n",
    "\n",
    "Start the **Ipython** shell (an enhanced interactive Python shell):\n",
    "\n",
    "- by typing \"ipython\" from a Linux/Mac terminal, or from the Windows cmd shell,\n",
    "- **or** by starting the program from a menu, e.g. the [Anaconda Navigator],\n",
    "  the [Python(x,y)] menu if you have installed one of these\n",
    "  scientific-Python suites.\n",
    "\n",
    "::: {note}\n",
    ":class: dropdown\n",
    "\n",
    "If you don't have Ipython installed on your computer, other Python\n",
    "shells are available, such as the plain Python shell started by\n",
    "typing \"python\" in a terminal, or the Idle interpreter. However, we\n",
    "advise to use the Ipython shell because of its enhanced features,\n",
    "especially for interactive scientific computing.\n",
    ":::\n",
    "\n",
    "Once you have started the interpreter, type"
   ]
  },
  {
   "cell_type": "code",
   "execution_count": null,
   "id": "23fdadcc",
   "metadata": {},
   "outputs": [],
   "source": [
    "print(\"Hello, world!\")"
   ]
  },
  {
   "cell_type": "markdown",
   "id": "57a7f510",
   "metadata": {},
   "source": [
    "::: {note}\n",
    ":class: dropdown\n",
    "\n",
    "The message \"Hello, world!\" is then displayed. You just executed your\n",
    "first Python instruction, congratulations!\n",
    ":::\n",
    "\n",
    "To get yourself started, type the following stack of instructions"
   ]
  },
  {
   "cell_type": "code",
   "execution_count": null,
   "id": "0f08d248",
   "metadata": {},
   "outputs": [],
   "source": [
    "a = 3\n",
    "b = 2*a\n",
    "type(b)"
   ]
  },
  {
   "cell_type": "code",
   "execution_count": null,
   "id": "46247190",
   "metadata": {},
   "outputs": [],
   "source": [
    "print(b)"
   ]
  },
  {
   "cell_type": "code",
   "execution_count": null,
   "id": "40cd5013",
   "metadata": {},
   "outputs": [],
   "source": [
    "a*b"
   ]
  },
  {
   "cell_type": "code",
   "execution_count": null,
   "id": "74394fbe",
   "metadata": {},
   "outputs": [],
   "source": [
    "b = 'hello'\n",
    "type(b)"
   ]
  },
  {
   "cell_type": "code",
   "execution_count": null,
   "id": "1bdc2eef",
   "metadata": {},
   "outputs": [],
   "source": [
    "b + b"
   ]
  },
  {
   "cell_type": "code",
   "execution_count": null,
   "id": "6f98bc53",
   "metadata": {},
   "outputs": [],
   "source": [
    "2*b"
   ]
  },
  {
   "cell_type": "markdown",
   "id": "4042fdb5",
   "metadata": {},
   "source": [
    "::: {note}\n",
    ":class: dropdown\n",
    "\n",
    "Two variables `a` and `b` have been defined above. Note that one does\n",
    "not declare the type of a variable before assigning its value. In C,\n",
    "conversely, one should write:\n",
    "\n",
    "```c\n",
    "int a = 3;\n",
    "```\n",
    "\n",
    "In addition, the type of a variable may change, in the sense that at\n",
    "one point in time it can be equal to a value of a certain type, and a\n",
    "second point in time, it can be equal to a value of a different\n",
    "type. `b` was first equal to an integer, but it became equal to a\n",
    "string when it was assigned the value `'hello'`. Operations on\n",
    "integers (`b=2*a`) are coded natively in Python, and so are some\n",
    "operations on strings such as additions and multiplications, which\n",
    "amount respectively to concatenation and repetition.\n",
    ":::\n",
    "\n",
    "[anaconda navigator]: https://anaconda.org/anaconda/anaconda-navigator\n",
    "[python(x,y)]: https://python-xy.github.io/"
   ]
  }
 ],
 "metadata": {
  "jupytext": {
   "text_representation": {
    "extension": ".md",
    "format_name": "myst",
    "format_version": 0.13,
    "jupytext_version": "1.18.0-dev"
   }
  },
  "kernelspec": {
   "display_name": "Python 3 (ipykernel)",
   "language": "python",
   "name": "python3"
  }
 },
 "nbformat": 4,
 "nbformat_minor": 5
}