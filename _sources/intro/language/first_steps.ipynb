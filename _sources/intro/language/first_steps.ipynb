{
 "cells": [
  {
   "cell_type": "markdown",
   "id": "1013fbd4",
   "metadata": {},
   "source": [
    "# First steps\n",
    "\n",
    "Start the **Ipython** shell (an enhanced interactive Python shell):\n",
    "\n",
    "- by typing \"ipython\" from a Linux/Mac terminal, or from the Windows cmd shell,\n",
    "- **or** by starting the program from a menu, e.g. the [Anaconda Navigator],\n",
    "  the [Python(x,y)] menu if you have installed one of these\n",
    "  scientific-Python suites.\n",
    "\n",
    "::: {note}\n",
    ":class: dropdown\n",
    "\n",
    "If you don't have Ipython installed on your computer, other Python\n",
    "shells are available, such as the plain Python shell started by\n",
    "typing \"python\" in a terminal, or the Idle interpreter. However, we\n",
    "advise to use the Ipython shell because of its enhanced features,\n",
    "especially for interactive scientific computing.\n",
    ":::\n",
    "\n",
    "Once you have started the interpreter, type"
   ]
  },
  {
   "cell_type": "code",
   "execution_count": 1,
   "id": "eddb9701",
   "metadata": {},
   "outputs": [
    {
     "name": "stdout",
     "output_type": "stream",
     "text": [
      "Hello, world!\n"
     ]
    }
   ],
   "source": [
    "print(\"Hello, world!\")"
   ]
  },
  {
   "cell_type": "markdown",
   "id": "2fa1f339",
   "metadata": {},
   "source": [
    "::: {note}\n",
    ":class: dropdown\n",
    "\n",
    "The message \"Hello, world!\" is then displayed. You just executed your\n",
    "first Python instruction, congratulations!\n",
    ":::\n",
    "\n",
    "To get yourself started, type the following stack of instructions"
   ]
  },
  {
   "cell_type": "code",
   "execution_count": 2,
   "id": "3e28f658",
   "metadata": {},
   "outputs": [
    {
     "data": {
      "text/plain": [
       "int"
      ]
     },
     "execution_count": 2,
     "metadata": {},
     "output_type": "execute_result"
    }
   ],
   "source": [
    "a = 3\n",
    "b = 2*a\n",
    "type(b)"
   ]
  },
  {
   "cell_type": "code",
   "execution_count": 3,
   "id": "ab41af12",
   "metadata": {},
   "outputs": [
    {
     "name": "stdout",
     "output_type": "stream",
     "text": [
      "6\n"
     ]
    }
   ],
   "source": [
    "print(b)"
   ]
  },
  {
   "cell_type": "code",
   "execution_count": 4,
   "id": "024b7cb5",
   "metadata": {},
   "outputs": [
    {
     "data": {
      "text/plain": [
       "18"
      ]
     },
     "execution_count": 4,
     "metadata": {},
     "output_type": "execute_result"
    }
   ],
   "source": [
    "a*b"
   ]
  },
  {
   "cell_type": "code",
   "execution_count": 5,
   "id": "5aebf1de",
   "metadata": {},
   "outputs": [
    {
     "data": {
      "text/plain": [
       "str"
      ]
     },
     "execution_count": 5,
     "metadata": {},
     "output_type": "execute_result"
    }
   ],
   "source": [
    "b = 'hello'\n",
    "type(b)"
   ]
  },
  {
   "cell_type": "code",
   "execution_count": 6,
   "id": "c7bec65f",
   "metadata": {},
   "outputs": [
    {
     "data": {
      "text/plain": [
       "'hellohello'"
      ]
     },
     "execution_count": 6,
     "metadata": {},
     "output_type": "execute_result"
    }
   ],
   "source": [
    "b + b"
   ]
  },
  {
   "cell_type": "code",
   "execution_count": 7,
   "id": "d226ea5d",
   "metadata": {},
   "outputs": [
    {
     "data": {
      "text/plain": [
       "'hellohello'"
      ]
     },
     "execution_count": 7,
     "metadata": {},
     "output_type": "execute_result"
    }
   ],
   "source": [
    "2*b"
   ]
  },
  {
   "cell_type": "markdown",
   "id": "8aedce2e",
   "metadata": {},
   "source": [
    "::: {note}\n",
    ":class: dropdown\n",
    "\n",
    "Two variables `a` and `b` have been defined above. Note that one does\n",
    "not declare the type of a variable before assigning its value. In C,\n",
    "conversely, one should write:\n",
    "\n",
    "```c\n",
    "int a = 3;\n",
    "```\n",
    "\n",
    "In addition, the type of a variable may change, in the sense that at\n",
    "one point in time it can be equal to a value of a certain type, and a\n",
    "second point in time, it can be equal to a value of a different\n",
    "type. `b` was first equal to an integer, but it became equal to a\n",
    "string when it was assigned the value `'hello'`. Operations on\n",
    "integers (`b=2*a`) are coded natively in Python, and so are some\n",
    "operations on strings such as additions and multiplications, which\n",
    "amount respectively to concatenation and repetition.\n",
    ":::\n",
    "\n",
    "[anaconda navigator]: https://anaconda.org/anaconda/anaconda-navigator\n",
    "[python(x,y)]: https://python-xy.github.io/"
   ]
  }
 ],
 "metadata": {
  "jupytext": {
   "text_representation": {
    "extension": ".md",
    "format_name": "myst",
    "format_version": 0.13,
    "jupytext_version": "1.18.0-dev"
   }
  },
  "kernelspec": {
   "display_name": "Python 3 (ipykernel)",
   "language": "python",
   "name": "python3"
  },
  "language_info": {
   "codemirror_mode": {
    "name": "ipython",
    "version": 3
   },
   "file_extension": ".py",
   "mimetype": "text/x-python",
   "name": "python",
   "nbconvert_exporter": "python",
   "pygments_lexer": "ipython3",
   "version": "3.12.7"
  }
 },
 "nbformat": 4,
 "nbformat_minor": 5
}