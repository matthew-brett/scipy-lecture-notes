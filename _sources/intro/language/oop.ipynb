{
 "cells": [
  {
   "cell_type": "markdown",
   "id": "fd93df98",
   "metadata": {},
   "source": [
    "# Object-oriented programming (OOP)\n",
    "\n",
    "Python supports object-oriented programming (OOP). The goals of OOP are:\n",
    "\n",
    "- to organize the code, and\n",
    "- to reuse code in similar contexts.\n",
    "\n",
    "Here is a small example: we create a Student _class_, which is an object\n",
    "gathering several custom functions (_methods_) and variables (_attributes_),\n",
    "we will be able to use:"
   ]
  },
  {
   "cell_type": "code",
   "execution_count": 1,
   "id": "26a5db66",
   "metadata": {},
   "outputs": [],
   "source": [
    "class Student(object):\n",
    "    def __init__(self, name):\n",
    "        self.name = name\n",
    "    def set_age(self, age):\n",
    "        self.age = age\n",
    "    def set_major(self, major):\n",
    "        self.major = major"
   ]
  },
  {
   "cell_type": "code",
   "execution_count": 2,
   "id": "ff50d5a0",
   "metadata": {},
   "outputs": [],
   "source": [
    "anna = Student('anna')\n",
    "anna.set_age(21)\n",
    "anna.set_major('physics')"
   ]
  },
  {
   "cell_type": "markdown",
   "id": "364e7d44",
   "metadata": {},
   "source": [
    "In the previous example, the Student class has `__init__`, `set_age` and\n",
    "`set_major` methods. Its attributes are `name`, `age` and `major`. We\n",
    "can call these methods and attributes with the following notation:\n",
    "`classinstance.method` or `classinstance.attribute`. The `__init__`\n",
    "constructor is a special method we call with: `MyClass(init parameters if\n",
    "any)`.\n",
    "\n",
    "Now, suppose we want to create a new class MasterStudent with the same\n",
    "methods and attributes as the previous one, but with an additional\n",
    "`internship` attribute. We won't copy the previous class, but\n",
    "**inherit** from it:"
   ]
  },
  {
   "cell_type": "code",
   "execution_count": 3,
   "id": "1d1311b4",
   "metadata": {},
   "outputs": [],
   "source": [
    "class MasterStudent(Student):\n",
    "    internship = 'mandatory, from March to June'"
   ]
  },
  {
   "cell_type": "code",
   "execution_count": 4,
   "id": "d76d69ff",
   "metadata": {},
   "outputs": [
    {
     "data": {
      "text/plain": [
       "'mandatory, from March to June'"
      ]
     },
     "execution_count": 4,
     "metadata": {},
     "output_type": "execute_result"
    }
   ],
   "source": [
    "james = MasterStudent('james')\n",
    "james.internship"
   ]
  },
  {
   "cell_type": "code",
   "execution_count": 5,
   "id": "f52c39a3",
   "metadata": {},
   "outputs": [
    {
     "data": {
      "text/plain": [
       "23"
      ]
     },
     "execution_count": 5,
     "metadata": {},
     "output_type": "execute_result"
    }
   ],
   "source": [
    "james.set_age(23)\n",
    "james.age"
   ]
  },
  {
   "cell_type": "markdown",
   "id": "7e300169",
   "metadata": {},
   "source": [
    "The MasterStudent class inherited from the Student attributes and methods.\n",
    "\n",
    "Thanks to classes and object-oriented programming, we can organize code\n",
    "with different classes corresponding to different objects we encounter\n",
    "(an Experiment class, an Image class, a Flow class, etc.), with their own\n",
    "methods and attributes. Then we can use inheritance to consider\n",
    "variations around a base class and **reuse** code. Ex : from a Flow\n",
    "base class, we can create derived StokesFlow, TurbulentFlow,\n",
    "PotentialFlow, etc."
   ]
  }
 ],
 "metadata": {
  "jupytext": {
   "text_representation": {
    "extension": ".md",
    "format_name": "myst",
    "format_version": 0.13,
    "jupytext_version": "1.18.0-dev"
   }
  },
  "kernelspec": {
   "display_name": "Python 3 (ipykernel)",
   "language": "python",
   "name": "python3"
  },
  "language_info": {
   "codemirror_mode": {
    "name": "ipython",
    "version": 3
   },
   "file_extension": ".py",
   "mimetype": "text/x-python",
   "name": "python",
   "nbconvert_exporter": "python",
   "pygments_lexer": "ipython3",
   "version": "3.12.7"
  }
 },
 "nbformat": 4,
 "nbformat_minor": 5
}