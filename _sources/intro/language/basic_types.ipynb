{
 "cells": [
  {
   "cell_type": "markdown",
   "id": "ea6873f5",
   "metadata": {},
   "source": [
    "# Basic types\n",
    "\n",
    "## Numerical types\n",
    "\n",
    "::: {note}\n",
    ":class: dropdown\n",
    "\n",
    "Python supports the following numerical, scalar types:\n",
    ":::"
   ]
  },
  {
   "cell_type": "markdown",
   "id": "4a978684",
   "metadata": {},
   "source": [
    "**Floats:**"
   ]
  },
  {
   "cell_type": "code",
   "execution_count": 1,
   "id": "6f50ecba",
   "metadata": {},
   "outputs": [
    {
     "data": {
      "text/plain": [
       "float"
      ]
     },
     "execution_count": 1,
     "metadata": {},
     "output_type": "execute_result"
    }
   ],
   "source": [
    "c = 2.1\n",
    "type(c)"
   ]
  },
  {
   "cell_type": "markdown",
   "id": "f077c53e",
   "metadata": {},
   "source": [
    "**Complex:**"
   ]
  },
  {
   "cell_type": "code",
   "execution_count": 2,
   "id": "efb2cd64",
   "metadata": {},
   "outputs": [
    {
     "data": {
      "text/plain": [
       "1.5"
      ]
     },
     "execution_count": 2,
     "metadata": {},
     "output_type": "execute_result"
    }
   ],
   "source": [
    "a = 1.5 + 0.5j\n",
    "a.real"
   ]
  },
  {
   "cell_type": "code",
   "execution_count": 3,
   "id": "62cbe054",
   "metadata": {},
   "outputs": [
    {
     "data": {
      "text/plain": [
       "0.5"
      ]
     },
     "execution_count": 3,
     "metadata": {},
     "output_type": "execute_result"
    }
   ],
   "source": [
    "a.imag"
   ]
  },
  {
   "cell_type": "code",
   "execution_count": 4,
   "id": "66a5f421",
   "metadata": {},
   "outputs": [
    {
     "data": {
      "text/plain": [
       "complex"
      ]
     },
     "execution_count": 4,
     "metadata": {},
     "output_type": "execute_result"
    }
   ],
   "source": [
    "type(1. + 0j)"
   ]
  },
  {
   "cell_type": "markdown",
   "id": "3ee94174",
   "metadata": {},
   "source": [
    "**Booleans:**"
   ]
  },
  {
   "cell_type": "code",
   "execution_count": 5,
   "id": "e225b275",
   "metadata": {},
   "outputs": [
    {
     "data": {
      "text/plain": [
       "False"
      ]
     },
     "execution_count": 5,
     "metadata": {},
     "output_type": "execute_result"
    }
   ],
   "source": [
    "3 > 4"
   ]
  },
  {
   "cell_type": "code",
   "execution_count": 6,
   "id": "2dbc7cf9",
   "metadata": {},
   "outputs": [
    {
     "data": {
      "text/plain": [
       "False"
      ]
     },
     "execution_count": 6,
     "metadata": {},
     "output_type": "execute_result"
    }
   ],
   "source": [
    "test = (3 > 4)\n",
    "test"
   ]
  },
  {
   "cell_type": "code",
   "execution_count": 7,
   "id": "7b0ccf21",
   "metadata": {},
   "outputs": [
    {
     "data": {
      "text/plain": [
       "bool"
      ]
     },
     "execution_count": 7,
     "metadata": {},
     "output_type": "execute_result"
    }
   ],
   "source": [
    "type(test)"
   ]
  },
  {
   "cell_type": "markdown",
   "id": "23cb1c62",
   "metadata": {},
   "source": [
    "::: {note}\n",
    ":class: dropdown\n",
    "\n",
    "A Python shell can therefore replace your pocket calculator, with the\n",
    "basic arithmetic operations `+`, `-`, `*`, `/`, `%` (modulo)\n",
    "natively implemented\n",
    ":::"
   ]
  },
  {
   "cell_type": "code",
   "execution_count": 8,
   "id": "bd98631c",
   "metadata": {},
   "outputs": [
    {
     "data": {
      "text/plain": [
       "21.0"
      ]
     },
     "execution_count": 8,
     "metadata": {},
     "output_type": "execute_result"
    }
   ],
   "source": [
    "7 * 3."
   ]
  },
  {
   "cell_type": "code",
   "execution_count": 9,
   "id": "4321799d",
   "metadata": {},
   "outputs": [
    {
     "data": {
      "text/plain": [
       "1024"
      ]
     },
     "execution_count": 9,
     "metadata": {},
     "output_type": "execute_result"
    }
   ],
   "source": [
    "2**10"
   ]
  },
  {
   "cell_type": "code",
   "execution_count": 10,
   "id": "6dd06b60",
   "metadata": {},
   "outputs": [
    {
     "data": {
      "text/plain": [
       "2"
      ]
     },
     "execution_count": 10,
     "metadata": {},
     "output_type": "execute_result"
    }
   ],
   "source": [
    "8 % 3"
   ]
  },
  {
   "cell_type": "markdown",
   "id": "71ce6d13",
   "metadata": {},
   "source": [
    "Type conversion (casting):"
   ]
  },
  {
   "cell_type": "code",
   "execution_count": 11,
   "id": "7694eebd",
   "metadata": {},
   "outputs": [
    {
     "data": {
      "text/plain": [
       "1.0"
      ]
     },
     "execution_count": 11,
     "metadata": {},
     "output_type": "execute_result"
    }
   ],
   "source": [
    "float(1)"
   ]
  },
  {
   "cell_type": "markdown",
   "id": "2a68f262",
   "metadata": {},
   "source": [
    "## Containers\n",
    "\n",
    "::: {note}\n",
    ":class: dropdown\n",
    "\n",
    "Python provides many efficient types of containers, in which\n",
    "collections of objects can be stored.\n",
    ":::\n",
    "\n",
    "### Lists\n",
    "\n",
    "::: {note}\n",
    ":class: dropdown\n",
    "\n",
    "A list is an ordered collection of objects, that may have different\n",
    "types. For example:\n",
    ":::"
   ]
  },
  {
   "cell_type": "code",
   "execution_count": 12,
   "id": "8691f930",
   "metadata": {},
   "outputs": [
    {
     "data": {
      "text/plain": [
       "list"
      ]
     },
     "execution_count": 12,
     "metadata": {},
     "output_type": "execute_result"
    }
   ],
   "source": [
    "colors = ['red', 'blue', 'green', 'black', 'white']\n",
    "type(colors)"
   ]
  },
  {
   "cell_type": "markdown",
   "id": "7ebce90a",
   "metadata": {},
   "source": [
    "Indexing: accessing individual objects contained in the list:"
   ]
  },
  {
   "cell_type": "code",
   "execution_count": 13,
   "id": "fa94a32f",
   "metadata": {},
   "outputs": [
    {
     "data": {
      "text/plain": [
       "'green'"
      ]
     },
     "execution_count": 13,
     "metadata": {},
     "output_type": "execute_result"
    }
   ],
   "source": [
    "colors[2]"
   ]
  },
  {
   "cell_type": "markdown",
   "id": "9c9b751c",
   "metadata": {},
   "source": [
    "Counting from the end with negative indices:"
   ]
  },
  {
   "cell_type": "code",
   "execution_count": 14,
   "id": "4c92165e",
   "metadata": {},
   "outputs": [
    {
     "data": {
      "text/plain": [
       "'white'"
      ]
     },
     "execution_count": 14,
     "metadata": {},
     "output_type": "execute_result"
    }
   ],
   "source": [
    "colors[-1]"
   ]
  },
  {
   "cell_type": "code",
   "execution_count": 15,
   "id": "367622a2",
   "metadata": {},
   "outputs": [
    {
     "data": {
      "text/plain": [
       "'black'"
      ]
     },
     "execution_count": 15,
     "metadata": {},
     "output_type": "execute_result"
    }
   ],
   "source": [
    "colors[-2]"
   ]
  },
  {
   "cell_type": "markdown",
   "id": "3a3c8326",
   "metadata": {},
   "source": [
    ":::{warning}\n",
    "**Indexing starts at 0** (as in C), not at 1 (as in Fortran or Matlab)!\n",
    ":::\n",
    "\n",
    "Slicing: obtaining sublists of regularly-spaced elements:"
   ]
  },
  {
   "cell_type": "code",
   "execution_count": 16,
   "id": "bbb0800e",
   "metadata": {},
   "outputs": [
    {
     "data": {
      "text/plain": [
       "['red', 'blue', 'green', 'black', 'white']"
      ]
     },
     "execution_count": 16,
     "metadata": {},
     "output_type": "execute_result"
    }
   ],
   "source": [
    "colors"
   ]
  },
  {
   "cell_type": "code",
   "execution_count": 17,
   "id": "06d58dc9",
   "metadata": {},
   "outputs": [
    {
     "data": {
      "text/plain": [
       "['green', 'black']"
      ]
     },
     "execution_count": 17,
     "metadata": {},
     "output_type": "execute_result"
    }
   ],
   "source": [
    "colors[2:4]"
   ]
  },
  {
   "cell_type": "markdown",
   "id": "bbcdff11",
   "metadata": {},
   "source": [
    ":::{Warning}\n",
    "Note that `colors[start:stop]` contains the elements with indices `i`\n",
    "such as `start<= i < stop` (`i` ranging from `start` to\n",
    "`stop-1`). Therefore, `colors[start:stop]` has `(stop - start)` elements.\n",
    ":::\n",
    "\n",
    "**Slicing syntax**: `colors[start:stop:stride]`\n",
    "\n",
    "::: {note}\n",
    ":class: dropdown\n",
    "\n",
    "All slicing parameters are optional:"
   ]
  },
  {
   "cell_type": "code",
   "execution_count": 18,
   "id": "bb39ce1b",
   "metadata": {},
   "outputs": [
    {
     "data": {
      "text/plain": [
       "['red', 'blue', 'green', 'black', 'white']"
      ]
     },
     "execution_count": 18,
     "metadata": {},
     "output_type": "execute_result"
    }
   ],
   "source": [
    "colors"
   ]
  },
  {
   "cell_type": "code",
   "execution_count": 19,
   "id": "ffb7a775",
   "metadata": {},
   "outputs": [
    {
     "data": {
      "text/plain": [
       "['black', 'white']"
      ]
     },
     "execution_count": 19,
     "metadata": {},
     "output_type": "execute_result"
    }
   ],
   "source": [
    "colors[3:]"
   ]
  },
  {
   "cell_type": "code",
   "execution_count": 20,
   "id": "7da42357",
   "metadata": {},
   "outputs": [
    {
     "data": {
      "text/plain": [
       "['red', 'blue', 'green']"
      ]
     },
     "execution_count": 20,
     "metadata": {},
     "output_type": "execute_result"
    }
   ],
   "source": [
    "colors[:3]"
   ]
  },
  {
   "cell_type": "code",
   "execution_count": 21,
   "id": "6cf6ee42",
   "metadata": {},
   "outputs": [
    {
     "data": {
      "text/plain": [
       "['red', 'green', 'white']"
      ]
     },
     "execution_count": 21,
     "metadata": {},
     "output_type": "execute_result"
    }
   ],
   "source": [
    "colors[::2]"
   ]
  },
  {
   "cell_type": "markdown",
   "id": "c73c1193",
   "metadata": {},
   "source": [
    ":::\n",
    "\n",
    "Lists are _mutable_ objects and can be modified:"
   ]
  },
  {
   "cell_type": "code",
   "execution_count": 22,
   "id": "8d65fa96",
   "metadata": {},
   "outputs": [
    {
     "data": {
      "text/plain": [
       "['yellow', 'blue', 'green', 'black', 'white']"
      ]
     },
     "execution_count": 22,
     "metadata": {},
     "output_type": "execute_result"
    }
   ],
   "source": [
    "colors[0] = 'yellow'\n",
    "colors"
   ]
  },
  {
   "cell_type": "code",
   "execution_count": 23,
   "id": "2e27b126",
   "metadata": {},
   "outputs": [
    {
     "data": {
      "text/plain": [
       "['yellow', 'blue', 'gray', 'purple', 'white']"
      ]
     },
     "execution_count": 23,
     "metadata": {},
     "output_type": "execute_result"
    }
   ],
   "source": [
    "colors[2:4] = ['gray', 'purple']\n",
    "colors"
   ]
  },
  {
   "cell_type": "markdown",
   "id": "1fc43283",
   "metadata": {},
   "source": [
    "::::{Note}\n",
    "The elements of a list may have different types:"
   ]
  },
  {
   "cell_type": "code",
   "execution_count": 24,
   "id": "2f323ba8",
   "metadata": {},
   "outputs": [
    {
     "data": {
      "text/plain": [
       "[3, -200, 'hello']"
      ]
     },
     "execution_count": 24,
     "metadata": {},
     "output_type": "execute_result"
    }
   ],
   "source": [
    "colors = [3, -200, 'hello']\n",
    "colors"
   ]
  },
  {
   "cell_type": "code",
   "execution_count": 25,
   "id": "dbfe2eaf",
   "metadata": {},
   "outputs": [
    {
     "data": {
      "text/plain": [
       "(-200, 'hello')"
      ]
     },
     "execution_count": 25,
     "metadata": {},
     "output_type": "execute_result"
    }
   ],
   "source": [
    "colors[1], colors[2]"
   ]
  },
  {
   "cell_type": "markdown",
   "id": "7978185e",
   "metadata": {},
   "source": [
    "::: {note}\n",
    ":class: dropdown\n",
    "\n",
    "For collections of numerical data that all have the same type, it\n",
    "is often **more efficient** to use the `array` type provided by\n",
    "the `numpy` module. A NumPy array is a chunk of memory\n",
    "containing fixed-sized items. With NumPy arrays, operations on\n",
    "elements can be faster because elements are regularly spaced in\n",
    "memory and more operations are performed through specialized C\n",
    "functions instead of Python loops.\n",
    ":::\n",
    "::::\n",
    "\n",
    "::: {note}\n",
    ":class: dropdown\n",
    "\n",
    "Python offers a large panel of functions to modify lists, or query\n",
    "them. Here are a few examples; for more details, see\n",
    "<https://docs.python.org/3/tutorial/datastructures.html#more-on-lists>\n",
    ":::\n",
    "\n",
    "Add and remove elements:"
   ]
  },
  {
   "cell_type": "code",
   "execution_count": 26,
   "id": "33b981f4",
   "metadata": {},
   "outputs": [
    {
     "data": {
      "text/plain": [
       "['red', 'blue', 'green', 'black', 'white', 'pink']"
      ]
     },
     "execution_count": 26,
     "metadata": {},
     "output_type": "execute_result"
    }
   ],
   "source": [
    "colors = ['red', 'blue', 'green', 'black', 'white']\n",
    "colors.append('pink')\n",
    "colors"
   ]
  },
  {
   "cell_type": "code",
   "execution_count": 27,
   "id": "fe9bc9d8",
   "metadata": {},
   "outputs": [
    {
     "data": {
      "text/plain": [
       "'pink'"
      ]
     },
     "execution_count": 27,
     "metadata": {},
     "output_type": "execute_result"
    }
   ],
   "source": [
    "colors.pop() # removes and returns the last item"
   ]
  },
  {
   "cell_type": "code",
   "execution_count": 28,
   "id": "c451ee66",
   "metadata": {},
   "outputs": [
    {
     "data": {
      "text/plain": [
       "['red', 'blue', 'green', 'black', 'white']"
      ]
     },
     "execution_count": 28,
     "metadata": {},
     "output_type": "execute_result"
    }
   ],
   "source": [
    "colors"
   ]
  },
  {
   "cell_type": "code",
   "execution_count": 29,
   "id": "9d0fbb02",
   "metadata": {},
   "outputs": [
    {
     "data": {
      "text/plain": [
       "['red', 'blue', 'green', 'black', 'white', 'pink', 'purple']"
      ]
     },
     "execution_count": 29,
     "metadata": {},
     "output_type": "execute_result"
    }
   ],
   "source": [
    "colors.extend(['pink', 'purple']) # extend colors, in-place\n",
    "colors"
   ]
  },
  {
   "cell_type": "code",
   "execution_count": 30,
   "id": "214ed611",
   "metadata": {},
   "outputs": [
    {
     "data": {
      "text/plain": [
       "['red', 'blue', 'green', 'black', 'white']"
      ]
     },
     "execution_count": 30,
     "metadata": {},
     "output_type": "execute_result"
    }
   ],
   "source": [
    "colors = colors[:-2]\n",
    "colors"
   ]
  },
  {
   "cell_type": "markdown",
   "id": "e1cf04dc",
   "metadata": {},
   "source": [
    "Reverse:"
   ]
  },
  {
   "cell_type": "code",
   "execution_count": 31,
   "id": "c87acefb",
   "metadata": {},
   "outputs": [
    {
     "data": {
      "text/plain": [
       "['white', 'black', 'green', 'blue', 'red']"
      ]
     },
     "execution_count": 31,
     "metadata": {},
     "output_type": "execute_result"
    }
   ],
   "source": [
    "rcolors = colors[::-1]\n",
    "rcolors"
   ]
  },
  {
   "cell_type": "code",
   "execution_count": 32,
   "id": "ce1a37dc",
   "metadata": {},
   "outputs": [
    {
     "data": {
      "text/plain": [
       "['red', 'blue', 'green', 'black', 'white']"
      ]
     },
     "execution_count": 32,
     "metadata": {},
     "output_type": "execute_result"
    }
   ],
   "source": [
    "rcolors2 = list(colors) # new object that is a copy of colors in a different memory area\n",
    "rcolors2"
   ]
  },
  {
   "cell_type": "code",
   "execution_count": 33,
   "id": "cbcb9851",
   "metadata": {},
   "outputs": [
    {
     "data": {
      "text/plain": [
       "['white', 'black', 'green', 'blue', 'red']"
      ]
     },
     "execution_count": 33,
     "metadata": {},
     "output_type": "execute_result"
    }
   ],
   "source": [
    "rcolors2.reverse() # in-place; reversing rcolors2 does not affect colors\n",
    "rcolors2"
   ]
  },
  {
   "cell_type": "markdown",
   "id": "1b5c7779",
   "metadata": {},
   "source": [
    "Concatenate and repeat lists:"
   ]
  },
  {
   "cell_type": "code",
   "execution_count": 34,
   "id": "6858e790",
   "metadata": {},
   "outputs": [
    {
     "data": {
      "text/plain": [
       "['white',\n",
       " 'black',\n",
       " 'green',\n",
       " 'blue',\n",
       " 'red',\n",
       " 'red',\n",
       " 'blue',\n",
       " 'green',\n",
       " 'black',\n",
       " 'white']"
      ]
     },
     "execution_count": 34,
     "metadata": {},
     "output_type": "execute_result"
    }
   ],
   "source": [
    "rcolors + colors"
   ]
  },
  {
   "cell_type": "code",
   "execution_count": 35,
   "id": "8b428b6f",
   "metadata": {},
   "outputs": [
    {
     "data": {
      "text/plain": [
       "['white',\n",
       " 'black',\n",
       " 'green',\n",
       " 'blue',\n",
       " 'red',\n",
       " 'white',\n",
       " 'black',\n",
       " 'green',\n",
       " 'blue',\n",
       " 'red']"
      ]
     },
     "execution_count": 35,
     "metadata": {},
     "output_type": "execute_result"
    }
   ],
   "source": [
    "rcolors * 2"
   ]
  },
  {
   "cell_type": "markdown",
   "id": "d021c976",
   "metadata": {},
   "source": [
    "**Sort:**"
   ]
  },
  {
   "cell_type": "code",
   "execution_count": 36,
   "id": "93ca8afe",
   "metadata": {},
   "outputs": [
    {
     "data": {
      "text/plain": [
       "['black', 'blue', 'green', 'red', 'white']"
      ]
     },
     "execution_count": 36,
     "metadata": {},
     "output_type": "execute_result"
    }
   ],
   "source": [
    "sorted(rcolors) # new object"
   ]
  },
  {
   "cell_type": "code",
   "execution_count": 37,
   "id": "93552ee9",
   "metadata": {},
   "outputs": [
    {
     "data": {
      "text/plain": [
       "['white', 'black', 'green', 'blue', 'red']"
      ]
     },
     "execution_count": 37,
     "metadata": {},
     "output_type": "execute_result"
    }
   ],
   "source": [
    "rcolors"
   ]
  },
  {
   "cell_type": "code",
   "execution_count": 38,
   "id": "19c02c3a",
   "metadata": {},
   "outputs": [
    {
     "data": {
      "text/plain": [
       "['black', 'blue', 'green', 'red', 'white']"
      ]
     },
     "execution_count": 38,
     "metadata": {},
     "output_type": "execute_result"
    }
   ],
   "source": [
    "rcolors.sort()  # in-place\n",
    "rcolors"
   ]
  },
  {
   "cell_type": "markdown",
   "id": "c9b0853a",
   "metadata": {},
   "source": [
    ":::{admonition} Methods and Object-Oriented Programming\n",
    "The notation `rcolors.method()` (e.g. `rcolors.append(3)` and `colors.pop()`) is our\n",
    "first example of object-oriented programming (OOP). Being a `list`, the\n",
    "object `rcolors` owns the _method_ `function` that is called using the notation\n",
    "**.**. No further knowledge of OOP than understanding the notation **.** is\n",
    "necessary for going through this tutorial.\n",
    ":::\n",
    "\n",
    ":::{admonition} Discovering methods:\n",
    "Reminder: in Ipython: tab-completion (press tab)\n",
    "\n",
    "```python\n",
    "\n",
    "\n",
    "rcolors.<TAB>\n",
    "                 append()  count()   insert()  reverse()\n",
    "                 clear()   extend()  pop()     sort()\n",
    "                 copy()    index()   remove()\n",
    "```\n",
    "\n",
    ":::\n",
    "\n",
    "### Strings\n",
    "\n",
    "Different string syntaxes (simple, double or triple quotes):"
   ]
  },
  {
   "cell_type": "code",
   "execution_count": 39,
   "id": "62ef8d37",
   "metadata": {},
   "outputs": [],
   "source": [
    "s = 'Hello, how are you?'\n",
    "s = \"Hi, what's up\"\n",
    "s = '''Hello,\n",
    "       how are you'''         # tripling the quotes allows the\n",
    "                              # string to span more than one line\n",
    "s = \"\"\"Hi,\n",
    "what's up?\"\"\""
   ]
  },
  {
   "cell_type": "markdown",
   "id": "73f13d5d",
   "metadata": {},
   "source": [
    "However, if you try to run this code:\n",
    "\n",
    "```text\n",
    "'Hi, what's up?'\n",
    "```\n",
    "\n",
    "— you will get a syntax error. (Try it.) (Why?)\n",
    "\n",
    "This syntax error can be avoided by enclosing the string in double quotes\n",
    "instead of single quotes. Alternatively, one can prepend a backslash to the\n",
    "second single quote. Other uses of the backslash are, e.g., the newline\n",
    "character `\\n` and the tab character `\\t`.\n",
    "\n",
    "::: {note}\n",
    ":class: dropdown\n",
    "\n",
    "Strings are collections like lists. Hence they can be indexed and\n",
    "sliced, using the same syntax and rules.\n",
    ":::\n",
    "\n",
    "Indexing:"
   ]
  },
  {
   "cell_type": "code",
   "execution_count": 40,
   "id": "92a4275a",
   "metadata": {},
   "outputs": [
    {
     "data": {
      "text/plain": [
       "'h'"
      ]
     },
     "execution_count": 40,
     "metadata": {},
     "output_type": "execute_result"
    }
   ],
   "source": [
    "a = \"hello\"\n",
    "a[0]"
   ]
  },
  {
   "cell_type": "code",
   "execution_count": 41,
   "id": "36c8d274",
   "metadata": {},
   "outputs": [
    {
     "data": {
      "text/plain": [
       "'e'"
      ]
     },
     "execution_count": 41,
     "metadata": {},
     "output_type": "execute_result"
    }
   ],
   "source": [
    "a[1]"
   ]
  },
  {
   "cell_type": "code",
   "execution_count": 42,
   "id": "8b99a766",
   "metadata": {},
   "outputs": [
    {
     "data": {
      "text/plain": [
       "'o'"
      ]
     },
     "execution_count": 42,
     "metadata": {},
     "output_type": "execute_result"
    }
   ],
   "source": [
    "a[-1]"
   ]
  },
  {
   "cell_type": "markdown",
   "id": "3ab9bbce",
   "metadata": {},
   "source": [
    "::: {note}\n",
    ":class: dropdown\n",
    "\n",
    "(Remember that negative indices correspond to counting from the right\n",
    "end.)\n",
    ":::\n",
    "\n",
    "Slicing:"
   ]
  },
  {
   "cell_type": "code",
   "execution_count": 43,
   "id": "f616313d",
   "metadata": {},
   "outputs": [
    {
     "data": {
      "text/plain": [
       "'lo,'"
      ]
     },
     "execution_count": 43,
     "metadata": {},
     "output_type": "execute_result"
    }
   ],
   "source": [
    "a = \"hello, world!\"\n",
    "a[3:6] # 3rd to 6th (excluded) elements: elements 3, 4, 5"
   ]
  },
  {
   "cell_type": "code",
   "execution_count": 44,
   "id": "9d32c8bf",
   "metadata": {},
   "outputs": [
    {
     "data": {
      "text/plain": [
       "'lo o'"
      ]
     },
     "execution_count": 44,
     "metadata": {},
     "output_type": "execute_result"
    }
   ],
   "source": [
    "a[2:10:2] # Syntax: a[start:stop:step]"
   ]
  },
  {
   "cell_type": "code",
   "execution_count": 45,
   "id": "72816ce0",
   "metadata": {},
   "outputs": [
    {
     "data": {
      "text/plain": [
       "'hl r!'"
      ]
     },
     "execution_count": 45,
     "metadata": {},
     "output_type": "execute_result"
    }
   ],
   "source": [
    "a[::3] # every three characters, from beginning to end"
   ]
  },
  {
   "cell_type": "markdown",
   "id": "ba580cac",
   "metadata": {},
   "source": [
    "::: {note}\n",
    ":class: dropdown\n",
    "\n",
    "Accents and special characters can also be handled as in Python 3\n",
    "strings consist of Unicode characters.\n",
    ":::\n",
    "\n",
    "A string is an **immutable object** and it is not possible to modify its\n",
    "contents. One may however create new strings from the original one."
   ]
  },
  {
   "cell_type": "code",
   "execution_count": 46,
   "id": "467c162a",
   "metadata": {
    "tags": [
     "raises-exception"
    ]
   },
   "outputs": [
    {
     "ename": "TypeError",
     "evalue": "'str' object does not support item assignment",
     "output_type": "error",
     "traceback": [
      "\u001b[31m---------------------------------------------------------------------------\u001b[39m",
      "\u001b[31mTypeError\u001b[39m                                 Traceback (most recent call last)",
      "\u001b[36mCell\u001b[39m\u001b[36m \u001b[39m\u001b[32mIn[46]\u001b[39m\u001b[32m, line 2\u001b[39m\n\u001b[32m      1\u001b[39m a = \u001b[33m\"\u001b[39m\u001b[33mhello, world!\u001b[39m\u001b[33m\"\u001b[39m\n\u001b[32m----> \u001b[39m\u001b[32m2\u001b[39m \u001b[43ma\u001b[49m\u001b[43m[\u001b[49m\u001b[32;43m2\u001b[39;49m\u001b[43m]\u001b[49m = \u001b[33m'\u001b[39m\u001b[33mz\u001b[39m\u001b[33m'\u001b[39m\n",
      "\u001b[31mTypeError\u001b[39m: 'str' object does not support item assignment"
     ]
    }
   ],
   "source": [
    "a = \"hello, world!\"\n",
    "a[2] = 'z'"
   ]
  },
  {
   "cell_type": "code",
   "execution_count": 47,
   "id": "5a9edb1b",
   "metadata": {},
   "outputs": [
    {
     "data": {
      "text/plain": [
       "'hezlo, world!'"
      ]
     },
     "execution_count": 47,
     "metadata": {},
     "output_type": "execute_result"
    }
   ],
   "source": [
    "a.replace('l', 'z', 1)"
   ]
  },
  {
   "cell_type": "code",
   "execution_count": 48,
   "id": "1d01eb5c",
   "metadata": {},
   "outputs": [
    {
     "data": {
      "text/plain": [
       "'hezzo, worzd!'"
      ]
     },
     "execution_count": 48,
     "metadata": {},
     "output_type": "execute_result"
    }
   ],
   "source": [
    "a.replace('l', 'z')"
   ]
  },
  {
   "cell_type": "markdown",
   "id": "8d49a424",
   "metadata": {},
   "source": [
    "::: {note}\n",
    ":class: dropdown\n",
    "\n",
    "Strings have many useful methods, such as `a.replace` as seen\n",
    "above. Remember the `a.` object-oriented notation and use tab\n",
    "completion or `help(str)` to search for new methods.\n",
    ":::\n",
    "\n",
    ":::{admonition} See also\n",
    "\n",
    "Python offers advanced possibilities for manipulating strings,\n",
    "looking for patterns or formatting. The interested reader is referred to\n",
    "<https://docs.python.org/3/library/stdtypes.html#string-methods> and\n",
    "<https://docs.python.org/3/library/string.html#format-string-syntax>\n",
    ":::\n",
    "\n",
    "String formatting:"
   ]
  },
  {
   "cell_type": "code",
   "execution_count": 49,
   "id": "e84c709b",
   "metadata": {},
   "outputs": [
    {
     "data": {
      "text/plain": [
       "'An integer: 1; a float: 0.100000; another string: string'"
      ]
     },
     "execution_count": 49,
     "metadata": {},
     "output_type": "execute_result"
    }
   ],
   "source": [
    "'An integer: %i; a float: %f; another string: %s' % (1, 0.1, 'string') # with more values use tuple after %"
   ]
  },
  {
   "cell_type": "code",
   "execution_count": 50,
   "id": "c3de5671",
   "metadata": {},
   "outputs": [
    {
     "data": {
      "text/plain": [
       "'processing_of_dataset_102.txt'"
      ]
     },
     "execution_count": 50,
     "metadata": {},
     "output_type": "execute_result"
    }
   ],
   "source": [
    "i = 102\n",
    "filename = 'processing_of_dataset_%d.txt' % i   # no need for tuples with just one value after %\n",
    "filename"
   ]
  },
  {
   "cell_type": "markdown",
   "id": "3834f722",
   "metadata": {},
   "source": [
    "### Dictionaries\n",
    "\n",
    "::: {note}\n",
    ":class: dropdown\n",
    "\n",
    "A dictionary is basically an efficient table that **maps keys to\n",
    "values**.\n",
    ":::"
   ]
  },
  {
   "cell_type": "code",
   "execution_count": 51,
   "id": "9e179da7",
   "metadata": {},
   "outputs": [
    {
     "data": {
      "text/plain": [
       "{'emmanuelle': 5752, 'sebastian': 5578, 'francis': 5915}"
      ]
     },
     "execution_count": 51,
     "metadata": {},
     "output_type": "execute_result"
    }
   ],
   "source": [
    "tel = {'emmanuelle': 5752, 'sebastian': 5578}\n",
    "tel['francis'] = 5915\n",
    "tel"
   ]
  },
  {
   "cell_type": "code",
   "execution_count": 52,
   "id": "1cad9bcf",
   "metadata": {},
   "outputs": [
    {
     "data": {
      "text/plain": [
       "5578"
      ]
     },
     "execution_count": 52,
     "metadata": {},
     "output_type": "execute_result"
    }
   ],
   "source": [
    "tel['sebastian']"
   ]
  },
  {
   "cell_type": "code",
   "execution_count": 53,
   "id": "66aa6630",
   "metadata": {},
   "outputs": [
    {
     "data": {
      "text/plain": [
       "dict_keys(['emmanuelle', 'sebastian', 'francis'])"
      ]
     },
     "execution_count": 53,
     "metadata": {},
     "output_type": "execute_result"
    }
   ],
   "source": [
    "tel.keys()"
   ]
  },
  {
   "cell_type": "code",
   "execution_count": 54,
   "id": "fbee3944",
   "metadata": {},
   "outputs": [
    {
     "data": {
      "text/plain": [
       "dict_values([5752, 5578, 5915])"
      ]
     },
     "execution_count": 54,
     "metadata": {},
     "output_type": "execute_result"
    }
   ],
   "source": [
    "tel.values()"
   ]
  },
  {
   "cell_type": "code",
   "execution_count": 55,
   "id": "184c62c3",
   "metadata": {},
   "outputs": [
    {
     "data": {
      "text/plain": [
       "True"
      ]
     },
     "execution_count": 55,
     "metadata": {},
     "output_type": "execute_result"
    }
   ],
   "source": [
    "'francis' in tel"
   ]
  },
  {
   "cell_type": "markdown",
   "id": "35af10f7",
   "metadata": {},
   "source": [
    "::: {note}\n",
    ":class: dropdown\n",
    "\n",
    "It can be used to conveniently store and retrieve values\n",
    "associated with a name (a string for a date, a name, etc.). See\n",
    "<https://docs.python.org/3/tutorial/datastructures.html#dictionaries>\n",
    "for more information.\n",
    "\n",
    "A dictionary can have keys (resp. values) with different types:"
   ]
  },
  {
   "cell_type": "code",
   "execution_count": 56,
   "id": "8cec5c48",
   "metadata": {},
   "outputs": [
    {
     "data": {
      "text/plain": [
       "{'a': 1, 'b': 2, 3: 'hello'}"
      ]
     },
     "execution_count": 56,
     "metadata": {},
     "output_type": "execute_result"
    }
   ],
   "source": [
    "d = {'a':1, 'b':2, 3:'hello'}\n",
    "d"
   ]
  },
  {
   "cell_type": "markdown",
   "id": "c30d99f4",
   "metadata": {},
   "source": [
    ":::\n",
    "\n",
    "### More container types\n",
    "\n",
    "**Tuples**\n",
    "\n",
    "Tuples are basically immutable lists. The elements of a tuple are written\n",
    "between parentheses, or just separated by commas:"
   ]
  },
  {
   "cell_type": "code",
   "execution_count": 57,
   "id": "6d708450",
   "metadata": {},
   "outputs": [
    {
     "data": {
      "text/plain": [
       "12345"
      ]
     },
     "execution_count": 57,
     "metadata": {},
     "output_type": "execute_result"
    }
   ],
   "source": [
    "t = 12345, 54321, 'hello!'\n",
    "t[0]"
   ]
  },
  {
   "cell_type": "code",
   "execution_count": 58,
   "id": "2b3ef4fe",
   "metadata": {},
   "outputs": [],
   "source": [
    "t\n",
    "u = (0, 2)"
   ]
  },
  {
   "cell_type": "markdown",
   "id": "c8fc6820",
   "metadata": {},
   "source": [
    "**Sets:** unordered, unique items:"
   ]
  },
  {
   "cell_type": "code",
   "execution_count": 59,
   "id": "774d056f",
   "metadata": {},
   "outputs": [
    {
     "data": {
      "text/plain": [
       "{'a', 'b', 'c'}"
      ]
     },
     "execution_count": 59,
     "metadata": {},
     "output_type": "execute_result"
    }
   ],
   "source": [
    "s = set(('a', 'b', 'c', 'a'))\n",
    "s"
   ]
  },
  {
   "cell_type": "code",
   "execution_count": 60,
   "id": "4ea90090",
   "metadata": {},
   "outputs": [
    {
     "data": {
      "text/plain": [
       "{'c'}"
      ]
     },
     "execution_count": 60,
     "metadata": {},
     "output_type": "execute_result"
    }
   ],
   "source": [
    "s.difference(('a', 'b'))"
   ]
  },
  {
   "cell_type": "markdown",
   "id": "2d239936",
   "metadata": {},
   "source": [
    "## Assignment operator\n",
    "\n",
    "::: {note}\n",
    ":class: dropdown\n",
    "\n",
    "[Python library reference](https://docs.python.org/3/reference/simple_stmts.html#assignment-statements)\n",
    "says:\n",
    "\n",
    "> Assignment statements are used to (re)bind names to values and to\n",
    "> modify attributes or items of mutable objects.\n",
    "\n",
    "In short, it works as follows (simple assignment):\n",
    "\n",
    "1. an expression on the right hand side is evaluated, the corresponding\n",
    "   object is created/obtained\n",
    "2. a **name** on the left hand side is assigned, or bound, to the\n",
    "   r.h.s. object\n",
    "   :::\n",
    "\n",
    "Things to note:\n",
    "\n",
    "- A single object can have several names bound to it:"
   ]
  },
  {
   "cell_type": "code",
   "execution_count": 61,
   "id": "f36714c6",
   "metadata": {},
   "outputs": [
    {
     "data": {
      "text/plain": [
       "[1, 2, 3]"
      ]
     },
     "execution_count": 61,
     "metadata": {},
     "output_type": "execute_result"
    }
   ],
   "source": [
    "a = [1, 2, 3]\n",
    "b = a\n",
    "a"
   ]
  },
  {
   "cell_type": "code",
   "execution_count": 62,
   "id": "83f4d9ab",
   "metadata": {},
   "outputs": [
    {
     "data": {
      "text/plain": [
       "[1, 2, 3]"
      ]
     },
     "execution_count": 62,
     "metadata": {},
     "output_type": "execute_result"
    }
   ],
   "source": [
    "b"
   ]
  },
  {
   "cell_type": "code",
   "execution_count": 63,
   "id": "77a26156",
   "metadata": {},
   "outputs": [
    {
     "data": {
      "text/plain": [
       "True"
      ]
     },
     "execution_count": 63,
     "metadata": {},
     "output_type": "execute_result"
    }
   ],
   "source": [
    "a is b"
   ]
  },
  {
   "cell_type": "code",
   "execution_count": 64,
   "id": "98d34bca",
   "metadata": {},
   "outputs": [
    {
     "data": {
      "text/plain": [
       "[1, 'hi!', 3]"
      ]
     },
     "execution_count": 64,
     "metadata": {},
     "output_type": "execute_result"
    }
   ],
   "source": [
    "b[1] = 'hi!'\n",
    "a"
   ]
  },
  {
   "cell_type": "markdown",
   "id": "39ab5c98",
   "metadata": {},
   "source": [
    "- to change a list _in place_, use indexing/slices:"
   ]
  },
  {
   "cell_type": "code",
   "execution_count": 65,
   "id": "ba63bc30",
   "metadata": {},
   "outputs": [
    {
     "data": {
      "text/plain": [
       "[1, 2, 3]"
      ]
     },
     "execution_count": 65,
     "metadata": {},
     "output_type": "execute_result"
    }
   ],
   "source": [
    "a = [1, 2, 3]\n",
    "a"
   ]
  },
  {
   "cell_type": "code",
   "execution_count": 66,
   "id": "8542a6b8",
   "metadata": {},
   "outputs": [
    {
     "data": {
      "text/plain": [
       "['a', 'b', 'c']"
      ]
     },
     "execution_count": 66,
     "metadata": {},
     "output_type": "execute_result"
    }
   ],
   "source": [
    "a = ['a', 'b', 'c'] # Creates another object.\n",
    "a"
   ]
  },
  {
   "cell_type": "code",
   "execution_count": 67,
   "id": "7344a1cc",
   "metadata": {},
   "outputs": [
    {
     "data": {
      "text/plain": [
       "4441023424"
      ]
     },
     "execution_count": 67,
     "metadata": {},
     "output_type": "execute_result"
    }
   ],
   "source": [
    "id(a)"
   ]
  },
  {
   "cell_type": "code",
   "execution_count": 68,
   "id": "8db662ed",
   "metadata": {},
   "outputs": [
    {
     "data": {
      "text/plain": [
       "[1, 2, 3]"
      ]
     },
     "execution_count": 68,
     "metadata": {},
     "output_type": "execute_result"
    }
   ],
   "source": [
    "a[:] = [1, 2, 3] # Modifies object in place.\n",
    "a"
   ]
  },
  {
   "cell_type": "code",
   "execution_count": 69,
   "id": "9eaad402",
   "metadata": {},
   "outputs": [
    {
     "data": {
      "text/plain": [
       "4441023424"
      ]
     },
     "execution_count": 69,
     "metadata": {},
     "output_type": "execute_result"
    }
   ],
   "source": [
    "id(a)"
   ]
  },
  {
   "cell_type": "markdown",
   "id": "9f76d6db",
   "metadata": {},
   "source": [
    "- the key concept here is **mutable vs. immutable**\n",
    "\n",
    "  - mutable objects can be changed in place\n",
    "  - immutable objects cannot be modified once created\n",
    "\n",
    ":::{admonition} See also\n",
    "\n",
    "A very good and detailed explanation of the above issues can\n",
    "be found in David M. Beazley's article [Types and Objects in Python](https://www.informit.com/articles/article.aspx?p=453682).\n",
    ":::"
   ]
  }
 ],
 "metadata": {
  "jupytext": {
   "text_representation": {
    "extension": ".md",
    "format_name": "myst",
    "format_version": 0.13,
    "jupytext_version": "1.18.0-dev"
   }
  },
  "kernelspec": {
   "display_name": "Python 3 (ipykernel)",
   "language": "python",
   "name": "python3"
  },
  "language_info": {
   "codemirror_mode": {
    "name": "ipython",
    "version": 3
   },
   "file_extension": ".py",
   "mimetype": "text/x-python",
   "name": "python",
   "nbconvert_exporter": "python",
   "pygments_lexer": "ipython3",
   "version": "3.12.7"
  }
 },
 "nbformat": 4,
 "nbformat_minor": 5
}