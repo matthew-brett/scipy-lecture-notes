{
 "cells": [
  {
   "cell_type": "markdown",
   "id": "6b67924b",
   "metadata": {},
   "source": [
    "# Input and Output\n",
    "\n",
    "To be exhaustive, here are some information about input and output in\n",
    "Python. Since we will use the NumPy methods to read and write files,\n",
    "**you may skip this chapter at first reading**.\n",
    "\n",
    "We write or read **strings** to/from files (other types must be converted to\n",
    "strings). To write in a file:"
   ]
  },
  {
   "cell_type": "code",
   "execution_count": 1,
   "id": "a2356ae8",
   "metadata": {},
   "outputs": [
    {
     "data": {
      "text/plain": [
       "_io.TextIOWrapper"
      ]
     },
     "execution_count": 1,
     "metadata": {},
     "output_type": "execute_result"
    }
   ],
   "source": [
    "f = open('workfile', 'w') # opens the workfile file\n",
    "type(f)"
   ]
  },
  {
   "cell_type": "code",
   "execution_count": 2,
   "id": "3fa1dc81",
   "metadata": {},
   "outputs": [],
   "source": [
    "f.write('This is a test \\nand another test')\n",
    "f.close()"
   ]
  },
  {
   "cell_type": "markdown",
   "id": "69f817ed",
   "metadata": {},
   "source": [
    "To read from a file"
   ]
  },
  {
   "cell_type": "code",
   "execution_count": 3,
   "id": "61b4e463",
   "metadata": {},
   "outputs": [
    {
     "name": "stdout",
     "output_type": "stream",
     "text": [
      "This is a test \n",
      "and another test\n"
     ]
    }
   ],
   "source": [
    "f = open('workfile', 'r')\n",
    "s = f.read()\n",
    "print(s)"
   ]
  },
  {
   "cell_type": "code",
   "execution_count": 4,
   "id": "df7858aa",
   "metadata": {},
   "outputs": [],
   "source": [
    "f.close()"
   ]
  },
  {
   "cell_type": "markdown",
   "id": "c4bfc0e3",
   "metadata": {},
   "source": [
    ":::{admonition} See also\n",
    "\n",
    "For more details: <https://docs.python.org/3/tutorial/inputoutput.html>\n",
    ":::\n",
    "\n",
    "## Iterating over a file"
   ]
  },
  {
   "cell_type": "code",
   "execution_count": 5,
   "id": "1b4185c7",
   "metadata": {},
   "outputs": [
    {
     "name": "stdout",
     "output_type": "stream",
     "text": [
      "This is a test \n",
      "\n",
      "and another test\n"
     ]
    }
   ],
   "source": [
    "f = open('workfile', 'r')\n",
    "\n",
    "for line in f:\n",
    "    print(line)"
   ]
  },
  {
   "cell_type": "code",
   "execution_count": 6,
   "id": "4a814c2d",
   "metadata": {},
   "outputs": [],
   "source": [
    "f.close()"
   ]
  },
  {
   "cell_type": "markdown",
   "id": "30fc95b8",
   "metadata": {},
   "source": [
    "### File modes\n",
    "\n",
    "- Read-only: `r`\n",
    "\n",
    "- Write-only: `w`\n",
    "\n",
    "  - Note: Create a new file or _overwrite_ existing file.\n",
    "\n",
    "- Append a file: `a`\n",
    "\n",
    "- Read and Write: `r+`\n",
    "\n",
    "- Binary mode: `b`\n",
    "\n",
    "  - Note: Use for binary files, especially on Windows."
   ]
  }
 ],
 "metadata": {
  "jupytext": {
   "text_representation": {
    "extension": ".md",
    "format_name": "myst",
    "format_version": 0.13,
    "jupytext_version": "1.18.0-dev"
   }
  },
  "kernelspec": {
   "display_name": "Python 3 (ipykernel)",
   "language": "python",
   "name": "python3"
  },
  "language_info": {
   "codemirror_mode": {
    "name": "ipython",
    "version": 3
   },
   "file_extension": ".py",
   "mimetype": "text/x-python",
   "name": "python",
   "nbconvert_exporter": "python",
   "pygments_lexer": "ipython3",
   "version": "3.12.7"
  }
 },
 "nbformat": 4,
 "nbformat_minor": 5
}