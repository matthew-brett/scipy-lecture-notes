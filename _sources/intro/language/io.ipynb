{
 "cells": [
  {
   "cell_type": "markdown",
   "id": "e788d923",
   "metadata": {},
   "source": [
    "# Input and Output\n",
    "\n",
    "To be exhaustive, here are some information about input and output in\n",
    "Python. Since we will use the NumPy methods to read and write files,\n",
    "**you may skip this chapter at first reading**.\n",
    "\n",
    "We write or read **strings** to/from files (other types must be converted to\n",
    "strings). To write in a file:"
   ]
  },
  {
   "cell_type": "code",
   "execution_count": null,
   "id": "2360d38a",
   "metadata": {},
   "outputs": [],
   "source": [
    "f = open('workfile', 'w') # opens the workfile file\n",
    "type(f)"
   ]
  },
  {
   "cell_type": "code",
   "execution_count": null,
   "id": "1870a020",
   "metadata": {},
   "outputs": [],
   "source": [
    "f.write('This is a test \\nand another test')\n",
    "f.close()"
   ]
  },
  {
   "cell_type": "markdown",
   "id": "9e7de10d",
   "metadata": {},
   "source": [
    "To read from a file"
   ]
  },
  {
   "cell_type": "code",
   "execution_count": null,
   "id": "93fb38f5",
   "metadata": {},
   "outputs": [],
   "source": [
    "f = open('workfile', 'r')\n",
    "s = f.read()\n",
    "print(s)"
   ]
  },
  {
   "cell_type": "code",
   "execution_count": null,
   "id": "126eaed6",
   "metadata": {},
   "outputs": [],
   "source": [
    "f.close()"
   ]
  },
  {
   "cell_type": "markdown",
   "id": "fc0bedbb",
   "metadata": {},
   "source": [
    ":::{admonition} See also\n",
    "\n",
    "For more details: <https://docs.python.org/3/tutorial/inputoutput.html>\n",
    ":::\n",
    "\n",
    "## Iterating over a file"
   ]
  },
  {
   "cell_type": "code",
   "execution_count": null,
   "id": "4d3dc68d",
   "metadata": {},
   "outputs": [],
   "source": [
    "f = open('workfile', 'r')\n",
    "\n",
    "for line in f:\n",
    "    print(line)"
   ]
  },
  {
   "cell_type": "code",
   "execution_count": null,
   "id": "d47f61f7",
   "metadata": {},
   "outputs": [],
   "source": [
    "f.close()"
   ]
  },
  {
   "cell_type": "markdown",
   "id": "9c100599",
   "metadata": {},
   "source": [
    "### File modes\n",
    "\n",
    "- Read-only: `r`\n",
    "\n",
    "- Write-only: `w`\n",
    "\n",
    "  - Note: Create a new file or _overwrite_ existing file.\n",
    "\n",
    "- Append a file: `a`\n",
    "\n",
    "- Read and Write: `r+`\n",
    "\n",
    "- Binary mode: `b`\n",
    "\n",
    "  - Note: Use for binary files, especially on Windows."
   ]
  }
 ],
 "metadata": {
  "jupytext": {
   "text_representation": {
    "extension": ".md",
    "format_name": "myst",
    "format_version": 0.13,
    "jupytext_version": "1.18.0-dev"
   }
  },
  "kernelspec": {
   "display_name": "Python 3 (ipykernel)",
   "language": "python",
   "name": "python3"
  }
 },
 "nbformat": 4,
 "nbformat_minor": 5
}