{
 "cells": [
  {
   "cell_type": "markdown",
   "id": "892f08f6",
   "metadata": {},
   "source": [
    "# Defining functions\n",
    "\n",
    "## Function definition"
   ]
  },
  {
   "cell_type": "code",
   "execution_count": 1,
   "id": "9541eeb6",
   "metadata": {},
   "outputs": [],
   "source": [
    "def test():\n",
    "    print('in test function')"
   ]
  },
  {
   "cell_type": "code",
   "execution_count": 2,
   "id": "bbc815a7",
   "metadata": {},
   "outputs": [
    {
     "name": "stdout",
     "output_type": "stream",
     "text": [
      "in test function\n"
     ]
    }
   ],
   "source": [
    "test()"
   ]
  },
  {
   "cell_type": "markdown",
   "id": "176801b2",
   "metadata": {},
   "source": [
    ":::{Warning}\n",
    "Function blocks must be indented in the same way as other control-flow blocks.\n",
    ":::"
   ]
  },
  {
   "cell_type": "markdown",
   "id": "c240d961",
   "metadata": {},
   "source": [
    "## Return statement\n",
    "\n",
    "Functions _always_ return values:"
   ]
  },
  {
   "cell_type": "code",
   "execution_count": 3,
   "id": "c98b78e5",
   "metadata": {},
   "outputs": [],
   "source": [
    "def disk_area(radius):\n",
    "    return 3.14 * radius * radius"
   ]
  },
  {
   "cell_type": "code",
   "execution_count": 4,
   "id": "2c509a86",
   "metadata": {},
   "outputs": [
    {
     "data": {
      "text/plain": [
       "7.0649999999999995"
      ]
     },
     "execution_count": 4,
     "metadata": {},
     "output_type": "execute_result"
    }
   ],
   "source": [
    "disk_area(1.5)"
   ]
  },
  {
   "cell_type": "markdown",
   "id": "fef62e6a",
   "metadata": {},
   "source": [
    "But - if you do not specify an explicit return value, functions return the\n",
    "special Python value `None`."
   ]
  },
  {
   "cell_type": "code",
   "execution_count": 5,
   "id": "c020e0a9",
   "metadata": {},
   "outputs": [],
   "source": [
    "def another_func(a):\n",
    "    # Do nothing.\n",
    "    # Notice there is no \"return\" statement.\n",
    "    pass"
   ]
  },
  {
   "cell_type": "code",
   "execution_count": 6,
   "id": "7ff30e80",
   "metadata": {},
   "outputs": [
    {
     "data": {
      "text/plain": [
       "True"
      ]
     },
     "execution_count": 6,
     "metadata": {},
     "output_type": "execute_result"
    }
   ],
   "source": [
    "result = another_func(10)\n",
    "# Check whether result returned is None value.\n",
    "result is None"
   ]
  },
  {
   "cell_type": "markdown",
   "id": "825e95bb",
   "metadata": {},
   "source": [
    ":::{Note}\n",
    "Note the syntax to define a function:\n",
    "\n",
    "- the `def` keyword;\n",
    "- is followed by the function's **name**, then\n",
    "- the arguments of the function are given between parentheses followed\n",
    "  by a colon.\n",
    "- the function body;\n",
    "- and `return object` for optionally returning values.\n",
    "  :::"
   ]
  },
  {
   "cell_type": "markdown",
   "id": "7e58ebbf",
   "metadata": {},
   "source": [
    "## Parameters\n",
    "\n",
    "Mandatory parameters (positional arguments)"
   ]
  },
  {
   "cell_type": "code",
   "execution_count": 7,
   "id": "08cb4b38",
   "metadata": {},
   "outputs": [],
   "source": [
    "def double_it(x):\n",
    "    return x * 2"
   ]
  },
  {
   "cell_type": "code",
   "execution_count": 8,
   "id": "fe85014a",
   "metadata": {},
   "outputs": [
    {
     "data": {
      "text/plain": [
       "6"
      ]
     },
     "execution_count": 8,
     "metadata": {},
     "output_type": "execute_result"
    }
   ],
   "source": [
    "double_it(3)"
   ]
  },
  {
   "cell_type": "code",
   "execution_count": 9,
   "id": "7fc3106f",
   "metadata": {
    "tags": [
     "raises-exception"
    ]
   },
   "outputs": [
    {
     "ename": "TypeError",
     "evalue": "double_it() missing 1 required positional argument: 'x'",
     "output_type": "error",
     "traceback": [
      "\u001b[31m---------------------------------------------------------------------------\u001b[39m",
      "\u001b[31mTypeError\u001b[39m                                 Traceback (most recent call last)",
      "\u001b[36mCell\u001b[39m\u001b[36m \u001b[39m\u001b[32mIn[9]\u001b[39m\u001b[32m, line 1\u001b[39m\n\u001b[32m----> \u001b[39m\u001b[32m1\u001b[39m \u001b[43mdouble_it\u001b[49m\u001b[43m(\u001b[49m\u001b[43m)\u001b[49m\n",
      "\u001b[31mTypeError\u001b[39m: double_it() missing 1 required positional argument: 'x'"
     ]
    }
   ],
   "source": [
    "double_it()"
   ]
  },
  {
   "cell_type": "markdown",
   "id": "2537015d",
   "metadata": {},
   "source": [
    "Optional parameters (keyword or named arguments)"
   ]
  },
  {
   "cell_type": "code",
   "execution_count": 10,
   "id": "d414cb6b",
   "metadata": {},
   "outputs": [],
   "source": [
    "def double_it(x=2):\n",
    "    return x * 2"
   ]
  },
  {
   "cell_type": "code",
   "execution_count": 11,
   "id": "ea4bdd13",
   "metadata": {},
   "outputs": [
    {
     "data": {
      "text/plain": [
       "4"
      ]
     },
     "execution_count": 11,
     "metadata": {},
     "output_type": "execute_result"
    }
   ],
   "source": [
    "double_it()"
   ]
  },
  {
   "cell_type": "code",
   "execution_count": 12,
   "id": "d964a8f4",
   "metadata": {},
   "outputs": [
    {
     "data": {
      "text/plain": [
       "6"
      ]
     },
     "execution_count": 12,
     "metadata": {},
     "output_type": "execute_result"
    }
   ],
   "source": [
    "double_it(3)"
   ]
  },
  {
   "cell_type": "markdown",
   "id": "7954e64b",
   "metadata": {},
   "source": [
    "Keyword arguments allow you to specify _default values_.\n",
    "\n",
    "**Warning:** default values are evaluated when the function is defined, not\n",
    "when it is called. This can be problematic when using mutable types (e.g.\n",
    "dictionary or list) and modifying them in the function body, since the\n",
    "modifications will be persistent across invocations of the function.\n",
    "\n",
    "Using an immutable type in a keyword argument:"
   ]
  },
  {
   "cell_type": "code",
   "execution_count": 13,
   "id": "9e9c33e2",
   "metadata": {},
   "outputs": [],
   "source": [
    "bigx = 10\n",
    "def double_it(x=bigx):\n",
    "    return x * 2"
   ]
  },
  {
   "cell_type": "code",
   "execution_count": 14,
   "id": "4cfc8757",
   "metadata": {},
   "outputs": [
    {
     "data": {
      "text/plain": [
       "20"
      ]
     },
     "execution_count": 14,
     "metadata": {},
     "output_type": "execute_result"
    }
   ],
   "source": [
    "bigx = 1e9  # Now really big\n",
    "double_it()"
   ]
  },
  {
   "cell_type": "markdown",
   "id": "d96e5232",
   "metadata": {},
   "source": [
    "Using an mutable type in a keyword argument (and modifying it inside the\n",
    "function body):"
   ]
  },
  {
   "cell_type": "code",
   "execution_count": 15,
   "id": "7cb813a6",
   "metadata": {},
   "outputs": [],
   "source": [
    "def add_to_dict(args={'a': 1, 'b': 2}):\n",
    "    for i in args.keys():\n",
    "        args[i] += 1\n",
    "    print(args)"
   ]
  },
  {
   "cell_type": "code",
   "execution_count": 16,
   "id": "7539f564",
   "metadata": {},
   "outputs": [
    {
     "data": {
      "text/plain": [
       "<function __main__.add_to_dict(args={'a': 1, 'b': 2})>"
      ]
     },
     "execution_count": 16,
     "metadata": {},
     "output_type": "execute_result"
    }
   ],
   "source": [
    "add_to_dict"
   ]
  },
  {
   "cell_type": "code",
   "execution_count": 17,
   "id": "5593dd4e",
   "metadata": {},
   "outputs": [
    {
     "name": "stdout",
     "output_type": "stream",
     "text": [
      "{'a': 2, 'b': 3}\n"
     ]
    }
   ],
   "source": [
    "add_to_dict()"
   ]
  },
  {
   "cell_type": "code",
   "execution_count": 18,
   "id": "0ba517ab",
   "metadata": {},
   "outputs": [
    {
     "name": "stdout",
     "output_type": "stream",
     "text": [
      "{'a': 3, 'b': 4}\n"
     ]
    }
   ],
   "source": [
    "add_to_dict()"
   ]
  },
  {
   "cell_type": "code",
   "execution_count": 19,
   "id": "72b706ec",
   "metadata": {},
   "outputs": [
    {
     "name": "stdout",
     "output_type": "stream",
     "text": [
      "{'a': 4, 'b': 5}\n"
     ]
    }
   ],
   "source": [
    "add_to_dict()"
   ]
  },
  {
   "cell_type": "markdown",
   "id": "b5cf23c9",
   "metadata": {},
   "source": [
    "More involved example implementing python's slicing:"
   ]
  },
  {
   "cell_type": "code",
   "execution_count": 20,
   "id": "8e527f34",
   "metadata": {},
   "outputs": [],
   "source": [
    "def slicer(seq, start=None, stop=None, step=None):\n",
    "    \"\"\"Implement basic python slicing.\"\"\"\n",
    "    return seq[start:stop:step]"
   ]
  },
  {
   "cell_type": "code",
   "execution_count": 21,
   "id": "1c98497e",
   "metadata": {},
   "outputs": [
    {
     "data": {
      "text/plain": [
       "['one', 'fish,', 'two', 'fish,', 'red', 'fish,', 'blue', 'fish']"
      ]
     },
     "execution_count": 21,
     "metadata": {},
     "output_type": "execute_result"
    }
   ],
   "source": [
    "rhyme = 'one fish, two fish, red fish, blue fish'.split()\n",
    "rhyme"
   ]
  },
  {
   "cell_type": "code",
   "execution_count": 22,
   "id": "ccedb17f",
   "metadata": {},
   "outputs": [
    {
     "data": {
      "text/plain": [
       "['one', 'fish,', 'two', 'fish,', 'red', 'fish,', 'blue', 'fish']"
      ]
     },
     "execution_count": 22,
     "metadata": {},
     "output_type": "execute_result"
    }
   ],
   "source": [
    "slicer(rhyme)"
   ]
  },
  {
   "cell_type": "code",
   "execution_count": 23,
   "id": "bd638b18",
   "metadata": {},
   "outputs": [
    {
     "data": {
      "text/plain": [
       "['one', 'two', 'red', 'blue']"
      ]
     },
     "execution_count": 23,
     "metadata": {},
     "output_type": "execute_result"
    }
   ],
   "source": [
    "slicer(rhyme, step=2)"
   ]
  },
  {
   "cell_type": "code",
   "execution_count": 24,
   "id": "8a411d29",
   "metadata": {},
   "outputs": [
    {
     "data": {
      "text/plain": [
       "['fish,', 'fish,', 'fish,', 'fish']"
      ]
     },
     "execution_count": 24,
     "metadata": {},
     "output_type": "execute_result"
    }
   ],
   "source": [
    "slicer(rhyme, 1, step=2)"
   ]
  },
  {
   "cell_type": "code",
   "execution_count": 25,
   "id": "43e5dcf9",
   "metadata": {},
   "outputs": [
    {
     "data": {
      "text/plain": [
       "['fish,', 'fish,']"
      ]
     },
     "execution_count": 25,
     "metadata": {},
     "output_type": "execute_result"
    }
   ],
   "source": [
    "slicer(rhyme, start=1, stop=4, step=2)"
   ]
  },
  {
   "cell_type": "markdown",
   "id": "5d3d5189",
   "metadata": {},
   "source": [
    "The order of the keyword arguments does not matter:"
   ]
  },
  {
   "cell_type": "code",
   "execution_count": 26,
   "id": "a304f215",
   "metadata": {},
   "outputs": [
    {
     "data": {
      "text/plain": [
       "['fish,', 'fish,']"
      ]
     },
     "execution_count": 26,
     "metadata": {},
     "output_type": "execute_result"
    }
   ],
   "source": [
    "slicer(rhyme, step=2, start=1, stop=4)"
   ]
  },
  {
   "cell_type": "markdown",
   "id": "b4d8a31e",
   "metadata": {},
   "source": [
    "— but it is good practice to use the same ordering as the function's\n",
    "definition.\n",
    "\n",
    "_Keyword arguments_ are a very convenient feature for defining functions with\n",
    "a variable number of arguments, especially when default values are to be used\n",
    "in most calls to the function."
   ]
  },
  {
   "cell_type": "markdown",
   "id": "8db4dd19",
   "metadata": {},
   "source": [
    "## Passing by value\n",
    "\n",
    "::: {note}\n",
    ":class: dropdown\n",
    "\n",
    "Can you modify the value of a variable inside a function? Most languages (C,\n",
    "Java, ...) distinguish \"passing by value\" and \"passing by reference\". In\n",
    "Python, such a distinction is somewhat artificial, and it is a bit subtle\n",
    "whether your variables are going to be modified or not. Fortunately, there\n",
    "exist clear rules.\n",
    "\n",
    "Parameters to functions are references to objects, which are passed by\n",
    "value. When you pass a variable to a function, python passes the\n",
    "reference to the object to which the variable refers (the **value**).\n",
    "Not the variable itself.\n",
    ":::\n",
    "\n",
    "If the **value** passed in a function is immutable, the function does not\n",
    "modify the caller's variable. If the **value** is mutable, the function\n",
    "may modify the caller's variable in-place:"
   ]
  },
  {
   "cell_type": "code",
   "execution_count": 27,
   "id": "d6d6d358",
   "metadata": {},
   "outputs": [],
   "source": [
    "def try_to_modify(x, y, z):\n",
    "    x = 23\n",
    "    y.append(42)\n",
    "    z = [99] # new reference\n",
    "    print(x)\n",
    "    print(y)\n",
    "    print(z)"
   ]
  },
  {
   "cell_type": "code",
   "execution_count": 28,
   "id": "43209f01",
   "metadata": {},
   "outputs": [
    {
     "name": "stdout",
     "output_type": "stream",
     "text": [
      "23\n",
      "[99, 42]\n",
      "[99]\n"
     ]
    }
   ],
   "source": [
    "a = 77    # immutable variable\n",
    "b = [99]  # mutable variable\n",
    "c = [28]\n",
    "try_to_modify(a, b, c)"
   ]
  },
  {
   "cell_type": "code",
   "execution_count": 29,
   "id": "89a8845e",
   "metadata": {},
   "outputs": [
    {
     "name": "stdout",
     "output_type": "stream",
     "text": [
      "77\n"
     ]
    }
   ],
   "source": [
    "print(a)"
   ]
  },
  {
   "cell_type": "code",
   "execution_count": 30,
   "id": "7c4537b8",
   "metadata": {},
   "outputs": [
    {
     "name": "stdout",
     "output_type": "stream",
     "text": [
      "[99, 42]\n"
     ]
    }
   ],
   "source": [
    "print(b)"
   ]
  },
  {
   "cell_type": "code",
   "execution_count": 31,
   "id": "a8e749c9",
   "metadata": {},
   "outputs": [
    {
     "name": "stdout",
     "output_type": "stream",
     "text": [
      "[28]\n"
     ]
    }
   ],
   "source": [
    "print(c)"
   ]
  },
  {
   "cell_type": "markdown",
   "id": "c0891c2f",
   "metadata": {},
   "source": [
    "Functions have a local variable table called a _local namespace_.\n",
    "\n",
    "The variable `x` only exists within the function `try_to_modify`."
   ]
  },
  {
   "cell_type": "markdown",
   "id": "ed44ca4a",
   "metadata": {},
   "source": [
    "## Global variables\n",
    "\n",
    "Variables declared outside the function can be referenced within the function:"
   ]
  },
  {
   "cell_type": "code",
   "execution_count": 32,
   "id": "b94da5ab",
   "metadata": {},
   "outputs": [],
   "source": [
    "x = 5\n",
    "def addx(y):\n",
    "    return x + y"
   ]
  },
  {
   "cell_type": "code",
   "execution_count": 33,
   "id": "a230868b",
   "metadata": {},
   "outputs": [
    {
     "data": {
      "text/plain": [
       "15"
      ]
     },
     "execution_count": 33,
     "metadata": {},
     "output_type": "execute_result"
    }
   ],
   "source": [
    "addx(10)"
   ]
  },
  {
   "cell_type": "markdown",
   "id": "a197150e",
   "metadata": {},
   "source": [
    "But these \"global\" variables cannot be modified within the function, unless\n",
    "declared **global** in the function.\n",
    "\n",
    "This doesn't work:"
   ]
  },
  {
   "cell_type": "code",
   "execution_count": 34,
   "id": "3849e050",
   "metadata": {},
   "outputs": [],
   "source": [
    "def setx(y):\n",
    "    x = y\n",
    "    print('x is %d' % x)"
   ]
  },
  {
   "cell_type": "code",
   "execution_count": 35,
   "id": "711239ef",
   "metadata": {},
   "outputs": [
    {
     "name": "stdout",
     "output_type": "stream",
     "text": [
      "x is 10\n"
     ]
    }
   ],
   "source": [
    "setx(10)"
   ]
  },
  {
   "cell_type": "code",
   "execution_count": 36,
   "id": "1cd528a4",
   "metadata": {},
   "outputs": [
    {
     "data": {
      "text/plain": [
       "5"
      ]
     },
     "execution_count": 36,
     "metadata": {},
     "output_type": "execute_result"
    }
   ],
   "source": [
    "x"
   ]
  },
  {
   "cell_type": "markdown",
   "id": "88097290",
   "metadata": {},
   "source": [
    "This works:"
   ]
  },
  {
   "cell_type": "code",
   "execution_count": 37,
   "id": "2e05f865",
   "metadata": {},
   "outputs": [],
   "source": [
    "def setx(y):\n",
    "    global x\n",
    "    x = y\n",
    "    print('x is %d' % x)"
   ]
  },
  {
   "cell_type": "code",
   "execution_count": 38,
   "id": "dc0c5a27",
   "metadata": {},
   "outputs": [
    {
     "name": "stdout",
     "output_type": "stream",
     "text": [
      "x is 10\n"
     ]
    }
   ],
   "source": [
    "setx(10)"
   ]
  },
  {
   "cell_type": "code",
   "execution_count": 39,
   "id": "16eee9cb",
   "metadata": {},
   "outputs": [
    {
     "data": {
      "text/plain": [
       "10"
      ]
     },
     "execution_count": 39,
     "metadata": {},
     "output_type": "execute_result"
    }
   ],
   "source": [
    "x"
   ]
  },
  {
   "cell_type": "markdown",
   "id": "e22c00e0",
   "metadata": {},
   "source": [
    "## Variable number of parameters\n",
    "\n",
    "Special forms of parameters:\n",
    "\n",
    "- `*args`: any number of positional arguments packed into a tuple\n",
    "- `**kwargs`: any number of keyword arguments packed into a dictionary"
   ]
  },
  {
   "cell_type": "code",
   "execution_count": 40,
   "id": "a9034f03",
   "metadata": {},
   "outputs": [],
   "source": [
    "def variable_args(*args, **kwargs):\n",
    "    print('args is', args)\n",
    "    print('kwargs is', kwargs)"
   ]
  },
  {
   "cell_type": "code",
   "execution_count": 41,
   "id": "adcc4438",
   "metadata": {},
   "outputs": [
    {
     "name": "stdout",
     "output_type": "stream",
     "text": [
      "args is ('one', 'two')\n",
      "kwargs is {'x': 1, 'y': 2, 'z': 3}\n"
     ]
    }
   ],
   "source": [
    "variable_args('one', 'two', x=1, y=2, z=3)"
   ]
  },
  {
   "cell_type": "markdown",
   "id": "f7526458",
   "metadata": {},
   "source": [
    "## Docstrings\n",
    "\n",
    "Documentation about what the function does and its parameters. General\n",
    "convention:"
   ]
  },
  {
   "cell_type": "code",
   "execution_count": 42,
   "id": "881cc0e1",
   "metadata": {},
   "outputs": [],
   "source": [
    "def funcname(params):\n",
    "    \"\"\"Concise one-line sentence describing the function.\n",
    "\n",
    "    Extended summary which can contain multiple paragraphs.\n",
    "    \"\"\"\n",
    "    # function body\n",
    "    pass"
   ]
  },
  {
   "cell_type": "code",
   "execution_count": 43,
   "id": "5affab51",
   "metadata": {},
   "outputs": [
    {
     "name": "stdout",
     "output_type": "stream",
     "text": [
      "Help on function funcname in module __main__:\n",
      "\n",
      "funcname(params)\n",
      "    Concise one-line sentence describing the function.\n",
      "\n",
      "    Extended summary which can contain multiple paragraphs.\n",
      "\n"
     ]
    }
   ],
   "source": [
    "# Also assessible in Jupyter / IPython with \"funcname?\"\n",
    "help(funcname)"
   ]
  },
  {
   "cell_type": "markdown",
   "id": "af4f5af6",
   "metadata": {},
   "source": [
    ":::{Note}\n",
    "**Docstring guidelines**\n",
    "\n",
    "For the sake of standardization, the [Docstring\n",
    "Conventions](https://peps.python.org/pep-0257) webpage documents the semantics\n",
    "and conventions associated with Python docstrings.\n",
    "\n",
    "Also, the NumPy and SciPy modules have defined a precise standard for\n",
    "documenting scientific functions, that you may want to follow for your own\n",
    "functions, with a `Parameters` section, an `Examples` section, etc. See\n",
    "<https://numpydoc.readthedocs.io/en/latest/format.html#docstring-standard>\n",
    ":::"
   ]
  },
  {
   "cell_type": "markdown",
   "id": "eea46f5f",
   "metadata": {},
   "source": [
    "## Functions are objects\n",
    "\n",
    "Functions are first-class objects, which means they can be:\n",
    "\n",
    "- assigned to a variable\n",
    "- an item in a list (or any collection)\n",
    "- passed as an argument to another function."
   ]
  },
  {
   "cell_type": "code",
   "execution_count": 44,
   "id": "70522625",
   "metadata": {},
   "outputs": [
    {
     "name": "stdout",
     "output_type": "stream",
     "text": [
      "args is ('three',)\n",
      "kwargs is {'x': 1, 'y': 2}\n"
     ]
    }
   ],
   "source": [
    "va = variable_args\n",
    "va('three', x=1, y=2)"
   ]
  },
  {
   "cell_type": "markdown",
   "id": "d4bf8800",
   "metadata": {},
   "source": [
    "## Methods\n",
    "\n",
    "Methods are functions attached to objects. You've seen these in our examples on\n",
    "_lists_, _dictionaries_, _strings_, etc..."
   ]
  },
  {
   "cell_type": "markdown",
   "id": "08afb8e2",
   "metadata": {},
   "source": [
    "## Exercises\n",
    "\n",
    "::: {exercise-start}\n",
    ":label: fibonacci-ex\n",
    ":class: dropdown\n",
    ":::\n",
    "\n",
    "Write a function that displays the `n` first terms of the Fibonacci\n",
    "sequence, defined by:\n",
    "\n",
    "$$\n",
    "\\begin{align}\n",
    "U_{0} &= 0 \\\\\n",
    "U_{1} &= 1 \\\\\n",
    "U_{n+2} &= U_{n+1} + U_{n}\n",
    "\\end{align}\n",
    "$$\n",
    "\n",
    "::: {exercise-end}\n",
    ":::\n",
    "\n",
    "::: {solution-start} fibonacci-ex\n",
    ":class: dropdown\n",
    ":::"
   ]
  },
  {
   "cell_type": "code",
   "execution_count": 45,
   "id": "39212938",
   "metadata": {},
   "outputs": [],
   "source": [
    "def fib(n):\n",
    "    \"\"\"Display the n first terms of Fibonacci sequence\"\"\"\n",
    "    a, b = 0, 1\n",
    "    i = 0\n",
    "    while i < n:\n",
    "        print(b)\n",
    "        a, b = b, a+b\n",
    "        i +=1"
   ]
  },
  {
   "cell_type": "code",
   "execution_count": 46,
   "id": "193da195",
   "metadata": {},
   "outputs": [
    {
     "name": "stdout",
     "output_type": "stream",
     "text": [
      "1\n",
      "1\n",
      "2\n",
      "3\n",
      "5\n",
      "8\n",
      "13\n",
      "21\n",
      "34\n",
      "55\n"
     ]
    }
   ],
   "source": [
    "fib(10)"
   ]
  },
  {
   "cell_type": "markdown",
   "id": "de1a2906",
   "metadata": {},
   "source": [
    "::: {solution-end}\n",
    ":::\n",
    "\n",
    "::: {exercise-start}\n",
    ":label: quicksort-ex\n",
    ":class: dropdown\n",
    ":::\n",
    "\n",
    "Implement the [Quicksort algorithm, as defined by\n",
    "Wikipedia](https://en.wikipedia.org/wiki/Quicksort)\n",
    "\n",
    "```\n",
    "function quicksort(array)\n",
    "    var list less, greater\n",
    "    if length(array) < 2\n",
    "        return array\n",
    "    select and remove a pivot value pivot from array\n",
    "    for each x in array\n",
    "        if x < pivot + 1 then append x to less\n",
    "        else append x to greater\n",
    "    return concatenate(quicksort(less), pivot, quicksort(greater))\n",
    "```\n",
    "\n",
    "::: {exercise-end}\n",
    ":::\n",
    "\n",
    "::: {solution-start} quicksort-ex\n",
    ":class: dropdown\n",
    ":::"
   ]
  },
  {
   "cell_type": "code",
   "execution_count": 47,
   "id": "298bdf49",
   "metadata": {},
   "outputs": [],
   "source": [
    "def qsort(lst):\n",
    "    \"\"\"Quick sort: returns a sorted copy of the list.\"\"\"\n",
    "    if len(lst) <= 1:\n",
    "        return lst\n",
    "    pivot, rest = lst[0], lst[1:]\n",
    "\n",
    "    # Could use list comprehension:\n",
    "    # less_than      = [ lt for lt in rest if lt < pivot ]\n",
    "\n",
    "    less_than = []\n",
    "    for lt in rest:\n",
    "        if lt < pivot:\n",
    "            less_than.append(lt)\n",
    "\n",
    "    # Could use list comprehension:\n",
    "    # greater_equal  = [ ge for ge in rest if ge >= pivot ]\n",
    "\n",
    "    greater_equal = []\n",
    "    for ge in rest:\n",
    "        if ge >= pivot:\n",
    "            greater_equal.append(ge)\n",
    "    return qsort(less_than) + [pivot] + qsort(greater_equal)"
   ]
  },
  {
   "cell_type": "code",
   "execution_count": 48,
   "id": "0c1bc6e6",
   "metadata": {},
   "outputs": [],
   "source": [
    "# And now check that qsort does sort:\n",
    "assert qsort(range(10)) == list(range(10))\n",
    "assert qsort(range(10)[::-1]) == list(range(10))\n",
    "assert qsort([1, 4, 2, 5, 3]) == sorted([1, 4, 2, 5, 3])"
   ]
  },
  {
   "cell_type": "markdown",
   "id": "d419a5d1",
   "metadata": {},
   "source": [
    "::: {solution-end}\n",
    ":::"
   ]
  }
 ],
 "metadata": {
  "jupytext": {
   "text_representation": {
    "extension": ".md",
    "format_name": "myst",
    "format_version": 0.13,
    "jupytext_version": "1.18.0-dev"
   }
  },
  "kernelspec": {
   "display_name": "Python 3 (ipykernel)",
   "language": "python",
   "name": "python3"
  },
  "language_info": {
   "codemirror_mode": {
    "name": "ipython",
    "version": 3
   },
   "file_extension": ".py",
   "mimetype": "text/x-python",
   "name": "python",
   "nbconvert_exporter": "python",
   "pygments_lexer": "ipython3",
   "version": "3.12.2"
  }
 },
 "nbformat": 4,
 "nbformat_minor": 5
}