{
 "cells": [
  {
   "cell_type": "markdown",
   "id": "64429c78",
   "metadata": {},
   "source": [
    "# Standard Library\n",
    "\n",
    ":::{note}\n",
    "Reference document for this section:\n",
    "\n",
    "- The Python Standard Library documentation:\n",
    "  <https://docs.python.org/3/library/index.html>\n",
    "- Python Essential Reference, David Beazley, Addison-Wesley Professional\n",
    "  :::\n",
    "\n",
    "## `os` module: operating system functionality\n",
    "\n",
    "_\"A portable way of using operating system dependent functionality.\"_\n",
    "\n",
    "### Directory and file manipulation\n",
    "\n",
    "Current directory:"
   ]
  },
  {
   "cell_type": "code",
   "execution_count": 1,
   "id": "c7034311",
   "metadata": {},
   "outputs": [
    {
     "data": {
      "text/plain": [
       "'/Users/mb312/dev_trees/scientific-python-lectures/intro/language'"
      ]
     },
     "execution_count": 1,
     "metadata": {},
     "output_type": "execute_result"
    }
   ],
   "source": [
    "import os\n",
    "os.getcwd()"
   ]
  },
  {
   "cell_type": "markdown",
   "id": "2c3ec491",
   "metadata": {},
   "source": [
    "List a directory:"
   ]
  },
  {
   "cell_type": "code",
   "execution_count": 2,
   "id": "ff969bd0",
   "metadata": {},
   "outputs": [
    {
     "data": {
      "text/plain": [
       "['oop.md',\n",
       " 'exceptions.md',\n",
       " 'basic_types.md',\n",
       " 'standard_library.md',\n",
       " 'junk.txt',\n",
       " 'python-logo.png',\n",
       " 'demo2.py',\n",
       " 'solutions',\n",
       " 'workfile',\n",
       " '__pycache__',\n",
       " 'test.py',\n",
       " 'first_steps.md',\n",
       " 'test.pkl',\n",
       " 'functions.md',\n",
       " 'my_file.py',\n",
       " 'control_flow.md',\n",
       " 'demo.py',\n",
       " 'python_language.md',\n",
       " 'data.txt',\n",
       " 'io.md',\n",
       " 'reusing_code.md']"
      ]
     },
     "execution_count": 2,
     "metadata": {},
     "output_type": "execute_result"
    }
   ],
   "source": [
    "os.listdir(os.curdir)"
   ]
  },
  {
   "cell_type": "markdown",
   "id": "da916d3d",
   "metadata": {},
   "source": [
    "Make a directory:"
   ]
  },
  {
   "cell_type": "code",
   "execution_count": 3,
   "id": "477b2625",
   "metadata": {},
   "outputs": [
    {
     "data": {
      "text/plain": [
       "True"
      ]
     },
     "execution_count": 3,
     "metadata": {},
     "output_type": "execute_result"
    }
   ],
   "source": [
    "os.mkdir('junkdir')\n",
    "'junkdir' in os.listdir(os.curdir)"
   ]
  },
  {
   "cell_type": "markdown",
   "id": "06e18c61",
   "metadata": {},
   "source": [
    "Rename the directory:"
   ]
  },
  {
   "cell_type": "code",
   "execution_count": 4,
   "id": "1f9f703b",
   "metadata": {},
   "outputs": [
    {
     "data": {
      "text/plain": [
       "False"
      ]
     },
     "execution_count": 4,
     "metadata": {},
     "output_type": "execute_result"
    }
   ],
   "source": [
    "os.rename('junkdir', 'foodir')\n",
    "'junkdir' in os.listdir(os.curdir)"
   ]
  },
  {
   "cell_type": "code",
   "execution_count": 5,
   "id": "fc30e019",
   "metadata": {},
   "outputs": [
    {
     "data": {
      "text/plain": [
       "True"
      ]
     },
     "execution_count": 5,
     "metadata": {},
     "output_type": "execute_result"
    }
   ],
   "source": [
    "'foodir' in os.listdir(os.curdir)"
   ]
  },
  {
   "cell_type": "code",
   "execution_count": 6,
   "id": "14555151",
   "metadata": {},
   "outputs": [
    {
     "data": {
      "text/plain": [
       "False"
      ]
     },
     "execution_count": 6,
     "metadata": {},
     "output_type": "execute_result"
    }
   ],
   "source": [
    "os.rmdir('foodir')\n",
    "'foodir' in os.listdir(os.curdir)"
   ]
  },
  {
   "cell_type": "markdown",
   "id": "9fb47eb4",
   "metadata": {},
   "source": [
    "Delete a file:"
   ]
  },
  {
   "cell_type": "code",
   "execution_count": 7,
   "id": "2f921d1d",
   "metadata": {},
   "outputs": [
    {
     "data": {
      "text/plain": [
       "True"
      ]
     },
     "execution_count": 7,
     "metadata": {},
     "output_type": "execute_result"
    }
   ],
   "source": [
    "fp = open('junk.txt', 'w')\n",
    "fp.close()\n",
    "'junk.txt' in os.listdir(os.curdir)"
   ]
  },
  {
   "cell_type": "code",
   "execution_count": 8,
   "id": "9127ddb0",
   "metadata": {},
   "outputs": [
    {
     "data": {
      "text/plain": [
       "False"
      ]
     },
     "execution_count": 8,
     "metadata": {},
     "output_type": "execute_result"
    }
   ],
   "source": [
    "os.remove('junk.txt')\n",
    "'junk.txt' in os.listdir(os.curdir)"
   ]
  },
  {
   "cell_type": "markdown",
   "id": "a84ea90b",
   "metadata": {},
   "source": [
    "### `os.path`: path manipulations\n",
    "\n",
    "`os.path` provides common operations on pathnames."
   ]
  },
  {
   "cell_type": "code",
   "execution_count": 9,
   "id": "be236559",
   "metadata": {},
   "outputs": [
    {
     "data": {
      "text/plain": [
       "'/Users/mb312/dev_trees/scientific-python-lectures/intro/language/junk.txt'"
      ]
     },
     "execution_count": 9,
     "metadata": {},
     "output_type": "execute_result"
    }
   ],
   "source": [
    "fp = open('junk.txt', 'w')\n",
    "fp.close()\n",
    "a = os.path.abspath('junk.txt')\n",
    "a"
   ]
  },
  {
   "cell_type": "code",
   "execution_count": 10,
   "id": "84d7d340",
   "metadata": {},
   "outputs": [
    {
     "data": {
      "text/plain": [
       "('/Users/mb312/dev_trees/scientific-python-lectures/intro/language',\n",
       " 'junk.txt')"
      ]
     },
     "execution_count": 10,
     "metadata": {},
     "output_type": "execute_result"
    }
   ],
   "source": [
    "os.path.split(a)"
   ]
  },
  {
   "cell_type": "code",
   "execution_count": 11,
   "id": "0c6da14b",
   "metadata": {},
   "outputs": [
    {
     "data": {
      "text/plain": [
       "'/Users/mb312/dev_trees/scientific-python-lectures/intro/language'"
      ]
     },
     "execution_count": 11,
     "metadata": {},
     "output_type": "execute_result"
    }
   ],
   "source": [
    "os.path.dirname(a)"
   ]
  },
  {
   "cell_type": "code",
   "execution_count": 12,
   "id": "7586d576",
   "metadata": {},
   "outputs": [
    {
     "data": {
      "text/plain": [
       "'junk.txt'"
      ]
     },
     "execution_count": 12,
     "metadata": {},
     "output_type": "execute_result"
    }
   ],
   "source": [
    "os.path.basename(a)"
   ]
  },
  {
   "cell_type": "code",
   "execution_count": 13,
   "id": "d8a0ff54",
   "metadata": {},
   "outputs": [
    {
     "data": {
      "text/plain": [
       "('junk', '.txt')"
      ]
     },
     "execution_count": 13,
     "metadata": {},
     "output_type": "execute_result"
    }
   ],
   "source": [
    "os.path.splitext(os.path.basename(a))"
   ]
  },
  {
   "cell_type": "code",
   "execution_count": 14,
   "id": "bcbf15e8",
   "metadata": {},
   "outputs": [
    {
     "data": {
      "text/plain": [
       "True"
      ]
     },
     "execution_count": 14,
     "metadata": {},
     "output_type": "execute_result"
    }
   ],
   "source": [
    "os.path.exists('junk.txt')"
   ]
  },
  {
   "cell_type": "code",
   "execution_count": 15,
   "id": "caa184ba",
   "metadata": {},
   "outputs": [
    {
     "data": {
      "text/plain": [
       "True"
      ]
     },
     "execution_count": 15,
     "metadata": {},
     "output_type": "execute_result"
    }
   ],
   "source": [
    "os.path.isfile('junk.txt')"
   ]
  },
  {
   "cell_type": "code",
   "execution_count": 16,
   "id": "d5429064",
   "metadata": {},
   "outputs": [
    {
     "data": {
      "text/plain": [
       "False"
      ]
     },
     "execution_count": 16,
     "metadata": {},
     "output_type": "execute_result"
    }
   ],
   "source": [
    "os.path.isdir('junk.txt')"
   ]
  },
  {
   "cell_type": "code",
   "execution_count": 17,
   "id": "557b9c0e",
   "metadata": {},
   "outputs": [
    {
     "data": {
      "text/plain": [
       "'/Users/mb312/local'"
      ]
     },
     "execution_count": 17,
     "metadata": {},
     "output_type": "execute_result"
    }
   ],
   "source": [
    "os.path.expanduser('~/local')"
   ]
  },
  {
   "cell_type": "code",
   "execution_count": 18,
   "id": "bd32f808",
   "metadata": {},
   "outputs": [
    {
     "data": {
      "text/plain": [
       "'/Users/mb312/local/bin'"
      ]
     },
     "execution_count": 18,
     "metadata": {},
     "output_type": "execute_result"
    }
   ],
   "source": [
    "os.path.join(os.path.expanduser('~'), 'local', 'bin')"
   ]
  },
  {
   "cell_type": "markdown",
   "id": "357a522f",
   "metadata": {},
   "source": [
    "### Running an external command"
   ]
  },
  {
   "cell_type": "code",
   "execution_count": 19,
   "id": "2e21c8ce",
   "metadata": {},
   "outputs": [
    {
     "name": "stdout",
     "output_type": "stream",
     "text": [
      "\u001b[34m__pycache__\u001b[m\u001b[m\n",
      "basic_types.md\n",
      "control_flow.md\n",
      "data.txt\n",
      "demo.py\n",
      "demo2.py\n",
      "exceptions.md\n",
      "first_steps.md\n",
      "functions.md\n",
      "io.md\n",
      "junk.txt\n",
      "my_file.py\n",
      "oop.md\n",
      "python_language.md\n",
      "python-logo.png\n",
      "reusing_code.md\n",
      "\u001b[34msolutions\u001b[m\u001b[m\n",
      "standard_library.md\n",
      "test.pkl\n",
      "test.py\n",
      "workfile\n"
     ]
    }
   ],
   "source": [
    "return_code = os.system('ls')"
   ]
  },
  {
   "cell_type": "markdown",
   "id": "a892bb70",
   "metadata": {},
   "source": [
    ":::{note}\n",
    "Alternative to `os.system`\n",
    "\n",
    "A noteworthy alternative to `os.system` is the [sh\n",
    "module](https://amoffat.github.com/sh/). Which provides much more convenient\n",
    "ways to obtain the output, error stream and exit code of the external command.\n",
    "\n",
    "```python\n",
    "import sh\n",
    "com = sh.ls()\n",
    "\n",
    "print(com)\n",
    "basic_types.md    exceptions.md   oop.md               standard_library.md\n",
    "control_flow.md   first_steps.md  python_language.md\n",
    "demo2.py          functions.md    python-logo.png\n",
    "demo.py           io.md           reusing_code.md\n",
    "\n",
    "type(com)\n",
    "Out[33]: str\n",
    "```\n",
    "\n",
    ":::\n",
    "\n",
    "### Walking a directory\n",
    "\n",
    "`os.path.walk` generates a list of filenames in a directory tree."
   ]
  },
  {
   "cell_type": "code",
   "execution_count": 20,
   "id": "5f0b18fd",
   "metadata": {},
   "outputs": [
    {
     "name": "stdout",
     "output_type": "stream",
     "text": [
      "/Users/mb312/dev_trees/scientific-python-lectures/intro/language/oop.md\n",
      "/Users/mb312/dev_trees/scientific-python-lectures/intro/language/exceptions.md\n",
      "/Users/mb312/dev_trees/scientific-python-lectures/intro/language/basic_types.md\n",
      "/Users/mb312/dev_trees/scientific-python-lectures/intro/language/standard_library.md\n",
      "/Users/mb312/dev_trees/scientific-python-lectures/intro/language/junk.txt\n",
      "/Users/mb312/dev_trees/scientific-python-lectures/intro/language/python-logo.png\n",
      "/Users/mb312/dev_trees/scientific-python-lectures/intro/language/demo2.py\n",
      "/Users/mb312/dev_trees/scientific-python-lectures/intro/language/workfile\n",
      "/Users/mb312/dev_trees/scientific-python-lectures/intro/language/test.py\n",
      "/Users/mb312/dev_trees/scientific-python-lectures/intro/language/first_steps.md\n",
      "/Users/mb312/dev_trees/scientific-python-lectures/intro/language/test.pkl\n",
      "/Users/mb312/dev_trees/scientific-python-lectures/intro/language/functions.md\n",
      "/Users/mb312/dev_trees/scientific-python-lectures/intro/language/my_file.py\n",
      "/Users/mb312/dev_trees/scientific-python-lectures/intro/language/control_flow.md\n",
      "/Users/mb312/dev_trees/scientific-python-lectures/intro/language/demo.py\n",
      "/Users/mb312/dev_trees/scientific-python-lectures/intro/language/python_language.md\n",
      "/Users/mb312/dev_trees/scientific-python-lectures/intro/language/data.txt\n",
      "/Users/mb312/dev_trees/scientific-python-lectures/intro/language/io.md\n",
      "/Users/mb312/dev_trees/scientific-python-lectures/intro/language/reusing_code.md\n",
      "/Users/mb312/dev_trees/scientific-python-lectures/intro/language/test_dir_sort.py\n",
      "/Users/mb312/dev_trees/scientific-python-lectures/intro/language/dir_sort.py\n",
      "/Users/mb312/dev_trees/scientific-python-lectures/intro/language/path_site.py\n",
      "/Users/mb312/dev_trees/scientific-python-lectures/intro/language/test_dir_sort.cpython-312-pytest-8.4.1.pyc\n",
      "/Users/mb312/dev_trees/scientific-python-lectures/intro/language/dir_sort.cpython-312.pyc\n",
      "/Users/mb312/dev_trees/scientific-python-lectures/intro/language/demo2.cpython-312.pyc\n",
      "/Users/mb312/dev_trees/scientific-python-lectures/intro/language/demo.cpython-312.pyc\n"
     ]
    }
   ],
   "source": [
    "for dirpath, dirnames, filenames in os.walk(os.curdir):\n",
    "    for fp in filenames:\n",
    "        print(os.path.abspath(fp))"
   ]
  },
  {
   "cell_type": "markdown",
   "id": "4bd3ae28",
   "metadata": {},
   "source": [
    "### Environment variables:\n",
    "\n",
    "```ipython\n",
    "In [2]: os.environ.keys()\n",
    "Out[2]: KeysView(environ({'SHELL': '/bin/bash', 'PWD': '/home/mb312', 'LOGNAME': 'mb312', 'HOME': '/home/mb312', 'TERM': 'xterm', 'USER': 'mb312', 'SHLVL': '1', 'PATH': '/usr/local/sbin:/usr/local/bin:/usr/sbin:/usr/bin:/sbin:/bin:/usr/games:/usr/local/games:/snap/bin', 'MAIL': '/var/mail/mb312', '_': '/usr/bin/python3', 'LC_CTYPE': 'C.UTF-8'}))\n",
    "\n",
    "In [3]: os.environ['SHELL']\n",
    "Out[3]: '/bin/bash'\n",
    "```"
   ]
  },
  {
   "cell_type": "markdown",
   "id": "d1f21495",
   "metadata": {},
   "source": [
    "## `shutil`: high-level file operations\n",
    "\n",
    "The `shutil` provides useful file operations:\n",
    "\n",
    "- `shutil.rmtree`: Recursively delete a directory tree.\n",
    "- `shutil.move`: Recursively move a file or directory to another location.\n",
    "- `shutil.copy`: Copy files or directories.\n",
    "\n",
    "## `glob`: Pattern matching on files\n",
    "\n",
    "The `glob` module provides convenient file pattern matching.\n",
    "\n",
    "Find all files ending in `.txt`:"
   ]
  },
  {
   "cell_type": "code",
   "execution_count": 21,
   "id": "dd6af4bf",
   "metadata": {},
   "outputs": [
    {
     "data": {
      "text/plain": [
       "['junk.txt', 'data.txt']"
      ]
     },
     "execution_count": 21,
     "metadata": {},
     "output_type": "execute_result"
    }
   ],
   "source": [
    "import glob\n",
    "glob.glob('*.txt')"
   ]
  },
  {
   "cell_type": "markdown",
   "id": "e7122ae8",
   "metadata": {},
   "source": [
    "## `sys` module: system-specific information\n",
    "\n",
    "System-specific information related to the Python interpreter.\n",
    "\n",
    "**Which version of Python** are you running and where is it installed:"
   ]
  },
  {
   "cell_type": "code",
   "execution_count": 22,
   "id": "7dfbdb4f",
   "metadata": {},
   "outputs": [
    {
     "data": {
      "text/plain": [
       "'darwin'"
      ]
     },
     "execution_count": 22,
     "metadata": {},
     "output_type": "execute_result"
    }
   ],
   "source": [
    "import sys\n",
    "sys.platform"
   ]
  },
  {
   "cell_type": "code",
   "execution_count": 23,
   "id": "5b4a604e",
   "metadata": {},
   "outputs": [
    {
     "data": {
      "text/plain": [
       "'3.12.7 (main, Oct 23 2024, 01:35:04) [Clang 15.0.0 (clang-1500.0.40.1)]'"
      ]
     },
     "execution_count": 23,
     "metadata": {},
     "output_type": "execute_result"
    }
   ],
   "source": [
    "sys.version"
   ]
  },
  {
   "cell_type": "code",
   "execution_count": 24,
   "id": "72dc1f46",
   "metadata": {},
   "outputs": [
    {
     "data": {
      "text/plain": [
       "'/Users/mb312/.virtualenvs/sp-lectures'"
      ]
     },
     "execution_count": 24,
     "metadata": {},
     "output_type": "execute_result"
    }
   ],
   "source": [
    "sys.prefix"
   ]
  },
  {
   "cell_type": "markdown",
   "id": "ff1dceb1",
   "metadata": {},
   "source": [
    "`sys.argv` gives you a **list of command line arguments** passed to a Python\n",
    "script. It is useful when you call as script with e.g. `python my_script.py some arguments`. Inside the `my_arguments.py` script, you can get the passed arguments (here ['some', 'arguments']) with `sys.argv`.\n",
    "\n",
    "`sys.path` is a list of strings that specifies the search path for\n",
    "modules. Initialized from `PYTHONPATH`:"
   ]
  },
  {
   "cell_type": "code",
   "execution_count": 25,
   "id": "70381f7d",
   "metadata": {},
   "outputs": [
    {
     "data": {
      "text/plain": [
       "['/Users/mb312/.pyenv/versions/3.12.7/lib/python312.zip',\n",
       " '/Users/mb312/.pyenv/versions/3.12.7/lib/python3.12',\n",
       " '/Users/mb312/.pyenv/versions/3.12.7/lib/python3.12/lib-dynload',\n",
       " '',\n",
       " '/Users/mb312/.virtualenvs/sp-lectures/lib/python3.12/site-packages']"
      ]
     },
     "execution_count": 25,
     "metadata": {},
     "output_type": "execute_result"
    }
   ],
   "source": [
    "sys.path"
   ]
  },
  {
   "cell_type": "markdown",
   "id": "f395f21a",
   "metadata": {},
   "source": [
    "## `pickle`: easy persistence\n",
    "\n",
    "Useful to store arbitrary objects to a file. Not safe or fast!"
   ]
  },
  {
   "cell_type": "code",
   "execution_count": 26,
   "id": "4f5a2888",
   "metadata": {},
   "outputs": [],
   "source": [
    "import pickle\n",
    "l = [1, None, 'Stan']\n",
    "with open('test.pkl', 'wb') as file:\n",
    "    pickle.dump(l, file)"
   ]
  },
  {
   "cell_type": "code",
   "execution_count": 27,
   "id": "62aa2b49",
   "metadata": {},
   "outputs": [],
   "source": [
    "with open('test.pkl', 'rb') as file:\n",
    "    out = pickle.load(file)"
   ]
  },
  {
   "cell_type": "code",
   "execution_count": 28,
   "id": "e9242ac2",
   "metadata": {},
   "outputs": [
    {
     "data": {
      "text/plain": [
       "[1, None, 'Stan']"
      ]
     },
     "execution_count": 28,
     "metadata": {},
     "output_type": "execute_result"
    }
   ],
   "source": [
    "out"
   ]
  },
  {
   "cell_type": "markdown",
   "id": "dbcf60f0",
   "metadata": {},
   "source": [
    "## Exercises\n",
    "\n",
    "::: {exercise-start}\n",
    ":label: data-file-ex\n",
    ":class: dropdown\n",
    ":::\n",
    "\n",
    "Write a function that will load the column of numbers in `data.txt` and\n",
    "calculate the min, max and sum values. Use no modules except those in the\n",
    "standard library; specifically, do not use Numpy.\n",
    "\n",
    "{download}`data.txt`:\n",
    "\n",
    "::: {literalinclude} data.txt\n",
    "\n",
    ":::\n",
    "\n",
    "::: {exercise-end}\n",
    ":::\n",
    "\n",
    "::: {solution-start} data-file-ex\n",
    ":class: dropdown\n",
    ":::"
   ]
  },
  {
   "cell_type": "code",
   "execution_count": 29,
   "id": "251ff77b",
   "metadata": {},
   "outputs": [],
   "source": [
    "def load_data(filename):\n",
    "    fp = open(filename)\n",
    "    data_string = fp.read()\n",
    "    fp.close()\n",
    "\n",
    "    data = []\n",
    "    for x in data_string.split():\n",
    "        # Data is read in as a string. We need to convert it to floats\n",
    "        data.append(float(x))\n",
    "\n",
    "    # Could instead use the following one line with list comprehensions!\n",
    "    # data = [float(x) for x in data_string.split()]\n",
    "    return data"
   ]
  },
  {
   "cell_type": "code",
   "execution_count": 30,
   "id": "ad48b413",
   "metadata": {},
   "outputs": [
    {
     "name": "stdout",
     "output_type": "stream",
     "text": [
      "min: 10.200000\n",
      "max: 61.300000\n",
      "sum: 237.900000\n"
     ]
    }
   ],
   "source": [
    "data = load_data(\"data.txt\")\n",
    "# Python provides these basic math functions.\n",
    "print(f\"min: {min(data):f}\")\n",
    "print(f\"max: {max(data):f}\")\n",
    "print(f\"sum: {sum(data):f}\")"
   ]
  },
  {
   "cell_type": "markdown",
   "id": "65e27b79",
   "metadata": {},
   "source": [
    "::: {solution-end}\n",
    ":::\n",
    "\n",
    "::: {exercise-start}\n",
    ":label: dir-sort-ex\n",
    ":class: dropdown\n",
    ":::\n",
    "\n",
    "Implement a _script_ that takes a directory name as argument, and\n",
    "returns the list of '.py' files, sorted by name length.\n",
    "\n",
    "**Hint:** try to understand the docstring of list.sort\n",
    "\n",
    "::: {exercise-end}\n",
    ":::\n",
    "\n",
    "::: {solution-start} dir-sort-ex\n",
    ":class: dropdown\n",
    ":::\n",
    "\n",
    "::: {literalinclude} solutions/dir_sort.py\n",
    "\n",
    ":::\n",
    "\n",
    "::: {solution-end}\n",
    ":::"
   ]
  },
  {
   "cell_type": "markdown",
   "id": "6f8f9610",
   "metadata": {},
   "source": [
    "::: {exercise-start}\n",
    ":label: path-site-ex\n",
    ":class: dropdown\n",
    ":::\n",
    "\n",
    "Write a program to search your `PYTHONPATH` for the module `site.py`.\n",
    "\n",
    "::: {exercise-end}\n",
    ":::\n",
    "\n",
    "::: {solution-start} path-site-ex\n",
    ":class: dropdown\n",
    ":::\n",
    "\n",
    "::: {literalinclude} solutions/path_site.py\n",
    "\n",
    ":::\n",
    "\n",
    "::: {solution-end}\n",
    ":::"
   ]
  }
 ],
 "metadata": {
  "jupytext": {
   "text_representation": {
    "extension": ".md",
    "format_name": "myst",
    "format_version": 0.13,
    "jupytext_version": "1.18.0-dev"
   }
  },
  "kernelspec": {
   "display_name": "Python 3 (ipykernel)",
   "language": "python",
   "name": "python3"
  },
  "language_info": {
   "codemirror_mode": {
    "name": "ipython",
    "version": 3
   },
   "file_extension": ".py",
   "mimetype": "text/x-python",
   "name": "python",
   "nbconvert_exporter": "python",
   "pygments_lexer": "ipython3",
   "version": "3.12.7"
  }
 },
 "nbformat": 4,
 "nbformat_minor": 5
}