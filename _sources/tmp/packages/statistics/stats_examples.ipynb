{
 "cells": [
  {
   "cell_type": "markdown",
   "id": "5dfac77f",
   "metadata": {},
   "source": [
    "# Examples for packages/statistics/index.md\n",
    "\n",
    "(plotting-simple-quantities-of-a-pandas-dataframe)="
   ]
  },
  {
   "cell_type": "code",
   "execution_count": null,
   "id": "45526c4a",
   "metadata": {},
   "outputs": [],
   "source": [
    "import numpy as np\n",
    "import matplotlib.pyplot as plt\n",
    "\n",
    "# For loading data as data frames.\n",
    "import pandas as pd"
   ]
  },
  {
   "cell_type": "markdown",
   "id": "cf75e144",
   "metadata": {},
   "source": [
    "## Plotting simple quantities of a pandas dataframe\n",
    "\n",
    "<!--- plot_pandas -->"
   ]
  },
  {
   "cell_type": "markdown",
   "id": "a8bac5c0",
   "metadata": {},
   "source": [
    "This example loads from a CSV file data with mixed numerical and\n",
    "categorical entries, and plots a few quantities, separately for females\n",
    "and males, thanks to the pandas integrated plotting tool (that uses\n",
    "matplotlib behind the scene).\n",
    "\n",
    "See http://pandas.pydata.org/pandas-docs/stable/visualization.html"
   ]
  },
  {
   "cell_type": "code",
   "execution_count": null,
   "id": "80cc3632",
   "metadata": {},
   "outputs": [],
   "source": [
    "data = pd.read_csv(\"examples/brain_size.csv\", sep=\";\", na_values=\".\")\n",
    "\n",
    "# Box plots of different columns for each sex\n",
    "groupby_sex = data.groupby(\"Gender\")\n",
    "groupby_sex.boxplot(column=[\"FSIQ\", \"VIQ\", \"PIQ\"])\n",
    "\n",
    "# Scatter matrices for different columns\n",
    "pd.plotting.scatter_matrix(data[[\"Weight\", \"Height\", \"MRI_Count\"]])\n",
    "pd.plotting.scatter_matrix(data[[\"PIQ\", \"VIQ\", \"FSIQ\"]]);"
   ]
  },
  {
   "cell_type": "markdown",
   "id": "c984ecaa",
   "metadata": {},
   "source": [
    "## Boxplots and paired differences\n",
    "\n",
    "<!--- plot_paired_boxplots -->"
   ]
  },
  {
   "cell_type": "markdown",
   "id": "ccdb2699",
   "metadata": {},
   "source": [
    "Plot boxplots for FSIQ, PIQ, and the paired difference between the two:\n",
    "while the spread (error bars) for FSIQ and PIQ are very large, there is a\n",
    "systematic (common) effect due to the subjects. This effect is cancelled\n",
    "out in the difference and the spread of the difference (\"paired\" by\n",
    "subject) is much smaller than the spread of the individual measures."
   ]
  },
  {
   "cell_type": "code",
   "execution_count": null,
   "id": "de6efe70",
   "metadata": {},
   "outputs": [],
   "source": [
    "data = pd.read_csv(\"examples/brain_size.csv\", sep=\";\", na_values=\".\")\n",
    "# Box plot of FSIQ and PIQ (different measures od IQ)\n",
    "plt.figure(figsize=(4, 3))\n",
    "data.boxplot(column=[\"FSIQ\", \"PIQ\"])\n",
    "# Boxplot of the difference\n",
    "plt.figure(figsize=(4, 3))\n",
    "plt.boxplot(data[\"FSIQ\"] - data[\"PIQ\"])\n",
    "plt.xticks((1,), (\"FSIQ - PIQ\",))"
   ]
  },
  {
   "cell_type": "markdown",
   "id": "212d0eb3",
   "metadata": {},
   "source": [
    "## Simple Regression\n",
    "\n",
    "<!--- plot_regression -->"
   ]
  },
  {
   "cell_type": "markdown",
   "id": "2e92600c",
   "metadata": {},
   "source": [
    "Fit a simple linear regression using 'statsmodels', compute corresponding\n",
    "p-values."
   ]
  },
  {
   "cell_type": "markdown",
   "id": "a4dc1d74",
   "metadata": {},
   "source": [
    "**Original author: Thomas Haslwanter**"
   ]
  },
  {
   "cell_type": "code",
   "execution_count": null,
   "id": "a660ce23",
   "metadata": {},
   "outputs": [],
   "source": [
    "# For statistics.\n",
    "# Import the formula interface to Statsmodels.\n",
    "import statsmodels.formula.api as smf\n",
    "\n",
    "# Analysis of Variance (ANOVA) on linear models\n",
    "from statsmodels.stats.anova import anova_lm\n",
    "\n",
    "# Generate and show the data\n",
    "x = np.linspace(-5, 5, 20)\n",
    "\n",
    "# To get reproducible values, provide a seed value\n",
    "rng = np.random.default_rng(27446968)\n",
    "\n",
    "y = -5 + 3 * x + 4 * rng.normal(size=x.shape)\n",
    "\n",
    "# Plot the data\n",
    "plt.figure(figsize=(5, 4))\n",
    "plt.plot(x, y, \"o\");"
   ]
  },
  {
   "cell_type": "markdown",
   "id": "fc45bbdb",
   "metadata": {},
   "source": [
    "Multilinear regression model, calculating fit, P-values, confidence\n",
    "intervals etc."
   ]
  },
  {
   "cell_type": "code",
   "execution_count": null,
   "id": "358e6c57",
   "metadata": {},
   "outputs": [],
   "source": [
    "# Convert the data into a Pandas DataFrame to use the formulas framework\n",
    "# in statsmodels\n",
    "data = pd.DataFrame({\"x\": x, \"y\": y})"
   ]
  },
  {
   "cell_type": "code",
   "execution_count": null,
   "id": "4cc8e816",
   "metadata": {},
   "outputs": [],
   "source": [
    "# Fit the model\n",
    "model = smf.ols(\"y ~ x\", data).fit()"
   ]
  },
  {
   "cell_type": "code",
   "execution_count": null,
   "id": "cf9f4394",
   "metadata": {},
   "outputs": [],
   "source": [
    "# Show the summary\n",
    "model.summary()"
   ]
  },
  {
   "cell_type": "code",
   "execution_count": null,
   "id": "2e1f9de5",
   "metadata": {},
   "outputs": [],
   "source": [
    "# Perform analysis of variance on fitted linear model\n",
    "anova_results = anova_lm(model)\n",
    "anova_results"
   ]
  },
  {
   "cell_type": "markdown",
   "id": "d172e55a",
   "metadata": {},
   "source": [
    "Plot the fitted model"
   ]
  },
  {
   "cell_type": "code",
   "execution_count": null,
   "id": "2ca9c9e4",
   "metadata": {},
   "outputs": [],
   "source": [
    "# Retrieve the parameter estimates\n",
    "offset, coef = model._results.params\n",
    "plt.plot(x, x * coef + offset)\n",
    "plt.xlabel(\"x\")\n",
    "plt.ylabel(\"y\");"
   ]
  },
  {
   "cell_type": "markdown",
   "id": "d0a875f6",
   "metadata": {},
   "source": [
    "## Multiple Regression\n",
    "\n",
    "<!--- plot_regression_3d -->"
   ]
  },
  {
   "cell_type": "markdown",
   "id": "b71f8cfc",
   "metadata": {},
   "source": [
    "Calculate using 'statsmodels' just the best fit, or all the corresponding\n",
    "statistical parameters.\n",
    "\n",
    "Also shows how to make 3d plots."
   ]
  },
  {
   "cell_type": "markdown",
   "id": "0a3e72d1",
   "metadata": {},
   "source": [
    "Original author: Thomas Haslwanter"
   ]
  },
  {
   "cell_type": "code",
   "execution_count": null,
   "id": "074a8195",
   "metadata": {},
   "outputs": [],
   "source": [
    "# For 3d plots. This import is necessary to have 3D plotting below\n",
    "from mpl_toolkits.mplot3d import Axes3D"
   ]
  },
  {
   "cell_type": "code",
   "execution_count": null,
   "id": "4e2ec4a2",
   "metadata": {},
   "outputs": [],
   "source": [
    "# Generate and show the data\n",
    "x = np.linspace(-5, 5, 21)\n",
    "# We generate a 2D grid\n",
    "X, Y = np.meshgrid(x, x)\n",
    "\n",
    "# To get reproducible values, provide a seed value\n",
    "rng = np.random.default_rng(27446968)\n",
    "\n",
    "# Z is the elevation of this 2D grid\n",
    "Z = -5 + 3 * X - 0.5 * Y + 8 * rng.normal(size=X.shape)\n",
    "\n",
    "# Plot the data\n",
    "ax: Axes3D = plt.figure().add_subplot(projection=\"3d\")\n",
    "surf = ax.plot_surface(X, Y, Z, cmap=\"coolwarm\", rstride=1, cstride=1)\n",
    "ax.view_init(20, -120)\n",
    "ax.set_xlabel(\"X\")\n",
    "ax.set_ylabel(\"Y\")\n",
    "ax.set_zlabel(\"Z\");"
   ]
  },
  {
   "cell_type": "markdown",
   "id": "ac36164b",
   "metadata": {},
   "source": [
    "Multilinear regression model, calculating fit, P-values, confidence\n",
    "intervals etc."
   ]
  },
  {
   "cell_type": "markdown",
   "id": "cbcaa26a",
   "metadata": {},
   "source": [
    "Convert the data into a Pandas DataFrame to use the formulas framework\n",
    "in statsmodels"
   ]
  },
  {
   "cell_type": "code",
   "execution_count": null,
   "id": "ae7cdb36",
   "metadata": {},
   "outputs": [],
   "source": [
    "# First we need to flatten the data: it's 2D layout is not relevant.\n",
    "X = X.flatten()\n",
    "Y = Y.flatten()\n",
    "Z = Z.flatten()"
   ]
  },
  {
   "cell_type": "code",
   "execution_count": null,
   "id": "7ef99f23",
   "metadata": {},
   "outputs": [],
   "source": [
    "data = pd.DataFrame({\"x\": X, \"y\": Y, \"z\": Z})"
   ]
  },
  {
   "cell_type": "code",
   "execution_count": null,
   "id": "254a00cd",
   "metadata": {},
   "outputs": [],
   "source": [
    "# Fit the model\n",
    "model = smf.ols(\"z ~ x + y\", data).fit()\n",
    "# Show the summary\n",
    "model.summary()"
   ]
  },
  {
   "cell_type": "code",
   "execution_count": null,
   "id": "d9be041b",
   "metadata": {},
   "outputs": [],
   "source": [
    "print(\"\\nRetrieving the parameter estimates manually:\")\n",
    "print(model._results.params)"
   ]
  },
  {
   "cell_type": "code",
   "execution_count": null,
   "id": "8f9402f6",
   "metadata": {},
   "outputs": [],
   "source": [
    "# Perform analysis of variance on fitted linear model\n",
    "anova_results = anova_lm(model)\n",
    "anova_results"
   ]
  },
  {
   "cell_type": "markdown",
   "id": "d1ee30fa",
   "metadata": {},
   "source": [
    "## Analysis of Iris petal and sepal sizes\n",
    "\n",
    "<!--- plot_iris_analysis -->"
   ]
  },
  {
   "cell_type": "markdown",
   "id": "bf675a42",
   "metadata": {},
   "source": [
    "Illustrate an analysis on a real dataset:\n",
    "\n",
    "- Visualizing the data to formulate intuitions\n",
    "- Fitting of a linear model\n",
    "- Hypothesis test of the effect of a categorical variable in the presence\n",
    "  of a continuous confound"
   ]
  },
  {
   "cell_type": "code",
   "execution_count": null,
   "id": "679843a9",
   "metadata": {},
   "outputs": [],
   "source": [
    "# Load the data\n",
    "data = pd.read_csv(\"examples/iris.csv\")"
   ]
  },
  {
   "cell_type": "markdown",
   "id": "0fb81483",
   "metadata": {},
   "source": [
    "Plot a scatter matrix"
   ]
  },
  {
   "cell_type": "code",
   "execution_count": null,
   "id": "a563d560",
   "metadata": {},
   "outputs": [],
   "source": [
    "# Express the names as categories\n",
    "categories = pd.Categorical(data[\"name\"])\n",
    "\n",
    "# The parameter 'c' is passed to plt.scatter and will control the color\n",
    "pd.plotting.scatter_matrix(data, c=categories.codes, marker=\"o\")\n",
    "\n",
    "fig = plt.gcf()\n",
    "fig.suptitle(\"blue: setosa, green: versicolor, red: virginica\", size=13)"
   ]
  },
  {
   "cell_type": "markdown",
   "id": "5e169dac",
   "metadata": {},
   "source": [
    "Statistical analysis"
   ]
  },
  {
   "cell_type": "markdown",
   "id": "d07a4f97",
   "metadata": {},
   "source": [
    "Let us try to explain the sepal length as a function of the petal\n",
    "width and the category of iris"
   ]
  },
  {
   "cell_type": "code",
   "execution_count": null,
   "id": "b9aee207",
   "metadata": {},
   "outputs": [],
   "source": [
    "model = smf.ols(\"sepal_width ~ name + petal_length\", data).fit()\n",
    "model.summary()"
   ]
  },
  {
   "cell_type": "markdown",
   "id": "61acb94b",
   "metadata": {},
   "source": [
    "Now formulate a \"contrast\", to test if the offset for versicolor and\n",
    "virginica are identical"
   ]
  },
  {
   "cell_type": "code",
   "execution_count": null,
   "id": "f90d72fc",
   "metadata": {
    "tags": [
     "hide-input"
    ]
   },
   "outputs": [],
   "source": [
    "print(\"Testing the difference between effect of versicolor and virginica\")\n",
    "print(model.f_test([0, 1, -1, 0]))"
   ]
  },
  {
   "cell_type": "markdown",
   "id": "00ef5a0c",
   "metadata": {},
   "source": [
    "## Visualizing factors influencing wages\n",
    "\n",
    "<!--- plot_wage_data -->"
   ]
  },
  {
   "cell_type": "markdown",
   "id": "5e16d4bd",
   "metadata": {},
   "source": [
    "This example uses Seaborn to quickly plot various factors relating wages,\n",
    "experience, and education.\n",
    "\n",
    "Seaborn (https://seaborn.pydata.org) is a library that combines\n",
    "visualization and statistical fits to show trends in data.\n",
    "\n",
    "Note that importing Seaborn changes the matplotlib style to have an\n",
    "\"excel-like\" feeling. This changes affect other matplotlib figures. To\n",
    "restore defaults once this example is run, we would need to call\n",
    "`plt.rcdefaults()`."
   ]
  },
  {
   "cell_type": "code",
   "execution_count": null,
   "id": "a64be203",
   "metadata": {},
   "outputs": [],
   "source": [
    "data = pd.read_csv(\"examples/wages.txt\",\n",
    "    skiprows=27,\n",
    "    skipfooter=6,\n",
    "    sep=None,\n",
    "    header=None,\n",
    "    engine=\"python\"  # To allow use of skipfooter.\n",
    ")\n",
    "# Give names to the columns\n",
    "names = [\n",
    "    \"education: Number of years of education\",\n",
    "    \"south: 1=person lives in South, 0=Person lives elsewhere\",\n",
    "    \"sex: 1=female, 0=Male\",\n",
    "    \"experience: Number of years of work experience\",\n",
    "    \"union: 1=union member, 0=Not union member\",\n",
    "    \"wage: wage (dollars per hour)\",\n",
    "    \"age: years\",\n",
    "    \"race: 1=other, 2=Hispanic, 3=White\",\n",
    "    \"occupation: 1=Management, 2=Sales, 3=Clerical, 4=Service, 5=Professional, 6=Other\",\n",
    "    \"sector: 0=Other, 1=Manufacturing, 2=Construction\",\n",
    "    \"marr: 0=unmarried,  1=Married\",\n",
    "]\n",
    "short_names = [n.split(\":\")[0] for n in names]\n",
    "data.columns = pd.Index(short_names)\n",
    "# Log-transform the wages, because they typically are increased with\n",
    "# multiplicative factors\n",
    "data[\"wage\"] = np.log10(data[\"wage\"])\n",
    "# Convert genders to strings (this is particularly useful so that the\n",
    "# statsmodels formulas detects that `sex` is a categorical variable)\n",
    "data[\"sex\"] = np.choose(data['sex'], [\"male\", \"female\"])"
   ]
  },
  {
   "cell_type": "markdown",
   "id": "fc3c37e5",
   "metadata": {},
   "source": [
    "Plot scatter matrices highlighting different aspects"
   ]
  },
  {
   "cell_type": "code",
   "execution_count": null,
   "id": "62aa4505",
   "metadata": {},
   "outputs": [],
   "source": [
    "import seaborn"
   ]
  },
  {
   "cell_type": "code",
   "execution_count": null,
   "id": "66f88f57",
   "metadata": {},
   "outputs": [],
   "source": [
    "seaborn.pairplot(data, vars=[\"wage\", \"age\", \"education\"], kind=\"reg\")"
   ]
  },
  {
   "cell_type": "code",
   "execution_count": null,
   "id": "6a658d31",
   "metadata": {},
   "outputs": [],
   "source": [
    "seaborn.pairplot(data, vars=[\"wage\", \"age\", \"education\"], kind=\"reg\", hue=\"sex\")\n",
    "plt.suptitle(\"Effect of sex: 1=Female, 0=Male\")"
   ]
  },
  {
   "cell_type": "code",
   "execution_count": null,
   "id": "c86c02b7",
   "metadata": {},
   "outputs": [],
   "source": [
    "seaborn.pairplot(data, vars=[\"wage\", \"age\", \"education\"], kind=\"reg\", hue=\"race\")\n",
    "plt.suptitle(\"Effect of race: 1=Other, 2=Hispanic, 3=White\")"
   ]
  },
  {
   "cell_type": "code",
   "execution_count": null,
   "id": "7c386283",
   "metadata": {},
   "outputs": [],
   "source": [
    "seaborn.pairplot(data, vars=[\"wage\", \"age\", \"education\"], kind=\"reg\", hue=\"union\")\n",
    "plt.suptitle(\"Effect of union: 1=Union member, 0=Not union member\")"
   ]
  },
  {
   "cell_type": "markdown",
   "id": "8499b0d6",
   "metadata": {},
   "source": [
    "Plot a simple regression"
   ]
  },
  {
   "cell_type": "code",
   "execution_count": null,
   "id": "00f5863e",
   "metadata": {},
   "outputs": [],
   "source": [
    "seaborn.lmplot(y=\"wage\", x=\"education\", data=data)"
   ]
  },
  {
   "cell_type": "markdown",
   "id": "f0c66ff6",
   "metadata": {},
   "source": [
    "## Test for an education/sex interaction in wages\n",
    "\n",
    "<!--- plot_wage_education_gender -->"
   ]
  },
  {
   "cell_type": "markdown",
   "id": "7236eec0",
   "metadata": {},
   "source": [
    "Wages depend mostly on education. Here we investigate how this dependence\n",
    "is related to gender: not only does gender create an offset in wages, it\n",
    "also seems that wages increase more with education for males than\n",
    "females.\n",
    "\n",
    "Does our data support this last hypothesis? We will test this using\n",
    "statsmodels' formulas\n",
    "(http://statsmodels.sourceforge.net/stable/example_formulas.html)."
   ]
  },
  {
   "cell_type": "code",
   "execution_count": null,
   "id": "f8758bc5",
   "metadata": {},
   "outputs": [],
   "source": [
    "# simple plotting\n",
    "\n",
    "# Plot 2 linear fits for male and female.\n",
    "seaborn.lmplot(y=\"wage\", x=\"education\", hue=\"sex\", data=data)\n",
    "\n",
    "# statistical analysis\n",
    "import statsmodels.formula.api as sm\n",
    "\n",
    "# Note that this model is not the plot displayed above: it is one\n",
    "# joined model for male and female, not separate models for male and\n",
    "# female. The reason is that a single model enables statistical testing\n",
    "result = sm.ols(formula=\"wage ~ education + sex\", data=data).fit()\n",
    "result.summary()"
   ]
  },
  {
   "cell_type": "code",
   "execution_count": null,
   "id": "beb5334e",
   "metadata": {},
   "outputs": [],
   "source": [
    "# The plots above highlight that there is not only a different offset in\n",
    "# wage but also a different slope\n",
    "#\n",
    "# We need to model this using an interaction\n",
    "result = sm.ols(\n",
    "    formula=\"wage ~ education + sex + education * sex\", data=data\n",
    ").fit()\n",
    "result.summary()"
   ]
  },
  {
   "cell_type": "markdown",
   "id": "581c35ab",
   "metadata": {},
   "source": [
    "Looking at the p-value of the interaction of sex and education, the\n",
    "data does not support the hypothesis that education benefits males\n",
    "more than female (p-value > 0.05)."
   ]
  },
  {
   "cell_type": "markdown",
   "id": "a23e5c6a",
   "metadata": {},
   "source": [
    "## Other examples"
   ]
  },
  {
   "cell_type": "markdown",
   "id": "39f542fe",
   "metadata": {},
   "source": [
    "### Air fares before and after 9/11\n",
    "\n",
    "<!--- plot_airfare -->"
   ]
  },
  {
   "cell_type": "markdown",
   "id": "f4475765",
   "metadata": {},
   "source": [
    "This is a business-intelligence (BI) like application.\n",
    "\n",
    "What is interesting here is that we may want to study fares as a function\n",
    "of the year, paired accordingly to the trips, or forgetting the year,\n",
    "only as a function of the trip endpoints.\n",
    "\n",
    "Using statsmodels' linear models, we find that both with an OLS (ordinary\n",
    "least square) and a robust fit, the intercept and the slope are\n",
    "significantly non-zero: the air fares have decreased between 2000 and\n",
    "2001, and their dependence on distance travelled has also decreased"
   ]
  },
  {
   "cell_type": "code",
   "execution_count": null,
   "id": "efd6da77",
   "metadata": {
    "tags": [
     "hide-input"
    ]
   },
   "outputs": [],
   "source": [
    "# As a separator, '\\s+' is a regular expression that means 'one or more\n",
    "# spaces'\n",
    "data = pd.read_csv(\n",
    "    \"examples/airfares.txt\",\n",
    "    sep=r'\\s+',\n",
    "    header=0,\n",
    "    names=[\n",
    "        \"city1\",\n",
    "        \"city2\",\n",
    "        \"pop1\",\n",
    "        \"pop2\",\n",
    "        \"dist\",\n",
    "        \"fare_2000\",\n",
    "        \"nb_passengers_2000\",\n",
    "        \"fare_2001\",\n",
    "        \"nb_passengers_2001\",\n",
    "    ],\n",
    ")"
   ]
  },
  {
   "cell_type": "code",
   "execution_count": null,
   "id": "11fc2430",
   "metadata": {},
   "outputs": [],
   "source": [
    "# we log-transform the number of passengers\n",
    "data[\"nb_passengers_2000\"] = np.log10(data[\"nb_passengers_2000\"])\n",
    "data[\"nb_passengers_2001\"] = np.log10(data[\"nb_passengers_2001\"])"
   ]
  },
  {
   "cell_type": "markdown",
   "id": "5e0e41da",
   "metadata": {},
   "source": [
    "Make a dataframe with the year as an attribute, instead of separate columns"
   ]
  },
  {
   "cell_type": "markdown",
   "id": "83079c43",
   "metadata": {},
   "source": [
    "This involves a small danse in which we separate the dataframes in 2,\n",
    "one for year 2000, and one for 2001, before concatenating again."
   ]
  },
  {
   "cell_type": "code",
   "execution_count": null,
   "id": "11d58b7b",
   "metadata": {},
   "outputs": [],
   "source": [
    "# Make an index of each flight\n",
    "data_flat = data.reset_index()"
   ]
  },
  {
   "cell_type": "code",
   "execution_count": null,
   "id": "62f1500a",
   "metadata": {},
   "outputs": [],
   "source": [
    "data_2000 = data_flat[\n",
    "    [\"city1\", \"city2\", \"pop1\", \"pop2\", \"dist\", \"fare_2000\", \"nb_passengers_2000\"]\n",
    "]\n",
    "# Rename the columns\n",
    "data_2000.columns = pd.Index(\n",
    "    [\"city1\", \"city2\", \"pop1\", \"pop2\", \"dist\", \"fare\", \"nb_passengers\"]\n",
    ")\n",
    "# Add a column with the year\n",
    "data_2000.insert(0, \"year\", 2000)"
   ]
  },
  {
   "cell_type": "code",
   "execution_count": null,
   "id": "adbbbee8",
   "metadata": {},
   "outputs": [],
   "source": [
    "data_2001 = data_flat[\n",
    "    [\"city1\", \"city2\", \"pop1\", \"pop2\", \"dist\", \"fare_2001\", \"nb_passengers_2001\"]\n",
    "]\n",
    "# Rename the columns\n",
    "data_2001.columns = pd.Index(\n",
    "    [\"city1\", \"city2\", \"pop1\", \"pop2\", \"dist\", \"fare\", \"nb_passengers\"]\n",
    ")\n",
    "# Add a column with the year\n",
    "data_2001.insert(0, \"year\", 2001)"
   ]
  },
  {
   "cell_type": "code",
   "execution_count": null,
   "id": "35ffec6e",
   "metadata": {},
   "outputs": [],
   "source": [
    "data_flat = pd.concat([data_2000, data_2001])"
   ]
  },
  {
   "cell_type": "markdown",
   "id": "fd924fa2",
   "metadata": {},
   "source": [
    "Plot scatter matrices highlighting different aspects"
   ]
  },
  {
   "cell_type": "code",
   "execution_count": null,
   "id": "943adb40",
   "metadata": {},
   "outputs": [],
   "source": [
    "seaborn.pairplot(\n",
    "    data_flat, vars=[\"fare\", \"dist\", \"nb_passengers\"], kind=\"reg\", markers=\".\"\n",
    ")"
   ]
  },
  {
   "cell_type": "code",
   "execution_count": null,
   "id": "16470d8f",
   "metadata": {},
   "outputs": [],
   "source": [
    "# A second plot, to show the effect of the year (ie the 9/11 effect)\n",
    "seaborn.pairplot(\n",
    "    data_flat,\n",
    "    vars=[\"fare\", \"dist\", \"nb_passengers\"],\n",
    "    kind=\"reg\",\n",
    "    hue=\"year\",\n",
    "    markers=\".\",\n",
    ")"
   ]
  },
  {
   "cell_type": "markdown",
   "id": "c93bccc4",
   "metadata": {},
   "source": [
    "Plot the difference in fare"
   ]
  },
  {
   "cell_type": "code",
   "execution_count": null,
   "id": "3bb33b59",
   "metadata": {},
   "outputs": [],
   "source": [
    "plt.figure(figsize=(5, 2))\n",
    "seaborn.boxplot(data.fare_2001 - data.fare_2000)\n",
    "plt.title(\"Fare: 2001 - 2000\")\n",
    "plt.subplots_adjust()"
   ]
  },
  {
   "cell_type": "code",
   "execution_count": null,
   "id": "580f4c55",
   "metadata": {},
   "outputs": [],
   "source": [
    "plt.figure(figsize=(5, 2))\n",
    "seaborn.boxplot(data.nb_passengers_2001 - data.nb_passengers_2000)\n",
    "plt.title(\"NB passengers: 2001 - 2000\")\n",
    "plt.subplots_adjust()"
   ]
  },
  {
   "cell_type": "code",
   "execution_count": null,
   "id": "407e4909",
   "metadata": {},
   "outputs": [],
   "source": [
    "# Statistical testing: dependence of fare on distance and number of\n",
    "# passengers\n",
    "result = sm.ols(formula=\"fare ~ 1 + dist + nb_passengers\", data=data_flat).fit()\n",
    "result.summary()"
   ]
  },
  {
   "cell_type": "code",
   "execution_count": null,
   "id": "6ad3c693",
   "metadata": {},
   "outputs": [],
   "source": [
    "# Using a robust fit\n",
    "result = sm.rlm(formula=\"fare ~ 1 + dist + nb_passengers\", data=data_flat).fit()\n",
    "result.summary()"
   ]
  },
  {
   "cell_type": "markdown",
   "id": "113f83e1",
   "metadata": {},
   "source": [
    "Statistical testing: regression of fare on distance: 2001/2000 difference"
   ]
  },
  {
   "cell_type": "code",
   "execution_count": null,
   "id": "14161005",
   "metadata": {},
   "outputs": [],
   "source": [
    "result = sm.ols(formula=\"fare_2001 - fare_2000 ~ 1 + dist\", data=data).fit()\n",
    "result.summary()"
   ]
  },
  {
   "cell_type": "code",
   "execution_count": null,
   "id": "83eb2895",
   "metadata": {},
   "outputs": [],
   "source": [
    "# Plot the corresponding regression\n",
    "data[\"fare_difference\"] = data[\"fare_2001\"] - data[\"fare_2000\"]\n",
    "seaborn.lmplot(x=\"dist\", y=\"fare_difference\", data=data)"
   ]
  },
  {
   "cell_type": "markdown",
   "id": "dc5f8f60",
   "metadata": {},
   "source": [
    "### Relating Gender and IQ\n",
    "\n",
    "<!--- plot_brain_size -->"
   ]
  },
  {
   "cell_type": "markdown",
   "id": "b733a649",
   "metadata": {},
   "source": [
    "Going back to the brain size + IQ data, test if the VIQ of male and\n",
    "female are different after removing the effect of brain size, height and\n",
    "weight.\n",
    "\n",
    "Notice that here 'Gender' is a categorical value. As it is a non-float\n",
    "data type, statsmodels is able to automatically infer this."
   ]
  },
  {
   "cell_type": "code",
   "execution_count": null,
   "id": "dea31950",
   "metadata": {},
   "outputs": [],
   "source": [
    "data = pd.read_csv(\"examples/brain_size.csv\", sep=\";\", na_values=\".\")\n",
    "\n",
    "model = smf.ols(\"VIQ ~ Gender + MRI_Count + Height\", data).fit()\n",
    "model.summary()"
   ]
  },
  {
   "cell_type": "code",
   "execution_count": null,
   "id": "d92ad175",
   "metadata": {},
   "outputs": [],
   "source": [
    "# Here, we don't need to define a contrast, as we are testing a single\n",
    "# coefficient of our model, and not a combination of coefficients.\n",
    "# However, defining a contrast, which would then be a 'unit contrast',\n",
    "# will give us the same results\n",
    "print(model.f_test([0, 1, 0, 0]))"
   ]
  },
  {
   "cell_type": "markdown",
   "id": "b9cbf432",
   "metadata": {},
   "source": [
    "Here we plot a scatter matrix to get intuitions on our results.\n",
    "This goes beyond what was asked in the exercise"
   ]
  },
  {
   "cell_type": "markdown",
   "id": "bdccbd1a",
   "metadata": {},
   "source": [
    "This plotting is useful to get an intuitions on the relationships between\n",
    "our different variables"
   ]
  },
  {
   "cell_type": "code",
   "execution_count": null,
   "id": "9bc7a62c",
   "metadata": {},
   "outputs": [],
   "source": [
    "# Fill in the missing values for Height for plotting\n",
    "data[\"Height\"] = data[\"Height\"].ffill()"
   ]
  },
  {
   "cell_type": "code",
   "execution_count": null,
   "id": "a2a611fb",
   "metadata": {},
   "outputs": [],
   "source": [
    "# The parameter 'c' is passed to plt.scatter and will control the color\n",
    "# The same holds for parameters 'marker', 'alpha' and 'cmap', that\n",
    "# control respectively the type of marker used, their transparency and\n",
    "# the colormap\n",
    "pd.plotting.scatter_matrix(\n",
    "    data[[\"VIQ\", \"MRI_Count\", \"Height\"]],\n",
    "    c=(data[\"Gender\"] == \"Female\"),\n",
    "    marker=\"o\",\n",
    "    alpha=1,\n",
    "    cmap=\"winter\",\n",
    ")\n",
    "\n",
    "fig = plt.gcf()\n",
    "fig.suptitle(\"blue: male, green: female\", size=13);"
   ]
  }
 ],
 "metadata": {
  "kernelspec": {
   "display_name": "Python (Pyodide)",
   "name": "python"
  },
  "orphan": true
 },
 "nbformat": 4,
 "nbformat_minor": 5
}
