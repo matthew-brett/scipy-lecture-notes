{
 "cells": [
  {
   "cell_type": "markdown",
   "id": "d42431fb",
   "metadata": {},
   "source": [
    "# Scientific Python Lectures\n",
    "\n",
    "## One document to learn numerics, science, and data with Python\n",
    "\n",
    "<!---\n",
    ":::{sidebar} Download\n",
    "{{ pdf-icon }} [PDF, 2 pages per side](./_downloads/ScientificPythonLectures.pdf)\n",
    "\n",
    "{{ pdf-icon }} [PDF, 1 page per side](./_downloads/ScientificPythonLectures-simple.pdf)\n",
    "\n",
    "{{ github-icon }} [Source code (github)](https://github.com/scipy-lectures/scientific-python-lectures)\n",
    "-->\n",
    "\n",
    "Tutorials on the scientific Python ecosystem: a quick introduction to\n",
    "central tools and techniques. The different chapters each correspond\n",
    "to a 1 to 2 hours course with increasing level of expertise, from\n",
    "beginner to expert.\n",
    "\n",
    "Release: {{ release }}"
   ]
  }
 ],
 "metadata": {
  "kernelspec": {
   "display_name": "Python (Pyodide)",
   "name": "python"
  }
 },
 "nbformat": 4,
 "nbformat_minor": 5
}
