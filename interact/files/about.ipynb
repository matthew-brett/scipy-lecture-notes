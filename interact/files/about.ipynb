{
 "cells": [
  {
   "cell_type": "markdown",
   "id": "4577767e",
   "metadata": {},
   "source": [
    "# About the Scientific Python Lecture notes\n",
    "\n",
    "Release: {{ release }}\n",
    "\n",
    "The lectures are archived on Zenodo:\n",
    "\n",
    "![http://dx.doi.org/10.5281/zenodo.594102](https://zenodo.org/badge/doi/10.5281/zenodo.594102.svg)\n",
    "\n",
    "::: {include} AUTHORS.md\n",
    ":::\n",
    "\n",
    "::: {include} CHANGES.md\n",
    ":::\n",
    "\n",
    "::: {include} LICENSE.md\n",
    ":::\n",
    "\n",
    "::: {include} CONTRIBUTING.md\n",
    ":::"
   ]
  }
 ],
 "metadata": {
  "kernelspec": {
   "display_name": "Python (Pyodide)",
   "name": "python"
  }
 },
 "nbformat": 4,
 "nbformat_minor": 5
}
