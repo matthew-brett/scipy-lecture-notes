{
 "cells": [
  {
   "cell_type": "markdown",
   "id": "82d66816",
   "metadata": {},
   "source": [
    "# Statistics in Python\n",
    "\n",
    "**Author**: _Gaël Varoquaux_\n",
    "\n",
    ":::{admonition} Requirements\n",
    "\n",
    "- Standard scientific Python environment (NumPy, SciPy, matplotlib)\n",
    "- [Pandas](https://pandas.pydata.org/)\n",
    "- [Statsmodels](https://www.statsmodels.org/)\n",
    "- [Seaborn](https://seaborn.pydata.org)\n",
    "\n",
    "To install Python and these dependencies, we recommend that you\n",
    "download [Anaconda Python](https://www.anaconda.com/distribution/) or,\n",
    "preferably, use the package manager if you are under Ubuntu or other linux.\n",
    ":::\n",
    "\n",
    ":::{admonition} See also\n",
    "\n",
    "- **Bayesian statistics in Python**:\n",
    "  This chapter does not cover tools for Bayesian statistics. Of\n",
    "  particular interest for Bayesian modelling is [PyMC](https://docs.pymc.io/), which implements a probabilistic\n",
    "  programming language in Python.\n",
    "- **Read a statistics book**:\n",
    "  The [Think stats](https://greenteapress.com/wp/think-stats-2e) book is\n",
    "  available as free PDF or in print and is a great introduction to\n",
    "  statistics.\n",
    "  :::"
   ]
  },
  {
   "cell_type": "code",
   "execution_count": null,
   "id": "198dacde",
   "metadata": {},
   "outputs": [],
   "source": [
    "import numpy as np\n",
    "import matplotlib.pyplot as plt\n",
    "import pandas as pd"
   ]
  },
  {
   "cell_type": "markdown",
   "id": "4e49c263",
   "metadata": {},
   "source": [
    "::: {note}\n",
    ":class: dropdown\n",
    "\n",
    "**Why Python for statistics?**\n",
    "\n",
    "R is a language dedicated to statistics. Python is a general-purpose\n",
    "language with statistics modules. R has more statistical analysis\n",
    "features than Python, and specialized syntaxes. However, when it\n",
    "comes to building complex analysis pipelines that mix statistics with\n",
    "e.g. image analysis, text mining, or control of a physical\n",
    "experiment, the richness of Python is an invaluable asset.\n",
    ":::\n",
    "\n",
    "::: {note}\n",
    ":class: dropdown\n",
    "\n",
    "In this document, the Python inputs are represented with the sign\n",
    "\">>>\".\n",
    "\n",
    "**Disclaimer: Gender questions**\n",
    "\n",
    "Some of the examples of this tutorial are chosen around gender\n",
    "questions. The reason is that on such questions controlling the truth\n",
    "of a claim actually matters to many people.\n",
    ":::\n",
    "\n",
    "## Data representation and interaction\n",
    "\n",
    "### Data as a table\n",
    "\n",
    "The setting that we consider for statistical analysis is that of multiple\n",
    "_observations_ or _samples_ described by a set of different _attributes_\n",
    "or _features_. The data can than be seen as a 2D table, or matrix, with\n",
    "columns giving the different attributes of the data, and rows the\n",
    "observations. For instance, the data contained in\n",
    "{download}`examples/brain_size.csv`:"
   ]
  },
  {
   "cell_type": "markdown",
   "id": "acfde1d6",
   "metadata": {},
   "source": [
    ":::{include} examples/brain_size.csv\n",
    ":literal:\n",
    ":end-line: 6\n",
    ":::"
   ]
  },
  {
   "cell_type": "markdown",
   "id": "3ac5f310",
   "metadata": {},
   "source": [
    "### The pandas data-frame\n",
    "\n",
    "::: {note}\n",
    ":class: dropdown\n",
    "\n",
    "We will store and manipulate this data in a {class}`pandas.DataFrame`, from\n",
    "the [pandas](https://pandas.pydata.org) module. It is the Python equivalent of\n",
    "the spreadsheet table. It is different from a 2D `numpy` array as it has named\n",
    "columns, can contain a mixture of different data types by column, and has\n",
    "elaborate selection and pivotal mechanisms.\n",
    "\n",
    ":::"
   ]
  },
  {
   "cell_type": "markdown",
   "id": "97f260a0",
   "metadata": {},
   "source": [
    "#### Creating dataframes: reading data files or converting arrays\n",
    "\n",
    ":::{sidebar} Separator\n",
    "It is a CSV file, but the separator is \";\"\n",
    ":::\n",
    "\n",
    "**Reading from a CSV file:** Using the above CSV file that gives\n",
    "observations of brain size and weight and IQ (Willerman et al. 1991), the\n",
    "data are a mixture of numerical and categorical values:"
   ]
  },
  {
   "cell_type": "code",
   "execution_count": null,
   "id": "94b265e3",
   "metadata": {},
   "outputs": [],
   "source": [
    "data = pd.read_csv('examples/brain_size.csv', sep=';', na_values=\".\", index_col=0)\n",
    "data"
   ]
  },
  {
   "cell_type": "markdown",
   "id": "1743b064",
   "metadata": {},
   "source": [
    ":::{warning}\n",
    "**Missing values**\n",
    "\n",
    "The weight of the second individual is missing in the CSV file. If we\n",
    "don't specify the missing value (NA = not available) marker, we will\n",
    "not be able to do statistical analysis.\n",
    ":::\n",
    "\n",
    "**Creating from arrays**: A {class}`pandas.DataFrame` can also be seen\n",
    "as a dictionary of 1D 'series', eg arrays or lists. If we have 3\n",
    "`numpy` arrays:"
   ]
  },
  {
   "cell_type": "code",
   "execution_count": null,
   "id": "da88eeba",
   "metadata": {},
   "outputs": [],
   "source": [
    "t = np.linspace(-6, 6, 20)\n",
    "sin_t = np.sin(t)\n",
    "cos_t = np.cos(t)"
   ]
  },
  {
   "cell_type": "markdown",
   "id": "9d9fb4d3",
   "metadata": {},
   "source": [
    "We can expose them as a `pd.DataFrame`"
   ]
  },
  {
   "cell_type": "code",
   "execution_count": null,
   "id": "1d6e53d8",
   "metadata": {},
   "outputs": [],
   "source": [
    "pd.DataFrame({'t': t, 'sin': sin_t, 'cos': cos_t})"
   ]
  },
  {
   "cell_type": "markdown",
   "id": "faf2ecf5",
   "metadata": {},
   "source": [
    "**Other inputs**: [pandas](https://pandas.pydata.org) can input data from\n",
    "SQL, excel files, or other formats. See the [pandas documentation](https://pandas.pydata.org)."
   ]
  },
  {
   "cell_type": "markdown",
   "id": "8f8e6ea0",
   "metadata": {},
   "source": [
    "#### Manipulating data\n",
    "\n",
    "`data` is a {class}`pandas.DataFrame`, that resembles R's dataframe:"
   ]
  },
  {
   "cell_type": "code",
   "execution_count": null,
   "id": "ee1f38a0",
   "metadata": {},
   "outputs": [],
   "source": [
    "data.shape    # 40 rows and 8 columns"
   ]
  },
  {
   "cell_type": "code",
   "execution_count": null,
   "id": "ad05cce5",
   "metadata": {},
   "outputs": [],
   "source": [
    "data.columns  # It has columns"
   ]
  },
  {
   "cell_type": "code",
   "execution_count": null,
   "id": "cd249042",
   "metadata": {},
   "outputs": [],
   "source": [
    "data['Gender']  # Columns can be addressed by name"
   ]
  },
  {
   "cell_type": "code",
   "execution_count": null,
   "id": "16dca81d",
   "metadata": {},
   "outputs": [],
   "source": [
    "# Simpler selector\n",
    "data[data['Gender'] == 'Female']['VIQ'].mean()"
   ]
  },
  {
   "cell_type": "markdown",
   "id": "0a925159",
   "metadata": {},
   "source": [
    ":::{note}\n",
    "For a quick view on a large dataframe, use its `describe`\n",
    "method: {meth}`pandas.DataFrame.describe`.\n",
    ":::\n",
    "\n",
    "**groupby**: splitting a dataframe on values of categorical variables:"
   ]
  },
  {
   "cell_type": "code",
   "execution_count": null,
   "id": "c5b379ee",
   "metadata": {},
   "outputs": [],
   "source": [
    "groupby_gender = data.groupby('Gender')\n",
    "for gender, value in groupby_gender['VIQ']:\n",
    "    print((gender, value.mean()))"
   ]
  },
  {
   "cell_type": "markdown",
   "id": "635ffac0",
   "metadata": {},
   "source": [
    "`groupby_gender` is a powerful object that exposes many\n",
    "operations on the resulting group of dataframes:"
   ]
  },
  {
   "cell_type": "code",
   "execution_count": null,
   "id": "6853d403",
   "metadata": {},
   "outputs": [],
   "source": [
    "groupby_gender.mean()"
   ]
  },
  {
   "cell_type": "markdown",
   "id": "9f43c7c3",
   "metadata": {},
   "source": [
    "::: {note}\n",
    ":class: dropdown\n",
    "\n",
    "Use tab-completion on `groupby_gender` to find more. Other common\n",
    "grouping functions are median, count (useful for checking to see the\n",
    "amount of missing values in different subsets) or sum. Groupby\n",
    "evaluation is lazy, no work is done until an aggregation function is\n",
    "applied.\n",
    ":::"
   ]
  },
  {
   "cell_type": "code",
   "execution_count": null,
   "id": "0db89ae5",
   "metadata": {},
   "outputs": [],
   "source": [
    "data = pd.read_csv(\"examples/brain_size.csv\", sep=\";\", na_values=\".\")\n",
    "\n",
    "# Box plots of different columns for each gender\n",
    "groupby_gender = data.groupby(\"Gender\")\n",
    "groupby_gender.boxplot(column=[\"FSIQ\", \"VIQ\", \"PIQ\"]);"
   ]
  },
  {
   "cell_type": "markdown",
   "id": "747b7c3d",
   "metadata": {},
   "source": [
    "**Start of exercise**\n",
    "\n",
    "- What is the mean value for VIQ for the full population?\n",
    "\n",
    "- How many males/females were included in this study?\n",
    "\n",
    "  **Hint** use 'tab completion' to find out the methods that can be\n",
    "  called, instead of 'mean' in the above example.\n",
    "\n",
    "- What is the average value of MRI counts expressed in log units, for\n",
    "  males and females?\n",
    "\n",
    ":::{note}\n",
    "`groupby_gender.boxplot` is used for the plots above (see the plot code\n",
    "above).\n",
    ":::\n",
    "\n",
    "**End of exercise**"
   ]
  },
  {
   "cell_type": "markdown",
   "id": "0c1a89d8",
   "metadata": {},
   "source": [
    "#### Plotting data"
   ]
  },
  {
   "cell_type": "markdown",
   "id": "0702f2a6",
   "metadata": {},
   "source": [
    "Pandas comes with some plotting tools ({mod}`pandas.plotting`, using\n",
    "matplotlib behind the scene) to display statistics of the data in\n",
    "dataframes:\n",
    "\n",
    "**Scatter matrices**:"
   ]
  },
  {
   "cell_type": "code",
   "execution_count": null,
   "id": "492b90cc",
   "metadata": {},
   "outputs": [],
   "source": [
    "pd.plotting.scatter_matrix(data[['Weight', 'Height', 'MRI_Count']]);"
   ]
  },
  {
   "cell_type": "markdown",
   "id": "3db3f824",
   "metadata": {},
   "source": [
    ":::{sidebar} Two populations\n",
    "The IQ metrics are bimodal, as if there are 2 sub-populations.\n",
    ":::"
   ]
  },
  {
   "cell_type": "code",
   "execution_count": null,
   "id": "ed6c4481",
   "metadata": {},
   "outputs": [],
   "source": [
    "pd.plotting.scatter_matrix(data[['PIQ', 'VIQ', 'FSIQ']]);"
   ]
  },
  {
   "cell_type": "markdown",
   "id": "d5904392",
   "metadata": {},
   "source": [
    "**Start of exercise**\n",
    "\n",
    "Plot the scatter matrix for males only, and for females only. Do you\n",
    "think that the 2 sub-populations correspond to gender?\n",
    "\n",
    "**End of exercise**"
   ]
  },
  {
   "cell_type": "markdown",
   "id": "94ef6e76",
   "metadata": {},
   "source": [
    "## Hypothesis testing: comparing two groups\n",
    "\n",
    "For simple [statistical tests](https://en.wikipedia.org/wiki/Statistical_hypothesis_testing), we will\n",
    "use the {mod}`scipy.stats` sub-module of [SciPy](https://docs.scipy.org/doc/):"
   ]
  },
  {
   "cell_type": "code",
   "execution_count": null,
   "id": "f8e49ab1",
   "metadata": {},
   "outputs": [],
   "source": [
    "import scipy as sp"
   ]
  },
  {
   "cell_type": "markdown",
   "id": "725195fc",
   "metadata": {},
   "source": [
    ":::{admonition} See also\n",
    "\n",
    "SciPy is a vast library. For a quick summary to the whole library, see\n",
    "the {ref}`scipy <scipy>` chapter.\n",
    ":::"
   ]
  },
  {
   "cell_type": "markdown",
   "id": "0adab9fb",
   "metadata": {},
   "source": [
    "### Student's t-test: the simplest statistical test\n",
    "\n",
    "#### One-sample tests: testing the value of a population mean\n",
    "\n",
    "![](two_sided.png)\n",
    "\n",
    "{func}`scipy.stats.ttest_1samp` tests the null hypothesis that the mean\n",
    "of the population underlying the data is equal to a given value. It returns\n",
    "the [T statistic](https://en.wikipedia.org/wiki/Student%27s_t-test),\n",
    "and the [p-value](https://en.wikipedia.org/wiki/P-value) (see the\n",
    "function's help):"
   ]
  },
  {
   "cell_type": "code",
   "execution_count": null,
   "id": "2eeac622",
   "metadata": {},
   "outputs": [],
   "source": [
    "sp.stats.ttest_1samp(data['VIQ'], 0)"
   ]
  },
  {
   "cell_type": "markdown",
   "id": "9548785a",
   "metadata": {},
   "source": [
    "The p-value of $10^-28$ indicates that such an extreme value of the statistic\n",
    "is unlikely to be observed under the null hypothesis. This may be taken as\n",
    "evidence that the null hypothesis is false and that the population mean IQ\n",
    "(VIQ measure) is not 0.\n",
    "\n",
    "Technically, the p-value of the t-test is derived under the assumption that\n",
    "the means of samples drawn from the population are normally distributed.\n",
    "This condition is exactly satisfied when the population itself is normally\n",
    "distributed; however, due to the central limit theorem, the condition is\n",
    "nearly true for reasonably large samples drawn from populations that follow\n",
    "a variety of non-normal distributions.\n",
    "\n",
    "Nonetheless, if we are concerned that violation of the normality assumptions\n",
    "will affect the conclusions of the test, we can use a [Wilcoxon signed-rank test](https://en.wikipedia.org/wiki/Wilcoxon_signed-rank_test), which relaxes\n",
    "this assumption at the expense of test power:"
   ]
  },
  {
   "cell_type": "code",
   "execution_count": null,
   "id": "fdd52ac5",
   "metadata": {},
   "outputs": [],
   "source": [
    "sp.stats.wilcoxon(data['VIQ'])"
   ]
  },
  {
   "cell_type": "markdown",
   "id": "123caada",
   "metadata": {},
   "source": [
    "#### Two-sample t-test: testing for difference across populations\n",
    "\n",
    "We have seen above that the mean VIQ in the male and female samples\n",
    "were different. To test whether this difference is significant (and\n",
    "suggests that there is a difference in population means), we perform\n",
    "a two-sample t-test using {func}`scipy.stats.ttest_ind`:"
   ]
  },
  {
   "cell_type": "code",
   "execution_count": null,
   "id": "22d39483",
   "metadata": {},
   "outputs": [],
   "source": [
    "female_viq = data[data['Gender'] == 'Female']['VIQ']\n",
    "male_viq = data[data['Gender'] == 'Male']['VIQ']\n",
    "sp.stats.ttest_ind(female_viq, male_viq)"
   ]
  },
  {
   "cell_type": "markdown",
   "id": "d8092bc2",
   "metadata": {},
   "source": [
    "The corresponding non-parametric test is the [Mann–Whitney U\n",
    "test](https://en.wikipedia.org/wiki/Mann%E2%80%93Whitney_U),\n",
    "{func}`scipy.stats.mannwhitneyu`."
   ]
  },
  {
   "cell_type": "code",
   "execution_count": null,
   "id": "d6accbe3",
   "metadata": {},
   "outputs": [],
   "source": [
    "sp.stats.mannwhitneyu(female_viq, male_viq)"
   ]
  },
  {
   "cell_type": "markdown",
   "id": "1fe8b7a8",
   "metadata": {},
   "source": [
    "### Paired tests: repeated measurements on the same individuals"
   ]
  },
  {
   "cell_type": "code",
   "execution_count": null,
   "id": "52b8c8d2",
   "metadata": {},
   "outputs": [],
   "source": [
    "# Box plot of FSIQ and PIQ (different measures of IQ)\n",
    "plt.figure(figsize=(4, 3))\n",
    "data.boxplot(column=[\"FSIQ\", \"PIQ\"])"
   ]
  },
  {
   "cell_type": "markdown",
   "id": "189c7c65",
   "metadata": {},
   "source": [
    "PIQ, VIQ, and FSIQ give three measures of IQ. Let us test whether FISQ and PIQ\n",
    "are significantly different. We can use an \"independent sample\" test:"
   ]
  },
  {
   "cell_type": "code",
   "execution_count": null,
   "id": "313bbd63",
   "metadata": {},
   "outputs": [],
   "source": [
    "sp.stats.ttest_ind(data['FSIQ'], data['PIQ'])"
   ]
  },
  {
   "cell_type": "markdown",
   "id": "658b553d",
   "metadata": {},
   "source": [
    "The problem with this approach is that it ignores an important relationship\n",
    "between observations: FSIQ and PIQ are measured on the same individuals. Thus,\n",
    "the variance due to inter-subject variability is confounding, reducing the\n",
    "power of the test. This variability can be removed using a \"paired test\" or\n",
    "[\"repeated measures\n",
    "test\"](https://en.wikipedia.org/wiki/Repeated_measures_design):"
   ]
  },
  {
   "cell_type": "code",
   "execution_count": null,
   "id": "875dfdf1",
   "metadata": {},
   "outputs": [],
   "source": [
    "sp.stats.ttest_rel(data['FSIQ'], data['PIQ'])"
   ]
  },
  {
   "cell_type": "code",
   "execution_count": null,
   "id": "6e11940c",
   "metadata": {},
   "outputs": [],
   "source": [
    "# Boxplot of the difference\n",
    "plt.figure(figsize=(4, 3))\n",
    "plt.boxplot(data[\"FSIQ\"] - data[\"PIQ\"])\n",
    "plt.xticks((1,), (\"FSIQ - PIQ\",));"
   ]
  },
  {
   "cell_type": "markdown",
   "id": "dc15e857",
   "metadata": {},
   "source": [
    "This is equivalent to a one-sample test on the differences between paired\n",
    "observations:"
   ]
  },
  {
   "cell_type": "code",
   "execution_count": null,
   "id": "9f35d8f8",
   "metadata": {},
   "outputs": [],
   "source": [
    "sp.stats.ttest_1samp(data['FSIQ'] - data['PIQ'], 0)"
   ]
  },
  {
   "cell_type": "markdown",
   "id": "488fa42c",
   "metadata": {},
   "source": [
    "Accordingly, we can perform a nonparametric version of the test with\n",
    "`wilcoxon`."
   ]
  },
  {
   "cell_type": "code",
   "execution_count": null,
   "id": "0e8a8aac",
   "metadata": {},
   "outputs": [],
   "source": [
    "sp.stats.wilcoxon(data['FSIQ'], data['PIQ'], method=\"approx\")"
   ]
  },
  {
   "cell_type": "markdown",
   "id": "b0451282",
   "metadata": {},
   "source": [
    "**Start of exercise**\n",
    "\n",
    "- Test the difference between weights in males and females.\n",
    "- Use non parametric statistics to test the difference between VIQ in\n",
    "  males and females.\n",
    "\n",
    "**End of exercise**\n",
    "\n",
    "\n",
    "**See the [corresponding page](/scipy-lecture-notes/packages/statistics/index.html) for solution**"
   ]
  },
  {
   "cell_type": "markdown",
   "id": "9227fa3a",
   "metadata": {},
   "source": [
    "## Linear models, multiple factors, and analysis of variance"
   ]
  },
  {
   "cell_type": "markdown",
   "id": "cfc1087f",
   "metadata": {},
   "source": [
    "### \"formulas\" to specify statistical models in Python"
   ]
  },
  {
   "cell_type": "markdown",
   "id": "95eecff3",
   "metadata": {},
   "source": [
    "#### A simple linear regression\n",
    "\n",
    "::: {note}\n",
    "\n",
    "From an original example by **Thomas Haslwanter**.\n",
    "\n",
    ":::\n",
    "\n",
    "Given two set of observations, `x` and `y`, we want to test the\n",
    "hypothesis that `y` is a linear function of `x`. In other terms:\n",
    "\n",
    "$$\n",
    "y = x * \\textit{coef} + \\textit{intercept} + e\n",
    "$$\n",
    "\n",
    "where $e$ is observation noise. We will use the [statsmodels](https://www.statsmodels.org/) module to:\n",
    "\n",
    "1. Fit a linear model. We will use the simplest strategy, [ordinary least\n",
    "   squares](https://en.wikipedia.org/wiki/Ordinary_least_squares) (OLS).\n",
    "2. Test that `coef` is non zero.\n",
    "\n",
    "First, we generate simulated data according to the model:"
   ]
  },
  {
   "cell_type": "code",
   "execution_count": null,
   "id": "eee85f89",
   "metadata": {},
   "outputs": [],
   "source": [
    "x = np.linspace(-5, 5, 20)\n",
    "\n",
    "# To get reproducible values, provide a seed value\n",
    "rng = np.random.default_rng(27446968)\n",
    "\n",
    "# normal distributed noise\n",
    "y = -5 + 3 * x + 4 * rng.normal(size=x.shape)\n",
    "\n",
    "# Create a data frame containing all the relevant variables\n",
    "data = pd.DataFrame({'x': x, 'y': y})\n",
    "\n",
    "# Plot the data\n",
    "plt.figure(figsize=(5, 4))\n",
    "plt.plot(x, y, \"o\");"
   ]
  },
  {
   "cell_type": "markdown",
   "id": "61142c44",
   "metadata": {},
   "source": [
    ":::{sidebar} \"formulas\" for statistics in Python\n",
    "[See the statsmodels documentation](https://www.statsmodels.org/stable/example_formulas.html)\n",
    ":::\n",
    "\n",
    "Then we specify an OLS model and fit it:"
   ]
  },
  {
   "cell_type": "code",
   "execution_count": null,
   "id": "6c6fc043",
   "metadata": {},
   "outputs": [],
   "source": [
    "import statsmodels.formula.api as smf\n",
    "model = smf.ols(\"y ~ x\", data).fit()"
   ]
  },
  {
   "cell_type": "markdown",
   "id": "81301c01",
   "metadata": {},
   "source": [
    "We can inspect the various statistics derived from the fit:"
   ]
  },
  {
   "cell_type": "code",
   "execution_count": null,
   "id": "8fb862b6",
   "metadata": {},
   "outputs": [],
   "source": [
    "model.summary()"
   ]
  },
  {
   "cell_type": "markdown",
   "id": "cc2e737a",
   "metadata": {},
   "source": [
    ":::{admonition} Terminology:\n",
    "Statsmodels uses a statistical terminology: the `y` variable in\n",
    "statsmodels is called 'endogenous' while the `x` variable is called\n",
    "exogenous. This is discussed in more detail [here](https://www.statsmodels.org/devel/endog_exog.html).\n",
    "\n",
    "To simplify, `y` (endogenous) is the value you are trying to predict,\n",
    "while `x` (exogenous) represents the features you are using to make\n",
    "the prediction.\n",
    "\n",
    "If the terminology is unfamiliar, you might be able to remember which way\n",
    "round these go by noticing that there is an `x` in exogenous.\n",
    ":::\n",
    "\n",
    "**Start of exercise**\n",
    "\n",
    "Retrieve the estimated parameters from the model above.\n",
    "\n",
    "**Hint**: use tab-completion to find the relevant attribute.\n",
    "\n",
    "**End of exercise**"
   ]
  },
  {
   "cell_type": "markdown",
   "id": "f49c10a1",
   "metadata": {},
   "source": [
    "#### Categorical variables: comparing groups or multiple categories\n",
    "\n",
    "Let us go back the data on brain size:"
   ]
  },
  {
   "cell_type": "code",
   "execution_count": null,
   "id": "cbb587a8",
   "metadata": {},
   "outputs": [],
   "source": [
    "data = pd.read_csv('examples/brain_size.csv', sep=';', na_values=\".\")"
   ]
  },
  {
   "cell_type": "markdown",
   "id": "c058edf9",
   "metadata": {},
   "source": [
    "We can write a comparison between IQ of male and female using a linear\n",
    "model:"
   ]
  },
  {
   "cell_type": "code",
   "execution_count": null,
   "id": "37e87bbe",
   "metadata": {},
   "outputs": [],
   "source": [
    "model = smf.ols(\"VIQ ~ Gender + 1\", data).fit()\n",
    "model.summary()"
   ]
  },
  {
   "cell_type": "markdown",
   "id": "ef3c8c49",
   "metadata": {},
   "source": [
    "::::{admonition} Tips on specifying models\n",
    "\n",
    "**Forcing categorical**: the 'Gender' is automatically detected as a\n",
    "categorical variable, and thus each of its different values are\n",
    "treated as different entities.\n",
    "\n",
    "An integer column can be forced to be treated as categorical using:\n",
    "\n",
    "```python\n",
    "model = ols('VIQ ~ C(Gender)', data).fit()\n",
    "```\n",
    "\n",
    "**Intercept**: We can remove the intercept using `- 1` in the formula,\n",
    "or force the use of an intercept using `+ 1`.\n",
    "\n",
    "::: {note}\n",
    ":class: dropdown\n",
    "\n",
    "By default, statsmodels treats a categorical variable with K possible\n",
    "values as K-1 'dummy' boolean variables (the last level being\n",
    "absorbed into the intercept term). This is almost always a good\n",
    "default choice - however, it is possible to specify different\n",
    "encodings for categorical variables\n",
    "(<https://www.statsmodels.org/devel/contrasts.html>).\n",
    ":::\n",
    "::::"
   ]
  },
  {
   "cell_type": "markdown",
   "id": "c44bb760",
   "metadata": {},
   "source": [
    "#### Link to t-tests between different FSIQ and PIQ\n",
    "\n",
    "To compare different types of IQ, we need to create a \"long-form\"\n",
    "table, listing IQs, where the type of IQ is indicated by a\n",
    "categorical variable:"
   ]
  },
  {
   "cell_type": "code",
   "execution_count": null,
   "id": "234b1d3f",
   "metadata": {},
   "outputs": [],
   "source": [
    "data_fisq = pd.DataFrame({'iq': data['FSIQ'], 'type': 'fsiq'})\n",
    "data_piq = pd.DataFrame({'iq': data['PIQ'], 'type': 'piq'})\n",
    "data_long = pd.concat((data_fisq, data_piq))\n",
    "data_long"
   ]
  },
  {
   "cell_type": "code",
   "execution_count": null,
   "id": "7624a417",
   "metadata": {},
   "outputs": [],
   "source": [
    "model = smf.ols(\"iq ~ type\", data_long).fit()\n",
    "model.summary()"
   ]
  },
  {
   "cell_type": "markdown",
   "id": "6e4e2b9c",
   "metadata": {},
   "source": [
    "We can see that we retrieve the same values for t-test and\n",
    "corresponding p-values for the effect of the type of iq than the\n",
    "previous t-test:"
   ]
  },
  {
   "cell_type": "code",
   "execution_count": null,
   "id": "25f2c07c",
   "metadata": {},
   "outputs": [],
   "source": [
    "sp.stats.ttest_ind(data['FSIQ'], data['PIQ'])"
   ]
  },
  {
   "cell_type": "markdown",
   "id": "93c90ca2",
   "metadata": {},
   "source": [
    "### Multiple Regression: including multiple factors\n",
    "\n",
    "::: {note}\n",
    "\n",
    "From an original example by _Thomas Haslwanter_\n",
    "\n",
    ":::\n",
    "\n",
    "Consider a linear model explaining a variable `z` (the dependent\n",
    "variable) with 2 variables `x` and `y`:\n",
    "\n",
    "$$\n",
    "z = x \\, c_1 + y \\, c_2 + i + e\n",
    "$$\n",
    "\n",
    "Such a model can be seen in 3D as fitting a plane to a cloud of (`x`, `y`,\n",
    "`z`) points."
   ]
  },
  {
   "cell_type": "code",
   "execution_count": null,
   "id": "32ebbdab",
   "metadata": {},
   "outputs": [],
   "source": [
    "# Generate and show the data\n",
    "x = np.linspace(-5, 5, 21)\n",
    "# We generate a 2D grid\n",
    "X, Y = np.meshgrid(x, x)\n",
    "\n",
    "# To get reproducible values, provide a seed value\n",
    "rng = np.random.default_rng(27446968)\n",
    "\n",
    "# Z is the elevation of this 2D grid\n",
    "Z = -5 + 3 * X - 0.5 * Y + 8 * rng.normal(size=X.shape)\n",
    "\n",
    "# Plot the data\n",
    "ax = plt.figure().add_subplot(projection=\"3d\")\n",
    "surf = ax.plot_surface(X, Y, Z, cmap=\"coolwarm\", rstride=1, cstride=1)\n",
    "ax.view_init(20, -120)\n",
    "ax.set_xlabel(\"X\")\n",
    "ax.set_ylabel(\"Y\")\n",
    "ax.set_zlabel(\"Z\");"
   ]
  },
  {
   "cell_type": "markdown",
   "id": "ac83feaa",
   "metadata": {},
   "source": [
    "**Example: the iris data** ({download}`examples/iris.csv`)\n",
    "\n",
    "::: {note}\n",
    ":class: dropdown\n",
    "\n",
    "Sepal and petal size tend to be related: bigger flowers are bigger!\n",
    "But is there in addition a systematic effect of species?\n",
    ":::"
   ]
  },
  {
   "cell_type": "code",
   "execution_count": null,
   "id": "f85fab2f",
   "metadata": {},
   "outputs": [],
   "source": [
    "data = pd.read_csv('examples/iris.csv')\n",
    "# Express the names as categories\n",
    "categories = pd.Categorical(data[\"name\"])\n",
    "# The parameter 'c' is passed to plt.scatter and will control the color\n",
    "pd.plotting.scatter_matrix(data, c=categories.codes, marker=\"o\")\n",
    "fig = plt.gcf()\n",
    "fig.suptitle(\"blue: setosa, green: versicolor, red: virginica\", size=13);"
   ]
  },
  {
   "cell_type": "markdown",
   "id": "9884224d",
   "metadata": {},
   "source": [
    "Let us try to explain the sepal length as a function of the petal\n",
    "width and the category of iris"
   ]
  },
  {
   "cell_type": "code",
   "execution_count": null,
   "id": "36d5f181",
   "metadata": {},
   "outputs": [],
   "source": [
    "model = smf.ols(\"sepal_width ~ name + petal_length\", data).fit()\n",
    "model.summary()"
   ]
  },
  {
   "cell_type": "markdown",
   "id": "a0c9da4d",
   "metadata": {},
   "source": [
    "### Post-hoc hypothesis testing: analysis of variance (ANOVA)\n",
    "\n",
    "In the above iris example, we wish to test if the petal length is\n",
    "different between versicolor and virginica, after removing the effect of\n",
    "sepal width. This can be formulated as testing the difference between the\n",
    "coefficient associated to versicolor and virginica in the linear model\n",
    "estimated above (it is an Analysis of Variance, [ANOVA](https://en.wikipedia.org/wiki/Analysis_of_variance)). For this, we\n",
    "write a **vector of 'contrast'** on the parameters estimated: we want to\n",
    "test `\"name[T.versicolor] - name[T.virginica]\"`, with an [F-test](https://en.wikipedia.org/wiki/F-test):"
   ]
  },
  {
   "cell_type": "code",
   "execution_count": null,
   "id": "1a8a1bb4",
   "metadata": {},
   "outputs": [],
   "source": [
    "print(model.f_test([0, 1, -1, 0]))"
   ]
  },
  {
   "cell_type": "markdown",
   "id": "5fd1af36",
   "metadata": {},
   "source": [
    "Is this difference significant?\n",
    "\n",
    "**Start of exercise**\n",
    "\n",
    "Going back to the brain size + IQ data, test if the VIQ of male and\n",
    "female are different after removing the effect of brain size, height\n",
    "and weight.\n",
    "\n",
    "**End of exercise**"
   ]
  },
  {
   "cell_type": "markdown",
   "id": "c17600c1",
   "metadata": {},
   "source": [
    "## More visualization: Seaborn for statistical exploration\n",
    "\n",
    "[Seaborn](https://seaborn.pydata.org) combines\n",
    "simple statistical fits with plotting on pandas dataframes."
   ]
  },
  {
   "cell_type": "code",
   "execution_count": null,
   "id": "eadbb9bc",
   "metadata": {},
   "outputs": [],
   "source": [
    "import seaborn"
   ]
  },
  {
   "cell_type": "markdown",
   "id": "76b8349b",
   "metadata": {},
   "source": [
    "Let us consider a data giving wages and many other personal information\n",
    "on 500 individuals ([Berndt, ER. The Practice of Econometrics. 1991. NY:\n",
    "Addison-Wesley](https://lib.stat.cmu.edu/datasets/CPS_85_Wages)).\n",
    "\n",
    "We first load and arrange the data — view the code for details:"
   ]
  },
  {
   "cell_type": "code",
   "execution_count": null,
   "id": "6c09dc65",
   "metadata": {
    "tags": [
     "hide-input"
    ]
   },
   "outputs": [],
   "source": [
    "data = pd.read_csv(\"examples/wages.txt\",\n",
    "    skiprows=27,\n",
    "    skipfooter=6,\n",
    "    sep=None,\n",
    "    header=None,\n",
    "    engine=\"python\"  # To allow use of skipfooter.\n",
    ")\n",
    "# Give names to the columns\n",
    "names = [\n",
    "    \"education: Number of years of education\",\n",
    "    \"south: 1=person lives in South, 0=Person lives elsewhere\",\n",
    "    \"sex: 1=female, 0=Male\",\n",
    "    \"experience: Number of years of work experience\",\n",
    "    \"union: 1=union member, 0=Not union member\",\n",
    "    \"wage: wage (dollars per hour)\",\n",
    "    \"age: years\",\n",
    "    \"race: 1=other, 2=Hispanic, 3=White\",\n",
    "    \"occupation: 1=Management, 2=Sales, 3=Clerical, 4=Service, 5=Professional, 6=Other\",\n",
    "    \"sector: 0=Other, 1=Manufacturing, 2=Construction\",\n",
    "    \"marr: 0=unmarried,  1=Married\",\n",
    "]\n",
    "short_names = [n.split(\":\")[0] for n in names]\n",
    "data.columns = pd.Index(short_names)\n",
    "# Log-transform the wages, because they typically are increased with\n",
    "# multiplicative factors\n",
    "data[\"wage\"] = np.log10(data[\"wage\"])\n",
    "# Convert genders to strings (this is particularly useful so that the\n",
    "# statsmodels formulas detects that `sex` is a categorical variable)\n",
    "data[\"sex\"] = np.choose(data['sex'], [\"male\", \"female\"])"
   ]
  },
  {
   "cell_type": "markdown",
   "id": "d8270135",
   "metadata": {},
   "source": [
    "Here are the resulting loaded data."
   ]
  },
  {
   "cell_type": "code",
   "execution_count": null,
   "id": "66cc5148",
   "metadata": {},
   "outputs": [],
   "source": [
    "data"
   ]
  },
  {
   "cell_type": "markdown",
   "id": "813b68d7",
   "metadata": {},
   "source": [
    "### Pairplot: scatter matrices\n",
    "\n",
    "We can easily have an intuition on the interactions between continuous\n",
    "variables using {func}`seaborn.pairplot` to display a scatter matrix:"
   ]
  },
  {
   "cell_type": "code",
   "execution_count": null,
   "id": "eb60c465",
   "metadata": {},
   "outputs": [],
   "source": [
    "seaborn.pairplot(data, vars=['wage', 'age', 'education'], kind='reg');"
   ]
  },
  {
   "cell_type": "markdown",
   "id": "bb7b7337",
   "metadata": {},
   "source": [
    "Categorical variables can be plotted as the hue:"
   ]
  },
  {
   "cell_type": "code",
   "execution_count": null,
   "id": "54281b98",
   "metadata": {},
   "outputs": [],
   "source": [
    "seaborn.pairplot(data, vars=['wage', 'age', 'education'],\n",
    "                 kind='reg', hue='sex');"
   ]
  },
  {
   "cell_type": "markdown",
   "id": "533def84",
   "metadata": {},
   "source": [
    "::::{topic} **Look and feel and matplotlib settings**\n",
    "Seaborn changes the default of matplotlib figures to achieve a more\n",
    "\"modern\", \"excel-like\" look. It does that upon import. You can reset\n",
    "the default using:\n",
    "\n",
    "```python\n",
    "plt.rcdefaults()\n",
    "```\n",
    "\n",
    "::: {note}\n",
    ":class: dropdown\n",
    "\n",
    "To switch back to seaborn settings, or understand better styling in\n",
    "seaborn, see the [relevant section of the seaborn documentation](https://seaborn.pydata.org/tutorial/aesthetics.html).\n",
    ":::\n",
    "\n",
    "::::\n",
    "\n",
    "### lmplot: plotting a univariate regression\n",
    "\n",
    "A regression capturing the relation between one variable and another, eg\n",
    "wage, and education, can be plotted using {func}`seaborn.lmplot`:"
   ]
  },
  {
   "cell_type": "code",
   "execution_count": null,
   "id": "98dc9c69",
   "metadata": {},
   "outputs": [],
   "source": [
    "seaborn.lmplot(y='wage', x='education', data=data);"
   ]
  },
  {
   "cell_type": "markdown",
   "id": "3d16760f",
   "metadata": {},
   "source": [
    "::::{topic} **Robust regression**\n",
    "\n",
    "::: {note}\n",
    ":class: dropdown\n",
    "\n",
    "Given that, in the above plot, there seems to be a couple of data\n",
    "points that are outside of the main cloud to the right, they might be\n",
    "outliers, not representative of the population, but driving the\n",
    "regression.\n",
    "\n",
    ":::\n",
    "\n",
    "To compute a regression that is less sensitive to outliers, one must use\n",
    "a [robust model](https://en.wikipedia.org/wiki/Robust_statistics). This is\n",
    "done in seaborn using `robust=True` in the plotting functions, or in\n",
    "statsmodels by replacing the use of the OLS by a \"Robust Linear Model\",\n",
    "{func}`statsmodels.formula.api.rlm`. ::::"
   ]
  },
  {
   "cell_type": "markdown",
   "id": "1159aef0",
   "metadata": {},
   "source": [
    "## Testing for interactions"
   ]
  },
  {
   "cell_type": "code",
   "execution_count": null,
   "id": "0c428d48",
   "metadata": {},
   "outputs": [],
   "source": [
    "seaborn.lmplot(y=\"wage\", x=\"education\", hue=\"sex\", data=data);"
   ]
  },
  {
   "cell_type": "markdown",
   "id": "456abff5",
   "metadata": {},
   "source": [
    "We can first ask do `education` and `sex` separately contribute to `wage`:"
   ]
  },
  {
   "cell_type": "code",
   "execution_count": null,
   "id": "16734a3b",
   "metadata": {},
   "outputs": [],
   "source": [
    "result = smf.ols(formula=\"wage ~ education + sex\", data=data).fit()\n",
    "result.summary()"
   ]
  },
  {
   "cell_type": "markdown",
   "id": "0557da43",
   "metadata": {},
   "source": [
    "Our next question is — do wages _increase more_ with education for males than\n",
    "females?"
   ]
  },
  {
   "cell_type": "markdown",
   "id": "ef53aa3d",
   "metadata": {},
   "source": [
    "::: {note}\n",
    ":class: dropdown\n",
    "\n",
    "The plot above is made of two different fits. We need to formulate a\n",
    "single model that tests for a variance of slope across the two\n",
    "populations. This is done via an [\"interaction\"](https://www.statsmodels.org/devel/example_formulas.html#multiplicative-interactions).\n",
    ":::"
   ]
  },
  {
   "cell_type": "code",
   "execution_count": null,
   "id": "cae677b2",
   "metadata": {},
   "outputs": [],
   "source": [
    "result = smf.ols(formula='wage ~ education + sex + education * sex',\n",
    "                 data=data).fit()\n",
    "result.summary()"
   ]
  },
  {
   "cell_type": "markdown",
   "id": "cafea6a8",
   "metadata": {},
   "source": [
    "Can we conclude that education benefits males more than females?\n",
    "\n",
    ":::{admonition} Take home messages\n",
    "\n",
    "- Hypothesis testing and p-values give you the **significance** of an\n",
    "  effect / difference.\n",
    "- **Formulas** (with categorical variables) enable you to express rich\n",
    "  links in your data.\n",
    "- **Visualizing** your data and fitting simple models give insight into the\n",
    "  data.\n",
    "- **Conditionning** (adding factors that can explain all or part of\n",
    "  the variation) is an important modeling aspect that changes the\n",
    "  interpretation.\n",
    "  :::"
   ]
  }
 ],
 "metadata": {
  "kernelspec": {
   "display_name": "Python (Pyodide)",
   "name": "python"
  }
 },
 "nbformat": 4,
 "nbformat_minor": 5
}
