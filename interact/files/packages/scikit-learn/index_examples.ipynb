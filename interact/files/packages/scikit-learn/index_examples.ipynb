{
 "cells": [
  {
   "cell_type": "markdown",
   "id": "639ae5ac",
   "metadata": {},
   "source": [
    "# Examples for packages/scikit-learn/index.Rmd"
   ]
  },
  {
   "cell_type": "markdown",
   "id": "03bd8a3b",
   "metadata": {},
   "source": [
    "## Simple picture of the formal problem of machine learning\n",
    "\n",
    "<!--- plot_separator -->"
   ]
  },
  {
   "cell_type": "markdown",
   "id": "a53d9f26",
   "metadata": {},
   "source": [
    "This example generates simple synthetic data points and shows a\n",
    "separating hyperplane on them."
   ]
  },
  {
   "cell_type": "code",
   "execution_count": null,
   "id": "620f7359",
   "metadata": {},
   "outputs": [],
   "source": [
    "import numpy as np\n",
    "import matplotlib.pyplot as plt\n",
    "from sklearn.linear_model import SGDClassifier\n",
    "from sklearn.datasets import make_blobs"
   ]
  },
  {
   "cell_type": "code",
   "execution_count": null,
   "id": "1addf84d",
   "metadata": {},
   "outputs": [],
   "source": [
    "# we create 50 separable synthetic points\n",
    "X, Y = make_blobs(n_samples=50, centers=2, random_state=0, cluster_std=0.60)"
   ]
  },
  {
   "cell_type": "code",
   "execution_count": null,
   "id": "22c08930",
   "metadata": {},
   "outputs": [],
   "source": [
    "# fit the model\n",
    "clf = SGDClassifier(loss=\"hinge\", alpha=0.01, fit_intercept=True)\n",
    "clf.fit(X, Y)"
   ]
  },
  {
   "cell_type": "code",
   "execution_count": null,
   "id": "4807c0df",
   "metadata": {},
   "outputs": [],
   "source": [
    "# plot the line, the points, and the nearest vectors to the plane\n",
    "xx = np.linspace(-1, 5, 10)\n",
    "yy = np.linspace(-1, 5, 10)"
   ]
  },
  {
   "cell_type": "code",
   "execution_count": null,
   "id": "fe14fe89",
   "metadata": {},
   "outputs": [],
   "source": [
    "X1, X2 = np.meshgrid(xx, yy)\n",
    "Z = np.empty(X1.shape)\n",
    "for (i, j), val in np.ndenumerate(X1):\n",
    "    x1 = val\n",
    "    x2 = X2[i, j]\n",
    "    p = clf.decision_function([[x1, x2]])\n",
    "    Z[i, j] = p[0]"
   ]
  },
  {
   "cell_type": "code",
   "execution_count": null,
   "id": "8a4027fe",
   "metadata": {
    "lines_to_next_cell": 2
   },
   "outputs": [],
   "source": [
    "plt.figure(figsize=(4, 3))\n",
    "ax = plt.axes()\n",
    "ax.contour(\n",
    "    X1, X2, Z, [-1.0, 0.0, 1.0], colors=\"k\", linestyles=[\"dashed\", \"solid\", \"dashed\"]\n",
    ")\n",
    "ax.scatter(X[:, 0], X[:, 1], c=Y, cmap=\"Paired\")\n",
    "ax.axis(\"tight\")"
   ]
  },
  {
   "cell_type": "markdown",
   "id": "65d02e92",
   "metadata": {},
   "source": [
    "## linear_regression\n",
    "\n",
    "<!--- plot_linear_regression -->"
   ]
  },
  {
   "cell_type": "markdown",
   "id": "f85f5c7f",
   "metadata": {},
   "source": [
    "**A simple linear regression**"
   ]
  },
  {
   "cell_type": "code",
   "execution_count": null,
   "id": "5d1ad815",
   "metadata": {},
   "outputs": [],
   "source": [
    "from sklearn.linear_model import LinearRegression"
   ]
  },
  {
   "cell_type": "code",
   "execution_count": null,
   "id": "67f57045",
   "metadata": {},
   "outputs": [],
   "source": [
    "# x from 0 to 30\n",
    "rng = np.random.default_rng()\n",
    "x = 30 * rng.random((20, 1))"
   ]
  },
  {
   "cell_type": "code",
   "execution_count": null,
   "id": "61cd081f",
   "metadata": {},
   "outputs": [],
   "source": [
    "# y = a*x + b with noise\n",
    "y = 0.5 * x + 1.0 + rng.normal(size=x.shape)"
   ]
  },
  {
   "cell_type": "code",
   "execution_count": null,
   "id": "67ecfbb4",
   "metadata": {},
   "outputs": [],
   "source": [
    "# create a linear regression model\n",
    "model = LinearRegression()\n",
    "model.fit(x, y)"
   ]
  },
  {
   "cell_type": "code",
   "execution_count": null,
   "id": "d0759a04",
   "metadata": {},
   "outputs": [],
   "source": [
    "# predict y from the data\n",
    "x_new = np.linspace(0, 30, 100)\n",
    "y_new = model.predict(x_new[:, np.newaxis])"
   ]
  },
  {
   "cell_type": "code",
   "execution_count": null,
   "id": "712a1827",
   "metadata": {
    "lines_to_next_cell": 2
   },
   "outputs": [],
   "source": [
    "# plot the results\n",
    "plt.figure(figsize=(4, 3))\n",
    "ax = plt.axes()\n",
    "ax.scatter(x, y)\n",
    "ax.plot(x_new, y_new)\n",
    "ax.set_xlabel(\"x\")\n",
    "ax.set_ylabel(\"y\")\n",
    "ax.axis(\"tight\")"
   ]
  },
  {
   "cell_type": "markdown",
   "id": "a096c55e",
   "metadata": {},
   "source": [
    "## Plot 2D views of the iris dataset\n",
    "\n",
    "<!--- plot_iris_scatter -->"
   ]
  },
  {
   "cell_type": "markdown",
   "id": "8c876995",
   "metadata": {},
   "source": [
    "Plot a simple scatter plot of 2 features of the iris dataset.\n",
    "\n",
    "Note that more elaborate visualization of this dataset is detailed\n",
    "in the {ref}`statistics` chapter."
   ]
  },
  {
   "cell_type": "code",
   "execution_count": null,
   "id": "debf7d90",
   "metadata": {},
   "outputs": [],
   "source": [
    "# Load the data\n",
    "from sklearn.datasets import load_iris"
   ]
  },
  {
   "cell_type": "code",
   "execution_count": null,
   "id": "86d97435",
   "metadata": {},
   "outputs": [],
   "source": [
    "iris = load_iris()"
   ]
  },
  {
   "cell_type": "code",
   "execution_count": null,
   "id": "b6ee8e61",
   "metadata": {},
   "outputs": [],
   "source": [
    "from matplotlib import ticker"
   ]
  },
  {
   "cell_type": "code",
   "execution_count": null,
   "id": "9c6e1117",
   "metadata": {},
   "outputs": [],
   "source": [
    "# The indices of the features that we are plotting\n",
    "x_index = 0\n",
    "y_index = 1"
   ]
  },
  {
   "cell_type": "code",
   "execution_count": null,
   "id": "d253f4ea",
   "metadata": {},
   "outputs": [],
   "source": [
    "# this formatter will label the colorbar with the correct target names\n",
    "formatter = ticker.FuncFormatter(lambda i, *args: iris.target_names[int(i)])"
   ]
  },
  {
   "cell_type": "code",
   "execution_count": null,
   "id": "39760a71",
   "metadata": {},
   "outputs": [],
   "source": [
    "plt.figure(figsize=(5, 4))\n",
    "plt.scatter(iris.data[:, x_index], iris.data[:, y_index], c=iris.target)\n",
    "plt.colorbar(ticks=[0, 1, 2], format=formatter)\n",
    "plt.xlabel(iris.feature_names[x_index])\n",
    "plt.ylabel(iris.feature_names[y_index])\n",
    "plt.tight_layout()"
   ]
  },
  {
   "cell_type": "markdown",
   "id": "cb0d947a",
   "metadata": {},
   "source": [
    "## Nearest-neighbor prediction on iris\n",
    "\n",
    "<!--- plot_iris_knn -->"
   ]
  },
  {
   "cell_type": "markdown",
   "id": "f2f63eed",
   "metadata": {},
   "source": [
    "Plot the decision boundary of nearest neighbor decision on iris, first\n",
    "with a single nearest neighbor, and then using 3 nearest neighbors."
   ]
  },
  {
   "cell_type": "code",
   "execution_count": null,
   "id": "ede8262e",
   "metadata": {},
   "outputs": [],
   "source": [
    "from sklearn import neighbors, datasets\n",
    "from matplotlib.colors import ListedColormap"
   ]
  },
  {
   "cell_type": "code",
   "execution_count": null,
   "id": "b1b45d27",
   "metadata": {},
   "outputs": [],
   "source": [
    "# Create color maps for 3-class classification problem, as with iris\n",
    "cmap_light = ListedColormap([\"#FFAAAA\", \"#AAFFAA\", \"#AAAAFF\"])\n",
    "cmap_bold = ListedColormap([\"#FF0000\", \"#00FF00\", \"#0000FF\"])"
   ]
  },
  {
   "cell_type": "code",
   "execution_count": null,
   "id": "31b9eeaf",
   "metadata": {},
   "outputs": [],
   "source": [
    "iris = datasets.load_iris()\n",
    "X = iris.data[:, :2]  # we only take the first two features. We could\n",
    "# avoid this ugly slicing by using a two-dim dataset\n",
    "y = iris.target"
   ]
  },
  {
   "cell_type": "code",
   "execution_count": null,
   "id": "0d85ebf0",
   "metadata": {},
   "outputs": [],
   "source": [
    "knn = neighbors.KNeighborsClassifier(n_neighbors=1)\n",
    "knn.fit(X, y)"
   ]
  },
  {
   "cell_type": "code",
   "execution_count": null,
   "id": "a24e34ee",
   "metadata": {
    "lines_to_next_cell": 2
   },
   "outputs": [],
   "source": [
    "x_min, x_max = X[:, 0].min() - 0.1, X[:, 0].max() + 0.1\n",
    "y_min, y_max = X[:, 1].min() - 0.1, X[:, 1].max() + 0.1\n",
    "xx, yy = np.meshgrid(np.linspace(x_min, x_max, 100), np.linspace(y_min, y_max, 100))\n",
    "Z = knn.predict(np.c_[xx.ravel(), yy.ravel()])"
   ]
  },
  {
   "cell_type": "code",
   "execution_count": null,
   "id": "3bd60483",
   "metadata": {},
   "outputs": [],
   "source": [
    "# Put the result into a color plot\n",
    "Z = Z.reshape(xx.shape)\n",
    "plt.figure()\n",
    "plt.pcolormesh(xx, yy, Z, cmap=cmap_light)"
   ]
  },
  {
   "cell_type": "code",
   "execution_count": null,
   "id": "13713667",
   "metadata": {
    "lines_to_next_cell": 2
   },
   "outputs": [],
   "source": [
    "# Plot also the training points\n",
    "plt.scatter(X[:, 0], X[:, 1], c=y, cmap=cmap_bold)\n",
    "plt.xlabel(\"sepal length (cm)\")\n",
    "plt.ylabel(\"sepal width (cm)\")\n",
    "plt.axis(\"tight\")"
   ]
  },
  {
   "cell_type": "code",
   "execution_count": null,
   "id": "ecac88f3",
   "metadata": {},
   "outputs": [],
   "source": [
    "# And now, redo the analysis with 3 neighbors\n",
    "knn = neighbors.KNeighborsClassifier(n_neighbors=3)\n",
    "knn.fit(X, y)"
   ]
  },
  {
   "cell_type": "code",
   "execution_count": null,
   "id": "a4665085",
   "metadata": {},
   "outputs": [],
   "source": [
    "Z = knn.predict(np.c_[xx.ravel(), yy.ravel()])"
   ]
  },
  {
   "cell_type": "code",
   "execution_count": null,
   "id": "8d0bea4f",
   "metadata": {},
   "outputs": [],
   "source": [
    "# Put the result into a color plot\n",
    "Z = Z.reshape(xx.shape)\n",
    "plt.figure()\n",
    "plt.pcolormesh(xx, yy, Z, cmap=cmap_light)"
   ]
  },
  {
   "cell_type": "code",
   "execution_count": null,
   "id": "71d96e0f",
   "metadata": {},
   "outputs": [],
   "source": [
    "# Plot also the training points\n",
    "plt.scatter(X[:, 0], X[:, 1], c=y, cmap=cmap_bold)\n",
    "plt.xlabel(\"sepal length (cm)\")\n",
    "plt.ylabel(\"sepal width (cm)\")\n",
    "plt.axis(\"tight\")"
   ]
  },
  {
   "cell_type": "markdown",
   "id": "a6b8f65e",
   "metadata": {},
   "source": [
    "## Plot fitting a 9th order polynomial\n",
    "\n",
    "<!--- plot_polynomial_regression -->"
   ]
  },
  {
   "cell_type": "markdown",
   "id": "c5fec81c",
   "metadata": {},
   "source": [
    "Fits data generated from a 9th order polynomial with model of 4th order\n",
    "and 9th order polynomials, to demonstrate that often simpler models are\n",
    "to be preferred"
   ]
  },
  {
   "cell_type": "code",
   "execution_count": null,
   "id": "0159f519",
   "metadata": {},
   "outputs": [],
   "source": [
    "from matplotlib.colors import ListedColormap"
   ]
  },
  {
   "cell_type": "code",
   "execution_count": null,
   "id": "ccdbe641",
   "metadata": {},
   "outputs": [],
   "source": [
    "from sklearn import linear_model"
   ]
  },
  {
   "cell_type": "code",
   "execution_count": null,
   "id": "89dc1547",
   "metadata": {
    "lines_to_next_cell": 2
   },
   "outputs": [],
   "source": [
    "# Create color maps for 3-class classification problem, as with iris\n",
    "cmap_light = ListedColormap([\"#FFAAAA\", \"#AAFFAA\", \"#AAAAFF\"])\n",
    "cmap_bold = ListedColormap([\"#FF0000\", \"#00FF00\", \"#0000FF\"])"
   ]
  },
  {
   "cell_type": "code",
   "execution_count": null,
   "id": "40cb1a34",
   "metadata": {},
   "outputs": [],
   "source": [
    "rng = np.random.default_rng(27446968)\n",
    "x = 2 * rng.random(100) - 1"
   ]
  },
  {
   "cell_type": "code",
   "execution_count": null,
   "id": "240dc0a0",
   "metadata": {},
   "outputs": [],
   "source": [
    "f = lambda t: 1.2 * t**2 + 0.1 * t**3 - 0.4 * t**5 - 0.5 * t**9\n",
    "y = f(x) + 0.4 * rng.normal(size=100)"
   ]
  },
  {
   "cell_type": "code",
   "execution_count": null,
   "id": "aadd5dda",
   "metadata": {},
   "outputs": [],
   "source": [
    "x_test = np.linspace(-1, 1, 100)"
   ]
  },
  {
   "cell_type": "code",
   "execution_count": null,
   "id": "ae0c38dd",
   "metadata": {},
   "outputs": [],
   "source": [
    "# The data\n",
    "plt.figure(figsize=(6, 4))\n",
    "plt.scatter(x, y, s=4)"
   ]
  },
  {
   "cell_type": "code",
   "execution_count": null,
   "id": "47844139",
   "metadata": {},
   "outputs": [],
   "source": [
    "# Fitting 4th and 9th order polynomials\n",
    "#\n",
    "# For this we need to engineer features: the n_th powers of x:\n",
    "plt.figure(figsize=(6, 4))\n",
    "plt.scatter(x, y, s=4)\n",
    "\n",
    "X = np.array([x**i for i in range(5)]).T\n",
    "X_test = np.array([x_test**i for i in range(5)]).T\n",
    "regr = linear_model.LinearRegression()\n",
    "regr.fit(X, y)\n",
    "plt.plot(x_test, regr.predict(X_test), label=\"4th order\")\n",
    "\n",
    "X = np.array([x**i for i in range(10)]).T\n",
    "X_test = np.array([x_test**i for i in range(10)]).T\n",
    "regr = linear_model.LinearRegression()\n",
    "regr.fit(X, y)\n",
    "plt.plot(x_test, regr.predict(X_test), label=\"9th order\")\n",
    "\n",
    "plt.legend(loc=\"best\")\n",
    "plt.axis(\"tight\")\n",
    "plt.title(\"Fitting a 4th and a 9th order polynomial\")"
   ]
  },
  {
   "cell_type": "code",
   "execution_count": null,
   "id": "e1c71504",
   "metadata": {},
   "outputs": [],
   "source": [
    "# Ground truth\n",
    "plt.figure(figsize=(6, 4))\n",
    "plt.scatter(x, y, s=4)\n",
    "plt.plot(x_test, f(x_test), label=\"truth\")\n",
    "plt.axis(\"tight\")\n",
    "plt.title(\"Ground truth (9th order polynomial)\")"
   ]
  },
  {
   "cell_type": "markdown",
   "id": "454ef488",
   "metadata": {},
   "source": [
    "## Simple visualization and classification of the digits dataset\n",
    "\n",
    "<!--- plot_digits_simple_classif -->"
   ]
  },
  {
   "cell_type": "markdown",
   "id": "ba7d3f8e",
   "metadata": {},
   "source": [
    "Plot the first few samples of the digits dataset and a 2D representation\n",
    "built using PCA, then do a simple classification"
   ]
  },
  {
   "cell_type": "code",
   "execution_count": null,
   "id": "5bb03407",
   "metadata": {},
   "outputs": [],
   "source": [
    "from sklearn.datasets import load_digits"
   ]
  },
  {
   "cell_type": "code",
   "execution_count": null,
   "id": "5d58eeb4",
   "metadata": {},
   "outputs": [],
   "source": [
    "digits = load_digits()"
   ]
  },
  {
   "cell_type": "code",
   "execution_count": null,
   "id": "9653f8ce",
   "metadata": {},
   "outputs": [],
   "source": [
    "# Plot the data: images of digits\n",
    "# -------------------------------\n",
    "#\n",
    "# Each data in a 8x8 image"
   ]
  },
  {
   "cell_type": "code",
   "execution_count": null,
   "id": "09dbe8f2",
   "metadata": {
    "lines_to_next_cell": 2
   },
   "outputs": [],
   "source": [
    "fig = plt.figure(figsize=(6, 6))  # figure size in inches\n",
    "fig.subplots_adjust(left=0, right=1, bottom=0, top=1, hspace=0.05, wspace=0.05)\n",
    "for i in range(64):\n",
    "    ax = fig.add_subplot(8, 8, i + 1, xticks=[], yticks=[])\n",
    "    ax.imshow(digits.images[i], cmap=\"binary\", interpolation=\"nearest\")\n",
    "    # label the image with the target value\n",
    "    ax.text(0, 7, str(digits.target[i]))"
   ]
  },
  {
   "cell_type": "markdown",
   "id": "5ea15398",
   "metadata": {},
   "source": [
    "Plot a projection on the 2 first principal axis"
   ]
  },
  {
   "cell_type": "code",
   "execution_count": null,
   "id": "0aabbf6f",
   "metadata": {},
   "outputs": [],
   "source": [
    "from sklearn.decomposition import PCA\n",
    "\n",
    "plt.figure()\n",
    "pca = PCA(n_components=2)\n",
    "proj = pca.fit_transform(digits.data)\n",
    "plt.scatter(proj[:, 0], proj[:, 1], c=digits.target, cmap=\"Paired\")\n",
    "plt.colorbar()"
   ]
  },
  {
   "cell_type": "markdown",
   "id": "4b15c993",
   "metadata": {},
   "source": [
    "Classify with Gaussian naive Bayes"
   ]
  },
  {
   "cell_type": "code",
   "execution_count": null,
   "id": "a9f3623d",
   "metadata": {},
   "outputs": [],
   "source": [
    "from sklearn.naive_bayes import GaussianNB\n",
    "from sklearn.model_selection import train_test_split"
   ]
  },
  {
   "cell_type": "code",
   "execution_count": null,
   "id": "f38ae466",
   "metadata": {},
   "outputs": [],
   "source": [
    "# split the data into training and validation sets\n",
    "X_train, X_test, y_train, y_test = train_test_split(digits.data, digits.target)"
   ]
  },
  {
   "cell_type": "code",
   "execution_count": null,
   "id": "1dbe9613",
   "metadata": {},
   "outputs": [],
   "source": [
    "# train the model\n",
    "clf = GaussianNB()\n",
    "clf.fit(X_train, y_train)"
   ]
  },
  {
   "cell_type": "code",
   "execution_count": null,
   "id": "ab79f672",
   "metadata": {},
   "outputs": [],
   "source": [
    "# use the model to predict the labels of the test data\n",
    "predicted = clf.predict(X_test)\n",
    "expected = y_test"
   ]
  },
  {
   "cell_type": "code",
   "execution_count": null,
   "id": "f0abf09e",
   "metadata": {},
   "outputs": [],
   "source": [
    "# Plot the prediction\n",
    "fig = plt.figure(figsize=(6, 6))  # figure size in inches\n",
    "fig.subplots_adjust(left=0, right=1, bottom=0, top=1, hspace=0.05, wspace=0.05)"
   ]
  },
  {
   "cell_type": "code",
   "execution_count": null,
   "id": "88848427",
   "metadata": {
    "lines_to_next_cell": 2
   },
   "outputs": [],
   "source": [
    "# plot the digits: each image is 8x8 pixels\n",
    "for i in range(64):\n",
    "    ax = fig.add_subplot(8, 8, i + 1, xticks=[], yticks=[])\n",
    "    ax.imshow(X_test.reshape(-1, 8, 8)[i], cmap=\"binary\", interpolation=\"nearest\")\n",
    "\n",
    "    # label the image with the target value\n",
    "    if predicted[i] == expected[i]:\n",
    "        ax.text(0, 7, str(predicted[i]), color=\"green\")\n",
    "    else:\n",
    "        ax.text(0, 7, str(predicted[i]), color=\"red\")"
   ]
  },
  {
   "cell_type": "code",
   "execution_count": null,
   "id": "bbc836b8",
   "metadata": {},
   "outputs": [],
   "source": [
    "# Quantify the performance\n",
    "# ------------------------\n",
    "#\n",
    "# First print the number of correct matches\n",
    "matches = predicted == expected\n",
    "print(matches.sum())\n",
    "\n",
    "# The total number of data points\n",
    "print(len(matches))\n",
    "\n",
    "#  And now, the ratio of correct predictions\n",
    "matches.sum() / float(len(matches))"
   ]
  },
  {
   "cell_type": "code",
   "execution_count": null,
   "id": "638e7685",
   "metadata": {},
   "outputs": [],
   "source": [
    "# Print the classification report\n",
    "from sklearn import metrics"
   ]
  },
  {
   "cell_type": "code",
   "execution_count": null,
   "id": "eab2cbb7",
   "metadata": {},
   "outputs": [],
   "source": [
    "print(metrics.classification_report(expected, predicted))"
   ]
  },
  {
   "cell_type": "code",
   "execution_count": null,
   "id": "faf2c2c0",
   "metadata": {},
   "outputs": [],
   "source": [
    "# Print the confusion matrix\n",
    "print(metrics.confusion_matrix(expected, predicted))"
   ]
  },
  {
   "cell_type": "markdown",
   "id": "ed478f31",
   "metadata": {},
   "source": [
    "## A simple regression analysis on the California housing data\n",
    "\n",
    "<!--- plot_california_prediction -->"
   ]
  },
  {
   "cell_type": "markdown",
   "id": "9006f657",
   "metadata": {},
   "source": [
    "Here we perform a simple regression analysis on the California housing\n",
    "data, exploring two types of regressors."
   ]
  },
  {
   "cell_type": "code",
   "execution_count": null,
   "id": "3361b212",
   "metadata": {},
   "outputs": [],
   "source": [
    "from sklearn.datasets import fetch_california_housing"
   ]
  },
  {
   "cell_type": "code",
   "execution_count": null,
   "id": "84d1d109",
   "metadata": {},
   "outputs": [],
   "source": [
    "data = fetch_california_housing(as_frame=True)"
   ]
  },
  {
   "cell_type": "code",
   "execution_count": null,
   "id": "9bbfaced",
   "metadata": {},
   "outputs": [],
   "source": [
    "# Print a histogram of the quantity to predict: price\n",
    "plt.figure(figsize=(4, 3))\n",
    "plt.hist(data.target)\n",
    "plt.xlabel(\"price ($100k)\")\n",
    "plt.ylabel(\"count\")\n",
    "plt.tight_layout()"
   ]
  },
  {
   "cell_type": "markdown",
   "id": "6d842ddc",
   "metadata": {},
   "source": [
    "Print the joint histogram for each feature"
   ]
  },
  {
   "cell_type": "code",
   "execution_count": null,
   "id": "74a026d8",
   "metadata": {},
   "outputs": [],
   "source": [
    "for index, feature_name in enumerate(data.feature_names):\n",
    "    plt.figure(figsize=(4, 3))\n",
    "    plt.scatter(data.data[feature_name], data.target)\n",
    "    plt.ylabel(\"Price\", size=15)\n",
    "    plt.xlabel(feature_name, size=15)\n",
    "    plt.tight_layout()"
   ]
  },
  {
   "cell_type": "markdown",
   "id": "be2212b8",
   "metadata": {},
   "source": [
    "### Simple prediction"
   ]
  },
  {
   "cell_type": "code",
   "execution_count": null,
   "id": "2342545e",
   "metadata": {},
   "outputs": [],
   "source": [
    "from sklearn.model_selection import train_test_split"
   ]
  },
  {
   "cell_type": "code",
   "execution_count": null,
   "id": "bf102648",
   "metadata": {},
   "outputs": [],
   "source": [
    "X_train, X_test, y_train, y_test = train_test_split(data.data, data.target)"
   ]
  },
  {
   "cell_type": "code",
   "execution_count": null,
   "id": "d9b8ce08",
   "metadata": {},
   "outputs": [],
   "source": [
    "from sklearn.linear_model import LinearRegression"
   ]
  },
  {
   "cell_type": "code",
   "execution_count": null,
   "id": "42750507",
   "metadata": {},
   "outputs": [],
   "source": [
    "clf = LinearRegression()\n",
    "clf.fit(X_train, y_train)\n",
    "predicted = clf.predict(X_test)\n",
    "expected = y_test"
   ]
  },
  {
   "cell_type": "code",
   "execution_count": null,
   "id": "5740e317",
   "metadata": {},
   "outputs": [],
   "source": [
    "plt.figure(figsize=(4, 3))\n",
    "plt.scatter(expected, predicted)\n",
    "plt.plot([0, 8], [0, 8], \"--k\")\n",
    "plt.axis(\"tight\")\n",
    "plt.xlabel(\"True price ($100k)\")\n",
    "plt.ylabel(\"Predicted price ($100k)\")\n",
    "plt.tight_layout()"
   ]
  },
  {
   "cell_type": "markdown",
   "id": "985abf8c",
   "metadata": {},
   "source": [
    "Prediction with gradient boosted tree"
   ]
  },
  {
   "cell_type": "code",
   "execution_count": null,
   "id": "e480287b",
   "metadata": {},
   "outputs": [],
   "source": [
    "from sklearn.ensemble import GradientBoostingRegressor"
   ]
  },
  {
   "cell_type": "code",
   "execution_count": null,
   "id": "cd2c7431",
   "metadata": {},
   "outputs": [],
   "source": [
    "clf = GradientBoostingRegressor()\n",
    "clf.fit(X_train, y_train)"
   ]
  },
  {
   "cell_type": "code",
   "execution_count": null,
   "id": "1b0563a6",
   "metadata": {},
   "outputs": [],
   "source": [
    "predicted = clf.predict(X_test)\n",
    "expected = y_test"
   ]
  },
  {
   "cell_type": "code",
   "execution_count": null,
   "id": "13592d2d",
   "metadata": {},
   "outputs": [],
   "source": [
    "plt.figure(figsize=(4, 3))\n",
    "plt.scatter(expected, predicted)\n",
    "plt.plot([0, 5], [0, 5], \"--k\")\n",
    "plt.axis(\"tight\")\n",
    "plt.xlabel(\"True price ($100k)\")\n",
    "plt.ylabel(\"Predicted price ($100k)\")\n",
    "plt.tight_layout()"
   ]
  },
  {
   "cell_type": "code",
   "execution_count": null,
   "id": "a83fa7c8",
   "metadata": {},
   "outputs": [],
   "source": [
    "# Print the error rate\n",
    "print(f\"RMS: {np.sqrt(np.mean((predicted - expected) ** 2))!r} \")"
   ]
  },
  {
   "cell_type": "markdown",
   "id": "1e293a2d",
   "metadata": {},
   "source": [
    "## Measuring Decision Tree performance\n",
    "\n",
    "<!--- plot_measuring_performance -->"
   ]
  },
  {
   "cell_type": "markdown",
   "id": "00032f14",
   "metadata": {},
   "source": [
    "Demonstrates overfit when testing on train set.\n",
    "\n",
    "Get the data"
   ]
  },
  {
   "cell_type": "code",
   "execution_count": null,
   "id": "8e91b030",
   "metadata": {},
   "outputs": [],
   "source": [
    "from sklearn.datasets import fetch_california_housing"
   ]
  },
  {
   "cell_type": "code",
   "execution_count": null,
   "id": "35f4ca74",
   "metadata": {},
   "outputs": [],
   "source": [
    "data = fetch_california_housing(as_frame=True)"
   ]
  },
  {
   "cell_type": "code",
   "execution_count": null,
   "id": "8286beec",
   "metadata": {},
   "outputs": [],
   "source": [
    "# Train and test a model\n",
    "from sklearn.tree import DecisionTreeRegressor"
   ]
  },
  {
   "cell_type": "code",
   "execution_count": null,
   "id": "c096e891",
   "metadata": {},
   "outputs": [],
   "source": [
    "clf = DecisionTreeRegressor().fit(data.data, data.target)"
   ]
  },
  {
   "cell_type": "code",
   "execution_count": null,
   "id": "c8b96ca2",
   "metadata": {},
   "outputs": [],
   "source": [
    "predicted = clf.predict(data.data)\n",
    "expected = data.target"
   ]
  },
  {
   "cell_type": "markdown",
   "id": "4d36f992",
   "metadata": {},
   "source": [
    "Plot predicted as a function of expected"
   ]
  },
  {
   "cell_type": "code",
   "execution_count": null,
   "id": "ff89f4b3",
   "metadata": {},
   "outputs": [],
   "source": [
    "plt.figure(figsize=(4, 3))\n",
    "plt.scatter(expected, predicted)\n",
    "plt.plot([0, 5], [0, 5], \"--k\")\n",
    "plt.axis(\"tight\")\n",
    "plt.xlabel(\"True price ($100k)\")\n",
    "plt.ylabel(\"Predicted price ($100k)\")\n",
    "plt.tight_layout()"
   ]
  },
  {
   "cell_type": "markdown",
   "id": "a1fc402d",
   "metadata": {},
   "source": [
    "Pretty much no errors!\n",
    "\n",
    "This is too good to be true: we are testing the model on the train\n",
    "data, which is not a measure of generalization.\n",
    "\n",
    "**The results are not valid**"
   ]
  },
  {
   "cell_type": "markdown",
   "id": "73029813",
   "metadata": {},
   "source": [
    "## linear_model_cv\n",
    "\n",
    "<!--- plot_linear_model_cv -->"
   ]
  },
  {
   "cell_type": "markdown",
   "id": "aafde56d",
   "metadata": {},
   "source": [
    "Use the RidgeCV and LassoCV to set the regularization parameter"
   ]
  },
  {
   "cell_type": "code",
   "execution_count": null,
   "id": "cbe9fd82",
   "metadata": {},
   "outputs": [],
   "source": [
    "# Load the diabetes dataset\n",
    "from sklearn.datasets import load_diabetes"
   ]
  },
  {
   "cell_type": "code",
   "execution_count": null,
   "id": "3a79d6a2",
   "metadata": {},
   "outputs": [],
   "source": [
    "data = load_diabetes()\n",
    "X, y = data.data, data.target\n",
    "print(X.shape)"
   ]
  },
  {
   "cell_type": "code",
   "execution_count": null,
   "id": "232c71bb",
   "metadata": {},
   "outputs": [],
   "source": [
    "# Compute the cross-validation score with the default hyper-parameters\n",
    "from sklearn.model_selection import cross_val_score\n",
    "from sklearn.linear_model import Ridge, Lasso"
   ]
  },
  {
   "cell_type": "code",
   "execution_count": null,
   "id": "cd0d481b",
   "metadata": {},
   "outputs": [],
   "source": [
    "for Model in [Ridge, Lasso]:\n",
    "    model = Model()\n",
    "    print(f\"{Model.__name__}: {cross_val_score(model, X, y).mean()}\")"
   ]
  },
  {
   "cell_type": "code",
   "execution_count": null,
   "id": "b600e709",
   "metadata": {},
   "outputs": [],
   "source": [
    "# We compute the cross-validation score as a function of alpha, the\n",
    "# strength of the regularization for Lasso and Ridge"
   ]
  },
  {
   "cell_type": "code",
   "execution_count": null,
   "id": "3e128a87",
   "metadata": {},
   "outputs": [],
   "source": [
    "alphas = np.logspace(-3, -1, 30)"
   ]
  },
  {
   "cell_type": "code",
   "execution_count": null,
   "id": "1c2c84dc",
   "metadata": {},
   "outputs": [],
   "source": [
    "plt.figure(figsize=(5, 3))"
   ]
  },
  {
   "cell_type": "code",
   "execution_count": null,
   "id": "5d364503",
   "metadata": {},
   "outputs": [],
   "source": [
    "for Model in [Lasso, Ridge]:\n",
    "    scores = [cross_val_score(Model(alpha), X, y, cv=3).mean() for alpha in alphas]\n",
    "    plt.plot(alphas, scores, label=Model.__name__)\n",
    "plt.legend(loc=\"lower left\")\n",
    "plt.xlabel(\"alpha\")\n",
    "plt.ylabel(\"cross validation score\")\n",
    "plt.tight_layout()"
   ]
  },
  {
   "cell_type": "markdown",
   "id": "8642ec46",
   "metadata": {},
   "source": [
    "## pca\n",
    "\n",
    "<!--- plot_pca -->"
   ]
  },
  {
   "cell_type": "markdown",
   "id": "c06b1172",
   "metadata": {},
   "source": [
    "Demo PCA in 2D"
   ]
  },
  {
   "cell_type": "code",
   "execution_count": null,
   "id": "deeb467c",
   "metadata": {},
   "outputs": [],
   "source": [
    "# Load the iris data\n",
    "from sklearn import datasets\n",
    "\n",
    "iris = datasets.load_iris()\n",
    "X = iris.data\n",
    "y = iris.target"
   ]
  },
  {
   "cell_type": "code",
   "execution_count": null,
   "id": "27b9b8f7",
   "metadata": {},
   "outputs": [],
   "source": [
    "# Fit a PCA\n",
    "from sklearn.decomposition import PCA"
   ]
  },
  {
   "cell_type": "code",
   "execution_count": null,
   "id": "89e1284c",
   "metadata": {},
   "outputs": [],
   "source": [
    "pca = PCA(n_components=2, whiten=True)\n",
    "pca.fit(X)"
   ]
  },
  {
   "cell_type": "code",
   "execution_count": null,
   "id": "4ab49008",
   "metadata": {},
   "outputs": [],
   "source": [
    "# Project the data in 2D\n",
    "X_pca = pca.transform(X)"
   ]
  },
  {
   "cell_type": "code",
   "execution_count": null,
   "id": "ee691dfc",
   "metadata": {},
   "outputs": [],
   "source": [
    "# Visualize the data\n",
    "target_ids = range(len(iris.target_names))"
   ]
  },
  {
   "cell_type": "code",
   "execution_count": null,
   "id": "55c7ecfe",
   "metadata": {
    "tags": [
     "hide-input"
    ]
   },
   "outputs": [],
   "source": [
    "plt.figure(figsize=(6, 5))\n",
    "for i, c, label in zip(target_ids, \"rgbcmykw\", iris.target_names, strict=False):\n",
    "    plt.scatter(X_pca[y == i, 0], X_pca[y == i, 1], c=c, label=label)\n",
    "plt.legend()"
   ]
  },
  {
   "cell_type": "markdown",
   "id": "f381ba91",
   "metadata": {},
   "source": [
    "## tSNE to visualize digits\n",
    "\n",
    "<!--- plot_tsne -->\n",
    "\n",
    "Here we use {class}`sklearn.manifold.TSNE` to visualize the digits\n",
    "datasets. Indeed, the digits are vectors in a 8*8 = 64 dimensional space.\n",
    "We want to project them in 2D for visualization. tSNE is often a good\n",
    "solution, as it groups and separates data points based on their local\n",
    "relationship."
   ]
  },
  {
   "cell_type": "code",
   "execution_count": null,
   "id": "03a387b9",
   "metadata": {},
   "outputs": [],
   "source": [
    "# Load the iris data\n",
    "from sklearn import datasets"
   ]
  },
  {
   "cell_type": "code",
   "execution_count": null,
   "id": "a81fbca1",
   "metadata": {},
   "outputs": [],
   "source": [
    "digits = datasets.load_digits()\n",
    "# Take the first 500 data points: it's hard to see 1500 points\n",
    "X = digits.data[:500]\n",
    "y = digits.target[:500]"
   ]
  },
  {
   "cell_type": "code",
   "execution_count": null,
   "id": "96f8ba2c",
   "metadata": {},
   "outputs": [],
   "source": [
    "# Fit and transform with a TSNE\n",
    "from sklearn.manifold import TSNE"
   ]
  },
  {
   "cell_type": "code",
   "execution_count": null,
   "id": "154ed54c",
   "metadata": {},
   "outputs": [],
   "source": [
    "tsne = TSNE(n_components=2, random_state=0)"
   ]
  },
  {
   "cell_type": "code",
   "execution_count": null,
   "id": "367e8748",
   "metadata": {},
   "outputs": [],
   "source": [
    "# Project the data in 2D\n",
    "X_2d = tsne.fit_transform(X)"
   ]
  },
  {
   "cell_type": "code",
   "execution_count": null,
   "id": "835f55be",
   "metadata": {},
   "outputs": [],
   "source": [
    "# Visualize the data\n",
    "target_ids = range(len(digits.target_names))\n",
    "plt.figure(figsize=(6, 5))\n",
    "colors = \"r\", \"g\", \"b\", \"c\", \"m\", \"y\", \"k\", \"w\", \"orange\", \"purple\"\n",
    "for i, c, label in zip(target_ids, colors, digits.target_names, strict=True):\n",
    "    plt.scatter(X_2d[y == i, 0], X_2d[y == i, 1], c=c, label=label)\n",
    "plt.legend()"
   ]
  },
  {
   "cell_type": "markdown",
   "id": "526858ff",
   "metadata": {},
   "source": [
    "## Bias and variance of polynomial fit\n",
    "\n",
    "<!--- plot_bias_variance -->\n",
    "\n",
    "Demo overfitting, underfitting, and validation and learning curves with\n",
    "polynomial regression.\n",
    "\n",
    "Fit polynomes of different degrees to a dataset: for too small a degree,\n",
    "the model *underfits*, while for too large a degree, it overfits."
   ]
  },
  {
   "cell_type": "code",
   "execution_count": null,
   "id": "9d0a17ec",
   "metadata": {},
   "outputs": [],
   "source": [
    "def generating_func(x, rng=None, error=0.5):\n",
    "    rng = np.random.default_rng(rng)\n",
    "    return rng.normal(10 - 1.0 / (x + 0.1), error)"
   ]
  },
  {
   "cell_type": "code",
   "execution_count": null,
   "id": "48c7fe04",
   "metadata": {},
   "outputs": [],
   "source": [
    "# A polynomial regression\n",
    "from sklearn.pipeline import make_pipeline\n",
    "from sklearn.linear_model import LinearRegression\n",
    "from sklearn.preprocessing import PolynomialFeatures"
   ]
  },
  {
   "cell_type": "markdown",
   "id": "9eaa99e5",
   "metadata": {},
   "source": [
    "A simple figure to illustrate the problem"
   ]
  },
  {
   "cell_type": "code",
   "execution_count": null,
   "id": "386f718a",
   "metadata": {},
   "outputs": [],
   "source": [
    "n_samples = 8"
   ]
  },
  {
   "cell_type": "code",
   "execution_count": null,
   "id": "f5a94b96",
   "metadata": {},
   "outputs": [],
   "source": [
    "rng = np.random.default_rng(27446968)\n",
    "x = 10 ** np.linspace(-2, 0, n_samples)\n",
    "y = generating_func(x, rng=rng)"
   ]
  },
  {
   "cell_type": "code",
   "execution_count": null,
   "id": "21f2aa6a",
   "metadata": {},
   "outputs": [],
   "source": [
    "x_test = np.linspace(-0.2, 1.2, 1000)"
   ]
  },
  {
   "cell_type": "code",
   "execution_count": null,
   "id": "0c8ef51e",
   "metadata": {},
   "outputs": [],
   "source": [
    "titles = [\"d = 1 (under-fit; high bias)\", \"d = 2\", \"d = 6 (over-fit; high variance)\"]\n",
    "degrees = [1, 2, 6]"
   ]
  },
  {
   "cell_type": "code",
   "execution_count": null,
   "id": "d42ecee0",
   "metadata": {},
   "outputs": [],
   "source": [
    "fig = plt.figure(figsize=(9, 3.5))\n",
    "fig.subplots_adjust(left=0.06, right=0.98, bottom=0.15, top=0.85, wspace=0.05)"
   ]
  },
  {
   "cell_type": "code",
   "execution_count": null,
   "id": "76988cd3",
   "metadata": {
    "lines_to_next_cell": 2
   },
   "outputs": [],
   "source": [
    "for i, d in enumerate(degrees):\n",
    "    ax = fig.add_subplot(131 + i, xticks=[], yticks=[])\n",
    "    ax.scatter(x, y, marker=\"x\", c=\"k\", s=50)\n",
    "\n",
    "    model = make_pipeline(PolynomialFeatures(d), LinearRegression())\n",
    "    model.fit(x[:, np.newaxis], y)\n",
    "    ax.plot(x_test, model.predict(x_test[:, np.newaxis]), \"-b\")\n",
    "\n",
    "    ax.set_xlim(-0.2, 1.2)\n",
    "    ax.set_ylim(0, 12)\n",
    "    ax.set_xlabel(\"house size\")\n",
    "    if i == 0:\n",
    "        ax.set_ylabel(\"price\")\n",
    "\n",
    "    ax.set_title(titles[i])"
   ]
  },
  {
   "cell_type": "code",
   "execution_count": null,
   "id": "72df09f5",
   "metadata": {},
   "outputs": [],
   "source": [
    "# Generate a larger dataset\n",
    "from sklearn.model_selection import train_test_split"
   ]
  },
  {
   "cell_type": "code",
   "execution_count": null,
   "id": "b4e5ec42",
   "metadata": {},
   "outputs": [],
   "source": [
    "n_samples = 200\n",
    "test_size = 0.4\n",
    "error = 1.0"
   ]
  },
  {
   "cell_type": "code",
   "execution_count": null,
   "id": "ec7e81f9",
   "metadata": {},
   "outputs": [],
   "source": [
    "# randomly sample the data\n",
    "x = rng.random(n_samples)\n",
    "y = generating_func(x, rng=rng, error=error)"
   ]
  },
  {
   "cell_type": "code",
   "execution_count": null,
   "id": "069a3d14",
   "metadata": {},
   "outputs": [],
   "source": [
    "# split into training, validation, and testing sets.\n",
    "x_train, x_test, y_train, y_test = train_test_split(x, y, test_size=test_size)"
   ]
  },
  {
   "cell_type": "code",
   "execution_count": null,
   "id": "b93972eb",
   "metadata": {},
   "outputs": [],
   "source": [
    "# show the training and validation sets\n",
    "plt.figure(figsize=(6, 4))\n",
    "plt.scatter(x_train, y_train, color=\"red\", label=\"Training set\")\n",
    "plt.scatter(x_test, y_test, color=\"blue\", label=\"Test set\")\n",
    "plt.title(\"The data\")\n",
    "plt.legend(loc=\"best\")"
   ]
  },
  {
   "cell_type": "code",
   "execution_count": null,
   "id": "762c846d",
   "metadata": {},
   "outputs": [],
   "source": [
    "# Plot a validation curve\n",
    "from sklearn.model_selection import validation_curve"
   ]
  },
  {
   "cell_type": "code",
   "execution_count": null,
   "id": "93c4a33c",
   "metadata": {},
   "outputs": [],
   "source": [
    "degrees = list(range(1, 21))"
   ]
  },
  {
   "cell_type": "code",
   "execution_count": null,
   "id": "3149ceec",
   "metadata": {},
   "outputs": [],
   "source": [
    "model = make_pipeline(PolynomialFeatures(), LinearRegression())"
   ]
  },
  {
   "cell_type": "code",
   "execution_count": null,
   "id": "ff6c2e16",
   "metadata": {},
   "outputs": [],
   "source": [
    "# The parameter to vary is the \"degrees\" on the pipeline step\n",
    "# \"polynomialfeatures\"\n",
    "train_scores, validation_scores = validation_curve(\n",
    "    model,\n",
    "    x[:, np.newaxis],\n",
    "    y,\n",
    "    param_name=\"polynomialfeatures__degree\",\n",
    "    param_range=degrees,\n",
    ")"
   ]
  },
  {
   "cell_type": "code",
   "execution_count": null,
   "id": "6490190b",
   "metadata": {
    "lines_to_next_cell": 2
   },
   "outputs": [],
   "source": [
    "# Plot the mean train error and validation error across folds\n",
    "plt.figure(figsize=(6, 4))\n",
    "plt.plot(degrees, validation_scores.mean(axis=1), lw=2, label=\"cross-validation\")\n",
    "plt.plot(degrees, train_scores.mean(axis=1), lw=2, label=\"training\")\n",
    "plt.legend(loc=\"best\")\n",
    "plt.xlabel(\"degree of fit\")\n",
    "plt.ylabel(\"explained variance\")\n",
    "plt.title(\"Validation curve\")\n",
    "plt.tight_layout()"
   ]
  },
  {
   "cell_type": "markdown",
   "id": "dbaecd92",
   "metadata": {},
   "source": [
    "## Learning curves\n",
    "\n",
    "Plot train and test error with an increasing number of samples"
   ]
  },
  {
   "cell_type": "code",
   "execution_count": null,
   "id": "2d55859e",
   "metadata": {
    "lines_to_next_cell": 2
   },
   "outputs": [],
   "source": [
    "# A learning curve for d=1, 5, 15\n",
    "for d in [1, 5, 15]:\n",
    "    model = make_pipeline(PolynomialFeatures(degree=d), LinearRegression())\n",
    "\n",
    "    from sklearn.model_selection import learning_curve\n",
    "\n",
    "    train_sizes, train_scores, validation_scores = learning_curve(\n",
    "        model, x[:, np.newaxis], y, train_sizes=np.logspace(-1, 0, 20)\n",
    "    )\n",
    "\n",
    "    # Plot the mean train error and validation error across folds\n",
    "    plt.figure(figsize=(6, 4))\n",
    "    plt.plot(\n",
    "        train_sizes, validation_scores.mean(axis=1), lw=2, label=\"cross-validation\"\n",
    "    )\n",
    "    plt.plot(train_sizes, train_scores.mean(axis=1), lw=2, label=\"training\")\n",
    "    plt.ylim(ymin=-0.1, ymax=1)\n",
    "\n",
    "    plt.legend(loc=\"best\")\n",
    "    plt.xlabel(\"number of train samples\")\n",
    "    plt.ylabel(\"explained variance\")\n",
    "    plt.title(f\"Learning curve (degree={d})\")\n",
    "    plt.tight_layout()"
   ]
  },
  {
   "cell_type": "markdown",
   "id": "a67f66c0",
   "metadata": {},
   "source": [
    "## Other examples"
   ]
  },
  {
   "cell_type": "markdown",
   "id": "e8e7ea82",
   "metadata": {},
   "source": [
    "### Tutorial Diagrams\n",
    "\n",
    "<!--- plot_ML_flow_chart -->"
   ]
  },
  {
   "cell_type": "markdown",
   "id": "57adad2c",
   "metadata": {},
   "source": [
    "This script plots the flow-charts used in the scikit-learn tutorials."
   ]
  },
  {
   "cell_type": "code",
   "execution_count": null,
   "id": "69c74cce",
   "metadata": {},
   "outputs": [],
   "source": [
    "from matplotlib.patches import Circle, Rectangle, Polygon, Arrow, FancyArrow"
   ]
  },
  {
   "cell_type": "code",
   "execution_count": null,
   "id": "f16369cd",
   "metadata": {},
   "outputs": [],
   "source": [
    "def create_base(box_bg=\"#CCCCCC\", arrow1=\"#88CCFF\", arrow2=\"#88FF88\", supervised=True):\n",
    "    fig = plt.figure(figsize=(9, 6), facecolor=\"w\")\n",
    "    ax = plt.axes((0, 0, 1, 1), xticks=[], yticks=[], frameon=False)\n",
    "    ax.set_xlim(0, 9)\n",
    "    ax.set_ylim(0, 6)\n",
    "\n",
    "    patches = [\n",
    "        Rectangle((0.3, 3.6), 1.5, 1.8, zorder=1, fc=box_bg),\n",
    "        Rectangle((0.5, 3.8), 1.5, 1.8, zorder=2, fc=box_bg),\n",
    "        Rectangle((0.7, 4.0), 1.5, 1.8, zorder=3, fc=box_bg),\n",
    "        Rectangle((2.9, 3.6), 0.2, 1.8, fc=box_bg),\n",
    "        Rectangle((3.1, 3.8), 0.2, 1.8, fc=box_bg),\n",
    "        Rectangle((3.3, 4.0), 0.2, 1.8, fc=box_bg),\n",
    "        Rectangle((0.3, 0.2), 1.5, 1.8, fc=box_bg),\n",
    "        Rectangle((2.9, 0.2), 0.2, 1.8, fc=box_bg),\n",
    "        Circle((5.5, 3.5), 1.0, fc=box_bg),\n",
    "        Polygon([[5.5, 1.7], [6.1, 1.1], [5.5, 0.5], [4.9, 1.1]], fc=box_bg),\n",
    "        FancyArrow(\n",
    "            2.3, 4.6, 0.35, 0, fc=arrow1, width=0.25, head_width=0.5, head_length=0.2\n",
    "        ),\n",
    "        FancyArrow(\n",
    "            3.75, 4.2, 0.5, -0.2, fc=arrow1, width=0.25, head_width=0.5, head_length=0.2\n",
    "        ),\n",
    "        FancyArrow(\n",
    "            5.5, 2.4, 0, -0.4, fc=arrow1, width=0.25, head_width=0.5, head_length=0.2\n",
    "        ),\n",
    "        FancyArrow(\n",
    "            2.0, 1.1, 0.5, 0, fc=arrow2, width=0.25, head_width=0.5, head_length=0.2\n",
    "        ),\n",
    "        FancyArrow(\n",
    "            3.3, 1.1, 1.3, 0, fc=arrow2, width=0.25, head_width=0.5, head_length=0.2\n",
    "        ),\n",
    "        FancyArrow(\n",
    "            6.2, 1.1, 0.8, 0, fc=arrow2, width=0.25, head_width=0.5, head_length=0.2\n",
    "        ),\n",
    "    ]\n",
    "\n",
    "    if supervised:\n",
    "        patches += [\n",
    "            Rectangle((0.3, 2.4), 1.5, 0.5, zorder=1, fc=box_bg),\n",
    "            Rectangle((0.5, 2.6), 1.5, 0.5, zorder=2, fc=box_bg),\n",
    "            Rectangle((0.7, 2.8), 1.5, 0.5, zorder=3, fc=box_bg),\n",
    "            FancyArrow(\n",
    "                2.3, 2.9, 2.0, 0, fc=arrow1, width=0.25, head_width=0.5, head_length=0.2\n",
    "            ),\n",
    "            Rectangle((7.3, 0.85), 1.5, 0.5, fc=box_bg),\n",
    "        ]\n",
    "    else:\n",
    "        patches += [Rectangle((7.3, 0.2), 1.5, 1.8, fc=box_bg)]\n",
    "\n",
    "    for p in patches:\n",
    "        ax.add_patch(p)\n",
    "\n",
    "    plt.text(\n",
    "        1.45,\n",
    "        4.9,\n",
    "        \"Training\\nText,\\nDocuments,\\nImages,\\netc.\",\n",
    "        ha=\"center\",\n",
    "        va=\"center\",\n",
    "        fontsize=14,\n",
    "    )\n",
    "\n",
    "    plt.text(3.6, 4.9, \"Feature\\nVectors\", ha=\"left\", va=\"center\", fontsize=14)\n",
    "\n",
    "    plt.text(\n",
    "        5.5, 3.5, \"Machine\\nLearning\\nAlgorithm\", ha=\"center\", va=\"center\", fontsize=14\n",
    "    )\n",
    "\n",
    "    plt.text(\n",
    "        1.05,\n",
    "        1.1,\n",
    "        \"New Text,\\nDocument,\\nImage,\\netc.\",\n",
    "        ha=\"center\",\n",
    "        va=\"center\",\n",
    "        fontsize=14,\n",
    "    )\n",
    "\n",
    "    plt.text(3.3, 1.7, \"Feature\\nVector\", ha=\"left\", va=\"center\", fontsize=14)\n",
    "\n",
    "    plt.text(5.5, 1.1, \"Predictive\\nModel\", ha=\"center\", va=\"center\", fontsize=12)\n",
    "\n",
    "    if supervised:\n",
    "        plt.text(1.45, 3.05, \"Labels\", ha=\"center\", va=\"center\", fontsize=14)\n",
    "\n",
    "        plt.text(8.05, 1.1, \"Expected\\nLabel\", ha=\"center\", va=\"center\", fontsize=14)\n",
    "        plt.text(\n",
    "            8.8, 5.8, \"Supervised Learning Model\", ha=\"right\", va=\"top\", fontsize=18\n",
    "        )\n",
    "\n",
    "    else:\n",
    "        plt.text(\n",
    "            8.05,\n",
    "            1.1,\n",
    "            \"Likelihood\\nor Cluster ID\\nor Better\\nRepresentation\",\n",
    "            ha=\"center\",\n",
    "            va=\"center\",\n",
    "            fontsize=12,\n",
    "        )\n",
    "        plt.text(\n",
    "            8.8, 5.8, \"Unsupervised Learning Model\", ha=\"right\", va=\"top\", fontsize=18\n",
    "        )"
   ]
  },
  {
   "cell_type": "code",
   "execution_count": null,
   "id": "059f9e26",
   "metadata": {},
   "outputs": [],
   "source": [
    "def plot_supervised_chart(annotate=False):\n",
    "    create_base(supervised=True)\n",
    "    if annotate:\n",
    "        fontdict = {\"color\": \"r\", \"weight\": \"bold\", \"size\": 14}\n",
    "        plt.text(\n",
    "            1.9,\n",
    "            4.55,\n",
    "            \"X = vec.fit_transform(input)\",\n",
    "            fontdict=fontdict,\n",
    "            rotation=20,\n",
    "            ha=\"left\",\n",
    "            va=\"bottom\",\n",
    "        )\n",
    "        plt.text(\n",
    "            3.7,\n",
    "            3.2,\n",
    "            \"clf.fit(X, y)\",\n",
    "            fontdict=fontdict,\n",
    "            rotation=20,\n",
    "            ha=\"left\",\n",
    "            va=\"bottom\",\n",
    "        )\n",
    "        plt.text(\n",
    "            1.7,\n",
    "            1.5,\n",
    "            \"X_new = vec.transform(input)\",\n",
    "            fontdict=fontdict,\n",
    "            rotation=20,\n",
    "            ha=\"left\",\n",
    "            va=\"bottom\",\n",
    "        )\n",
    "        plt.text(\n",
    "            6.1,\n",
    "            1.5,\n",
    "            \"y_new = clf.predict(X_new)\",\n",
    "            fontdict=fontdict,\n",
    "            rotation=20,\n",
    "            ha=\"left\",\n",
    "            va=\"bottom\",\n",
    "        )"
   ]
  },
  {
   "cell_type": "code",
   "execution_count": null,
   "id": "dd43a1ed",
   "metadata": {},
   "outputs": [],
   "source": [
    "def plot_unsupervised_chart():\n",
    "    create_base(supervised=False)"
   ]
  },
  {
   "cell_type": "code",
   "execution_count": null,
   "id": "9f05bdb6",
   "metadata": {
    "tags": [
     "hide-input"
    ]
   },
   "outputs": [],
   "source": [
    "if __name__ == \"__main__\":\n",
    "    plot_supervised_chart(False)\n",
    "    plot_supervised_chart(True)\n",
    "    plot_unsupervised_chart()"
   ]
  },
  {
   "cell_type": "markdown",
   "id": "9cc0ea5c",
   "metadata": {},
   "source": [
    "### Compare classifiers on the digits data\n",
    "\n",
    "<!--- plot_compare_classifiers -->"
   ]
  },
  {
   "cell_type": "markdown",
   "id": "b665a775",
   "metadata": {},
   "source": [
    "Compare the performance of a variety of classifiers on a test set for the\n",
    "digits data."
   ]
  },
  {
   "cell_type": "code",
   "execution_count": null,
   "id": "8083e4c0",
   "metadata": {},
   "outputs": [],
   "source": [
    "from sklearn import model_selection, datasets, metrics\n",
    "from sklearn.svm import LinearSVC\n",
    "from sklearn.naive_bayes import GaussianNB\n",
    "from sklearn.neighbors import KNeighborsClassifier"
   ]
  },
  {
   "cell_type": "code",
   "execution_count": null,
   "id": "8d78c76b",
   "metadata": {},
   "outputs": [],
   "source": [
    "digits = datasets.load_digits()\n",
    "X = digits.data\n",
    "y = digits.target\n",
    "X_train, X_test, y_train, y_test = model_selection.train_test_split(\n",
    "    X, y, test_size=0.25, random_state=0\n",
    ")"
   ]
  },
  {
   "cell_type": "code",
   "execution_count": null,
   "id": "3f4193dc",
   "metadata": {},
   "outputs": [],
   "source": [
    "for Model in [LinearSVC, GaussianNB, KNeighborsClassifier]:\n",
    "    clf = Model().fit(X_train, y_train)\n",
    "    y_pred = clf.predict(X_test)\n",
    "    print(f\"{Model.__name__}: {metrics.f1_score(y_test, y_pred, average='macro')}\")"
   ]
  },
  {
   "cell_type": "code",
   "execution_count": null,
   "id": "a1de8021",
   "metadata": {},
   "outputs": [],
   "source": [
    "print(\"------------------\")"
   ]
  },
  {
   "cell_type": "code",
   "execution_count": null,
   "id": "82dd5cd9",
   "metadata": {},
   "outputs": [],
   "source": [
    "# test SVC loss\n",
    "for loss in [\"hinge\", \"squared_hinge\"]:\n",
    "    clf = LinearSVC(loss=loss).fit(X_train, y_train)\n",
    "    y_pred = clf.predict(X_test)\n",
    "    print(\n",
    "        f\"LinearSVC(loss='{loss}'): {metrics.f1_score(y_test, y_pred, average='macro')}\"\n",
    "    )"
   ]
  },
  {
   "cell_type": "code",
   "execution_count": null,
   "id": "b89e250e",
   "metadata": {},
   "outputs": [],
   "source": [
    "print(\"-------------------\")"
   ]
  },
  {
   "cell_type": "code",
   "execution_count": null,
   "id": "7da1d8ca",
   "metadata": {},
   "outputs": [],
   "source": [
    "# test the number of neighbors\n",
    "for n_neighbors in range(1, 11):\n",
    "    clf = KNeighborsClassifier(n_neighbors=n_neighbors).fit(X_train, y_train)\n",
    "    y_pred = clf.predict(X_test)\n",
    "    print(\n",
    "        f\"KNeighbors(n_neighbors={n_neighbors}): {metrics.f1_score(y_test, y_pred, average='macro')}\"\n",
    "    )"
   ]
  },
  {
   "cell_type": "markdown",
   "id": "e21dcc16",
   "metadata": {},
   "source": [
    "### The eigenfaces example: chaining PCA and SVMs\n",
    "\n",
    "<!--- plot_eigenfaces -->"
   ]
  },
  {
   "cell_type": "markdown",
   "id": "6b839e64",
   "metadata": {},
   "source": [
    "The goal of this example is to show how an unsupervised method and a\n",
    "supervised one can be chained for better prediction. It starts with a\n",
    "didactic but lengthy way of doing things, and finishes with the\n",
    "idiomatic approach to pipelining in scikit-learn.\n",
    "\n",
    "Here we'll take a look at a simple facial recognition example. Ideally,\n",
    "we would use a dataset consisting of a subset of the [Labeled Faces in\n",
    "the Wild](http://vis-www.cs.umass.edu/lfw) data that is available with\n",
    "{func}`sklearn.datasets.fetch_lfw_people`. However, this is a relatively large\n",
    "download (~200MB) so we will do the tutorial on a simpler, less rich dataset.\n",
    "Feel free to explore the LFW dataset."
   ]
  },
  {
   "cell_type": "code",
   "execution_count": null,
   "id": "2f1a1f93",
   "metadata": {},
   "outputs": [],
   "source": [
    "from sklearn import datasets"
   ]
  },
  {
   "cell_type": "code",
   "execution_count": null,
   "id": "d4610369",
   "metadata": {},
   "outputs": [],
   "source": [
    "faces = datasets.fetch_olivetti_faces()\n",
    "faces.data.shape"
   ]
  },
  {
   "cell_type": "markdown",
   "id": "fecce0ea",
   "metadata": {},
   "source": [
    "Let's visualize these faces to see what we're working with"
   ]
  },
  {
   "cell_type": "code",
   "execution_count": null,
   "id": "622b7bc9",
   "metadata": {},
   "outputs": [],
   "source": [
    "fig = plt.figure(figsize=(8, 6))\n",
    "# plot several images\n",
    "for i in range(15):\n",
    "    ax = fig.add_subplot(3, 5, i + 1, xticks=[], yticks=[])\n",
    "    ax.imshow(faces.images[i], cmap=\"bone\")"
   ]
  },
  {
   "cell_type": "markdown",
   "id": "293297f3",
   "metadata": {},
   "source": [
    "**Start of note**\n",
    "\n",
    "Note that these faces have already been localized and scaled to a common size.\n",
    "This is an important preprocessing piece for facial recognition, and is\n",
    "a process that can require a large collection of training data. This can be\n",
    "done in scikit-learn, but the challenge is gathering a sufficient amount of\n",
    "training data for the algorithm to work. Fortunately, this piece is common\n",
    "enough that it has been done. One good resource is [OpenCV](\n",
    "https://docs.opencv.org/2.4/modules/contrib/doc/facerec/facerec_tutorial.html)\n",
    "— the *Open Computer Vision Library*.\n",
    "\n",
    "**End of note**\n",
    "\n",
    "We'll perform a Support Vector classification of the images. We'll do a\n",
    "typical train-test split on the images:"
   ]
  },
  {
   "cell_type": "code",
   "execution_count": null,
   "id": "57a5a823",
   "metadata": {},
   "outputs": [],
   "source": [
    "from sklearn.model_selection import train_test_split"
   ]
  },
  {
   "cell_type": "code",
   "execution_count": null,
   "id": "327f6c5f",
   "metadata": {},
   "outputs": [],
   "source": [
    "X_train, X_test, y_train, y_test = train_test_split(\n",
    "    faces.data, faces.target, random_state=0\n",
    ")"
   ]
  },
  {
   "cell_type": "code",
   "execution_count": null,
   "id": "e8e05e3a",
   "metadata": {},
   "outputs": [],
   "source": [
    "print(X_train.shape, X_test.shape)"
   ]
  },
  {
   "cell_type": "markdown",
   "id": "29800090",
   "metadata": {},
   "source": [
    "### Preprocessing: Principal Component Analysis\n",
    "\n",
    "1850 dimensions is a lot for SVM. We can use PCA to reduce these 1850\n",
    "features to a manageable size, while maintaining most of the information\n",
    "in the dataset."
   ]
  },
  {
   "cell_type": "code",
   "execution_count": null,
   "id": "00cbcabd",
   "metadata": {},
   "outputs": [],
   "source": [
    "from sklearn import decomposition"
   ]
  },
  {
   "cell_type": "code",
   "execution_count": null,
   "id": "62b41771",
   "metadata": {},
   "outputs": [],
   "source": [
    "pca = decomposition.PCA(n_components=150, whiten=True)\n",
    "pca.fit(X_train)"
   ]
  },
  {
   "cell_type": "markdown",
   "id": "e83f7b23",
   "metadata": {},
   "source": [
    "One interesting part of PCA is that it computes the \"mean\" face, which\n",
    "can be interesting to examine:"
   ]
  },
  {
   "cell_type": "code",
   "execution_count": null,
   "id": "68355de3",
   "metadata": {},
   "outputs": [],
   "source": [
    "plt.imshow(pca.mean_.reshape(faces.images[0].shape), cmap=\"bone\")"
   ]
  },
  {
   "cell_type": "markdown",
   "id": "571ce396",
   "metadata": {},
   "source": [
    "The principal components measure deviations about this mean along\n",
    "orthogonal axes."
   ]
  },
  {
   "cell_type": "code",
   "execution_count": null,
   "id": "fe2af3b3",
   "metadata": {},
   "outputs": [],
   "source": [
    "print(pca.components_.shape)"
   ]
  },
  {
   "cell_type": "markdown",
   "id": "0c03674e",
   "metadata": {},
   "source": [
    "It is also interesting to visualize these principal components:"
   ]
  },
  {
   "cell_type": "code",
   "execution_count": null,
   "id": "9d0d0990",
   "metadata": {},
   "outputs": [],
   "source": [
    "fig = plt.figure(figsize=(16, 6))\n",
    "for i in range(30):\n",
    "    ax = fig.add_subplot(3, 10, i + 1, xticks=[], yticks=[])\n",
    "    ax.imshow(pca.components_[i].reshape(faces.images[0].shape), cmap=\"bone\")"
   ]
  },
  {
   "cell_type": "markdown",
   "id": "4c43591c",
   "metadata": {},
   "source": [
    "The components (\"eigenfaces\") are ordered by their importance from\n",
    "top-left to bottom-right. We see that the first few components seem to\n",
    "primarily take care of lighting conditions; the remaining components\n",
    "pull out certain identifying features: the nose, eyes, eyebrows, etc.\n",
    "\n",
    "With this projection computed, we can now project our original training\n",
    "and test data onto the PCA basis:"
   ]
  },
  {
   "cell_type": "code",
   "execution_count": null,
   "id": "2898deef",
   "metadata": {},
   "outputs": [],
   "source": [
    "X_train_pca = pca.transform(X_train)\n",
    "X_test_pca = pca.transform(X_test)\n",
    "print(X_train_pca.shape)\n",
    "print(X_test_pca.shape)"
   ]
  },
  {
   "cell_type": "markdown",
   "id": "9d676981",
   "metadata": {},
   "source": [
    "These projected components correspond to factors in a linear combination\n",
    "of component images such that the combination approaches the original\n",
    "face.\n",
    "\n",
    "### Doing the Learning: Support Vector Machines\n",
    "\n",
    "Now we'll perform support-vector-machine classification on this reduced\n",
    "dataset:"
   ]
  },
  {
   "cell_type": "code",
   "execution_count": null,
   "id": "31c60edb",
   "metadata": {},
   "outputs": [],
   "source": [
    "from sklearn import svm"
   ]
  },
  {
   "cell_type": "code",
   "execution_count": null,
   "id": "cba29f5e",
   "metadata": {},
   "outputs": [],
   "source": [
    "clf = svm.SVC(C=5.0, gamma=0.001)\n",
    "clf.fit(X_train_pca, y_train)"
   ]
  },
  {
   "cell_type": "markdown",
   "id": "7dd97a04",
   "metadata": {},
   "source": [
    "Finally, we can evaluate how well this classification did. First, we\n",
    "might plot a few of the test-cases with the labels learned from the\n",
    "training set:"
   ]
  },
  {
   "cell_type": "code",
   "execution_count": null,
   "id": "be83a8f7",
   "metadata": {},
   "outputs": [],
   "source": [
    "fig = plt.figure(figsize=(8, 6))\n",
    "for i in range(15):\n",
    "    ax = fig.add_subplot(3, 5, i + 1, xticks=[], yticks=[])\n",
    "    ax.imshow(X_test[i].reshape(faces.images[0].shape), cmap=\"bone\")\n",
    "    y_pred = clf.predict(X_test_pca[i, np.newaxis])[0]\n",
    "    color = \"black\" if y_pred == y_test[i] else \"red\"\n",
    "    ax.set_title(y_pred, fontsize=\"small\", color=color)"
   ]
  },
  {
   "cell_type": "markdown",
   "id": "36f21ee4",
   "metadata": {},
   "source": [
    "The classifier is correct on an impressive number of images given the\n",
    "simplicity of its learning model! Using a linear classifier on 150\n",
    "features derived from the pixel-level data, the algorithm correctly\n",
    "identifies a large number of the people in the images.\n",
    "\n",
    "Again, we can quantify this effectiveness using one of several measures\n",
    "from {mod}`sklearn.metrics`. First we can do the classification\n",
    "report, which shows the precision, recall and other measures of the\n",
    "\"goodness\" of the classification:"
   ]
  },
  {
   "cell_type": "code",
   "execution_count": null,
   "id": "b0d19871",
   "metadata": {},
   "outputs": [],
   "source": [
    "from sklearn import metrics"
   ]
  },
  {
   "cell_type": "code",
   "execution_count": null,
   "id": "18cacd92",
   "metadata": {},
   "outputs": [],
   "source": [
    "y_pred = clf.predict(X_test_pca)\n",
    "print(metrics.classification_report(y_test, y_pred))"
   ]
  },
  {
   "cell_type": "markdown",
   "id": "c6b37438",
   "metadata": {},
   "source": [
    "Another interesting metric is the *confusion matrix*, which indicates\n",
    "how often any two items are mixed-up. The confusion matrix of a perfect\n",
    "classifier would only have nonzero entries on the diagonal, with zeros\n",
    "on the off-diagonal:"
   ]
  },
  {
   "cell_type": "code",
   "execution_count": null,
   "id": "39f2af5a",
   "metadata": {},
   "outputs": [],
   "source": [
    "print(metrics.confusion_matrix(y_test, y_pred))"
   ]
  },
  {
   "cell_type": "markdown",
   "id": "ce763a74",
   "metadata": {},
   "source": [
    "### Pipelining\n",
    "\n",
    "Above we used PCA as a pre-processing step before applying our support\n",
    "vector machine classifier. Plugging the output of one estimator directly\n",
    "into the input of a second estimator is a commonly used pattern; for\n",
    "this reason scikit-learn provides a ``Pipeline`` object which automates\n",
    "this process. The above problem can be re-expressed as a pipeline as\n",
    "follows:"
   ]
  },
  {
   "cell_type": "code",
   "execution_count": null,
   "id": "74d78dd1",
   "metadata": {},
   "outputs": [],
   "source": [
    "from sklearn.pipeline import Pipeline"
   ]
  },
  {
   "cell_type": "code",
   "execution_count": null,
   "id": "b32ae53f",
   "metadata": {},
   "outputs": [],
   "source": [
    "clf = Pipeline(\n",
    "    [\n",
    "        (\"pca\", decomposition.PCA(n_components=150, whiten=True)),\n",
    "        (\"svm\", svm.LinearSVC(C=1.0)),\n",
    "    ]\n",
    ")"
   ]
  },
  {
   "cell_type": "code",
   "execution_count": null,
   "id": "b0b6ae3e",
   "metadata": {},
   "outputs": [],
   "source": [
    "clf.fit(X_train, y_train)"
   ]
  },
  {
   "cell_type": "code",
   "execution_count": null,
   "id": "362c9190",
   "metadata": {
    "tags": [
     "hide-input"
    ]
   },
   "outputs": [],
   "source": [
    "y_pred = clf.predict(X_test)\n",
    "print(metrics.confusion_matrix(y_pred, y_test))"
   ]
  },
  {
   "cell_type": "markdown",
   "id": "09affda8",
   "metadata": {},
   "source": [
    "### A Note on Facial Recognition\n",
    "\n",
    "Here we have used PCA \"eigenfaces\" as a pre-processing step for facial\n",
    "recognition. The reason we chose this is because PCA is a\n",
    "broadly-applicable technique, which can be useful for a wide array of\n",
    "data types. Research in the field of facial recognition in particular,\n",
    "however, has shown that other more specific feature extraction methods\n",
    "are can be much more effective."
   ]
  },
  {
   "cell_type": "markdown",
   "id": "40d26ff8",
   "metadata": {},
   "source": [
    "### Example of linear and non-linear models\n",
    "\n",
    "<!--- plot_svm_non_linear -->"
   ]
  },
  {
   "cell_type": "markdown",
   "id": "0c3452ae",
   "metadata": {},
   "source": [
    "This is an example plot from the tutorial which accompanies an explanation\n",
    "of the support vector machine GUI."
   ]
  },
  {
   "cell_type": "code",
   "execution_count": null,
   "id": "56b49b4b",
   "metadata": {
    "lines_to_next_cell": 2
   },
   "outputs": [],
   "source": [
    "from sklearn import svm"
   ]
  },
  {
   "cell_type": "code",
   "execution_count": null,
   "id": "3eb8294a",
   "metadata": {},
   "outputs": [],
   "source": [
    "rng = np.random.default_rng(27446968)"
   ]
  },
  {
   "cell_type": "markdown",
   "id": "3cd1236e",
   "metadata": {},
   "source": [
    "Data that is linearly separable\n"
   ]
  },
  {
   "cell_type": "code",
   "execution_count": null,
   "id": "e48ec54c",
   "metadata": {},
   "outputs": [],
   "source": [
    "def linear_model(rseed=42, n_samples=30):\n",
    "    \"Generate data according to a linear model\"\n",
    "    np.random.seed(rseed)\n",
    "\n",
    "    data = np.random.normal(0, 10, (n_samples, 2))\n",
    "    data[: n_samples // 2] -= 15\n",
    "    data[n_samples // 2 :] += 15\n",
    "\n",
    "    labels = np.ones(n_samples)\n",
    "    labels[: n_samples // 2] = -1\n",
    "\n",
    "    return data, labels"
   ]
  },
  {
   "cell_type": "code",
   "execution_count": null,
   "id": "00773d86",
   "metadata": {},
   "outputs": [],
   "source": [
    "X, y = linear_model()\n",
    "clf = svm.SVC(kernel=\"linear\")\n",
    "clf.fit(X, y)"
   ]
  },
  {
   "cell_type": "code",
   "execution_count": null,
   "id": "b3758c54",
   "metadata": {},
   "outputs": [],
   "source": [
    "plt.figure(figsize=(6, 4))\n",
    "ax = plt.subplot(111, xticks=[], yticks=[])\n",
    "ax.scatter(X[:, 0], X[:, 1], c=y, cmap=\"bone\")\n",
    "ax.scatter(\n",
    "    clf.support_vectors_[:, 0],\n",
    "    clf.support_vectors_[:, 1],\n",
    "    s=80,\n",
    "    edgecolors=\"k\",\n",
    "    facecolors=\"none\",\n",
    ")\n",
    "delta = 1\n",
    "y_min, y_max = -50, 50\n",
    "x_min, x_max = -50, 50\n",
    "x = np.arange(x_min, x_max + delta, delta)\n",
    "y = np.arange(y_min, y_max + delta, delta)\n",
    "X1, X2 = np.meshgrid(x, y)\n",
    "Z = clf.decision_function(np.c_[X1.ravel(), X2.ravel()])\n",
    "Z = Z.reshape(X1.shape)\n",
    "ax.contour(\n",
    "    X1, X2, Z, [-1.0, 0.0, 1.0], colors=\"k\", linestyles=[\"dashed\", \"solid\", \"dashed\"]\n",
    ")"
   ]
  },
  {
   "cell_type": "markdown",
   "id": "f479b507",
   "metadata": {},
   "source": [
    "Data with a non-linear separation\n"
   ]
  },
  {
   "cell_type": "code",
   "execution_count": null,
   "id": "23665cad",
   "metadata": {},
   "outputs": [],
   "source": [
    "def nonlinear_model(rseed=27446968, n_samples=30):\n",
    "    rng = np.random.default_rng(rseed)\n",
    "\n",
    "    radius = 40 * rng.random(n_samples)\n",
    "    far_pts = radius > 20\n",
    "    radius[far_pts] *= 1.2\n",
    "    radius[~far_pts] *= 1.1\n",
    "\n",
    "    theta = rng.random(n_samples) * np.pi * 2\n",
    "\n",
    "    data = np.empty((n_samples, 2))\n",
    "    data[:, 0] = radius * np.cos(theta)\n",
    "    data[:, 1] = radius * np.sin(theta)\n",
    "\n",
    "    labels = np.ones(n_samples)\n",
    "    labels[far_pts] = -1\n",
    "\n",
    "    return data, labels"
   ]
  },
  {
   "cell_type": "code",
   "execution_count": null,
   "id": "58ec31d3",
   "metadata": {},
   "outputs": [],
   "source": [
    "X, y = nonlinear_model()\n",
    "clf = svm.SVC(kernel=\"rbf\", gamma=0.001, coef0=0, degree=3)\n",
    "clf.fit(X, y)"
   ]
  },
  {
   "cell_type": "code",
   "execution_count": null,
   "id": "98d0f18f",
   "metadata": {},
   "outputs": [],
   "source": [
    "plt.figure(figsize=(6, 4))\n",
    "ax = plt.subplot(1, 1, 1, xticks=[], yticks=[])\n",
    "ax.scatter(X[:, 0], X[:, 1], c=y, cmap=\"bone\", zorder=2)\n",
    "ax.scatter(\n",
    "    clf.support_vectors_[:, 0],\n",
    "    clf.support_vectors_[:, 1],\n",
    "    s=80,\n",
    "    edgecolors=\"k\",\n",
    "    facecolors=\"none\",\n",
    ")\n",
    "delta = 1\n",
    "y_min, y_max = -50, 50\n",
    "x_min, x_max = -50, 50\n",
    "x = np.arange(x_min, x_max + delta, delta)\n",
    "y = np.arange(y_min, y_max + delta, delta)\n",
    "X1, X2 = np.meshgrid(x, y)\n",
    "Z = clf.decision_function(np.c_[X1.ravel(), X2.ravel()])\n",
    "Z = Z.reshape(X1.shape)\n",
    "ax.contour(\n",
    "    X1,\n",
    "    X2,\n",
    "    Z,\n",
    "    [-1.0, 0.0, 1.0],\n",
    "    colors=\"k\",\n",
    "    linestyles=[\"dashed\", \"solid\", \"dashed\"],\n",
    "    zorder=1,\n",
    ")"
   ]
  },
  {
   "cell_type": "markdown",
   "id": "3917585b",
   "metadata": {},
   "source": [
    "### variance_linear_regr\n",
    "\n",
    "<!--- plot_variance_linear_regr -->"
   ]
  },
  {
   "cell_type": "markdown",
   "id": "1515a403",
   "metadata": {},
   "source": [
    "Plot variance and regularization in linear models"
   ]
  },
  {
   "cell_type": "code",
   "execution_count": null,
   "id": "7439502c",
   "metadata": {},
   "outputs": [],
   "source": [
    "# Smaller figures"
   ]
  },
  {
   "cell_type": "code",
   "execution_count": null,
   "id": "5a2d6ff3",
   "metadata": {},
   "outputs": [],
   "source": [
    "plt.rcParams[\"figure.figsize\"] = (3, 2)"
   ]
  },
  {
   "cell_type": "code",
   "execution_count": null,
   "id": "c138b9a6",
   "metadata": {},
   "outputs": [],
   "source": [
    "# We consider the situation where we have only 2 data point\n",
    "X = np.c_[0.5, 1].T\n",
    "y = [0.5, 1]\n",
    "X_test = np.c_[0, 2].T"
   ]
  },
  {
   "cell_type": "code",
   "execution_count": null,
   "id": "ead025db",
   "metadata": {},
   "outputs": [],
   "source": [
    "# Without noise, as linear regression fits the data perfectly\n",
    "from sklearn import linear_model"
   ]
  },
  {
   "cell_type": "code",
   "execution_count": null,
   "id": "ce248194",
   "metadata": {},
   "outputs": [],
   "source": [
    "regr = linear_model.LinearRegression()\n",
    "regr.fit(X, y)\n",
    "plt.plot(X, y, \"o\")\n",
    "plt.plot(X_test, regr.predict(X_test))"
   ]
  },
  {
   "cell_type": "code",
   "execution_count": null,
   "id": "a408b20a",
   "metadata": {},
   "outputs": [],
   "source": [
    "# In real life situation, we have noise (e.g. measurement noise) in our data:\n",
    "rng = np.random.default_rng(27446968)\n",
    "for _ in range(6):\n",
    "    noisy_X = X + np.random.normal(loc=0, scale=0.1, size=X.shape)\n",
    "    plt.plot(noisy_X, y, \"o\")\n",
    "    regr.fit(noisy_X, y)\n",
    "    plt.plot(X_test, regr.predict(X_test))"
   ]
  },
  {
   "cell_type": "markdown",
   "id": "0d6416d1",
   "metadata": {},
   "source": [
    "As we can see, our linear model captures and amplifies the noise in the\n",
    "data. It displays a lot of variance.\n",
    "\n",
    "We can use another linear estimator that uses regularization, the\n",
    "{class}`~sklearn.linear_model.Ridge` estimator. This estimator regularizes the\n",
    "coefficients by shrinking them to zero, under the assumption that very high\n",
    "correlations are often spurious. The alpha parameter controls the amount of\n",
    "shrinkage used."
   ]
  },
  {
   "cell_type": "code",
   "execution_count": null,
   "id": "95792776",
   "metadata": {},
   "outputs": [],
   "source": [
    "regr = linear_model.Ridge(alpha=0.1)\n",
    "np.random.seed(0)\n",
    "for _ in range(6):\n",
    "    noisy_X = X + np.random.normal(loc=0, scale=0.1, size=X.shape)\n",
    "    plt.plot(noisy_X, y, \"o\")\n",
    "    regr.fit(noisy_X, y)\n",
    "    plt.plot(X_test, regr.predict(X_test))"
   ]
  }
 ],
 "metadata": {
  "jupytext": {
   "formats": "ipynb,Rmd"
  },
  "kernelspec": {
   "display_name": "Python (Pyodide)",
   "name": "python"
  },
  "orphan": true
 },
 "nbformat": 4,
 "nbformat_minor": 5
}
