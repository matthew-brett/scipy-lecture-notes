{
 "cells": [
  {
   "cell_type": "markdown",
   "id": "523398bf",
   "metadata": {},
   "source": [
    "<!---\n",
    "TODO: bench and fit in 1:30\n",
    "-->\n",
    "# Sympy : Symbolic Mathematics in Python\n",
    "\n",
    "**Author**: *Fabian Pedregosa*\n",
    "\n",
    "**Start of admonition: Objectives**\n",
    "1. Evaluate expressions with arbitrary precision.\n",
    "2. Perform algebraic manipulations on symbolic expressions.\n",
    "3. Perform basic calculus tasks (limits, differentiation and\n",
    "   : integration) with symbolic expressions.\n",
    "4. Solve polynomial and transcendental equations.\n",
    "5. Solve some differential equations.\n",
    "**End of admonition**\n",
    "\n",
    "**What is SymPy?** SymPy is a Python library for symbolic mathematics. It\n",
    "aims to be an alternative to systems such as Mathematica or Maple while keeping\n",
    "the code as simple as possible and easily\n",
    "extensible. SymPy is written entirely in Python and does not require any\n",
    "external libraries.\n",
    "\n",
    "Sympy documentation and packages for installation can be found on\n",
    "<https://www.sympy.org/>\n",
    "\n",
    "## First Steps with SymPy\n",
    "\n",
    "### Using SymPy as a calculator\n",
    "\n",
    "SymPy defines three numerical types: `Real`, `Rational` and `Integer`.\n",
    "\n",
    "The Rational class represents a rational number as a pair of two\n",
    "Integers: the numerator and the denominator, so `Rational(1, 2)`\n",
    "represents 1/2, `Rational(5, 2)` 5/2 and so on:"
   ]
  },
  {
   "cell_type": "code",
   "execution_count": null,
   "id": "b7b41415",
   "metadata": {},
   "outputs": [],
   "source": [
    "import sympy as sym\n",
    "a = sym.Rational(1, 2)"
   ]
  },
  {
   "cell_type": "code",
   "execution_count": null,
   "id": "dfcd7b94",
   "metadata": {},
   "outputs": [],
   "source": [
    "a"
   ]
  },
  {
   "cell_type": "code",
   "execution_count": null,
   "id": "80eebe98",
   "metadata": {},
   "outputs": [],
   "source": [
    "a*2"
   ]
  },
  {
   "cell_type": "markdown",
   "id": "b28fac16",
   "metadata": {},
   "source": [
    "SymPy uses mpmath in the background, which makes it possible to\n",
    "perform computations using arbitrary-precision arithmetic. That\n",
    "way, some special constants, like $e$, $pi$, $oo$ (Infinity),\n",
    "are treated as\n",
    "symbols and can be evaluated with arbitrary precision:"
   ]
  },
  {
   "cell_type": "code",
   "execution_count": null,
   "id": "046caafb",
   "metadata": {},
   "outputs": [],
   "source": [
    "sym.pi**2"
   ]
  },
  {
   "cell_type": "code",
   "execution_count": null,
   "id": "5c418326",
   "metadata": {},
   "outputs": [],
   "source": [
    "sym.pi.evalf()"
   ]
  },
  {
   "cell_type": "code",
   "execution_count": null,
   "id": "1cd358a4",
   "metadata": {},
   "outputs": [],
   "source": [
    "(sym.pi + sym.exp(1)).evalf()"
   ]
  },
  {
   "cell_type": "markdown",
   "id": "4fe337bc",
   "metadata": {},
   "source": [
    "as you see, `evalf` evaluates the expression to a floating-point number.\n",
    "\n",
    "There is also a class representing mathematical infinity, called\n",
    "`oo`:"
   ]
  },
  {
   "cell_type": "code",
   "execution_count": null,
   "id": "d07b57ef",
   "metadata": {},
   "outputs": [],
   "source": [
    "sym.oo > 99999"
   ]
  },
  {
   "cell_type": "code",
   "execution_count": null,
   "id": "73ca240a",
   "metadata": {},
   "outputs": [],
   "source": [
    "sym.oo + 1"
   ]
  },
  {
   "cell_type": "markdown",
   "id": "166517bd",
   "metadata": {},
   "source": [
    "**Start of exercise**\n",
    "\n",
    "1. Calculate $\\sqrt{2}$ with 100 decimals.\n",
    "2. Calculate $1/2 + 1/3$ in rational arithmetic.\n",
    "\n",
    "**End of exercise**\n",
    "\n",
    "### Symbols\n",
    "\n",
    "In contrast to other Computer Algebra Systems, in SymPy you have to declare\n",
    "symbolic variables explicitly:"
   ]
  },
  {
   "cell_type": "code",
   "execution_count": null,
   "id": "7865d030",
   "metadata": {},
   "outputs": [],
   "source": [
    "x = sym.Symbol('x')\n",
    "y = sym.Symbol('y')"
   ]
  },
  {
   "cell_type": "markdown",
   "id": "af9a0592",
   "metadata": {},
   "source": [
    "Then you can manipulate them:"
   ]
  },
  {
   "cell_type": "code",
   "execution_count": null,
   "id": "1f911d51",
   "metadata": {},
   "outputs": [],
   "source": [
    "x + y + x - y"
   ]
  },
  {
   "cell_type": "code",
   "execution_count": null,
   "id": "5499f2cb",
   "metadata": {},
   "outputs": [],
   "source": [
    "(x + y) ** 2"
   ]
  },
  {
   "cell_type": "markdown",
   "id": "e1bf44f0",
   "metadata": {},
   "source": [
    "Symbols can now be manipulated using some of python operators: `+`, `-`,\n",
    "`*`, `**` (arithmetic), `&`, `|`, `~`, `>>`, `<<` (boolean).\n",
    "\n",
    "**Start of admonition: Printing**\n",
    "Sympy allows for control of the display of the output. From here we use the\n",
    "following setting for printing:"
   ]
  },
  {
   "cell_type": "code",
   "execution_count": null,
   "id": "d904d8cb",
   "metadata": {
    "lines_to_next_cell": 0
   },
   "outputs": [],
   "source": [
    "sym.init_printing(use_unicode=False, wrap_line=True)"
   ]
  },
  {
   "cell_type": "markdown",
   "id": "2d0faac7",
   "metadata": {},
   "source": [
    "**End of admonition**\n",
    "\n",
    "## Algebraic manipulations\n",
    "\n",
    "SymPy is capable of performing powerful algebraic manipulations. We'll\n",
    "take a look into some of the most frequently used: expand and simplify.\n",
    "\n",
    "### Expand\n",
    "\n",
    "Use this to expand an algebraic expression. It will try to denest\n",
    "powers and multiplications:"
   ]
  },
  {
   "cell_type": "code",
   "execution_count": null,
   "id": "a0abb55f",
   "metadata": {},
   "outputs": [],
   "source": [
    "sym.expand((x + y) ** 3)"
   ]
  },
  {
   "cell_type": "code",
   "execution_count": null,
   "id": "66f0b34f",
   "metadata": {},
   "outputs": [],
   "source": [
    "3 * x * y ** 2 + 3 * y * x ** 2 + x ** 3 + y ** 3"
   ]
  },
  {
   "cell_type": "markdown",
   "id": "b032c0bd",
   "metadata": {},
   "source": [
    "Further options can be given in form on keywords:"
   ]
  },
  {
   "cell_type": "code",
   "execution_count": null,
   "id": "473a1562",
   "metadata": {},
   "outputs": [],
   "source": [
    "sym.expand(x + y, complex=True)"
   ]
  },
  {
   "cell_type": "code",
   "execution_count": null,
   "id": "1ad003ed",
   "metadata": {},
   "outputs": [],
   "source": [
    "sym.I * sym.im(x) + sym.I * sym.im(y) + sym.re(x) + sym.re(y)"
   ]
  },
  {
   "cell_type": "code",
   "execution_count": null,
   "id": "66b2608a",
   "metadata": {},
   "outputs": [],
   "source": [
    "sym.expand(sym.cos(x + y), trig=True)"
   ]
  },
  {
   "cell_type": "code",
   "execution_count": null,
   "id": "a9a5d6b3",
   "metadata": {},
   "outputs": [],
   "source": [
    "sym.cos(x) * sym.cos(y) - sym.sin(x) * sym.sin(y)"
   ]
  },
  {
   "cell_type": "markdown",
   "id": "2145ca84",
   "metadata": {},
   "source": [
    "### Simplify\n",
    "\n",
    "Use simplify if you would like to transform an expression into a\n",
    "simpler form:"
   ]
  },
  {
   "cell_type": "code",
   "execution_count": null,
   "id": "ceec125b",
   "metadata": {},
   "outputs": [],
   "source": [
    "sym.simplify((x + x * y) / x)"
   ]
  },
  {
   "cell_type": "markdown",
   "id": "91685d56",
   "metadata": {},
   "source": [
    "Simplification is a somewhat vague term, and more precises\n",
    "alternatives to simplify exists: `powsimp` (simplification of\n",
    "exponents), `trigsimp` (for trigonometric expressions) , `logcombine`,\n",
    "`radsimp`, together.\n",
    "\n",
    "**Start of exercise**\n",
    "\n",
    "1. Calculate the expanded form of $(x+y)^6$.\n",
    "2. Simplify the trigonometric expression $\\sin(x) / \\cos(x)$\n",
    "\n",
    "**End of exercise**\n",
    "\n",
    "## Calculus\n",
    "\n",
    "### Limits\n",
    "\n",
    "Limits are easy to use in SymPy, they follow the syntax `limit(function,\n",
    "variable, point)`, so to compute the limit of $f(x)$ as\n",
    "$x \\rightarrow 0$, you would issue `limit(f, x, 0)`:"
   ]
  },
  {
   "cell_type": "code",
   "execution_count": null,
   "id": "8fc1544d",
   "metadata": {},
   "outputs": [],
   "source": [
    "sym.limit(sym.sin(x) / x, x, 0)"
   ]
  },
  {
   "cell_type": "markdown",
   "id": "ebc0051b",
   "metadata": {},
   "source": [
    "you can also calculate the limit at infinity:"
   ]
  },
  {
   "cell_type": "code",
   "execution_count": null,
   "id": "daca6dd6",
   "metadata": {},
   "outputs": [],
   "source": [
    "sym.limit(x, x, sym.oo)"
   ]
  },
  {
   "cell_type": "code",
   "execution_count": null,
   "id": "3d181ad3",
   "metadata": {},
   "outputs": [],
   "source": [
    "sym.limit(1 / x, x, sym.oo)"
   ]
  },
  {
   "cell_type": "code",
   "execution_count": null,
   "id": "51d6d4cb",
   "metadata": {},
   "outputs": [],
   "source": [
    "sym.limit(x ** x, x, 0)"
   ]
  },
  {
   "cell_type": "markdown",
   "id": "361d69bf",
   "metadata": {},
   "source": [
    "::: {index} differentiation, diff\n",
    ":::\n",
    "\n",
    "### Differentiation\n",
    "\n",
    "You can differentiate any SymPy expression using `diff(func,\n",
    "var)`. Examples:"
   ]
  },
  {
   "cell_type": "code",
   "execution_count": null,
   "id": "2f6507b7",
   "metadata": {},
   "outputs": [],
   "source": [
    "sym.diff(sym.sin(x), x)"
   ]
  },
  {
   "cell_type": "code",
   "execution_count": null,
   "id": "55a27b02",
   "metadata": {},
   "outputs": [],
   "source": [
    "sym.diff(sym.sin(2 * x), x)"
   ]
  },
  {
   "cell_type": "code",
   "execution_count": null,
   "id": "0a8c8c29",
   "metadata": {},
   "outputs": [],
   "source": [
    "sym.diff(sym.tan(x), x)"
   ]
  },
  {
   "cell_type": "markdown",
   "id": "ad726ec4",
   "metadata": {},
   "source": [
    "You can check that it is correct by:"
   ]
  },
  {
   "cell_type": "code",
   "execution_count": null,
   "id": "8f97cf8d",
   "metadata": {},
   "outputs": [],
   "source": [
    "sym.limit((sym.tan(x + y) - sym.tan(x)) / y, y, 0)"
   ]
  },
  {
   "cell_type": "markdown",
   "id": "8ec1c366",
   "metadata": {},
   "source": [
    "Which is equivalent since\n",
    "\n",
    "$$\n",
    "\\sec(x) = \\frac{1}{\\cos(x)} and \\sec^2(x) = \\tan^2(x) + 1.\n",
    "$$\n",
    "\n",
    "You can check this as well:"
   ]
  },
  {
   "cell_type": "code",
   "execution_count": null,
   "id": "32c4d685",
   "metadata": {},
   "outputs": [],
   "source": [
    "sym.trigsimp(sym.diff(sym.tan(x), x))"
   ]
  },
  {
   "cell_type": "markdown",
   "id": "bcf8a551",
   "metadata": {},
   "source": [
    "Higher derivatives can be calculated using the `diff(func, var, n)` method:"
   ]
  },
  {
   "cell_type": "code",
   "execution_count": null,
   "id": "bf1d08c5",
   "metadata": {},
   "outputs": [],
   "source": [
    "sym.diff(sym.sin(2 * x), x, 1)"
   ]
  },
  {
   "cell_type": "code",
   "execution_count": null,
   "id": "ab2ff02b",
   "metadata": {},
   "outputs": [],
   "source": [
    "sym.diff(sym.sin(2 * x), x, 2)"
   ]
  },
  {
   "cell_type": "code",
   "execution_count": null,
   "id": "218ae3fd",
   "metadata": {},
   "outputs": [],
   "source": [
    "sym.diff(sym.sin(2 * x), x, 3)"
   ]
  },
  {
   "cell_type": "markdown",
   "id": "369a6cb7",
   "metadata": {},
   "source": [
    "### Series expansion\n",
    "\n",
    "SymPy also knows how to compute the Taylor series of an expression at\n",
    "a point. Use `series(expr, var)`:"
   ]
  },
  {
   "cell_type": "code",
   "execution_count": null,
   "id": "af03db84",
   "metadata": {},
   "outputs": [],
   "source": [
    "sym.series(sym.cos(x), x)"
   ]
  },
  {
   "cell_type": "code",
   "execution_count": null,
   "id": "e5b8a44b",
   "metadata": {},
   "outputs": [],
   "source": [
    "sym.series(1/sym.cos(x), x)"
   ]
  },
  {
   "cell_type": "markdown",
   "id": "1f4e7d66",
   "metadata": {},
   "source": [
    "**Start of exercise**\n",
    "\n",
    "1. Calculate $\\lim_{x\\rightarrow 0} \\sin(x)/x$\n",
    "2. Calculate the derivative of $log(x)$ for $x$.\n",
    "\n",
    "**End of exercise**\n",
    "\n",
    "::: {index} integration\n",
    ":::\n",
    "\n",
    "### Integration\n",
    "\n",
    "SymPy has support for indefinite and definite integration of transcendental\n",
    "elementary and special functions via `integrate()` facility, which uses\n",
    "the powerful extended Risch-Norman algorithm and some heuristics and pattern\n",
    "matching. You can integrate elementary functions:"
   ]
  },
  {
   "cell_type": "code",
   "execution_count": null,
   "id": "c0c08084",
   "metadata": {},
   "outputs": [],
   "source": [
    "sym.integrate(6 * x ** 5, x)"
   ]
  },
  {
   "cell_type": "code",
   "execution_count": null,
   "id": "dfe82528",
   "metadata": {},
   "outputs": [],
   "source": [
    "sym.integrate(sym.sin(x), x)"
   ]
  },
  {
   "cell_type": "code",
   "execution_count": null,
   "id": "17c97d3e",
   "metadata": {},
   "outputs": [],
   "source": [
    "sym.integrate(sym.log(x), x)"
   ]
  },
  {
   "cell_type": "code",
   "execution_count": null,
   "id": "073dd69c",
   "metadata": {},
   "outputs": [],
   "source": [
    "sym.integrate(2 * x + sym.sinh(x), x)"
   ]
  },
  {
   "cell_type": "markdown",
   "id": "1b3b194a",
   "metadata": {},
   "source": [
    "Also special functions are handled easily:"
   ]
  },
  {
   "cell_type": "code",
   "execution_count": null,
   "id": "c4e88229",
   "metadata": {},
   "outputs": [],
   "source": [
    "sym.integrate(sym.exp(-x ** 2) * sym.erf(x), x)"
   ]
  },
  {
   "cell_type": "markdown",
   "id": "b80bbffe",
   "metadata": {},
   "source": [
    "It is possible to compute definite integral:"
   ]
  },
  {
   "cell_type": "code",
   "execution_count": null,
   "id": "92c78ab6",
   "metadata": {},
   "outputs": [],
   "source": [
    "sym.integrate(x**3, (x, -1, 1))"
   ]
  },
  {
   "cell_type": "code",
   "execution_count": null,
   "id": "c52fb7cd",
   "metadata": {},
   "outputs": [],
   "source": [
    "sym.integrate(sym.sin(x), (x, 0, sym.pi / 2))"
   ]
  },
  {
   "cell_type": "code",
   "execution_count": null,
   "id": "0650c39e",
   "metadata": {},
   "outputs": [],
   "source": [
    "sym.integrate(sym.cos(x), (x, -sym.pi / 2, sym.pi / 2))"
   ]
  },
  {
   "cell_type": "markdown",
   "id": "a6a938b8",
   "metadata": {},
   "source": [
    "Also improper integrals are supported as well:"
   ]
  },
  {
   "cell_type": "code",
   "execution_count": null,
   "id": "3972e8a1",
   "metadata": {},
   "outputs": [],
   "source": [
    "sym.integrate(sym.exp(-x), (x, 0, sym.oo))"
   ]
  },
  {
   "cell_type": "code",
   "execution_count": null,
   "id": "2c71c7af",
   "metadata": {},
   "outputs": [],
   "source": [
    "sym.integrate(sym.exp(-x ** 2), (x, -sym.oo, sym.oo))"
   ]
  },
  {
   "cell_type": "markdown",
   "id": "a416f780",
   "metadata": {},
   "source": [
    "::: {index} equations; algebraic, solve\n",
    ":::\n",
    "\n",
    "## Equation solving\n",
    "\n",
    "SymPy is able to solve algebraic equations, in one and several\n",
    "variables using {func}`~sympy.solveset`:"
   ]
  },
  {
   "cell_type": "code",
   "execution_count": null,
   "id": "81a11c87",
   "metadata": {},
   "outputs": [],
   "source": [
    "sym.solveset(x ** 4 - 1, x)"
   ]
  },
  {
   "cell_type": "markdown",
   "id": "1e9b0c29",
   "metadata": {},
   "source": [
    "As you can see it takes as first argument an expression that is\n",
    "supposed to be equaled to 0. It also has (limited) support for transcendental\n",
    "equations:"
   ]
  },
  {
   "cell_type": "code",
   "execution_count": null,
   "id": "95900ce8",
   "metadata": {},
   "outputs": [],
   "source": [
    "sym.solveset(sym.exp(x) + 1, x)"
   ]
  },
  {
   "cell_type": "markdown",
   "id": "675b72a1",
   "metadata": {},
   "source": [
    "**Start of admonition: Systems of linear equations**\n",
    "Sympy is able to solve a large part of\n",
    "polynomial equations, and is also capable of solving multiple\n",
    "equations with respect to multiple variables giving a tuple as second\n",
    "argument. To do this you use the {func}`~sympy.solve` command:"
   ]
  },
  {
   "cell_type": "code",
   "execution_count": null,
   "id": "bd4b73e6",
   "metadata": {
    "lines_to_next_cell": 0
   },
   "outputs": [],
   "source": [
    "solution = sym.solve((x + 5 * y - 2, -3 * x + 6 * y - 15), (x, y))\n",
    "solution[x], solution[y]"
   ]
  },
  {
   "cell_type": "markdown",
   "id": "e81dd431",
   "metadata": {},
   "source": [
    "**End of admonition**\n",
    "\n",
    "Another alternative in the case of polynomial equations is\n",
    "`factor`. `factor` returns the polynomial factorized into irreducible\n",
    "terms, and is capable of computing the factorization over various\n",
    "domains:"
   ]
  },
  {
   "cell_type": "code",
   "execution_count": null,
   "id": "3e02e8c5",
   "metadata": {},
   "outputs": [],
   "source": [
    "f = x ** 4 - 3 * x ** 2 + 1\n",
    "sym.factor(f)"
   ]
  },
  {
   "cell_type": "code",
   "execution_count": null,
   "id": "e836c529",
   "metadata": {},
   "outputs": [],
   "source": [
    "sym.factor(f, modulus=5)"
   ]
  },
  {
   "cell_type": "markdown",
   "id": "135b29a0",
   "metadata": {},
   "source": [
    "SymPy is also able to solve boolean equations, that is, to decide if a\n",
    "certain boolean expression is satisfiable or not. For this, we use the\n",
    "function satisfiable:"
   ]
  },
  {
   "cell_type": "code",
   "execution_count": null,
   "id": "f669bda4",
   "metadata": {},
   "outputs": [],
   "source": [
    "sym.satisfiable(x & y)"
   ]
  },
  {
   "cell_type": "markdown",
   "id": "0c9fde32",
   "metadata": {},
   "source": [
    "This tells us that `(x & y)` is True whenever `x` and `y` are both True.\n",
    "If an expression cannot be true, i.e. no values of its arguments can make\n",
    "the expression True, it will return False:"
   ]
  },
  {
   "cell_type": "code",
   "execution_count": null,
   "id": "04e98dec",
   "metadata": {},
   "outputs": [],
   "source": [
    "sym.satisfiable(x & ~x)"
   ]
  },
  {
   "cell_type": "markdown",
   "id": "4fde5deb",
   "metadata": {},
   "source": [
    "**Start of exercise**\n",
    "\n",
    "1. Solve the system of equations $x + y = 2$, $2\\cdot x + y = 0$\n",
    "2. Are there boolean values `x`, `y` that make `(~x | y) & (~y | x)` true?\n",
    "\n",
    "**End of exercise**\n",
    "\n",
    "## Linear Algebra\n",
    "\n",
    ":::{index} Matrix\n",
    ":::\n",
    "\n",
    "### Matrices\n",
    "\n",
    "Matrices are created as instances from the Matrix class:"
   ]
  },
  {
   "cell_type": "code",
   "execution_count": null,
   "id": "a1a49da2",
   "metadata": {},
   "outputs": [],
   "source": [
    "sym.Matrix([[1, 0], [0, 1]])"
   ]
  },
  {
   "cell_type": "markdown",
   "id": "8f84f5d3",
   "metadata": {},
   "source": [
    "unlike a NumPy array, you can also put Symbols in it:"
   ]
  },
  {
   "cell_type": "code",
   "execution_count": null,
   "id": "77355f37",
   "metadata": {},
   "outputs": [],
   "source": [
    "x, y = sym.symbols('x, y')\n",
    "A = sym.Matrix([[1, x], [y, 1]])\n",
    "A"
   ]
  },
  {
   "cell_type": "code",
   "execution_count": null,
   "id": "12d3e51f",
   "metadata": {},
   "outputs": [],
   "source": [
    "A**2"
   ]
  },
  {
   "cell_type": "markdown",
   "id": "12ab1251",
   "metadata": {},
   "source": [
    "::: {index} equations; differential, diff, dsolve\n",
    ":::\n",
    "\n",
    "### Differential Equations\n",
    "\n",
    "SymPy is capable of solving (some) Ordinary Differential.\n",
    "To solve differential equations, use dsolve. First, create\n",
    "an undefined function by passing cls=Function to the symbols function:"
   ]
  },
  {
   "cell_type": "code",
   "execution_count": null,
   "id": "c24af530",
   "metadata": {},
   "outputs": [],
   "source": [
    "f, g = sym.symbols('f g', cls=sym.Function)"
   ]
  },
  {
   "cell_type": "markdown",
   "id": "66e61bd2",
   "metadata": {},
   "source": [
    "f and g are now undefined functions. We can call f(x), and it will represent\n",
    "an unknown function:"
   ]
  },
  {
   "cell_type": "code",
   "execution_count": null,
   "id": "36c99911",
   "metadata": {},
   "outputs": [],
   "source": [
    "f(x)"
   ]
  },
  {
   "cell_type": "code",
   "execution_count": null,
   "id": "ecac557c",
   "metadata": {},
   "outputs": [],
   "source": [
    "f(x).diff(x, x) + f(x)"
   ]
  },
  {
   "cell_type": "code",
   "execution_count": null,
   "id": "3c6a05b1",
   "metadata": {},
   "outputs": [],
   "source": [
    "sym.dsolve(f(x).diff(x, x) + f(x), f(x))"
   ]
  },
  {
   "cell_type": "markdown",
   "id": "282a610f",
   "metadata": {},
   "source": [
    "Keyword arguments can be given to this function in order to help if\n",
    "find the best possible resolution system. For example, if you know\n",
    "that it is a separable equations, you can use keyword `hint='separable'`\n",
    "to force dsolve to resolve it as a separable equation:"
   ]
  },
  {
   "cell_type": "code",
   "execution_count": null,
   "id": "0bb9b9e1",
   "metadata": {},
   "outputs": [],
   "source": [
    "sym.dsolve(sym.sin(x) * sym.cos(f(x)) + sym.cos(x) * sym.sin(f(x)) * f(x).diff(x), f(x), hint='separable')"
   ]
  },
  {
   "cell_type": "markdown",
   "id": "154e3ab5",
   "metadata": {},
   "source": [
    "**Start of exercise**\n",
    "\n",
    "1. Solve the Bernoulli differential equation\n",
    "\n",
    "   $$\n",
    "   x \\frac{d f(x)}{x} + f(x) - f(x)^2=0\n",
    "   $$\n",
    "\n",
    "2. Solve the same equation using `hint='Bernoulli'`. What do you observe ?\n",
    "\n",
    "**End of exercise**"
   ]
  }
 ],
 "metadata": {
  "jupytext": {
   "formats": "ipynb,Rmd"
  },
  "kernelspec": {
   "display_name": "Python (Pyodide)",
   "name": "python"
  }
 },
 "nbformat": 4,
 "nbformat_minor": 5
}
