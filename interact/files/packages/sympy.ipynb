{
 "cells": [
  {
   "cell_type": "markdown",
   "id": "eb8ad73d",
   "metadata": {},
   "source": [
    "<!---\n",
    "TODO: bench and fit in 1:30\n",
    "-->\n",
    "# `sympy` : Symbolic Mathematics in Python\n",
    "\n",
    "**Author**: _Fabian Pedregosa_\n",
    "\n",
    ":::{admonition} Objectives\n",
    "\n",
    "1. Evaluate expressions with arbitrary precision.\n",
    "2. Perform algebraic manipulations on symbolic expressions.\n",
    "3. Perform basic calculus tasks (limits, differentiation and\n",
    "   : integration) with symbolic expressions.\n",
    "4. Solve polynomial and transcendental equations.\n",
    "5. Solve some differential equations.\n",
    "   :::\n",
    "\n",
    "**What is SymPy?** SymPy is a Python library for symbolic mathematics. It\n",
    "aims to be an alternative to systems such as Mathematica or Maple while keeping\n",
    "the code as simple as possible and easily\n",
    "extensible. SymPy is written entirely in Python and does not require any\n",
    "external libraries.\n",
    "\n",
    "Sympy documentation and packages for installation can be found on\n",
    "<https://www.sympy.org/>\n",
    "\n",
    "## First Steps with SymPy\n",
    "\n",
    "### Using SymPy as a calculator\n",
    "\n",
    "SymPy defines three numerical types: `Real`, `Rational` and `Integer`.\n",
    "\n",
    "The Rational class represents a rational number as a pair of two\n",
    "Integers: the numerator and the denominator, so `Rational(1, 2)`\n",
    "represents 1/2, `Rational(5, 2)` 5/2 and so on:"
   ]
  },
  {
   "cell_type": "code",
   "execution_count": null,
   "id": "d2691853",
   "metadata": {},
   "outputs": [],
   "source": [
    "import sympy as sym\n",
    "a = sym.Rational(1, 2)"
   ]
  },
  {
   "cell_type": "code",
   "execution_count": null,
   "id": "7fab5a1b",
   "metadata": {},
   "outputs": [],
   "source": [
    "a"
   ]
  },
  {
   "cell_type": "code",
   "execution_count": null,
   "id": "9a20f913",
   "metadata": {},
   "outputs": [],
   "source": [
    "a*2"
   ]
  },
  {
   "cell_type": "markdown",
   "id": "22d0067c",
   "metadata": {},
   "source": [
    "SymPy uses mpmath in the background, which makes it possible to\n",
    "perform computations using arbitrary-precision arithmetic. That\n",
    "way, some special constants, like $e$, $pi$, $oo$ (Infinity),\n",
    "are treated as\n",
    "symbols and can be evaluated with arbitrary precision:"
   ]
  },
  {
   "cell_type": "code",
   "execution_count": null,
   "id": "1a65b5ce",
   "metadata": {},
   "outputs": [],
   "source": [
    "sym.pi**2"
   ]
  },
  {
   "cell_type": "code",
   "execution_count": null,
   "id": "a376cf66",
   "metadata": {},
   "outputs": [],
   "source": [
    "sym.pi.evalf()"
   ]
  },
  {
   "cell_type": "code",
   "execution_count": null,
   "id": "5a90339a",
   "metadata": {},
   "outputs": [],
   "source": [
    "(sym.pi + sym.exp(1)).evalf()"
   ]
  },
  {
   "cell_type": "markdown",
   "id": "8e52df22",
   "metadata": {},
   "source": [
    "as you see, `evalf` evaluates the expression to a floating-point number.\n",
    "\n",
    "There is also a class representing mathematical infinity, called\n",
    "`oo`:"
   ]
  },
  {
   "cell_type": "code",
   "execution_count": null,
   "id": "0cc42a23",
   "metadata": {},
   "outputs": [],
   "source": [
    "sym.oo > 99999"
   ]
  },
  {
   "cell_type": "code",
   "execution_count": null,
   "id": "ca9e3fa1",
   "metadata": {},
   "outputs": [],
   "source": [
    "sym.oo + 1"
   ]
  },
  {
   "cell_type": "markdown",
   "id": "a14a4f56",
   "metadata": {},
   "source": [
    "**Start of exercise**\n",
    "\n",
    "1. Calculate $\\sqrt{2}$ with 100 decimals.\n",
    "2. Calculate $1/2 + 1/3$ in rational arithmetic.\n",
    "\n",
    "**End of exercise**"
   ]
  },
  {
   "cell_type": "markdown",
   "id": "d71599ca",
   "metadata": {},
   "source": [
    "### Symbols\n",
    "\n",
    "In contrast to other Computer Algebra Systems, in SymPy you have to declare\n",
    "symbolic variables explicitly:"
   ]
  },
  {
   "cell_type": "code",
   "execution_count": null,
   "id": "05dd08cf",
   "metadata": {},
   "outputs": [],
   "source": [
    "x = sym.Symbol('x')\n",
    "y = sym.Symbol('y')"
   ]
  },
  {
   "cell_type": "markdown",
   "id": "5126ae6d",
   "metadata": {},
   "source": [
    "Then you can manipulate them:"
   ]
  },
  {
   "cell_type": "code",
   "execution_count": null,
   "id": "dbfa188d",
   "metadata": {},
   "outputs": [],
   "source": [
    "x + y + x - y"
   ]
  },
  {
   "cell_type": "code",
   "execution_count": null,
   "id": "504acc50",
   "metadata": {},
   "outputs": [],
   "source": [
    "(x + y) ** 2"
   ]
  },
  {
   "cell_type": "markdown",
   "id": "bcc06645",
   "metadata": {},
   "source": [
    "Symbols can now be manipulated using some of python operators: `+`, `-`,\n",
    "`*`, `**` (arithmetic), `&`, `|`, `~`, `>>`, `<<` (boolean).\n",
    "\n",
    ":::{admonition} Printing\n",
    "Sympy allows for control of the display of the output. From here we use the\n",
    "following setting for printing:"
   ]
  },
  {
   "cell_type": "code",
   "execution_count": null,
   "id": "f1eee688",
   "metadata": {},
   "outputs": [],
   "source": [
    "sym.init_printing(use_unicode=False, wrap_line=True)"
   ]
  },
  {
   "cell_type": "markdown",
   "id": "bc8d9691",
   "metadata": {},
   "source": [
    ":::\n",
    "\n",
    "## Algebraic manipulations\n",
    "\n",
    "SymPy is capable of performing powerful algebraic manipulations. We'll\n",
    "take a look into some of the most frequently used: expand and simplify.\n",
    "\n",
    "### Expand\n",
    "\n",
    "Use this to expand an algebraic expression. It will try to denest\n",
    "powers and multiplications:"
   ]
  },
  {
   "cell_type": "code",
   "execution_count": null,
   "id": "6fc50e00",
   "metadata": {},
   "outputs": [],
   "source": [
    "sym.expand((x + y) ** 3)"
   ]
  },
  {
   "cell_type": "code",
   "execution_count": null,
   "id": "57d69110",
   "metadata": {},
   "outputs": [],
   "source": [
    "3 * x * y ** 2 + 3 * y * x ** 2 + x ** 3 + y ** 3"
   ]
  },
  {
   "cell_type": "markdown",
   "id": "3e33ea24",
   "metadata": {},
   "source": [
    "Further options can be given in form on keywords:"
   ]
  },
  {
   "cell_type": "code",
   "execution_count": null,
   "id": "976b5021",
   "metadata": {},
   "outputs": [],
   "source": [
    "sym.expand(x + y, complex=True)"
   ]
  },
  {
   "cell_type": "code",
   "execution_count": null,
   "id": "6bf55d59",
   "metadata": {},
   "outputs": [],
   "source": [
    "sym.I * sym.im(x) + sym.I * sym.im(y) + sym.re(x) + sym.re(y)"
   ]
  },
  {
   "cell_type": "code",
   "execution_count": null,
   "id": "9000f812",
   "metadata": {},
   "outputs": [],
   "source": [
    "sym.expand(sym.cos(x + y), trig=True)"
   ]
  },
  {
   "cell_type": "code",
   "execution_count": null,
   "id": "283f9281",
   "metadata": {},
   "outputs": [],
   "source": [
    "sym.cos(x) * sym.cos(y) - sym.sin(x) * sym.sin(y)"
   ]
  },
  {
   "cell_type": "markdown",
   "id": "5cc492b1",
   "metadata": {},
   "source": [
    "### Simplify\n",
    "\n",
    "Use simplify if you would like to transform an expression into a\n",
    "simpler form:"
   ]
  },
  {
   "cell_type": "code",
   "execution_count": null,
   "id": "5c901e00",
   "metadata": {},
   "outputs": [],
   "source": [
    "sym.simplify((x + x * y) / x)"
   ]
  },
  {
   "cell_type": "markdown",
   "id": "cd220ae0",
   "metadata": {},
   "source": [
    "Simplification is a somewhat vague term, and more precises\n",
    "alternatives to simplify exists: `powsimp` (simplification of\n",
    "exponents), `trigsimp` (for trigonometric expressions) , `logcombine`,\n",
    "`radsimp`, together.\n",
    "\n",
    "**Start of exercise**\n",
    "\n",
    "1. Calculate the expanded form of $(x+y)^6$.\n",
    "2. Simplify the trigonometric expression $\\sin(x) / \\cos(x)$\n",
    "\n",
    "**End of exercise**"
   ]
  },
  {
   "cell_type": "markdown",
   "id": "687ced72",
   "metadata": {},
   "source": [
    "## Calculus\n",
    "\n",
    "### Limits\n",
    "\n",
    "Limits are easy to use in SymPy, they follow the syntax `limit(function,\n",
    "variable, point)`, so to compute the limit of $f(x)$ as\n",
    "$x \\rightarrow 0$, you would issue `limit(f, x, 0)`:"
   ]
  },
  {
   "cell_type": "code",
   "execution_count": null,
   "id": "f3a88bf2",
   "metadata": {},
   "outputs": [],
   "source": [
    "sym.limit(sym.sin(x) / x, x, 0)"
   ]
  },
  {
   "cell_type": "markdown",
   "id": "5c1cd1a7",
   "metadata": {},
   "source": [
    "you can also calculate the limit at infinity:"
   ]
  },
  {
   "cell_type": "code",
   "execution_count": null,
   "id": "a82761da",
   "metadata": {},
   "outputs": [],
   "source": [
    "sym.limit(x, x, sym.oo)"
   ]
  },
  {
   "cell_type": "code",
   "execution_count": null,
   "id": "22efbaa0",
   "metadata": {},
   "outputs": [],
   "source": [
    "sym.limit(1 / x, x, sym.oo)"
   ]
  },
  {
   "cell_type": "code",
   "execution_count": null,
   "id": "9aeae580",
   "metadata": {},
   "outputs": [],
   "source": [
    "sym.limit(x ** x, x, 0)"
   ]
  },
  {
   "cell_type": "markdown",
   "id": "9fa547b0",
   "metadata": {},
   "source": [
    "::: {index} differentiation, diff\n",
    ":::\n",
    "\n",
    "### Differentiation\n",
    "\n",
    "You can differentiate any SymPy expression using `diff(func,\n",
    "var)`. Examples:"
   ]
  },
  {
   "cell_type": "code",
   "execution_count": null,
   "id": "c0f3c363",
   "metadata": {},
   "outputs": [],
   "source": [
    "sym.diff(sym.sin(x), x)"
   ]
  },
  {
   "cell_type": "code",
   "execution_count": null,
   "id": "8ec0ee8d",
   "metadata": {},
   "outputs": [],
   "source": [
    "sym.diff(sym.sin(2 * x), x)"
   ]
  },
  {
   "cell_type": "code",
   "execution_count": null,
   "id": "277e93e4",
   "metadata": {},
   "outputs": [],
   "source": [
    "sym.diff(sym.tan(x), x)"
   ]
  },
  {
   "cell_type": "markdown",
   "id": "14784b96",
   "metadata": {},
   "source": [
    "You can check that it is correct by:"
   ]
  },
  {
   "cell_type": "code",
   "execution_count": null,
   "id": "da5d7b96",
   "metadata": {},
   "outputs": [],
   "source": [
    "sym.limit((sym.tan(x + y) - sym.tan(x)) / y, y, 0)"
   ]
  },
  {
   "cell_type": "markdown",
   "id": "b3930897",
   "metadata": {},
   "source": [
    "Which is equivalent since\n",
    "\n",
    "$$\n",
    "\\sec(x) = \\frac{1}{\\cos(x)} and \\sec^2(x) = \\tan^2(x) + 1.\n",
    "$$\n",
    "\n",
    "You can check this as well:"
   ]
  },
  {
   "cell_type": "code",
   "execution_count": null,
   "id": "2c1e58ed",
   "metadata": {},
   "outputs": [],
   "source": [
    "sym.trigsimp(sym.diff(sym.tan(x), x))"
   ]
  },
  {
   "cell_type": "markdown",
   "id": "31bb3681",
   "metadata": {},
   "source": [
    "Higher derivatives can be calculated using the `diff(func, var, n)` method:"
   ]
  },
  {
   "cell_type": "code",
   "execution_count": null,
   "id": "29e6f7e1",
   "metadata": {},
   "outputs": [],
   "source": [
    "sym.diff(sym.sin(2 * x), x, 1)"
   ]
  },
  {
   "cell_type": "code",
   "execution_count": null,
   "id": "73ec6f95",
   "metadata": {},
   "outputs": [],
   "source": [
    "sym.diff(sym.sin(2 * x), x, 2)"
   ]
  },
  {
   "cell_type": "code",
   "execution_count": null,
   "id": "ab79c234",
   "metadata": {},
   "outputs": [],
   "source": [
    "sym.diff(sym.sin(2 * x), x, 3)"
   ]
  },
  {
   "cell_type": "markdown",
   "id": "4f04aa60",
   "metadata": {},
   "source": [
    "### Series expansion\n",
    "\n",
    "SymPy also knows how to compute the Taylor series of an expression at\n",
    "a point. Use `series(expr, var)`:"
   ]
  },
  {
   "cell_type": "code",
   "execution_count": null,
   "id": "37aec2df",
   "metadata": {},
   "outputs": [],
   "source": [
    "sym.series(sym.cos(x), x)"
   ]
  },
  {
   "cell_type": "code",
   "execution_count": null,
   "id": "13d138ea",
   "metadata": {},
   "outputs": [],
   "source": [
    "sym.series(1/sym.cos(x), x)"
   ]
  },
  {
   "cell_type": "markdown",
   "id": "f451f258",
   "metadata": {},
   "source": [
    "**Start of exercise**\n",
    "\n",
    "1. Calculate $\\lim_{x\\rightarrow 0} \\sin(x)/x$\n",
    "2. Calculate the derivative of $log(x)$ for $x$.\n",
    "\n",
    "**End of exercise**"
   ]
  },
  {
   "cell_type": "markdown",
   "id": "b33b33a9",
   "metadata": {},
   "source": [
    "::: {index} integration\n",
    ":::\n",
    "\n",
    "### Integration\n",
    "\n",
    "SymPy has support for indefinite and definite integration of transcendental\n",
    "elementary and special functions via `integrate()` facility, which uses\n",
    "the powerful extended Risch-Norman algorithm and some heuristics and pattern\n",
    "matching. You can integrate elementary functions:"
   ]
  },
  {
   "cell_type": "code",
   "execution_count": null,
   "id": "ee72aba0",
   "metadata": {},
   "outputs": [],
   "source": [
    "sym.integrate(6 * x ** 5, x)"
   ]
  },
  {
   "cell_type": "code",
   "execution_count": null,
   "id": "0d44435f",
   "metadata": {},
   "outputs": [],
   "source": [
    "sym.integrate(sym.sin(x), x)"
   ]
  },
  {
   "cell_type": "code",
   "execution_count": null,
   "id": "810b4c3f",
   "metadata": {},
   "outputs": [],
   "source": [
    "sym.integrate(sym.log(x), x)"
   ]
  },
  {
   "cell_type": "code",
   "execution_count": null,
   "id": "2f1b8e48",
   "metadata": {},
   "outputs": [],
   "source": [
    "sym.integrate(2 * x + sym.sinh(x), x)"
   ]
  },
  {
   "cell_type": "markdown",
   "id": "501ca794",
   "metadata": {},
   "source": [
    "Also special functions are handled easily:"
   ]
  },
  {
   "cell_type": "code",
   "execution_count": null,
   "id": "6cdd01ae",
   "metadata": {},
   "outputs": [],
   "source": [
    "sym.integrate(sym.exp(-x ** 2) * sym.erf(x), x)"
   ]
  },
  {
   "cell_type": "markdown",
   "id": "997895f0",
   "metadata": {},
   "source": [
    "It is possible to compute definite integral:"
   ]
  },
  {
   "cell_type": "code",
   "execution_count": null,
   "id": "bb78a331",
   "metadata": {},
   "outputs": [],
   "source": [
    "sym.integrate(x**3, (x, -1, 1))"
   ]
  },
  {
   "cell_type": "code",
   "execution_count": null,
   "id": "053dfccd",
   "metadata": {},
   "outputs": [],
   "source": [
    "sym.integrate(sym.sin(x), (x, 0, sym.pi / 2))"
   ]
  },
  {
   "cell_type": "code",
   "execution_count": null,
   "id": "1ddfe46c",
   "metadata": {},
   "outputs": [],
   "source": [
    "sym.integrate(sym.cos(x), (x, -sym.pi / 2, sym.pi / 2))"
   ]
  },
  {
   "cell_type": "markdown",
   "id": "bd2b2a19",
   "metadata": {},
   "source": [
    "Also improper integrals are supported as well:"
   ]
  },
  {
   "cell_type": "code",
   "execution_count": null,
   "id": "54f24e0b",
   "metadata": {},
   "outputs": [],
   "source": [
    "sym.integrate(sym.exp(-x), (x, 0, sym.oo))"
   ]
  },
  {
   "cell_type": "code",
   "execution_count": null,
   "id": "1e1694a0",
   "metadata": {},
   "outputs": [],
   "source": [
    "sym.integrate(sym.exp(-x ** 2), (x, -sym.oo, sym.oo))"
   ]
  },
  {
   "cell_type": "markdown",
   "id": "1eef4439",
   "metadata": {},
   "source": [
    "::: {index} equations; algebraic, solve\n",
    ":::\n",
    "\n",
    "## Equation solving\n",
    "\n",
    "SymPy is able to solve algebraic equations, in one and several\n",
    "variables using {func}`~sympy.solveset`:"
   ]
  },
  {
   "cell_type": "code",
   "execution_count": null,
   "id": "6bd62bce",
   "metadata": {},
   "outputs": [],
   "source": [
    "sym.solveset(x ** 4 - 1, x)"
   ]
  },
  {
   "cell_type": "markdown",
   "id": "17a7ae50",
   "metadata": {},
   "source": [
    "As you can see it takes as first argument an expression that is\n",
    "supposed to be equaled to 0. It also has (limited) support for transcendental\n",
    "equations:"
   ]
  },
  {
   "cell_type": "code",
   "execution_count": null,
   "id": "80d74ba8",
   "metadata": {},
   "outputs": [],
   "source": [
    "sym.solveset(sym.exp(x) + 1, x)"
   ]
  },
  {
   "cell_type": "markdown",
   "id": "a91c2204",
   "metadata": {},
   "source": [
    ":::{admonition} Systems of linear equations\n",
    "Sympy is able to solve a large part of\n",
    "polynomial equations, and is also capable of solving multiple\n",
    "equations with respect to multiple variables giving a tuple as second\n",
    "argument. To do this you use the {func}`~sympy.solve` command:"
   ]
  },
  {
   "cell_type": "code",
   "execution_count": null,
   "id": "d6490626",
   "metadata": {},
   "outputs": [],
   "source": [
    "solution = sym.solve((x + 5 * y - 2, -3 * x + 6 * y - 15), (x, y))\n",
    "solution[x], solution[y]"
   ]
  },
  {
   "cell_type": "markdown",
   "id": "a70644bb",
   "metadata": {},
   "source": [
    ":::\n",
    "\n",
    "Another alternative in the case of polynomial equations is\n",
    "`factor`. `factor` returns the polynomial factorized into irreducible\n",
    "terms, and is capable of computing the factorization over various\n",
    "domains:"
   ]
  },
  {
   "cell_type": "code",
   "execution_count": null,
   "id": "575fde14",
   "metadata": {},
   "outputs": [],
   "source": [
    "f = x ** 4 - 3 * x ** 2 + 1\n",
    "sym.factor(f)"
   ]
  },
  {
   "cell_type": "code",
   "execution_count": null,
   "id": "91e56a27",
   "metadata": {},
   "outputs": [],
   "source": [
    "sym.factor(f, modulus=5)"
   ]
  },
  {
   "cell_type": "markdown",
   "id": "a5c943fc",
   "metadata": {},
   "source": [
    "SymPy is also able to solve boolean equations, that is, to decide if a\n",
    "certain boolean expression is satisfiable or not. For this, we use the\n",
    "function satisfiable:"
   ]
  },
  {
   "cell_type": "code",
   "execution_count": null,
   "id": "3653c709",
   "metadata": {},
   "outputs": [],
   "source": [
    "sym.satisfiable(x & y)"
   ]
  },
  {
   "cell_type": "markdown",
   "id": "72430cff",
   "metadata": {},
   "source": [
    "This tells us that `(x & y)` is True whenever `x` and `y` are both True.\n",
    "If an expression cannot be true, i.e. no values of its arguments can make\n",
    "the expression True, it will return False:"
   ]
  },
  {
   "cell_type": "code",
   "execution_count": null,
   "id": "9fea750b",
   "metadata": {},
   "outputs": [],
   "source": [
    "sym.satisfiable(x & ~x)"
   ]
  },
  {
   "cell_type": "markdown",
   "id": "d92fe418",
   "metadata": {},
   "source": [
    "**Start of exercise**\n",
    "\n",
    "1. Solve the system of equations $x + y = 2$, $2\\cdot x + y = 0$\n",
    "2. Are there boolean values `x`, `y` that make `(~x | y) & (~y | x)` true?\n",
    "\n",
    "**End of exercise**"
   ]
  },
  {
   "cell_type": "markdown",
   "id": "82a20fe5",
   "metadata": {},
   "source": [
    "## Linear Algebra\n",
    "\n",
    ":::{index} Matrix\n",
    ":::\n",
    "\n",
    "### Matrices\n",
    "\n",
    "Matrices are created as instances from the Matrix class:"
   ]
  },
  {
   "cell_type": "code",
   "execution_count": null,
   "id": "d7ab54fa",
   "metadata": {},
   "outputs": [],
   "source": [
    "sym.Matrix([[1, 0], [0, 1]])"
   ]
  },
  {
   "cell_type": "markdown",
   "id": "f23a59bc",
   "metadata": {},
   "source": [
    "unlike a NumPy array, you can also put Symbols in it:"
   ]
  },
  {
   "cell_type": "code",
   "execution_count": null,
   "id": "1c8e8b41",
   "metadata": {},
   "outputs": [],
   "source": [
    "x, y = sym.symbols('x, y')\n",
    "A = sym.Matrix([[1, x], [y, 1]])\n",
    "A"
   ]
  },
  {
   "cell_type": "code",
   "execution_count": null,
   "id": "9204caf0",
   "metadata": {},
   "outputs": [],
   "source": [
    "A**2"
   ]
  },
  {
   "cell_type": "markdown",
   "id": "fb8262dc",
   "metadata": {},
   "source": [
    "::: {index} equations; differential, diff, dsolve\n",
    ":::\n",
    "\n",
    "### Differential Equations\n",
    "\n",
    "SymPy is capable of solving (some) Ordinary Differential.\n",
    "To solve differential equations, use dsolve. First, create\n",
    "an undefined function by passing cls=Function to the symbols function:"
   ]
  },
  {
   "cell_type": "code",
   "execution_count": null,
   "id": "85cf22ff",
   "metadata": {},
   "outputs": [],
   "source": [
    "f, g = sym.symbols('f g', cls=sym.Function)"
   ]
  },
  {
   "cell_type": "markdown",
   "id": "bda6f217",
   "metadata": {},
   "source": [
    "f and g are now undefined functions. We can call f(x), and it will represent\n",
    "an unknown function:"
   ]
  },
  {
   "cell_type": "code",
   "execution_count": null,
   "id": "9061c609",
   "metadata": {},
   "outputs": [],
   "source": [
    "f(x)"
   ]
  },
  {
   "cell_type": "code",
   "execution_count": null,
   "id": "0d353760",
   "metadata": {},
   "outputs": [],
   "source": [
    "f(x).diff(x, x) + f(x)"
   ]
  },
  {
   "cell_type": "code",
   "execution_count": null,
   "id": "cd4275e9",
   "metadata": {},
   "outputs": [],
   "source": [
    "sym.dsolve(f(x).diff(x, x) + f(x), f(x))"
   ]
  },
  {
   "cell_type": "markdown",
   "id": "aa827111",
   "metadata": {},
   "source": [
    "Keyword arguments can be given to this function in order to help if\n",
    "find the best possible resolution system. For example, if you know\n",
    "that it is a separable equations, you can use keyword `hint='separable'`\n",
    "to force dsolve to resolve it as a separable equation:"
   ]
  },
  {
   "cell_type": "code",
   "execution_count": null,
   "id": "12450093",
   "metadata": {},
   "outputs": [],
   "source": [
    "sym.dsolve(sym.sin(x) * sym.cos(f(x)) + sym.cos(x) * sym.sin(f(x)) * f(x).diff(x), f(x), hint='separable')"
   ]
  },
  {
   "cell_type": "markdown",
   "id": "1b1cf5b6",
   "metadata": {},
   "source": [
    "**Start of exercise**\n",
    "\n",
    "1. Solve the Bernoulli differential equation\n",
    "\n",
    "   $$\n",
    "   x \\frac{d f(x)}{x} + f(x) - f(x)^2=0\n",
    "   $$\n",
    "\n",
    "2. Solve the same equation using `hint='Bernoulli'`. What do you observe ?\n",
    "\n",
    "**End of exercise**"
   ]
  }
 ],
 "metadata": {
  "kernelspec": {
   "display_name": "Python (Pyodide)",
   "name": "python"
  }
 },
 "nbformat": 4,
 "nbformat_minor": 5
}
