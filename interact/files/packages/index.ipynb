{
 "cells": [
  {
   "cell_type": "markdown",
   "id": "f473ddf5",
   "metadata": {},
   "source": [
    "# Introduction to packages and applications\n",
    "\n",
    "This part of the _Scientific Python Lectures_ is dedicated to various\n",
    "scientific packages useful for extended needs.\n",
    "\n",
    "See the \"Packages and applications\" section in the table of contents."
   ]
  }
 ],
 "metadata": {
  "kernelspec": {
   "display_name": "Python (Pyodide)",
   "name": "python"
  },
  "orphan": true
 },
 "nbformat": 4,
 "nbformat_minor": 5
}
