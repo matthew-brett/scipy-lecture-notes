{
 "cells": [
  {
   "cell_type": "markdown",
   "id": "6c11c1a3",
   "metadata": {},
   "source": [
    "# Introduction to packages and applications\n",
    "\n",
    "This part of the _Scientific Python Lectures_ is dedicated to various\n",
    "scientific packages useful for extended needs.\n",
    "\n",
    "See the \"Packages and applications\" section in the table of contents."
   ]
  }
 ],
 "metadata": {
  "kernelspec": {
   "display_name": "Python (Pyodide)",
   "name": "python"
  },
  "orphan": true
 },
 "nbformat": 4,
 "nbformat_minor": 5
}
