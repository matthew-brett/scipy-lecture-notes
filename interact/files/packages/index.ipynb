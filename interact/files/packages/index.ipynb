{
 "cells": [
  {
   "cell_type": "markdown",
   "id": "8611dde8",
   "metadata": {},
   "source": [
    "# Packages and applications\n",
    "\n",
    "This part of the _Scientific Python Lectures_ is dedicated to various\n",
    "scientific packages useful for extended needs."
   ]
  }
 ],
 "metadata": {
  "kernelspec": {
   "display_name": "Python (Pyodide)",
   "name": "python"
  }
 },
 "nbformat": 4,
 "nbformat_minor": 5
}
