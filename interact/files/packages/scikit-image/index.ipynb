{
 "cells": [
  {
   "cell_type": "markdown",
   "id": "1f8ec2d1",
   "metadata": {},
   "source": [
    "# `scikit-image`: image processing\n",
    "\n",
    "**Author**: _Emmanuelle Gouillart_"
   ]
  },
  {
   "cell_type": "code",
   "execution_count": null,
   "id": "a6e6b266",
   "metadata": {},
   "outputs": [],
   "source": [
    "import numpy as np\n",
    "import scipy as sp\n",
    "import matplotlib.pyplot as plt"
   ]
  },
  {
   "cell_type": "markdown",
   "id": "429839e0",
   "metadata": {},
   "source": [
    "[scikit-image](https://scikit-image.org/) is a Python package dedicated\n",
    "to image processing, using NumPy arrays as image objects.\n",
    "This chapter describes how to use `scikit-image` for various image\n",
    "processing tasks, and how it relates to other scientific Python\n",
    "modules such as NumPy and SciPy.\n",
    "\n",
    ":::{admonition} See also\n",
    "\n",
    "For basic image manipulation, such as image cropping or simple\n",
    "filtering, a large number of simple operations can be realized with\n",
    "NumPy and SciPy only. See {ref}`basic-image`.\n",
    "\n",
    "Note that you should be familiar with the content of the previous\n",
    "chapter before reading the current one, as basic operations such as\n",
    "masking and labeling are a prerequisite.\n",
    ":::\n",
    "\n",
    "## Introduction and concepts\n",
    "\n",
    "Images are NumPy's arrays `np.ndarray`"
   ]
  },
  {
   "cell_type": "markdown",
   "id": "77ff6b26",
   "metadata": {},
   "source": [
    "::: {list-table} Terms\n",
    "\n",
    "- - Pixels\n",
    "  - array values: `a[2, 3]`\n",
    "\n",
    "- - Channels\n",
    "  - array dimensions\n",
    "\n",
    "- - Image encoding\n",
    "  - `dtype` (`np.uint8`, `np.uint16`, `np.float`)\n",
    "\n",
    "- - Filters\n",
    "  - functions (`numpy`, `skimage`, `scipy`)\n",
    "\n",
    ":::"
   ]
  },
  {
   "cell_type": "code",
   "execution_count": null,
   "id": "ed8deb8f",
   "metadata": {},
   "outputs": [],
   "source": [
    "# This example shows how to create a simple checkerboard.\n",
    "check = np.zeros((8, 8))\n",
    "check[::2, 1::2] = 1\n",
    "check[1::2, ::2] = 1\n",
    "plt.imshow(check, cmap='gray', interpolation='nearest');"
   ]
  },
  {
   "cell_type": "markdown",
   "id": "91f5aec0",
   "metadata": {},
   "source": [
    "### `scikit-image` and the scientific Python ecosystem\n",
    "\n",
    "`scikit-image` is packaged in both `pip` and `conda`-based\n",
    "Python installations, as well as in most Linux distributions. Other\n",
    "Python packages for image processing & visualization that operate on\n",
    "NumPy arrays include:\n",
    "\n",
    "::: {list-table} Other packages for working with images\n",
    "\n",
    "- - {mod}`scipy.ndimage`\n",
    "  - For N-dimensional arrays. Basic filtering, mathematical morphology,\n",
    "    regions properties\n",
    "- - [Mahotas](https://mahotas.readthedocs.io)\n",
    "  - With a focus on high-speed implementations.\n",
    "- - [Napari](https://napari.org)\n",
    "  - A fast, interactive, multi-dimensional image viewer built in Qt.\n",
    "\n",
    ":::\n",
    "\n",
    "Some powerful C++ image processing libraries also have Python bindings:\n",
    "\n",
    "::: {list-table} C++ libraries with Python bindings\n",
    "\n",
    "- - [OpenCV](https://docs.opencv.org/4.x/d6/d00/tutorial_py_root.html)\n",
    "  - A highly optimized computer vision library with a focus on real-time\n",
    "    applications.\n",
    "- - [ITK](https://www.itk.org)\n",
    "  - The Insight ToolKit, especially useful for registration and working with\n",
    "    3D images.\n",
    "\n",
    ":::\n",
    "\n",
    "To varying degrees, these C++-based libraries tend to be less Pythonic and\n",
    "NumPy-friendly."
   ]
  },
  {
   "cell_type": "markdown",
   "id": "1d9cf392",
   "metadata": {},
   "source": [
    "### What is included in scikit-image\n",
    "\n",
    "- Website: <https://scikit-image.org/>\n",
    "- Gallery of examples:\n",
    "  <https://scikit-image.org/docs/stable/auto_examples/>\n",
    "\n",
    "The library contains predominantly image processing algorithms, but\n",
    "also utility functions to ease data handling and processing.\n",
    "It contains the following submodules:\n",
    "\n",
    "::: {list-table} Scikit-image submodules\n",
    "\n",
    "- - {mod}`skimage.color`\n",
    "  - Color space conversion.\n",
    "- - {mod}`skimage.data`\n",
    "  - Test images and example data.\n",
    "- - {mod}`skimage.draw`\n",
    "  - Drawing primitives (lines, text, etc.) that operate on NumPy arrays.\n",
    "- - {mod}`skimage.exposure`\n",
    "  - Image intensity adjustment, e.g., histogram equalization, etc.\n",
    "- - {mod}`skimage.feature`\n",
    "  - Feature detection and extraction, e.g., texture analysis corners, etc.\n",
    "- - {mod}`skimage.filters`\n",
    "  - Sharpening, edge finding, rank filters, thresholding, etc.\n",
    "- - {mod}`skimage.graph`\n",
    "  - Graph-theoretic operations, e.g., shortest paths.\n",
    "- - {mod}`skimage.io`\n",
    "  - Reading, saving, and displaying images and video.\n",
    "- - {mod}`skimage.measure`\n",
    "  - Measurement of image properties, e.g., region properties and contours.\n",
    "- - {mod}`skimage.metrics`\n",
    "  - Metrics corresponding to images, e.g. distance metrics, similarity, etc.\n",
    "- - {mod}`skimage.morphology`\n",
    "  - Morphological operations, e.g., opening or skeletonization.\n",
    "- - {mod}`skimage.restoration`\n",
    "  - Restoration algorithms, e.g., deconvolution algorithms, denoising, etc.\n",
    "- - {mod}`skimage.segmentation`\n",
    "  - Partitioning an image into multiple regions.\n",
    "- - {mod}`skimage.transform`\n",
    "  - Geometric and other transforms, e.g., rotation or the Radon transform.\n",
    "- - {mod}`skimage.util`\n",
    "  - Generic utilities.\n",
    "\n",
    ":::\n",
    "\n",
    "<!---\n",
    "TODO Edit this section with a more refined discussion of the various\n",
    "package features.\n",
    "-->\n",
    "\n",
    "## Importing\n",
    "\n",
    "We import `scikit-image` using the convention:"
   ]
  },
  {
   "cell_type": "code",
   "execution_count": null,
   "id": "f0cc55ad",
   "metadata": {},
   "outputs": [],
   "source": [
    "import skimage as ski"
   ]
  },
  {
   "cell_type": "markdown",
   "id": "43a382ab",
   "metadata": {},
   "source": [
    "Most functionality lives in subpackages, e.g.:"
   ]
  },
  {
   "cell_type": "code",
   "execution_count": null,
   "id": "259da6d4",
   "metadata": {},
   "outputs": [],
   "source": [
    "image = ski.data.cat()"
   ]
  },
  {
   "cell_type": "markdown",
   "id": "38048737",
   "metadata": {},
   "source": [
    "You can list all submodules with:"
   ]
  },
  {
   "cell_type": "code",
   "execution_count": null,
   "id": "da34094a",
   "metadata": {},
   "outputs": [],
   "source": [
    "for m in dir(ski): print(m)"
   ]
  },
  {
   "cell_type": "markdown",
   "id": "2b7e6b86",
   "metadata": {},
   "source": [
    "Most `scikit-image` functions take NumPy `ndarrays` as arguments"
   ]
  },
  {
   "cell_type": "code",
   "execution_count": null,
   "id": "be88c231",
   "metadata": {},
   "outputs": [],
   "source": [
    "camera = ski.data.camera()\n",
    "camera.dtype"
   ]
  },
  {
   "cell_type": "code",
   "execution_count": null,
   "id": "e85b3a4a",
   "metadata": {},
   "outputs": [],
   "source": [
    "camera.shape"
   ]
  },
  {
   "cell_type": "code",
   "execution_count": null,
   "id": "88cd69ad",
   "metadata": {},
   "outputs": [],
   "source": [
    "filtered_camera = ski.filters.gaussian(camera, sigma=1)\n",
    "type(filtered_camera)"
   ]
  },
  {
   "cell_type": "markdown",
   "id": "4ff883e9",
   "metadata": {},
   "source": [
    "## Example data\n",
    "\n",
    "To start off, we need example images to work with.\n",
    "The library ships with a few of these:\n",
    "\n",
    "{mod}`skimage.data`"
   ]
  },
  {
   "cell_type": "code",
   "execution_count": null,
   "id": "7478ca9c",
   "metadata": {},
   "outputs": [],
   "source": [
    "image = ski.data.cat()\n",
    "image.shape"
   ]
  },
  {
   "cell_type": "markdown",
   "id": "86c93c94",
   "metadata": {},
   "source": [
    "## Input/output, data types and colorspaces\n",
    "\n",
    "I/O: {mod}`skimage.io`\n",
    "\n",
    "Save an image to disk: {func}`skimage.io.imsave`"
   ]
  },
  {
   "cell_type": "code",
   "execution_count": null,
   "id": "50a3099e",
   "metadata": {},
   "outputs": [],
   "source": [
    "ski.io.imsave(\"cat.png\", image)"
   ]
  },
  {
   "cell_type": "markdown",
   "id": "e82a6267",
   "metadata": {},
   "source": [
    "Reading from files: {func}`skimage.io.imread`"
   ]
  },
  {
   "cell_type": "code",
   "execution_count": null,
   "id": "928211ae",
   "metadata": {},
   "outputs": [],
   "source": [
    "cat = ski.io.imread(\"cat.png\")"
   ]
  },
  {
   "cell_type": "code",
   "execution_count": null,
   "id": "9781771d",
   "metadata": {},
   "outputs": [],
   "source": [
    "camera = ski.data.camera()\n",
    "\n",
    "plt.figure(figsize=(4, 4))\n",
    "plt.imshow(camera, cmap=\"gray\", interpolation=\"nearest\")\n",
    "plt.axis(\"off\")\n",
    "\n",
    "plt.tight_layout()"
   ]
  },
  {
   "cell_type": "markdown",
   "id": "4c99efe0",
   "metadata": {},
   "source": [
    "This works with many data formats supported by the\n",
    "[ImageIO](https://imageio.readthedocs.io) library.\n",
    "\n",
    "Loading also works with URLs:"
   ]
  },
  {
   "cell_type": "code",
   "execution_count": null,
   "id": "da48788e",
   "metadata": {},
   "outputs": [],
   "source": [
    "logo = ski.io.imread('https://scikit-image.org/_static/img/logo.png')"
   ]
  },
  {
   "cell_type": "markdown",
   "id": "52ec1c3a",
   "metadata": {},
   "source": [
    "### Data types\n",
    "\n",
    "Image ndarrays can be represented either by integers (signed or unsigned) or\n",
    "floats.\n",
    "\n",
    "Careful with overflows with integer data types"
   ]
  },
  {
   "cell_type": "code",
   "execution_count": null,
   "id": "0c5ab15d",
   "metadata": {},
   "outputs": [],
   "source": [
    "camera = ski.data.camera()\n",
    "camera.dtype\n",
    "camera_multiply = 3 * camera"
   ]
  },
  {
   "cell_type": "code",
   "execution_count": null,
   "id": "a5074a1b",
   "metadata": {
    "tags": [
     "hide-input"
    ]
   },
   "outputs": [],
   "source": [
    "plt.figure(figsize=(8, 4))\n",
    "plt.subplot(121)\n",
    "plt.imshow(camera, cmap=\"gray\", interpolation=\"nearest\")\n",
    "plt.axis(\"off\")\n",
    "plt.subplot(122)\n",
    "plt.imshow(camera_multiply, cmap=\"gray\", interpolation=\"nearest\")\n",
    "plt.axis(\"off\")\n",
    "\n",
    "plt.tight_layout()"
   ]
  },
  {
   "cell_type": "markdown",
   "id": "08c655f5",
   "metadata": {},
   "source": [
    "Different integer sizes are possible: 8-, 16- or 32-bytes, signed or\n",
    "unsigned.\n",
    "\n",
    "**Warning**: An important (if questionable) `skimage` **convention**: float\n",
    "images are supposed to lie in [-1, 1] (in order to have comparable contrast\n",
    "for all float images):"
   ]
  },
  {
   "cell_type": "code",
   "execution_count": null,
   "id": "3e0399ab",
   "metadata": {},
   "outputs": [],
   "source": [
    "camera_float = ski.util.img_as_float(camera)\n",
    "camera.max(), camera_float.max()"
   ]
  },
  {
   "cell_type": "markdown",
   "id": "57d28cfe",
   "metadata": {},
   "source": [
    "Some image processing routines need to work with float arrays, and may\n",
    "hence output an array with a different type and the data range from the\n",
    "input array"
   ]
  },
  {
   "cell_type": "code",
   "execution_count": null,
   "id": "fc7a7035",
   "metadata": {},
   "outputs": [],
   "source": [
    "camera_sobel = ski.filters.sobel(camera)\n",
    "camera_sobel.max()"
   ]
  },
  {
   "cell_type": "markdown",
   "id": "0c74202d",
   "metadata": {},
   "source": [
    "Utility functions are provided in {mod}`skimage` to convert both the\n",
    "dtype and the data range, following skimage's conventions:\n",
    "`util.img_as_float`, `util.img_as_ubyte`, etc.\n",
    "\n",
    "See the [user guide](https://scikit-image.org/docs/stable/user_guide/data_types.html) for\n",
    "more details."
   ]
  },
  {
   "cell_type": "markdown",
   "id": "cbe666ed",
   "metadata": {},
   "source": [
    "### Colorspaces\n",
    "\n",
    "Color images are of shape (N, M, 3) or (N, M, 4) (when an alpha channel\n",
    "encodes transparency)"
   ]
  },
  {
   "cell_type": "code",
   "execution_count": null,
   "id": "20b24d55",
   "metadata": {},
   "outputs": [],
   "source": [
    "face = sp.datasets.face()\n",
    "face.shape"
   ]
  },
  {
   "cell_type": "markdown",
   "id": "f4e686bb",
   "metadata": {},
   "source": [
    "Routines converting between different colorspaces (RGB, HSV, LAB etc.)\n",
    "are available in {mod}`skimage.color` : `color.rgb2hsv`, `color.lab2rgb`,\n",
    "etc. Check the docstring for the expected dtype (and data range) of input\n",
    "images.\n",
    "\n",
    ":::{admonition} 3D images\n",
    "\n",
    "Most functions of `skimage` can take 3D images as input arguments.\n",
    "Check the docstring to know if a function can be used on 3D images\n",
    "(for example MRI or CT images).\n",
    "\n",
    ":::\n",
    "\n",
    "**Start of exercise**\n",
    "\n",
    "Open a color image on your disk as a NumPy array.\n",
    "\n",
    "Find a skimage function computing the histogram of an image and\n",
    "plot the histogram of each color channel\n",
    "\n",
    "Convert the image to grayscale and plot its histogram.\n",
    "\n",
    "**End of exercise**"
   ]
  },
  {
   "cell_type": "markdown",
   "id": "0e4e38e3",
   "metadata": {},
   "source": [
    "## Image preprocessing / enhancement\n",
    "\n",
    "Goals: denoising, feature (edges) extraction, ...\n",
    "\n",
    "### Local filters\n",
    "\n",
    "Local filters replace the value of pixels by a function of the\n",
    "values of neighboring pixels. The function can be linear or non-linear.\n",
    "\n",
    "Neighbourhood: square (choose size), disk, or more complicated\n",
    "_structuring element_.\n",
    "\n",
    "![](../../advanced/image_processing/kernels.png)\n",
    "\n",
    "Example : horizontal Sobel filter"
   ]
  },
  {
   "cell_type": "code",
   "execution_count": null,
   "id": "3aa3f2fe",
   "metadata": {},
   "outputs": [],
   "source": [
    "text = ski.data.text()\n",
    "hsobel_text = ski.filters.sobel_h(text)"
   ]
  },
  {
   "cell_type": "markdown",
   "id": "fcbe89fb",
   "metadata": {},
   "source": [
    "Uses the following linear kernel for computing horizontal gradients:\n",
    "\n",
    "```\n",
    " 1   2   1\n",
    " 0   0   0\n",
    "-1  -2  -1\n",
    "```"
   ]
  },
  {
   "cell_type": "code",
   "execution_count": null,
   "id": "9d4febf6",
   "metadata": {
    "tags": [
     "hide-input"
    ]
   },
   "outputs": [],
   "source": [
    "plt.figure(figsize=(12, 3))\n",
    "\n",
    "plt.subplot(121)\n",
    "plt.imshow(text, cmap=\"gray\", interpolation=\"nearest\")\n",
    "plt.axis(\"off\")\n",
    "plt.subplot(122)\n",
    "plt.imshow(hsobel_text, cmap=\"nipy_spectral\", interpolation=\"nearest\")\n",
    "plt.axis(\"off\")\n",
    "plt.tight_layout()"
   ]
  },
  {
   "cell_type": "markdown",
   "id": "cbe15baf",
   "metadata": {},
   "source": [
    "### Non-local filters\n",
    "\n",
    "Non-local filters use a large region of the image (or all the image) to\n",
    "transform the value of one pixel:"
   ]
  },
  {
   "cell_type": "code",
   "execution_count": null,
   "id": "ef261614",
   "metadata": {},
   "outputs": [],
   "source": [
    "camera = ski.data.camera()\n",
    "camera_equalized = ski.exposure.equalize_hist(camera)"
   ]
  },
  {
   "cell_type": "markdown",
   "id": "c0395836",
   "metadata": {},
   "source": [
    "Enhances contrast in large almost uniform regions."
   ]
  },
  {
   "cell_type": "code",
   "execution_count": null,
   "id": "276b54fb",
   "metadata": {
    "tags": [
     "hide-input"
    ]
   },
   "outputs": [],
   "source": [
    "plt.figure(figsize=(7, 3))\n",
    "\n",
    "plt.subplot(121)\n",
    "plt.imshow(camera, cmap=\"gray\", interpolation=\"nearest\")\n",
    "plt.axis(\"off\")\n",
    "plt.subplot(122)\n",
    "plt.imshow(camera_equalized, cmap=\"gray\", interpolation=\"nearest\")\n",
    "plt.axis(\"off\")\n",
    "plt.tight_layout()"
   ]
  },
  {
   "cell_type": "markdown",
   "id": "5fc7400f",
   "metadata": {},
   "source": [
    "### Mathematical morphology\n",
    "\n",
    "See [wikipedia](https://en.wikipedia.org/wiki/Mathematical_morphology)\n",
    "for an introduction on mathematical morphology.\n",
    "\n",
    "Probe an image with a simple shape (a **structuring element**), and\n",
    "modify this image according to how the shape locally fits or misses the\n",
    "image.\n",
    "\n",
    "Default structuring element: 4-connectivity of a pixel"
   ]
  },
  {
   "cell_type": "code",
   "execution_count": null,
   "id": "f4de6f83",
   "metadata": {},
   "outputs": [],
   "source": [
    "# Import structuring elements to make them more easily accessible\n",
    "from skimage.morphology import disk, diamond"
   ]
  },
  {
   "cell_type": "code",
   "execution_count": null,
   "id": "37b22bd3",
   "metadata": {},
   "outputs": [],
   "source": [
    "diamond(1)"
   ]
  },
  {
   "cell_type": "markdown",
   "id": "06f1e9b1",
   "metadata": {},
   "source": [
    "![](../../advanced/image_processing/diamond_kernel.png)\n",
    "\n",
    "**Erosion** = minimum filter. Replace the value of a pixel by the minimal value covered by the structuring element.:"
   ]
  },
  {
   "cell_type": "code",
   "execution_count": null,
   "id": "1b023bf6",
   "metadata": {},
   "outputs": [],
   "source": [
    "a = np.zeros((7,7), dtype=np.uint8)\n",
    "a[1:6, 2:5] = 1\n",
    "a"
   ]
  },
  {
   "cell_type": "code",
   "execution_count": null,
   "id": "d2fc59cb",
   "metadata": {},
   "outputs": [],
   "source": [
    "ski.morphology.binary_erosion(a, diamond(1)).astype(np.uint8)"
   ]
  },
  {
   "cell_type": "code",
   "execution_count": null,
   "id": "f680bc68",
   "metadata": {},
   "outputs": [],
   "source": [
    "#Erosion removes objects smaller than the structure\n",
    "ski.morphology.binary_erosion(a, diamond(2)).astype(np.uint8)"
   ]
  },
  {
   "cell_type": "markdown",
   "id": "b83eeeb2",
   "metadata": {},
   "source": [
    "**Dilation**: maximum filter:"
   ]
  },
  {
   "cell_type": "code",
   "execution_count": null,
   "id": "7c5133fd",
   "metadata": {},
   "outputs": [],
   "source": [
    "a = np.zeros((5, 5))\n",
    "a[2, 2] = 1\n",
    "a"
   ]
  },
  {
   "cell_type": "code",
   "execution_count": null,
   "id": "0abbb309",
   "metadata": {},
   "outputs": [],
   "source": [
    "ski.morphology.binary_dilation(a, diamond(1)).astype(np.uint8)"
   ]
  },
  {
   "cell_type": "markdown",
   "id": "4bd7545c",
   "metadata": {},
   "source": [
    "**Opening**: erosion + dilation:"
   ]
  },
  {
   "cell_type": "code",
   "execution_count": null,
   "id": "4b461459",
   "metadata": {},
   "outputs": [],
   "source": [
    "a = np.zeros((5,5), dtype=int)\n",
    "a[1:4, 1:4] = 1; a[4, 4] = 1\n",
    "a"
   ]
  },
  {
   "cell_type": "code",
   "execution_count": null,
   "id": "15e225d2",
   "metadata": {},
   "outputs": [],
   "source": [
    "ski.morphology.binary_opening(a, diamond(1)).astype(np.uint8)"
   ]
  },
  {
   "cell_type": "markdown",
   "id": "3d0bfd66",
   "metadata": {},
   "source": [
    "Opening removes small objects and smoothes corners.\n",
    "\n",
    ":::{admonition} Grayscale mathematical morphology\n",
    "\n",
    "Mathematical morphology operations are also available for\n",
    "(non-binary) grayscale images (int or float type). Erosion and dilation\n",
    "correspond to minimum (resp. maximum) filters.\n",
    "\n",
    ":::\n",
    "\n",
    "Higher-level mathematical morphology are available: tophat,\n",
    "skeletonization, etc.\n",
    "\n",
    ":::{admonition} See also\n",
    "\n",
    "Basic mathematical morphology is also implemented in\n",
    "{mod}`scipy.ndimage.morphology`. The `scipy.ndimage` implementation\n",
    "works on arbitrary-dimensional arrays.\n",
    "\n",
    ":::\n",
    "\n",
    "---\n",
    "\n",
    "### Example of filters comparison: image denoising"
   ]
  },
  {
   "cell_type": "code",
   "execution_count": null,
   "id": "989f42f3",
   "metadata": {},
   "outputs": [],
   "source": [
    "coins = ski.data.coins()\n",
    "coins_zoom = coins[10:80, 300:370]\n",
    "median_coins = ski.filters.median(\n",
    "    coins_zoom, disk(1)\n",
    ")\n",
    "tv_coins = ski.restoration.denoise_tv_chambolle(\n",
    "    coins_zoom, weight=0.1\n",
    ")\n",
    "gaussian_filter_coins = ski.filters.gaussian(coins, sigma=2)\n",
    "med_filter_coins = ski.filters.median(coins, np.ones((3, 3)))\n",
    "tv_filter_coins = ski.restoration.denoise_tv_chambolle(coins, weight=0.1)"
   ]
  },
  {
   "cell_type": "code",
   "execution_count": null,
   "id": "0f20c9a2",
   "metadata": {
    "tags": [
     "hide-input"
    ]
   },
   "outputs": [],
   "source": [
    "plt.figure(figsize=(16, 4))\n",
    "plt.subplot(141)\n",
    "plt.imshow(coins[10:80, 300:370], cmap=\"gray\", interpolation=\"nearest\")\n",
    "plt.axis(\"off\")\n",
    "plt.title(\"Image\")\n",
    "plt.subplot(142)\n",
    "plt.imshow(gaussian_filter_coins[10:80, 300:370], cmap=\"gray\", interpolation=\"nearest\")\n",
    "plt.axis(\"off\")\n",
    "plt.title(\"Gaussian filter\")\n",
    "plt.subplot(143)\n",
    "plt.imshow(med_filter_coins[10:80, 300:370], cmap=\"gray\", interpolation=\"nearest\")\n",
    "plt.axis(\"off\")\n",
    "plt.title(\"Median filter\")\n",
    "plt.subplot(144)\n",
    "plt.imshow(tv_filter_coins[10:80, 300:370], cmap=\"gray\", interpolation=\"nearest\")\n",
    "plt.axis(\"off\")\n",
    "plt.title(\"TV filter\")"
   ]
  },
  {
   "cell_type": "markdown",
   "id": "68e0534f",
   "metadata": {},
   "source": [
    "## Image segmentation\n",
    "\n",
    "Image segmentation is the attribution of different labels to different\n",
    "regions of the image, for example in order to extract the pixels of an\n",
    "object of interest.\n",
    "\n",
    "### Binary segmentation: foreground + background\n",
    "\n",
    "#### Histogram-based method: **Otsu thresholding**\n",
    "\n",
    "::: {note}\n",
    ":class: dropdown\n",
    "\n",
    "The [Otsu method](https://en.wikipedia.org/wiki/Otsu%27s_method) is a\n",
    "simple heuristic to find a threshold to separate the foreground from\n",
    "the background.\n",
    ":::\n",
    "\n",
    ":::{sidebar} Earlier scikit-image versions\n",
    "{mod}`skimage.filters` is called {mod}`skimage.filter` in earlier\n",
    "versions of scikit-image\n",
    ":::"
   ]
  },
  {
   "cell_type": "code",
   "execution_count": null,
   "id": "d8867dab",
   "metadata": {},
   "outputs": [],
   "source": [
    "camera = ski.data.camera()\n",
    "val = ski.filters.threshold_otsu(camera)\n",
    "mask = camera < val"
   ]
  },
  {
   "cell_type": "code",
   "execution_count": null,
   "id": "6f66cbe3",
   "metadata": {},
   "outputs": [],
   "source": [
    "# The histogram from which Otsu calculated the threshold.\n",
    "hist, bins_center = ski.exposure.histogram(camera)"
   ]
  },
  {
   "cell_type": "code",
   "execution_count": null,
   "id": "ae67cae0",
   "metadata": {
    "tags": [
     "hide-input"
    ]
   },
   "outputs": [],
   "source": [
    "plt.figure(figsize=(9, 4))\n",
    "plt.subplot(131)\n",
    "plt.imshow(camera, cmap=\"gray\", interpolation=\"nearest\")\n",
    "plt.axis(\"off\")\n",
    "plt.subplot(132)\n",
    "plt.imshow(mask, cmap=\"gray\", interpolation=\"nearest\")\n",
    "plt.axis(\"off\")\n",
    "plt.subplot(133)\n",
    "plt.plot(bins_center, hist, lw=2)\n",
    "plt.axvline(val, color=\"k\", ls=\"--\")\n",
    "\n",
    "plt.tight_layout()"
   ]
  },
  {
   "cell_type": "markdown",
   "id": "ddad6e1a",
   "metadata": {},
   "source": [
    "#### Labeling connected components of a discrete image\n",
    "\n",
    "::: {note}\n",
    ":class: dropdown\n",
    "\n",
    "Once you have separated foreground objects, it is use to separate them\n",
    "from each other. For this, we can assign a different integer labels to\n",
    "each one.\n",
    ":::\n",
    "\n",
    "Synthetic data:"
   ]
  },
  {
   "cell_type": "code",
   "execution_count": null,
   "id": "cee17d76",
   "metadata": {},
   "outputs": [],
   "source": [
    "n = 20\n",
    "l = 256\n",
    "im = np.zeros((l, l))\n",
    "rng = np.random.default_rng()\n",
    "points = l * rng.random((2, n ** 2))\n",
    "im[(points[0]).astype(int), (points[1]).astype(int)] = 1\n",
    "im = ski.filters.gaussian(im, sigma=l / (4. * n))\n",
    "blobs = im > im.mean()"
   ]
  },
  {
   "cell_type": "markdown",
   "id": "a338c524",
   "metadata": {},
   "source": [
    "Label all connected components:"
   ]
  },
  {
   "cell_type": "code",
   "execution_count": null,
   "id": "ccc1e43a",
   "metadata": {},
   "outputs": [],
   "source": [
    "all_labels = ski.measure.label(blobs)"
   ]
  },
  {
   "cell_type": "markdown",
   "id": "24158f6b",
   "metadata": {},
   "source": [
    "Label only foreground connected components:"
   ]
  },
  {
   "cell_type": "code",
   "execution_count": null,
   "id": "8e358ae6",
   "metadata": {},
   "outputs": [],
   "source": [
    "blobs_labels = ski.measure.label(blobs, background=0)"
   ]
  },
  {
   "cell_type": "code",
   "execution_count": null,
   "id": "af63c851",
   "metadata": {
    "tags": [
     "hide-input"
    ]
   },
   "outputs": [],
   "source": [
    "plt.figure(figsize=(9, 3.5))\n",
    "plt.subplot(131)\n",
    "plt.imshow(blobs, cmap=\"gray\")\n",
    "plt.axis(\"off\")\n",
    "plt.subplot(132)\n",
    "plt.imshow(all_labels, cmap=\"nipy_spectral\")\n",
    "plt.axis(\"off\")\n",
    "plt.subplot(133)\n",
    "plt.imshow(blobs_labels, cmap=\"nipy_spectral\")\n",
    "plt.axis(\"off\")\n",
    "\n",
    "plt.tight_layout()"
   ]
  },
  {
   "cell_type": "markdown",
   "id": "9f7f53f8",
   "metadata": {},
   "source": [
    ":::{admonition} See also\n",
    "\n",
    "{func}`scipy.ndimage.find_objects` is useful to return slices on\n",
    "object in an image.\n",
    ":::"
   ]
  },
  {
   "cell_type": "markdown",
   "id": "faa8da35",
   "metadata": {},
   "source": [
    "### Marker based methods\n",
    "\n",
    "If you have markers inside a set of regions, you can use these to segment\n",
    "the regions."
   ]
  },
  {
   "cell_type": "markdown",
   "id": "a7a273f0",
   "metadata": {},
   "source": [
    "#### _Watershed_ segmentation\n",
    "\n",
    "The Watershed ({func}`skimage.segmentation.watershed`) is a region-growing\n",
    "approach that fills \"basins\" in the image"
   ]
  },
  {
   "cell_type": "code",
   "execution_count": null,
   "id": "65c42655",
   "metadata": {},
   "outputs": [],
   "source": [
    "# Generate an initial image with two overlapping circles\n",
    "x, y = np.indices((80, 80))\n",
    "x1, y1, x2, y2 = 28, 28, 44, 52\n",
    "r1, r2 = 16, 20\n",
    "mask_circle1 = (x - x1) ** 2 + (y - y1) ** 2 < r1 ** 2\n",
    "mask_circle2 = (x - x2) ** 2 + (y - y2) ** 2 < r2 ** 2\n",
    "image = np.logical_or(mask_circle1, mask_circle2)\n",
    "# Now we want to separate the two objects in image\n",
    "# Generate the markers as local maxima of the distance\n",
    "# to the background\n",
    "# Use scipy.ndimage.distance_transform_edt\n",
    "distance = sp.ndimage.distance_transform_edt(image)\n",
    "peak_idx = ski.feature.peak_local_max(\n",
    "    distance, footprint=np.ones((3, 3)), labels=image\n",
    ")\n",
    "peak_mask = np.zeros_like(distance, dtype=bool)\n",
    "peak_mask[tuple(peak_idx.T)] = True\n",
    "markers = ski.morphology.label(peak_mask)\n",
    "labels_ws = ski.segmentation.watershed(\n",
    "    -distance, markers, mask=image\n",
    ")"
   ]
  },
  {
   "cell_type": "markdown",
   "id": "8f57fdc6",
   "metadata": {},
   "source": [
    "#### _Random walker_ segmentation\n",
    "\n",
    "The random walker algorithm ({func}`skimage.segmentation.random_walker`)\n",
    "is similar to the Watershed, but with a more \"probabilistic\" approach. It\n",
    "is based on the idea of the diffusion of labels in the image:"
   ]
  },
  {
   "cell_type": "code",
   "execution_count": null,
   "id": "ffcb03fa",
   "metadata": {},
   "outputs": [],
   "source": [
    "# Transform markers image so that 0-valued pixels are to\n",
    "# be labelled, and -1-valued pixels represent background\n",
    "markers[~image] = -1\n",
    "labels_rw = ski.segmentation.random_walker(image, markers)"
   ]
  },
  {
   "cell_type": "code",
   "execution_count": null,
   "id": "3a9b90d9",
   "metadata": {
    "tags": [
     "hide-input"
    ]
   },
   "outputs": [],
   "source": [
    "plt.figure(figsize=(12, 3.5))\n",
    "plt.subplot(141)\n",
    "plt.imshow(image, cmap=\"gray\", interpolation=\"nearest\")\n",
    "plt.axis(\"off\")\n",
    "plt.title(\"image\")\n",
    "plt.subplot(142)\n",
    "plt.imshow(-distance, interpolation=\"nearest\")\n",
    "plt.axis(\"off\")\n",
    "plt.title(\"distance map\")\n",
    "plt.subplot(143)\n",
    "plt.imshow(labels_ws, cmap=\"nipy_spectral\", interpolation=\"nearest\")\n",
    "plt.axis(\"off\")\n",
    "plt.title(\"watershed segmentation\")\n",
    "plt.subplot(144)\n",
    "plt.imshow(labels_rw, cmap=\"nipy_spectral\", interpolation=\"nearest\")\n",
    "plt.axis(\"off\")\n",
    "plt.title(\"random walker segmentation\")\n",
    "\n",
    "plt.tight_layout()"
   ]
  },
  {
   "cell_type": "markdown",
   "id": "3b28895f",
   "metadata": {},
   "source": [
    ":::{admonition} Postprocessing label images\n",
    "`skimage` provides several utility functions that can be used on\n",
    "label images (ie images where different discrete values identify\n",
    "different regions). Functions names are often self-explaining:\n",
    "{func}`skimage.segmentation.clear_border`,\n",
    "{func}`skimage.segmentation.relabel_from_one`,\n",
    "{func}`skimage.morphology.remove_small_objects`, etc.\n",
    ":::\n",
    "\n",
    "**Start of exercise**\n",
    "\n",
    "- Load the `coins` image from the `data` submodule.\n",
    "- Separate the coins from the background by testing several\n",
    "  segmentation methods: Otsu thresholding, adaptive thresholding, and\n",
    "  watershed or random walker segmentation.\n",
    "- If necessary, use a postprocessing function to improve the coins /\n",
    "  background segmentation.\n",
    "\n",
    "**End of exercise**"
   ]
  },
  {
   "cell_type": "markdown",
   "id": "90fb6e4a",
   "metadata": {},
   "source": [
    "## Measuring regions' properties\n",
    "\n",
    "Example: compute the size and perimeter of the two segmented regions:"
   ]
  },
  {
   "cell_type": "code",
   "execution_count": null,
   "id": "7a02a52e",
   "metadata": {},
   "outputs": [],
   "source": [
    "properties = ski.measure.regionprops(labels_rw)\n",
    "[float(prop.area) for prop in properties]"
   ]
  },
  {
   "cell_type": "code",
   "execution_count": null,
   "id": "a7f231e9",
   "metadata": {},
   "outputs": [],
   "source": [
    "[prop.perimeter for prop in properties]"
   ]
  },
  {
   "cell_type": "markdown",
   "id": "1dcb1bfb",
   "metadata": {},
   "source": [
    ":::{admonition} See also\n",
    "\n",
    "for some properties, functions are available as well in\n",
    "{mod}`scipy.ndimage.measurements` with a different API (a list is\n",
    "returned).\n",
    ":::\n",
    "\n",
    "**Start of exercise**\n",
    "\n",
    "- Use the binary image of the coins and background from the previous\n",
    "  exercise.\n",
    "- Compute an image of labels for the different coins.\n",
    "- Compute the size and eccentricity of all coins.\n",
    "\n",
    "**End of exercise**"
   ]
  },
  {
   "cell_type": "markdown",
   "id": "802fe0ff",
   "metadata": {},
   "source": [
    "## Data visualization and interaction\n",
    "\n",
    "Meaningful visualizations are useful when testing a given processing\n",
    "pipeline.\n",
    "\n",
    "Some image processing operations:"
   ]
  },
  {
   "cell_type": "code",
   "execution_count": null,
   "id": "739836e8",
   "metadata": {},
   "outputs": [],
   "source": [
    "coins = ski.data.coins()\n",
    "mask = coins > ski.filters.threshold_otsu(coins)\n",
    "clean_border = ski.segmentation.clear_border(mask)"
   ]
  },
  {
   "cell_type": "markdown",
   "id": "59d8bfa5",
   "metadata": {},
   "source": [
    "Visualize binary result:"
   ]
  },
  {
   "cell_type": "code",
   "execution_count": null,
   "id": "a1f0b119",
   "metadata": {},
   "outputs": [],
   "source": [
    "plt.figure()\n",
    "plt.imshow(clean_border, cmap='gray')"
   ]
  },
  {
   "cell_type": "markdown",
   "id": "ce9a4946",
   "metadata": {},
   "source": [
    "Visualize contour"
   ]
  },
  {
   "cell_type": "code",
   "execution_count": null,
   "id": "9f9af7ee",
   "metadata": {},
   "outputs": [],
   "source": [
    "plt.figure()\n",
    "plt.imshow(coins, cmap='gray')\n",
    "plt.contour(clean_border, [0.5])"
   ]
  },
  {
   "cell_type": "markdown",
   "id": "efa4a7bd",
   "metadata": {},
   "source": [
    "Use `skimage` dedicated utility function:"
   ]
  },
  {
   "cell_type": "code",
   "execution_count": null,
   "id": "d3b896de",
   "metadata": {},
   "outputs": [],
   "source": [
    "coins_edges = ski.segmentation.mark_boundaries(\n",
    "    coins, clean_border.astype(int)\n",
    ")"
   ]
  },
  {
   "cell_type": "code",
   "execution_count": null,
   "id": "aa7e4b3b",
   "metadata": {
    "tags": [
     "hide-input"
    ]
   },
   "outputs": [],
   "source": [
    "plt.figure(figsize=(8, 3.5))\n",
    "plt.subplot(121)\n",
    "plt.imshow(clean_border, cmap=\"gray\")\n",
    "plt.axis(\"off\")\n",
    "plt.subplot(122)\n",
    "plt.imshow(coins_edges)\n",
    "plt.axis(\"off\")\n",
    "\n",
    "plt.tight_layout()"
   ]
  },
  {
   "cell_type": "markdown",
   "id": "a24abc7a",
   "metadata": {},
   "source": [
    "## Feature extraction for computer vision\n",
    "\n",
    "Geometric or textural descriptor can be extracted from images in order to\n",
    "\n",
    "- classify parts of the image (e.g. sky vs. buildings)\n",
    "- match parts of different images (e.g. for object detection)\n",
    "- and many other applications of\n",
    "  [Computer Vision](https://en.wikipedia.org/wiki/Computer_vision)\n",
    "\n",
    "Example: detecting corners using Harris detector"
   ]
  },
  {
   "cell_type": "code",
   "execution_count": null,
   "id": "0b5cb770",
   "metadata": {},
   "outputs": [],
   "source": [
    "tform = ski.transform.AffineTransform(\n",
    "    scale=(1.3, 1.1), rotation=1, shear=0.7,\n",
    "    translation=(210, 50)\n",
    ")\n",
    "\n",
    "image = ski.transform.warp(\n",
    "    ski.data.checkerboard(), tform.inverse, output_shape=(350, 350)\n",
    ")\n",
    "\n",
    "coords = ski.feature.corner_peaks(\n",
    "    ski.feature.corner_harris(image), min_distance=5\n",
    ")\n",
    "coords_subpix = ski.feature.corner_subpix(\n",
    "    image, coords, window_size=13\n",
    ")"
   ]
  },
  {
   "cell_type": "code",
   "execution_count": null,
   "id": "090b57d5",
   "metadata": {
    "tags": [
     "hide-input"
    ]
   },
   "outputs": [],
   "source": [
    "plt.gray()\n",
    "plt.imshow(image, interpolation=\"nearest\")\n",
    "plt.plot(coords_subpix[:, 1], coords_subpix[:, 0], \"+r\", markersize=15, mew=5)\n",
    "plt.plot(coords[:, 1], coords[:, 0], \".b\", markersize=7)\n",
    "plt.axis(\"off\")"
   ]
  },
  {
   "cell_type": "markdown",
   "id": "bc6966c7",
   "metadata": {},
   "source": [
    "(this example is taken from the [plot_corner](https://scikit-image.org/docs/stable/auto_examples/features_detection/plot_corner.html)\n",
    "example in scikit-image)\n",
    "\n",
    "Points of interest such as corners can then be used to match objects in\n",
    "different images, as described in the [plot_matching](https://scikit-image.org/docs/stable/auto_examples/transform/plot_matching.html)\n",
    "example of scikit-image."
   ]
  }
 ],
 "metadata": {
  "kernelspec": {
   "display_name": "Python (Pyodide)",
   "name": "python"
  }
 },
 "nbformat": 4,
 "nbformat_minor": 5
}
