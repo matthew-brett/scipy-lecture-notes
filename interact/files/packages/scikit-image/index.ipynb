{
 "cells": [
  {
   "cell_type": "markdown",
   "id": "06a6dc08",
   "metadata": {},
   "source": [
    "# `scikit-image`: image processing\n",
    "\n",
    "**Author**: *Emmanuelle Gouillart*"
   ]
  },
  {
   "cell_type": "code",
   "execution_count": null,
   "id": "44c16a77",
   "metadata": {},
   "outputs": [],
   "source": [
    "import numpy as np\n",
    "import scipy as sp\n",
    "import matplotlib.pyplot as plt"
   ]
  },
  {
   "cell_type": "markdown",
   "id": "b1e72763",
   "metadata": {},
   "source": [
    "[scikit-image](https://scikit-image.org/) is a Python package dedicated\n",
    "to image processing, using NumPy arrays as image objects.\n",
    "This chapter describes how to use `scikit-image` for various image\n",
    "processing tasks, and how it relates to other scientific Python\n",
    "modules such as NumPy and SciPy.\n",
    "\n",
    "**Start of admonition: See also**\n",
    "\n",
    "For basic image manipulation, such as image cropping or simple\n",
    "filtering, a large number of simple operations can be realized with\n",
    "NumPy and SciPy only. See {ref}`basic-image`.\n",
    "\n",
    "Note that you should be familiar with the content of the previous\n",
    "chapter before reading the current one, as basic operations such as\n",
    "masking and labeling are a prerequisite.\n",
    "**End of admonition**\n",
    "\n",
    "## Introduction and concepts\n",
    "\n",
    "Images are NumPy's arrays `np.ndarray`"
   ]
  },
  {
   "cell_type": "markdown",
   "id": "6f8419f8",
   "metadata": {},
   "source": [
    "::: {glossary}\n",
    "\n",
    "Pixels\n",
    "    array values: ``a[2, 3]``\n",
    "\n",
    "Channels\n",
    "    array dimensions\n",
    "\n",
    "Image encoding\n",
    "    ``dtype`` (``np.uint8``, ``np.uint16``, ``np.float``)\n",
    "\n",
    "Filters\n",
    "    functions (``numpy``, ``skimage``, ``scipy``)\n",
    "\n",
    ":::"
   ]
  },
  {
   "cell_type": "code",
   "execution_count": null,
   "id": "41447a9b",
   "metadata": {},
   "outputs": [],
   "source": [
    "# This example show how to create a simple checkerboard.\n",
    "check = np.zeros((8, 8))\n",
    "check[::2, 1::2] = 1\n",
    "check[1::2, ::2] = 1\n",
    "plt.imshow(check, cmap='gray', interpolation='nearest');"
   ]
  },
  {
   "cell_type": "markdown",
   "id": "06326205",
   "metadata": {},
   "source": [
    "### `scikit-image` and the scientific Python ecosystem\n",
    "\n",
    "`scikit-image` is packaged in both `pip` and `conda`-based\n",
    "Python installations, as well as in most Linux distributions. Other\n",
    "Python packages for image processing & visualization that operate on\n",
    "NumPy arrays include:\n",
    "\n",
    "::: {list-table} Other packages for working with images\n",
    "\n",
    "* - {mod}`scipy.ndimage`\n",
    "  - For N-dimensional arrays. Basic filtering, mathematical morphology,\n",
    "    regions properties\n",
    "* - [Mahotas](https://mahotas.readthedocs.io)\n",
    "  - With a focus on high-speed implementations.\n",
    "* - [Napari](https://napari.org)\n",
    "  - A fast, interactive, multi-dimensional image viewer built in Qt.\n",
    "\n",
    ":::\n",
    "\n",
    "Some powerful C++ image processing libraries also have Python bindings:\n",
    "\n",
    "::: {list-table} C++ libraries with Python bindings\n",
    "\n",
    "* - [OpenCV](https://docs.opencv.org/4.x/d6/d00/tutorial_py_root.html)\n",
    "  - A highly optimized computer vision library with a focus on real-time\n",
    "    applications.\n",
    "* - [ITK](https://www.itk.org)\n",
    "  - The Insight ToolKit, especially useful for registration and working with\n",
    "    3D images.\n",
    "\n",
    ":::\n",
    "\n",
    "To varying degrees, these C++-based libraries tend to be less Pythonic and\n",
    "NumPy-friendly."
   ]
  },
  {
   "cell_type": "markdown",
   "id": "fa446747",
   "metadata": {},
   "source": [
    "### What is included in scikit-image\n",
    "\n",
    "- Website: <https://scikit-image.org/>\n",
    "- Gallery of examples:\n",
    "  <https://scikit-image.org/docs/stable/auto_examples/>\n",
    "\n",
    "The library contains predominantly image processing algorithms, but\n",
    "also utility functions to ease data handling and processing.\n",
    "It contains the following submodules:\n",
    "\n",
    "::: {list-table} Scikit-image submodules\n",
    "\n",
    "* - {mod}`skimage.color`\n",
    "  - Color space conversion.\n",
    "* - {mod}`skimage.data`\n",
    "  - Test images and example data.\n",
    "* - {mod}`skimage.draw`\n",
    "  - Drawing primitives (lines, text, etc.) that operate on NumPy arrays.\n",
    "* - {mod}`skimage.exposure`\n",
    "  - Image intensity adjustment, e.g., histogram equalization, etc.\n",
    "* - {mod}`skimage.feature`\n",
    "  - Feature detection and extraction, e.g., texture analysis corners, etc.\n",
    "* - {mod}`skimage.filters`\n",
    "  - Sharpening, edge finding, rank filters, thresholding, etc.\n",
    "* - {mod}`skimage.graph`\n",
    "  - Graph-theoretic operations, e.g., shortest paths.\n",
    "* - {mod}`skimage.io`\n",
    "  - Reading, saving, and displaying images and video.\n",
    "* - {mod}`skimage.measure`\n",
    "  - Measurement of image properties, e.g., region properties and contours.\n",
    "* - {mod}`skimage.metrics`\n",
    "  - Metrics corresponding to images, e.g. distance metrics, similarity, etc.\n",
    "* - {mod}`skimage.morphology`\n",
    "  - Morphological operations, e.g., opening or skeletonization.\n",
    "* - {mod}`skimage.restoration`\n",
    "  - Restoration algorithms, e.g., deconvolution algorithms, denoising, etc.\n",
    "* - {mod}`skimage.segmentation`\n",
    "  - Partitioning an image into multiple regions.\n",
    "* - {mod}`skimage.transform`\n",
    "  - Geometric and other transforms, e.g., rotation or the Radon transform.\n",
    "* - {mod}`skimage.util`\n",
    "  - Generic utilities.\n",
    ":::\n",
    "\n",
    "<!---\n",
    "TODO Edit this section with a more refined discussion of the various\n",
    "package features.\n",
    "-->\n",
    "\n",
    "## Importing\n",
    "\n",
    "We import `scikit-image` using the convention:"
   ]
  },
  {
   "cell_type": "code",
   "execution_count": null,
   "id": "d4c824fb",
   "metadata": {},
   "outputs": [],
   "source": [
    "import skimage as ski"
   ]
  },
  {
   "cell_type": "markdown",
   "id": "e2de2caf",
   "metadata": {},
   "source": [
    "Most functionality lives in subpackages, e.g.:"
   ]
  },
  {
   "cell_type": "code",
   "execution_count": null,
   "id": "9d997671",
   "metadata": {},
   "outputs": [],
   "source": [
    "image = ski.data.cat()"
   ]
  },
  {
   "cell_type": "markdown",
   "id": "73aacda9",
   "metadata": {},
   "source": [
    "You can list all submodules with:"
   ]
  },
  {
   "cell_type": "code",
   "execution_count": null,
   "id": "78a028d2",
   "metadata": {},
   "outputs": [],
   "source": [
    "for m in dir(ski): print(m)"
   ]
  },
  {
   "cell_type": "markdown",
   "id": "dbdc08fb",
   "metadata": {},
   "source": [
    "Most `scikit-image` functions take NumPy `ndarrays` as arguments"
   ]
  },
  {
   "cell_type": "code",
   "execution_count": null,
   "id": "34face04",
   "metadata": {},
   "outputs": [],
   "source": [
    "camera = ski.data.camera()\n",
    "camera.dtype"
   ]
  },
  {
   "cell_type": "code",
   "execution_count": null,
   "id": "8fdac180",
   "metadata": {},
   "outputs": [],
   "source": [
    "camera.shape"
   ]
  },
  {
   "cell_type": "code",
   "execution_count": null,
   "id": "edd520bd",
   "metadata": {
    "lines_to_next_cell": 2
   },
   "outputs": [],
   "source": [
    "filtered_camera = ski.filters.gaussian(camera, sigma=1)\n",
    "type(filtered_camera)"
   ]
  },
  {
   "cell_type": "markdown",
   "id": "632f7bf1",
   "metadata": {},
   "source": [
    "## Example data\n",
    "\n",
    "To start off, we need example images to work with.\n",
    "The library ships with a few of these:\n",
    "\n",
    "{mod}`skimage.data`"
   ]
  },
  {
   "cell_type": "code",
   "execution_count": null,
   "id": "a82c48a2",
   "metadata": {
    "lines_to_next_cell": 2
   },
   "outputs": [],
   "source": [
    "image = ski.data.cat()\n",
    "image.shape"
   ]
  },
  {
   "cell_type": "markdown",
   "id": "d3396820",
   "metadata": {},
   "source": [
    "## Input/output, data types and colorspaces\n",
    "\n",
    "I/O: {mod}`skimage.io`\n",
    "\n",
    "Save an image to disk: {func}`skimage.io.imsave`"
   ]
  },
  {
   "cell_type": "code",
   "execution_count": null,
   "id": "7cc59290",
   "metadata": {},
   "outputs": [],
   "source": [
    "ski.io.imsave(\"cat.png\", image)"
   ]
  },
  {
   "cell_type": "markdown",
   "id": "b4b0645f",
   "metadata": {},
   "source": [
    "Reading from files: {func}`skimage.io.imread`"
   ]
  },
  {
   "cell_type": "code",
   "execution_count": null,
   "id": "6f87859d",
   "metadata": {},
   "outputs": [],
   "source": [
    "cat = ski.io.imread(\"cat.png\")"
   ]
  },
  {
   "cell_type": "code",
   "execution_count": null,
   "id": "93ec69b9",
   "metadata": {},
   "outputs": [],
   "source": [
    "camera = ski.data.camera()\n",
    "\n",
    "plt.figure(figsize=(4, 4))\n",
    "plt.imshow(camera, cmap=\"gray\", interpolation=\"nearest\")\n",
    "plt.axis(\"off\")\n",
    "\n",
    "plt.tight_layout()"
   ]
  },
  {
   "cell_type": "markdown",
   "id": "71da1793",
   "metadata": {},
   "source": [
    "This works with many data formats supported by the\n",
    "[ImageIO](https://imageio.readthedocs.io) library.\n",
    "\n",
    "Loading also works with URLs:"
   ]
  },
  {
   "cell_type": "code",
   "execution_count": null,
   "id": "43a93bbc",
   "metadata": {
    "lines_to_next_cell": 2
   },
   "outputs": [],
   "source": [
    "logo = ski.io.imread('https://scikit-image.org/_static/img/logo.png')"
   ]
  },
  {
   "cell_type": "markdown",
   "id": "6934255d",
   "metadata": {},
   "source": [
    "### Data types\n",
    "\n",
    "Image ndarrays can be represented either by integers (signed or unsigned) or\n",
    "floats.\n",
    "\n",
    "Careful with overflows with integer data types"
   ]
  },
  {
   "cell_type": "code",
   "execution_count": null,
   "id": "2ff33855",
   "metadata": {},
   "outputs": [],
   "source": [
    "camera = ski.data.camera()\n",
    "camera.dtype\n",
    "camera_multiply = 3 * camera"
   ]
  },
  {
   "cell_type": "code",
   "execution_count": null,
   "id": "bafa2558",
   "metadata": {
    "tags": [
     "hide-input"
    ]
   },
   "outputs": [],
   "source": [
    "plt.figure(figsize=(8, 4))\n",
    "plt.subplot(121)\n",
    "plt.imshow(camera, cmap=\"gray\", interpolation=\"nearest\")\n",
    "plt.axis(\"off\")\n",
    "plt.subplot(122)\n",
    "plt.imshow(camera_multiply, cmap=\"gray\", interpolation=\"nearest\")\n",
    "plt.axis(\"off\")\n",
    "\n",
    "plt.tight_layout()"
   ]
  },
  {
   "cell_type": "markdown",
   "id": "242bb74a",
   "metadata": {},
   "source": [
    "Different integer sizes are possible: 8-, 16- or 32-bytes, signed or\n",
    "unsigned.\n",
    "\n",
    "**Warning**: An important (if questionable) `skimage` **convention**: float\n",
    "images are supposed to lie in [-1, 1] (in order to have comparable contrast\n",
    "for all float images):"
   ]
  },
  {
   "cell_type": "code",
   "execution_count": null,
   "id": "e3714e03",
   "metadata": {},
   "outputs": [],
   "source": [
    "camera_float = ski.util.img_as_float(camera)\n",
    "camera.max(), camera_float.max()"
   ]
  },
  {
   "cell_type": "markdown",
   "id": "19a19352",
   "metadata": {},
   "source": [
    "Some image processing routines need to work with float arrays, and may\n",
    "hence output an array with a different type and the data range from the\n",
    "input array"
   ]
  },
  {
   "cell_type": "code",
   "execution_count": null,
   "id": "63f9d93a",
   "metadata": {},
   "outputs": [],
   "source": [
    "camera_sobel = ski.filters.sobel(camera)\n",
    "camera_sobel.max()"
   ]
  },
  {
   "cell_type": "markdown",
   "id": "768bf5dd",
   "metadata": {},
   "source": [
    "Utility functions are provided in {mod}`skimage` to convert both the\n",
    "dtype and the data range, following skimage's conventions:\n",
    "`util.img_as_float`, `util.img_as_ubyte`, etc.\n",
    "\n",
    "See the [user guide](https://scikit-image.org/docs/stable/user_guide/data_types.html) for\n",
    "more details."
   ]
  },
  {
   "cell_type": "markdown",
   "id": "2cdb75b7",
   "metadata": {},
   "source": [
    "### Colorspaces\n",
    "\n",
    "Color images are of shape (N, M, 3) or (N, M, 4) (when an alpha channel\n",
    "encodes transparency)"
   ]
  },
  {
   "cell_type": "code",
   "execution_count": null,
   "id": "7005bbdd",
   "metadata": {},
   "outputs": [],
   "source": [
    "face = sp.datasets.face()\n",
    "face.shape"
   ]
  },
  {
   "cell_type": "markdown",
   "id": "cf3ee92d",
   "metadata": {},
   "source": [
    "Routines converting between different colorspaces (RGB, HSV, LAB etc.)\n",
    "are available in {mod}`skimage.color` : `color.rgb2hsv`, `color.lab2rgb`,\n",
    "etc. Check the docstring for the expected dtype (and data range) of input\n",
    "images.\n",
    "\n",
    "**Start of admonition: 3D images**\n",
    "\n",
    "Most functions of `skimage` can take 3D images as input arguments.\n",
    "Check the docstring to know if a function can be used on 3D images\n",
    "(for example MRI or CT images).\n",
    "\n",
    "**End of admonition**\n",
    "\n",
    "**Start of exercise**\n",
    "\n",
    "Open a color image on your disk as a NumPy array.\n",
    "\n",
    "Find a skimage function computing the histogram of an image and\n",
    "plot the histogram of each color channel\n",
    "\n",
    "Convert the image to grayscale and plot its histogram.\n",
    "\n",
    "**End of exercise**\n",
    "\n",
    "## Image preprocessing / enhancement\n",
    "\n",
    "Goals: denoising, feature (edges) extraction, ...\n",
    "\n",
    "### Local filters\n",
    "\n",
    "Local filters replace the value of pixels by a function of the\n",
    "values of neighboring pixels. The function can be linear or non-linear.\n",
    "\n",
    "Neighbourhood: square (choose size), disk, or more complicated\n",
    "*structuring element*.\n",
    "\n",
    "![](../../advanced/image_processing/kernels.png)\n",
    "\n",
    "Example : horizontal Sobel filter"
   ]
  },
  {
   "cell_type": "code",
   "execution_count": null,
   "id": "05771366",
   "metadata": {},
   "outputs": [],
   "source": [
    "text = ski.data.text()\n",
    "hsobel_text = ski.filters.sobel_h(text)"
   ]
  },
  {
   "cell_type": "markdown",
   "id": "d1c26271",
   "metadata": {},
   "source": [
    "Uses the following linear kernel for computing horizontal gradients:\n",
    "\n",
    "```\n",
    " 1   2   1\n",
    " 0   0   0\n",
    "-1  -2  -1\n",
    "```"
   ]
  },
  {
   "cell_type": "code",
   "execution_count": null,
   "id": "e676c9f7",
   "metadata": {
    "lines_to_next_cell": 2,
    "tags": [
     "hide-input"
    ]
   },
   "outputs": [],
   "source": [
    "plt.figure(figsize=(12, 3))\n",
    "\n",
    "plt.subplot(121)\n",
    "plt.imshow(text, cmap=\"gray\", interpolation=\"nearest\")\n",
    "plt.axis(\"off\")\n",
    "plt.subplot(122)\n",
    "plt.imshow(hsobel_text, cmap=\"nipy_spectral\", interpolation=\"nearest\")\n",
    "plt.axis(\"off\")\n",
    "plt.tight_layout()"
   ]
  },
  {
   "cell_type": "markdown",
   "id": "df0f97f8",
   "metadata": {},
   "source": [
    "### Non-local filters\n",
    "\n",
    "Non-local filters use a large region of the image (or all the image) to\n",
    "transform the value of one pixel:"
   ]
  },
  {
   "cell_type": "code",
   "execution_count": null,
   "id": "a72be016",
   "metadata": {},
   "outputs": [],
   "source": [
    "camera = ski.data.camera()\n",
    "camera_equalized = ski.exposure.equalize_hist(camera)"
   ]
  },
  {
   "cell_type": "markdown",
   "id": "9318fc97",
   "metadata": {},
   "source": [
    "Enhances contrast in large almost uniform regions."
   ]
  },
  {
   "cell_type": "code",
   "execution_count": null,
   "id": "ce48d664",
   "metadata": {
    "lines_to_next_cell": 2,
    "tags": [
     "hide-input"
    ]
   },
   "outputs": [],
   "source": [
    "plt.figure(figsize=(7, 3))\n",
    "\n",
    "plt.subplot(121)\n",
    "plt.imshow(camera, cmap=\"gray\", interpolation=\"nearest\")\n",
    "plt.axis(\"off\")\n",
    "plt.subplot(122)\n",
    "plt.imshow(camera_equalized, cmap=\"gray\", interpolation=\"nearest\")\n",
    "plt.axis(\"off\")\n",
    "plt.tight_layout()"
   ]
  },
  {
   "cell_type": "markdown",
   "id": "98be7e1e",
   "metadata": {},
   "source": [
    "### Mathematical morphology\n",
    "\n",
    "See [wikipedia](https://en.wikipedia.org/wiki/Mathematical_morphology)\n",
    "for an introduction on mathematical morphology.\n",
    "\n",
    "Probe an image with a simple shape (a **structuring element**), and\n",
    "modify this image according to how the shape locally fits or misses the\n",
    "image.\n",
    "\n",
    "Default structuring element: 4-connectivity of a pixel"
   ]
  },
  {
   "cell_type": "code",
   "execution_count": null,
   "id": "930f11fb",
   "metadata": {},
   "outputs": [],
   "source": [
    "# Import structuring elements to make them more easily accessible\n",
    "from skimage.morphology import disk, diamond"
   ]
  },
  {
   "cell_type": "code",
   "execution_count": null,
   "id": "a4a2548f",
   "metadata": {},
   "outputs": [],
   "source": [
    "diamond(1)"
   ]
  },
  {
   "cell_type": "markdown",
   "id": "6c5c8d5f",
   "metadata": {},
   "source": [
    "![](../../advanced/image_processing/diamond_kernel.png)\n",
    "\n",
    "**Erosion** = minimum filter. Replace the value of a pixel by the minimal value covered by the structuring element.:"
   ]
  },
  {
   "cell_type": "code",
   "execution_count": null,
   "id": "74063984",
   "metadata": {},
   "outputs": [],
   "source": [
    "a = np.zeros((7,7), dtype=np.uint8)\n",
    "a[1:6, 2:5] = 1\n",
    "a"
   ]
  },
  {
   "cell_type": "code",
   "execution_count": null,
   "id": "90343b21",
   "metadata": {},
   "outputs": [],
   "source": [
    "ski.morphology.binary_erosion(a, diamond(1)).astype(np.uint8)"
   ]
  },
  {
   "cell_type": "code",
   "execution_count": null,
   "id": "85358eb6",
   "metadata": {},
   "outputs": [],
   "source": [
    "#Erosion removes objects smaller than the structure\n",
    "ski.morphology.binary_erosion(a, diamond(2)).astype(np.uint8)"
   ]
  },
  {
   "cell_type": "markdown",
   "id": "6048cd94",
   "metadata": {},
   "source": [
    "**Dilation**: maximum filter:"
   ]
  },
  {
   "cell_type": "code",
   "execution_count": null,
   "id": "cd0782be",
   "metadata": {},
   "outputs": [],
   "source": [
    "a = np.zeros((5, 5))\n",
    "a[2, 2] = 1\n",
    "a"
   ]
  },
  {
   "cell_type": "code",
   "execution_count": null,
   "id": "b2e3508b",
   "metadata": {},
   "outputs": [],
   "source": [
    "ski.morphology.binary_dilation(a, diamond(1)).astype(np.uint8)"
   ]
  },
  {
   "cell_type": "markdown",
   "id": "505fc674",
   "metadata": {},
   "source": [
    "**Opening**: erosion + dilation:"
   ]
  },
  {
   "cell_type": "code",
   "execution_count": null,
   "id": "92b912ae",
   "metadata": {},
   "outputs": [],
   "source": [
    "a = np.zeros((5,5), dtype=int)\n",
    "a[1:4, 1:4] = 1; a[4, 4] = 1\n",
    "a"
   ]
  },
  {
   "cell_type": "code",
   "execution_count": null,
   "id": "fe21640b",
   "metadata": {},
   "outputs": [],
   "source": [
    "ski.morphology.binary_opening(a, diamond(1)).astype(np.uint8)"
   ]
  },
  {
   "cell_type": "markdown",
   "id": "0bbf1a29",
   "metadata": {},
   "source": [
    "Opening removes small objects and smoothes corners.\n",
    "\n",
    "**Start of admonition: Grayscale mathematical morphology**\n",
    "\n",
    "Mathematical morphology operations are also available for\n",
    "(non-binary) grayscale images (int or float type). Erosion and dilation\n",
    "correspond to minimum (resp. maximum) filters.\n",
    "\n",
    "**End of admonition**\n",
    "\n",
    "Higher-level mathematical morphology are available: tophat,\n",
    "skeletonization, etc.\n",
    "\n",
    "**Start of admonition: See also**\n",
    "\n",
    "Basic mathematical morphology is also implemented in\n",
    "{mod}`scipy.ndimage.morphology`. The `scipy.ndimage` implementation\n",
    "works on arbitrary-dimensional arrays.\n",
    "\n",
    "**End of admonition**\n",
    "\n",
    "______________________________________________________________________\n",
    "\n",
    "### Example of filters comparison: image denoising"
   ]
  },
  {
   "cell_type": "code",
   "execution_count": null,
   "id": "0b35dd9a",
   "metadata": {},
   "outputs": [],
   "source": [
    "coins = ski.data.coins()\n",
    "coins_zoom = coins[10:80, 300:370]\n",
    "median_coins = ski.filters.median(\n",
    "    coins_zoom, disk(1)\n",
    ")\n",
    "tv_coins = ski.restoration.denoise_tv_chambolle(\n",
    "    coins_zoom, weight=0.1\n",
    ")\n",
    "gaussian_filter_coins = ski.filters.gaussian(coins, sigma=2)\n",
    "med_filter_coins = ski.filters.median(coins, np.ones((3, 3)))\n",
    "tv_filter_coins = ski.restoration.denoise_tv_chambolle(coins, weight=0.1)"
   ]
  },
  {
   "cell_type": "code",
   "execution_count": null,
   "id": "e371a790",
   "metadata": {
    "lines_to_next_cell": 2,
    "tags": [
     "hide-input"
    ]
   },
   "outputs": [],
   "source": [
    "plt.figure(figsize=(16, 4))\n",
    "plt.subplot(141)\n",
    "plt.imshow(coins[10:80, 300:370], cmap=\"gray\", interpolation=\"nearest\")\n",
    "plt.axis(\"off\")\n",
    "plt.title(\"Image\")\n",
    "plt.subplot(142)\n",
    "plt.imshow(gaussian_filter_coins[10:80, 300:370], cmap=\"gray\", interpolation=\"nearest\")\n",
    "plt.axis(\"off\")\n",
    "plt.title(\"Gaussian filter\")\n",
    "plt.subplot(143)\n",
    "plt.imshow(med_filter_coins[10:80, 300:370], cmap=\"gray\", interpolation=\"nearest\")\n",
    "plt.axis(\"off\")\n",
    "plt.title(\"Median filter\")\n",
    "plt.subplot(144)\n",
    "plt.imshow(tv_filter_coins[10:80, 300:370], cmap=\"gray\", interpolation=\"nearest\")\n",
    "plt.axis(\"off\")\n",
    "plt.title(\"TV filter\")"
   ]
  },
  {
   "cell_type": "markdown",
   "id": "904218e9",
   "metadata": {},
   "source": [
    "## Image segmentation\n",
    "\n",
    "Image segmentation is the attribution of different labels to different\n",
    "regions of the image, for example in order to extract the pixels of an\n",
    "object of interest.\n",
    "\n",
    "### Binary segmentation: foreground + background\n",
    "\n",
    "#### Histogram-based method: **Otsu thresholding**\n",
    "\n",
    "**Start of note**\n",
    ":class: dropdown\n",
    "\n",
    "The [Otsu method](https://en.wikipedia.org/wiki/Otsu%27s_method) is a\n",
    "simple heuristic to find a threshold to separate the foreground from\n",
    "the background.\n",
    "**End of note**\n",
    "\n",
    ":::{sidebar} Earlier scikit-image versions\n",
    "{mod}`skimage.filters` is called {mod}`skimage.filter` in earlier\n",
    "versions of scikit-image\n",
    ":::"
   ]
  },
  {
   "cell_type": "code",
   "execution_count": null,
   "id": "20905127",
   "metadata": {},
   "outputs": [],
   "source": [
    "camera = ski.data.camera()\n",
    "val = ski.filters.threshold_otsu(camera)\n",
    "mask = camera < val"
   ]
  },
  {
   "cell_type": "code",
   "execution_count": null,
   "id": "96df90cc",
   "metadata": {},
   "outputs": [],
   "source": [
    "# The histogram from which Otsu calculated the threshold.\n",
    "hist, bins_center = ski.exposure.histogram(camera)"
   ]
  },
  {
   "cell_type": "code",
   "execution_count": null,
   "id": "87a8078f",
   "metadata": {
    "lines_to_next_cell": 2,
    "tags": [
     "hide-input"
    ]
   },
   "outputs": [],
   "source": [
    "plt.figure(figsize=(9, 4))\n",
    "plt.subplot(131)\n",
    "plt.imshow(camera, cmap=\"gray\", interpolation=\"nearest\")\n",
    "plt.axis(\"off\")\n",
    "plt.subplot(132)\n",
    "plt.imshow(mask, cmap=\"gray\", interpolation=\"nearest\")\n",
    "plt.axis(\"off\")\n",
    "plt.subplot(133)\n",
    "plt.plot(bins_center, hist, lw=2)\n",
    "plt.axvline(val, color=\"k\", ls=\"--\")\n",
    "\n",
    "plt.tight_layout()"
   ]
  },
  {
   "cell_type": "markdown",
   "id": "f54a692a",
   "metadata": {},
   "source": [
    "#### Labeling connected components of a discrete image\n",
    "\n",
    "**Start of note**\n",
    ":class: dropdown\n",
    "\n",
    "Once you have separated foreground objects, it is use to separate them\n",
    "from each other. For this, we can assign a different integer labels to\n",
    "each one.\n",
    "**End of note**\n",
    "\n",
    "Synthetic data:"
   ]
  },
  {
   "cell_type": "code",
   "execution_count": null,
   "id": "05b72f75",
   "metadata": {},
   "outputs": [],
   "source": [
    "n = 20\n",
    "l = 256\n",
    "im = np.zeros((l, l))\n",
    "rng = np.random.default_rng()\n",
    "points = l * rng.random((2, n ** 2))\n",
    "im[(points[0]).astype(int), (points[1]).astype(int)] = 1\n",
    "im = ski.filters.gaussian(im, sigma=l / (4. * n))\n",
    "blobs = im > im.mean()"
   ]
  },
  {
   "cell_type": "markdown",
   "id": "16b05af4",
   "metadata": {},
   "source": [
    "Label all connected components:"
   ]
  },
  {
   "cell_type": "code",
   "execution_count": null,
   "id": "3758b92f",
   "metadata": {},
   "outputs": [],
   "source": [
    "all_labels = ski.measure.label(blobs)"
   ]
  },
  {
   "cell_type": "markdown",
   "id": "ca7b3d6f",
   "metadata": {},
   "source": [
    "Label only foreground connected components:"
   ]
  },
  {
   "cell_type": "code",
   "execution_count": null,
   "id": "32d247eb",
   "metadata": {},
   "outputs": [],
   "source": [
    "blobs_labels = ski.measure.label(blobs, background=0)"
   ]
  },
  {
   "cell_type": "code",
   "execution_count": null,
   "id": "cb29ab11",
   "metadata": {
    "tags": [
     "hide-input"
    ]
   },
   "outputs": [],
   "source": [
    "plt.figure(figsize=(9, 3.5))\n",
    "plt.subplot(131)\n",
    "plt.imshow(blobs, cmap=\"gray\")\n",
    "plt.axis(\"off\")\n",
    "plt.subplot(132)\n",
    "plt.imshow(all_labels, cmap=\"nipy_spectral\")\n",
    "plt.axis(\"off\")\n",
    "plt.subplot(133)\n",
    "plt.imshow(blobs_labels, cmap=\"nipy_spectral\")\n",
    "plt.axis(\"off\")\n",
    "\n",
    "plt.tight_layout()"
   ]
  },
  {
   "cell_type": "markdown",
   "id": "3eadd990",
   "metadata": {},
   "source": [
    "**Start of admonition: See also**\n",
    "\n",
    "{func}`scipy.ndimage.find_objects` is useful to return slices on\n",
    "object in an image.\n",
    "**End of admonition**"
   ]
  },
  {
   "cell_type": "markdown",
   "id": "14a0a7f8",
   "metadata": {},
   "source": [
    "### Marker based methods\n",
    "\n",
    "If you have markers inside a set of regions, you can use these to segment\n",
    "the regions."
   ]
  },
  {
   "cell_type": "markdown",
   "id": "8957eea4",
   "metadata": {},
   "source": [
    "#### *Watershed* segmentation\n",
    "\n",
    "The Watershed ({func}`skimage.segmentation.watershed`) is a region-growing\n",
    "approach that fills \"basins\" in the image"
   ]
  },
  {
   "cell_type": "code",
   "execution_count": null,
   "id": "97acc0fa",
   "metadata": {
    "lines_to_next_cell": 2
   },
   "outputs": [],
   "source": [
    "# Generate an initial image with two overlapping circles\n",
    "x, y = np.indices((80, 80))\n",
    "x1, y1, x2, y2 = 28, 28, 44, 52\n",
    "r1, r2 = 16, 20\n",
    "mask_circle1 = (x - x1) ** 2 + (y - y1) ** 2 < r1 ** 2\n",
    "mask_circle2 = (x - x2) ** 2 + (y - y2) ** 2 < r2 ** 2\n",
    "image = np.logical_or(mask_circle1, mask_circle2)\n",
    "# Now we want to separate the two objects in image\n",
    "# Generate the markers as local maxima of the distance\n",
    "# to the background\n",
    "# Use scipy.ndimage.distance_transform_edt\n",
    "distance = sp.ndimage.distance_transform_edt(image)\n",
    "peak_idx = ski.feature.peak_local_max(\n",
    "    distance, footprint=np.ones((3, 3)), labels=image\n",
    ")\n",
    "peak_mask = np.zeros_like(distance, dtype=bool)\n",
    "peak_mask[tuple(peak_idx.T)] = True\n",
    "markers = ski.morphology.label(peak_mask)\n",
    "labels_ws = ski.segmentation.watershed(\n",
    "    -distance, markers, mask=image\n",
    ")"
   ]
  },
  {
   "cell_type": "markdown",
   "id": "58ff0591",
   "metadata": {},
   "source": [
    "#### *Random walker* segmentation\n",
    "\n",
    "The random walker algorithm ({func}`skimage.segmentation.random_walker`)\n",
    "is similar to the Watershed, but with a more \"probabilistic\" approach. It\n",
    "is based on the idea of the diffusion of labels in the image:"
   ]
  },
  {
   "cell_type": "code",
   "execution_count": null,
   "id": "d917811d",
   "metadata": {},
   "outputs": [],
   "source": [
    "# Transform markers image so that 0-valued pixels are to\n",
    "# be labelled, and -1-valued pixels represent background\n",
    "markers[~image] = -1\n",
    "labels_rw = ski.segmentation.random_walker(image, markers)"
   ]
  },
  {
   "cell_type": "code",
   "execution_count": null,
   "id": "b17e4258",
   "metadata": {
    "lines_to_next_cell": 2,
    "tags": [
     "hide-input"
    ]
   },
   "outputs": [],
   "source": [
    "plt.figure(figsize=(12, 3.5))\n",
    "plt.subplot(141)\n",
    "plt.imshow(image, cmap=\"gray\", interpolation=\"nearest\")\n",
    "plt.axis(\"off\")\n",
    "plt.title(\"image\")\n",
    "plt.subplot(142)\n",
    "plt.imshow(-distance, interpolation=\"nearest\")\n",
    "plt.axis(\"off\")\n",
    "plt.title(\"distance map\")\n",
    "plt.subplot(143)\n",
    "plt.imshow(labels_ws, cmap=\"nipy_spectral\", interpolation=\"nearest\")\n",
    "plt.axis(\"off\")\n",
    "plt.title(\"watershed segmentation\")\n",
    "plt.subplot(144)\n",
    "plt.imshow(labels_rw, cmap=\"nipy_spectral\", interpolation=\"nearest\")\n",
    "plt.axis(\"off\")\n",
    "plt.title(\"random walker segmentation\")\n",
    "\n",
    "plt.tight_layout()"
   ]
  },
  {
   "cell_type": "markdown",
   "id": "0312e7d9",
   "metadata": {},
   "source": [
    "**Start of admonition: Postprocessing label images**\n",
    "`skimage` provides several utility functions that can be used on\n",
    "label images (ie images where different discrete values identify\n",
    "different regions). Functions names are often self-explaining:\n",
    "{func}`skimage.segmentation.clear_border`,\n",
    "{func}`skimage.segmentation.relabel_from_one`,\n",
    "{func}`skimage.morphology.remove_small_objects`, etc.\n",
    "**End of admonition**\n",
    "\n",
    "**Start of exercise**\n",
    "\n",
    "- Load the `coins` image from the `data` submodule.\n",
    "- Separate the coins from the background by testing several\n",
    "  segmentation methods: Otsu thresholding, adaptive thresholding, and\n",
    "  watershed or random walker segmentation.\n",
    "- If necessary, use a postprocessing function to improve the coins /\n",
    "  background segmentation.\n",
    "\n",
    "**End of exercise**\n",
    "\n",
    "## Measuring regions' properties\n",
    "\n",
    "Example: compute the size and perimeter of the two segmented regions:"
   ]
  },
  {
   "cell_type": "code",
   "execution_count": null,
   "id": "eeee003e",
   "metadata": {},
   "outputs": [],
   "source": [
    "properties = ski.measure.regionprops(labels_rw)\n",
    "[float(prop.area) for prop in properties]"
   ]
  },
  {
   "cell_type": "code",
   "execution_count": null,
   "id": "190a72b9",
   "metadata": {},
   "outputs": [],
   "source": [
    "[prop.perimeter for prop in properties]"
   ]
  },
  {
   "cell_type": "markdown",
   "id": "e82164c3",
   "metadata": {},
   "source": [
    "**Start of admonition: See also**\n",
    "\n",
    "for some properties, functions are available as well in\n",
    "{mod}`scipy.ndimage.measurements` with a different API (a list is\n",
    "returned).\n",
    "**End of admonition**\n",
    "\n",
    "**Start of exercise**\n",
    "\n",
    "- Use the binary image of the coins and background from the previous\n",
    "  exercise.\n",
    "- Compute an image of labels for the different coins.\n",
    "- Compute the size and eccentricity of all coins.\n",
    "\n",
    "**End of exercise**\n",
    "\n",
    "## Data visualization and interaction\n",
    "\n",
    "Meaningful visualizations are useful when testing a given processing\n",
    "pipeline.\n",
    "\n",
    "Some image processing operations:"
   ]
  },
  {
   "cell_type": "code",
   "execution_count": null,
   "id": "513c2323",
   "metadata": {},
   "outputs": [],
   "source": [
    "coins = ski.data.coins()\n",
    "mask = coins > ski.filters.threshold_otsu(coins)\n",
    "clean_border = ski.segmentation.clear_border(mask)"
   ]
  },
  {
   "cell_type": "markdown",
   "id": "f9394e8c",
   "metadata": {},
   "source": [
    "Visualize binary result:"
   ]
  },
  {
   "cell_type": "code",
   "execution_count": null,
   "id": "bddb0765",
   "metadata": {},
   "outputs": [],
   "source": [
    "plt.figure()\n",
    "plt.imshow(clean_border, cmap='gray')"
   ]
  },
  {
   "cell_type": "markdown",
   "id": "f11e57af",
   "metadata": {},
   "source": [
    "Visualize contour"
   ]
  },
  {
   "cell_type": "code",
   "execution_count": null,
   "id": "b05866d2",
   "metadata": {},
   "outputs": [],
   "source": [
    "plt.figure()\n",
    "plt.imshow(coins, cmap='gray')\n",
    "plt.contour(clean_border, [0.5])"
   ]
  },
  {
   "cell_type": "markdown",
   "id": "c70d7a42",
   "metadata": {},
   "source": [
    "Use `skimage` dedicated utility function:"
   ]
  },
  {
   "cell_type": "code",
   "execution_count": null,
   "id": "735dfa27",
   "metadata": {},
   "outputs": [],
   "source": [
    "coins_edges = ski.segmentation.mark_boundaries(\n",
    "    coins, clean_border.astype(int)\n",
    ")"
   ]
  },
  {
   "cell_type": "code",
   "execution_count": null,
   "id": "b43ae66b",
   "metadata": {
    "lines_to_next_cell": 2,
    "tags": [
     "hide-input"
    ]
   },
   "outputs": [],
   "source": [
    "plt.figure(figsize=(8, 3.5))\n",
    "plt.subplot(121)\n",
    "plt.imshow(clean_border, cmap=\"gray\")\n",
    "plt.axis(\"off\")\n",
    "plt.subplot(122)\n",
    "plt.imshow(coins_edges)\n",
    "plt.axis(\"off\")\n",
    "\n",
    "plt.tight_layout()"
   ]
  },
  {
   "cell_type": "markdown",
   "id": "3a8da101",
   "metadata": {},
   "source": [
    "## Feature extraction for computer vision\n",
    "\n",
    "Geometric or textural descriptor can be extracted from images in order to\n",
    "\n",
    "- classify parts of the image (e.g. sky vs. buildings)\n",
    "- match parts of different images (e.g. for object detection)\n",
    "- and many other applications of\n",
    "  [Computer Vision](https://en.wikipedia.org/wiki/Computer_vision)\n",
    "\n",
    "Example: detecting corners using Harris detector"
   ]
  },
  {
   "cell_type": "code",
   "execution_count": null,
   "id": "918dbf50",
   "metadata": {},
   "outputs": [],
   "source": [
    "tform = ski.transform.AffineTransform(\n",
    "    scale=(1.3, 1.1), rotation=1, shear=0.7,\n",
    "    translation=(210, 50)\n",
    ")\n",
    "\n",
    "image = ski.transform.warp(\n",
    "    ski.data.checkerboard(), tform.inverse, output_shape=(350, 350)\n",
    ")\n",
    "\n",
    "coords = ski.feature.corner_peaks(\n",
    "    ski.feature.corner_harris(image), min_distance=5\n",
    ")\n",
    "coords_subpix = ski.feature.corner_subpix(\n",
    "    image, coords, window_size=13\n",
    ")"
   ]
  },
  {
   "cell_type": "code",
   "execution_count": null,
   "id": "a5b70a48",
   "metadata": {
    "tags": [
     "hide-input"
    ]
   },
   "outputs": [],
   "source": [
    "plt.gray()\n",
    "plt.imshow(image, interpolation=\"nearest\")\n",
    "plt.plot(coords_subpix[:, 1], coords_subpix[:, 0], \"+r\", markersize=15, mew=5)\n",
    "plt.plot(coords[:, 1], coords[:, 0], \".b\", markersize=7)\n",
    "plt.axis(\"off\")"
   ]
  },
  {
   "cell_type": "markdown",
   "id": "e8770ef1",
   "metadata": {},
   "source": [
    "(this example is taken from the [plot_corner](https://scikit-image.org/docs/stable/auto_examples/features_detection/plot_corner.html)\n",
    "example in scikit-image)\n",
    "\n",
    "Points of interest such as corners can then be used to match objects in\n",
    "different images, as described in the [plot_matching](https://scikit-image.org/docs/stable/auto_examples/transform/plot_matching.html)\n",
    "example of scikit-image."
   ]
  }
 ],
 "metadata": {
  "jupytext": {
   "formats": "ipynb,Rmd"
  },
  "kernelspec": {
   "display_name": "Python (Pyodide)",
   "name": "python"
  }
 },
 "nbformat": 4,
 "nbformat_minor": 5
}
