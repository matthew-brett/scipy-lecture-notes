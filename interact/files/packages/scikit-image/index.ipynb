{
 "cells": [
  {
   "cell_type": "markdown",
   "id": "f41331d8",
   "metadata": {},
   "source": [
    "# `scikit-image`: image processing\n",
    "\n",
    "**Author**: *Emmanuelle Gouillart*"
   ]
  },
  {
   "cell_type": "code",
   "execution_count": null,
   "id": "32da1849",
   "metadata": {},
   "outputs": [],
   "source": [
    "import numpy as np\n",
    "import scipy as sp\n",
    "import matplotlib.pyplot as plt"
   ]
  },
  {
   "cell_type": "markdown",
   "id": "7e194194",
   "metadata": {},
   "source": [
    "[scikit-image](https://scikit-image.org/) is a Python package dedicated\n",
    "to image processing, using NumPy arrays as image objects.\n",
    "This chapter describes how to use `scikit-image` for various image\n",
    "processing tasks, and how it relates to other scientific Python\n",
    "modules such as NumPy and SciPy.\n",
    "\n",
    "**Start of admonition: See also**\n",
    "\n",
    "For basic image manipulation, such as image cropping or simple\n",
    "filtering, a large number of simple operations can be realized with\n",
    "NumPy and SciPy only. See {ref}`basic-image`.\n",
    "\n",
    "Note that you should be familiar with the content of the previous\n",
    "chapter before reading the current one, as basic operations such as\n",
    "masking and labeling are a prerequisite.\n",
    "**End of admonition**\n",
    "\n",
    "## Introduction and concepts\n",
    "\n",
    "Images are NumPy's arrays `np.ndarray`"
   ]
  },
  {
   "cell_type": "markdown",
   "id": "cb20ba28",
   "metadata": {},
   "source": [
    ":pixels:\n",
    "\n",
    "    array values: ``a[2, 3]``\n",
    "\n",
    ":channels:\n",
    "\n",
    "    array dimensions\n",
    "\n",
    ":image encoding:\n",
    "\n",
    "    ``dtype`` (``np.uint8``, ``np.uint16``, ``np.float``)\n",
    "\n",
    ":filters:\n",
    "\n",
    "    functions (``numpy``, ``skimage``, ``scipy``)\n",
    "\n",
    "\n",
    "::"
   ]
  },
  {
   "cell_type": "code",
   "execution_count": null,
   "id": "d27c884b",
   "metadata": {},
   "outputs": [],
   "source": [
    "import numpy as np\n",
    "check = np.zeros((8, 8))\n",
    "check[::2, 1::2] = 1\n",
    "check[1::2, ::2] = 1\n",
    "import matplotlib.pyplot as plt\n",
    "plt.imshow(check, cmap='gray', interpolation='nearest')"
   ]
  },
  {
   "cell_type": "markdown",
   "id": "c1919a36",
   "metadata": {},
   "source": [
    "<!---\n",
    "![](auto_examples/images/sphx_glr_plot_check_001.png)\n",
    "# To fix parsing of Python block.\n",
    ":align: center\n",
    ":scale: 60\n",
    ":target: auto_examples/plot_check.html\n",
    "-->\n",
    "\n",
    "### `scikit-image` and the scientific Python ecosystem\n",
    "\n",
    "`scikit-image` is packaged in both `pip` and `conda`-based\n",
    "Python installations, as well as in most Linux distributions. Other\n",
    "Python packages for image processing & visualization that operate on\n",
    "NumPy arrays include:\n",
    "\n",
    "{mod}`scipy.ndimage`\n",
    "\n",
    ": For N-dimensional arrays. Basic filtering,\n",
    "  mathematical morphology, regions properties\n",
    "\n",
    "[Mahotas](https://mahotas.readthedocs.io)\n",
    "\n",
    ": With a focus on high-speed implementations.\n",
    "\n",
    "[Napari](https://napari.org)\n",
    "\n",
    ": A fast, interactive, multi-dimensional image viewer built in Qt.\n",
    "\n",
    "Some powerful C++ image processing libraries also have Python bindings:\n",
    "\n",
    "[OpenCV](https://docs.opencv.org/4.x/d6/d00/tutorial_py_root.html)\n",
    "\n",
    ": A highly optimized computer vision library with a focus on real-time\n",
    "  applications.\n",
    "\n",
    "[ITK](https://www.itk.org)\n",
    "\n",
    ": The Insight ToolKit, especially useful for registration and\n",
    "  working with 3D images.\n",
    "\n",
    "To varying degrees, these tend to be less Pythonic and NumPy-friendly.\n",
    "\n",
    "### What is included in scikit-image\n",
    "\n",
    "- Website: <https://scikit-image.org/>\n",
    "- Gallery of examples:\n",
    "  <https://scikit-image.org/docs/stable/auto_examples/>\n",
    "\n",
    "The library contains predominantly image processing algorithms, but\n",
    "also utility functions to ease data handling and processing.\n",
    "It contains the following submodules:\n",
    "\n",
    "{mod}`color`\n",
    "\n",
    ": Color space conversion.\n",
    "\n",
    "{mod}`data`\n",
    "\n",
    ": Test images and example data.\n",
    "\n",
    "{mod}`draw`\n",
    "\n",
    ": Drawing primitives (lines, text, etc.) that operate on NumPy\n",
    "  arrays.\n",
    "\n",
    "{mod}`exposure`\n",
    "\n",
    ": Image intensity adjustment, e.g., histogram equalization, etc.\n",
    "\n",
    "{mod}`feature`\n",
    "\n",
    ": Feature detection and extraction, e.g., texture analysis corners, etc.\n",
    "\n",
    "{mod}`filters`\n",
    "\n",
    ": Sharpening, edge finding, rank filters, thresholding, etc.\n",
    "\n",
    "{mod}`graph`\n",
    "\n",
    ": Graph-theoretic operations, e.g., shortest paths.\n",
    "\n",
    "{mod}`io`\n",
    "\n",
    ": Reading, saving, and displaying images and video.\n",
    "\n",
    "{mod}`measure`\n",
    "\n",
    ": Measurement of image properties, e.g., region properties and contours.\n",
    "\n",
    "{mod}`metrics`\n",
    "\n",
    ": Metrics corresponding to images, e.g. distance metrics, similarity, etc.\n",
    "\n",
    "{mod}`morphology`\n",
    "\n",
    ": Morphological operations, e.g., opening or skeletonization.\n",
    "\n",
    "{mod}`restoration`\n",
    "\n",
    ": Restoration algorithms, e.g., deconvolution algorithms, denoising, etc.\n",
    "\n",
    "{mod}`segmentation`\n",
    "\n",
    ": Partitioning an image into multiple regions.\n",
    "\n",
    "{mod}`transform`\n",
    "\n",
    ": Geometric and other transforms, e.g., rotation or the Radon transform.\n",
    "\n",
    "{mod}`util`\n",
    "\n",
    ": Generic utilities.\n",
    "\n",
    "<!---\n",
    "TODO Edit this section with a more refined discussion of the various\n",
    "package features.\n",
    "-->\n",
    "## Importing\n",
    "\n",
    "We import `scikit-image` using the convention:"
   ]
  },
  {
   "cell_type": "code",
   "execution_count": null,
   "id": "ab1c788b",
   "metadata": {},
   "outputs": [],
   "source": [
    "import skimage as ski"
   ]
  },
  {
   "cell_type": "markdown",
   "id": "b3f9e831",
   "metadata": {},
   "source": [
    "Most functionality lives in subpackages, e.g.:"
   ]
  },
  {
   "cell_type": "code",
   "execution_count": null,
   "id": "1834f514",
   "metadata": {},
   "outputs": [],
   "source": [
    "image = ski.data.cat()"
   ]
  },
  {
   "cell_type": "markdown",
   "id": "a5e35235",
   "metadata": {},
   "source": [
    "You can list all submodules with:"
   ]
  },
  {
   "cell_type": "code",
   "execution_count": null,
   "id": "a0948624",
   "metadata": {},
   "outputs": [],
   "source": [
    "for m in dir(ski): print(m)"
   ]
  },
  {
   "cell_type": "markdown",
   "id": "5d5dded9",
   "metadata": {},
   "source": [
    "Most `scikit-image` functions take NumPy `ndarrays` as arguments"
   ]
  },
  {
   "cell_type": "code",
   "execution_count": null,
   "id": "a19c3add",
   "metadata": {},
   "outputs": [],
   "source": [
    "camera = ski.data.camera()\n",
    "camera.dtype"
   ]
  },
  {
   "cell_type": "code",
   "execution_count": null,
   "id": "d6eff710",
   "metadata": {},
   "outputs": [],
   "source": [
    "camera.shape"
   ]
  },
  {
   "cell_type": "code",
   "execution_count": null,
   "id": "48986b08",
   "metadata": {},
   "outputs": [],
   "source": [
    "filtered_camera = ski.filters.gaussian(camera, sigma=1)\n",
    "type(filtered_camera)"
   ]
  },
  {
   "cell_type": "markdown",
   "id": "bd4b949d",
   "metadata": {},
   "source": [
    "## Example data\n",
    "\n",
    "To start off, we need example images to work with.\n",
    "The library ships with a few of these:\n",
    "\n",
    "{mod}`skimage.data`"
   ]
  },
  {
   "cell_type": "code",
   "execution_count": null,
   "id": "1f74d710",
   "metadata": {},
   "outputs": [],
   "source": [
    "image = ski.data.cat()\n",
    "image.shape"
   ]
  },
  {
   "cell_type": "markdown",
   "id": "070dee37",
   "metadata": {},
   "source": [
    "## Input/output, data types and colorspaces\n",
    "\n",
    "I/O: {mod}`skimage.io`\n",
    "\n",
    "Save an image to disk: {func}`skimage.io.imsave`"
   ]
  },
  {
   "cell_type": "code",
   "execution_count": null,
   "id": "0061b786",
   "metadata": {},
   "outputs": [],
   "source": [
    "ski.io.imsave(\"cat.png\", image)"
   ]
  },
  {
   "cell_type": "markdown",
   "id": "473e12d9",
   "metadata": {},
   "source": [
    "Reading from files: {func}`skimage.io.imread`"
   ]
  },
  {
   "cell_type": "code",
   "execution_count": null,
   "id": "5d4d8e30",
   "metadata": {},
   "outputs": [],
   "source": [
    "cat = ski.io.imread(\"cat.png\")"
   ]
  },
  {
   "cell_type": "code",
   "execution_count": null,
   "id": "80c9229b",
   "metadata": {},
   "outputs": [],
   "source": [
    "camera = ski.data.camera()\n",
    "\n",
    "plt.figure(figsize=(4, 4))\n",
    "plt.imshow(camera, cmap=\"gray\", interpolation=\"nearest\")\n",
    "plt.axis(\"off\")\n",
    "\n",
    "plt.tight_layout()"
   ]
  },
  {
   "cell_type": "markdown",
   "id": "9d2dea79",
   "metadata": {},
   "source": [
    "This works with many data formats supported by the\n",
    "[ImageIO](https://imageio.readthedocs.io) library.\n",
    "\n",
    "Loading also works with URLs:"
   ]
  },
  {
   "cell_type": "code",
   "execution_count": null,
   "id": "52f368b8",
   "metadata": {},
   "outputs": [],
   "source": [
    "logo = ski.io.imread('https://scikit-image.org/_static/img/logo.png')"
   ]
  },
  {
   "cell_type": "markdown",
   "id": "65aa82ba",
   "metadata": {},
   "source": [
    "### Data types\n",
    "\n",
    "Image ndarrays can be represented either by integers (signed or unsigned) or\n",
    "floats.\n",
    "\n",
    "Careful with overflows with integer data types"
   ]
  },
  {
   "cell_type": "code",
   "execution_count": null,
   "id": "ec8b18ba",
   "metadata": {},
   "outputs": [],
   "source": [
    "camera = ski.data.camera()\n",
    "camera.dtype\n",
    "camera_multiply = 3 * camera"
   ]
  },
  {
   "cell_type": "code",
   "execution_count": null,
   "id": "c07e7d61",
   "metadata": {},
   "outputs": [],
   "source": [
    "plt.figure(figsize=(8, 4))\n",
    "plt.subplot(121)\n",
    "plt.imshow(camera, cmap=\"gray\", interpolation=\"nearest\")\n",
    "plt.axis(\"off\")\n",
    "plt.subplot(122)\n",
    "plt.imshow(camera_multiply, cmap=\"gray\", interpolation=\"nearest\")\n",
    "plt.axis(\"off\")\n",
    "\n",
    "plt.tight_layout()"
   ]
  },
  {
   "cell_type": "markdown",
   "id": "c72eada6",
   "metadata": {},
   "source": [
    "Different integer sizes are possible: 8-, 16- or 32-bytes, signed or\n",
    "unsigned.\n",
    "\n",
    "**Warning**: An important (if questionable) `skimage` **convention**: float\n",
    "images are supposed to lie in [-1, 1] (in order to have comparable contrast\n",
    "for all float images):"
   ]
  },
  {
   "cell_type": "code",
   "execution_count": null,
   "id": "0a256ea8",
   "metadata": {},
   "outputs": [],
   "source": [
    "camera_float = ski.util.img_as_float(camera)\n",
    "camera.max(), camera_float.max()"
   ]
  },
  {
   "cell_type": "markdown",
   "id": "9bdae9c5",
   "metadata": {},
   "source": [
    "Some image processing routines need to work with float arrays, and may\n",
    "hence output an array with a different type and the data range from the\n",
    "input array"
   ]
  },
  {
   "cell_type": "code",
   "execution_count": null,
   "id": "d9a00ff1",
   "metadata": {},
   "outputs": [],
   "source": [
    "camera_sobel = ski.filters.sobel(camera)\n",
    "camera_sobel.max()"
   ]
  },
  {
   "cell_type": "markdown",
   "id": "7a4c5fe6",
   "metadata": {},
   "source": [
    "Utility functions are provided in {mod}`skimage` to convert both the\n",
    "dtype and the data range, following skimage's conventions:\n",
    "`util.img_as_float`, `util.img_as_ubyte`, etc.\n",
    "\n",
    "See the [user guide](https://scikit-image.org/docs/stable/user_guide/data_types.html) for\n",
    "more details.\n",
    "\n",
    "### Colorspaces\n",
    "\n",
    "Color images are of shape (N, M, 3) or (N, M, 4) (when an alpha channel\n",
    "encodes transparency)"
   ]
  },
  {
   "cell_type": "code",
   "execution_count": null,
   "id": "e0f32c62",
   "metadata": {},
   "outputs": [],
   "source": [
    "face = sp.datasets.face()\n",
    "face.shape"
   ]
  },
  {
   "cell_type": "markdown",
   "id": "340e27b0",
   "metadata": {},
   "source": [
    "Routines converting between different colorspaces (RGB, HSV, LAB etc.)\n",
    "are available in {mod}`skimage.color` : `color.rgb2hsv`, `color.lab2rgb`,\n",
    "etc. Check the docstring for the expected dtype (and data range) of input\n",
    "images.\n",
    "\n",
    "**Start of admonition: 3D images**\n",
    "\n",
    "Most functions of `skimage` can take 3D images as input arguments.\n",
    "Check the docstring to know if a function can be used on 3D images\n",
    "(for example MRI or CT images).\n",
    "\n",
    "**End of admonition**\n",
    "\n",
    "**Start of exercise**\n",
    "\n",
    "Open a color image on your disk as a NumPy array.\n",
    "\n",
    "Find a skimage function computing the histogram of an image and\n",
    "plot the histogram of each color channel\n",
    "\n",
    "Convert the image to grayscale and plot its histogram.\n",
    "\n",
    "**End of exercise**\n",
    "\n",
    "## Image preprocessing / enhancement\n",
    "\n",
    "Goals: denoising, feature (edges) extraction, ...\n",
    "\n",
    "### Local filters\n",
    "\n",
    "Local filters replace the value of pixels by a function of the\n",
    "values of neighboring pixels. The function can be linear or non-linear.\n",
    "\n",
    "Neighbourhood: square (choose size), disk, or more complicated\n",
    "*structuring element*.\n",
    "\n",
    "![](../../advanced/image_processing/kernels.png)\n",
    "<!---\n",
    "# For parsing\n",
    ":align: center\n",
    ":width: 80%\n",
    "-->\n",
    "\n",
    "Example : horizontal Sobel filter"
   ]
  },
  {
   "cell_type": "code",
   "execution_count": null,
   "id": "f3f121be",
   "metadata": {},
   "outputs": [],
   "source": [
    "text = ski.data.text()\n",
    "hsobel_text = ski.filters.sobel_h(text)"
   ]
  },
  {
   "cell_type": "markdown",
   "id": "a6004910",
   "metadata": {},
   "source": [
    "Uses the following linear kernel for computing horizontal gradients:\n",
    "\n",
    "```\n",
    " 1   2   1\n",
    " 0   0   0\n",
    "-1  -2  -1\n",
    "```\n",
    "\n",
    "<!---\n",
    "![](auto_examples/images/sphx_glr_plot_sobel_001.png)\n",
    "# For parsing\n",
    ":align: center\n",
    ":target: auto_examples/plot_sobel.html\n",
    ":width: 70%\n",
    "-->\n",
    "\n",
    "### Non-local filters\n",
    "\n",
    "Non-local filters use a large region of the image (or all the image) to\n",
    "transform the value of one pixel:"
   ]
  },
  {
   "cell_type": "code",
   "execution_count": null,
   "id": "3483a0dd",
   "metadata": {},
   "outputs": [],
   "source": [
    "camera = ski.data.camera()\n",
    "camera_equalized = ski.exposure.equalize_hist(camera)"
   ]
  },
  {
   "cell_type": "markdown",
   "id": "3f8d5cb0",
   "metadata": {},
   "source": [
    "Enhances contrast in large almost uniform regions.\n",
    "\n",
    "<!---\n",
    "![](auto_examples/images/sphx_glr_plot_equalize_hist_001.png)\n",
    "# For parsing.\n",
    ":align: center\n",
    ":target: auto_examples/plot_equalize_hist.html\n",
    ":width: 70%\n",
    "-->\n",
    "\n",
    "### Mathematical morphology\n",
    "\n",
    "See [wikipedia](https://en.wikipedia.org/wiki/Mathematical_morphology)\n",
    "for an introduction on mathematical morphology.\n",
    "\n",
    "Probe an image with a simple shape (a **structuring element**), and\n",
    "modify this image according to how the shape locally fits or misses the\n",
    "image.\n",
    "\n",
    "Default structuring element: 4-connectivity of a pixel"
   ]
  },
  {
   "cell_type": "code",
   "execution_count": null,
   "id": "c31b020d",
   "metadata": {},
   "outputs": [],
   "source": [
    "# Import structuring elements to make them more easily accessible\n",
    "from skimage.morphology import disk, diamond"
   ]
  },
  {
   "cell_type": "code",
   "execution_count": null,
   "id": "554a91fb",
   "metadata": {},
   "outputs": [],
   "source": [
    "diamond(1)"
   ]
  },
  {
   "cell_type": "markdown",
   "id": "c0bb4bd0",
   "metadata": {},
   "source": [
    "![](../../advanced/image_processing/diamond_kernel.png)\n",
    "<!---\n",
    "# For parsing.\n",
    ":align: center\n",
    "-->\n",
    "\n",
    "**Erosion** = minimum filter. Replace the value of a pixel by the minimal value covered by the structuring element.:"
   ]
  },
  {
   "cell_type": "code",
   "execution_count": null,
   "id": "a3502d12",
   "metadata": {},
   "outputs": [],
   "source": [
    "a = np.zeros((7,7), dtype=np.uint8)\n",
    "a[1:6, 2:5] = 1\n",
    "a"
   ]
  },
  {
   "cell_type": "code",
   "execution_count": null,
   "id": "5f1d04d9",
   "metadata": {},
   "outputs": [],
   "source": [
    "ski.morphology.binary_erosion(a, diamond(1)).astype(np.uint8)"
   ]
  },
  {
   "cell_type": "code",
   "execution_count": null,
   "id": "99c3e878",
   "metadata": {},
   "outputs": [],
   "source": [
    "#Erosion removes objects smaller than the structure\n",
    "ski.morphology.binary_erosion(a, diamond(2)).astype(np.uint8)"
   ]
  },
  {
   "cell_type": "markdown",
   "id": "2a9c67b2",
   "metadata": {},
   "source": [
    "**Dilation**: maximum filter:"
   ]
  },
  {
   "cell_type": "code",
   "execution_count": null,
   "id": "8bbb17f4",
   "metadata": {},
   "outputs": [],
   "source": [
    "a = np.zeros((5, 5))\n",
    "a[2, 2] = 1\n",
    "a"
   ]
  },
  {
   "cell_type": "code",
   "execution_count": null,
   "id": "e174a89d",
   "metadata": {},
   "outputs": [],
   "source": [
    "ski.morphology.binary_dilation(a, diamond(1)).astype(np.uint8)"
   ]
  },
  {
   "cell_type": "markdown",
   "id": "0c306c1b",
   "metadata": {},
   "source": [
    "**Opening**: erosion + dilation:"
   ]
  },
  {
   "cell_type": "code",
   "execution_count": null,
   "id": "94b560d7",
   "metadata": {},
   "outputs": [],
   "source": [
    "a = np.zeros((5,5), dtype=int)\n",
    "a[1:4, 1:4] = 1; a[4, 4] = 1\n",
    "a"
   ]
  },
  {
   "cell_type": "code",
   "execution_count": null,
   "id": "6a4a9fa4",
   "metadata": {},
   "outputs": [],
   "source": [
    "ski.morphology.binary_opening(a, diamond(1)).astype(np.uint8)"
   ]
  },
  {
   "cell_type": "markdown",
   "id": "c3dd7d6b",
   "metadata": {},
   "source": [
    "Opening removes small objects and smoothes corners.\n",
    "\n",
    "**Start of admonition: Grayscale mathematical morphology**\n",
    "\n",
    "Mathematical morphology operations are also available for\n",
    "(non-binary) grayscale images (int or float type). Erosion and dilation\n",
    "correspond to minimum (resp. maximum) filters.\n",
    "\n",
    "**End of admonition**\n",
    "\n",
    "Higher-level mathematical morphology are available: tophat,\n",
    "skeletonization, etc.\n",
    "\n",
    "**Start of admonition: See also**\n",
    "\n",
    "Basic mathematical morphology is also implemented in\n",
    "{mod}`scipy.ndimage.morphology`. The `scipy.ndimage` implementation\n",
    "works on arbitrary-dimensional arrays.\n",
    "\n",
    "**End of admonition**\n",
    "\n",
    "______________________________________________________________________\n",
    "\n",
    "### Example of filters comparison: image denoising"
   ]
  },
  {
   "cell_type": "code",
   "execution_count": null,
   "id": "51edf705",
   "metadata": {},
   "outputs": [],
   "source": [
    "coins = ski.data.coins()\n",
    "coins_zoom = coins[10:80, 300:370]\n",
    "median_coins = ski.filters.median(\n",
    "    coins_zoom, disk(1)\n",
    ")\n",
    "tv_coins = ski.restoration.denoise_tv_chambolle(\n",
    "    coins_zoom, weight=0.1\n",
    ")\n",
    "gaussian_coins = ski.filters.gaussian(coins, sigma=2)"
   ]
  },
  {
   "cell_type": "markdown",
   "id": "b68ce2f5",
   "metadata": {},
   "source": [
    "<!---\n",
    "![](auto_examples/images/sphx_glr_plot_filter_coins_001.png)\n",
    "# For parsing.\n",
    ":target: auto_examples/plot_filter_coins.html\n",
    ":width: 99%\n",
    "-->\n",
    ":::\n",
    "\n",
    "## Image segmentation\n",
    "\n",
    "Image segmentation is the attribution of different labels to different\n",
    "regions of the image, for example in order to extract the pixels of an\n",
    "object of interest.\n",
    "\n",
    "### Binary segmentation: foreground + background\n",
    "\n",
    "#### Histogram-based method: **Otsu thresholding**\n",
    "\n",
    "**Start of note**\n",
    ":class: dropdown\n",
    "\n",
    "The [Otsu method](https://en.wikipedia.org/wiki/Otsu%27s_method) is a\n",
    "simple heuristic to find a threshold to separate the foreground from\n",
    "the background.\n",
    "**End of note**\n",
    "\n",
    ":::{sidebar} Earlier scikit-image versions\n",
    "{mod}`skimage.filters` is called {mod}`skimage.filter` in earlier\n",
    "versions of scikit-image\n",
    ":::"
   ]
  },
  {
   "cell_type": "code",
   "execution_count": null,
   "id": "10b36449",
   "metadata": {},
   "outputs": [],
   "source": [
    "camera = ski.data.camera()\n",
    "val = ski.filters.threshold_otsu(camera)\n",
    "mask = camera < val"
   ]
  },
  {
   "cell_type": "markdown",
   "id": "bc6eb82c",
   "metadata": {},
   "source": [
    "<!---\n",
    "![](auto_examples/images/sphx_glr_plot_threshold_001.png)\n",
    "# For parsing.\n",
    ":align: center\n",
    ":target: auto_examples/plot_threshold.html\n",
    ":width: 70%\n",
    "-->\n",
    "\n",
    "#### Labeling connected components of a discrete image\n",
    "\n",
    "**Start of note**\n",
    ":class: dropdown\n",
    "\n",
    "Once you have separated foreground objects, it is use to separate them\n",
    "from each other. For this, we can assign a different integer labels to\n",
    "each one.\n",
    "**End of note**\n",
    "\n",
    "Synthetic data:"
   ]
  },
  {
   "cell_type": "code",
   "execution_count": null,
   "id": "305b079f",
   "metadata": {},
   "outputs": [],
   "source": [
    "n = 20\n",
    "l = 256\n",
    "im = np.zeros((l, l))\n",
    "rng = np.random.default_rng()\n",
    "points = l * rng.random((2, n ** 2))\n",
    "im[(points[0]).astype(int), (points[1]).astype(int)] = 1\n",
    "im = ski.filters.gaussian(im, sigma=l / (4. * n))\n",
    "blobs = im > im.mean()"
   ]
  },
  {
   "cell_type": "markdown",
   "id": "b6a62aff",
   "metadata": {},
   "source": [
    "Label all connected components:"
   ]
  },
  {
   "cell_type": "code",
   "execution_count": null,
   "id": "f9889197",
   "metadata": {},
   "outputs": [],
   "source": [
    "all_labels = ski.measure.label(blobs)"
   ]
  },
  {
   "cell_type": "markdown",
   "id": "07561e9a",
   "metadata": {},
   "source": [
    "Label only foreground connected components:"
   ]
  },
  {
   "cell_type": "code",
   "execution_count": null,
   "id": "64d43205",
   "metadata": {},
   "outputs": [],
   "source": [
    "blobs_labels = ski.measure.label(blobs, background=0)"
   ]
  },
  {
   "cell_type": "markdown",
   "id": "7d72462e",
   "metadata": {},
   "source": [
    "<!---\n",
    "![](auto_examples/images/sphx_glr_plot_labels_001.png)\n",
    "# For parsing.\n",
    ":align: center\n",
    ":target: auto_examples/plot_labels.html\n",
    ":width: 90%\n",
    "-->\n",
    "\n",
    "**Start of admonition: See also**\n",
    "\n",
    "{func}`scipy.ndimage.find_objects` is useful to return slices on\n",
    "object in an image.\n",
    "**End of admonition**\n",
    "\n",
    "### Marker based methods\n",
    "\n",
    "If you have markers inside a set of regions, you can use these to segment\n",
    "the regions.\n",
    "\n",
    "#### *Watershed* segmentation\n",
    "\n",
    "The Watershed ({func}`skimage.segmentation.watershed`) is a region-growing\n",
    "approach that fills \"basins\" in the image"
   ]
  },
  {
   "cell_type": "code",
   "execution_count": null,
   "id": "f1ec2c17",
   "metadata": {},
   "outputs": [],
   "source": [
    "# Generate an initial image with two overlapping circles\n",
    "x, y = np.indices((80, 80))\n",
    "x1, y1, x2, y2 = 28, 28, 44, 52\n",
    "r1, r2 = 16, 20\n",
    "mask_circle1 = (x - x1) ** 2 + (y - y1) ** 2 < r1 ** 2\n",
    "mask_circle2 = (x - x2) ** 2 + (y - y2) ** 2 < r2 ** 2\n",
    "image = np.logical_or(mask_circle1, mask_circle2)\n",
    "# Now we want to separate the two objects in image\n",
    "# Generate the markers as local maxima of the distance\n",
    "# to the background\n",
    "import scipy as sp\n",
    "distance = sp.ndimage.distance_transform_edt(image)\n",
    "peak_idx = ski.feature.peak_local_max(\n",
    "    distance, footprint=np.ones((3, 3)), labels=image\n",
    ")\n",
    "peak_mask = np.zeros_like(distance, dtype=bool)\n",
    "peak_mask[tuple(peak_idx.T)] = True\n",
    "markers = ski.morphology.label(peak_mask)\n",
    "labels_ws = ski.segmentation.watershed(\n",
    "    -distance, markers, mask=image\n",
    ")"
   ]
  },
  {
   "cell_type": "markdown",
   "id": "f8fa01bb",
   "metadata": {},
   "source": [
    "#### *Random walker* segmentation\n",
    "\n",
    "The random walker algorithm ({func}`skimage.segmentation.random_walker`)\n",
    "is similar to the Watershed, but with a more \"probabilistic\" approach. It\n",
    "is based on the idea of the diffusion of labels in the image:"
   ]
  },
  {
   "cell_type": "code",
   "execution_count": null,
   "id": "e1cec5cb",
   "metadata": {},
   "outputs": [],
   "source": [
    "# Transform markers image so that 0-valued pixels are to\n",
    "# be labelled, and -1-valued pixels represent background\n",
    "markers[~image] = -1\n",
    "labels_rw = ski.segmentation.random_walker(image, markers)"
   ]
  },
  {
   "cell_type": "markdown",
   "id": "8960e2e2",
   "metadata": {},
   "source": [
    "<!---\n",
    "![](auto_examples/images/sphx_glr_plot_segmentations_001.png)\n",
    "# For parsing.\n",
    ":align: center\n",
    ":target: auto_examples/plot_segmentations.html\n",
    ":width: 90%\n",
    "-->\n",
    "\n",
    "**Start of admonition: Postprocessing label images**\n",
    "`skimage` provides several utility functions that can be used on\n",
    "label images (ie images where different discrete values identify\n",
    "different regions). Functions names are often self-explaining:\n",
    "{func}`skimage.segmentation.clear_border`,\n",
    "{func}`skimage.segmentation.relabel_from_one`,\n",
    "{func}`skimage.morphology.remove_small_objects`, etc.\n",
    "**End of admonition**\n",
    "\n",
    "**Start of admonition: Exercise**\n",
    ":class: green\n",
    "\n",
    "- Load the `coins` image from the `data` submodule.\n",
    "- Separate the coins from the background by testing several\n",
    "  segmentation methods: Otsu thresholding, adaptive thresholding, and\n",
    "  watershed or random walker segmentation.\n",
    "- If necessary, use a postprocessing function to improve the coins /\n",
    "  background segmentation.\n",
    "**End of admonition**\n",
    "\n",
    "## Measuring regions' properties\n",
    "\n",
    "Example: compute the size and perimeter of the two segmented regions:"
   ]
  },
  {
   "cell_type": "code",
   "execution_count": null,
   "id": "28d1acec",
   "metadata": {},
   "outputs": [],
   "source": [
    "properties = ski.measure.regionprops(labels_rw)\n",
    "[float(prop.area) for prop in properties]"
   ]
  },
  {
   "cell_type": "code",
   "execution_count": null,
   "id": "9efbc3ef",
   "metadata": {},
   "outputs": [],
   "source": [
    "[prop.perimeter for prop in properties]"
   ]
  },
  {
   "cell_type": "markdown",
   "id": "ff12b0f0",
   "metadata": {},
   "source": [
    "**Start of admonition: See also**\n",
    "\n",
    "for some properties, functions are available as well in\n",
    "{mod}`scipy.ndimage.measurements` with a different API (a list is\n",
    "returned).\n",
    "**End of admonition**\n",
    "\n",
    "**Start of exercise**\n",
    "\n",
    "- Use the binary image of the coins and background from the previous\n",
    "  exercise.\n",
    "- Compute an image of labels for the different coins.\n",
    "- Compute the size and eccentricity of all coins.\n",
    "\n",
    "**End of exercise**\n",
    "\n",
    "## Data visualization and interaction\n",
    "\n",
    "Meaningful visualizations are useful when testing a given processing\n",
    "pipeline.\n",
    "\n",
    "Some image processing operations:"
   ]
  },
  {
   "cell_type": "code",
   "execution_count": null,
   "id": "75d02160",
   "metadata": {},
   "outputs": [],
   "source": [
    "coins = ski.data.coins()\n",
    "mask = coins > ski.filters.threshold_otsu(coins)\n",
    "clean_border = ski.segmentation.clear_border(mask)"
   ]
  },
  {
   "cell_type": "markdown",
   "id": "9e74c1f2",
   "metadata": {},
   "source": [
    "Visualize binary result:"
   ]
  },
  {
   "cell_type": "code",
   "execution_count": null,
   "id": "81c0b745",
   "metadata": {},
   "outputs": [],
   "source": [
    "plt.figure()"
   ]
  },
  {
   "cell_type": "code",
   "execution_count": null,
   "id": "9e3f5b2c",
   "metadata": {},
   "outputs": [],
   "source": [
    "plt.imshow(clean_border, cmap='gray')"
   ]
  },
  {
   "cell_type": "markdown",
   "id": "3e17585f",
   "metadata": {},
   "source": [
    "Visualize contour"
   ]
  },
  {
   "cell_type": "code",
   "execution_count": null,
   "id": "5c678f7d",
   "metadata": {},
   "outputs": [],
   "source": [
    "plt.figure()"
   ]
  },
  {
   "cell_type": "code",
   "execution_count": null,
   "id": "ef202c41",
   "metadata": {},
   "outputs": [],
   "source": [
    "plt.imshow(coins, cmap='gray')"
   ]
  },
  {
   "cell_type": "code",
   "execution_count": null,
   "id": "9aecf68a",
   "metadata": {},
   "outputs": [],
   "source": [
    "plt.contour(clean_border, [0.5])"
   ]
  },
  {
   "cell_type": "markdown",
   "id": "19f36cf2",
   "metadata": {},
   "source": [
    "Use `skimage` dedicated utility function:"
   ]
  },
  {
   "cell_type": "code",
   "execution_count": null,
   "id": "4e59be5e",
   "metadata": {},
   "outputs": [],
   "source": [
    "coins_edges = ski.segmentation.mark_boundaries(\n",
    "    coins, clean_border.astype(int)\n",
    ")"
   ]
  },
  {
   "cell_type": "markdown",
   "id": "30c4257f",
   "metadata": {},
   "source": [
    "<!---\n",
    "![](auto_examples/images/sphx_glr_plot_boundaries_001.png)\n",
    "# For parsing.\n",
    ":align: center\n",
    ":target: auto_examples/plot_boundaries.html\n",
    ":width: 90%\n",
    "-->\n",
    "\n",
    "## Feature extraction for computer vision\n",
    "\n",
    "Geometric or textural descriptor can be extracted from images in order to\n",
    "\n",
    "- classify parts of the image (e.g. sky vs. buildings)\n",
    "- match parts of different images (e.g. for object detection)\n",
    "- and many other applications of\n",
    "  [Computer Vision](https://en.wikipedia.org/wiki/Computer_vision)\n",
    "\n",
    "Example: detecting corners using Harris detector"
   ]
  },
  {
   "cell_type": "code",
   "execution_count": null,
   "id": "dce5e492",
   "metadata": {},
   "outputs": [],
   "source": [
    "tform = ski.transform.AffineTransform(\n",
    "    scale=(1.3, 1.1), rotation=1, shear=0.7,\n",
    "    translation=(210, 50)\n",
    ")\n",
    "\n",
    "image = ski.transform.warp(\n",
    "    ski.data.checkerboard(), tform.inverse, output_shape=(350, 350)\n",
    ")\n",
    "\n",
    "coords = ski.feature.corner_peaks(\n",
    "    ski.feature.corner_harris(image), min_distance=5\n",
    ")\n",
    "coords_subpix = ski.feature.corner_subpix(\n",
    "    image, coords, window_size=13\n",
    ")"
   ]
  },
  {
   "cell_type": "markdown",
   "id": "4c2eb7e8",
   "metadata": {},
   "source": [
    "<!---\n",
    "![](auto_examples/images/sphx_glr_plot_features_001.png)\n",
    "# For parsing.\n",
    ":align: center\n",
    ":target: auto_examples/plot_features.html\n",
    ":width: 90%\n",
    "-->\n",
    "\n",
    "(this example is taken from the [plot_corner](https://scikit-image.org/docs/stable/auto_examples/features_detection/plot_corner.html)\n",
    "example in scikit-image)\n",
    "\n",
    "Points of interest such as corners can then be used to match objects in\n",
    "different images, as described in the [plot_matching](https://scikit-image.org/docs/stable/auto_examples/transform/plot_matching.html)\n",
    "example of scikit-image.\n",
    "\n",
    "## Full code examples\n",
    "\n",
    "<!---\n",
    "include the gallery. Skip the first line to avoid the \"orphan\"\n",
    "declaration\n",
    "-->\n",
    ".. include:: auto_examples/index.rst\n",
    "    :start-line: 1"
   ]
  }
 ],
 "metadata": {
  "jupytext": {
   "formats": "ipynb,Rmd"
  },
  "kernelspec": {
   "display_name": "Python (Pyodide)",
   "name": "python"
  }
 },
 "nbformat": 4,
 "nbformat_minor": 5
}
