{
 "cells": [
  {
   "cell_type": "markdown",
   "id": "713a5861",
   "metadata": {},
   "source": [
    "# License\n",
    "\n",
    "All code and material is licensed under a\n",
    "\n",
    "Creative Commons Attribution 4.0 International License (CC-by)\n",
    "\n",
    "<https://creativecommons.org/licenses/by/4.0/>\n",
    "\n",
    "See the [AUTHORS](AUTHORS.md) file for a list of contributors."
   ]
  }
 ],
 "metadata": {
  "kernelspec": {
   "display_name": "Python (Pyodide)",
   "name": "python"
  },
  "orphan": true
 },
 "nbformat": 4,
 "nbformat_minor": 5
}
