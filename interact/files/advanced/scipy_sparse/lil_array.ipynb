{
 "cells": [
  {
   "cell_type": "code",
   "execution_count": null,
   "id": "c3d0df03",
   "metadata": {
    "tags": [
     "hide-input"
    ]
   },
   "outputs": [],
   "source": [
    "import numpy as np\n",
    "import scipy as sp"
   ]
  },
  {
   "cell_type": "markdown",
   "id": "4bab32c0",
   "metadata": {},
   "source": [
    "# List of Lists Format (LIL)\n",
    "\n",
    "- row-based linked list\n",
    "  - each row is a Python list (sorted) of column indices of non-zero elements\n",
    "  - rows stored in a NumPy array (`dtype=np.object`)\n",
    "  - non-zero values data stored analogously\n",
    "- efficient for constructing sparse arrays incrementally\n",
    "- constructor accepts:\n",
    "  - dense array/matrix\n",
    "  - sparse array/matrix\n",
    "  - shape tuple (create empty array)\n",
    "- flexible slicing, changing sparsity structure is efficient\n",
    "- slow arithmetic, slow column slicing due to being row-based\n",
    "- use:\n",
    "  - when sparsity pattern is not known *apriori* or changes\n",
    "  - example: reading a sparse array from a text file\n",
    "\n",
    "## Examples\n",
    "\n",
    "### Create an empty LIL array:"
   ]
  },
  {
   "cell_type": "code",
   "execution_count": null,
   "id": "bea1e11e",
   "metadata": {},
   "outputs": [],
   "source": [
    "mtx = sp.sparse.lil_array((4, 5))"
   ]
  },
  {
   "cell_type": "markdown",
   "id": "51e0aee6",
   "metadata": {},
   "source": [
    "### Prepare random data"
   ]
  },
  {
   "cell_type": "code",
   "execution_count": null,
   "id": "74566297",
   "metadata": {},
   "outputs": [],
   "source": [
    "rng = np.random.default_rng(27446968)\n",
    "data = np.round(rng.random((2, 3)))\n",
    "data"
   ]
  },
  {
   "cell_type": "markdown",
   "id": "61dc05f7",
   "metadata": {},
   "source": [
    "### Assign the data using fancy indexing"
   ]
  },
  {
   "cell_type": "code",
   "execution_count": null,
   "id": "f076461c",
   "metadata": {},
   "outputs": [],
   "source": [
    "mtx[:2, [1, 2, 3]] = data\n",
    "mtx"
   ]
  },
  {
   "cell_type": "code",
   "execution_count": null,
   "id": "6c3b1579",
   "metadata": {},
   "outputs": [],
   "source": [
    "print(mtx)"
   ]
  },
  {
   "cell_type": "code",
   "execution_count": null,
   "id": "d675dadd",
   "metadata": {},
   "outputs": [],
   "source": [
    "mtx.toarray()"
   ]
  },
  {
   "cell_type": "code",
   "execution_count": null,
   "id": "ffd85574",
   "metadata": {},
   "outputs": [],
   "source": [
    "mtx.toarray()"
   ]
  },
  {
   "cell_type": "markdown",
   "id": "4885e3aa",
   "metadata": {},
   "source": [
    "### More slicing and indexing"
   ]
  },
  {
   "cell_type": "code",
   "execution_count": null,
   "id": "81a685a7",
   "metadata": {},
   "outputs": [],
   "source": [
    "mtx = sp.sparse.lil_array([[0, 1, 2, 0], [3, 0, 1, 0], [1, 0, 0, 1]])\n",
    "mtx.toarray()"
   ]
  },
  {
   "cell_type": "code",
   "execution_count": null,
   "id": "44b4ee28",
   "metadata": {},
   "outputs": [],
   "source": [
    "print(mtx)"
   ]
  },
  {
   "cell_type": "code",
   "execution_count": null,
   "id": "3c2b5e1d",
   "metadata": {},
   "outputs": [],
   "source": [
    "mtx[:2, :]"
   ]
  },
  {
   "cell_type": "code",
   "execution_count": null,
   "id": "4068595d",
   "metadata": {},
   "outputs": [],
   "source": [
    "mtx[:2, :].toarray()"
   ]
  },
  {
   "cell_type": "code",
   "execution_count": null,
   "id": "8aa62881",
   "metadata": {},
   "outputs": [],
   "source": [
    "mtx[1:2, [0,2]].toarray()"
   ]
  },
  {
   "cell_type": "code",
   "execution_count": null,
   "id": "e601ec28",
   "metadata": {},
   "outputs": [],
   "source": [
    "mtx.toarray()"
   ]
  }
 ],
 "metadata": {
  "jupytext": {
   "formats": "ipynb,Rmd"
  },
  "kernelspec": {
   "display_name": "Python (Pyodide)",
   "name": "python"
  },
  "orphan": true
 },
 "nbformat": 4,
 "nbformat_minor": 5
}
