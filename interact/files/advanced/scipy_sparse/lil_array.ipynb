{
 "cells": [
  {
   "cell_type": "code",
   "execution_count": null,
   "id": "285c31f1",
   "metadata": {
    "tags": [
     "hide-input"
    ]
   },
   "outputs": [],
   "source": [
    "import numpy as np\n",
    "import scipy as sp"
   ]
  },
  {
   "cell_type": "markdown",
   "id": "d66e7b91",
   "metadata": {},
   "source": [
    "# List of Lists Format (LIL)\n",
    "\n",
    "- row-based linked list\n",
    "  - each row is a Python list (sorted) of column indices of non-zero elements\n",
    "  - rows stored in a NumPy array (`dtype=np.object`)\n",
    "  - non-zero values data stored analogously\n",
    "- efficient for constructing sparse arrays incrementally\n",
    "- constructor accepts:\n",
    "  - dense array/matrix\n",
    "  - sparse array/matrix\n",
    "  - shape tuple (create empty array)\n",
    "- flexible slicing, changing sparsity structure is efficient\n",
    "- slow arithmetic, slow column slicing due to being row-based\n",
    "- use:\n",
    "  - when sparsity pattern is not known _apriori_ or changes\n",
    "  - example: reading a sparse array from a text file\n",
    "\n",
    "## Examples\n",
    "\n",
    "### Create an empty LIL array:"
   ]
  },
  {
   "cell_type": "code",
   "execution_count": null,
   "id": "2a2c0a1c",
   "metadata": {},
   "outputs": [],
   "source": [
    "mtx = sp.sparse.lil_array((4, 5))"
   ]
  },
  {
   "cell_type": "markdown",
   "id": "997b8585",
   "metadata": {},
   "source": [
    "### Prepare random data"
   ]
  },
  {
   "cell_type": "code",
   "execution_count": null,
   "id": "a85cf965",
   "metadata": {},
   "outputs": [],
   "source": [
    "rng = np.random.default_rng(27446968)\n",
    "data = np.round(rng.random((2, 3)))\n",
    "data"
   ]
  },
  {
   "cell_type": "markdown",
   "id": "feac60b7",
   "metadata": {},
   "source": [
    "### Assign the data using fancy indexing"
   ]
  },
  {
   "cell_type": "code",
   "execution_count": null,
   "id": "d6063a49",
   "metadata": {},
   "outputs": [],
   "source": [
    "mtx[:2, [1, 2, 3]] = data\n",
    "mtx"
   ]
  },
  {
   "cell_type": "code",
   "execution_count": null,
   "id": "aa8bd28b",
   "metadata": {},
   "outputs": [],
   "source": [
    "print(mtx)"
   ]
  },
  {
   "cell_type": "code",
   "execution_count": null,
   "id": "be790300",
   "metadata": {},
   "outputs": [],
   "source": [
    "mtx.toarray()"
   ]
  },
  {
   "cell_type": "code",
   "execution_count": null,
   "id": "deeeccfc",
   "metadata": {},
   "outputs": [],
   "source": [
    "mtx.toarray()"
   ]
  },
  {
   "cell_type": "markdown",
   "id": "eba92ed0",
   "metadata": {},
   "source": [
    "### More slicing and indexing"
   ]
  },
  {
   "cell_type": "code",
   "execution_count": null,
   "id": "fc054a33",
   "metadata": {},
   "outputs": [],
   "source": [
    "mtx = sp.sparse.lil_array([[0, 1, 2, 0], [3, 0, 1, 0], [1, 0, 0, 1]])\n",
    "mtx.toarray()"
   ]
  },
  {
   "cell_type": "code",
   "execution_count": null,
   "id": "95d9d35a",
   "metadata": {},
   "outputs": [],
   "source": [
    "print(mtx)"
   ]
  },
  {
   "cell_type": "code",
   "execution_count": null,
   "id": "5455c400",
   "metadata": {},
   "outputs": [],
   "source": [
    "mtx[:2, :]"
   ]
  },
  {
   "cell_type": "code",
   "execution_count": null,
   "id": "d04925a5",
   "metadata": {},
   "outputs": [],
   "source": [
    "mtx[:2, :].toarray()"
   ]
  },
  {
   "cell_type": "code",
   "execution_count": null,
   "id": "1d8591b4",
   "metadata": {},
   "outputs": [],
   "source": [
    "mtx[1:2, [0,2]].toarray()"
   ]
  },
  {
   "cell_type": "code",
   "execution_count": null,
   "id": "1267c89e",
   "metadata": {},
   "outputs": [],
   "source": [
    "mtx.toarray()"
   ]
  }
 ],
 "metadata": {
  "kernelspec": {
   "display_name": "Python (Pyodide)",
   "name": "python"
  },
  "orphan": true
 },
 "nbformat": 4,
 "nbformat_minor": 5
}
