{
 "cells": [
  {
   "cell_type": "code",
   "execution_count": null,
   "id": "fa6a2546",
   "metadata": {
    "tags": [
     "hide-input"
    ]
   },
   "outputs": [],
   "source": [
    "import numpy as np\n",
    "import scipy as sp"
   ]
  },
  {
   "cell_type": "markdown",
   "id": "132dd0cc",
   "metadata": {},
   "source": [
    "# List of Lists Format (LIL)\n",
    "\n",
    "- row-based linked list\n",
    "  - each row is a Python list (sorted) of column indices of non-zero elements\n",
    "  - rows stored in a NumPy array (`dtype=np.object`)\n",
    "  - non-zero values data stored analogously\n",
    "- efficient for constructing sparse arrays incrementally\n",
    "- constructor accepts:\n",
    "  - dense array/matrix\n",
    "  - sparse array/matrix\n",
    "  - shape tuple (create empty array)\n",
    "- flexible slicing, changing sparsity structure is efficient\n",
    "- slow arithmetic, slow column slicing due to being row-based\n",
    "- use:\n",
    "  - when sparsity pattern is not known *apriori* or changes\n",
    "  - example: reading a sparse array from a text file\n",
    "\n",
    "## Examples\n",
    "\n",
    "### Create an empty LIL array:"
   ]
  },
  {
   "cell_type": "code",
   "execution_count": null,
   "id": "337b3328",
   "metadata": {},
   "outputs": [],
   "source": [
    "mtx = sp.sparse.lil_array((4, 5))"
   ]
  },
  {
   "cell_type": "markdown",
   "id": "19003cd0",
   "metadata": {},
   "source": [
    "### Prepare random data"
   ]
  },
  {
   "cell_type": "code",
   "execution_count": null,
   "id": "8fe62256",
   "metadata": {},
   "outputs": [],
   "source": [
    "rng = np.random.default_rng(27446968)\n",
    "data = np.round(rng.random((2, 3)))\n",
    "data"
   ]
  },
  {
   "cell_type": "markdown",
   "id": "3fd1f0ee",
   "metadata": {},
   "source": [
    "### Assign the data using fancy indexing"
   ]
  },
  {
   "cell_type": "code",
   "execution_count": null,
   "id": "0bc7781a",
   "metadata": {},
   "outputs": [],
   "source": [
    "mtx[:2, [1, 2, 3]] = data\n",
    "mtx"
   ]
  },
  {
   "cell_type": "code",
   "execution_count": null,
   "id": "a215b000",
   "metadata": {},
   "outputs": [],
   "source": [
    "print(mtx)"
   ]
  },
  {
   "cell_type": "code",
   "execution_count": null,
   "id": "4c80c51d",
   "metadata": {},
   "outputs": [],
   "source": [
    "mtx.toarray()"
   ]
  },
  {
   "cell_type": "code",
   "execution_count": null,
   "id": "9452f955",
   "metadata": {},
   "outputs": [],
   "source": [
    "mtx.toarray()"
   ]
  },
  {
   "cell_type": "markdown",
   "id": "9bcace94",
   "metadata": {},
   "source": [
    "### More slicing and indexing"
   ]
  },
  {
   "cell_type": "code",
   "execution_count": null,
   "id": "6637c467",
   "metadata": {},
   "outputs": [],
   "source": [
    "mtx = sp.sparse.lil_array([[0, 1, 2, 0], [3, 0, 1, 0], [1, 0, 0, 1]])\n",
    "mtx.toarray()"
   ]
  },
  {
   "cell_type": "code",
   "execution_count": null,
   "id": "536377a5",
   "metadata": {},
   "outputs": [],
   "source": [
    "print(mtx)"
   ]
  },
  {
   "cell_type": "code",
   "execution_count": null,
   "id": "797fd6a3",
   "metadata": {},
   "outputs": [],
   "source": [
    "mtx[:2, :]"
   ]
  },
  {
   "cell_type": "code",
   "execution_count": null,
   "id": "5266a3e6",
   "metadata": {},
   "outputs": [],
   "source": [
    "mtx[:2, :].toarray()"
   ]
  },
  {
   "cell_type": "code",
   "execution_count": null,
   "id": "7152ebc9",
   "metadata": {},
   "outputs": [],
   "source": [
    "mtx[1:2, [0,2]].toarray()"
   ]
  },
  {
   "cell_type": "code",
   "execution_count": null,
   "id": "dee071a1",
   "metadata": {},
   "outputs": [],
   "source": [
    "mtx.toarray()"
   ]
  }
 ],
 "metadata": {
  "jupytext": {
   "formats": "ipynb,Rmd"
  },
  "kernelspec": {
   "display_name": "Python (Pyodide)",
   "name": "python"
  },
  "orphan": true
 },
 "nbformat": 4,
 "nbformat_minor": 5
}
