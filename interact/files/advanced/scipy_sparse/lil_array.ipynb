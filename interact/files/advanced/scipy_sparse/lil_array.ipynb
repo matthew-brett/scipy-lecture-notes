{
 "cells": [
  {
   "cell_type": "code",
   "execution_count": null,
   "id": "70a05371",
   "metadata": {
    "tags": [
     "hide-input"
    ]
   },
   "outputs": [],
   "source": [
    "import numpy as np\n",
    "import scipy as sp"
   ]
  },
  {
   "cell_type": "markdown",
   "id": "b271195f",
   "metadata": {},
   "source": [
    "# List of Lists Format (LIL)\n",
    "\n",
    "- row-based linked list\n",
    "  - each row is a Python list (sorted) of column indices of non-zero elements\n",
    "  - rows stored in a NumPy array (`dtype=np.object`)\n",
    "  - non-zero values data stored analogously\n",
    "- efficient for constructing sparse arrays incrementally\n",
    "- constructor accepts:\n",
    "  - dense array/matrix\n",
    "  - sparse array/matrix\n",
    "  - shape tuple (create empty array)\n",
    "- flexible slicing, changing sparsity structure is efficient\n",
    "- slow arithmetic, slow column slicing due to being row-based\n",
    "- use:\n",
    "  - when sparsity pattern is not known *apriori* or changes\n",
    "  - example: reading a sparse array from a text file\n",
    "\n",
    "## Examples\n",
    "\n",
    "### Create an empty LIL array:"
   ]
  },
  {
   "cell_type": "code",
   "execution_count": null,
   "id": "c164379d",
   "metadata": {},
   "outputs": [],
   "source": [
    "mtx = sp.sparse.lil_array((4, 5))"
   ]
  },
  {
   "cell_type": "markdown",
   "id": "7b700518",
   "metadata": {},
   "source": [
    "### Prepare random data"
   ]
  },
  {
   "cell_type": "code",
   "execution_count": null,
   "id": "6c5356f0",
   "metadata": {},
   "outputs": [],
   "source": [
    "rng = np.random.default_rng(27446968)\n",
    "data = np.round(rng.random((2, 3)))\n",
    "data"
   ]
  },
  {
   "cell_type": "markdown",
   "id": "7056e156",
   "metadata": {},
   "source": [
    "### Assign the data using fancy indexing"
   ]
  },
  {
   "cell_type": "code",
   "execution_count": null,
   "id": "546450ae",
   "metadata": {},
   "outputs": [],
   "source": [
    "mtx[:2, [1, 2, 3]] = data\n",
    "mtx"
   ]
  },
  {
   "cell_type": "code",
   "execution_count": null,
   "id": "dbbadb44",
   "metadata": {},
   "outputs": [],
   "source": [
    "print(mtx)"
   ]
  },
  {
   "cell_type": "code",
   "execution_count": null,
   "id": "e95cd505",
   "metadata": {},
   "outputs": [],
   "source": [
    "mtx.toarray()"
   ]
  },
  {
   "cell_type": "code",
   "execution_count": null,
   "id": "2fa83046",
   "metadata": {},
   "outputs": [],
   "source": [
    "mtx.toarray()"
   ]
  },
  {
   "cell_type": "markdown",
   "id": "7754a046",
   "metadata": {},
   "source": [
    "### More slicing and indexing"
   ]
  },
  {
   "cell_type": "code",
   "execution_count": null,
   "id": "cc9e3cfa",
   "metadata": {},
   "outputs": [],
   "source": [
    "mtx = sp.sparse.lil_array([[0, 1, 2, 0], [3, 0, 1, 0], [1, 0, 0, 1]])\n",
    "mtx.toarray()"
   ]
  },
  {
   "cell_type": "code",
   "execution_count": null,
   "id": "540a0720",
   "metadata": {},
   "outputs": [],
   "source": [
    "print(mtx)"
   ]
  },
  {
   "cell_type": "code",
   "execution_count": null,
   "id": "5eead1a3",
   "metadata": {},
   "outputs": [],
   "source": [
    "mtx[:2, :]"
   ]
  },
  {
   "cell_type": "code",
   "execution_count": null,
   "id": "66cf9d29",
   "metadata": {},
   "outputs": [],
   "source": [
    "mtx[:2, :].toarray()"
   ]
  },
  {
   "cell_type": "code",
   "execution_count": null,
   "id": "f2ac6175",
   "metadata": {},
   "outputs": [],
   "source": [
    "mtx[1:2, [0,2]].toarray()"
   ]
  },
  {
   "cell_type": "code",
   "execution_count": null,
   "id": "fbed7122",
   "metadata": {},
   "outputs": [],
   "source": [
    "mtx.toarray()"
   ]
  }
 ],
 "metadata": {
  "jupytext": {
   "formats": "ipynb,Rmd"
  },
  "kernelspec": {
   "display_name": "Python (Pyodide)",
   "name": "python"
  },
  "orphan": true
 },
 "nbformat": 4,
 "nbformat_minor": 5
}
