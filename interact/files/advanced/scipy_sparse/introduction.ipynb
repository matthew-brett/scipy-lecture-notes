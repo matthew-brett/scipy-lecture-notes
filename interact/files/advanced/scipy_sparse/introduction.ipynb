{
 "cells": [
  {
   "cell_type": "code",
   "execution_count": null,
   "id": "80e4717f",
   "metadata": {
    "tags": [
     "hide-input"
    ]
   },
   "outputs": [],
   "source": [
    "import numpy as np\n",
    "import matplotlib.pyplot as plt"
   ]
  },
  {
   "cell_type": "markdown",
   "id": "e4dfafa6",
   "metadata": {},
   "source": [
    "# Introduction\n",
    "\n",
    "**Section author**: *Robert Cimrman*\n",
    "\n",
    "(Dense) matrix is:\n",
    "\n",
    "- mathematical object\n",
    "- data structure for storing a 2D array of values\n",
    "\n",
    "Important features:\n",
    "\n",
    "- memory allocated once for all items\n",
    "  - usually a contiguous chunk, think NumPy ndarray\n",
    "- *fast* access to individual items (\\*)\n",
    "\n",
    "## Why Sparse Matrices?\n",
    "\n",
    "- the memory grows like `n**2` for dense matrix\n",
    "\n",
    "- small example (double precision matrix):"
   ]
  },
  {
   "cell_type": "code",
   "execution_count": null,
   "id": "16bcb797",
   "metadata": {},
   "outputs": [],
   "source": [
    "import numpy as np\n",
    "import matplotlib.pyplot as plt\n",
    "x = np.linspace(0, 1e6, 10)\n",
    "plt.plot(x, 8.0 * (x**2) / 1e6, lw=5)\n",
    "plt.xlabel('size n')\n",
    "plt.ylabel('memory [MB]')"
   ]
  },
  {
   "cell_type": "markdown",
   "id": "62dffcfa",
   "metadata": {},
   "source": [
    "## Sparse Matrices vs. Sparse Matrix Storage Schemes\n",
    "\n",
    "- sparse matrix is a matrix, which is *almost empty*\n",
    "- storing all the zeros is wasteful -> store only nonzero items\n",
    "- think **compression**\n",
    "- pros: huge memory savings\n",
    "- cons: slow access to individual items, but it depends on actual storage scheme.\n",
    "\n",
    "## Typical Applications\n",
    "\n",
    "- solution of partial differential equations (PDEs)\n",
    "  - the *finite element method*\n",
    "  - mechanical engineering, electrotechnics, physics, ...\n",
    "\n",
    "- graph theory\n",
    "  - nonzero at `(i, j)` means that node `i` is connected to node `j`\n",
    "\n",
    "- natural language processing\n",
    "  - nonzero at `(i, j)` means that the document `i` contains the word `j`\n",
    "\n",
    "- ...\n",
    "\n",
    "**Start of admonition: Prerequisites**\n",
    "* {ref}`numpy <numpy>`\n",
    "* {ref}`scipy <scipy>`\n",
    "* {ref}`matplotlib (optional) <matplotlib>`\n",
    "* {ref}`ipython (the enhancements come handy) <interactive-work>`\n",
    "**End of admonition**\n",
    "\n",
    "## Sparsity Structure Visualization\n",
    "\n",
    "- {func}`spy` from `matplotlib`\n",
    "- example plots:\n",
    "\n",
    "![](figures/graph.png)\n",
    "\n",
    "![](figures/graph_g.png)\n",
    "\n",
    "![](figures/graph_rcm.png)"
   ]
  }
 ],
 "metadata": {
  "jupytext": {
   "formats": "ipynb,Rmd"
  },
  "kernelspec": {
   "display_name": "Python (Pyodide)",
   "name": "python"
  }
 },
 "nbformat": 4,
 "nbformat_minor": 5
}
