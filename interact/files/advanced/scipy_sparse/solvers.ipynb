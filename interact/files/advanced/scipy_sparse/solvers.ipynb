{
 "cells": [
  {
   "cell_type": "markdown",
   "id": "256f40f7",
   "metadata": {},
   "source": [
    "# Linear System Solvers\n",
    "\n",
    "- sparse matrix/eigenvalue problem solvers live in {mod}`scipy.sparse.linalg`\n",
    "\n",
    "- the submodules:\n",
    "  - {mod}`dsolve`: direct factorization methods for solving linear systems\n",
    "  - {mod}`isolve`: iterative methods for solving linear systems\n",
    "  - {mod}`eigen`: sparse eigenvalue problem solvers\n",
    "\n",
    "All solvers are accessible from:"
   ]
  },
  {
   "cell_type": "code",
   "execution_count": null,
   "id": "149d9495",
   "metadata": {},
   "outputs": [],
   "source": [
    "import scipy as sp\n",
    "sp.sparse.linalg.__all__"
   ]
  },
  {
   "cell_type": "markdown",
   "id": "c4b75d96",
   "metadata": {},
   "source": [
    "## Sparse Direct Solvers\n",
    "\n",
    "- default solver: SuperLU\n",
    "  - included in SciPy\n",
    "  - real and complex systems\n",
    "  - both single and double precision\n",
    "- optional: umfpack\n",
    "  - real and complex systems\n",
    "  - double precision only\n",
    "  - recommended for performance\n",
    "  - wrappers now live in {mod}`scikits.umfpack`\n",
    "  - check-out the new {mod}`scikits.suitesparse` by Nathaniel Smith\n",
    "\n",
    "### Examples\n",
    "\n",
    "Import the whole module, and see its docstring:"
   ]
  },
  {
   "cell_type": "code",
   "execution_count": null,
   "id": "db3e5153",
   "metadata": {},
   "outputs": [],
   "source": [
    "help(sp.sparse.linalg.spsolve)"
   ]
  },
  {
   "cell_type": "markdown",
   "id": "7bbc5b30",
   "metadata": {},
   "source": [
    "Both superlu and umfpack can be used (if the latter is installed) as follows.\n",
    "\n",
    "Prepare a linear system:"
   ]
  },
  {
   "cell_type": "code",
   "execution_count": null,
   "id": "64e21cf4",
   "metadata": {},
   "outputs": [],
   "source": [
    "import numpy as np\n",
    "mtx = sp.sparse.spdiags([[1, 2, 3, 4, 5], [6, 5, 8, 9, 10]], [0, 1], 5, 5, \"csc\")\n",
    "mtx.toarray()"
   ]
  },
  {
   "cell_type": "code",
   "execution_count": null,
   "id": "65324c2a",
   "metadata": {},
   "outputs": [],
   "source": [
    "rhs = np.array([1, 2, 3, 4, 5], dtype=np.float32)"
   ]
  },
  {
   "cell_type": "markdown",
   "id": "5d534d39",
   "metadata": {},
   "source": [
    "Solve as single precision real:"
   ]
  },
  {
   "cell_type": "code",
   "execution_count": null,
   "id": "d0a5579c",
   "metadata": {},
   "outputs": [],
   "source": [
    "mtx1 = mtx.astype(np.float32)\n",
    "x = sp.sparse.linalg.spsolve(mtx1, rhs, use_umfpack=False)\n",
    "print(x)"
   ]
  },
  {
   "cell_type": "code",
   "execution_count": null,
   "id": "6a2509db",
   "metadata": {},
   "outputs": [],
   "source": [
    "print(\"Error: %s\" % (mtx1 * x - rhs))"
   ]
  },
  {
   "cell_type": "markdown",
   "id": "4f9dd28d",
   "metadata": {},
   "source": [
    "Solve as double precision real:"
   ]
  },
  {
   "cell_type": "code",
   "execution_count": null,
   "id": "7be5052f",
   "metadata": {},
   "outputs": [],
   "source": [
    "mtx2 = mtx.astype(np.float64)\n",
    "x = sp.sparse.linalg.spsolve(mtx2, rhs, use_umfpack=True)\n",
    "print(x)"
   ]
  },
  {
   "cell_type": "code",
   "execution_count": null,
   "id": "6b6651a7",
   "metadata": {},
   "outputs": [],
   "source": [
    "print(\"Error: %s\" % (mtx2 * x - rhs))"
   ]
  },
  {
   "cell_type": "markdown",
   "id": "79846f07",
   "metadata": {},
   "source": [
    "Solve as single precision complex:"
   ]
  },
  {
   "cell_type": "code",
   "execution_count": null,
   "id": "5577dc3e",
   "metadata": {},
   "outputs": [],
   "source": [
    "mtx1 = mtx.astype(np.complex64)\n",
    "x = sp.sparse.linalg.spsolve(mtx1, rhs, use_umfpack=False)\n",
    "print(x)"
   ]
  },
  {
   "cell_type": "code",
   "execution_count": null,
   "id": "68b0e748",
   "metadata": {},
   "outputs": [],
   "source": [
    "print(\"Error: %s\" % (mtx1 * x - rhs))"
   ]
  },
  {
   "cell_type": "markdown",
   "id": "b3994733",
   "metadata": {},
   "source": [
    "Solve as double precision complex:"
   ]
  },
  {
   "cell_type": "code",
   "execution_count": null,
   "id": "272b2fa8",
   "metadata": {},
   "outputs": [],
   "source": [
    "mtx2 = mtx.astype(np.complex128)\n",
    "x = sp.sparse.linalg.spsolve(mtx2, rhs, use_umfpack=True)\n",
    "print(x)"
   ]
  },
  {
   "cell_type": "code",
   "execution_count": null,
   "id": "c4edfc23",
   "metadata": {},
   "outputs": [],
   "source": [
    "print(\"Error: %s\" % (mtx2 * x - rhs))"
   ]
  },
  {
   "cell_type": "markdown",
   "id": "2efda2bf",
   "metadata": {},
   "source": [
    "{download}`examples/direct_solve.py`"
   ]
  },
  {
   "cell_type": "markdown",
   "id": "bc93b3c7",
   "metadata": {},
   "source": [
    "## Iterative Solvers\n",
    "\n",
    "- the {mod}`isolve` module contains the following solvers:\n",
    "  - `bicg` (BIConjugate Gradient)\n",
    "  - `bicgstab` (BIConjugate Gradient STABilized)\n",
    "  - `cg` (Conjugate Gradient) - symmetric positive definite matrices\n",
    "    only\n",
    "  - `cgs` (Conjugate Gradient Squared)\n",
    "  - `gmres` (Generalized Minimal RESidual)\n",
    "  - `minres` (MINimum RESidual)\n",
    "  - `qmr` (Quasi-Minimal Residual)"
   ]
  },
  {
   "cell_type": "markdown",
   "id": "829d29e7",
   "metadata": {},
   "source": [
    "### Common Parameters\n",
    "\n",
    "- mandatory:\n",
    "\n",
    "  - `A` : The N-by-N matrix of the linear system.\n",
    "  - `b`: Right hand side of the linear system. Has shape (N,) or (N,1).\n",
    "\n",
    "- optional:\n",
    "\n",
    "  - `x0`: Starting guess for the solution.\n",
    "  - `tol` : Relative tolerance to achieve before terminating.\n",
    "  - `maxiter` : Maximum number of iterations. Iteration will stop after maxiter\n",
    "    steps even if the specified tolerance has not been achieved.\n",
    "  - `M` : Preconditioner for A. The preconditioner should approximate the\n",
    "    inverse of A. Effective preconditioning dramatically improves the\n",
    "    rate of convergence, which implies that fewer iterations are needed\n",
    "    to reach a given error tolerance.\n",
    "  - `callback` : User-supplied function to call after each iteration. It is\n",
    "    called as `callback(xk)`, where `xk` is the current solution vector."
   ]
  },
  {
   "cell_type": "markdown",
   "id": "57c5420e",
   "metadata": {},
   "source": [
    "### LinearOperator Class\n",
    "\n",
    "- common interface for performing matrix vector products\n",
    "- useful abstraction that enables using dense and sparse matrices within\n",
    "  the solvers, as well as _matrix-free_ solutions\n",
    "- has `shape` and `matvec()` (+ some optional parameters)\n",
    "\n",
    "Here is an example:"
   ]
  },
  {
   "cell_type": "code",
   "execution_count": null,
   "id": "9460b060",
   "metadata": {},
   "outputs": [],
   "source": [
    "import numpy as np\n",
    "import scipy as sp\n",
    "\n",
    "def mv(v):\n",
    "    return np.array([2 * v[0], 3 * v[1]])"
   ]
  },
  {
   "cell_type": "code",
   "execution_count": null,
   "id": "1df0f12d",
   "metadata": {},
   "outputs": [],
   "source": [
    "A = sp.sparse.linalg.LinearOperator((2, 2), matvec=mv)\n",
    "A"
   ]
  },
  {
   "cell_type": "code",
   "execution_count": null,
   "id": "d2ccdbd9",
   "metadata": {},
   "outputs": [],
   "source": [
    "A.matvec(np.ones(2))"
   ]
  },
  {
   "cell_type": "code",
   "execution_count": null,
   "id": "2dbe1020",
   "metadata": {},
   "outputs": [],
   "source": [
    "A * np.ones(2)"
   ]
  },
  {
   "cell_type": "markdown",
   "id": "089aec25",
   "metadata": {},
   "source": [
    "### A Few Notes on Preconditioning\n",
    "\n",
    "- problem specific\n",
    "- often hard to develop\n",
    "- if not sure, try ILU\n",
    "  - available in {mod}`scipy.sparse.linalg` as {func}`spilu()`\n",
    "\n",
    "## Eigenvalue Problem Solvers\n",
    "\n",
    "### The {mod}`eigen` module\n",
    "\n",
    "- `arpack`: a collection of Fortran77 subroutines designed to solve large scale eigenvalue problems\n",
    "- `lobpcg`: (Locally Optimal Block Preconditioned Conjugate\n",
    "  Gradient Method); \\* works very well in combination with\n",
    "  [PyAMG](https://github.com/pyamg/pyamg)\n",
    "\n",
    "  - example by Nathan Bell:\n",
    "\n",
    "    {download}`examples/pyamg_with_lobpcg.py`\n",
    "\n",
    "Another example by Nils Wagner:\n",
    "\n",
    "{download}`examples/lobpcg_sakurai.py`\n",
    "\n",
    "Output:\n",
    "\n",
    "```bash\n",
    "$ python examples/lobpcg_sakurai.py\n",
    "Results by LOBPCG for n=2500\n",
    "\n",
    "[ 0.06250083  0.06250028  0.06250007]\n",
    "\n",
    "Exact eigenvalues\n",
    "\n",
    "[ 0.06250005  0.0625002   0.06250044]\n",
    "\n",
    "Elapsed time 7.01\n",
    "```\n",
    "\n",
    "![](figures/lobpcg_eigenvalues.png)"
   ]
  }
 ],
 "metadata": {
  "kernelspec": {
   "display_name": "Python (Pyodide)",
   "name": "python"
  }
 },
 "nbformat": 4,
 "nbformat_minor": 5
}
