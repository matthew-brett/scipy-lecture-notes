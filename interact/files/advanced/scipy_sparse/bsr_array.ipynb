{
 "cells": [
  {
   "cell_type": "code",
   "execution_count": null,
   "id": "3947af53",
   "metadata": {
    "tags": [
     "hide-input"
    ]
   },
   "outputs": [],
   "source": [
    "import numpy as np\n",
    "import scipy as sp"
   ]
  },
  {
   "cell_type": "markdown",
   "id": "2c6c1fbc",
   "metadata": {},
   "source": [
    "# Block Compressed Row Format (BSR)\n",
    "\n",
    "- basically a CSR with dense sub-matrices of fixed shape instead of scalar\n",
    "  items\n",
    "\n",
    "  - block size `(R, C)` must evenly divide the shape of the matrix `(M, N)`\n",
    "  - three NumPy arrays: `indices`, `indptr`, `data`\n",
    "\n",
    "    - `indices` is array of column indices for each block\n",
    "\n",
    "    - `data` is array of corresponding nonzero values of shape `(nnz, R, C)`\n",
    "\n",
    "    - ...\n",
    "\n",
    "  - subclass of {class}`_cs_matrix` (common CSR/CSC functionality)\n",
    "    - subclass of {class}`_data_matrix` (sparse matrix classes with\n",
    "      `.data` attribute)\n",
    "\n",
    "- fast matrix vector products and other arithmetic (sparsetools)\n",
    "- constructor accepts:\n",
    "  - dense array/matrix\n",
    "  - sparse array/matrix\n",
    "  - shape tuple (create empty array)\n",
    "  - `(data, coords)` tuple\n",
    "  - `(data, indices, indptr)` tuple\n",
    "- many arithmetic operations considerably more efficient than CSR for\n",
    "  sparse matrices with dense sub-matrices\n",
    "- use:\n",
    "  - like CSR\n",
    "  - vector-valued finite element discretizations\n",
    "\n",
    "## Examples\n",
    "\n",
    "### Create empty BSR array with (1, 1) block size (like CSR...):"
   ]
  },
  {
   "cell_type": "code",
   "execution_count": null,
   "id": "d7b767cb",
   "metadata": {},
   "outputs": [],
   "source": [
    "mtx = sp.sparse.bsr_array((3, 4), dtype=np.int8)\n",
    "mtx"
   ]
  },
  {
   "cell_type": "code",
   "execution_count": null,
   "id": "f9c5d40d",
   "metadata": {},
   "outputs": [],
   "source": [
    "mtx.toarray()"
   ]
  },
  {
   "cell_type": "markdown",
   "id": "30280d71",
   "metadata": {},
   "source": [
    "### Create empty BSR array with (3, 2) block size:"
   ]
  },
  {
   "cell_type": "code",
   "execution_count": null,
   "id": "30336d2a",
   "metadata": {},
   "outputs": [],
   "source": [
    "mtx = sp.sparse.bsr_array((3, 4), blocksize=(3, 2), dtype=np.int8)\n",
    "mtx"
   ]
  },
  {
   "cell_type": "code",
   "execution_count": null,
   "id": "a392a912",
   "metadata": {},
   "outputs": [],
   "source": [
    "mtx.toarray()"
   ]
  },
  {
   "cell_type": "markdown",
   "id": "f082e2ad",
   "metadata": {},
   "source": [
    "<!---\n",
    "# What does this refer to?\n",
    "\n",
    "- a bug?\n",
    "\n",
    "-->\n",
    "\n",
    "### Create using `(data, coords)` tuple with (1, 1) block size (like CSR...):"
   ]
  },
  {
   "cell_type": "code",
   "execution_count": null,
   "id": "206649c4",
   "metadata": {},
   "outputs": [],
   "source": [
    "row = np.array([0, 0, 1, 2, 2, 2])\n",
    "col = np.array([0, 2, 2, 0, 1, 2])\n",
    "data = np.array([1, 2, 3, 4, 5, 6])\n",
    "mtx = sp.sparse.bsr_array((data, (row, col)), shape=(3, 3))\n",
    "mtx"
   ]
  },
  {
   "cell_type": "code",
   "execution_count": null,
   "id": "dc179efa",
   "metadata": {},
   "outputs": [],
   "source": [
    "mtx.toarray()"
   ]
  },
  {
   "cell_type": "code",
   "execution_count": null,
   "id": "ad342bfa",
   "metadata": {},
   "outputs": [],
   "source": [
    "mtx.data"
   ]
  },
  {
   "cell_type": "code",
   "execution_count": null,
   "id": "1b7f92de",
   "metadata": {},
   "outputs": [],
   "source": [
    "mtx.indices"
   ]
  },
  {
   "cell_type": "code",
   "execution_count": null,
   "id": "bac49c4d",
   "metadata": {},
   "outputs": [],
   "source": [
    "mtx.indptr"
   ]
  },
  {
   "cell_type": "markdown",
   "id": "23923fdc",
   "metadata": {},
   "source": [
    "### Create using `(data, indices, indptr)` tuple with (2, 2) block size:"
   ]
  },
  {
   "cell_type": "code",
   "execution_count": null,
   "id": "f6e38441",
   "metadata": {},
   "outputs": [],
   "source": [
    "indptr = np.array([0, 2, 3, 6])\n",
    "indices = np.array([0, 2, 2, 0, 1, 2])\n",
    "data = np.array([1, 2, 3, 4, 5, 6]).repeat(4).reshape(6, 2, 2)\n",
    "mtx = sp.sparse.bsr_array((data, indices, indptr), shape=(6, 6))\n",
    "mtx.toarray()"
   ]
  },
  {
   "cell_type": "code",
   "execution_count": null,
   "id": "712ffc6f",
   "metadata": {},
   "outputs": [],
   "source": [
    "data"
   ]
  }
 ],
 "metadata": {
  "kernelspec": {
   "display_name": "Python (Pyodide)",
   "name": "python"
  },
  "orphan": true
 },
 "nbformat": 4,
 "nbformat_minor": 5
}
