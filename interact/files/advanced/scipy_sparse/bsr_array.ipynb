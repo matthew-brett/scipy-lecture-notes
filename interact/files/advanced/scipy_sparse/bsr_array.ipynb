{
 "cells": [
  {
   "cell_type": "code",
   "execution_count": null,
   "id": "ca2b4326",
   "metadata": {
    "tags": [
     "hide-input"
    ]
   },
   "outputs": [],
   "source": [
    "import numpy as np\n",
    "import scipy as sp"
   ]
  },
  {
   "cell_type": "markdown",
   "id": "37106a09",
   "metadata": {},
   "source": [
    "# Block Compressed Row Format (BSR)\n",
    "\n",
    "- basically a CSR with dense sub-matrices of fixed shape instead of scalar\n",
    "  items\n",
    "\n",
    "  - block size `(R, C)` must evenly divide the shape of the matrix `(M, N)`\n",
    "  - three NumPy arrays: `indices`, `indptr`, `data`\n",
    "\n",
    "    - `indices` is array of column indices for each block\n",
    "\n",
    "    - `data` is array of corresponding nonzero values of shape `(nnz, R, C)`\n",
    "\n",
    "    - ...\n",
    "\n",
    "  - subclass of {class}`_cs_matrix` (common CSR/CSC functionality)\n",
    "    - subclass of {class}`_data_matrix` (sparse matrix classes with\n",
    "      `.data` attribute)\n",
    "\n",
    "- fast matrix vector products and other arithmetic (sparsetools)\n",
    "- constructor accepts:\n",
    "  - dense array/matrix\n",
    "  - sparse array/matrix\n",
    "  - shape tuple (create empty array)\n",
    "  - `(data, coords)` tuple\n",
    "  - `(data, indices, indptr)` tuple\n",
    "- many arithmetic operations considerably more efficient than CSR for\n",
    "  sparse matrices with dense sub-matrices\n",
    "- use:\n",
    "  - like CSR\n",
    "  - vector-valued finite element discretizations\n",
    "\n",
    "## Examples\n",
    "\n",
    "### Create empty BSR array with (1, 1) block size (like CSR...):"
   ]
  },
  {
   "cell_type": "code",
   "execution_count": null,
   "id": "a6f4ec3a",
   "metadata": {},
   "outputs": [],
   "source": [
    "mtx = sp.sparse.bsr_array((3, 4), dtype=np.int8)\n",
    "mtx"
   ]
  },
  {
   "cell_type": "code",
   "execution_count": null,
   "id": "159783d0",
   "metadata": {},
   "outputs": [],
   "source": [
    "mtx.toarray()"
   ]
  },
  {
   "cell_type": "markdown",
   "id": "57dfd565",
   "metadata": {},
   "source": [
    "### Create empty BSR array with (3, 2) block size:"
   ]
  },
  {
   "cell_type": "code",
   "execution_count": null,
   "id": "4b9cd3d5",
   "metadata": {},
   "outputs": [],
   "source": [
    "mtx = sp.sparse.bsr_array((3, 4), blocksize=(3, 2), dtype=np.int8)\n",
    "mtx"
   ]
  },
  {
   "cell_type": "code",
   "execution_count": null,
   "id": "0bc401a8",
   "metadata": {},
   "outputs": [],
   "source": [
    "mtx.toarray()"
   ]
  },
  {
   "cell_type": "markdown",
   "id": "46757208",
   "metadata": {},
   "source": [
    "<!---\n",
    "# What does this refer to?\n",
    "\n",
    "- a bug?\n",
    "\n",
    "-->\n",
    "\n",
    "### Create using `(data, coords)` tuple with (1, 1) block size (like CSR...):"
   ]
  },
  {
   "cell_type": "code",
   "execution_count": null,
   "id": "cb546f9c",
   "metadata": {},
   "outputs": [],
   "source": [
    "row = np.array([0, 0, 1, 2, 2, 2])\n",
    "col = np.array([0, 2, 2, 0, 1, 2])\n",
    "data = np.array([1, 2, 3, 4, 5, 6])\n",
    "mtx = sp.sparse.bsr_array((data, (row, col)), shape=(3, 3))\n",
    "mtx"
   ]
  },
  {
   "cell_type": "code",
   "execution_count": null,
   "id": "50203f21",
   "metadata": {},
   "outputs": [],
   "source": [
    "mtx.toarray()"
   ]
  },
  {
   "cell_type": "code",
   "execution_count": null,
   "id": "bde637cd",
   "metadata": {},
   "outputs": [],
   "source": [
    "mtx.data"
   ]
  },
  {
   "cell_type": "code",
   "execution_count": null,
   "id": "3b19f4d0",
   "metadata": {},
   "outputs": [],
   "source": [
    "mtx.indices"
   ]
  },
  {
   "cell_type": "code",
   "execution_count": null,
   "id": "b6217ce0",
   "metadata": {},
   "outputs": [],
   "source": [
    "mtx.indptr"
   ]
  },
  {
   "cell_type": "markdown",
   "id": "3f32d561",
   "metadata": {},
   "source": [
    "### Create using `(data, indices, indptr)` tuple with (2, 2) block size:"
   ]
  },
  {
   "cell_type": "code",
   "execution_count": null,
   "id": "b191674b",
   "metadata": {},
   "outputs": [],
   "source": [
    "indptr = np.array([0, 2, 3, 6])\n",
    "indices = np.array([0, 2, 2, 0, 1, 2])\n",
    "data = np.array([1, 2, 3, 4, 5, 6]).repeat(4).reshape(6, 2, 2)\n",
    "mtx = sp.sparse.bsr_array((data, indices, indptr), shape=(6, 6))\n",
    "mtx.toarray()"
   ]
  },
  {
   "cell_type": "code",
   "execution_count": null,
   "id": "ab388612",
   "metadata": {},
   "outputs": [],
   "source": [
    "data"
   ]
  }
 ],
 "metadata": {
  "kernelspec": {
   "display_name": "Python (Pyodide)",
   "name": "python"
  },
  "orphan": true
 },
 "nbformat": 4,
 "nbformat_minor": 5
}
