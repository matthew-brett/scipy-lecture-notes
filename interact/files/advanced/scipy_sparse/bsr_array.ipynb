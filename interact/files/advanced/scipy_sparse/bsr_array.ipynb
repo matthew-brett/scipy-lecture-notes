{
 "cells": [
  {
   "cell_type": "code",
   "execution_count": null,
   "id": "bcfabb58",
   "metadata": {
    "lines_to_next_cell": 0,
    "tags": [
     "hide-input"
    ]
   },
   "outputs": [],
   "source": [
    "import numpy as np\n",
    "import scipy as sp"
   ]
  },
  {
   "cell_type": "markdown",
   "id": "c9f3b8f4",
   "metadata": {},
   "source": [
    "# Block Compressed Row Format (BSR)\n",
    "\n",
    "- basically a CSR with dense sub-matrices of fixed shape instead of scalar\n",
    "  items\n",
    "  - block size `(R, C)` must evenly divide the shape of the matrix `(M, N)`\n",
    "  - three NumPy arrays: `indices`, `indptr`, `data`\n",
    "    - `indices` is array of column indices for each block\n",
    "\n",
    "    - `data` is array of corresponding nonzero values of shape `(nnz, R, C)`\n",
    "\n",
    "    - ...\n",
    "  - subclass of {class}`_cs_matrix` (common CSR/CSC functionality)\n",
    "    - subclass of {class}`_data_matrix` (sparse matrix classes with\n",
    "      `.data` attribute)\n",
    "- fast matrix vector products and other arithmetic (sparsetools)\n",
    "- constructor accepts:\n",
    "  - dense array/matrix\n",
    "  - sparse array/matrix\n",
    "  - shape tuple (create empty array)\n",
    "  - `(data, coords)` tuple\n",
    "  - `(data, indices, indptr)` tuple\n",
    "- many arithmetic operations considerably more efficient than CSR for\n",
    "  sparse matrices with dense sub-matrices\n",
    "- use:\n",
    "  - like CSR\n",
    "  - vector-valued finite element discretizations\n",
    "\n",
    "## Examples\n",
    "\n",
    "### Create empty BSR array with (1, 1) block size (like CSR...):"
   ]
  },
  {
   "cell_type": "code",
   "execution_count": null,
   "id": "c02a23d0",
   "metadata": {},
   "outputs": [],
   "source": [
    "mtx = sp.sparse.bsr_array((3, 4), dtype=np.int8)\n",
    "mtx"
   ]
  },
  {
   "cell_type": "code",
   "execution_count": null,
   "id": "53974891",
   "metadata": {},
   "outputs": [],
   "source": [
    "mtx.toarray()"
   ]
  },
  {
   "cell_type": "markdown",
   "id": "53d06556",
   "metadata": {},
   "source": [
    "### Create empty BSR array with (3, 2) block size:"
   ]
  },
  {
   "cell_type": "code",
   "execution_count": null,
   "id": "5ce31731",
   "metadata": {},
   "outputs": [],
   "source": [
    "mtx = sp.sparse.bsr_array((3, 4), blocksize=(3, 2), dtype=np.int8)\n",
    "mtx"
   ]
  },
  {
   "cell_type": "code",
   "execution_count": null,
   "id": "2bf8642b",
   "metadata": {},
   "outputs": [],
   "source": [
    "mtx.toarray()"
   ]
  },
  {
   "cell_type": "markdown",
   "id": "09e7047f",
   "metadata": {},
   "source": [
    "<!---\n",
    "# What does this refer to?\n",
    "\n",
    "- a bug?\n",
    "\n",
    "-->\n",
    "\n",
    "### Create using `(data, coords)` tuple with (1, 1) block size (like CSR...):"
   ]
  },
  {
   "cell_type": "code",
   "execution_count": null,
   "id": "439debc7",
   "metadata": {},
   "outputs": [],
   "source": [
    "row = np.array([0, 0, 1, 2, 2, 2])\n",
    "col = np.array([0, 2, 2, 0, 1, 2])\n",
    "data = np.array([1, 2, 3, 4, 5, 6])\n",
    "mtx = sp.sparse.bsr_array((data, (row, col)), shape=(3, 3))\n",
    "mtx"
   ]
  },
  {
   "cell_type": "code",
   "execution_count": null,
   "id": "2db497d7",
   "metadata": {},
   "outputs": [],
   "source": [
    "mtx.toarray()"
   ]
  },
  {
   "cell_type": "code",
   "execution_count": null,
   "id": "108f5fa9",
   "metadata": {},
   "outputs": [],
   "source": [
    "mtx.data"
   ]
  },
  {
   "cell_type": "code",
   "execution_count": null,
   "id": "b0bb42c7",
   "metadata": {},
   "outputs": [],
   "source": [
    "mtx.indices"
   ]
  },
  {
   "cell_type": "code",
   "execution_count": null,
   "id": "50f22c25",
   "metadata": {},
   "outputs": [],
   "source": [
    "mtx.indptr"
   ]
  },
  {
   "cell_type": "markdown",
   "id": "b510b714",
   "metadata": {},
   "source": [
    "### Create using `(data, indices, indptr)` tuple with (2, 2) block size:"
   ]
  },
  {
   "cell_type": "code",
   "execution_count": null,
   "id": "d0e7695b",
   "metadata": {},
   "outputs": [],
   "source": [
    "indptr = np.array([0, 2, 3, 6])\n",
    "indices = np.array([0, 2, 2, 0, 1, 2])\n",
    "data = np.array([1, 2, 3, 4, 5, 6]).repeat(4).reshape(6, 2, 2)\n",
    "mtx = sp.sparse.bsr_array((data, indices, indptr), shape=(6, 6))\n",
    "mtx.toarray()"
   ]
  },
  {
   "cell_type": "code",
   "execution_count": null,
   "id": "c842ea42",
   "metadata": {},
   "outputs": [],
   "source": [
    "data"
   ]
  }
 ],
 "metadata": {
  "jupytext": {
   "formats": "ipynb,Rmd"
  },
  "kernelspec": {
   "display_name": "Python (Pyodide)",
   "name": "python"
  },
  "orphan": true
 },
 "nbformat": 4,
 "nbformat_minor": 5
}
