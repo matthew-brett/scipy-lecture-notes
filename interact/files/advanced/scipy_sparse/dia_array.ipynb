{
 "cells": [
  {
   "cell_type": "code",
   "execution_count": null,
   "id": "b8fec1a2",
   "metadata": {
    "tags": [
     "hide-input"
    ]
   },
   "outputs": [],
   "source": [
    "import numpy as np\n",
    "import scipy as sp"
   ]
  },
  {
   "cell_type": "markdown",
   "id": "95912afe",
   "metadata": {},
   "source": [
    "# Diagonal Format (DIA)\n",
    "\n",
    "- very simple scheme\n",
    "- diagonals in dense NumPy array of shape `(n_diag, length)`\n",
    "  - fixed length -> waste space a bit when far from main diagonal\n",
    "  - subclass of {class}`_data_matrix` (sparse array classes with\n",
    "    `.data` attribute)\n",
    "- offset for each diagonal\n",
    "  - 0 is the main diagonal\n",
    "  - negative offset = below\n",
    "  - positive offset = above\n",
    "- fast matrix \\* vector (sparsetools)\n",
    "- fast and easy item-wise operations\n",
    "  - manipulate data array directly (fast NumPy machinery)\n",
    "- constructor accepts:\n",
    "  - dense array/matrix\n",
    "  - sparse array/matrix\n",
    "  - shape tuple (create empty array)\n",
    "  - `(data, offsets)` tuple\n",
    "- no slicing, no individual item access\n",
    "- use:\n",
    "  - rather specialized\n",
    "  - solving PDEs by finite differences\n",
    "  - with an iterative solver\n",
    "\n",
    "## Examples\n",
    "\n",
    "### Create some DIA arrays:"
   ]
  },
  {
   "cell_type": "code",
   "execution_count": null,
   "id": "c0ddd9dc",
   "metadata": {},
   "outputs": [],
   "source": [
    "data = np.array([[1, 2, 3, 4]]).repeat(3, axis=0)\n",
    "data"
   ]
  },
  {
   "cell_type": "code",
   "execution_count": null,
   "id": "048b9dcb",
   "metadata": {},
   "outputs": [],
   "source": [
    "offsets = np.array([0, -1, 2])\n",
    "mtx = sp.sparse.dia_array((data, offsets), shape=(4, 4))\n",
    "mtx"
   ]
  },
  {
   "cell_type": "code",
   "execution_count": null,
   "id": "e1992ec3",
   "metadata": {},
   "outputs": [],
   "source": [
    "mtx.toarray()"
   ]
  },
  {
   "cell_type": "code",
   "execution_count": null,
   "id": "9c67f4aa",
   "metadata": {},
   "outputs": [],
   "source": [
    "data = np.arange(12).reshape((3, 4)) + 1\n",
    "data"
   ]
  },
  {
   "cell_type": "code",
   "execution_count": null,
   "id": "9a892d31",
   "metadata": {},
   "outputs": [],
   "source": [
    "mtx = sp.sparse.dia_array((data, offsets), shape=(4, 4))\n",
    "mtx.data"
   ]
  },
  {
   "cell_type": "code",
   "execution_count": null,
   "id": "e7d0c9d5",
   "metadata": {},
   "outputs": [],
   "source": [
    "mtx.offsets"
   ]
  },
  {
   "cell_type": "code",
   "execution_count": null,
   "id": "0309d3e0",
   "metadata": {},
   "outputs": [],
   "source": [
    "print(mtx)"
   ]
  },
  {
   "cell_type": "code",
   "execution_count": null,
   "id": "85025e09",
   "metadata": {},
   "outputs": [],
   "source": [
    "mtx.toarray()"
   ]
  },
  {
   "cell_type": "markdown",
   "id": "ec7f3490",
   "metadata": {},
   "source": [
    "### Explanation with a scheme:\n",
    "\n",
    "```\n",
    "offset: row\n",
    "\n",
    "    2:  9\n",
    "    1:  --10------\n",
    "    0:  1  . 11  .\n",
    "    -1:  5  2  . 12\n",
    "    -2:  .  6  3  .\n",
    "    -3:  .  .  7  4\n",
    "        ---------8\n",
    "```\n",
    "\n",
    "### Matrix-vector multiplication"
   ]
  },
  {
   "cell_type": "code",
   "execution_count": null,
   "id": "08348c1c",
   "metadata": {},
   "outputs": [],
   "source": [
    "vec = np.ones((4, ))\n",
    "vec"
   ]
  },
  {
   "cell_type": "code",
   "execution_count": null,
   "id": "321ed77b",
   "metadata": {},
   "outputs": [],
   "source": [
    "mtx @ vec"
   ]
  },
  {
   "cell_type": "code",
   "execution_count": null,
   "id": "a3e21f9c",
   "metadata": {},
   "outputs": [],
   "source": [
    "(mtx * vec).toarray()"
   ]
  }
 ],
 "metadata": {
  "kernelspec": {
   "display_name": "Python (Pyodide)",
   "name": "python"
  },
  "orphan": true
 },
 "nbformat": 4,
 "nbformat_minor": 5
}
