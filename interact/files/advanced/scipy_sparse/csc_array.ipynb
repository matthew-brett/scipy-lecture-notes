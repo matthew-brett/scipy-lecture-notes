{
 "cells": [
  {
   "cell_type": "code",
   "execution_count": null,
   "id": "91fe1b94",
   "metadata": {
    "tags": [
     "hide-input"
    ]
   },
   "outputs": [],
   "source": [
    "import numpy as np\n",
    "import scipy as sp"
   ]
  },
  {
   "cell_type": "markdown",
   "id": "e5acd8fc",
   "metadata": {},
   "source": [
    "# Compressed Sparse Column Format (CSC)\n",
    "\n",
    "- column oriented\n",
    "  - three NumPy arrays: `indices`, `indptr`, `data`\n",
    "    - `indices` is array of row indices\n",
    "    - `data` is array of corresponding nonzero values\n",
    "    - `indptr` points to column starts in `indices` and `data`\n",
    "    - length is `n_col + 1`, last item = number of values = length of both\n",
    "      `indices` and `data`\n",
    "    - nonzero values of the `i`-th column are `data[indptr[i]:indptr[i+1]]`\n",
    "      with row indices `indices[indptr[i]:indptr[i+1]]`\n",
    "    - item `(i, j)` can be accessed as `data[indptr[j]+k]`, where `k` is\n",
    "      position of `i` in `indices[indptr[j]:indptr[j+1]]`\n",
    "    - subclass of {class}`_cs_matrix` (common CSR/CSC functionality)\n",
    "      - subclass of {class}`_data_matrix` (sparse array classes with `.data`\n",
    "        attribute)\n",
    "- fast matrix vector products and other arithmetic (sparsetools)\n",
    "- constructor accepts:\n",
    "  - dense array/matrix\n",
    "  - sparse array/matrix\n",
    "  - shape tuple (create empty array)\n",
    "  - `(data, coords)` tuple\n",
    "  - `(data, indices, indptr)` tuple\n",
    "- efficient column slicing, column-oriented operations\n",
    "- slow row slicing, expensive changes to the sparsity structure\n",
    "- use:\n",
    "  - actual computations (most linear solvers support this format)\n",
    "\n",
    "## Examples\n",
    "\n",
    "- create empty CSC array:"
   ]
  },
  {
   "cell_type": "code",
   "execution_count": null,
   "id": "4aa3505f",
   "metadata": {},
   "outputs": [],
   "source": [
    "mtx = sp.sparse.csc_array((3, 4), dtype=np.int8)\n",
    "mtx.toarray()"
   ]
  },
  {
   "cell_type": "markdown",
   "id": "8e16f61e",
   "metadata": {},
   "source": [
    "### Create using `(data, coords)` tuple:"
   ]
  },
  {
   "cell_type": "code",
   "execution_count": null,
   "id": "93b80343",
   "metadata": {},
   "outputs": [],
   "source": [
    "row = np.array([0, 0, 1, 2, 2, 2])\n",
    "col = np.array([0, 2, 2, 0, 1, 2])\n",
    "data = np.array([1, 2, 3, 4, 5, 6])\n",
    "mtx = sp.sparse.csc_array((data, (row, col)), shape=(3, 3))\n",
    "mtx"
   ]
  },
  {
   "cell_type": "code",
   "execution_count": null,
   "id": "20b22fcd",
   "metadata": {},
   "outputs": [],
   "source": [
    "mtx.toarray()"
   ]
  },
  {
   "cell_type": "code",
   "execution_count": null,
   "id": "83e543ef",
   "metadata": {},
   "outputs": [],
   "source": [
    "mtx.data"
   ]
  },
  {
   "cell_type": "code",
   "execution_count": null,
   "id": "491e0dec",
   "metadata": {},
   "outputs": [],
   "source": [
    "mtx.indices"
   ]
  },
  {
   "cell_type": "code",
   "execution_count": null,
   "id": "d57d5256",
   "metadata": {},
   "outputs": [],
   "source": [
    "mtx.indptr"
   ]
  },
  {
   "cell_type": "markdown",
   "id": "4e09777f",
   "metadata": {},
   "source": [
    "### Create using `(data, indices, indptr)` tuple:"
   ]
  },
  {
   "cell_type": "code",
   "execution_count": null,
   "id": "167260e5",
   "metadata": {},
   "outputs": [],
   "source": [
    "data = np.array([1, 4, 5, 2, 3, 6])\n",
    "indices = np.array([0, 2, 2, 0, 1, 2])\n",
    "indptr = np.array([0, 2, 3, 6])\n",
    "mtx = sp.sparse.csc_array((data, indices, indptr), shape=(3, 3))\n",
    "mtx.toarray()"
   ]
  }
 ],
 "metadata": {
  "kernelspec": {
   "display_name": "Python (Pyodide)",
   "name": "python"
  },
  "orphan": true
 },
 "nbformat": 4,
 "nbformat_minor": 5
}
