{
 "cells": [
  {
   "cell_type": "code",
   "execution_count": null,
   "id": "f87f9a48",
   "metadata": {
    "tags": [
     "hide-input"
    ]
   },
   "outputs": [],
   "source": [
    "import numpy as np\n",
    "import scipy as sp"
   ]
  },
  {
   "cell_type": "markdown",
   "id": "f003a0d5",
   "metadata": {},
   "source": [
    "# Compressed Sparse Column Format (CSC)\n",
    "\n",
    "- column oriented\n",
    "  - three NumPy arrays: `indices`, `indptr`, `data`\n",
    "      - `indices` is array of row indices\n",
    "      - `data` is array of corresponding nonzero values\n",
    "      - `indptr` points to column starts in `indices` and `data`\n",
    "      - length is `n_col + 1`, last item = number of values = length of both\n",
    "        `indices` and `data`\n",
    "      - nonzero values of the `i`-th column are `data[indptr[i]:indptr[i+1]]`\n",
    "        with row indices `indices[indptr[i]:indptr[i+1]]`\n",
    "      - item `(i, j)` can be accessed as `data[indptr[j]+k]`, where `k` is\n",
    "        position of `i` in `indices[indptr[j]:indptr[j+1]]`\n",
    "    - subclass of {class}`_cs_matrix` (common CSR/CSC functionality)\n",
    "      - subclass of {class}`_data_matrix` (sparse array classes with `.data`\n",
    "        attribute)\n",
    "- fast matrix vector products and other arithmetic (sparsetools)\n",
    "- constructor accepts:\n",
    "  - dense array/matrix\n",
    "  - sparse array/matrix\n",
    "  - shape tuple (create empty array)\n",
    "  - `(data, coords)` tuple\n",
    "  - `(data, indices, indptr)` tuple\n",
    "- efficient column slicing, column-oriented operations\n",
    "- slow row slicing, expensive changes to the sparsity structure\n",
    "- use:\n",
    "  - actual computations (most linear solvers support this format)\n",
    "\n",
    "## Examples\n",
    "\n",
    "- create empty CSC array:"
   ]
  },
  {
   "cell_type": "code",
   "execution_count": null,
   "id": "50586718",
   "metadata": {},
   "outputs": [],
   "source": [
    "mtx = sp.sparse.csc_array((3, 4), dtype=np.int8)\n",
    "mtx.toarray()"
   ]
  },
  {
   "cell_type": "markdown",
   "id": "58fa227c",
   "metadata": {},
   "source": [
    "### Create using `(data, coords)` tuple:"
   ]
  },
  {
   "cell_type": "code",
   "execution_count": null,
   "id": "c98c8463",
   "metadata": {},
   "outputs": [],
   "source": [
    "row = np.array([0, 0, 1, 2, 2, 2])\n",
    "col = np.array([0, 2, 2, 0, 1, 2])\n",
    "data = np.array([1, 2, 3, 4, 5, 6])\n",
    "mtx = sp.sparse.csc_array((data, (row, col)), shape=(3, 3))\n",
    "mtx"
   ]
  },
  {
   "cell_type": "code",
   "execution_count": null,
   "id": "de244044",
   "metadata": {},
   "outputs": [],
   "source": [
    "mtx.toarray()"
   ]
  },
  {
   "cell_type": "code",
   "execution_count": null,
   "id": "4bd41967",
   "metadata": {},
   "outputs": [],
   "source": [
    "mtx.data"
   ]
  },
  {
   "cell_type": "code",
   "execution_count": null,
   "id": "d432e1ef",
   "metadata": {},
   "outputs": [],
   "source": [
    "mtx.indices"
   ]
  },
  {
   "cell_type": "code",
   "execution_count": null,
   "id": "85e72a20",
   "metadata": {},
   "outputs": [],
   "source": [
    "mtx.indptr"
   ]
  },
  {
   "cell_type": "markdown",
   "id": "613e7639",
   "metadata": {},
   "source": [
    "### Create using `(data, indices, indptr)` tuple:"
   ]
  },
  {
   "cell_type": "code",
   "execution_count": null,
   "id": "eb260eeb",
   "metadata": {},
   "outputs": [],
   "source": [
    "data = np.array([1, 4, 5, 2, 3, 6])\n",
    "indices = np.array([0, 2, 2, 0, 1, 2])\n",
    "indptr = np.array([0, 2, 3, 6])\n",
    "mtx = sp.sparse.csc_array((data, indices, indptr), shape=(3, 3))\n",
    "mtx.toarray()"
   ]
  }
 ],
 "metadata": {
  "jupytext": {
   "formats": "ipynb,Rmd"
  },
  "kernelspec": {
   "display_name": "Python (Pyodide)",
   "name": "python"
  },
  "orphan": true
 },
 "nbformat": 4,
 "nbformat_minor": 5
}
