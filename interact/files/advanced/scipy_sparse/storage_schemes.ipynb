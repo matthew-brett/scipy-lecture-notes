{
 "cells": [
  {
   "cell_type": "markdown",
   "id": "a9f6c295",
   "metadata": {},
   "source": [
    "# Storage Schemes\n",
    "\n",
    "## Sparse Array Classes\n",
    "\n",
    "- There are seven sparse array types in scipy.sparse:\n",
    "\n",
    "  1. [csr_array](csr_array): Compressed Sparse Row format\n",
    "  2. [csc_array](csc_array): Compressed Sparse Column format\n",
    "  3. [bsr_array](csc_array): Block Sparse Row format\n",
    "  4. [lil_array](csc_array): List of Lists format\n",
    "  5. [dok_array](dok_array): Dictionary of Keys format\n",
    "  6. [coo_array](coo_array): COOrdinate format (aka IJV,\n",
    "     triplet format)\n",
    "  7. [dia_array](dia_array): DIAgonal format\n",
    "\n",
    "- each suitable for some tasks\n",
    "\n",
    "- many employ sparsetools C++ module by Nathan Bell\n",
    "\n",
    "- assume the following is imported:"
   ]
  },
  {
   "cell_type": "code",
   "execution_count": null,
   "id": "62959cbc",
   "metadata": {},
   "outputs": [],
   "source": [
    "import numpy as np\n",
    "import scipy as sp\n",
    "import matplotlib.pyplot as plt"
   ]
  },
  {
   "cell_type": "markdown",
   "id": "cba07c5d",
   "metadata": {},
   "source": [
    "- **warning** for Numpy users:\n",
    "  - passing a sparse array object to NumPy functions that expect\n",
    "    ndarray/matrix does not work. Use sparse functions.\n",
    "  - the older csr_matrix classes use '\\*' for matrix multiplication (dot\n",
    "    product) and 'A.multiply(B)' for elementwise multiplication.\n",
    "  - the newer csr_array uses '@' for dot product and '\\*' for elementwise\n",
    "    multiplication\n",
    "  - sparse arrays can be 1D or 2D, but not nD for n > 2 (unlike Numpy arrays).\n",
    "\n",
    "## Common Methods\n",
    "\n",
    "- all scipy.sparse array classes are subclasses of {class}`sparray`\n",
    "  - default implementation of arithmetic operations\n",
    "    - always converts to CSR\n",
    "    - subclasses override for efficiency\n",
    "  - shape, data type, set/get\n",
    "  - indices of nonzero values in the array\n",
    "  - format conversion, interaction with NumPy (`toarray()`)\n",
    "  - ...\n",
    "- attributes:\n",
    "  - `mtx.T` - transpose (same as mtx.transpose())\n",
    "  - `mtx.real` - real part of complex matrix\n",
    "  - `mtx.imag` - imaginary part of complex matrix\n",
    "  - `mtx.size` - the number of nonzeros (same as self.getnnz())\n",
    "  - `mtx.shape` - the number of rows and columns (tuple)\n",
    "- data and indices usually stored in 1D NumPy arrays\n",
    "\n",
    "## Summary\n",
    "\n",
    "| format | matrix * vector | get item | fancy get | set item | fancy set | solvers | note |\n",
    "| ------ | --------------- | -------- | --------- | -------- | --------- | ------- | ---- |\n",
    "| CSR | sparsetools | yes | yes | slow | . | any | has data array, fast row-wise ops |\n",
    "| CSC | sparsetools | yes | yes | slow | . | any | has data array, fast column-wise ops |\n",
    "| BSR | sparsetools | . | . | . | . | specialized | has data array, specialized |\n",
    "| COO | sparsetools | . | . | . | . | iterative | has data array, facilitates fast conversion |\n",
    "| DIA | sparsetools | . | . | . | . | iterative | has data array, specialized |\n",
    "| LIL | via CSR | yes | yes | yes | yes | iterative | arithmetic via CSR, incremental construction |\n",
    "| DOK | Python | yes | one axis only | yes | yes | iterative | O(1) item access, incremental construction, slow arithmetic |"
   ]
  }
 ],
 "metadata": {
  "jupytext": {
   "formats": "ipynb,Rmd"
  },
  "kernelspec": {
   "display_name": "Python (Pyodide)",
   "name": "python"
  }
 },
 "nbformat": 4,
 "nbformat_minor": 5
}
