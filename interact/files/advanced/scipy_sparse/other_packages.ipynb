{
 "cells": [
  {
   "cell_type": "markdown",
   "id": "aafc0e5c",
   "metadata": {},
   "source": [
    "# Other Interesting Packages\n",
    "\n",
    "- PyAMG\n",
    "  : - algebraic multigrid solvers\n",
    "  - <https://github.com/pyamg/pyamg>\n",
    "- Pysparse\n",
    "  : - own sparse matrix classes\n",
    "  - matrix and eigenvalue problem solvers\n",
    "  - <https://pysparse.sourceforge.net/>"
   ]
  }
 ],
 "metadata": {
  "kernelspec": {
   "display_name": "Python (Pyodide)",
   "name": "python"
  }
 },
 "nbformat": 4,
 "nbformat_minor": 5
}
