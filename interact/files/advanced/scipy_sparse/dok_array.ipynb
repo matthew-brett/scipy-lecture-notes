{
 "cells": [
  {
   "cell_type": "code",
   "execution_count": null,
   "id": "6a44119f",
   "metadata": {
    "tags": [
     "hide-input"
    ]
   },
   "outputs": [],
   "source": [
    "import numpy as np\n",
    "import scipy as sp"
   ]
  },
  {
   "cell_type": "markdown",
   "id": "c70a64be",
   "metadata": {},
   "source": [
    "# Dictionary of Keys Format (DOK)\n",
    "\n",
    "- subclass of Python dict\n",
    "  - keys are `(row, column)` index tuples (no duplicate entries allowed)\n",
    "  - values are corresponding non-zero values\n",
    "- efficient for constructing sparse arrays incrementally\n",
    "- constructor accepts:\n",
    "  - dense array/matrix\n",
    "  - sparse array/matrix\n",
    "  - shape tuple (create empty array)\n",
    "- efficient O(1) access to individual elements\n",
    "- flexible slicing, changing sparsity structure is efficient\n",
    "- can be efficiently converted to a coo_array once constructed\n",
    "- slow arithmetic (`for` loops with `dict.items()`)\n",
    "- use:\n",
    "  - when sparsity pattern is not known apriori or changes\n",
    "\n",
    "## Examples\n",
    "\n",
    "### Create a DOK array element by element:"
   ]
  },
  {
   "cell_type": "code",
   "execution_count": null,
   "id": "323074a3",
   "metadata": {},
   "outputs": [],
   "source": [
    "mtx = sp.sparse.dok_array((5, 5), dtype=np.float64)\n",
    "mtx"
   ]
  },
  {
   "cell_type": "code",
   "execution_count": null,
   "id": "8faee6d8",
   "metadata": {},
   "outputs": [],
   "source": [
    "for ir in range(5):\n",
    "    for ic in range(5):\n",
    "        mtx[ir, ic] = 1.0 * (ir != ic)\n",
    "mtx"
   ]
  },
  {
   "cell_type": "code",
   "execution_count": null,
   "id": "3f6df869",
   "metadata": {},
   "outputs": [],
   "source": [
    "mtx.toarray()"
   ]
  },
  {
   "cell_type": "markdown",
   "id": "af1ccac1",
   "metadata": {},
   "source": [
    "### Slicing and indexing:"
   ]
  },
  {
   "cell_type": "code",
   "execution_count": null,
   "id": "848438f3",
   "metadata": {},
   "outputs": [],
   "source": [
    "mtx[1, 1]"
   ]
  },
  {
   "cell_type": "code",
   "execution_count": null,
   "id": "0d3b12c3",
   "metadata": {},
   "outputs": [],
   "source": [
    "mtx[[1], 1:3]"
   ]
  },
  {
   "cell_type": "code",
   "execution_count": null,
   "id": "6f0ccce8",
   "metadata": {},
   "outputs": [],
   "source": [
    "mtx[[1], 1:3].toarray()"
   ]
  },
  {
   "cell_type": "code",
   "execution_count": null,
   "id": "196e1e9d",
   "metadata": {},
   "outputs": [],
   "source": [
    "mtx[[2, 1], 1:3].toarray()"
   ]
  }
 ],
 "metadata": {
  "jupytext": {
   "formats": "ipynb,Rmd"
  },
  "kernelspec": {
   "display_name": "Python (Pyodide)",
   "name": "python"
  },
  "orphan": true
 },
 "nbformat": 4,
 "nbformat_minor": 5
}
