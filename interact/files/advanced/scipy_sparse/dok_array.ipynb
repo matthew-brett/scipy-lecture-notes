{
 "cells": [
  {
   "cell_type": "code",
   "execution_count": null,
   "id": "a79d398b",
   "metadata": {
    "tags": [
     "hide-input"
    ]
   },
   "outputs": [],
   "source": [
    "import numpy as np\n",
    "import scipy as sp"
   ]
  },
  {
   "cell_type": "markdown",
   "id": "5d284c60",
   "metadata": {},
   "source": [
    "# Dictionary of Keys Format (DOK)\n",
    "\n",
    "- subclass of Python dict\n",
    "  - keys are `(row, column)` index tuples (no duplicate entries allowed)\n",
    "  - values are corresponding non-zero values\n",
    "- efficient for constructing sparse arrays incrementally\n",
    "- constructor accepts:\n",
    "  - dense array/matrix\n",
    "  - sparse array/matrix\n",
    "  - shape tuple (create empty array)\n",
    "- efficient O(1) access to individual elements\n",
    "- flexible slicing, changing sparsity structure is efficient\n",
    "- can be efficiently converted to a coo_array once constructed\n",
    "- slow arithmetic (`for` loops with `dict.items()`)\n",
    "- use:\n",
    "  - when sparsity pattern is not known apriori or changes\n",
    "\n",
    "## Examples\n",
    "\n",
    "### Create a DOK array element by element:"
   ]
  },
  {
   "cell_type": "code",
   "execution_count": null,
   "id": "40d8b021",
   "metadata": {},
   "outputs": [],
   "source": [
    "mtx = sp.sparse.dok_array((5, 5), dtype=np.float64)\n",
    "mtx"
   ]
  },
  {
   "cell_type": "code",
   "execution_count": null,
   "id": "f1d593bd",
   "metadata": {},
   "outputs": [],
   "source": [
    "for ir in range(5):\n",
    "    for ic in range(5):\n",
    "        mtx[ir, ic] = 1.0 * (ir != ic)\n",
    "mtx"
   ]
  },
  {
   "cell_type": "code",
   "execution_count": null,
   "id": "ac8783a2",
   "metadata": {},
   "outputs": [],
   "source": [
    "mtx.toarray()"
   ]
  },
  {
   "cell_type": "markdown",
   "id": "c2e970d0",
   "metadata": {},
   "source": [
    "### Slicing and indexing:"
   ]
  },
  {
   "cell_type": "code",
   "execution_count": null,
   "id": "b86777d2",
   "metadata": {},
   "outputs": [],
   "source": [
    "mtx[1, 1]"
   ]
  },
  {
   "cell_type": "code",
   "execution_count": null,
   "id": "faa8fede",
   "metadata": {},
   "outputs": [],
   "source": [
    "mtx[[1], 1:3]"
   ]
  },
  {
   "cell_type": "code",
   "execution_count": null,
   "id": "df91c8b7",
   "metadata": {},
   "outputs": [],
   "source": [
    "mtx[[1], 1:3].toarray()"
   ]
  },
  {
   "cell_type": "code",
   "execution_count": null,
   "id": "ffff712e",
   "metadata": {},
   "outputs": [],
   "source": [
    "mtx[[2, 1], 1:3].toarray()"
   ]
  }
 ],
 "metadata": {
  "kernelspec": {
   "display_name": "Python (Pyodide)",
   "name": "python"
  },
  "orphan": true
 },
 "nbformat": 4,
 "nbformat_minor": 5
}
