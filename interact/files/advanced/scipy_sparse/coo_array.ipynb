{
 "cells": [
  {
   "cell_type": "code",
   "execution_count": null,
   "id": "1f821253",
   "metadata": {
    "tags": [
     "hide-input"
    ]
   },
   "outputs": [],
   "source": [
    "import numpy as np\n",
    "import scipy as sp"
   ]
  },
  {
   "cell_type": "markdown",
   "id": "85ddc2df",
   "metadata": {},
   "source": [
    "# Coordinate Format (COO)\n",
    "\n",
    "- also known as the 'ijv' or 'triplet' format\n",
    "  - three NumPy arrays: `row`, `col`, `data`.\n",
    "  - attribute `coords` is the tuple `(row, col)`\n",
    "  - `data[i]` is value at `(row[i], col[i])` position\n",
    "  - permits duplicate entries\n",
    "  - subclass of {class}`_data_matrix` (sparse matrix classes with\n",
    "    `.data` attribute)\n",
    "- fast format for constructing sparse arrays\n",
    "- constructor accepts:\n",
    "  - dense array/matrix\n",
    "  - sparse array/matrix\n",
    "  - shape tuple (create empty matrix)\n",
    "  - `(data, coords)` tuple\n",
    "- very fast conversion to and from CSR/CSC formats\n",
    "- fast matrix \\* vector (sparsetools)\n",
    "- fast and easy item-wise operations\n",
    "  - manipulate data array directly (fast NumPy machinery)\n",
    "- no slicing, no arithmetic (directly, converts to CSR)\n",
    "- use:\n",
    "\n",
    "  - facilitates fast conversion among sparse formats\n",
    "\n",
    "  - when converting to other format (usually CSR or CSC), duplicate\n",
    "    entries are summed together\n",
    "\n",
    "  - facilitates efficient construction of finite element matrices\n",
    "\n",
    "## Examples\n",
    "\n",
    "### Create empty COO array:"
   ]
  },
  {
   "cell_type": "code",
   "execution_count": null,
   "id": "cf220ffc",
   "metadata": {},
   "outputs": [],
   "source": [
    "mtx = sp.sparse.coo_array((3, 4), dtype=np.int8)\n",
    "mtx.toarray()"
   ]
  },
  {
   "cell_type": "markdown",
   "id": "7a68cc61",
   "metadata": {},
   "source": [
    "### Create using `(data, ij)` tuple:"
   ]
  },
  {
   "cell_type": "code",
   "execution_count": null,
   "id": "0f7da5af",
   "metadata": {},
   "outputs": [],
   "source": [
    "row = np.array([0, 3, 1, 0])\n",
    "col = np.array([0, 3, 1, 2])\n",
    "data = np.array([4, 5, 7, 9])\n",
    "mtx = sp.sparse.coo_array((data, (row, col)), shape=(4, 4))\n",
    "mtx"
   ]
  },
  {
   "cell_type": "code",
   "execution_count": null,
   "id": "d98655ea",
   "metadata": {},
   "outputs": [],
   "source": [
    "mtx.toarray()"
   ]
  },
  {
   "cell_type": "markdown",
   "id": "a3b10b36",
   "metadata": {},
   "source": [
    "**Note**: duplicate entries are summed together:"
   ]
  },
  {
   "cell_type": "code",
   "execution_count": null,
   "id": "9984b497",
   "metadata": {},
   "outputs": [],
   "source": [
    "row = np.array([0, 0, 1, 3, 1, 0, 0])\n",
    "col = np.array([0, 2, 1, 3, 1, 0, 0])\n",
    "data = np.array([1, 1, 1, 1, 1, 1, 1])\n",
    "mtx = sp.sparse.coo_array((data, (row, col)), shape=(4, 4))\n",
    "mtx.toarray()"
   ]
  },
  {
   "cell_type": "markdown",
   "id": "aa02239b",
   "metadata": {},
   "source": [
    "**Note**: no slicing...:"
   ]
  },
  {
   "cell_type": "code",
   "execution_count": null,
   "id": "483e4a06",
   "metadata": {
    "tags": [
     "raises-exception"
    ]
   },
   "outputs": [],
   "source": [
    "mtx[2, 3]"
   ]
  }
 ],
 "metadata": {
  "kernelspec": {
   "display_name": "Python (Pyodide)",
   "name": "python"
  },
  "orphan": true
 },
 "nbformat": 4,
 "nbformat_minor": 5
}
