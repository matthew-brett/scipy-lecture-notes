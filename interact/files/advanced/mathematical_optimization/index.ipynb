{
 "cells": [
  {
   "cell_type": "markdown",
   "id": "77d13855",
   "metadata": {},
   "source": [
    "(mathematical-optimization)="
   ]
  },
  {
   "cell_type": "markdown",
   "id": "1ba539e4",
   "metadata": {},
   "source": [
    "# Mathematical optimization: finding minima of functions"
   ]
  },
  {
   "cell_type": "code",
   "execution_count": null,
   "id": "c2edb069",
   "metadata": {
    "tags": [
     "hide-input"
    ]
   },
   "outputs": [],
   "source": [
    "import numpy as np\n",
    "import matplotlib.pyplot as plt\n",
    "import scipy as sp"
   ]
  },
  {
   "cell_type": "markdown",
   "id": "2dd2be03",
   "metadata": {},
   "source": [
    "**Authors**: _Gaël Varoquaux_\n",
    "\n",
    "[Mathematical optimization](https://en.wikipedia.org/wiki/Mathematical_optimization) deals with the\n",
    "problem of finding numerically minimums (or maximums or zeros) of\n",
    "a function. In this context, the function is called _cost function_, or\n",
    "_objective function_, or _energy_.\n",
    "\n",
    "Here, we are interested in using {mod}`scipy.optimize` for black-box\n",
    "optimization: we do not rely on the mathematical expression of the\n",
    "function that we are optimizing. Note that this expression can often be\n",
    "used for more efficient, non black-box, optimization.\n",
    "\n",
    ":::{admonition} Prerequisites\n",
    "\n",
    "- {ref}`NumPy <numpy>`\n",
    "- {ref}`SciPy <scipy>`\n",
    "- {ref}`Matplotlib <matplotlib>`\n",
    "\n",
    ":::\n",
    "\n",
    ":::{admonition} See also\n",
    "\n",
    "**References**\n",
    "\n",
    "Mathematical optimization is very ... mathematical. If you want\n",
    "performance, it really pays to read the books:\n",
    "\n",
    "- [Convex Optimization](https://web.stanford.edu/~boyd/cvxbook/)\n",
    "  by Boyd and Vandenberghe (pdf available free online).\n",
    "- [Numerical\n",
    "  Optimization](https://users.eecs.northwestern.edu/~nocedal/book/num-opt.html)\n",
    "  by Nocedal and Wright. Detailed reference on gradient descent methods.\n",
    "- [Practical Methods of\n",
    "  Optimization](https://www.amazon.com/gp/product/0471494631/ref=ox_sc_act_title_1?ie=UTF8&smid=ATVPDKIKX0DER)\n",
    "  by Fletcher. Good at hand-waving explanations.\n",
    "\n",
    ":::\n",
    "\n",
    "<!---\n",
    "XXX: should I discuss root finding?\n",
    "-->"
   ]
  },
  {
   "cell_type": "markdown",
   "id": "56b5e65f",
   "metadata": {},
   "source": [
    "## Knowing your problem\n",
    "\n",
    "Not all optimization problems are equal. Knowing your problem enables you\n",
    "to choose the right tool.\n",
    "\n",
    ":::{admonition} Dimensionality of the problem\n",
    "The scale of an optimization problem is pretty much set by the\n",
    "_dimensionality of the problem_, i.e. the number of scalar variables\n",
    "on which the search is performed.\n",
    "\n",
    ":::"
   ]
  },
  {
   "cell_type": "markdown",
   "id": "610e8886",
   "metadata": {},
   "source": [
    "### Convex versus non-convex optimization"
   ]
  },
  {
   "cell_type": "markdown",
   "id": "024bd19a",
   "metadata": {},
   "source": [
    "::: {list-table}\n",
    "\n",
    "- - (Ref to `convex_func` in \"optimization_examples.md\")\n",
    "  - (Ref to `non_convex_func` in \"optimization_examples.md\")\n",
    "- - **A convex function**:\n",
    "\n",
    "    - $f$ is above all its tangents.\n",
    "    - Equivalently, for two points $A, B$, $f(C)$ lies below the segment\n",
    "      $[f(A), f(B])]$, if $A < C < B$.\n",
    "\n",
    "  - **A non-convex function**\n",
    "\n",
    ":::\n",
    "\n",
    "::: {admonition} Plot code\n",
    ":class: dropdown\n",
    "\n",
    "See [convex, non-convex function plots](convex-function-eg).\n",
    "\n",
    ":::\n",
    "\n",
    "**Optimizing convex functions is easy. Optimizing non-convex functions can\n",
    "be very hard.**\n",
    "\n",
    ":::{note}\n",
    "It can be proven that for a convex function a local minimum is\n",
    "also a global minimum. Then, in some sense, the minimum is unique.\n",
    ":::"
   ]
  },
  {
   "cell_type": "markdown",
   "id": "a541b75f",
   "metadata": {},
   "source": [
    "### Smooth and non-smooth problems\n",
    "\n",
    "::: {list-table}\n",
    "\n",
    "- - (Ref to `smooth_func` in \"optimization_examples.md\")\n",
    "  - (Ref to `non_smooth_func` in \"optimization_examples.md\")\n",
    "- - **A smooth function**:\n",
    "\n",
    "    The gradient is defined everywhere, and is a continuous function\n",
    "\n",
    "  - **A non-smooth function**\n",
    "\n",
    ":::\n",
    "\n",
    "::: {admonition} Plot code\n",
    ":class: dropdown\n",
    "\n",
    "See [smooth, non-smooth function plots](smooth-function-eg).\n",
    "\n",
    ":::"
   ]
  },
  {
   "cell_type": "markdown",
   "id": "025c58e9",
   "metadata": {},
   "source": [
    "**Optimizing smooth functions is easier**\n",
    "(true in the context of _black-box_ optimization, otherwise\n",
    "[Linear Programming](https://en.wikipedia.org/wiki/Linear_programming)\n",
    "is an example of methods which deal very efficiently with\n",
    "piece-wise linear functions)."
   ]
  },
  {
   "cell_type": "markdown",
   "id": "ce592b52",
   "metadata": {},
   "source": [
    "### Noisy versus exact cost functions\n",
    "\n",
    "::: {list-table}\n",
    "\n",
    "- - Noisy (blue) and non-noisy (orange) functions\n",
    "  - (Ref to `noisy_non_noisy` in \"optimization_examples.md\")\n",
    ":::\n",
    "\n",
    "::: {admonition} Plot code\n",
    ":class: dropdown\n",
    "\n",
    "See [noisy, non-noisy function plots](noisy-non-noisy-eg).\n",
    "\n",
    ":::\n",
    "\n",
    ":::{admonition} Noisy gradients\n",
    "Many optimization methods rely on gradients of the objective function.\n",
    "If the gradient function is not given, they are computed numerically,\n",
    "which induces errors. In such situation, even if the objective\n",
    "function is not noisy, a gradient-based optimization may be a noisy\n",
    "optimization.\n",
    ":::"
   ]
  },
  {
   "cell_type": "markdown",
   "id": "a654f890",
   "metadata": {},
   "source": [
    "### Constraints\n",
    "\n",
    "::: {list-table}\n",
    "\n",
    "- - Optimizations under constraints\n",
    "\n",
    "    Here:\n",
    "\n",
    "    $-1 < x_1 < 1$\n",
    "\n",
    "    $-1 < x_2 < 1$\n",
    "\n",
    "  - (Ref to `constraints_no_path` in \"optimization_examples.md\")\n",
    ":::\n",
    "\n",
    "::: {admonition} Plot code\n",
    ":class: dropdown\n",
    "\n",
    "See [constraint plots](constraints-eg).\n",
    "\n",
    ":::"
   ]
  },
  {
   "cell_type": "markdown",
   "id": "90083df6",
   "metadata": {},
   "source": [
    "## A review of the different optimizers"
   ]
  },
  {
   "cell_type": "markdown",
   "id": "6d557de7",
   "metadata": {},
   "source": [
    "### Getting started: 1D optimization\n",
    "\n",
    "Let's get started by finding the minimum of the scalar function\n",
    "$f(x)=\\exp[(x-0.5)^2]$. {func}`scipy.optimize.minimize_scalar` uses\n",
    "Brent's method to find the minimum of a function:"
   ]
  },
  {
   "cell_type": "code",
   "execution_count": null,
   "id": "569144c0",
   "metadata": {},
   "outputs": [],
   "source": [
    "def f(x):\n",
    "    return -np.exp(-(x - 0.5)**2)\n",
    "\n",
    "result = sp.optimize.minimize_scalar(f)\n",
    "result.success # check if solver was successful"
   ]
  },
  {
   "cell_type": "code",
   "execution_count": null,
   "id": "91f6de5c",
   "metadata": {},
   "outputs": [],
   "source": [
    "x_min = result.x\n",
    "x_min"
   ]
  },
  {
   "cell_type": "code",
   "execution_count": null,
   "id": "77da4e02",
   "metadata": {},
   "outputs": [],
   "source": [
    "x_min - 0.5"
   ]
  },
  {
   "cell_type": "markdown",
   "id": "8e396fb6",
   "metadata": {},
   "source": [
    "::: {list-table} **Brent's method on a quadratic function**: it converges in 3 iterations, as the quadratic approximation is then exact.\n",
    "\n",
    "- - (Ref to `brent_epsilon_0_func` in \"optimization_examples.md\")\n",
    "  - (Ref to `brent_epsilon_0_err` in \"optimization_examples.md\")\n",
    ":::\n",
    "\n",
    "::: {list-table} **Brent's method on a non-convex function**: note that the fact that the optimizer avoided the local minimum is a matter of luck.\n",
    "\n",
    "- - (Ref to `brent_epsilon_1_func` in \"optimization_examples.md\")\n",
    "  - (Ref to `brent_epsilon_1_err` in \"optimization_examples.md\")\n",
    ":::\n",
    "\n",
    "::: {admonition} Plot code\n",
    ":class: dropdown\n",
    "\n",
    "See [Brent's method figures](brents-method-eg).\n",
    "\n",
    ":::\n",
    "\n",
    ":::{note}\n",
    "\n",
    "You can use different solvers using the parameter `method`.\n",
    "\n",
    ":::\n",
    "\n",
    ":::{note}\n",
    "\n",
    "{func}`scipy.optimize.minimize_scalar` can also be used for optimization\n",
    "constrained to an interval using the parameter `bounds`.\n",
    "\n",
    ":::"
   ]
  },
  {
   "cell_type": "markdown",
   "id": "07234cb3",
   "metadata": {},
   "source": [
    "### Gradient based methods"
   ]
  },
  {
   "cell_type": "markdown",
   "id": "7fb1d6bf",
   "metadata": {},
   "source": [
    "#### Some intuitions about gradient descent\n",
    "\n",
    "Here we focus on **intuitions**, not code. Code will follow.\n",
    "\n",
    "[Gradient descent](https://en.wikipedia.org/wiki/Gradient_descent)\n",
    "basically consists in taking small steps in the direction of the\n",
    "gradient, that is the direction of the _steepest descent_."
   ]
  },
  {
   "cell_type": "markdown",
   "id": "d2722e85",
   "metadata": {},
   "source": [
    "::: {list-table} **Fixed step gradient descent**\n",
    "\n",
    "- - **A well-conditioned quadratic function.**\n",
    "\n",
    "  - (Ref to `gradient_descent_q_07_gd_func` in \"optimization_examples.md\")\n",
    "  - (Ref to `gradient_descent_q_07_gd_err` in \"optimization_examples.md\")\n",
    "- - **An ill-conditioned quadratic function.**\n",
    "\n",
    "    The core problem of gradient-methods on ill-conditioned problems is\n",
    "    that the gradient tends not to point in the direction of the\n",
    "    minimum.\n",
    "\n",
    "  - (Ref to `gradient_descent_q_002_gd_func` in \"optimization_examples.md\")\n",
    "  - (Ref to `gradient_descent_q_002_gd_err` in \"optimization_examples.md\")\n",
    ":::\n",
    "\n",
    "::: {admonition} Plot code\n",
    ":class: dropdown\n",
    "\n",
    "See [gradient descent plots](gradient-descent-eg).\n",
    "\n",
    ":::\n",
    "\n",
    "We can see that very anisotropic ([ill-conditioned](https://en.wikipedia.org/wiki/Condition_number)) functions are harder\n",
    "to optimize.\n",
    "\n",
    ":::{admonition} Take home message: conditioning number and preconditioning\n",
    "If you know natural scaling for your variables, prescale them so that\n",
    "they behave similarly. This is related to [preconditioning](https://en.wikipedia.org/wiki/Preconditioner).\n",
    ":::\n",
    "\n",
    "Also, it clearly can be advantageous to take bigger steps. This\n",
    "is done in gradient descent code using a\n",
    "[line search](https://en.wikipedia.org/wiki/Line_search).\n",
    "\n",
    "::: {list-table} **Adaptive step gradient descent**\n",
    "\n",
    "- - A well-conditioned quadratic function.\n",
    "\n",
    "  - (Ref to `gradient_descent_q_07_gda_func` in \"optimization_examples.md\")\n",
    "  - (Ref to `gradient_descent_q_07_gda_err` in \"optimization_examples.md\")\n",
    "- - An ill-conditioned quadratic function.\n",
    "\n",
    "  - (Ref to `gradient_descent_q_002_gda_func` in \"optimization_examples.md\")\n",
    "  - (Ref to `gradient_descent_q_002_gda_err` in \"optimization_examples.md\")\n",
    "- - An ill-conditioned non-quadratic function.\n",
    "\n",
    "  - (Ref to `gradient_descent_g_002_gda_func` in \"optimization_examples.md\")\n",
    "  - (Ref to `gradient_descent_g_002_gda_err` in \"optimization_examples.md\")\n",
    "- - An ill-conditioned very non-quadratic function.\n",
    "\n",
    "  - (Ref to `gradient_descent_rb_gda_func` in \"optimization_examples.md\")\n",
    "  - (Ref to `gradient_descent_rb_gda_err` in \"optimization_examples.md\")\n",
    ":::\n",
    "\n",
    "::: {admonition} Plot code\n",
    ":class: dropdown\n",
    "\n",
    "See [gradient descent plots](gradient-descent-eg).\n",
    "\n",
    ":::\n",
    "\n",
    "The more a function looks like a quadratic function (elliptic\n",
    "iso-curves), the easier it is to optimize."
   ]
  },
  {
   "cell_type": "markdown",
   "id": "5f70b445",
   "metadata": {},
   "source": [
    "#### Conjugate gradient descent\n",
    "\n",
    "The gradient descent algorithms above are toys not to be used on real\n",
    "problems.\n",
    "\n",
    "As can be seen from the above experiments, one of the problems of the\n",
    "simple gradient descent algorithms, is that it tends to oscillate across\n",
    "a valley, each time following the direction of the gradient, that makes\n",
    "it cross the valley. The conjugate gradient solves this problem by adding\n",
    "a _friction_ term: each step depends on the two last values of the\n",
    "gradient and sharp turns are reduced.\n",
    "\n",
    "::: {list-table} **Conjugate gradient descent**\n",
    "\n",
    "- - An ill-conditioned non-quadratic function.\n",
    "\n",
    "  - (Ref to `gradient_descent_g_002_cg_func` in \"optimization_examples.md\")\n",
    "  - (Ref to `gradient_descent_g_002_cg_err` in \"optimization_examples.md\")\n",
    "- - An ill-conditioned very non-quadratic function.\n",
    "\n",
    "  - (Ref to `gradient_descent_rb_cg_func` in \"optimization_examples.md\")\n",
    "  - (Ref to `gradient_descent_rb_cg_err` in \"optimization_examples.md\")\n",
    ":::\n",
    "\n",
    "::: {admonition} Plot code\n",
    ":class: dropdown\n",
    "\n",
    "See [gradient descent plots](gradient-descent-eg).\n",
    "\n",
    ":::\n",
    "\n",
    "SciPy provides {func}`scipy.optimize.minimize` to find the minimum of scalar\n",
    "functions of one or more variables. The simple conjugate gradient method can\n",
    "be used by setting the parameter `method` to CG"
   ]
  },
  {
   "cell_type": "code",
   "execution_count": null,
   "id": "e0d13b36",
   "metadata": {},
   "outputs": [],
   "source": [
    "def f(x):   # The rosenbrock function\n",
    "    return .5*(1 - x[0])**2 + (x[1] - x[0]**2)**2\n",
    "\n",
    "sp.optimize.minimize(f, [2, -1], method=\"CG\")"
   ]
  },
  {
   "cell_type": "markdown",
   "id": "7e073da0",
   "metadata": {},
   "source": [
    "Gradient methods need the Jacobian (gradient) of the function. They can\n",
    "compute it numerically, but will perform better if you can pass them the\n",
    "gradient:"
   ]
  },
  {
   "cell_type": "code",
   "execution_count": null,
   "id": "6e571f03",
   "metadata": {},
   "outputs": [],
   "source": [
    "def jacobian(x):\n",
    "    return np.array((-2*.5*(1 - x[0]) - 4*x[0]*(x[1] - x[0]**2), 2*(x[1] - x[0]**2)))\n",
    "\n",
    "sp.optimize.minimize(f, [2, 1], method=\"CG\", jac=jacobian)"
   ]
  },
  {
   "cell_type": "markdown",
   "id": "b656483b",
   "metadata": {},
   "source": [
    "Note that the function has only been evaluated 27 times, compared to 108\n",
    "without the gradient."
   ]
  },
  {
   "cell_type": "markdown",
   "id": "86c10bc7",
   "metadata": {},
   "source": [
    "### Newton and quasi-newton methods"
   ]
  },
  {
   "cell_type": "markdown",
   "id": "3bcd3e1b",
   "metadata": {},
   "source": [
    "#### Newton methods: using the Hessian (2nd differential)\n",
    "\n",
    "[Newton methods](https://en.wikipedia.org/wiki/Newton%27s_method_in_optimization) use a\n",
    "local quadratic approximation to compute the jump direction. For this\n",
    "purpose, they rely on the 2 first derivative of the function: the\n",
    "_gradient_ and the [Hessian](https://en.wikipedia.org/wiki/Hessian_matrix).\n",
    "\n",
    "::: {list-table}\n",
    "\n",
    "- - **An ill-conditioned quadratic function:**\n",
    "\n",
    "    Note that, as the quadratic approximation is exact, the Newton\n",
    "    method is blazing fast\n",
    "\n",
    "  - (Ref to `gradient_descent_q_002_ncg_func` in \"optimization_examples.md\")\n",
    "  - (Ref to `gradient_descent_q_002_ncg_err` in \"optimization_examples.md\")\n",
    "- - **An ill-conditioned non-quadratic function:**\n",
    "\n",
    "    Here we are optimizing a Gaussian, which is always below its\n",
    "    quadratic approximation. As a result, the Newton method overshoots\n",
    "    and leads to oscillations.\n",
    "\n",
    "  - (Ref to `gradient_descent_g_002_ncg_func` in \"optimization_examples.md\")\n",
    "  - (Ref to `gradient_descent_g_002_ncg_err` in \"optimization_examples.md\")\n",
    "- - **An ill-conditioned very non-quadratic function:**\n",
    "\n",
    "  - (Ref to `gradient_descent_rb_ncg_func` in \"optimization_examples.md\")\n",
    "  - (Ref to `gradient_descent_rb_ncg_err` in \"optimization_examples.md\")\n",
    ":::\n",
    "\n",
    "::: {admonition} Plot code\n",
    ":class: dropdown\n",
    "\n",
    "See [gradient descent plots](gradient-descent-eg).\n",
    "\n",
    ":::\n",
    "\n",
    "In SciPy, you can use the Newton method by setting `method` to Newton-CG in\n",
    "{func}`scipy.optimize.minimize`. Here, CG refers to the fact that an internal\n",
    "inversion of the Hessian is performed by conjugate gradient."
   ]
  },
  {
   "cell_type": "code",
   "execution_count": null,
   "id": "7476d790",
   "metadata": {},
   "outputs": [],
   "source": [
    "def f(x):   # The rosenbrock function\n",
    "    return .5*(1 - x[0])**2 + (x[1] - x[0]**2)**2\n",
    "\n",
    "def jacobian(x):\n",
    "    return np.array((-2*.5*(1 - x[0]) - 4*x[0]*(x[1] - x[0]**2), 2*(x[1] - x[0]**2)))\n",
    "\n",
    "sp.optimize.minimize(f, [2,-1], method=\"Newton-CG\", jac=jacobian)"
   ]
  },
  {
   "cell_type": "markdown",
   "id": "53bde8c0",
   "metadata": {},
   "source": [
    "Note that compared to a conjugate gradient (above), Newton's method has\n",
    "required less function evaluations, but more gradient evaluations, as it\n",
    "uses it to approximate the Hessian. Let's compute the Hessian and pass it\n",
    "to the algorithm:"
   ]
  },
  {
   "cell_type": "code",
   "execution_count": null,
   "id": "f6701658",
   "metadata": {},
   "outputs": [],
   "source": [
    "def hessian(x): # Computed with sympy\n",
    "    return np.array(((1 - 4*x[1] + 12*x[0]**2, -4*x[0]), (-4*x[0], 2)))\n",
    "\n",
    "sp.optimize.minimize(f, [2,-1], method=\"Newton-CG\", jac=jacobian, hess=hessian)"
   ]
  },
  {
   "cell_type": "markdown",
   "id": "1d156e71",
   "metadata": {},
   "source": [
    ":::{note}\n",
    "\n",
    "At very high-dimension, the inversion of the Hessian can be costly\n",
    "and unstable (large scale > 250).\n",
    "\n",
    ":::\n",
    "\n",
    ":::{note}\n",
    "Newton optimizers should not to be confused with Newton's root finding\n",
    "method, based on the same principles, {func}`scipy.optimize.newton`.\n",
    ":::\n",
    "\n",
    "(quasi-newton)="
   ]
  },
  {
   "cell_type": "markdown",
   "id": "2ceb81ce",
   "metadata": {},
   "source": [
    "#### Quasi-Newton methods: approximating the Hessian on the fly\n",
    "\n",
    "**BFGS**: BFGS (Broyden-Fletcher-Goldfarb-Shanno algorithm) refines at\n",
    "each step an approximation of the Hessian.\n",
    "\n",
    "::: {list-table}\n",
    "\n",
    "- - **An ill-conditioned quadratic function:**\n",
    "\n",
    "    On a exactly quadratic function, BFGS is not as fast as Newton's\n",
    "    method, but still very fast.\n",
    "\n",
    "  - (Ref to `gradient_descent_q_002_bgfs_func` in \"optimization_examples.md\")\n",
    "  - (Ref to `gradient_descent_q_002_bgfs_err` in \"optimization_examples.md\")\n",
    "- - **An ill-conditioned non-quadratic function:**\n",
    "\n",
    "    Here BFGS does better than Newton, as its empirical estimate of the\n",
    "    curvature is better than that given by the Hessian.\n",
    "\n",
    "  - (Ref to `gradient_descent_g_002_bgfs_func` in \"optimization_examples.md\")\n",
    "  - (Ref to `gradient_descent_g_002_bgfs_err` in \"optimization_examples.md\")\n",
    "- - **An ill-conditioned very non-quadratic function:**\n",
    "\n",
    "  - (Ref to `gradient_descent_rb_bgfs_func` in \"optimization_examples.md\")\n",
    "  - (Ref to `gradient_descent_rb_bgfs_err` in \"optimization_examples.md\")\n",
    ":::\n",
    "\n",
    "::: {admonition} Plot code\n",
    ":class: dropdown\n",
    "\n",
    "See [gradient descent plots](gradient-descent-eg).\n",
    "\n",
    ":::"
   ]
  },
  {
   "cell_type": "code",
   "execution_count": null,
   "id": "08eddf8e",
   "metadata": {},
   "outputs": [],
   "source": [
    "def f(x):   # The rosenbrock function\n",
    "    return .5*(1 - x[0])**2 + (x[1] - x[0]**2)**2\n",
    "\n",
    "def jacobian(x):\n",
    "    return np.array((-2*.5*(1 - x[0]) - 4*x[0]*(x[1] - x[0]**2), 2*(x[1] - x[0]**2)))\n",
    "\n",
    "sp.optimize.minimize(f, [2, -1], method=\"BFGS\", jac=jacobian)"
   ]
  },
  {
   "cell_type": "markdown",
   "id": "fcf719d4",
   "metadata": {},
   "source": [
    "**L-BFGS:** Limited-memory BFGS sits between BFGS and conjugate gradient: in\n",
    "very high dimensions (> 250) the Hessian matrix is too costly to compute and\n",
    "invert. L-BFGS keeps a low-rank version. In addition, box bounds are also\n",
    "supported by L-BFGS-B:"
   ]
  },
  {
   "cell_type": "code",
   "execution_count": null,
   "id": "f9cc411e",
   "metadata": {},
   "outputs": [],
   "source": [
    "def f(x):   # The rosenbrock function\n",
    "    return .5*(1 - x[0])**2 + (x[1] - x[0]**2)**2\n",
    "\n",
    "def jacobian(x):\n",
    "    return np.array((-2*.5*(1 - x[0]) - 4*x[0]*(x[1] - x[0]**2), 2*(x[1] - x[0]**2)))\n",
    "\n",
    "sp.optimize.minimize(f, [2, 2], method=\"L-BFGS-B\", jac=jacobian)"
   ]
  },
  {
   "cell_type": "markdown",
   "id": "a8c76d27",
   "metadata": {},
   "source": [
    "### Gradient-less methods"
   ]
  },
  {
   "cell_type": "markdown",
   "id": "aaac6e39",
   "metadata": {},
   "source": [
    "#### A shooting method: the Powell algorithm\n",
    "\n",
    "Almost a gradient approach:\n",
    "\n",
    "::: {list-table}\n",
    "\n",
    "- - **An ill-conditioned quadratic function:**\n",
    "\n",
    "    Powell's method isn't too sensitive to local ill-conditionning in\n",
    "    low dimensions\n",
    "\n",
    "  - (Ref to `gradient_descent_q_002_pow_func` in \"optimization_examples.md\")\n",
    "  - (Ref to `gradient_descent_q_002_pow_err` in \"optimization_examples.md\")\n",
    "- - **An ill-conditioned very non-quadratic function:**\n",
    "\n",
    "  - (Ref to `gradient_descent_rb_pow_func` in \"optimization_examples.md\")\n",
    "  - (Ref to `gradient_descent_rb_pow_err` in \"optimization_examples.md\")\n",
    ":::\n",
    "\n",
    "::: {admonition} Plot code\n",
    ":class: dropdown\n",
    "\n",
    "See [gradient descent plots](gradient-descent-eg).\n",
    "\n",
    ":::"
   ]
  },
  {
   "cell_type": "markdown",
   "id": "8c616a93",
   "metadata": {},
   "source": [
    "#### Simplex method: the Nelder-Mead\n",
    "\n",
    "The Nelder-Mead algorithms are a generalization of dichotomy approaches to\n",
    "high-dimensional spaces. The algorithm works by refining\n",
    "a [simplex](https://en.wikipedia.org/wiki/Simplex), the generalization of\n",
    "intervals and triangles to high-dimensional spaces, to bracket the minimum.\n",
    "\n",
    "**Strong points**: it is robust to noise, as it does not rely on\n",
    "computing gradients. Thus it can work on functions that are not locally\n",
    "smooth such as experimental data points, as long as they display a\n",
    "large-scale bell-shape behavior. However it is slower than gradient-based\n",
    "methods on smooth, non-noisy functions.\n",
    "\n",
    "::: {list-table}\n",
    "\n",
    "- - **An ill-conditioned non-quadratic function:**\n",
    "\n",
    "  - (Ref to `gradient_descent_g_002_nm_func` in \"optimization_examples.md\")\n",
    "  - (Ref to `gradient_descent_g_002_nm_err` in \"optimization_examples.md\")\n",
    "- - **An ill-conditioned very non-quadratic function:**\n",
    "\n",
    "  - (Ref to `gradient_descent_rb_nm_func` in \"optimization_examples.md\")\n",
    "  - (Ref to `gradient_descent_rb_nm_err` in \"optimization_examples.md\")\n",
    ":::\n",
    "\n",
    "::: {admonition} Plot code\n",
    ":class: dropdown\n",
    "\n",
    "See [gradient descent plots](gradient-descent-eg).\n",
    "\n",
    ":::\n",
    "\n",
    "Using the Nelder-Mead solver in {func}`scipy.optimize.minimize`:"
   ]
  },
  {
   "cell_type": "code",
   "execution_count": null,
   "id": "bb1ccec2",
   "metadata": {},
   "outputs": [],
   "source": [
    "def f(x):   # The rosenbrock function\n",
    "    return .5*(1 - x[0])**2 + (x[1] - x[0]**2)**2\n",
    "\n",
    "sp.optimize.minimize(f, [2, -1], method=\"Nelder-Mead\")"
   ]
  },
  {
   "cell_type": "markdown",
   "id": "7f8c2c01",
   "metadata": {},
   "source": [
    "### Global optimizers\n",
    "\n",
    "If your problem does not admit a unique local minimum (which can be hard\n",
    "to test unless the function is convex), and you do not have prior\n",
    "information to initialize the optimization close to the solution, you\n",
    "may need a global optimizer."
   ]
  },
  {
   "cell_type": "markdown",
   "id": "81e36d84",
   "metadata": {},
   "source": [
    "#### Brute force: a grid search\n",
    "\n",
    "{func}`scipy.optimize.brute` evaluates the function on a given grid of\n",
    "parameters and returns the parameters corresponding to the minimum\n",
    "value. The parameters are specified with ranges given to\n",
    "{obj}`numpy.mgrid`. By default, 20 steps are taken in each direction:"
   ]
  },
  {
   "cell_type": "code",
   "execution_count": null,
   "id": "d38b1c65",
   "metadata": {},
   "outputs": [],
   "source": [
    "def f(x):   # The rosenbrock function\n",
    "    return .5*(1 - x[0])**2 + (x[1] - x[0]**2)**2\n",
    "\n",
    "sp.optimize.brute(f, ((-1, 2), (-1, 2)))"
   ]
  },
  {
   "cell_type": "markdown",
   "id": "f2ab34e5",
   "metadata": {},
   "source": [
    "## Practical guide to optimization with SciPy"
   ]
  },
  {
   "cell_type": "markdown",
   "id": "a4b36260",
   "metadata": {},
   "source": [
    "### Choosing a method\n",
    "\n",
    "All methods are exposed as the `method` argument of\n",
    "{func}`scipy.optimize.minimize`.\n",
    "\n",
    "(Ref to `compare_optimizers` in \"optimization_examples.md\")\n",
    "::: {admonition} Code for plot above\n",
    ":class: dropdown\n",
    "\n",
    "See [compare optimizers](compare-optimizers-eg).\n",
    "\n",
    ":::\n",
    "\n",
    "::: {list-table} **Rules of thumb for choosing a method**\n",
    "\n",
    "- - Without knowledge of the gradient\n",
    "\n",
    "  - - In general, prefer **BFGS** or **L-BFGS**, even if you have to\n",
    "      approximate numerically gradients. These are also the default if you\n",
    "      omit the parameter `method` - depending if the problem has constraints\n",
    "      or bounds.\n",
    "    - On well-conditioned problems, **Powell** and **Nelder-Mead**, both\n",
    "      gradient-free methods, work well in high dimension, but they collapse\n",
    "      for ill-conditioned problems.\n",
    "\n",
    "- - With knowledge of the gradient\n",
    "\n",
    "  - - **BFGS** or **L-BFGS**.\n",
    "    - Computational overhead of BFGS is larger than that L-BFGS, itself\n",
    "      larger than that of conjugate gradient. On the other side, BFGS usually\n",
    "      needs less function evaluations than CG. Thus conjugate gradient method\n",
    "      is better than BFGS at optimizing computationally cheap functions.\n",
    "\n",
    "- - With the Hessian\n",
    "\n",
    "  - - If you can compute the Hessian, prefer the Newton method (**Newton-CG**\n",
    "      or **TCG**).\n",
    "\n",
    "- - If you have noisy measurements\n",
    "\n",
    "  - - Use **Nelder-Mead** or **Powell**.\n",
    "\n",
    ":::"
   ]
  },
  {
   "cell_type": "markdown",
   "id": "e71b4dbd",
   "metadata": {},
   "source": [
    "### Making your optimizer faster\n",
    "\n",
    "- Choose the right method (see above), do compute analytically the\n",
    "  gradient and Hessian, if you can.\n",
    "- Use [preconditionning](https://en.wikipedia.org/wiki/Preconditioner)\n",
    "  when possible.\n",
    "- Choose your initialization points wisely. For instance, if you are\n",
    "  running many similar optimizations, warm-restart one with the results of\n",
    "  another.\n",
    "- Relax the tolerance if you don't need precision using the parameter `tol`."
   ]
  },
  {
   "cell_type": "markdown",
   "id": "000bba7f",
   "metadata": {},
   "source": [
    "### Computing gradients\n",
    "\n",
    "Computing gradients, and even more Hessians, is very tedious but worth\n",
    "the effort. Symbolic computation with {ref}`Sympy <sympy>` may come in\n",
    "handy.\n",
    "\n",
    "**Warning**\n",
    "\n",
    "A _very_ common source of optimization not converging well is human\n",
    "error in the computation of the gradient. You can use\n",
    "{func}`scipy.optimize.check_grad` to check that your gradient is\n",
    "correct. It returns the norm of the different between the gradient\n",
    "given, and a gradient computed numerically:"
   ]
  },
  {
   "cell_type": "code",
   "execution_count": null,
   "id": "769f0ed1",
   "metadata": {},
   "outputs": [],
   "source": [
    "sp.optimize.check_grad(f, jacobian, [2, -1])"
   ]
  },
  {
   "cell_type": "markdown",
   "id": "4e62827a",
   "metadata": {},
   "source": [
    "See also {func}`scipy.optimize.approx_fprime` to find your errors."
   ]
  },
  {
   "cell_type": "markdown",
   "id": "f6a34cfb",
   "metadata": {},
   "source": [
    "### Synthetic exercises\n",
    "\n",
    "**A simple (?) quadratic function**\n",
    "\n",
    "**Start of exercise**\n",
    "\n",
    "Optimize the following function, using K[0] as a starting point:"
   ]
  },
  {
   "cell_type": "code",
   "execution_count": null,
   "id": "0b480f87",
   "metadata": {},
   "outputs": [],
   "source": [
    "rng = np.random.default_rng(27446968)\n",
    "K = rng.normal(size=(100, 100))\n",
    "\n",
    "def f(x):\n",
    "    return np.sum((K @ (x - 1))**2) + np.sum(x**2)**2"
   ]
  },
  {
   "cell_type": "markdown",
   "id": "e3d6953c",
   "metadata": {},
   "source": [
    "Time your approach. Find the fastest approach. Why is BFGS not\n",
    "working well?\n",
    "\n",
    "**End of exercise**\n",
    "\n",
    "\n",
    "**See the [corresponding page](/scipy-lecture-notes/advanced/mathematical_optimization/index.html) for solution**\n",
    "\n",
    "**A locally flat minimum**\n",
    "\n",
    "**Start of exercise**\n",
    "\n",
    "Consider the function `exp(-1/(.1*x**2 + y**2)`. This function admits\n",
    "a minimum in (0, 0). Starting from an initialization at (1, 1), try\n",
    "to get within 1e-8 of this minimum point.\n",
    "\n",
    "This exercise is hard because the function is very flat around the minimum\n",
    "(all its derivatives are zero). Thus gradient information is unreliable.\n",
    "\n",
    "**End of exercise**\n",
    "\n",
    "\n",
    "**See the [corresponding page](/scipy-lecture-notes/advanced/mathematical_optimization/index.html) for solution**"
   ]
  },
  {
   "cell_type": "markdown",
   "id": "a18ebd2c",
   "metadata": {},
   "source": [
    "## Special case: non-linear least-squares"
   ]
  },
  {
   "cell_type": "markdown",
   "id": "daeaa8e7",
   "metadata": {},
   "source": [
    "### Minimizing the norm of a vector function\n",
    "\n",
    "Least square problems, minimizing the norm of a vector function, have a\n",
    "specific structure that can be used in the [Levenberg–Marquardt algorithm](https://en.wikipedia.org/wiki/Levenberg-Marquardt_algorithm)\n",
    "implemented in {func}`scipy.optimize.leastsq`.\n",
    "\n",
    "Lets try to minimize the norm of the following vectorial function:"
   ]
  },
  {
   "cell_type": "code",
   "execution_count": null,
   "id": "4d1c1424",
   "metadata": {},
   "outputs": [],
   "source": [
    "def f(x):\n",
    "    return np.arctan(x) - np.arctan(np.linspace(0, 1, len(x)))"
   ]
  },
  {
   "cell_type": "code",
   "execution_count": null,
   "id": "be3ac344",
   "metadata": {},
   "outputs": [],
   "source": [
    "x0 = np.zeros(10)\n",
    "sp.optimize.leastsq(f, x0)"
   ]
  },
  {
   "cell_type": "markdown",
   "id": "f546034e",
   "metadata": {},
   "source": [
    "This took 67 function evaluations (check it with 'full_output=True'). What\n",
    "if we compute the norm ourselves and use a good generic optimizer (BFGS):"
   ]
  },
  {
   "cell_type": "code",
   "execution_count": null,
   "id": "da5af026",
   "metadata": {},
   "outputs": [],
   "source": [
    "def g(x):\n",
    "    return np.sum(f(x)**2)\n",
    "\n",
    "result = sp.optimize.minimize(g, x0, method=\"BFGS\")\n",
    "result.fun"
   ]
  },
  {
   "cell_type": "markdown",
   "id": "36481f38",
   "metadata": {},
   "source": [
    "BFGS needs more function calls, and gives a less precise result.\n",
    "\n",
    ":::{note}\n",
    "`leastsq` is interesting compared to BFGS only if the\n",
    "dimensionality of the output vector is large, and larger than the number\n",
    "of parameters to optimize.\n",
    ":::\n",
    "\n",
    ":::{warning}\n",
    "If the function is linear, this is a linear-algebra problem, and\n",
    "should be solved with {func}`scipy.linalg.lstsq`.\n",
    ":::"
   ]
  },
  {
   "cell_type": "markdown",
   "id": "1a498f9c",
   "metadata": {},
   "source": [
    "### Curve fitting\n",
    "\n",
    "Least square problems occur often when fitting a non-linear to data.\n",
    "While it is possible to construct our optimization problem ourselves,\n",
    "SciPy provides a helper function for this purpose:\n",
    "{func}`scipy.optimize.curve_fit`:"
   ]
  },
  {
   "cell_type": "code",
   "execution_count": null,
   "id": "cf96178a",
   "metadata": {},
   "outputs": [],
   "source": [
    "def f(t, omega, phi):\n",
    "    return np.cos(omega * t + phi)"
   ]
  },
  {
   "cell_type": "code",
   "execution_count": null,
   "id": "1c2bc870",
   "metadata": {},
   "outputs": [],
   "source": [
    "x = np.linspace(0, 3, 50)\n",
    "rng = np.random.default_rng(27446968)\n",
    "y = f(x, 1.5, 1) + .1*rng.normal(size=50)"
   ]
  },
  {
   "cell_type": "code",
   "execution_count": null,
   "id": "93d63471",
   "metadata": {},
   "outputs": [],
   "source": [
    "sp.optimize.curve_fit(f, x, y)"
   ]
  },
  {
   "cell_type": "code",
   "execution_count": null,
   "id": "685d8510",
   "metadata": {
    "tags": [
     "hide-input"
    ]
   },
   "outputs": [],
   "source": [
    "rng = np.random.default_rng(27446968)\n",
    "\n",
    "\n",
    "# Our test function\n",
    "def f(t, omega, phi):\n",
    "    return np.cos(omega * t + phi)\n",
    "\n",
    "\n",
    "# Our x and y data\n",
    "x = np.linspace(0, 3, 50)\n",
    "y = f(x, 1.5, 1) + 0.1 * np.random.normal(size=50)\n",
    "\n",
    "# Fit the model: the parameters omega and phi can be found in the\n",
    "# `params` vector\n",
    "params, params_cov = sp.optimize.curve_fit(f, x, y)\n",
    "\n",
    "# plot the data and the fitted curve\n",
    "t = np.linspace(0, 3, 1000)\n",
    "\n",
    "plt.plot(x, y, \"bx\")\n",
    "plt.plot(t, f(t, *params), \"r-\");"
   ]
  },
  {
   "cell_type": "markdown",
   "id": "383a7cfa",
   "metadata": {},
   "source": [
    "**Start of exercise**\n",
    "\n",
    "Do the same with omega = 3. What is the difficulty?\n",
    "\n",
    "**End of exercise**"
   ]
  },
  {
   "cell_type": "markdown",
   "id": "2f2f3352",
   "metadata": {},
   "source": [
    "## Optimization with constraints"
   ]
  },
  {
   "cell_type": "markdown",
   "id": "8e4a07d8",
   "metadata": {},
   "source": [
    "### Box bounds\n",
    "\n",
    "Box bounds correspond to limiting each of the individual parameters of\n",
    "the optimization. Note that some problems that are not originally written\n",
    "as box bounds can be rewritten as such via change of variables. Both\n",
    "{func}`scipy.optimize.minimize_scalar` and {func}`scipy.optimize.minimize`\n",
    "support bound constraints with the parameter `bounds`:"
   ]
  },
  {
   "cell_type": "code",
   "execution_count": null,
   "id": "f989e311",
   "metadata": {},
   "outputs": [],
   "source": [
    "def f(x):\n",
    "    return np.sqrt((x[0] - 3)**2 + (x[1] - 2)**2)\n",
    "\n",
    "sp.optimize.minimize(f, np.array([0, 0]), bounds=((-1.5, 1.5), (-1.5, 1.5)))"
   ]
  },
  {
   "cell_type": "markdown",
   "id": "0bd62a4b",
   "metadata": {},
   "source": [
    "(Ref to `constraints_path` in \"optimization_examples.md\")\n",
    "::: {admonition} Plot code\n",
    ":class: dropdown\n",
    "\n",
    "See [constraint plots](constraints-eg).\n",
    "\n",
    ":::"
   ]
  },
  {
   "cell_type": "markdown",
   "id": "25422b07",
   "metadata": {},
   "source": [
    "### General constraints\n",
    "\n",
    "Equality and inequality constraints specified as functions: $f(x) = 0$\n",
    "and $g(x) < 0$."
   ]
  },
  {
   "cell_type": "markdown",
   "id": "0add3dc9",
   "metadata": {},
   "source": [
    "#### {func}`scipy.optimize.fmin_slsqp` Sequential least square programming: equality and inequality constraints\n",
    "\n",
    "(Ref to `constraints_non_bounds` in \"optimization_examples.md\")\n",
    "::: {admonition} Plot code\n",
    ":class: dropdown\n",
    "\n",
    "See [constraint non-bounds](constraints-non-bounds-eg).\n",
    "\n",
    ":::"
   ]
  },
  {
   "cell_type": "code",
   "execution_count": null,
   "id": "9ba1bac1",
   "metadata": {},
   "outputs": [],
   "source": [
    "def f(x):\n",
    "    return np.sqrt((x[0] - 3)**2 + (x[1] - 2)**2)"
   ]
  },
  {
   "cell_type": "code",
   "execution_count": null,
   "id": "3d209959",
   "metadata": {},
   "outputs": [],
   "source": [
    "def constraint(x):\n",
    "    return np.atleast_1d(1.5 - np.sum(np.abs(x)))"
   ]
  },
  {
   "cell_type": "code",
   "execution_count": null,
   "id": "9929d0f1",
   "metadata": {},
   "outputs": [],
   "source": [
    "x0 = np.array([0, 0])\n",
    "sp.optimize.minimize(f, x0, constraints={\"fun\": constraint, \"type\": \"ineq\"})"
   ]
  },
  {
   "cell_type": "markdown",
   "id": "a2820f90",
   "metadata": {},
   "source": [
    ":::{warning}\n",
    "The above problem is known as the [Lasso](<https://en.wikipedia.org/wiki/Lasso_(statistics)>)\n",
    "problem in statistics, and there exist very efficient solvers for it\n",
    "(for instance in [scikit-learn](https://scikit-learn.org)). In\n",
    "general do not use generic solvers when specific ones exist.\n",
    "\n",
    ":::\n",
    "\n",
    ":::{admonition} Lagrange multipliers\n",
    "If you are ready to do a bit of math, many constrained optimization\n",
    "problems can be converted to non-constrained optimization problems\n",
    "using a mathematical trick known as [Lagrange multipliers](https://en.wikipedia.org/wiki/Lagrange_multiplier).\n",
    "\n",
    ":::"
   ]
  },
  {
   "cell_type": "markdown",
   "id": "cd92dc24",
   "metadata": {},
   "source": [
    ":::{admonition} See also\n",
    "\n",
    "**Other Software**\n",
    "\n",
    "SciPy tries to include the best well-established, general-use,\n",
    "and permissively-licensed optimization algorithms available. However,\n",
    "even better options for a given task may be available in other libraries;\n",
    "please also see [IPOPT] and [PyGMO].\n",
    "\n",
    ":::\n",
    "\n",
    "[ipopt]: https://github.com/xuy/pyipopt\n",
    "[pygmo]: https://esa.github.io/pygmo2/"
   ]
  }
 ],
 "metadata": {
  "jupytext": {
   "notebook_metadata_filter": "all,-language_info",
   "split_at_heading": true
  },
  "kernelspec": {
   "display_name": "Python (Pyodide)",
   "name": "python"
  }
 },
 "nbformat": 4,
 "nbformat_minor": 5
}
