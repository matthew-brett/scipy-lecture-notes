{
 "cells": [
  {
   "cell_type": "markdown",
   "id": "be8bbdfa",
   "metadata": {},
   "source": [
    "(mathematical-optimization)="
   ]
  },
  {
   "cell_type": "markdown",
   "id": "3b842959",
   "metadata": {},
   "source": [
    "# Mathematical optimization: finding minima of functions"
   ]
  },
  {
   "cell_type": "code",
   "execution_count": null,
   "id": "8a074b57",
   "metadata": {
    "tags": [
     "hide-input"
    ]
   },
   "outputs": [],
   "source": [
    "import numpy as np\n",
    "import matplotlib.pyplot as plt\n",
    "import scipy as sp"
   ]
  },
  {
   "cell_type": "markdown",
   "id": "082a90ed",
   "metadata": {},
   "source": [
    "**Authors**: _Gaël Varoquaux_\n",
    "\n",
    "[Mathematical optimization](https://en.wikipedia.org/wiki/Mathematical_optimization) deals with the\n",
    "problem of finding numerically minimums (or maximums or zeros) of\n",
    "a function. In this context, the function is called _cost function_, or\n",
    "_objective function_, or _energy_.\n",
    "\n",
    "Here, we are interested in using {mod}`scipy.optimize` for black-box\n",
    "optimization: we do not rely on the mathematical expression of the\n",
    "function that we are optimizing. Note that this expression can often be\n",
    "used for more efficient, non black-box, optimization.\n",
    "\n",
    ":::{admonition} Prerequisites\n",
    "\n",
    "- {ref}`NumPy <numpy>`\n",
    "- {ref}`SciPy <scipy>`\n",
    "- {ref}`Matplotlib <matplotlib>`\n",
    "\n",
    ":::\n",
    "\n",
    ":::{admonition} See also\n",
    "\n",
    "**References**\n",
    "\n",
    "Mathematical optimization is very ... mathematical. If you want\n",
    "performance, it really pays to read the books:\n",
    "\n",
    "- [Convex Optimization](https://web.stanford.edu/~boyd/cvxbook/)\n",
    "  by Boyd and Vandenberghe (pdf available free online).\n",
    "- [Numerical\n",
    "  Optimization](https://users.eecs.northwestern.edu/~nocedal/book/num-opt.html)\n",
    "  by Nocedal and Wright. Detailed reference on gradient descent methods.\n",
    "- [Practical Methods of\n",
    "  Optimization](https://www.amazon.com/gp/product/0471494631/ref=ox_sc_act_title_1?ie=UTF8&smid=ATVPDKIKX0DER)\n",
    "  by Fletcher. Good at hand-waving explanations.\n",
    "\n",
    ":::\n",
    "\n",
    "<!---\n",
    "XXX: should I discuss root finding?\n",
    "-->"
   ]
  },
  {
   "cell_type": "markdown",
   "id": "543a0b71",
   "metadata": {},
   "source": [
    "## Knowing your problem\n",
    "\n",
    "Not all optimization problems are equal. Knowing your problem enables you\n",
    "to choose the right tool.\n",
    "\n",
    ":::{admonition} Dimensionality of the problem\n",
    "The scale of an optimization problem is pretty much set by the\n",
    "_dimensionality of the problem_, i.e. the number of scalar variables\n",
    "on which the search is performed.\n",
    "\n",
    ":::"
   ]
  },
  {
   "cell_type": "markdown",
   "id": "c834cfe3",
   "metadata": {},
   "source": [
    "### Convex versus non-convex optimization"
   ]
  },
  {
   "cell_type": "markdown",
   "id": "5743903a",
   "metadata": {},
   "source": [
    "::: {list-table}\n",
    "\n",
    "- - `convex_func`\n",
    "  - `non_convex_func`\n",
    "- - **A convex function**:\n",
    "\n",
    "    - $f$ is above all its tangents.\n",
    "    - Equivalently, for two points $A, B$, $f(C)$ lies below the segment\n",
    "      $[f(A), f(B])]$, if $A < C < B$.\n",
    "\n",
    "  - **A non-convex function**\n",
    "\n",
    ":::\n",
    "\n",
    "::: {admonition} Plot code\n",
    ":class: dropdown\n",
    "\n",
    "See [convex, non-convex function plots](convex-function-eg).\n",
    "\n",
    ":::\n",
    "\n",
    "**Optimizing convex functions is easy. Optimizing non-convex functions can\n",
    "be very hard.**\n",
    "\n",
    ":::{note}\n",
    "It can be proven that for a convex function a local minimum is\n",
    "also a global minimum. Then, in some sense, the minimum is unique.\n",
    ":::"
   ]
  },
  {
   "cell_type": "markdown",
   "id": "37b4b338",
   "metadata": {},
   "source": [
    "### Smooth and non-smooth problems\n",
    "\n",
    "::: {list-table}\n",
    "\n",
    "- - `smooth_func`\n",
    "  - `non_smooth_func`\n",
    "- - **A smooth function**:\n",
    "\n",
    "    The gradient is defined everywhere, and is a continuous function\n",
    "\n",
    "  - **A non-smooth function**\n",
    "\n",
    ":::\n",
    "\n",
    "::: {admonition} Plot code\n",
    ":class: dropdown\n",
    "\n",
    "See [smooth, non-smooth function plots](smooth-function-eg).\n",
    "\n",
    ":::"
   ]
  },
  {
   "cell_type": "markdown",
   "id": "7f06e7f1",
   "metadata": {},
   "source": [
    "**Optimizing smooth functions is easier**\n",
    "(true in the context of _black-box_ optimization, otherwise\n",
    "[Linear Programming](https://en.wikipedia.org/wiki/Linear_programming)\n",
    "is an example of methods which deal very efficiently with\n",
    "piece-wise linear functions)."
   ]
  },
  {
   "cell_type": "markdown",
   "id": "d022b255",
   "metadata": {},
   "source": [
    "### Noisy versus exact cost functions\n",
    "\n",
    "::: {list-table}\n",
    "\n",
    "- - Noisy (blue) and non-noisy (orange) functions\n",
    "  - `noisy_non_noisy`\n",
    ":::\n",
    "\n",
    "::: {admonition} Plot code\n",
    ":class: dropdown\n",
    "\n",
    "See [noisy, non-noisy function plots](noisy-non-noisy-eg).\n",
    "\n",
    ":::\n",
    "\n",
    ":::{admonition} Noisy gradients\n",
    "Many optimization methods rely on gradients of the objective function.\n",
    "If the gradient function is not given, they are computed numerically,\n",
    "which induces errors. In such situation, even if the objective\n",
    "function is not noisy, a gradient-based optimization may be a noisy\n",
    "optimization.\n",
    ":::"
   ]
  },
  {
   "cell_type": "markdown",
   "id": "e5710c46",
   "metadata": {},
   "source": [
    "### Constraints\n",
    "\n",
    "::: {list-table}\n",
    "\n",
    "- - Optimizations under constraints\n",
    "\n",
    "    Here:\n",
    "\n",
    "    $-1 < x_1 < 1$\n",
    "\n",
    "    $-1 < x_2 < 1$\n",
    "\n",
    "  - `constraints_no_path`\n",
    ":::\n",
    "\n",
    "::: {admonition} Plot code\n",
    ":class: dropdown\n",
    "\n",
    "See [constraint plots](constraints-eg).\n",
    "\n",
    ":::"
   ]
  },
  {
   "cell_type": "markdown",
   "id": "46f6e287",
   "metadata": {},
   "source": [
    "## A review of the different optimizers"
   ]
  },
  {
   "cell_type": "markdown",
   "id": "14fcfef0",
   "metadata": {},
   "source": [
    "### Getting started: 1D optimization\n",
    "\n",
    "Let's get started by finding the minimum of the scalar function\n",
    "$f(x)=\\exp[(x-0.5)^2]$. {func}`scipy.optimize.minimize_scalar` uses\n",
    "Brent's method to find the minimum of a function:"
   ]
  },
  {
   "cell_type": "code",
   "execution_count": null,
   "id": "2b88e50b",
   "metadata": {},
   "outputs": [],
   "source": [
    "def f(x):\n",
    "    return -np.exp(-(x - 0.5)**2)\n",
    "\n",
    "result = sp.optimize.minimize_scalar(f)\n",
    "result.success # check if solver was successful"
   ]
  },
  {
   "cell_type": "code",
   "execution_count": null,
   "id": "00de1ee5",
   "metadata": {},
   "outputs": [],
   "source": [
    "x_min = result.x\n",
    "x_min"
   ]
  },
  {
   "cell_type": "code",
   "execution_count": null,
   "id": "d5dc5b16",
   "metadata": {},
   "outputs": [],
   "source": [
    "x_min - 0.5"
   ]
  },
  {
   "cell_type": "markdown",
   "id": "03a97fe3",
   "metadata": {},
   "source": [
    "::: {list-table} **Brent's method on a quadratic function**: it converges in 3 iterations, as the quadratic approximation is then exact.\n",
    "\n",
    "- - `brent_epsilon_0_func`\n",
    "  - `brent_epsilon_0_err`\n",
    ":::\n",
    "\n",
    "::: {list-table} **Brent's method on a non-convex function**: note that the fact that the optimizer avoided the local minimum is a matter of luck.\n",
    "\n",
    "- - `brent_epsilon_1_func`\n",
    "  - `brent_epsilon_1_err`\n",
    ":::\n",
    "\n",
    "::: {admonition} Plot code\n",
    ":class: dropdown\n",
    "\n",
    "See [Brent's method figures](brents-method-eg).\n",
    "\n",
    ":::\n",
    "\n",
    ":::{note}\n",
    "\n",
    "You can use different solvers using the parameter `method`.\n",
    "\n",
    ":::\n",
    "\n",
    ":::{note}\n",
    "\n",
    "{func}`scipy.optimize.minimize_scalar` can also be used for optimization\n",
    "constrained to an interval using the parameter `bounds`.\n",
    "\n",
    ":::"
   ]
  },
  {
   "cell_type": "markdown",
   "id": "444f5c67",
   "metadata": {},
   "source": [
    "### Gradient based methods"
   ]
  },
  {
   "cell_type": "markdown",
   "id": "6eae6444",
   "metadata": {},
   "source": [
    "#### Some intuitions about gradient descent\n",
    "\n",
    "Here we focus on **intuitions**, not code. Code will follow.\n",
    "\n",
    "[Gradient descent](https://en.wikipedia.org/wiki/Gradient_descent)\n",
    "basically consists in taking small steps in the direction of the\n",
    "gradient, that is the direction of the _steepest descent_."
   ]
  },
  {
   "cell_type": "markdown",
   "id": "9360f8f7",
   "metadata": {},
   "source": [
    "::: {list-table} Fixed step gradient descent\n",
    "\n",
    "- - **A well-conditioned quadratic function.**\n",
    "\n",
    "  - `gradient_descent_q_07_gd_func`\n",
    "  - `gradient_descent_q_07_gd_err`\n",
    "- - **An ill-conditioned quadratic function.**\n",
    "\n",
    "    The core problem of gradient-methods on ill-conditioned problems is\n",
    "    that the gradient tends not to point in the direction of the\n",
    "    minimum.\n",
    "\n",
    "  - `gradient_descent_q_002_gd_func`\n",
    "  - `gradient_descent_q_002_gd_err`\n",
    ":::\n",
    "\n",
    "::: {admonition} Plot code\n",
    ":class: dropdown\n",
    "\n",
    "See [gradient descent plots](gradient-descent-eg).\n",
    "\n",
    ":::\n",
    "\n",
    "We can see that very anisotropic ([ill-conditioned](https://en.wikipedia.org/wiki/Condition_number)) functions are harder\n",
    "to optimize.\n",
    "\n",
    ":::{admonition} Take home message: conditioning number and preconditioning\n",
    "If you know natural scaling for your variables, prescale them so that\n",
    "they behave similarly. This is related to [preconditioning](https://en.wikipedia.org/wiki/Preconditioner).\n",
    ":::\n",
    "\n",
    "Also, it clearly can be advantageous to take bigger steps. This\n",
    "is done in gradient descent code using a\n",
    "[line search](https://en.wikipedia.org/wiki/Line_search).\n",
    "\n",
    "::: {list-table} Adaptive step gradient descent\n",
    "\n",
    "- - A well-conditioned quadratic function.\n",
    "\n",
    "  - `gradient_descent_q_07_gda_func`\n",
    "  - `gradient_descent_q_07_gda_err`\n",
    "- - An ill-conditioned quadratic function.\n",
    "\n",
    "  - `gradient_descent_q_002_gda_func`\n",
    "  - `gradient_descent_q_002_gda_err`\n",
    "- - An ill-conditioned non-quadratic function.\n",
    "\n",
    "  - `gradient_descent_g_002_gda_func`\n",
    "  - `gradient_descent_g_002_gda_err`\n",
    "- - An ill-conditioned very non-quadratic function.\n",
    "\n",
    "  - `gradient_descent_rb_gda_func`\n",
    "  - `gradient_descent_rb_gda_err`\n",
    ":::\n",
    "\n",
    "::: {admonition} Plot code\n",
    ":class: dropdown\n",
    "\n",
    "See [gradient descent plots](gradient-descent-eg).\n",
    "\n",
    ":::\n",
    "\n",
    "The more a function looks like a quadratic function (elliptic\n",
    "iso-curves), the easier it is to optimize."
   ]
  },
  {
   "cell_type": "markdown",
   "id": "45d2f4be",
   "metadata": {},
   "source": [
    "#### Conjugate gradient descent\n",
    "\n",
    "The gradient descent algorithms above are toys not to be used on real\n",
    "problems.\n",
    "\n",
    "As can be seen from the above experiments, one of the problems of the\n",
    "simple gradient descent algorithms, is that it tends to oscillate across\n",
    "a valley, each time following the direction of the gradient, that makes\n",
    "it cross the valley. The conjugate gradient solves this problem by adding\n",
    "a _friction_ term: each step depends on the two last values of the\n",
    "gradient and sharp turns are reduced.\n",
    "\n",
    "::: {list-table} Conjugate gradient descent\n",
    "\n",
    "- - An ill-conditioned non-quadratic function.\n",
    "\n",
    "  - `gradient_descent_g_002_cg_func`\n",
    "  - `gradient_descent_g_002_cg_err`\n",
    "- - An ill-conditioned very non-quadratic function.\n",
    "\n",
    "  - `gradient_descent_rb_cg_func`\n",
    "  - `gradient_descent_rb_cg_err`\n",
    ":::\n",
    "\n",
    "::: {admonition} Plot code\n",
    ":class: dropdown\n",
    "\n",
    "See [gradient descent plots](gradient-descent-eg).\n",
    "\n",
    ":::\n",
    "\n",
    "SciPy provides {func}`scipy.optimize.minimize` to find the minimum of scalar\n",
    "functions of one or more variables. The simple conjugate gradient method can\n",
    "be used by setting the parameter `method` to CG"
   ]
  },
  {
   "cell_type": "code",
   "execution_count": null,
   "id": "4b95cf9e",
   "metadata": {},
   "outputs": [],
   "source": [
    "def f(x):   # The rosenbrock function\n",
    "    return .5*(1 - x[0])**2 + (x[1] - x[0]**2)**2\n",
    "\n",
    "sp.optimize.minimize(f, [2, -1], method=\"CG\")"
   ]
  },
  {
   "cell_type": "markdown",
   "id": "499f4686",
   "metadata": {},
   "source": [
    "Gradient methods need the Jacobian (gradient) of the function. They can\n",
    "compute it numerically, but will perform better if you can pass them the\n",
    "gradient:"
   ]
  },
  {
   "cell_type": "code",
   "execution_count": null,
   "id": "09273382",
   "metadata": {},
   "outputs": [],
   "source": [
    "def jacobian(x):\n",
    "    return np.array((-2*.5*(1 - x[0]) - 4*x[0]*(x[1] - x[0]**2), 2*(x[1] - x[0]**2)))\n",
    "\n",
    "sp.optimize.minimize(f, [2, 1], method=\"CG\", jac=jacobian)"
   ]
  },
  {
   "cell_type": "markdown",
   "id": "8d746d67",
   "metadata": {},
   "source": [
    "Note that the function has only been evaluated 27 times, compared to 108\n",
    "without the gradient."
   ]
  },
  {
   "cell_type": "markdown",
   "id": "bd3b4ff0",
   "metadata": {},
   "source": [
    "### Newton and quasi-newton methods"
   ]
  },
  {
   "cell_type": "markdown",
   "id": "5290ab69",
   "metadata": {},
   "source": [
    "#### Newton methods: using the Hessian (2nd differential)\n",
    "\n",
    "[Newton methods](https://en.wikipedia.org/wiki/Newton%27s_method_in_optimization) use a\n",
    "local quadratic approximation to compute the jump direction. For this\n",
    "purpose, they rely on the 2 first derivative of the function: the\n",
    "_gradient_ and the [Hessian](https://en.wikipedia.org/wiki/Hessian_matrix).\n",
    "\n",
    "::: {list-table}\n",
    "\n",
    "- - **An ill-conditioned quadratic function:**\n",
    "\n",
    "    Note that, as the quadratic approximation is exact, the Newton\n",
    "    method is blazing fast\n",
    "\n",
    "  - `gradient_descent_q_002_ncg_func`\n",
    "  - `gradient_descent_q_002_ncg_err`\n",
    "- - **An ill-conditioned non-quadratic function:**\n",
    "\n",
    "    Here we are optimizing a Gaussian, which is always below its\n",
    "    quadratic approximation. As a result, the Newton method overshoots\n",
    "    and leads to oscillations.\n",
    "\n",
    "  - `gradient_descent_g_002_ncg_func`\n",
    "  - `gradient_descent_g_002_ncg_err`\n",
    "- - **An ill-conditioned very non-quadratic function:**\n",
    "\n",
    "  - `gradient_descent_rb_ncg_func`\n",
    "  - `gradient_descent_rb_ncg_err`\n",
    ":::\n",
    "\n",
    "::: {admonition} Plot code\n",
    ":class: dropdown\n",
    "\n",
    "See [gradient descent plots](gradient-descent-eg).\n",
    "\n",
    ":::\n",
    "\n",
    "In SciPy, you can use the Newton method by setting `method` to Newton-CG in\n",
    "{func}`scipy.optimize.minimize`. Here, CG refers to the fact that an internal\n",
    "inversion of the Hessian is performed by conjugate gradient."
   ]
  },
  {
   "cell_type": "code",
   "execution_count": null,
   "id": "3485ef4c",
   "metadata": {},
   "outputs": [],
   "source": [
    "def f(x):   # The rosenbrock function\n",
    "    return .5*(1 - x[0])**2 + (x[1] - x[0]**2)**2\n",
    "\n",
    "def jacobian(x):\n",
    "    return np.array((-2*.5*(1 - x[0]) - 4*x[0]*(x[1] - x[0]**2), 2*(x[1] - x[0]**2)))\n",
    "\n",
    "sp.optimize.minimize(f, [2,-1], method=\"Newton-CG\", jac=jacobian)"
   ]
  },
  {
   "cell_type": "markdown",
   "id": "5a6c0ff2",
   "metadata": {},
   "source": [
    "Note that compared to a conjugate gradient (above), Newton's method has\n",
    "required less function evaluations, but more gradient evaluations, as it\n",
    "uses it to approximate the Hessian. Let's compute the Hessian and pass it\n",
    "to the algorithm:"
   ]
  },
  {
   "cell_type": "code",
   "execution_count": null,
   "id": "89ae4112",
   "metadata": {},
   "outputs": [],
   "source": [
    "def hessian(x): # Computed with sympy\n",
    "    return np.array(((1 - 4*x[1] + 12*x[0]**2, -4*x[0]), (-4*x[0], 2)))\n",
    "\n",
    "sp.optimize.minimize(f, [2,-1], method=\"Newton-CG\", jac=jacobian, hess=hessian)"
   ]
  },
  {
   "cell_type": "markdown",
   "id": "0e20a246",
   "metadata": {},
   "source": [
    ":::{note}\n",
    "\n",
    "At very high-dimension, the inversion of the Hessian can be costly\n",
    "and unstable (large scale > 250).\n",
    "\n",
    ":::\n",
    "\n",
    ":::{note}\n",
    "Newton optimizers should not to be confused with Newton's root finding\n",
    "method, based on the same principles, {func}`scipy.optimize.newton`.\n",
    ":::\n",
    "\n",
    "(quasi-newton)="
   ]
  },
  {
   "cell_type": "markdown",
   "id": "eb2844e6",
   "metadata": {},
   "source": [
    "#### Quasi-Newton methods: approximating the Hessian on the fly\n",
    "\n",
    "**BFGS**: BFGS (Broyden-Fletcher-Goldfarb-Shanno algorithm) refines at\n",
    "each step an approximation of the Hessian.\n",
    "\n",
    "::: {list-table}\n",
    "\n",
    "- - **An ill-conditioned quadratic function:**\n",
    "\n",
    "    On a exactly quadratic function, BFGS is not as fast as Newton's\n",
    "    method, but still very fast.\n",
    "\n",
    "  - `gradient_descent_q_002_bgfs_func`\n",
    "  - `gradient_descent_q_002_bgfs_err`\n",
    "- - **An ill-conditioned non-quadratic function:**\n",
    "\n",
    "    Here BFGS does better than Newton, as its empirical estimate of the\n",
    "    curvature is better than that given by the Hessian.\n",
    "\n",
    "  - `gradient_descent_g_002_bgfs_func`\n",
    "  - `gradient_descent_g_002_bgfs_err`\n",
    "- - **An ill-conditioned very non-quadratic function:**\n",
    "\n",
    "  - `gradient_descent_rb_bgfs_func`\n",
    "  - `gradient_descent_rb_bgfs_err`\n",
    ":::\n",
    "\n",
    "::: {admonition} Plot code\n",
    ":class: dropdown\n",
    "\n",
    "See [gradient descent plots](gradient-descent-eg).\n",
    "\n",
    ":::"
   ]
  },
  {
   "cell_type": "code",
   "execution_count": null,
   "id": "cd8b15bb",
   "metadata": {},
   "outputs": [],
   "source": [
    "def f(x):   # The rosenbrock function\n",
    "    return .5*(1 - x[0])**2 + (x[1] - x[0]**2)**2\n",
    "\n",
    "def jacobian(x):\n",
    "    return np.array((-2*.5*(1 - x[0]) - 4*x[0]*(x[1] - x[0]**2), 2*(x[1] - x[0]**2)))\n",
    "\n",
    "sp.optimize.minimize(f, [2, -1], method=\"BFGS\", jac=jacobian)"
   ]
  },
  {
   "cell_type": "markdown",
   "id": "c96cd06f",
   "metadata": {},
   "source": [
    "**L-BFGS:** Limited-memory BFGS sits between BFGS and conjugate gradient: in\n",
    "very high dimensions (> 250) the Hessian matrix is too costly to compute and\n",
    "invert. L-BFGS keeps a low-rank version. In addition, box bounds are also\n",
    "supported by L-BFGS-B:"
   ]
  },
  {
   "cell_type": "code",
   "execution_count": null,
   "id": "dea354b7",
   "metadata": {},
   "outputs": [],
   "source": [
    "def f(x):   # The rosenbrock function\n",
    "    return .5*(1 - x[0])**2 + (x[1] - x[0]**2)**2\n",
    "\n",
    "def jacobian(x):\n",
    "    return np.array((-2*.5*(1 - x[0]) - 4*x[0]*(x[1] - x[0]**2), 2*(x[1] - x[0]**2)))\n",
    "\n",
    "sp.optimize.minimize(f, [2, 2], method=\"L-BFGS-B\", jac=jacobian)"
   ]
  },
  {
   "cell_type": "markdown",
   "id": "5b60d465",
   "metadata": {},
   "source": [
    "### Gradient-less methods"
   ]
  },
  {
   "cell_type": "markdown",
   "id": "743ee57a",
   "metadata": {},
   "source": [
    "#### A shooting method: the Powell algorithm\n",
    "\n",
    "Almost a gradient approach:\n",
    "\n",
    "::: {list-table}\n",
    "\n",
    "- - **An ill-conditioned quadratic function:**\n",
    "\n",
    "    Powell's method isn't too sensitive to local ill-conditionning in\n",
    "    low dimensions\n",
    "\n",
    "  - `gradient_descent_q_002_pow_func`\n",
    "  - `gradient_descent_q_002_pow_err`\n",
    "- - **An ill-conditioned very non-quadratic function:**\n",
    "\n",
    "  - `gradient_descent_rb_pow_func`\n",
    "  - `gradient_descent_rb_pow_err`\n",
    ":::\n",
    "\n",
    "::: {admonition} Plot code\n",
    ":class: dropdown\n",
    "\n",
    "See [gradient descent plots](gradient-descent-eg).\n",
    "\n",
    ":::"
   ]
  },
  {
   "cell_type": "markdown",
   "id": "b58ebe55",
   "metadata": {},
   "source": [
    "#### Simplex method: the Nelder-Mead\n",
    "\n",
    "The Nelder-Mead algorithms are a generalization of dichotomy approaches to\n",
    "high-dimensional spaces. The algorithm works by refining\n",
    "a [simplex](https://en.wikipedia.org/wiki/Simplex), the generalization of\n",
    "intervals and triangles to high-dimensional spaces, to bracket the minimum.\n",
    "\n",
    "**Strong points**: it is robust to noise, as it does not rely on\n",
    "computing gradients. Thus it can work on functions that are not locally\n",
    "smooth such as experimental data points, as long as they display a\n",
    "large-scale bell-shape behavior. However it is slower than gradient-based\n",
    "methods on smooth, non-noisy functions.\n",
    "\n",
    "::: {list-table}\n",
    "\n",
    "- - **An ill-conditioned non-quadratic function:**\n",
    "\n",
    "  - `gradient_descent_g_002_nm_func`\n",
    "  - `gradient_descent_g_002_nm_err`\n",
    "- - **An ill-conditioned very non-quadratic function:**\n",
    "\n",
    "  - `gradient_descent_rb_nm_func`\n",
    "  - `gradient_descent_rb_nm_err`\n",
    ":::\n",
    "\n",
    "::: {admonition} Plot code\n",
    ":class: dropdown\n",
    "\n",
    "See [gradient descent plots](gradient-descent-eg).\n",
    "\n",
    ":::\n",
    "\n",
    "Using the Nelder-Mead solver in {func}`scipy.optimize.minimize`:"
   ]
  },
  {
   "cell_type": "code",
   "execution_count": null,
   "id": "4e79c6f2",
   "metadata": {},
   "outputs": [],
   "source": [
    "def f(x):   # The rosenbrock function\n",
    "    return .5*(1 - x[0])**2 + (x[1] - x[0]**2)**2\n",
    "\n",
    "sp.optimize.minimize(f, [2, -1], method=\"Nelder-Mead\")"
   ]
  },
  {
   "cell_type": "markdown",
   "id": "1da27c06",
   "metadata": {},
   "source": [
    "### Global optimizers\n",
    "\n",
    "If your problem does not admit a unique local minimum (which can be hard\n",
    "to test unless the function is convex), and you do not have prior\n",
    "information to initialize the optimization close to the solution, you\n",
    "may need a global optimizer."
   ]
  },
  {
   "cell_type": "markdown",
   "id": "adf29843",
   "metadata": {},
   "source": [
    "#### Brute force: a grid search\n",
    "\n",
    "{func}`scipy.optimize.brute` evaluates the function on a given grid of\n",
    "parameters and returns the parameters corresponding to the minimum\n",
    "value. The parameters are specified with ranges given to\n",
    "{obj}`numpy.mgrid`. By default, 20 steps are taken in each direction:"
   ]
  },
  {
   "cell_type": "code",
   "execution_count": null,
   "id": "4ab8eb2c",
   "metadata": {},
   "outputs": [],
   "source": [
    "def f(x):   # The rosenbrock function\n",
    "    return .5*(1 - x[0])**2 + (x[1] - x[0]**2)**2\n",
    "\n",
    "sp.optimize.brute(f, ((-1, 2), (-1, 2)))"
   ]
  },
  {
   "cell_type": "markdown",
   "id": "7e555735",
   "metadata": {},
   "source": [
    "## Practical guide to optimization with SciPy"
   ]
  },
  {
   "cell_type": "markdown",
   "id": "142ba0fb",
   "metadata": {},
   "source": [
    "### Choosing a method\n",
    "\n",
    "All methods are exposed as the `method` argument of\n",
    "{func}`scipy.optimize.minimize`.\n",
    "\n",
    "`compare_optimizers`\n",
    "::: {admonition} Code for plot above\n",
    ":class: dropdown\n",
    "\n",
    "See [compare optimizers](compare-optimizers-eg).\n",
    "\n",
    ":::\n",
    "\n",
    "::: {list-table} Rules of thumb for choosing a method\n",
    "\n",
    "- - Without knowledge of the gradient\n",
    "\n",
    "  - - In general, prefer **BFGS** or **L-BFGS**, even if you have to\n",
    "      approximate numerically gradients. These are also the default if you\n",
    "      omit the parameter `method` - depending if the problem has constraints\n",
    "      or bounds.\n",
    "    - On well-conditioned problems, **Powell** and **Nelder-Mead**, both\n",
    "      gradient-free methods, work well in high dimension, but they collapse\n",
    "      for ill-conditioned problems.\n",
    "\n",
    "- - With knowledge of the gradient\n",
    "\n",
    "  - - **BFGS** or **L-BFGS**.\n",
    "    - Computational overhead of BFGS is larger than that L-BFGS, itself\n",
    "      larger than that of conjugate gradient. On the other side, BFGS usually\n",
    "      needs less function evaluations than CG. Thus conjugate gradient method\n",
    "      is better than BFGS at optimizing computationally cheap functions.\n",
    "\n",
    "- - With the Hessian\n",
    "\n",
    "  - - If you can compute the Hessian, prefer the Newton method (**Newton-CG**\n",
    "      or **TCG**).\n",
    "\n",
    "- - If you have noisy measurements\n",
    "\n",
    "  - - Use **Nelder-Mead** or **Powell**.\n",
    "\n",
    ":::"
   ]
  },
  {
   "cell_type": "markdown",
   "id": "db4c640f",
   "metadata": {},
   "source": [
    "### Making your optimizer faster\n",
    "\n",
    "- Choose the right method (see above), do compute analytically the\n",
    "  gradient and Hessian, if you can.\n",
    "- Use [preconditionning](https://en.wikipedia.org/wiki/Preconditioner)\n",
    "  when possible.\n",
    "- Choose your initialization points wisely. For instance, if you are\n",
    "  running many similar optimizations, warm-restart one with the results of\n",
    "  another.\n",
    "- Relax the tolerance if you don't need precision using the parameter `tol`."
   ]
  },
  {
   "cell_type": "markdown",
   "id": "16510c02",
   "metadata": {},
   "source": [
    "### Computing gradients\n",
    "\n",
    "Computing gradients, and even more Hessians, is very tedious but worth\n",
    "the effort. Symbolic computation with {ref}`Sympy <sympy>` may come in\n",
    "handy.\n",
    "\n",
    "**Warning**\n",
    "\n",
    "A _very_ common source of optimization not converging well is human\n",
    "error in the computation of the gradient. You can use\n",
    "{func}`scipy.optimize.check_grad` to check that your gradient is\n",
    "correct. It returns the norm of the different between the gradient\n",
    "given, and a gradient computed numerically:"
   ]
  },
  {
   "cell_type": "code",
   "execution_count": null,
   "id": "ede3553d",
   "metadata": {},
   "outputs": [],
   "source": [
    "sp.optimize.check_grad(f, jacobian, [2, -1])"
   ]
  },
  {
   "cell_type": "markdown",
   "id": "e3bab9ea",
   "metadata": {},
   "source": [
    "See also {func}`scipy.optimize.approx_fprime` to find your errors."
   ]
  },
  {
   "cell_type": "markdown",
   "id": "0bd52e71",
   "metadata": {},
   "source": [
    "### Synthetic exercises\n",
    "\n",
    "**A simple (?) quadratic function**\n",
    "\n",
    "**Start of exercise**\n",
    "\n",
    "Optimize the following function, using K[0] as a starting point:"
   ]
  },
  {
   "cell_type": "code",
   "execution_count": null,
   "id": "267f3dd8",
   "metadata": {},
   "outputs": [],
   "source": [
    "rng = np.random.default_rng(27446968)\n",
    "K = rng.normal(size=(100, 100))\n",
    "\n",
    "def f(x):\n",
    "    return np.sum((K @ (x - 1))**2) + np.sum(x**2)**2"
   ]
  },
  {
   "cell_type": "markdown",
   "id": "13f9c182",
   "metadata": {},
   "source": [
    "Time your approach. Find the fastest approach. Why is BFGS not\n",
    "working well?\n",
    "\n",
    "**End of exercise**\n",
    "\n",
    "\n",
    "**See the [corresponding page](/scipy-lecture-notes/advanced/mathematical_optimization/index.html) for solution**\n",
    "\n",
    "**A locally flat minimum**\n",
    "\n",
    "**Start of exercise**\n",
    "\n",
    "Consider the function `exp(-1/(.1*x**2 + y**2)`. This function admits\n",
    "a minimum in (0, 0). Starting from an initialization at (1, 1), try\n",
    "to get within 1e-8 of this minimum point.\n",
    "\n",
    "This exercise is hard because the function is very flat around the minimum\n",
    "(all its derivatives are zero). Thus gradient information is unreliable.\n",
    "\n",
    "**End of exercise**\n",
    "\n",
    "\n",
    "**See the [corresponding page](/scipy-lecture-notes/advanced/mathematical_optimization/index.html) for solution**"
   ]
  },
  {
   "cell_type": "markdown",
   "id": "6b830aac",
   "metadata": {},
   "source": [
    "## Special case: non-linear least-squares"
   ]
  },
  {
   "cell_type": "markdown",
   "id": "e2c69860",
   "metadata": {},
   "source": [
    "### Minimizing the norm of a vector function\n",
    "\n",
    "Least square problems, minimizing the norm of a vector function, have a\n",
    "specific structure that can be used in the [Levenberg–Marquardt algorithm](https://en.wikipedia.org/wiki/Levenberg-Marquardt_algorithm)\n",
    "implemented in {func}`scipy.optimize.leastsq`.\n",
    "\n",
    "Lets try to minimize the norm of the following vectorial function:"
   ]
  },
  {
   "cell_type": "code",
   "execution_count": null,
   "id": "77ff52dc",
   "metadata": {},
   "outputs": [],
   "source": [
    "def f(x):\n",
    "    return np.arctan(x) - np.arctan(np.linspace(0, 1, len(x)))"
   ]
  },
  {
   "cell_type": "code",
   "execution_count": null,
   "id": "85d89304",
   "metadata": {},
   "outputs": [],
   "source": [
    "x0 = np.zeros(10)\n",
    "sp.optimize.leastsq(f, x0)"
   ]
  },
  {
   "cell_type": "markdown",
   "id": "5cfce3e0",
   "metadata": {},
   "source": [
    "This took 67 function evaluations (check it with 'full_output=True'). What\n",
    "if we compute the norm ourselves and use a good generic optimizer (BFGS):"
   ]
  },
  {
   "cell_type": "code",
   "execution_count": null,
   "id": "774cf3e0",
   "metadata": {},
   "outputs": [],
   "source": [
    "def g(x):\n",
    "    return np.sum(f(x)**2)\n",
    "\n",
    "result = sp.optimize.minimize(g, x0, method=\"BFGS\")\n",
    "result.fun"
   ]
  },
  {
   "cell_type": "markdown",
   "id": "9982f5ed",
   "metadata": {},
   "source": [
    "BFGS needs more function calls, and gives a less precise result.\n",
    "\n",
    ":::{note}\n",
    "`leastsq` is interesting compared to BFGS only if the\n",
    "dimensionality of the output vector is large, and larger than the number\n",
    "of parameters to optimize.\n",
    ":::\n",
    "\n",
    ":::{warning}\n",
    "If the function is linear, this is a linear-algebra problem, and\n",
    "should be solved with {func}`scipy.linalg.lstsq`.\n",
    ":::"
   ]
  },
  {
   "cell_type": "markdown",
   "id": "64d48dc0",
   "metadata": {},
   "source": [
    "### Curve fitting\n",
    "\n",
    "Least square problems occur often when fitting a non-linear to data.\n",
    "While it is possible to construct our optimization problem ourselves,\n",
    "SciPy provides a helper function for this purpose:\n",
    "{func}`scipy.optimize.curve_fit`:"
   ]
  },
  {
   "cell_type": "code",
   "execution_count": null,
   "id": "b5ae0070",
   "metadata": {},
   "outputs": [],
   "source": [
    "def f(t, omega, phi):\n",
    "    return np.cos(omega * t + phi)"
   ]
  },
  {
   "cell_type": "code",
   "execution_count": null,
   "id": "54cef035",
   "metadata": {},
   "outputs": [],
   "source": [
    "x = np.linspace(0, 3, 50)\n",
    "rng = np.random.default_rng(27446968)\n",
    "y = f(x, 1.5, 1) + .1*rng.normal(size=50)"
   ]
  },
  {
   "cell_type": "code",
   "execution_count": null,
   "id": "f064c6f7",
   "metadata": {},
   "outputs": [],
   "source": [
    "sp.optimize.curve_fit(f, x, y)"
   ]
  },
  {
   "cell_type": "code",
   "execution_count": null,
   "id": "74fd5877",
   "metadata": {
    "tags": [
     "hide-input"
    ]
   },
   "outputs": [],
   "source": [
    "rng = np.random.default_rng(27446968)\n",
    "\n",
    "\n",
    "# Our test function\n",
    "def f(t, omega, phi):\n",
    "    return np.cos(omega * t + phi)\n",
    "\n",
    "\n",
    "# Our x and y data\n",
    "x = np.linspace(0, 3, 50)\n",
    "y = f(x, 1.5, 1) + 0.1 * np.random.normal(size=50)\n",
    "\n",
    "# Fit the model: the parameters omega and phi can be found in the\n",
    "# `params` vector\n",
    "params, params_cov = sp.optimize.curve_fit(f, x, y)\n",
    "\n",
    "# plot the data and the fitted curve\n",
    "t = np.linspace(0, 3, 1000)\n",
    "\n",
    "plt.plot(x, y, \"bx\")\n",
    "plt.plot(t, f(t, *params), \"r-\");"
   ]
  },
  {
   "cell_type": "markdown",
   "id": "ad036151",
   "metadata": {},
   "source": [
    "**Start of exercise**\n",
    "\n",
    "Do the same with omega = 3. What is the difficulty?\n",
    "\n",
    "**End of exercise**"
   ]
  },
  {
   "cell_type": "markdown",
   "id": "2f60f306",
   "metadata": {},
   "source": [
    "## Optimization with constraints"
   ]
  },
  {
   "cell_type": "markdown",
   "id": "156245da",
   "metadata": {},
   "source": [
    "### Box bounds\n",
    "\n",
    "Box bounds correspond to limiting each of the individual parameters of\n",
    "the optimization. Note that some problems that are not originally written\n",
    "as box bounds can be rewritten as such via change of variables. Both\n",
    "{func}`scipy.optimize.minimize_scalar` and {func}`scipy.optimize.minimize`\n",
    "support bound constraints with the parameter `bounds`:"
   ]
  },
  {
   "cell_type": "code",
   "execution_count": null,
   "id": "9f0155de",
   "metadata": {},
   "outputs": [],
   "source": [
    "def f(x):\n",
    "    return np.sqrt((x[0] - 3)**2 + (x[1] - 2)**2)\n",
    "\n",
    "sp.optimize.minimize(f, np.array([0, 0]), bounds=((-1.5, 1.5), (-1.5, 1.5)))"
   ]
  },
  {
   "cell_type": "markdown",
   "id": "bbb38c42",
   "metadata": {},
   "source": [
    "`constraints_path`\n",
    "::: {admonition} Plot code\n",
    ":class: dropdown\n",
    "\n",
    "See [constraint plots](constraints-eg).\n",
    "\n",
    ":::"
   ]
  },
  {
   "cell_type": "markdown",
   "id": "35aa4420",
   "metadata": {},
   "source": [
    "### General constraints\n",
    "\n",
    "Equality and inequality constraints specified as functions: $f(x) = 0$\n",
    "and $g(x) < 0$."
   ]
  },
  {
   "cell_type": "markdown",
   "id": "f1b5dce6",
   "metadata": {},
   "source": [
    "#### {func}`scipy.optimize.fmin_slsqp` Sequential least square programming: equality and inequality constraints\n",
    "\n",
    "`constraints_non_bounds`\n",
    "::: {admonition} Plot code\n",
    ":class: dropdown\n",
    "\n",
    "See [constraint non-bounds](constraints-non-bounds-eg).\n",
    "\n",
    ":::"
   ]
  },
  {
   "cell_type": "code",
   "execution_count": null,
   "id": "8d660cd8",
   "metadata": {},
   "outputs": [],
   "source": [
    "def f(x):\n",
    "    return np.sqrt((x[0] - 3)**2 + (x[1] - 2)**2)"
   ]
  },
  {
   "cell_type": "code",
   "execution_count": null,
   "id": "2eae4995",
   "metadata": {},
   "outputs": [],
   "source": [
    "def constraint(x):\n",
    "    return np.atleast_1d(1.5 - np.sum(np.abs(x)))"
   ]
  },
  {
   "cell_type": "code",
   "execution_count": null,
   "id": "9021f2bd",
   "metadata": {},
   "outputs": [],
   "source": [
    "x0 = np.array([0, 0])\n",
    "sp.optimize.minimize(f, x0, constraints={\"fun\": constraint, \"type\": \"ineq\"})"
   ]
  },
  {
   "cell_type": "markdown",
   "id": "1cb6378e",
   "metadata": {},
   "source": [
    ":::{warning}\n",
    "The above problem is known as the [Lasso](<https://en.wikipedia.org/wiki/Lasso_(statistics)>)\n",
    "problem in statistics, and there exist very efficient solvers for it\n",
    "(for instance in [scikit-learn](https://scikit-learn.org)). In\n",
    "general do not use generic solvers when specific ones exist.\n",
    "\n",
    ":::\n",
    "\n",
    ":::{admonition} Lagrange multipliers\n",
    "If you are ready to do a bit of math, many constrained optimization\n",
    "problems can be converted to non-constrained optimization problems\n",
    "using a mathematical trick known as [Lagrange multipliers](https://en.wikipedia.org/wiki/Lagrange_multiplier).\n",
    "\n",
    ":::"
   ]
  },
  {
   "cell_type": "markdown",
   "id": "cfebd244",
   "metadata": {},
   "source": [
    ":::{admonition} See also\n",
    "\n",
    "**Other Software**\n",
    "\n",
    "SciPy tries to include the best well-established, general-use,\n",
    "and permissively-licensed optimization algorithms available. However,\n",
    "even better options for a given task may be available in other libraries;\n",
    "please also see [IPOPT] and [PyGMO].\n",
    "\n",
    ":::\n",
    "\n",
    "[ipopt]: https://github.com/xuy/pyipopt\n",
    "[pygmo]: https://esa.github.io/pygmo2/"
   ]
  }
 ],
 "metadata": {
  "jupytext": {
   "notebook_metadata_filter": "all,-language_info",
   "split_at_heading": true
  },
  "kernelspec": {
   "display_name": "Python (Pyodide)",
   "name": "python"
  }
 },
 "nbformat": 4,
 "nbformat_minor": 5
}
