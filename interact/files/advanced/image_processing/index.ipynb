{
 "cells": [
  {
   "cell_type": "markdown",
   "id": "c7ae7933",
   "metadata": {},
   "source": [
    "# Image manipulation and processing using NumPy and SciPy\n",
    "\n",
    "**Authors**: _Emmanuelle Gouillart, Gaël Varoquaux_"
   ]
  },
  {
   "cell_type": "code",
   "execution_count": null,
   "id": "672843ad",
   "metadata": {
    "tags": [
     "hide-input"
    ]
   },
   "outputs": [],
   "source": [
    "# Our usual imports.\n",
    "import numpy as np\n",
    "import matplotlib.pyplot as plt"
   ]
  },
  {
   "cell_type": "markdown",
   "id": "461b019b",
   "metadata": {},
   "source": [
    "This section addresses basic image manipulation and processing using the\n",
    "core scientific modules NumPy and SciPy. Some of the operations covered\n",
    "by this tutorial may be useful for other kinds of multidimensional array\n",
    "processing than image processing. In particular, the submodule\n",
    "{mod}`scipy.ndimage` provides functions operating on n-dimensional NumPy\n",
    "arrays.\n",
    "\n",
    ":::{admonition} See also\n",
    "\n",
    "For more advanced image processing and image-specific routines, see the\n",
    "tutorial {ref}`scikit-image`, dedicated to the {mod}`skimage` module.\n",
    "\n",
    ":::\n",
    "\n",
    ":::{admonition} Image = 2-D numerical array\n",
    "(or 3-D: CT, MRI, 2D + time; 4-D, ...)\n",
    "\n",
    "Here, **image == NumPy array** `np.array`\n",
    "\n",
    ":::\n",
    "\n",
    "**Tools used in this tutorial**:\n",
    "\n",
    "- `numpy`: basic array manipulation\n",
    "- `scipy`: `scipy.ndimage` submodule dedicated to image processing\n",
    "  (n-dimensional images). See the [documentation](https://docs.scipy.org/doc/scipy/tutorial/ndimage.html):"
   ]
  },
  {
   "cell_type": "code",
   "execution_count": null,
   "id": "a79429bb",
   "metadata": {},
   "outputs": [],
   "source": [
    "import scipy as sp"
   ]
  },
  {
   "cell_type": "markdown",
   "id": "fd63b3c8",
   "metadata": {},
   "source": [
    "**Common tasks in image processing**:\n",
    "\n",
    "- Input/Output, displaying images\n",
    "- Basic manipulations: cropping, flipping, rotating, ...\n",
    "- Image filtering: denoising, sharpening\n",
    "- Image segmentation: labeling pixels corresponding to different objects\n",
    "- Classification\n",
    "- Feature extraction\n",
    "- Registration\n",
    "\n",
    "- ...\n",
    "\n",
    "## Opening and writing to image files\n",
    "\n",
    "Writing an array to an image file:"
   ]
  },
  {
   "cell_type": "code",
   "execution_count": null,
   "id": "0bdba29e",
   "metadata": {},
   "outputs": [],
   "source": [
    "import scipy as sp\n",
    "import imageio.v3 as iio\n",
    "\n",
    "f = sp.datasets.face()\n",
    "iio.imwrite(\"face.png\", f)  # uses the Image module (PIL)\n",
    "\n",
    "plt.imshow(f)"
   ]
  },
  {
   "cell_type": "code",
   "execution_count": null,
   "id": "77ae045c",
   "metadata": {},
   "outputs": [],
   "source": [
    "face = iio.imread('face.png')\n",
    "type(face)"
   ]
  },
  {
   "cell_type": "code",
   "execution_count": null,
   "id": "e2cd41a1",
   "metadata": {},
   "outputs": [],
   "source": [
    "face.shape, face.dtype"
   ]
  },
  {
   "cell_type": "markdown",
   "id": "7bb56c18",
   "metadata": {},
   "source": [
    "`dtype` is `uint8` for 8-bit images (0-255)\n",
    "\n",
    "Opening raw files (camera, 3-D images)"
   ]
  },
  {
   "cell_type": "code",
   "execution_count": null,
   "id": "41fe1287",
   "metadata": {},
   "outputs": [],
   "source": [
    "face.tofile('face.raw') # Create raw file\n",
    "face_from_raw = np.fromfile('face.raw', dtype=np.uint8)\n",
    "face_from_raw.shape\n",
    "face_from_raw.shape = (768, 1024, 3)"
   ]
  },
  {
   "cell_type": "markdown",
   "id": "6c35cb8f",
   "metadata": {},
   "source": [
    "Need to know the shape and dtype of the image (how to separate data\n",
    "bytes).\n",
    "\n",
    "For large data, use `np.memmap` for memory mapping:"
   ]
  },
  {
   "cell_type": "code",
   "execution_count": null,
   "id": "42794c9f",
   "metadata": {},
   "outputs": [],
   "source": [
    "face_memmap = np.memmap('face.raw', dtype=np.uint8, shape=(768, 1024, 3))"
   ]
  },
  {
   "cell_type": "markdown",
   "id": "43f3b569",
   "metadata": {},
   "source": [
    "(data are read from the file, and not loaded into memory)\n",
    "\n",
    "Working on a list of image files"
   ]
  },
  {
   "cell_type": "code",
   "execution_count": null,
   "id": "f9c71279",
   "metadata": {},
   "outputs": [],
   "source": [
    "rng = np.random.default_rng(27446968)\n",
    "for i in range(10):\n",
    "    im = rng.integers(0, 256, 10000, dtype=np.uint8).reshape((100, 100))\n",
    "    iio.imwrite(f'random_{i:02d}.png', im)\n",
    "from glob import glob\n",
    "filelist = sorted(glob('random*.png'))\n",
    "filelist"
   ]
  },
  {
   "cell_type": "markdown",
   "id": "7e982ba6",
   "metadata": {},
   "source": [
    "## Displaying images\n",
    "\n",
    "Use `matplotlib` and `imshow` to display an image inside a\n",
    "`matplotlib figure`:"
   ]
  },
  {
   "cell_type": "code",
   "execution_count": null,
   "id": "f8a0bf6b",
   "metadata": {},
   "outputs": [],
   "source": [
    "f = sp.datasets.face(gray=True)  # retrieve a grayscale image\n",
    "plt.imshow(f, cmap=plt.cm.gray)"
   ]
  },
  {
   "cell_type": "markdown",
   "id": "8a1887e4",
   "metadata": {},
   "source": [
    "Increase contrast by setting min and max values:"
   ]
  },
  {
   "cell_type": "code",
   "execution_count": null,
   "id": "5c7edcdb",
   "metadata": {},
   "outputs": [],
   "source": [
    "plt.imshow(f, cmap=plt.cm.gray, vmin=30, vmax=200)\n",
    "# Remove axes and ticks.\n",
    "# Semicolon ends line to suppress repr of Matplotlib objects.\n",
    "plt.axis('off');"
   ]
  },
  {
   "cell_type": "markdown",
   "id": "808d268e",
   "metadata": {},
   "source": [
    "Draw contour lines:"
   ]
  },
  {
   "cell_type": "code",
   "execution_count": null,
   "id": "d81c823b",
   "metadata": {},
   "outputs": [],
   "source": [
    "plt.imshow(f, cmap=plt.cm.gray, vmin=30, vmax=200)\n",
    "plt.contour(f, [50, 200])\n",
    "plt.axis('off');"
   ]
  },
  {
   "cell_type": "markdown",
   "id": "2994ea20",
   "metadata": {},
   "source": [
    "For smooth intensity variations, use `interpolation='bilinear'`. For fine inspection of intensity variations, use\n",
    "`interpolation='nearest'`:"
   ]
  },
  {
   "cell_type": "code",
   "execution_count": null,
   "id": "afd80385",
   "metadata": {},
   "outputs": [],
   "source": [
    "fix, axes = plt.subplots(1, 2)\n",
    "axes[0].imshow(f[320:340, 510:530], cmap=plt.cm.gray, interpolation='bilinear')\n",
    "axes[0].axis('off')\n",
    "axes[0].set_title('Bilinear interpolation')\n",
    "axes[1].imshow(f[320:340, 510:530], cmap=plt.cm.gray, interpolation='nearest')\n",
    "axes[1].set_title('Nearest interpolation')\n",
    "axes[1].axis('off');"
   ]
  },
  {
   "cell_type": "markdown",
   "id": "32486d6b",
   "metadata": {},
   "source": [
    ":::{admonition} See also\n",
    "\n",
    "More interpolation methods are in [Matplotlib's examples](https://matplotlib.org/examples/images_contours_and_fields/interpolation_methods.html).\n",
    ":::\n",
    "\n",
    "## Basic manipulations\n",
    "\n",
    "Images are arrays: use the whole `numpy` machinery.\n",
    "\n",
    "![](axis_convention.png)"
   ]
  },
  {
   "cell_type": "code",
   "execution_count": null,
   "id": "92ce8e8b",
   "metadata": {},
   "outputs": [],
   "source": [
    "face = sp.datasets.face(gray=True)\n",
    "face[0, 40]"
   ]
  },
  {
   "cell_type": "code",
   "execution_count": null,
   "id": "2140bfeb",
   "metadata": {},
   "outputs": [],
   "source": [
    "# Slicing\n",
    "face[10:13, 20:23]"
   ]
  },
  {
   "cell_type": "code",
   "execution_count": null,
   "id": "13423e4a",
   "metadata": {},
   "outputs": [],
   "source": [
    "face[100:120] = 255"
   ]
  },
  {
   "cell_type": "code",
   "execution_count": null,
   "id": "3cc1e2b3",
   "metadata": {},
   "outputs": [],
   "source": [
    "lx, ly = face.shape\n",
    "X, Y = np.ogrid[0:lx, 0:ly]\n",
    "mask = (X - lx / 2) ** 2 + (Y - ly / 2) ** 2 > lx * ly / 4\n",
    "# Masks\n",
    "face[mask] = 0\n",
    "# Fancy indexing\n",
    "face[range(400), range(400)] = 255"
   ]
  },
  {
   "cell_type": "code",
   "execution_count": null,
   "id": "01c3cc53",
   "metadata": {
    "tags": [
     "hide-input"
    ]
   },
   "outputs": [],
   "source": [
    "plt.figure(figsize=(3, 3))\n",
    "plt.axes((0, 0, 1, 1))\n",
    "plt.imshow(face, cmap=\"gray\")\n",
    "plt.axis(\"off\");"
   ]
  },
  {
   "cell_type": "markdown",
   "id": "c2187e9e",
   "metadata": {},
   "source": [
    "### Statistical information"
   ]
  },
  {
   "cell_type": "code",
   "execution_count": null,
   "id": "990d6e40",
   "metadata": {},
   "outputs": [],
   "source": [
    "face = sp.datasets.face(gray=True)\n",
    "face.mean()"
   ]
  },
  {
   "cell_type": "code",
   "execution_count": null,
   "id": "15c888dc",
   "metadata": {},
   "outputs": [],
   "source": [
    "face.max(), face.min()"
   ]
  },
  {
   "cell_type": "markdown",
   "id": "6fa6bd34",
   "metadata": {},
   "source": [
    "`np.histogram`\n",
    "\n",
    "**Start of exercise**\n",
    "\n",
    "- Open as an array the `scikit-image` logo\n",
    "  (<https://scikit-image.org/_static/img/logo.png>), or an\n",
    "  image that you have on your computer.\n",
    "- Crop a meaningful part of the image, for example the python circle\n",
    "  in the logo.\n",
    "- Display the image array using `matplotlib`. Change the\n",
    "  interpolation method and zoom to see the difference.\n",
    "- Transform your image to greyscale\n",
    "- Increase the contrast of the image by changing its minimum and\n",
    "  maximum values. **Optional**: use `scipy.stats.scoreatpercentile`\n",
    "  (read the docstring!) to saturate 5% of the darkest pixels and 5%\n",
    "  of the lightest pixels.\n",
    "- Save the array to two different file formats (png, jpg, tiff)\n",
    "\n",
    "![](scikit_image_logo.png)\n",
    "\n",
    "**End of exercise**\n",
    "\n",
    "### Geometrical transformations"
   ]
  },
  {
   "cell_type": "code",
   "execution_count": null,
   "id": "fcccc31b",
   "metadata": {},
   "outputs": [],
   "source": [
    "face = sp.datasets.face(gray=True)\n",
    "lx, ly = face.shape\n",
    "# Cropping\n",
    "crop_face = face[lx // 4: - lx // 4, ly // 4: - ly // 4]\n",
    "# up <-> down flip\n",
    "flip_ud_face = np.flipud(face)\n",
    "# rotation\n",
    "rotate_face = sp.ndimage.rotate(face, 45)\n",
    "rotate_face_noreshape = sp.ndimage.rotate(face, 45, reshape=False)"
   ]
  },
  {
   "cell_type": "code",
   "execution_count": null,
   "id": "a7c7be31",
   "metadata": {
    "tags": [
     "hide-input"
    ]
   },
   "outputs": [],
   "source": [
    "# Plot the transformed face.\n",
    "fig, axes = plt.subplots(1, 5, figsize=(12.5, 2.5))\n",
    "for i, img_arr in enumerate([face, crop_face, flip_ud_face,\n",
    "                             rotate_face, rotate_face_noreshape]):\n",
    "    axes[i].imshow(img_arr, cmap=\"gray\")\n",
    "    axes[i].axis('off')\n",
    "\n",
    "plt.subplots_adjust(wspace=0.02, hspace=0.3, top=1, bottom=0.1, left=0, right=1);"
   ]
  },
  {
   "cell_type": "markdown",
   "id": "8b80cc07",
   "metadata": {},
   "source": [
    "## Image filtering\n",
    "\n",
    "**Local filters**: replace the value of pixels by a function of the values of\n",
    "neighboring pixels.\n",
    "\n",
    "Neighbourhood: square (choose size), disk, or more complicated _structuring\n",
    "element_.\n",
    "\n",
    ":::{figure} kernels.png\n",
    ":align: center\n",
    ":scale: 90\n",
    ":::\n",
    "\n",
    "### Blurring/smoothing\n",
    "\n",
    "**Gaussian filter** from `scipy.ndimage`:"
   ]
  },
  {
   "cell_type": "code",
   "execution_count": null,
   "id": "40bf6f03",
   "metadata": {},
   "outputs": [],
   "source": [
    "face = sp.datasets.face(gray=True)\n",
    "blurred_face = sp.ndimage.gaussian_filter(face, sigma=3)\n",
    "very_blurred = sp.ndimage.gaussian_filter(face, sigma=5)"
   ]
  },
  {
   "cell_type": "markdown",
   "id": "eef13b5e",
   "metadata": {},
   "source": [
    "**Uniform filter**"
   ]
  },
  {
   "cell_type": "code",
   "execution_count": null,
   "id": "7123c8b9",
   "metadata": {},
   "outputs": [],
   "source": [
    "local_mean = sp.ndimage.uniform_filter(face, size=11)"
   ]
  },
  {
   "cell_type": "code",
   "execution_count": null,
   "id": "edd7f375",
   "metadata": {
    "tags": [
     "hide-input"
    ]
   },
   "outputs": [],
   "source": [
    "# Plot the figures.\n",
    "fig, axes = plt.subplots(1, 3, figsize=(9, 3))\n",
    "for i, img_arr in enumerate([blurred_face, very_blurred, local_mean]):\n",
    "    axes[i].imshow(blurred_face, cmap=\"gray\")\n",
    "    axes[i].axis(\"off\")\n",
    "\n",
    "plt.subplots_adjust(wspace=0, hspace=0.0, top=0.99, bottom=0.01, left=0.01, right=0.99);"
   ]
  },
  {
   "cell_type": "markdown",
   "id": "ad35f202",
   "metadata": {},
   "source": [
    "### Sharpening\n",
    "\n",
    "Sharpen a blurred image:"
   ]
  },
  {
   "cell_type": "code",
   "execution_count": null,
   "id": "8e5cf28d",
   "metadata": {},
   "outputs": [],
   "source": [
    "face = sp.datasets.face(gray=True).astype(float)\n",
    "blurred_f = sp.ndimage.gaussian_filter(face, 3)"
   ]
  },
  {
   "cell_type": "markdown",
   "id": "02f2c576",
   "metadata": {},
   "source": [
    "Increase the weight of edges by adding an approximation of the\n",
    "Laplacian:"
   ]
  },
  {
   "cell_type": "code",
   "execution_count": null,
   "id": "e889ba37",
   "metadata": {},
   "outputs": [],
   "source": [
    "filter_blurred_f = sp.ndimage.gaussian_filter(blurred_f, 1)\n",
    "alpha = 30\n",
    "sharpened = blurred_f + alpha * (blurred_f - filter_blurred_f)"
   ]
  },
  {
   "cell_type": "code",
   "execution_count": null,
   "id": "b86f1cc6",
   "metadata": {
    "tags": [
     "hide-input"
    ]
   },
   "outputs": [],
   "source": [
    "fig, axes = plt.subplots(1, 3, figsize=(12, 4))\n",
    "for i, img_arr in enumerate([f, blurred_f, sharpened]):\n",
    "    axes[i].imshow(blurred_face, cmap=\"gray\")\n",
    "    axes[i].axis(\"off\")\n",
    "\n",
    "plt.tight_layout();"
   ]
  },
  {
   "cell_type": "markdown",
   "id": "b1bff747",
   "metadata": {},
   "source": [
    "### Denoising\n",
    "\n",
    "Noisy face:"
   ]
  },
  {
   "cell_type": "code",
   "execution_count": null,
   "id": "2d40545e",
   "metadata": {},
   "outputs": [],
   "source": [
    "f = sp.datasets.face(gray=True)\n",
    "f = f[230:290, 220:320]\n",
    "\n",
    "rng = np.random.default_rng()\n",
    "noisy = f + 0.4 * f.std() * rng.random(f.shape)"
   ]
  },
  {
   "cell_type": "markdown",
   "id": "04d550a7",
   "metadata": {},
   "source": [
    "A **Gaussian filter** smoothes the noise out... and the edges as well:"
   ]
  },
  {
   "cell_type": "code",
   "execution_count": null,
   "id": "39ce4660",
   "metadata": {},
   "outputs": [],
   "source": [
    "gauss_denoised = sp.ndimage.gaussian_filter(noisy, 2)"
   ]
  },
  {
   "cell_type": "markdown",
   "id": "2ed4fca0",
   "metadata": {},
   "source": [
    "Most local linear isotropic filters blur the image (`scipy.ndimage.uniform_filter`)\n",
    "\n",
    "A **median filter** preserves better the edges:"
   ]
  },
  {
   "cell_type": "code",
   "execution_count": null,
   "id": "d39c7316",
   "metadata": {},
   "outputs": [],
   "source": [
    "med_denoised = sp.ndimage.median_filter(noisy, 3)"
   ]
  },
  {
   "cell_type": "code",
   "execution_count": null,
   "id": "dbf1471f",
   "metadata": {
    "tags": [
     "hide-input"
    ]
   },
   "outputs": [],
   "source": [
    "fig, axes = plt.subplots(1, 3, figsize=(12, 2.8))\n",
    "for i, (name, img_arr) in enumerate([\n",
    "    ['noisy', noisy],\n",
    "    ['Gaussian filter', gauss_denoised],\n",
    "    ['Median filter', med_denoised]]):\n",
    "    axes[i].imshow(img_arr, cmap=\"gray\", vmin=40, vmax=220)\n",
    "    axes[i].axis(\"off\")\n",
    "    axes[i].set_title(name, fontsize=20)\n",
    "\n",
    "plt.subplots_adjust(wspace=0.02, hspace=0.02, top=0.9, bottom=0, left=0, right=1);"
   ]
  },
  {
   "cell_type": "markdown",
   "id": "4442e413",
   "metadata": {},
   "source": [
    "Median filter: better result for straight boundaries (**low curvature**):"
   ]
  },
  {
   "cell_type": "code",
   "execution_count": null,
   "id": "60f2506b",
   "metadata": {},
   "outputs": [],
   "source": [
    "im = np.zeros((20, 20))\n",
    "im[5:-5, 5:-5] = 1\n",
    "im = sp.ndimage.distance_transform_bf(im)\n",
    "rng = np.random.default_rng()\n",
    "im_noise = im + 0.2 * rng.standard_normal(im.shape)\n",
    "im_med = sp.ndimage.median_filter(im_noise, 3)"
   ]
  },
  {
   "cell_type": "code",
   "execution_count": null,
   "id": "ef063dee",
   "metadata": {
    "tags": [
     "hide-input"
    ]
   },
   "outputs": [],
   "source": [
    "fig, axes = plt.subplots(1, 4, figsize=(16, 5))\n",
    "for i, (name, img_arr) in enumerate([\n",
    "    ['Original image', im],\n",
    "    ['Noisy image', im_noise],\n",
    "    ['Median filter', im_med]]):\n",
    "    axes[i].imshow(img_arr, vmin=0, vmax=5)\n",
    "    axes[i].axis(\"off\")\n",
    "    axes[i].set_title(name, fontsize=10)\n",
    "axes[-1].imshow(np.abs(im - im_med), cmap=\"hot\", interpolation=\"nearest\")\n",
    "axes[-1].axis(\"off\")\n",
    "axes[-1].set_title('Error', fontsize=10)\n",
    "\n",
    "plt.subplots_adjust(wspace=0.02, hspace=0.02, top=0.9, bottom=0, left=0, right=1)"
   ]
  },
  {
   "cell_type": "markdown",
   "id": "1b558f69",
   "metadata": {},
   "source": [
    "Other rank filter: `scipy.ndimage.maximum_filter`,\n",
    "`scipy.ndimage.percentile_filter`\n",
    "\n",
    "Other local non-linear filters: Wiener (`scipy.signal.wiener`), etc.\n",
    "\n",
    "**Non-local filters**\n",
    "\n",
    "**Start of exercise**\n",
    "\n",
    "- Create a binary image (of 0s and 1s) with several objects (circles,\n",
    "  ellipses, squares, or random shapes).\n",
    "- Add some noise (e.g., 20% of noise)\n",
    "- Try two different denoising methods for denoising the image:\n",
    "  gaussian filtering and median filtering.\n",
    "- Compare the histograms of the two different denoised images.\n",
    "  Which one is the closest to the histogram of the original (noise-free)\n",
    "  image?\n",
    "\n",
    "**End of exercise**\n",
    "\n",
    ":::{admonition} See also\n",
    "\n",
    "More denoising filters are available in {mod}`skimage.denoising`,\n",
    "see the {ref}`scikit-image` tutorial.\n",
    ":::\n",
    "\n",
    "### Mathematical morphology\n",
    "\n",
    "See [wikipedia](https://en.wikipedia.org/wiki/Mathematical_morphology)\n",
    "for a definition of mathematical morphology.\n",
    "\n",
    "Probe an image with a simple shape (a **structuring element**), and\n",
    "modify this image according to how the shape locally fits or misses the\n",
    "image.\n",
    "\n",
    "**Structuring element**:"
   ]
  },
  {
   "cell_type": "code",
   "execution_count": null,
   "id": "04e236ac",
   "metadata": {},
   "outputs": [],
   "source": [
    "el = sp.ndimage.generate_binary_structure(2, 1)\n",
    "el"
   ]
  },
  {
   "cell_type": "code",
   "execution_count": null,
   "id": "100ef7b5",
   "metadata": {},
   "outputs": [],
   "source": [
    "el.astype(int)"
   ]
  },
  {
   "cell_type": "markdown",
   "id": "9572bb3e",
   "metadata": {},
   "source": [
    "![](diamond_kernel.png)\n",
    "\n",
    "**Erosion** = minimum filter. Replace the value of a pixel by the minimal value covered by the structuring element.:"
   ]
  },
  {
   "cell_type": "code",
   "execution_count": null,
   "id": "de1ec326",
   "metadata": {},
   "outputs": [],
   "source": [
    "a = np.zeros((7,7), dtype=int)\n",
    "a[1:6, 2:5] = 1\n",
    "a"
   ]
  },
  {
   "cell_type": "code",
   "execution_count": null,
   "id": "0ddd724a",
   "metadata": {},
   "outputs": [],
   "source": [
    "sp.ndimage.binary_erosion(a).astype(a.dtype)"
   ]
  },
  {
   "cell_type": "code",
   "execution_count": null,
   "id": "68bff345",
   "metadata": {},
   "outputs": [],
   "source": [
    "# Erosion removes objects smaller than the structure\n",
    "sp.ndimage.binary_erosion(a, structure=np.ones((5,5))).astype(a.dtype)"
   ]
  },
  {
   "cell_type": "markdown",
   "id": "619fe0d7",
   "metadata": {},
   "source": [
    "![](morpho_mat.png)\n",
    "\n",
    "**Dilation**: maximum filter:"
   ]
  },
  {
   "cell_type": "code",
   "execution_count": null,
   "id": "d798fee6",
   "metadata": {},
   "outputs": [],
   "source": [
    "a = np.zeros((5, 5))\n",
    "a[2, 2] = 1\n",
    "a"
   ]
  },
  {
   "cell_type": "code",
   "execution_count": null,
   "id": "b8389bc0",
   "metadata": {},
   "outputs": [],
   "source": [
    "sp.ndimage.binary_dilation(a).astype(a.dtype)"
   ]
  },
  {
   "cell_type": "markdown",
   "id": "3aa76a65",
   "metadata": {},
   "source": [
    "Also works for grey-valued images:"
   ]
  },
  {
   "cell_type": "code",
   "execution_count": null,
   "id": "7159c0bc",
   "metadata": {},
   "outputs": [],
   "source": [
    "rng = np.random.default_rng(27446968)\n",
    "im = np.zeros((64, 64))\n",
    "x, y = (63*rng.random((2, 8))).astype(int)\n",
    "im[x, y] = np.arange(8)"
   ]
  },
  {
   "cell_type": "code",
   "execution_count": null,
   "id": "a4678f2f",
   "metadata": {},
   "outputs": [],
   "source": [
    "bigger_points = sp.ndimage.grey_dilation(im, size=(5, 5), structure=np.ones((5, 5)))"
   ]
  },
  {
   "cell_type": "code",
   "execution_count": null,
   "id": "b85b4cf3",
   "metadata": {},
   "outputs": [],
   "source": [
    "square = np.zeros((16, 16))\n",
    "square[4:-4, 4:-4] = 1\n",
    "dist = sp.ndimage.distance_transform_bf(square)\n",
    "dilate_dist = sp.ndimage.grey_dilation(dist, size=(3, 3), \\\n",
    "        structure=np.ones((3, 3)))"
   ]
  },
  {
   "cell_type": "code",
   "execution_count": null,
   "id": "c5593774",
   "metadata": {
    "tags": [
     "hide-input"
    ]
   },
   "outputs": [],
   "source": [
    "fig, axes = plt.subplots(1, 4, figsize=(12.5, 3))\n",
    "for i, img_arr in enumerate([im, bigger_points, dist, dilate_dist]):\n",
    "    axes[i].imshow(img_arr, interpolation='nearest', cmap='nipy_spectral')\n",
    "    axes[i].axis(\"off\")\n",
    "\n",
    "plt.subplots_adjust(wspace=0, hspace=0.02, top=0.99, bottom=0.01, left=0.01, right=0.99)"
   ]
  },
  {
   "cell_type": "markdown",
   "id": "c9fd5f5f",
   "metadata": {},
   "source": [
    "#### **Opening**: erosion + dilation:"
   ]
  },
  {
   "cell_type": "code",
   "execution_count": null,
   "id": "f07d1935",
   "metadata": {},
   "outputs": [],
   "source": [
    "a = np.zeros((5,5), dtype=int)\n",
    "a[1:4, 1:4] = 1; a[4, 4] = 1\n",
    "a"
   ]
  },
  {
   "cell_type": "code",
   "execution_count": null,
   "id": "6ff0ef27",
   "metadata": {},
   "outputs": [],
   "source": [
    "# Opening removes small objects\n",
    "sp.ndimage.binary_opening(a, structure=np.ones((3,3))).astype(int)"
   ]
  },
  {
   "cell_type": "code",
   "execution_count": null,
   "id": "b9a13fa4",
   "metadata": {},
   "outputs": [],
   "source": [
    "# Opening can also smooth corners\n",
    "sp.ndimage.binary_opening(a).astype(int)"
   ]
  },
  {
   "cell_type": "markdown",
   "id": "9a14adbb",
   "metadata": {},
   "source": [
    "#### **Application**: remove noise:"
   ]
  },
  {
   "cell_type": "code",
   "execution_count": null,
   "id": "2132d7ba",
   "metadata": {},
   "outputs": [],
   "source": [
    "square = np.zeros((32, 32))\n",
    "square[10:-10, 10:-10] = 1\n",
    "rng = np.random.default_rng(27446968)\n",
    "x, y = (32*rng.random((2, 20))).astype(int)\n",
    "square[x, y] = 1"
   ]
  },
  {
   "cell_type": "code",
   "execution_count": null,
   "id": "056a6626",
   "metadata": {},
   "outputs": [],
   "source": [
    "open_square = sp.ndimage.binary_opening(square)"
   ]
  },
  {
   "cell_type": "code",
   "execution_count": null,
   "id": "52f6f69c",
   "metadata": {},
   "outputs": [],
   "source": [
    "eroded_square = sp.ndimage.binary_erosion(square)\n",
    "reconstruction = sp.ndimage.binary_propagation(eroded_square, mask=square)"
   ]
  },
  {
   "cell_type": "code",
   "execution_count": null,
   "id": "d72c90e1",
   "metadata": {
    "tags": [
     "hide-input"
    ]
   },
   "outputs": [],
   "source": [
    "fig, axes = plt.subplots(1, 3, figsize=(9.5, 3))\n",
    "for i, img_arr in enumerate([square, open_square, reconstruction]):\n",
    "    axes[i].imshow(img_arr, interpolation='nearest', cmap='gray')\n",
    "    axes[i].axis(\"off\")\n",
    "\n",
    "plt.subplots_adjust(wspace=0, hspace=0.02, top=0.99, bottom=0.01, left=0.01, right=0.99)"
   ]
  },
  {
   "cell_type": "markdown",
   "id": "5b00ba07",
   "metadata": {},
   "source": [
    "#### **Closing**: dilation + erosion\n",
    "\n",
    "Many other mathematical morphology operations: hit and miss transform, tophat,\n",
    "etc.\n",
    "\n",
    "## Feature extraction\n",
    "\n",
    "### Edge detection\n",
    "\n",
    "Synthetic data:"
   ]
  },
  {
   "cell_type": "code",
   "execution_count": null,
   "id": "e117329f",
   "metadata": {},
   "outputs": [],
   "source": [
    "im = np.zeros((256, 256))\n",
    "im[64:-64, 64:-64] = 1\n",
    "im = sp.ndimage.rotate(im, 15, mode='constant')\n",
    "im = sp.ndimage.gaussian_filter(im, 8)"
   ]
  },
  {
   "cell_type": "markdown",
   "id": "f3534dcf",
   "metadata": {},
   "source": [
    "Use a **gradient operator** (**Sobel**) to find high intensity variations:"
   ]
  },
  {
   "cell_type": "code",
   "execution_count": null,
   "id": "957aca4e",
   "metadata": {},
   "outputs": [],
   "source": [
    "# Filter x and y.\n",
    "sx = sp.ndimage.sobel(im, axis=0, mode=\"constant\")\n",
    "sy = sp.ndimage.sobel(im, axis=1, mode=\"constant\")\n",
    "# Combine x and y.\n",
    "sob = np.hypot(sx, sy)"
   ]
  },
  {
   "cell_type": "code",
   "execution_count": null,
   "id": "028a3d99",
   "metadata": {},
   "outputs": [],
   "source": [
    "# Make a noisy image.\n",
    "# Set random seed.\n",
    "rng = np.random.default_rng(27446968)\n",
    "\n",
    "noisy_im = im + 0.07 * rng.random(im.shape)\n",
    "\n",
    "# Filter x and y.\n",
    "n_sx = sp.ndimage.sobel(noisy_im, axis=0, mode=\"constant\")\n",
    "n_sy = sp.ndimage.sobel(noisy_im, axis=1, mode=\"constant\")\n",
    "# Combine x and y.\n",
    "noisy_sob = np.hypot(n_sx, n_sy)"
   ]
  },
  {
   "cell_type": "code",
   "execution_count": null,
   "id": "6d28f41c",
   "metadata": {
    "tags": [
     "hide-input"
    ]
   },
   "outputs": [],
   "source": [
    "fig, axes = plt.subplots(1, 4, figsize=(16, 5))\n",
    "for i, (name, img_arr) in enumerate([\n",
    "    ['Square', im],\n",
    "    ['Sobel (x direction)', sx],\n",
    "    ['Sobel filter', sob],\n",
    "    ['Sobel for noisy image', noisy_sob]]):\n",
    "    axes[i].imshow(img_arr, cmap='gray')\n",
    "    axes[i].axis(\"off\")\n",
    "    axes[i].set_title(name, fontsize=10)\n",
    "\n",
    "plt.subplots_adjust(wspace=0.02, hspace=0.02, top=1, bottom=0, left=0, right=0.9);"
   ]
  },
  {
   "cell_type": "markdown",
   "id": "360c1e5b",
   "metadata": {},
   "source": [
    "### Segmentation\n",
    "\n",
    "#### **Histogram-based** segmentation (no spatial information)"
   ]
  },
  {
   "cell_type": "code",
   "execution_count": null,
   "id": "8bd71fdd",
   "metadata": {},
   "outputs": [],
   "source": [
    "n = 10\n",
    "l = 256\n",
    "im = np.zeros((l, l))\n",
    "rng = np.random.default_rng(27446968)\n",
    "points = l*rng.random((2, n**2))\n",
    "im[(points[0]).astype(int), (points[1]).astype(int)] = 1\n",
    "im = sp.ndimage.gaussian_filter(im, sigma=l/(4.*n))"
   ]
  },
  {
   "cell_type": "code",
   "execution_count": null,
   "id": "8d29f50b",
   "metadata": {},
   "outputs": [],
   "source": [
    "mask = (im > im.mean()).astype(float)\n",
    "mask += 0.1 * im\n",
    "img = mask + 0.2*rng.standard_normal(mask.shape)"
   ]
  },
  {
   "cell_type": "code",
   "execution_count": null,
   "id": "344065cb",
   "metadata": {},
   "outputs": [],
   "source": [
    "hist, bin_edges = np.histogram(img, bins=60)\n",
    "bin_centers = 0.5*(bin_edges[:-1] + bin_edges[1:])\n",
    "binary_img = img > 0.5"
   ]
  },
  {
   "cell_type": "code",
   "execution_count": null,
   "id": "334cce1a",
   "metadata": {
    "tags": [
     "hide-input"
    ]
   },
   "outputs": [],
   "source": [
    "fig, axes = plt.subplots(1, 3, figsize=(11, 4))\n",
    "axes[0].imshow(im)\n",
    "axes[0].axis(\"off\")\n",
    "axes[1].plot(bin_centers, hist, lw=2)\n",
    "axes[1].axvline(0.5, color=\"r\", ls=\"--\", lw=2)\n",
    "axes[1].text(0.57, 0.8, \"histogram\", fontsize=20, transform=axes[1].transAxes)\n",
    "axes[1].set_yticks([])\n",
    "axes[2].imshow(binary_img, cmap=\"gray\", interpolation=\"nearest\")\n",
    "axes[2].axis(\"off\")\n",
    "\n",
    "plt.subplots_adjust(wspace=0.02, hspace=0.3, top=1, bottom=0.1, left=0, right=1)"
   ]
  },
  {
   "cell_type": "markdown",
   "id": "ffc377c3",
   "metadata": {},
   "source": [
    "Use mathematical morphology to clean up the result:"
   ]
  },
  {
   "cell_type": "code",
   "execution_count": null,
   "id": "06e29d83",
   "metadata": {},
   "outputs": [],
   "source": [
    "# Remove small white regions\n",
    "open_img = sp.ndimage.binary_opening(binary_img)\n",
    "# Remove small black hole\n",
    "close_img = sp.ndimage.binary_closing(open_img)"
   ]
  },
  {
   "cell_type": "code",
   "execution_count": null,
   "id": "b06a7b17",
   "metadata": {
    "tags": [
     "hide-input"
    ]
   },
   "outputs": [],
   "source": [
    "L = 128\n",
    "\n",
    "fig, axes = plt.subplots(1, 4, figsize=(12, 3))\n",
    "for i, img_arr in enumerate([binary_img, open_img, close_img, mask]):\n",
    "    axes[i].imshow(img_arr[:L, :L], cmap='gray')\n",
    "    axes[i].axis(\"off\")\n",
    "\n",
    "axes[-1].contour(close_img[:L, :L], [0.5], linewidths=2, colors=\"r\")\n",
    "\n",
    "plt.subplots_adjust(wspace=0.02, hspace=0.3, top=1, bottom=0.1, left=0, right=1)"
   ]
  },
  {
   "cell_type": "markdown",
   "id": "b0772f4e",
   "metadata": {},
   "source": [
    "**Start of exercise**\n",
    "\n",
    "Check that reconstruction operations (erosion + propagation) produce a\n",
    "better result than opening/closing. Start with:"
   ]
  },
  {
   "cell_type": "code",
   "execution_count": null,
   "id": "1d4456eb",
   "metadata": {},
   "outputs": [],
   "source": [
    "eroded_img = sp.ndimage.binary_erosion(binary_img)\n",
    "reconstruct_img = sp.ndimage.binary_propagation(eroded_img, mask=binary_img)"
   ]
  },
  {
   "cell_type": "markdown",
   "id": "4881d37d",
   "metadata": {},
   "source": [
    "**End of exercise**\n",
    "\n",
    "\n",
    "**See the [corresponding page](/scipy-lecture-notes/advanced/image_processing/index.html) for solution**\n",
    "\n",
    "Check how a first denoising step (e.g. with a median filter) modifies the\n",
    "histogram, and check that the resulting histogram-based segmentation is more\n",
    "accurate.\n",
    "\n",
    "**End of exercise**\n",
    "\n",
    ":::{admonition} See also\n",
    "\n",
    "More advanced segmentation algorithms are found in the\n",
    "`scikit-image`: see {ref}`scikit-image`.\n",
    ":::"
   ]
  },
  {
   "cell_type": "markdown",
   "id": "4bdc2bcf",
   "metadata": {},
   "source": [
    "### Useful algorithms from other packages\n",
    "\n",
    "Other Scientific Packages provide algorithms that can be useful for\n",
    "image processing. In this example, we use the spectral clustering\n",
    "function of the `scikit-learn` in order to segment glued objects.\n",
    "\n",
    "<!-- #endregion -->"
   ]
  },
  {
   "cell_type": "code",
   "execution_count": null,
   "id": "74cba9da",
   "metadata": {},
   "outputs": [],
   "source": [
    "from sklearn.feature_extraction import image\n",
    "from sklearn.cluster import spectral_clustering"
   ]
  },
  {
   "cell_type": "code",
   "execution_count": null,
   "id": "9dd25dfa",
   "metadata": {},
   "outputs": [],
   "source": [
    "l = 100\n",
    "x, y = np.indices((l, l))"
   ]
  },
  {
   "cell_type": "code",
   "execution_count": null,
   "id": "dd650f75",
   "metadata": {},
   "outputs": [],
   "source": [
    "center1 = (28, 24)\n",
    "center2 = (40, 50)\n",
    "center3 = (67, 58)\n",
    "center4 = (24, 70)\n",
    "radius1, radius2, radius3, radius4 = 16, 14, 15, 14"
   ]
  },
  {
   "cell_type": "code",
   "execution_count": null,
   "id": "a3e3cded",
   "metadata": {},
   "outputs": [],
   "source": [
    "circle1 = (x - center1[0])**2 + (y - center1[1])**2 < radius1**2\n",
    "circle2 = (x - center2[0])**2 + (y - center2[1])**2 < radius2**2\n",
    "circle3 = (x - center3[0])**2 + (y - center3[1])**2 < radius3**2\n",
    "circle4 = (x - center4[0])**2 + (y - center4[1])**2 < radius4**2"
   ]
  },
  {
   "cell_type": "code",
   "execution_count": null,
   "id": "a380ae57",
   "metadata": {},
   "outputs": [],
   "source": [
    "# 4 circles\n",
    "img = circle1 + circle2 + circle3 + circle4\n",
    "mask = img.astype(bool)\n",
    "img = img.astype(float)"
   ]
  },
  {
   "cell_type": "code",
   "execution_count": null,
   "id": "70a3d1c2",
   "metadata": {},
   "outputs": [],
   "source": [
    "rng = np.random.default_rng()\n",
    "img += 1 + 0.2*rng.standard_normal(img.shape)\n",
    "# Convert the image into a graph with the value of the gradient on\n",
    "# the edges.\n",
    "graph = image.img_to_graph(img, mask=mask)"
   ]
  },
  {
   "cell_type": "code",
   "execution_count": null,
   "id": "1cadec1a",
   "metadata": {},
   "outputs": [],
   "source": [
    "# Take a decreasing function of the gradient: we take it weakly\n",
    "# dependent from the gradient the segmentation is close to a voronoi\n",
    "graph.data = np.exp(-graph.data/graph.data.std())"
   ]
  },
  {
   "cell_type": "code",
   "execution_count": null,
   "id": "ab2425d5",
   "metadata": {},
   "outputs": [],
   "source": [
    "labels = spectral_clustering(graph, n_clusters=4, eigen_solver='arpack')\n",
    "label_im = -np.ones(mask.shape)\n",
    "label_im[mask] = labels"
   ]
  },
  {
   "cell_type": "markdown",
   "id": "9f305828",
   "metadata": {},
   "source": [
    "![](image_spectral_clustering.png)\n",
    "\n",
    "## Measuring object properties: `scipy.ndimage.measurements`\n",
    "\n",
    "Synthetic data:"
   ]
  },
  {
   "cell_type": "code",
   "execution_count": null,
   "id": "979e5487",
   "metadata": {},
   "outputs": [],
   "source": [
    "n = 10\n",
    "l = 256\n",
    "im = np.zeros((l, l))\n",
    "rng = np.random.default_rng(27446968)\n",
    "points = l * rng.random((2, n**2))\n",
    "im[(points[0]).astype(int), (points[1]).astype(int)] = 1\n",
    "im = sp.ndimage.gaussian_filter(im, sigma=l/(4.*n))\n",
    "mask = im > im.mean()"
   ]
  },
  {
   "cell_type": "markdown",
   "id": "5f893bed",
   "metadata": {},
   "source": [
    "### Analysis of connected components\n",
    "\n",
    "Label connected components: `scipy.dimage.label`:"
   ]
  },
  {
   "cell_type": "code",
   "execution_count": null,
   "id": "d813b56d",
   "metadata": {},
   "outputs": [],
   "source": [
    "label_im, nb_labels = sp.ndimage.label(mask)\n",
    "nb_labels # how many regions?"
   ]
  },
  {
   "cell_type": "code",
   "execution_count": null,
   "id": "116e16f7",
   "metadata": {
    "tags": [
     "hide-input"
    ]
   },
   "outputs": [],
   "source": [
    "fig, axes = plt.subplots(1, 3, figsize=(9, 3))\n",
    "for i, (img_arr, cmap) in enumerate([\n",
    "    [im, 'viridis'],\n",
    "    [mask, 'gray'],\n",
    "    [label_im, 'nipy_spectral']]):\n",
    "    axes[i].imshow(img_arr, cmap=cmap)\n",
    "    axes[i].axis(\"off\")\n",
    "\n",
    "plt.subplots_adjust(wspace=0.02, hspace=0.02, top=1, bottom=0, left=0, right=1);"
   ]
  },
  {
   "cell_type": "markdown",
   "id": "04edd94d",
   "metadata": {},
   "source": [
    "Compute size, mean_value, etc. of each region:"
   ]
  },
  {
   "cell_type": "code",
   "execution_count": null,
   "id": "3a99a18e",
   "metadata": {},
   "outputs": [],
   "source": [
    "sizes = sp.ndimage.sum(mask, label_im, range(nb_labels + 1))\n",
    "mean_vals = sp.ndimage.sum(im, label_im, range(1, nb_labels + 1))"
   ]
  },
  {
   "cell_type": "markdown",
   "id": "6f358142",
   "metadata": {},
   "source": [
    "Clean up small connect components:"
   ]
  },
  {
   "cell_type": "code",
   "execution_count": null,
   "id": "19385327",
   "metadata": {},
   "outputs": [],
   "source": [
    "mask_size = sizes < 1000\n",
    "remove_pixel = mask_size[label_im]\n",
    "remove_pixel.shape"
   ]
  },
  {
   "cell_type": "code",
   "execution_count": null,
   "id": "e3aaa164",
   "metadata": {},
   "outputs": [],
   "source": [
    "label_im[remove_pixel] = 0"
   ]
  },
  {
   "cell_type": "markdown",
   "id": "33465bed",
   "metadata": {},
   "source": [
    "Now reassign labels with `np.searchsorted`:"
   ]
  },
  {
   "cell_type": "code",
   "execution_count": null,
   "id": "2d49f299",
   "metadata": {},
   "outputs": [],
   "source": [
    "labels = np.unique(label_im)\n",
    "label_im = np.searchsorted(labels, label_im)"
   ]
  },
  {
   "cell_type": "code",
   "execution_count": null,
   "id": "356f7e34",
   "metadata": {
    "tags": [
     "hide-input"
    ]
   },
   "outputs": [],
   "source": [
    "fig, axes = plt.subplots(1, 2, figsize=(6, 3))\n",
    "axes[0].imshow(label_im, cmap=\"nipy_spectral\")\n",
    "axes[0].axis(\"off\")\n",
    "axes[1].imshow(label_im, vmax=nb_labels, cmap=\"nipy_spectral\")\n",
    "axes[1].axis(\"off\")\n",
    "\n",
    "plt.subplots_adjust(wspace=0.01, hspace=0.01, top=1, bottom=0, left=0, right=1)"
   ]
  },
  {
   "cell_type": "markdown",
   "id": "c4fff8b8",
   "metadata": {},
   "source": [
    "Find region of interest enclosing object:"
   ]
  },
  {
   "cell_type": "code",
   "execution_count": null,
   "id": "61f3249d",
   "metadata": {},
   "outputs": [],
   "source": [
    "slice_x, slice_y = sp.ndimage.find_objects(label_im)[3]\n",
    "roi = im[slice_x, slice_y]\n",
    "plt.imshow(roi);"
   ]
  },
  {
   "cell_type": "markdown",
   "id": "30a447ff",
   "metadata": {},
   "source": [
    "Other spatial measures: `scipy.ndimage.center_of_mass`,\n",
    "`scipy.ndimage.maximum_position`, etc.\n",
    "\n",
    "Can be used outside the limited scope of segmentation applications.\n",
    "\n",
    "Example: block mean:"
   ]
  },
  {
   "cell_type": "code",
   "execution_count": null,
   "id": "567937c7",
   "metadata": {},
   "outputs": [],
   "source": [
    "f = sp.datasets.face(gray=True)\n",
    "sx, sy = f.shape\n",
    "X, Y = np.ogrid[0:sx, 0:sy]\n",
    "regions = (sy//6) * (X//4) + (Y//6)  # note that we use broadcasting\n",
    "block_mean = sp.ndimage.mean(f, labels=regions, index=np.arange(1,\n",
    "    regions.max() +1))\n",
    "block_mean.shape = (sx // 4, sy // 6)"
   ]
  },
  {
   "cell_type": "code",
   "execution_count": null,
   "id": "ba13af09",
   "metadata": {
    "tags": [
     "hide-input"
    ]
   },
   "outputs": [],
   "source": [
    "plt.figure(figsize=(5, 5))\n",
    "plt.imshow(block_mean, cmap=\"gray\")\n",
    "plt.axis(\"off\");"
   ]
  },
  {
   "cell_type": "markdown",
   "id": "2b285254",
   "metadata": {},
   "source": [
    "When regions are regular blocks, it is more efficient to use stride\n",
    "tricks ({ref}`stride-manipulation-label`).\n",
    "\n",
    "Non-regularly-spaced blocks: radial mean:"
   ]
  },
  {
   "cell_type": "code",
   "execution_count": null,
   "id": "b60e82dc",
   "metadata": {},
   "outputs": [],
   "source": [
    "sx, sy = f.shape\n",
    "X, Y = np.ogrid[0:sx, 0:sy]\n",
    "r = np.hypot(X - sx/2, Y - sy/2)\n",
    "rbin = (20* r/r.max()).astype(int)\n",
    "radial_mean = sp.ndimage.mean(f, labels=rbin, index=np.arange(1, rbin.max() +1))"
   ]
  },
  {
   "cell_type": "code",
   "execution_count": null,
   "id": "b353a42f",
   "metadata": {
    "tags": [
     "hide-input"
    ]
   },
   "outputs": [],
   "source": [
    "plt.figure(figsize=(5, 5))\n",
    "plt.axes((0, 0, 1, 1))\n",
    "plt.imshow(rbin, cmap=\"nipy_spectral\")\n",
    "plt.axis(\"off\");"
   ]
  },
  {
   "cell_type": "markdown",
   "id": "43132811",
   "metadata": {},
   "source": [
    "### Other measures\n",
    "\n",
    "Correlation function, Fourier/wavelet spectrum, etc.\n",
    "\n",
    "One example with mathematical morphology: [granulometry](https://en.wikipedia.org/wiki/Granulometry_%28morphology%29)"
   ]
  },
  {
   "cell_type": "code",
   "execution_count": null,
   "id": "539e9833",
   "metadata": {},
   "outputs": [],
   "source": [
    "def disk_structure(n):\n",
    "    struct = np.zeros((2 * n + 1, 2 * n + 1))\n",
    "    x, y = np.indices((2 * n + 1, 2 * n + 1))\n",
    "    mask = (x - n)**2 + (y - n)**2 <= n**2\n",
    "    struct[mask] = 1\n",
    "    return struct.astype(bool)"
   ]
  },
  {
   "cell_type": "code",
   "execution_count": null,
   "id": "ec6bcee8",
   "metadata": {},
   "outputs": [],
   "source": [
    "def granulometry(data, sizes=None):\n",
    "    s = max(data.shape)\n",
    "    if sizes is None:\n",
    "        sizes = range(1, s/2, 2)\n",
    "    granulo = [sp.ndimage.binary_opening(data, \\\n",
    "        structure=disk_structure(n)).sum() for n in sizes]\n",
    "    return granulo"
   ]
  },
  {
   "cell_type": "code",
   "execution_count": null,
   "id": "a2b83caf",
   "metadata": {},
   "outputs": [],
   "source": [
    "rng = np.random.default_rng(27446968)\n",
    "n = 10\n",
    "l = 256\n",
    "im = np.zeros((l, l))\n",
    "points = l*rng.random((2, n**2))\n",
    "im[(points[0]).astype(int), (points[1]).astype(int)] = 1\n",
    "im = sp.ndimage.gaussian_filter(im, sigma=l/(4.*n))"
   ]
  },
  {
   "cell_type": "code",
   "execution_count": null,
   "id": "3b904fb2",
   "metadata": {},
   "outputs": [],
   "source": [
    "mask = im > im.mean()\n",
    "granulo = granulometry(mask, sizes=np.arange(2, 19, 4))"
   ]
  },
  {
   "cell_type": "code",
   "execution_count": null,
   "id": "2a595371",
   "metadata": {
    "tags": [
     "hide-input"
    ]
   },
   "outputs": [],
   "source": [
    "# Do the plot.\n",
    "plt.figure(figsize=(6, 2.2))\n",
    "plt.subplot(121)\n",
    "plt.imshow(mask, cmap=\"gray\")"
   ]
  },
  {
   "cell_type": "code",
   "execution_count": null,
   "id": "dc05dc6d",
   "metadata": {},
   "outputs": [],
   "source": [
    "opened = sp.ndimage.binary_opening(mask, structure=disk_structure(10))\n",
    "opened_more = sp.ndimage.binary_opening(mask, structure=disk_structure(14))"
   ]
  },
  {
   "cell_type": "code",
   "execution_count": null,
   "id": "89eb3ac5",
   "metadata": {
    "tags": [
     "hide-input"
    ]
   },
   "outputs": [],
   "source": [
    "fig, axes = plt.subplots(1, 2, figsize=(6, 2.2))\n",
    "axes[0].imshow(mask, cmap=\"gray\")\n",
    "axes[0].contour(opened, [0.5], colors=\"b\", linewidths=2)\n",
    "axes[0].contour(opened_more, [0.5], colors=\"r\", linewidths=2)\n",
    "axes[0].axis(\"off\")\n",
    "axes[1].plot(np.arange(2, 19, 4), granulo, \"ok\", ms=8)"
   ]
  },
  {
   "cell_type": "markdown",
   "id": "2665b6ac",
   "metadata": {},
   "source": [
    ":::{admonition} See also\n",
    "\n",
    "More on image-processing:\n",
    "\n",
    "- The chapter on {ref}`Scikit-image <scikit-image>`\n",
    "- Other, more powerful and complete modules:\n",
    "  [OpenCV](https://docs.opencv.org/4.x/d6/d00/tutorial_py_root.html) (Python\n",
    "  bindings), [CellProfiler](https://www.cellprofiler.org),\n",
    "  [ITK](https://itk.org/) with Python bindings\n",
    "  :::"
   ]
  }
 ],
 "metadata": {
  "kernelspec": {
   "display_name": "Python (Pyodide)",
   "name": "python"
  }
 },
 "nbformat": 4,
 "nbformat_minor": 5
}
