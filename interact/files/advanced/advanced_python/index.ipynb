{
 "cells": [
  {
   "cell_type": "markdown",
   "id": "d6888ff1",
   "metadata": {},
   "source": [
    "# Advanced Python Constructs\n",
    "\n",
    "**Author** *Zbigniew Jędrzejewski-Szmek*\n",
    "\n",
    "This section covers some features of the Python language which can\n",
    "be considered advanced — in the sense that not every language has\n",
    "them, and also in the sense that they are more useful in more\n",
    "complicated programs or libraries, but not in the sense of being\n",
    "particularly specialized, or particularly complicated.\n",
    "\n",
    "It is important to underline that this chapter is purely about the\n",
    "language itself — about features supported through special syntax\n",
    "complemented by functionality of the Python stdlib, which could not be\n",
    "implemented through clever external modules.\n",
    "\n",
    "The process of developing the Python programming language, its syntax, is very\n",
    "transparent; proposed changes are evaluated from various angles and discussed\n",
    "via *Python Enhancement Proposals* — [PEPs]. As a result, features described in\n",
    "this chapter were added after it was shown that they indeed solve real problems\n",
    "and that their use is as simple as possible.\n",
    "\n",
    "## Iterators, generator expressions and generators\n",
    "\n",
    "### Iterators\n",
    "\n",
    ":::{sidebar} Simplicity\n",
    "\n",
    "> This duplication of effort is wasteful, and replacing the various home-grown\n",
    "approaches with a standard feature usually ends up making things more readable,\n",
    "and interoperable as well. — *Guido van Rossum* in [Adding Optional Static Typing to Python](https://www.artima.com/weblogs/viewpost.jsp?thread=86641)\n",
    "\n",
    ":::\n",
    "\n",
    "An iterator is an object adhering to the [iterator protocol] — basically this\n",
    "means that it has a `next <iterator.next>` method, which, when called, returns\n",
    "the next item in the sequence, and when there's nothing to return, raises the\n",
    "`StopIteration <exceptions.StopIteration>` exception.\n",
    "\n",
    "An iterator object allows to loop just once. It\n",
    "holds the state (position) of a single iteration, or from the other\n",
    "side, each loop over a sequence requires a single iterator\n",
    "object. This means that we can iterate over the same sequence more\n",
    "than once concurrently. Separating the iteration logic from the\n",
    "sequence allows us to have more than one way of iteration.\n",
    "\n",
    "Calling the `__iter__ <object.__iter__>` method on a container to\n",
    "create an iterator object is the most straightforward way to get hold\n",
    "of an iterator. The `iter` function does that for us, saving a few\n",
    "keystrokes."
   ]
  },
  {
   "cell_type": "code",
   "execution_count": null,
   "id": "65132881",
   "metadata": {},
   "outputs": [],
   "source": [
    "nums = [1, 2, 3]      # note that ... varies: these are different objects\n",
    "iter(nums)"
   ]
  },
  {
   "cell_type": "code",
   "execution_count": null,
   "id": "1c439164",
   "metadata": {},
   "outputs": [],
   "source": [
    "nums.__iter__()"
   ]
  },
  {
   "cell_type": "code",
   "execution_count": null,
   "id": "5b40213a",
   "metadata": {},
   "outputs": [],
   "source": [
    "nums.__reversed__()"
   ]
  },
  {
   "cell_type": "code",
   "execution_count": null,
   "id": "1fc7eb48",
   "metadata": {},
   "outputs": [],
   "source": [
    "it = iter(nums)\n",
    "next(it)"
   ]
  },
  {
   "cell_type": "code",
   "execution_count": null,
   "id": "46daab3b",
   "metadata": {},
   "outputs": [],
   "source": [
    "next(it)"
   ]
  },
  {
   "cell_type": "code",
   "execution_count": null,
   "id": "d3a53c3f",
   "metadata": {},
   "outputs": [],
   "source": [
    "next(it)"
   ]
  },
  {
   "cell_type": "code",
   "execution_count": null,
   "id": "cbc85a26",
   "metadata": {
    "tags": [
     "raises-exception"
    ]
   },
   "outputs": [],
   "source": [
    "next(it)"
   ]
  },
  {
   "cell_type": "markdown",
   "id": "eddb0f57",
   "metadata": {},
   "source": [
    "When used in a loop, `StopIteration <exceptions.StopIteration>` is\n",
    "swallowed and causes the loop to finish. But with explicit invocation,\n",
    "we can see that once the iterator is exhausted, accessing it raises an\n",
    "exception.\n",
    "\n",
    "Using the `for..in` loop also uses the `__iter__`\n",
    "method. This allows us to transparently start the iteration over a\n",
    "sequence. But if we already have the iterator, we want to be able to\n",
    "use it in an `for` loop in the same way. In order to achieve this,\n",
    "iterators in addition to `next` are also required to have a method\n",
    "called `__iter__` which returns the iterator (`self`).\n",
    "\n",
    "Support for iteration is pervasive in Python:\n",
    "all sequences and unordered containers in the standard library allow\n",
    "this. The concept is also stretched to other things:\n",
    "e.g. `file` objects support iteration over lines.\n",
    "\n",
    "```python\n",
    "with open(\"/etc/fstab\") as f:\n",
    "     assert f is f.__iter__()\n",
    "```\n",
    "\n",
    "The `file` is an iterator itself and its `__iter__` method doesn't create\n",
    "a separate object: only a single thread of sequential access is allowed."
   ]
  },
  {
   "cell_type": "markdown",
   "id": "a5d5bd63",
   "metadata": {},
   "source": [
    "### Generator expressions\n",
    "\n",
    "A second way in which iterator objects are created is through\n",
    "**generator expressions**, the basis for **list comprehensions**. To\n",
    "increase clarity, a generator expression must always be enclosed in\n",
    "parentheses or an expression. If round parentheses are used, then a\n",
    "generator iterator is created. If rectangular parentheses are used,\n",
    "the process is short-circuited and we get a `list`."
   ]
  },
  {
   "cell_type": "code",
   "execution_count": null,
   "id": "afaccd66",
   "metadata": {},
   "outputs": [],
   "source": [
    "(i for i in nums)"
   ]
  },
  {
   "cell_type": "code",
   "execution_count": null,
   "id": "8848e7b8",
   "metadata": {},
   "outputs": [],
   "source": [
    "[i for i in nums]"
   ]
  },
  {
   "cell_type": "code",
   "execution_count": null,
   "id": "22da91ab",
   "metadata": {},
   "outputs": [],
   "source": [
    "list(i for i in nums)"
   ]
  },
  {
   "cell_type": "markdown",
   "id": "cec40708",
   "metadata": {},
   "source": [
    "The list comprehension syntax also extends to\n",
    "**dictionary and set comprehensions**.\n",
    "A `set` is created when the generator expression is enclosed in curly\n",
    "braces. A `dict` is created when the generator expression contains\n",
    "\"pairs\" of the form `key:value`:"
   ]
  },
  {
   "cell_type": "code",
   "execution_count": null,
   "id": "0e5afd8b",
   "metadata": {},
   "outputs": [],
   "source": [
    "{i for i in range(3)}"
   ]
  },
  {
   "cell_type": "code",
   "execution_count": null,
   "id": "7ffebda9",
   "metadata": {},
   "outputs": [],
   "source": [
    "{i:i**2 for i in range(3)}"
   ]
  },
  {
   "cell_type": "markdown",
   "id": "3c7f99cb",
   "metadata": {},
   "source": [
    "One *gotcha* should be mentioned: in old Pythons the index variable\n",
    "(`i`) would leak, and in versions >= 3 this is fixed.\n",
    "\n",
    "### Generators\n",
    "\n",
    ":::{sidebar} Generators\n",
    "\n",
    "> A generator is a function that produces a sequence of results instead of\n",
    "a single value. — *David Beazley* in the slides for [A Curious Course on\n",
    "Coroutines and Concurrency](https://www.dabeaz.com/coroutines)\n",
    "\n",
    ":::\n",
    "\n",
    "A third way to create iterator objects is to call a generator function.\n",
    "A **generator** is a function containing the keyword `yield`. It must be\n",
    "noted that the mere presence of this keyword completely changes the\n",
    "nature of the function: this `yield` statement doesn't have to be\n",
    "invoked, or even reachable, but causes the function to be marked as a\n",
    "generator. When a normal function is called, the instructions\n",
    "contained in the body start to be executed. When a generator is\n",
    "called, the execution stops before the first instruction in the body.\n",
    "An invocation of a generator function creates a generator object,\n",
    "adhering to the iterator protocol. As with normal function\n",
    "invocations, concurrent and recursive invocations are allowed.\n",
    "\n",
    "When `next` is called, the function is executed until the first `yield`.\n",
    "Each encountered `yield` statement gives a value becomes the return\n",
    "value of `next`. After executing the `yield` statement, the\n",
    "execution of this function is suspended."
   ]
  },
  {
   "cell_type": "code",
   "execution_count": null,
   "id": "0c2dee17",
   "metadata": {},
   "outputs": [],
   "source": [
    "def f():\n",
    "    yield 1\n",
    "    yield 2\n",
    "\n",
    "f()"
   ]
  },
  {
   "cell_type": "code",
   "execution_count": null,
   "id": "3271ff96",
   "metadata": {},
   "outputs": [],
   "source": [
    "gen = f()\n",
    "next(gen)"
   ]
  },
  {
   "cell_type": "code",
   "execution_count": null,
   "id": "03402fe2",
   "metadata": {},
   "outputs": [],
   "source": [
    "next(gen)"
   ]
  },
  {
   "cell_type": "code",
   "execution_count": null,
   "id": "3ac56edb",
   "metadata": {
    "tags": [
     "raises-exception"
    ]
   },
   "outputs": [],
   "source": [
    "next(gen)"
   ]
  },
  {
   "cell_type": "markdown",
   "id": "37ade142",
   "metadata": {},
   "source": [
    "Let's go over the life of the single invocation of the generator\n",
    "function."
   ]
  },
  {
   "cell_type": "code",
   "execution_count": null,
   "id": "2f85a122",
   "metadata": {},
   "outputs": [],
   "source": [
    "def f():\n",
    "    print(\"-- start --\")\n",
    "    yield 3\n",
    "    print(\"-- finish --\")\n",
    "    yield 4\n",
    "\n",
    "gen = f()\n",
    "next(gen)"
   ]
  },
  {
   "cell_type": "code",
   "execution_count": null,
   "id": "abd633b4",
   "metadata": {},
   "outputs": [],
   "source": [
    "next(gen)"
   ]
  },
  {
   "cell_type": "code",
   "execution_count": null,
   "id": "18e496a9",
   "metadata": {
    "tags": [
     "raises-exception"
    ]
   },
   "outputs": [],
   "source": [
    "next(gen)"
   ]
  },
  {
   "cell_type": "markdown",
   "id": "772ad3af",
   "metadata": {},
   "source": [
    "Contrary to a normal function, where executing `f()` would\n",
    "immediately cause the first `print` to be executed, `gen` is\n",
    "assigned without executing any statements in the function body. Only\n",
    "when `gen.__next__()` is invoked by `next`, the statements up to\n",
    "the first `yield` are executed. The second `next` prints\n",
    "`-- finish --` and execution halts on the second `yield`. The third\n",
    "`next` falls of the end of the function.\n",
    "Since no `yield` was reached, an exception is raised.\n",
    "\n",
    "What happens with the function after a yield, when the control passes\n",
    "to the caller? The state of each generator is stored in the generator\n",
    "object. From the point of view of the generator function, is looks\n",
    "almost as if it was running in a separate thread, but this is just an\n",
    "illusion: execution is strictly single-threaded, but the interpreter\n",
    "keeps and restores the state in between the requests for the next value.\n",
    "\n",
    "Why are generators useful? As noted in the parts about iterators, a\n",
    "generator function is just a different way to create an iterator\n",
    "object. Everything that can be done with `yield` statements, could\n",
    "also be done with `next` methods. Nevertheless, using a\n",
    "function and having the interpreter perform its magic to create an\n",
    "iterator has advantages. A function can be much shorter\n",
    "than the definition of a class with the required `next` and\n",
    "`__iter__` methods. What is more important, it is easier for the author\n",
    "of the generator to understand the state which is kept in local\n",
    "variables, as opposed to instance attributes, which have to be\n",
    "used to pass data between consecutive invocations of `next` on\n",
    "an iterator object.\n",
    "\n",
    "A broader question is why are iterators useful? When an iterator is\n",
    "used to power a loop, the loop becomes very simple. The code to\n",
    "initialise the state, to decide if the loop is finished, and to find\n",
    "the next value is extracted into a separate place. This highlights the\n",
    "body of the loop — the interesting part. In addition, it is possible\n",
    "to reuse the iterator code in other places.\n",
    "\n",
    "### Bidirectional communication\n",
    "\n",
    "Each `yield` statement causes a value to be passed to the\n",
    "caller. This is the reason for the introduction of generators\n",
    "by {pep}`255`. But communication in the\n",
    "reverse direction is also useful. One obvious way would be some\n",
    "external state, either a global variable or a shared mutable\n",
    "object. Direct communication is possible thanks to {pep}`342`.\n",
    "It is achieved by turning the previously boring\n",
    "`yield` statement into an expression. When the generator resumes\n",
    "execution after a `yield` statement, the caller can call a method on\n",
    "the generator object to either pass a value **into** the generator,\n",
    "which then is returned by the `yield` statement, or a\n",
    "different method to inject an exception into the generator.\n",
    "\n",
    "The first of the new methods is `send(value) <generator.send>`, which\n",
    "is similar to `next() <generator.next>`, but passes `value` into\n",
    "the generator to be used for the value of the `yield` expression. In\n",
    "fact, `g.next()` and `g.send(None)` are equivalent.\n",
    "\n",
    "The second of the new methods is\n",
    "`throw(type, value=None, traceback=None) <generator.throw>`\n",
    "which is equivalent to:"
   ]
  },
  {
   "cell_type": "markdown",
   "id": "1365fdae",
   "metadata": {},
   "source": [
    "```python\n",
    "raise type, value, traceback\n",
    "```"
   ]
  },
  {
   "cell_type": "markdown",
   "id": "8a424802",
   "metadata": {},
   "source": [
    "at the point of the `yield` statement.\n",
    "\n",
    "Unlike `raise` (which immediately raises an exception from the\n",
    "current execution point), `throw()` first resumes the generator, and\n",
    "only then raises the exception. The word throw was picked because\n",
    "it is suggestive of putting the exception in another location, and is\n",
    "associated with exceptions in other languages.\n",
    "\n",
    "What happens when an exception is raised inside the generator? It can\n",
    "be either raised explicitly or when executing some statements or it\n",
    "can be injected at the point of a `yield` statement by means of the\n",
    "`throw()` method. In either case, such an exception propagates in the\n",
    "standard manner: it can be intercepted by an `except` or `finally`\n",
    "clause, or otherwise it causes the execution of the generator function\n",
    "to be aborted and propagates in the caller.\n",
    "\n",
    "For completeness' sake, it's worth mentioning that generator iterators\n",
    "also have a `close() <generator.close>` method, which can be used to\n",
    "force a generator that would otherwise be able to provide more values\n",
    "to finish immediately. It allows the generator `__del__ <object.__del__>`\n",
    "method to destroy objects holding the state of generator.\n",
    "Let's define a generator which just prints what is passed in through\n",
    "send and throw."
   ]
  },
  {
   "cell_type": "code",
   "execution_count": null,
   "id": "60c76c9c",
   "metadata": {},
   "outputs": [],
   "source": [
    "import itertools\n",
    "\n",
    "def g():\n",
    "    print('--start--')\n",
    "    for i in itertools.count():\n",
    "        print('--yielding %i--' % i)\n",
    "        try:\n",
    "            ans = yield i\n",
    "        except GeneratorExit:\n",
    "            print('--closing--')\n",
    "            raise\n",
    "        except Exception as e:\n",
    "            print('--yield raised %r--' % e)\n",
    "        else:\n",
    "            print('--yield returned %s--' % ans)"
   ]
  },
  {
   "cell_type": "code",
   "execution_count": null,
   "id": "8bab2c9e",
   "metadata": {},
   "outputs": [],
   "source": [
    "it = g()\n",
    "next(it)"
   ]
  },
  {
   "cell_type": "code",
   "execution_count": null,
   "id": "3258929f",
   "metadata": {},
   "outputs": [],
   "source": [
    "it.send(11)"
   ]
  },
  {
   "cell_type": "code",
   "execution_count": null,
   "id": "17d637e7",
   "metadata": {},
   "outputs": [],
   "source": [
    "it.throw(IndexError)"
   ]
  },
  {
   "cell_type": "code",
   "execution_count": null,
   "id": "df4c533f",
   "metadata": {},
   "outputs": [],
   "source": [
    "it.close()"
   ]
  },
  {
   "cell_type": "markdown",
   "id": "6dc7aa11",
   "metadata": {},
   "source": [
    "### Chaining generators\n",
    "\n",
    "**Start of note**\n",
    "This is a preview of {pep}`380` (not yet implemented, but accepted\n",
    "for Python 3.3).\n",
    "**End of note**\n",
    "\n",
    "Let's say we are writing a generator and we want to yield a number of\n",
    "values generated by a second generator, a **subgenerator**.\n",
    "If yielding of values is the only concern, this can be performed\n",
    "without much difficulty using a loop such as"
   ]
  },
  {
   "cell_type": "markdown",
   "id": "14596f1e",
   "metadata": {},
   "source": [
    "```python\n",
    "subgen = some_other_generator()\n",
    "for v in subgen:\n",
    "    yield v\n",
    "```"
   ]
  },
  {
   "cell_type": "markdown",
   "id": "5b46e66a",
   "metadata": {},
   "source": [
    "However, if the subgenerator is to interact properly with the caller\n",
    "in the case of calls to `send()`, `throw()` and `close()`,\n",
    "things become considerably more difficult. The `yield` statement has\n",
    "to be guarded by a `try..except..finally` structure\n",
    "similar to the one defined in the previous section to \"debug\" the\n",
    "generator function. Such code is provided in {pep}`380#id13`, here it\n",
    "suffices to say that new syntax to properly yield from a subgenerator\n",
    "is being introduced in Python 3.3:"
   ]
  },
  {
   "cell_type": "markdown",
   "id": "5747a135",
   "metadata": {},
   "source": [
    "```python\n",
    "yield from some_other_generator()\n",
    "```"
   ]
  },
  {
   "cell_type": "markdown",
   "id": "8e33a021",
   "metadata": {},
   "source": [
    "This behaves like the explicit loop above, repeatedly yielding values\n",
    "from `some_other_generator` until it is exhausted, but also forwards\n",
    "`send`, `throw` and `close` to the subgenerator.\n",
    "\n",
    "## Decorators\n",
    "\n",
    ":::{sidebar} Summary\n",
    "\n",
    "> This amazing feature appeared in the language almost apologetically and with\n",
    "concern that it might not be that useful. — *Bruce Eckel* in [An Introduction to Python Decorators](https://www.artima.com/weblogs/viewpost.jsp?thread=240808)\n",
    "\n",
    ":::\n",
    "\n",
    "Since functions and classes are objects, they can be passed\n",
    "around. Since they are mutable objects, they can be modified. The act\n",
    "of altering a function or class object after it has been constructed\n",
    "but before is is bound to its name is called decorating.\n",
    "\n",
    "There are two things hiding behind the name \"decorator\" — one is the\n",
    "function which does the work of decorating, i.e. performs the real\n",
    "work, and the other one is the expression adhering to the decorator\n",
    "syntax, i.e. an at-symbol and the name of the decorating function.\n",
    "\n",
    "Function can be decorated by using the decorator syntax for\n",
    "functions:"
   ]
  },
  {
   "cell_type": "markdown",
   "id": "b213c792",
   "metadata": {},
   "source": [
    "```python\n",
    "@decorator             # ②\n",
    "def function():        # ①\n",
    "    pass\n",
    "```"
   ]
  },
  {
   "cell_type": "markdown",
   "id": "ff4991a9",
   "metadata": {},
   "source": [
    "- A function is defined in the standard way. ①\n",
    "- An expression starting with `@` placed before the function\n",
    "  definition is the decorator ②. The part after `@` must be a simple\n",
    "  expression, usually this is just the name of a function or class. This\n",
    "  part is evaluated first, and after the function defined below is\n",
    "  ready, the decorator is called with the newly defined function object\n",
    "  as the single argument. The value returned by the decorator is\n",
    "  attached to the original name of the function.\n",
    "\n",
    "Decorators can be applied to functions and to classes. For\n",
    "classes the semantics are identical — the original class definition\n",
    "is used as an argument to call the decorator and whatever is returned\n",
    "is assigned under the original name.\n",
    "\n",
    "Before the decorator syntax was implemented ({pep}`318`), it was\n",
    "possible to achieve the same effect by assigning the function or class\n",
    "object to a temporary variable and then invoking the decorator\n",
    "explicitly and then assigning the return value to the name of the\n",
    "function. This sounds like more typing, and it is, and also the name of\n",
    "the decorated function doubling as a temporary variable must be used\n",
    "at least three times, which is prone to errors. Nevertheless, the\n",
    "example above is equivalent to:"
   ]
  },
  {
   "cell_type": "markdown",
   "id": "2ae77eba",
   "metadata": {},
   "source": [
    "```python\n",
    "def function():                  # ①\n",
    "    pass\n",
    "function = decorator(function)   # ②\n",
    "```"
   ]
  },
  {
   "cell_type": "markdown",
   "id": "9dff155e",
   "metadata": {},
   "source": [
    "Decorators can be stacked — the order of application is\n",
    "bottom-to-top, or inside-out. The semantics are such that the originally\n",
    "defined function is used as an argument for the first decorator,\n",
    "whatever is returned by the first decorator is used as an argument for\n",
    "the second decorator, ..., and whatever is returned by the last\n",
    "decorator is attached under the name of the original function.\n",
    "\n",
    "The decorator syntax was chosen for its readability. Since the\n",
    "decorator is specified before the header of the function, it is\n",
    "obvious that its is not a part of the function body and its clear that\n",
    "it can only operate on the whole function. Because the expression is\n",
    "prefixed with `@` is stands out and is hard to miss (\"in your face\",\n",
    "according to the PEP :) ). When more than one decorator is applied,\n",
    "each one is placed on a separate line in an easy to read way.\n",
    "\n",
    "### Replacing or tweaking the original object\n",
    "\n",
    "Decorators can either return the same function or class object or they\n",
    "can return a completely different object. In the first case, the\n",
    "decorator can exploit the fact that function and class objects are\n",
    "mutable and add attributes, e.g. add a docstring to a class. A\n",
    "decorator might do something useful even without modifying the object,\n",
    "for example register the decorated class in a global registry. In the\n",
    "second case, virtually anything is possible: when something\n",
    "different is substituted for the original function or class, the new\n",
    "object can be completely different. Nevertheless, such behaviour is\n",
    "not the purpose of decorators: they are intended to tweak the\n",
    "decorated object, not do something unpredictable. Therefore, when a\n",
    "function is \"decorated\" by replacing it with a different function, the\n",
    "new function usually calls the original function, after doing some\n",
    "preparatory work. Likewise, when a class is \"decorated\" by replacing\n",
    "if with a new class, the new class is usually derived from the\n",
    "original class. When the purpose of the decorator is to do something\n",
    "\"every time\", like to log every call to a decorated function, only the\n",
    "second type of decorators can be used. On the other hand, if the first\n",
    "type is sufficient, it is better to use it, because it is simpler.\n",
    "\n",
    "### Decorators implemented as classes and as functions\n",
    "\n",
    "The only *requirement* on decorators is that they can be called with a\n",
    "single argument. This means that decorators can be implemented as\n",
    "normal functions, or as classes with a `__call__ <object.__call__>`\n",
    "method, or in theory, even as lambda functions.\n",
    "\n",
    "Let's compare the function and class approaches. The decorator\n",
    "expression (the part after `@`) can be either just a name, or a\n",
    "call. The bare-name approach is nice (less to type, looks cleaner,\n",
    "etc.), but is only possible when no arguments are needed to customise\n",
    "the decorator. Decorators written as functions can be used in those\n",
    "two cases:"
   ]
  },
  {
   "cell_type": "code",
   "execution_count": null,
   "id": "d08abcdb",
   "metadata": {},
   "outputs": [],
   "source": [
    "def simple_decorator(function):\n",
    "  print(\"doing decoration\")\n",
    "  return function\n",
    "@simple_decorator\n",
    "def function():\n",
    "  print(\"inside function\")"
   ]
  },
  {
   "cell_type": "code",
   "execution_count": null,
   "id": "547b97f1",
   "metadata": {},
   "outputs": [],
   "source": [
    "function()"
   ]
  },
  {
   "cell_type": "code",
   "execution_count": null,
   "id": "dace30bb",
   "metadata": {},
   "outputs": [],
   "source": [
    "def decorator_with_arguments(arg):\n",
    "  print(\"defining the decorator\")\n",
    "  def _decorator(function):\n",
    "      # in this inner function, arg is available too\n",
    "      print(\"doing decoration, %r\" % arg)\n",
    "      return function\n",
    "  return _decorator\n",
    "@decorator_with_arguments(\"abc\")\n",
    "def function():\n",
    "  print(\"inside function\")"
   ]
  },
  {
   "cell_type": "code",
   "execution_count": null,
   "id": "d5fda296",
   "metadata": {},
   "outputs": [],
   "source": [
    "function()"
   ]
  },
  {
   "cell_type": "markdown",
   "id": "5530ae73",
   "metadata": {},
   "source": [
    "The two trivial decorators above fall into the category of decorators\n",
    "which return the original function. If they were to return a new\n",
    "function, an extra level of nestedness would be required.\n",
    "In the worst case, three levels of nested functions."
   ]
  },
  {
   "cell_type": "code",
   "execution_count": null,
   "id": "ad4367e3",
   "metadata": {},
   "outputs": [],
   "source": [
    "def replacing_decorator_with_args(arg):\n",
    "  print(\"defining the decorator\")\n",
    "  def _decorator(function):\n",
    "      # in this inner function, arg is available too\n",
    "      print(\"doing decoration, %r\" % arg)\n",
    "      def _wrapper(*args, **kwargs):\n",
    "          print(\"inside wrapper, %r %r\" % (args, kwargs))\n",
    "          return function(*args, **kwargs)\n",
    "      return _wrapper\n",
    "  return _decorator\n",
    "@replacing_decorator_with_args(\"abc\")\n",
    "def function(*args, **kwargs):\n",
    "    print(\"inside function, %r %r\" % (args, kwargs))\n",
    "    return 14"
   ]
  },
  {
   "cell_type": "code",
   "execution_count": null,
   "id": "c4ea4378",
   "metadata": {},
   "outputs": [],
   "source": [
    "function(11, 12)"
   ]
  },
  {
   "cell_type": "markdown",
   "id": "a08acecd",
   "metadata": {},
   "source": [
    "The `_wrapper` function is defined to accept all positional and\n",
    "keyword arguments. In general we cannot know what arguments the\n",
    "decorated function is supposed to accept, so the wrapper function\n",
    "just passes everything to the wrapped function. One unfortunate\n",
    "consequence is that the apparent argument list is misleading.\n",
    "\n",
    "Compared to decorators defined as functions, complex decorators\n",
    "defined as classes are simpler. When an object is created, the\n",
    "`__init__ <object.__init__>` method is only allowed to return `None`,\n",
    "and the type of the created object cannot be changed. This means that\n",
    "when a decorator is defined as a class, it doesn't make much sense to\n",
    "use the argument-less form: the final decorated object would just be\n",
    "an instance of the decorating class, returned by the constructor call,\n",
    "which is not very useful. Therefore it's enough to discuss class-based\n",
    "decorators where arguments are given in the decorator expression and\n",
    "the decorator `__init__` method is used for decorator construction."
   ]
  },
  {
   "cell_type": "code",
   "execution_count": null,
   "id": "ea0d8e0c",
   "metadata": {},
   "outputs": [],
   "source": [
    "class decorator_class(object):\n",
    "  def __init__(self, arg):\n",
    "      # this method is called in the decorator expression\n",
    "      print(\"in decorator init, %s\" % arg)\n",
    "      self.arg = arg\n",
    "  def __call__(self, function):\n",
    "      # this method is called to do the job\n",
    "      print(\"in decorator call, %s\" % self.arg)\n",
    "      return function\n",
    "deco_instance = decorator_class('foo')"
   ]
  },
  {
   "cell_type": "code",
   "execution_count": null,
   "id": "7cf9e6b0",
   "metadata": {},
   "outputs": [],
   "source": [
    "@deco_instance\n",
    "def function(*args, **kwargs):\n",
    "  print(\"in function, %s %s\" % (args, kwargs))"
   ]
  },
  {
   "cell_type": "code",
   "execution_count": null,
   "id": "4b6f3aed",
   "metadata": {},
   "outputs": [],
   "source": [
    "function()"
   ]
  },
  {
   "cell_type": "markdown",
   "id": "53a35e26",
   "metadata": {},
   "source": [
    "Contrary to normal rules ({PEP}`8`) decorators written as classes\n",
    "behave more like functions and therefore their name often starts with a\n",
    "lowercase letter.\n",
    "\n",
    "In reality, it doesn't make much sense to create a new class just to\n",
    "have a decorator which returns the original function. Objects are\n",
    "supposed to hold state, and such decorators are more useful when the\n",
    "decorator returns a new object."
   ]
  },
  {
   "cell_type": "code",
   "execution_count": null,
   "id": "a1512ec4",
   "metadata": {},
   "outputs": [],
   "source": [
    "class replacing_decorator_class(object):\n",
    "  def __init__(self, arg):\n",
    "      # this method is called in the decorator expression\n",
    "      print(\"in decorator init, %s\" % arg)\n",
    "      self.arg = arg\n",
    "  def __call__(self, function):\n",
    "      # this method is called to do the job\n",
    "      print(\"in decorator call, %s\" % self.arg)\n",
    "      self.function = function\n",
    "      return self._wrapper\n",
    "  def _wrapper(self, *args, **kwargs):\n",
    "      print(\"in the wrapper, %s %s\" % (args, kwargs))\n",
    "      return self.function(*args, **kwargs)\n",
    "deco_instance = replacing_decorator_class('foo')"
   ]
  },
  {
   "cell_type": "code",
   "execution_count": null,
   "id": "b9cc8c40",
   "metadata": {},
   "outputs": [],
   "source": [
    "@deco_instance\n",
    "def function(*args, **kwargs):\n",
    "  print(\"in function, %s %s\" % (args, kwargs))"
   ]
  },
  {
   "cell_type": "code",
   "execution_count": null,
   "id": "7499bc8b",
   "metadata": {},
   "outputs": [],
   "source": [
    "function(11, 12)"
   ]
  },
  {
   "cell_type": "markdown",
   "id": "51d2a2ba",
   "metadata": {},
   "source": [
    "A decorator like this can do pretty much anything, since it can modify\n",
    "the original function object and mangle the arguments, call the\n",
    "original function or not, and afterwards mangle the return value.\n",
    "\n",
    "### Copying the docstring and other attributes of the original function\n",
    "\n",
    "When a new function is returned by the decorator to replace the\n",
    "original function, an unfortunate consequence is that the original\n",
    "function name, the original docstring, the original argument list are\n",
    "lost. Those attributes of the original function can partially be \"transplanted\"\n",
    "to the new function by setting `__doc__` (the docstring), `__module__`\n",
    "and `__name__` (the full name of the function), and\n",
    "`__annotations__` (extra information about arguments and the return\n",
    "value of the function available in Python 3). This can be done\n",
    "automatically by using `functools.update_wrapper`.\n",
    "\n",
    "**Start of admonition: `functools.update_wrapper(wrapper, wrapped) <functools.update_wrapper>`**\n",
    "\"Update a wrapper function to look like the wrapped function.\""
   ]
  },
  {
   "cell_type": "code",
   "execution_count": null,
   "id": "523dc576",
   "metadata": {},
   "outputs": [],
   "source": [
    "import functools\n",
    "def replacing_decorator_with_args(arg):\n",
    "  print(\"defining the decorator\")\n",
    "  def _decorator(function):\n",
    "      print(\"doing decoration, %r\" % arg)\n",
    "      def _wrapper(*args, **kwargs):\n",
    "          print(\"inside wrapper, %r %r\" % (args, kwargs))\n",
    "          return function(*args, **kwargs)\n",
    "      return functools.update_wrapper(_wrapper, function)\n",
    "  return _decorator\n",
    "@replacing_decorator_with_args(\"abc\")\n",
    "def function():\n",
    "    \"extensive documentation\"\n",
    "    print(\"inside function\")\n",
    "    return 14"
   ]
  },
  {
   "cell_type": "code",
   "execution_count": null,
   "id": "b88a21e7",
   "metadata": {},
   "outputs": [],
   "source": [
    "function"
   ]
  },
  {
   "cell_type": "code",
   "execution_count": null,
   "id": "13127676",
   "metadata": {
    "lines_to_next_cell": 0
   },
   "outputs": [],
   "source": [
    "print(function.__doc__)"
   ]
  },
  {
   "cell_type": "markdown",
   "id": "db959a4c",
   "metadata": {},
   "source": [
    "**End of admonition**\n",
    "\n",
    "One important thing is missing from the list of attributes which can\n",
    "be copied to the replacement function: the argument list. The default\n",
    "values for arguments can be modified through the `__defaults__`,\n",
    "`__kwdefaults__` attributes, but unfortunately the argument list\n",
    "itself cannot be set as an attribute. This means that\n",
    "`help(function)` will display a useless argument list which will be\n",
    "confusing for the user of the function. An effective but ugly way\n",
    "around this problem is to create the wrapper dynamically, using\n",
    "`eval`. This can be automated by using the external `decorator`\n",
    "module. It provides support for the `decorator` decorator, which takes a\n",
    "wrapper and turns it into a decorator which preserves the function\n",
    "signature.\n",
    "\n",
    "To sum things up, decorators should always use `functools.update_wrapper`\n",
    "or some other means of copying function attributes.\n",
    "\n",
    "### Examples in the standard library\n",
    "\n",
    "First, it should be mentioned that there's a number of useful\n",
    "decorators available in the standard library. There are three decorators\n",
    "which really form a part of the language:\n",
    "\n",
    "- `classmethod` causes a method to become a \"class method\",\n",
    "  which means that it can be invoked without creating an instance of\n",
    "  the class. When a normal method is invoked, the interpreter inserts\n",
    "  the instance object as the first positional parameter,\n",
    "  `self`. When a class method is invoked, the class itself is given\n",
    "  as the first parameter, often called `cls`.\n",
    "\n",
    "  Class methods are still accessible through the class' namespace, so\n",
    "  they don't pollute the module's namespace. Class methods can be used\n",
    "  to provide alternative constructors:"
   ]
  },
  {
   "cell_type": "code",
   "execution_count": null,
   "id": "d682e2c2",
   "metadata": {},
   "outputs": [],
   "source": [
    "  class Array(object):\n",
    "      def __init__(self, data):\n",
    "          self.data = data\n",
    "\n",
    "      @classmethod\n",
    "      def fromfile(cls, file):\n",
    "          data = numpy.load(file)\n",
    "          return cls(data)"
   ]
  },
  {
   "cell_type": "markdown",
   "id": "4f12c335",
   "metadata": {},
   "source": [
    "  This is cleaner than using a multitude of flags to `__init__`.\n",
    "\n",
    "- `staticmethod` is applied to methods to make them \"static\",\n",
    "  i.e. basically a normal function, but accessible through the class\n",
    "  namespace. This can be useful when the function is only needed\n",
    "  inside this class (its name would then be prefixed with `_`), or when we\n",
    "  want the user to think of the method as connected to the class,\n",
    "  despite an implementation which doesn't require this.\n",
    "\n",
    "- `property` is the pythonic answer to the problem of getters\n",
    "  and setters. A method decorated with `property` becomes a getter\n",
    "  which is automatically called on attribute access."
   ]
  },
  {
   "cell_type": "code",
   "execution_count": null,
   "id": "52d9d258",
   "metadata": {},
   "outputs": [],
   "source": [
    "class A(object):\n",
    "  @property\n",
    "  def a(self):\n",
    "    \"an important attribute\"\n",
    "    return \"a value\"\n",
    "A.a"
   ]
  },
  {
   "cell_type": "code",
   "execution_count": null,
   "id": "f0652d88",
   "metadata": {},
   "outputs": [],
   "source": [
    "A().a"
   ]
  },
  {
   "cell_type": "markdown",
   "id": "7d094217",
   "metadata": {},
   "source": [
    "  In this example, `A.a` is an read-only attribute. It is also\n",
    "  documented: `help(A)` includes the docstring for attribute `a`\n",
    "  taken from the getter method. Defining `a` as a property allows it\n",
    "  to be a calculated on the fly, and has the side effect of making it\n",
    "  read-only, because no setter is defined.\n",
    "\n",
    "  To have a setter and a getter, two methods are required,\n",
    "  obviously:"
   ]
  },
  {
   "cell_type": "code",
   "execution_count": null,
   "id": "85671d4c",
   "metadata": {},
   "outputs": [],
   "source": [
    "  class Rectangle(object):\n",
    "      def __init__(self, edge):\n",
    "          self.edge = edge\n",
    "\n",
    "      @property\n",
    "      def area(self):\n",
    "          \"\"\"Computed area.\n",
    "\n",
    "          Setting this updates the edge length to the proper value.\n",
    "          \"\"\"\n",
    "          return self.edge**2\n",
    "\n",
    "      @area.setter\n",
    "      def area(self, area):\n",
    "          self.edge = area ** 0.5"
   ]
  },
  {
   "cell_type": "markdown",
   "id": "d5125cbe",
   "metadata": {},
   "source": [
    "  The way that this works, is that the `property` decorator replaces\n",
    "  the getter method with a property object. This object in turn has\n",
    "  three methods, `getter`, `setter`, and `deleter`, which can be\n",
    "  used as decorators. Their job is to set the getter, setter and\n",
    "  deleter of the property object (stored as attributes `fget`,\n",
    "  `fset`, and `fdel`). The getter can be set like in the example\n",
    "  above, when creating the object. When defining the setter, we\n",
    "  already have the property object under `area`, and we add the\n",
    "  setter to it by using the `setter` method. All this happens when\n",
    "  we are creating the class.\n",
    "\n",
    "  Afterwards, when an instance of the class has been created, the\n",
    "  property object is special. When the interpreter executes attribute\n",
    "  access, assignment, or deletion, the job is delegated to the methods\n",
    "  of the property object.\n",
    "\n",
    "  To make everything crystal clear, let's define a \"debug\" example:"
   ]
  },
  {
   "cell_type": "code",
   "execution_count": null,
   "id": "eb2fbbdb",
   "metadata": {},
   "outputs": [],
   "source": [
    "class D(object):\n",
    "   @property\n",
    "   def a(self):\n",
    "     print(\"getting 1\")\n",
    "     return 1\n",
    "   @a.setter\n",
    "   def a(self, value):\n",
    "     print(\"setting %r\" % value)\n",
    "   @a.deleter\n",
    "   def a(self):\n",
    "     print(\"deleting\")\n",
    "D.a"
   ]
  },
  {
   "cell_type": "code",
   "execution_count": null,
   "id": "b9a2cf40",
   "metadata": {},
   "outputs": [],
   "source": [
    "D.a.fget"
   ]
  },
  {
   "cell_type": "code",
   "execution_count": null,
   "id": "7aa0618f",
   "metadata": {},
   "outputs": [],
   "source": [
    "D.a.fset"
   ]
  },
  {
   "cell_type": "code",
   "execution_count": null,
   "id": "573109d9",
   "metadata": {},
   "outputs": [],
   "source": [
    "D.a.fdel"
   ]
  },
  {
   "cell_type": "code",
   "execution_count": null,
   "id": "d4610e58",
   "metadata": {},
   "outputs": [],
   "source": [
    "d = D()               # ... varies, this is not the same `a` function\n",
    "d.a"
   ]
  },
  {
   "cell_type": "code",
   "execution_count": null,
   "id": "b5001934",
   "metadata": {},
   "outputs": [],
   "source": [
    "d.a = 2"
   ]
  },
  {
   "cell_type": "code",
   "execution_count": null,
   "id": "aeefe1ef",
   "metadata": {},
   "outputs": [],
   "source": [
    "del d.a"
   ]
  },
  {
   "cell_type": "code",
   "execution_count": null,
   "id": "79935500",
   "metadata": {},
   "outputs": [],
   "source": [
    "d.a"
   ]
  },
  {
   "cell_type": "markdown",
   "id": "ddbe8567",
   "metadata": {},
   "source": [
    "  Properties are a bit of a stretch for the decorator syntax. One of the\n",
    "  premises of the decorator syntax — that the name is not duplicated\n",
    "  — is violated, but nothing better has been invented so far. It is\n",
    "  just good style to use the same name for the getter, setter, and\n",
    "  deleter methods.\n",
    "\n",
    "  % property documentation mentions that this only works for\n",
    "  % old-style classes, but this seems to be an error.\n",
    "\n",
    "Some newer examples include:\n",
    "\n",
    "- `functools.lru_cache` memoizes an arbitrary function\n",
    "  maintaining a limited cache of arguments:answer pairs (Python 3.2)\n",
    "- `functools.total_ordering` is a class decorator which fills in\n",
    "  missing ordering methods\n",
    "  (`__lt__ <object.__lt__>`, `__gt__ <object.__gt__>`,\n",
    "  `__le__ <object.__le__>`, ...)\n",
    "  based on a single available one.\n",
    "\n",
    "<!---\n",
    "- `packaging.pypi.simple.socket_timeout` (in Python 3.3) adds\n",
    "a socket timeout when retrieving data through a socket.\n",
    "-->\n",
    "### Deprecation of functions\n",
    "\n",
    "Let's say we want to print a deprecation warning on stderr on the\n",
    "first invocation of a function we don't like anymore. If we don't want\n",
    "to modify the function, we can use a decorator:"
   ]
  },
  {
   "cell_type": "code",
   "execution_count": null,
   "id": "53dbd044",
   "metadata": {},
   "outputs": [],
   "source": [
    "class deprecated(object):\n",
    "    \"\"\"Print a deprecation warning once on first use of the function.\n",
    "\n",
    "    >>> @deprecated()\n",
    "    ... def f():\n",
    "    ...     pass\n",
    "    >>> f()\n",
    "    f is deprecated\n",
    "    \"\"\"\n",
    "    def __call__(self, func):\n",
    "        self.func = func\n",
    "        self.count = 0\n",
    "        return self._wrapper\n",
    "    def _wrapper(self, *args, **kwargs):\n",
    "        self.count += 1\n",
    "        if self.count == 1:\n",
    "            print(self.func.__name__, 'is deprecated')\n",
    "        return self.func(*args, **kwargs)"
   ]
  },
  {
   "cell_type": "markdown",
   "id": "5a7671c2",
   "metadata": {},
   "source": [
    "<!---\n",
    "TODO: use update_wrapper here\n",
    "-->\n",
    "It can also be implemented as a function:"
   ]
  },
  {
   "cell_type": "code",
   "execution_count": null,
   "id": "88d02cc8",
   "metadata": {},
   "outputs": [],
   "source": [
    "def deprecated(func):\n",
    "    \"\"\"Print a deprecation warning once on first use of the function.\n",
    "\n",
    "    >>> @deprecated\n",
    "    ... def f():\n",
    "    ...     pass\n",
    "    >>> f()\n",
    "    f is deprecated\n",
    "    \"\"\"\n",
    "    count = [0]\n",
    "    def wrapper(*args, **kwargs):\n",
    "        count[0] += 1\n",
    "        if count[0] == 1:\n",
    "            print(func.__name__, 'is deprecated')\n",
    "        return func(*args, **kwargs)\n",
    "    return wrapper"
   ]
  },
  {
   "cell_type": "markdown",
   "id": "2d96e6d1",
   "metadata": {},
   "source": [
    "### A `while`-loop removing decorator\n",
    "\n",
    "Let's say we have function which returns a lists of things, and this\n",
    "list created by running a loop. If we don't know how many objects will\n",
    "be needed, the standard way to do this is something like:"
   ]
  },
  {
   "cell_type": "code",
   "execution_count": null,
   "id": "1148d934",
   "metadata": {},
   "outputs": [],
   "source": [
    "def find_answers():\n",
    "    answers = []\n",
    "    while True:\n",
    "        ans = look_for_next_answer()\n",
    "        if ans is None:\n",
    "            break\n",
    "        answers.append(ans)\n",
    "    return answers"
   ]
  },
  {
   "cell_type": "markdown",
   "id": "814d2580",
   "metadata": {},
   "source": [
    "This is fine, as long as the body of the loop is fairly compact. Once\n",
    "it becomes more complicated, as often happens in real code, this\n",
    "becomes pretty unreadable. We could simplify this by using `yield`\n",
    "statements, but then the user would have to explicitly call\n",
    "`list(find_answers())`.\n",
    "\n",
    "We can define a decorator which constructs the list for us:"
   ]
  },
  {
   "cell_type": "code",
   "execution_count": null,
   "id": "ebd2809a",
   "metadata": {},
   "outputs": [],
   "source": [
    "def vectorized(generator_func):\n",
    "    def wrapper(*args, **kwargs):\n",
    "        return list(generator_func(*args, **kwargs))\n",
    "    return functools.update_wrapper(wrapper, generator_func)"
   ]
  },
  {
   "cell_type": "markdown",
   "id": "6d75435c",
   "metadata": {},
   "source": [
    "Our function then becomes:"
   ]
  },
  {
   "cell_type": "code",
   "execution_count": null,
   "id": "ce175cd7",
   "metadata": {},
   "outputs": [],
   "source": [
    "@vectorized\n",
    "def find_answers():\n",
    "    while True:\n",
    "        ans = look_for_next_answer()\n",
    "        if ans is None:\n",
    "            break\n",
    "        yield ans"
   ]
  },
  {
   "cell_type": "markdown",
   "id": "69130b9a",
   "metadata": {},
   "source": [
    "### A plugin registration system\n",
    "\n",
    "This is a class decorator which doesn't modify the class, but just\n",
    "puts it in a global registry. It falls into the category of decorators\n",
    "returning the original object:"
   ]
  },
  {
   "cell_type": "code",
   "execution_count": null,
   "id": "2ee97899",
   "metadata": {},
   "outputs": [],
   "source": [
    "class WordProcessor(object):\n",
    "    PLUGINS = []\n",
    "    def process(self, text):\n",
    "        for plugin in self.PLUGINS:\n",
    "            text = plugin().cleanup(text)\n",
    "        return text\n",
    "\n",
    "    @classmethod\n",
    "    def plugin(cls, plugin):\n",
    "        cls.PLUGINS.append(plugin)\n",
    "\n",
    "@WordProcessor.plugin\n",
    "class CleanMdashesExtension(object):\n",
    "    def cleanup(self, text):\n",
    "        return text.replace('&mdash;', u'\\N{em dash}')"
   ]
  },
  {
   "cell_type": "markdown",
   "id": "0f3995cb",
   "metadata": {},
   "source": [
    "Here we use a decorator to decentralise the registration of\n",
    "plugins. We call our decorator with a noun, instead of a verb, because\n",
    "we use it to declare that our class is a plugin for\n",
    "`WordProcessor`. Method `plugin` simply appends the class to the\n",
    "list of plugins.\n",
    "\n",
    "A word about the plugin itself: it replaces HTML entity for em-dash\n",
    "with a real Unicode em-dash character. It exploits the [unicode\n",
    "literal notation][unicode literal notation] to insert a character by using its name in the\n",
    "unicode database (\"EM DASH\"). If the Unicode character was inserted\n",
    "directly, it would be impossible to distinguish it from an en-dash in\n",
    "the source of a program.\n",
    "\n",
    "**Start of admonition: See also**\n",
    "\n",
    "**More examples and reading**\n",
    "\n",
    "- {pep}`318` (function and method decorator syntax)\n",
    "\n",
    "- {pep}`3129` (class decorator syntax)\n",
    "\n",
    "- <https://wiki.python.org/moin/PythonDecoratorLibrary>\n",
    "\n",
    "- <https://docs.python.org/dev/library/functools.html>\n",
    "\n",
    "- <https://pypi.org/project/decorator>\n",
    "\n",
    "- Bruce Eckel\n",
    "\n",
    "  - [Decorators I]: Introduction to Python Decorators\n",
    "  - [Python Decorators II]: Decorator Arguments\n",
    "  - [Python Decorators III]: A Decorator-Based Build System\n",
    "**End of admonition**\n",
    "\n",
    "## Context managers\n",
    "\n",
    "A context manager is an object with `__enter__ <object.__enter__>` and\n",
    "`__exit__ <object.__exit__>` methods which can be used in the `with` statement:"
   ]
  },
  {
   "cell_type": "markdown",
   "id": "9006c014",
   "metadata": {},
   "source": [
    "```python\n",
    "with manager as var:\n",
    "    do_something(var)\n",
    "```"
   ]
  },
  {
   "cell_type": "markdown",
   "id": "d65fcf9c",
   "metadata": {},
   "source": [
    "is in the simplest case\n",
    "\n",
    "equivalent to"
   ]
  },
  {
   "cell_type": "markdown",
   "id": "4590964e",
   "metadata": {},
   "source": [
    "```python\n",
    "var = manager.__enter__()\n",
    "try:\n",
    "    do_something(var)\n",
    "finally:\n",
    "    manager.__exit__()\n",
    "```"
   ]
  },
  {
   "cell_type": "markdown",
   "id": "fcc028b0",
   "metadata": {},
   "source": [
    "In other words, the context manager protocol defined in {pep}`343`\n",
    "permits the extraction of the boring part of a `try..except..finally` structure\n",
    "into a separate class leaving only the interesting `do_something` block.\n",
    "\n",
    "1. The `__enter__ <object.__enter__>` method is called first. It can\n",
    "   return a value which will be assigned to `var`.\n",
    "   The `as`-part is optional: if it isn't present, the value\n",
    "   returned by `__enter__` is simply ignored.\n",
    "2. The block of code underneath `with` is executed. Just like with\n",
    "   `try` clauses, it can either execute successfully to the end, or\n",
    "   it can `break`, `continue` or `return`, or\n",
    "   it can throw an exception. Either way, after the block is finished,\n",
    "   the `__exit__ <object.__exit__>` method is called.\n",
    "   If an exception was thrown, the information about the exception is\n",
    "   passed to `__exit__`, which is described below in the next\n",
    "   subsection. In the normal case, exceptions can be ignored, just\n",
    "   like in a `finally` clause, and will be rethrown after\n",
    "   `__exit__` is finished.\n",
    "\n",
    "Let's say we want to make sure that a file is closed immediately after\n",
    "we are done writing to it:"
   ]
  },
  {
   "cell_type": "code",
   "execution_count": null,
   "id": "b690d3b3",
   "metadata": {},
   "outputs": [],
   "source": [
    "class closing(object):\n",
    "  def __init__(self, obj):\n",
    "    self.obj = obj\n",
    "  def __enter__(self):\n",
    "    return self.obj\n",
    "  def __exit__(self, *args):\n",
    "    self.obj.close()\n",
    "with closing(open('/tmp/file', 'w')) as f:\n",
    "  f.write('the contents\\n')"
   ]
  },
  {
   "cell_type": "markdown",
   "id": "721c4238",
   "metadata": {},
   "source": [
    "Here we have made sure that the `f.close()` is called when the\n",
    "`with` block is exited. Since closing files is such a common\n",
    "operation, the support for this is already present in the `file`\n",
    "class. It has an `__exit__` method which calls `close` and can be\n",
    "used as a context manager itself:"
   ]
  },
  {
   "cell_type": "code",
   "execution_count": null,
   "id": "d5c4696a",
   "metadata": {},
   "outputs": [],
   "source": [
    "with open('/tmp/file', 'a') as f:\n",
    "  f.write('more contents\\n')"
   ]
  },
  {
   "cell_type": "markdown",
   "id": "34f16b54",
   "metadata": {},
   "source": [
    "The common use for `try..finally` is releasing resources. Various\n",
    "different cases are implemented similarly: in the `__enter__`\n",
    "phase the resource is acquired, in the `__exit__` phase it is\n",
    "released, and the exception, if thrown, is propagated. As with files,\n",
    "there's often a natural operation to perform after the object has been\n",
    "used and it is most convenient to have the support built in. With each\n",
    "release, Python provides support in more places:\n",
    "\n",
    "- all file-like objects:\n",
    "\n",
    "  - `file` ➔ automatically closed\n",
    "  - `fileinput`, `tempfile`\n",
    "  - `bz2.BZ2File`, `gzip.GzipFile`,\n",
    "    `tarfile.TarFile`, `zipfile.ZipFile`\n",
    "  - `ftplib`, `nntplib` ➔ close connection\n",
    "\n",
    "- locks\n",
    "\n",
    "  - `multiprocessing.RLock` ➔ lock and unlock\n",
    "  - `multiprocessing.Semaphore`\n",
    "  - `memoryview` ➔ automatically release\n",
    "\n",
    "- `decimal.localcontext` ➔ modify precision of computations temporarily\n",
    "\n",
    "- `_winreg.PyHKEY <_winreg.OpenKey>` ➔ open and close hive key\n",
    "\n",
    "- `warnings.catch_warnings` ➔ kill warnings temporarily\n",
    "\n",
    "- `contextlib.closing` ➔ the same as the example above, call `close`\n",
    "\n",
    "- parallel programming\n",
    "\n",
    "  - `concurrent.futures.ThreadPoolExecutor` ➔ invoke in parallel then kill thread pool\n",
    "  - `concurrent.futures.ProcessPoolExecutor` ➔ invoke in parallel then kill process pool\n",
    "  - `nogil` ➔ solve the GIL problem temporarily (cython only :( )\n",
    "\n",
    "### Catching exceptions\n",
    "\n",
    "When an exception is thrown in the `with`-block, it is passed as\n",
    "arguments to `__exit__`. Three arguments are used, the same as\n",
    "returned by {py:func}`sys.exc_info`: type, value, traceback. When no\n",
    "exception is thrown, `None` is used for all three arguments. The\n",
    "context manager can \"swallow\" the exception by returning a true value\n",
    "from `__exit__`. Exceptions can be easily ignored, because if\n",
    "`__exit__` doesn't use `return` and just falls of the end,\n",
    "`None` is returned, a false value, and therefore the exception is\n",
    "rethrown after `__exit__` is finished.\n",
    "\n",
    "The ability to catch exceptions opens interesting possibilities. A\n",
    "classic example comes from unit-tests — we want to make sure that\n",
    "some code throws the right kind of exception:"
   ]
  },
  {
   "cell_type": "code",
   "execution_count": null,
   "id": "87645454",
   "metadata": {},
   "outputs": [],
   "source": [
    "class assert_raises(object):\n",
    "    # based on pytest and unittest.TestCase\n",
    "    def __init__(self, type):\n",
    "        self.type = type\n",
    "    def __enter__(self):\n",
    "        pass\n",
    "    def __exit__(self, type, value, traceback):\n",
    "        if type is None:\n",
    "            raise AssertionError('exception expected')\n",
    "        if issubclass(type, self.type):\n",
    "            return True # swallow the expected exception\n",
    "        raise AssertionError('wrong exception type')\n",
    "\n",
    "with assert_raises(KeyError):\n",
    "    {}['foo']"
   ]
  },
  {
   "cell_type": "markdown",
   "id": "f62c2f0d",
   "metadata": {},
   "source": [
    "### Using generators to define context managers\n",
    "\n",
    "When discussing [generators], it was said that we prefer generators to\n",
    "iterators implemented as classes because they are shorter, sweeter,\n",
    "and the state is stored as local, not instance, variables. On the\n",
    "other hand, as described in [Bidirectional communication], the flow\n",
    "of data between the generator and its caller can be bidirectional.\n",
    "This includes exceptions, which can be thrown into the\n",
    "generator. We would like to implement context managers as special\n",
    "generator functions. In fact, the generator protocol was designed to\n",
    "support this use case."
   ]
  },
  {
   "cell_type": "markdown",
   "id": "b1ef63c7",
   "metadata": {},
   "source": [
    "```python\n",
    "@contextlib.contextmanager\n",
    "def some_generator(<arguments>):\n",
    "    <setup>\n",
    "    try:\n",
    "        yield <value>\n",
    "    finally:\n",
    "        <cleanup>\n",
    "```"
   ]
  },
  {
   "cell_type": "markdown",
   "id": "437292a1",
   "metadata": {},
   "source": [
    "The `contextlib.contextmanager` helper takes a generator and turns it\n",
    "into a context manager. The generator has to obey some rules which are\n",
    "enforced by the wrapper function — most importantly it must\n",
    "`yield` exactly once. The part before the `yield` is executed from\n",
    "`__enter__`, the block of code protected by the context manager is\n",
    "executed when the generator is suspended in `yield`, and the rest is\n",
    "executed in `__exit__`. If an exception is thrown, the interpreter\n",
    "hands it to the wrapper through `__exit__` arguments, and the\n",
    "wrapper function then throws it at the point of the `yield`\n",
    "statement. Through the use of generators, the context manager is\n",
    "shorter and simpler.\n",
    "\n",
    "Let's rewrite the `closing` example as a generator:"
   ]
  },
  {
   "cell_type": "code",
   "execution_count": null,
   "id": "d7317d78",
   "metadata": {},
   "outputs": [],
   "source": [
    "import contextlib\n",
    "\n",
    "@contextlib.contextmanager\n",
    "def closing(obj):\n",
    "    try:\n",
    "        yield obj\n",
    "    finally:\n",
    "        obj.close()"
   ]
  },
  {
   "cell_type": "markdown",
   "id": "6de7c56f",
   "metadata": {},
   "source": [
    "Let's rewrite the `assert_raises` example as a generator:"
   ]
  },
  {
   "cell_type": "code",
   "execution_count": null,
   "id": "61d38ed9",
   "metadata": {},
   "outputs": [],
   "source": [
    "@contextlib.contextmanager\n",
    "def assert_raises(type):\n",
    "    try:\n",
    "        yield\n",
    "    except type:\n",
    "        return\n",
    "    except Exception as value:\n",
    "        raise AssertionError('wrong exception type')\n",
    "    else:\n",
    "        raise AssertionError('exception expected')"
   ]
  },
  {
   "cell_type": "markdown",
   "id": "25d74e4b",
   "metadata": {},
   "source": [
    "Here we use a decorator to turn generator functions into context managers!\n",
    "\n",
    "[a curious course on coroutines and concurrency]: https://www.dabeaz.com/coroutines/\n",
    "[adding optional static typing to python]: https://www.artima.com/weblogs/viewpost.jsp?thread=86641\n",
    "[decorators i]: https://www.artima.com/weblogs/viewpost.jsp?thread=240808\n",
    "[iterator protocol]: https://docs.python.org/dev/library/stdtypes.html#iterator-types\n",
    "[peps]: https://peps.python.org/\n",
    "[python decorators ii]: https://www.artima.com/weblogs/viewpost.jsp?thread=240845\n",
    "[python decorators iii]: https://www.artima.com/weblogs/viewpost.jsp?thread=241209\n",
    "[unicode literal notation]: https://docs.python.org/3/reference/lexical_analysis.html#string-and-bytes-literals"
   ]
  }
 ],
 "metadata": {
  "jupytext": {
   "formats": "ipynb,Rmd"
  },
  "kernelspec": {
   "display_name": "Python (Pyodide)",
   "name": "python"
  }
 },
 "nbformat": 4,
 "nbformat_minor": 5
}
