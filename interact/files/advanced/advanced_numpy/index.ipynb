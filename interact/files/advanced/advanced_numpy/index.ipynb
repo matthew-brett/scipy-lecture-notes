{
 "cells": [
  {
   "cell_type": "markdown",
   "id": "30c28d6d",
   "metadata": {},
   "source": [
    "# Advanced NumPy\n",
    "\n",
    "**Author**: _Pauli Virtanen_\n",
    "\n",
    "NumPy is at the base of Python's scientific stack of tools. Its purpose\n",
    "to implement efficient operations on many items in a block of memory.\n",
    "Understanding how it works in detail helps in making efficient use of its\n",
    "flexibility, taking useful shortcuts.\n",
    "\n",
    "This section covers:\n",
    "\n",
    "- Anatomy of NumPy arrays, and its consequences. Tips and\n",
    "  tricks.\n",
    "- Universal functions: what, why, and what to do if you want\n",
    "  a new one.\n",
    "- Integration with other tools: NumPy offers several ways to\n",
    "  wrap any data in an ndarray, without unnecessary copies.\n",
    "- Recently added features, and what's in them: PEP\n",
    "  3118 buffers, generalized ufuncs, ...\n",
    "\n",
    ":::{admonition} Prerequisites\n",
    "\n",
    "- NumPy\n",
    "- Cython\n",
    "- Pillow (Python imaging library, used in a couple of examples)\n",
    "  :::"
   ]
  },
  {
   "cell_type": "code",
   "execution_count": null,
   "id": "fc74c207",
   "metadata": {},
   "outputs": [],
   "source": [
    "# Import Numpy module.\n",
    "import numpy as np\n",
    "# Import Matplotlib (for later).\n",
    "import matplotlib.pyplot as plt"
   ]
  },
  {
   "cell_type": "markdown",
   "id": "6f29509c",
   "metadata": {},
   "source": [
    "## Life of ndarray\n",
    "\n",
    "### It's...\n",
    "\n",
    "::: {admonition} What is an **ndarray**\n",
    "\n",
    "An **ndarray** is:\n",
    "\n",
    "- A block of memory and\n",
    "- an indexing scheme and\n",
    "- a data type descriptor.\n",
    "  :::\n",
    "\n",
    "Put another way, an ndarray has **raw data**, and algorithms to:\n",
    "\n",
    "- locate an element\n",
    "- interpret an element\n",
    "\n",
    "::: {image} threefundamental.png\n",
    ":::\n",
    "\n",
    "```c\n",
    "typedef struct PyArrayObject {\n",
    "        PyObject_HEAD\n",
    "\n",
    "        /* Block of memory */\n",
    "        char *data;\n",
    "\n",
    "        /* Data type descriptor */\n",
    "        PyArray_Descr *descr;\n",
    "\n",
    "        /* Indexing scheme */\n",
    "        int nd;\n",
    "        npy_intp *dimensions;\n",
    "        npy_intp *strides;\n",
    "\n",
    "        /* Other stuff */\n",
    "        PyObject *base;\n",
    "        int flags;\n",
    "        PyObject *weakreflist;\n",
    "} PyArrayObject;\n",
    "```\n",
    "\n",
    "### Block of memory"
   ]
  },
  {
   "cell_type": "code",
   "execution_count": null,
   "id": "b045d325",
   "metadata": {},
   "outputs": [],
   "source": [
    "x = np.array([1, 2, 3], dtype=np.int32)\n",
    "x.data"
   ]
  },
  {
   "cell_type": "code",
   "execution_count": null,
   "id": "11815926",
   "metadata": {},
   "outputs": [],
   "source": [
    "bytes(x.data)"
   ]
  },
  {
   "cell_type": "markdown",
   "id": "7b9c1e6d",
   "metadata": {},
   "source": [
    "Memory address of the data:"
   ]
  },
  {
   "cell_type": "code",
   "execution_count": null,
   "id": "dd7efca0",
   "metadata": {},
   "outputs": [],
   "source": [
    "x.__array_interface__['data'][0]"
   ]
  },
  {
   "cell_type": "markdown",
   "id": "9c34fc55",
   "metadata": {},
   "source": [
    "The whole `__array_interface__`:"
   ]
  },
  {
   "cell_type": "code",
   "execution_count": null,
   "id": "bbe7a766",
   "metadata": {},
   "outputs": [],
   "source": [
    "x.__array_interface__"
   ]
  },
  {
   "cell_type": "markdown",
   "id": "b36e0fbf",
   "metadata": {},
   "source": [
    "Reminder: two {class}`ndarrays <ndarray>` may share the same memory:"
   ]
  },
  {
   "cell_type": "code",
   "execution_count": null,
   "id": "d2a243ad",
   "metadata": {},
   "outputs": [],
   "source": [
    "x = np.array([1, 2, 3, 4])\n",
    "y = x[:-1]\n",
    "x[0] = 9\n",
    "y"
   ]
  },
  {
   "cell_type": "markdown",
   "id": "105871f9",
   "metadata": {},
   "source": [
    "Memory does not need to be owned by an {class}`ndarray`:"
   ]
  },
  {
   "cell_type": "code",
   "execution_count": null,
   "id": "3ee4f12a",
   "metadata": {},
   "outputs": [],
   "source": [
    "x = b'1234'"
   ]
  },
  {
   "cell_type": "markdown",
   "id": "a0a578f8",
   "metadata": {},
   "source": [
    "x is a string (in Python 3 a bytes), we can represent its data as an\n",
    "array of ints:"
   ]
  },
  {
   "cell_type": "code",
   "execution_count": null,
   "id": "4615bcd9",
   "metadata": {},
   "outputs": [],
   "source": [
    "y = np.frombuffer(x, dtype=np.int8)\n",
    "y.data"
   ]
  },
  {
   "cell_type": "code",
   "execution_count": null,
   "id": "4e7c7575",
   "metadata": {},
   "outputs": [],
   "source": [
    "y.base is x"
   ]
  },
  {
   "cell_type": "code",
   "execution_count": null,
   "id": "2809a24f",
   "metadata": {},
   "outputs": [],
   "source": [
    "y.flags"
   ]
  },
  {
   "cell_type": "markdown",
   "id": "f2a13dfa",
   "metadata": {},
   "source": [
    "The `owndata` and `writeable` flags indicate status of the memory\n",
    "block.\n",
    "\n",
    ":::{admonition} See also\n",
    "\n",
    "[array interface](https://numpy.org/doc/stable/reference/arrays.interface.html)\n",
    ":::\n",
    "\n",
    "### Data types\n",
    "\n",
    "#### The descriptor\n",
    "\n",
    "{class}`dtype` describes a single item in the array:\n",
    "\n",
    "::: {list-table} Dtypes\n",
    "\n",
    "- - type\n",
    "  - **scalar type** of the data, one of:\n",
    "    - int8, int16, float64, _et al._ (fixed size)\n",
    "    - str, unicode, void (flexible size)\n",
    "- - itemsize\n",
    "  - **size** of the data block\n",
    "- - byteorder\n",
    "  - **byte order**:\n",
    "    - big-endian `>`\n",
    "    - little-endian `<`\n",
    "    - not applicable `|`\n",
    "- - fields\n",
    "  - sub-dtypes, if it's a **structured data type**\n",
    "- - shape\n",
    "  - shape of the array, if it's a **sub-array**\n",
    "\n",
    ":::"
   ]
  },
  {
   "cell_type": "code",
   "execution_count": null,
   "id": "53050c86",
   "metadata": {},
   "outputs": [],
   "source": [
    "np.dtype(int).type"
   ]
  },
  {
   "cell_type": "code",
   "execution_count": null,
   "id": "675db4e6",
   "metadata": {},
   "outputs": [],
   "source": [
    "np.dtype(int).itemsize"
   ]
  },
  {
   "cell_type": "code",
   "execution_count": null,
   "id": "83c276ad",
   "metadata": {},
   "outputs": [],
   "source": [
    "np.dtype(int).byteorder"
   ]
  },
  {
   "cell_type": "markdown",
   "id": "052fe609",
   "metadata": {},
   "source": [
    "#### Example: reading `.wav` files\n",
    "\n",
    "The `.wav` file header:\n",
    "\n",
    "|                 |                                       |\n",
    "| --------------- | ------------------------------------- |\n",
    "| chunk_id        | `\"RIFF\"`                              |\n",
    "| chunk_size      | 4-byte unsigned little-endian integer |\n",
    "| format          | `\"WAVE\"`                              |\n",
    "| fmt_id          | `\"fmt \"`                              |\n",
    "| fmt_size        | 4-byte unsigned little-endian integer |\n",
    "| audio_fmt       | 2-byte unsigned little-endian integer |\n",
    "| num_channels    | 2-byte unsigned little-endian integer |\n",
    "| sample_rate     | 4-byte unsigned little-endian integer |\n",
    "| byte_rate       | 4-byte unsigned little-endian integer |\n",
    "| block_align     | 2-byte unsigned little-endian integer |\n",
    "| bits_per_sample | 2-byte unsigned little-endian integer |\n",
    "| data_id         | `\"data\"`                              |\n",
    "| data_size       | 4-byte unsigned little-endian integer |\n",
    "\n",
    "- 44-byte block of raw data (in the beginning of the file)\n",
    "- ... followed by `data_size` bytes of actual sound data.\n",
    "\n",
    "The `.wav` file header as a NumPy _structured_ data type:"
   ]
  },
  {
   "cell_type": "code",
   "execution_count": null,
   "id": "33893c18",
   "metadata": {},
   "outputs": [],
   "source": [
    "wav_header_dtype = np.dtype([\n",
    "    (\"chunk_id\", (bytes, 4)), # flexible-sized scalar type, item size 4\n",
    "    (\"chunk_size\", \"<u4\"),    # little-endian unsigned 32-bit integer\n",
    "    (\"format\", \"S4\"),         # 4-byte string\n",
    "    (\"fmt_id\", \"S4\"),\n",
    "    (\"fmt_size\", \"<u4\"),\n",
    "    (\"audio_fmt\", \"<u2\"),     #\n",
    "    (\"num_channels\", \"<u2\"),  # .. more of the same ...\n",
    "    (\"sample_rate\", \"<u4\"),   #\n",
    "    (\"byte_rate\", \"<u4\"),\n",
    "    (\"block_align\", \"<u2\"),\n",
    "    (\"bits_per_sample\", \"<u2\"),\n",
    "    (\"data_id\", (\"S1\", (2, 2))), # sub-array, just for fun!\n",
    "    (\"data_size\", \"u4\"),\n",
    "    #\n",
    "    # the sound data itself cannot be represented here:\n",
    "    # it does not have a fixed size\n",
    "   ])"
   ]
  },
  {
   "cell_type": "markdown",
   "id": "fd158d8a",
   "metadata": {},
   "source": [
    ":::{admonition} See also\n",
    "\n",
    "wavreader.py\n",
    ":::"
   ]
  },
  {
   "cell_type": "code",
   "execution_count": null,
   "id": "a9e2892d",
   "metadata": {},
   "outputs": [],
   "source": [
    "wav_header_dtype['format']"
   ]
  },
  {
   "cell_type": "code",
   "execution_count": null,
   "id": "347dfbbd",
   "metadata": {},
   "outputs": [],
   "source": [
    "wav_header_dtype.fields"
   ]
  },
  {
   "cell_type": "code",
   "execution_count": null,
   "id": "730174cb",
   "metadata": {},
   "outputs": [],
   "source": [
    "wav_header_dtype.fields['format']"
   ]
  },
  {
   "cell_type": "markdown",
   "id": "30908194",
   "metadata": {},
   "source": [
    "- The first element is the sub-dtype in the structured data, corresponding\n",
    "  to the name `format`\n",
    "- The second one is its offset (in bytes) from the beginning of the item\n",
    "\n",
    "**Start of exercise**\n",
    "\n",
    "Make a \"sparse\" dtype by using offsets, and only some of the fields:"
   ]
  },
  {
   "cell_type": "code",
   "execution_count": null,
   "id": "f8a5034a",
   "metadata": {
    "tags": [
     "raises-exception"
    ]
   },
   "outputs": [],
   "source": [
    "wav_header_dtype = np.dtype(dict(\n",
    "  names=['format', 'sample_rate', 'data_id'],\n",
    "  offsets=[offset_1, offset_2, offset_3], # counted from start of structure in bytes\n",
    "  formats=list of dtypes for each of the fields,\n",
    "))"
   ]
  },
  {
   "cell_type": "markdown",
   "id": "4bbbbf97",
   "metadata": {},
   "source": [
    "and use that to read the sample rate, and `data_id` (as sub-array).\n",
    "\n",
    "**End of exercise**"
   ]
  },
  {
   "cell_type": "code",
   "execution_count": null,
   "id": "6c1670c6",
   "metadata": {},
   "outputs": [],
   "source": [
    "f = open('data/test.wav', 'r')\n",
    "wav_header = np.fromfile(f, dtype=wav_header_dtype, count=1)\n",
    "f.close()\n",
    "print(wav_header)"
   ]
  },
  {
   "cell_type": "code",
   "execution_count": null,
   "id": "d985d23e",
   "metadata": {},
   "outputs": [],
   "source": [
    "wav_header['sample_rate']"
   ]
  },
  {
   "cell_type": "markdown",
   "id": "ea161a43",
   "metadata": {},
   "source": [
    "Let's try accessing the sub-array:"
   ]
  },
  {
   "cell_type": "code",
   "execution_count": null,
   "id": "3e47d4b3",
   "metadata": {},
   "outputs": [],
   "source": [
    "wav_header['data_id']"
   ]
  },
  {
   "cell_type": "code",
   "execution_count": null,
   "id": "ccd00d60",
   "metadata": {},
   "outputs": [],
   "source": [
    "wav_header.shape"
   ]
  },
  {
   "cell_type": "code",
   "execution_count": null,
   "id": "de2e6e42",
   "metadata": {},
   "outputs": [],
   "source": [
    "wav_header['data_id'].shape"
   ]
  },
  {
   "cell_type": "markdown",
   "id": "57c9aef6",
   "metadata": {},
   "source": [
    "When accessing sub-arrays, the dimensions get added to the end!\n",
    "\n",
    ":::{note}\n",
    "\n",
    "There are existing modules such as `wavfile`, `audiolab`,\n",
    "etc. for loading sound data...\n",
    "\n",
    ":::\n",
    "\n",
    "#### Casting and re-interpretation/views\n",
    "\n",
    "**casting**\n",
    "\n",
    "- on assignment\n",
    "- on array construction\n",
    "- on arithmetic\n",
    "- etc.\n",
    "- and manually: `.astype(dtype)`\n",
    "\n",
    "**data re-interpretation**\n",
    "\n",
    "- manually: `.view(dtype)`\n",
    "\n",
    "##### Casting\n",
    "\n",
    "- Casting in arithmetic, in nutshell:\n",
    "\n",
    "  - only type (not value!) of operands matters\n",
    "  - largest \"safe\" type able to represent both is picked\n",
    "  - scalars can \"lose\" to arrays in some situations\n",
    "\n",
    "- Casting in general copies data:"
   ]
  },
  {
   "cell_type": "code",
   "execution_count": null,
   "id": "2379da1f",
   "metadata": {},
   "outputs": [],
   "source": [
    "x = np.array([1, 2, 3, 4], dtype=float)\n",
    "x"
   ]
  },
  {
   "cell_type": "code",
   "execution_count": null,
   "id": "4636060f",
   "metadata": {},
   "outputs": [],
   "source": [
    "y = x.astype(np.int8)\n",
    "y"
   ]
  },
  {
   "cell_type": "code",
   "execution_count": null,
   "id": "fe976393",
   "metadata": {},
   "outputs": [],
   "source": [
    "y + 1"
   ]
  },
  {
   "cell_type": "code",
   "execution_count": null,
   "id": "36d1f76e",
   "metadata": {
    "tags": [
     "raises-exception"
    ]
   },
   "outputs": [],
   "source": [
    "y + 256"
   ]
  },
  {
   "cell_type": "code",
   "execution_count": null,
   "id": "439d1c88",
   "metadata": {},
   "outputs": [],
   "source": [
    "y + 256.0"
   ]
  },
  {
   "cell_type": "code",
   "execution_count": null,
   "id": "26bf8d58",
   "metadata": {},
   "outputs": [],
   "source": [
    "y + np.array([256], dtype=np.int32)"
   ]
  },
  {
   "cell_type": "markdown",
   "id": "9d3086c7",
   "metadata": {},
   "source": [
    "- Casting on setitem: dtype of the array is not changed on item assignment:"
   ]
  },
  {
   "cell_type": "code",
   "execution_count": null,
   "id": "fb7e8125",
   "metadata": {},
   "outputs": [],
   "source": [
    "y[:] = y + 1.5\n",
    "y"
   ]
  },
  {
   "cell_type": "markdown",
   "id": "2257eeef",
   "metadata": {},
   "source": [
    ":::{note}\n",
    "\n",
    "Exact rules: see [NumPy documentation](https://numpy.org/doc/stable/reference/ufuncs.html#casting-rules)\n",
    "\n",
    ":::\n",
    "\n",
    "##### Re-interpretation / viewing\n",
    "\n",
    "Let's say we have a data block in memory (4 bytes). For the moment (as indicated by the bars between the values), we'll consider this to be four `unit8` values:\n",
    "\n",
    "|        |     |        |     |        |     |        |\n",
    "| ------ | --- | ------ | --- | ------ | --- | ------ |\n",
    "| `0x01` | │   | `0x02` | │   | `0x03` | │   | `0x04` |\n",
    "\n",
    "However, we can interpret this block as:\n",
    "\n",
    "- 4 of uint8 (as here), OR,\n",
    "- 4 of int8, OR,\n",
    "- 2 of int16, OR,\n",
    "- 1 of int32, OR,\n",
    "- 1 of float32, OR,\n",
    "- ...\n",
    "\n",
    "How to switch from one to another?\n",
    "\n",
    "**Option 1: Switch the dtype**"
   ]
  },
  {
   "cell_type": "code",
   "execution_count": null,
   "id": "84c26ee8",
   "metadata": {},
   "outputs": [],
   "source": [
    "x = np.array([1, 2, 3, 4], dtype=np.uint8)\n",
    "x.dtype = \"<i2\"\n",
    "x"
   ]
  },
  {
   "cell_type": "markdown",
   "id": "04a8b635",
   "metadata": {},
   "source": [
    "|        |        |     |        |        |\n",
    "| ------ | ------ | --- | ------ | ------ |\n",
    "| `0x01` | `0x02` | │   | `0x03` | `0x04` |\n",
    "\n",
    ":::{note}\n",
    "\n",
    "little-endian: least significant byte is on the _left_ in memory\n",
    "\n",
    ":::\n",
    "\n",
    "**Option 2: Create a new view of type `uint32`, shorthand `i4`**"
   ]
  },
  {
   "cell_type": "code",
   "execution_count": null,
   "id": "e95c5160",
   "metadata": {},
   "outputs": [],
   "source": [
    "y = x.view(\"<i4\")\n",
    "y"
   ]
  },
  {
   "cell_type": "markdown",
   "id": "b15ad39d",
   "metadata": {},
   "source": [
    "|        |        |        |        |\n",
    "| ------ | ------ | ------ | ------ |\n",
    "| `0x01` | `0x02` | `0x03` | `0x04` |\n",
    "\n",
    "**On Views**\n",
    "\n",
    "- `.view()` makes _views_, does not copy (or alter) the memory block\n",
    "- it only changes the dtype (and adjusts array shape):"
   ]
  },
  {
   "cell_type": "code",
   "execution_count": null,
   "id": "bef17413",
   "metadata": {},
   "outputs": [],
   "source": [
    "x[1] = 5\n",
    "y"
   ]
  },
  {
   "cell_type": "code",
   "execution_count": null,
   "id": "2ed77125",
   "metadata": {},
   "outputs": [],
   "source": [
    "y.base is x"
   ]
  },
  {
   "cell_type": "markdown",
   "id": "0e51d709",
   "metadata": {},
   "source": [
    "**Mini-exercise: data re-interpretation**\n",
    "\n",
    ":::{admonition} See also\n",
    "\n",
    "view-colors.py\n",
    ":::\n",
    "\n",
    "**Start of exercise**\n",
    "\n",
    "You have RGBA data in an array:"
   ]
  },
  {
   "cell_type": "code",
   "execution_count": null,
   "id": "b1fac95f",
   "metadata": {},
   "outputs": [],
   "source": [
    "x = np.zeros((10, 10, 4), dtype=np.int8)\n",
    "x[:, :, 0] = 1\n",
    "x[:, :, 1] = 2\n",
    "x[:, :, 2] = 3\n",
    "x[:, :, 3] = 4"
   ]
  },
  {
   "cell_type": "markdown",
   "id": "60306065",
   "metadata": {},
   "source": [
    "where the last three dimensions are the R, B, and G, and alpha channels.\n",
    "\n",
    "How would you make a (10, 10) structured array with field names 'r', 'g', 'b',\n",
    "'a' without copying data?"
   ]
  },
  {
   "cell_type": "code",
   "execution_count": null,
   "id": "2d117b23",
   "metadata": {},
   "outputs": [],
   "source": [
    "y = ..."
   ]
  },
  {
   "cell_type": "code",
   "execution_count": null,
   "id": "4470d822",
   "metadata": {
    "tags": [
     "raises-exception"
    ]
   },
   "outputs": [],
   "source": [
    "assert (y['r'] == 1).all()\n",
    "assert (y['g'] == 2).all()\n",
    "assert (y['b'] == 3).all()\n",
    "assert (y['a'] == 4).all()"
   ]
  },
  {
   "cell_type": "markdown",
   "id": "583313a0",
   "metadata": {},
   "source": [
    "**End of exercise**"
   ]
  },
  {
   "cell_type": "markdown",
   "id": "05581973",
   "metadata": {},
   "source": [
    "**See the [corresponding page](/scipy-lecture-notes/advanced/advanced_numpy/index.html) for solution**\n",
    "\n",
    "#### A puzzle\n",
    "\n",
    "Another two arrays, each occupying exactly 4 bytes of memory:"
   ]
  },
  {
   "cell_type": "code",
   "execution_count": null,
   "id": "ff247109",
   "metadata": {},
   "outputs": [],
   "source": [
    "x = np.array([[1, 3], [2, 4]], dtype=np.uint8)\n",
    "x"
   ]
  },
  {
   "cell_type": "code",
   "execution_count": null,
   "id": "e02471c3",
   "metadata": {},
   "outputs": [],
   "source": [
    "y = x.transpose()\n",
    "y"
   ]
  },
  {
   "cell_type": "markdown",
   "id": "55b61739",
   "metadata": {},
   "source": [
    "We view the elements of `x` (1 byte each) as `int16` (2 bytes each):"
   ]
  },
  {
   "cell_type": "code",
   "execution_count": null,
   "id": "aecf07a9",
   "metadata": {},
   "outputs": [],
   "source": [
    "x.view(np.int16)"
   ]
  },
  {
   "cell_type": "markdown",
   "id": "2ed5c59c",
   "metadata": {},
   "source": [
    "What is happening here? Take a look at the bytes stored in memory\n",
    "by `x`:"
   ]
  },
  {
   "cell_type": "code",
   "execution_count": null,
   "id": "5c1840c2",
   "metadata": {},
   "outputs": [],
   "source": [
    "x.tobytes()"
   ]
  },
  {
   "cell_type": "markdown",
   "id": "e160fa7d",
   "metadata": {},
   "source": [
    "The `\\x` stands for heXadecimal, so what we are seeing is:\n",
    "\n",
    "```\n",
    "0x01 0x03 0x02 0x04\n",
    "```\n",
    "\n",
    "We ask NumPy to interpret these bytes as elements of dtype\n",
    "`int16`—each of which occupies _two_ bytes in memory. Therefore,\n",
    "`0x01 0x03` becomes the first `uint16` and `0x02 0x04` the\n",
    "second.\n",
    "\n",
    "You may then expect to see `0x0103` (259, when converting from\n",
    "hexadecimal to decimal) as the first result. But your computer\n",
    "likely stores most significant bytes first, and as such reads the\n",
    "number as `0x0301` or 769 (go on and type `0x0301` into your Python\n",
    "terminal to verify).\n",
    "\n",
    "We can do the same on a copy of `y` (why doesn't it work on `y`\n",
    "directly?):"
   ]
  },
  {
   "cell_type": "code",
   "execution_count": null,
   "id": "06bbcce8",
   "metadata": {},
   "outputs": [],
   "source": [
    "y.copy().view(np.int16)"
   ]
  },
  {
   "cell_type": "markdown",
   "id": "a9e041af",
   "metadata": {},
   "source": [
    "Can you explain these numbers, 513 and 1027, as well as the output\n",
    "shape of the resulting array?\n",
    "\n",
    "### Indexing scheme: strides\n",
    "\n",
    "#### Main point\n",
    "\n",
    "**The question**:"
   ]
  },
  {
   "cell_type": "code",
   "execution_count": null,
   "id": "330dbabb",
   "metadata": {},
   "outputs": [],
   "source": [
    "x = np.array([[1, 2, 3],\n",
    "              [4, 5, 6],\n",
    "              [7, 8, 9]], dtype=np.int8)\n",
    "x.tobytes('A')"
   ]
  },
  {
   "cell_type": "markdown",
   "id": "bcebdf22",
   "metadata": {},
   "source": [
    "**The answer** (in NumPy)\n",
    "\n",
    "- **strides**: the number of bytes to jump to find the next element\n",
    "- 1 stride per dimension"
   ]
  },
  {
   "cell_type": "code",
   "execution_count": null,
   "id": "3e1dfa5d",
   "metadata": {},
   "outputs": [],
   "source": [
    "x.strides"
   ]
  },
  {
   "cell_type": "code",
   "execution_count": null,
   "id": "9f4e8cc6",
   "metadata": {},
   "outputs": [],
   "source": [
    "byte_offset = 3 * 1 + 1 * 2  # to find x[1, 2]\n",
    "x.flat[byte_offset]"
   ]
  },
  {
   "cell_type": "code",
   "execution_count": null,
   "id": "9e650fba",
   "metadata": {},
   "outputs": [],
   "source": [
    "x[1, 2]"
   ]
  },
  {
   "cell_type": "markdown",
   "id": "1d2ca112",
   "metadata": {},
   "source": [
    "simple, **flexible**\n",
    "\n",
    "##### C and Fortran order\n",
    "\n",
    ":::{note}\n",
    "\n",
    "The Python built-in {py:class}`bytes` returns bytes in C-order by default\n",
    "which can cause confusion when trying to inspect memory layout. We use\n",
    "{meth}`numpy.ndarray.tobytes` with `order=A` instead, which preserves\n",
    "the C or F ordering of the bytes in memory.\n",
    "\n",
    ":::"
   ]
  },
  {
   "cell_type": "code",
   "execution_count": null,
   "id": "0e0fd807",
   "metadata": {},
   "outputs": [],
   "source": [
    "x = np.array([[1, 2, 3],\n",
    "              [4, 5, 6]], dtype=np.int16, order='C')\n",
    "x.strides"
   ]
  },
  {
   "cell_type": "code",
   "execution_count": null,
   "id": "69bb46ca",
   "metadata": {},
   "outputs": [],
   "source": [
    "x.tobytes('A')"
   ]
  },
  {
   "cell_type": "markdown",
   "id": "e4e77e0d",
   "metadata": {},
   "source": [
    "- Need to jump 6 bytes to find the next row\n",
    "- Need to jump 2 bytes to find the next column"
   ]
  },
  {
   "cell_type": "code",
   "execution_count": null,
   "id": "c9bb33c5",
   "metadata": {},
   "outputs": [],
   "source": [
    "y = np.array(x, order='F')\n",
    "y.strides"
   ]
  },
  {
   "cell_type": "code",
   "execution_count": null,
   "id": "09fa6bb2",
   "metadata": {},
   "outputs": [],
   "source": [
    "y.tobytes('A')"
   ]
  },
  {
   "cell_type": "markdown",
   "id": "db0ca546",
   "metadata": {},
   "source": [
    "- Need to jump 2 bytes to find the next row\n",
    "- Need to jump 4 bytes to find the next column\n",
    "\n",
    "Similarly for higher dimensions:\n",
    "\n",
    "- C: last dimensions vary fastest (= smaller strides)\n",
    "- F: first dimensions vary fastest\n",
    "\n",
    "$$\n",
    "\\begin{align}\n",
    "\\mathrm{shape} &= (d_1, d_2, ..., d_n)\n",
    "\\\\\n",
    "\\mathrm{strides} &= (s_1, s_2, ..., s_n)\n",
    "\\\\\n",
    "s_j^C &= d_{j+1} d_{j+2} ... d_{n} \\times \\mathrm{itemsize}\n",
    "\\\\\n",
    "s_j^F &= d_{1} d_{2} ... d_{j-1} \\times \\mathrm{itemsize}\n",
    "\\end{align}\n",
    "$$\n",
    "\n",
    "**Now we can understand the behavior of `.view()`**"
   ]
  },
  {
   "cell_type": "code",
   "execution_count": null,
   "id": "3862915f",
   "metadata": {},
   "outputs": [],
   "source": [
    "y = np.array([[1, 3], [2, 4]], dtype=np.uint8).transpose()\n",
    "x = y.copy()"
   ]
  },
  {
   "cell_type": "markdown",
   "id": "f34c890b",
   "metadata": {},
   "source": [
    "Transposition does not affect the memory layout of the data, only strides"
   ]
  },
  {
   "cell_type": "code",
   "execution_count": null,
   "id": "f63e26c1",
   "metadata": {},
   "outputs": [],
   "source": [
    "x.strides"
   ]
  },
  {
   "cell_type": "code",
   "execution_count": null,
   "id": "26defb22",
   "metadata": {},
   "outputs": [],
   "source": [
    "y.strides"
   ]
  },
  {
   "cell_type": "code",
   "execution_count": null,
   "id": "854020fe",
   "metadata": {},
   "outputs": [],
   "source": [
    "x.tobytes('A')"
   ]
  },
  {
   "cell_type": "code",
   "execution_count": null,
   "id": "56ab5865",
   "metadata": {},
   "outputs": [],
   "source": [
    "y.tobytes('A')"
   ]
  },
  {
   "cell_type": "markdown",
   "id": "aa08d9cb",
   "metadata": {},
   "source": [
    "- the results are different when interpreted as 2 of int16\n",
    "- `.copy()` creates new arrays in the C order (by default)"
   ]
  },
  {
   "cell_type": "markdown",
   "id": "167d6430",
   "metadata": {},
   "source": [
    "##### Slicing with integers\n",
    "\n",
    "- _Everything_ can be represented by changing only `shape`, `strides`,\n",
    "  and possibly adjusting the `data` pointer!\n",
    "- Never makes copies of the data"
   ]
  },
  {
   "cell_type": "code",
   "execution_count": null,
   "id": "ebdbba37",
   "metadata": {},
   "outputs": [],
   "source": [
    "x = np.array([1, 2, 3, 4, 5, 6], dtype=np.int32)\n",
    "y = x[::-1]\n",
    "y"
   ]
  },
  {
   "cell_type": "code",
   "execution_count": null,
   "id": "59b14c9e",
   "metadata": {},
   "outputs": [],
   "source": [
    "y.strides"
   ]
  },
  {
   "cell_type": "code",
   "execution_count": null,
   "id": "14b721d3",
   "metadata": {},
   "outputs": [],
   "source": [
    "y = x[2:]\n",
    "y.__array_interface__['data'][0] - x.__array_interface__['data'][0]"
   ]
  },
  {
   "cell_type": "code",
   "execution_count": null,
   "id": "e2201b0e",
   "metadata": {},
   "outputs": [],
   "source": [
    "x = np.zeros((10, 10, 10), dtype=float)\n",
    "x.strides"
   ]
  },
  {
   "cell_type": "code",
   "execution_count": null,
   "id": "e91f4107",
   "metadata": {},
   "outputs": [],
   "source": [
    "x[::2,::3,::4].strides"
   ]
  },
  {
   "cell_type": "markdown",
   "id": "e224708b",
   "metadata": {},
   "source": [
    "Similarly, transposes never make copies (it just swaps strides):"
   ]
  },
  {
   "cell_type": "code",
   "execution_count": null,
   "id": "0ba1435b",
   "metadata": {},
   "outputs": [],
   "source": [
    "x = np.zeros((10, 10, 10), dtype=float)\n",
    "x.strides"
   ]
  },
  {
   "cell_type": "code",
   "execution_count": null,
   "id": "3400b360",
   "metadata": {},
   "outputs": [],
   "source": [
    "x.T.strides"
   ]
  },
  {
   "cell_type": "markdown",
   "id": "2769ea80",
   "metadata": {},
   "source": [
    "But: not all reshaping operations can be represented by playing with\n",
    "strides:"
   ]
  },
  {
   "cell_type": "code",
   "execution_count": null,
   "id": "a6f0c5af",
   "metadata": {},
   "outputs": [],
   "source": [
    "a = np.arange(6, dtype=np.int8).reshape(3, 2)\n",
    "b = a.T\n",
    "b.strides"
   ]
  },
  {
   "cell_type": "markdown",
   "id": "8721d0c7",
   "metadata": {},
   "source": [
    "So far, so good. However:"
   ]
  },
  {
   "cell_type": "code",
   "execution_count": null,
   "id": "10654d1e",
   "metadata": {},
   "outputs": [],
   "source": [
    "bytes(a.data)"
   ]
  },
  {
   "cell_type": "code",
   "execution_count": null,
   "id": "cf763a48",
   "metadata": {},
   "outputs": [],
   "source": [
    "b"
   ]
  },
  {
   "cell_type": "code",
   "execution_count": null,
   "id": "30de0032",
   "metadata": {},
   "outputs": [],
   "source": [
    "c = b.reshape(3*2)\n",
    "c"
   ]
  },
  {
   "cell_type": "markdown",
   "id": "0785786a",
   "metadata": {},
   "source": [
    "Here, there is no way to represent the array `c` given one stride\n",
    "and the block of memory for `a`. Therefore, the `reshape`\n",
    "operation needs to make a copy here.\n",
    "#### Example: fake dimensions with strides\n",
    "\n",
    "**Stride manipulation**"
   ]
  },
  {
   "cell_type": "code",
   "execution_count": null,
   "id": "e008c560",
   "metadata": {},
   "outputs": [],
   "source": [
    "from numpy.lib.stride_tricks import as_strided\n",
    "help(as_strided)"
   ]
  },
  {
   "cell_type": "markdown",
   "id": "88ff14a4",
   "metadata": {},
   "source": [
    ":::{warning}\n",
    "`as_strided` does **not** check that you stay inside the memory\n",
    "block bounds...\n",
    ":::"
   ]
  },
  {
   "cell_type": "code",
   "execution_count": null,
   "id": "a5f03852",
   "metadata": {},
   "outputs": [],
   "source": [
    "x = np.array([1, 2, 3, 4], dtype=np.int16)\n",
    "as_strided(x, strides=(2*2, ), shape=(2, ))"
   ]
  },
  {
   "cell_type": "code",
   "execution_count": null,
   "id": "a78b1170",
   "metadata": {},
   "outputs": [],
   "source": [
    "x[::2]"
   ]
  },
  {
   "cell_type": "markdown",
   "id": "8d9a9e94",
   "metadata": {},
   "source": [
    ":::{admonition} See also\n",
    "\n",
    "stride-fakedims.py\n",
    ":::\n",
    "\n",
    "**Start of exercise**\n",
    "\n",
    "Convert this:"
   ]
  },
  {
   "cell_type": "code",
   "execution_count": null,
   "id": "65c98a93",
   "metadata": {},
   "outputs": [],
   "source": [
    "in_arr = np.array([1, 2, 3, 4], dtype=np.int8)\n",
    "in_arr"
   ]
  },
  {
   "cell_type": "markdown",
   "id": "ed9dea66",
   "metadata": {},
   "source": [
    "to this:\n",
    "\n",
    "```python\n",
    "array([[1, 2, 3, 4],\n",
    "       [1, 2, 3, 4],\n",
    "       [1, 2, 3, 4]], dtype=np.int8)\n",
    "```\n",
    "\n",
    "using only `as_strided`.:\n",
    "\n",
    "**Hint**: `byte_offset = stride[0]*index[0] + stride[1]*index[1] + ...`\n",
    "\n",
    "**End of exercise**\n",
    "\n",
    "::: {admonition} Spoiler for strides exercise\n",
    ":class: dropdown\n",
    "\n",
    "Stride can also be _0_:\n",
    "\n",
    ":::"
   ]
  },
  {
   "cell_type": "markdown",
   "id": "8484044e",
   "metadata": {},
   "source": [
    "**See the [corresponding page](/scipy-lecture-notes/advanced/advanced_numpy/index.html) for solution**\n",
    "#### Broadcasting\n",
    "\n",
    "- Doing something useful with it: outer product\n",
    "  of `[1, 2, 3, 4]` and `[5, 6, 7]`"
   ]
  },
  {
   "cell_type": "code",
   "execution_count": null,
   "id": "bdc8ff39",
   "metadata": {},
   "outputs": [],
   "source": [
    "x = np.array([1, 2, 3, 4], dtype=np.int16)\n",
    "x2 = as_strided(x, strides=(0, 1*2), shape=(3, 4))\n",
    "x2"
   ]
  },
  {
   "cell_type": "code",
   "execution_count": null,
   "id": "fb308dc7",
   "metadata": {},
   "outputs": [],
   "source": [
    "y = np.array([5, 6, 7], dtype=np.int16)\n",
    "y2 = as_strided(y, strides=(1*2, 0), shape=(3, 4))\n",
    "y2"
   ]
  },
  {
   "cell_type": "code",
   "execution_count": null,
   "id": "ab27c6a1",
   "metadata": {},
   "outputs": [],
   "source": [
    "x2 * y2"
   ]
  },
  {
   "cell_type": "markdown",
   "id": "71c25497",
   "metadata": {},
   "source": [
    "**... seems somehow familiar ...**"
   ]
  },
  {
   "cell_type": "code",
   "execution_count": null,
   "id": "5aeb4202",
   "metadata": {},
   "outputs": [],
   "source": [
    "x = np.array([1, 2, 3, 4], dtype=np.int16)\n",
    "y = np.array([5, 6, 7], dtype=np.int16)\n",
    "x[np.newaxis,:] * y[:,np.newaxis]"
   ]
  },
  {
   "cell_type": "markdown",
   "id": "0eed22e8",
   "metadata": {},
   "source": [
    "- Internally, array **broadcasting** is indeed implemented using 0-strides.\n",
    "\n",
    "#### More tricks: diagonals\n",
    "\n",
    ":::{admonition} See also\n",
    "\n",
    "stride-diagonals.py\n",
    ":::\n",
    "\n",
    "**Start of exercise**\n",
    "\n",
    "Pick diagonal entries of the matrix: (assume C memory order):"
   ]
  },
  {
   "cell_type": "code",
   "execution_count": null,
   "id": "b514baed",
   "metadata": {},
   "outputs": [],
   "source": [
    "x = np.array([[1, 2, 3],\n",
    "              [4, 5, 6],\n",
    "              [7, 8, 9]], dtype=np.int32)"
   ]
  },
  {
   "cell_type": "markdown",
   "id": "de821fd3",
   "metadata": {},
   "source": [
    "Your task is to work out the correct strides for to get the diagonal of the array, as in:\n",
    "\n",
    "```\n",
    "x_diag = as_strided(x, shape=(3,), strides=(...,))\n",
    "```\n",
    "\n",
    "Next:\n",
    "\n",
    "- Pick the first super-diagonal entries `[2, 6]`.\n",
    "- And the sub-diagonals?\n",
    "\n",
    "**Hint to the last two**: slicing first moves the point where striding starts\n",
    "from.\n",
    "\n",
    "**End of exercise**\n",
    "\n",
    "\n",
    "**See the [corresponding page](/scipy-lecture-notes/advanced/advanced_numpy/index.html) for solution**\n",
    "\n",
    "#### Using np.diag"
   ]
  },
  {
   "cell_type": "code",
   "execution_count": null,
   "id": "39930c1b",
   "metadata": {},
   "outputs": [],
   "source": [
    "y = np.diag(x, k=1)\n",
    "y"
   ]
  },
  {
   "cell_type": "markdown",
   "id": "7cf8ef86",
   "metadata": {},
   "source": [
    "However,"
   ]
  },
  {
   "cell_type": "code",
   "execution_count": null,
   "id": "ccf445a9",
   "metadata": {},
   "outputs": [],
   "source": [
    "y.flags.owndata"
   ]
  },
  {
   "cell_type": "markdown",
   "id": "5e198b34",
   "metadata": {},
   "source": [
    "**Challenge**\n",
    "\n",
    "**Start of exercise**\n",
    "\n",
    "Compute the tensor trace:"
   ]
  },
  {
   "cell_type": "code",
   "execution_count": null,
   "id": "56f447d5",
   "metadata": {},
   "outputs": [],
   "source": [
    "x = np.arange(5*5*5*5).reshape(5, 5, 5, 5)\n",
    "s = 0\n",
    "for i in range(5):\n",
    "    for j in range(5):\n",
    "        s += x[j, i, j, i]"
   ]
  },
  {
   "cell_type": "markdown",
   "id": "efc7427c",
   "metadata": {},
   "source": [
    "by striding, and using `sum()` on the result."
   ]
  },
  {
   "cell_type": "code",
   "execution_count": null,
   "id": "d068c039",
   "metadata": {
    "tags": [
     "raises-exception"
    ]
   },
   "outputs": [],
   "source": [
    "y = as_strided(x, shape=(5, 5), strides=(..., ...))\n",
    "s2 = ...\n",
    "assert s == s2"
   ]
  },
  {
   "cell_type": "markdown",
   "id": "61d52844",
   "metadata": {},
   "source": [
    "**End of exercise**\n",
    "\n",
    "\n",
    "**See the [corresponding page](/scipy-lecture-notes/advanced/advanced_numpy/index.html) for solution**\n",
    "#### CPU cache effects\n",
    "\n",
    "Memory layout can affect performance:"
   ]
  },
  {
   "cell_type": "code",
   "execution_count": null,
   "id": "af310a9b",
   "metadata": {},
   "outputs": [],
   "source": [
    "x = np.zeros((20000,))\n",
    "y = np.zeros((20000*67,))[::67]\n",
    "\n",
    "x.shape, y.shape"
   ]
  },
  {
   "cell_type": "code",
   "execution_count": null,
   "id": "f28cf5f3",
   "metadata": {},
   "outputs": [],
   "source": [
    "%timeit np.median(x)"
   ]
  },
  {
   "cell_type": "code",
   "execution_count": null,
   "id": "6411f2a6",
   "metadata": {},
   "outputs": [],
   "source": [
    "%timeit np.median(y)"
   ]
  },
  {
   "cell_type": "code",
   "execution_count": null,
   "id": "c2d570b7",
   "metadata": {},
   "outputs": [],
   "source": [
    "x.strides, y.strides"
   ]
  },
  {
   "cell_type": "markdown",
   "id": "b7e6c96c",
   "metadata": {},
   "source": [
    "::: {note}\n",
    "\n",
    "** Are smaller strides faster**\n",
    "\n",
    "::: {image} cpu-cacheline.png\n",
    ":::\n",
    "\n",
    "- CPU pulls data from main memory to its cache in blocks\n",
    "- If many array items consecutively operated on fit in a single block (small stride):\n",
    "\n",
    "  - $\\Rightarrow$ fewer transfers needed\n",
    "  - $\\Rightarrow$ faster\n",
    "\n",
    ":::\n",
    "\n",
    ":::{admonition} See also\n",
    "\n",
    "- [numexpr](https://numexpr.readthedocs.io/projects/NumExpr3/en/latest/) is designed to mitigate\n",
    "  cache effects when evaluating array expressions.\n",
    "- [numba](https://numba.pydata.org/) is a compiler for Python code,\n",
    "  that is aware of numpy arrays.\n",
    "  :::\n",
    "\n",
    "### Findings in dissection\n",
    "\n",
    "::: {image} threefundamental.png\n",
    ":::\n",
    "\n",
    "- _memory block_: may be shared, `.base`, `.data`\n",
    "- _data type descriptor_: structured data, sub-arrays, byte order,\n",
    "  casting, viewing, `.astype()`, `.view()`\n",
    "- _strided indexing_: strides, C/F-order, slicing w/ integers,\n",
    "  `as_strided`, broadcasting, stride tricks, `diag`, CPU cache\n",
    "  coherence\n",
    "\n",
    "## Universal functions\n",
    "\n",
    "### What are they?\n",
    "\n",
    "- Ufunc performs an elementwise operation on all elements of an array.\n",
    "\n",
    "  Examples: `np.add, np.subtract, scipy.special.*,` ...\n",
    "\n",
    "- Automatically support: broadcasting, casting, ...\n",
    "- The author of an ufunc only has to supply the elementwise operation,\n",
    "  NumPy takes care of the rest.\n",
    "- The elementwise operation needs to be implemented in C (or, e.g., Cython)\n",
    "\n",
    "#### Parts of an Ufunc\n",
    "\n",
    "**Part 1: provided by user**\n",
    "\n",
    "```c\n",
    "void ufunc_loop(void **args, int *dimensions, int *steps, void *data)\n",
    "{\n",
    "    /*\n",
    "    * int8 output = elementwise_function(int8 input_1, int8 input_2)\n",
    "    *\n",
    "    * This function must compute the ufunc for many values at once,\n",
    "    * in the way shown below.\n",
    "    */\n",
    "    char *input_1 = (char*)args[0];\n",
    "    char *input_2 = (char*)args[1];\n",
    "    char *output = (char*)args[2];\n",
    "    int i;\n",
    "\n",
    "    for (i = 0; i < dimensions[0]; ++i) {\n",
    "        *output = elementwise_function(*input_1, *input_2);\n",
    "        input_1 += steps[0];\n",
    "        input_2 += steps[1];\n",
    "        output += steps[2];\n",
    "    }\n",
    "}\n",
    "```\n",
    "\n",
    "**Part 2. The NumPy part, built by**\n",
    "\n",
    "```c\n",
    "char types[3]\n",
    "\n",
    "types[0] = NPY_BYTE   /* type of first input arg */\n",
    "types[1] = NPY_BYTE   /* type of second input arg */\n",
    "types[2] = NPY_BYTE   /* type of third input arg */\n",
    "\n",
    "PyObject *python_ufunc = PyUFunc_FromFuncAndData(\n",
    "    ufunc_loop,\n",
    "    NULL,\n",
    "    types,\n",
    "    1, /* ntypes */\n",
    "    2, /* num_inputs */\n",
    "    1, /* num_outputs */\n",
    "    identity_element,\n",
    "    name,\n",
    "    docstring,\n",
    "    unused)\n",
    "```\n",
    "\n",
    "A ufunc can also support multiple different input-output type combinations.\n",
    "\n",
    "#### Making it easier\n",
    "\n",
    "`ufunc_loop` is of very generic form, and NumPy provides pre-made ones\n",
    "\n",
    "|                |                                                                          |\n",
    "| -------------- | ------------------------------------------------------------------------ |\n",
    "| `PyUfunc_f_f`  | `float elementwise_func(float input_1)`                                  |\n",
    "| `PyUfunc_ff_f` | `float elementwise_func(float input_1, float input_2)`                   |\n",
    "| `PyUfunc_d_d`  | `double elementwise_func(double input_1)`                                |\n",
    "| `PyUfunc_dd_d` | `double elementwise_func(double input_1, double input_2)`                |\n",
    "| `PyUfunc_D_D`  | `elementwise_func(npy_cdouble *input, npy_cdouble* output)`              |\n",
    "| `PyUfunc_DD_D` | `elementwise_func(npy_cdouble *in1, npy_cdouble *in2, npy_cdouble* out)` |\n",
    "\n",
    "- Only `elementwise_func` needs to be supplied\n",
    "- ... except when your elementwise function is not in one of the above forms\n",
    "\n",
    "### Exercise: building an ufunc from scratch\n",
    "\n",
    "**Start of exercise**"
   ]
  },
  {
   "cell_type": "markdown",
   "id": "b8529a16",
   "metadata": {},
   "source": [
    "The Mandelbrot fractal is defined by the iteration\n",
    "\n",
    "$$\n",
    "z \\leftarrow z^2 + c\n",
    "$$\n",
    "\n",
    "where $c = x + i y$ is a complex number. This iteration is\n",
    "repeated -- if $z$ stays finite no matter how long the iteration\n",
    "runs, $c$ belongs to the Mandelbrot set.\n",
    "\n",
    "First — make a ufunc called `mandel(z0, c)` that computes:\n",
    "\n",
    "```python\n",
    "z = z0\n",
    "for k in range(iterations):\n",
    "    z = z*z + c\n",
    "```\n",
    "\n",
    "Run for, say, 100 iterations or until `z.real**2 + z.imag**2 > 1000`.\n",
    "Use it to determine which `c` are in the Mandelbrot set.\n",
    "\n",
    "Our function is a simple one, so make use of the `PyUFunc_*` helpers.\n",
    "\n",
    "Write it in Cython\n",
    "\n",
    ":::{admonition} See also\n",
    "\n",
    "mandel.pyx, mandelplot.py\n",
    ":::\n",
    "\n",
    ":::{only} latex\n",
    "\n",
    "```{literalinclude} examples/mandel.pyx\n",
    "\n",
    "```\n",
    "\n",
    ":::\n",
    "\n",
    "**Reminder**: some pre-made Ufunc loops:\n",
    "\n",
    "|                |                                                                                   |\n",
    "| -------------- | --------------------------------------------------------------------------------- |\n",
    "| `PyUfunc_f_f`  | `float elementwise_func(float input_1)`                                           |\n",
    "| `PyUfunc_ff_f` | `float elementwise_func(float input_1, float input_2)`                            |\n",
    "| `PyUfunc_d_d`  | `double elementwise_func(double input_1)`                                         |\n",
    "| `PyUfunc_dd_d` | `double elementwise_func(double input_1, double input_2)`                         |\n",
    "| `PyUfunc_D_D`  | `elementwise_func(complex_double *input, complex_double* output)`                 |\n",
    "| `PyUfunc_DD_D` | `elementwise_func(complex_double *in1, complex_double *in2, complex_double* out)` |\n",
    "\n",
    "Type codes:\n",
    "\n",
    "```\n",
    "NPY_BOOL, NPY_BYTE, NPY_UBYTE, NPY_SHORT, NPY_USHORT, NPY_INT, NPY_UINT,\n",
    "NPY_LONG, NPY_ULONG, NPY_LONGLONG, NPY_ULONGLONG, NPY_FLOAT, NPY_DOUBLE,\n",
    "NPY_LONGDOUBLE, NPY_CFLOAT, NPY_CDOUBLE, NPY_CLONGDOUBLE, NPY_DATETIME,\n",
    "NPY_TIMEDELTA, NPY_OBJECT, NPY_STRING, NPY_UNICODE, NPY_VOID\n",
    "```\n",
    "\n",
    "**End of exercise**\n",
    "\n",
    "\n",
    "**See the [corresponding page](/scipy-lecture-notes/advanced/advanced_numpy/index.html) for solution**\n",
    "\n",
    "### Generalized ufuncs\n",
    "\n",
    "**ufunc**\n",
    "\n",
    "`output = elementwise_function(input)`\n",
    "\n",
    "Both `output` and `input` can be a single array element only.\n",
    "\n",
    "**generalized ufunc**\n",
    "\n",
    "`output` and `input` can be arrays with a fixed number of dimensions\n",
    "\n",
    "For example, matrix trace (sum of diag elements):\n",
    "\n",
    "```text\n",
    "input shape = (n, n)\n",
    "output shape = ()    #  i.e.  scalar\n",
    "\n",
    "(n, n) -> ()\n",
    "```\n",
    "\n",
    "Matrix product:\n",
    "\n",
    "```text\n",
    "input_1 shape = (m, n)\n",
    "input_2 shape = (n, p)\n",
    "output shape  = (m, p)\n",
    "\n",
    "(m, n), (n, p) -> (m, p)\n",
    "```\n",
    "\n",
    "- This is called the _\"signature\"_ of the generalized ufunc\n",
    "- The dimensions on which the g-ufunc acts, are _\"core dimensions\"_\n",
    "\n",
    "**Status in NumPy**\n",
    "\n",
    "- g-ufuncs are in NumPy already ...\n",
    "- new ones can be created with `PyUFunc_FromFuncAndDataAndSignature`\n",
    "- most linear-algebra functions are implemented as g-ufuncs to enable working\n",
    "  with stacked arrays:"
   ]
  },
  {
   "cell_type": "code",
   "execution_count": null,
   "id": "66f21aa7",
   "metadata": {},
   "outputs": [],
   "source": [
    "import numpy as np\n",
    "rng = np.random.default_rng(27446968)\n",
    "np.linalg.det(rng.random((3, 5, 5)))"
   ]
  },
  {
   "cell_type": "code",
   "execution_count": null,
   "id": "ab44e816",
   "metadata": {},
   "outputs": [],
   "source": [
    "np.linalg._umath_linalg.det.signature"
   ]
  },
  {
   "cell_type": "markdown",
   "id": "4fa657d6",
   "metadata": {},
   "source": [
    "- matrix multiplication this way could be useful for operating on\n",
    "  many small matrices at once\n",
    "- Also see `tensordot` and `einsum`\n",
    "\n",
    "<!---\n",
    "\n",
    "The below gufunc examples were from `np.core.umath_tests`,\n",
    "which is now deprecated. We need another source of example\n",
    "gufuncs.  See the discussion at:\n",
    "\n",
    "https://mail.python.org/archives/list/numpy-discussion@python.org/thread/ZG7AUSPYYUNSPQU3YUZS2XCFD7AT3BJP/\n",
    "\n",
    "import numpy.core.umath_tests as ut\n",
    "ut.matrix_multiply.signature\n",
    "\n",
    "'(m,n),(n,p)->(m,p)'\n",
    "\n",
    "x = np.ones((10, 2, 4))\n",
    "y = np.ones((10, 4, 5))\n",
    "ut.matrix_multiply(x, y).shape\n",
    "\n",
    "(10, 2, 5)\n",
    "\n",
    "* in both examples the last two dimensions became *core dimensions*,\n",
    "and are modified as per the *signature*\n",
    "* otherwise, the g-ufunc operates \"elementwise\"\n",
    "\n",
    "-->\n",
    "\n",
    "**Generalized ufunc loop**\n",
    "\n",
    "Matrix multiplication `(m,n),(n,p) -> (m,p)`\n",
    "\n",
    "```c\n",
    "void gufunc_loop(void **args, int *dimensions, int *steps, void *data)\n",
    "{\n",
    "    char *input_1 = (char*)args[0];  /* these are as previously */\n",
    "    char *input_2 = (char*)args[1];\n",
    "    char *output = (char*)args[2];\n",
    "\n",
    "    int input_1_stride_m = steps[3];  /* strides for the core dimensions */\n",
    "    int input_1_stride_n = steps[4];  /* are added after the non-core */\n",
    "    int input_2_strides_n = steps[5]; /* steps */\n",
    "    int input_2_strides_p = steps[6];\n",
    "    int output_strides_n = steps[7];\n",
    "    int output_strides_p = steps[8];\n",
    "\n",
    "    int m = dimension[1]; /* core dimensions are added after */\n",
    "    int n = dimension[2]; /* the main dimension; order as in */\n",
    "    int p = dimension[3]; /* signature */\n",
    "\n",
    "    int i;\n",
    "\n",
    "    for (i = 0; i < dimensions[0]; ++i) {\n",
    "        matmul_for_strided_matrices(input_1, input_2, output,\n",
    "                                    strides for each array...);\n",
    "\n",
    "        input_1 += steps[0];\n",
    "        input_2 += steps[1];\n",
    "        output += steps[2];\n",
    "    }\n",
    "}\n",
    "```\n",
    "\n",
    "## Interoperability features\n",
    "\n",
    "### Sharing multidimensional, typed data\n",
    "\n",
    "Suppose you\n",
    "\n",
    "1. Write a library than handles (multidimensional) binary data,\n",
    "2. Want to make it easy to manipulate the data with NumPy, or whatever\n",
    "   other library,\n",
    "3. ... but would **not** like to have NumPy as a dependency.\n",
    "\n",
    "Currently, 3 solutions:\n",
    "\n",
    "1. the \"old\" buffer interface\n",
    "2. the array interface\n",
    "3. the \"new\" buffer interface ({pep}`3118`)\n",
    "\n",
    "### The old buffer protocol\n",
    "\n",
    "- Only 1-D buffers\n",
    "- No data type information\n",
    "- C-level interface; `PyBufferProcs tp_as_buffer` in the type object\n",
    "- But it's integrated into Python (e.g. strings support it)\n",
    "\n",
    "Mini-exercise using [Pillow](https://python-pillow.org/) (Python\n",
    "Imaging Library):\n",
    "\n",
    ":::{admonition} See also\n",
    "\n",
    "pilbuffer.py\n",
    ":::\n",
    "\n",
    "**Start of exercise**"
   ]
  },
  {
   "cell_type": "code",
   "execution_count": null,
   "id": "36a7c7bb",
   "metadata": {},
   "outputs": [],
   "source": [
    "from PIL import Image\n",
    "data = np.zeros((200, 200, 4), dtype=np.uint8)\n",
    "data[:, :] = [255, 0, 0, 255] # Red\n",
    "# In PIL, RGBA images consist of 32-bit integers whose bytes are [RR,GG,BB,AA]\n",
    "data = data.view(np.int32).squeeze()\n",
    "img = Image.frombuffer(\"RGBA\", (200, 200), data, \"raw\", \"RGBA\", 0, 1)\n",
    "img.save('test.png')"
   ]
  },
  {
   "cell_type": "markdown",
   "id": "71fc11ed",
   "metadata": {},
   "source": [
    "**The question**\n",
    "\n",
    "What happens if `data` is now modified, and `img` saved again?\n",
    "\n",
    "**End of exercise**\n",
    "\n",
    "### The old buffer protocol\n",
    "\n",
    "Show how to exchange data between numpy and a library that only knows\n",
    "the buffer interface:"
   ]
  },
  {
   "cell_type": "code",
   "execution_count": null,
   "id": "a7c1fcfb",
   "metadata": {},
   "outputs": [],
   "source": [
    "# Make a sample image, RGBA format\n",
    "x = np.zeros((200, 200, 4), dtype=np.uint8)\n",
    "x[:, :, 0] = 255  # red\n",
    "x[:, :, 3] = 255  # opaque\n",
    "\n",
    "data_i32 = x.view(np.int32)  # Check that you understand why this is OK!\n",
    "\n",
    "img = Image.frombuffer(\"RGBA\", (200, 200), data_i32)\n",
    "img.save(\"test_red.png\")\n",
    "\n",
    "# Modify the original data, and save again.\n",
    "x[:, :, 1] = 255\n",
    "img.save(\"test_recolored.png\")"
   ]
  },
  {
   "cell_type": "markdown",
   "id": "2b1b68f7",
   "metadata": {},
   "source": [
    "::: {image} test_red.png\n",
    ":::\n",
    "\n",
    "::: {image} test_recolored.png\n",
    ":::\n",
    "\n",
    "### Array interface protocol\n",
    "\n",
    "- Multidimensional buffers\n",
    "- Data type information present\n",
    "- NumPy-specific approach; slowly deprecated (but not going away)\n",
    "- Not integrated in Python otherwise\n",
    "\n",
    ":::{admonition} See also\n",
    "\n",
    "Documentation:\n",
    "<https://numpy.org/doc/stable/reference/arrays.interface.html>\n",
    ":::"
   ]
  },
  {
   "cell_type": "code",
   "execution_count": null,
   "id": "5245430a",
   "metadata": {},
   "outputs": [],
   "source": [
    "x = np.array([[1, 2], [3, 4]])\n",
    "x.__array_interface__"
   ]
  },
  {
   "cell_type": "code",
   "execution_count": null,
   "id": "68892c8a",
   "metadata": {
    "tags": [
     "hide-input"
    ]
   },
   "outputs": [],
   "source": [
    "import matplotlib\n",
    "matplotlib.use('Agg')\n",
    "import matplotlib.pyplot as plt\n",
    "import os\n",
    "if not os.path.exists('data'): os.mkdir('data')\n",
    "plt.imsave('data/test.png', data)"
   ]
  },
  {
   "cell_type": "code",
   "execution_count": null,
   "id": "858fea48",
   "metadata": {},
   "outputs": [],
   "source": [
    "from PIL import Image\n",
    "img = Image.open('data/test.png')\n",
    "img.__array_interface__"
   ]
  },
  {
   "cell_type": "code",
   "execution_count": null,
   "id": "fe697806",
   "metadata": {},
   "outputs": [],
   "source": [
    "x = np.asarray(img)\n",
    "x.shape"
   ]
  },
  {
   "cell_type": "markdown",
   "id": "f57aec23",
   "metadata": {},
   "source": [
    ":::{note}\n",
    "\n",
    "A more C-friendly variant of the array interface is also defined.\n",
    "\n",
    ":::\n",
    "## Array siblings: {class}`chararray`, {class}`MaskedArray`\n",
    "\n",
    "### {class}`chararray <numpy.char.chararray>`: vectorized string operations"
   ]
  },
  {
   "cell_type": "code",
   "execution_count": null,
   "id": "07e54c4a",
   "metadata": {},
   "outputs": [],
   "source": [
    "x = np.char.asarray(['a', '  bbb', '  ccc'])\n",
    "x"
   ]
  },
  {
   "cell_type": "code",
   "execution_count": null,
   "id": "eaa03cea",
   "metadata": {},
   "outputs": [],
   "source": [
    "x.upper()"
   ]
  },
  {
   "cell_type": "markdown",
   "id": "f2d9fa24",
   "metadata": {},
   "source": [
    "### {class}`MaskedArray <numpy.ma.MaskedArray>` missing data\n",
    "\n",
    "Masked arrays are arrays that may have missing or invalid entries.\n",
    "\n",
    "For example, suppose we have an array where the fourth entry is invalid:"
   ]
  },
  {
   "cell_type": "code",
   "execution_count": null,
   "id": "cf470fdf",
   "metadata": {},
   "outputs": [],
   "source": [
    "x = np.array([1, 2, 3, -99, 5])"
   ]
  },
  {
   "cell_type": "markdown",
   "id": "e99fddb2",
   "metadata": {},
   "source": [
    "One way to describe this is to create a masked array:"
   ]
  },
  {
   "cell_type": "code",
   "execution_count": null,
   "id": "242ba112",
   "metadata": {},
   "outputs": [],
   "source": [
    "mx = np.ma.MaskedArray(x, mask=[0, 0, 0, 1, 0])\n",
    "mx"
   ]
  },
  {
   "cell_type": "markdown",
   "id": "4d6a2ca4",
   "metadata": {},
   "source": [
    "Masked mean ignores masked data:"
   ]
  },
  {
   "cell_type": "code",
   "execution_count": null,
   "id": "8bc346b4",
   "metadata": {},
   "outputs": [],
   "source": [
    "mx.mean()"
   ]
  },
  {
   "cell_type": "code",
   "execution_count": null,
   "id": "ae3bda1b",
   "metadata": {},
   "outputs": [],
   "source": [
    "np.mean(mx)"
   ]
  },
  {
   "cell_type": "markdown",
   "id": "4401d459",
   "metadata": {},
   "source": [
    ":::{warning}\n",
    "Not all NumPy functions respect masks, for instance\n",
    "`np.dot`, so check the return types.\n",
    ":::\n",
    "\n",
    "The `MaskedArray` returns a **view** to the original array:"
   ]
  },
  {
   "cell_type": "code",
   "execution_count": null,
   "id": "52bc9721",
   "metadata": {},
   "outputs": [],
   "source": [
    "mx[1] = 9\n",
    "x"
   ]
  },
  {
   "cell_type": "markdown",
   "id": "1aa295b7",
   "metadata": {},
   "source": [
    "#### The mask\n",
    "\n",
    "You can modify the mask by assigning:"
   ]
  },
  {
   "cell_type": "code",
   "execution_count": null,
   "id": "11531dfa",
   "metadata": {},
   "outputs": [],
   "source": [
    "mx[1] = np.ma.masked\n",
    "mx"
   ]
  },
  {
   "cell_type": "markdown",
   "id": "cadbd583",
   "metadata": {},
   "source": [
    "The mask is cleared on assignment:"
   ]
  },
  {
   "cell_type": "code",
   "execution_count": null,
   "id": "244daf4e",
   "metadata": {},
   "outputs": [],
   "source": [
    "mx[1] = 9\n",
    "mx"
   ]
  },
  {
   "cell_type": "markdown",
   "id": "354e7b0c",
   "metadata": {},
   "source": [
    "The mask is also available directly:"
   ]
  },
  {
   "cell_type": "code",
   "execution_count": null,
   "id": "0b662bb1",
   "metadata": {},
   "outputs": [],
   "source": [
    "mx.mask"
   ]
  },
  {
   "cell_type": "markdown",
   "id": "89b8de1e",
   "metadata": {},
   "source": [
    "The masked entries can be filled with a given value to get an usual\n",
    "array back:"
   ]
  },
  {
   "cell_type": "code",
   "execution_count": null,
   "id": "47ac4ed8",
   "metadata": {},
   "outputs": [],
   "source": [
    "x2 = mx.filled(-1)\n",
    "x2"
   ]
  },
  {
   "cell_type": "markdown",
   "id": "2c35f988",
   "metadata": {},
   "source": [
    "The mask can also be cleared:"
   ]
  },
  {
   "cell_type": "code",
   "execution_count": null,
   "id": "afda7429",
   "metadata": {},
   "outputs": [],
   "source": [
    "mx.mask = np.ma.nomask\n",
    "mx"
   ]
  },
  {
   "cell_type": "markdown",
   "id": "30c2bcc0",
   "metadata": {},
   "source": [
    "#### Domain-aware functions\n",
    "\n",
    "The masked array package also contains domain-aware functions:"
   ]
  },
  {
   "cell_type": "code",
   "execution_count": null,
   "id": "1c8d88da",
   "metadata": {},
   "outputs": [],
   "source": [
    "np.ma.log(np.array([1, 2, -1, -2, 3, -5]))"
   ]
  },
  {
   "cell_type": "markdown",
   "id": "3895c878",
   "metadata": {},
   "source": [
    ":::{note}\n",
    "\n",
    "Streamlined and more seamless support for dealing with missing data\n",
    "in arrays is making its way into NumPy 1.7. Stay tuned!\n",
    "\n",
    ":::\n",
    "\n",
    "**Example: Masked statistics**\n",
    "\n",
    "Canadian rangers were distracted when counting hares and lynxes in\n",
    "1903-1910 and 1917-1918, and got the numbers are wrong. (Carrot\n",
    "farmers stayed alert, though.) Compute the mean populations over\n",
    "time, ignoring the invalid numbers."
   ]
  },
  {
   "cell_type": "code",
   "execution_count": null,
   "id": "a04ecdc6",
   "metadata": {},
   "outputs": [],
   "source": [
    "data = np.loadtxt('data/populations.txt')\n",
    "populations = np.ma.MaskedArray(data[:,1:])\n",
    "year = data[:, 0]"
   ]
  },
  {
   "cell_type": "code",
   "execution_count": null,
   "id": "dc682ab1",
   "metadata": {},
   "outputs": [],
   "source": [
    "bad_years = (((year >= 1903) & (year <= 1910))\n",
    "           | ((year >= 1917) & (year <= 1918)))\n",
    "# '&' means 'and' and '|' means 'or'\n",
    "populations[bad_years, 0] = np.ma.masked\n",
    "populations[bad_years, 1] = np.ma.masked"
   ]
  },
  {
   "cell_type": "code",
   "execution_count": null,
   "id": "79b7b6e6",
   "metadata": {},
   "outputs": [],
   "source": [
    "populations.mean(axis=0)"
   ]
  },
  {
   "cell_type": "code",
   "execution_count": null,
   "id": "c1a63274",
   "metadata": {},
   "outputs": [],
   "source": [
    "populations.std(axis=0)"
   ]
  },
  {
   "cell_type": "markdown",
   "id": "97d27cbe",
   "metadata": {},
   "source": [
    "Note that Matplotlib knows about masked arrays:"
   ]
  },
  {
   "cell_type": "code",
   "execution_count": null,
   "id": "685005e5",
   "metadata": {},
   "outputs": [],
   "source": [
    "plt.plot(year, populations, 'o-')"
   ]
  },
  {
   "cell_type": "markdown",
   "id": "645ffd3a",
   "metadata": {},
   "source": [
    "### `np.recarray`: purely convenience"
   ]
  },
  {
   "cell_type": "code",
   "execution_count": null,
   "id": "c7dab128",
   "metadata": {},
   "outputs": [],
   "source": [
    "arr = np.array([('a', 1), ('b', 2)], dtype=[('x', 'S1'), ('y', int)])\n",
    "arr2 = arr.view(np.recarray)\n",
    "arr2.x"
   ]
  },
  {
   "cell_type": "code",
   "execution_count": null,
   "id": "3ccad0a1",
   "metadata": {},
   "outputs": [],
   "source": [
    "arr2.y"
   ]
  },
  {
   "cell_type": "markdown",
   "id": "06e51065",
   "metadata": {},
   "source": [
    "## Summary\n",
    "\n",
    "- Anatomy of the ndarray: data, dtype, strides.\n",
    "- Universal functions: elementwise operations, how to make new ones\n",
    "- Ndarray subclasses\n",
    "- Various buffer interfaces for integration with other tools\n",
    "- Recent additions: PEP 3118, generalized ufuncs\n",
    "\n",
    "## Contributing to NumPy/SciPy\n",
    "\n",
    "Get this tutorial: <https://www.euroscipy.org/talk/882>\n",
    "\n",
    "### Why\n",
    "\n",
    "- \"There's a bug?\"\n",
    "- \"I don't understand what this is supposed to do?\"\n",
    "- \"I have this fancy code. Would you like to have it?\"\n",
    "- \"I'd like to help! What can I do?\"\n",
    "\n",
    "### Reporting bugs\n",
    "\n",
    "- Bug tracker (prefer **this**)\n",
    "\n",
    "  - <https://github.com/numpy/numpy/issues>\n",
    "  - <https://github.com/scipy/scipy/issues>\n",
    "  - Click the \"Sign up\" link to get an account\n",
    "\n",
    "- Mailing lists (<https://numpy.org/community/>)\n",
    "\n",
    "  - If you're unsure\n",
    "  - No replies in a week or so? Just file a bug ticket.\n",
    "\n",
    "#### Good bug report\n",
    "\n",
    "```text\n",
    "Title: numpy.random.permutations fails for non-integer arguments\n",
    "\n",
    "I'm trying to generate random permutations, using numpy.random.permutations\n",
    "\n",
    "When calling numpy.random.permutation with non-integer arguments\n",
    "it fails with a cryptic error message::\n",
    "\n",
    "    >>> rng.permutation(12)\n",
    "    array([ 2,  6,  4,  1,  8, 11, 10,  5,  9,  3,  7,  0])\n",
    "    >>> rng.permutation(12.)\n",
    "    Traceback (most recent call last):\n",
    "    File \"<stdin>\", line 1, in <module>\n",
    "    File \"_generator.pyx\", line 4844, in numpy.random._generator.Generator.permutation\n",
    "    numpy.exceptions.AxisError: axis 0 is out of bounds for array of dimension 0\n",
    "\n",
    "This also happens with long arguments, and so\n",
    "np.random.permutation(X.shape[0]) where X is an array fails on 64\n",
    "bit windows (where shape is a tuple of longs).\n",
    "\n",
    "It would be great if it could cast to integer or at least raise a\n",
    "proper error for non-integer types.\n",
    "\n",
    "I'm using NumPy 1.4.1, built from the official tarball, on Windows\n",
    "64 with Visual studio 2008, on Python.org 64-bit Python.\n",
    "```\n",
    "\n",
    "0. What are you trying to do?\n",
    "1. **Small code snippet reproducing the bug** (if possible)\n",
    "\n",
    "   - What actually happens\n",
    "   - What you'd expect\n",
    "\n",
    "2. Platform (Windows / Linux / OSX, 32/64 bits, x86/PPC, ...)\n",
    "3. Version of NumPy/SciPy"
   ]
  },
  {
   "cell_type": "code",
   "execution_count": null,
   "id": "126640ab",
   "metadata": {},
   "outputs": [],
   "source": [
    "print(np.__version__)"
   ]
  },
  {
   "cell_type": "markdown",
   "id": "f27511d7",
   "metadata": {},
   "source": [
    "**Check that the following is what you expect**"
   ]
  },
  {
   "cell_type": "code",
   "execution_count": null,
   "id": "e6ae6096",
   "metadata": {},
   "outputs": [],
   "source": [
    "print(np.__file__)"
   ]
  },
  {
   "cell_type": "markdown",
   "id": "c84b8ee1",
   "metadata": {},
   "source": [
    "In case you have old/broken NumPy installations lying around.\n",
    "\n",
    "If unsure, try to remove existing NumPy installations, and reinstall...\n",
    "\n",
    "### Contributing to documentation\n",
    "\n",
    "1. Documentation editor\n",
    "\n",
    "   - <https://numpy.org/doc/stable/>\n",
    "\n",
    "   - Registration\n",
    "\n",
    "     - Register an account\n",
    "\n",
    "     - Subscribe to `scipy-dev` mailing list (subscribers-only)\n",
    "\n",
    "     - Problem with mailing lists: you get mail\n",
    "\n",
    "       - But: **you can turn mail delivery off**\n",
    "\n",
    "       - \"change your subscription options\", at the bottom of\n",
    "\n",
    "         <https://mail.python.org/mailman3/lists/scipy-dev.python.org/>\n",
    "\n",
    "     - Send a mail @ `scipy-dev` mailing list; ask for activation:\n",
    "\n",
    "       ```text\n",
    "       To: scipy-dev@scipy.org\n",
    "\n",
    "       Hi,\n",
    "\n",
    "       I'd like to edit NumPy/SciPy docstrings. My account is XXXXX\n",
    "\n",
    "       Cheers,\n",
    "       N. N.\n",
    "       ```\n",
    "\n",
    "   - Check the style guide:\n",
    "\n",
    "     - <https://numpy.org/doc/stable/>\n",
    "     - Don't be intimidated; to fix a small thing, just fix it\n",
    "\n",
    "   - Edit\n",
    "\n",
    "2. Edit sources and send patches (as for bugs)\n",
    "\n",
    "3. Complain on the mailing list\n",
    "\n",
    "### Contributing features\n",
    "\n",
    "The contribution of features is documented on <https://numpy.org/doc/stable/dev/>\n",
    "\n",
    "### How to help, in general\n",
    "\n",
    "- Bug fixes always welcome!\n",
    "\n",
    "  - What irks you most\n",
    "  - Browse the tracker\n",
    "\n",
    "- Documentation work\n",
    "\n",
    "  - API docs: improvements to docstrings\n",
    "\n",
    "    - Know some SciPy module well?\n",
    "\n",
    "  - _User guide_\n",
    "\n",
    "    - <https://numpy.org/doc/stable/user/>\n",
    "\n",
    "- Ask on communication channels:\n",
    "\n",
    "  - `numpy-discussion` list\n",
    "  - `scipy-dev` list"
   ]
  }
 ],
 "metadata": {
  "kernelspec": {
   "display_name": "Python (Pyodide)",
   "name": "python"
  }
 },
 "nbformat": 4,
 "nbformat_minor": 5
}
