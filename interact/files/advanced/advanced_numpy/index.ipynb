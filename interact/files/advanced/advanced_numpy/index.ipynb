{
 "cells": [
  {
   "cell_type": "markdown",
   "id": "11a4ea3c",
   "metadata": {},
   "source": [
    "# Advanced NumPy\n",
    "\n",
    "**Author**: *Pauli Virtanen*\n",
    "\n",
    "NumPy is at the base of Python's scientific stack of tools. Its purpose\n",
    "to implement efficient operations on many items in a block of memory.\n",
    "Understanding how it works in detail helps in making efficient use of its\n",
    "flexibility, taking useful shortcuts.\n",
    "\n",
    "This section covers:\n",
    "\n",
    "- Anatomy of NumPy arrays, and its consequences. Tips and\n",
    "  tricks.\n",
    "- Universal functions: what, why, and what to do if you want\n",
    "  a new one.\n",
    "- Integration with other tools: NumPy offers several ways to\n",
    "  wrap any data in an ndarray, without unnecessary copies.\n",
    "- Recently added features, and what's in them: PEP\n",
    "  3118 buffers, generalized ufuncs, ...\n",
    "\n",
    "**Start of admonition: Prerequisites**\n",
    "- NumPy\n",
    "- Cython\n",
    "- Pillow (Python imaging library, used in a couple of examples)\n",
    "**End of admonition**"
   ]
  },
  {
   "cell_type": "code",
   "execution_count": null,
   "id": "a04c922a",
   "metadata": {},
   "outputs": [],
   "source": [
    "# Import Numpy module.\n",
    "import numpy as np\n",
    "# Import Matplotlib (for later).\n",
    "import matplotlib.pyplot as plt"
   ]
  },
  {
   "cell_type": "markdown",
   "id": "c3e41ac7",
   "metadata": {},
   "source": [
    "## Life of ndarray\n",
    "\n",
    "### It's...\n",
    "\n",
    "**Start of admonition: What is an **ndarray****\n",
    "\n",
    "An **ndarray** is:\n",
    "\n",
    "- A block of memory and\n",
    "- an indexing scheme and\n",
    "- a data type descriptor.\n",
    "**End of admonition**\n",
    "\n",
    "Put another way, an ndarray has **raw data**, and algorithms to:\n",
    "\n",
    "- locate an element\n",
    "- interpret an element\n",
    "\n",
    "::: {image} threefundamental.png\n",
    ":::\n",
    "\n",
    "```c\n",
    "typedef struct PyArrayObject {\n",
    "        PyObject_HEAD\n",
    "\n",
    "        /* Block of memory */\n",
    "        char *data;\n",
    "\n",
    "        /* Data type descriptor */\n",
    "        PyArray_Descr *descr;\n",
    "\n",
    "        /* Indexing scheme */\n",
    "        int nd;\n",
    "        npy_intp *dimensions;\n",
    "        npy_intp *strides;\n",
    "\n",
    "        /* Other stuff */\n",
    "        PyObject *base;\n",
    "        int flags;\n",
    "        PyObject *weakreflist;\n",
    "} PyArrayObject;\n",
    "```\n",
    "\n",
    "### Block of memory"
   ]
  },
  {
   "cell_type": "code",
   "execution_count": null,
   "id": "ae0b0b51",
   "metadata": {},
   "outputs": [],
   "source": [
    "x = np.array([1, 2, 3], dtype=np.int32)\n",
    "x.data"
   ]
  },
  {
   "cell_type": "code",
   "execution_count": null,
   "id": "0067cbeb",
   "metadata": {},
   "outputs": [],
   "source": [
    "bytes(x.data)"
   ]
  },
  {
   "cell_type": "markdown",
   "id": "a8a0860e",
   "metadata": {},
   "source": [
    "Memory address of the data:"
   ]
  },
  {
   "cell_type": "code",
   "execution_count": null,
   "id": "cf9bb103",
   "metadata": {},
   "outputs": [],
   "source": [
    "x.__array_interface__['data'][0]"
   ]
  },
  {
   "cell_type": "markdown",
   "id": "a83537ba",
   "metadata": {},
   "source": [
    "The whole `__array_interface__`:"
   ]
  },
  {
   "cell_type": "code",
   "execution_count": null,
   "id": "11613d8d",
   "metadata": {},
   "outputs": [],
   "source": [
    "x.__array_interface__"
   ]
  },
  {
   "cell_type": "markdown",
   "id": "6ec17182",
   "metadata": {},
   "source": [
    "Reminder: two {class}`ndarrays <ndarray>` may share the same memory:"
   ]
  },
  {
   "cell_type": "code",
   "execution_count": null,
   "id": "46d2e66e",
   "metadata": {},
   "outputs": [],
   "source": [
    "x = np.array([1, 2, 3, 4])\n",
    "y = x[:-1]\n",
    "x[0] = 9\n",
    "y"
   ]
  },
  {
   "cell_type": "markdown",
   "id": "9c090171",
   "metadata": {},
   "source": [
    "Memory does not need to be owned by an {class}`ndarray`:"
   ]
  },
  {
   "cell_type": "code",
   "execution_count": null,
   "id": "0a540bd2",
   "metadata": {},
   "outputs": [],
   "source": [
    "x = b'1234'"
   ]
  },
  {
   "cell_type": "markdown",
   "id": "e7981c7a",
   "metadata": {},
   "source": [
    "x is a string (in Python 3 a bytes), we can represent its data as an\n",
    "array of ints:"
   ]
  },
  {
   "cell_type": "code",
   "execution_count": null,
   "id": "965615ad",
   "metadata": {},
   "outputs": [],
   "source": [
    "y = np.frombuffer(x, dtype=np.int8)\n",
    "y.data"
   ]
  },
  {
   "cell_type": "code",
   "execution_count": null,
   "id": "5db65c7f",
   "metadata": {},
   "outputs": [],
   "source": [
    "y.base is x"
   ]
  },
  {
   "cell_type": "code",
   "execution_count": null,
   "id": "da99ca42",
   "metadata": {},
   "outputs": [],
   "source": [
    "y.flags"
   ]
  },
  {
   "cell_type": "markdown",
   "id": "16bb59b8",
   "metadata": {},
   "source": [
    "The `owndata` and `writeable` flags indicate status of the memory\n",
    "block.\n",
    "\n",
    "**Start of admonition: See also**\n",
    "\n",
    "[array interface](https://numpy.org/doc/stable/reference/arrays.interface.html)\n",
    "**End of admonition**\n",
    "\n",
    "### Data types\n",
    "\n",
    "#### The descriptor\n",
    "\n",
    "{class}`dtype` describes a single item in the array:\n",
    "\n",
    "::: {list-table} Dtypes\n",
    "\n",
    "* - type\n",
    "  - **scalar type** of the data, one of:\n",
    "    - int8, int16, float64, *et al.* (fixed size)\n",
    "    - str, unicode, void (flexible size)\n",
    "* - itemsize\n",
    "  - **size** of the data block\n",
    "* - byteorder\n",
    "  - **byte order**:\n",
    "    - big-endian ``>``\n",
    "    - little-endian ``<``\n",
    "    - not applicable ``|``\n",
    "* - fields\n",
    "  - sub-dtypes, if it's a **structured data type**\n",
    "* - shape\n",
    "  - shape of the array, if it's a **sub-array**\n",
    "\n",
    ":::"
   ]
  },
  {
   "cell_type": "code",
   "execution_count": null,
   "id": "5bd99ce3",
   "metadata": {},
   "outputs": [],
   "source": [
    "np.dtype(int).type"
   ]
  },
  {
   "cell_type": "code",
   "execution_count": null,
   "id": "6aa79034",
   "metadata": {},
   "outputs": [],
   "source": [
    "np.dtype(int).itemsize"
   ]
  },
  {
   "cell_type": "code",
   "execution_count": null,
   "id": "8fca5c06",
   "metadata": {},
   "outputs": [],
   "source": [
    "np.dtype(int).byteorder"
   ]
  },
  {
   "cell_type": "markdown",
   "id": "fe4d3cf6",
   "metadata": {},
   "source": [
    "#### Example: reading `.wav` files\n",
    "\n",
    "The `.wav` file header:\n",
    "\n",
    "| | |\n",
    "| - | - |\n",
    "| chunk_id         | ``\"RIFF\"`` |\n",
    "| chunk_size       | 4-byte unsigned little-endian integer |\n",
    "| format           | ``\"WAVE\"`` |\n",
    "| fmt_id           | ``\"fmt \"`` |\n",
    "| fmt_size         | 4-byte unsigned little-endian integer |\n",
    "| audio_fmt        | 2-byte unsigned little-endian integer |\n",
    "| num_channels     | 2-byte unsigned little-endian integer |\n",
    "| sample_rate      | 4-byte unsigned little-endian integer |\n",
    "| byte_rate        | 4-byte unsigned little-endian integer |\n",
    "| block_align      | 2-byte unsigned little-endian integer |\n",
    "| bits_per_sample  | 2-byte unsigned little-endian integer |\n",
    "| data_id          | ``\"data\"``                            |\n",
    "| data_size        | 4-byte unsigned little-endian integer |\n",
    "\n",
    "- 44-byte block of raw data (in the beginning of the file)\n",
    "- ... followed by `data_size` bytes of actual sound data.\n",
    "\n",
    "The `.wav` file header as a NumPy *structured* data type:"
   ]
  },
  {
   "cell_type": "code",
   "execution_count": null,
   "id": "2a74b57a",
   "metadata": {},
   "outputs": [],
   "source": [
    "wav_header_dtype = np.dtype([\n",
    "    (\"chunk_id\", (bytes, 4)), # flexible-sized scalar type, item size 4\n",
    "    (\"chunk_size\", \"<u4\"),    # little-endian unsigned 32-bit integer\n",
    "    (\"format\", \"S4\"),         # 4-byte string\n",
    "    (\"fmt_id\", \"S4\"),\n",
    "    (\"fmt_size\", \"<u4\"),\n",
    "    (\"audio_fmt\", \"<u2\"),     #\n",
    "    (\"num_channels\", \"<u2\"),  # .. more of the same ...\n",
    "    (\"sample_rate\", \"<u4\"),   #\n",
    "    (\"byte_rate\", \"<u4\"),\n",
    "    (\"block_align\", \"<u2\"),\n",
    "    (\"bits_per_sample\", \"<u2\"),\n",
    "    (\"data_id\", (\"S1\", (2, 2))), # sub-array, just for fun!\n",
    "    (\"data_size\", \"u4\"),\n",
    "    #\n",
    "    # the sound data itself cannot be represented here:\n",
    "    # it does not have a fixed size\n",
    "   ])"
   ]
  },
  {
   "cell_type": "markdown",
   "id": "7f270694",
   "metadata": {},
   "source": [
    "**Start of admonition: See also**\n",
    "\n",
    "wavreader.py\n",
    "**End of admonition**"
   ]
  },
  {
   "cell_type": "code",
   "execution_count": null,
   "id": "0bdf233f",
   "metadata": {},
   "outputs": [],
   "source": [
    "wav_header_dtype['format']"
   ]
  },
  {
   "cell_type": "code",
   "execution_count": null,
   "id": "f65dee46",
   "metadata": {},
   "outputs": [],
   "source": [
    "wav_header_dtype.fields"
   ]
  },
  {
   "cell_type": "code",
   "execution_count": null,
   "id": "239cbe11",
   "metadata": {},
   "outputs": [],
   "source": [
    "wav_header_dtype.fields['format']"
   ]
  },
  {
   "cell_type": "markdown",
   "id": "0f22486b",
   "metadata": {},
   "source": [
    "- The first element is the sub-dtype in the structured data, corresponding\n",
    "  to the name `format`\n",
    "- The second one is its offset (in bytes) from the beginning of the item\n",
    "\n",
    "**Start of exercise**\n",
    "\n",
    "Make a \"sparse\" dtype by using offsets, and only some of the fields:"
   ]
  },
  {
   "cell_type": "code",
   "execution_count": null,
   "id": "5b546dc0",
   "metadata": {
    "tags": [
     "raises-exception"
    ]
   },
   "outputs": [],
   "source": [
    "wav_header_dtype = np.dtype(dict(\n",
    "  names=['format', 'sample_rate', 'data_id'],\n",
    "  offsets=[offset_1, offset_2, offset_3], # counted from start of structure in bytes\n",
    "  formats=list of dtypes for each of the fields,\n",
    "))"
   ]
  },
  {
   "cell_type": "markdown",
   "id": "c20efa4d",
   "metadata": {},
   "source": [
    "and use that to read the sample rate, and `data_id` (as sub-array).\n",
    "\n",
    "**End of exercise**"
   ]
  },
  {
   "cell_type": "code",
   "execution_count": null,
   "id": "1ef0d029",
   "metadata": {},
   "outputs": [],
   "source": [
    "f = open('data/test.wav', 'r')\n",
    "wav_header = np.fromfile(f, dtype=wav_header_dtype, count=1)\n",
    "f.close()\n",
    "print(wav_header)"
   ]
  },
  {
   "cell_type": "code",
   "execution_count": null,
   "id": "ea78765c",
   "metadata": {},
   "outputs": [],
   "source": [
    "wav_header['sample_rate']"
   ]
  },
  {
   "cell_type": "markdown",
   "id": "3d3ad503",
   "metadata": {},
   "source": [
    "Let's try accessing the sub-array:"
   ]
  },
  {
   "cell_type": "code",
   "execution_count": null,
   "id": "7500681c",
   "metadata": {},
   "outputs": [],
   "source": [
    "wav_header['data_id']"
   ]
  },
  {
   "cell_type": "code",
   "execution_count": null,
   "id": "5b94760b",
   "metadata": {},
   "outputs": [],
   "source": [
    "wav_header.shape"
   ]
  },
  {
   "cell_type": "code",
   "execution_count": null,
   "id": "2f7e12fe",
   "metadata": {},
   "outputs": [],
   "source": [
    "wav_header['data_id'].shape"
   ]
  },
  {
   "cell_type": "markdown",
   "id": "edeeb519",
   "metadata": {},
   "source": [
    "When accessing sub-arrays, the dimensions get added to the end!\n",
    "\n",
    "**Start of note**\n",
    "\n",
    "There are existing modules such as `wavfile`, `audiolab`,\n",
    "etc. for loading sound data...\n",
    "\n",
    "**End of note**\n",
    "\n",
    "#### Casting and re-interpretation/views\n",
    "\n",
    "**casting**\n",
    "\n",
    "- on assignment\n",
    "- on array construction\n",
    "- on arithmetic\n",
    "- etc.\n",
    "- and manually: `.astype(dtype)`\n",
    "\n",
    "**data re-interpretation**\n",
    "\n",
    "- manually: `.view(dtype)`\n",
    "\n",
    "##### Casting\n",
    "\n",
    "- Casting in arithmetic, in nutshell:\n",
    "\n",
    "  - only type (not value!) of operands matters\n",
    "  - largest \"safe\" type able to represent both is picked\n",
    "  - scalars can \"lose\" to arrays in some situations\n",
    "\n",
    "- Casting in general copies data:"
   ]
  },
  {
   "cell_type": "code",
   "execution_count": null,
   "id": "11aa6b5c",
   "metadata": {},
   "outputs": [],
   "source": [
    "x = np.array([1, 2, 3, 4], dtype=float)\n",
    "x"
   ]
  },
  {
   "cell_type": "code",
   "execution_count": null,
   "id": "e6defe45",
   "metadata": {},
   "outputs": [],
   "source": [
    "y = x.astype(np.int8)\n",
    "y"
   ]
  },
  {
   "cell_type": "code",
   "execution_count": null,
   "id": "723cde75",
   "metadata": {},
   "outputs": [],
   "source": [
    "y + 1"
   ]
  },
  {
   "cell_type": "code",
   "execution_count": null,
   "id": "9b87a512",
   "metadata": {
    "tags": [
     "raises-exception"
    ]
   },
   "outputs": [],
   "source": [
    "y + 256"
   ]
  },
  {
   "cell_type": "code",
   "execution_count": null,
   "id": "d6570020",
   "metadata": {},
   "outputs": [],
   "source": [
    "y + 256.0"
   ]
  },
  {
   "cell_type": "code",
   "execution_count": null,
   "id": "cca791be",
   "metadata": {},
   "outputs": [],
   "source": [
    "y + np.array([256], dtype=np.int32)"
   ]
  },
  {
   "cell_type": "markdown",
   "id": "8bc9a4ee",
   "metadata": {},
   "source": [
    "- Casting on setitem: dtype of the array is not changed on item assignment:"
   ]
  },
  {
   "cell_type": "code",
   "execution_count": null,
   "id": "99b62f7f",
   "metadata": {},
   "outputs": [],
   "source": [
    "y[:] = y + 1.5\n",
    "y"
   ]
  },
  {
   "cell_type": "markdown",
   "id": "c9c90092",
   "metadata": {},
   "source": [
    "**Start of note**\n",
    "\n",
    "Exact rules: see [NumPy documentation](https://numpy.org/doc/stable/reference/ufuncs.html#casting-rules)\n",
    "\n",
    "**End of note**\n",
    "\n",
    "##### Re-interpretation / viewing\n",
    "\n",
    "Let's say we have a data block in memory (4 bytes).  For the moment (as indicated by the bars between the values), we'll consider this to be four `unit8` values:\n",
    "\n",
    "| | | | | | | |\n",
    "| - | - | - | - | - | - | - |\n",
    "| ``0x01``  | │ |    ``0x02``   | │ |   ``0x03``    | │ |   ``0x04`` |\n",
    "\n",
    "However, we can interpret this block as:\n",
    "\n",
    "- 4 of uint8 (as here), OR,\n",
    "- 4 of int8, OR,\n",
    "- 2 of int16, OR,\n",
    "- 1 of int32, OR,\n",
    "- 1 of float32, OR,\n",
    "- ...\n",
    "\n",
    "How to switch from one to another?\n",
    "\n",
    "**Option 1: Switch the dtype**"
   ]
  },
  {
   "cell_type": "code",
   "execution_count": null,
   "id": "fa2142b3",
   "metadata": {},
   "outputs": [],
   "source": [
    "x = np.array([1, 2, 3, 4], dtype=np.uint8)\n",
    "x.dtype = \"<i2\"\n",
    "x"
   ]
  },
  {
   "cell_type": "markdown",
   "id": "280c23b0",
   "metadata": {},
   "source": [
    "| | | | | |\n",
    "| - | - | - | - | - |\n",
    "| ``0x01``  |    ``0x02``   | │ |   ``0x03``    |    ``0x04`` |\n",
    "\n",
    "**Start of note**\n",
    "\n",
    "little-endian: least significant byte is on the *left* in memory\n",
    "\n",
    "**End of note**\n",
    "\n",
    "**Option 2: Create a new view of type `uint32`, shorthand `i4`**"
   ]
  },
  {
   "cell_type": "code",
   "execution_count": null,
   "id": "6fc65633",
   "metadata": {},
   "outputs": [],
   "source": [
    "y = x.view(\"<i4\")\n",
    "y"
   ]
  },
  {
   "cell_type": "markdown",
   "id": "e56f79fa",
   "metadata": {},
   "source": [
    "| | | | |\n",
    "| - | - | - | - |\n",
    "| ``0x01``  |    ``0x02``   |   ``0x03``    |    ``0x04`` |\n",
    "\n",
    "**On Views**\n",
    "\n",
    "- `.view()` makes *views*, does not copy (or alter) the memory block\n",
    "- it only changes the dtype (and adjusts array shape):"
   ]
  },
  {
   "cell_type": "code",
   "execution_count": null,
   "id": "8cc47f17",
   "metadata": {},
   "outputs": [],
   "source": [
    "x[1] = 5\n",
    "y"
   ]
  },
  {
   "cell_type": "code",
   "execution_count": null,
   "id": "d797875f",
   "metadata": {},
   "outputs": [],
   "source": [
    "y.base is x"
   ]
  },
  {
   "cell_type": "markdown",
   "id": "248266a6",
   "metadata": {},
   "source": [
    "**Mini-exercise: data re-interpretation**\n",
    "\n",
    "**Start of admonition: See also**\n",
    "\n",
    "view-colors.py\n",
    "**End of admonition**\n",
    "\n",
    "**Start of exercise**\n",
    "\n",
    "You have RGBA data in an array:"
   ]
  },
  {
   "cell_type": "code",
   "execution_count": null,
   "id": "b70dd3bc",
   "metadata": {},
   "outputs": [],
   "source": [
    "x = np.zeros((10, 10, 4), dtype=np.int8)\n",
    "x[:, :, 0] = 1\n",
    "x[:, :, 1] = 2\n",
    "x[:, :, 2] = 3\n",
    "x[:, :, 3] = 4"
   ]
  },
  {
   "cell_type": "markdown",
   "id": "e6dd18bb",
   "metadata": {},
   "source": [
    "where the last three dimensions are the R, B, and G, and alpha channels.\n",
    "\n",
    "How would you make a (10, 10) structured array with field names 'r', 'g', 'b',\n",
    "'a' without copying data?"
   ]
  },
  {
   "cell_type": "code",
   "execution_count": null,
   "id": "04b183b5",
   "metadata": {},
   "outputs": [],
   "source": [
    "y = ..."
   ]
  },
  {
   "cell_type": "code",
   "execution_count": null,
   "id": "64563a26",
   "metadata": {
    "tags": [
     "raises-exception"
    ]
   },
   "outputs": [],
   "source": [
    "assert (y['r'] == 1).all()\n",
    "assert (y['g'] == 2).all()\n",
    "assert (y['b'] == 3).all()\n",
    "assert (y['a'] == 4).all()"
   ]
  },
  {
   "cell_type": "markdown",
   "id": "66581f5c",
   "metadata": {},
   "source": [
    "**End of exercise**"
   ]
  },
  {
   "cell_type": "markdown",
   "id": "3db32c53",
   "metadata": {},
   "source": [
    "**See the [corresponding page](/scipy-lecture-notes/advanced/advanced_numpy/index.html) for solution**\n",
    "\n",
    "#### A puzzle\n",
    "\n",
    "Another two arrays, each occupying exactly 4 bytes of memory:"
   ]
  },
  {
   "cell_type": "code",
   "execution_count": null,
   "id": "6e8d4faf",
   "metadata": {},
   "outputs": [],
   "source": [
    "x = np.array([[1, 3], [2, 4]], dtype=np.uint8)\n",
    "x"
   ]
  },
  {
   "cell_type": "code",
   "execution_count": null,
   "id": "1f23d659",
   "metadata": {},
   "outputs": [],
   "source": [
    "y = x.transpose()\n",
    "y"
   ]
  },
  {
   "cell_type": "markdown",
   "id": "2cb08610",
   "metadata": {},
   "source": [
    "We view the elements of `x` (1 byte each) as `int16` (2 bytes each):"
   ]
  },
  {
   "cell_type": "code",
   "execution_count": null,
   "id": "bc0c22bf",
   "metadata": {},
   "outputs": [],
   "source": [
    "x.view(np.int16)"
   ]
  },
  {
   "cell_type": "markdown",
   "id": "bf418361",
   "metadata": {},
   "source": [
    "What is happening here? Take a look at the bytes stored in memory\n",
    "by `x`:"
   ]
  },
  {
   "cell_type": "code",
   "execution_count": null,
   "id": "4ccb758f",
   "metadata": {},
   "outputs": [],
   "source": [
    "x.tobytes()"
   ]
  },
  {
   "cell_type": "markdown",
   "id": "daaa3523",
   "metadata": {},
   "source": [
    "The `\\x` stands for heXadecimal, so what we are seeing is:\n",
    "\n",
    "```\n",
    "0x01 0x03 0x02 0x04\n",
    "```\n",
    "\n",
    "We ask NumPy to interpret these bytes as elements of dtype\n",
    "`int16`—each of which occupies *two* bytes in memory. Therefore,\n",
    "`0x01 0x03` becomes the first `uint16` and `0x02 0x04` the\n",
    "second.\n",
    "\n",
    "You may then expect to see `0x0103` (259, when converting from\n",
    "hexadecimal to decimal) as the first result. But your computer\n",
    "likely stores most significant bytes first, and as such reads the\n",
    "number as `0x0301` or 769 (go on and type `0x0301` into your Python\n",
    "terminal to verify).\n",
    "\n",
    "We can do the same on a copy of `y` (why doesn't it work on `y`\n",
    "directly?):"
   ]
  },
  {
   "cell_type": "code",
   "execution_count": null,
   "id": "b7020f08",
   "metadata": {},
   "outputs": [],
   "source": [
    "y.copy().view(np.int16)"
   ]
  },
  {
   "cell_type": "markdown",
   "id": "3b4f91cc",
   "metadata": {},
   "source": [
    "Can you explain these numbers, 513 and 1027, as well as the output\n",
    "shape of the resulting array?\n",
    "\n",
    "### Indexing scheme: strides\n",
    "\n",
    "#### Main point\n",
    "\n",
    "**The question**:"
   ]
  },
  {
   "cell_type": "code",
   "execution_count": null,
   "id": "4cc8d5fa",
   "metadata": {},
   "outputs": [],
   "source": [
    "x = np.array([[1, 2, 3],\n",
    "              [4, 5, 6],\n",
    "              [7, 8, 9]], dtype=np.int8)\n",
    "x.tobytes('A')"
   ]
  },
  {
   "cell_type": "markdown",
   "id": "b5eec116",
   "metadata": {},
   "source": [
    "**The answer** (in NumPy)\n",
    "\n",
    "- **strides**: the number of bytes to jump to find the next element\n",
    "- 1 stride per dimension"
   ]
  },
  {
   "cell_type": "code",
   "execution_count": null,
   "id": "78a837aa",
   "metadata": {},
   "outputs": [],
   "source": [
    "x.strides"
   ]
  },
  {
   "cell_type": "code",
   "execution_count": null,
   "id": "49ff596e",
   "metadata": {},
   "outputs": [],
   "source": [
    "byte_offset = 3 * 1 + 1 * 2  # to find x[1, 2]\n",
    "x.flat[byte_offset]"
   ]
  },
  {
   "cell_type": "code",
   "execution_count": null,
   "id": "74e15a11",
   "metadata": {},
   "outputs": [],
   "source": [
    "x[1, 2]"
   ]
  },
  {
   "cell_type": "markdown",
   "id": "f4d0a338",
   "metadata": {},
   "source": [
    "simple, **flexible**\n",
    "\n",
    "##### C and Fortran order\n",
    "\n",
    "**Start of note**\n",
    "\n",
    "The Python built-in {py:class}`bytes` returns bytes in C-order by default\n",
    "which can cause confusion when trying to inspect memory layout. We use\n",
    "{meth}`numpy.ndarray.tobytes` with `order=A` instead, which preserves\n",
    "the C or F ordering of the bytes in memory.\n",
    "\n",
    "**End of note**"
   ]
  },
  {
   "cell_type": "code",
   "execution_count": null,
   "id": "4ec0cd52",
   "metadata": {},
   "outputs": [],
   "source": [
    "x = np.array([[1, 2, 3],\n",
    "              [4, 5, 6]], dtype=np.int16, order='C')\n",
    "x.strides"
   ]
  },
  {
   "cell_type": "code",
   "execution_count": null,
   "id": "ea1f98c7",
   "metadata": {},
   "outputs": [],
   "source": [
    "x.tobytes('A')"
   ]
  },
  {
   "cell_type": "markdown",
   "id": "b8d66a31",
   "metadata": {},
   "source": [
    "- Need to jump 6 bytes to find the next row\n",
    "- Need to jump 2 bytes to find the next column"
   ]
  },
  {
   "cell_type": "code",
   "execution_count": null,
   "id": "8776ebd7",
   "metadata": {},
   "outputs": [],
   "source": [
    "y = np.array(x, order='F')\n",
    "y.strides"
   ]
  },
  {
   "cell_type": "code",
   "execution_count": null,
   "id": "ba913a51",
   "metadata": {},
   "outputs": [],
   "source": [
    "y.tobytes('A')"
   ]
  },
  {
   "cell_type": "markdown",
   "id": "b21785ae",
   "metadata": {},
   "source": [
    "- Need to jump 2 bytes to find the next row\n",
    "- Need to jump 4 bytes to find the next column\n",
    "\n",
    "Similarly for higher dimensions:\n",
    "\n",
    "  - C: last dimensions vary fastest (= smaller strides)\n",
    "  - F: first dimensions vary fastest\n",
    "\n",
    "$$\n",
    "\\begin{align}\n",
    "\\mathrm{shape} &= (d_1, d_2, ..., d_n)\n",
    "\\\\\n",
    "\\mathrm{strides} &= (s_1, s_2, ..., s_n)\n",
    "\\\\\n",
    "s_j^C &= d_{j+1} d_{j+2} ... d_{n} \\times \\mathrm{itemsize}\n",
    "\\\\\n",
    "s_j^F &= d_{1} d_{2} ... d_{j-1} \\times \\mathrm{itemsize}\n",
    "\\end{align}\n",
    "$$\n",
    "\n",
    "**Now we can understand the behavior of `.view()`**"
   ]
  },
  {
   "cell_type": "code",
   "execution_count": null,
   "id": "a7df728d",
   "metadata": {},
   "outputs": [],
   "source": [
    "y = np.array([[1, 3], [2, 4]], dtype=np.uint8).transpose()\n",
    "x = y.copy()"
   ]
  },
  {
   "cell_type": "markdown",
   "id": "5418e199",
   "metadata": {},
   "source": [
    "Transposition does not affect the memory layout of the data, only strides"
   ]
  },
  {
   "cell_type": "code",
   "execution_count": null,
   "id": "f62bd424",
   "metadata": {},
   "outputs": [],
   "source": [
    "x.strides"
   ]
  },
  {
   "cell_type": "code",
   "execution_count": null,
   "id": "6267ccec",
   "metadata": {},
   "outputs": [],
   "source": [
    "y.strides"
   ]
  },
  {
   "cell_type": "code",
   "execution_count": null,
   "id": "97278140",
   "metadata": {},
   "outputs": [],
   "source": [
    "x.tobytes('A')"
   ]
  },
  {
   "cell_type": "code",
   "execution_count": null,
   "id": "b86a2d6c",
   "metadata": {},
   "outputs": [],
   "source": [
    "y.tobytes('A')"
   ]
  },
  {
   "cell_type": "markdown",
   "id": "64825a3d",
   "metadata": {},
   "source": [
    "- the results are different when interpreted as 2 of int16\n",
    "- `.copy()` creates new arrays in the C order (by default)"
   ]
  },
  {
   "cell_type": "markdown",
   "id": "034dc979",
   "metadata": {},
   "source": [
    "##### Slicing with integers\n",
    "\n",
    "- *Everything* can be represented by changing only `shape`, `strides`,\n",
    "  and possibly adjusting the `data` pointer!\n",
    "- Never makes copies of the data"
   ]
  },
  {
   "cell_type": "code",
   "execution_count": null,
   "id": "ce1dc1f8",
   "metadata": {},
   "outputs": [],
   "source": [
    "x = np.array([1, 2, 3, 4, 5, 6], dtype=np.int32)\n",
    "y = x[::-1]\n",
    "y"
   ]
  },
  {
   "cell_type": "code",
   "execution_count": null,
   "id": "b5c148c3",
   "metadata": {},
   "outputs": [],
   "source": [
    "y.strides"
   ]
  },
  {
   "cell_type": "code",
   "execution_count": null,
   "id": "79e8c793",
   "metadata": {},
   "outputs": [],
   "source": [
    "y = x[2:]\n",
    "y.__array_interface__['data'][0] - x.__array_interface__['data'][0]"
   ]
  },
  {
   "cell_type": "code",
   "execution_count": null,
   "id": "2f8d7985",
   "metadata": {},
   "outputs": [],
   "source": [
    "x = np.zeros((10, 10, 10), dtype=float)\n",
    "x.strides"
   ]
  },
  {
   "cell_type": "code",
   "execution_count": null,
   "id": "cc774a07",
   "metadata": {},
   "outputs": [],
   "source": [
    "x[::2,::3,::4].strides"
   ]
  },
  {
   "cell_type": "markdown",
   "id": "161d2613",
   "metadata": {},
   "source": [
    "Similarly, transposes never make copies (it just swaps strides):"
   ]
  },
  {
   "cell_type": "code",
   "execution_count": null,
   "id": "896716d4",
   "metadata": {},
   "outputs": [],
   "source": [
    "x = np.zeros((10, 10, 10), dtype=float)\n",
    "x.strides"
   ]
  },
  {
   "cell_type": "code",
   "execution_count": null,
   "id": "3a209679",
   "metadata": {},
   "outputs": [],
   "source": [
    "x.T.strides"
   ]
  },
  {
   "cell_type": "markdown",
   "id": "88a1d67b",
   "metadata": {},
   "source": [
    "But: not all reshaping operations can be represented by playing with\n",
    "strides:"
   ]
  },
  {
   "cell_type": "code",
   "execution_count": null,
   "id": "3e8a439b",
   "metadata": {},
   "outputs": [],
   "source": [
    "a = np.arange(6, dtype=np.int8).reshape(3, 2)\n",
    "b = a.T\n",
    "b.strides"
   ]
  },
  {
   "cell_type": "markdown",
   "id": "6317088c",
   "metadata": {},
   "source": [
    "So far, so good. However:"
   ]
  },
  {
   "cell_type": "code",
   "execution_count": null,
   "id": "bff9e2f4",
   "metadata": {},
   "outputs": [],
   "source": [
    "bytes(a.data)"
   ]
  },
  {
   "cell_type": "code",
   "execution_count": null,
   "id": "6e8500bb",
   "metadata": {},
   "outputs": [],
   "source": [
    "b"
   ]
  },
  {
   "cell_type": "code",
   "execution_count": null,
   "id": "7f104988",
   "metadata": {},
   "outputs": [],
   "source": [
    "c = b.reshape(3*2)\n",
    "c"
   ]
  },
  {
   "cell_type": "markdown",
   "id": "f22e7cf3",
   "metadata": {},
   "source": [
    "Here, there is no way to represent the array `c` given one stride\n",
    "and the block of memory for `a`. Therefore, the `reshape`\n",
    "operation needs to make a copy here.\n",
    "#### Example: fake dimensions with strides\n",
    "\n",
    "**Stride manipulation**"
   ]
  },
  {
   "cell_type": "code",
   "execution_count": null,
   "id": "5b104b8c",
   "metadata": {},
   "outputs": [],
   "source": [
    "from numpy.lib.stride_tricks import as_strided\n",
    "help(as_strided)"
   ]
  },
  {
   "cell_type": "markdown",
   "id": "da9a9309",
   "metadata": {},
   "source": [
    "**Start of warning**\n",
    "`as_strided` does **not** check that you stay inside the memory\n",
    "block bounds...\n",
    "**End of warning**"
   ]
  },
  {
   "cell_type": "code",
   "execution_count": null,
   "id": "3aa88b91",
   "metadata": {},
   "outputs": [],
   "source": [
    "x = np.array([1, 2, 3, 4], dtype=np.int16)\n",
    "as_strided(x, strides=(2*2, ), shape=(2, ))"
   ]
  },
  {
   "cell_type": "code",
   "execution_count": null,
   "id": "51652a4a",
   "metadata": {},
   "outputs": [],
   "source": [
    "x[::2]"
   ]
  },
  {
   "cell_type": "markdown",
   "id": "978104ff",
   "metadata": {},
   "source": [
    "**Start of admonition: See also**\n",
    "\n",
    "stride-fakedims.py\n",
    "**End of admonition**\n",
    "\n",
    "**Start of exercise**\n",
    "\n",
    "Convert this:"
   ]
  },
  {
   "cell_type": "code",
   "execution_count": null,
   "id": "985c8dd3",
   "metadata": {},
   "outputs": [],
   "source": [
    "in_arr = np.array([1, 2, 3, 4], dtype=np.int8)\n",
    "in_arr"
   ]
  },
  {
   "cell_type": "markdown",
   "id": "cabc7550",
   "metadata": {},
   "source": [
    "to this:\n",
    "\n",
    "```python\n",
    "array([[1, 2, 3, 4],\n",
    "       [1, 2, 3, 4],\n",
    "       [1, 2, 3, 4]], dtype=np.int8)\n",
    "```\n",
    "\n",
    "using only `as_strided`.:\n",
    "\n",
    "**Hint**: `byte_offset = stride[0]*index[0] + stride[1]*index[1] + ...`\n",
    "\n",
    "**End of exercise**\n",
    "\n",
    "**Start of admonition: Spoiler for strides exercise**\n",
    ":class: dropdown\n",
    "\n",
    "Stride can also be *0*:\n",
    "\n",
    "**End of admonition**\n",
    "**See the [corresponding page](/scipy-lecture-notes/advanced/advanced_numpy/index.html) for solution**\n",
    "#### Broadcasting\n",
    "\n",
    "- Doing something useful with it: outer product\n",
    "  of `[1, 2, 3, 4]` and `[5, 6, 7]`"
   ]
  },
  {
   "cell_type": "code",
   "execution_count": null,
   "id": "cc4b8f07",
   "metadata": {},
   "outputs": [],
   "source": [
    "x = np.array([1, 2, 3, 4], dtype=np.int16)\n",
    "x2 = as_strided(x, strides=(0, 1*2), shape=(3, 4))\n",
    "x2"
   ]
  },
  {
   "cell_type": "code",
   "execution_count": null,
   "id": "403a0f4c",
   "metadata": {},
   "outputs": [],
   "source": [
    "y = np.array([5, 6, 7], dtype=np.int16)\n",
    "y2 = as_strided(y, strides=(1*2, 0), shape=(3, 4))\n",
    "y2"
   ]
  },
  {
   "cell_type": "code",
   "execution_count": null,
   "id": "fcacda3a",
   "metadata": {},
   "outputs": [],
   "source": [
    "x2 * y2"
   ]
  },
  {
   "cell_type": "markdown",
   "id": "7cb4c6ee",
   "metadata": {},
   "source": [
    "**... seems somehow familiar ...**"
   ]
  },
  {
   "cell_type": "code",
   "execution_count": null,
   "id": "f57b7afc",
   "metadata": {},
   "outputs": [],
   "source": [
    "x = np.array([1, 2, 3, 4], dtype=np.int16)\n",
    "y = np.array([5, 6, 7], dtype=np.int16)\n",
    "x[np.newaxis,:] * y[:,np.newaxis]"
   ]
  },
  {
   "cell_type": "markdown",
   "id": "30f730a4",
   "metadata": {},
   "source": [
    "- Internally, array **broadcasting** is indeed implemented using 0-strides.\n",
    "\n",
    "#### More tricks: diagonals\n",
    "\n",
    "**Start of admonition: See also**\n",
    "\n",
    "stride-diagonals.py\n",
    "**End of admonition**\n",
    "\n",
    "**Start of exercise**\n",
    "\n",
    "Pick diagonal entries of the matrix: (assume C memory order):"
   ]
  },
  {
   "cell_type": "code",
   "execution_count": null,
   "id": "b53c3980",
   "metadata": {},
   "outputs": [],
   "source": [
    "x = np.array([[1, 2, 3],\n",
    "              [4, 5, 6],\n",
    "              [7, 8, 9]], dtype=np.int32)"
   ]
  },
  {
   "cell_type": "markdown",
   "id": "a7ea93a9",
   "metadata": {},
   "source": [
    "Your task is to work out the correct strides for to get the diagonal of the array, as in:\n",
    "\n",
    "```\n",
    "x_diag = as_strided(x, shape=(3,), strides=(...,))\n",
    "```\n",
    "\n",
    "Next:\n",
    "\n",
    "* Pick the first super-diagonal entries `[2, 6]`.\n",
    "* And the sub-diagonals?\n",
    "\n",
    "**Hint to the last two**: slicing first moves the point where striding starts\n",
    "from.\n",
    "\n",
    "**End of exercise**"
   ]
  },
  {
   "cell_type": "markdown",
   "id": "7b56989e",
   "metadata": {},
   "source": [
    "**See the [corresponding page](/scipy-lecture-notes/advanced/advanced_numpy/index.html) for solution**\n",
    "\n",
    "#### Using np.diag"
   ]
  },
  {
   "cell_type": "code",
   "execution_count": null,
   "id": "91020df2",
   "metadata": {},
   "outputs": [],
   "source": [
    "y = np.diag(x, k=1)\n",
    "y"
   ]
  },
  {
   "cell_type": "markdown",
   "id": "dd286ea5",
   "metadata": {},
   "source": [
    "However,"
   ]
  },
  {
   "cell_type": "code",
   "execution_count": null,
   "id": "b73f841c",
   "metadata": {
    "lines_to_next_cell": 2
   },
   "outputs": [],
   "source": [
    "y.flags.owndata"
   ]
  },
  {
   "cell_type": "markdown",
   "id": "653be19a",
   "metadata": {},
   "source": [
    "**Challenge**\n",
    "\n",
    "**Start of exercise**\n",
    "\n",
    "Compute the tensor trace:"
   ]
  },
  {
   "cell_type": "code",
   "execution_count": null,
   "id": "413f0d2a",
   "metadata": {
    "lines_to_next_cell": 2
   },
   "outputs": [],
   "source": [
    "x = np.arange(5*5*5*5).reshape(5, 5, 5, 5)\n",
    "s = 0\n",
    "for i in range(5):\n",
    "    for j in range(5):\n",
    "        s += x[j, i, j, i]"
   ]
  },
  {
   "cell_type": "markdown",
   "id": "7b0901b8",
   "metadata": {},
   "source": [
    "by striding, and using `sum()` on the result."
   ]
  },
  {
   "cell_type": "code",
   "execution_count": null,
   "id": "b5178337",
   "metadata": {
    "tags": [
     "raises-exception"
    ]
   },
   "outputs": [],
   "source": [
    "y = as_strided(x, shape=(5, 5), strides=(..., ...))\n",
    "s2 = ...\n",
    "assert s == s2"
   ]
  },
  {
   "cell_type": "markdown",
   "id": "0f8fb323",
   "metadata": {},
   "source": [
    "**End of exercise**"
   ]
  },
  {
   "cell_type": "markdown",
   "id": "2941b84b",
   "metadata": {},
   "source": [
    "**See the [corresponding page](/scipy-lecture-notes/advanced/advanced_numpy/index.html) for solution**\n",
    "#### CPU cache effects\n",
    "\n",
    "Memory layout can affect performance:"
   ]
  },
  {
   "cell_type": "code",
   "execution_count": null,
   "id": "2156642a",
   "metadata": {},
   "outputs": [],
   "source": [
    "x = np.zeros((20000,))\n",
    "y = np.zeros((20000*67,))[::67]\n",
    "\n",
    "x.shape, y.shape"
   ]
  },
  {
   "cell_type": "code",
   "execution_count": null,
   "id": "b1879c8f",
   "metadata": {},
   "outputs": [],
   "source": [
    "%timeit np.median(x)"
   ]
  },
  {
   "cell_type": "code",
   "execution_count": null,
   "id": "fa7e8584",
   "metadata": {},
   "outputs": [],
   "source": [
    "%timeit np.median(y)"
   ]
  },
  {
   "cell_type": "code",
   "execution_count": null,
   "id": "a3c78138",
   "metadata": {},
   "outputs": [],
   "source": [
    "x.strides, y.strides"
   ]
  },
  {
   "cell_type": "markdown",
   "id": "ff16ddca",
   "metadata": {},
   "source": [
    "**Start of note**\n",
    "\n",
    "** Are smaller strides faster**\n",
    "\n",
    "::: {image} cpu-cacheline.png\n",
    "**End of note**\n",
    "\n",
    "- CPU pulls data from main memory to its cache in blocks\n",
    "- If many array items consecutively operated on fit in a single block (small stride):\n",
    "\n",
    "  - $\\Rightarrow$ fewer transfers needed\n",
    "  - $\\Rightarrow$ faster\n",
    "\n",
    ":::\n",
    "\n",
    "**Start of admonition: See also**\n",
    "\n",
    "- [numexpr](https://numexpr.readthedocs.io/projects/NumExpr3/en/latest/) is designed to mitigate\n",
    "  cache effects when evaluating array expressions.\n",
    "- [numba](https://numba.pydata.org/) is a compiler for Python code,\n",
    "  that is aware of numpy arrays.\n",
    "**End of admonition**\n",
    "\n",
    "### Findings in dissection\n",
    "\n",
    "::: {image} threefundamental.png\n",
    ":::\n",
    "\n",
    "- *memory block*: may be shared, `.base`, `.data`\n",
    "- *data type descriptor*: structured data, sub-arrays, byte order,\n",
    "  casting, viewing, `.astype()`, `.view()`\n",
    "- *strided indexing*: strides, C/F-order, slicing w/ integers,\n",
    "  `as_strided`, broadcasting, stride tricks, `diag`, CPU cache\n",
    "  coherence\n",
    "\n",
    "## Universal functions\n",
    "\n",
    "### What are they?\n",
    "\n",
    "- Ufunc performs an elementwise operation on all elements of an array.\n",
    "\n",
    "  Examples: `np.add, np.subtract, scipy.special.*,` ...\n",
    "\n",
    "- Automatically support: broadcasting, casting, ...\n",
    "- The author of an ufunc only has to supply the elementwise operation,\n",
    "  NumPy takes care of the rest.\n",
    "- The elementwise operation needs to be implemented in C (or, e.g., Cython)\n",
    "\n",
    "#### Parts of an Ufunc\n",
    "\n",
    "**Part 1: provided by user**\n",
    "\n",
    "```c\n",
    "void ufunc_loop(void **args, int *dimensions, int *steps, void *data)\n",
    "{\n",
    "    /*\n",
    "    * int8 output = elementwise_function(int8 input_1, int8 input_2)\n",
    "    *\n",
    "    * This function must compute the ufunc for many values at once,\n",
    "    * in the way shown below.\n",
    "    */\n",
    "    char *input_1 = (char*)args[0];\n",
    "    char *input_2 = (char*)args[1];\n",
    "    char *output = (char*)args[2];\n",
    "    int i;\n",
    "\n",
    "    for (i = 0; i < dimensions[0]; ++i) {\n",
    "        *output = elementwise_function(*input_1, *input_2);\n",
    "        input_1 += steps[0];\n",
    "        input_2 += steps[1];\n",
    "        output += steps[2];\n",
    "    }\n",
    "}\n",
    "```\n",
    "\n",
    "**Part 2. The NumPy part, built by**\n",
    "\n",
    "```c\n",
    "char types[3]\n",
    "\n",
    "types[0] = NPY_BYTE   /* type of first input arg */\n",
    "types[1] = NPY_BYTE   /* type of second input arg */\n",
    "types[2] = NPY_BYTE   /* type of third input arg */\n",
    "\n",
    "PyObject *python_ufunc = PyUFunc_FromFuncAndData(\n",
    "    ufunc_loop,\n",
    "    NULL,\n",
    "    types,\n",
    "    1, /* ntypes */\n",
    "    2, /* num_inputs */\n",
    "    1, /* num_outputs */\n",
    "    identity_element,\n",
    "    name,\n",
    "    docstring,\n",
    "    unused)\n",
    "```\n",
    "\n",
    "A ufunc can also support multiple different input-output type combinations.\n",
    "\n",
    "#### Making it easier\n",
    "\n",
    "`ufunc_loop` is of very generic form, and NumPy provides pre-made ones\n",
    "\n",
    "| | |\n",
    "| - | - |\n",
    "| ``PyUfunc_f_f``  | ``float elementwise_func(float input_1)`` |\n",
    "| ``PyUfunc_ff_f`` | ``float elementwise_func(float input_1, float input_2)`` |\n",
    "| ``PyUfunc_d_d``  | ``double elementwise_func(double input_1)`` |\n",
    "| ``PyUfunc_dd_d`` | ``double elementwise_func(double input_1, double input_2)`` |\n",
    "| ``PyUfunc_D_D``  | ``elementwise_func(npy_cdouble *input, npy_cdouble* output)`` |\n",
    "| ``PyUfunc_DD_D`` | ``elementwise_func(npy_cdouble *in1, npy_cdouble *in2, npy_cdouble* out)`` |\n",
    "\n",
    "- Only `elementwise_func` needs to be supplied\n",
    "- ... except when your elementwise function is not in one of the above forms\n",
    "\n",
    "### Exercise: building an ufunc from scratch\n",
    "\n",
    "**Start of exercise**\n",
    "\n",
    "The Mandelbrot fractal is defined by the iteration\n",
    "\n",
    "$$\n",
    "z \\leftarrow z^2 + c\n",
    "$$\n",
    "\n",
    "where $c = x + i y$ is a complex number. This iteration is\n",
    "repeated -- if $z$ stays finite no matter how long the iteration\n",
    "runs, $c$ belongs to the Mandelbrot set.\n",
    "\n",
    "First — make a ufunc called `mandel(z0, c)` that computes:\n",
    "\n",
    "```python\n",
    "z = z0\n",
    "for k in range(iterations):\n",
    "    z = z*z + c\n",
    "```\n",
    "\n",
    "Run for, say, 100 iterations or until `z.real**2 + z.imag**2 > 1000`.\n",
    "Use it to determine which `c` are in the Mandelbrot set.\n",
    "\n",
    "Our function is a simple one, so make use of the `PyUFunc_*` helpers.\n",
    "\n",
    "Write it in Cython\n",
    "\n",
    "**Start of admonition: See also**\n",
    "\n",
    "mandel.pyx, mandelplot.py\n",
    "**End of admonition**\n",
    "\n",
    ":::{only} latex\n",
    "```{literalinclude} examples/mandel.pyx\n",
    "```\n",
    ":::\n",
    "\n",
    "**Reminder**: some pre-made Ufunc loops:\n",
    "\n",
    "| | |\n",
    "| - | - |\n",
    "| ``PyUfunc_f_f``  | ``float elementwise_func(float input_1)`` |\n",
    "| ``PyUfunc_ff_f`` | ``float elementwise_func(float input_1, float input_2)`` |\n",
    "| ``PyUfunc_d_d``  | ``double elementwise_func(double input_1)`` |\n",
    "| ``PyUfunc_dd_d`` | ``double elementwise_func(double input_1, double input_2)`` |\n",
    "| ``PyUfunc_D_D``  | ``elementwise_func(complex_double *input, complex_double* output)`` |\n",
    "| ``PyUfunc_DD_D`` | ``elementwise_func(complex_double *in1, complex_double *in2, complex_double* out)`` |\n",
    "\n",
    "Type codes:\n",
    "\n",
    "```\n",
    "NPY_BOOL, NPY_BYTE, NPY_UBYTE, NPY_SHORT, NPY_USHORT, NPY_INT, NPY_UINT,\n",
    "NPY_LONG, NPY_ULONG, NPY_LONGLONG, NPY_ULONGLONG, NPY_FLOAT, NPY_DOUBLE,\n",
    "NPY_LONGDOUBLE, NPY_CFLOAT, NPY_CDOUBLE, NPY_CLONGDOUBLE, NPY_DATETIME,\n",
    "NPY_TIMEDELTA, NPY_OBJECT, NPY_STRING, NPY_UNICODE, NPY_VOID\n",
    "```\n",
    "\n",
    "**End of exercise**\n",
    "\n",
    "\n",
    "**See the [corresponding page](/scipy-lecture-notes/advanced/advanced_numpy/index.html) for solution**\n",
    "\n",
    "### Generalized ufuncs\n",
    "\n",
    "**ufunc**\n",
    "\n",
    "`output = elementwise_function(input)`\n",
    "\n",
    "Both `output` and `input` can be a single array element only.\n",
    "\n",
    "**generalized ufunc**\n",
    "\n",
    "`output` and `input` can be arrays with a fixed number of dimensions\n",
    "\n",
    "For example, matrix trace (sum of diag elements):\n",
    "\n",
    "```text\n",
    "input shape = (n, n)\n",
    "output shape = ()    #  i.e.  scalar\n",
    "\n",
    "(n, n) -> ()\n",
    "```\n",
    "\n",
    "Matrix product:\n",
    "\n",
    "```text\n",
    "input_1 shape = (m, n)\n",
    "input_2 shape = (n, p)\n",
    "output shape  = (m, p)\n",
    "\n",
    "(m, n), (n, p) -> (m, p)\n",
    "```\n",
    "\n",
    "- This is called the *\"signature\"* of the generalized ufunc\n",
    "- The dimensions on which the g-ufunc acts, are *\"core dimensions\"*\n",
    "\n",
    "**Status in NumPy**\n",
    "\n",
    "- g-ufuncs are in NumPy already ...\n",
    "- new ones can be created with `PyUFunc_FromFuncAndDataAndSignature`\n",
    "- most linear-algebra functions are implemented as g-ufuncs to enable working\n",
    "  with stacked arrays:"
   ]
  },
  {
   "cell_type": "code",
   "execution_count": null,
   "id": "22509777",
   "metadata": {},
   "outputs": [],
   "source": [
    "import numpy as np\n",
    "rng = np.random.default_rng(27446968)\n",
    "np.linalg.det(rng.random((3, 5, 5)))"
   ]
  },
  {
   "cell_type": "code",
   "execution_count": null,
   "id": "1f2fac6b",
   "metadata": {},
   "outputs": [],
   "source": [
    "np.linalg._umath_linalg.det.signature"
   ]
  },
  {
   "cell_type": "markdown",
   "id": "98c08de7",
   "metadata": {},
   "source": [
    "- matrix multiplication this way could be useful for operating on\n",
    "  many small matrices at once\n",
    "- Also see `tensordot` and `einsum`\n",
    "\n",
    "<!---\n",
    "\n",
    "The below gufunc examples were from `np.core.umath_tests`,\n",
    "which is now deprecated. We need another source of example\n",
    "gufuncs.  See the discussion at:\n",
    "\n",
    "https://mail.python.org/archives/list/numpy-discussion@python.org/thread/ZG7AUSPYYUNSPQU3YUZS2XCFD7AT3BJP/\n",
    "\n",
    "import numpy.core.umath_tests as ut\n",
    "ut.matrix_multiply.signature\n",
    "\n",
    "'(m,n),(n,p)->(m,p)'\n",
    "\n",
    "x = np.ones((10, 2, 4))\n",
    "y = np.ones((10, 4, 5))\n",
    "ut.matrix_multiply(x, y).shape\n",
    "\n",
    "(10, 2, 5)\n",
    "\n",
    "* in both examples the last two dimensions became *core dimensions*,\n",
    "and are modified as per the *signature*\n",
    "* otherwise, the g-ufunc operates \"elementwise\"\n",
    "\n",
    "-->\n",
    "\n",
    "**Generalized ufunc loop**\n",
    "\n",
    "Matrix multiplication `(m,n),(n,p) -> (m,p)`\n",
    "\n",
    "```c\n",
    "void gufunc_loop(void **args, int *dimensions, int *steps, void *data)\n",
    "{\n",
    "    char *input_1 = (char*)args[0];  /* these are as previously */\n",
    "    char *input_2 = (char*)args[1];\n",
    "    char *output = (char*)args[2];\n",
    "\n",
    "    int input_1_stride_m = steps[3];  /* strides for the core dimensions */\n",
    "    int input_1_stride_n = steps[4];  /* are added after the non-core */\n",
    "    int input_2_strides_n = steps[5]; /* steps */\n",
    "    int input_2_strides_p = steps[6];\n",
    "    int output_strides_n = steps[7];\n",
    "    int output_strides_p = steps[8];\n",
    "\n",
    "    int m = dimension[1]; /* core dimensions are added after */\n",
    "    int n = dimension[2]; /* the main dimension; order as in */\n",
    "    int p = dimension[3]; /* signature */\n",
    "\n",
    "    int i;\n",
    "\n",
    "    for (i = 0; i < dimensions[0]; ++i) {\n",
    "        matmul_for_strided_matrices(input_1, input_2, output,\n",
    "                                    strides for each array...);\n",
    "\n",
    "        input_1 += steps[0];\n",
    "        input_2 += steps[1];\n",
    "        output += steps[2];\n",
    "    }\n",
    "}\n",
    "```\n",
    "\n",
    "## Interoperability features\n",
    "\n",
    "### Sharing multidimensional, typed data\n",
    "\n",
    "Suppose you\n",
    "\n",
    "1. Write a library than handles (multidimensional) binary data,\n",
    "2. Want to make it easy to manipulate the data with NumPy, or whatever\n",
    "   other library,\n",
    "3. ... but would **not** like to have NumPy as a dependency.\n",
    "\n",
    "Currently, 3 solutions:\n",
    "\n",
    "1. the \"old\" buffer interface\n",
    "2. the array interface\n",
    "3. the \"new\" buffer interface ({pep}`3118`)\n",
    "\n",
    "### The old buffer protocol\n",
    "\n",
    "- Only 1-D buffers\n",
    "- No data type information\n",
    "- C-level interface; `PyBufferProcs tp_as_buffer` in the type object\n",
    "- But it's integrated into Python (e.g. strings support it)\n",
    "\n",
    "Mini-exercise using [Pillow](https://python-pillow.org/) (Python\n",
    "Imaging Library):\n",
    "\n",
    "**Start of admonition: See also**\n",
    "\n",
    "pilbuffer.py\n",
    "**End of admonition**\n",
    "\n",
    "**Start of exercise**"
   ]
  },
  {
   "cell_type": "code",
   "execution_count": null,
   "id": "1d4a7bd3",
   "metadata": {},
   "outputs": [],
   "source": [
    "from PIL import Image\n",
    "data = np.zeros((200, 200, 4), dtype=np.uint8)\n",
    "data[:, :] = [255, 0, 0, 255] # Red\n",
    "# In PIL, RGBA images consist of 32-bit integers whose bytes are [RR,GG,BB,AA]\n",
    "data = data.view(np.int32).squeeze()\n",
    "img = Image.frombuffer(\"RGBA\", (200, 200), data, \"raw\", \"RGBA\", 0, 1)\n",
    "img.save('test.png')"
   ]
  },
  {
   "cell_type": "markdown",
   "id": "a0928020",
   "metadata": {},
   "source": [
    "**The question**\n",
    "\n",
    "What happens if `data` is now modified, and `img` saved again?\n",
    "\n",
    "**End of exercise**\n",
    "\n",
    "### The old buffer protocol\n",
    "\n",
    "Show how to exchange data between numpy and a library that only knows\n",
    "the buffer interface:"
   ]
  },
  {
   "cell_type": "code",
   "execution_count": null,
   "id": "bbe0a173",
   "metadata": {},
   "outputs": [],
   "source": [
    "# Make a sample image, RGBA format\n",
    "x = np.zeros((200, 200, 4), dtype=np.uint8)\n",
    "x[:, :, 0] = 255  # red\n",
    "x[:, :, 3] = 255  # opaque\n",
    "\n",
    "data_i32 = x.view(np.int32)  # Check that you understand why this is OK!\n",
    "\n",
    "img = Image.frombuffer(\"RGBA\", (200, 200), data_i32)\n",
    "img.save(\"test_red.png\")\n",
    "\n",
    "# Modify the original data, and save again.\n",
    "x[:, :, 1] = 255\n",
    "img.save(\"test_recolored.png\")"
   ]
  },
  {
   "cell_type": "markdown",
   "id": "dce8bc2e",
   "metadata": {},
   "source": [
    "::: {image} test_red.png\n",
    ":::\n",
    "\n",
    "::: {image} test_recolored.png\n",
    ":::\n",
    "\n",
    "### Array interface protocol\n",
    "\n",
    "- Multidimensional buffers\n",
    "- Data type information present\n",
    "- NumPy-specific approach; slowly deprecated (but not going away)\n",
    "- Not integrated in Python otherwise\n",
    "\n",
    "**Start of admonition: See also**\n",
    "\n",
    "Documentation:\n",
    "<https://numpy.org/doc/stable/reference/arrays.interface.html>\n",
    "**End of admonition**"
   ]
  },
  {
   "cell_type": "code",
   "execution_count": null,
   "id": "3ba14d62",
   "metadata": {},
   "outputs": [],
   "source": [
    "x = np.array([[1, 2], [3, 4]])\n",
    "x.__array_interface__"
   ]
  },
  {
   "cell_type": "code",
   "execution_count": null,
   "id": "7cac3ba0",
   "metadata": {
    "tags": [
     "hide-input"
    ]
   },
   "outputs": [],
   "source": [
    "import matplotlib\n",
    "matplotlib.use('Agg')\n",
    "import matplotlib.pyplot as plt\n",
    "import os\n",
    "if not os.path.exists('data'): os.mkdir('data')\n",
    "plt.imsave('data/test.png', data)"
   ]
  },
  {
   "cell_type": "code",
   "execution_count": null,
   "id": "752be9c6",
   "metadata": {},
   "outputs": [],
   "source": [
    "from PIL import Image\n",
    "img = Image.open('data/test.png')\n",
    "img.__array_interface__"
   ]
  },
  {
   "cell_type": "code",
   "execution_count": null,
   "id": "f7e1b13e",
   "metadata": {},
   "outputs": [],
   "source": [
    "x = np.asarray(img)\n",
    "x.shape"
   ]
  },
  {
   "cell_type": "markdown",
   "id": "015af256",
   "metadata": {},
   "source": [
    "**Start of note**\n",
    "\n",
    "A more C-friendly variant of the array interface is also defined.\n",
    "\n",
    "**End of note**\n",
    "## Array siblings: {class}`chararray`, {class}`MaskedArray`\n",
    "\n",
    "### {class}`chararray <numpy.char.chararray>`: vectorized string operations"
   ]
  },
  {
   "cell_type": "code",
   "execution_count": null,
   "id": "161208cc",
   "metadata": {},
   "outputs": [],
   "source": [
    "x = np.char.asarray(['a', '  bbb', '  ccc'])\n",
    "x"
   ]
  },
  {
   "cell_type": "code",
   "execution_count": null,
   "id": "7619ed26",
   "metadata": {},
   "outputs": [],
   "source": [
    "x.upper()"
   ]
  },
  {
   "cell_type": "markdown",
   "id": "e0466ee9",
   "metadata": {},
   "source": [
    "### {class}`MaskedArray <numpy.ma.MaskedArray>` missing data\n",
    "\n",
    "Masked arrays are arrays that may have missing or invalid entries.\n",
    "\n",
    "For example, suppose we have an array where the fourth entry is invalid:"
   ]
  },
  {
   "cell_type": "code",
   "execution_count": null,
   "id": "b02eb585",
   "metadata": {},
   "outputs": [],
   "source": [
    "x = np.array([1, 2, 3, -99, 5])"
   ]
  },
  {
   "cell_type": "markdown",
   "id": "f4be2ba8",
   "metadata": {},
   "source": [
    "One way to describe this is to create a masked array:"
   ]
  },
  {
   "cell_type": "code",
   "execution_count": null,
   "id": "f221ca7f",
   "metadata": {},
   "outputs": [],
   "source": [
    "mx = np.ma.MaskedArray(x, mask=[0, 0, 0, 1, 0])\n",
    "mx"
   ]
  },
  {
   "cell_type": "markdown",
   "id": "1a38a347",
   "metadata": {},
   "source": [
    "Masked mean ignores masked data:"
   ]
  },
  {
   "cell_type": "code",
   "execution_count": null,
   "id": "ec5b5e95",
   "metadata": {},
   "outputs": [],
   "source": [
    "mx.mean()"
   ]
  },
  {
   "cell_type": "code",
   "execution_count": null,
   "id": "404c6ee7",
   "metadata": {},
   "outputs": [],
   "source": [
    "np.mean(mx)"
   ]
  },
  {
   "cell_type": "markdown",
   "id": "2cebbc9c",
   "metadata": {},
   "source": [
    "**Start of warning**\n",
    "Not all NumPy functions respect masks, for instance\n",
    "`np.dot`, so check the return types.\n",
    "**End of warning**\n",
    "\n",
    "The `MaskedArray` returns a **view** to the original array:"
   ]
  },
  {
   "cell_type": "code",
   "execution_count": null,
   "id": "68f5207a",
   "metadata": {},
   "outputs": [],
   "source": [
    "mx[1] = 9\n",
    "x"
   ]
  },
  {
   "cell_type": "markdown",
   "id": "000ce58f",
   "metadata": {},
   "source": [
    "#### The mask\n",
    "\n",
    "You can modify the mask by assigning:"
   ]
  },
  {
   "cell_type": "code",
   "execution_count": null,
   "id": "572da167",
   "metadata": {},
   "outputs": [],
   "source": [
    "mx[1] = np.ma.masked\n",
    "mx"
   ]
  },
  {
   "cell_type": "markdown",
   "id": "dc0c2a0b",
   "metadata": {},
   "source": [
    "The mask is cleared on assignment:"
   ]
  },
  {
   "cell_type": "code",
   "execution_count": null,
   "id": "243da5f6",
   "metadata": {},
   "outputs": [],
   "source": [
    "mx[1] = 9\n",
    "mx"
   ]
  },
  {
   "cell_type": "markdown",
   "id": "3b5ac994",
   "metadata": {},
   "source": [
    "The mask is also available directly:"
   ]
  },
  {
   "cell_type": "code",
   "execution_count": null,
   "id": "8857fd46",
   "metadata": {},
   "outputs": [],
   "source": [
    "mx.mask"
   ]
  },
  {
   "cell_type": "markdown",
   "id": "2d620c0a",
   "metadata": {},
   "source": [
    "The masked entries can be filled with a given value to get an usual\n",
    "array back:"
   ]
  },
  {
   "cell_type": "code",
   "execution_count": null,
   "id": "16c6bb71",
   "metadata": {},
   "outputs": [],
   "source": [
    "x2 = mx.filled(-1)\n",
    "x2"
   ]
  },
  {
   "cell_type": "markdown",
   "id": "2ef39887",
   "metadata": {},
   "source": [
    "The mask can also be cleared:"
   ]
  },
  {
   "cell_type": "code",
   "execution_count": null,
   "id": "0482a4c7",
   "metadata": {},
   "outputs": [],
   "source": [
    "mx.mask = np.ma.nomask\n",
    "mx"
   ]
  },
  {
   "cell_type": "markdown",
   "id": "4d5e1146",
   "metadata": {},
   "source": [
    "#### Domain-aware functions\n",
    "\n",
    "The masked array package also contains domain-aware functions:"
   ]
  },
  {
   "cell_type": "code",
   "execution_count": null,
   "id": "ecbc7949",
   "metadata": {},
   "outputs": [],
   "source": [
    "np.ma.log(np.array([1, 2, -1, -2, 3, -5]))"
   ]
  },
  {
   "cell_type": "markdown",
   "id": "e8e5b0c4",
   "metadata": {},
   "source": [
    "**Start of note**\n",
    "\n",
    "Streamlined and more seamless support for dealing with missing data\n",
    "in arrays is making its way into NumPy 1.7. Stay tuned!\n",
    "\n",
    "**End of note**\n",
    "\n",
    "**Example: Masked statistics**\n",
    "\n",
    "Canadian rangers were distracted when counting hares and lynxes in\n",
    "1903-1910 and 1917-1918, and got the numbers are wrong. (Carrot\n",
    "farmers stayed alert, though.) Compute the mean populations over\n",
    "time, ignoring the invalid numbers."
   ]
  },
  {
   "cell_type": "code",
   "execution_count": null,
   "id": "b8a9b701",
   "metadata": {},
   "outputs": [],
   "source": [
    "data = np.loadtxt('data/populations.txt')\n",
    "populations = np.ma.MaskedArray(data[:,1:])\n",
    "year = data[:, 0]"
   ]
  },
  {
   "cell_type": "code",
   "execution_count": null,
   "id": "6810eba2",
   "metadata": {},
   "outputs": [],
   "source": [
    "bad_years = (((year >= 1903) & (year <= 1910))\n",
    "           | ((year >= 1917) & (year <= 1918)))\n",
    "# '&' means 'and' and '|' means 'or'\n",
    "populations[bad_years, 0] = np.ma.masked\n",
    "populations[bad_years, 1] = np.ma.masked"
   ]
  },
  {
   "cell_type": "code",
   "execution_count": null,
   "id": "686e8399",
   "metadata": {},
   "outputs": [],
   "source": [
    "populations.mean(axis=0)"
   ]
  },
  {
   "cell_type": "code",
   "execution_count": null,
   "id": "5a0ddab9",
   "metadata": {},
   "outputs": [],
   "source": [
    "populations.std(axis=0)"
   ]
  },
  {
   "cell_type": "markdown",
   "id": "f9c3e120",
   "metadata": {},
   "source": [
    "Note that Matplotlib knows about masked arrays:"
   ]
  },
  {
   "cell_type": "code",
   "execution_count": null,
   "id": "89e14250",
   "metadata": {},
   "outputs": [],
   "source": [
    "plt.plot(year, populations, 'o-')"
   ]
  },
  {
   "cell_type": "markdown",
   "id": "c2e4536a",
   "metadata": {},
   "source": [
    "### `np.recarray`: purely convenience"
   ]
  },
  {
   "cell_type": "code",
   "execution_count": null,
   "id": "f33bc1a7",
   "metadata": {},
   "outputs": [],
   "source": [
    "arr = np.array([('a', 1), ('b', 2)], dtype=[('x', 'S1'), ('y', int)])\n",
    "arr2 = arr.view(np.recarray)\n",
    "arr2.x"
   ]
  },
  {
   "cell_type": "code",
   "execution_count": null,
   "id": "719d8f43",
   "metadata": {},
   "outputs": [],
   "source": [
    "arr2.y"
   ]
  },
  {
   "cell_type": "markdown",
   "id": "2477c8c6",
   "metadata": {},
   "source": [
    "## Summary\n",
    "\n",
    "- Anatomy of the ndarray: data, dtype, strides.\n",
    "- Universal functions: elementwise operations, how to make new ones\n",
    "- Ndarray subclasses\n",
    "- Various buffer interfaces for integration with other tools\n",
    "- Recent additions: PEP 3118, generalized ufuncs\n",
    "\n",
    "## Contributing to NumPy/SciPy\n",
    "\n",
    "Get this tutorial: <https://www.euroscipy.org/talk/882>\n",
    "\n",
    "### Why\n",
    "\n",
    "- \"There's a bug?\"\n",
    "- \"I don't understand what this is supposed to do?\"\n",
    "- \"I have this fancy code. Would you like to have it?\"\n",
    "- \"I'd like to help! What can I do?\"\n",
    "\n",
    "### Reporting bugs\n",
    "\n",
    "- Bug tracker (prefer **this**)\n",
    "\n",
    "  - <https://github.com/numpy/numpy/issues>\n",
    "  - <https://github.com/scipy/scipy/issues>\n",
    "  - Click the \"Sign up\" link to get an account\n",
    "\n",
    "- Mailing lists (<https://numpy.org/community/>)\n",
    "\n",
    "  - If you're unsure\n",
    "  - No replies in a week or so? Just file a bug ticket.\n",
    "\n",
    "#### Good bug report\n",
    "\n",
    "```text\n",
    "Title: numpy.random.permutations fails for non-integer arguments\n",
    "\n",
    "I'm trying to generate random permutations, using numpy.random.permutations\n",
    "\n",
    "When calling numpy.random.permutation with non-integer arguments\n",
    "it fails with a cryptic error message::\n",
    "\n",
    "    >>> rng.permutation(12)\n",
    "    array([ 2,  6,  4,  1,  8, 11, 10,  5,  9,  3,  7,  0])\n",
    "    >>> rng.permutation(12.)\n",
    "    Traceback (most recent call last):\n",
    "    File \"<stdin>\", line 1, in <module>\n",
    "    File \"_generator.pyx\", line 4844, in numpy.random._generator.Generator.permutation\n",
    "    numpy.exceptions.AxisError: axis 0 is out of bounds for array of dimension 0\n",
    "\n",
    "This also happens with long arguments, and so\n",
    "np.random.permutation(X.shape[0]) where X is an array fails on 64\n",
    "bit windows (where shape is a tuple of longs).\n",
    "\n",
    "It would be great if it could cast to integer or at least raise a\n",
    "proper error for non-integer types.\n",
    "\n",
    "I'm using NumPy 1.4.1, built from the official tarball, on Windows\n",
    "64 with Visual studio 2008, on Python.org 64-bit Python.\n",
    "```\n",
    "\n",
    "0. What are you trying to do?\n",
    "1. **Small code snippet reproducing the bug** (if possible)\n",
    "\n",
    "   - What actually happens\n",
    "   - What you'd expect\n",
    "2. Platform (Windows / Linux / OSX, 32/64 bits, x86/PPC, ...)\n",
    "3. Version of NumPy/SciPy"
   ]
  },
  {
   "cell_type": "code",
   "execution_count": null,
   "id": "814bd0b5",
   "metadata": {},
   "outputs": [],
   "source": [
    "print(np.__version__)"
   ]
  },
  {
   "cell_type": "markdown",
   "id": "7846a14b",
   "metadata": {},
   "source": [
    "**Check that the following is what you expect**"
   ]
  },
  {
   "cell_type": "code",
   "execution_count": null,
   "id": "7d98f227",
   "metadata": {},
   "outputs": [],
   "source": [
    "print(np.__file__)"
   ]
  },
  {
   "cell_type": "markdown",
   "id": "ba344577",
   "metadata": {},
   "source": [
    "In case you have old/broken NumPy installations lying around.\n",
    "\n",
    "If unsure, try to remove existing NumPy installations, and reinstall...\n",
    "\n",
    "### Contributing to documentation\n",
    "\n",
    "1. Documentation editor\n",
    "\n",
    "   - <https://numpy.org/doc/stable/>\n",
    "\n",
    "   - Registration\n",
    "\n",
    "     - Register an account\n",
    "\n",
    "     - Subscribe to `scipy-dev` mailing list (subscribers-only)\n",
    "\n",
    "     - Problem with mailing lists: you get mail\n",
    "\n",
    "       - But: **you can turn mail delivery off**\n",
    "\n",
    "       - \"change your subscription options\", at the bottom of\n",
    "\n",
    "         <https://mail.python.org/mailman3/lists/scipy-dev.python.org/>\n",
    "\n",
    "     - Send a mail @ `scipy-dev` mailing list; ask for activation:\n",
    "\n",
    "       ```text\n",
    "       To: scipy-dev@scipy.org\n",
    "\n",
    "       Hi,\n",
    "\n",
    "       I'd like to edit NumPy/SciPy docstrings. My account is XXXXX\n",
    "\n",
    "       Cheers,\n",
    "       N. N.\n",
    "       ```\n",
    "\n",
    "   - Check the style guide:\n",
    "\n",
    "     - <https://numpy.org/doc/stable/>\n",
    "     - Don't be intimidated; to fix a small thing, just fix it\n",
    "\n",
    "   - Edit\n",
    "\n",
    "2. Edit sources and send patches (as for bugs)\n",
    "\n",
    "3. Complain on the mailing list\n",
    "\n",
    "### Contributing features\n",
    "\n",
    "The contribution of features is documented on <https://numpy.org/doc/stable/dev/>\n",
    "\n",
    "### How to help, in general\n",
    "\n",
    "- Bug fixes always welcome!\n",
    "\n",
    "  - What irks you most\n",
    "  - Browse the tracker\n",
    "\n",
    "- Documentation work\n",
    "\n",
    "  - API docs: improvements to docstrings\n",
    "\n",
    "    - Know some SciPy module well?\n",
    "\n",
    "  - *User guide*\n",
    "\n",
    "    - <https://numpy.org/doc/stable/user/>\n",
    "\n",
    "- Ask on communication channels:\n",
    "\n",
    "  - `numpy-discussion` list\n",
    "  - `scipy-dev` list"
   ]
  }
 ],
 "metadata": {
  "jupytext": {
   "formats": "ipynb,Rmd"
  },
  "kernelspec": {
   "display_name": "Python (Pyodide)",
   "name": "python"
  }
 },
 "nbformat": 4,
 "nbformat_minor": 5
}
