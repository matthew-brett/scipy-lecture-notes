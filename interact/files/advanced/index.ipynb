{
 "cells": [
  {
   "cell_type": "markdown",
   "id": "02b157f6",
   "metadata": {},
   "source": [
    "# Advanced topics\n",
    "\n",
    "This part of the _Scientific Python Lectures_ is dedicated to advanced usage.\n",
    "It strives to educate the proficient Python coder to be an expert and\n",
    "tackles various specific topics."
   ]
  }
 ],
 "metadata": {
  "kernelspec": {
   "display_name": "Python (Pyodide)",
   "name": "python"
  }
 },
 "nbformat": 4,
 "nbformat_minor": 5
}
