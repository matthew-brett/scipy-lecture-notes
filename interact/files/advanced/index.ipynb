{
 "cells": [
  {
   "cell_type": "markdown",
   "id": "75efb731",
   "metadata": {},
   "source": [
    "# Introduction to advanced topics\n",
    "\n",
    "This part of the _Scientific Python Lectures_ is dedicated to advanced usage.\n",
    "It strives to educate the proficient Python coder to be an expert and\n",
    "tackles various specific topics.\n",
    "\n",
    "See the \"Advanced topics\" section in the table of contents."
   ]
  }
 ],
 "metadata": {
  "kernelspec": {
   "display_name": "Python (Pyodide)",
   "name": "python"
  },
  "orphan": true
 },
 "nbformat": 4,
 "nbformat_minor": 5
}
