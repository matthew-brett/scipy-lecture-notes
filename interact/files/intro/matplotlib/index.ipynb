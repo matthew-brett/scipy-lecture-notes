{
 "cells": [
  {
   "cell_type": "markdown",
   "id": "5473f213",
   "metadata": {},
   "source": [
    "(matplotlib)="
   ]
  },
  {
   "cell_type": "markdown",
   "id": "d3cc36df",
   "metadata": {},
   "source": [
    "# Matplotlib: plotting\n",
    "\n",
    ":::{sidebar} Thanks\n",
    "\n",
    "Many thanks to **Bill Wing** and **Christoph Deil** for review and\n",
    "corrections.\n",
    "\n",
    ":::\n",
    "\n",
    "**Authors**: _Nicolas Rougier, Mike Müller, Gaël Varoquaux_\n",
    "\n",
    "## Introduction\n",
    "\n",
    "[Matplotlib](https://matplotlib.org/) is probably the most\n",
    "used Python package for 2D-graphics. It provides both a quick\n",
    "way to visualize data from Python and publication-quality figures in\n",
    "many formats. We are going to explore matplotlib in interactive mode\n",
    "covering most common cases.\n",
    "\n",
    "### IPython, Jupyter, and matplotlib modes\n",
    "\n",
    "The [Jupyter](https://jupyter.org) notebook and the\n",
    "[IPython](https://ipython.org/) enhanced interactive Python, are\n",
    "tuned for the scientific-computing workflow in Python,\n",
    "in combination with Matplotlib:\n",
    "\n",
    "For interactive matplotlib sessions, turn on the **matplotlib mode**.\n",
    "\n",
    "### IPython sessions\n",
    "\n",
    "To make plots open interactively in an IPython console session use the\n",
    "following [magic\n",
    "command](https://ipython.readthedocs.io/en/stable/interactive/magics.html):"
   ]
  },
  {
   "cell_type": "code",
   "execution_count": null,
   "id": "560d98d3",
   "metadata": {},
   "outputs": [],
   "source": [
    "%matplotlib"
   ]
  },
  {
   "cell_type": "markdown",
   "id": "be3ead4a",
   "metadata": {},
   "source": [
    "### Jupyter notebook\n",
    "\n",
    "The Jupyter Notebook uses Matplotlib mode by default; that is, it inserts the figures into the notebook, as you run Matplotlib commands."
   ]
  },
  {
   "cell_type": "markdown",
   "id": "85e6c91d",
   "metadata": {},
   "source": [
    "### pyplot\n",
    "\n",
    "_pyplot_ provides a procedural interface to the matplotlib object-oriented\n",
    "plotting library. It is modeled closely after Matlab™. Therefore, the\n",
    "majority of plotting commands in pyplot have Matlab™ analogs with similar\n",
    "arguments. Important commands are explained with interactive examples."
   ]
  },
  {
   "cell_type": "code",
   "execution_count": null,
   "id": "87268334",
   "metadata": {},
   "outputs": [],
   "source": [
    "import matplotlib.pyplot as plt"
   ]
  },
  {
   "cell_type": "markdown",
   "id": "2f578a1d",
   "metadata": {},
   "source": [
    "## Simple plot\n",
    "\n",
    "In this section, we want to draw the cosine and sine functions on the same\n",
    "plot. Starting from the default settings, we'll enrich the figure step by\n",
    "step to make it nicer.\n",
    "\n",
    "First step is to get the data for the sine and cosine functions:"
   ]
  },
  {
   "cell_type": "code",
   "execution_count": null,
   "id": "648e5386",
   "metadata": {},
   "outputs": [],
   "source": [
    "import numpy as np\n",
    "\n",
    "X = np.linspace(-np.pi, np.pi, 256)\n",
    "C, S = np.cos(X), np.sin(X)"
   ]
  },
  {
   "cell_type": "markdown",
   "id": "ff232c9c",
   "metadata": {},
   "source": [
    "`X` is now a numpy array with 256 values ranging from $-\\pi$ to $+\\pi$\n",
    "(included). `C` is the cosine (256 values) and `S` is the sine (256\n",
    "values).\n",
    "\n",
    "To run the code, you can execute it in a Jupyter notebook or type it in an\n",
    "IPython interactive session:\n",
    "\n",
    "```bash\n",
    "$ ipython --matplotlib\n",
    "```\n",
    "\n",
    "This brings us to the IPython prompt:\n",
    "\n",
    "```text\n",
    "IPython 0.13 -- An enhanced Interactive Python.\n",
    "?       -> Introduction to IPython's features.\n",
    "%magic  -> Information about IPython's 'magic' % functions.\n",
    "help    -> Python's own help system.\n",
    "object? -> Details about 'object'. ?object also works, ?? prints more.\n",
    "```\n",
    "\n",
    "### Plotting with default settings\n",
    "\n",
    ":::{hint}\n",
    "\n",
    "Documentation\n",
    "\n",
    "- [plot tutorial](https://matplotlib.org/users/pyplot_tutorial.html)\n",
    "- {func}`~plot()` command\n",
    "\n",
    ":::\n",
    "\n",
    "::: {note}\n",
    ":class: dropdown\n",
    "\n",
    "Matplotlib comes with a set of default settings that allow\n",
    "customizing all kinds of properties. You can control the defaults of\n",
    "almost every property in matplotlib: figure size and dpi, line width,\n",
    "color and style, axes, axis and grid properties, text and font\n",
    "properties and so on.\n",
    "\n",
    ":::"
   ]
  },
  {
   "cell_type": "code",
   "execution_count": null,
   "id": "87f14597",
   "metadata": {},
   "outputs": [],
   "source": [
    "import numpy as np\n",
    "import matplotlib.pyplot as plt\n",
    "\n",
    "X = np.linspace(-np.pi, np.pi, 256)\n",
    "C, S = np.cos(X), np.sin(X)\n",
    "\n",
    "plt.plot(X, C)\n",
    "plt.plot(X, S);"
   ]
  },
  {
   "cell_type": "markdown",
   "id": "fbd64f46",
   "metadata": {},
   "source": [
    "::: {note}\n",
    "\n",
    "You will notice that we used a semicolon (`;`) to end the last line in the\n",
    "cell above. This is to prevent Jupyter or IPython echoing the return value of\n",
    "this final expression back to us in the notebook or console session. It has no other effect; it does not affect the execution of the code.\n",
    "\n",
    ":::\n",
    "\n",
    "### Instantiating defaults\n",
    "\n",
    ":::{hint}\n",
    "Documentation\n",
    "\n",
    "- [Customizing matplotlib](https://matplotlib.org/users/customizing.html)\n",
    "  :::\n",
    "\n",
    "In the plotting code below, you will see that we've instantiated (and\n",
    "commented) all the figure settings that influence the appearance of the plot.\n",
    "\n",
    "::: {note}\n",
    ":class: dropdown\n",
    "\n",
    "The settings have been explicitly set to their default values, but\n",
    "now you can interactively play with the values to explore their\n",
    "affect (see [Line properties](mpl-line-properties) and [Line styles](mpl-line-styles) below).\n",
    "\n",
    ":::"
   ]
  },
  {
   "cell_type": "code",
   "execution_count": null,
   "id": "63d84559",
   "metadata": {},
   "outputs": [],
   "source": [
    "import numpy as np\n",
    "import matplotlib.pyplot as plt\n",
    "\n",
    "# Create a figure of size 8x6 inches, 80 dots per inch\n",
    "plt.figure(figsize=(8, 6), dpi=80)\n",
    "\n",
    "# Create a new subplot from a grid of 1x1\n",
    "plt.subplot(1, 1, 1)\n",
    "\n",
    "X = np.linspace(-np.pi, np.pi, 256)\n",
    "C, S = np.cos(X), np.sin(X)\n",
    "\n",
    "# Plot cosine with a blue continuous line of width 1 (pixels)\n",
    "plt.plot(X, C, color=\"blue\", linewidth=1.0, linestyle=\"-\")\n",
    "\n",
    "# Plot sine with a green continuous line of width 1 (pixels)\n",
    "plt.plot(X, S, color=\"green\", linewidth=1.0, linestyle=\"-\")\n",
    "\n",
    "# Set x limits\n",
    "plt.xlim(-4.0, 4.0)\n",
    "\n",
    "# Set x ticks\n",
    "plt.xticks(np.linspace(-4, 4, 9))\n",
    "\n",
    "# Set y limits\n",
    "plt.ylim(-1.0, 1.0)\n",
    "\n",
    "# Set y ticks\n",
    "plt.yticks(np.linspace(-1, 1, 5));\n",
    "\n",
    "# You could also save this figure using 72 dots per inch with:\n",
    "# plt.savefig(\"exercise_2.png\", dpi=72)"
   ]
  },
  {
   "cell_type": "markdown",
   "id": "f4ae449e",
   "metadata": {},
   "source": [
    "### Changing colors and line widths\n",
    "\n",
    ":::{hint}\n",
    "Documentation\n",
    "\n",
    "- [Controlling line properties](https://matplotlib.org/users/pyplot_tutorial.html#controlling-line-properties)\n",
    "- {class}`~matplotlib.lines.Line2D` API\n",
    "  :::\n",
    "\n",
    "::: {note}\n",
    ":class: dropdown\n",
    "\n",
    "First step, we want to have the cosine in blue and the sine in red and a\n",
    "slightly thicker line for both of them. We'll also slightly alter the figure\n",
    "size to make it more horizontal.\n",
    ":::"
   ]
  },
  {
   "cell_type": "code",
   "execution_count": null,
   "id": "36e36037",
   "metadata": {},
   "outputs": [],
   "source": [
    "# Generate the plot.\n",
    "plt.figure(figsize=(10, 6), dpi=80)\n",
    "plt.plot(X, C, color=\"blue\", linewidth=2.5, linestyle=\"-\")\n",
    "plt.plot(X, S, color=\"red\",  linewidth=2.5, linestyle=\"-\");\n",
    "\n",
    "# Get the current figure (gcf) into a variable for later use.\n",
    "fig_to_update = plt.gcf()"
   ]
  },
  {
   "cell_type": "markdown",
   "id": "429d8207",
   "metadata": {},
   "source": [
    "::: {note}\n",
    ":class: dropdown\n",
    "\n",
    "The final line `fig_to_update = plt.gcf()` uses `plt.gcf()` to Get the Current Figure — the figure we've just built in the cell. We then store that figure in the `fig_to_update` variable, so we can restore it, and update it, in the cells below. This is not a very common pattern in general, we are using it here to show you how to build up a figure in steps.\n",
    "\n",
    ":::\n",
    "\n",
    "### Setting limits\n",
    "\n",
    ":::{hint}\n",
    "Documentation\n",
    "\n",
    "- {func}`xlim()` command\n",
    "- {func}`ylim()` command\n",
    "  :::\n",
    "\n",
    "::: {note}\n",
    ":class: dropdown\n",
    "\n",
    "Current limits of the figure are a bit too tight and we want to make\n",
    "some space in order to clearly see all data points.\n",
    ":::\n",
    "\n",
    "::: {note}\n",
    ":class: dropdown\n",
    "\n",
    "Following on from the note above, for the purposes of the tutorial, we first\n",
    "restore the figure we stored above (with `plt.figure(fig_to_update)`, then we\n",
    "add the limits to the figure, and finally, we press Jupyter to display the\n",
    "figure by putting the figure variable as an expression in the last line of the\n",
    "cell.\n",
    "\n",
    "Again, this pattern of restore, update, redisplay is not a very common one in ordinary use of Matplotlib; we use it here to allow us to separate the various steps in the process of updating the figure.\n",
    ":::"
   ]
  },
  {
   "cell_type": "code",
   "execution_count": null,
   "id": "d4ed8272",
   "metadata": {},
   "outputs": [],
   "source": [
    "# Restore previous figure, ready to update below.\n",
    "plt.figure(fig_to_update)\n",
    "\n",
    "# Setting the axis limits.\n",
    "plt.xlim(X.min() * 1.2, X.max() * 1.2)\n",
    "plt.ylim(C.min() * 1.2, C.max() * 1.2)\n",
    "\n",
    "# Make Jupyter display updated figure.\n",
    "fig_to_update"
   ]
  },
  {
   "cell_type": "markdown",
   "id": "aeb61e56",
   "metadata": {},
   "source": [
    "### Setting ticks\n",
    "\n",
    ":::{hint}\n",
    "Documentation\n",
    "\n",
    "- {func}`xticks()` command\n",
    "- {func}`yticks()` command\n",
    "- [Tick container](https://matplotlib.org/users/artists.html#axis-container)\n",
    "- [Tick locating and formatting](https://matplotlib.org/api/ticker_api.html)\n",
    "  :::\n",
    "\n",
    "::: {note}\n",
    ":class: dropdown\n",
    "\n",
    "Current ticks are not ideal because they do not show the interesting values\n",
    "($\\pm \\pi$, $\\pm \\frac{\\pi}{2}$) for sine and cosine. We'll change them such\n",
    "that they show only these values.\n",
    ":::"
   ]
  },
  {
   "cell_type": "code",
   "execution_count": null,
   "id": "be62c926",
   "metadata": {},
   "outputs": [],
   "source": [
    "# Restore figure we are working on.\n",
    "plt.figure(fig_to_update)\n",
    "\n",
    "# Set x and y ticks.\n",
    "plt.xticks([-np.pi, -np.pi / 2, 0, np.pi / 2, np.pi])\n",
    "plt.yticks([-1, 0, +1])\n",
    "\n",
    "# Make Jupyter display updated figure.\n",
    "fig_to_update"
   ]
  },
  {
   "cell_type": "markdown",
   "id": "d3976665",
   "metadata": {},
   "source": [
    "### Setting tick labels\n",
    "\n",
    ":::{hint}\n",
    "Documentation\n",
    "\n",
    "- [Working with text](https://matplotlib.org/users/index_text.html)\n",
    "- {func}`~xticks()` command\n",
    "- {func}`~yticks()` command\n",
    "- {meth}`~matplotlib.axes.Axes.set_xticklabels()`\n",
    "- {meth}`~matplotlib.axes.Axes.set_yticklabels()`\n",
    "  :::\n",
    "\n",
    "::: {note}\n",
    ":class: dropdown\n",
    "\n",
    "Ticks are now properly placed but their label is not very explicit.\n",
    "We could guess that 3.142 is $\\pi$ but it would be better to make it\n",
    "explicit. When we set tick values, we can also provide a\n",
    "corresponding label in the second argument list. Note that we'll use\n",
    "latex to allow for nice rendering of the label.\n",
    ":::\n",
    "\n",
    "{{ clear_floats }}"
   ]
  },
  {
   "cell_type": "code",
   "execution_count": null,
   "id": "42bdad30",
   "metadata": {},
   "outputs": [],
   "source": [
    "# Restore figure\n",
    "plt.figure(fig_to_update)\n",
    "\n",
    "# Update tick labels.\n",
    "plt.xticks([-np.pi, -np.pi/2, 0, np.pi/2, np.pi],\n",
    "          [r'$-\\pi$', r'$-\\pi/2$', r'$0$', r'$+\\pi/2$', r'$+\\pi$'])\n",
    "\n",
    "plt.yticks([-1, 0, +1],\n",
    "          [r'$-1$', r'$0$', r'$+1$'])\n",
    "\n",
    "# Force display of updated figure.\n",
    "fig_to_update"
   ]
  },
  {
   "cell_type": "markdown",
   "id": "1a501905",
   "metadata": {},
   "source": [
    "### Moving spines"
   ]
  },
  {
   "cell_type": "markdown",
   "id": "5ca721c7",
   "metadata": {},
   "source": [
    ":::{hint}\n",
    "Documentation\n",
    "\n",
    "- {mod}`~matplotlib.spines` API\n",
    "- [Axis container](https://matplotlib.org/users/artists.html#axis-container)\n",
    "- [Transformations tutorial](https://matplotlib.org/users/transforms_tutorial.html)\n",
    "  :::\n",
    "\n",
    "::: {note}\n",
    ":class: dropdown\n",
    "\n",
    "Spines are the lines connecting the axis tick marks and noting the\n",
    "boundaries of the data area. They can be placed at arbitrary\n",
    "positions and until now, they were on the border of the axis. We'll\n",
    "change that since we want to have them in the middle. Since there are\n",
    "four of them (top/bottom/left/right), we'll discard the top and right\n",
    "by setting their color to none and we'll move the bottom and left\n",
    "ones to coordinate 0 in data space coordinates.\n",
    ":::\n",
    "\n",
    "{{ clear_floats }}"
   ]
  },
  {
   "cell_type": "code",
   "execution_count": null,
   "id": "42e433c4",
   "metadata": {},
   "outputs": [],
   "source": [
    "# Restore figure\n",
    "plt.figure(fig_to_update)\n",
    "\n",
    "# Update spines.\n",
    "ax = plt.gca()  # gca stands for 'get current axis'\n",
    "ax.spines['right'].set_color('none')\n",
    "ax.spines['top'].set_color('none')\n",
    "ax.xaxis.set_ticks_position('bottom')\n",
    "ax.spines['bottom'].set_position(('data',0))\n",
    "ax.yaxis.set_ticks_position('left')\n",
    "ax.spines['left'].set_position(('data',0))\n",
    "\n",
    "# Force display of updated figure.\n",
    "fig_to_update"
   ]
  },
  {
   "cell_type": "markdown",
   "id": "cf7cc680",
   "metadata": {},
   "source": [
    "### Adding a legend"
   ]
  },
  {
   "cell_type": "markdown",
   "id": "a704ea81",
   "metadata": {},
   "source": [
    ":::{hint}\n",
    "Documentation\n",
    "\n",
    "- [Legend guide](https://matplotlib.org/users/legend_guide.html)\n",
    "- {func}`legend()` command\n",
    "- {mod}`~matplotlib.legend` API\n",
    "  :::\n",
    "\n",
    "::: {note}\n",
    ":class: dropdown\n",
    "\n",
    "Let's add a legend in the upper left corner. This only requires\n",
    "adding the keyword argument label (that will be used in the legend\n",
    "box) to the plot commands.\n",
    "\n",
    ":::\n",
    "\n",
    "{{ clear_floats }}"
   ]
  },
  {
   "cell_type": "code",
   "execution_count": null,
   "id": "878bdf2d",
   "metadata": {},
   "outputs": [],
   "source": [
    "# Restore figure\n",
    "plt.figure(fig_to_update)\n",
    "\n",
    "# Add legend.\n",
    "plt.plot(X, C, color=\"blue\", linewidth=2.5, linestyle=\"-\", label=\"cosine\")\n",
    "plt.plot(X, S, color=\"red\",  linewidth=2.5, linestyle=\"-\", label=\"sine\")\n",
    "\n",
    "plt.legend(loc='upper left')\n",
    "\n",
    "# Force display of updated figure.\n",
    "fig_to_update"
   ]
  },
  {
   "cell_type": "markdown",
   "id": "0fb0d1d1",
   "metadata": {},
   "source": [
    "### Annotate some points"
   ]
  },
  {
   "cell_type": "markdown",
   "id": "73b0a94d",
   "metadata": {},
   "source": [
    ":::{hint}\n",
    "Documentation\n",
    "\n",
    "- [Annotating axis](https://matplotlib.org/users/annotations_guide.html)\n",
    "- {func}`annotate()` command\n",
    "  :::\n",
    "\n",
    "::: {note}\n",
    ":class: dropdown\n",
    "\n",
    "Let's annotate some interesting points using the annotate command. We\n",
    "chose the $2\\pi / 3$ value and we want to annotate both the sine and the\n",
    "cosine. We'll first draw a marker on the curve as well as a straight\n",
    "dotted line. Then, we'll use the annotate command to display some\n",
    "text with an arrow.\n",
    ":::\n",
    "\n",
    "{{ clear_floats }}"
   ]
  },
  {
   "cell_type": "code",
   "execution_count": null,
   "id": "5068c6ef",
   "metadata": {},
   "outputs": [],
   "source": [
    "# Restore figure\n",
    "plt.figure(fig_to_update)\n",
    "\n",
    "# Annotate points.\n",
    "t = 2 * np.pi / 3\n",
    "plt.plot([t, t], [0, np.cos(t)], color='blue', linewidth=2.5, linestyle=\"--\")\n",
    "plt.scatter([t, ], [np.cos(t), ], 50, color='blue')\n",
    "\n",
    "plt.annotate(r'$cos(\\frac{2\\pi}{3})=-\\frac{1}{2}$',\n",
    "             xy=(t, np.cos(t)), xycoords='data',\n",
    "             xytext=(-90, -50), textcoords='offset points', fontsize=16,\n",
    "             arrowprops=dict(arrowstyle=\"->\", connectionstyle=\"arc3,rad=.2\"))\n",
    "\n",
    "plt.plot([t, t],[0, np.sin(t)], color='red', linewidth=2.5, linestyle=\"--\")\n",
    "plt.scatter([t, ],[np.sin(t), ], 50, color='red')\n",
    "\n",
    "plt.annotate(r'$sin(\\frac{2\\pi}{3})=\\frac{\\sqrt{3}}{2}$',\n",
    "             xy=(t, np.sin(t)), xycoords='data',\n",
    "             xytext=(+10, +30), textcoords='offset points', fontsize=16,\n",
    "             arrowprops=dict(arrowstyle=\"->\", connectionstyle=\"arc3,rad=.2\"))\n",
    "\n",
    "# Force display of updated figure.\n",
    "fig_to_update"
   ]
  },
  {
   "cell_type": "markdown",
   "id": "664ff84a",
   "metadata": {},
   "source": [
    "### Devil is in the details"
   ]
  },
  {
   "cell_type": "markdown",
   "id": "dc40b630",
   "metadata": {},
   "source": [
    ":::{hint}\n",
    "Documentation\n",
    "\n",
    "- {mod}`~matplotlib.artist` API\n",
    "- {meth}`~matplotlib.text.Text.set_bbox()` method\n",
    "  :::\n",
    "\n",
    "::: {note}\n",
    ":class: dropdown\n",
    "\n",
    "The tick labels are now hardly visible because of the blue and red\n",
    "lines. We can make them bigger and we can also adjust their\n",
    "properties such that they'll be rendered on a semi-transparent white\n",
    "background. This will allow us to see both the data and the labels.\n",
    ":::\n",
    "\n",
    "{{ clear_floats }}"
   ]
  },
  {
   "cell_type": "code",
   "execution_count": null,
   "id": "9e4db883",
   "metadata": {},
   "outputs": [],
   "source": [
    "# Restore figure\n",
    "plt.figure(fig_to_update)\n",
    "\n",
    "# Set properties of tick labels.\n",
    "for label in ax.get_xticklabels() + ax.get_yticklabels():\n",
    "    label.set_fontsize(16)\n",
    "    label.set_bbox(dict(facecolor='white', edgecolor='None', alpha=0.65))\n",
    "\n",
    "# Force display of updated figure.\n",
    "fig_to_update"
   ]
  },
  {
   "cell_type": "markdown",
   "id": "4ab9ecce",
   "metadata": {},
   "source": [
    "## Figures, Subplots, Axes and Ticks\n",
    "\n",
    "A **\"figure\"** in matplotlib means the whole window in the user interface.\n",
    "Within this figure there can be **\"subplots\"**.\n",
    "\n",
    "::: {note}\n",
    ":class: dropdown\n",
    "\n",
    "So far we have used implicit figure and axes creation. This is handy for\n",
    "fast plots. We can have more control over the display using figure,\n",
    "subplot, and axes explicitly. While subplot positions the plots in a\n",
    "regular grid, axes allows free placement within the figure. Both can be\n",
    "useful depending on your intention. We've already worked with figures and\n",
    "subplots without explicitly calling them. When we call plot, matplotlib\n",
    "calls {func}`gca` to get the current axes and gca in turn calls {func}`gcf` to\n",
    "get the current figure. If there is none it calls {func}`figure` to make one,\n",
    "strictly speaking, to make a `subplot(111)`. Let's look at the details.\n",
    ":::\n",
    "\n",
    "### Figures\n",
    "\n",
    "::: {note}\n",
    ":class: dropdown\n",
    "\n",
    "A figure is a window in the GUI that has \"Figure #\" as title. Figures are\n",
    "numbered starting from 1 as opposed to the normal Python way starting from 0.\n",
    "This is clearly MATLAB-style. There are several parameters that determine what\n",
    "the figure looks like:\n",
    ":::\n",
    "\n",
    "| Argument    | Default            | Description                                 |\n",
    "| ----------- | ------------------ | ------------------------------------------- |\n",
    "| `num`       | `1`                | number of figure                            |\n",
    "| `figsize`   | `figure.figsize`   | figure size in inches (width, height)       |\n",
    "| `dpi`       | `figure.dpi`       | resolution in dots per inch                 |\n",
    "| `facecolor` | `figure.facecolor` | color of the drawing background             |\n",
    "| `edgecolor` | `figure.edgecolor` | color of edge around the drawing background |\n",
    "| `frameon`   | `True`             | draw figure frame or not                    |\n",
    "\n",
    "::: {note}\n",
    ":class: dropdown\n",
    "\n",
    "The defaults can be specified in the resource file and will be used most of\n",
    "the time. Only the number of the figure is frequently changed.\n",
    "\n",
    "As with other objects, you can set figure properties with the `plt.setp`\n",
    "function, or with the `set_`(something) methods.\n",
    "\n",
    "When you work with the GUI, rather than in a notebook, you can close a figure\n",
    "by clicking on the x in the upper right corner. But you can close a figure\n",
    "programmatically by calling close. Depending on the argument it closes (1) the\n",
    "current figure (no argument), (2) a specific figure (figure number or figure\n",
    "instance as argument), or (3) all figures (`\"all\"` as argument).\n",
    ":::"
   ]
  },
  {
   "cell_type": "code",
   "execution_count": null,
   "id": "941b11bb",
   "metadata": {},
   "outputs": [],
   "source": [
    "# Useful working in a GUI outside the notebook.\n",
    "plt.close(1)     # Closes figure 1"
   ]
  },
  {
   "cell_type": "markdown",
   "id": "5452b55d",
   "metadata": {},
   "source": [
    "### Subplots\n",
    "\n",
    "::: {note}\n",
    ":class: dropdown\n",
    "\n",
    "With subplot you can arrange plots in a regular grid. You need to specify\n",
    "the number of rows and columns and the number of the plot. Note that the\n",
    "[gridspec](https://matplotlib.org/users/gridspec.html) command\n",
    "is a more powerful alternative.\n",
    ":::\n",
    "\n",
    "{{ clear_floats }}"
   ]
  },
  {
   "cell_type": "code",
   "execution_count": null,
   "id": "186b8bce",
   "metadata": {
    "tags": [
     "hide-input"
    ]
   },
   "outputs": [],
   "source": [
    "plt.figure(figsize=(6, 4))\n",
    "plt.subplot(2, 1, 1)\n",
    "plt.xticks([])\n",
    "plt.yticks([])\n",
    "plt.text(0.5, 0.5, \"subplot(2,1,1)\", ha=\"center\", va=\"center\", size=24, alpha=0.5)\n",
    "\n",
    "plt.subplot(2, 1, 2)\n",
    "plt.xticks([])\n",
    "plt.yticks([])\n",
    "plt.text(0.5, 0.5, \"subplot(2,1,2)\", ha=\"center\", va=\"center\", size=24, alpha=0.5)\n",
    "# Title for whole figure (rather than current subplot).\n",
    "plt.suptitle('Horizontal subplots')\n",
    "\n",
    "plt.tight_layout()"
   ]
  },
  {
   "cell_type": "code",
   "execution_count": null,
   "id": "bd7cab0c",
   "metadata": {
    "tags": [
     "hide-input"
    ]
   },
   "outputs": [],
   "source": [
    "plt.figure(figsize=(6, 4))\n",
    "plt.subplot(1, 2, 1)\n",
    "plt.xticks([])\n",
    "plt.yticks([])\n",
    "plt.text(0.5, 0.5, \"subplot(1,2,1)\", ha=\"center\", va=\"center\", size=24, alpha=0.5)\n",
    "\n",
    "plt.subplot(1, 2, 2)\n",
    "plt.xticks([])\n",
    "plt.yticks([])\n",
    "plt.text(0.5, 0.5, \"subplot(1,2,2)\", ha=\"center\", va=\"center\", size=24, alpha=0.5)\n",
    "plt.suptitle('Vertical subplots')\n",
    "\n",
    "plt.tight_layout()"
   ]
  },
  {
   "cell_type": "code",
   "execution_count": null,
   "id": "59e3a23d",
   "metadata": {
    "tags": [
     "hide-input"
    ]
   },
   "outputs": [],
   "source": [
    "plt.figure(figsize=(6, 4))\n",
    "plt.subplot(2, 2, 1)\n",
    "plt.xticks([])\n",
    "plt.yticks([])\n",
    "plt.text(0.5, 0.5, \"subplot(2,2,1)\", ha=\"center\", va=\"center\", size=20, alpha=0.5)\n",
    "\n",
    "plt.subplot(2, 2, 2)\n",
    "plt.xticks([])\n",
    "plt.yticks([])\n",
    "plt.text(0.5, 0.5, \"subplot(2,2,2)\", ha=\"center\", va=\"center\", size=20, alpha=0.5)\n",
    "\n",
    "plt.subplot(2, 2, 3)\n",
    "plt.xticks([])\n",
    "plt.yticks([])\n",
    "\n",
    "plt.text(0.5, 0.5, \"subplot(2,2,3)\", ha=\"center\", va=\"center\", size=20, alpha=0.5)\n",
    "\n",
    "plt.subplot(2, 2, 4)\n",
    "plt.xticks([])\n",
    "plt.yticks([])\n",
    "plt.text(0.5, 0.5, \"subplot(2,2,4)\", ha=\"center\", va=\"center\", size=20, alpha=0.5)\n",
    "plt.suptitle('Subplot grid')\n",
    "\n",
    "plt.tight_layout()"
   ]
  },
  {
   "cell_type": "code",
   "execution_count": null,
   "id": "e9784f5f",
   "metadata": {
    "tags": [
     "hide-input"
    ]
   },
   "outputs": [],
   "source": [
    "from matplotlib import gridspec\n",
    "\n",
    "plt.figure(figsize=(6, 4))\n",
    "G = gridspec.GridSpec(3, 3)\n",
    "\n",
    "axes_1 = plt.subplot(G[0, :])\n",
    "plt.xticks([])\n",
    "plt.yticks([])\n",
    "plt.text(0.5, 0.5, \"Axes 1\", ha=\"center\", va=\"center\", size=24, alpha=0.5)\n",
    "\n",
    "axes_2 = plt.subplot(G[1, :-1])\n",
    "plt.xticks([])\n",
    "plt.yticks([])\n",
    "plt.text(0.5, 0.5, \"Axes 2\", ha=\"center\", va=\"center\", size=24, alpha=0.5)\n",
    "\n",
    "axes_3 = plt.subplot(G[1:, -1])\n",
    "plt.xticks([])\n",
    "plt.yticks([])\n",
    "plt.text(0.5, 0.5, \"Axes 3\", ha=\"center\", va=\"center\", size=24, alpha=0.5)\n",
    "\n",
    "axes_4 = plt.subplot(G[-1, 0])\n",
    "plt.xticks([])\n",
    "plt.yticks([])\n",
    "plt.text(0.5, 0.5, \"Axes 4\", ha=\"center\", va=\"center\", size=24, alpha=0.5)\n",
    "\n",
    "axes_5 = plt.subplot(G[-1, -2])\n",
    "plt.xticks([])\n",
    "plt.yticks([])\n",
    "plt.text(0.5, 0.5, \"Axes 5\", ha=\"center\", va=\"center\", size=24, alpha=0.5)\n",
    "plt.suptitle('Subplot with gridspec')\n",
    "\n",
    "plt.tight_layout()"
   ]
  },
  {
   "cell_type": "markdown",
   "id": "f0ef5676",
   "metadata": {},
   "source": [
    "### Axes\n",
    "\n",
    "Axes are very similar to subplots but allow placement of plots at any location\n",
    "in the figure. So if we want to put a smaller plot inside a bigger one we do\n",
    "so with axes."
   ]
  },
  {
   "cell_type": "code",
   "execution_count": null,
   "id": "dd40b149",
   "metadata": {
    "tags": [
     "hide-input"
    ]
   },
   "outputs": [],
   "source": [
    "plt.axes((0.1, 0.1, 0.8, 0.8))\n",
    "plt.xticks([])\n",
    "plt.yticks([])\n",
    "plt.text(\n",
    "    0.6, 0.6, \"axes([0.1, 0.1, 0.8, 0.8])\", ha=\"center\", va=\"center\", size=20, alpha=0.5\n",
    ");"
   ]
  },
  {
   "cell_type": "code",
   "execution_count": null,
   "id": "ec7f3300",
   "metadata": {
    "tags": [
     "hide-input"
    ]
   },
   "outputs": [],
   "source": [
    "plt.axes((0.2, 0.2, 0.3, 0.3))\n",
    "plt.xticks([])\n",
    "plt.yticks([])\n",
    "plt.text(\n",
    "    0.5, 0.5, \"axes([0.2, 0.2, 0.3, 0.3])\", ha=\"center\", va=\"center\", size=16, alpha=0.5\n",
    ");"
   ]
  },
  {
   "cell_type": "markdown",
   "id": "15e91206",
   "metadata": {},
   "source": [
    "### Ticks\n",
    "\n",
    "Well formatted ticks are an important part of publishing-ready\n",
    "figures. Matplotlib provides a totally configurable system for ticks. There are\n",
    "tick locators to specify where ticks should appear and tick formatters to give\n",
    "ticks the appearance you want. Major and minor ticks can be located and\n",
    "formatted independently from each other. Per default minor ticks are not shown,\n",
    "i.e. there is only an empty list for them because it is as `NullLocator` (see\n",
    "below)."
   ]
  },
  {
   "cell_type": "markdown",
   "id": "42fd7617",
   "metadata": {},
   "source": [
    "#### Tick Locators\n",
    "\n",
    "Tick locators control the positions of the ticks. They are set as\n",
    "follows:\n",
    "\n",
    "```python\n",
    "ax = plt.gca()\n",
    "ax.xaxis.set_major_locator(eval(locator))\n",
    "```\n",
    "\n",
    "There are several locators for different kind of requirements:"
   ]
  },
  {
   "cell_type": "code",
   "execution_count": null,
   "id": "4ac0e8fa",
   "metadata": {
    "tags": [
     "hide-input"
    ]
   },
   "outputs": [],
   "source": [
    "from matplotlib import ticker\n",
    "\n",
    "def tickline():\n",
    "    plt.xlim(0, 10), plt.ylim(-1, 1), plt.yticks([])\n",
    "    ax = plt.gca()\n",
    "    ax.spines[\"right\"].set_color(\"none\")\n",
    "    ax.spines[\"left\"].set_color(\"none\")\n",
    "    ax.spines[\"top\"].set_color(\"none\")\n",
    "    ax.xaxis.set_ticks_position(\"bottom\")\n",
    "    ax.spines[\"bottom\"].set_position((\"data\", 0))\n",
    "    ax.yaxis.set_ticks_position(\"none\")\n",
    "    ax.xaxis.set_minor_locator(ticker.MultipleLocator(0.1))\n",
    "    ax.plot(np.arange(11), np.zeros(11))\n",
    "    return ax\n",
    "\n",
    "locators = [\n",
    "    \"ticker.NullLocator()\",\n",
    "    \"ticker.MultipleLocator(1.0)\",\n",
    "    \"ticker.FixedLocator([0, 2, 8, 9, 10])\",\n",
    "    \"ticker.IndexLocator(3, 1)\",\n",
    "    \"ticker.LinearLocator(5)\",\n",
    "    \"ticker.LogLocator(2, [1.0])\",\n",
    "    \"ticker.AutoLocator()\",\n",
    "]\n",
    "\n",
    "n_locators = len(locators)\n",
    "\n",
    "size = 512, 40 * n_locators\n",
    "dpi = 72.0\n",
    "figsize = size[0] / float(dpi), size[1] / float(dpi)\n",
    "fig = plt.figure(figsize=figsize, dpi=dpi)\n",
    "fig.patch.set_alpha(0)\n",
    "\n",
    "for i, locator in enumerate(locators):\n",
    "    plt.subplot(n_locators, 1, i + 1)\n",
    "    ax = tickline()\n",
    "    ax.xaxis.set_major_locator(eval(locator))\n",
    "    plt.text(5, 0.3, locator[7:], ha=\"center\")\n",
    "\n",
    "plt.subplots_adjust(bottom=0.01, top=0.99, left=0.01, right=0.99)"
   ]
  },
  {
   "cell_type": "markdown",
   "id": "b8d8ba93",
   "metadata": {},
   "source": [
    "All of these \"locators\" (see code above) derive from the base class\n",
    "{class}`matplotlib.ticker.Locator`. You can make your own locator deriving\n",
    "from it. Handling dates as ticks can be especially tricky. Therefore,\n",
    "matplotlib provides special locators in matplotlib.dates."
   ]
  },
  {
   "cell_type": "markdown",
   "id": "936f10a0",
   "metadata": {},
   "source": [
    "## Other Types of Plots: examples and exercises\n",
    "\n",
    "### Regular Plots"
   ]
  },
  {
   "cell_type": "code",
   "execution_count": null,
   "id": "bca921c2",
   "metadata": {
    "tags": [
     "hide-input"
    ]
   },
   "outputs": [],
   "source": [
    "n = 256\n",
    "X = np.linspace(-np.pi, np.pi, n)\n",
    "Y = np.sin(2 * X)\n",
    "\n",
    "plt.axes((0.025, 0.025, 0.95, 0.95))\n",
    "\n",
    "plt.plot(X, Y + 1, color=\"blue\", alpha=1.00)\n",
    "plt.fill_between(X, 1, Y + 1, color=\"blue\", alpha=0.25)\n",
    "\n",
    "plt.plot(X, Y - 1, color=\"blue\", alpha=1.00)\n",
    "plt.fill_between(X, -1, Y - 1, (Y - 1) > -1, color=\"blue\", alpha=0.25)\n",
    "plt.fill_between(X, -1, Y - 1, (Y - 1) < -1, color=\"red\", alpha=0.25)\n",
    "\n",
    "plt.xlim(-np.pi, np.pi)\n",
    "plt.xticks([])\n",
    "plt.ylim(-2.5, 2.5)\n",
    "plt.yticks([]);"
   ]
  },
  {
   "cell_type": "markdown",
   "id": "7d4dd1d9",
   "metadata": {},
   "source": [
    "**Start of exercise**\n",
    "\n",
    "Starting from the code below, try to reproduce the graphic taking\n",
    "care of filled areas:\n",
    "\n",
    ":::{hint}\n",
    "You need to use the {func}`fill_between()` command.\n",
    ":::"
   ]
  },
  {
   "cell_type": "code",
   "execution_count": null,
   "id": "9357908b",
   "metadata": {
    "tags": [
     "hide-output"
    ]
   },
   "outputs": [],
   "source": [
    "n = 256\n",
    "X = np.linspace(-np.pi, np.pi, n)\n",
    "Y = np.sin(2 * X)\n",
    "\n",
    "plt.plot(X, Y + 1, color='blue', alpha=1.00)\n",
    "plt.plot(X, Y - 1, color='blue', alpha=1.00)"
   ]
  },
  {
   "cell_type": "markdown",
   "id": "a1f984f7",
   "metadata": {},
   "source": [
    "**End of exercise**"
   ]
  },
  {
   "cell_type": "markdown",
   "id": "31cc3006",
   "metadata": {},
   "source": [
    "Click on the hidden code for the figure above for solution."
   ]
  },
  {
   "cell_type": "markdown",
   "id": "62d60f31",
   "metadata": {},
   "source": [
    "### Scatter Plots"
   ]
  },
  {
   "cell_type": "code",
   "execution_count": null,
   "id": "98c037f2",
   "metadata": {
    "tags": [
     "hide-input"
    ]
   },
   "outputs": [],
   "source": [
    "n = 1024\n",
    "rng = np.random.default_rng()\n",
    "X = rng.normal(0, 1, n)\n",
    "Y = rng.normal(0, 1, n)\n",
    "T = np.arctan2(Y, X)\n",
    "\n",
    "plt.axes((0.025, 0.025, 0.95, 0.95))\n",
    "plt.scatter(X, Y, s=75, c=T, alpha=0.5)\n",
    "\n",
    "plt.xlim(-1.5, 1.5)\n",
    "plt.xticks([])\n",
    "plt.ylim(-1.5, 1.5)\n",
    "plt.yticks([]);"
   ]
  },
  {
   "cell_type": "markdown",
   "id": "96fa395b",
   "metadata": {},
   "source": [
    "**Start of exercise**\n",
    "\n",
    "Starting from the code below, try to reproduce the graphic taking\n",
    "care of marker size, color and transparency.\n",
    "\n",
    ":::{hint}\n",
    "Color is given by angle of (X,Y).\n",
    ":::"
   ]
  },
  {
   "cell_type": "code",
   "execution_count": null,
   "id": "c9cb25b4",
   "metadata": {
    "tags": [
     "hide-output"
    ]
   },
   "outputs": [],
   "source": [
    "n = 1024\n",
    "rng = np.random.default_rng()\n",
    "X = rng.normal(0,1,n)\n",
    "Y = rng.normal(0,1,n)\n",
    "\n",
    "plt.scatter(X,Y)"
   ]
  },
  {
   "cell_type": "markdown",
   "id": "0a04c922",
   "metadata": {},
   "source": [
    "**End of exercise**\n",
    "\n",
    "Click on the hidden code for the figure above for solution.\n",
    "\n",
    "### Bar Plots"
   ]
  },
  {
   "cell_type": "code",
   "execution_count": null,
   "id": "1d02e109",
   "metadata": {
    "tags": [
     "hide-input"
    ]
   },
   "outputs": [],
   "source": [
    "n = 12\n",
    "X = np.arange(n)\n",
    "rng = np.random.default_rng()\n",
    "Y1 = (1 - X / n) * rng.uniform(0.5, 1.0, n)\n",
    "Y2 = (1 - X / n) * rng.uniform(0.5, 1.0, n)\n",
    "\n",
    "plt.axes((0.025, 0.025, 0.95, 0.95))\n",
    "plt.bar(X, +Y1, facecolor=\"#9999ff\", edgecolor=\"white\")\n",
    "plt.bar(X, -Y2, facecolor=\"#ff9999\", edgecolor=\"white\")\n",
    "\n",
    "for x, y in zip(X, Y1):\n",
    "    plt.text(x, y + 0.05, f\"{y:.2f}\", ha=\"center\", va=\"bottom\")\n",
    "\n",
    "for x, y in zip(X, Y2):\n",
    "    plt.text(x, -y - 0.05, f\"{y:.2f}\", ha=\"center\", va=\"top\")\n",
    "\n",
    "plt.xlim(-0.5, n)\n",
    "plt.xticks([])\n",
    "plt.ylim(-1.25, 1.25)\n",
    "plt.yticks([]);"
   ]
  },
  {
   "cell_type": "markdown",
   "id": "28810b20",
   "metadata": {},
   "source": [
    "**Start of exercise**\n",
    "\n",
    "Starting from the code below, try to reproduce the graphic by\n",
    "adding labels for red bars.\n",
    "\n",
    ":::{hint}\n",
    "You need to take care of text alignment.\n",
    ":::"
   ]
  },
  {
   "cell_type": "code",
   "execution_count": null,
   "id": "dcdfa1b1",
   "metadata": {
    "tags": [
     "hide-output"
    ]
   },
   "outputs": [],
   "source": [
    "n = 12\n",
    "X = np.arange(n)\n",
    "rng = np.random.default_rng()\n",
    "Y1 = (1 - X / float(n)) * rng.uniform(0.5, 1.0, n)\n",
    "Y2 = (1 - X / float(n)) * rng.uniform(0.5, 1.0, n)\n",
    "\n",
    "plt.bar(X, +Y1, facecolor='#9999ff', edgecolor='white')\n",
    "plt.bar(X, -Y2, facecolor='#ff9999', edgecolor='white')\n",
    "\n",
    "for x, y in zip(X, Y1):\n",
    "    plt.text(x + 0.4, y + 0.05, '%.2f' % y, ha='center', va='bottom')\n",
    "\n",
    "plt.ylim(-1.25, +1.25)"
   ]
  },
  {
   "cell_type": "markdown",
   "id": "22c6510e",
   "metadata": {},
   "source": [
    "**End of exercise**\n",
    "\n",
    "Click on the hidden code for the figure above for solution."
   ]
  },
  {
   "cell_type": "markdown",
   "id": "1a110123",
   "metadata": {},
   "source": [
    "### Contour Plots"
   ]
  },
  {
   "cell_type": "code",
   "execution_count": null,
   "id": "85520c88",
   "metadata": {
    "tags": [
     "hide-input"
    ]
   },
   "outputs": [],
   "source": [
    "def f(x, y):\n",
    "    return (1 - x / 2 + x**5 + y**3) * np.exp(-(x**2) - y**2)\n",
    "\n",
    "n = 256\n",
    "x = np.linspace(-3, 3, n)\n",
    "y = np.linspace(-3, 3, n)\n",
    "X, Y = np.meshgrid(x, y)\n",
    "\n",
    "plt.axes((0.025, 0.025, 0.95, 0.95))\n",
    "\n",
    "plt.contourf(X, Y, f(X, Y), 8, alpha=0.75, cmap=\"hot\")\n",
    "C = plt.contour(X, Y, f(X, Y), 8, colors=\"black\", linewidths=0.5)\n",
    "plt.clabel(C, inline=1, fontsize=10)\n",
    "\n",
    "plt.xticks([])\n",
    "plt.yticks([]);"
   ]
  },
  {
   "cell_type": "markdown",
   "id": "846c8215",
   "metadata": {},
   "source": [
    "**Start of exercise**\n",
    "\n",
    "Starting from the code below, try to reproduce the graphic taking\n",
    "care of the colormap (see [Colormaps] below).\n",
    "\n",
    ":::{hint}\n",
    "You need to use the {func}`clabel()` command.\n",
    ":::"
   ]
  },
  {
   "cell_type": "code",
   "execution_count": null,
   "id": "cf809f61",
   "metadata": {
    "tags": [
     "hide-output"
    ]
   },
   "outputs": [],
   "source": [
    "def f(x, y):\n",
    "    return (1 - x / 2 + x ** 5 + y ** 3) * np.exp(-x ** 2 -y ** 2)\n",
    "\n",
    "n = 256\n",
    "x = np.linspace(-3, 3, n)\n",
    "y = np.linspace(-3, 3, n)\n",
    "X, Y = np.meshgrid(x, y)\n",
    "\n",
    "plt.contourf(X, Y, f(X, Y), 8, alpha=.75, cmap='jet')\n",
    "C = plt.contour(X, Y, f(X, Y), 8, colors='black', linewidth=.5)"
   ]
  },
  {
   "cell_type": "markdown",
   "id": "4e6488e4",
   "metadata": {},
   "source": [
    "**End of exercise**\n",
    "\n",
    "Click on the hidden code for the figure above for solution."
   ]
  },
  {
   "cell_type": "markdown",
   "id": "fc4d405b",
   "metadata": {},
   "source": [
    "### Imshow"
   ]
  },
  {
   "cell_type": "code",
   "execution_count": null,
   "id": "cb5d38fe",
   "metadata": {
    "tags": [
     "hide-input"
    ]
   },
   "outputs": [],
   "source": [
    "def f(x, y):\n",
    "    return (1 - x / 2 + x**5 + y**3) * np.exp(-(x**2) - y**2)\n",
    "\n",
    "n = 10\n",
    "x = np.linspace(-3, 3, int(3.5 * n))\n",
    "y = np.linspace(-3, 3, int(3.0 * n))\n",
    "X, Y = np.meshgrid(x, y)\n",
    "Z = f(X, Y)\n",
    "\n",
    "plt.imshow(Z, interpolation=\"nearest\", cmap=\"bone\", origin=\"lower\")\n",
    "plt.axes((0.025, 0.025, 0.95, 0.95))\n",
    "plt.colorbar(shrink=0.92)\n",
    "\n",
    "plt.xticks([])\n",
    "plt.yticks([]);"
   ]
  },
  {
   "cell_type": "markdown",
   "id": "27a87feb",
   "metadata": {},
   "source": [
    "**Start of exercise**\n",
    "\n",
    "Starting from the code below, try to reproduce the graphic taking\n",
    "care of colormap, image interpolation and origin.\n",
    "\n",
    ":::{hint}\n",
    "You need to take care of the `origin` of the image in the `imshow` command and\n",
    "use a {func}`colorbar()`\n",
    ":::"
   ]
  },
  {
   "cell_type": "code",
   "execution_count": null,
   "id": "02a39094",
   "metadata": {
    "tags": [
     "hide-output"
    ]
   },
   "outputs": [],
   "source": [
    "def f(x, y):\n",
    "    return (1 - x / 2 + x ** 5 + y ** 3) * np.exp(-x ** 2 - y ** 2)\n",
    "\n",
    "n = 10\n",
    "x = np.linspace(-3, 3, 4 * n)\n",
    "y = np.linspace(-3, 3, 3 * n)\n",
    "X, Y = np.meshgrid(x, y)\n",
    "plt.imshow(f(X, Y))"
   ]
  },
  {
   "cell_type": "markdown",
   "id": "469abf6a",
   "metadata": {},
   "source": [
    "**End of exercise**\n",
    "\n",
    "Click on the hidden code for the figure above for solution."
   ]
  },
  {
   "cell_type": "markdown",
   "id": "908ca7c8",
   "metadata": {},
   "source": [
    "### Pie Charts"
   ]
  },
  {
   "cell_type": "code",
   "execution_count": null,
   "id": "f07b7018",
   "metadata": {
    "tags": [
     "hide-input"
    ]
   },
   "outputs": [],
   "source": [
    "n = 20\n",
    "Z = np.ones(n)\n",
    "Z[-1] *= 2\n",
    "\n",
    "plt.axes((0.025, 0.025, 0.95, 0.95))\n",
    "\n",
    "plt.pie(Z, explode=Z * 0.05, colors=[f\"{i / float(n):f}\" for i in range(n)])\n",
    "plt.axis(\"equal\")\n",
    "plt.xticks([])\n",
    "plt.yticks();"
   ]
  },
  {
   "cell_type": "markdown",
   "id": "b97ec556",
   "metadata": {},
   "source": [
    "**Start of exercise**\n",
    "\n",
    "Starting from the code below, try to reproduce the graphic taking\n",
    "care of colors and slices size.\n",
    "\n",
    ":::{hint}\n",
    "You need to modify `Z`.\n",
    ":::"
   ]
  },
  {
   "cell_type": "code",
   "execution_count": null,
   "id": "e9476eed",
   "metadata": {
    "tags": [
     "hide-output"
    ]
   },
   "outputs": [],
   "source": [
    "rng = np.random.default_rng()\n",
    "Z = rng.uniform(0, 1, 20)\n",
    "plt.pie(Z);"
   ]
  },
  {
   "cell_type": "markdown",
   "id": "27be2e7e",
   "metadata": {},
   "source": [
    "**End of exercise**\n",
    "\n",
    "Click on the hidden code for the figure above for solution."
   ]
  },
  {
   "cell_type": "markdown",
   "id": "ac107231",
   "metadata": {},
   "source": [
    "### Quiver Plots"
   ]
  },
  {
   "cell_type": "code",
   "execution_count": null,
   "id": "f951de41",
   "metadata": {
    "tags": [
     "hide-input"
    ]
   },
   "outputs": [],
   "source": [
    "n = 8\n",
    "X, Y = np.mgrid[0:n, 0:n]\n",
    "T = np.arctan2(Y - n / 2.0, X - n / 2.0)\n",
    "R = 10 + np.sqrt((Y - n / 2.0) ** 2 + (X - n / 2.0) ** 2)\n",
    "U, V = R * np.cos(T), R * np.sin(T)\n",
    "\n",
    "plt.axes((0.025, 0.025, 0.95, 0.95))\n",
    "plt.quiver(X, Y, U, V, R, alpha=0.5)\n",
    "plt.quiver(X, Y, U, V, edgecolor=\"k\", facecolor=\"None\", linewidth=0.5)\n",
    "\n",
    "plt.xlim(-1, n)\n",
    "plt.xticks([])\n",
    "plt.ylim(-1, n)\n",
    "plt.yticks([]);"
   ]
  },
  {
   "cell_type": "markdown",
   "id": "70e0e975",
   "metadata": {},
   "source": [
    "**Start of exercise**\n",
    "\n",
    "Starting from the code below, try to reproduce the graphic taking\n",
    "care of colors and orientations.\n",
    "\n",
    ":::{hint}\n",
    "You need to draw arrows twice.\n",
    ":::"
   ]
  },
  {
   "cell_type": "code",
   "execution_count": null,
   "id": "799b0308",
   "metadata": {
    "tags": [
     "hide-output"
    ]
   },
   "outputs": [],
   "source": [
    "n = 8\n",
    "X, Y = np.mgrid[0:n, 0:n]\n",
    "plt.quiver(X, Y)"
   ]
  },
  {
   "cell_type": "markdown",
   "id": "423a8d74",
   "metadata": {},
   "source": [
    "**End of exercise**\n",
    "\n",
    "Click on the hidden code for the figure above for solution."
   ]
  },
  {
   "cell_type": "markdown",
   "id": "f7c0e4c4",
   "metadata": {},
   "source": [
    "### Grids"
   ]
  },
  {
   "cell_type": "code",
   "execution_count": null,
   "id": "d72b835c",
   "metadata": {
    "tags": [
     "hide-input"
    ]
   },
   "outputs": [],
   "source": [
    "from matplotlib import ticker\n",
    "\n",
    "ax = plt.axes((0.025, 0.025, 0.95, 0.95))\n",
    "\n",
    "ax.set_xlim(0, 4)\n",
    "ax.set_ylim(0, 3)\n",
    "ax.xaxis.set_major_locator(ticker.MultipleLocator(1.0))\n",
    "ax.xaxis.set_minor_locator(ticker.MultipleLocator(0.1))\n",
    "ax.yaxis.set_major_locator(ticker.MultipleLocator(1.0))\n",
    "ax.yaxis.set_minor_locator(ticker.MultipleLocator(0.1))\n",
    "ax.grid(which=\"major\", axis=\"x\", linewidth=0.75, linestyle=\"-\", color=\"0.75\")\n",
    "ax.grid(which=\"minor\", axis=\"x\", linewidth=0.25, linestyle=\"-\", color=\"0.75\")\n",
    "ax.grid(which=\"major\", axis=\"y\", linewidth=0.75, linestyle=\"-\", color=\"0.75\")\n",
    "ax.grid(which=\"minor\", axis=\"y\", linewidth=0.25, linestyle=\"-\", color=\"0.75\")\n",
    "ax.set_xticklabels([])\n",
    "ax.set_yticklabels([]);"
   ]
  },
  {
   "cell_type": "markdown",
   "id": "0d1ecd51",
   "metadata": {},
   "source": [
    "**Start of exercise**\n",
    "\n",
    "Starting from the code below, try to reproduce the graphic taking\n",
    "care of line styles."
   ]
  },
  {
   "cell_type": "code",
   "execution_count": null,
   "id": "cd3601f5",
   "metadata": {
    "tags": [
     "hide-output"
    ]
   },
   "outputs": [],
   "source": [
    "axes = plt.gca()\n",
    "axes.set_xlim(0, 4)\n",
    "axes.set_ylim(0, 3)\n",
    "axes.set_xticklabels([])\n",
    "axes.set_yticklabels([])"
   ]
  },
  {
   "cell_type": "markdown",
   "id": "fc63d69f",
   "metadata": {},
   "source": [
    "**End of exercise**\n",
    "\n",
    "Click on the hidden code for the figure above for solution."
   ]
  },
  {
   "cell_type": "markdown",
   "id": "6cd3e2d4",
   "metadata": {},
   "source": [
    "### Multi Plots"
   ]
  },
  {
   "cell_type": "code",
   "execution_count": null,
   "id": "47ed1923",
   "metadata": {
    "tags": [
     "hide-input"
    ]
   },
   "outputs": [],
   "source": [
    "fig = plt.figure()\n",
    "fig.subplots_adjust(bottom=0.025, left=0.025, top=0.975, right=0.975)\n",
    "\n",
    "plt.subplot(2, 1, 1)\n",
    "plt.xticks([]), plt.yticks([])\n",
    "\n",
    "plt.subplot(2, 3, 4)\n",
    "plt.xticks([])\n",
    "plt.yticks([])\n",
    "\n",
    "plt.subplot(2, 3, 5)\n",
    "plt.xticks([])\n",
    "plt.yticks([])\n",
    "\n",
    "plt.subplot(2, 3, 6)\n",
    "plt.xticks([])\n",
    "plt.yticks([]);"
   ]
  },
  {
   "cell_type": "markdown",
   "id": "5849aae8",
   "metadata": {},
   "source": [
    "**Start of exercise**\n",
    "\n",
    "Starting from the code below, try to reproduce the graphic.\n",
    "\n",
    ":::{hint}\n",
    "You can use several subplots with different partition.\n",
    ":::"
   ]
  },
  {
   "cell_type": "code",
   "execution_count": null,
   "id": "fb3b9e6f",
   "metadata": {
    "tags": [
     "hide-output"
    ]
   },
   "outputs": [],
   "source": [
    "plt.subplot(2, 2, 1)\n",
    "plt.subplot(2, 2, 3)\n",
    "plt.subplot(2, 2, 4)"
   ]
  },
  {
   "cell_type": "markdown",
   "id": "5b2ed910",
   "metadata": {},
   "source": [
    "**End of exercise**\n",
    "\n",
    "Click on the hidden code for the figure above for solution."
   ]
  },
  {
   "cell_type": "markdown",
   "id": "fdac22cd",
   "metadata": {},
   "source": [
    "### Polar Axis"
   ]
  },
  {
   "cell_type": "code",
   "execution_count": null,
   "id": "73f01c5b",
   "metadata": {
    "tags": [
     "hide-input"
    ]
   },
   "outputs": [],
   "source": [
    "import matplotlib\n",
    "\n",
    "jet = matplotlib.colormaps[\"jet\"]\n",
    "\n",
    "ax = plt.axes((0.025, 0.025, 0.95, 0.95), polar=True)\n",
    "\n",
    "N = 20\n",
    "theta = np.arange(0.0, 2 * np.pi, 2 * np.pi / N)\n",
    "rng = np.random.default_rng()\n",
    "radii = 10 * rng.random(N)\n",
    "width = np.pi / 4 * rng.random(N)\n",
    "bars = plt.bar(theta, radii, width=width, bottom=0.0)\n",
    "\n",
    "for r, bar in zip(radii, bars, strict=True):\n",
    "    bar.set_facecolor(jet(r / 10.0))\n",
    "    bar.set_alpha(0.5)\n",
    "\n",
    "ax.set_xticklabels([])\n",
    "ax.set_yticklabels([]);"
   ]
  },
  {
   "cell_type": "markdown",
   "id": "a9dcf6e4",
   "metadata": {},
   "source": [
    "**Start of exercise**\n",
    "\n",
    ":::{hint}\n",
    "You only need to modify the `axes` line\n",
    ":::\n",
    "\n",
    "Starting from the code below, try to reproduce the graphic."
   ]
  },
  {
   "cell_type": "code",
   "execution_count": null,
   "id": "5ee9ada3",
   "metadata": {
    "tags": [
     "hide-output"
    ]
   },
   "outputs": [],
   "source": [
    "plt.axes([0, 0, 1, 1])\n",
    "\n",
    "N = 20\n",
    "theta = np.arange(0., 2 * np.pi, 2 * np.pi / N)\n",
    "rng = np.random.default_rng()\n",
    "radii = 10 * rng.random(N)\n",
    "width = np.pi / 4 * rng.random(N)\n",
    "bars = plt.bar(theta, radii, width=width, bottom=0.0)\n",
    "\n",
    "for r, bar in zip(radii, bars):\n",
    "    bar.set_facecolor(plt.cm.jet(r / 10.))\n",
    "    bar.set_alpha(0.5)"
   ]
  },
  {
   "cell_type": "markdown",
   "id": "171f4c13",
   "metadata": {},
   "source": [
    "**End of exercise**\n",
    "\n",
    "Click on the hidden code for the figure above for solution."
   ]
  },
  {
   "cell_type": "markdown",
   "id": "63062d58",
   "metadata": {},
   "source": [
    "### 3D Plots"
   ]
  },
  {
   "cell_type": "code",
   "execution_count": null,
   "id": "b79ad6bb",
   "metadata": {
    "tags": [
     "hide-input"
    ]
   },
   "outputs": [],
   "source": [
    "from mpl_toolkits.mplot3d import Axes3D\n",
    "\n",
    "ax: Axes3D = plt.figure().add_subplot(projection=\"3d\")\n",
    "x = np.arange(-4, 4, 0.25)\n",
    "y = np.arange(-4, 4, 0.25)\n",
    "X, Y = np.meshgrid(x, y)\n",
    "R = np.sqrt(X**2 + Y**2)\n",
    "Z = np.sin(R)\n",
    "\n",
    "ax.plot_surface(X, Y, Z, rstride=1, cstride=1, cmap=\"hot\")\n",
    "ax.contourf(X, Y, Z, zdir=\"z\", offset=-2, cmap=\"hot\")\n",
    "ax.set_zlim(-2, 2);"
   ]
  },
  {
   "cell_type": "markdown",
   "id": "dc76a904",
   "metadata": {},
   "source": [
    "**Start of exercise**\n",
    "\n",
    "Starting from the code below, try to reproduce the graphic.\n",
    "\n",
    ":::{hint}\n",
    "You need to use {func}`contourf()`\n",
    ":::"
   ]
  },
  {
   "cell_type": "code",
   "execution_count": null,
   "id": "90df2083",
   "metadata": {
    "tags": [
     "hide-output"
    ]
   },
   "outputs": [],
   "source": [
    "from mpl_toolkits.mplot3d import Axes3D\n",
    "\n",
    "fig = plt.figure()\n",
    "ax = Axes3D(fig)\n",
    "X = np.arange(-4, 4, 0.25)\n",
    "Y = np.arange(-4, 4, 0.25)\n",
    "X, Y = np.meshgrid(X, Y)\n",
    "R = np.sqrt(X**2 + Y**2)\n",
    "Z = np.sin(R)\n",
    "\n",
    "ax.plot_surface(X, Y, Z, rstride=1, cstride=1, cmap='hot')"
   ]
  },
  {
   "cell_type": "markdown",
   "id": "df6be1ee",
   "metadata": {},
   "source": [
    "**End of exercise**\n",
    "\n",
    "Click on the hidden code for the figure above for solution."
   ]
  },
  {
   "cell_type": "markdown",
   "id": "85e42ab8",
   "metadata": {},
   "source": [
    "### Text"
   ]
  },
  {
   "cell_type": "code",
   "execution_count": null,
   "id": "290b23be",
   "metadata": {
    "tags": [
     "hide-input"
    ]
   },
   "outputs": [],
   "source": [
    "eqs = []\n",
    "eqs.append(\n",
    "    r\"$W^{3\\beta}_{\\delta_1 \\rho_1 \\sigma_2} = U^{3\\beta}_{\\delta_1 \\rho_1} + \\frac{1}{8 \\pi 2} \\int^{\\alpha_2}_{\\alpha_2} d \\alpha^\\prime_2 \\left[\\frac{ U^{2\\beta}_{\\delta_1 \\rho_1} - \\alpha^\\prime_2U^{1\\beta}_{\\rho_1 \\sigma_2} }{U^{0\\beta}_{\\rho_1 \\sigma_2}}\\right]$\"\n",
    ")\n",
    "eqs.append(\n",
    "    r\"$\\frac{d\\rho}{d t} + \\rho \\vec{v}\\cdot\\nabla\\vec{v} = -\\nabla p + \\mu\\nabla^2 \\vec{v} + \\rho \\vec{g}$\"\n",
    ")\n",
    "eqs.append(r\"$\\int_{-\\infty}^\\infty e^{-x^2}dx=\\sqrt{\\pi}$\")\n",
    "eqs.append(r\"$E = mc^2 = \\sqrt{{m_0}^2c^4 + p^2c^2}$\")\n",
    "eqs.append(r\"$F_G = G\\frac{m_1m_2}{r^2}$\")\n",
    "\n",
    "plt.axes((0.025, 0.025, 0.95, 0.95))\n",
    "\n",
    "rng = np.random.default_rng()\n",
    "\n",
    "for i in range(24):\n",
    "    index = rng.integers(0, len(eqs))\n",
    "    eq = eqs[index]\n",
    "    size = np.random.uniform(12, 32)\n",
    "    x, y = np.random.uniform(0, 1, 2)\n",
    "    alpha = np.random.uniform(0.25, 0.75)\n",
    "    plt.text(\n",
    "        x,\n",
    "        y,\n",
    "        eq,\n",
    "        ha=\"center\",\n",
    "        va=\"center\",\n",
    "        color=\"#11557c\",\n",
    "        alpha=alpha,\n",
    "        transform=plt.gca().transAxes,\n",
    "        fontsize=size,\n",
    "        clip_on=True,\n",
    "    )\n",
    "plt.xticks([])\n",
    "plt.yticks([]);"
   ]
  },
  {
   "cell_type": "markdown",
   "id": "b35abbea",
   "metadata": {},
   "source": [
    "**Start of exercise**\n",
    "\n",
    "Try to do the same from scratch !\n",
    "\n",
    ":::{hint}\n",
    "Have a look at the [matplotlib logo](https://matplotlib.org/examples/api/logo2.html).\n",
    ":::\n",
    "\n",
    "**End of exercise**\n",
    "\n",
    "Click on the hidden code for the figure above for solution.\n",
    "\n",
    "---"
   ]
  },
  {
   "cell_type": "markdown",
   "id": "2af15543",
   "metadata": {},
   "source": [
    ":::{admonition} Quick read\n",
    "\n",
    "If you want to do a first quick pass through the Scientific Python Lectures\n",
    "to learn the ecosystem, you can directly skip to the next chapter:\n",
    "{ref}`scipy`.\n",
    "\n",
    "The remainder of this chapter is not necessary to follow the rest of\n",
    "the intro part. But be sure to come back and finish this chapter later.\n",
    ":::"
   ]
  },
  {
   "cell_type": "markdown",
   "id": "dc7e1703",
   "metadata": {},
   "source": [
    "## Beyond this tutorial\n",
    "\n",
    "Matplotlib benefits from extensive documentation as well as a large\n",
    "community of users and developers. Here are some links of interest:"
   ]
  },
  {
   "cell_type": "markdown",
   "id": "5da575db",
   "metadata": {},
   "source": [
    "### Tutorials\n",
    "\n",
    "- [Pyplot tutorial](https://matplotlib.org/users/pyplot_tutorial.html)\n",
    "\n",
    "  - Introduction\n",
    "  - Controlling line properties\n",
    "  - Working with multiple figures and axes\n",
    "  - Working with text\n",
    "\n",
    "- [Image tutorial](https://matplotlib.org/users/image_tutorial.html)\n",
    "\n",
    "  - Startup commands\n",
    "  - Importing image data into NumPy arrays\n",
    "  - Plotting NumPy arrays as images\n",
    "\n",
    "- [Text tutorial](https://matplotlib.org/users/index_text.html)\n",
    "\n",
    "  - Text introduction\n",
    "  - Basic text commands\n",
    "  - Text properties and layout\n",
    "  - Writing mathematical expressions\n",
    "  - Text rendering With LaTeX\n",
    "  - Annotating text\n",
    "\n",
    "- [Artist tutorial](https://matplotlib.org/users/artists.html)\n",
    "\n",
    "  - Introduction\n",
    "  - Customizing your objects\n",
    "  - Object containers\n",
    "  - Figure container\n",
    "  - Axes container\n",
    "  - Axis containers\n",
    "  - Tick containers\n",
    "\n",
    "- [Path tutorial](https://matplotlib.org/users/path_tutorial.html)\n",
    "\n",
    "  - Introduction\n",
    "  - Bézier example\n",
    "  - Compound paths\n",
    "\n",
    "- [Transforms tutorial](https://matplotlib.org/users/transforms_tutorial.html)\n",
    "\n",
    "  - Introduction\n",
    "  - Data coordinates\n",
    "  - Axes coordinates\n",
    "  - Blended transformations\n",
    "  - Using offset transforms to create a shadow effect\n",
    "  - The transformation pipeline"
   ]
  },
  {
   "cell_type": "markdown",
   "id": "75e861eb",
   "metadata": {},
   "source": [
    "### Matplotlib documentation\n",
    "\n",
    "- [User guide](https://matplotlib.org/users/index.html)\n",
    "\n",
    "- [FAQ](https://matplotlib.org/faq/index.html)\n",
    "\n",
    "  - Installation\n",
    "  - Usage\n",
    "  - How-To\n",
    "  - Troubleshooting\n",
    "  - Environment Variables\n",
    "\n",
    "- [Screenshots](https://matplotlib.org/users/screenshots.html)"
   ]
  },
  {
   "cell_type": "markdown",
   "id": "1523755c",
   "metadata": {},
   "source": [
    "### Code documentation\n",
    "\n",
    "The code is well documented and you can quickly access a specific command\n",
    "from within a python session:"
   ]
  },
  {
   "cell_type": "code",
   "execution_count": null,
   "id": "15a7713f",
   "metadata": {},
   "outputs": [],
   "source": [
    "import matplotlib.pyplot as plt\n",
    "help(plt.plot)"
   ]
  },
  {
   "cell_type": "markdown",
   "id": "3c1aa55f",
   "metadata": {},
   "source": [
    "### Galleries\n",
    "\n",
    "The [matplotlib gallery](https://matplotlib.org/gallery.html) is\n",
    "also incredibly useful when you search how to render a given graphic. Each\n",
    "example comes with its source."
   ]
  },
  {
   "cell_type": "markdown",
   "id": "088e4fcd",
   "metadata": {},
   "source": [
    "### Mailing lists\n",
    "\n",
    "Finally, there is a [user mailing\n",
    "list](https://mail.python.org/mailman/listinfo/matplotlib-users) where you can\n",
    "ask for help and a [developers mailing\n",
    "list](https://mail.python.org/mailman/listinfo/matplotlib-devel) that is more\n",
    "technical."
   ]
  },
  {
   "cell_type": "markdown",
   "id": "e183c974",
   "metadata": {},
   "source": [
    "## Quick reference\n",
    "\n",
    "Here is a set of tables that show main properties and styles.\n",
    "### Line properties\n",
    "\n",
    "::: {list-table}\n",
    ":header-rows: 1\n",
    ":widths: 20 30 50\n",
    "\n",
    "- - Property\n",
    "  - Description\n",
    "  - Appearance\n",
    "\n",
    "- - alpha (or a)\n",
    "  - alpha transparency on 0-1 scale\n",
    "  - (Ref to `plot_alpha` in \"quick_reference_figures.md\")\n",
    "- - anti-aliased\n",
    "  - True or False - use anti-aliased rendering\n",
    "  - (Ref to `plot_aliased` in \"quick_reference_figures.md\")\n",
    "    (Ref to `plot_antialiased` in \"quick_reference_figures.md\")\n",
    "- - color (or c)\n",
    "  - matplotlib color arg\n",
    "  - (Ref to `plot_color` in \"quick_reference_figures.md\")\n",
    "- - linestyle (or ls)\n",
    "  - see [Line properties](mpl-line-properties)\n",
    "  -\n",
    "\n",
    "- - linewidth (or lw)\n",
    "  - float, the line width in points\n",
    "  - (Ref to `plot_linewidth` in \"quick_reference_figures.md\")\n",
    "- - solid_capstyle\n",
    "  - Cap style for solid lines\n",
    "  - (Ref to `plot_solid_capstyle` in \"quick_reference_figures.md\")\n",
    "- - solid_joinstyle\n",
    "  - Join style for solid lines\n",
    "  - (Ref to `plot_solid_joinstyle` in \"quick_reference_figures.md\")\n",
    "- - dash_capstyle\n",
    "  - Cap style for dashes\n",
    "  - (Ref to `plot_dash_capstyle` in \"quick_reference_figures.md\")\n",
    "- - dash_joinstyle\n",
    "  - Join style for dashes\n",
    "  - (Ref to `plot_dash_joinstyle` in \"quick_reference_figures.md\")\n",
    "- - marker\n",
    "  - see [Markers](mpl-markers)\n",
    "  -\n",
    "\n",
    "- - markeredgewidth (mew)\n",
    "  - line width around the marker symbol\n",
    "  - (Ref to `plot_mew` in \"quick_reference_figures.md\")\n",
    "- - markeredgecolor (mec)\n",
    "  - edge color if a marker is used\n",
    "  - (Ref to `plot_mec` in \"quick_reference_figures.md\")\n",
    "- - markerfacecolor (mfc)\n",
    "  - face color if a marker is used\n",
    "  - (Ref to `plot_mfc` in \"quick_reference_figures.md\")\n",
    "- - markersize (ms)\n",
    "  - size of the marker in points\n",
    "  - (Ref to `plot_ms` in \"quick_reference_figures.md\")\n",
    ":::\n",
    "\n",
    "See the [Line property figures](mpl-line-property-figures) for code to\n",
    "generate graphics for the table above."
   ]
  },
  {
   "cell_type": "markdown",
   "id": "97bf109a",
   "metadata": {},
   "source": [
    "### Line styles\n",
    "\n",
    "(Ref to `line_styles_fig` in \"quick_reference_figures.md\")\n",
    "See [Line style figure](mpl-line-style-figure) for code."
   ]
  },
  {
   "cell_type": "markdown",
   "id": "545ddb03",
   "metadata": {},
   "source": [
    "### Markers\n",
    "\n",
    "(Ref to `marker_styles_fig` in \"quick_reference_figures.md\")\n",
    "See [Marker style figure](mpl-marker-style-figure) for code.\n",
    "\n",
    "### Colormaps\n",
    "\n",
    "All colormaps can be reversed by appending `_r`. For instance, `gray_r` is\n",
    "the reverse of `gray`.\n",
    "\n",
    "If you want to know more about colormaps, check the [documentation on Colormaps in matplotlib](https://matplotlib.org/tutorials/colors/colormaps.html).\n",
    "\n",
    "(Ref to `colormap_fig` in \"quick_reference_figures.md\")\n",
    "See [Colormap figure](mpl-colormap-figure) for code."
   ]
  }
 ],
 "metadata": {
  "kernelspec": {
   "display_name": "Python (Pyodide)",
   "name": "python"
  }
 },
 "nbformat": 4,
 "nbformat_minor": 5
}
