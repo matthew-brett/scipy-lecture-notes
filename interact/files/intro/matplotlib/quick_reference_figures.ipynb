{
 "cells": [
  {
   "cell_type": "markdown",
   "id": "2d8932be",
   "metadata": {},
   "source": [
    "(mpl-reference-figures)="
   ]
  },
  {
   "cell_type": "markdown",
   "id": "ad156168",
   "metadata": {},
   "source": [
    "# Generate figures for quick reference tables\n",
    "\n",
    "This final section contains the code for figures used in the [line\n",
    "properties](mpl-line-properties) table in the [Matplotlib](matplotlib) page."
   ]
  },
  {
   "cell_type": "code",
   "execution_count": null,
   "id": "c4fb8dd6",
   "metadata": {},
   "outputs": [],
   "source": [
    "import numpy as np\n",
    "import matplotlib.pyplot as plt"
   ]
  },
  {
   "cell_type": "code",
   "execution_count": null,
   "id": "2c66d2d2",
   "metadata": {},
   "outputs": [],
   "source": [
    "# Machinery to store outputs for later use.\n",
    "# This is for rending in the Jupyter Book version of these pages.\n",
    "from myst_nb import glue"
   ]
  },
  {
   "cell_type": "markdown",
   "id": "b3119e21",
   "metadata": {},
   "source": [
    "(mpl-line-property-figures)="
   ]
  },
  {
   "cell_type": "markdown",
   "id": "5e0da677",
   "metadata": {},
   "source": [
    "## Line property figures\n",
    "\n",
    "This example demonstrates using alpha for transparency:"
   ]
  },
  {
   "cell_type": "code",
   "execution_count": null,
   "id": "6b69ab4e",
   "metadata": {},
   "outputs": [],
   "source": [
    "size = 256, 16\n",
    "dpi = 72.0\n",
    "figsize = size[0] / float(dpi), size[1] / float(dpi)\n",
    "fig = plt.figure(figsize=figsize, dpi=dpi)\n",
    "fig.patch.set_alpha(0)\n",
    "plt.axes((0, 0.1, 1, 0.8), frameon=False)\n",
    "\n",
    "for i in range(1, 11):\n",
    "    plt.axvline(i, linewidth=1, color=\"blue\", alpha=0.25 + 0.75 * i / 10.0)\n",
    "\n",
    "plt.xlim(0, 11)\n",
    "plt.xticks([])\n",
    "plt.yticks([])\n",
    "\n",
    "# Store figure for use in reference table.\n",
    "glue(\"plot_alpha\", fig, display=False)"
   ]
  },
  {
   "cell_type": "markdown",
   "id": "373f2dda",
   "metadata": {},
   "source": [
    "This example demonstrates aliased versus anti-aliased text."
   ]
  },
  {
   "cell_type": "code",
   "execution_count": null,
   "id": "92dfe64d",
   "metadata": {},
   "outputs": [],
   "source": [
    "size = 128, 16\n",
    "dpi = 72.0\n",
    "figsize = size[0] / float(dpi), size[1] / float(dpi)\n",
    "fig = plt.figure(figsize=figsize, dpi=dpi)\n",
    "fig.patch.set_alpha(0)\n",
    "\n",
    "plt.axes((0, 0, 1, 1), frameon=False)\n",
    "\n",
    "plt.rcParams[\"text.antialiased\"] = False\n",
    "plt.text(0.5, 0.5, \"Aliased\", ha=\"center\", va=\"center\")\n",
    "\n",
    "plt.xlim(0, 1)\n",
    "plt.ylim(0, 1)\n",
    "plt.xticks([])\n",
    "plt.yticks([])\n",
    "\n",
    "# Reset rcParams back to defaults\n",
    "plt.rcdefaults()\n",
    "\n",
    "# Store figure for use in reference table.\n",
    "glue(\"plot_aliased\", fig, display=False)"
   ]
  },
  {
   "cell_type": "markdown",
   "id": "30e18e21",
   "metadata": {},
   "source": [
    "The example shows aliased versus anti-aliased text."
   ]
  },
  {
   "cell_type": "code",
   "execution_count": null,
   "id": "12f7175d",
   "metadata": {},
   "outputs": [],
   "source": [
    "size = 128, 16\n",
    "dpi = 72.0\n",
    "figsize = size[0] / float(dpi), size[1] / float(dpi)\n",
    "fig = plt.figure(figsize=figsize, dpi=dpi)\n",
    "fig.patch.set_alpha(0)\n",
    "plt.axes((0, 0, 1, 1), frameon=False)\n",
    "\n",
    "plt.rcParams[\"text.antialiased\"] = True\n",
    "plt.text(0.5, 0.5, \"Anti-aliased\", ha=\"center\", va=\"center\")\n",
    "\n",
    "plt.xlim(0, 1)\n",
    "plt.ylim(0, 1)\n",
    "plt.xticks([])\n",
    "plt.yticks([])\n",
    "\n",
    "# Reset rcParams back to defaults\n",
    "plt.rcdefaults()\n",
    "\n",
    "# Store figure for use in reference table.\n",
    "glue(\"plot_antialiased\", fig, display=False)"
   ]
  },
  {
   "cell_type": "markdown",
   "id": "3230497d",
   "metadata": {},
   "source": [
    "An example demoing the various colors taken by Matplotlib's plot."
   ]
  },
  {
   "cell_type": "code",
   "execution_count": null,
   "id": "8bf55136",
   "metadata": {},
   "outputs": [],
   "source": [
    "size = 256, 16\n",
    "dpi = 72.0\n",
    "figsize = size[0] / float(dpi), size[1] / float(dpi)\n",
    "fig = plt.figure(figsize=figsize, dpi=dpi)\n",
    "fig.patch.set_alpha(0)\n",
    "plt.axes((0, 0.1, 1, 0.8), frameon=False)\n",
    "\n",
    "for i in range(1, 11):\n",
    "    plt.plot([i, i], [0, 1], lw=1.5)\n",
    "\n",
    "plt.xlim(0, 11)\n",
    "plt.xticks([])\n",
    "plt.yticks([]);\n",
    "\n",
    "# Store figure for use in reference table.\n",
    "glue(\"plot_color\", fig, display=False)"
   ]
  },
  {
   "cell_type": "markdown",
   "id": "68439ef0",
   "metadata": {},
   "source": [
    "Plot various linewidths with Matplotlib."
   ]
  },
  {
   "cell_type": "code",
   "execution_count": null,
   "id": "28b34f98",
   "metadata": {},
   "outputs": [],
   "source": [
    "size = 256, 16\n",
    "dpi = 72.0\n",
    "figsize = size[0] / float(dpi), size[1] / float(dpi)\n",
    "fig = plt.figure(figsize=figsize, dpi=dpi)\n",
    "fig.patch.set_alpha(0)\n",
    "plt.axes((0, 0.1, 1, 0.8), frameon=False)\n",
    "\n",
    "for i in range(1, 11):\n",
    "    plt.plot([i, i], [0, 1], color=\"b\", lw=i / 2.0)\n",
    "\n",
    "plt.xlim(0, 11)\n",
    "plt.ylim(0, 1)\n",
    "plt.xticks([])\n",
    "plt.yticks([]);\n",
    "\n",
    "# Store figure for use in reference table.\n",
    "glue(\"plot_linewidth\", fig, display=False)"
   ]
  },
  {
   "cell_type": "markdown",
   "id": "f622b7a1",
   "metadata": {},
   "source": [
    "An example demoing the solid cap style in Matplotlib."
   ]
  },
  {
   "cell_type": "code",
   "execution_count": null,
   "id": "aaf41a3d",
   "metadata": {},
   "outputs": [],
   "source": [
    "size = 256, 16\n",
    "dpi = 72.0\n",
    "figsize = size[0] / float(dpi), size[1] / float(dpi)\n",
    "fig = plt.figure(figsize=figsize, dpi=dpi)\n",
    "fig.patch.set_alpha(0)\n",
    "plt.axes((0, 0, 1, 1), frameon=False)\n",
    "\n",
    "plt.plot(np.arange(4), np.ones(4), color=\"blue\", linewidth=8, solid_capstyle=\"butt\")\n",
    "\n",
    "plt.plot(\n",
    "    5 + np.arange(4), np.ones(4), color=\"blue\", linewidth=8, solid_capstyle=\"round\"\n",
    ")\n",
    "\n",
    "plt.plot(\n",
    "    10 + np.arange(4),\n",
    "    np.ones(4),\n",
    "    color=\"blue\",\n",
    "    linewidth=8,\n",
    "    solid_capstyle=\"projecting\",\n",
    ")\n",
    "\n",
    "plt.xlim(0, 14)\n",
    "plt.xticks([])\n",
    "plt.yticks([]);\n",
    "\n",
    "# Store figure for use in reference table.\n",
    "glue(\"plot_solid_capstyle\", fig, display=False)"
   ]
  },
  {
   "cell_type": "markdown",
   "id": "deab3dc0",
   "metadata": {},
   "source": [
    "An example showing the different solid joint styles in Matplotlib."
   ]
  },
  {
   "cell_type": "code",
   "execution_count": null,
   "id": "b70c6188",
   "metadata": {},
   "outputs": [],
   "source": [
    "size = 256, 16\n",
    "dpi = 72.0\n",
    "figsize = size[0] / float(dpi), size[1] / float(dpi)\n",
    "fig = plt.figure(figsize=figsize, dpi=dpi)\n",
    "fig.patch.set_alpha(0)\n",
    "plt.axes((0, 0, 1, 1), frameon=False)\n",
    "\n",
    "plt.plot(np.arange(3), [0, 1, 0], color=\"blue\", linewidth=8, solid_joinstyle=\"miter\")\n",
    "plt.plot(\n",
    "    4 + np.arange(3), [0, 1, 0], color=\"blue\", linewidth=8, solid_joinstyle=\"bevel\"\n",
    ")\n",
    "plt.plot(\n",
    "    8 + np.arange(3), [0, 1, 0], color=\"blue\", linewidth=8, solid_joinstyle=\"round\"\n",
    ")\n",
    "\n",
    "plt.xlim(0, 12)\n",
    "plt.ylim(-1, 2)\n",
    "plt.xticks([])\n",
    "plt.yticks([])\n",
    "\n",
    "# Store figure for use in reference table.\n",
    "glue(\"plot_solid_joinstyle\", fig, display=False)"
   ]
  },
  {
   "cell_type": "markdown",
   "id": "41282200",
   "metadata": {},
   "source": [
    "An example demoing the dash capstyle."
   ]
  },
  {
   "cell_type": "code",
   "execution_count": null,
   "id": "25657f8e",
   "metadata": {},
   "outputs": [],
   "source": [
    "size = 256, 16\n",
    "dpi = 72.0\n",
    "figsize = size[0] / float(dpi), size[1] / float(dpi)\n",
    "fig = plt.figure(figsize=figsize, dpi=dpi)\n",
    "fig.patch.set_alpha(0)\n",
    "plt.axes((0, 0, 1, 1), frameon=False)\n",
    "\n",
    "plt.plot(\n",
    "    np.arange(4),\n",
    "    np.ones(4),\n",
    "    color=\"blue\",\n",
    "    dashes=[15, 15],\n",
    "    linewidth=8,\n",
    "    dash_capstyle=\"butt\",\n",
    ")\n",
    "\n",
    "plt.plot(\n",
    "    5 + np.arange(4),\n",
    "    np.ones(4),\n",
    "    color=\"blue\",\n",
    "    dashes=[15, 15],\n",
    "    linewidth=8,\n",
    "    dash_capstyle=\"round\",\n",
    ")\n",
    "\n",
    "plt.plot(\n",
    "    10 + np.arange(4),\n",
    "    np.ones(4),\n",
    "    color=\"blue\",\n",
    "    dashes=[15, 15],\n",
    "    linewidth=8,\n",
    "    dash_capstyle=\"projecting\",\n",
    ")\n",
    "\n",
    "plt.xlim(0, 14)\n",
    "plt.xticks([])\n",
    "plt.yticks([])\n",
    "\n",
    "# Store figure for use in reference table.\n",
    "glue(\"plot_dash_capstyle\", fig, display=False)"
   ]
  },
  {
   "cell_type": "markdown",
   "id": "67f39ce1",
   "metadata": {},
   "source": [
    "Example demoing the dash join style."
   ]
  },
  {
   "cell_type": "code",
   "execution_count": null,
   "id": "468d43c7",
   "metadata": {},
   "outputs": [],
   "source": [
    "size = 256, 16\n",
    "dpi = 72.0\n",
    "figsize = size[0] / float(dpi), size[1] / float(dpi)\n",
    "fig = plt.figure(figsize=figsize, dpi=dpi)\n",
    "fig.patch.set_alpha(0)\n",
    "plt.axes((0, 0, 1, 1), frameon=False)\n",
    "\n",
    "plt.plot(\n",
    "    np.arange(3),\n",
    "    [0, 1, 0],\n",
    "    color=\"blue\",\n",
    "    dashes=[12, 5],\n",
    "    linewidth=8,\n",
    "    dash_joinstyle=\"miter\",\n",
    ")\n",
    "plt.plot(\n",
    "    4 + np.arange(3),\n",
    "    [0, 1, 0],\n",
    "    color=\"blue\",\n",
    "    dashes=[12, 5],\n",
    "    linewidth=8,\n",
    "    dash_joinstyle=\"bevel\",\n",
    ")\n",
    "plt.plot(\n",
    "    8 + np.arange(3),\n",
    "    [0, 1, 0],\n",
    "    color=\"blue\",\n",
    "    dashes=[12, 5],\n",
    "    linewidth=8,\n",
    "    dash_joinstyle=\"round\",\n",
    ")\n",
    "\n",
    "plt.xlim(0, 12)\n",
    "plt.ylim(-1, 2)\n",
    "plt.xticks([])\n",
    "plt.yticks([]);\n",
    "\n",
    "# Store figure for use in reference table.\n",
    "glue(\"plot_dash_joinstyle\", fig, display=False)"
   ]
  },
  {
   "cell_type": "markdown",
   "id": "bc442f62",
   "metadata": {},
   "source": [
    "Demo the marker edge widths of Matplotlib's markers."
   ]
  },
  {
   "cell_type": "code",
   "execution_count": null,
   "id": "fd55d0f4",
   "metadata": {},
   "outputs": [],
   "source": [
    "size = 256, 16\n",
    "dpi = 72.0\n",
    "figsize = size[0] / float(dpi), size[1] / float(dpi)\n",
    "fig = plt.figure(figsize=figsize, dpi=dpi)\n",
    "fig.patch.set_alpha(0)\n",
    "plt.axes((0, 0, 1, 1), frameon=False)\n",
    "\n",
    "for i in range(1, 11):\n",
    "    plt.plot(\n",
    "        [\n",
    "            i,\n",
    "        ],\n",
    "        [\n",
    "            1,\n",
    "        ],\n",
    "        \"s\",\n",
    "        markersize=5,\n",
    "        markeredgewidth=1 + i / 10.0,\n",
    "        markeredgecolor=\"k\",\n",
    "        markerfacecolor=\"w\",\n",
    "    )\n",
    "plt.xlim(0, 11)\n",
    "plt.xticks([])\n",
    "plt.yticks([])\n",
    "\n",
    "# Store figure for use in reference table.\n",
    "glue(\"plot_mew\", fig, display=False)"
   ]
  },
  {
   "cell_type": "markdown",
   "id": "0c4684c4",
   "metadata": {},
   "source": [
    "Demo the marker edge color of Matplotlib's markers."
   ]
  },
  {
   "cell_type": "code",
   "execution_count": null,
   "id": "78e2dada",
   "metadata": {},
   "outputs": [],
   "source": [
    "size = 256, 16\n",
    "dpi = 72.0\n",
    "figsize = size[0] / float(dpi), size[1] / float(dpi)\n",
    "fig = plt.figure(figsize=figsize, dpi=dpi)\n",
    "fig.patch.set_alpha(0)\n",
    "plt.axes((0, 0, 1, 1), frameon=False)\n",
    "\n",
    "rng = np.random.default_rng()\n",
    "\n",
    "for i in range(1, 11):\n",
    "    r, g, b = np.random.uniform(0, 1, 3)\n",
    "    plt.plot(\n",
    "        [\n",
    "            i,\n",
    "        ],\n",
    "        [\n",
    "            1,\n",
    "        ],\n",
    "        \"s\",\n",
    "        markersize=5,\n",
    "        markerfacecolor=\"w\",\n",
    "        markeredgewidth=1.5,\n",
    "        markeredgecolor=(r, g, b, 1),\n",
    "    )\n",
    "\n",
    "plt.xlim(0, 11)\n",
    "plt.xticks([])\n",
    "plt.yticks([])\n",
    "\n",
    "# Store figure for use in reference table.\n",
    "glue(\"plot_mec\", fig, display=False)"
   ]
  },
  {
   "cell_type": "markdown",
   "id": "a25e9a36",
   "metadata": {},
   "source": [
    "Demo the marker face color of Matplotlib's markers."
   ]
  },
  {
   "cell_type": "code",
   "execution_count": null,
   "id": "2ac50ce4",
   "metadata": {},
   "outputs": [],
   "source": [
    "size = 256, 16\n",
    "dpi = 72.0\n",
    "figsize = size[0] / float(dpi), size[1] / float(dpi)\n",
    "fig = plt.figure(figsize=figsize, dpi=dpi)\n",
    "fig.patch.set_alpha(0)\n",
    "plt.axes((0, 0, 1, 1), frameon=False)\n",
    "\n",
    "rng = np.random.default_rng()\n",
    "\n",
    "for i in range(1, 11):\n",
    "    r, g, b = np.random.uniform(0, 1, 3)\n",
    "    plt.plot(\n",
    "        [\n",
    "            i,\n",
    "        ],\n",
    "        [\n",
    "            1,\n",
    "        ],\n",
    "        \"s\",\n",
    "        markersize=8,\n",
    "        markerfacecolor=(r, g, b, 1),\n",
    "        markeredgewidth=0.1,\n",
    "        markeredgecolor=(0, 0, 0, 0.5),\n",
    "    )\n",
    "plt.xlim(0, 11)\n",
    "plt.xticks([])\n",
    "plt.yticks([])\n",
    "\n",
    "# Store figure for use in reference table.\n",
    "glue(\"plot_mfc\", fig, display=False)"
   ]
  },
  {
   "cell_type": "markdown",
   "id": "55de26a8",
   "metadata": {},
   "source": [
    "Demo the marker size control in Matplotlib."
   ]
  },
  {
   "cell_type": "code",
   "execution_count": null,
   "id": "9d767708",
   "metadata": {},
   "outputs": [],
   "source": [
    "size = 256, 16\n",
    "dpi = 72.0\n",
    "figsize = size[0] / float(dpi), size[1] / float(dpi)\n",
    "fig = plt.figure(figsize=figsize, dpi=dpi)\n",
    "fig.patch.set_alpha(0)\n",
    "plt.axes((0, 0, 1, 1), frameon=False)\n",
    "\n",
    "for i in range(1, 11):\n",
    "    plt.plot(\n",
    "        [\n",
    "            i,\n",
    "        ],\n",
    "        [\n",
    "            1,\n",
    "        ],\n",
    "        \"s\",\n",
    "        markersize=i,\n",
    "        markerfacecolor=\"w\",\n",
    "        markeredgewidth=0.5,\n",
    "        markeredgecolor=\"k\",\n",
    "    )\n",
    "\n",
    "plt.xlim(0, 11)\n",
    "plt.xticks([])\n",
    "plt.yticks([])\n",
    "\n",
    "# Store figure for use in reference table.\n",
    "glue(\"plot_ms\", fig, display=False)"
   ]
  },
  {
   "cell_type": "markdown",
   "id": "6796f350",
   "metadata": {},
   "source": [
    "(mpl-line-style-figure)="
   ]
  },
  {
   "cell_type": "markdown",
   "id": "f40fea94",
   "metadata": {},
   "source": [
    "## Line styles figure"
   ]
  },
  {
   "cell_type": "code",
   "execution_count": null,
   "id": "fda18d21",
   "metadata": {},
   "outputs": [],
   "source": [
    "def linestyle(ls, i):\n",
    "    X = i * 0.5 * np.ones(11)\n",
    "    Y = np.arange(11)\n",
    "    plt.plot(\n",
    "        X,\n",
    "        Y,\n",
    "        ls,\n",
    "        color=(0.0, 0.0, 1, 1),\n",
    "        lw=3,\n",
    "        ms=8,\n",
    "        mfc=(0.75, 0.75, 1, 1),\n",
    "        mec=(0, 0, 1, 1),\n",
    "    )\n",
    "    plt.text(0.5 * i, 10.25, ls, rotation=90, fontsize=15, va=\"bottom\")\n",
    "\n",
    "linestyles = [\n",
    "    \"-\",\n",
    "    \"--\",\n",
    "    \":\",\n",
    "    \"-.\",\n",
    "    \".\",\n",
    "    \",\",\n",
    "    \"o\",\n",
    "    \"^\",\n",
    "    \"v\",\n",
    "    \"<\",\n",
    "    \">\",\n",
    "    \"s\",\n",
    "    \"+\",\n",
    "    \"x\",\n",
    "    \"d\",\n",
    "    \"1\",\n",
    "    \"2\",\n",
    "    \"3\",\n",
    "    \"4\",\n",
    "    \"h\",\n",
    "    \"p\",\n",
    "    \"|\",\n",
    "    \"_\",\n",
    "    \"D\",\n",
    "    \"H\",\n",
    "]\n",
    "n_lines = len(linestyles)\n",
    "\n",
    "size = 20 * n_lines, 300\n",
    "dpi = 72.0\n",
    "figsize = size[0] / float(dpi), size[1] / float(dpi)\n",
    "fig = plt.figure(figsize=figsize, dpi=dpi)\n",
    "plt.axes((0, 0.01, 1, 0.9), frameon=False)\n",
    "\n",
    "for i, ls in enumerate(linestyles):\n",
    "    linestyle(ls, i)\n",
    "\n",
    "plt.xlim(-0.2, 0.2 + 0.5 * n_lines)\n",
    "plt.xticks([])\n",
    "plt.yticks([])\n",
    "\n",
    "# Store figure for use in reference sections.\n",
    "glue(\"line_styles_fig\", fig, display=False)"
   ]
  },
  {
   "cell_type": "markdown",
   "id": "6b79a25b",
   "metadata": {},
   "source": [
    "(mpl-marker-style-figure)="
   ]
  },
  {
   "cell_type": "markdown",
   "id": "65c2a305",
   "metadata": {},
   "source": [
    "## Marker style figure"
   ]
  },
  {
   "cell_type": "code",
   "execution_count": null,
   "id": "d4eab30d",
   "metadata": {},
   "outputs": [],
   "source": [
    "def marker(m, i):\n",
    "    X = i * 0.5 * np.ones(11)\n",
    "    Y = np.arange(11)\n",
    "\n",
    "    plt.plot(X, Y, lw=1, marker=m, ms=10, mfc=(0.75, 0.75, 1, 1), mec=(0, 0, 1, 1))\n",
    "    plt.text(0.5 * i, 10.25, repr(m), rotation=90, fontsize=15, va=\"bottom\")\n",
    "\n",
    "markers = [\n",
    "    0,\n",
    "    1,\n",
    "    2,\n",
    "    3,\n",
    "    4,\n",
    "    5,\n",
    "    6,\n",
    "    7,\n",
    "    \"o\",\n",
    "    \"h\",\n",
    "    \"_\",\n",
    "    \"1\",\n",
    "    \"2\",\n",
    "    \"3\",\n",
    "    \"4\",\n",
    "    \"8\",\n",
    "    \"p\",\n",
    "    \"^\",\n",
    "    \"v\",\n",
    "    \"<\",\n",
    "    \">\",\n",
    "    \"|\",\n",
    "    \"d\",\n",
    "    \",\",\n",
    "    \"+\",\n",
    "    \"s\",\n",
    "    \"*\",\n",
    "    \"|\",\n",
    "    \"x\",\n",
    "    \"D\",\n",
    "    \"H\",\n",
    "    \".\",\n",
    "]\n",
    "\n",
    "n_markers = len(markers)\n",
    "\n",
    "size = 20 * n_markers, 300\n",
    "dpi = 72.0\n",
    "figsize = size[0] / float(dpi), size[1] / float(dpi)\n",
    "fig = plt.figure(figsize=figsize, dpi=dpi)\n",
    "plt.axes((0, 0.01, 1, 0.9), frameon=False)\n",
    "\n",
    "for i, m in enumerate(markers):\n",
    "    marker(m, i)\n",
    "\n",
    "plt.xlim(-0.2, 0.2 + 0.5 * n_markers)\n",
    "plt.xticks([])\n",
    "plt.yticks([])\n",
    "\n",
    "# Store figure for use in reference sections.\n",
    "glue(\"marker_styles_fig\", fig, display=False)"
   ]
  },
  {
   "cell_type": "markdown",
   "id": "00a6a284",
   "metadata": {},
   "source": [
    "(mpl-colormap-figure)="
   ]
  },
  {
   "cell_type": "markdown",
   "id": "2dfa64c6",
   "metadata": {},
   "source": [
    "## Colormap figure"
   ]
  },
  {
   "cell_type": "code",
   "execution_count": null,
   "id": "67db6932",
   "metadata": {},
   "outputs": [],
   "source": [
    "plt.rc(\"text\", usetex=False)\n",
    "a = np.outer(np.arange(0, 1, 0.01), np.ones(10))\n",
    "\n",
    "fig = plt.figure(figsize=(10, 5))\n",
    "plt.subplots_adjust(top=0.8, bottom=0.05, left=0.01, right=0.99)\n",
    "maps = [m for m in plt.colormaps if not m.endswith(\"_r\")]\n",
    "maps.sort()\n",
    "l = len(maps) + 1\n",
    "\n",
    "for i, m in enumerate(maps):\n",
    "    plt.subplot(1, l, i + 1)\n",
    "    plt.axis(\"off\")\n",
    "    plt.imshow(a, aspect=\"auto\", cmap=plt.get_cmap(m), origin=\"lower\")\n",
    "    plt.title(m, rotation=90, fontsize=10, va=\"bottom\")\n",
    "\n",
    "# Restore Matplotlib defaults.\n",
    "plt.rcdefaults()\n",
    "\n",
    "# Store figure for use in reference sections.\n",
    "glue(\"colormap_fig\", fig, display=False)"
   ]
  }
 ],
 "metadata": {
  "jupytext": {
   "notebook_metadata_filter": "all,-language_info",
   "split_at_heading": true
  },
  "kernelspec": {
   "display_name": "Python (Pyodide)",
   "name": "python"
  },
  "orphan": true
 },
 "nbformat": 4,
 "nbformat_minor": 5
}
