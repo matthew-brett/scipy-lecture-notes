{
 "cells": [
  {
   "cell_type": "markdown",
   "id": "449e1e01",
   "metadata": {},
   "source": [
    "# Numerical operations on arrays"
   ]
  },
  {
   "cell_type": "code",
   "execution_count": null,
   "id": "12fd2a35",
   "metadata": {
    "tags": [
     "hide-input"
    ]
   },
   "outputs": [],
   "source": [
    "import numpy as np\n",
    "import matplotlib.pyplot as plt"
   ]
  },
  {
   "cell_type": "markdown",
   "id": "d0e62eb6",
   "metadata": {},
   "source": [
    "## Elementwise operations\n",
    "\n",
    "### Basic operations\n",
    "\n",
    "With scalars:"
   ]
  },
  {
   "cell_type": "code",
   "execution_count": null,
   "id": "0241b085",
   "metadata": {},
   "outputs": [],
   "source": [
    "a = np.array([1, 2, 3, 4])\n",
    "a + 1"
   ]
  },
  {
   "cell_type": "code",
   "execution_count": null,
   "id": "49e3f157",
   "metadata": {},
   "outputs": [],
   "source": [
    "2 ** a"
   ]
  },
  {
   "cell_type": "markdown",
   "id": "ee0f1b63",
   "metadata": {},
   "source": [
    "All arithmetic operates elementwise:"
   ]
  },
  {
   "cell_type": "code",
   "execution_count": null,
   "id": "4e4dc289",
   "metadata": {},
   "outputs": [],
   "source": [
    "b = np.ones(4) + 1\n",
    "a - b"
   ]
  },
  {
   "cell_type": "code",
   "execution_count": null,
   "id": "ab951c88",
   "metadata": {},
   "outputs": [],
   "source": [
    "a * b"
   ]
  },
  {
   "cell_type": "code",
   "execution_count": null,
   "id": "eef0323b",
   "metadata": {},
   "outputs": [],
   "source": [
    "j = np.arange(5)\n",
    "2**(j + 1) - j"
   ]
  },
  {
   "cell_type": "markdown",
   "id": "5579ecc6",
   "metadata": {},
   "source": [
    "These operations are of course much faster than if you did them in pure python:"
   ]
  },
  {
   "cell_type": "code",
   "execution_count": null,
   "id": "1aa3d0bc",
   "metadata": {},
   "outputs": [],
   "source": [
    "a = np.arange(10000)\n",
    "%timeit a + 1"
   ]
  },
  {
   "cell_type": "code",
   "execution_count": null,
   "id": "43b79243",
   "metadata": {},
   "outputs": [],
   "source": [
    "l = range(10000)\n",
    "%timeit [i+1 for i in l]"
   ]
  },
  {
   "cell_type": "markdown",
   "id": "f35dc51a",
   "metadata": {},
   "source": [
    "**Warning: array multiplication is not matrix multiplication**\n",
    "\n",
    "Consider these examples:"
   ]
  },
  {
   "cell_type": "code",
   "execution_count": null,
   "id": "6fbab654",
   "metadata": {},
   "outputs": [],
   "source": [
    "c = np.ones((3, 3))\n",
    "c * c                   # NOT matrix multiplication!"
   ]
  },
  {
   "cell_type": "markdown",
   "id": "ac571d54",
   "metadata": {},
   "source": [
    "**Matrix multiplication:**"
   ]
  },
  {
   "cell_type": "code",
   "execution_count": null,
   "id": "8dd53aa1",
   "metadata": {},
   "outputs": [],
   "source": [
    "c @ c"
   ]
  },
  {
   "cell_type": "markdown",
   "id": "6fa059e5",
   "metadata": {},
   "source": [
    "**Start of exercise**\n",
    "\n",
    "- Try simple arithmetic elementwise operations: add even elements\n",
    "  with odd elements\n",
    "- Time them against their pure python counterparts using `%timeit`.\n",
    "- Generate:\n",
    "\n",
    "  - `[2**0, 2**1, 2**2, 2**3, 2**4]`\n",
    "  - `a_j = 2^(3*j) - j`\n",
    "\n",
    "**End of exercise**\n",
    "\n",
    "### Other operations\n",
    "\n",
    "#### Comparisons"
   ]
  },
  {
   "cell_type": "code",
   "execution_count": null,
   "id": "6f345582",
   "metadata": {},
   "outputs": [],
   "source": [
    "a = np.array([1, 2, 3, 4])\n",
    "b = np.array([4, 2, 2, 4])\n",
    "a == b"
   ]
  },
  {
   "cell_type": "code",
   "execution_count": null,
   "id": "fc6a82ac",
   "metadata": {},
   "outputs": [],
   "source": [
    "a > b"
   ]
  },
  {
   "cell_type": "markdown",
   "id": "57ecbca6",
   "metadata": {},
   "source": [
    "Array-wise comparisons:"
   ]
  },
  {
   "cell_type": "code",
   "execution_count": null,
   "id": "a7fe78d7",
   "metadata": {},
   "outputs": [],
   "source": [
    "a = np.array([1, 2, 3, 4])\n",
    "b = np.array([4, 2, 2, 4])\n",
    "c = np.array([1, 2, 3, 4])\n",
    "np.array_equal(a, b)"
   ]
  },
  {
   "cell_type": "code",
   "execution_count": null,
   "id": "cab11b6f",
   "metadata": {},
   "outputs": [],
   "source": [
    "np.array_equal(a, c)"
   ]
  },
  {
   "cell_type": "markdown",
   "id": "61b79958",
   "metadata": {},
   "source": [
    "#### Logical operations"
   ]
  },
  {
   "cell_type": "code",
   "execution_count": null,
   "id": "b8527d46",
   "metadata": {},
   "outputs": [],
   "source": [
    "a = np.array([1, 1, 0, 0], dtype=bool)\n",
    "b = np.array([1, 0, 1, 0], dtype=bool)\n",
    "np.logical_or(a, b)"
   ]
  },
  {
   "cell_type": "code",
   "execution_count": null,
   "id": "857d9d90",
   "metadata": {},
   "outputs": [],
   "source": [
    "np.logical_and(a, b)"
   ]
  },
  {
   "cell_type": "markdown",
   "id": "80e34902",
   "metadata": {},
   "source": [
    "#### Transcendental functions"
   ]
  },
  {
   "cell_type": "code",
   "execution_count": null,
   "id": "fb36a1a3",
   "metadata": {},
   "outputs": [],
   "source": [
    "a = np.arange(5)\n",
    "np.sin(a)"
   ]
  },
  {
   "cell_type": "code",
   "execution_count": null,
   "id": "d05bf068",
   "metadata": {},
   "outputs": [],
   "source": [
    "np.exp(a)"
   ]
  },
  {
   "cell_type": "code",
   "execution_count": null,
   "id": "89640628",
   "metadata": {},
   "outputs": [],
   "source": [
    "np.log(np.exp(a))"
   ]
  },
  {
   "cell_type": "markdown",
   "id": "6497a1c6",
   "metadata": {},
   "source": [
    "#### Shape mismatches"
   ]
  },
  {
   "cell_type": "code",
   "execution_count": null,
   "id": "a11e3a26",
   "metadata": {
    "tags": [
     "raises-exception"
    ]
   },
   "outputs": [],
   "source": [
    "a = np.arange(4)\n",
    "a + np.array([1, 2])"
   ]
  },
  {
   "cell_type": "markdown",
   "id": "fa8076b5",
   "metadata": {},
   "source": [
    "*Broadcasting?* We'll return to that {ref}`later <broadcasting>`.\n",
    "\n",
    "#### Transposition"
   ]
  },
  {
   "cell_type": "code",
   "execution_count": null,
   "id": "1ccaa441",
   "metadata": {},
   "outputs": [],
   "source": [
    "a = np.triu(np.ones((3, 3)), 1)   # see help(np.triu)\n",
    "a"
   ]
  },
  {
   "cell_type": "code",
   "execution_count": null,
   "id": "0d05d587",
   "metadata": {},
   "outputs": [],
   "source": [
    "a.T"
   ]
  },
  {
   "cell_type": "markdown",
   "id": "a39d1bd5",
   "metadata": {},
   "source": [
    "Remember, **the transposition is a view**.\n",
    "\n",
    "The transpose returns a *view* of the original array:"
   ]
  },
  {
   "cell_type": "code",
   "execution_count": null,
   "id": "c565c70c",
   "metadata": {},
   "outputs": [],
   "source": [
    "a = np.arange(9).reshape(3, 3)\n",
    "a.T[0, 2] = 999\n",
    "a.T"
   ]
  },
  {
   "cell_type": "code",
   "execution_count": null,
   "id": "7b77f6d5",
   "metadata": {},
   "outputs": [],
   "source": [
    "a"
   ]
  },
  {
   "cell_type": "markdown",
   "id": "ce34cdbf",
   "metadata": {},
   "source": [
    "#### Linear algebra\n",
    "\n",
    "The sub-module {mod}`numpy.linalg` implements basic linear algebra, such as\n",
    "solving linear systems, singular value decomposition, etc. However, it is\n",
    "not guaranteed to be compiled using efficient routines, and thus we\n",
    "recommend the use of {mod}`scipy.linalg`, as detailed in section\n",
    "{ref}`scipy-linalg`\n",
    "\n",
    "**Start of exercise**\n",
    "\n",
    "- Look at the help for `np.allclose`. When might this be useful?\n",
    "- Look at the help for `np.triu` and `np.tril`.\n",
    "\n",
    "**End of exercise**\n",
    "\n",
    "## Basic reductions\n",
    "\n",
    "### Computing sums"
   ]
  },
  {
   "cell_type": "code",
   "execution_count": null,
   "id": "b1a29af2",
   "metadata": {},
   "outputs": [],
   "source": [
    "x = np.array([1, 2, 3, 4])\n",
    "np.sum(x)"
   ]
  },
  {
   "cell_type": "code",
   "execution_count": null,
   "id": "ac389de4",
   "metadata": {},
   "outputs": [],
   "source": [
    "x.sum()"
   ]
  },
  {
   "cell_type": "markdown",
   "id": "f4ef131f",
   "metadata": {},
   "source": [
    "![](images/reductions.png)\n",
    "\n",
    "Sum by rows and by columns:"
   ]
  },
  {
   "cell_type": "code",
   "execution_count": null,
   "id": "d85181cd",
   "metadata": {},
   "outputs": [],
   "source": [
    "x = np.array([[1, 1], [2, 2]])\n",
    "x"
   ]
  },
  {
   "cell_type": "code",
   "execution_count": null,
   "id": "2dabd64f",
   "metadata": {},
   "outputs": [],
   "source": [
    "x.sum(axis=0)   # columns (first dimension)"
   ]
  },
  {
   "cell_type": "code",
   "execution_count": null,
   "id": "f6d8f4e0",
   "metadata": {},
   "outputs": [],
   "source": [
    "x[:, 0].sum(), x[:, 1].sum()"
   ]
  },
  {
   "cell_type": "code",
   "execution_count": null,
   "id": "eb0f3b48",
   "metadata": {},
   "outputs": [],
   "source": [
    "x.sum(axis=1)   # rows (second dimension)"
   ]
  },
  {
   "cell_type": "code",
   "execution_count": null,
   "id": "45785020",
   "metadata": {},
   "outputs": [],
   "source": [
    "x[0, :].sum(), x[1, :].sum()"
   ]
  },
  {
   "cell_type": "markdown",
   "id": "d7b89cac",
   "metadata": {},
   "source": [
    "Here is the same idea in higher dimensions:"
   ]
  },
  {
   "cell_type": "code",
   "execution_count": null,
   "id": "df9fa777",
   "metadata": {},
   "outputs": [],
   "source": [
    "rng = np.random.default_rng(27446968)\n",
    "x = rng.random((2, 2, 2))\n",
    "x.sum(axis=2)[0, 1]"
   ]
  },
  {
   "cell_type": "code",
   "execution_count": null,
   "id": "bf8411ce",
   "metadata": {},
   "outputs": [],
   "source": [
    "x[0, 1, :].sum()"
   ]
  },
  {
   "cell_type": "markdown",
   "id": "0d34787a",
   "metadata": {},
   "source": [
    "### Other reductions\n",
    "\n",
    "These work the same way (and take `axis=`)\n",
    "\n",
    "#### Extrema"
   ]
  },
  {
   "cell_type": "code",
   "execution_count": null,
   "id": "4ae15b0b",
   "metadata": {},
   "outputs": [],
   "source": [
    "x = np.array([1, 3, 2])\n",
    "x.min()"
   ]
  },
  {
   "cell_type": "code",
   "execution_count": null,
   "id": "1609138a",
   "metadata": {},
   "outputs": [],
   "source": [
    "x.max()"
   ]
  },
  {
   "cell_type": "code",
   "execution_count": null,
   "id": "e90897e0",
   "metadata": {},
   "outputs": [],
   "source": [
    "x.argmin()  # index of minimum"
   ]
  },
  {
   "cell_type": "code",
   "execution_count": null,
   "id": "2eeef6f5",
   "metadata": {},
   "outputs": [],
   "source": [
    "x.argmax()  # index of maximum"
   ]
  },
  {
   "cell_type": "markdown",
   "id": "65ed6e87",
   "metadata": {},
   "source": [
    "#### Logical operations"
   ]
  },
  {
   "cell_type": "code",
   "execution_count": null,
   "id": "c89b796f",
   "metadata": {},
   "outputs": [],
   "source": [
    "np.all([True, True, False])"
   ]
  },
  {
   "cell_type": "code",
   "execution_count": null,
   "id": "58b4d213",
   "metadata": {},
   "outputs": [],
   "source": [
    "np.any([True, True, False])"
   ]
  },
  {
   "cell_type": "markdown",
   "id": "172e1c81",
   "metadata": {},
   "source": [
    "This can be used for array comparisons:"
   ]
  },
  {
   "cell_type": "code",
   "execution_count": null,
   "id": "1bdadc3b",
   "metadata": {},
   "outputs": [],
   "source": [
    "a = np.zeros((100, 100))\n",
    "np.any(a != 0)"
   ]
  },
  {
   "cell_type": "code",
   "execution_count": null,
   "id": "dbb0e25d",
   "metadata": {},
   "outputs": [],
   "source": [
    "np.all(a == a)"
   ]
  },
  {
   "cell_type": "code",
   "execution_count": null,
   "id": "0014018e",
   "metadata": {},
   "outputs": [],
   "source": [
    "a = np.array([1, 2, 3, 2])\n",
    "b = np.array([2, 2, 3, 2])\n",
    "c = np.array([6, 4, 4, 5])\n",
    "((a <= b) & (b <= c)).all()"
   ]
  },
  {
   "cell_type": "markdown",
   "id": "980c673f",
   "metadata": {},
   "source": [
    "**Statistics:**"
   ]
  },
  {
   "cell_type": "code",
   "execution_count": null,
   "id": "6932ae1d",
   "metadata": {},
   "outputs": [],
   "source": [
    "x = np.array([1, 2, 3, 1])\n",
    "y = np.array([[1, 2, 3], [5, 6, 1]])\n",
    "x.mean()"
   ]
  },
  {
   "cell_type": "code",
   "execution_count": null,
   "id": "381e6ab4",
   "metadata": {},
   "outputs": [],
   "source": [
    "np.median(x)"
   ]
  },
  {
   "cell_type": "code",
   "execution_count": null,
   "id": "12af2ef6",
   "metadata": {},
   "outputs": [],
   "source": [
    "np.median(y, axis=-1) # last axis"
   ]
  },
  {
   "cell_type": "code",
   "execution_count": null,
   "id": "f234159c",
   "metadata": {},
   "outputs": [],
   "source": [
    "x.std()          # full population standard dev."
   ]
  },
  {
   "cell_type": "markdown",
   "id": "61fea467",
   "metadata": {},
   "source": [
    "... and many more (best to learn as you go).\n",
    "\n",
    "**Start of exercise**\n",
    "\n",
    "Given there is a `sum`, what other function might you expect to see?\n",
    "What is the difference between `sum` and `cumsum`?\n",
    "\n",
    "**End of exercise**\n",
    "\n",
    "#### Worked Example: diffusion using a random walk algorithm\n",
    "\n",
    "![](random_walk.png)\n",
    "\n",
    "Let us consider a simple 1D random walk process: at each time step a\n",
    "walker jumps right or left with equal probability.\n",
    "\n",
    "We are interested in finding the typical distance from the origin of a\n",
    "random walker after `t` left or right jumps? We are going to\n",
    "simulate many \"walkers\" to find this law, and we are going to do so\n",
    "using array computing tricks: we are going to create a 2D array with\n",
    "the \"stories\" (each walker has a story) in one direction, and the\n",
    "time in the other:\n",
    "\n",
    "![](random_walk_schema.png)"
   ]
  },
  {
   "cell_type": "code",
   "execution_count": null,
   "id": "ee775368",
   "metadata": {},
   "outputs": [],
   "source": [
    "n_stories = 1000 # number of walkers\n",
    "t_max = 200      # time during which we follow the walker"
   ]
  },
  {
   "cell_type": "markdown",
   "id": "45961c74",
   "metadata": {},
   "source": [
    "We randomly choose all the steps 1 or -1 of the walk:"
   ]
  },
  {
   "cell_type": "code",
   "execution_count": null,
   "id": "75e7358d",
   "metadata": {},
   "outputs": [],
   "source": [
    "t = np.arange(t_max)\n",
    "rng = np.random.default_rng()\n",
    "steps = 2 * rng.integers(0, 1 + 1, (n_stories, t_max)) - 1 # +1 because the high value is exclusive\n",
    "np.unique(steps) # Verification: all steps are 1 or -1"
   ]
  },
  {
   "cell_type": "markdown",
   "id": "e8447956",
   "metadata": {},
   "source": [
    "We build the walks by summing steps along the time:"
   ]
  },
  {
   "cell_type": "code",
   "execution_count": null,
   "id": "a38d1041",
   "metadata": {},
   "outputs": [],
   "source": [
    "positions = np.cumsum(steps, axis=1) # axis = 1: dimension of time\n",
    "sq_distance = positions**2"
   ]
  },
  {
   "cell_type": "markdown",
   "id": "3c3a71f2",
   "metadata": {},
   "source": [
    "We get the mean in the axis of the stories:"
   ]
  },
  {
   "cell_type": "code",
   "execution_count": null,
   "id": "28131cb3",
   "metadata": {},
   "outputs": [],
   "source": [
    "mean_sq_distance = np.mean(sq_distance, axis=0)"
   ]
  },
  {
   "cell_type": "markdown",
   "id": "fd864e51",
   "metadata": {},
   "source": [
    "Plot the results:"
   ]
  },
  {
   "cell_type": "code",
   "execution_count": null,
   "id": "90e1732d",
   "metadata": {},
   "outputs": [],
   "source": [
    "plt.figure(figsize=(4, 3))\n",
    "plt.plot(t, np.sqrt(mean_sq_distance), 'g.', t, np.sqrt(t), 'y-')\n",
    "plt.xlabel(r\"$t$\")\n",
    "plt.ylabel(r\"$\\sqrt{\\langle (\\delta x)^2 \\rangle}$\")\n",
    "plt.tight_layout() # provide sufficient space for labels"
   ]
  },
  {
   "cell_type": "markdown",
   "id": "8f3825cd",
   "metadata": {},
   "source": [
    "We find a well-known result in physics: the Root Mean Square (RMS) distance\n",
    "grows as the square root of the time!\n",
    "\n",
    "## Interim summary and exercises\n",
    "\n",
    "| Operation type | Numpy functions              |\n",
    "| -------------- | ---------------------------- |\n",
    "| arithmetic     | `sum`, `prod`, `mean`, `std` |\n",
    "| Extrema        | `min`, `max`                 |\n",
    "| logical        | `all`, `any`                 |\n",
    "\n",
    "Also, recall the `axis` argument to select the dimension over which an operation will be applied:"
   ]
  },
  {
   "cell_type": "code",
   "execution_count": null,
   "id": "7105427a",
   "metadata": {},
   "outputs": [],
   "source": [
    "arr = np.array([[99, 12], [11, 2]])\n",
    "arr"
   ]
  },
  {
   "cell_type": "code",
   "execution_count": null,
   "id": "337f9be3",
   "metadata": {},
   "outputs": [],
   "source": [
    "# Without axis=, operation applied over whole (flatted, 1D) array.\n",
    "np.min(arr)"
   ]
  },
  {
   "cell_type": "code",
   "execution_count": null,
   "id": "a807a584",
   "metadata": {},
   "outputs": [],
   "source": [
    "# Operate along first axis (rows).\n",
    "np.min(arr, axis=0)"
   ]
  },
  {
   "cell_type": "code",
   "execution_count": null,
   "id": "d3cff5be",
   "metadata": {
    "lines_to_next_cell": 2
   },
   "outputs": [],
   "source": [
    "# Operate along second axis (columns).\n",
    "np.min(arr, axis=1)"
   ]
  },
  {
   "cell_type": "markdown",
   "id": "1d61323a",
   "metadata": {},
   "source": [
    "**Start of exercise**\n",
    "\n",
    "We load an array from a text file:"
   ]
  },
  {
   "cell_type": "code",
   "execution_count": null,
   "id": "1178a623",
   "metadata": {},
   "outputs": [],
   "source": [
    "an_array = np.loadtxt('data/an_array.txt')"
   ]
  },
  {
   "cell_type": "markdown",
   "id": "854813c7",
   "metadata": {},
   "source": [
    "1. Verify if all elements in `an array` are equal to 1:\n",
    "2. Verify if any elements in an array are equal to 1\n",
    "3. Compute mean and standard deviation.\n",
    "4. Challenge: write a function `my_std` that computes the standard deviation\n",
    "   of the elements in the array, where you are only allowed to use `np.sum`\n",
    "   from Numpy in your function.  Check your function returns a value close to that from `np.std` (use `np.allclose` for that check).\n",
    "\n",
    "**End of exercise**"
   ]
  },
  {
   "cell_type": "markdown",
   "id": "b8c53192",
   "metadata": {},
   "source": [
    "**See the [corresponding page](/scipy-lecture-notes/intro/numpy/operations.html) for solution**\n",
    "## Broadcasting\n",
    "\n",
    "- Basic operations on `numpy` arrays (addition, etc.) are elementwise\n",
    "\n",
    "- This works on arrays of the same size.\n",
    "\n",
    "- **Nevertheless** , it's also possible to do\n",
    "  operations on arrays of different sizes if\n",
    "  *NumPy* can transform these arrays so that\n",
    "  they all have the same size: this conversion\n",
    "  is called **broadcasting**.\n",
    "\n",
    "The image below gives an example of broadcasting:\n",
    "\n",
    "![](images/numpy_broadcasting.png)\n",
    "\n",
    "Let's verify:"
   ]
  },
  {
   "cell_type": "code",
   "execution_count": null,
   "id": "04c807a2",
   "metadata": {},
   "outputs": [],
   "source": [
    "a = np.tile(np.arange(0, 40, 10), (3, 1)).T\n",
    "a"
   ]
  },
  {
   "cell_type": "code",
   "execution_count": null,
   "id": "86803dc8",
   "metadata": {},
   "outputs": [],
   "source": [
    "b = np.array([0, 1, 2])\n",
    "a + b"
   ]
  },
  {
   "cell_type": "markdown",
   "id": "fc1256e6",
   "metadata": {},
   "source": [
    "We have already used broadcasting without knowing it!:"
   ]
  },
  {
   "cell_type": "code",
   "execution_count": null,
   "id": "c123784c",
   "metadata": {},
   "outputs": [],
   "source": [
    "a = np.ones((4, 5))\n",
    "a[0] = 2  # we assign an array of dimension 0 to an array of dimension 1\n",
    "a"
   ]
  },
  {
   "cell_type": "markdown",
   "id": "ec3341c8",
   "metadata": {},
   "source": [
    "A useful trick:"
   ]
  },
  {
   "cell_type": "code",
   "execution_count": null,
   "id": "7b56fa95",
   "metadata": {},
   "outputs": [],
   "source": [
    "a = np.arange(0, 40, 10)\n",
    "a.shape"
   ]
  },
  {
   "cell_type": "code",
   "execution_count": null,
   "id": "50375190",
   "metadata": {},
   "outputs": [],
   "source": [
    "a = a[:, np.newaxis]  # adds a new axis -> 2D array\n",
    "a.shape"
   ]
  },
  {
   "cell_type": "code",
   "execution_count": null,
   "id": "3492f13f",
   "metadata": {},
   "outputs": [],
   "source": [
    "a"
   ]
  },
  {
   "cell_type": "code",
   "execution_count": null,
   "id": "dbd77332",
   "metadata": {},
   "outputs": [],
   "source": [
    "a + b"
   ]
  },
  {
   "cell_type": "markdown",
   "id": "8f30fdd2",
   "metadata": {},
   "source": [
    "**Start of note**\n",
    ":class: dropdown\n",
    "\n",
    "Broadcasting seems a bit magical, but it is actually quite natural to\n",
    "use it when we want to solve a problem whose output data is an array\n",
    "with more dimensions than input data.\n",
    "**End of note**\n",
    "\n",
    "### Worked Example: Broadcasting\n",
    "\n",
    "Let's construct an array of distances (in miles) between cities of\n",
    "Route 66: Chicago, Springfield, Saint-Louis, Tulsa, Oklahoma City,\n",
    "Amarillo, Santa Fe, Albuquerque, Flagstaff and Los Angeles."
   ]
  },
  {
   "cell_type": "code",
   "execution_count": null,
   "id": "e3cefdf0",
   "metadata": {},
   "outputs": [],
   "source": [
    "mileposts = np.array([0, 198, 303, 736, 871, 1175, 1475, 1544,\n",
    "       1913, 2448])\n",
    "distance_array = np.abs(mileposts - mileposts[:, np.newaxis])\n",
    "distance_array"
   ]
  },
  {
   "cell_type": "markdown",
   "id": "15b770a9",
   "metadata": {},
   "source": [
    "![](images/route66.png)\n",
    "\n",
    "A lot of grid-based or network-based problems can also use\n",
    "broadcasting. For instance, if we want to compute the distance from\n",
    "the origin of points on a 5x5 grid, we can do"
   ]
  },
  {
   "cell_type": "code",
   "execution_count": null,
   "id": "389ac1a0",
   "metadata": {},
   "outputs": [],
   "source": [
    "x, y = np.arange(5), np.arange(5)[:, np.newaxis]\n",
    "distance = np.sqrt(x ** 2 + y ** 2)\n",
    "distance"
   ]
  },
  {
   "cell_type": "markdown",
   "id": "ea7f0745",
   "metadata": {},
   "source": [
    "Or in color:"
   ]
  },
  {
   "cell_type": "code",
   "execution_count": null,
   "id": "6f301300",
   "metadata": {},
   "outputs": [],
   "source": [
    "plt.pcolor(distance)\n",
    "plt.colorbar()"
   ]
  },
  {
   "cell_type": "markdown",
   "id": "3f6032ee",
   "metadata": {},
   "source": [
    "**Remark** : the {func}`numpy.ogrid` function allows to directly create\n",
    "vectors x and y of the previous example, with two \"significant dimensions\":"
   ]
  },
  {
   "cell_type": "code",
   "execution_count": null,
   "id": "12be09ce",
   "metadata": {},
   "outputs": [],
   "source": [
    "x, y = np.ogrid[0:5, 0:5]\n",
    "x, y"
   ]
  },
  {
   "cell_type": "code",
   "execution_count": null,
   "id": "c9ac6dd3",
   "metadata": {},
   "outputs": [],
   "source": [
    "x.shape, y.shape\n",
    "distance = np.sqrt(x ** 2 + y ** 2)"
   ]
  },
  {
   "cell_type": "markdown",
   "id": "c7e41bb3",
   "metadata": {},
   "source": [
    "So, `np.ogrid` is very useful as soon as we have to handle\n",
    "computations on a grid. On the other hand, `np.mgrid` directly\n",
    "provides matrices full of indices for cases where we can't (or don't\n",
    "want to) benefit from broadcasting:"
   ]
  },
  {
   "cell_type": "code",
   "execution_count": null,
   "id": "435df673",
   "metadata": {},
   "outputs": [],
   "source": [
    "x, y = np.mgrid[0:4, 0:4]\n",
    "x"
   ]
  },
  {
   "cell_type": "code",
   "execution_count": null,
   "id": "eebc70ad",
   "metadata": {},
   "outputs": [],
   "source": [
    "y"
   ]
  },
  {
   "cell_type": "markdown",
   "id": "26b05e08",
   "metadata": {},
   "source": [
    "<!---\n",
    "rules\n",
    "-->\n",
    "<!---\n",
    "some usage examples: scalars, 1-d matrix products\n",
    "-->\n",
    "<!---\n",
    "newaxis\n",
    "-->\n",
    "<!---\n",
    "EXE: add 1-d array to a scalar\n",
    "-->\n",
    "<!---\n",
    "EXE: add 1-d array to a 2-d array\n",
    "-->\n",
    "<!---\n",
    "EXE: multiply matrix from the right with a diagonal array\n",
    "-->\n",
    "<!---\n",
    "CHA: constructing grids -- meshgrid using only newaxis\n",
    "-->\n",
    "**Start of admonition: See also**\n",
    "\n",
    "{ref}`broadcasting-advanced`: discussion of broadcasting in\n",
    "the {ref}`advanced-numpy` chapter.\n",
    "**End of admonition**\n",
    "\n",
    "## Array shape manipulation\n",
    "\n",
    "### Flattening"
   ]
  },
  {
   "cell_type": "code",
   "execution_count": null,
   "id": "cb592586",
   "metadata": {},
   "outputs": [],
   "source": [
    "a = np.array([[1, 2, 3], [4, 5, 6]])\n",
    "a.ravel()"
   ]
  },
  {
   "cell_type": "code",
   "execution_count": null,
   "id": "0c5da56e",
   "metadata": {},
   "outputs": [],
   "source": [
    "a.T"
   ]
  },
  {
   "cell_type": "code",
   "execution_count": null,
   "id": "b8a45765",
   "metadata": {},
   "outputs": [],
   "source": [
    "a.T.ravel()"
   ]
  },
  {
   "cell_type": "markdown",
   "id": "26280c23",
   "metadata": {},
   "source": [
    "Higher dimensions: last dimensions ravel out \"first\".\n",
    "\n",
    "### Reshaping\n",
    "\n",
    "The inverse operation to flattening:"
   ]
  },
  {
   "cell_type": "code",
   "execution_count": null,
   "id": "205a50ad",
   "metadata": {},
   "outputs": [],
   "source": [
    "a.shape"
   ]
  },
  {
   "cell_type": "code",
   "execution_count": null,
   "id": "95315df4",
   "metadata": {},
   "outputs": [],
   "source": [
    "b = a.ravel()\n",
    "b = b.reshape((2, 3))\n",
    "b"
   ]
  },
  {
   "cell_type": "markdown",
   "id": "807663d8",
   "metadata": {},
   "source": [
    "Or,"
   ]
  },
  {
   "cell_type": "code",
   "execution_count": null,
   "id": "8973029c",
   "metadata": {},
   "outputs": [],
   "source": [
    "a.reshape((2, -1))    # unspecified (-1) value is inferred"
   ]
  },
  {
   "cell_type": "markdown",
   "id": "99a7919f",
   "metadata": {},
   "source": [
    "**Start of warning**\n",
    "`ndarray.reshape` **may** return a view (cf `help(np.reshape)`)),\n",
    "or copy\n",
    "**End of warning**\n",
    "\n",
    "For example, consider:"
   ]
  },
  {
   "cell_type": "code",
   "execution_count": null,
   "id": "be35e694",
   "metadata": {},
   "outputs": [],
   "source": [
    "b[0, 0] = 99\n",
    "a"
   ]
  },
  {
   "cell_type": "markdown",
   "id": "0ed1896c",
   "metadata": {},
   "source": [
    "Beware: reshape may also return a copy!:"
   ]
  },
  {
   "cell_type": "code",
   "execution_count": null,
   "id": "5efe87c9",
   "metadata": {},
   "outputs": [],
   "source": [
    "a = np.zeros((3, 2))\n",
    "b = a.T.reshape(3*2)\n",
    "b[0] = 9\n",
    "a"
   ]
  },
  {
   "cell_type": "markdown",
   "id": "2318357d",
   "metadata": {},
   "source": [
    "To understand this you need to learn more about the memory layout of a NumPy array.\n",
    "\n",
    "### Adding a dimension\n",
    "\n",
    "Indexing with the `np.newaxis` object allows us to add an axis to an array\n",
    "(you have seen this already above in the broadcasting section):"
   ]
  },
  {
   "cell_type": "code",
   "execution_count": null,
   "id": "6d357007",
   "metadata": {},
   "outputs": [],
   "source": [
    "z = np.array([1, 2, 3])\n",
    "z"
   ]
  },
  {
   "cell_type": "code",
   "execution_count": null,
   "id": "be497829",
   "metadata": {},
   "outputs": [],
   "source": [
    "z[:, np.newaxis]"
   ]
  },
  {
   "cell_type": "code",
   "execution_count": null,
   "id": "33fdb6da",
   "metadata": {},
   "outputs": [],
   "source": [
    "z[np.newaxis, :]"
   ]
  },
  {
   "cell_type": "markdown",
   "id": "1cabe7f1",
   "metadata": {},
   "source": [
    "### Dimension shuffling"
   ]
  },
  {
   "cell_type": "code",
   "execution_count": null,
   "id": "61d5cbf1",
   "metadata": {},
   "outputs": [],
   "source": [
    "a = np.arange(4*3*2).reshape(4, 3, 2)\n",
    "a.shape"
   ]
  },
  {
   "cell_type": "code",
   "execution_count": null,
   "id": "957123cd",
   "metadata": {},
   "outputs": [],
   "source": [
    "a[0, 2, 1]"
   ]
  },
  {
   "cell_type": "code",
   "execution_count": null,
   "id": "ed6ae656",
   "metadata": {},
   "outputs": [],
   "source": [
    "b = a.transpose(1, 2, 0)\n",
    "b.shape"
   ]
  },
  {
   "cell_type": "code",
   "execution_count": null,
   "id": "77827a3b",
   "metadata": {},
   "outputs": [],
   "source": [
    "b[2, 1, 0]"
   ]
  },
  {
   "cell_type": "markdown",
   "id": "ef14204b",
   "metadata": {},
   "source": [
    "Also creates a view:"
   ]
  },
  {
   "cell_type": "code",
   "execution_count": null,
   "id": "8216ce30",
   "metadata": {},
   "outputs": [],
   "source": [
    "b[2, 1, 0] = -1\n",
    "a[0, 2, 1]"
   ]
  },
  {
   "cell_type": "markdown",
   "id": "459a26ea",
   "metadata": {},
   "source": [
    "### Resizing\n",
    "\n",
    "Size of an array can be changed with `ndarray.resize`:"
   ]
  },
  {
   "cell_type": "code",
   "execution_count": null,
   "id": "6ba588ff",
   "metadata": {},
   "outputs": [],
   "source": [
    "a = np.arange(4)\n",
    "a.resize((8,))\n",
    "a"
   ]
  },
  {
   "cell_type": "markdown",
   "id": "ae154dab",
   "metadata": {},
   "source": [
    "However, it must not be referred to somewhere else:"
   ]
  },
  {
   "cell_type": "code",
   "execution_count": null,
   "id": "b8694500",
   "metadata": {
    "tags": [
     "raises-exception"
    ]
   },
   "outputs": [],
   "source": [
    "b = a\n",
    "a.resize((4,))"
   ]
  },
  {
   "cell_type": "markdown",
   "id": "0731d71c",
   "metadata": {},
   "source": [
    "<!---\n",
    "seealso: ``help(np.tensordot)``\n",
    "-->\n",
    "<!---\n",
    "resizing: how to do it, and *when* is it possible (not always!)\n",
    "-->\n",
    "<!---\n",
    "reshaping (demo using an image?)\n",
    "-->\n",
    "<!---\n",
    "dimension shuffling\n",
    "-->\n",
    "<!---\n",
    "when to use: some pre-made algorithm (e.g. in Fortran) accepts only\n",
    "1-D data, but you'd like to vectorize it\n",
    "-->\n",
    "<!---\n",
    "EXE: load data incrementally from a file, by appending to a resizing array\n",
    "-->\n",
    "<!---\n",
    "EXE: vectorize a pre-made routine that only accepts 1-D data\n",
    "-->\n",
    "<!---\n",
    "EXE: manipulating matrix direct product spaces back and forth (give an example from physics -- spin index and orbital indices)\n",
    "-->\n",
    "<!---\n",
    "EXE: shuffling dimensions when writing a general vectorized function\n",
    "-->\n",
    "<!---\n",
    "CHA: the mathematical 'vec' operation\n",
    "-->\n",
    "\n",
    "**Start of exercise**\n",
    "\n",
    "- Look at the docstring for `reshape`, especially the notes section which\n",
    "  has some more information about copies and views.\n",
    "- Use `flatten` as an alternative to `ravel`. What is the difference?\n",
    "  (Hint: check which one returns a view and which a copy)\n",
    "- Experiment with `transpose` for dimension shuffling.\n",
    "\n",
    "**End of exercise**\n",
    "\n",
    "## Sorting data\n",
    "\n",
    "Sorting along an axis:"
   ]
  },
  {
   "cell_type": "code",
   "execution_count": null,
   "id": "2e0a1dcb",
   "metadata": {},
   "outputs": [],
   "source": [
    "a = np.array([[4, 3, 5], [1, 2, 1]])\n",
    "b = np.sort(a, axis=1)\n",
    "b"
   ]
  },
  {
   "cell_type": "markdown",
   "id": "152ba813",
   "metadata": {},
   "source": [
    "**Start of note**\n",
    "Sorts each row separately!\n",
    "**End of note**\n",
    "\n",
    "In-place sort:"
   ]
  },
  {
   "cell_type": "code",
   "execution_count": null,
   "id": "1ae52b31",
   "metadata": {},
   "outputs": [],
   "source": [
    "a.sort(axis=1)\n",
    "a"
   ]
  },
  {
   "cell_type": "markdown",
   "id": "e4428c23",
   "metadata": {},
   "source": [
    "Sorting with fancy indexing:"
   ]
  },
  {
   "cell_type": "code",
   "execution_count": null,
   "id": "fbc3abc9",
   "metadata": {},
   "outputs": [],
   "source": [
    "a = np.array([4, 3, 1, 2])\n",
    "j = np.argsort(a)\n",
    "j"
   ]
  },
  {
   "cell_type": "code",
   "execution_count": null,
   "id": "f74cbe57",
   "metadata": {},
   "outputs": [],
   "source": [
    "a[j]"
   ]
  },
  {
   "cell_type": "markdown",
   "id": "a455005f",
   "metadata": {},
   "source": [
    "Finding minima and maxima:"
   ]
  },
  {
   "cell_type": "code",
   "execution_count": null,
   "id": "b61ca5df",
   "metadata": {},
   "outputs": [],
   "source": [
    "a = np.array([4, 3, 1, 2])\n",
    "j_max = np.argmax(a)\n",
    "j_min = np.argmin(a)\n",
    "j_max, j_min"
   ]
  },
  {
   "cell_type": "markdown",
   "id": "f7971257",
   "metadata": {},
   "source": [
    "<!---\n",
    "XXX: need a frame for summaries\n",
    "\n",
    "* Arithmetic etc. are elementwise operations\n",
    "* Basic linear algebra, ``@``\n",
    "* Reductions: ``sum(axis=1)``, ``std()``, ``all()``, ``any()``\n",
    "* Broadcasting: ``a = np.arange(4); a[:,np.newaxis] + a[np.newaxis,:]``\n",
    "* Shape manipulation: ``a.ravel()``, ``a.reshape(2, 2)``\n",
    "* Fancy indexing: ``a[a > 3]``, ``a[[2, 3]]``\n",
    "* Sorting data: ``.sort()``, ``np.sort``, ``np.argsort``, ``np.argmax``\n",
    "-->\n",
    "\n",
    "**Start of exercise**\n",
    "\n",
    "- Try both in-place and out-of-place sorting.\n",
    "- Try creating arrays with different dtypes and sorting them.\n",
    "- Use `all` or `array_equal` to check the results.\n",
    "- Look at `np.random.shuffle` for a way to create sortable input quicker.\n",
    "- Combine `ravel`, `sort` and `reshape`.\n",
    "- Look at the `axis` keyword for `sort` and rewrite the previous\n",
    "  exercise.\n",
    "\n",
    "**End of exercise**\n",
    "\n",
    "## Summary\n",
    "\n",
    "**What do you need to know to get started?**\n",
    "\n",
    "- Know how to create arrays : `array`, `arange`, `ones`,\n",
    "  `zeros`.\n",
    "\n",
    "- Know the shape of the array with `array.shape`, then use slicing\n",
    "  to obtain different views of the array: `array[::2]`,\n",
    "  etc. Adjust the shape of the array using `reshape` or flatten it\n",
    "  with `ravel`.\n",
    "\n",
    "- Obtain a subset of the elements of an array and/or modify their values\n",
    "  with masks, with e.g.:\n",
    "\n",
    "  ```python\n",
    "  a[a < 0] = 0\n",
    "  ```\n",
    "\n",
    "- Know miscellaneous operations on arrays, such as finding the mean or max\n",
    "  (`array.max()`, `array.mean()`). No need to retain everything, but\n",
    "  have the reflex to search in the documentation (online docs,\n",
    "  `help()`)!!\n",
    "\n",
    "- For advanced use: master the indexing with arrays of integers, as well as\n",
    "  broadcasting. Know more NumPy functions to handle various array\n",
    "  operations.\n",
    "\n",
    "**Start of admonition: Quick read**\n",
    "If you want to do a first quick pass through the Scientific Python Lectures\n",
    "to learn the ecosystem, you can directly skip to the next chapter:\n",
    "{ref}`matplotlib`.\n",
    "\n",
    "The remainder of this chapter is not necessary to follow the rest of\n",
    "the intro part. But be sure to come back and finish this chapter, as\n",
    "well as to do some more {ref}`exercises <numpy-exercises>`.\n",
    "**End of admonition**"
   ]
  }
 ],
 "metadata": {
  "jupytext": {
   "formats": "ipynb,Rmd"
  },
  "kernelspec": {
   "display_name": "Python (Pyodide)",
   "name": "python"
  }
 },
 "nbformat": 4,
 "nbformat_minor": 5
}
