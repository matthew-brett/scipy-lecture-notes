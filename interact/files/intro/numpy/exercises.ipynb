{
 "cells": [
  {
   "cell_type": "markdown",
   "id": "e1ba9992",
   "metadata": {},
   "source": [
    "# Some exercises"
   ]
  },
  {
   "cell_type": "code",
   "execution_count": null,
   "id": "61297686",
   "metadata": {},
   "outputs": [],
   "source": [
    "import numpy as np\n",
    "import matplotlib.pyplot as plt"
   ]
  },
  {
   "cell_type": "markdown",
   "id": "1b175c59",
   "metadata": {},
   "source": [
    "## Array manipulations\n",
    "\n",
    "**Start of exercise**\n",
    "\n",
    "**Form the 2-D array (without typing it in explicitly)**"
   ]
  },
  {
   "cell_type": "markdown",
   "id": "834f9437",
   "metadata": {},
   "source": [
    "```python\n",
    "[[1,  6, 11],\n",
    " [2,  7, 12],\n",
    " [3,  8, 13],\n",
    " [4,  9, 14],\n",
    " [5, 10, 15]]\n",
    "```\n",
    "\n",
    "and generate a new array containing its 2nd and 4th rows.\n",
    "\n",
    "**Divide each column of the array**"
   ]
  },
  {
   "cell_type": "code",
   "execution_count": null,
   "id": "6803f5ee",
   "metadata": {},
   "outputs": [],
   "source": [
    "import numpy as np\n",
    "a = np.arange(25).reshape(5, 5)"
   ]
  },
  {
   "cell_type": "markdown",
   "id": "f5e6bb8c",
   "metadata": {},
   "source": [
    "elementwise with the array `b = np.array([1., 5, 10, 15, 20])`.\n",
    "(Hint: `np.newaxis`).\n",
    "\n",
    "**Harder one, random numbers**\n",
    "\n",
    "Generate a 10 x 3 array of random numbers (in range \\[0,1\\]). For each row, pick the number closest to 0.5.\n",
    "\n",
    "- Use `abs` and `argmin` to find the column `j` closest for\n",
    "  each row.\n",
    "- Use fancy indexing to extract the numbers. (Hint: `a[i,j]` -- the array `i`\n",
    "  must contain the row numbers corresponding to stuff in `j`.)\n",
    "\n",
    "**End of exercise**"
   ]
  },
  {
   "cell_type": "markdown",
   "id": "57afc2de",
   "metadata": {},
   "source": [
    "**See the [corresponding page](/intro/numpy/exercises.html) for solution**\n",
    "\n",
    "## Picture manipulation: Framing a Face\n",
    "\n",
    "Let's do some manipulations on NumPy arrays by starting with an image\n",
    "of a raccoon. `scipy` provides a 2D array of this image with the\n",
    "`scipy.datasets.face` function:"
   ]
  },
  {
   "cell_type": "code",
   "execution_count": null,
   "id": "21fb6a68",
   "metadata": {},
   "outputs": [],
   "source": [
    "import scipy as sp\n",
    "face = sp.datasets.face(gray=True)  # 2D grayscale image"
   ]
  },
  {
   "cell_type": "markdown",
   "id": "288cd72a",
   "metadata": {},
   "source": [
    "Here are a few images we will be able to obtain with our manipulations:\n",
    "use different colormaps, crop the image, change some parts of the image.\n",
    "\n",
    "![](images/faces.png)\n",
    "\n",
    "Let's use the `imshow` function of matplotlib to display the image."
   ]
  },
  {
   "cell_type": "code",
   "execution_count": null,
   "id": "ee798f57",
   "metadata": {},
   "outputs": [],
   "source": [
    "import matplotlib.pyplot as plt\n",
    "face = sp.datasets.face(gray=True)\n",
    "plt.imshow(face)"
   ]
  },
  {
   "cell_type": "markdown",
   "id": "bd1949b2",
   "metadata": {},
   "source": [
    "The face is displayed in false colors. A colormap must be specified for it\n",
    "to be displayed in grey."
   ]
  },
  {
   "cell_type": "code",
   "execution_count": null,
   "id": "1431ff6a",
   "metadata": {},
   "outputs": [],
   "source": [
    "plt.imshow(face, cmap=plt.cm.gray)"
   ]
  },
  {
   "cell_type": "markdown",
   "id": "74ce18f1",
   "metadata": {},
   "source": [
    "### Narrow centering\n",
    "\n",
    "Create an array of the image with a narrower centering; remove 100 pixels from\n",
    "all the borders of the image. To check the result, display this new array with\n",
    "`imshow`."
   ]
  },
  {
   "cell_type": "code",
   "execution_count": null,
   "id": "9eac4428",
   "metadata": {},
   "outputs": [],
   "source": [
    "crop_face = face[100:-100, 100:-100]"
   ]
  },
  {
   "cell_type": "markdown",
   "id": "66f88314",
   "metadata": {},
   "source": [
    "### Frame face\n",
    "\n",
    "We will now frame the face with a black locket. For this, we need to create\n",
    "a mask corresponding to the pixels we want to be black. The center of the face\n",
    "is around (660, 330), so we defined the mask by this condition `(y-300)**2\n",
    "+ (x-660)**2`"
   ]
  },
  {
   "cell_type": "code",
   "execution_count": null,
   "id": "cfd5775e",
   "metadata": {},
   "outputs": [],
   "source": [
    "sy, sx = face.shape\n",
    "y, x = np.ogrid[0:sy, 0:sx] # x and y indices of pixels\n",
    "y.shape, x.shape"
   ]
  },
  {
   "cell_type": "code",
   "execution_count": null,
   "id": "1211e040",
   "metadata": {},
   "outputs": [],
   "source": [
    "centerx, centery = (660, 300) # center of the image\n",
    "mask = ((y - centery)**2 + (x - centerx)**2) > 230**2 # circle"
   ]
  },
  {
   "cell_type": "markdown",
   "id": "5bf92b9c",
   "metadata": {},
   "source": [
    "then we assign the value 0 to the pixels of the image corresponding to the\n",
    "mask. The syntax is extremely simple and intuitive:"
   ]
  },
  {
   "cell_type": "code",
   "execution_count": null,
   "id": "86adb484",
   "metadata": {},
   "outputs": [],
   "source": [
    "face[mask] = 0\n",
    "plt.imshow(face)"
   ]
  },
  {
   "cell_type": "markdown",
   "id": "58b7f7f4",
   "metadata": {},
   "source": [
    "Follow-up:\n",
    "\n",
    "- copy all instructions of this exercise in a script called : `face_locket.py`\n",
    "  then execute this script in IPython with `%run face_locket.py`.\n",
    "- Change the circle to an ellipsoid.\n",
    "\n",
    "## Data statistics\n",
    "\n",
    "The data in {download}`populations.txt <../../data/populations.txt>`\n",
    "describes the populations of hares and lynxes (and carrots) in\n",
    "northern Canada during 20 years:"
   ]
  },
  {
   "cell_type": "code",
   "execution_count": null,
   "id": "74255ff4",
   "metadata": {},
   "outputs": [],
   "source": [
    "data = np.loadtxt('data/populations.txt')\n",
    "year, hares, lynxes, carrots = data.T  # trick: columns to variables"
   ]
  },
  {
   "cell_type": "code",
   "execution_count": null,
   "id": "bdf3547e",
   "metadata": {},
   "outputs": [],
   "source": [
    "import matplotlib.pyplot as plt\n",
    "\n",
    "plt.axes([0.2, 0.1, 0.5, 0.8])\n",
    "plt.plot(year, hares, year, lynxes, year, carrots)\n",
    "plt.legend(('Hare', 'Lynx', 'Carrot'), loc=(1.05, 0.5))"
   ]
  },
  {
   "cell_type": "markdown",
   "id": "0a256a47",
   "metadata": {},
   "source": [
    "**Start of exercise**\n",
    "\n",
    "Compute and print, based on the data in `populations.txt`...\n",
    "\n",
    "1. The mean and std of the populations of each species for the years\n",
    "   in the period.\n",
    "2. Which year each species had the largest population.\n",
    "3. Which species has the largest population for each year.\n",
    "   (Hint: `argsort` & fancy indexing of\n",
    "   `np.array(['H', 'L', 'C'])`)\n",
    "4. Which years any of the populations is above 50000.\n",
    "   (Hint: comparisons and `np.any`)\n",
    "5. The top 2 years for each species when they had the lowest\n",
    "   populations. (Hint: `argsort`, fancy indexing)\n",
    "6. Compare (plot) the change in hare population (see\n",
    "   `help(np.gradient)`) and the number of lynxes. Check correlation\n",
    "   (see `help(np.corrcoef)`).\n",
    "\n",
    "... all without for-loops.\n",
    "\n",
    "**End of exercise**"
   ]
  },
  {
   "cell_type": "markdown",
   "id": "c15d0105",
   "metadata": {},
   "source": [
    "**See the [corresponding page](/intro/numpy/exercises.html) for solution**\n",
    "\n",
    "## Crude integral approximations\n",
    "\n",
    "**Start of exercise**\n",
    "\n",
    "Write a function `f(a, b, c)` that returns $a^b - c$. Form\n",
    "a 24x12x6 array containing its values in parameter ranges `[0,1] x\n",
    "[0,1] x [0,1]`.\n",
    "\n",
    "Approximate the 3-d integral\n",
    "\n",
    "$$\n",
    "\\int_0^1\\int_0^1\\int_0^1(a^b-c)da\\,db\\,dc\n",
    "$$\n",
    "\n",
    "over this volume with the mean. The exact result is: $\\ln 2 -\n",
    "\\frac{1}{2}\\approx0.1931\\ldots$ --- what is your relative error?\n",
    "\n",
    "(Hints: use elementwise operations and broadcasting.\n",
    "You can make `np.ogrid` give a number of points in given range\n",
    "with `np.ogrid[0:1:20j]`.)\n",
    "\n",
    "**Reminder** Python functions:"
   ]
  },
  {
   "cell_type": "code",
   "execution_count": null,
   "id": "31aad9bc",
   "metadata": {},
   "outputs": [],
   "source": [
    "def f(a, b, c):\n",
    "    return some_result"
   ]
  },
  {
   "cell_type": "markdown",
   "id": "8ad41538",
   "metadata": {},
   "source": [
    "**End of exercise**"
   ]
  },
  {
   "cell_type": "markdown",
   "id": "eb05e6b4",
   "metadata": {},
   "source": [
    "**See the [corresponding page](/intro/numpy/exercises.html) for solution**\n",
    "\n",
    "## Mandelbrot set\n",
    "\n",
    "**Start of exercise**\n",
    "\n",
    "Write a script that computes the Mandelbrot fractal. The Mandelbrot\n",
    "iteration:"
   ]
  },
  {
   "cell_type": "code",
   "execution_count": null,
   "id": "620878c5",
   "metadata": {},
   "outputs": [],
   "source": [
    "N_max = 50\n",
    "some_threshold = 50\n",
    "\n",
    "c = x + 1j*y\n",
    "\n",
    "z = 0\n",
    "for j in range(N_max):\n",
    "    z = z**2 + c"
   ]
  },
  {
   "cell_type": "markdown",
   "id": "55dc716b",
   "metadata": {},
   "source": [
    "Point (x, y) belongs to the Mandelbrot set if $|z|$ \\<\n",
    "`some_threshold`.\n",
    "\n",
    "Do this computation by:"
   ]
  },
  {
   "cell_type": "code",
   "execution_count": null,
   "id": "b3e81634",
   "metadata": {
    "tags": [
     "hide-input"
    ]
   },
   "outputs": [],
   "source": [
    "mask = np.ones((3, 3))"
   ]
  },
  {
   "cell_type": "markdown",
   "id": "e9c8b493",
   "metadata": {},
   "source": [
    "1. Construct a grid of c = x + 1j\\*y values in range [-2, 1] x [-1.5, 1.5]\n",
    "2. Do the iteration\n",
    "3. Form the 2-d boolean mask indicating which points are in the set\n",
    "4. Save the result to an image with:\n",
    "\n",
    "   ```python\n",
    "   import matplotlib.pyplot as plt\n",
    "   plt.imshow(mask.T, extent=[-2, 1, -1.5, 1.5])\n",
    "   plt.gray()\n",
    "   plt.savefig('mandelbrot.png')\n",
    "   ```\n",
    "\n",
    "**End of exercise**"
   ]
  },
  {
   "cell_type": "markdown",
   "id": "bfd0ec96",
   "metadata": {},
   "source": [
    "**See the [corresponding page](/intro/numpy/exercises.html) for solution**\n",
    "\n",
    "## Markov chain\n",
    "\n",
    "![](images/markov-chain.png)\n",
    "\n",
    "**Start of exercise**\n",
    "\n",
    "Markov chain transition matrix `P`, and probability distribution on\n",
    "the states `p`:\n",
    "\n",
    "1. `0 <= P[i,j] <= 1`: probability to go from state `i` to state `j`\n",
    "2. Transition rule: $p_{new} = P^T p_{old}$\n",
    "3. `all(sum(P, axis=1) == 1)`, `p.sum() == 1`: normalization\n",
    "\n",
    "Write a script that works with 5 states, and:\n",
    "\n",
    "- Constructs a random matrix, and normalizes each row so that it\n",
    "  is a transition matrix.\n",
    "- Starts from a random (normalized) probability distribution\n",
    "  `p` and takes 50 steps => `p_50`\n",
    "- Computes the stationary distribution: the eigenvector of `P.T`\n",
    "  with eigenvalue 1 (numerically: closest to 1) => `p_stationary`\n",
    "\n",
    "  Remember to normalize the eigenvector — I didn't...\n",
    "\n",
    "- Checks if `p_50` and `p_stationary` are equal to tolerance 1e-5\n",
    "\n",
    "Toolbox: `np.random`, `@`, `np.linalg.eig`, reductions, `abs()`, `argmin`,\n",
    "comparisons, `all`, `np.linalg.norm`, etc.\n",
    "\n",
    "**End of exercise**"
   ]
  },
  {
   "cell_type": "markdown",
   "id": "45249664",
   "metadata": {},
   "source": [
    "**See the [corresponding page](/intro/numpy/exercises.html) for solution**"
   ]
  }
 ],
 "metadata": {
  "jupytext": {
   "formats": "ipynb,Rmd"
  },
  "kernelspec": {
   "display_name": "Python (Pyodide)",
   "name": "python"
  }
 },
 "nbformat": 4,
 "nbformat_minor": 5
}
