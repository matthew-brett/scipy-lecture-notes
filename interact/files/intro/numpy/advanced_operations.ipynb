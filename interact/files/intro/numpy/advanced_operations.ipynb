{
 "cells": [
  {
   "cell_type": "markdown",
   "id": "dda78852",
   "metadata": {},
   "source": [
    "# Advanced operations\n",
    "\n",
    "## Polynomials\n",
    "\n",
    "NumPy also contains polynomials in different bases:\n",
    "\n",
    "For example, $3x^2 + 2x - 1$:"
   ]
  },
  {
   "cell_type": "code",
   "execution_count": null,
   "id": "5eb07dcd",
   "metadata": {},
   "outputs": [],
   "source": [
    "import numpy as np\n",
    "import matplotlib.pyplot as plt"
   ]
  },
  {
   "cell_type": "code",
   "execution_count": null,
   "id": "36786fee",
   "metadata": {},
   "outputs": [],
   "source": [
    "p = np.poly1d([3, 2, -1])\n",
    "p(0)"
   ]
  },
  {
   "cell_type": "code",
   "execution_count": null,
   "id": "9e96b46e",
   "metadata": {},
   "outputs": [],
   "source": [
    "p.roots"
   ]
  },
  {
   "cell_type": "code",
   "execution_count": null,
   "id": "d98dd967",
   "metadata": {},
   "outputs": [],
   "source": [
    "p.order"
   ]
  },
  {
   "cell_type": "code",
   "execution_count": null,
   "id": "dbe1ed55",
   "metadata": {},
   "outputs": [],
   "source": [
    "x = np.linspace(0, 1, 20)\n",
    "rng = np.random.default_rng()\n",
    "y = np.cos(x) + 0.3*rng.random(20)\n",
    "p = np.poly1d(np.polyfit(x, y, 3))\n",
    "\n",
    "t = np.linspace(0, 1, 200) # use a larger number of points for smoother plotting\n",
    "plt.plot(x, y, 'o', t, p(t), '-');"
   ]
  },
  {
   "cell_type": "markdown",
   "id": "da2f458b",
   "metadata": {},
   "source": [
    "See <https://numpy.org/doc/stable/reference/routines.polynomials.poly1d.html>\n",
    "for more.\n",
    "\n",
    "### More polynomials (with more bases)\n",
    "\n",
    "NumPy also has a more sophisticated polynomial interface, which supports\n",
    "e.g. the Chebyshev basis.\n",
    "\n",
    "$3x^2 + 2x - 1$:"
   ]
  },
  {
   "cell_type": "code",
   "execution_count": null,
   "id": "3ab8932a",
   "metadata": {},
   "outputs": [],
   "source": [
    "p = np.polynomial.Polynomial([-1, 2, 3]) # coefs in different order!\n",
    "p(0)"
   ]
  },
  {
   "cell_type": "code",
   "execution_count": null,
   "id": "90207262",
   "metadata": {},
   "outputs": [],
   "source": [
    "p.roots()"
   ]
  },
  {
   "cell_type": "code",
   "execution_count": null,
   "id": "a2ce7e8c",
   "metadata": {},
   "outputs": [],
   "source": [
    "p.degree()  # In general polynomials do not always expose 'order'"
   ]
  },
  {
   "cell_type": "markdown",
   "id": "9d6e3fda",
   "metadata": {},
   "source": [
    "Example using polynomials in Chebyshev basis, for polynomials in\n",
    "range `[-1, 1]`:"
   ]
  },
  {
   "cell_type": "code",
   "execution_count": null,
   "id": "79a00d54",
   "metadata": {},
   "outputs": [],
   "source": [
    "x = np.linspace(-1, 1, 2000)\n",
    "rng = np.random.default_rng()\n",
    "y = np.cos(x) + 0.3*rng.random(2000)\n",
    "p = np.polynomial.Chebyshev.fit(x, y, 90)"
   ]
  },
  {
   "cell_type": "code",
   "execution_count": null,
   "id": "a9482780",
   "metadata": {},
   "outputs": [],
   "source": [
    "plt.plot(x, y, 'r.')\n",
    "plt.plot(x, p(x), 'k-', lw=3)"
   ]
  },
  {
   "cell_type": "markdown",
   "id": "e825c8a4",
   "metadata": {},
   "source": [
    "The Chebyshev polynomials have some advantages in interpolation."
   ]
  },
  {
   "cell_type": "markdown",
   "id": "15556dfe",
   "metadata": {},
   "source": [
    "## Loading data files\n",
    "\n",
    "### Text files\n",
    "\n",
    "Example: {download}`populations.txt <data/populations.txt>`."
   ]
  },
  {
   "cell_type": "code",
   "execution_count": null,
   "id": "9b32f724",
   "metadata": {},
   "outputs": [],
   "source": [
    "data = np.loadtxt('data/populations.txt')\n",
    "data"
   ]
  },
  {
   "cell_type": "code",
   "execution_count": null,
   "id": "91a9d451",
   "metadata": {},
   "outputs": [],
   "source": [
    "np.savetxt('pop2.txt', data)\n",
    "data2 = np.loadtxt('pop2.txt')"
   ]
  },
  {
   "cell_type": "markdown",
   "id": "9adc3929",
   "metadata": {},
   "source": [
    "**Start of note**\n",
    "If you have a complicated text file, what you can try are:\n",
    "\n",
    "- `np.genfromtxt`\n",
    "- Using Python's I/O functions and e.g. regexps for parsing\n",
    "  (Python is quite well suited for this)\n",
    "**End of note**\n",
    "\n",
    "### Reminder: Navigating the filesystem with Jupyter and IPython\n",
    "\n",
    "Show current directory:"
   ]
  },
  {
   "cell_type": "code",
   "execution_count": null,
   "id": "ab3b2c25",
   "metadata": {},
   "outputs": [],
   "source": [
    "pwd"
   ]
  },
  {
   "cell_type": "markdown",
   "id": "2dee0173",
   "metadata": {},
   "source": [
    "Change to `data` subdirectory:"
   ]
  },
  {
   "cell_type": "code",
   "execution_count": null,
   "id": "87f54f13",
   "metadata": {},
   "outputs": [],
   "source": [
    "cd data"
   ]
  },
  {
   "cell_type": "markdown",
   "id": "800d1236",
   "metadata": {},
   "source": [
    "Show filesystem listing for current directory:"
   ]
  },
  {
   "cell_type": "code",
   "execution_count": null,
   "id": "e0228fbc",
   "metadata": {},
   "outputs": [],
   "source": [
    "ls"
   ]
  },
  {
   "cell_type": "markdown",
   "id": "54c33444",
   "metadata": {},
   "source": [
    "Change back to containing directory."
   ]
  },
  {
   "cell_type": "code",
   "execution_count": null,
   "id": "e42097eb",
   "metadata": {},
   "outputs": [],
   "source": [
    "cd .."
   ]
  },
  {
   "cell_type": "markdown",
   "id": "559778bb",
   "metadata": {},
   "source": [
    "### Images\n",
    "\n",
    "Using Matplotlib:"
   ]
  },
  {
   "cell_type": "code",
   "execution_count": null,
   "id": "14e9ecef",
   "metadata": {},
   "outputs": [],
   "source": [
    "img = plt.imread('data/elephant.png')\n",
    "img.shape, img.dtype"
   ]
  },
  {
   "cell_type": "code",
   "execution_count": null,
   "id": "9a593825",
   "metadata": {},
   "outputs": [],
   "source": [
    "# Plot and save the original figure\n",
    "plt.imshow(img)\n",
    "plt.savefig('plot.png')"
   ]
  },
  {
   "cell_type": "code",
   "execution_count": null,
   "id": "811aad0c",
   "metadata": {},
   "outputs": [],
   "source": [
    "# Plot and save the red channel of the image.\n",
    "plt.imsave('red_elephant.png', img[:,:,0], cmap=plt.cm.gray)"
   ]
  },
  {
   "cell_type": "markdown",
   "id": "f0cbcb4b",
   "metadata": {},
   "source": [
    "This saved only one channel (of RGB):"
   ]
  },
  {
   "cell_type": "code",
   "execution_count": null,
   "id": "1f50e2f8",
   "metadata": {},
   "outputs": [],
   "source": [
    "plt.imshow(plt.imread('red_elephant.png'))"
   ]
  },
  {
   "cell_type": "markdown",
   "id": "3a5cc094",
   "metadata": {},
   "source": [
    "Other libraries:"
   ]
  },
  {
   "cell_type": "code",
   "execution_count": null,
   "id": "0a6b72da",
   "metadata": {},
   "outputs": [],
   "source": [
    "import imageio.v3 as iio\n",
    "\n",
    "# Lower resolution (every sixth pixel in each dimension).\n",
    "iio.imwrite('tiny_elephant.png', (img[::6,::6] * 255).astype(np.uint8))\n",
    "plt.imshow(plt.imread('tiny_elephant.png'), interpolation='nearest')"
   ]
  },
  {
   "cell_type": "markdown",
   "id": "21dea775",
   "metadata": {},
   "source": [
    "### NumPy's own format\n",
    "\n",
    "NumPy has its own binary format, not portable but with efficient I/O:"
   ]
  },
  {
   "cell_type": "code",
   "execution_count": null,
   "id": "87e90fdd",
   "metadata": {},
   "outputs": [],
   "source": [
    "data = np.ones((3, 3))\n",
    "np.save('pop.npy', data)\n",
    "data3 = np.load('pop.npy')"
   ]
  },
  {
   "cell_type": "markdown",
   "id": "a5567188",
   "metadata": {},
   "source": [
    "### Well-known (& more obscure) file formats\n",
    "\n",
    "- HDF5: [h5py](https://www.h5py.org/), [PyTables](https://www.pytables.org)\n",
    "- NetCDF: `scipy.io.netcdf_file`, [netcdf4-python](https://code.google.com/archive/p/netcdf4-python), ...\n",
    "- Matlab: `scipy.io.loadmat`, `scipy.io.savemat`\n",
    "- MatrixMarket: `scipy.io.mmread`, `scipy.io.mmwrite`\n",
    "- IDL: `scipy.io.readsav`\n",
    "\n",
    "... if somebody uses it, there's probably also a Python library for it.\n",
    "\n",
    "**Start of exercise**\n",
    "\n",
    "Write code that loads data from {download}`populations.txt\n",
    "<data/populations.txt>`: and drops the last column and the first 5 rows. Save\n",
    "the smaller dataset to `pop2.txt`.\n",
    "\n",
    "**End of exercise**"
   ]
  },
  {
   "cell_type": "markdown",
   "id": "961e92ac",
   "metadata": {},
   "source": [
    "**See the [corresponding page](/scipy-lecture-notes/intro/numpy/advanced_operations.html) for solution**\n",
    "\n",
    "<!---\n",
    "loadtxt, savez, load, fromfile, tofile\n",
    "-->\n",
    "<!---\n",
    "real life: point to HDF5, NetCDF, etc.\n",
    "-->\n",
    "<!---\n",
    "EXE: use loadtxt to load a data file\n",
    "-->\n",
    "<!---\n",
    "EXE: use savez and load to save data in binary format\n",
    "-->\n",
    "<!---\n",
    "EXE: use tofile and fromfile to put and get binary data bytes in/from a file\n",
    "follow-up: .view()\n",
    "-->\n",
    "<!---\n",
    "EXE: parsing text files -- Python can do this reasonably well natively!\n",
    "throw in the mix some random text file to be parsed (eg. PPM)\n",
    "-->\n",
    "<!---\n",
    "EXE: advanced: read the data in a PPM file\n",
    "-->\n",
    "**Start of admonition: NumPy internals**\n",
    "If you are interested in the NumPy internals, there is a good discussion in\n",
    "{ref}`advanced-numpy`.\n",
    "**End of admonition**"
   ]
  }
 ],
 "metadata": {
  "jupytext": {
   "formats": "ipynb,Rmd"
  },
  "kernelspec": {
   "display_name": "Python (Pyodide)",
   "name": "python"
  }
 },
 "nbformat": 4,
 "nbformat_minor": 5
}
