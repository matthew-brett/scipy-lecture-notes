{
 "cells": [
  {
   "cell_type": "markdown",
   "id": "bd2bb52b",
   "metadata": {},
   "source": [
    "# Advanced operations\n",
    "\n",
    "## Polynomials\n",
    "\n",
    "NumPy also contains polynomials in different bases:\n",
    "\n",
    "For example, $3x^2 + 2x - 1$:"
   ]
  },
  {
   "cell_type": "code",
   "execution_count": null,
   "id": "c48b093c",
   "metadata": {},
   "outputs": [],
   "source": [
    "import numpy as np\n",
    "import matplotlib.pyplot as plt"
   ]
  },
  {
   "cell_type": "code",
   "execution_count": null,
   "id": "2668e07c",
   "metadata": {},
   "outputs": [],
   "source": [
    "p = np.poly1d([3, 2, -1])\n",
    "p(0)"
   ]
  },
  {
   "cell_type": "code",
   "execution_count": null,
   "id": "963ac4f2",
   "metadata": {},
   "outputs": [],
   "source": [
    "p.roots"
   ]
  },
  {
   "cell_type": "code",
   "execution_count": null,
   "id": "e4155d0e",
   "metadata": {},
   "outputs": [],
   "source": [
    "p.order"
   ]
  },
  {
   "cell_type": "code",
   "execution_count": null,
   "id": "11f307a4",
   "metadata": {},
   "outputs": [],
   "source": [
    "x = np.linspace(0, 1, 20)\n",
    "rng = np.random.default_rng()\n",
    "y = np.cos(x) + 0.3*rng.random(20)\n",
    "p = np.poly1d(np.polyfit(x, y, 3))\n",
    "\n",
    "t = np.linspace(0, 1, 200) # use a larger number of points for smoother plotting\n",
    "plt.plot(x, y, 'o', t, p(t), '-');"
   ]
  },
  {
   "cell_type": "markdown",
   "id": "e2b80426",
   "metadata": {},
   "source": [
    "See <https://numpy.org/doc/stable/reference/routines.polynomials.poly1d.html>\n",
    "for more.\n",
    "\n",
    "### More polynomials (with more bases)\n",
    "\n",
    "NumPy also has a more sophisticated polynomial interface, which supports\n",
    "e.g. the Chebyshev basis.\n",
    "\n",
    "$3x^2 + 2x - 1$:"
   ]
  },
  {
   "cell_type": "code",
   "execution_count": null,
   "id": "d5a3a871",
   "metadata": {},
   "outputs": [],
   "source": [
    "p = np.polynomial.Polynomial([-1, 2, 3]) # coefs in different order!\n",
    "p(0)"
   ]
  },
  {
   "cell_type": "code",
   "execution_count": null,
   "id": "ce63ff48",
   "metadata": {},
   "outputs": [],
   "source": [
    "p.roots()"
   ]
  },
  {
   "cell_type": "code",
   "execution_count": null,
   "id": "5b32d9c5",
   "metadata": {},
   "outputs": [],
   "source": [
    "p.degree()  # In general polynomials do not always expose 'order'"
   ]
  },
  {
   "cell_type": "markdown",
   "id": "2b862d62",
   "metadata": {},
   "source": [
    "Example using polynomials in Chebyshev basis, for polynomials in\n",
    "range `[-1, 1]`:"
   ]
  },
  {
   "cell_type": "code",
   "execution_count": null,
   "id": "e64f40b8",
   "metadata": {},
   "outputs": [],
   "source": [
    "x = np.linspace(-1, 1, 2000)\n",
    "rng = np.random.default_rng()\n",
    "y = np.cos(x) + 0.3*rng.random(2000)\n",
    "p = np.polynomial.Chebyshev.fit(x, y, 90)"
   ]
  },
  {
   "cell_type": "code",
   "execution_count": null,
   "id": "9b06d97c",
   "metadata": {},
   "outputs": [],
   "source": [
    "plt.plot(x, y, 'r.')\n",
    "plt.plot(x, p(x), 'k-', lw=3)"
   ]
  },
  {
   "cell_type": "markdown",
   "id": "438da74d",
   "metadata": {},
   "source": [
    "The Chebyshev polynomials have some advantages in interpolation."
   ]
  },
  {
   "cell_type": "markdown",
   "id": "1e7399c8",
   "metadata": {},
   "source": [
    "## Loading data files\n",
    "\n",
    "### Text files\n",
    "\n",
    "Example: {download}`populations.txt <data/populations.txt>`."
   ]
  },
  {
   "cell_type": "code",
   "execution_count": null,
   "id": "820fc754",
   "metadata": {},
   "outputs": [],
   "source": [
    "data = np.loadtxt('data/populations.txt')\n",
    "data"
   ]
  },
  {
   "cell_type": "code",
   "execution_count": null,
   "id": "f22e05c6",
   "metadata": {},
   "outputs": [],
   "source": [
    "np.savetxt('pop2.txt', data)\n",
    "data2 = np.loadtxt('pop2.txt')"
   ]
  },
  {
   "cell_type": "markdown",
   "id": "c9521f36",
   "metadata": {},
   "source": [
    "**Start of note**\n",
    "If you have a complicated text file, what you can try are:\n",
    "\n",
    "- `np.genfromtxt`\n",
    "- Using Python's I/O functions and e.g. regexps for parsing\n",
    "  (Python is quite well suited for this)\n",
    "**End of note**\n",
    "\n",
    "### Reminder: Navigating the filesystem with Jupyter and IPython\n",
    "\n",
    "Show current directory:"
   ]
  },
  {
   "cell_type": "code",
   "execution_count": null,
   "id": "9d5f4a53",
   "metadata": {},
   "outputs": [],
   "source": [
    "pwd"
   ]
  },
  {
   "cell_type": "markdown",
   "id": "c1a30a6e",
   "metadata": {},
   "source": [
    "Change to `data` subdirectory:"
   ]
  },
  {
   "cell_type": "code",
   "execution_count": null,
   "id": "436fb126",
   "metadata": {},
   "outputs": [],
   "source": [
    "cd data"
   ]
  },
  {
   "cell_type": "markdown",
   "id": "4179cbf6",
   "metadata": {},
   "source": [
    "Show filesystem listing for current directory:"
   ]
  },
  {
   "cell_type": "code",
   "execution_count": null,
   "id": "0625ba1e",
   "metadata": {},
   "outputs": [],
   "source": [
    "ls"
   ]
  },
  {
   "cell_type": "markdown",
   "id": "b27032fa",
   "metadata": {},
   "source": [
    "Change back to containing directory."
   ]
  },
  {
   "cell_type": "code",
   "execution_count": null,
   "id": "9b204927",
   "metadata": {},
   "outputs": [],
   "source": [
    "cd .."
   ]
  },
  {
   "cell_type": "markdown",
   "id": "a46829a9",
   "metadata": {},
   "source": [
    "### Images\n",
    "\n",
    "Using Matplotlib:"
   ]
  },
  {
   "cell_type": "code",
   "execution_count": null,
   "id": "229adad6",
   "metadata": {},
   "outputs": [],
   "source": [
    "img = plt.imread('data/elephant.png')\n",
    "img.shape, img.dtype"
   ]
  },
  {
   "cell_type": "code",
   "execution_count": null,
   "id": "67a86582",
   "metadata": {},
   "outputs": [],
   "source": [
    "# Plot and save the original figure\n",
    "plt.imshow(img)\n",
    "plt.savefig('plot.png')"
   ]
  },
  {
   "cell_type": "code",
   "execution_count": null,
   "id": "0d5f451f",
   "metadata": {},
   "outputs": [],
   "source": [
    "# Plot and save the red channel of the image.\n",
    "plt.imsave('red_elephant.png', img[:,:,0], cmap=plt.cm.gray)"
   ]
  },
  {
   "cell_type": "markdown",
   "id": "f670c02b",
   "metadata": {},
   "source": [
    "This saved only one channel (of RGB):"
   ]
  },
  {
   "cell_type": "code",
   "execution_count": null,
   "id": "17061ab2",
   "metadata": {},
   "outputs": [],
   "source": [
    "plt.imshow(plt.imread('red_elephant.png'))"
   ]
  },
  {
   "cell_type": "markdown",
   "id": "c3329469",
   "metadata": {},
   "source": [
    "Other libraries:"
   ]
  },
  {
   "cell_type": "code",
   "execution_count": null,
   "id": "52887e1b",
   "metadata": {},
   "outputs": [],
   "source": [
    "import imageio.v3 as iio\n",
    "\n",
    "# Lower resolution (every sixth pixel in each dimension).\n",
    "iio.imwrite('tiny_elephant.png', (img[::6,::6] * 255).astype(np.uint8))\n",
    "plt.imshow(plt.imread('tiny_elephant.png'), interpolation='nearest')"
   ]
  },
  {
   "cell_type": "markdown",
   "id": "ceeeeef6",
   "metadata": {},
   "source": [
    "### NumPy's own format\n",
    "\n",
    "NumPy has its own binary format, not portable but with efficient I/O:"
   ]
  },
  {
   "cell_type": "code",
   "execution_count": null,
   "id": "f4410704",
   "metadata": {},
   "outputs": [],
   "source": [
    "data = np.ones((3, 3))\n",
    "np.save('pop.npy', data)\n",
    "data3 = np.load('pop.npy')"
   ]
  },
  {
   "cell_type": "markdown",
   "id": "a24dbc58",
   "metadata": {},
   "source": [
    "### Well-known (& more obscure) file formats\n",
    "\n",
    "- HDF5: [h5py](https://www.h5py.org/), [PyTables](https://www.pytables.org)\n",
    "- NetCDF: `scipy.io.netcdf_file`, [netcdf4-python](https://code.google.com/archive/p/netcdf4-python), ...\n",
    "- Matlab: `scipy.io.loadmat`, `scipy.io.savemat`\n",
    "- MatrixMarket: `scipy.io.mmread`, `scipy.io.mmwrite`\n",
    "- IDL: `scipy.io.readsav`\n",
    "\n",
    "... if somebody uses it, there's probably also a Python library for it.\n",
    "\n",
    "**Start of admonition: Exercise: Text data files**\n",
    ":class: green\n",
    "\n",
    "Write a Python script that loads data from {download}`populations.txt\n",
    "<data/populations.txt>`:: and drop the last column and the first\n",
    "5 rows. Save the smaller dataset to `pop2.txt`.\n",
    "**End of admonition**\n",
    "\n",
    "<!---\n",
    "loadtxt, savez, load, fromfile, tofile\n",
    "-->\n",
    "<!---\n",
    "real life: point to HDF5, NetCDF, etc.\n",
    "-->\n",
    "<!---\n",
    "EXE: use loadtxt to load a data file\n",
    "-->\n",
    "<!---\n",
    "EXE: use savez and load to save data in binary format\n",
    "-->\n",
    "<!---\n",
    "EXE: use tofile and fromfile to put and get binary data bytes in/from a file\n",
    "follow-up: .view()\n",
    "-->\n",
    "<!---\n",
    "EXE: parsing text files -- Python can do this reasonably well natively!\n",
    "throw in the mix some random text file to be parsed (eg. PPM)\n",
    "-->\n",
    "<!---\n",
    "EXE: advanced: read the data in a PPM file\n",
    "-->\n",
    "**Start of admonition: NumPy internals**\n",
    "If you are interested in the NumPy internals, there is a good discussion in\n",
    "{ref}`advanced-numpy`.\n",
    "**End of admonition**"
   ]
  }
 ],
 "metadata": {
  "jupytext": {
   "formats": "ipynb,Rmd"
  },
  "kernelspec": {
   "display_name": "Python (Pyodide)",
   "name": "python"
  }
 },
 "nbformat": 4,
 "nbformat_minor": 5
}
