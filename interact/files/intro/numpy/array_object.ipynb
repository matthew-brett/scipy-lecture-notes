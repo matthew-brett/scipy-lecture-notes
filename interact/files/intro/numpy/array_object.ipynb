{
 "cells": [
  {
   "cell_type": "markdown",
   "id": "5eb99462",
   "metadata": {},
   "source": [
    "# The NumPy array object"
   ]
  },
  {
   "cell_type": "code",
   "execution_count": null,
   "id": "acdf46a7",
   "metadata": {
    "tags": [
     "hide-input"
    ]
   },
   "outputs": [],
   "source": [
    "# Our usual import.\n",
    "import numpy as np"
   ]
  },
  {
   "cell_type": "markdown",
   "id": "b8527d3d",
   "metadata": {},
   "source": [
    "## What are NumPy and NumPy arrays?\n",
    "\n",
    "### NumPy arrays"
   ]
  },
  {
   "cell_type": "markdown",
   "id": "48c7f745",
   "metadata": {},
   "source": [
    "**NumPy** provides:\n",
    "\n",
    "- An extension package to Python for multi-dimensional arrays.\n",
    "- An implementation that is closer to hardware (efficiency).\n",
    "- Package designed for scientific computation (convenience).\n",
    "- An implementation of _array oriented computing_."
   ]
  },
  {
   "cell_type": "code",
   "execution_count": null,
   "id": "b596c99f",
   "metadata": {},
   "outputs": [],
   "source": [
    "import numpy as np\n",
    "\n",
    "a = np.array([0, 1, 2, 3])\n",
    "a"
   ]
  },
  {
   "cell_type": "markdown",
   "id": "6985cbd9",
   "metadata": {},
   "source": [
    "::: {note}\n",
    ":class: dropdown\n",
    "\n",
    "For example, An array containing:\n",
    "\n",
    "- values of an experiment/simulation at discrete time steps\n",
    "\n",
    "- signal recorded by a measurement device, e.g. sound wave\n",
    "\n",
    "- pixels of an image, grey-level or colour\n",
    "\n",
    "- 3-D data measured at different X-Y-Z positions, e.g. MRI scan\n",
    "\n",
    "- ...\n",
    "  :::\n",
    "\n",
    "**Why it is useful:** Memory-efficient container that provides fast numerical\n",
    "operations."
   ]
  },
  {
   "cell_type": "code",
   "execution_count": null,
   "id": "f3af9162",
   "metadata": {},
   "outputs": [],
   "source": [
    "L = range(1000)\n",
    "%timeit [i**2 for i in L]"
   ]
  },
  {
   "cell_type": "code",
   "execution_count": null,
   "id": "b3f0151f",
   "metadata": {},
   "outputs": [],
   "source": [
    "a = np.arange(1000)\n",
    "%timeit a**2"
   ]
  },
  {
   "cell_type": "markdown",
   "id": "91abaa0d",
   "metadata": {},
   "source": [
    "<!---\n",
    "extension package to Python to support multidimensional arrays\n",
    "-->\n",
    "<!---\n",
    "diagram, import conventions\n",
    "-->\n",
    "<!---\n",
    "scope of this tutorial: drill in features of array manipulation in\n",
    "Python, and try to give some indication on how to get things done\n",
    "in good style\n",
    "-->\n",
    "<!---\n",
    "a fixed number of elements (cf. certain exceptions)\n",
    "-->\n",
    "<!---\n",
    "each element of same size and type\n",
    "-->\n",
    "<!---\n",
    "efficiency vs. Python lists\n",
    "-->\n",
    "\n",
    "### NumPy Reference documentation\n",
    "\n",
    "**On the web**:\n",
    "\n",
    "<https://numpy.org/doc/>\n",
    "\n",
    "**Interactive help:**\n",
    "\n",
    "```ipython\n",
    "In [5]: np.array?\n",
    "String Form:<built-in function array>\n",
    "Docstring:\n",
    "array(object, dtype=None, copy=True, order=None, subok=False, ndmin=0, ...\n",
    "```\n",
    "\n",
    "You can also use the Python builtin `help` command to show the docstring for a function:"
   ]
  },
  {
   "cell_type": "code",
   "execution_count": null,
   "id": "f860721a",
   "metadata": {},
   "outputs": [],
   "source": [
    "help(np.array)"
   ]
  },
  {
   "cell_type": "markdown",
   "id": "960aef4f",
   "metadata": {},
   "source": [
    "#### Looking for something:\n",
    "\n",
    "```ipython\n",
    "In [6]: np.con*?\n",
    "np.concatenate\n",
    "np.conj\n",
    "np.conjugate\n",
    "np.convolve\n",
    "```\n",
    "\n",
    "### Import conventions\n",
    "\n",
    "The recommended convention to import NumPy is:"
   ]
  },
  {
   "cell_type": "code",
   "execution_count": null,
   "id": "e7e516cf",
   "metadata": {},
   "outputs": [],
   "source": [
    "import numpy as np"
   ]
  },
  {
   "cell_type": "markdown",
   "id": "c59319f3",
   "metadata": {},
   "source": [
    "## Creating arrays\n",
    "\n",
    "### Manual construction of arrays\n",
    "\n",
    "- **1-D**:"
   ]
  },
  {
   "cell_type": "code",
   "execution_count": null,
   "id": "e7ea8e7d",
   "metadata": {},
   "outputs": [],
   "source": [
    "a = np.array([0, 1, 2, 3])\n",
    "a"
   ]
  },
  {
   "cell_type": "code",
   "execution_count": null,
   "id": "b2d8b0eb",
   "metadata": {},
   "outputs": [],
   "source": [
    "a.ndim"
   ]
  },
  {
   "cell_type": "code",
   "execution_count": null,
   "id": "b35e8fc9",
   "metadata": {},
   "outputs": [],
   "source": [
    "a.shape"
   ]
  },
  {
   "cell_type": "code",
   "execution_count": null,
   "id": "a51d28df",
   "metadata": {},
   "outputs": [],
   "source": [
    "len(a)"
   ]
  },
  {
   "cell_type": "markdown",
   "id": "6266d3af",
   "metadata": {},
   "source": [
    "- **2-D, 3-D, ...**:"
   ]
  },
  {
   "cell_type": "code",
   "execution_count": null,
   "id": "cf5676ce",
   "metadata": {},
   "outputs": [],
   "source": [
    "b = np.array([[0, 1, 2], [3, 4, 5]])    # 2 x 3 array\n",
    "b"
   ]
  },
  {
   "cell_type": "code",
   "execution_count": null,
   "id": "93fa4249",
   "metadata": {},
   "outputs": [],
   "source": [
    "b.ndim"
   ]
  },
  {
   "cell_type": "code",
   "execution_count": null,
   "id": "c037a5aa",
   "metadata": {},
   "outputs": [],
   "source": [
    "b.shape"
   ]
  },
  {
   "cell_type": "code",
   "execution_count": null,
   "id": "fa3d8548",
   "metadata": {},
   "outputs": [],
   "source": [
    "len(b)     # returns the size of the first dimension"
   ]
  },
  {
   "cell_type": "code",
   "execution_count": null,
   "id": "3dce00c4",
   "metadata": {},
   "outputs": [],
   "source": [
    "c = np.array([[[1], [2]], [[3], [4]]])\n",
    "c"
   ]
  },
  {
   "cell_type": "code",
   "execution_count": null,
   "id": "c3393831",
   "metadata": {},
   "outputs": [],
   "source": [
    "c.shape"
   ]
  },
  {
   "cell_type": "markdown",
   "id": "546e3c5b",
   "metadata": {},
   "source": [
    "**Start of exercise**\n",
    "\n",
    "- Create a simple two dimensional array. First, redo the examples\n",
    "  from above. And then create your own: how about odd numbers\n",
    "  counting backwards on the first row, and even numbers on the second?\n",
    "- Use the functions {func}`len`, {func}`numpy.shape` on these arrays.\n",
    "  How do they relate to each other? And to the `ndim` attribute of\n",
    "  the arrays?\n",
    "\n",
    "**End of exercise**"
   ]
  },
  {
   "cell_type": "markdown",
   "id": "01be68e0",
   "metadata": {},
   "source": [
    "### Functions for creating arrays\n",
    "\n",
    "::: {note}\n",
    ":class: dropdown\n",
    "\n",
    "In practice, we rarely enter items one by one...\n",
    ":::\n",
    "\n",
    "**Evenly spaced**:"
   ]
  },
  {
   "cell_type": "code",
   "execution_count": null,
   "id": "3fda2424",
   "metadata": {},
   "outputs": [],
   "source": [
    "a = np.arange(10) # 0 .. n-1  (!)\n",
    "a"
   ]
  },
  {
   "cell_type": "code",
   "execution_count": null,
   "id": "e2d9c8b0",
   "metadata": {},
   "outputs": [],
   "source": [
    "b = np.arange(1, 9, 2) # start, end (exclusive), step\n",
    "b"
   ]
  },
  {
   "cell_type": "markdown",
   "id": "d0b9ffa7",
   "metadata": {},
   "source": [
    "— or **by number of points**"
   ]
  },
  {
   "cell_type": "code",
   "execution_count": null,
   "id": "ad434ddd",
   "metadata": {},
   "outputs": [],
   "source": [
    "c = np.linspace(0, 1, 6)   # start, end, num-points\n",
    "c"
   ]
  },
  {
   "cell_type": "code",
   "execution_count": null,
   "id": "160b6847",
   "metadata": {},
   "outputs": [],
   "source": [
    "d = np.linspace(0, 1, 5, endpoint=False)\n",
    "d"
   ]
  },
  {
   "cell_type": "markdown",
   "id": "85b7e03c",
   "metadata": {},
   "source": [
    "**Common arrays**"
   ]
  },
  {
   "cell_type": "code",
   "execution_count": null,
   "id": "d584580a",
   "metadata": {},
   "outputs": [],
   "source": [
    "a = np.ones((3, 3))  # reminder: (3, 3) is a tuple\n",
    "a"
   ]
  },
  {
   "cell_type": "code",
   "execution_count": null,
   "id": "f3a72954",
   "metadata": {},
   "outputs": [],
   "source": [
    "b = np.zeros((2, 2))\n",
    "b"
   ]
  },
  {
   "cell_type": "code",
   "execution_count": null,
   "id": "4ea03de6",
   "metadata": {},
   "outputs": [],
   "source": [
    "c = np.eye(3)\n",
    "c"
   ]
  },
  {
   "cell_type": "code",
   "execution_count": null,
   "id": "0d28818f",
   "metadata": {},
   "outputs": [],
   "source": [
    "d = np.diag(np.array([1, 2, 3, 4]))\n",
    "d"
   ]
  },
  {
   "cell_type": "markdown",
   "id": "50561215",
   "metadata": {},
   "source": [
    "- {mod}`numpy.random`: random numbers (Mersenne Twister PRNG):"
   ]
  },
  {
   "cell_type": "code",
   "execution_count": null,
   "id": "21af3227",
   "metadata": {},
   "outputs": [],
   "source": [
    "rng = np.random.default_rng(27446968)\n",
    "a = rng.random(4)       # uniform in [0, 1]\n",
    "a"
   ]
  },
  {
   "cell_type": "code",
   "execution_count": null,
   "id": "7efb7453",
   "metadata": {},
   "outputs": [],
   "source": [
    "b = rng.standard_normal(4)      # Gaussian\n",
    "b"
   ]
  },
  {
   "cell_type": "markdown",
   "id": "696c237a",
   "metadata": {},
   "source": [
    "**Start of exercise**\n",
    "\n",
    "- Experiment with `arange`, `linspace`, `ones`, `zeros`, `eye` and\n",
    "  `diag`.\n",
    "- Create different kinds of arrays with random numbers.\n",
    "- Try setting the seed before creating an array with random values.\n",
    "- Look at the function `np.empty`. What does it do? When might this be\n",
    "  useful?\n",
    "\n",
    "**End of exercise**\n",
    "\n",
    "- construct an array containing: 1 2 3 4 5\n",
    "- construct an array containing: -5, -4, -3, -2, -1\n",
    "- Construct: 2 4 6 8\n",
    "- Construct 15 equispaced numbers in range [0, 10]\n",
    "\n",
    "**End of exercise**\n",
    "\n",
    "\n",
    "**See the [corresponding page](/scipy-lecture-notes/intro/numpy/array_object.html) for solution**"
   ]
  },
  {
   "cell_type": "markdown",
   "id": "6bb9ea27",
   "metadata": {},
   "source": [
    "## Basic data types\n",
    "\n",
    "You may have noticed that, in some instances, array elements are displayed with\n",
    "a trailing dot (e.g. `2.` vs `2`). This is due to a difference in the\n",
    "data-type used:"
   ]
  },
  {
   "cell_type": "code",
   "execution_count": null,
   "id": "c57000ed",
   "metadata": {},
   "outputs": [],
   "source": [
    "a = np.array([1, 2, 3])\n",
    "a.dtype"
   ]
  },
  {
   "cell_type": "code",
   "execution_count": null,
   "id": "22c34e1b",
   "metadata": {},
   "outputs": [],
   "source": [
    "b = np.array([1., 2., 3.])\n",
    "b.dtype"
   ]
  },
  {
   "cell_type": "markdown",
   "id": "d0181ba9",
   "metadata": {},
   "source": [
    "::: {note}\n",
    ":class: dropdown\n",
    "\n",
    "Different data-types allow us to store data more compactly in memory,\n",
    "but most of the time we simply work with floating point numbers.\n",
    "Note that, in the example above, NumPy auto-detects the data-type\n",
    "from the input.\n",
    ":::\n",
    "\n",
    "You can explicitly specify which data-type you want:"
   ]
  },
  {
   "cell_type": "code",
   "execution_count": null,
   "id": "a43a2fc6",
   "metadata": {},
   "outputs": [],
   "source": [
    "c = np.array([1, 2, 3], dtype=float)\n",
    "c.dtype"
   ]
  },
  {
   "cell_type": "markdown",
   "id": "6c1d4731",
   "metadata": {},
   "source": [
    "The **default** data type is floating point:"
   ]
  },
  {
   "cell_type": "code",
   "execution_count": null,
   "id": "428876b7",
   "metadata": {},
   "outputs": [],
   "source": [
    "a = np.ones((3, 3))\n",
    "a.dtype"
   ]
  },
  {
   "cell_type": "markdown",
   "id": "5046a9a7",
   "metadata": {},
   "source": [
    "There are also other types:"
   ]
  },
  {
   "cell_type": "markdown",
   "id": "3c4b8414",
   "metadata": {},
   "source": [
    "## Bool"
   ]
  },
  {
   "cell_type": "code",
   "execution_count": null,
   "id": "ced791fc",
   "metadata": {},
   "outputs": [],
   "source": [
    "e = np.array([True, False, False, True])\n",
    "e.dtype"
   ]
  },
  {
   "cell_type": "markdown",
   "id": "f3a21f2d",
   "metadata": {},
   "source": [
    "## Strings"
   ]
  },
  {
   "cell_type": "code",
   "execution_count": null,
   "id": "df05333a",
   "metadata": {},
   "outputs": [],
   "source": [
    "f = np.array(['Bonjour', 'Hello', 'Hallo'])\n",
    "f.dtype     # <--- strings containing max. 7 letters"
   ]
  },
  {
   "cell_type": "markdown",
   "id": "62fb5146",
   "metadata": {},
   "source": [
    "## Much more:\n",
    "\n",
    "- `int32`\n",
    "- `int64`\n",
    "- `uint32`\n",
    "- `uint64`\n",
    "- ...\n",
    "\n",
    "<!---\n",
    "XXX: mention: astype\n",
    "-->\n",
    "\n",
    "## Basic visualization\n",
    "\n",
    "Now that we have our first data arrays, we are going to visualize them.\n",
    "\n",
    "Start by launching IPython:\n",
    "\n",
    "```bash\n",
    "$ ipython # or ipython3 depending on your install\n",
    "```\n",
    "\n",
    "Or the notebook:\n",
    "\n",
    "```bash\n",
    "$ jupyter notebook\n",
    "```\n",
    "\n",
    "If you are using IPython enable interactive plots with:"
   ]
  },
  {
   "cell_type": "code",
   "execution_count": null,
   "id": "f1013d4a",
   "metadata": {},
   "outputs": [],
   "source": [
    "%matplotlib"
   ]
  },
  {
   "cell_type": "markdown",
   "id": "bc1cc1d9",
   "metadata": {},
   "source": [
    "Interactive plots are enabled automatically in the Jupyter Notebook.\n",
    "\n",
    "_Matplotlib_ is a 2D plotting package. We can import its functions as below:"
   ]
  },
  {
   "cell_type": "code",
   "execution_count": null,
   "id": "b56f53a9",
   "metadata": {},
   "outputs": [],
   "source": [
    "import matplotlib.pyplot as plt  # the tidy way"
   ]
  },
  {
   "cell_type": "markdown",
   "id": "fe15892a",
   "metadata": {},
   "source": [
    "And then use (note that you have to use `show` explicitly if you have not enabled interactive plots with `%matplotlib`):"
   ]
  },
  {
   "cell_type": "code",
   "execution_count": null,
   "id": "bf23b0aa",
   "metadata": {},
   "outputs": [],
   "source": [
    "# Example data\n",
    "x = np.linspace(0, 2 * np.pi)\n",
    "y = np.cos(x)\n",
    "\n",
    "plt.plot(x, y)       # line plot\n",
    "plt.show()           # <-- shows the plot (not needed with interactive plots)"
   ]
  },
  {
   "cell_type": "markdown",
   "id": "03631e5b",
   "metadata": {},
   "source": [
    "Or, if you have enabled interactive plots with `%matplotlib`:"
   ]
  },
  {
   "cell_type": "code",
   "execution_count": null,
   "id": "050d58d0",
   "metadata": {},
   "outputs": [],
   "source": [
    "plt.plot(x, y)       # line plot"
   ]
  },
  {
   "cell_type": "markdown",
   "id": "810fb7f6",
   "metadata": {},
   "source": [
    "- **1D plotting**:"
   ]
  },
  {
   "cell_type": "code",
   "execution_count": null,
   "id": "b1a63263",
   "metadata": {},
   "outputs": [],
   "source": [
    "x = np.linspace(0, 3, 20)\n",
    "y = np.linspace(0, 9, 20)\n",
    "plt.plot(x, y)       # line plot"
   ]
  },
  {
   "cell_type": "code",
   "execution_count": null,
   "id": "320436db",
   "metadata": {},
   "outputs": [],
   "source": [
    "plt.plot(x, y, 'o')  # dot plot"
   ]
  },
  {
   "cell_type": "markdown",
   "id": "633db2d7",
   "metadata": {},
   "source": [
    "- **2D arrays** (such as images):"
   ]
  },
  {
   "cell_type": "code",
   "execution_count": null,
   "id": "3adf58cc",
   "metadata": {},
   "outputs": [],
   "source": [
    "rng = np.random.default_rng(27446968)\n",
    "image = rng.random((30, 30))\n",
    "plt.imshow(image, cmap=plt.cm.hot)\n",
    "plt.colorbar()"
   ]
  },
  {
   "cell_type": "markdown",
   "id": "380e3627",
   "metadata": {},
   "source": [
    ":::{admonition} See also\n",
    "\n",
    "More in the: {ref}`matplotlib chapter <matplotlib>`\n",
    ":::\n",
    "\n",
    "**Start of exercise**\n",
    "\n",
    "- Plot some simple arrays: a cosine as a function of time and a 2D\n",
    "  matrix.\n",
    "- Try using the `gray` colormap on the 2D matrix.\n",
    "\n",
    "**End of exercise**"
   ]
  },
  {
   "cell_type": "markdown",
   "id": "82e54f2a",
   "metadata": {},
   "source": [
    "## Indexing and slicing\n",
    "\n",
    "The items of an array can be accessed and assigned to the same way as\n",
    "other Python sequences (e.g. lists):"
   ]
  },
  {
   "cell_type": "code",
   "execution_count": null,
   "id": "2299ae71",
   "metadata": {},
   "outputs": [],
   "source": [
    "a = np.arange(10)\n",
    "a"
   ]
  },
  {
   "cell_type": "code",
   "execution_count": null,
   "id": "d2db538c",
   "metadata": {},
   "outputs": [],
   "source": [
    "a[0], a[2], a[-1]"
   ]
  },
  {
   "cell_type": "markdown",
   "id": "c6f55d72",
   "metadata": {},
   "source": [
    ":::{warning}\n",
    "Indices begin at 0, like other Python sequences (and C/C++).\n",
    "In contrast, in Fortran or Matlab, indices begin at 1.\n",
    ":::\n",
    "\n",
    "The usual python idiom for reversing a sequence is supported:"
   ]
  },
  {
   "cell_type": "code",
   "execution_count": null,
   "id": "36d9aac5",
   "metadata": {},
   "outputs": [],
   "source": [
    "a[::-1]"
   ]
  },
  {
   "cell_type": "markdown",
   "id": "5c5797a8",
   "metadata": {},
   "source": [
    "For multidimensional arrays, indices are tuples of integers:"
   ]
  },
  {
   "cell_type": "code",
   "execution_count": null,
   "id": "10100ff5",
   "metadata": {},
   "outputs": [],
   "source": [
    "a = np.diag(np.arange(3))\n",
    "a"
   ]
  },
  {
   "cell_type": "code",
   "execution_count": null,
   "id": "879f0083",
   "metadata": {},
   "outputs": [],
   "source": [
    "a[1, 1]"
   ]
  },
  {
   "cell_type": "code",
   "execution_count": null,
   "id": "31808aea",
   "metadata": {},
   "outputs": [],
   "source": [
    "a[2, 1] = 10 # third line, second column\n",
    "a"
   ]
  },
  {
   "cell_type": "code",
   "execution_count": null,
   "id": "5f74e304",
   "metadata": {},
   "outputs": [],
   "source": [
    "a[1]"
   ]
  },
  {
   "cell_type": "markdown",
   "id": "fa79541c",
   "metadata": {},
   "source": [
    ":::{note}\n",
    "\n",
    "- In 2D, the first dimension corresponds to **rows**, the second\n",
    "  to **columns**.\n",
    "- for multidimensional `a`, `a[0]` is interpreted by\n",
    "  taking all elements in the unspecified dimensions.\n",
    "  :::\n",
    "\n",
    "**Slicing**: Arrays, like other Python sequences can also be sliced:"
   ]
  },
  {
   "cell_type": "code",
   "execution_count": null,
   "id": "d29781f4",
   "metadata": {},
   "outputs": [],
   "source": [
    "a = np.arange(10)\n",
    "a"
   ]
  },
  {
   "cell_type": "code",
   "execution_count": null,
   "id": "a6c10daf",
   "metadata": {},
   "outputs": [],
   "source": [
    "a[2:9:3] # [start:end:step]"
   ]
  },
  {
   "cell_type": "markdown",
   "id": "f32efddc",
   "metadata": {},
   "source": [
    "Note that the last index is not included! :"
   ]
  },
  {
   "cell_type": "code",
   "execution_count": null,
   "id": "36209dc0",
   "metadata": {},
   "outputs": [],
   "source": [
    "a[:4]"
   ]
  },
  {
   "cell_type": "markdown",
   "id": "e4d4a4cb",
   "metadata": {},
   "source": [
    "All three slice components are not required: by default, `start` is 0,\n",
    "`end` is the last and `step` is 1:"
   ]
  },
  {
   "cell_type": "code",
   "execution_count": null,
   "id": "bd9bc255",
   "metadata": {},
   "outputs": [],
   "source": [
    "a[1:3]"
   ]
  },
  {
   "cell_type": "code",
   "execution_count": null,
   "id": "6264ee9c",
   "metadata": {},
   "outputs": [],
   "source": [
    "a[::2]"
   ]
  },
  {
   "cell_type": "code",
   "execution_count": null,
   "id": "83144d1f",
   "metadata": {},
   "outputs": [],
   "source": [
    "a[3:]"
   ]
  },
  {
   "cell_type": "markdown",
   "id": "3004e86c",
   "metadata": {},
   "source": [
    "A small illustrated summary of NumPy indexing and slicing...\n",
    "\n",
    "![](../../pyximages/numpy_indexing.png)\n",
    "\n",
    "You can also combine assignment and slicing:"
   ]
  },
  {
   "cell_type": "code",
   "execution_count": null,
   "id": "57f74d49",
   "metadata": {},
   "outputs": [],
   "source": [
    "a = np.arange(10)\n",
    "a[5:] = 10\n",
    "a"
   ]
  },
  {
   "cell_type": "code",
   "execution_count": null,
   "id": "7ffcd48f",
   "metadata": {},
   "outputs": [],
   "source": [
    "b = np.arange(5)\n",
    "a[5:] = b[::-1]\n",
    "a"
   ]
  },
  {
   "cell_type": "markdown",
   "id": "241bb2b3",
   "metadata": {},
   "source": [
    "**Start of exercise**\n",
    "\n",
    "- Try the different flavours of slicing, using `start`, `end` and\n",
    "  `step`: starting from a linspace, try to obtain odd numbers\n",
    "  counting backwards, and even numbers counting forwards.\n",
    "- Reproduce the slices in the diagram above. You may\n",
    "  use the following expression to create the array:\n",
    "\n",
    "```python\n",
    "np.arange(6) + np.arange(0, 51, 10)[:, np.newaxis]\n",
    "```\n",
    "\n",
    "**End of exercise**\n",
    "\n",
    "An exercise on array creation.\n",
    "\n",
    "Create the following arrays (with correct data types):\n",
    "\n",
    "```python\n",
    "[[1, 1, 1, 1],\n",
    " [1, 1, 1, 1],\n",
    " [1, 1, 1, 2],\n",
    " [1, 6, 1, 1]]\n",
    "\n",
    "[[0., 0., 0., 0., 0.],\n",
    " [2., 0., 0., 0., 0.],\n",
    " [0., 3., 0., 0., 0.],\n",
    " [0., 0., 4., 0., 0.],\n",
    " [0., 0., 0., 5., 0.],\n",
    " [0., 0., 0., 0., 6.]]\n",
    "```\n",
    "\n",
    "Par on course: 3 statements for each.\n",
    "\n",
    "_Hint_: Individual array elements can be accessed similarly to a list,\n",
    "e.g. `a[1]` or `a[1, 2]`.\n",
    "\n",
    "_Hint_: Examine the docstring for `diag`.\n",
    "\n",
    "**End of exercise**\n",
    "\n",
    "\n",
    "**See the [corresponding page](/scipy-lecture-notes/intro/numpy/array_object.html) for solution**\n",
    "\n",
    "Exercise on tiling for array creation.\n",
    "\n",
    "Skim through the documentation for `np.tile`, and use this function\n",
    "to construct the array:\n",
    "\n",
    "```python\n",
    "[[4, 3, 4, 3, 4, 3],\n",
    " [2, 1, 2, 1, 2, 1],\n",
    " [4, 3, 4, 3, 4, 3],\n",
    " [2, 1, 2, 1, 2, 1]]\n",
    "```\n",
    "\n",
    "**End of exercise**\n",
    "\n",
    "\n",
    "**See the [corresponding page](/scipy-lecture-notes/intro/numpy/array_object.html) for solution**"
   ]
  },
  {
   "cell_type": "markdown",
   "id": "6d7cb590",
   "metadata": {},
   "source": [
    "## Copies and views\n",
    "\n",
    "A slicing operation creates a **view** on the original array, which is\n",
    "just a way of accessing array data. Thus the original array is not\n",
    "copied in memory. You can use `np.may_share_memory()` to check if two arrays\n",
    "share the same memory block. Note however, that this uses heuristics and may\n",
    "give you false positives.\n",
    "\n",
    "**When modifying the view, the original array is modified as well**:"
   ]
  },
  {
   "cell_type": "code",
   "execution_count": null,
   "id": "b4404d04",
   "metadata": {},
   "outputs": [],
   "source": [
    "a = np.arange(10)\n",
    "a"
   ]
  },
  {
   "cell_type": "code",
   "execution_count": null,
   "id": "2cbb04b8",
   "metadata": {},
   "outputs": [],
   "source": [
    "b = a[::2]\n",
    "b"
   ]
  },
  {
   "cell_type": "code",
   "execution_count": null,
   "id": "4c0f3d47",
   "metadata": {},
   "outputs": [],
   "source": [
    "np.may_share_memory(a, b)"
   ]
  },
  {
   "cell_type": "code",
   "execution_count": null,
   "id": "8abef277",
   "metadata": {},
   "outputs": [],
   "source": [
    "b[0] = 12\n",
    "b"
   ]
  },
  {
   "cell_type": "code",
   "execution_count": null,
   "id": "8a862cb9",
   "metadata": {},
   "outputs": [],
   "source": [
    "a   # (!)"
   ]
  },
  {
   "cell_type": "code",
   "execution_count": null,
   "id": "a0b9e615",
   "metadata": {},
   "outputs": [],
   "source": [
    "a = np.arange(10)\n",
    "c = a[::2].copy()  # force a copy\n",
    "c[0] = 12\n",
    "a"
   ]
  },
  {
   "cell_type": "code",
   "execution_count": null,
   "id": "72eb64e8",
   "metadata": {},
   "outputs": [],
   "source": [
    "np.may_share_memory(a, c)"
   ]
  },
  {
   "cell_type": "markdown",
   "id": "647dea60",
   "metadata": {},
   "source": [
    "This behavior can be surprising at first sight... but it allows to save both\n",
    "memory and time.\n",
    "\n",
    "<!---\n",
    "EXE: [1, 2, 3, 4, 5] -> [1, 2, 3]\n",
    "-->\n",
    "<!---\n",
    "EXE: [1, 2, 3, 4, 5] -> [4, 5]\n",
    "-->\n",
    "<!---\n",
    "EXE: [1, 2, 3, 4, 5] -> [1, 3, 5]\n",
    "-->\n",
    "<!---\n",
    "EXE: [1, 2, 3, 4, 5] -> [2, 4]\n",
    "-->\n",
    "<!---\n",
    "EXE: create an array [1, 1, 1, 1, 0, 0, 0]\n",
    "-->\n",
    "<!---\n",
    "EXE: create an array [0, 0, 0, 0, 1, 1, 1]\n",
    "-->\n",
    "<!---\n",
    "EXE: create an array [0, 1, 0, 1, 0, 1, 0]\n",
    "-->\n",
    "<!---\n",
    "EXE: create an array [1, 0, 1, 0, 1, 0, 1]\n",
    "-->\n",
    "<!---\n",
    "EXE: create an array [1, 0, 2, 0, 3, 0, 4]\n",
    "-->\n",
    "<!---\n",
    "CHA: archimedean sieve\n",
    "-->\n",
    "\n",
    "### Worked example: Prime number sieve\n",
    "\n",
    "![](images/prime-sieve.png)\n",
    "\n",
    "Compute prime numbers in 0--99, with a sieve\n",
    "\n",
    "First — construct a shape (100,) boolean array `is_prime`, filled with True in\n",
    "the beginning:"
   ]
  },
  {
   "cell_type": "code",
   "execution_count": null,
   "id": "c06465f5",
   "metadata": {},
   "outputs": [],
   "source": [
    "is_prime = np.ones((100,), dtype=bool)"
   ]
  },
  {
   "cell_type": "markdown",
   "id": "0248a142",
   "metadata": {},
   "source": [
    "Next, cross out 0 and 1 which are not primes:"
   ]
  },
  {
   "cell_type": "code",
   "execution_count": null,
   "id": "f5906116",
   "metadata": {},
   "outputs": [],
   "source": [
    "is_prime[:2] = 0"
   ]
  },
  {
   "cell_type": "markdown",
   "id": "d92decc8",
   "metadata": {},
   "source": [
    "For each integer `j` starting from 2, cross out its higher multiples:"
   ]
  },
  {
   "cell_type": "code",
   "execution_count": null,
   "id": "bde8423c",
   "metadata": {},
   "outputs": [],
   "source": [
    "N_max = int(np.sqrt(len(is_prime) - 1))\n",
    "for j in range(2, N_max + 1):\n",
    "    is_prime[2*j::j] = False"
   ]
  },
  {
   "cell_type": "markdown",
   "id": "90a7cbb9",
   "metadata": {},
   "source": [
    "Skim through `help(np.nonzero)`, and print the prime numbers\n",
    "\n",
    "- Follow-up:\n",
    "\n",
    "  - Move the above code into a script file named `prime_sieve.py`\n",
    "  - Run it to check it works\n",
    "  - Use the optimization suggested in [the sieve of Eratosthenes](https://en.wikipedia.org/wiki/Sieve_of_Eratosthenes):\n",
    "\n",
    "  > 1. Skip `j` which are already known to not be primes\n",
    "  > 2. The first number to cross out is $j^2$"
   ]
  },
  {
   "cell_type": "markdown",
   "id": "440eb833",
   "metadata": {},
   "source": [
    "## Fancy indexing\n",
    "\n",
    "::: {note}\n",
    ":class: dropdown\n",
    "\n",
    "NumPy arrays can be indexed with slices, but also with boolean or\n",
    "integer arrays (**masks**). This method is called _fancy indexing_.\n",
    "It creates **copies not views**.\n",
    ":::\n",
    "\n",
    "### Using boolean masks"
   ]
  },
  {
   "cell_type": "code",
   "execution_count": null,
   "id": "0a92d660",
   "metadata": {},
   "outputs": [],
   "source": [
    "rng = np.random.default_rng(27446968)\n",
    "a = rng.integers(0, 21, 15)\n",
    "a"
   ]
  },
  {
   "cell_type": "code",
   "execution_count": null,
   "id": "01cfd798",
   "metadata": {},
   "outputs": [],
   "source": [
    "(a % 3 == 0)"
   ]
  },
  {
   "cell_type": "code",
   "execution_count": null,
   "id": "155690fe",
   "metadata": {},
   "outputs": [],
   "source": [
    "mask = (a % 3 == 0)\n",
    "extract_from_a = a[mask] # or,  a[a%3==0]\n",
    "extract_from_a           # extract a sub-array with the mask"
   ]
  },
  {
   "cell_type": "markdown",
   "id": "7ff22ca5",
   "metadata": {},
   "source": [
    "Indexing with a mask can be very useful to assign a new value to a sub-array:"
   ]
  },
  {
   "cell_type": "code",
   "execution_count": null,
   "id": "5145961c",
   "metadata": {},
   "outputs": [],
   "source": [
    "a[a % 3 == 0] = -1\n",
    "a"
   ]
  },
  {
   "cell_type": "markdown",
   "id": "5b1bd88c",
   "metadata": {},
   "source": [
    "### Indexing with an array of integers"
   ]
  },
  {
   "cell_type": "code",
   "execution_count": null,
   "id": "d6e5cd70",
   "metadata": {},
   "outputs": [],
   "source": [
    "a = np.arange(0, 100, 10)\n",
    "a"
   ]
  },
  {
   "cell_type": "markdown",
   "id": "36e7a943",
   "metadata": {},
   "source": [
    "Indexing can be done with an array of integers, where the same index is repeated\n",
    "several time:"
   ]
  },
  {
   "cell_type": "code",
   "execution_count": null,
   "id": "0333db5b",
   "metadata": {},
   "outputs": [],
   "source": [
    "a[[2, 3, 2, 4, 2]]  # note: [2, 3, 2, 4, 2] is a Python list"
   ]
  },
  {
   "cell_type": "markdown",
   "id": "97a4acdd",
   "metadata": {},
   "source": [
    "New values can be assigned with this kind of indexing:"
   ]
  },
  {
   "cell_type": "code",
   "execution_count": null,
   "id": "e6596485",
   "metadata": {},
   "outputs": [],
   "source": [
    "a[[9, 7]] = -100\n",
    "a"
   ]
  },
  {
   "cell_type": "markdown",
   "id": "a262c502",
   "metadata": {},
   "source": [
    "**Tip**\n",
    "\n",
    "When a new array is created by indexing with an array of integers, the\n",
    "new array has the same shape as the array of integers:"
   ]
  },
  {
   "cell_type": "code",
   "execution_count": null,
   "id": "fa1cee11",
   "metadata": {},
   "outputs": [],
   "source": [
    "a = np.arange(10)\n",
    "idx = np.array([[3, 4], [9, 7]])\n",
    "idx.shape"
   ]
  },
  {
   "cell_type": "code",
   "execution_count": null,
   "id": "e92c4fc5",
   "metadata": {},
   "outputs": [],
   "source": [
    "a[idx]"
   ]
  },
  {
   "cell_type": "markdown",
   "id": "8e7d172b",
   "metadata": {},
   "source": [
    "---\n",
    "\n",
    "The image below illustrates various fancy indexing applications\n",
    "\n",
    "![](../../pyximages/numpy_fancy_indexing.png)\n",
    "\n",
    "**Start of exercise**\n",
    "\n",
    "- Again, reproduce the fancy indexing shown in the diagram above.\n",
    "- Use fancy indexing on the left and array creation on the right to assign\n",
    "  values into an array, for instance by setting parts of the array in\n",
    "  the diagram above to zero.\n",
    "\n",
    "**End of exercise**\n",
    "\n",
    "We can even use fancy indexing and {ref}`broadcasting <broadcasting>` at\n",
    "the same time:"
   ]
  },
  {
   "cell_type": "code",
   "execution_count": null,
   "id": "ffa9c10a",
   "metadata": {},
   "outputs": [],
   "source": [
    "a = np.arange(12).reshape(3,4)\n",
    "a"
   ]
  },
  {
   "cell_type": "code",
   "execution_count": null,
   "id": "0f75b711",
   "metadata": {},
   "outputs": [],
   "source": [
    "i = np.array([[0, 1], [1, 2]])\n",
    "a[i, 2]  # same as a[i, 2 * np.ones((2, 2), dtype=int)]"
   ]
  }
 ],
 "metadata": {
  "kernelspec": {
   "display_name": "Python (Pyodide)",
   "name": "python"
  }
 },
 "nbformat": 4,
 "nbformat_minor": 5
}
