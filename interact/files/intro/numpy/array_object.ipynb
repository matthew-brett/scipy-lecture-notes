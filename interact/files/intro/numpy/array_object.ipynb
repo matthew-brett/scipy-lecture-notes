{
 "cells": [
  {
   "cell_type": "markdown",
   "id": "4d96c6e2",
   "metadata": {},
   "source": [
    "# The NumPy array object"
   ]
  },
  {
   "cell_type": "code",
   "execution_count": null,
   "id": "c51feb80",
   "metadata": {
    "tags": [
     "hide-input"
    ]
   },
   "outputs": [],
   "source": [
    "# Our usual import.\n",
    "import numpy as np"
   ]
  },
  {
   "cell_type": "markdown",
   "id": "f6d32421",
   "metadata": {},
   "source": [
    "## What are NumPy and NumPy arrays?\n",
    "\n",
    "### NumPy arrays"
   ]
  },
  {
   "cell_type": "markdown",
   "id": "3ba327a9",
   "metadata": {},
   "source": [
    "**NumPy** provides:\n",
    "\n",
    "- An extension package to Python for multi-dimensional arrays.\n",
    "- An implementation that is closer to hardware (efficiency).\n",
    "- Package designed for scientific computation (convenience).\n",
    "- An implementation of *array oriented computing*.\n"
   ]
  },
  {
   "cell_type": "code",
   "execution_count": null,
   "id": "b251a0de",
   "metadata": {},
   "outputs": [],
   "source": [
    "import numpy as np\n",
    "\n",
    "a = np.array([0, 1, 2, 3])\n",
    "a"
   ]
  },
  {
   "cell_type": "markdown",
   "id": "09bf848e",
   "metadata": {},
   "source": [
    "**Start of note**\n",
    ":class: dropdown\n",
    "\n",
    "For example, An array containing:\n",
    "\n",
    "- values of an experiment/simulation at discrete time steps\n",
    "\n",
    "- signal recorded by a measurement device, e.g. sound wave\n",
    "\n",
    "- pixels of an image, grey-level or colour\n",
    "\n",
    "- 3-D data measured at different X-Y-Z positions, e.g. MRI scan\n",
    "\n",
    "- ...\n",
    "**End of note**\n",
    "\n",
    "**Why it is useful:** Memory-efficient container that provides fast numerical\n",
    "operations."
   ]
  },
  {
   "cell_type": "code",
   "execution_count": null,
   "id": "09b6b825",
   "metadata": {},
   "outputs": [],
   "source": [
    "L = range(1000)\n",
    "%timeit [i**2 for i in L]"
   ]
  },
  {
   "cell_type": "code",
   "execution_count": null,
   "id": "e034e775",
   "metadata": {},
   "outputs": [],
   "source": [
    "a = np.arange(1000)\n",
    "%timeit a**2"
   ]
  },
  {
   "cell_type": "markdown",
   "id": "59c8a8af",
   "metadata": {},
   "source": [
    "<!---\n",
    "extension package to Python to support multidimensional arrays\n",
    "-->\n",
    "<!---\n",
    "diagram, import conventions\n",
    "-->\n",
    "<!---\n",
    "scope of this tutorial: drill in features of array manipulation in\n",
    "Python, and try to give some indication on how to get things done\n",
    "in good style\n",
    "-->\n",
    "<!---\n",
    "a fixed number of elements (cf. certain exceptions)\n",
    "-->\n",
    "<!---\n",
    "each element of same size and type\n",
    "-->\n",
    "<!---\n",
    "efficiency vs. Python lists\n",
    "-->\n",
    "### NumPy Reference documentation\n",
    "\n",
    "**On the web**:\n",
    "\n",
    "<https://numpy.org/doc/>\n",
    "\n",
    "**Interactive help:**\n",
    "\n",
    "```ipython\n",
    "In [5]: np.array?\n",
    "String Form:<built-in function array>\n",
    "Docstring:\n",
    "array(object, dtype=None, copy=True, order=None, subok=False, ndmin=0, ...\n",
    "```\n",
    "\n",
    "You can also use the Python builtin `help` command to show the docstring for a function:"
   ]
  },
  {
   "cell_type": "code",
   "execution_count": null,
   "id": "e04264e6",
   "metadata": {},
   "outputs": [],
   "source": [
    "help(np.array)"
   ]
  },
  {
   "cell_type": "markdown",
   "id": "a9cc38e0",
   "metadata": {},
   "source": [
    "#### Looking for something:\n",
    "\n",
    "```ipython\n",
    "In [6]: np.con*?\n",
    "np.concatenate\n",
    "np.conj\n",
    "np.conjugate\n",
    "np.convolve\n",
    "```\n",
    "\n",
    "### Import conventions\n",
    "\n",
    "The recommended convention to import NumPy is:"
   ]
  },
  {
   "cell_type": "code",
   "execution_count": null,
   "id": "9269e59e",
   "metadata": {},
   "outputs": [],
   "source": [
    "import numpy as np"
   ]
  },
  {
   "cell_type": "markdown",
   "id": "fba27ec1",
   "metadata": {},
   "source": [
    "## Creating arrays\n",
    "\n",
    "### Manual construction of arrays\n",
    "\n",
    "- **1-D**:"
   ]
  },
  {
   "cell_type": "code",
   "execution_count": null,
   "id": "5e14def1",
   "metadata": {},
   "outputs": [],
   "source": [
    "a = np.array([0, 1, 2, 3])\n",
    "a"
   ]
  },
  {
   "cell_type": "code",
   "execution_count": null,
   "id": "3d660d8d",
   "metadata": {},
   "outputs": [],
   "source": [
    "a.ndim"
   ]
  },
  {
   "cell_type": "code",
   "execution_count": null,
   "id": "6a90905b",
   "metadata": {},
   "outputs": [],
   "source": [
    "a.shape"
   ]
  },
  {
   "cell_type": "code",
   "execution_count": null,
   "id": "cca62470",
   "metadata": {},
   "outputs": [],
   "source": [
    "len(a)"
   ]
  },
  {
   "cell_type": "markdown",
   "id": "1d8b5e70",
   "metadata": {},
   "source": [
    "- **2-D, 3-D, ...**:"
   ]
  },
  {
   "cell_type": "code",
   "execution_count": null,
   "id": "dfcfc873",
   "metadata": {},
   "outputs": [],
   "source": [
    "b = np.array([[0, 1, 2], [3, 4, 5]])    # 2 x 3 array\n",
    "b"
   ]
  },
  {
   "cell_type": "code",
   "execution_count": null,
   "id": "34992604",
   "metadata": {},
   "outputs": [],
   "source": [
    "b.ndim"
   ]
  },
  {
   "cell_type": "code",
   "execution_count": null,
   "id": "72c71bda",
   "metadata": {},
   "outputs": [],
   "source": [
    "b.shape"
   ]
  },
  {
   "cell_type": "code",
   "execution_count": null,
   "id": "665ff6d2",
   "metadata": {},
   "outputs": [],
   "source": [
    "len(b)     # returns the size of the first dimension"
   ]
  },
  {
   "cell_type": "code",
   "execution_count": null,
   "id": "783aee94",
   "metadata": {},
   "outputs": [],
   "source": [
    "c = np.array([[[1], [2]], [[3], [4]]])\n",
    "c"
   ]
  },
  {
   "cell_type": "code",
   "execution_count": null,
   "id": "f8d0d189",
   "metadata": {},
   "outputs": [],
   "source": [
    "c.shape"
   ]
  },
  {
   "cell_type": "markdown",
   "id": "802284fb",
   "metadata": {},
   "source": [
    "**Start of exercise**\n",
    "\n",
    "- Create a simple two dimensional array. First, redo the examples\n",
    "  from above. And then create your own: how about odd numbers\n",
    "  counting backwards on the first row, and even numbers on the second?\n",
    "- Use the functions {func}`len`, {func}`numpy.shape` on these arrays.\n",
    "  How do they relate to each other? And to the `ndim` attribute of\n",
    "  the arrays?\n",
    "\n",
    "**End of exercise**\n",
    "\n",
    "### Functions for creating arrays\n",
    "\n",
    "**Start of note**\n",
    ":class: dropdown\n",
    "\n",
    "In practice, we rarely enter items one by one...\n",
    "**End of note**\n",
    "\n",
    "**Evenly spaced**:"
   ]
  },
  {
   "cell_type": "code",
   "execution_count": null,
   "id": "4c3cd4ad",
   "metadata": {},
   "outputs": [],
   "source": [
    "a = np.arange(10) # 0 .. n-1  (!)\n",
    "a"
   ]
  },
  {
   "cell_type": "code",
   "execution_count": null,
   "id": "5f79534a",
   "metadata": {},
   "outputs": [],
   "source": [
    "b = np.arange(1, 9, 2) # start, end (exclusive), step\n",
    "b"
   ]
  },
  {
   "cell_type": "markdown",
   "id": "da0c4883",
   "metadata": {},
   "source": [
    "— or **by number of points**"
   ]
  },
  {
   "cell_type": "code",
   "execution_count": null,
   "id": "3f37fecb",
   "metadata": {},
   "outputs": [],
   "source": [
    "c = np.linspace(0, 1, 6)   # start, end, num-points\n",
    "c"
   ]
  },
  {
   "cell_type": "code",
   "execution_count": null,
   "id": "e109a590",
   "metadata": {},
   "outputs": [],
   "source": [
    "d = np.linspace(0, 1, 5, endpoint=False)\n",
    "d"
   ]
  },
  {
   "cell_type": "markdown",
   "id": "77c0303d",
   "metadata": {},
   "source": [
    "**Common arrays**"
   ]
  },
  {
   "cell_type": "code",
   "execution_count": null,
   "id": "894ee6e3",
   "metadata": {},
   "outputs": [],
   "source": [
    "a = np.ones((3, 3))  # reminder: (3, 3) is a tuple\n",
    "a"
   ]
  },
  {
   "cell_type": "code",
   "execution_count": null,
   "id": "82dd82fd",
   "metadata": {},
   "outputs": [],
   "source": [
    "b = np.zeros((2, 2))\n",
    "b"
   ]
  },
  {
   "cell_type": "code",
   "execution_count": null,
   "id": "f8a4b36b",
   "metadata": {},
   "outputs": [],
   "source": [
    "c = np.eye(3)\n",
    "c"
   ]
  },
  {
   "cell_type": "code",
   "execution_count": null,
   "id": "bf5ebb8b",
   "metadata": {},
   "outputs": [],
   "source": [
    "d = np.diag(np.array([1, 2, 3, 4]))\n",
    "d"
   ]
  },
  {
   "cell_type": "markdown",
   "id": "df6ebf07",
   "metadata": {},
   "source": [
    "- {mod}`numpy.random`: random numbers (Mersenne Twister PRNG):"
   ]
  },
  {
   "cell_type": "code",
   "execution_count": null,
   "id": "71f564bf",
   "metadata": {},
   "outputs": [],
   "source": [
    "rng = np.random.default_rng(27446968)\n",
    "a = rng.random(4)       # uniform in [0, 1]\n",
    "a"
   ]
  },
  {
   "cell_type": "code",
   "execution_count": null,
   "id": "0b80b22c",
   "metadata": {},
   "outputs": [],
   "source": [
    "b = rng.standard_normal(4)      # Gaussian\n",
    "b"
   ]
  },
  {
   "cell_type": "markdown",
   "id": "2b6bb6af",
   "metadata": {},
   "source": [
    "**Start of exercise**\n",
    "\n",
    "- Experiment with `arange`, `linspace`, `ones`, `zeros`, `eye` and\n",
    "  `diag`.\n",
    "- Create different kinds of arrays with random numbers.\n",
    "- Try setting the seed before creating an array with random values.\n",
    "- Look at the function `np.empty`. What does it do? When might this be\n",
    "  useful?\n",
    "\n",
    "**End of exercise**\n",
    "\n",
    "- construct an array containing: 1 2 3 4 5\n",
    "- construct an array containing: -5, -4, -3, -2, -1\n",
    "- Construct: 2 4 6 8\n",
    "- Construct 15 equispaced numbers in range [0, 10]\n",
    "\n",
    "**End of exercise**"
   ]
  },
  {
   "cell_type": "markdown",
   "id": "6c25ad23",
   "metadata": {},
   "source": [
    "**See the [corresponding page](/scipy-lecture-notes/intro/numpy/array_object.html) for solution**\n",
    "\n",
    "## Basic data types\n",
    "\n",
    "You may have noticed that, in some instances, array elements are displayed with\n",
    "a trailing dot (e.g. `2.` vs `2`). This is due to a difference in the\n",
    "data-type used:"
   ]
  },
  {
   "cell_type": "code",
   "execution_count": null,
   "id": "d59d7a09",
   "metadata": {},
   "outputs": [],
   "source": [
    "a = np.array([1, 2, 3])\n",
    "a.dtype"
   ]
  },
  {
   "cell_type": "code",
   "execution_count": null,
   "id": "3f0b90b2",
   "metadata": {},
   "outputs": [],
   "source": [
    "b = np.array([1., 2., 3.])\n",
    "b.dtype"
   ]
  },
  {
   "cell_type": "markdown",
   "id": "20e33044",
   "metadata": {},
   "source": [
    "**Start of note**\n",
    ":class: dropdown\n",
    "\n",
    "Different data-types allow us to store data more compactly in memory,\n",
    "but most of the time we simply work with floating point numbers.\n",
    "Note that, in the example above, NumPy auto-detects the data-type\n",
    "from the input.\n",
    "**End of note**\n",
    "\n",
    "You can explicitly specify which data-type you want:"
   ]
  },
  {
   "cell_type": "code",
   "execution_count": null,
   "id": "d7c8fd8b",
   "metadata": {},
   "outputs": [],
   "source": [
    "c = np.array([1, 2, 3], dtype=float)\n",
    "c.dtype"
   ]
  },
  {
   "cell_type": "markdown",
   "id": "f2f7513d",
   "metadata": {},
   "source": [
    "The **default** data type is floating point:"
   ]
  },
  {
   "cell_type": "code",
   "execution_count": null,
   "id": "b1dd4ef5",
   "metadata": {},
   "outputs": [],
   "source": [
    "a = np.ones((3, 3))\n",
    "a.dtype"
   ]
  },
  {
   "cell_type": "markdown",
   "id": "c305cbe0",
   "metadata": {},
   "source": [
    "There are also other types:"
   ]
  },
  {
   "cell_type": "markdown",
   "id": "6ce9079c",
   "metadata": {},
   "source": [
    "## Bool"
   ]
  },
  {
   "cell_type": "code",
   "execution_count": null,
   "id": "9e9bd479",
   "metadata": {
    "lines_to_next_cell": 2
   },
   "outputs": [],
   "source": [
    "e = np.array([True, False, False, True])\n",
    "e.dtype"
   ]
  },
  {
   "cell_type": "markdown",
   "id": "b6823ff0",
   "metadata": {},
   "source": [
    "## Strings"
   ]
  },
  {
   "cell_type": "code",
   "execution_count": null,
   "id": "6e59820e",
   "metadata": {},
   "outputs": [],
   "source": [
    "f = np.array(['Bonjour', 'Hello', 'Hallo'])\n",
    "f.dtype     # <--- strings containing max. 7 letters"
   ]
  },
  {
   "cell_type": "markdown",
   "id": "786fbdb4",
   "metadata": {},
   "source": [
    "## Much more:\n",
    "\n",
    "* ``int32``\n",
    "* ``int64``\n",
    "* ``uint32``\n",
    "* ``uint64``\n",
    "* ...\n",
    "\n",
    "<!---\n",
    ".. XXX: mention: astype\n",
    "-->"
   ]
  },
  {
   "cell_type": "markdown",
   "id": "731ea6bd",
   "metadata": {},
   "source": [
    "<!---\n",
    "XXX: mention: astype\n",
    "-->\n",
    "\n",
    "## Basic visualization\n",
    "\n",
    "Now that we have our first data arrays, we are going to visualize them.\n",
    "\n",
    "Start by launching IPython:\n",
    "\n",
    "```bash\n",
    "$ ipython # or ipython3 depending on your install\n",
    "```\n",
    "\n",
    "Or the notebook:\n",
    "\n",
    "```bash\n",
    "$ jupyter notebook\n",
    "```\n",
    "\n",
    "If you are using IPython enable interactive plots with:"
   ]
  },
  {
   "cell_type": "code",
   "execution_count": null,
   "id": "a034f7ea",
   "metadata": {},
   "outputs": [],
   "source": [
    "%matplotlib"
   ]
  },
  {
   "cell_type": "markdown",
   "id": "83d61713",
   "metadata": {},
   "source": [
    "Interactive plots are enabled automatically in the Jupyter Notebook.\n",
    "\n",
    "*Matplotlib* is a 2D plotting package. We can import its functions as below:"
   ]
  },
  {
   "cell_type": "code",
   "execution_count": null,
   "id": "facda635",
   "metadata": {},
   "outputs": [],
   "source": [
    "import matplotlib.pyplot as plt  # the tidy way"
   ]
  },
  {
   "cell_type": "markdown",
   "id": "cf4ad48f",
   "metadata": {},
   "source": [
    "And then use (note that you have to use `show` explicitly if you have not enabled interactive plots with `%matplotlib`):"
   ]
  },
  {
   "cell_type": "code",
   "execution_count": null,
   "id": "c6d76ea2",
   "metadata": {},
   "outputs": [],
   "source": [
    "# Example data\n",
    "x = np.linspace(0, 2 * np.pi)\n",
    "y = np.cos(x)\n",
    "\n",
    "plt.plot(x, y)       # line plot\n",
    "plt.show()           # <-- shows the plot (not needed with interactive plots)"
   ]
  },
  {
   "cell_type": "markdown",
   "id": "aad9e7ac",
   "metadata": {},
   "source": [
    "Or, if you have enabled interactive plots with `%matplotlib`:"
   ]
  },
  {
   "cell_type": "code",
   "execution_count": null,
   "id": "e468d596",
   "metadata": {},
   "outputs": [],
   "source": [
    "plt.plot(x, y)       # line plot"
   ]
  },
  {
   "cell_type": "markdown",
   "id": "43d3b3d4",
   "metadata": {},
   "source": [
    "- **1D plotting**:"
   ]
  },
  {
   "cell_type": "code",
   "execution_count": null,
   "id": "b08499cf",
   "metadata": {},
   "outputs": [],
   "source": [
    "x = np.linspace(0, 3, 20)\n",
    "y = np.linspace(0, 9, 20)\n",
    "plt.plot(x, y)       # line plot"
   ]
  },
  {
   "cell_type": "code",
   "execution_count": null,
   "id": "190836d2",
   "metadata": {},
   "outputs": [],
   "source": [
    "plt.plot(x, y, 'o')  # dot plot"
   ]
  },
  {
   "cell_type": "markdown",
   "id": "9fd8e6ca",
   "metadata": {},
   "source": [
    "- **2D arrays** (such as images):"
   ]
  },
  {
   "cell_type": "code",
   "execution_count": null,
   "id": "8602acc4",
   "metadata": {},
   "outputs": [],
   "source": [
    "rng = np.random.default_rng(27446968)\n",
    "image = rng.random((30, 30))\n",
    "plt.imshow(image, cmap=plt.cm.hot)\n",
    "plt.colorbar()"
   ]
  },
  {
   "cell_type": "markdown",
   "id": "885b8d47",
   "metadata": {},
   "source": [
    "**Start of admonition: See also**\n",
    "\n",
    "More in the: {ref}`matplotlib chapter <matplotlib>`\n",
    "**End of admonition**\n",
    "\n",
    "**Start of exercise**\n",
    "\n",
    "- Plot some simple arrays: a cosine as a function of time and a 2D\n",
    "  matrix.\n",
    "- Try using the `gray` colormap on the 2D matrix.\n",
    "\n",
    "**End of exercise**\n",
    "\n",
    "## Indexing and slicing\n",
    "\n",
    "The items of an array can be accessed and assigned to the same way as\n",
    "other Python sequences (e.g. lists):"
   ]
  },
  {
   "cell_type": "code",
   "execution_count": null,
   "id": "da1b9d18",
   "metadata": {},
   "outputs": [],
   "source": [
    "a = np.arange(10)\n",
    "a"
   ]
  },
  {
   "cell_type": "code",
   "execution_count": null,
   "id": "c8bc5043",
   "metadata": {},
   "outputs": [],
   "source": [
    "a[0], a[2], a[-1]"
   ]
  },
  {
   "cell_type": "markdown",
   "id": "89a45abb",
   "metadata": {},
   "source": [
    "**Start of warning**\n",
    "Indices begin at 0, like other Python sequences (and C/C++).\n",
    "In contrast, in Fortran or Matlab, indices begin at 1.\n",
    "**End of warning**\n",
    "\n",
    "The usual python idiom for reversing a sequence is supported:"
   ]
  },
  {
   "cell_type": "code",
   "execution_count": null,
   "id": "46f9f6b0",
   "metadata": {},
   "outputs": [],
   "source": [
    "a[::-1]"
   ]
  },
  {
   "cell_type": "markdown",
   "id": "dd08a790",
   "metadata": {},
   "source": [
    "For multidimensional arrays, indices are tuples of integers:"
   ]
  },
  {
   "cell_type": "code",
   "execution_count": null,
   "id": "4c2433f2",
   "metadata": {},
   "outputs": [],
   "source": [
    "a = np.diag(np.arange(3))\n",
    "a"
   ]
  },
  {
   "cell_type": "code",
   "execution_count": null,
   "id": "f6d893d5",
   "metadata": {},
   "outputs": [],
   "source": [
    "a[1, 1]"
   ]
  },
  {
   "cell_type": "code",
   "execution_count": null,
   "id": "7430ce21",
   "metadata": {},
   "outputs": [],
   "source": [
    "a[2, 1] = 10 # third line, second column\n",
    "a"
   ]
  },
  {
   "cell_type": "code",
   "execution_count": null,
   "id": "d82249b2",
   "metadata": {},
   "outputs": [],
   "source": [
    "a[1]"
   ]
  },
  {
   "cell_type": "markdown",
   "id": "c2dadf99",
   "metadata": {},
   "source": [
    "**Start of note**\n",
    "- In 2D, the first dimension corresponds to **rows**, the second\n",
    "  to **columns**.\n",
    "- for multidimensional `a`, `a[0]` is interpreted by\n",
    "  taking all elements in the unspecified dimensions.\n",
    "**End of note**\n",
    "\n",
    "**Slicing**: Arrays, like other Python sequences can also be sliced:"
   ]
  },
  {
   "cell_type": "code",
   "execution_count": null,
   "id": "329bc018",
   "metadata": {},
   "outputs": [],
   "source": [
    "a = np.arange(10)\n",
    "a"
   ]
  },
  {
   "cell_type": "code",
   "execution_count": null,
   "id": "fbe6c083",
   "metadata": {},
   "outputs": [],
   "source": [
    "a[2:9:3] # [start:end:step]"
   ]
  },
  {
   "cell_type": "markdown",
   "id": "9ee7730e",
   "metadata": {},
   "source": [
    "Note that the last index is not included! :"
   ]
  },
  {
   "cell_type": "code",
   "execution_count": null,
   "id": "1e0b0036",
   "metadata": {},
   "outputs": [],
   "source": [
    "a[:4]"
   ]
  },
  {
   "cell_type": "markdown",
   "id": "7adca841",
   "metadata": {},
   "source": [
    "All three slice components are not required: by default, `start` is 0,\n",
    "`end` is the last and `step` is 1:"
   ]
  },
  {
   "cell_type": "code",
   "execution_count": null,
   "id": "6ab3d9ee",
   "metadata": {},
   "outputs": [],
   "source": [
    "a[1:3]"
   ]
  },
  {
   "cell_type": "code",
   "execution_count": null,
   "id": "245e28fb",
   "metadata": {},
   "outputs": [],
   "source": [
    "a[::2]"
   ]
  },
  {
   "cell_type": "code",
   "execution_count": null,
   "id": "bce3a820",
   "metadata": {},
   "outputs": [],
   "source": [
    "a[3:]"
   ]
  },
  {
   "cell_type": "markdown",
   "id": "31645851",
   "metadata": {},
   "source": [
    "A small illustrated summary of NumPy indexing and slicing...\n",
    "\n",
    "![](../../pyximages/numpy_indexing.png)\n",
    "\n",
    "You can also combine assignment and slicing:"
   ]
  },
  {
   "cell_type": "code",
   "execution_count": null,
   "id": "45c3bca5",
   "metadata": {},
   "outputs": [],
   "source": [
    "a = np.arange(10)\n",
    "a[5:] = 10\n",
    "a"
   ]
  },
  {
   "cell_type": "code",
   "execution_count": null,
   "id": "54c1cf26",
   "metadata": {},
   "outputs": [],
   "source": [
    "b = np.arange(5)\n",
    "a[5:] = b[::-1]\n",
    "a"
   ]
  },
  {
   "cell_type": "markdown",
   "id": "29b53c1d",
   "metadata": {},
   "source": [
    "**Start of exercise**\n",
    "\n",
    "- Try the different flavours of slicing, using `start`, `end` and\n",
    "  `step`: starting from a linspace, try to obtain odd numbers\n",
    "  counting backwards, and even numbers counting forwards.\n",
    "- Reproduce the slices in the diagram above. You may\n",
    "  use the following expression to create the array:\n",
    "\n",
    "```python\n",
    "np.arange(6) + np.arange(0, 51, 10)[:, np.newaxis]\n",
    "```\n",
    "\n",
    "**End of exercise**\n",
    "\n",
    "An exercise on array creation.\n",
    "\n",
    "Create the following arrays (with correct data types):\n",
    "\n",
    "```python\n",
    "[[1, 1, 1, 1],\n",
    " [1, 1, 1, 1],\n",
    " [1, 1, 1, 2],\n",
    " [1, 6, 1, 1]]\n",
    "\n",
    "[[0., 0., 0., 0., 0.],\n",
    " [2., 0., 0., 0., 0.],\n",
    " [0., 3., 0., 0., 0.],\n",
    " [0., 0., 4., 0., 0.],\n",
    " [0., 0., 0., 5., 0.],\n",
    " [0., 0., 0., 0., 6.]]\n",
    "```\n",
    "\n",
    "Par on course: 3 statements for each.\n",
    "\n",
    "*Hint*: Individual array elements can be accessed similarly to a list,\n",
    "e.g. `a[1]` or `a[1, 2]`.\n",
    "\n",
    "*Hint*: Examine the docstring for `diag`.\n",
    "\n",
    "**End of exercise**"
   ]
  },
  {
   "cell_type": "markdown",
   "id": "cc78cefe",
   "metadata": {},
   "source": [
    "**See the [corresponding page](/scipy-lecture-notes/intro/numpy/array_object.html) for solution**\n",
    "\n",
    "Exercise on tiling for array creation.\n",
    "\n",
    "Skim through the documentation for `np.tile`, and use this function\n",
    "to construct the array:\n",
    "\n",
    "```python\n",
    "[[4, 3, 4, 3, 4, 3],\n",
    " [2, 1, 2, 1, 2, 1],\n",
    " [4, 3, 4, 3, 4, 3],\n",
    " [2, 1, 2, 1, 2, 1]]\n",
    "```\n",
    "\n",
    "**End of exercise**"
   ]
  },
  {
   "cell_type": "markdown",
   "id": "656d278a",
   "metadata": {},
   "source": [
    "**See the [corresponding page](/scipy-lecture-notes/intro/numpy/array_object.html) for solution**\n",
    "\n",
    "## Copies and views\n",
    "\n",
    "A slicing operation creates a **view** on the original array, which is\n",
    "just a way of accessing array data. Thus the original array is not\n",
    "copied in memory. You can use `np.may_share_memory()` to check if two arrays\n",
    "share the same memory block. Note however, that this uses heuristics and may\n",
    "give you false positives.\n",
    "\n",
    "**When modifying the view, the original array is modified as well**:"
   ]
  },
  {
   "cell_type": "code",
   "execution_count": null,
   "id": "5305b92f",
   "metadata": {},
   "outputs": [],
   "source": [
    "a = np.arange(10)\n",
    "a"
   ]
  },
  {
   "cell_type": "code",
   "execution_count": null,
   "id": "059c9742",
   "metadata": {},
   "outputs": [],
   "source": [
    "b = a[::2]\n",
    "b"
   ]
  },
  {
   "cell_type": "code",
   "execution_count": null,
   "id": "b645443c",
   "metadata": {},
   "outputs": [],
   "source": [
    "np.may_share_memory(a, b)"
   ]
  },
  {
   "cell_type": "code",
   "execution_count": null,
   "id": "840d1397",
   "metadata": {},
   "outputs": [],
   "source": [
    "b[0] = 12\n",
    "b"
   ]
  },
  {
   "cell_type": "code",
   "execution_count": null,
   "id": "61c34187",
   "metadata": {},
   "outputs": [],
   "source": [
    "a   # (!)"
   ]
  },
  {
   "cell_type": "code",
   "execution_count": null,
   "id": "0c1a34d1",
   "metadata": {},
   "outputs": [],
   "source": [
    "a = np.arange(10)\n",
    "c = a[::2].copy()  # force a copy\n",
    "c[0] = 12\n",
    "a"
   ]
  },
  {
   "cell_type": "code",
   "execution_count": null,
   "id": "706599a5",
   "metadata": {},
   "outputs": [],
   "source": [
    "np.may_share_memory(a, c)"
   ]
  },
  {
   "cell_type": "markdown",
   "id": "82d1deb9",
   "metadata": {},
   "source": [
    "This behavior can be surprising at first sight... but it allows to save both\n",
    "memory and time.\n",
    "\n",
    "<!---\n",
    "EXE: [1, 2, 3, 4, 5] -> [1, 2, 3]\n",
    "-->\n",
    "<!---\n",
    "EXE: [1, 2, 3, 4, 5] -> [4, 5]\n",
    "-->\n",
    "<!---\n",
    "EXE: [1, 2, 3, 4, 5] -> [1, 3, 5]\n",
    "-->\n",
    "<!---\n",
    "EXE: [1, 2, 3, 4, 5] -> [2, 4]\n",
    "-->\n",
    "<!---\n",
    "EXE: create an array [1, 1, 1, 1, 0, 0, 0]\n",
    "-->\n",
    "<!---\n",
    "EXE: create an array [0, 0, 0, 0, 1, 1, 1]\n",
    "-->\n",
    "<!---\n",
    "EXE: create an array [0, 1, 0, 1, 0, 1, 0]\n",
    "-->\n",
    "<!---\n",
    "EXE: create an array [1, 0, 1, 0, 1, 0, 1]\n",
    "-->\n",
    "<!---\n",
    "EXE: create an array [1, 0, 2, 0, 3, 0, 4]\n",
    "-->\n",
    "<!---\n",
    "CHA: archimedean sieve\n",
    "-->\n",
    "\n",
    "### Worked example: Prime number sieve\n",
    "\n",
    "![](images/prime-sieve.png)\n",
    "\n",
    "Compute prime numbers in 0--99, with a sieve\n",
    "\n",
    "First — construct a shape (100,) boolean array `is_prime`, filled with True in\n",
    "the beginning:"
   ]
  },
  {
   "cell_type": "code",
   "execution_count": null,
   "id": "1131c92b",
   "metadata": {},
   "outputs": [],
   "source": [
    "is_prime = np.ones((100,), dtype=bool)"
   ]
  },
  {
   "cell_type": "markdown",
   "id": "e2a6d3af",
   "metadata": {},
   "source": [
    "Next, cross out 0 and 1 which are not primes:"
   ]
  },
  {
   "cell_type": "code",
   "execution_count": null,
   "id": "39fa931e",
   "metadata": {},
   "outputs": [],
   "source": [
    "is_prime[:2] = 0"
   ]
  },
  {
   "cell_type": "markdown",
   "id": "601f2a49",
   "metadata": {},
   "source": [
    "For each integer `j` starting from 2, cross out its higher multiples:"
   ]
  },
  {
   "cell_type": "code",
   "execution_count": null,
   "id": "0b273dbd",
   "metadata": {},
   "outputs": [],
   "source": [
    "N_max = int(np.sqrt(len(is_prime) - 1))\n",
    "for j in range(2, N_max + 1):\n",
    "    is_prime[2*j::j] = False"
   ]
  },
  {
   "cell_type": "markdown",
   "id": "8e936a5d",
   "metadata": {},
   "source": [
    "Skim through `help(np.nonzero)`, and print the prime numbers\n",
    "\n",
    "- Follow-up:\n",
    "\n",
    "  - Move the above code into a script file named `prime_sieve.py`\n",
    "  - Run it to check it works\n",
    "  - Use the optimization suggested in [the sieve of Eratosthenes](https://en.wikipedia.org/wiki/Sieve_of_Eratosthenes):\n",
    "\n",
    "  > 1. Skip `j` which are already known to not be primes\n",
    "  > 2. The first number to cross out is $j^2$"
   ]
  },
  {
   "cell_type": "markdown",
   "id": "891d388a",
   "metadata": {},
   "source": [
    "## Fancy indexing\n",
    "\n",
    "**Start of note**\n",
    ":class: dropdown\n",
    "\n",
    "NumPy arrays can be indexed with slices, but also with boolean or\n",
    "integer arrays (**masks**). This method is called *fancy indexing*.\n",
    "It creates **copies not views**.\n",
    "**End of note**\n",
    "\n",
    "### Using boolean masks"
   ]
  },
  {
   "cell_type": "code",
   "execution_count": null,
   "id": "70defe18",
   "metadata": {},
   "outputs": [],
   "source": [
    "rng = np.random.default_rng(27446968)\n",
    "a = rng.integers(0, 21, 15)\n",
    "a"
   ]
  },
  {
   "cell_type": "code",
   "execution_count": null,
   "id": "b1ede3be",
   "metadata": {},
   "outputs": [],
   "source": [
    "(a % 3 == 0)"
   ]
  },
  {
   "cell_type": "code",
   "execution_count": null,
   "id": "aedf7cf1",
   "metadata": {},
   "outputs": [],
   "source": [
    "mask = (a % 3 == 0)\n",
    "extract_from_a = a[mask] # or,  a[a%3==0]\n",
    "extract_from_a           # extract a sub-array with the mask"
   ]
  },
  {
   "cell_type": "markdown",
   "id": "18cca52d",
   "metadata": {},
   "source": [
    "Indexing with a mask can be very useful to assign a new value to a sub-array:"
   ]
  },
  {
   "cell_type": "code",
   "execution_count": null,
   "id": "5d9d7ea8",
   "metadata": {},
   "outputs": [],
   "source": [
    "a[a % 3 == 0] = -1\n",
    "a"
   ]
  },
  {
   "cell_type": "markdown",
   "id": "efa725d0",
   "metadata": {},
   "source": [
    "### Indexing with an array of integers"
   ]
  },
  {
   "cell_type": "code",
   "execution_count": null,
   "id": "b3fd65ae",
   "metadata": {},
   "outputs": [],
   "source": [
    "a = np.arange(0, 100, 10)\n",
    "a"
   ]
  },
  {
   "cell_type": "markdown",
   "id": "57fcc10e",
   "metadata": {},
   "source": [
    "Indexing can be done with an array of integers, where the same index is repeated\n",
    "several time:"
   ]
  },
  {
   "cell_type": "code",
   "execution_count": null,
   "id": "469fc68f",
   "metadata": {},
   "outputs": [],
   "source": [
    "a[[2, 3, 2, 4, 2]]  # note: [2, 3, 2, 4, 2] is a Python list"
   ]
  },
  {
   "cell_type": "markdown",
   "id": "c94ae842",
   "metadata": {},
   "source": [
    "New values can be assigned with this kind of indexing:"
   ]
  },
  {
   "cell_type": "code",
   "execution_count": null,
   "id": "b0dadca9",
   "metadata": {},
   "outputs": [],
   "source": [
    "a[[9, 7]] = -100\n",
    "a"
   ]
  },
  {
   "cell_type": "markdown",
   "id": "81b60c30",
   "metadata": {},
   "source": [
    "**Tip**\n",
    "\n",
    "When a new array is created by indexing with an array of integers, the\n",
    "new array has the same shape as the array of integers:"
   ]
  },
  {
   "cell_type": "code",
   "execution_count": null,
   "id": "fdff14cc",
   "metadata": {},
   "outputs": [],
   "source": [
    "a = np.arange(10)\n",
    "idx = np.array([[3, 4], [9, 7]])\n",
    "idx.shape"
   ]
  },
  {
   "cell_type": "code",
   "execution_count": null,
   "id": "0f95d025",
   "metadata": {},
   "outputs": [],
   "source": [
    "a[idx]"
   ]
  },
  {
   "cell_type": "markdown",
   "id": "b8c33a48",
   "metadata": {},
   "source": [
    "______________________________________________________________________\n",
    "\n",
    "The image below illustrates various fancy indexing applications\n",
    "\n",
    "![](../../pyximages/numpy_fancy_indexing.png)\n",
    "\n",
    "**Start of exercise**\n",
    "\n",
    "- Again, reproduce the fancy indexing shown in the diagram above.\n",
    "- Use fancy indexing on the left and array creation on the right to assign\n",
    "  values into an array, for instance by setting parts of the array in\n",
    "  the diagram above to zero.\n",
    "\n",
    "**End of exercise**\n",
    "\n",
    "We can even use fancy indexing and {ref}`broadcasting <broadcasting>` at\n",
    "the same time:"
   ]
  },
  {
   "cell_type": "code",
   "execution_count": null,
   "id": "474591dc",
   "metadata": {},
   "outputs": [],
   "source": [
    "a = np.arange(12).reshape(3,4)\n",
    "a"
   ]
  },
  {
   "cell_type": "code",
   "execution_count": null,
   "id": "ca8efc9c",
   "metadata": {},
   "outputs": [],
   "source": [
    "i = np.array([[0, 1], [1, 2]])\n",
    "a[i, 2]  # same as a[i, 2 * np.ones((2, 2), dtype=int)]"
   ]
  }
 ],
 "metadata": {
  "jupytext": {
   "formats": "ipynb,Rmd"
  },
  "kernelspec": {
   "display_name": "Python (Pyodide)",
   "name": "python"
  }
 },
 "nbformat": 4,
 "nbformat_minor": 5
}
