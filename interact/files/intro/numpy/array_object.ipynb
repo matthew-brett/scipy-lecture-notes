{
 "cells": [
  {
   "cell_type": "markdown",
   "id": "d24c3ddf",
   "metadata": {},
   "source": [
    "# The NumPy array object"
   ]
  },
  {
   "cell_type": "code",
   "execution_count": null,
   "id": "2fc9ae10",
   "metadata": {
    "tags": [
     "hide-input"
    ]
   },
   "outputs": [],
   "source": [
    "# Our usual import.\n",
    "import numpy as np"
   ]
  },
  {
   "cell_type": "markdown",
   "id": "2fc81f24",
   "metadata": {},
   "source": [
    "## What are NumPy and NumPy arrays?\n",
    "\n",
    "### NumPy arrays"
   ]
  },
  {
   "cell_type": "markdown",
   "id": "7d45dfaa",
   "metadata": {},
   "source": [
    "**NumPy** provides:\n",
    "\n",
    "- An extension package to Python for multi-dimensional arrays.\n",
    "- An implementation that is closer to hardware (efficiency).\n",
    "- Package designed for scientific computation (convenience).\n",
    "- An implementation of _array oriented computing_."
   ]
  },
  {
   "cell_type": "code",
   "execution_count": null,
   "id": "8b9c1190",
   "metadata": {},
   "outputs": [],
   "source": [
    "import numpy as np\n",
    "\n",
    "a = np.array([0, 1, 2, 3])\n",
    "a"
   ]
  },
  {
   "cell_type": "markdown",
   "id": "b8eaa787",
   "metadata": {},
   "source": [
    "**Start of note**\n",
    ":class: dropdown\n",
    "\n",
    "For example, An array containing:\n",
    "\n",
    "- values of an experiment/simulation at discrete time steps\n",
    "\n",
    "- signal recorded by a measurement device, e.g. sound wave\n",
    "\n",
    "- pixels of an image, grey-level or colour\n",
    "\n",
    "- 3-D data measured at different X-Y-Z positions, e.g. MRI scan\n",
    "\n",
    "- ...\n",
    "**End of note**\n",
    "\n",
    "**Why it is useful:** Memory-efficient container that provides fast numerical\n",
    "operations."
   ]
  },
  {
   "cell_type": "code",
   "execution_count": null,
   "id": "fdb205cd",
   "metadata": {},
   "outputs": [],
   "source": [
    "L = range(1000)\n",
    "%timeit [i**2 for i in L]"
   ]
  },
  {
   "cell_type": "code",
   "execution_count": null,
   "id": "0e98dcb7",
   "metadata": {},
   "outputs": [],
   "source": [
    "a = np.arange(1000)\n",
    "%timeit a**2"
   ]
  },
  {
   "cell_type": "markdown",
   "id": "e8576ce9",
   "metadata": {},
   "source": [
    "<!---\n",
    "extension package to Python to support multidimensional arrays\n",
    "-->\n",
    "<!---\n",
    "diagram, import conventions\n",
    "-->\n",
    "<!---\n",
    "scope of this tutorial: drill in features of array manipulation in\n",
    "Python, and try to give some indication on how to get things done\n",
    "in good style\n",
    "-->\n",
    "<!---\n",
    "a fixed number of elements (cf. certain exceptions)\n",
    "-->\n",
    "<!---\n",
    "each element of same size and type\n",
    "-->\n",
    "<!---\n",
    "efficiency vs. Python lists\n",
    "-->\n",
    "\n",
    "### NumPy Reference documentation\n",
    "\n",
    "**On the web**:\n",
    "\n",
    "<https://numpy.org/doc/>\n",
    "\n",
    "**Interactive help:**\n",
    "\n",
    "```ipython\n",
    "In [5]: np.array?\n",
    "String Form:<built-in function array>\n",
    "Docstring:\n",
    "array(object, dtype=None, copy=True, order=None, subok=False, ndmin=0, ...\n",
    "```\n",
    "\n",
    "You can also use the Python builtin `help` command to show the docstring for a function:"
   ]
  },
  {
   "cell_type": "code",
   "execution_count": null,
   "id": "898461c1",
   "metadata": {},
   "outputs": [],
   "source": [
    "help(np.array)"
   ]
  },
  {
   "cell_type": "markdown",
   "id": "3fb9b49c",
   "metadata": {},
   "source": [
    "#### Looking for something:\n",
    "\n",
    "```ipython\n",
    "In [6]: np.con*?\n",
    "np.concatenate\n",
    "np.conj\n",
    "np.conjugate\n",
    "np.convolve\n",
    "```\n",
    "\n",
    "### Import conventions\n",
    "\n",
    "The recommended convention to import NumPy is:"
   ]
  },
  {
   "cell_type": "code",
   "execution_count": null,
   "id": "c1e68e36",
   "metadata": {},
   "outputs": [],
   "source": [
    "import numpy as np"
   ]
  },
  {
   "cell_type": "markdown",
   "id": "e5631db1",
   "metadata": {},
   "source": [
    "## Creating arrays\n",
    "\n",
    "### Manual construction of arrays\n",
    "\n",
    "- **1-D**:"
   ]
  },
  {
   "cell_type": "code",
   "execution_count": null,
   "id": "2c124d52",
   "metadata": {},
   "outputs": [],
   "source": [
    "a = np.array([0, 1, 2, 3])\n",
    "a"
   ]
  },
  {
   "cell_type": "code",
   "execution_count": null,
   "id": "08192c29",
   "metadata": {},
   "outputs": [],
   "source": [
    "a.ndim"
   ]
  },
  {
   "cell_type": "code",
   "execution_count": null,
   "id": "644be4a0",
   "metadata": {},
   "outputs": [],
   "source": [
    "a.shape"
   ]
  },
  {
   "cell_type": "code",
   "execution_count": null,
   "id": "cacb1a46",
   "metadata": {},
   "outputs": [],
   "source": [
    "len(a)"
   ]
  },
  {
   "cell_type": "markdown",
   "id": "486a0be6",
   "metadata": {},
   "source": [
    "- **2-D, 3-D, ...**:"
   ]
  },
  {
   "cell_type": "code",
   "execution_count": null,
   "id": "58dc8fed",
   "metadata": {},
   "outputs": [],
   "source": [
    "b = np.array([[0, 1, 2], [3, 4, 5]])    # 2 x 3 array\n",
    "b"
   ]
  },
  {
   "cell_type": "code",
   "execution_count": null,
   "id": "cc4e6fc0",
   "metadata": {},
   "outputs": [],
   "source": [
    "b.ndim"
   ]
  },
  {
   "cell_type": "code",
   "execution_count": null,
   "id": "1feb6d47",
   "metadata": {},
   "outputs": [],
   "source": [
    "b.shape"
   ]
  },
  {
   "cell_type": "code",
   "execution_count": null,
   "id": "fa1a51bb",
   "metadata": {},
   "outputs": [],
   "source": [
    "len(b)     # returns the size of the first dimension"
   ]
  },
  {
   "cell_type": "code",
   "execution_count": null,
   "id": "c635b71c",
   "metadata": {},
   "outputs": [],
   "source": [
    "c = np.array([[[1], [2]], [[3], [4]]])\n",
    "c"
   ]
  },
  {
   "cell_type": "code",
   "execution_count": null,
   "id": "98898d8d",
   "metadata": {},
   "outputs": [],
   "source": [
    "c.shape"
   ]
  },
  {
   "cell_type": "markdown",
   "id": "1a7ad50a",
   "metadata": {},
   "source": [
    "**Start of exercise**\n",
    "\n",
    "- Create a simple two dimensional array. First, redo the examples\n",
    "  from above. And then create your own: how about odd numbers\n",
    "  counting backwards on the first row, and even numbers on the second?\n",
    "- Use the functions {func}`len`, {func}`numpy.shape` on these arrays.\n",
    "  How do they relate to each other? And to the `ndim` attribute of\n",
    "  the arrays?\n",
    "\n",
    "**End of exercise**"
   ]
  },
  {
   "cell_type": "markdown",
   "id": "fdd93157",
   "metadata": {},
   "source": [
    "### Functions for creating arrays\n",
    "\n",
    "**Start of note**\n",
    ":class: dropdown\n",
    "\n",
    "In practice, we rarely enter items one by one...\n",
    "**End of note**\n",
    "\n",
    "**Evenly spaced**:"
   ]
  },
  {
   "cell_type": "code",
   "execution_count": null,
   "id": "b981dc5a",
   "metadata": {},
   "outputs": [],
   "source": [
    "a = np.arange(10) # 0 .. n-1  (!)\n",
    "a"
   ]
  },
  {
   "cell_type": "code",
   "execution_count": null,
   "id": "d5f136cb",
   "metadata": {},
   "outputs": [],
   "source": [
    "b = np.arange(1, 9, 2) # start, end (exclusive), step\n",
    "b"
   ]
  },
  {
   "cell_type": "markdown",
   "id": "8b400a83",
   "metadata": {},
   "source": [
    "— or **by number of points**"
   ]
  },
  {
   "cell_type": "code",
   "execution_count": null,
   "id": "8394fcda",
   "metadata": {},
   "outputs": [],
   "source": [
    "c = np.linspace(0, 1, 6)   # start, end, num-points\n",
    "c"
   ]
  },
  {
   "cell_type": "code",
   "execution_count": null,
   "id": "1be1e519",
   "metadata": {},
   "outputs": [],
   "source": [
    "d = np.linspace(0, 1, 5, endpoint=False)\n",
    "d"
   ]
  },
  {
   "cell_type": "markdown",
   "id": "51dd40bd",
   "metadata": {},
   "source": [
    "**Common arrays**"
   ]
  },
  {
   "cell_type": "code",
   "execution_count": null,
   "id": "9ba92b58",
   "metadata": {},
   "outputs": [],
   "source": [
    "a = np.ones((3, 3))  # reminder: (3, 3) is a tuple\n",
    "a"
   ]
  },
  {
   "cell_type": "code",
   "execution_count": null,
   "id": "cef41f30",
   "metadata": {},
   "outputs": [],
   "source": [
    "b = np.zeros((2, 2))\n",
    "b"
   ]
  },
  {
   "cell_type": "code",
   "execution_count": null,
   "id": "36ca4f64",
   "metadata": {},
   "outputs": [],
   "source": [
    "c = np.eye(3)\n",
    "c"
   ]
  },
  {
   "cell_type": "code",
   "execution_count": null,
   "id": "868becb2",
   "metadata": {},
   "outputs": [],
   "source": [
    "d = np.diag(np.array([1, 2, 3, 4]))\n",
    "d"
   ]
  },
  {
   "cell_type": "markdown",
   "id": "3acbc57e",
   "metadata": {},
   "source": [
    "- {mod}`numpy.random`: random numbers (Mersenne Twister PRNG):"
   ]
  },
  {
   "cell_type": "code",
   "execution_count": null,
   "id": "307418f1",
   "metadata": {},
   "outputs": [],
   "source": [
    "rng = np.random.default_rng(27446968)\n",
    "a = rng.random(4)       # uniform in [0, 1]\n",
    "a"
   ]
  },
  {
   "cell_type": "code",
   "execution_count": null,
   "id": "4ce1f9b8",
   "metadata": {},
   "outputs": [],
   "source": [
    "b = rng.standard_normal(4)      # Gaussian\n",
    "b"
   ]
  },
  {
   "cell_type": "markdown",
   "id": "d04c148a",
   "metadata": {},
   "source": [
    "**Start of exercise**\n",
    "\n",
    "- Experiment with `arange`, `linspace`, `ones`, `zeros`, `eye` and\n",
    "  `diag`.\n",
    "- Create different kinds of arrays with random numbers.\n",
    "- Try setting the seed before creating an array with random values.\n",
    "- Look at the function `np.empty`. What does it do? When might this be\n",
    "  useful?\n",
    "\n",
    "**End of exercise**\n",
    "\n",
    "- construct an array containing: 1 2 3 4 5\n",
    "- construct an array containing: -5, -4, -3, -2, -1\n",
    "- Construct: 2 4 6 8\n",
    "- Construct 15 equispaced numbers in range [0, 10]\n",
    "\n",
    "**End of exercise**\n",
    "\n",
    "\n",
    "**See the [corresponding page](/scipy-lecture-notes/intro/numpy/array_object.html) for solution**"
   ]
  },
  {
   "cell_type": "markdown",
   "id": "46047ca4",
   "metadata": {},
   "source": [
    "## Basic data types\n",
    "\n",
    "You may have noticed that, in some instances, array elements are displayed with\n",
    "a trailing dot (e.g. `2.` vs `2`). This is due to a difference in the\n",
    "data-type used:"
   ]
  },
  {
   "cell_type": "code",
   "execution_count": null,
   "id": "196d1ef4",
   "metadata": {},
   "outputs": [],
   "source": [
    "a = np.array([1, 2, 3])\n",
    "a.dtype"
   ]
  },
  {
   "cell_type": "code",
   "execution_count": null,
   "id": "f45be07b",
   "metadata": {},
   "outputs": [],
   "source": [
    "b = np.array([1., 2., 3.])\n",
    "b.dtype"
   ]
  },
  {
   "cell_type": "markdown",
   "id": "09037200",
   "metadata": {},
   "source": [
    "**Start of note**\n",
    ":class: dropdown\n",
    "\n",
    "Different data-types allow us to store data more compactly in memory,\n",
    "but most of the time we simply work with floating point numbers.\n",
    "Note that, in the example above, NumPy auto-detects the data-type\n",
    "from the input.\n",
    "**End of note**\n",
    "\n",
    "You can explicitly specify which data-type you want:"
   ]
  },
  {
   "cell_type": "code",
   "execution_count": null,
   "id": "db8291f2",
   "metadata": {},
   "outputs": [],
   "source": [
    "c = np.array([1, 2, 3], dtype=float)\n",
    "c.dtype"
   ]
  },
  {
   "cell_type": "markdown",
   "id": "ada438c8",
   "metadata": {},
   "source": [
    "The **default** data type is floating point:"
   ]
  },
  {
   "cell_type": "code",
   "execution_count": null,
   "id": "85815175",
   "metadata": {},
   "outputs": [],
   "source": [
    "a = np.ones((3, 3))\n",
    "a.dtype"
   ]
  },
  {
   "cell_type": "markdown",
   "id": "c3a68407",
   "metadata": {},
   "source": [
    "There are also other types:"
   ]
  },
  {
   "cell_type": "markdown",
   "id": "1b506432",
   "metadata": {},
   "source": [
    "## Bool"
   ]
  },
  {
   "cell_type": "code",
   "execution_count": null,
   "id": "48ffbde9",
   "metadata": {},
   "outputs": [],
   "source": [
    "e = np.array([True, False, False, True])\n",
    "e.dtype"
   ]
  },
  {
   "cell_type": "markdown",
   "id": "800b9228",
   "metadata": {},
   "source": [
    "## Strings"
   ]
  },
  {
   "cell_type": "code",
   "execution_count": null,
   "id": "ce044bc6",
   "metadata": {},
   "outputs": [],
   "source": [
    "f = np.array(['Bonjour', 'Hello', 'Hallo'])\n",
    "f.dtype     # <--- strings containing max. 7 letters"
   ]
  },
  {
   "cell_type": "markdown",
   "id": "7769e21b",
   "metadata": {},
   "source": [
    "## Much more:\n",
    "\n",
    "- `int32`\n",
    "- `int64`\n",
    "- `uint32`\n",
    "- `uint64`\n",
    "- ...\n",
    "\n",
    "<!---\n",
    "XXX: mention: astype\n",
    "-->\n",
    "\n",
    "## Basic visualization\n",
    "\n",
    "Now that we have our first data arrays, we are going to visualize them.\n",
    "\n",
    "Start by launching IPython:\n",
    "\n",
    "```bash\n",
    "$ ipython # or ipython3 depending on your install\n",
    "```\n",
    "\n",
    "Or the notebook:\n",
    "\n",
    "```bash\n",
    "$ jupyter notebook\n",
    "```\n",
    "\n",
    "If you are using IPython enable interactive plots with:"
   ]
  },
  {
   "cell_type": "code",
   "execution_count": null,
   "id": "5cb4b027",
   "metadata": {},
   "outputs": [],
   "source": [
    "%matplotlib"
   ]
  },
  {
   "cell_type": "markdown",
   "id": "beacb996",
   "metadata": {},
   "source": [
    "Interactive plots are enabled automatically in the Jupyter Notebook.\n",
    "\n",
    "_Matplotlib_ is a 2D plotting package. We can import its functions as below:"
   ]
  },
  {
   "cell_type": "code",
   "execution_count": null,
   "id": "4bc92204",
   "metadata": {},
   "outputs": [],
   "source": [
    "import matplotlib.pyplot as plt  # the tidy way"
   ]
  },
  {
   "cell_type": "markdown",
   "id": "a0382650",
   "metadata": {},
   "source": [
    "And then use (note that you have to use `show` explicitly if you have not enabled interactive plots with `%matplotlib`):"
   ]
  },
  {
   "cell_type": "code",
   "execution_count": null,
   "id": "f7166c00",
   "metadata": {},
   "outputs": [],
   "source": [
    "# Example data\n",
    "x = np.linspace(0, 2 * np.pi)\n",
    "y = np.cos(x)\n",
    "\n",
    "plt.plot(x, y)       # line plot\n",
    "plt.show()           # <-- shows the plot (not needed with interactive plots)"
   ]
  },
  {
   "cell_type": "markdown",
   "id": "995cdbbe",
   "metadata": {},
   "source": [
    "Or, if you have enabled interactive plots with `%matplotlib`:"
   ]
  },
  {
   "cell_type": "code",
   "execution_count": null,
   "id": "6b0a712e",
   "metadata": {},
   "outputs": [],
   "source": [
    "plt.plot(x, y)       # line plot"
   ]
  },
  {
   "cell_type": "markdown",
   "id": "9a590c36",
   "metadata": {},
   "source": [
    "- **1D plotting**:"
   ]
  },
  {
   "cell_type": "code",
   "execution_count": null,
   "id": "65d7fb98",
   "metadata": {},
   "outputs": [],
   "source": [
    "x = np.linspace(0, 3, 20)\n",
    "y = np.linspace(0, 9, 20)\n",
    "plt.plot(x, y)       # line plot"
   ]
  },
  {
   "cell_type": "code",
   "execution_count": null,
   "id": "5a173a1e",
   "metadata": {},
   "outputs": [],
   "source": [
    "plt.plot(x, y, 'o')  # dot plot"
   ]
  },
  {
   "cell_type": "markdown",
   "id": "72d076aa",
   "metadata": {},
   "source": [
    "- **2D arrays** (such as images):"
   ]
  },
  {
   "cell_type": "code",
   "execution_count": null,
   "id": "ca333b02",
   "metadata": {},
   "outputs": [],
   "source": [
    "rng = np.random.default_rng(27446968)\n",
    "image = rng.random((30, 30))\n",
    "plt.imshow(image, cmap=plt.cm.hot)\n",
    "plt.colorbar()"
   ]
  },
  {
   "cell_type": "markdown",
   "id": "23310453",
   "metadata": {},
   "source": [
    "**Start of admonition: See also**\n",
    "\n",
    "More in the: {ref}`matplotlib chapter <matplotlib>`\n",
    "**End of admonition**\n",
    "\n",
    "**Start of exercise**\n",
    "\n",
    "- Plot some simple arrays: a cosine as a function of time and a 2D\n",
    "  matrix.\n",
    "- Try using the `gray` colormap on the 2D matrix.\n",
    "\n",
    "**End of exercise**"
   ]
  },
  {
   "cell_type": "markdown",
   "id": "2f1957e8",
   "metadata": {},
   "source": [
    "## Indexing and slicing\n",
    "\n",
    "The items of an array can be accessed and assigned to the same way as\n",
    "other Python sequences (e.g. lists):"
   ]
  },
  {
   "cell_type": "code",
   "execution_count": null,
   "id": "98bd1163",
   "metadata": {},
   "outputs": [],
   "source": [
    "a = np.arange(10)\n",
    "a"
   ]
  },
  {
   "cell_type": "code",
   "execution_count": null,
   "id": "4d16dca9",
   "metadata": {},
   "outputs": [],
   "source": [
    "a[0], a[2], a[-1]"
   ]
  },
  {
   "cell_type": "markdown",
   "id": "2ef64b83",
   "metadata": {},
   "source": [
    "**Start of warning**\n",
    "Indices begin at 0, like other Python sequences (and C/C++).\n",
    "In contrast, in Fortran or Matlab, indices begin at 1.\n",
    "**End of warning**\n",
    "\n",
    "The usual python idiom for reversing a sequence is supported:"
   ]
  },
  {
   "cell_type": "code",
   "execution_count": null,
   "id": "ea50f502",
   "metadata": {},
   "outputs": [],
   "source": [
    "a[::-1]"
   ]
  },
  {
   "cell_type": "markdown",
   "id": "932b72a6",
   "metadata": {},
   "source": [
    "For multidimensional arrays, indices are tuples of integers:"
   ]
  },
  {
   "cell_type": "code",
   "execution_count": null,
   "id": "6df41ed9",
   "metadata": {},
   "outputs": [],
   "source": [
    "a = np.diag(np.arange(3))\n",
    "a"
   ]
  },
  {
   "cell_type": "code",
   "execution_count": null,
   "id": "b0b53d6b",
   "metadata": {},
   "outputs": [],
   "source": [
    "a[1, 1]"
   ]
  },
  {
   "cell_type": "code",
   "execution_count": null,
   "id": "3ee8e01e",
   "metadata": {},
   "outputs": [],
   "source": [
    "a[2, 1] = 10 # third line, second column\n",
    "a"
   ]
  },
  {
   "cell_type": "code",
   "execution_count": null,
   "id": "1e87df05",
   "metadata": {},
   "outputs": [],
   "source": [
    "a[1]"
   ]
  },
  {
   "cell_type": "markdown",
   "id": "f72b9565",
   "metadata": {},
   "source": [
    "**Start of note**\n",
    "\n",
    "- In 2D, the first dimension corresponds to **rows**, the second\n",
    "  to **columns**.\n",
    "- for multidimensional `a`, `a[0]` is interpreted by\n",
    "  taking all elements in the unspecified dimensions.\n",
    "**End of note**\n",
    "\n",
    "**Slicing**: Arrays, like other Python sequences can also be sliced:"
   ]
  },
  {
   "cell_type": "code",
   "execution_count": null,
   "id": "da9d3e23",
   "metadata": {},
   "outputs": [],
   "source": [
    "a = np.arange(10)\n",
    "a"
   ]
  },
  {
   "cell_type": "code",
   "execution_count": null,
   "id": "e14fc2b3",
   "metadata": {},
   "outputs": [],
   "source": [
    "a[2:9:3] # [start:end:step]"
   ]
  },
  {
   "cell_type": "markdown",
   "id": "c6035c93",
   "metadata": {},
   "source": [
    "Note that the last index is not included! :"
   ]
  },
  {
   "cell_type": "code",
   "execution_count": null,
   "id": "b2878962",
   "metadata": {},
   "outputs": [],
   "source": [
    "a[:4]"
   ]
  },
  {
   "cell_type": "markdown",
   "id": "2ded65b1",
   "metadata": {},
   "source": [
    "All three slice components are not required: by default, `start` is 0,\n",
    "`end` is the last and `step` is 1:"
   ]
  },
  {
   "cell_type": "code",
   "execution_count": null,
   "id": "dfc8cdd6",
   "metadata": {},
   "outputs": [],
   "source": [
    "a[1:3]"
   ]
  },
  {
   "cell_type": "code",
   "execution_count": null,
   "id": "518b3f39",
   "metadata": {},
   "outputs": [],
   "source": [
    "a[::2]"
   ]
  },
  {
   "cell_type": "code",
   "execution_count": null,
   "id": "4eb26cdd",
   "metadata": {},
   "outputs": [],
   "source": [
    "a[3:]"
   ]
  },
  {
   "cell_type": "markdown",
   "id": "4ecfc0f3",
   "metadata": {},
   "source": [
    "A small illustrated summary of NumPy indexing and slicing...\n",
    "\n",
    "![](../../pyximages/numpy_indexing.png)\n",
    "\n",
    "You can also combine assignment and slicing:"
   ]
  },
  {
   "cell_type": "code",
   "execution_count": null,
   "id": "61dc18df",
   "metadata": {},
   "outputs": [],
   "source": [
    "a = np.arange(10)\n",
    "a[5:] = 10\n",
    "a"
   ]
  },
  {
   "cell_type": "code",
   "execution_count": null,
   "id": "9c83a5de",
   "metadata": {},
   "outputs": [],
   "source": [
    "b = np.arange(5)\n",
    "a[5:] = b[::-1]\n",
    "a"
   ]
  },
  {
   "cell_type": "markdown",
   "id": "5fc1f5fe",
   "metadata": {},
   "source": [
    "**Start of exercise**\n",
    "\n",
    "- Try the different flavours of slicing, using `start`, `end` and\n",
    "  `step`: starting from a linspace, try to obtain odd numbers\n",
    "  counting backwards, and even numbers counting forwards.\n",
    "- Reproduce the slices in the diagram above. You may\n",
    "  use the following expression to create the array:\n",
    "\n",
    "```python\n",
    "np.arange(6) + np.arange(0, 51, 10)[:, np.newaxis]\n",
    "```\n",
    "\n",
    "**End of exercise**\n",
    "\n",
    "An exercise on array creation.\n",
    "\n",
    "Create the following arrays (with correct data types):\n",
    "\n",
    "```python\n",
    "[[1, 1, 1, 1],\n",
    " [1, 1, 1, 1],\n",
    " [1, 1, 1, 2],\n",
    " [1, 6, 1, 1]]\n",
    "\n",
    "[[0., 0., 0., 0., 0.],\n",
    " [2., 0., 0., 0., 0.],\n",
    " [0., 3., 0., 0., 0.],\n",
    " [0., 0., 4., 0., 0.],\n",
    " [0., 0., 0., 5., 0.],\n",
    " [0., 0., 0., 0., 6.]]\n",
    "```\n",
    "\n",
    "Par on course: 3 statements for each.\n",
    "\n",
    "_Hint_: Individual array elements can be accessed similarly to a list,\n",
    "e.g. `a[1]` or `a[1, 2]`.\n",
    "\n",
    "_Hint_: Examine the docstring for `diag`.\n",
    "\n",
    "**End of exercise**\n",
    "\n",
    "\n",
    "**See the [corresponding page](/scipy-lecture-notes/intro/numpy/array_object.html) for solution**\n",
    "\n",
    "Exercise on tiling for array creation.\n",
    "\n",
    "Skim through the documentation for `np.tile`, and use this function\n",
    "to construct the array:\n",
    "\n",
    "```python\n",
    "[[4, 3, 4, 3, 4, 3],\n",
    " [2, 1, 2, 1, 2, 1],\n",
    " [4, 3, 4, 3, 4, 3],\n",
    " [2, 1, 2, 1, 2, 1]]\n",
    "```\n",
    "\n",
    "**End of exercise**\n",
    "\n",
    "\n",
    "**See the [corresponding page](/scipy-lecture-notes/intro/numpy/array_object.html) for solution**"
   ]
  },
  {
   "cell_type": "markdown",
   "id": "f40397ea",
   "metadata": {},
   "source": [
    "## Copies and views\n",
    "\n",
    "A slicing operation creates a **view** on the original array, which is\n",
    "just a way of accessing array data. Thus the original array is not\n",
    "copied in memory. You can use `np.may_share_memory()` to check if two arrays\n",
    "share the same memory block. Note however, that this uses heuristics and may\n",
    "give you false positives.\n",
    "\n",
    "**When modifying the view, the original array is modified as well**:"
   ]
  },
  {
   "cell_type": "code",
   "execution_count": null,
   "id": "07a67451",
   "metadata": {},
   "outputs": [],
   "source": [
    "a = np.arange(10)\n",
    "a"
   ]
  },
  {
   "cell_type": "code",
   "execution_count": null,
   "id": "82cd47c5",
   "metadata": {},
   "outputs": [],
   "source": [
    "b = a[::2]\n",
    "b"
   ]
  },
  {
   "cell_type": "code",
   "execution_count": null,
   "id": "9eb0d2bc",
   "metadata": {},
   "outputs": [],
   "source": [
    "np.may_share_memory(a, b)"
   ]
  },
  {
   "cell_type": "code",
   "execution_count": null,
   "id": "7aeede82",
   "metadata": {},
   "outputs": [],
   "source": [
    "b[0] = 12\n",
    "b"
   ]
  },
  {
   "cell_type": "code",
   "execution_count": null,
   "id": "33b97b9c",
   "metadata": {},
   "outputs": [],
   "source": [
    "a   # (!)"
   ]
  },
  {
   "cell_type": "code",
   "execution_count": null,
   "id": "c40860ea",
   "metadata": {},
   "outputs": [],
   "source": [
    "a = np.arange(10)\n",
    "c = a[::2].copy()  # force a copy\n",
    "c[0] = 12\n",
    "a"
   ]
  },
  {
   "cell_type": "code",
   "execution_count": null,
   "id": "86dc6d50",
   "metadata": {},
   "outputs": [],
   "source": [
    "np.may_share_memory(a, c)"
   ]
  },
  {
   "cell_type": "markdown",
   "id": "82e7f023",
   "metadata": {},
   "source": [
    "This behavior can be surprising at first sight... but it allows to save both\n",
    "memory and time.\n",
    "\n",
    "<!---\n",
    "EXE: [1, 2, 3, 4, 5] -> [1, 2, 3]\n",
    "-->\n",
    "<!---\n",
    "EXE: [1, 2, 3, 4, 5] -> [4, 5]\n",
    "-->\n",
    "<!---\n",
    "EXE: [1, 2, 3, 4, 5] -> [1, 3, 5]\n",
    "-->\n",
    "<!---\n",
    "EXE: [1, 2, 3, 4, 5] -> [2, 4]\n",
    "-->\n",
    "<!---\n",
    "EXE: create an array [1, 1, 1, 1, 0, 0, 0]\n",
    "-->\n",
    "<!---\n",
    "EXE: create an array [0, 0, 0, 0, 1, 1, 1]\n",
    "-->\n",
    "<!---\n",
    "EXE: create an array [0, 1, 0, 1, 0, 1, 0]\n",
    "-->\n",
    "<!---\n",
    "EXE: create an array [1, 0, 1, 0, 1, 0, 1]\n",
    "-->\n",
    "<!---\n",
    "EXE: create an array [1, 0, 2, 0, 3, 0, 4]\n",
    "-->\n",
    "<!---\n",
    "CHA: archimedean sieve\n",
    "-->\n",
    "\n",
    "### Worked example: Prime number sieve\n",
    "\n",
    "![](images/prime-sieve.png)\n",
    "\n",
    "Compute prime numbers in 0--99, with a sieve\n",
    "\n",
    "First — construct a shape (100,) boolean array `is_prime`, filled with True in\n",
    "the beginning:"
   ]
  },
  {
   "cell_type": "code",
   "execution_count": null,
   "id": "356e4f4f",
   "metadata": {},
   "outputs": [],
   "source": [
    "is_prime = np.ones((100,), dtype=bool)"
   ]
  },
  {
   "cell_type": "markdown",
   "id": "a61e192f",
   "metadata": {},
   "source": [
    "Next, cross out 0 and 1 which are not primes:"
   ]
  },
  {
   "cell_type": "code",
   "execution_count": null,
   "id": "b40486e3",
   "metadata": {},
   "outputs": [],
   "source": [
    "is_prime[:2] = 0"
   ]
  },
  {
   "cell_type": "markdown",
   "id": "f12d2fa8",
   "metadata": {},
   "source": [
    "For each integer `j` starting from 2, cross out its higher multiples:"
   ]
  },
  {
   "cell_type": "code",
   "execution_count": null,
   "id": "11c2de3b",
   "metadata": {},
   "outputs": [],
   "source": [
    "N_max = int(np.sqrt(len(is_prime) - 1))\n",
    "for j in range(2, N_max + 1):\n",
    "    is_prime[2*j::j] = False"
   ]
  },
  {
   "cell_type": "markdown",
   "id": "a893adde",
   "metadata": {},
   "source": [
    "Skim through `help(np.nonzero)`, and print the prime numbers\n",
    "\n",
    "- Follow-up:\n",
    "\n",
    "  - Move the above code into a script file named `prime_sieve.py`\n",
    "  - Run it to check it works\n",
    "  - Use the optimization suggested in [the sieve of Eratosthenes](https://en.wikipedia.org/wiki/Sieve_of_Eratosthenes):\n",
    "\n",
    "  > 1. Skip `j` which are already known to not be primes\n",
    "  > 2. The first number to cross out is $j^2$"
   ]
  },
  {
   "cell_type": "markdown",
   "id": "d2cbcf52",
   "metadata": {},
   "source": [
    "## Fancy indexing\n",
    "\n",
    "**Start of note**\n",
    ":class: dropdown\n",
    "\n",
    "NumPy arrays can be indexed with slices, but also with boolean or\n",
    "integer arrays (**masks**). This method is called _fancy indexing_.\n",
    "It creates **copies not views**.\n",
    "**End of note**\n",
    "\n",
    "### Using boolean masks"
   ]
  },
  {
   "cell_type": "code",
   "execution_count": null,
   "id": "830f0772",
   "metadata": {},
   "outputs": [],
   "source": [
    "rng = np.random.default_rng(27446968)\n",
    "a = rng.integers(0, 21, 15)\n",
    "a"
   ]
  },
  {
   "cell_type": "code",
   "execution_count": null,
   "id": "ab4c20cb",
   "metadata": {},
   "outputs": [],
   "source": [
    "(a % 3 == 0)"
   ]
  },
  {
   "cell_type": "code",
   "execution_count": null,
   "id": "143febab",
   "metadata": {},
   "outputs": [],
   "source": [
    "mask = (a % 3 == 0)\n",
    "extract_from_a = a[mask] # or,  a[a%3==0]\n",
    "extract_from_a           # extract a sub-array with the mask"
   ]
  },
  {
   "cell_type": "markdown",
   "id": "eb86e0fd",
   "metadata": {},
   "source": [
    "Indexing with a mask can be very useful to assign a new value to a sub-array:"
   ]
  },
  {
   "cell_type": "code",
   "execution_count": null,
   "id": "9d80a045",
   "metadata": {},
   "outputs": [],
   "source": [
    "a[a % 3 == 0] = -1\n",
    "a"
   ]
  },
  {
   "cell_type": "markdown",
   "id": "1cd89cb4",
   "metadata": {},
   "source": [
    "### Indexing with an array of integers"
   ]
  },
  {
   "cell_type": "code",
   "execution_count": null,
   "id": "b39accfe",
   "metadata": {},
   "outputs": [],
   "source": [
    "a = np.arange(0, 100, 10)\n",
    "a"
   ]
  },
  {
   "cell_type": "markdown",
   "id": "765c92ab",
   "metadata": {},
   "source": [
    "Indexing can be done with an array of integers, where the same index is repeated\n",
    "several time:"
   ]
  },
  {
   "cell_type": "code",
   "execution_count": null,
   "id": "1423ef2e",
   "metadata": {},
   "outputs": [],
   "source": [
    "a[[2, 3, 2, 4, 2]]  # note: [2, 3, 2, 4, 2] is a Python list"
   ]
  },
  {
   "cell_type": "markdown",
   "id": "58b31d63",
   "metadata": {},
   "source": [
    "New values can be assigned with this kind of indexing:"
   ]
  },
  {
   "cell_type": "code",
   "execution_count": null,
   "id": "fa63bb9c",
   "metadata": {},
   "outputs": [],
   "source": [
    "a[[9, 7]] = -100\n",
    "a"
   ]
  },
  {
   "cell_type": "markdown",
   "id": "62f2c16c",
   "metadata": {},
   "source": [
    "**Tip**\n",
    "\n",
    "When a new array is created by indexing with an array of integers, the\n",
    "new array has the same shape as the array of integers:"
   ]
  },
  {
   "cell_type": "code",
   "execution_count": null,
   "id": "e56d4d64",
   "metadata": {},
   "outputs": [],
   "source": [
    "a = np.arange(10)\n",
    "idx = np.array([[3, 4], [9, 7]])\n",
    "idx.shape"
   ]
  },
  {
   "cell_type": "code",
   "execution_count": null,
   "id": "fa2be7f6",
   "metadata": {},
   "outputs": [],
   "source": [
    "a[idx]"
   ]
  },
  {
   "cell_type": "markdown",
   "id": "e3afbc4e",
   "metadata": {},
   "source": [
    "---\n",
    "\n",
    "The image below illustrates various fancy indexing applications\n",
    "\n",
    "![](../../pyximages/numpy_fancy_indexing.png)\n",
    "\n",
    "**Start of exercise**\n",
    "\n",
    "- Again, reproduce the fancy indexing shown in the diagram above.\n",
    "- Use fancy indexing on the left and array creation on the right to assign\n",
    "  values into an array, for instance by setting parts of the array in\n",
    "  the diagram above to zero.\n",
    "\n",
    "**End of exercise**\n",
    "\n",
    "We can even use fancy indexing and {ref}`broadcasting <broadcasting>` at\n",
    "the same time:"
   ]
  },
  {
   "cell_type": "code",
   "execution_count": null,
   "id": "288a6c23",
   "metadata": {},
   "outputs": [],
   "source": [
    "a = np.arange(12).reshape(3,4)\n",
    "a"
   ]
  },
  {
   "cell_type": "code",
   "execution_count": null,
   "id": "6638e0fa",
   "metadata": {},
   "outputs": [],
   "source": [
    "i = np.array([[0, 1], [1, 2]])\n",
    "a[i, 2]  # same as a[i, 2 * np.ones((2, 2), dtype=int)]"
   ]
  }
 ],
 "metadata": {
  "kernelspec": {
   "display_name": "Python (Pyodide)",
   "name": "python"
  }
 },
 "nbformat": 4,
 "nbformat_minor": 5
}
