{
 "cells": [
  {
   "cell_type": "code",
   "execution_count": null,
   "id": "da42bb13",
   "metadata": {
    "tags": [
     "hide-input"
    ]
   },
   "outputs": [],
   "source": [
    "import numpy as np\n",
    "import matplotlib.pyplot as plt"
   ]
  },
  {
   "cell_type": "markdown",
   "id": "e89abd10",
   "metadata": {},
   "source": [
    "# More elaborate arrays\n",
    "\n",
    "## More data types\n",
    "\n",
    "### Casting\n",
    "\n",
    "\"Bigger\" type wins in mixed-type operations:"
   ]
  },
  {
   "cell_type": "code",
   "execution_count": null,
   "id": "e901107f",
   "metadata": {},
   "outputs": [],
   "source": [
    "np.array([1, 2, 3]) + 1.5"
   ]
  },
  {
   "cell_type": "markdown",
   "id": "b8dffcf1",
   "metadata": {},
   "source": [
    "Assignment never changes the type!"
   ]
  },
  {
   "cell_type": "code",
   "execution_count": null,
   "id": "35e6da2f",
   "metadata": {},
   "outputs": [],
   "source": [
    "a = np.array([1, 2, 3])\n",
    "a.dtype"
   ]
  },
  {
   "cell_type": "code",
   "execution_count": null,
   "id": "b41cbae4",
   "metadata": {},
   "outputs": [],
   "source": [
    "a[0] = 1.9     # <-- float is truncated to integer\n",
    "a"
   ]
  },
  {
   "cell_type": "markdown",
   "id": "83cb3b01",
   "metadata": {},
   "source": [
    "Forced casts:"
   ]
  },
  {
   "cell_type": "code",
   "execution_count": null,
   "id": "afdff8c3",
   "metadata": {},
   "outputs": [],
   "source": [
    "a = np.array([1.7, 1.2, 1.6])\n",
    "b = a.astype(int)  # <-- truncates to integer\n",
    "b"
   ]
  },
  {
   "cell_type": "markdown",
   "id": "54c2dcb9",
   "metadata": {},
   "source": [
    "Rounding:"
   ]
  },
  {
   "cell_type": "code",
   "execution_count": null,
   "id": "b31c97fc",
   "metadata": {},
   "outputs": [],
   "source": [
    "a = np.array([1.2, 1.5, 1.6, 2.5, 3.5, 4.5])\n",
    "b = np.around(a)\n",
    "b                    # still floating-point"
   ]
  },
  {
   "cell_type": "code",
   "execution_count": null,
   "id": "88ff5349",
   "metadata": {},
   "outputs": [],
   "source": [
    "c = np.around(a).astype(int)\n",
    "c"
   ]
  },
  {
   "cell_type": "markdown",
   "id": "95bdd449",
   "metadata": {},
   "source": [
    "### Different data type sizes\n",
    "\n",
    "Integers (signed):\n",
    "\n",
    "| Class   | Bits                                       |\n",
    "|---------|--------------------------------------------|\n",
    "| `int8`  | 8 bits                                     |\n",
    "| `int16` | 16b its                                    |\n",
    "| `int32` | 32 bits (same as `int` on 32-bit platform) |\n",
    "| `int64` | 64 bits (same as `int` on 64-bit platform) |"
   ]
  },
  {
   "cell_type": "code",
   "execution_count": null,
   "id": "d6a9c22a",
   "metadata": {},
   "outputs": [],
   "source": [
    "np.array([1], dtype=int).dtype"
   ]
  },
  {
   "cell_type": "code",
   "execution_count": null,
   "id": "bbc0c71f",
   "metadata": {},
   "outputs": [],
   "source": [
    "np.iinfo(np.int32).max, 2**31 - 1"
   ]
  },
  {
   "cell_type": "markdown",
   "id": "c6ee4897",
   "metadata": {},
   "source": [
    "Unsigned integers:\n",
    "\n",
    "| Class    | Bits    |\n",
    "|----------|---------|\n",
    "| `uint8`  | 8 bits  |\n",
    "| `uint16` | 16 bits |\n",
    "| `uint32` | 32 bits |\n",
    "| `uint64` | 64 bits |"
   ]
  },
  {
   "cell_type": "code",
   "execution_count": null,
   "id": "0ed3403a",
   "metadata": {},
   "outputs": [],
   "source": [
    "np.iinfo(np.uint32).max, 2**32 - 1"
   ]
  },
  {
   "cell_type": "markdown",
   "id": "e061640e",
   "metadata": {},
   "source": [
    "Floating-point numbers:\n",
    "\n",
    "| Data Type         | Size (bits)                     |\n",
    "|-------------------|---------------------------------|\n",
    "| `float16`         | 16 bits                        |\n",
    "| `float32`         | 32 bits                        |\n",
    "| `float64`         | 64 bits (same as `float`)      |\n",
    "| `float96`         | 96 bits, platform-dependent (same as `np.longdouble`) |\n",
    "| `float128`        | 128 bits, platform-dependent (same as `np.longdouble`) |"
   ]
  },
  {
   "cell_type": "code",
   "execution_count": null,
   "id": "9aa772c8",
   "metadata": {},
   "outputs": [],
   "source": [
    "np.finfo(np.float32).eps"
   ]
  },
  {
   "cell_type": "code",
   "execution_count": null,
   "id": "7fb242e5",
   "metadata": {},
   "outputs": [],
   "source": [
    "np.finfo(np.float64).eps"
   ]
  },
  {
   "cell_type": "code",
   "execution_count": null,
   "id": "9aefb576",
   "metadata": {},
   "outputs": [],
   "source": [
    "np.float32(1e-8) + np.float32(1) == 1"
   ]
  },
  {
   "cell_type": "code",
   "execution_count": null,
   "id": "0e12bce9",
   "metadata": {},
   "outputs": [],
   "source": [
    "np.float64(1e-8) + np.float64(1) == 1"
   ]
  },
  {
   "cell_type": "markdown",
   "id": "d28add4e",
   "metadata": {},
   "source": [
    "Complex floating-point numbers:\n",
    "\n",
    "| Data Type         | Size (bits)                              |\n",
    "|-------------------|------------------------------------------|\n",
    "| `complex64`       | two 32-bit floats                       |\n",
    "| `complex128`      | two 64-bit floats                       |\n",
    "| `complex192`      | two 96-bit floats, platform-dependent    |\n",
    "| `complex256`      | two 128-bit floats, platform-dependent   |\n",
    "\n",
    "**Start of admonition: Smaller data types**\n",
    "If you don't know you need special data types, then you probably don't.\n",
    "\n",
    "Comparison on using `float32` instead of `float64`:\n",
    "\n",
    "- Half the size in memory and on disk\n",
    "\n",
    "- Half the memory bandwidth required (may be a bit faster in some operations)\n",
    "\n",
    "  ```ipython\n",
    "  In [1]: a = np.zeros((int(1e6),), dtype=np.float64)\n",
    "\n",
    "  In [2]: b = np.zeros((int(1e6),), dtype=np.float32)\n",
    "\n",
    "  In [3]: %timeit a*a\n",
    "  1000 loops, best of 3: 1.78 ms per loop\n",
    "\n",
    "  In [4]: %timeit b*b\n",
    "  1000 loops, best of 3: 1.07 ms per loop\n",
    "  ```\n",
    "\n",
    "- But: bigger rounding errors — sometimes in surprising places\n",
    "  (i.e., don't use them unless you really need them)\n",
    "**End of admonition**\n",
    "\n",
    "## Structured data types\n",
    "\n",
    "| Data Type       | Description            |\n",
    "|-----------------|------------------------|\n",
    "| `sensor_code`   | 4-character string     |\n",
    "| `position`      | float                  |\n",
    "| `value`         | float                  |"
   ]
  },
  {
   "cell_type": "code",
   "execution_count": null,
   "id": "9c72e523",
   "metadata": {},
   "outputs": [],
   "source": [
    "samples = np.zeros((6,), dtype=[('sensor_code', 'S4'),\n",
    "                                ('position', float), ('value', float)])\n",
    "samples.ndim"
   ]
  },
  {
   "cell_type": "code",
   "execution_count": null,
   "id": "125425cd",
   "metadata": {},
   "outputs": [],
   "source": [
    "samples.shape"
   ]
  },
  {
   "cell_type": "code",
   "execution_count": null,
   "id": "3fdc6c88",
   "metadata": {},
   "outputs": [],
   "source": [
    "samples.dtype.names"
   ]
  },
  {
   "cell_type": "code",
   "execution_count": null,
   "id": "e8c5cbd1",
   "metadata": {},
   "outputs": [],
   "source": [
    "samples[:] = [('ALFA',   1, 0.37), ('BETA', 1, 0.11), ('TAU', 1,   0.13),\n",
    "              ('ALFA', 1.5, 0.37), ('ALFA', 3, 0.11), ('TAU', 1.2, 0.13)]\n",
    "samples"
   ]
  },
  {
   "cell_type": "markdown",
   "id": "d437ef34",
   "metadata": {},
   "source": [
    "Field access works by indexing with field names:"
   ]
  },
  {
   "cell_type": "code",
   "execution_count": null,
   "id": "69080d81",
   "metadata": {},
   "outputs": [],
   "source": [
    "samples['sensor_code']"
   ]
  },
  {
   "cell_type": "code",
   "execution_count": null,
   "id": "623ef8e0",
   "metadata": {},
   "outputs": [],
   "source": [
    "samples['value']"
   ]
  },
  {
   "cell_type": "code",
   "execution_count": null,
   "id": "49cc9ad1",
   "metadata": {},
   "outputs": [],
   "source": [
    "samples[0]"
   ]
  },
  {
   "cell_type": "code",
   "execution_count": null,
   "id": "ab0b2350",
   "metadata": {},
   "outputs": [],
   "source": [
    "samples[0]['sensor_code'] = 'TAU'\n",
    "samples[0]"
   ]
  },
  {
   "cell_type": "markdown",
   "id": "1ffd0abc",
   "metadata": {},
   "source": [
    "Multiple fields at once:"
   ]
  },
  {
   "cell_type": "code",
   "execution_count": null,
   "id": "e73d2220",
   "metadata": {},
   "outputs": [],
   "source": [
    "samples[['position', 'value']]"
   ]
  },
  {
   "cell_type": "markdown",
   "id": "eab1364a",
   "metadata": {},
   "source": [
    "Fancy indexing works, as usual:"
   ]
  },
  {
   "cell_type": "code",
   "execution_count": null,
   "id": "085c8895",
   "metadata": {},
   "outputs": [],
   "source": [
    "samples[samples['sensor_code'] == b'ALFA']"
   ]
  },
  {
   "cell_type": "markdown",
   "id": "a8b77017",
   "metadata": {},
   "source": [
    "**Start of note**\n",
    "There are a bunch of other syntaxes for constructing structured\n",
    "arrays, see [here](https://numpy.org/doc/stable/user/basics.rec.html)\n",
    "and [here](https://numpy.org/doc/stable/reference/arrays.dtypes.html#specifying-and-constructing-data-types).\n",
    "**End of note**\n",
    "\n",
    "## {class}`maskedarray`: dealing with (propagation of) missing data\n",
    "\n",
    "- For floats one could use NaN's, but masks work for all types:"
   ]
  },
  {
   "cell_type": "code",
   "execution_count": null,
   "id": "d3a41533",
   "metadata": {},
   "outputs": [],
   "source": [
    "x = np.ma.array([1, 2, 3, 4], mask=[0, 1, 0, 1])\n",
    "x"
   ]
  },
  {
   "cell_type": "code",
   "execution_count": null,
   "id": "74c9be4e",
   "metadata": {},
   "outputs": [],
   "source": [
    "y = np.ma.array([1, 2, 3, 4], mask=[0, 1, 1, 1])\n",
    "x + y"
   ]
  },
  {
   "cell_type": "markdown",
   "id": "88ff9aa9",
   "metadata": {},
   "source": [
    "- Masking versions of common functions:"
   ]
  },
  {
   "cell_type": "code",
   "execution_count": null,
   "id": "b3ab16b0",
   "metadata": {},
   "outputs": [],
   "source": [
    "np.ma.sqrt([1, -1, 2, -2])"
   ]
  },
  {
   "cell_type": "markdown",
   "id": "6071f7f0",
   "metadata": {},
   "source": [
    "**Start of note**\n",
    "There are other useful {ref}`array siblings <array-siblings>`\n",
    "**End of note**\n",
    "\n",
    "______________________________________________________________________\n",
    "\n",
    "While it is off topic in a chapter on NumPy, let's take a moment to\n",
    "recall good coding practice, which really do pay off in the long run:\n",
    "\n",
    "**Start of admonition: Good practices**\n",
    "- Explicit variable names (no need of a comment to explain what is in\n",
    "  the variable)\n",
    "\n",
    "- Style: spaces after commas, around `=`, etc.\n",
    "\n",
    "  A certain number of rules for writing \"beautiful\" code (and, more\n",
    "  importantly, using the same conventions as everybody else!) are\n",
    "  given in the [Style Guide for Python Code](https://peps.python.org/pep-0008) and the [Docstring\n",
    "  Conventions](https://peps.python.org/pep-0257) page (to\n",
    "  manage help strings).\n",
    "\n",
    "- Except some rare cases, variable names and comments in English.\n",
    "**End of admonition**"
   ]
  }
 ],
 "metadata": {
  "jupytext": {
   "formats": "ipynb,Rmd"
  },
  "kernelspec": {
   "display_name": "Python (Pyodide)",
   "name": "python"
  }
 },
 "nbformat": 4,
 "nbformat_minor": 5
}
