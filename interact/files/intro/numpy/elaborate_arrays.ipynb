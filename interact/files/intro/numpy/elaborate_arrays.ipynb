{
 "cells": [
  {
   "cell_type": "code",
   "execution_count": null,
   "id": "38989fb8",
   "metadata": {
    "tags": [
     "hide-input"
    ]
   },
   "outputs": [],
   "source": [
    "import numpy as np\n",
    "import matplotlib.pyplot as plt"
   ]
  },
  {
   "cell_type": "markdown",
   "id": "aada4464",
   "metadata": {},
   "source": [
    "# More elaborate arrays\n",
    "\n",
    "## More data types\n",
    "\n",
    "### Casting\n",
    "\n",
    "\"Bigger\" type wins in mixed-type operations:"
   ]
  },
  {
   "cell_type": "code",
   "execution_count": null,
   "id": "c781b8c5",
   "metadata": {},
   "outputs": [],
   "source": [
    "np.array([1, 2, 3]) + 1.5"
   ]
  },
  {
   "cell_type": "markdown",
   "id": "067a3cca",
   "metadata": {},
   "source": [
    "Assignment never changes the type!"
   ]
  },
  {
   "cell_type": "code",
   "execution_count": null,
   "id": "d7ac55f1",
   "metadata": {},
   "outputs": [],
   "source": [
    "a = np.array([1, 2, 3])\n",
    "a.dtype"
   ]
  },
  {
   "cell_type": "code",
   "execution_count": null,
   "id": "d566e750",
   "metadata": {},
   "outputs": [],
   "source": [
    "a[0] = 1.9     # <-- float is truncated to integer\n",
    "a"
   ]
  },
  {
   "cell_type": "markdown",
   "id": "3dda2b0d",
   "metadata": {},
   "source": [
    "Forced casts:"
   ]
  },
  {
   "cell_type": "code",
   "execution_count": null,
   "id": "fb20328a",
   "metadata": {},
   "outputs": [],
   "source": [
    "a = np.array([1.7, 1.2, 1.6])\n",
    "b = a.astype(int)  # <-- truncates to integer\n",
    "b"
   ]
  },
  {
   "cell_type": "markdown",
   "id": "45e97576",
   "metadata": {},
   "source": [
    "Rounding:"
   ]
  },
  {
   "cell_type": "code",
   "execution_count": null,
   "id": "2866f149",
   "metadata": {},
   "outputs": [],
   "source": [
    "a = np.array([1.2, 1.5, 1.6, 2.5, 3.5, 4.5])\n",
    "b = np.around(a)\n",
    "b                    # still floating-point"
   ]
  },
  {
   "cell_type": "code",
   "execution_count": null,
   "id": "31a03a25",
   "metadata": {},
   "outputs": [],
   "source": [
    "c = np.around(a).astype(int)\n",
    "c"
   ]
  },
  {
   "cell_type": "markdown",
   "id": "acb76004",
   "metadata": {},
   "source": [
    "### Different data type sizes\n",
    "\n",
    "Integers (signed):\n",
    "\n",
    "| Class   | Bits                                       |\n",
    "| ------- | ------------------------------------------ |\n",
    "| `int8`  | 8 bits                                     |\n",
    "| `int16` | 16b its                                    |\n",
    "| `int32` | 32 bits (same as `int` on 32-bit platform) |\n",
    "| `int64` | 64 bits (same as `int` on 64-bit platform) |"
   ]
  },
  {
   "cell_type": "code",
   "execution_count": null,
   "id": "2e4cb690",
   "metadata": {},
   "outputs": [],
   "source": [
    "np.array([1], dtype=int).dtype"
   ]
  },
  {
   "cell_type": "code",
   "execution_count": null,
   "id": "4237a48b",
   "metadata": {},
   "outputs": [],
   "source": [
    "np.iinfo(np.int32).max, 2**31 - 1"
   ]
  },
  {
   "cell_type": "markdown",
   "id": "b1384457",
   "metadata": {},
   "source": [
    "Unsigned integers:\n",
    "\n",
    "| Class    | Bits    |\n",
    "| -------- | ------- |\n",
    "| `uint8`  | 8 bits  |\n",
    "| `uint16` | 16 bits |\n",
    "| `uint32` | 32 bits |\n",
    "| `uint64` | 64 bits |"
   ]
  },
  {
   "cell_type": "code",
   "execution_count": null,
   "id": "894c98be",
   "metadata": {},
   "outputs": [],
   "source": [
    "np.iinfo(np.uint32).max, 2**32 - 1"
   ]
  },
  {
   "cell_type": "markdown",
   "id": "b9bbf8e4",
   "metadata": {},
   "source": [
    "Floating-point numbers:\n",
    "\n",
    "| Data Type  | Size (bits)                                            |\n",
    "| ---------- | ------------------------------------------------------ |\n",
    "| `float16`  | 16 bits                                                |\n",
    "| `float32`  | 32 bits                                                |\n",
    "| `float64`  | 64 bits (same as `float`)                              |\n",
    "| `float96`  | 96 bits, platform-dependent (same as `np.longdouble`)  |\n",
    "| `float128` | 128 bits, platform-dependent (same as `np.longdouble`) |"
   ]
  },
  {
   "cell_type": "code",
   "execution_count": null,
   "id": "5ecdfcea",
   "metadata": {},
   "outputs": [],
   "source": [
    "np.finfo(np.float32).eps"
   ]
  },
  {
   "cell_type": "code",
   "execution_count": null,
   "id": "1e11c072",
   "metadata": {},
   "outputs": [],
   "source": [
    "np.finfo(np.float64).eps"
   ]
  },
  {
   "cell_type": "code",
   "execution_count": null,
   "id": "a1ae65fc",
   "metadata": {},
   "outputs": [],
   "source": [
    "np.float32(1e-8) + np.float32(1) == 1"
   ]
  },
  {
   "cell_type": "code",
   "execution_count": null,
   "id": "8622a948",
   "metadata": {},
   "outputs": [],
   "source": [
    "np.float64(1e-8) + np.float64(1) == 1"
   ]
  },
  {
   "cell_type": "markdown",
   "id": "2073701d",
   "metadata": {},
   "source": [
    "Complex floating-point numbers:\n",
    "\n",
    "| Data Type    | Size (bits)                            |\n",
    "| ------------ | -------------------------------------- |\n",
    "| `complex64`  | two 32-bit floats                      |\n",
    "| `complex128` | two 64-bit floats                      |\n",
    "| `complex192` | two 96-bit floats, platform-dependent  |\n",
    "| `complex256` | two 128-bit floats, platform-dependent |\n",
    "\n",
    ":::{admonition} Smaller data types\n",
    "If you don't know you need special data types, then you probably don't.\n",
    "\n",
    "Comparison on using `float32` instead of `float64`:\n",
    "\n",
    "- Half the size in memory and on disk\n",
    "\n",
    "- Half the memory bandwidth required (may be a bit faster in some operations)\n",
    "\n",
    "  ```ipython\n",
    "  In [1]: a = np.zeros((int(1e6),), dtype=np.float64)\n",
    "\n",
    "  In [2]: b = np.zeros((int(1e6),), dtype=np.float32)\n",
    "\n",
    "  In [3]: %timeit a*a\n",
    "  1000 loops, best of 3: 1.78 ms per loop\n",
    "\n",
    "  In [4]: %timeit b*b\n",
    "  1000 loops, best of 3: 1.07 ms per loop\n",
    "  ```\n",
    "\n",
    "- But: bigger rounding errors — sometimes in surprising places\n",
    "  (i.e., don't use them unless you really need them)\n",
    "  :::\n",
    "\n",
    "## Structured data types\n",
    "\n",
    "| Data Type     | Description        |\n",
    "| ------------- | ------------------ |\n",
    "| `sensor_code` | 4-character string |\n",
    "| `position`    | float              |\n",
    "| `value`       | float              |"
   ]
  },
  {
   "cell_type": "code",
   "execution_count": null,
   "id": "adda4e8a",
   "metadata": {},
   "outputs": [],
   "source": [
    "samples = np.zeros((6,), dtype=[('sensor_code', 'S4'),\n",
    "                                ('position', float), ('value', float)])\n",
    "samples.ndim"
   ]
  },
  {
   "cell_type": "code",
   "execution_count": null,
   "id": "ec7b78a1",
   "metadata": {},
   "outputs": [],
   "source": [
    "samples.shape"
   ]
  },
  {
   "cell_type": "code",
   "execution_count": null,
   "id": "16e1c472",
   "metadata": {},
   "outputs": [],
   "source": [
    "samples.dtype.names"
   ]
  },
  {
   "cell_type": "code",
   "execution_count": null,
   "id": "aa6826ed",
   "metadata": {},
   "outputs": [],
   "source": [
    "samples[:] = [('ALFA',   1, 0.37), ('BETA', 1, 0.11), ('TAU', 1,   0.13),\n",
    "              ('ALFA', 1.5, 0.37), ('ALFA', 3, 0.11), ('TAU', 1.2, 0.13)]\n",
    "samples"
   ]
  },
  {
   "cell_type": "markdown",
   "id": "6382bd83",
   "metadata": {},
   "source": [
    "Field access works by indexing with field names:"
   ]
  },
  {
   "cell_type": "code",
   "execution_count": null,
   "id": "a7f83d1a",
   "metadata": {},
   "outputs": [],
   "source": [
    "samples['sensor_code']"
   ]
  },
  {
   "cell_type": "code",
   "execution_count": null,
   "id": "d53167a5",
   "metadata": {},
   "outputs": [],
   "source": [
    "samples['value']"
   ]
  },
  {
   "cell_type": "code",
   "execution_count": null,
   "id": "9470b284",
   "metadata": {},
   "outputs": [],
   "source": [
    "samples[0]"
   ]
  },
  {
   "cell_type": "code",
   "execution_count": null,
   "id": "d186239c",
   "metadata": {},
   "outputs": [],
   "source": [
    "samples[0]['sensor_code'] = 'TAU'\n",
    "samples[0]"
   ]
  },
  {
   "cell_type": "markdown",
   "id": "f72a08f9",
   "metadata": {},
   "source": [
    "Multiple fields at once:"
   ]
  },
  {
   "cell_type": "code",
   "execution_count": null,
   "id": "cdd44626",
   "metadata": {},
   "outputs": [],
   "source": [
    "samples[['position', 'value']]"
   ]
  },
  {
   "cell_type": "markdown",
   "id": "8b4ba250",
   "metadata": {},
   "source": [
    "Fancy indexing works, as usual:"
   ]
  },
  {
   "cell_type": "code",
   "execution_count": null,
   "id": "0c9e0df5",
   "metadata": {},
   "outputs": [],
   "source": [
    "samples[samples['sensor_code'] == b'ALFA']"
   ]
  },
  {
   "cell_type": "markdown",
   "id": "d55ef38f",
   "metadata": {},
   "source": [
    ":::{note}\n",
    "There are a bunch of other syntaxes for constructing structured\n",
    "arrays, see [here](https://numpy.org/doc/stable/user/basics.rec.html)\n",
    "and [here](https://numpy.org/doc/stable/reference/arrays.dtypes.html#specifying-and-constructing-data-types).\n",
    ":::\n",
    "\n",
    "## {class}`maskedarray`: dealing with (propagation of) missing data\n",
    "\n",
    "- For floats one could use NaN's, but masks work for all types:"
   ]
  },
  {
   "cell_type": "code",
   "execution_count": null,
   "id": "063d99cb",
   "metadata": {},
   "outputs": [],
   "source": [
    "x = np.ma.array([1, 2, 3, 4], mask=[0, 1, 0, 1])\n",
    "x"
   ]
  },
  {
   "cell_type": "code",
   "execution_count": null,
   "id": "caeb4ba4",
   "metadata": {},
   "outputs": [],
   "source": [
    "y = np.ma.array([1, 2, 3, 4], mask=[0, 1, 1, 1])\n",
    "x + y"
   ]
  },
  {
   "cell_type": "markdown",
   "id": "707dec5d",
   "metadata": {},
   "source": [
    "- Masking versions of common functions:"
   ]
  },
  {
   "cell_type": "code",
   "execution_count": null,
   "id": "8991d7b7",
   "metadata": {},
   "outputs": [],
   "source": [
    "np.ma.sqrt([1, -1, 2, -2])"
   ]
  },
  {
   "cell_type": "markdown",
   "id": "27f26dc8",
   "metadata": {},
   "source": [
    ":::{note}\n",
    "There are other useful {ref}`array siblings <array-siblings>`\n",
    ":::\n",
    "\n",
    "---\n",
    "\n",
    "While it is off topic in a chapter on NumPy, let's take a moment to\n",
    "recall good coding practice, which really do pay off in the long run:\n",
    "\n",
    ":::{admonition} Good practices\n",
    "\n",
    "- Explicit variable names (no need of a comment to explain what is in\n",
    "  the variable)\n",
    "\n",
    "- Style: spaces after commas, around `=`, etc.\n",
    "\n",
    "  A certain number of rules for writing \"beautiful\" code (and, more\n",
    "  importantly, using the same conventions as everybody else!) are\n",
    "  given in the [Style Guide for Python Code](https://peps.python.org/pep-0008) and the [Docstring\n",
    "  Conventions](https://peps.python.org/pep-0257) page (to\n",
    "  manage help strings).\n",
    "\n",
    "- Except some rare cases, variable names and comments in English.\n",
    "  :::"
   ]
  }
 ],
 "metadata": {
  "kernelspec": {
   "display_name": "Python (Pyodide)",
   "name": "python"
  }
 },
 "nbformat": 4,
 "nbformat_minor": 5
}
