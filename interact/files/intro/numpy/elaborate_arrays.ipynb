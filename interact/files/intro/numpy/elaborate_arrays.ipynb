{
 "cells": [
  {
   "cell_type": "code",
   "execution_count": null,
   "id": "841a7cb6",
   "metadata": {
    "tags": [
     "hide-input"
    ]
   },
   "outputs": [],
   "source": [
    "import numpy as np\n",
    "import matplotlib.pyplot as plt"
   ]
  },
  {
   "cell_type": "markdown",
   "id": "47f30096",
   "metadata": {},
   "source": [
    "# More elaborate arrays\n",
    "\n",
    "## More data types\n",
    "\n",
    "### Casting\n",
    "\n",
    "\"Bigger\" type wins in mixed-type operations:"
   ]
  },
  {
   "cell_type": "code",
   "execution_count": null,
   "id": "5e7b0453",
   "metadata": {},
   "outputs": [],
   "source": [
    "np.array([1, 2, 3]) + 1.5"
   ]
  },
  {
   "cell_type": "markdown",
   "id": "27a54ec9",
   "metadata": {},
   "source": [
    "Assignment never changes the type!"
   ]
  },
  {
   "cell_type": "code",
   "execution_count": null,
   "id": "a783de38",
   "metadata": {},
   "outputs": [],
   "source": [
    "a = np.array([1, 2, 3])\n",
    "a.dtype"
   ]
  },
  {
   "cell_type": "code",
   "execution_count": null,
   "id": "d15c1da9",
   "metadata": {},
   "outputs": [],
   "source": [
    "a[0] = 1.9     # <-- float is truncated to integer\n",
    "a"
   ]
  },
  {
   "cell_type": "markdown",
   "id": "458feb03",
   "metadata": {},
   "source": [
    "Forced casts:"
   ]
  },
  {
   "cell_type": "code",
   "execution_count": null,
   "id": "0d312960",
   "metadata": {},
   "outputs": [],
   "source": [
    "a = np.array([1.7, 1.2, 1.6])\n",
    "b = a.astype(int)  # <-- truncates to integer\n",
    "b"
   ]
  },
  {
   "cell_type": "markdown",
   "id": "6260841d",
   "metadata": {},
   "source": [
    "Rounding:"
   ]
  },
  {
   "cell_type": "code",
   "execution_count": null,
   "id": "02e36fe5",
   "metadata": {},
   "outputs": [],
   "source": [
    "a = np.array([1.2, 1.5, 1.6, 2.5, 3.5, 4.5])\n",
    "b = np.around(a)\n",
    "b                    # still floating-point"
   ]
  },
  {
   "cell_type": "code",
   "execution_count": null,
   "id": "6e222346",
   "metadata": {},
   "outputs": [],
   "source": [
    "c = np.around(a).astype(int)\n",
    "c"
   ]
  },
  {
   "cell_type": "markdown",
   "id": "33c2b537",
   "metadata": {},
   "source": [
    "### Different data type sizes\n",
    "\n",
    "Integers (signed):\n",
    "\n",
    "| Class   | Bits                                       |\n",
    "| ------- | ------------------------------------------ |\n",
    "| `int8`  | 8 bits                                     |\n",
    "| `int16` | 16b its                                    |\n",
    "| `int32` | 32 bits (same as `int` on 32-bit platform) |\n",
    "| `int64` | 64 bits (same as `int` on 64-bit platform) |"
   ]
  },
  {
   "cell_type": "code",
   "execution_count": null,
   "id": "7e5c55a9",
   "metadata": {},
   "outputs": [],
   "source": [
    "np.array([1], dtype=int).dtype"
   ]
  },
  {
   "cell_type": "code",
   "execution_count": null,
   "id": "64669269",
   "metadata": {},
   "outputs": [],
   "source": [
    "np.iinfo(np.int32).max, 2**31 - 1"
   ]
  },
  {
   "cell_type": "markdown",
   "id": "bdf329d2",
   "metadata": {},
   "source": [
    "Unsigned integers:\n",
    "\n",
    "| Class    | Bits    |\n",
    "| -------- | ------- |\n",
    "| `uint8`  | 8 bits  |\n",
    "| `uint16` | 16 bits |\n",
    "| `uint32` | 32 bits |\n",
    "| `uint64` | 64 bits |"
   ]
  },
  {
   "cell_type": "code",
   "execution_count": null,
   "id": "dc210242",
   "metadata": {},
   "outputs": [],
   "source": [
    "np.iinfo(np.uint32).max, 2**32 - 1"
   ]
  },
  {
   "cell_type": "markdown",
   "id": "57336186",
   "metadata": {},
   "source": [
    "Floating-point numbers:\n",
    "\n",
    "| Data Type  | Size (bits)                                            |\n",
    "| ---------- | ------------------------------------------------------ |\n",
    "| `float16`  | 16 bits                                                |\n",
    "| `float32`  | 32 bits                                                |\n",
    "| `float64`  | 64 bits (same as `float`)                              |\n",
    "| `float96`  | 96 bits, platform-dependent (same as `np.longdouble`)  |\n",
    "| `float128` | 128 bits, platform-dependent (same as `np.longdouble`) |"
   ]
  },
  {
   "cell_type": "code",
   "execution_count": null,
   "id": "8ced75ac",
   "metadata": {},
   "outputs": [],
   "source": [
    "np.finfo(np.float32).eps"
   ]
  },
  {
   "cell_type": "code",
   "execution_count": null,
   "id": "a45f611e",
   "metadata": {},
   "outputs": [],
   "source": [
    "np.finfo(np.float64).eps"
   ]
  },
  {
   "cell_type": "code",
   "execution_count": null,
   "id": "02fb1a65",
   "metadata": {},
   "outputs": [],
   "source": [
    "np.float32(1e-8) + np.float32(1) == 1"
   ]
  },
  {
   "cell_type": "code",
   "execution_count": null,
   "id": "7c7100d4",
   "metadata": {},
   "outputs": [],
   "source": [
    "np.float64(1e-8) + np.float64(1) == 1"
   ]
  },
  {
   "cell_type": "markdown",
   "id": "a0ea63a8",
   "metadata": {},
   "source": [
    "Complex floating-point numbers:\n",
    "\n",
    "| Data Type    | Size (bits)                            |\n",
    "| ------------ | -------------------------------------- |\n",
    "| `complex64`  | two 32-bit floats                      |\n",
    "| `complex128` | two 64-bit floats                      |\n",
    "| `complex192` | two 96-bit floats, platform-dependent  |\n",
    "| `complex256` | two 128-bit floats, platform-dependent |\n",
    "\n",
    "**Start of admonition: Smaller data types**\n",
    "If you don't know you need special data types, then you probably don't.\n",
    "\n",
    "Comparison on using `float32` instead of `float64`:\n",
    "\n",
    "- Half the size in memory and on disk\n",
    "\n",
    "- Half the memory bandwidth required (may be a bit faster in some operations)\n",
    "\n",
    "  ```ipython\n",
    "  In [1]: a = np.zeros((int(1e6),), dtype=np.float64)\n",
    "\n",
    "  In [2]: b = np.zeros((int(1e6),), dtype=np.float32)\n",
    "\n",
    "  In [3]: %timeit a*a\n",
    "  1000 loops, best of 3: 1.78 ms per loop\n",
    "\n",
    "  In [4]: %timeit b*b\n",
    "  1000 loops, best of 3: 1.07 ms per loop\n",
    "  ```\n",
    "\n",
    "- But: bigger rounding errors — sometimes in surprising places\n",
    "  (i.e., don't use them unless you really need them)\n",
    "**End of admonition**\n",
    "\n",
    "## Structured data types\n",
    "\n",
    "| Data Type     | Description        |\n",
    "| ------------- | ------------------ |\n",
    "| `sensor_code` | 4-character string |\n",
    "| `position`    | float              |\n",
    "| `value`       | float              |"
   ]
  },
  {
   "cell_type": "code",
   "execution_count": null,
   "id": "d5282d64",
   "metadata": {},
   "outputs": [],
   "source": [
    "samples = np.zeros((6,), dtype=[('sensor_code', 'S4'),\n",
    "                                ('position', float), ('value', float)])\n",
    "samples.ndim"
   ]
  },
  {
   "cell_type": "code",
   "execution_count": null,
   "id": "a1f013cb",
   "metadata": {},
   "outputs": [],
   "source": [
    "samples.shape"
   ]
  },
  {
   "cell_type": "code",
   "execution_count": null,
   "id": "a1e79e5c",
   "metadata": {},
   "outputs": [],
   "source": [
    "samples.dtype.names"
   ]
  },
  {
   "cell_type": "code",
   "execution_count": null,
   "id": "c9c0ebb0",
   "metadata": {},
   "outputs": [],
   "source": [
    "samples[:] = [('ALFA',   1, 0.37), ('BETA', 1, 0.11), ('TAU', 1,   0.13),\n",
    "              ('ALFA', 1.5, 0.37), ('ALFA', 3, 0.11), ('TAU', 1.2, 0.13)]\n",
    "samples"
   ]
  },
  {
   "cell_type": "markdown",
   "id": "8f150ba1",
   "metadata": {},
   "source": [
    "Field access works by indexing with field names:"
   ]
  },
  {
   "cell_type": "code",
   "execution_count": null,
   "id": "b43d680e",
   "metadata": {},
   "outputs": [],
   "source": [
    "samples['sensor_code']"
   ]
  },
  {
   "cell_type": "code",
   "execution_count": null,
   "id": "7de78205",
   "metadata": {},
   "outputs": [],
   "source": [
    "samples['value']"
   ]
  },
  {
   "cell_type": "code",
   "execution_count": null,
   "id": "b63706f8",
   "metadata": {},
   "outputs": [],
   "source": [
    "samples[0]"
   ]
  },
  {
   "cell_type": "code",
   "execution_count": null,
   "id": "1cc3fa6c",
   "metadata": {},
   "outputs": [],
   "source": [
    "samples[0]['sensor_code'] = 'TAU'\n",
    "samples[0]"
   ]
  },
  {
   "cell_type": "markdown",
   "id": "40c954d0",
   "metadata": {},
   "source": [
    "Multiple fields at once:"
   ]
  },
  {
   "cell_type": "code",
   "execution_count": null,
   "id": "c778d9d3",
   "metadata": {},
   "outputs": [],
   "source": [
    "samples[['position', 'value']]"
   ]
  },
  {
   "cell_type": "markdown",
   "id": "dc58d31d",
   "metadata": {},
   "source": [
    "Fancy indexing works, as usual:"
   ]
  },
  {
   "cell_type": "code",
   "execution_count": null,
   "id": "fd643186",
   "metadata": {},
   "outputs": [],
   "source": [
    "samples[samples['sensor_code'] == b'ALFA']"
   ]
  },
  {
   "cell_type": "markdown",
   "id": "3fa3cdcf",
   "metadata": {},
   "source": [
    "**Start of note**\n",
    "There are a bunch of other syntaxes for constructing structured\n",
    "arrays, see [here](https://numpy.org/doc/stable/user/basics.rec.html)\n",
    "and [here](https://numpy.org/doc/stable/reference/arrays.dtypes.html#specifying-and-constructing-data-types).\n",
    "**End of note**\n",
    "\n",
    "## {class}`maskedarray`: dealing with (propagation of) missing data\n",
    "\n",
    "- For floats one could use NaN's, but masks work for all types:"
   ]
  },
  {
   "cell_type": "code",
   "execution_count": null,
   "id": "762d3448",
   "metadata": {},
   "outputs": [],
   "source": [
    "x = np.ma.array([1, 2, 3, 4], mask=[0, 1, 0, 1])\n",
    "x"
   ]
  },
  {
   "cell_type": "code",
   "execution_count": null,
   "id": "4513c15d",
   "metadata": {},
   "outputs": [],
   "source": [
    "y = np.ma.array([1, 2, 3, 4], mask=[0, 1, 1, 1])\n",
    "x + y"
   ]
  },
  {
   "cell_type": "markdown",
   "id": "0ae8f04c",
   "metadata": {},
   "source": [
    "- Masking versions of common functions:"
   ]
  },
  {
   "cell_type": "code",
   "execution_count": null,
   "id": "11ff4ff2",
   "metadata": {},
   "outputs": [],
   "source": [
    "np.ma.sqrt([1, -1, 2, -2])"
   ]
  },
  {
   "cell_type": "markdown",
   "id": "b966bc25",
   "metadata": {},
   "source": [
    "**Start of note**\n",
    "There are other useful {ref}`array siblings <array-siblings>`\n",
    "**End of note**\n",
    "\n",
    "---\n",
    "\n",
    "While it is off topic in a chapter on NumPy, let's take a moment to\n",
    "recall good coding practice, which really do pay off in the long run:\n",
    "\n",
    "**Start of admonition: Good practices**\n",
    "\n",
    "- Explicit variable names (no need of a comment to explain what is in\n",
    "  the variable)\n",
    "\n",
    "- Style: spaces after commas, around `=`, etc.\n",
    "\n",
    "  A certain number of rules for writing \"beautiful\" code (and, more\n",
    "  importantly, using the same conventions as everybody else!) are\n",
    "  given in the [Style Guide for Python Code](https://peps.python.org/pep-0008) and the [Docstring\n",
    "  Conventions](https://peps.python.org/pep-0257) page (to\n",
    "  manage help strings).\n",
    "\n",
    "- Except some rare cases, variable names and comments in English.\n",
    "**End of admonition**"
   ]
  }
 ],
 "metadata": {
  "kernelspec": {
   "display_name": "Python (Pyodide)",
   "name": "python"
  }
 },
 "nbformat": 4,
 "nbformat_minor": 5
}
