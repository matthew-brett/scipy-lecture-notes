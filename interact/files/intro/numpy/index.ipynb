{
 "cells": [
  {
   "cell_type": "markdown",
   "id": "ec5e4ea3",
   "metadata": {},
   "source": [
    "# NumPy: creating and manipulating numerical data\n",
    "\n",
    "**Authors**: _Emmanuelle Gouillart, Didrik Pinte, Gaël Varoquaux, and\n",
    "Pauli Virtanen_\n",
    "\n",
    "This chapter gives an overview of NumPy, the core tool for performant\n",
    "numerical computing with Python."
   ]
  }
 ],
 "metadata": {
  "kernelspec": {
   "display_name": "Python (Pyodide)",
   "name": "python"
  }
 },
 "nbformat": 4,
 "nbformat_minor": 5
}
