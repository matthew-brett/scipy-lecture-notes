{
 "cells": [
  {
   "cell_type": "markdown",
   "id": "75e429f2",
   "metadata": {},
   "source": [
    "# Getting help and finding documentation\n",
    "\n",
    "**Author**: *Emmanuelle Gouillart*\n",
    "\n",
    "Rather than knowing all functions in NumPy and SciPy, it is important to\n",
    "find information throughout the documentation and the available help. Here are\n",
    "some ways to get information:\n",
    "\n",
    "## `help` in Jupyter and IPython\n",
    "\n",
    "In the Jupyter notebook, and in IPython terminals, one can use the `help`\n",
    "function to see the docstring of any particular function.  For example:"
   ]
  },
  {
   "cell_type": "code",
   "execution_count": null,
   "id": "d4adde8f",
   "metadata": {},
   "outputs": [],
   "source": [
    "import numpy as np\n",
    "\n",
    "help(np.around)"
   ]
  },
  {
   "cell_type": "markdown",
   "id": "bd2db0c1",
   "metadata": {},
   "source": [
    "Jupyter and IPython also recognize `?` at the end of the function name as a request to the function docstring, so executing:"
   ]
  },
  {
   "cell_type": "code",
   "execution_count": null,
   "id": "cfdcf63e",
   "metadata": {},
   "outputs": [],
   "source": [
    "np.around?"
   ]
  },
  {
   "cell_type": "markdown",
   "id": "33582c7d",
   "metadata": {},
   "source": [
    "is equivalent to executing `help(around)`.\n",
    "\n",
    "You only need type the beginning of the function's name and use tab completion\n",
    "to display the matching functions.  For example, if you were interesting the `np.vander` function, you can type the Tab key after `np.van` to tab complete to the only function starting with `np.van` (`np.vander`)."
   ]
  },
  {
   "cell_type": "code",
   "execution_count": null,
   "id": "60b120d1",
   "metadata": {},
   "outputs": [],
   "source": [
    "# Uncomment, and press Tab at the end of `np.van` to show tab completion.\n",
    "# np.van"
   ]
  },
  {
   "cell_type": "markdown",
   "id": "7622a82e",
   "metadata": {},
   "source": [
    "In the standard Ipython terminal, it is not possible to open a separate window\n",
    "for help and documentation; however one can always open a second `Ipython`\n",
    "shell just to display help and docstrings...\n",
    "\n",
    "## Online documentation\n",
    "\n",
    "Numpy's and Scipy's documentations can be browsed online on\n",
    "<https://scipy.org> and <https://numpy.org>. The `search` button is quite\n",
    "useful inside the reference documentation of the two packages.\n",
    "\n",
    "Tutorials on various topics as well as the complete API with all docstrings are found on this website.\n",
    "\n",
    "The SciPy Cookbook <https://scipy-cookbook.readthedocs.io> gives recipes on\n",
    "many common problems frequently encountered, such as fitting data points,\n",
    "solving ODE, etc.\n",
    "\n",
    "Matplotlib's website <https://matplotlib.org/> features a very nice\n",
    "**gallery** with a large number of plots, each of them shows both the source\n",
    "code and the resulting plot. This is very useful for learning by example. More\n",
    "standard documentation is also available.\n",
    "\n",
    "## `psearch`\n",
    "\n",
    "Jupyter and IPython have a magic function `%psearch` to search for objects\n",
    "matching patterns. This is useful if, for example, one does not know the exact\n",
    "name of a function."
   ]
  },
  {
   "cell_type": "code",
   "execution_count": null,
   "id": "18f73901",
   "metadata": {},
   "outputs": [],
   "source": [
    "%psearch np.diag*"
   ]
  },
  {
   "cell_type": "markdown",
   "id": "862f060e",
   "metadata": {},
   "source": [
    "## If all else fails\n",
    "\n",
    "If everything listed above fails (and Google doesn't have the answer)... don't\n",
    "despair! There is a vibrant Scientific Python community. Scientific Python is\n",
    "present on various platform. <https://scientific-python.org/community/>\n",
    "\n",
    "Packages like SciPy and NumPy also have their own channels. Have a look at\n",
    "their respective websites to find out how to engage with users and\n",
    "maintainers."
   ]
  }
 ],
 "metadata": {
  "jupytext": {
   "formats": "ipynb,Rmd"
  },
  "kernelspec": {
   "display_name": "Python (Pyodide)",
   "name": "python"
  }
 },
 "nbformat": 4,
 "nbformat_minor": 5
}
