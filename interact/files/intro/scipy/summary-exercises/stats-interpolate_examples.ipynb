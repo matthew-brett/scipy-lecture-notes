{
 "cells": [
  {
   "cell_type": "markdown",
   "id": "ca6feab8",
   "metadata": {},
   "source": [
    "# Examples for intro/scipy/summary-exercises/stats-interpolate.Rmd\n",
    "## The Gumbell distribution, results\n",
    "\n",
    "<!--- plot_sprog_annual_maxima -->"
   ]
  },
  {
   "cell_type": "markdown",
   "id": "188b7d81",
   "metadata": {},
   "source": [
    "Generate the exercise results on the Gumbell distribution"
   ]
  },
  {
   "cell_type": "code",
   "execution_count": null,
   "id": "a097f969",
   "metadata": {},
   "outputs": [],
   "source": [
    "import numpy as np\n",
    "import matplotlib.pyplot as plt"
   ]
  },
  {
   "cell_type": "code",
   "execution_count": null,
   "id": "6ce9784a",
   "metadata": {},
   "outputs": [],
   "source": [
    "years_nb = 21\n",
    "wspeeds = np.load(\"examples/sprog-windspeeds.npy\")\n",
    "max_speeds = np.array([arr.max() for arr in np.array_split(wspeeds, years_nb)])"
   ]
  },
  {
   "cell_type": "code",
   "execution_count": null,
   "id": "2a108222",
   "metadata": {},
   "outputs": [],
   "source": [
    "plt.figure()\n",
    "plt.bar(np.arange(years_nb) + 1, max_speeds)\n",
    "plt.axis(\"tight\")\n",
    "plt.xlabel(\"Year\")\n",
    "plt.ylabel(\"Annual wind speed maxima [$m/s$]\")"
   ]
  },
  {
   "cell_type": "markdown",
   "id": "35db4023",
   "metadata": {},
   "source": [
    "## The Gumbell distribution\n",
    "\n",
    "<!--- plot_gumbell_wind_speed_prediction -->"
   ]
  },
  {
   "cell_type": "markdown",
   "id": "5f5ecc04",
   "metadata": {},
   "source": [
    "Generate the exercise results on the Gumbell distribution"
   ]
  },
  {
   "cell_type": "code",
   "execution_count": null,
   "id": "b34a1c6a",
   "metadata": {},
   "outputs": [],
   "source": [
    "import scipy as sp"
   ]
  },
  {
   "cell_type": "code",
   "execution_count": null,
   "id": "1a027f31",
   "metadata": {},
   "outputs": [],
   "source": [
    "def gumbell_dist(arr):\n",
    "    return -np.log(-np.log(arr))"
   ]
  },
  {
   "cell_type": "code",
   "execution_count": null,
   "id": "8cd46996",
   "metadata": {},
   "outputs": [],
   "source": [
    "years_nb = 21\n",
    "wspeeds = np.load(\"examples/sprog-windspeeds.npy\")\n",
    "max_speeds = np.array([arr.max() for arr in np.array_split(wspeeds, years_nb)])\n",
    "sorted_max_speeds = np.sort(max_speeds)"
   ]
  },
  {
   "cell_type": "code",
   "execution_count": null,
   "id": "457905c6",
   "metadata": {},
   "outputs": [],
   "source": [
    "cprob = (np.arange(years_nb, dtype=np.float32) + 1) / (years_nb + 1)\n",
    "gprob = gumbell_dist(cprob)\n",
    "speed_spline = sp.interpolate.UnivariateSpline(gprob, sorted_max_speeds, k=1)\n",
    "nprob = gumbell_dist(np.linspace(1e-3, 1 - 1e-3, 100))\n",
    "fitted_max_speeds = speed_spline(nprob)"
   ]
  },
  {
   "cell_type": "code",
   "execution_count": null,
   "id": "209dee38",
   "metadata": {},
   "outputs": [],
   "source": [
    "fifty_prob = gumbell_dist(49.0 / 50.0)\n",
    "fifty_wind = speed_spline(fifty_prob)"
   ]
  },
  {
   "cell_type": "code",
   "execution_count": null,
   "id": "2d96cbea",
   "metadata": {
    "tags": [
     "hide-input"
    ]
   },
   "outputs": [],
   "source": [
    "plt.figure()\n",
    "plt.plot(sorted_max_speeds, gprob, \"o\")\n",
    "plt.plot(fitted_max_speeds, nprob, \"g--\")\n",
    "plt.plot([fifty_wind], [fifty_prob], \"o\", ms=8.0, mfc=\"y\", mec=\"y\")\n",
    "plt.plot([fifty_wind, fifty_wind], [plt.axis()[2], fifty_prob], \"k--\")\n",
    "plt.text(35, -1, rf\"$V_{{50}} = {fifty_wind:.2f} \\, m/s$\")\n",
    "plt.xlabel(\"Annual wind speed maxima [$m/s$]\")\n",
    "plt.ylabel(\"Gumbell cumulative probability\")"
   ]
  },
  {
   "cell_type": "markdown",
   "id": "09e63190",
   "metadata": {},
   "source": [
    "## Other examples"
   ]
  },
  {
   "cell_type": "markdown",
   "id": "f3817016",
   "metadata": {},
   "source": [
    "### Cumulative wind speed prediction\n",
    "\n",
    "<!--- plot_cumulative_wind_speed_prediction -->"
   ]
  },
  {
   "cell_type": "markdown",
   "id": "13d11e16",
   "metadata": {},
   "source": [
    "Generate the image cumulative-wind-speed-prediction.png\n",
    "for the interpolate section of the Scipy tutorial page."
   ]
  },
  {
   "cell_type": "code",
   "execution_count": null,
   "id": "8852432c",
   "metadata": {},
   "outputs": [],
   "source": [
    "max_speeds = np.load(\"examples/max-speeds.npy\")\n",
    "years_nb = max_speeds.shape[0]"
   ]
  },
  {
   "cell_type": "code",
   "execution_count": null,
   "id": "b53b9fef",
   "metadata": {},
   "outputs": [],
   "source": [
    "cprob = (np.arange(years_nb, dtype=np.float32) + 1) / (years_nb + 1)\n",
    "sorted_max_speeds = np.sort(max_speeds)\n",
    "speed_spline = sp.interpolate.UnivariateSpline(cprob, sorted_max_speeds)\n",
    "nprob = np.linspace(0, 1, 100)\n",
    "fitted_max_speeds = speed_spline(nprob)"
   ]
  },
  {
   "cell_type": "code",
   "execution_count": null,
   "id": "f101134d",
   "metadata": {},
   "outputs": [],
   "source": [
    "fifty_prob = 1.0 - 0.02\n",
    "fifty_wind = speed_spline(fifty_prob)"
   ]
  },
  {
   "cell_type": "code",
   "execution_count": null,
   "id": "2b2f3f98",
   "metadata": {},
   "outputs": [],
   "source": [
    "plt.figure()\n",
    "plt.plot(sorted_max_speeds, cprob, \"o\")\n",
    "plt.plot(fitted_max_speeds, nprob, \"g--\")\n",
    "plt.plot([fifty_wind], [fifty_prob], \"o\", ms=8.0, mfc=\"y\", mec=\"y\")\n",
    "plt.text(30, 0.05, rf\"$V_{{50}} = {fifty_wind:.2f} \\, m/s$\")\n",
    "plt.plot([fifty_wind, fifty_wind], [plt.axis()[2], fifty_prob], \"k--\")\n",
    "plt.xlabel(\"Annual wind speed maxima [$m/s$]\")\n",
    "plt.ylabel(\"Cumulative probability\")"
   ]
  },
  {
   "cell_type": "markdown",
   "id": "2a090329",
   "metadata": {},
   "source": [
    "### The lidar system, data (2 of 2 datasets)\n",
    "\n",
    "<!--- plot_optimize_lidar_complex_data -->"
   ]
  },
  {
   "cell_type": "markdown",
   "id": "b37a8a71",
   "metadata": {},
   "source": [
    "Generate a chart of more complex data recorded by the lidar system"
   ]
  },
  {
   "cell_type": "code",
   "execution_count": null,
   "id": "0d2d4331",
   "metadata": {},
   "outputs": [],
   "source": [
    "waveform_2 = np.load(\"examples/waveform_2.npy\")"
   ]
  },
  {
   "cell_type": "code",
   "execution_count": null,
   "id": "615f3a02",
   "metadata": {},
   "outputs": [],
   "source": [
    "t = np.arange(len(waveform_2))"
   ]
  },
  {
   "cell_type": "code",
   "execution_count": null,
   "id": "93a8a1cb",
   "metadata": {
    "tags": [
     "hide-input"
    ]
   },
   "outputs": [],
   "source": [
    "fig, ax = plt.subplots(figsize=(8, 6))\n",
    "plt.plot(t, waveform_2)\n",
    "plt.xlabel(\"Time [ns]\")\n",
    "plt.ylabel(\"Amplitude [bins]\")"
   ]
  },
  {
   "cell_type": "markdown",
   "id": "be1ddd71",
   "metadata": {},
   "source": [
    "### The lidar system, data and fit (2 of 2 datasets)\n",
    "\n",
    "<!--- plot_optimize_lidar_complex_data_fit -->"
   ]
  },
  {
   "cell_type": "markdown",
   "id": "19bac2bd",
   "metadata": {},
   "source": [
    "Generate a chart of the data fitted by Gaussian curve"
   ]
  },
  {
   "cell_type": "code",
   "execution_count": null,
   "id": "5ef75f42",
   "metadata": {},
   "outputs": [],
   "source": [
    "def model(t, coeffs):\n",
    "    return (\n",
    "        coeffs[0]\n",
    "        + coeffs[1] * np.exp(-(((t - coeffs[2]) / coeffs[3]) ** 2))\n",
    "        + coeffs[4] * np.exp(-(((t - coeffs[5]) / coeffs[6]) ** 2))\n",
    "        + coeffs[7] * np.exp(-(((t - coeffs[8]) / coeffs[9]) ** 2))\n",
    "    )"
   ]
  },
  {
   "cell_type": "code",
   "execution_count": null,
   "id": "e22a3e8b",
   "metadata": {},
   "outputs": [],
   "source": [
    "def residuals(coeffs, y, t):\n",
    "    return y - model(t, coeffs)"
   ]
  },
  {
   "cell_type": "code",
   "execution_count": null,
   "id": "9fab7274",
   "metadata": {},
   "outputs": [],
   "source": [
    "waveform_2 = np.load(\"examples/waveform_2.npy\")\n",
    "t = np.arange(len(waveform_2))"
   ]
  },
  {
   "cell_type": "code",
   "execution_count": null,
   "id": "65fd74ce",
   "metadata": {},
   "outputs": [],
   "source": [
    "x0 = np.array([3, 30, 20, 1, 12, 25, 1, 8, 28, 1], dtype=float)\n",
    "x, flag = sp.optimize.leastsq(residuals, x0, args=(waveform_2, t))"
   ]
  },
  {
   "cell_type": "code",
   "execution_count": null,
   "id": "2a97d1db",
   "metadata": {
    "tags": [
     "hide-input"
    ]
   },
   "outputs": [],
   "source": [
    "fig, ax = plt.subplots(figsize=(8, 6))\n",
    "plt.plot(t, waveform_2, t, model(t, x))\n",
    "plt.xlabel(\"Time [ns]\")\n",
    "plt.ylabel(\"Amplitude [bins]\")\n",
    "plt.legend([\"Waveform\", \"Model\"])"
   ]
  },
  {
   "cell_type": "markdown",
   "id": "0a434ee7",
   "metadata": {},
   "source": [
    "### The lidar system, data (1 of 2 datasets)\n",
    "\n",
    "<!--- plot_optimize_lidar_data -->"
   ]
  },
  {
   "cell_type": "markdown",
   "id": "02d612c9",
   "metadata": {},
   "source": [
    "Generate a chart of the data recorded by the lidar system"
   ]
  },
  {
   "cell_type": "code",
   "execution_count": null,
   "id": "6f052de5",
   "metadata": {},
   "outputs": [],
   "source": [
    "waveform_1 = np.load(\"examples/waveform_1.npy\")"
   ]
  },
  {
   "cell_type": "code",
   "execution_count": null,
   "id": "f303d958",
   "metadata": {},
   "outputs": [],
   "source": [
    "t = np.arange(len(waveform_1))"
   ]
  },
  {
   "cell_type": "code",
   "execution_count": null,
   "id": "c9633e32",
   "metadata": {
    "tags": [
     "hide-input"
    ]
   },
   "outputs": [],
   "source": [
    "fig, ax = plt.subplots(figsize=(8, 6))\n",
    "plt.plot(t, waveform_1)\n",
    "plt.xlabel(\"Time [ns]\")\n",
    "plt.ylabel(\"Amplitude [bins]\")"
   ]
  },
  {
   "cell_type": "markdown",
   "id": "74ac148b",
   "metadata": {},
   "source": [
    "### The lidar system, data and fit (1 of 2 datasets)\n",
    "\n",
    "<!--- plot_optimize_lidar_data_fit -->"
   ]
  },
  {
   "cell_type": "markdown",
   "id": "a017b967",
   "metadata": {},
   "source": [
    "Generate a chart of the data fitted by Gaussian curve"
   ]
  },
  {
   "cell_type": "code",
   "execution_count": null,
   "id": "2050df25",
   "metadata": {},
   "outputs": [],
   "source": [
    "def model(t, coeffs):\n",
    "    return coeffs[0] + coeffs[1] * np.exp(-(((t - coeffs[2]) / coeffs[3]) ** 2))"
   ]
  },
  {
   "cell_type": "code",
   "execution_count": null,
   "id": "54d91ad3",
   "metadata": {},
   "outputs": [],
   "source": [
    "def residuals(coeffs, y, t):\n",
    "    return y - model(t, coeffs)"
   ]
  },
  {
   "cell_type": "code",
   "execution_count": null,
   "id": "1f6cbb77",
   "metadata": {},
   "outputs": [],
   "source": [
    "waveform_1 = np.load(\"examples/waveform_1.npy\")\n",
    "t = np.arange(len(waveform_1))"
   ]
  },
  {
   "cell_type": "code",
   "execution_count": null,
   "id": "a29fa6dc",
   "metadata": {},
   "outputs": [],
   "source": [
    "x0 = np.array([3, 30, 15, 1], dtype=float)\n",
    "x, flag = sp.optimize.leastsq(residuals, x0, args=(waveform_1, t))\n",
    "x"
   ]
  },
  {
   "cell_type": "code",
   "execution_count": null,
   "id": "aed9211a",
   "metadata": {
    "tags": [
     "hide-input"
    ]
   },
   "outputs": [],
   "source": [
    "fig, ax = plt.subplots(figsize=(8, 6))\n",
    "plt.plot(t, waveform_1, t, model(t, x))\n",
    "plt.xlabel(\"Time [ns]\")\n",
    "plt.ylabel(\"Amplitude [bins]\")\n",
    "plt.legend([\"Waveform\", \"Model\"])"
   ]
  }
 ],
 "metadata": {
  "jupytext": {
   "formats": "ipynb,Rmd"
  },
  "kernelspec": {
   "display_name": "Python (Pyodide)",
   "name": "python"
  },
  "orphan": true
 },
 "nbformat": 4,
 "nbformat_minor": 5
}
