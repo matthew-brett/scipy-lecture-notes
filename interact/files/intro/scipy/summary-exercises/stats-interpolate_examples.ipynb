{
 "cells": [
  {
   "cell_type": "markdown",
   "id": "ddf9326a",
   "metadata": {},
   "source": [
    "# Examples for intro/scipy/summary-exercises/stats-interpolate.md\n",
    "## The Gumbell distribution, results\n",
    "\n",
    "<!--- plot_sprog_annual_maxima -->"
   ]
  },
  {
   "cell_type": "markdown",
   "id": "1eb9c748",
   "metadata": {},
   "source": [
    "Generate the exercise results on the Gumbell distribution"
   ]
  },
  {
   "cell_type": "code",
   "execution_count": null,
   "id": "bd54c2f5",
   "metadata": {},
   "outputs": [],
   "source": [
    "import numpy as np\n",
    "import matplotlib.pyplot as plt"
   ]
  },
  {
   "cell_type": "code",
   "execution_count": null,
   "id": "bd86b64c",
   "metadata": {},
   "outputs": [],
   "source": [
    "years_nb = 21\n",
    "wspeeds = np.load(\"examples/sprog-windspeeds.npy\")\n",
    "max_speeds = np.array([arr.max() for arr in np.array_split(wspeeds, years_nb)])"
   ]
  },
  {
   "cell_type": "code",
   "execution_count": null,
   "id": "444b02fd",
   "metadata": {},
   "outputs": [],
   "source": [
    "plt.figure()\n",
    "plt.bar(np.arange(years_nb) + 1, max_speeds)\n",
    "plt.axis(\"tight\")\n",
    "plt.xlabel(\"Year\")\n",
    "plt.ylabel(\"Annual wind speed maxima [$m/s$]\")"
   ]
  },
  {
   "cell_type": "markdown",
   "id": "99bf121f",
   "metadata": {},
   "source": [
    "## The Gumbell distribution\n",
    "\n",
    "<!--- plot_gumbell_wind_speed_prediction -->"
   ]
  },
  {
   "cell_type": "markdown",
   "id": "97a63408",
   "metadata": {},
   "source": [
    "Generate the exercise results on the Gumbell distribution"
   ]
  },
  {
   "cell_type": "code",
   "execution_count": null,
   "id": "51db9ec1",
   "metadata": {},
   "outputs": [],
   "source": [
    "import scipy as sp"
   ]
  },
  {
   "cell_type": "code",
   "execution_count": null,
   "id": "e1917f7b",
   "metadata": {},
   "outputs": [],
   "source": [
    "def gumbell_dist(arr):\n",
    "    return -np.log(-np.log(arr))"
   ]
  },
  {
   "cell_type": "code",
   "execution_count": null,
   "id": "0a291ec1",
   "metadata": {},
   "outputs": [],
   "source": [
    "years_nb = 21\n",
    "wspeeds = np.load(\"examples/sprog-windspeeds.npy\")\n",
    "max_speeds = np.array([arr.max() for arr in np.array_split(wspeeds, years_nb)])\n",
    "sorted_max_speeds = np.sort(max_speeds)"
   ]
  },
  {
   "cell_type": "code",
   "execution_count": null,
   "id": "6080d306",
   "metadata": {},
   "outputs": [],
   "source": [
    "cprob = (np.arange(years_nb, dtype=np.float32) + 1) / (years_nb + 1)\n",
    "gprob = gumbell_dist(cprob)\n",
    "speed_spline = sp.interpolate.UnivariateSpline(gprob, sorted_max_speeds, k=1)\n",
    "nprob = gumbell_dist(np.linspace(1e-3, 1 - 1e-3, 100))\n",
    "fitted_max_speeds = speed_spline(nprob)"
   ]
  },
  {
   "cell_type": "code",
   "execution_count": null,
   "id": "23a1d549",
   "metadata": {},
   "outputs": [],
   "source": [
    "fifty_prob = gumbell_dist(49.0 / 50.0)\n",
    "fifty_wind = speed_spline(fifty_prob)"
   ]
  },
  {
   "cell_type": "code",
   "execution_count": null,
   "id": "4d3eb849",
   "metadata": {
    "tags": [
     "hide-input"
    ]
   },
   "outputs": [],
   "source": [
    "plt.figure()\n",
    "plt.plot(sorted_max_speeds, gprob, \"o\")\n",
    "plt.plot(fitted_max_speeds, nprob, \"g--\")\n",
    "plt.plot([fifty_wind], [fifty_prob], \"o\", ms=8.0, mfc=\"y\", mec=\"y\")\n",
    "plt.plot([fifty_wind, fifty_wind], [plt.axis()[2], fifty_prob], \"k--\")\n",
    "plt.text(35, -1, rf\"$V_{{50}} = {fifty_wind:.2f} \\, m/s$\")\n",
    "plt.xlabel(\"Annual wind speed maxima [$m/s$]\")\n",
    "plt.ylabel(\"Gumbell cumulative probability\")"
   ]
  },
  {
   "cell_type": "markdown",
   "id": "47aeee70",
   "metadata": {},
   "source": [
    "## Other examples"
   ]
  },
  {
   "cell_type": "markdown",
   "id": "70330979",
   "metadata": {},
   "source": [
    "### Cumulative wind speed prediction\n",
    "\n",
    "<!--- plot_cumulative_wind_speed_prediction -->"
   ]
  },
  {
   "cell_type": "markdown",
   "id": "e3551d35",
   "metadata": {},
   "source": [
    "Generate the image cumulative-wind-speed-prediction.png\n",
    "for the interpolate section of the Scipy tutorial page."
   ]
  },
  {
   "cell_type": "code",
   "execution_count": null,
   "id": "25824217",
   "metadata": {},
   "outputs": [],
   "source": [
    "max_speeds = np.load(\"examples/max-speeds.npy\")\n",
    "years_nb = max_speeds.shape[0]"
   ]
  },
  {
   "cell_type": "code",
   "execution_count": null,
   "id": "ab46ddd0",
   "metadata": {},
   "outputs": [],
   "source": [
    "cprob = (np.arange(years_nb, dtype=np.float32) + 1) / (years_nb + 1)\n",
    "sorted_max_speeds = np.sort(max_speeds)\n",
    "speed_spline = sp.interpolate.UnivariateSpline(cprob, sorted_max_speeds)\n",
    "nprob = np.linspace(0, 1, 100)\n",
    "fitted_max_speeds = speed_spline(nprob)"
   ]
  },
  {
   "cell_type": "code",
   "execution_count": null,
   "id": "66ba5800",
   "metadata": {},
   "outputs": [],
   "source": [
    "fifty_prob = 1.0 - 0.02\n",
    "fifty_wind = speed_spline(fifty_prob)"
   ]
  },
  {
   "cell_type": "code",
   "execution_count": null,
   "id": "f673dc55",
   "metadata": {},
   "outputs": [],
   "source": [
    "plt.figure()\n",
    "plt.plot(sorted_max_speeds, cprob, \"o\")\n",
    "plt.plot(fitted_max_speeds, nprob, \"g--\")\n",
    "plt.plot([fifty_wind], [fifty_prob], \"o\", ms=8.0, mfc=\"y\", mec=\"y\")\n",
    "plt.text(30, 0.05, rf\"$V_{{50}} = {fifty_wind:.2f} \\, m/s$\")\n",
    "plt.plot([fifty_wind, fifty_wind], [plt.axis()[2], fifty_prob], \"k--\")\n",
    "plt.xlabel(\"Annual wind speed maxima [$m/s$]\")\n",
    "plt.ylabel(\"Cumulative probability\")"
   ]
  },
  {
   "cell_type": "markdown",
   "id": "1a4d524f",
   "metadata": {},
   "source": [
    "### The lidar system, data (2 of 2 datasets)\n",
    "\n",
    "<!--- plot_optimize_lidar_complex_data -->"
   ]
  },
  {
   "cell_type": "markdown",
   "id": "02dbd4d7",
   "metadata": {},
   "source": [
    "Generate a chart of more complex data recorded by the lidar system"
   ]
  },
  {
   "cell_type": "code",
   "execution_count": null,
   "id": "2067d7c6",
   "metadata": {},
   "outputs": [],
   "source": [
    "waveform_2 = np.load(\"examples/waveform_2.npy\")"
   ]
  },
  {
   "cell_type": "code",
   "execution_count": null,
   "id": "d5e5a4c9",
   "metadata": {},
   "outputs": [],
   "source": [
    "t = np.arange(len(waveform_2))"
   ]
  },
  {
   "cell_type": "code",
   "execution_count": null,
   "id": "ff2e7651",
   "metadata": {
    "tags": [
     "hide-input"
    ]
   },
   "outputs": [],
   "source": [
    "fig, ax = plt.subplots(figsize=(8, 6))\n",
    "plt.plot(t, waveform_2)\n",
    "plt.xlabel(\"Time [ns]\")\n",
    "plt.ylabel(\"Amplitude [bins]\")"
   ]
  },
  {
   "cell_type": "markdown",
   "id": "81e965fb",
   "metadata": {},
   "source": [
    "### The lidar system, data and fit (2 of 2 datasets)\n",
    "\n",
    "<!--- plot_optimize_lidar_complex_data_fit -->"
   ]
  },
  {
   "cell_type": "markdown",
   "id": "28dcbc07",
   "metadata": {},
   "source": [
    "Generate a chart of the data fitted by Gaussian curve"
   ]
  },
  {
   "cell_type": "code",
   "execution_count": null,
   "id": "5bfab982",
   "metadata": {},
   "outputs": [],
   "source": [
    "def model(t, coeffs):\n",
    "    return (\n",
    "        coeffs[0]\n",
    "        + coeffs[1] * np.exp(-(((t - coeffs[2]) / coeffs[3]) ** 2))\n",
    "        + coeffs[4] * np.exp(-(((t - coeffs[5]) / coeffs[6]) ** 2))\n",
    "        + coeffs[7] * np.exp(-(((t - coeffs[8]) / coeffs[9]) ** 2))\n",
    "    )"
   ]
  },
  {
   "cell_type": "code",
   "execution_count": null,
   "id": "c8de74f8",
   "metadata": {},
   "outputs": [],
   "source": [
    "def residuals(coeffs, y, t):\n",
    "    return y - model(t, coeffs)"
   ]
  },
  {
   "cell_type": "code",
   "execution_count": null,
   "id": "62ac348f",
   "metadata": {},
   "outputs": [],
   "source": [
    "waveform_2 = np.load(\"examples/waveform_2.npy\")\n",
    "t = np.arange(len(waveform_2))"
   ]
  },
  {
   "cell_type": "code",
   "execution_count": null,
   "id": "7ccbb2a8",
   "metadata": {},
   "outputs": [],
   "source": [
    "x0 = np.array([3, 30, 20, 1, 12, 25, 1, 8, 28, 1], dtype=float)\n",
    "x, flag = sp.optimize.leastsq(residuals, x0, args=(waveform_2, t))"
   ]
  },
  {
   "cell_type": "code",
   "execution_count": null,
   "id": "5437e1df",
   "metadata": {
    "tags": [
     "hide-input"
    ]
   },
   "outputs": [],
   "source": [
    "fig, ax = plt.subplots(figsize=(8, 6))\n",
    "plt.plot(t, waveform_2, t, model(t, x))\n",
    "plt.xlabel(\"Time [ns]\")\n",
    "plt.ylabel(\"Amplitude [bins]\")\n",
    "plt.legend([\"Waveform\", \"Model\"])"
   ]
  },
  {
   "cell_type": "markdown",
   "id": "c7ff63fd",
   "metadata": {},
   "source": [
    "### The lidar system, data (1 of 2 datasets)\n",
    "\n",
    "<!--- plot_optimize_lidar_data -->"
   ]
  },
  {
   "cell_type": "markdown",
   "id": "849d8b54",
   "metadata": {},
   "source": [
    "Generate a chart of the data recorded by the lidar system"
   ]
  },
  {
   "cell_type": "code",
   "execution_count": null,
   "id": "73c577eb",
   "metadata": {},
   "outputs": [],
   "source": [
    "waveform_1 = np.load(\"examples/waveform_1.npy\")"
   ]
  },
  {
   "cell_type": "code",
   "execution_count": null,
   "id": "a5476fd8",
   "metadata": {},
   "outputs": [],
   "source": [
    "t = np.arange(len(waveform_1))"
   ]
  },
  {
   "cell_type": "code",
   "execution_count": null,
   "id": "f9fd52d7",
   "metadata": {
    "tags": [
     "hide-input"
    ]
   },
   "outputs": [],
   "source": [
    "fig, ax = plt.subplots(figsize=(8, 6))\n",
    "plt.plot(t, waveform_1)\n",
    "plt.xlabel(\"Time [ns]\")\n",
    "plt.ylabel(\"Amplitude [bins]\")"
   ]
  },
  {
   "cell_type": "markdown",
   "id": "a331f207",
   "metadata": {},
   "source": [
    "### The lidar system, data and fit (1 of 2 datasets)\n",
    "\n",
    "<!--- plot_optimize_lidar_data_fit -->"
   ]
  },
  {
   "cell_type": "markdown",
   "id": "5cdd5f29",
   "metadata": {},
   "source": [
    "Generate a chart of the data fitted by Gaussian curve"
   ]
  },
  {
   "cell_type": "code",
   "execution_count": null,
   "id": "2b58d3ce",
   "metadata": {},
   "outputs": [],
   "source": [
    "def model(t, coeffs):\n",
    "    return coeffs[0] + coeffs[1] * np.exp(-(((t - coeffs[2]) / coeffs[3]) ** 2))"
   ]
  },
  {
   "cell_type": "code",
   "execution_count": null,
   "id": "0ce01353",
   "metadata": {},
   "outputs": [],
   "source": [
    "def residuals(coeffs, y, t):\n",
    "    return y - model(t, coeffs)"
   ]
  },
  {
   "cell_type": "code",
   "execution_count": null,
   "id": "07a347bf",
   "metadata": {},
   "outputs": [],
   "source": [
    "waveform_1 = np.load(\"examples/waveform_1.npy\")\n",
    "t = np.arange(len(waveform_1))"
   ]
  },
  {
   "cell_type": "code",
   "execution_count": null,
   "id": "f0b0c160",
   "metadata": {},
   "outputs": [],
   "source": [
    "x0 = np.array([3, 30, 15, 1], dtype=float)\n",
    "x, flag = sp.optimize.leastsq(residuals, x0, args=(waveform_1, t))\n",
    "x"
   ]
  },
  {
   "cell_type": "code",
   "execution_count": null,
   "id": "cb79a3cd",
   "metadata": {
    "tags": [
     "hide-input"
    ]
   },
   "outputs": [],
   "source": [
    "fig, ax = plt.subplots(figsize=(8, 6))\n",
    "plt.plot(t, waveform_1, t, model(t, x))\n",
    "plt.xlabel(\"Time [ns]\")\n",
    "plt.ylabel(\"Amplitude [bins]\")\n",
    "plt.legend([\"Waveform\", \"Model\"])"
   ]
  }
 ],
 "metadata": {
  "kernelspec": {
   "display_name": "Python (Pyodide)",
   "name": "python"
  },
  "orphan": true
 },
 "nbformat": 4,
 "nbformat_minor": 5
}
