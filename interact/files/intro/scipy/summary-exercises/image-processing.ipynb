{
 "cells": [
  {
   "cell_type": "markdown",
   "id": "d34dfb81",
   "metadata": {},
   "source": [
    "# Image processing application: counting bubbles and unmolten grains\n",
    "\n",
    "![](../image_processing/MV_HFV_012.jpg)\n",
    "\n",
    "## Statement of the problem\n",
    "\n",
    "1. Open the image file MV_HFV_012.jpg and display it. Browse through the\n",
    "   keyword arguments in the docstring of `imshow` to display the image with\n",
    "   the \"right\" orientation (origin in the bottom left corner, and not the\n",
    "   upper left corner as for standard arrays).\n",
    "\n",
    "   This Scanning Element Microscopy image shows a glass sample (light gray\n",
    "   matrix) with some bubbles (on black) and unmolten sand grains (dark gray).\n",
    "   We wish to determine the fraction of the sample covered by these three\n",
    "   phases, and to estimate the typical size of sand grains and bubbles, their\n",
    "   sizes, etc.\n",
    "\n",
    "2. Crop the image to remove the lower panel with measure information.\n",
    "\n",
    "3. Slightly filter the image with a median filter in order to refine its\n",
    "   histogram. Check how the histogram changes.\n",
    "\n",
    "4. Using the histogram of the filtered image, determine thresholds that allow\n",
    "   to define masks for sand pixels, glass pixels and bubble pixels. Other\n",
    "   option (homework): write a function that determines automatically the\n",
    "   thresholds from the minima of the histogram.\n",
    "\n",
    "5. Display an image in which the three phases are colored with three\n",
    "   different colors.\n",
    "\n",
    "6. Use mathematical morphology to clean the different phases.\n",
    "\n",
    "7. Attribute labels to all bubbles and sand grains, and remove from the sand\n",
    "   mask grains that are smaller than 10 pixels. To do so, use `ndimage.sum` or\n",
    "   `np.bincount` to compute the grain sizes.\n",
    "\n",
    "8. Compute the mean size of bubbles.\n",
    "\n",
    "See [image processing answers](image-answers) for a proposed solution."
   ]
  }
 ],
 "metadata": {
  "kernelspec": {
   "display_name": "Python (Pyodide)",
   "name": "python"
  },
  "orphan": true
 },
 "nbformat": 4,
 "nbformat_minor": 5
}
