{
 "cells": [
  {
   "cell_type": "markdown",
   "id": "7bb06226",
   "metadata": {},
   "source": [
    "# Non linear least squares curve fitting: application to point extraction in topographical lidar data\n",
    "\n",
    "The goal of this exercise is to fit a model to some data. The data used in this tutorial are lidar data and are described in details in the following introductory paragraph. If you're impatient and want to practice now, please skip it and go directly to {ref}`opt-fit-first-step`.\n",
    "\n",
    "## Introduction\n",
    "\n",
    "Lidars systems are optical rangefinders that analyze property of scattered\n",
    "light to measure distances. Most of them emit a short light impulsion towards\n",
    "a target and record the reflected signal. This signal is then processed to\n",
    "extract the distance between the lidar system and the target.\n",
    "\n",
    "Topographical lidar systems are such systems embedded in airborne platforms.\n",
    "They measure distances between the platform and the Earth, so as to deliver\n",
    "information on the Earth's topography (see [^mallet] for more details).\n",
    "\n",
    "[^mallet]:\n",
    "    Mallet, C. and Bretar, F. Full-Waveform Topographic Lidar:\n",
    "    State-of-the-Art. _ISPRS Journal of Photogrammetry and Remote Sensing_\n",
    "    64(1), pp.1-16, January 2009\n",
    "    <http://dx.doi.org/10.1016/j.isprsjprs.2008.09.007>\n",
    "\n",
    "In this tutorial, the goal is to analyze the waveform recorded by the lidar\n",
    "system [^data]. Such a signal contains peaks whose center and amplitude permit\n",
    "to compute the position and some characteristics of the hit target. When the\n",
    "footprint of the laser beam is around 1m on the Earth surface, the beam can\n",
    "hit multiple targets during the two-way propagation (for example the ground\n",
    "and the top of a tree or building). The sum of the contributions of each\n",
    "target hit by the laser beam then produces a complex signal with multiple\n",
    "peaks, each one containing information about one target.\n",
    "\n",
    "One state of the art method to extract information from these data is to\n",
    "decompose them in a sum of Gaussian functions where each function represents\n",
    "the contribution of a target hit by the laser beam.\n",
    "\n",
    "Therefore, we use the {mod}`scipy.optimize` module to fit a waveform to one or\n",
    "a sum of Gaussian functions.\n",
    "## Loading and visualization\n",
    "\n",
    "Load the first waveform using:"
   ]
  },
  {
   "cell_type": "code",
   "execution_count": null,
   "id": "36331829",
   "metadata": {
    "tags": [
     "hide-input"
    ]
   },
   "outputs": [],
   "source": [
    "import numpy as np\n",
    "import scipy as sp\n",
    "import matplotlib.pyplot as plt"
   ]
  },
  {
   "cell_type": "code",
   "execution_count": null,
   "id": "6f0284c5",
   "metadata": {},
   "outputs": [],
   "source": [
    "waveform_1 = np.load('examples/waveform_1.npy')\n",
    "\n",
    "# Times for samples.\n",
    "t = np.arange(len(waveform_1))"
   ]
  },
  {
   "cell_type": "markdown",
   "id": "13aad3ab",
   "metadata": {},
   "source": [
    "and visualize it:"
   ]
  },
  {
   "cell_type": "code",
   "execution_count": null,
   "id": "0a997578",
   "metadata": {},
   "outputs": [],
   "source": [
    "fig, ax = plt.subplots(figsize=(8, 6))\n",
    "plt.plot(t, waveform_1)\n",
    "plt.xlabel(\"Time [ns]\")\n",
    "plt.ylabel(\"Amplitude [bins]\")"
   ]
  },
  {
   "cell_type": "markdown",
   "id": "055bb04f",
   "metadata": {},
   "source": [
    "As shown above, this waveform is a 80-bin-length signal with a single peak\n",
    "with an amplitude of approximately 30 in the 15 nanosecond bin. Additionally,\n",
    "the base level of noise is approximately 3. These values can be used in the\n",
    "initial solution."
   ]
  },
  {
   "cell_type": "markdown",
   "id": "38d82078",
   "metadata": {},
   "source": [
    "## Fitting a waveform with a simple Gaussian model\n",
    "\n",
    "The signal is very simple and can be modeled as a single Gaussian function and\n",
    "an offset corresponding to the background noise. To fit the signal with the\n",
    "function, we must:\n",
    "\n",
    "- define the model\n",
    "- propose an initial solution\n",
    "- call `scipy.optimize.leastsq`\n",
    "\n",
    "### Model\n",
    "\n",
    "A Gaussian function defined by\n",
    "\n",
    "$$\n",
    "B + A \\exp\\left\\{-\\left(\\frac{t-\\mu}{\\sigma}\\right)^2\\right\\}\n",
    "$$\n",
    "\n",
    "can be defined in python by:"
   ]
  },
  {
   "cell_type": "code",
   "execution_count": null,
   "id": "7c720994",
   "metadata": {},
   "outputs": [],
   "source": [
    "def model(t, coeffs):\n",
    "    return coeffs[0] + coeffs[1] * np.exp( - ((t-coeffs[2])/coeffs[3])**2 )"
   ]
  },
  {
   "cell_type": "markdown",
   "id": "a410738b",
   "metadata": {},
   "source": [
    "where\n",
    "\n",
    "- `coeffs[0]` is $B$ (noise)\n",
    "- `coeffs[1]` is $A$ (amplitude)\n",
    "- `coeffs[2]` is $\\mu$ (center)\n",
    "- `coeffs[3]` is $\\sigma$ (width)\n",
    "\n",
    "### Initial solution\n",
    "\n",
    "One possible initial solution that we determine by inspection is:"
   ]
  },
  {
   "cell_type": "code",
   "execution_count": null,
   "id": "c1f64c27",
   "metadata": {},
   "outputs": [],
   "source": [
    "x0 = np.array([3, 30, 15, 1], dtype=float)"
   ]
  },
  {
   "cell_type": "markdown",
   "id": "fe58e97b",
   "metadata": {},
   "source": [
    "### Fit\n",
    "\n",
    "`scipy.optimize.leastsq` minimizes the sum of squares of the function given as\n",
    "an argument. Basically, the function to minimize is the residuals (the\n",
    "difference between the data and the model):"
   ]
  },
  {
   "cell_type": "code",
   "execution_count": null,
   "id": "b995e905",
   "metadata": {},
   "outputs": [],
   "source": [
    "def residuals(coeffs, y, t):\n",
    "    return y - model(t, coeffs)"
   ]
  },
  {
   "cell_type": "markdown",
   "id": "08793d95",
   "metadata": {},
   "source": [
    "So let's get our solution by calling {func}`scipy.optimize.leastsq` with the\n",
    "following arguments:\n",
    "\n",
    "- the function to minimize\n",
    "- an initial solution\n",
    "- the additional arguments to pass to the function"
   ]
  },
  {
   "cell_type": "code",
   "execution_count": null,
   "id": "c91723f0",
   "metadata": {},
   "outputs": [],
   "source": [
    "t = np.arange(len(waveform_1))\n",
    "x, flag = sp.optimize.leastsq(residuals, x0, args=(waveform_1, t))\n",
    "x"
   ]
  },
  {
   "cell_type": "markdown",
   "id": "80f12295",
   "metadata": {},
   "source": [
    "And visualize the solution:"
   ]
  },
  {
   "cell_type": "code",
   "execution_count": null,
   "id": "1118322c",
   "metadata": {
    "tags": [
     "hide-input"
    ]
   },
   "outputs": [],
   "source": [
    "fig, ax = plt.subplots(figsize=(8, 6))\n",
    "plt.plot(t, waveform_1, t, model(t, x))\n",
    "plt.xlabel(\"Time [ns]\")\n",
    "plt.ylabel(\"Amplitude [bins]\")\n",
    "plt.legend([\"Waveform\", \"Model\"]);"
   ]
  },
  {
   "cell_type": "markdown",
   "id": "9c1fff7f",
   "metadata": {},
   "source": [
    "_Remark:_ in fact, you should rather use {func}`scipy.optimize.curve_fit`\n",
    "which takes the model and the data as arguments, so you don't need to define\n",
    "the residuals any more."
   ]
  },
  {
   "cell_type": "markdown",
   "id": "c81ffca4",
   "metadata": {},
   "source": [
    "## Going further\n",
    "\n",
    "**Start of exercise**\n",
    "\n",
    "Try with a more complex waveform (for instance `waveform_2.npy`) that contains\n",
    "three significant peaks. You must adapt the model which is now a sum of\n",
    "Gaussian functions instead of only one Gaussian peak."
   ]
  },
  {
   "cell_type": "code",
   "execution_count": null,
   "id": "6e9b1f0e",
   "metadata": {},
   "outputs": [],
   "source": [
    "waveform_2 = np.load(\"examples/waveform_2.npy\")\n",
    "\n",
    "t = np.arange(len(waveform_2))\n",
    "\n",
    "fig, ax = plt.subplots(figsize=(8, 6))\n",
    "plt.plot(t, waveform_2)\n",
    "plt.xlabel(\"Time [ns]\")\n",
    "plt.ylabel(\"Amplitude [bins]\");"
   ]
  },
  {
   "cell_type": "markdown",
   "id": "f0d38d87",
   "metadata": {},
   "source": [
    "In some cases, writing an explicit function to compute the Jacobian is faster\n",
    "than letting `leastsq` estimate it numerically. Create a function to compute\n",
    "the Jacobian of the residuals and use it as an input for `leastsq`.\n",
    "\n",
    "When we want to detect very small peaks in the signal, or when the initial\n",
    "guess is too far from a good solution, the result given by the algorithm is\n",
    "often not satisfying. Adding constraints to the parameters of the model\n",
    "enables to overcome such limitations. An example of _a priori_ knowledge we can\n",
    "add is the sign of our variables (which are all positive).\n",
    "\n",
    "**End of exercise**\n",
    "\n",
    "\n",
    "**See the [corresponding page](/scipy-lecture-notes/intro/scipy/summary-exercises/optimize-fit.html) for solution**\n",
    "\n",
    "Further exercise: compare the result of {func}`scipy.optimize.leastsq` and\n",
    "what you can get with {func}`scipy.optimize.fmin_slsqp` when adding boundary\n",
    "constraints.\n",
    "\n",
    "[^data]:\n",
    "    The data used for this tutorial are part of the demonstration data\n",
    "    available for the [FullAnalyze\n",
    "    software](https://fullanalyze.sourceforge.net) and were kindly provided by\n",
    "    the GIS DRAIX."
   ]
  }
 ],
 "metadata": {
  "kernelspec": {
   "display_name": "Python (Pyodide)",
   "name": "python"
  },
  "orphan": true
 },
 "nbformat": 4,
 "nbformat_minor": 5
}
