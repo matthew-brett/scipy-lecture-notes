{
 "cells": [
  {
   "cell_type": "markdown",
   "id": "96315f7f",
   "metadata": {},
   "source": [
    "# Maximum wind speed prediction at the Sprogø station\n",
    "\n",
    "The exercise goal is to predict the maximum wind speed occurring every\n",
    "50 years even if no measure exists for such a period. The available\n",
    "data are only measured over 21 years at the Sprogø meteorological\n",
    "station located in Denmark. First, the statistical steps will be given\n",
    "and then illustrated with functions from the `scipy.interpolate` module. At\n",
    "the end the interested readers are invited to compute results from raw data\n",
    "and in a slightly different approach.\n",
    "\n",
    "## Statistical approach\n",
    "\n",
    "The annual maxima are supposed to fit a normal probability density\n",
    "function. However such function is not going to be estimated because\n",
    "it gives a probability from a wind speed maxima. Finding the maximum wind\n",
    "speed occurring every 50 years requires the opposite approach, the result\n",
    "needs to be found from a defined probability. That is the quantile function\n",
    "role and the exercise goal will be to find it. In the current model,\n",
    "it is supposed that the maximum wind speed occurring every 50 years is\n",
    "defined as the upper 2% quantile.\n",
    "\n",
    "By definition, the quantile function is the inverse of the cumulative\n",
    "distribution function. The latter describes the probability distribution\n",
    "of an annual maxima. In the exercise, the cumulative probability `p_i`\n",
    "for a given year `i` is defined as `p_i = i/(N+1)` with `N = 21`,\n",
    "the number of measured years. Thus it will be possible to calculate\n",
    "the cumulative probability of every measured wind speed maxima.\n",
    "From those experimental points, the scipy.interpolate module will be\n",
    "very useful for fitting the quantile function. Finally the 50 years\n",
    "maxima is going to be evaluated from the cumulative probability\n",
    "of the 2% quantile.\n",
    "\n",
    "## Computing the cumulative probabilities\n",
    "\n",
    "The annual wind speeds maxima have already been computed and saved in\n",
    "the NumPy format in the file {download}`examples/max-speeds.npy`, thus they will be loaded\n",
    "by using NumPy:"
   ]
  },
  {
   "cell_type": "code",
   "execution_count": null,
   "id": "de86b293",
   "metadata": {},
   "outputs": [],
   "source": [
    "import numpy as np\n",
    "import matplotlib.pyplot as plt"
   ]
  },
  {
   "cell_type": "code",
   "execution_count": null,
   "id": "0c6ef135",
   "metadata": {},
   "outputs": [],
   "source": [
    "max_speeds = np.load('examples/max-speeds.npy')\n",
    "years_nb = max_speeds.shape[0]"
   ]
  },
  {
   "cell_type": "markdown",
   "id": "9de41056",
   "metadata": {},
   "source": [
    "Following the cumulative probability definition `p_i` from the previous\n",
    "section, the corresponding values will be:"
   ]
  },
  {
   "cell_type": "code",
   "execution_count": null,
   "id": "196b71e6",
   "metadata": {},
   "outputs": [],
   "source": [
    "cprob = (np.arange(years_nb, dtype=np.float32) + 1) / (years_nb + 1)"
   ]
  },
  {
   "cell_type": "markdown",
   "id": "1af42282",
   "metadata": {},
   "source": [
    "and they are assumed to fit the given wind speeds:"
   ]
  },
  {
   "cell_type": "code",
   "execution_count": null,
   "id": "33c0a8af",
   "metadata": {},
   "outputs": [],
   "source": [
    "sorted_max_speeds = np.sort(max_speeds)"
   ]
  },
  {
   "cell_type": "markdown",
   "id": "cbb7b1ef",
   "metadata": {},
   "source": [
    "## Prediction with `UnivariateSpline`\n",
    "\n",
    "In this section the quantile function will be estimated by using the\n",
    "`UnivariateSpline` class which can represent a spline from points. The\n",
    "default behavior is to build a spline of degree 3 and points can\n",
    "have different weights according to their reliability. Variants are\n",
    "`InterpolatedUnivariateSpline` and `LSQUnivariateSpline` on which\n",
    "errors checking is going to change. In case a 2D spline is wanted,\n",
    "the `BivariateSpline` class family is provided. All those classes\n",
    "for 1D and 2D splines use the FITPACK Fortran subroutines, that's why a\n",
    "lower library access is available through the `splrep` and `splev`\n",
    "functions for respectively representing and evaluating a spline.\n",
    "Moreover interpolation functions without the use of FITPACK parameters\n",
    "are also provided for simpler use.\n",
    "\n",
    "For the Sprogø maxima wind speeds, the `UnivariateSpline` will be\n",
    "used because a spline of degree 3 seems to correctly fit the data:"
   ]
  },
  {
   "cell_type": "code",
   "execution_count": null,
   "id": "83efd18f",
   "metadata": {},
   "outputs": [],
   "source": [
    "import scipy as sp\n",
    "\n",
    "quantile_func = sp.interpolate.UnivariateSpline(cprob, sorted_max_speeds)"
   ]
  },
  {
   "cell_type": "markdown",
   "id": "fa712a36",
   "metadata": {},
   "source": [
    "The quantile function is now going to be evaluated from the full range\n",
    "of probabilities:"
   ]
  },
  {
   "cell_type": "code",
   "execution_count": null,
   "id": "51e3370e",
   "metadata": {},
   "outputs": [],
   "source": [
    "nprob = np.linspace(0, 1, 100)\n",
    "fitted_max_speeds = quantile_func(nprob)"
   ]
  },
  {
   "cell_type": "markdown",
   "id": "42ea20c7",
   "metadata": {},
   "source": [
    "In the current model, the maximum wind speed occurring every 50 years is\n",
    "defined as the upper 2% quantile. As a result, the cumulative probability\n",
    "value will be:"
   ]
  },
  {
   "cell_type": "code",
   "execution_count": null,
   "id": "49787bcc",
   "metadata": {},
   "outputs": [],
   "source": [
    "fifty_prob = 1. - 0.02"
   ]
  },
  {
   "cell_type": "markdown",
   "id": "80d9682d",
   "metadata": {},
   "source": [
    "So the storm wind speed occurring every 50 years can be guessed by:"
   ]
  },
  {
   "cell_type": "code",
   "execution_count": null,
   "id": "9c6ce1b8",
   "metadata": {},
   "outputs": [],
   "source": [
    "fifty_wind = quantile_func(fifty_prob)\n",
    "fifty_wind"
   ]
  },
  {
   "cell_type": "markdown",
   "id": "f00fe016",
   "metadata": {},
   "source": [
    "The results are now gathered on a Matplotlib figure:"
   ]
  },
  {
   "cell_type": "code",
   "execution_count": null,
   "id": "2f343bc3",
   "metadata": {
    "tags": [
     "hide-input"
    ]
   },
   "outputs": [],
   "source": [
    "plt.plot(sorted_max_speeds, cprob, \"o\")\n",
    "plt.plot(fitted_max_speeds, nprob, \"g--\")\n",
    "plt.plot([fifty_wind], [fifty_prob], \"o\", ms=8.0, mfc=\"y\", mec=\"y\")\n",
    "plt.text(30, 0.05, rf\"$V_{{50}} = {fifty_wind:.2f} \\, m/s$\")\n",
    "plt.plot([fifty_wind, fifty_wind], [plt.axis()[2], fifty_prob], \"k--\")\n",
    "plt.xlabel(\"Annual wind speed maxima [$m/s$]\")\n",
    "plt.ylabel(\"Cumulative probability\")"
   ]
  },
  {
   "cell_type": "markdown",
   "id": "07a2bbac",
   "metadata": {},
   "source": [
    "## Exercise with the Gumbell distribution\n",
    "\n",
    "The interested readers are now invited to make an exercise by using the wind\n",
    "speeds measured over 21 years. The measurement period is around 90 minutes\n",
    "(the original period was around 10 minutes but the file size has been reduced\n",
    "for making the exercise setup easier). The data are stored in NumPy format\n",
    "inside the file {download}`examples/sprog-windspeeds.npy`. Do not look at the\n",
    "source code for the plots until you have completed the exercise.\n",
    "\n",
    "**Start of exercise**\n",
    "\n",
    "The **first step** will be to find the annual maxima by using NumPy and plot\n",
    "them as a matplotlib bar figure.\n",
    "\n",
    "**End of exercise**\n",
    "\n",
    "\n",
    "**See the [corresponding page](/scipy-lecture-notes/intro/scipy/summary-exercises/stats-interpolate.html) for solution**\n",
    "\n",
    "The **second step** will be to use the Gumbell distribution on cumulative\n",
    "probabilities `p_i` defined as `-log( -log(p_i) )` for fitting a linear\n",
    "quantile function (remember that you can define the degree of the\n",
    "`UnivariateSpline`). Plotting the annual maxima versus the Gumbell\n",
    "distribution should give you the following figure.\n",
    "\n",
    "The **last step** will be to find 34.23 m/s for the maximum wind speed\n",
    "occurring every 50 years.\n",
    "\n",
    "**End of exercise**\n",
    "\n",
    "\n",
    "**See the [corresponding page](/scipy-lecture-notes/intro/scipy/summary-exercises/stats-interpolate.html) for solution**"
   ]
  }
 ],
 "metadata": {
  "kernelspec": {
   "display_name": "Python (Pyodide)",
   "name": "python"
  },
  "orphan": true
 },
 "nbformat": 4,
 "nbformat_minor": 5
}
