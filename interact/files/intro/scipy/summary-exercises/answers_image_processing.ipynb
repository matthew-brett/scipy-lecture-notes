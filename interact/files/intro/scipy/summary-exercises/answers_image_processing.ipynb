{
 "cells": [
  {
   "cell_type": "markdown",
   "id": "46b2e33b",
   "metadata": {},
   "source": [
    "# Example of solution for the image processing exercise: unmolten grains in glass\n",
    "\n",
    "![](../image_processing/MV_HFV_012.jpg)\n",
    "\n",
    "<!---\n",
    "# To fix parsing of Python block below.\n",
    ":align: center\n",
    "-->\n",
    "\n",
    "## Open the image file\n",
    "\n",
    "Open the image file `MV_HFV_012.jpg` and display it. Browse through the\n",
    "keyword arguments in the docstring of `imshow` to display the image with the\n",
    "\"right\" orientation (origin in the bottom left corner, and not the upper left\n",
    "corner as for standard arrays)."
   ]
  },
  {
   "cell_type": "code",
   "execution_count": null,
   "id": "d1019e47",
   "metadata": {},
   "outputs": [],
   "source": [
    "import numpy as np\n",
    "import matplotlib.pyplot as plt\n",
    "import scipy as sp"
   ]
  },
  {
   "cell_type": "code",
   "execution_count": null,
   "id": "052d3dab",
   "metadata": {},
   "outputs": [],
   "source": [
    "dat = plt.imread('data/MV_HFV_012.jpg')"
   ]
  },
  {
   "cell_type": "markdown",
   "id": "2fb204d7",
   "metadata": {},
   "source": [
    "## Crop the image\n",
    "\n",
    "to remove the lower panel with measure information."
   ]
  },
  {
   "cell_type": "code",
   "execution_count": null,
   "id": "c2961637",
   "metadata": {},
   "outputs": [],
   "source": [
    "dat = dat[:-60]"
   ]
  },
  {
   "cell_type": "markdown",
   "id": "a246846c",
   "metadata": {},
   "source": [
    "## Filter\n",
    "\n",
    "Slightly filter the image with a median filter in order to refine its\n",
    "histogram. Check how the histogram changes."
   ]
  },
  {
   "cell_type": "code",
   "execution_count": null,
   "id": "4bd144ec",
   "metadata": {},
   "outputs": [],
   "source": [
    "filtdat = sp.ndimage.median_filter(dat, size=(7,7))\n",
    "hi_dat = np.histogram(dat, bins=np.arange(256))\n",
    "hi_filtdat = np.histogram(filtdat, bins=np.arange(256))"
   ]
  },
  {
   "cell_type": "markdown",
   "id": "e569d890",
   "metadata": {},
   "source": [
    "![](../image_processing/exo_histos.png)\n",
    "\n",
    "<!---\n",
    "# To fix parsing below.\n",
    ":align: center\n",
    "-->\n",
    "\n",
    "## Determine thresholds\n",
    "\n",
    "Using the histogram of the filtered image, determine thresholds that allow to\n",
    "define masks for sand pixels, glass pixels and bubble pixels. Other option\n",
    "(homework): write a function that determines automatically the thresholds from\n",
    "the minima of the histogram."
   ]
  },
  {
   "cell_type": "code",
   "execution_count": null,
   "id": "aa52885a",
   "metadata": {},
   "outputs": [],
   "source": [
    "void = filtdat <= 50\n",
    "sand = np.logical_and(filtdat > 50, filtdat <= 114)\n",
    "glass = filtdat > 114"
   ]
  },
  {
   "cell_type": "markdown",
   "id": "726a025a",
   "metadata": {},
   "source": [
    "## Display\n",
    "\n",
    "Display an image in which the three phases are colored with three different\n",
    "colors."
   ]
  },
  {
   "cell_type": "code",
   "execution_count": null,
   "id": "23028222",
   "metadata": {},
   "outputs": [],
   "source": [
    "phases = void.astype(int) + 2*glass.astype(int) + 3*sand.astype(int)"
   ]
  },
  {
   "cell_type": "markdown",
   "id": "eae107b7",
   "metadata": {},
   "source": [
    "![](../image_processing/three_phases.png)\n",
    "\n",
    "<!---\n",
    "# Fix parsing.\n",
    ":align: center\n",
    "-->\n",
    "\n",
    "## Clean\n",
    "\n",
    "Use mathematical morphology to clean the different phases."
   ]
  },
  {
   "cell_type": "code",
   "execution_count": null,
   "id": "d60f3113",
   "metadata": {},
   "outputs": [],
   "source": [
    "sand_op = sp.ndimage.binary_opening(sand, iterations=2)"
   ]
  },
  {
   "cell_type": "markdown",
   "id": "c48686bf",
   "metadata": {},
   "source": [
    "## Remove small grains\n",
    "\n",
    "Attribute labels to all bubbles and sand grains, and remove from the sand mask\n",
    "grains that are smaller than 10 pixels. To do so, use `sp.ndimage.sum` or\n",
    "`np.bincount` to compute the grain sizes."
   ]
  },
  {
   "cell_type": "code",
   "execution_count": null,
   "id": "30f4a24e",
   "metadata": {},
   "outputs": [],
   "source": [
    "sand_labels, sand_nb = sp.ndimage.label(sand_op)\n",
    "sand_areas = np.array(sp.ndimage.sum(sand_op, sand_labels, np.arange(sand_labels.max()+1)))\n",
    "mask = sand_areas > 100\n",
    "remove_small_sand = mask[sand_labels.ravel()].reshape(sand_labels.shape)"
   ]
  },
  {
   "cell_type": "markdown",
   "id": "3fe42054",
   "metadata": {},
   "source": [
    "![](../image_processing/sands.png)\n",
    "\n",
    "<!---\n",
    "# Parsing\n",
    ":align: center\n",
    "-->\n",
    "\n",
    "## Bubble size\n",
    "\n",
    "Compute the mean size of bubbles."
   ]
  },
  {
   "cell_type": "code",
   "execution_count": null,
   "id": "808e9c1f",
   "metadata": {},
   "outputs": [],
   "source": [
    "bubbles_labels, bubbles_nb = sp.ndimage.label(void)\n",
    "bubbles_areas = np.bincount(bubbles_labels.ravel())[1:]\n",
    "mean_bubble_size = bubbles_areas.mean()\n",
    "median_bubble_size = np.median(bubbles_areas)\n",
    "mean_bubble_size, median_bubble_size"
   ]
  }
 ],
 "metadata": {
  "kernelspec": {
   "display_name": "Python (Pyodide)",
   "name": "python"
  },
  "orphan": true
 },
 "nbformat": 4,
 "nbformat_minor": 5
}
