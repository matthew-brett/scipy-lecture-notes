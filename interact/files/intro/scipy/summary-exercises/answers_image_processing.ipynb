{
 "cells": [
  {
   "cell_type": "markdown",
   "id": "beaddfa3",
   "metadata": {},
   "source": [
    "# Example of solution for the image processing exercise: unmolten grains in glass\n",
    "\n",
    "![](../image_processing/MV_HFV_012.jpg)\n",
    "<!---\n",
    "# To fix parsing of Python block below.\n",
    ":align: center\n",
    "-->\n",
    "\n",
    "## Open the image file\n",
    "\n",
    "Open the image file `MV_HFV_012.jpg` and display it. Browse through the\n",
    "keyword arguments in the docstring of `imshow` to display the image with the\n",
    "\"right\" orientation (origin in the bottom left corner, and not the upper left\n",
    "corner as for standard arrays)."
   ]
  },
  {
   "cell_type": "code",
   "execution_count": null,
   "id": "6aab27a4",
   "metadata": {},
   "outputs": [],
   "source": [
    "import numpy as np\n",
    "import matplotlib.pyplot as plt\n",
    "import scipy as sp"
   ]
  },
  {
   "cell_type": "code",
   "execution_count": null,
   "id": "0e1a4b8b",
   "metadata": {},
   "outputs": [],
   "source": [
    "dat = plt.imread('data/MV_HFV_012.jpg')"
   ]
  },
  {
   "cell_type": "markdown",
   "id": "3235c8e7",
   "metadata": {},
   "source": [
    "## Crop the image\n",
    "\n",
    "to remove the lower panel with measure information."
   ]
  },
  {
   "cell_type": "code",
   "execution_count": null,
   "id": "fe16fc81",
   "metadata": {},
   "outputs": [],
   "source": [
    "dat = dat[:-60]"
   ]
  },
  {
   "cell_type": "markdown",
   "id": "e5b97493",
   "metadata": {},
   "source": [
    "## Filter\n",
    "\n",
    "Slightly filter the image with a median filter in order to refine its\n",
    "histogram. Check how the histogram changes."
   ]
  },
  {
   "cell_type": "code",
   "execution_count": null,
   "id": "c0620dc9",
   "metadata": {},
   "outputs": [],
   "source": [
    "filtdat = sp.ndimage.median_filter(dat, size=(7,7))\n",
    "hi_dat = np.histogram(dat, bins=np.arange(256))\n",
    "hi_filtdat = np.histogram(filtdat, bins=np.arange(256))"
   ]
  },
  {
   "cell_type": "markdown",
   "id": "7ce0d647",
   "metadata": {},
   "source": [
    "![](../image_processing/exo_histos.png)\n",
    "<!---\n",
    "# To fix parsing below.\n",
    ":align: center\n",
    "-->\n",
    "\n",
    "## Determine thresholds\n",
    "\n",
    "Using the histogram of the filtered image, determine thresholds that allow to\n",
    "define masks for sand pixels, glass pixels and bubble pixels. Other option\n",
    "(homework): write a function that determines automatically the thresholds from\n",
    "the minima of the histogram."
   ]
  },
  {
   "cell_type": "code",
   "execution_count": null,
   "id": "afd0d792",
   "metadata": {},
   "outputs": [],
   "source": [
    "void = filtdat <= 50\n",
    "sand = np.logical_and(filtdat > 50, filtdat <= 114)\n",
    "glass = filtdat > 114"
   ]
  },
  {
   "cell_type": "markdown",
   "id": "cda7a633",
   "metadata": {},
   "source": [
    "## Display\n",
    "\n",
    "Display an image in which the three phases are colored with three different\n",
    "colors."
   ]
  },
  {
   "cell_type": "code",
   "execution_count": null,
   "id": "9fe1b638",
   "metadata": {},
   "outputs": [],
   "source": [
    "phases = void.astype(int) + 2*glass.astype(int) + 3*sand.astype(int)"
   ]
  },
  {
   "cell_type": "markdown",
   "id": "506652f6",
   "metadata": {},
   "source": [
    "![](../image_processing/three_phases.png)\n",
    "<!---\n",
    "# Fix parsing.\n",
    ":align: center\n",
    "-->\n",
    "\n",
    "## Clean\n",
    "\n",
    "Use mathematical morphology to clean the different phases."
   ]
  },
  {
   "cell_type": "code",
   "execution_count": null,
   "id": "4cbb1674",
   "metadata": {},
   "outputs": [],
   "source": [
    "sand_op = sp.ndimage.binary_opening(sand, iterations=2)"
   ]
  },
  {
   "cell_type": "markdown",
   "id": "522a0023",
   "metadata": {},
   "source": [
    "## Remove small grains\n",
    "\n",
    "Attribute labels to all bubbles and sand grains, and remove from the sand mask\n",
    "grains that are smaller than 10 pixels. To do so, use `sp.ndimage.sum` or\n",
    "`np.bincount` to compute the grain sizes."
   ]
  },
  {
   "cell_type": "code",
   "execution_count": null,
   "id": "5b52f4f6",
   "metadata": {},
   "outputs": [],
   "source": [
    "sand_labels, sand_nb = sp.ndimage.label(sand_op)\n",
    "sand_areas = np.array(sp.ndimage.sum(sand_op, sand_labels, np.arange(sand_labels.max()+1)))\n",
    "mask = sand_areas > 100\n",
    "remove_small_sand = mask[sand_labels.ravel()].reshape(sand_labels.shape)"
   ]
  },
  {
   "cell_type": "markdown",
   "id": "4254cb45",
   "metadata": {},
   "source": [
    "![](../image_processing/sands.png)\n",
    "<!---\n",
    "# Parsing\n",
    ":align: center\n",
    "-->\n",
    "\n",
    "## Bubble size\n",
    "\n",
    "Compute the mean size of bubbles."
   ]
  },
  {
   "cell_type": "code",
   "execution_count": null,
   "id": "436ff292",
   "metadata": {},
   "outputs": [],
   "source": [
    "bubbles_labels, bubbles_nb = sp.ndimage.label(void)\n",
    "bubbles_areas = np.bincount(bubbles_labels.ravel())[1:]\n",
    "mean_bubble_size = bubbles_areas.mean()\n",
    "median_bubble_size = np.median(bubbles_areas)\n",
    "mean_bubble_size, median_bubble_size"
   ]
  }
 ],
 "metadata": {
  "jupytext": {
   "formats": "ipynb,Rmd"
  },
  "kernelspec": {
   "display_name": "Python (Pyodide)",
   "name": "python"
  },
  "orphan": true
 },
 "nbformat": 4,
 "nbformat_minor": 5
}
