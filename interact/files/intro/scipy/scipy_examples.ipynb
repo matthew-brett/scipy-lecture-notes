{
 "cells": [
  {
   "cell_type": "markdown",
   "id": "ba698f6e",
   "metadata": {},
   "source": [
    "# Examples for Scipy introduction\n",
    "\n",
    "This is a collection of examples for introductory Scipy.  See the [Scipy page](scipy) for the main introduction."
   ]
  },
  {
   "cell_type": "code",
   "execution_count": null,
   "id": "cbe77af7",
   "metadata": {},
   "outputs": [],
   "source": [
    "import numpy as np\n",
    "import matplotlib.pyplot as plt\n",
    "\n",
    "import scipy as sp"
   ]
  },
  {
   "cell_type": "code",
   "execution_count": null,
   "id": "6e72b679",
   "metadata": {
    "tags": [
     "hide-input"
    ]
   },
   "outputs": [],
   "source": [
    "# Machinery to store outputs for later use.\n",
    "# This is for rending in the Jupyter Book version of these pages.\n",
    "from myst_nb import glue"
   ]
  },
  {
   "cell_type": "markdown",
   "id": "97650f51",
   "metadata": {},
   "source": [
    "## Finding the minimum of a smooth function\n",
    "<!--- plot_optimize_example1 -->"
   ]
  },
  {
   "cell_type": "markdown",
   "id": "4ef22273",
   "metadata": {},
   "source": [
    "Demos various methods to find the minimum of a function."
   ]
  },
  {
   "cell_type": "code",
   "execution_count": null,
   "id": "429af935",
   "metadata": {},
   "outputs": [],
   "source": [
    "def f(x):\n",
    "    return x**2 + 10 * np.sin(x)\n",
    "\n",
    "x = np.arange(-5, 5, 0.1)\n",
    "plt.plot(x, f(x));"
   ]
  },
  {
   "cell_type": "code",
   "execution_count": null,
   "id": "3de037c2",
   "metadata": {},
   "outputs": [],
   "source": [
    "# Now find the minimum with a few methods\n",
    "# The default (Nelder Mead)\n",
    "print(sp.optimize.minimize(f, x0=0))"
   ]
  },
  {
   "cell_type": "markdown",
   "id": "22fba831",
   "metadata": {},
   "source": [
    "## Other examples"
   ]
  },
  {
   "cell_type": "markdown",
   "id": "8e217f71",
   "metadata": {},
   "source": [
    "### connect_measurements\n",
    "\n",
    "<!--- plot_connect_measurements -->\n",
    "\n",
    "Demo connected components\n",
    "\n",
    "Extracting and labeling connected components in a 2D array"
   ]
  },
  {
   "cell_type": "code",
   "execution_count": null,
   "id": "a977b0f2",
   "metadata": {},
   "outputs": [],
   "source": [
    "# Generate some binary data\n",
    "x, y = np.indices((100, 100))\n",
    "sig = (\n",
    "    np.sin(2 * np.pi * x / 50.0)\n",
    "    * np.sin(2 * np.pi * y / 50.0)\n",
    "    * (1 + x * y / 50.0**2) ** 2\n",
    ")\n",
    "mask = sig > 1"
   ]
  },
  {
   "cell_type": "code",
   "execution_count": null,
   "id": "397efcd5",
   "metadata": {},
   "outputs": [],
   "source": [
    "plt.figure(figsize=(7, 3.5))\n",
    "plt.subplot(1, 2, 1)\n",
    "plt.imshow(sig)\n",
    "plt.axis(\"off\")\n",
    "plt.title(\"sig\")\n",
    "\n",
    "plt.subplot(1, 2, 2)\n",
    "plt.imshow(mask, cmap=\"gray\")\n",
    "plt.axis(\"off\")\n",
    "plt.title(\"mask\")\n",
    "plt.subplots_adjust(wspace=0.05, left=0.01, bottom=0.01, right=0.99, top=0.9);"
   ]
  },
  {
   "cell_type": "markdown",
   "id": "8e1e6d03",
   "metadata": {},
   "source": [
    "Label connected components"
   ]
  },
  {
   "cell_type": "code",
   "execution_count": null,
   "id": "3fe92262",
   "metadata": {},
   "outputs": [],
   "source": [
    "labels, nb = sp.ndimage.label(mask)"
   ]
  },
  {
   "cell_type": "code",
   "execution_count": null,
   "id": "e810b0a4",
   "metadata": {},
   "outputs": [],
   "source": [
    "plt.figure(figsize=(3.5, 3.5))\n",
    "plt.imshow(labels)\n",
    "plt.title(\"label\")\n",
    "plt.axis(\"off\")\n",
    "plt.subplots_adjust(wspace=0.05, left=0.01, bottom=0.01, right=0.99, top=0.9);"
   ]
  },
  {
   "cell_type": "code",
   "execution_count": null,
   "id": "dfdfe9d8",
   "metadata": {},
   "outputs": [],
   "source": [
    "# Extract the 4th connected component, and crop the array around it\n",
    "sl = sp.ndimage.find_objects(labels == 4)\n",
    "plt.figure(figsize=(3.5, 3.5))\n",
    "plt.imshow(sig[sl[0]])\n",
    "plt.title(\"Cropped connected component\")\n",
    "plt.axis(\"off\")\n",
    "plt.subplots_adjust(wspace=0.05, left=0.01, bottom=0.01, right=0.99, top=0.9);"
   ]
  },
  {
   "cell_type": "markdown",
   "id": "319d335d",
   "metadata": {},
   "source": [
    "### image_filters\n",
    "\n",
    "<!--- plot_image_filters -->\n",
    "\n",
    "Plot filtering on images\n",
    "\n",
    "Demo filtering for denoising of images."
   ]
  },
  {
   "cell_type": "code",
   "execution_count": null,
   "id": "cf100de4",
   "metadata": {},
   "outputs": [],
   "source": [
    "# Load some data\n",
    "face = sp.datasets.face(gray=True)\n",
    "face = face[:512, -512:]  # crop out square on right"
   ]
  },
  {
   "cell_type": "code",
   "execution_count": null,
   "id": "a23e94f7",
   "metadata": {},
   "outputs": [],
   "source": [
    "# Apply a variety of filters\n",
    "noisy_face = np.copy(face).astype(float)\n",
    "rng = np.random.default_rng()\n",
    "noisy_face += face.std() * 0.5 * rng.standard_normal(face.shape)\n",
    "blurred_face = sp.ndimage.gaussian_filter(noisy_face, sigma=3)\n",
    "median_face = sp.ndimage.median_filter(noisy_face, size=5)\n",
    "wiener_face = sp.signal.wiener(noisy_face, (5, 5))"
   ]
  },
  {
   "cell_type": "code",
   "execution_count": null,
   "id": "a6bf1394",
   "metadata": {},
   "outputs": [],
   "source": [
    "plt.figure(figsize=(12, 3.5))\n",
    "plt.subplot(141)\n",
    "plt.imshow(noisy_face, cmap=\"gray\")\n",
    "plt.axis(\"off\")\n",
    "plt.title(\"noisy\")\n",
    "plt.subplot(142)\n",
    "plt.imshow(blurred_face, cmap=\"gray\")\n",
    "plt.axis(\"off\")\n",
    "plt.title(\"Gaussian filter\")\n",
    "plt.subplot(143)\n",
    "plt.imshow(median_face, cmap=\"gray\")\n",
    "plt.axis(\"off\")\n",
    "plt.title(\"median filter\")\n",
    "plt.subplot(144)\n",
    "plt.imshow(wiener_face, cmap=\"gray\")\n",
    "plt.title(\"Wiener filter\")\n",
    "plt.axis(\"off\")\n",
    "plt.subplots_adjust(wspace=0.05, left=0.01, bottom=0.01, right=0.99, top=0.99);"
   ]
  },
  {
   "cell_type": "markdown",
   "id": "ec0f375c",
   "metadata": {},
   "source": [
    "### image_transform\n",
    "\n",
    "<!--- plot_image_transform -->\n",
    "\n",
    "Plot geometrical transformations on images\n",
    "\n",
    "Demo geometrical transformations of images."
   ]
  },
  {
   "cell_type": "code",
   "execution_count": null,
   "id": "b31886fb",
   "metadata": {},
   "outputs": [],
   "source": [
    "# Load some data\n",
    "face = sp.datasets.face(gray=True)\n",
    "\n",
    "# Apply a variety of transformations\n",
    "shifted_face = sp.ndimage.shift(face, (50, 50))\n",
    "shifted_face2 = sp.ndimage.shift(face, (50, 50), mode=\"nearest\")\n",
    "rotated_face = sp.ndimage.rotate(face, 30)\n",
    "cropped_face = face[50:-50, 50:-50]\n",
    "zoomed_face = sp.ndimage.zoom(face, 2)\n",
    "zoomed_face.shape"
   ]
  },
  {
   "cell_type": "code",
   "execution_count": null,
   "id": "af4a3259",
   "metadata": {
    "lines_to_next_cell": 2
   },
   "outputs": [],
   "source": [
    "plt.figure(figsize=(15, 3))\n",
    "plt.subplot(151)\n",
    "plt.imshow(shifted_face, cmap=\"gray\")\n",
    "plt.axis(\"off\")\n",
    "plt.subplot(152)\n",
    "plt.imshow(shifted_face2, cmap=\"gray\")\n",
    "plt.axis(\"off\")\n",
    "plt.subplot(153)\n",
    "plt.imshow(rotated_face, cmap=\"gray\")\n",
    "plt.axis(\"off\")\n",
    "plt.subplot(154)\n",
    "plt.imshow(cropped_face, cmap=\"gray\")\n",
    "plt.axis(\"off\")\n",
    "plt.subplot(155)\n",
    "plt.imshow(zoomed_face, cmap=\"gray\")\n",
    "plt.axis(\"off\")\n",
    "plt.subplots_adjust(wspace=0.05, left=0.01, bottom=0.01, right=0.99, top=0.99);"
   ]
  },
  {
   "cell_type": "markdown",
   "id": "2bae944d",
   "metadata": {},
   "source": [
    "### Mathematical morphology\n",
    "\n",
    "<!--- plot_mathematical_morpho -->\n",
    "\n",
    "Demo mathematical morphology\n",
    "\n",
    "A basic demo of binary opening and closing."
   ]
  },
  {
   "cell_type": "code",
   "execution_count": null,
   "id": "c8e61dce",
   "metadata": {},
   "outputs": [],
   "source": [
    "# Generate some binary data\n",
    "rng = np.random.default_rng(0)\n",
    "a = np.zeros((50, 50))\n",
    "a[10:-10, 10:-10] = 1\n",
    "a += 0.25 * rng.standard_normal(a.shape)\n",
    "mask = a >= 0.5"
   ]
  },
  {
   "cell_type": "code",
   "execution_count": null,
   "id": "9b06699b",
   "metadata": {},
   "outputs": [],
   "source": [
    "# Apply mathematical morphology\n",
    "opened_mask = sp.ndimage.binary_opening(mask)\n",
    "closed_mask = sp.ndimage.binary_closing(opened_mask)"
   ]
  },
  {
   "cell_type": "code",
   "execution_count": null,
   "id": "7e52ce5d",
   "metadata": {},
   "outputs": [],
   "source": [
    "# Plot\n",
    "plt.figure(figsize=(12, 3.5))\n",
    "plt.subplot(141)\n",
    "plt.imshow(a, cmap=\"gray\")\n",
    "plt.axis(\"off\")\n",
    "plt.title(\"a\")\n",
    "plt.subplot(142)\n",
    "plt.imshow(mask, cmap=\"gray\")\n",
    "plt.axis(\"off\")\n",
    "plt.title(\"mask\")\n",
    "plt.subplot(143)\n",
    "plt.imshow(opened_mask, cmap=\"gray\")\n",
    "plt.axis(\"off\")\n",
    "plt.title(\"opened_mask\")\n",
    "plt.subplot(144)\n",
    "plt.imshow(closed_mask, cmap=\"gray\")\n",
    "plt.title(\"closed_mask\")\n",
    "plt.axis(\"off\")\n",
    "plt.subplots_adjust(wspace=0.05, left=0.01, bottom=0.01, right=0.99, top=0.99);"
   ]
  },
  {
   "cell_type": "markdown",
   "id": "93dd3898",
   "metadata": {},
   "source": [
    "### optimize_example2\n",
    "\n",
    "<!--- plot_optimize_example2 -->\n",
    "\n",
    "Minima and roots of a function\n",
    "\n",
    "Demos finding minima and roots of a function.\n",
    "\n",
    "Define the function:"
   ]
  },
  {
   "cell_type": "code",
   "execution_count": null,
   "id": "67133fa9",
   "metadata": {},
   "outputs": [],
   "source": [
    "x = np.arange(-10, 10, 0.1)\n",
    "\n",
    "def f(x):\n",
    "    return x**2 + 10 * np.sin(x)"
   ]
  },
  {
   "cell_type": "markdown",
   "id": "b4f26616",
   "metadata": {},
   "source": [
    "Find minima:"
   ]
  },
  {
   "cell_type": "code",
   "execution_count": null,
   "id": "7308695d",
   "metadata": {},
   "outputs": [],
   "source": [
    "# Global optimization\n",
    "grid = (-10, 10, 0.1)\n",
    "xmin_global = sp.optimize.brute(f, (grid,))\n",
    "print(f\"Global minima found {xmin_global}\")"
   ]
  },
  {
   "cell_type": "code",
   "execution_count": null,
   "id": "d6201b0b",
   "metadata": {},
   "outputs": [],
   "source": [
    "# Constrain optimization\n",
    "xmin_local = sp.optimize.fminbound(f, 0, 10)\n",
    "print(f\"Local minimum found {xmin_local}\")"
   ]
  },
  {
   "cell_type": "markdown",
   "id": "794160ee",
   "metadata": {},
   "source": [
    "Root finding"
   ]
  },
  {
   "cell_type": "code",
   "execution_count": null,
   "id": "2e725677",
   "metadata": {},
   "outputs": [],
   "source": [
    "root = sp.optimize.root(f, 1)  # our initial guess is 1\n",
    "print(f\"First root found {root.x}\")\n",
    "root2 = sp.optimize.root(f, -2.5)\n",
    "print(f\"Second root found {root2.x}\")"
   ]
  },
  {
   "cell_type": "markdown",
   "id": "ba83bcc3",
   "metadata": {},
   "source": [
    "Plot function, minima, and roots"
   ]
  },
  {
   "cell_type": "code",
   "execution_count": null,
   "id": "6398bbbe",
   "metadata": {},
   "outputs": [],
   "source": [
    "fig = plt.figure(figsize=(6, 4))\n",
    "ax = fig.add_subplot(111)\n",
    "# Plot the function\n",
    "ax.plot(x, f(x), \"b-\", label=\"f(x)\")\n",
    "# Plot the minima\n",
    "xmins = np.array([xmin_global[0], xmin_local])\n",
    "ax.plot(xmins, f(xmins), \"go\", label=\"Minima\")\n",
    "# Plot the roots\n",
    "roots = np.array([root.x, root2.x])\n",
    "ax.plot(roots, f(roots), \"kv\", label=\"Roots\")\n",
    "# Decorate the figure\n",
    "ax.legend(loc=\"best\")\n",
    "ax.set_xlabel(\"x\")\n",
    "ax.set_ylabel(\"f(x)\")\n",
    "ax.axhline(0, color=\"gray\");"
   ]
  },
  {
   "cell_type": "markdown",
   "id": "aa283a41",
   "metadata": {},
   "source": [
    "### Plotting and manipulating FFTs for filtering\n",
    "\n",
    "Plot the power of the FFT of a signal and inverse FFT back to reconstruct\n",
    "a signal.\n",
    "\n",
    "This example demonstrates {func}`scipy.fft.fft`, {func}`scipy.fft.fftfreq` and\n",
    "{func}`scipy.fft.ifft`. It implements a basic filter that is very suboptimal,\n",
    "and should not be used.\n",
    "\n",
    "#### Generate the signal"
   ]
  },
  {
   "cell_type": "code",
   "execution_count": null,
   "id": "48448ab6",
   "metadata": {},
   "outputs": [],
   "source": [
    "# Seed the random number generator\n",
    "rng = np.random.default_rng(27446968)\n",
    "\n",
    "time_step = 0.02\n",
    "period = 5.0\n",
    "\n",
    "time_vec = np.arange(0, 20, time_step)\n",
    "sig = np.sin(2 * np.pi / period * time_vec) + 0.5 * rng.normal(size=time_vec.size)"
   ]
  },
  {
   "cell_type": "code",
   "execution_count": null,
   "id": "c5db52f1",
   "metadata": {
    "lines_to_next_cell": 2
   },
   "outputs": [],
   "source": [
    "plt.figure(figsize=(6, 5))\n",
    "plt.plot(time_vec, sig, label=\"Original signal\")\n",
    "\n",
    "# Store the figure for the book pages.\n",
    "glue('original_signal_fig', plt.gcf(), display=False)"
   ]
  },
  {
   "cell_type": "markdown",
   "id": "02e03cbb",
   "metadata": {},
   "source": [
    "#### Compute and plot the power"
   ]
  },
  {
   "cell_type": "code",
   "execution_count": null,
   "id": "fb74813f",
   "metadata": {},
   "outputs": [],
   "source": [
    "# The FFT of the signal\n",
    "sig_fft = sp.fft.fft(sig)\n",
    "\n",
    "# And the power (sig_fft is of complex dtype)\n",
    "power = np.abs(sig_fft) ** 2\n",
    "\n",
    "# The corresponding frequencies\n",
    "sample_freq = sp.fft.fftfreq(sig.size, d=time_step)"
   ]
  },
  {
   "cell_type": "markdown",
   "id": "63fceb20",
   "metadata": {},
   "source": [
    "#### Find the peak frequency\n",
    "\n",
    "We can focus on only the positive frequencies."
   ]
  },
  {
   "cell_type": "code",
   "execution_count": null,
   "id": "3663b865",
   "metadata": {},
   "outputs": [],
   "source": [
    "pos_mask = np.where(sample_freq > 0)\n",
    "freqs = sample_freq[pos_mask]\n",
    "peak_freq = freqs[power[pos_mask].argmax()]"
   ]
  },
  {
   "cell_type": "markdown",
   "id": "bf3c9a3d",
   "metadata": {},
   "source": [
    "Check that the found peak frequency does indeed correspond to the frequency\n",
    "that we generate the signal with:"
   ]
  },
  {
   "cell_type": "code",
   "execution_count": null,
   "id": "c8b029e4",
   "metadata": {},
   "outputs": [],
   "source": [
    "np.allclose(peak_freq, 1.0 / period)"
   ]
  },
  {
   "cell_type": "code",
   "execution_count": null,
   "id": "e98c06f3",
   "metadata": {},
   "outputs": [],
   "source": [
    "# Plot the FFT power\n",
    "plt.figure(figsize=(6, 5))\n",
    "plt.plot(sample_freq, power)\n",
    "plt.xlabel(\"Frequency [Hz]\")\n",
    "plt.ylabel(\"power\")\n",
    "# An inner plot to show the peak frequency\n",
    "axes = plt.axes((0.55, 0.3, 0.3, 0.5))\n",
    "plt.title(\"Peak frequency\")\n",
    "plt.plot(freqs[:8], power[pos_mask][:8])\n",
    "plt.setp(axes, yticks=[])\n",
    "\n",
    "# Store the figure for the book pages.\n",
    "glue('fft_of_signal_fig', plt.gcf(), display=False)"
   ]
  },
  {
   "cell_type": "markdown",
   "id": "c2cc1039",
   "metadata": {},
   "source": [
    "`scipy.signal.find_peaks_cwt` can also be used for more advanced peak\n",
    "detection.\n",
    "\n",
    "#### Remove all the high frequencies\n",
    "\n",
    "We now remove all the high frequencies and transform back from frequencies to\n",
    "signal."
   ]
  },
  {
   "cell_type": "code",
   "execution_count": null,
   "id": "4a9fcd4d",
   "metadata": {},
   "outputs": [],
   "source": [
    "high_freq_fft = sig_fft.copy()\n",
    "high_freq_fft[np.abs(sample_freq) > peak_freq] = 0\n",
    "filtered_sig = sp.fft.ifft(high_freq_fft)"
   ]
  },
  {
   "cell_type": "code",
   "execution_count": null,
   "id": "2abbde39",
   "metadata": {},
   "outputs": [],
   "source": [
    "plt.figure(figsize=(6, 5))\n",
    "plt.plot(time_vec, sig, label=\"Original signal\")\n",
    "plt.plot(time_vec, filtered_sig, linewidth=3, label=\"Filtered signal\")\n",
    "plt.xlabel(\"Time [s]\")\n",
    "plt.ylabel(\"Amplitude\")\n",
    "plt.legend(loc=\"best\")\n",
    "\n",
    "# Store the figure for the book pages.\n",
    "glue('fft_filter_fig', plt.gcf(), display=False)"
   ]
  },
  {
   "cell_type": "markdown",
   "id": "46408be0",
   "metadata": {},
   "source": [
    "**Note** This is actually a bad way of creating a filter: such a brutal\n",
    "cut-off in frequency space does not control distortion on the signal.\n",
    "\n",
    "Filters should be created using the SciPy filter design code."
   ]
  },
  {
   "cell_type": "markdown",
   "id": "6ca16b49",
   "metadata": {},
   "source": [
    "### Spectrogram, power spectral density\n",
    "<!--- plot_spectrogram -->\n",
    "\n",
    "Demo spectrogram and power spectral density on a frequency chirp.\n",
    "\n",
    "Generate a chirp signal:"
   ]
  },
  {
   "cell_type": "code",
   "execution_count": null,
   "id": "118c3800",
   "metadata": {},
   "outputs": [],
   "source": [
    "# Seed the random number generator\n",
    "np.random.seed(0)"
   ]
  },
  {
   "cell_type": "code",
   "execution_count": null,
   "id": "136b34dc",
   "metadata": {},
   "outputs": [],
   "source": [
    "time_step = 0.01\n",
    "time_vec = np.arange(0, 70, time_step)\n",
    "\n",
    "# A signal with a small frequency chirp\n",
    "sig = np.sin(0.5 * np.pi * time_vec * (1 + 0.1 * time_vec))"
   ]
  },
  {
   "cell_type": "code",
   "execution_count": null,
   "id": "ab23c71f",
   "metadata": {},
   "outputs": [],
   "source": [
    "plt.figure(figsize=(8, 5))\n",
    "plt.plot(time_vec, sig)\n",
    "\n",
    "# Store the figure for the book pages.\n",
    "glue('chirp_fig', plt.gcf(), display=False)"
   ]
  },
  {
   "cell_type": "markdown",
   "id": "664e5489",
   "metadata": {},
   "source": [
    "Compute and plot the spectrogram\n",
    "\n",
    "The spectrum of the signal on consecutive time windows"
   ]
  },
  {
   "cell_type": "code",
   "execution_count": null,
   "id": "88458fe1",
   "metadata": {},
   "outputs": [],
   "source": [
    "freqs, times, spectrogram = sp.signal.spectrogram(sig)"
   ]
  },
  {
   "cell_type": "code",
   "execution_count": null,
   "id": "97c4dada",
   "metadata": {},
   "outputs": [],
   "source": [
    "plt.figure(figsize=(5, 4))\n",
    "plt.imshow(spectrogram, aspect=\"auto\", cmap=\"hot_r\", origin=\"lower\")\n",
    "plt.title(\"Spectrogram\")\n",
    "plt.ylabel(\"Frequency band\")\n",
    "plt.xlabel(\"Time window\")\n",
    "plt.tight_layout();\n",
    "\n",
    "# Store the figure for the book pages.\n",
    "glue('spectrogram_fig', plt.gcf(), display=False)"
   ]
  },
  {
   "cell_type": "markdown",
   "id": "9f32eb0b",
   "metadata": {},
   "source": [
    "Next we compute and plot the power spectral density (PSD)\n",
    "\n",
    "The power of the signal per frequency band:"
   ]
  },
  {
   "cell_type": "code",
   "execution_count": null,
   "id": "c4d3543c",
   "metadata": {},
   "outputs": [],
   "source": [
    "freqs, psd = sp.signal.welch(sig)"
   ]
  },
  {
   "cell_type": "code",
   "execution_count": null,
   "id": "5a7fc8db",
   "metadata": {
    "lines_to_next_cell": 2
   },
   "outputs": [],
   "source": [
    "plt.figure(figsize=(5, 4))\n",
    "plt.semilogx(freqs, psd)\n",
    "plt.title(\"PSD: power spectral density\")\n",
    "plt.xlabel(\"Frequency\")\n",
    "plt.ylabel(\"Power\")\n",
    "plt.tight_layout();\n",
    "# Store the figure for the book pages.\n",
    "glue('psd_fig', plt.gcf(), display=False)"
   ]
  },
  {
   "cell_type": "markdown",
   "id": "a94ecc63",
   "metadata": {},
   "source": [
    "### t_test\n",
    "\n",
    "<!--- plot_t_test -->\n",
    "\n",
    "Comparing 2 sets of samples from Gaussians"
   ]
  },
  {
   "cell_type": "code",
   "execution_count": null,
   "id": "c2a12475",
   "metadata": {},
   "outputs": [],
   "source": [
    "# Generates 2 sets of observations\n",
    "rng = np.random.default_rng(27446968)\n",
    "samples1 = rng.normal(0, size=1000)\n",
    "samples2 = rng.normal(1, size=1000)"
   ]
  },
  {
   "cell_type": "code",
   "execution_count": null,
   "id": "e24f3c1a",
   "metadata": {},
   "outputs": [],
   "source": [
    "# Compute a histogram of the sample\n",
    "bins = np.linspace(-4, 4, 30)\n",
    "histogram1, bins = np.histogram(samples1, bins=bins, density=True)\n",
    "histogram2, bins = np.histogram(samples2, bins=bins, density=True)"
   ]
  },
  {
   "cell_type": "code",
   "execution_count": null,
   "id": "ebf35904",
   "metadata": {
    "tags": [
     "hide-input"
    ]
   },
   "outputs": [],
   "source": [
    "plt.figure(figsize=(6, 4))\n",
    "plt.hist(samples1, bins=bins, density=True, label=\"Samples 1\")  # type: ignore[arg-type]\n",
    "plt.hist(samples2, bins=bins, density=True, label=\"Samples 2\")  # type: ignore[arg-type]\n",
    "plt.legend(loc=\"best\");"
   ]
  },
  {
   "cell_type": "markdown",
   "id": "c092ad43",
   "metadata": {},
   "source": [
    "### Simple image blur by convolution with a Gaussian kernel\n",
    "<!--- plot_image_blur -->"
   ]
  },
  {
   "cell_type": "markdown",
   "id": "f798c27c",
   "metadata": {},
   "source": [
    "Blur an image (:download:`data/elephant.png`) using a\n",
    "Gaussian kernel.\n",
    "\n",
    "Convolution is easy to perform with FFT: convolving two signals boils\n",
    "down to multiplying their FFTs (and performing an inverse FFT).\n",
    "\n",
    "The original image:"
   ]
  },
  {
   "cell_type": "code",
   "execution_count": null,
   "id": "b2770e9d",
   "metadata": {},
   "outputs": [],
   "source": [
    "# read image\n",
    "img = plt.imread(\"data/elephant.png\")\n",
    "plt.figure()\n",
    "plt.imshow(img);"
   ]
  },
  {
   "cell_type": "markdown",
   "id": "d5c41de6",
   "metadata": {},
   "source": [
    "Prepare an Gaussian convolution kernel"
   ]
  },
  {
   "cell_type": "code",
   "execution_count": null,
   "id": "bb27a092",
   "metadata": {},
   "outputs": [],
   "source": [
    "# First a 1-D  Gaussian\n",
    "t = np.linspace(-10, 10, 30)\n",
    "bump = np.exp(-0.1 * t**2)\n",
    "bump /= np.trapezoid(bump)  # normalize the integral to 1\n",
    "\n",
    "# make a 2-D kernel out of it\n",
    "kernel = bump[:, np.newaxis] * bump[np.newaxis, :]"
   ]
  },
  {
   "cell_type": "markdown",
   "id": "213d2858",
   "metadata": {},
   "source": [
    "Implement convolution via FFT"
   ]
  },
  {
   "cell_type": "code",
   "execution_count": null,
   "id": "c199eb42",
   "metadata": {},
   "outputs": [],
   "source": [
    "# Padded Fourier transform, with the same shape as the image\n",
    "# We use {func}`scipy.fft.fft2` to have a 2D FFT\n",
    "kernel_ft = sp.fft.fft2(kernel, s=img.shape[:2], axes=(0, 1))\n",
    "\n",
    "# convolve\n",
    "img_ft = sp.fft.fft2(img, axes=(0, 1))\n",
    "\n",
    "# the 'newaxis' is to match to color direction\n",
    "img2_ft = kernel_ft[:, :, np.newaxis] * img_ft\n",
    "img2 = sp.fft.ifft2(img2_ft, axes=(0, 1)).real\n",
    "\n",
    "# clip values to range\n",
    "img2 = np.clip(img2, 0, 1)"
   ]
  },
  {
   "cell_type": "code",
   "execution_count": null,
   "id": "cb9b0f92",
   "metadata": {},
   "outputs": [],
   "source": [
    "# plot output\n",
    "plt.figure()\n",
    "plt.imshow(img2);\n",
    "\n",
    "# Store figure for use in main page.\n",
    "glue(\"blur_fig\", plt.gcf(), display=False)"
   ]
  },
  {
   "cell_type": "markdown",
   "id": "32e0b2b7",
   "metadata": {},
   "source": [
    "Further exercise (only if you are familiar with this stuff):\n",
    "\n",
    "A \"wrapped border\" appears in the upper left and top edges of the\n",
    "image. This is because the padding is not done correctly, and does\n",
    "not take the kernel size into account (so the convolution \"flows out\n",
    "of bounds of the image\").  Try to remove this artifact."
   ]
  },
  {
   "cell_type": "markdown",
   "id": "a24339d5",
   "metadata": {},
   "source": [
    "A function to do it: {func}`scipy.signal.fftconvolve`\n",
    "\n",
    "The above exercise was only for didactic reasons: there exists a\n",
    "function in Scipy that will do this for us, and probably do a better\n",
    "job: {func}`scipy.signal.fftconvolve`"
   ]
  },
  {
   "cell_type": "code",
   "execution_count": null,
   "id": "fe25d059",
   "metadata": {},
   "outputs": [],
   "source": [
    "# mode='same' is there to enforce the same output shape as input arrays\n",
    "# (ie avoid border effects).\n",
    "img3 = sp.signal.fftconvolve(img, kernel[:, :, np.newaxis], mode=\"same\")\n",
    "plt.figure()\n",
    "plt.imshow(img3);"
   ]
  },
  {
   "cell_type": "markdown",
   "id": "bcb7e142",
   "metadata": {},
   "source": [
    "Note that we still have a decay to zero at the border of the image.\n",
    "Using {func}`scipy.ndimage.gaussian_filter` would get rid of this\n",
    "artifact."
   ]
  },
  {
   "cell_type": "markdown",
   "id": "91fe3e89",
   "metadata": {},
   "source": [
    "### Crude periodicity finding\n",
    "\n",
    "<!--- plot_periodicity_finder -->\n",
    "\n",
    "Discover the periods in evolution of animal populations\n",
    "(:download:`data/populations.txt`)\n",
    "\n",
    "Load the data:"
   ]
  },
  {
   "cell_type": "code",
   "execution_count": null,
   "id": "2b49f883",
   "metadata": {},
   "outputs": [],
   "source": [
    "data = np.loadtxt(\"data/populations.txt\")\n",
    "years = data[:, 0]\n",
    "populations = data[:, 1:]"
   ]
  },
  {
   "cell_type": "markdown",
   "id": "04440094",
   "metadata": {},
   "source": [
    "Plot the data:"
   ]
  },
  {
   "cell_type": "code",
   "execution_count": null,
   "id": "413a05b0",
   "metadata": {},
   "outputs": [],
   "source": [
    "plt.figure()\n",
    "plt.plot(years, populations * 1e-3)\n",
    "plt.xlabel(\"Year\")\n",
    "plt.ylabel(r\"Population number ($\\cdot10^3$)\")\n",
    "plt.legend([\"hare\", \"lynx\", \"carrot\"], loc=1);\n",
    "\n",
    "# Store figure for use in main page.\n",
    "glue(\"periodicity_fig\", plt.gcf(), display=False)"
   ]
  },
  {
   "cell_type": "code",
   "execution_count": null,
   "id": "2ed9f277",
   "metadata": {},
   "outputs": [],
   "source": [
    "# Plot its periods\n",
    "ft_populations = sp.fft.fft(populations, axis=0)\n",
    "frequencies = sp.fft.fftfreq(populations.shape[0], years[1] - years[0])\n",
    "periods = 1 / frequencies"
   ]
  },
  {
   "cell_type": "code",
   "execution_count": null,
   "id": "ddb0dfcd",
   "metadata": {},
   "outputs": [],
   "source": [
    "plt.figure()\n",
    "plt.plot(periods, abs(ft_populations) * 1e-3, \"o\")\n",
    "plt.xlim(0, 22)\n",
    "plt.xlabel(\"Period\")\n",
    "plt.ylabel(r\"Power ($\\cdot10^3$)\");"
   ]
  },
  {
   "cell_type": "markdown",
   "id": "9b614e7b",
   "metadata": {},
   "source": [
    "There's probably a period of around 10 years (obvious from the\n",
    "plot), but for this crude a method, there's not enough data to say\n",
    "much more."
   ]
  }
 ],
 "metadata": {
  "jupytext": {
   "formats": "ipynb,Rmd"
  },
  "kernelspec": {
   "display_name": "Python (Pyodide)",
   "name": "python"
  },
  "orphan": true
 },
 "nbformat": 4,
 "nbformat_minor": 5
}
