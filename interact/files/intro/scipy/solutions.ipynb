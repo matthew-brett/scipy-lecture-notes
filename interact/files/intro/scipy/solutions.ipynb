{
 "cells": [
  {
   "cell_type": "markdown",
   "id": "677f05d4",
   "metadata": {},
   "source": [
    "# Solutions\n",
    "## The Pi Wallis Solution\n",
    "\n",
    "Compute the decimals of Pi using the Wallis formula:\n",
    "\n",
    ":::literalinclude} solutions/pi_wallis.py\n",
    "\n",
    ":::\n",
    "## The Quicksort Solution\n",
    "\n",
    "Implement the quicksort algorithm, as defined by wikipedia:\n",
    "\n",
    "```text\n",
    "function quicksort(array)\n",
    "    var list less, greater\n",
    "    if length(array) ≤ 1\n",
    "        return array\n",
    "    select and remove a pivot value pivot from array\n",
    "    for each x in array\n",
    "        if x ≤ pivot then append x to less\n",
    "        else append x to greater\n",
    "    return concatenate(quicksort(less), pivot, quicksort(greater))\n",
    "```\n",
    "\n",
    ":::literalinclude} solutions/quick_sort.py\n",
    "\n",
    ":::\n",
    "## Fibonacci sequence\n",
    "\n",
    "Write a function that displays the `n` first terms of the Fibonacci\n",
    "sequence, defined by:\n",
    "\n",
    "- `u_0 = 1; u_1 = 1`\n",
    "- `u_(n+2) = u_(n+1) + u_n`"
   ]
  },
  {
   "cell_type": "code",
   "execution_count": null,
   "id": "aa85ff55",
   "metadata": {},
   "outputs": [],
   "source": [
    "def fib(n):\n",
    "    \"\"\"Display the n first terms of Fibonacci sequence\"\"\"\n",
    "    a, b = 0, 1\n",
    "    i = 0\n",
    "    while i < n:\n",
    "        print(b)\n",
    "        a, b = b, a+b\n",
    "        i +=1"
   ]
  },
  {
   "cell_type": "code",
   "execution_count": null,
   "id": "a731580c",
   "metadata": {},
   "outputs": [],
   "source": [
    "fib(10)"
   ]
  },
  {
   "cell_type": "markdown",
   "id": "84bd9c71",
   "metadata": {},
   "source": [
    "## The Directory Listing Solution\n",
    "\n",
    "Implement a script that takes a directory name as argument, and\n",
    "returns the list of '.py' files, sorted by name length.\n",
    "\n",
    "**Hint:** try to understand the docstring of list.sort\n",
    "\n",
    ":::literalinclude} solutions/dir_sort.py\n",
    "\n",
    ":::\n",
    "## The Data File I/O Solution\n",
    "\n",
    "Write a function that will load the column of numbers in `data.txt`\n",
    "and calculate the min, max and sum values.\n",
    "\n",
    "Data file:\n",
    "\n",
    ":::literalinclude} solutions/data.txt\n",
    "\n",
    ":::\n",
    "\n",
    "Solution:\n",
    "\n",
    ":::literalinclude} solutions/data_file.py\n",
    "\n",
    ":::\n",
    "## The PYTHONPATH Search Solution\n",
    "\n",
    "Write a program to search your PYTHONPATH for the module `site.py`.\n",
    "\n",
    ":::literalinclude} solutions/path_site.py\n",
    "\n",
    ":::"
   ]
  }
 ],
 "metadata": {
  "jupytext": {
   "formats": "ipynb,Rmd"
  },
  "kernelspec": {
   "display_name": "Python (Pyodide)",
   "name": "python"
  },
  "orphan": true
 },
 "nbformat": 4,
 "nbformat_minor": 5
}
