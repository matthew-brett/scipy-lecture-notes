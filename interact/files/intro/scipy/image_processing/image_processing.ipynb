{
 "cells": [
  {
   "cell_type": "markdown",
   "id": "7fb6428c",
   "metadata": {},
   "source": [
    "# Geometrical transformations on images\n",
    "\n",
    "{mod}`scipy.ndimage` provides manipulation of n-dimensional arrays as\n",
    "images."
   ]
  },
  {
   "cell_type": "code",
   "execution_count": null,
   "id": "eacafbb8",
   "metadata": {},
   "outputs": [],
   "source": [
    "import numpy as np\n",
    "import matplotlib.pyplot as plt"
   ]
  },
  {
   "cell_type": "markdown",
   "id": "916d1d52",
   "metadata": {},
   "source": [
    "## Changing orientation, resolution, .."
   ]
  },
  {
   "cell_type": "code",
   "execution_count": null,
   "id": "18a5e089",
   "metadata": {},
   "outputs": [],
   "source": [
    "import scipy as sp"
   ]
  },
  {
   "cell_type": "code",
   "execution_count": null,
   "id": "dc13304e",
   "metadata": {},
   "outputs": [],
   "source": [
    "# Load an image\n",
    "face = sp.datasets.face(gray=True)"
   ]
  },
  {
   "cell_type": "code",
   "execution_count": null,
   "id": "33ea31f9",
   "metadata": {},
   "outputs": [],
   "source": [
    "# Shift, rotate and zoom it\n",
    "shifted_face = sp.ndimage.shift(face, (50, 50))\n",
    "shifted_face2 = sp.ndimage.shift(face, (50, 50), mode='nearest')\n",
    "rotated_face = sp.ndimage.rotate(face, 30)\n",
    "cropped_face = face[50:-50, 50:-50]\n",
    "zoomed_face = sp.ndimage.zoom(face, 2)\n",
    "zoomed_face.shape"
   ]
  },
  {
   "cell_type": "code",
   "execution_count": null,
   "id": "a0dcffb7",
   "metadata": {
    "tags": [
     "hide-input"
    ]
   },
   "outputs": [],
   "source": [
    "plt.figure(figsize=(15, 3))\n",
    "fig, axes = plt.subplots(1, 5)\n",
    "for i, arr in enumerate([shifted_face,\n",
    "                         shifted_face2,\n",
    "                         rotated_face,\n",
    "                         cropped_face,\n",
    "                         zoomed_face]):\n",
    "    axes[i].imshow(arr, cmap=\"gray\")\n",
    "    axes[i].axis(\"off\")\n",
    "\n",
    "plt.subplots_adjust(wspace=0.05, left=0.01, bottom=0.01, right=0.99, top=0.99);"
   ]
  },
  {
   "cell_type": "markdown",
   "id": "8b5cf643",
   "metadata": {},
   "source": [
    "## Image filtering\n",
    "\n",
    "Generate a noisy face:"
   ]
  },
  {
   "cell_type": "code",
   "execution_count": null,
   "id": "e184d7b4",
   "metadata": {},
   "outputs": [],
   "source": [
    "face = sp.datasets.face(gray=True)\n",
    "face = face[:512, -512:]  # crop out square on right\n",
    "noisy_face = np.copy(face).astype(float)\n",
    "rng = np.random.default_rng()\n",
    "noisy_face += face.std() * 0.5 * rng.standard_normal(face.shape)"
   ]
  },
  {
   "cell_type": "markdown",
   "id": "2055676b",
   "metadata": {},
   "source": [
    "Apply a variety of filters on it:"
   ]
  },
  {
   "cell_type": "code",
   "execution_count": null,
   "id": "267c3d9d",
   "metadata": {},
   "outputs": [],
   "source": [
    "blurred_face = sp.ndimage.gaussian_filter(noisy_face, sigma=3)\n",
    "median_face = sp.ndimage.median_filter(noisy_face, size=5)\n",
    "wiener_face = sp.signal.wiener(noisy_face, (5, 5))"
   ]
  },
  {
   "cell_type": "code",
   "execution_count": null,
   "id": "22f4df4a",
   "metadata": {
    "tags": [
     "hide-input"
    ]
   },
   "outputs": [],
   "source": [
    "plt.figure(figsize=(12, 3.5))\n",
    "fig, axes = plt.subplots(1, 4)\n",
    "for i, (arr, name) in enumerate([[noisy_face, 'noisy'],\n",
    "                                 [blurred_face, 'Gaussian filter'],\n",
    "                                 [median_face, 'median filter'],\n",
    "                                 [wiener_face, 'Wiener filter']]):\n",
    "    axes[i].imshow(arr, cmap=\"gray\")\n",
    "    axes[i].set_title(name)\n",
    "    axes[i].axis(\"off\")\n",
    "\n",
    "plt.subplots_adjust(wspace=0.05, left=0.01, bottom=0.01, right=0.99, top=0.99)"
   ]
  },
  {
   "cell_type": "markdown",
   "id": "87214b84",
   "metadata": {},
   "source": [
    "Other filters in {mod}`scipy.ndimage.filters` and {mod}`scipy.signal`\n",
    "can be applied to images.\n",
    "\n",
    "**Start of exercise**\n",
    "\n",
    "Compare histograms for the different filtered images.\n",
    "\n",
    "**End of exercise**\n",
    "\n",
    "## Mathematical morphology\n",
    "\n",
    "**Start of note**\n",
    ":class: dropdown\n",
    "\n",
    "[Mathematical morphology](https://en.wikipedia.org/wiki/Mathematical_morphology) stems from set\n",
    "theory. It characterizes and transforms geometrical structures. Binary\n",
    "(black and white) images, in particular, can be transformed using this\n",
    "theory: the sets to be transformed are the sets of neighboring\n",
    "non-zero-valued pixels. The theory was also extended to gray-valued\n",
    "images.\n",
    "**End of note**\n",
    "\n",
    "![](morpho_mat.png)\n",
    "\n",
    "Mathematical-morphology operations use a *structuring element*\n",
    "in order to modify geometrical structures.\n",
    "\n",
    "Let us first generate a structuring element:"
   ]
  },
  {
   "cell_type": "code",
   "execution_count": null,
   "id": "601071a2",
   "metadata": {},
   "outputs": [],
   "source": [
    "el = sp.ndimage.generate_binary_structure(2, 1)\n",
    "el"
   ]
  },
  {
   "cell_type": "code",
   "execution_count": null,
   "id": "7aeff62b",
   "metadata": {},
   "outputs": [],
   "source": [
    "el.astype(int)"
   ]
  },
  {
   "cell_type": "markdown",
   "id": "71b69012",
   "metadata": {},
   "source": [
    "- **Erosion** {func}`scipy.ndimage.binary_erosion`"
   ]
  },
  {
   "cell_type": "code",
   "execution_count": null,
   "id": "855cb2c7",
   "metadata": {},
   "outputs": [],
   "source": [
    "a = np.zeros((7, 7), dtype=int)\n",
    "a[1:6, 2:5] = 1\n",
    "a"
   ]
  },
  {
   "cell_type": "code",
   "execution_count": null,
   "id": "9e824729",
   "metadata": {},
   "outputs": [],
   "source": [
    "sp.ndimage.binary_erosion(a).astype(a.dtype)"
   ]
  },
  {
   "cell_type": "code",
   "execution_count": null,
   "id": "7381f5fa",
   "metadata": {},
   "outputs": [],
   "source": [
    "# Erosion removes objects smaller than the structure\n",
    "sp.ndimage.binary_erosion(a, structure=np.ones((5,5))).astype(a.dtype)"
   ]
  },
  {
   "cell_type": "markdown",
   "id": "27848ea6",
   "metadata": {},
   "source": [
    "- **Dilation** {func}`scipy.ndimage.binary_dilation`"
   ]
  },
  {
   "cell_type": "code",
   "execution_count": null,
   "id": "51ce4656",
   "metadata": {},
   "outputs": [],
   "source": [
    "a = np.zeros((5, 5))\n",
    "a[2, 2] = 1\n",
    "a"
   ]
  },
  {
   "cell_type": "code",
   "execution_count": null,
   "id": "b8cc2475",
   "metadata": {},
   "outputs": [],
   "source": [
    "sp.ndimage.binary_dilation(a).astype(a.dtype)"
   ]
  },
  {
   "cell_type": "markdown",
   "id": "761cabe7",
   "metadata": {},
   "source": [
    "- **Opening** {func}`scipy.ndimage.binary_opening`"
   ]
  },
  {
   "cell_type": "code",
   "execution_count": null,
   "id": "6d7c7c00",
   "metadata": {},
   "outputs": [],
   "source": [
    "a = np.zeros((5, 5), dtype=int)\n",
    "a[1:4, 1:4] = 1\n",
    "a[4, 4] = 1\n",
    "a"
   ]
  },
  {
   "cell_type": "code",
   "execution_count": null,
   "id": "747db7e3",
   "metadata": {},
   "outputs": [],
   "source": [
    "# Opening removes small objects\n",
    "sp.ndimage.binary_opening(a, structure=np.ones((3, 3))).astype(int)"
   ]
  },
  {
   "cell_type": "code",
   "execution_count": null,
   "id": "551d7d24",
   "metadata": {},
   "outputs": [],
   "source": [
    "# Opening can also smooth corners\n",
    "sp.ndimage.binary_opening(a).astype(int)"
   ]
  },
  {
   "cell_type": "markdown",
   "id": "7df23f45",
   "metadata": {},
   "source": [
    "- **Closing:** {func}`scipy.ndimage.binary_closing`\n",
    "\n",
    "**Start of exercise**\n",
    "\n",
    "Check that opening amounts to eroding, then dilating.\n",
    "\n",
    "**End of exercise**\n",
    "\n",
    "An opening operation removes small structures, while a closing operation\n",
    "fills small holes. Such operations can therefore be used to \"clean\" an\n",
    "image."
   ]
  },
  {
   "cell_type": "code",
   "execution_count": null,
   "id": "d1a4b402",
   "metadata": {},
   "outputs": [],
   "source": [
    "a = np.zeros((50, 50))\n",
    "a[10:-10, 10:-10] = 1\n",
    "rng = np.random.default_rng()\n",
    "a += 0.25 * rng.standard_normal(a.shape)\n",
    "mask = a>=0.5\n",
    "opened_mask = sp.ndimage.binary_opening(mask)\n",
    "closed_mask = sp.ndimage.binary_closing(opened_mask)"
   ]
  },
  {
   "cell_type": "code",
   "execution_count": null,
   "id": "c0751b22",
   "metadata": {
    "tags": [
     "hide-input"
    ]
   },
   "outputs": [],
   "source": [
    "plt.figure(figsize=(12, 3.5))\n",
    "for i, (arr, name) in enumerate([[a, 'a'],\n",
    "                                 [mask, 'mask'],\n",
    "                                 [opened_mask, 'opened_mask'],\n",
    "                                 [closed_mask, 'closed_mask']]):\n",
    "    axes[i].imshow(shifted_face, cmap=\"gray\")\n",
    "    axes[i].set_title(name)\n",
    "    axes[i].axis(\"off\")\n",
    "\n",
    "plt.subplots_adjust(wspace=0.05, left=0.01, bottom=0.01, right=0.99, top=0.99)"
   ]
  },
  {
   "cell_type": "markdown",
   "id": "b46341fe",
   "metadata": {},
   "source": [
    "**Start of exercise**\n",
    "\n",
    "Check that the area of the reconstructed square is smaller\n",
    "than the area of the initial square. (The opposite would occur if the\n",
    "closing step was performed *before* the opening).\n",
    "\n",
    "**End of exercise**\n",
    "\n",
    "For *gray-valued* images, eroding (resp. dilating) amounts to replacing\n",
    "a pixel by the minimal (resp. maximal) value among pixels covered by the\n",
    "structuring element centered on the pixel of interest."
   ]
  },
  {
   "cell_type": "code",
   "execution_count": null,
   "id": "fe88de04",
   "metadata": {},
   "outputs": [],
   "source": [
    "a = np.zeros((7, 7), dtype=int)\n",
    "a[1:6, 1:6] = 3\n",
    "a[4, 4] = 2; a[2, 3] = 1\n",
    "a"
   ]
  },
  {
   "cell_type": "code",
   "execution_count": null,
   "id": "9136c5a9",
   "metadata": {},
   "outputs": [],
   "source": [
    "sp.ndimage.grey_erosion(a, size=(3, 3))"
   ]
  },
  {
   "cell_type": "markdown",
   "id": "99188e9c",
   "metadata": {},
   "source": [
    "## Connected components and measurements on images\n",
    "\n",
    "Let us first generate a nice synthetic binary image."
   ]
  },
  {
   "cell_type": "code",
   "execution_count": null,
   "id": "902bc4d0",
   "metadata": {},
   "outputs": [],
   "source": [
    "x, y = np.indices((100, 100))\n",
    "sig = np.sin(2*np.pi*x/50.) * np.sin(2*np.pi*y/50.) * (1+x*y/50.**2)**2\n",
    "mask = sig > 1"
   ]
  },
  {
   "cell_type": "code",
   "execution_count": null,
   "id": "9370f860",
   "metadata": {
    "tags": [
     "hide-input"
    ]
   },
   "outputs": [],
   "source": [
    "plt.figure(figsize=(7, 3.5))\n",
    "fig, axes = plt.subplots(1, 2)\n",
    "axes[0].imshow(sig)\n",
    "axes[0].axis(\"off\")\n",
    "axes[0].set_title(\"sig\")\n",
    "axes[1].imshow(mask, cmap=\"gray\")\n",
    "axes[1].axis(\"off\")\n",
    "axes[1].set_title(\"mask\")\n",
    "plt.subplots_adjust(wspace=0.05, left=0.01, bottom=0.01, right=0.99, top=0.9);"
   ]
  },
  {
   "cell_type": "markdown",
   "id": "4986a7a5",
   "metadata": {},
   "source": [
    "{func}`scipy.ndimage.label` assigns a different label to each connected\n",
    "component:"
   ]
  },
  {
   "cell_type": "code",
   "execution_count": null,
   "id": "231bee38",
   "metadata": {},
   "outputs": [],
   "source": [
    "labels, nb = sp.ndimage.label(mask)\n",
    "nb"
   ]
  },
  {
   "cell_type": "code",
   "execution_count": null,
   "id": "9c12a6c4",
   "metadata": {
    "tags": [
     "hide-input"
    ]
   },
   "outputs": [],
   "source": [
    "plt.figure(figsize=(3.5, 3.5))\n",
    "plt.imshow(labels)\n",
    "plt.title(\"label\")\n",
    "plt.axis(\"off\")\n",
    "\n",
    "plt.subplots_adjust(wspace=0.05, left=0.01, bottom=0.01, right=0.99, top=0.9)"
   ]
  },
  {
   "cell_type": "markdown",
   "id": "9d06fa2e",
   "metadata": {},
   "source": [
    "Now compute measurements on each connected component:"
   ]
  },
  {
   "cell_type": "code",
   "execution_count": null,
   "id": "39e5d4ac",
   "metadata": {},
   "outputs": [],
   "source": [
    "areas = sp.ndimage.sum(mask, labels, range(1, labels.max()+1))\n",
    "areas   # The number of pixels in each connected component"
   ]
  },
  {
   "cell_type": "code",
   "execution_count": null,
   "id": "e3657f17",
   "metadata": {},
   "outputs": [],
   "source": [
    "maxima = sp.ndimage.maximum(sig, labels, range(1, labels.max()+1))\n",
    "maxima  # The maximum signal in each connected component"
   ]
  },
  {
   "cell_type": "markdown",
   "id": "93313e27",
   "metadata": {},
   "source": [
    "Extract the 4th connected component, and crop the array around it:"
   ]
  },
  {
   "cell_type": "code",
   "execution_count": null,
   "id": "af7da318",
   "metadata": {},
   "outputs": [],
   "source": [
    "sl_3 = sp.ndimage.find_objects(labels)[3]\n",
    "sl_3"
   ]
  },
  {
   "cell_type": "code",
   "execution_count": null,
   "id": "68e3f1a5",
   "metadata": {
    "tags": [
     "hide-input"
    ]
   },
   "outputs": [],
   "source": [
    "plt.figure(figsize=(3.5, 3.5))\n",
    "plt.imshow(sig[sl_3])\n",
    "plt.title(\"Cropped connected component\")\n",
    "plt.axis(\"off\")\n",
    "\n",
    "plt.subplots_adjust(wspace=0.05, left=0.01, bottom=0.01, right=0.99, top=0.9)"
   ]
  },
  {
   "cell_type": "markdown",
   "id": "e083c7e3",
   "metadata": {},
   "source": [
    "See the summary exercise on {ref}`summary-exercise-image-processing` for a more\n",
    "advanced example."
   ]
  }
 ],
 "metadata": {
  "jupytext": {
   "formats": "ipynb,Rmd"
  },
  "kernelspec": {
   "display_name": "Python (Pyodide)",
   "name": "python"
  },
  "orphan": true
 },
 "nbformat": 4,
 "nbformat_minor": 5
}
