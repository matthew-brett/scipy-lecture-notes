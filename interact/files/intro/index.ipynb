{
 "cells": [
  {
   "cell_type": "markdown",
   "id": "357b45b0",
   "metadata": {},
   "source": [
    "# Introduction to getting started\n",
    "\n",
    "This part of the _Scientific Python Lectures_ is a self-contained\n",
    "introduction to everything that is needed to use Python for science,\n",
    "from the language itself, to numerical computing or plotting."
   ]
  }
 ],
 "metadata": {
  "kernelspec": {
   "display_name": "Python (Pyodide)",
   "name": "python"
  }
 },
 "nbformat": 4,
 "nbformat_minor": 5
}
