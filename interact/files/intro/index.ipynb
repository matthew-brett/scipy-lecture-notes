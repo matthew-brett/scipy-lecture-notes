{
 "cells": [
  {
   "cell_type": "markdown",
   "id": "d232fb92",
   "metadata": {},
   "source": [
    "# Introduction to getting started\n",
    "\n",
    "This part of the _Scientific Python Lectures_ is a self-contained\n",
    "introduction to everything that is needed to use Python for science,\n",
    "from the language itself, to numerical computing or plotting.\n",
    "\n",
    "See the \"Getting started with Python for Science\" section in the table of contents."
   ]
  }
 ],
 "metadata": {
  "kernelspec": {
   "display_name": "Python (Pyodide)",
   "name": "python"
  },
  "orphan": true
 },
 "nbformat": 4,
 "nbformat_minor": 5
}
