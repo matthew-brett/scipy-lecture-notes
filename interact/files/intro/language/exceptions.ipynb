{
 "cells": [
  {
   "cell_type": "markdown",
   "id": "da2d558f",
   "metadata": {},
   "source": [
    "# Exception handling in Python\n",
    "\n",
    "It is likely that you have raised Exceptions if you have\n",
    "typed all the previous commands of the tutorial. For example, you may\n",
    "have raised an exception if you entered a command with a typo.\n",
    "\n",
    "Exceptions are raised by different kinds of errors arising when executing\n",
    "Python code. In your own code, you may also catch errors, or define custom\n",
    "error types. You may want to look at the descriptions of the [the built-in\n",
    "Exceptions](https://docs.python.org/3/library/exceptions.html) when looking\n",
    "for the right exception type.\n",
    "\n",
    "## Exceptions\n",
    "\n",
    "Exceptions are raised by errors in Python:"
   ]
  },
  {
   "cell_type": "code",
   "execution_count": null,
   "id": "faf73d2f",
   "metadata": {
    "tags": [
     "raises-exception"
    ]
   },
   "outputs": [],
   "source": [
    "1/0"
   ]
  },
  {
   "cell_type": "code",
   "execution_count": null,
   "id": "a7cf1394",
   "metadata": {
    "tags": [
     "raises-exception"
    ]
   },
   "outputs": [],
   "source": [
    "1 + 'e'"
   ]
  },
  {
   "cell_type": "code",
   "execution_count": null,
   "id": "f672a232",
   "metadata": {
    "tags": [
     "raises-exception"
    ]
   },
   "outputs": [],
   "source": [
    "d = {1:1, 2:2}\n",
    "d[3]"
   ]
  },
  {
   "cell_type": "code",
   "execution_count": null,
   "id": "30bd24bb",
   "metadata": {
    "tags": [
     "raises-exception"
    ]
   },
   "outputs": [],
   "source": [
    "l = [1, 2, 3]\n",
    "l[4]"
   ]
  },
  {
   "cell_type": "code",
   "execution_count": null,
   "id": "170de750",
   "metadata": {
    "tags": [
     "raises-exception"
    ]
   },
   "outputs": [],
   "source": [
    "l.foobar"
   ]
  },
  {
   "cell_type": "markdown",
   "id": "89210350",
   "metadata": {},
   "source": [
    "As you can see, there are **different types** of exceptions for different errors.\n",
    "\n",
    "## Catching exceptions\n",
    "\n",
    "### try/except\n",
    "\n",
    "```ipython\n",
    "In [1]: while True:\n",
    "   ....:     try:\n",
    "   ....:         x = int(input('Please enter a number: '))\n",
    "   ....:         break\n",
    "   ....:     except ValueError:\n",
    "   ....:         print('That was no valid number.  Try again...')\n",
    "   ....:\n",
    "Please enter a number: a\n",
    "That was no valid number.  Try again...\n",
    "Please enter a number: 1\n",
    "\n",
    "In [2]: x\n",
    "Out[9]: 1\n",
    "```\n",
    "\n",
    "### try/finally\n",
    "\n",
    "```ipython\n",
    "In [1]: try:\n",
    "   ....:     x = int(input('Please enter a number: '))\n",
    "   ....: finally:\n",
    "   ....:     print('Thank you for your input')\n",
    "   ....:\n",
    "Please enter a number: a\n",
    "Thank you for your input\n",
    "---------------------------------------------------------------------------\n",
    "ValueError                                Traceback (most recent call last)\n",
    "Cell In[10], line 2\n",
    "      1 try:\n",
    "----> 2     x = int(input('Please enter a number: '))\n",
    "      3 finally:\n",
    "      4     print('Thank you for your input')\n",
    "ValueError: invalid literal for int() with base 10: 'a'\n",
    "```\n",
    "\n",
    "Important for resource management (e.g. closing a file)\n",
    "\n",
    "### Easier to ask for forgiveness than for permission"
   ]
  },
  {
   "cell_type": "code",
   "execution_count": null,
   "id": "cb9cc165",
   "metadata": {},
   "outputs": [],
   "source": [
    "def print_sorted(collection):\n",
    "    try:\n",
    "        collection.sort()\n",
    "    except AttributeError:\n",
    "        pass # The pass statement does nothing\n",
    "    print(collection)"
   ]
  },
  {
   "cell_type": "code",
   "execution_count": null,
   "id": "7e6944dc",
   "metadata": {},
   "outputs": [],
   "source": [
    "print_sorted([1, 3, 2])"
   ]
  },
  {
   "cell_type": "code",
   "execution_count": null,
   "id": "c48ae6e1",
   "metadata": {},
   "outputs": [],
   "source": [
    "print_sorted(set((1, 3, 2)))"
   ]
  },
  {
   "cell_type": "code",
   "execution_count": null,
   "id": "474ae338",
   "metadata": {},
   "outputs": [],
   "source": [
    "print_sorted('132')"
   ]
  },
  {
   "cell_type": "markdown",
   "id": "2ad85921",
   "metadata": {},
   "source": [
    "## Raising exceptions\n",
    "\n",
    "### Capturing and re-raising an exception:"
   ]
  },
  {
   "cell_type": "code",
   "execution_count": null,
   "id": "2d6b1449",
   "metadata": {},
   "outputs": [],
   "source": [
    "def filter_name(name):\n",
    "    try:\n",
    "        name = name.encode('ascii')\n",
    "    except UnicodeError as e:\n",
    "        if name == 'Gaël':\n",
    "            print('OK, Gaël')\n",
    "        else:\n",
    "            raise e\n",
    "    return name\n",
    "\n",
    "filter_name('Gaël')"
   ]
  },
  {
   "cell_type": "code",
   "execution_count": null,
   "id": "37f33003",
   "metadata": {
    "tags": [
     "raises-exception"
    ]
   },
   "outputs": [],
   "source": [
    "filter_name('Stéfan')"
   ]
  },
  {
   "cell_type": "markdown",
   "id": "bb5c35bb",
   "metadata": {},
   "source": [
    "### Exceptions to pass messages between parts of the code:"
   ]
  },
  {
   "cell_type": "code",
   "execution_count": null,
   "id": "1a23f468",
   "metadata": {},
   "outputs": [],
   "source": [
    "def achilles_arrow(x):\n",
    "    if abs(x - 1) < 1e-3:\n",
    "        raise StopIteration\n",
    "    x = 1 - (1-x)/2.\n",
    "    return x\n",
    "\n",
    "x = 0\n",
    "\n",
    "while True:\n",
    "    try:\n",
    "        x = achilles_arrow(x)\n",
    "    except StopIteration:\n",
    "        break\n",
    "\n",
    "x"
   ]
  },
  {
   "cell_type": "markdown",
   "id": "e53fc812",
   "metadata": {},
   "source": [
    "Use exceptions to notify certain conditions are met (e.g. `StopIteration`) or\n",
    "not (e.g. custom error raising)."
   ]
  }
 ],
 "metadata": {
  "kernelspec": {
   "display_name": "Python (Pyodide)",
   "name": "python"
  }
 },
 "nbformat": 4,
 "nbformat_minor": 5
}
