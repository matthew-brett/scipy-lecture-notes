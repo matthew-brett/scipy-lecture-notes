{
 "cells": [
  {
   "cell_type": "markdown",
   "id": "be802d9d",
   "metadata": {},
   "source": [
    "# First steps\n",
    "\n",
    "Start the **Ipython** shell (an enhanced interactive Python shell):\n",
    "\n",
    "- by typing \"ipython\" from a Linux/Mac terminal, or from the Windows cmd shell,\n",
    "- **or** by starting the program from a menu, e.g. the [Anaconda Navigator],\n",
    "  the [Python(x,y)] menu if you have installed one of these\n",
    "  scientific-Python suites.\n",
    "\n",
    "**Start of note**\n",
    ":class: dropdown\n",
    "\n",
    "If you don't have Ipython installed on your computer, other Python\n",
    "shells are available, such as the plain Python shell started by\n",
    "typing \"python\" in a terminal, or the Idle interpreter. However, we\n",
    "advise to use the Ipython shell because of its enhanced features,\n",
    "especially for interactive scientific computing.\n",
    "**End of note**\n",
    "\n",
    "Once you have started the interpreter, type"
   ]
  },
  {
   "cell_type": "code",
   "execution_count": null,
   "id": "45c49928",
   "metadata": {},
   "outputs": [],
   "source": [
    "print(\"Hello, world!\")"
   ]
  },
  {
   "cell_type": "markdown",
   "id": "8c432238",
   "metadata": {},
   "source": [
    "**Start of note**\n",
    ":class: dropdown\n",
    "\n",
    "The message \"Hello, world!\" is then displayed. You just executed your\n",
    "first Python instruction, congratulations!\n",
    "**End of note**\n",
    "\n",
    "To get yourself started, type the following stack of instructions"
   ]
  },
  {
   "cell_type": "code",
   "execution_count": null,
   "id": "91538f39",
   "metadata": {},
   "outputs": [],
   "source": [
    "a = 3\n",
    "b = 2*a\n",
    "type(b)"
   ]
  },
  {
   "cell_type": "code",
   "execution_count": null,
   "id": "9dcf51d8",
   "metadata": {},
   "outputs": [],
   "source": [
    "print(b)"
   ]
  },
  {
   "cell_type": "code",
   "execution_count": null,
   "id": "3ac062a5",
   "metadata": {},
   "outputs": [],
   "source": [
    "a*b"
   ]
  },
  {
   "cell_type": "code",
   "execution_count": null,
   "id": "8dc12907",
   "metadata": {},
   "outputs": [],
   "source": [
    "b = 'hello'\n",
    "type(b)"
   ]
  },
  {
   "cell_type": "code",
   "execution_count": null,
   "id": "01979aae",
   "metadata": {},
   "outputs": [],
   "source": [
    "b + b"
   ]
  },
  {
   "cell_type": "code",
   "execution_count": null,
   "id": "71eaafdf",
   "metadata": {},
   "outputs": [],
   "source": [
    "2*b"
   ]
  },
  {
   "cell_type": "markdown",
   "id": "9f395198",
   "metadata": {},
   "source": [
    "**Start of note**\n",
    ":class: dropdown\n",
    "\n",
    "Two variables `a` and `b` have been defined above. Note that one does\n",
    "not declare the type of a variable before assigning its value. In C,\n",
    "conversely, one should write:\n",
    "\n",
    "```c\n",
    "int a = 3;\n",
    "```\n",
    "\n",
    "In addition, the type of a variable may change, in the sense that at\n",
    "one point in time it can be equal to a value of a certain type, and a\n",
    "second point in time, it can be equal to a value of a different\n",
    "type. `b` was first equal to an integer, but it became equal to a\n",
    "string when it was assigned the value `'hello'`. Operations on\n",
    "integers (`b=2*a`) are coded natively in Python, and so are some\n",
    "operations on strings such as additions and multiplications, which\n",
    "amount respectively to concatenation and repetition.\n",
    "**End of note**\n",
    "\n",
    "[anaconda navigator]: https://anaconda.org/anaconda/anaconda-navigator\n",
    "[python(x,y)]: https://python-xy.github.io/"
   ]
  }
 ],
 "metadata": {
  "jupytext": {
   "formats": "ipynb,Rmd"
  },
  "kernelspec": {
   "display_name": "Python (Pyodide)",
   "name": "python"
  }
 },
 "nbformat": 4,
 "nbformat_minor": 5
}
