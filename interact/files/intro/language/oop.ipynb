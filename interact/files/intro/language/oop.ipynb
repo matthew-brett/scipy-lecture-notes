{
 "cells": [
  {
   "cell_type": "markdown",
   "id": "ba89b234",
   "metadata": {},
   "source": [
    "# Object-oriented programming (OOP)\n",
    "\n",
    "Python supports object-oriented programming (OOP). The goals of OOP are:\n",
    "\n",
    "- to organize the code, and\n",
    "- to reuse code in similar contexts.\n",
    "\n",
    "Here is a small example: we create a Student *class*, which is an object\n",
    "gathering several custom functions (*methods*) and variables (*attributes*),\n",
    "we will be able to use:"
   ]
  },
  {
   "cell_type": "code",
   "execution_count": null,
   "id": "50f15dda",
   "metadata": {},
   "outputs": [],
   "source": [
    "class Student(object):\n",
    "    def __init__(self, name):\n",
    "        self.name = name\n",
    "    def set_age(self, age):\n",
    "        self.age = age\n",
    "    def set_major(self, major):\n",
    "        self.major = major"
   ]
  },
  {
   "cell_type": "code",
   "execution_count": null,
   "id": "9612e00b",
   "metadata": {},
   "outputs": [],
   "source": [
    "anna = Student('anna')\n",
    "anna.set_age(21)\n",
    "anna.set_major('physics')"
   ]
  },
  {
   "cell_type": "markdown",
   "id": "6f846cec",
   "metadata": {},
   "source": [
    "In the previous example, the Student class has `__init__`, `set_age` and\n",
    "`set_major` methods. Its attributes are `name`, `age` and `major`. We\n",
    "can call these methods and attributes with the following notation:\n",
    "`classinstance.method` or `classinstance.attribute`. The `__init__`\n",
    "constructor is a special method we call with: `MyClass(init parameters if\n",
    "any)`.\n",
    "\n",
    "Now, suppose we want to create a new class MasterStudent with the same\n",
    "methods and attributes as the previous one, but with an additional\n",
    "`internship` attribute. We won't copy the previous class, but\n",
    "**inherit** from it:"
   ]
  },
  {
   "cell_type": "code",
   "execution_count": null,
   "id": "1e460ca2",
   "metadata": {},
   "outputs": [],
   "source": [
    "class MasterStudent(Student):\n",
    "    internship = 'mandatory, from March to June'"
   ]
  },
  {
   "cell_type": "code",
   "execution_count": null,
   "id": "c1860b2b",
   "metadata": {},
   "outputs": [],
   "source": [
    "james = MasterStudent('james')\n",
    "james.internship"
   ]
  },
  {
   "cell_type": "code",
   "execution_count": null,
   "id": "88f0601b",
   "metadata": {},
   "outputs": [],
   "source": [
    "james.set_age(23)\n",
    "james.age"
   ]
  },
  {
   "cell_type": "markdown",
   "id": "7d537e72",
   "metadata": {},
   "source": [
    "The MasterStudent class inherited from the Student attributes and methods.\n",
    "\n",
    "Thanks to classes and object-oriented programming, we can organize code\n",
    "with different classes corresponding to different objects we encounter\n",
    "(an Experiment class, an Image class, a Flow class, etc.), with their own\n",
    "methods and attributes. Then we can use inheritance to consider\n",
    "variations around a base class and **reuse** code. Ex : from a Flow\n",
    "base class, we can create derived StokesFlow, TurbulentFlow,\n",
    "PotentialFlow, etc."
   ]
  }
 ],
 "metadata": {
  "jupytext": {
   "formats": "ipynb,Rmd"
  },
  "kernelspec": {
   "display_name": "Python (Pyodide)",
   "name": "python"
  }
 },
 "nbformat": 4,
 "nbformat_minor": 5
}
