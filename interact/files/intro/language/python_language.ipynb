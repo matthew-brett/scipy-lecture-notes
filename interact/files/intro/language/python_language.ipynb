{
 "cells": [
  {
   "cell_type": "markdown",
   "id": "5abe75fa",
   "metadata": {},
   "source": [
    "# The Python language\n",
    "\n",
    "**Authors**: _Chris Burns, Christophe Combelles, Emmanuelle Gouillart,\n",
    "Gaël Varoquaux_\n",
    "\n",
    ":::{topic} Python for scientific computing\n",
    "We introduce here the Python language. Only the bare minimum\n",
    "necessary for getting started with NumPy and SciPy is addressed here.\n",
    "To learn more about the language, consider going through the\n",
    "excellent tutorial <https://docs.python.org/3/tutorial>. Dedicated books\n",
    "are also available, such as [Dive into Python 3](https://diveintopython3.net/).\n",
    ":::\n",
    "\n",
    "![](python-logo.png)\n",
    "\n",
    ":::{tip}\n",
    "Python is a **programming language**, as are C, Fortran, BASIC, PHP,\n",
    "etc. Some specific features of Python are as follows:\n",
    "\n",
    "- an _interpreted_ (as opposed to _compiled_) language. Contrary to e.g.\n",
    "  C or Fortran, one does not compile Python code before executing it. In\n",
    "  addition, Python can be used **interactively**: many Python\n",
    "  interpreters are available, from which commands and scripts can be\n",
    "  executed.\n",
    "- a free software released under an **open-source** license: Python can\n",
    "  be used and distributed free of charge, even for building commercial\n",
    "  software.\n",
    "- **multi-platform**: Python is available for all major operating\n",
    "  systems, Windows, Linux/Unix, MacOS X, most likely your mobile phone\n",
    "  OS, etc.\n",
    "- a very readable language with clear non-verbose syntax\n",
    "- a language for which a large variety of high-quality packages are\n",
    "  available for various applications, from web frameworks to scientific\n",
    "  computing.\n",
    "- a language very easy to interface with other languages, in particular C\n",
    "  and C++.\n",
    "- Some other features of the language are illustrated just below. For\n",
    "  example, Python is an object-oriented language, with dynamic typing\n",
    "  (the same variable can contain objects of different types during the\n",
    "  course of a program).\n",
    "\n",
    "See <https://www.python.org/about/> for more information about\n",
    "distinguishing features of Python.\n",
    ":::"
   ]
  }
 ],
 "metadata": {
  "kernelspec": {
   "display_name": "Python (Pyodide)",
   "name": "python"
  }
 },
 "nbformat": 4,
 "nbformat_minor": 5
}
