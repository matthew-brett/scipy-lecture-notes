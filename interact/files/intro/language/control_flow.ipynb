{
 "cells": [
  {
   "cell_type": "markdown",
   "id": "71d24121",
   "metadata": {},
   "source": [
    "# Control Flow\n",
    "\n",
    "Controls the order in which the code is executed.\n",
    "\n",
    "## if/elif/else"
   ]
  },
  {
   "cell_type": "code",
   "execution_count": null,
   "id": "d3b4707d",
   "metadata": {},
   "outputs": [],
   "source": [
    "if 2**2 == 4:\n",
    "    print(\"Obvious!\")"
   ]
  },
  {
   "cell_type": "markdown",
   "id": "d280eb3e",
   "metadata": {},
   "source": [
    "**Blocks are delimited by indentation**\n",
    "\n",
    "::: {note}\n",
    ":class: dropdown\n",
    "\n",
    "Type the following lines in your Python interpreter, and be careful\n",
    "to **respect the indentation depth**. The Jupyter / IPython shell automatically\n",
    "increases the indentation depth after a colon `:` sign; to decrease the\n",
    "indentation depth, go four spaces to the left with the Backspace key. Press the\n",
    "Enter key twice to leave the logical block.\n",
    ":::"
   ]
  },
  {
   "cell_type": "code",
   "execution_count": null,
   "id": "71cc75e8",
   "metadata": {},
   "outputs": [],
   "source": [
    "a = 10"
   ]
  },
  {
   "cell_type": "code",
   "execution_count": null,
   "id": "e7ce0442",
   "metadata": {},
   "outputs": [],
   "source": [
    "if a == 1:\n",
    "    print(1)\n",
    "elif a == 2:\n",
    "    print(2)\n",
    "else:\n",
    "    print(\"A lot\")"
   ]
  },
  {
   "cell_type": "markdown",
   "id": "2d5948f1",
   "metadata": {},
   "source": [
    "Indentation is compulsory in scripts as well. As an exercise, re-type the\n",
    "previous lines with the same indentation in a script `condition.py`, and\n",
    "execute the script with `run condition.py` in IPython."
   ]
  },
  {
   "cell_type": "markdown",
   "id": "d82f0486",
   "metadata": {},
   "source": [
    "## for/range\n",
    "\n",
    "Iterating with an index:"
   ]
  },
  {
   "cell_type": "code",
   "execution_count": null,
   "id": "7893d085",
   "metadata": {},
   "outputs": [],
   "source": [
    "for i in range(4):\n",
    "    print(i)"
   ]
  },
  {
   "cell_type": "markdown",
   "id": "f5ada3a5",
   "metadata": {},
   "source": [
    "But most often, it is more readable to iterate over values:"
   ]
  },
  {
   "cell_type": "code",
   "execution_count": null,
   "id": "4576c6cb",
   "metadata": {},
   "outputs": [],
   "source": [
    "for word in ('cool', 'powerful', 'readable'):\n",
    "    print('Python is %s' % word)"
   ]
  },
  {
   "cell_type": "markdown",
   "id": "9c0b872e",
   "metadata": {},
   "source": [
    "## while/break/continue\n",
    "\n",
    "Typical C-style while loop (Mandelbrot problem):"
   ]
  },
  {
   "cell_type": "code",
   "execution_count": null,
   "id": "971f1366",
   "metadata": {},
   "outputs": [],
   "source": [
    "z = 1 + 1j\n",
    "while abs(z) < 100:\n",
    "    z = z**2 + 1\n",
    "z"
   ]
  },
  {
   "cell_type": "markdown",
   "id": "a46def23",
   "metadata": {},
   "source": [
    "**More advanced features**\n",
    "\n",
    "`break` out of enclosing for/while loop:"
   ]
  },
  {
   "cell_type": "code",
   "execution_count": null,
   "id": "0077a0ad",
   "metadata": {},
   "outputs": [],
   "source": [
    "z = 1 + 1j"
   ]
  },
  {
   "cell_type": "code",
   "execution_count": null,
   "id": "7fd75563",
   "metadata": {},
   "outputs": [],
   "source": [
    "while abs(z) < 100:\n",
    "    if z.imag == 0:\n",
    "        break\n",
    "    z = z**2 + 1"
   ]
  },
  {
   "cell_type": "markdown",
   "id": "921df03d",
   "metadata": {},
   "source": [
    "`continue` the next iteration of a loop.:"
   ]
  },
  {
   "cell_type": "code",
   "execution_count": null,
   "id": "1940bb7e",
   "metadata": {},
   "outputs": [],
   "source": [
    "a = [1, 0, 2, 4]\n",
    "for element in a:\n",
    "    if element == 0:\n",
    "        continue\n",
    "    print(1. / element)"
   ]
  },
  {
   "cell_type": "markdown",
   "id": "772d7c3f",
   "metadata": {},
   "source": [
    "## Conditional Expressions"
   ]
  },
  {
   "cell_type": "markdown",
   "id": "240758f0",
   "metadata": {},
   "source": [
    "### `if <OBJECT>:`\n",
    "\n",
    "Evaluates to `False` for:\n",
    "\n",
    "- any number equal to zero (0, 0.0, 0+0j)\n",
    "- an empty container (list, tuple, set, dictionary, …)\n",
    "- `False`, `None`\n",
    "\n",
    "Evaluates to `True` for:\n",
    "\n",
    "- everything else\n",
    "\n",
    "Examples:"
   ]
  },
  {
   "cell_type": "code",
   "execution_count": null,
   "id": "4246f6b7",
   "metadata": {},
   "outputs": [],
   "source": [
    "a = 10\n",
    "if a:\n",
    "    print(\"Evaluated to `True`\")\n",
    "else:\n",
    "    print('Evaluated to `False')"
   ]
  },
  {
   "cell_type": "code",
   "execution_count": null,
   "id": "1a012d15",
   "metadata": {},
   "outputs": [],
   "source": [
    "a = []\n",
    "if a:\n",
    "    print(\"Evaluated to `True`\")\n",
    "else:\n",
    "    print('Evaluated to `False')"
   ]
  },
  {
   "cell_type": "markdown",
   "id": "63ce3b07",
   "metadata": {},
   "source": [
    "### `a == b:`\n",
    "\n",
    "Tests equality, with logics::"
   ]
  },
  {
   "cell_type": "code",
   "execution_count": null,
   "id": "e32104c5",
   "metadata": {},
   "outputs": [],
   "source": [
    "1 == 1."
   ]
  },
  {
   "cell_type": "markdown",
   "id": "11725759",
   "metadata": {},
   "source": [
    "### `a is b`\n",
    "\n",
    "Tests identity: both sides **are the same object**:"
   ]
  },
  {
   "cell_type": "code",
   "execution_count": null,
   "id": "0ddd3fbf",
   "metadata": {},
   "outputs": [],
   "source": [
    "a = 1\n",
    "b = 1.\n",
    "a == b"
   ]
  },
  {
   "cell_type": "code",
   "execution_count": null,
   "id": "a3cd7f2b",
   "metadata": {},
   "outputs": [],
   "source": [
    "a is b"
   ]
  },
  {
   "cell_type": "code",
   "execution_count": null,
   "id": "2b367203",
   "metadata": {},
   "outputs": [],
   "source": [
    "a = 'A string'\n",
    "b = a\n",
    "a is b"
   ]
  },
  {
   "cell_type": "markdown",
   "id": "d4c989a2",
   "metadata": {},
   "source": [
    "### `a in b`\n",
    "\n",
    "For any collection `b`: `b` contains `a` :"
   ]
  },
  {
   "cell_type": "code",
   "execution_count": null,
   "id": "05426bcf",
   "metadata": {},
   "outputs": [],
   "source": [
    "b = [1, 2, 3]\n",
    "2 in b"
   ]
  },
  {
   "cell_type": "code",
   "execution_count": null,
   "id": "352f46ef",
   "metadata": {},
   "outputs": [],
   "source": [
    "5 in b"
   ]
  },
  {
   "cell_type": "markdown",
   "id": "ea4aed9b",
   "metadata": {},
   "source": [
    "If `b` is a dictionary, this tests that `a` is a key of `b`."
   ]
  },
  {
   "cell_type": "code",
   "execution_count": null,
   "id": "44593954",
   "metadata": {},
   "outputs": [],
   "source": [
    "b = {'first': 0, 'second': 1}\n",
    "# Tests for key.\n",
    "'first' in b"
   ]
  },
  {
   "cell_type": "code",
   "execution_count": null,
   "id": "fa2e2622",
   "metadata": {},
   "outputs": [],
   "source": [
    "# Does not test for value.\n",
    "0 in b"
   ]
  },
  {
   "cell_type": "markdown",
   "id": "02a32f3d",
   "metadata": {},
   "source": [
    "## Advanced iteration\n",
    "\n",
    "**Iterate over any sequence**:\n",
    "\n",
    "You can iterate over any sequence (string, list, keys in a dictionary, lines in\n",
    "a file, ...):"
   ]
  },
  {
   "cell_type": "code",
   "execution_count": null,
   "id": "32efa60a",
   "metadata": {},
   "outputs": [],
   "source": [
    "vowels = 'aeiouy'"
   ]
  },
  {
   "cell_type": "code",
   "execution_count": null,
   "id": "0cab5a87",
   "metadata": {},
   "outputs": [],
   "source": [
    "for i in 'powerful':\n",
    "    if i in vowels:\n",
    "        print(i)"
   ]
  },
  {
   "cell_type": "code",
   "execution_count": null,
   "id": "ad8a3609",
   "metadata": {},
   "outputs": [],
   "source": [
    "message = \"Hello how are you?\"\n",
    "message.split() # returns a list"
   ]
  },
  {
   "cell_type": "code",
   "execution_count": null,
   "id": "58006cb8",
   "metadata": {},
   "outputs": [],
   "source": [
    "for word in message.split():\n",
    "    print(word)"
   ]
  },
  {
   "cell_type": "markdown",
   "id": "dfc6abd4",
   "metadata": {},
   "source": [
    "::: {note}\n",
    ":class: dropdown\n",
    "\n",
    "Few languages (in particular, languages for scientific computing) allow to\n",
    "loop over anything but integers/indices. With Python it is possible to\n",
    "loop exactly over the objects of interest without bothering with indices\n",
    "you often don't care about. This feature can often be used to make\n",
    "code more readable.\n",
    ":::\n",
    "\n",
    ":::{warning}\n",
    "It is not safe to modify the sequence you are iterating over.\n",
    ":::\n",
    "\n",
    "### Keeping track of enumeration number\n",
    "\n",
    "Common task is to iterate over a sequence while keeping track of the\n",
    "item number.\n",
    "\n",
    "We could use while loop with a counter as above. Or a for loop:"
   ]
  },
  {
   "cell_type": "code",
   "execution_count": null,
   "id": "5c125a68",
   "metadata": {},
   "outputs": [],
   "source": [
    "words = ('cool', 'powerful', 'readable')\n",
    "for i in range(0, len(words)):\n",
    "    print((i, words[i]))"
   ]
  },
  {
   "cell_type": "markdown",
   "id": "e538a6ac",
   "metadata": {},
   "source": [
    "But, Python provides a built-in function - `enumerate` - for this:"
   ]
  },
  {
   "cell_type": "code",
   "execution_count": null,
   "id": "dca6c76f",
   "metadata": {},
   "outputs": [],
   "source": [
    "for index, item in enumerate(words):\n",
    "    print((index, item))"
   ]
  },
  {
   "cell_type": "markdown",
   "id": "b3fb44cb",
   "metadata": {},
   "source": [
    "### Looping over a dictionary\n",
    "\n",
    "Use **items**:"
   ]
  },
  {
   "cell_type": "code",
   "execution_count": null,
   "id": "3141b4e6",
   "metadata": {},
   "outputs": [],
   "source": [
    "d = {'a': 1, 'b':1.2, 'c':1j}"
   ]
  },
  {
   "cell_type": "code",
   "execution_count": null,
   "id": "1b19ac55",
   "metadata": {},
   "outputs": [],
   "source": [
    "for key, val in d.items():\n",
    "    print('Key: %s has value: %s' % (key, val))"
   ]
  },
  {
   "cell_type": "markdown",
   "id": "dd8aeff9",
   "metadata": {},
   "source": [
    "## List Comprehensions\n",
    "\n",
    "Instead of creating a list by means of a loop, one can make use\n",
    "of a list comprehension with a rather self-explaining syntax."
   ]
  },
  {
   "cell_type": "code",
   "execution_count": null,
   "id": "96cacd0c",
   "metadata": {},
   "outputs": [],
   "source": [
    "[i**2 for i in range(4)]"
   ]
  },
  {
   "cell_type": "markdown",
   "id": "b3471dc9",
   "metadata": {},
   "source": [
    "**Start of exercise**\n",
    "\n",
    "Compute the decimals of Pi using the Wallis formula:\n",
    "\n",
    "$$\n",
    "\\pi = 2 \\prod_{i=1}^{\\infty} \\frac{4i^2}{4i^2 - 1}\n",
    "$$\n",
    "\n",
    "**End of exercise**\n",
    "\n",
    "\n",
    "**See the [corresponding page](/scipy-lecture-notes/intro/language/control_flow.html) for solution**"
   ]
  }
 ],
 "metadata": {
  "kernelspec": {
   "display_name": "Python (Pyodide)",
   "name": "python"
  }
 },
 "nbformat": 4,
 "nbformat_minor": 5
}
