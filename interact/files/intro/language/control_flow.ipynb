{
 "cells": [
  {
   "cell_type": "markdown",
   "id": "256ea643",
   "metadata": {},
   "source": [
    "# Control Flow\n",
    "\n",
    "Controls the order in which the code is executed.\n",
    "\n",
    "## if/elif/else"
   ]
  },
  {
   "cell_type": "code",
   "execution_count": null,
   "id": "fec99022",
   "metadata": {},
   "outputs": [],
   "source": [
    "if 2**2 == 4:\n",
    "    print(\"Obvious!\")"
   ]
  },
  {
   "cell_type": "markdown",
   "id": "6edbebb1",
   "metadata": {},
   "source": [
    "**Blocks are delimited by indentation**\n",
    "\n",
    "**Start of note**\n",
    ":class: dropdown\n",
    "\n",
    "Type the following lines in your Python interpreter, and be careful\n",
    "to **respect the indentation depth**. The Jupyter / IPython shell automatically\n",
    "increases the indentation depth after a colon `:` sign; to decrease the\n",
    "indentation depth, go four spaces to the left with the Backspace key. Press the\n",
    "Enter key twice to leave the logical block.\n",
    "**End of note**"
   ]
  },
  {
   "cell_type": "code",
   "execution_count": null,
   "id": "0d60fc92",
   "metadata": {},
   "outputs": [],
   "source": [
    "a = 10"
   ]
  },
  {
   "cell_type": "code",
   "execution_count": null,
   "id": "059af095",
   "metadata": {},
   "outputs": [],
   "source": [
    "if a == 1:\n",
    "    print(1)\n",
    "elif a == 2:\n",
    "    print(2)\n",
    "else:\n",
    "    print(\"A lot\")"
   ]
  },
  {
   "cell_type": "markdown",
   "id": "aea1a8ae",
   "metadata": {},
   "source": [
    "Indentation is compulsory in scripts as well. As an exercise, re-type the\n",
    "previous lines with the same indentation in a script `condition.py`, and\n",
    "execute the script with `run condition.py` in IPython."
   ]
  },
  {
   "cell_type": "markdown",
   "id": "00c4192d",
   "metadata": {},
   "source": [
    "## for/range\n",
    "\n",
    "Iterating with an index:"
   ]
  },
  {
   "cell_type": "code",
   "execution_count": null,
   "id": "956b701d",
   "metadata": {},
   "outputs": [],
   "source": [
    "for i in range(4):\n",
    "    print(i)"
   ]
  },
  {
   "cell_type": "markdown",
   "id": "4fdaaf1e",
   "metadata": {},
   "source": [
    "But most often, it is more readable to iterate over values:"
   ]
  },
  {
   "cell_type": "code",
   "execution_count": null,
   "id": "2cc90798",
   "metadata": {
    "lines_to_next_cell": 2
   },
   "outputs": [],
   "source": [
    "for word in ('cool', 'powerful', 'readable'):\n",
    "    print('Python is %s' % word)"
   ]
  },
  {
   "cell_type": "markdown",
   "id": "cb0a92e4",
   "metadata": {},
   "source": [
    "## while/break/continue\n",
    "\n",
    "Typical C-style while loop (Mandelbrot problem):"
   ]
  },
  {
   "cell_type": "code",
   "execution_count": null,
   "id": "8a5bb64d",
   "metadata": {},
   "outputs": [],
   "source": [
    "z = 1 + 1j\n",
    "while abs(z) < 100:\n",
    "    z = z**2 + 1\n",
    "z"
   ]
  },
  {
   "cell_type": "markdown",
   "id": "9e1525f7",
   "metadata": {},
   "source": [
    "**More advanced features**\n",
    "\n",
    "`break` out of enclosing for/while loop:"
   ]
  },
  {
   "cell_type": "code",
   "execution_count": null,
   "id": "84e55fbd",
   "metadata": {},
   "outputs": [],
   "source": [
    "z = 1 + 1j"
   ]
  },
  {
   "cell_type": "code",
   "execution_count": null,
   "id": "02f92b65",
   "metadata": {},
   "outputs": [],
   "source": [
    "while abs(z) < 100:\n",
    "    if z.imag == 0:\n",
    "        break\n",
    "    z = z**2 + 1"
   ]
  },
  {
   "cell_type": "markdown",
   "id": "b7cf1bae",
   "metadata": {},
   "source": [
    "`continue` the next iteration of a loop.:"
   ]
  },
  {
   "cell_type": "code",
   "execution_count": null,
   "id": "8705c446",
   "metadata": {},
   "outputs": [],
   "source": [
    "a = [1, 0, 2, 4]\n",
    "for element in a:\n",
    "    if element == 0:\n",
    "        continue\n",
    "    print(1. / element)"
   ]
  },
  {
   "cell_type": "markdown",
   "id": "9b7c5334",
   "metadata": {},
   "source": [
    "## Conditional Expressions"
   ]
  },
  {
   "cell_type": "markdown",
   "id": "64ecf9c4",
   "metadata": {},
   "source": [
    "### `if <OBJECT>:`\n",
    "\n",
    "Evaluates to `False` for:\n",
    "\n",
    "* any number equal to zero (0, 0.0, 0+0j)\n",
    "* an empty container (list, tuple, set, dictionary, …)\n",
    "* `False`, `None`\n",
    "\n",
    "Evaluates to `True` for:\n",
    "\n",
    "* everything else\n",
    "\n",
    "Examples:"
   ]
  },
  {
   "cell_type": "code",
   "execution_count": null,
   "id": "8adcd1dd",
   "metadata": {},
   "outputs": [],
   "source": [
    "a = 10\n",
    "if a:\n",
    "    print(\"Evaluated to `True`\")\n",
    "else:\n",
    "    print('Evaluated to `False')"
   ]
  },
  {
   "cell_type": "code",
   "execution_count": null,
   "id": "77c2f511",
   "metadata": {
    "lines_to_next_cell": 2
   },
   "outputs": [],
   "source": [
    "a = []\n",
    "if a:\n",
    "    print(\"Evaluated to `True`\")\n",
    "else:\n",
    "    print('Evaluated to `False')"
   ]
  },
  {
   "cell_type": "markdown",
   "id": "792d6556",
   "metadata": {},
   "source": [
    "### `a == b:`\n",
    "\n",
    "Tests equality, with logics::"
   ]
  },
  {
   "cell_type": "code",
   "execution_count": null,
   "id": "003853ee",
   "metadata": {},
   "outputs": [],
   "source": [
    "1 == 1."
   ]
  },
  {
   "cell_type": "markdown",
   "id": "bafaf207",
   "metadata": {},
   "source": [
    "### `a is b`\n",
    "\n",
    "Tests identity: both sides **are the same object**:"
   ]
  },
  {
   "cell_type": "code",
   "execution_count": null,
   "id": "d4eb74b4",
   "metadata": {},
   "outputs": [],
   "source": [
    "a = 1\n",
    "b = 1.\n",
    "a == b"
   ]
  },
  {
   "cell_type": "code",
   "execution_count": null,
   "id": "6c68a1be",
   "metadata": {},
   "outputs": [],
   "source": [
    "a is b"
   ]
  },
  {
   "cell_type": "code",
   "execution_count": null,
   "id": "1bcf8ae9",
   "metadata": {},
   "outputs": [],
   "source": [
    "a = 'A string'\n",
    "b = a\n",
    "a is b"
   ]
  },
  {
   "cell_type": "markdown",
   "id": "d4b3a2a2",
   "metadata": {},
   "source": [
    "### `a in b`\n",
    "\n",
    "For any collection ``b``: ``b`` contains ``a`` :"
   ]
  },
  {
   "cell_type": "code",
   "execution_count": null,
   "id": "9015cbc3",
   "metadata": {},
   "outputs": [],
   "source": [
    "b = [1, 2, 3]\n",
    "2 in b"
   ]
  },
  {
   "cell_type": "code",
   "execution_count": null,
   "id": "5c79e6ac",
   "metadata": {},
   "outputs": [],
   "source": [
    "5 in b"
   ]
  },
  {
   "cell_type": "markdown",
   "id": "3b546a4a",
   "metadata": {},
   "source": [
    "If ``b`` is a dictionary, this tests that ``a`` is a key of ``b``."
   ]
  },
  {
   "cell_type": "code",
   "execution_count": null,
   "id": "65722a85",
   "metadata": {},
   "outputs": [],
   "source": [
    "b = {'first': 0, 'second': 1}\n",
    "# Tests for key.\n",
    "'first' in b"
   ]
  },
  {
   "cell_type": "code",
   "execution_count": null,
   "id": "3155476b",
   "metadata": {
    "lines_to_next_cell": 2
   },
   "outputs": [],
   "source": [
    "# Does not test for value.\n",
    "0 in b"
   ]
  },
  {
   "cell_type": "markdown",
   "id": "a1066855",
   "metadata": {},
   "source": [
    "## Advanced iteration\n",
    "\n",
    "**Iterate over any sequence**:\n",
    "\n",
    "You can iterate over any sequence (string, list, keys in a dictionary, lines in\n",
    "a file, ...):"
   ]
  },
  {
   "cell_type": "code",
   "execution_count": null,
   "id": "fc13b13b",
   "metadata": {},
   "outputs": [],
   "source": [
    "vowels = 'aeiouy'"
   ]
  },
  {
   "cell_type": "code",
   "execution_count": null,
   "id": "4a4917dd",
   "metadata": {},
   "outputs": [],
   "source": [
    "for i in 'powerful':\n",
    "    if i in vowels:\n",
    "        print(i)"
   ]
  },
  {
   "cell_type": "code",
   "execution_count": null,
   "id": "58c2824c",
   "metadata": {},
   "outputs": [],
   "source": [
    "message = \"Hello how are you?\"\n",
    "message.split() # returns a list"
   ]
  },
  {
   "cell_type": "code",
   "execution_count": null,
   "id": "418cb126",
   "metadata": {},
   "outputs": [],
   "source": [
    "for word in message.split():\n",
    "    print(word)"
   ]
  },
  {
   "cell_type": "markdown",
   "id": "bc8c3e59",
   "metadata": {},
   "source": [
    "**Start of note**\n",
    ":class: dropdown\n",
    "\n",
    "Few languages (in particular, languages for scientific computing) allow to\n",
    "loop over anything but integers/indices. With Python it is possible to\n",
    "loop exactly over the objects of interest without bothering with indices\n",
    "you often don't care about. This feature can often be used to make\n",
    "code more readable.\n",
    "**End of note**\n",
    "\n",
    "**Start of warning**\n",
    "It is not safe to modify the sequence you are iterating over.\n",
    "**End of warning**\n",
    "\n",
    "### Keeping track of enumeration number\n",
    "\n",
    "Common task is to iterate over a sequence while keeping track of the\n",
    "item number.\n",
    "\n",
    "We could use while loop with a counter as above. Or a for loop:"
   ]
  },
  {
   "cell_type": "code",
   "execution_count": null,
   "id": "bf128fb2",
   "metadata": {},
   "outputs": [],
   "source": [
    "words = ('cool', 'powerful', 'readable')\n",
    "for i in range(0, len(words)):\n",
    "    print((i, words[i]))"
   ]
  },
  {
   "cell_type": "markdown",
   "id": "a1f6af58",
   "metadata": {},
   "source": [
    "But, Python provides a built-in function - `enumerate` - for this:"
   ]
  },
  {
   "cell_type": "code",
   "execution_count": null,
   "id": "e5554102",
   "metadata": {
    "lines_to_next_cell": 2
   },
   "outputs": [],
   "source": [
    "for index, item in enumerate(words):\n",
    "    print((index, item))"
   ]
  },
  {
   "cell_type": "markdown",
   "id": "1d66183e",
   "metadata": {},
   "source": [
    "### Looping over a dictionary\n",
    "\n",
    "Use **items**:"
   ]
  },
  {
   "cell_type": "code",
   "execution_count": null,
   "id": "d4585332",
   "metadata": {},
   "outputs": [],
   "source": [
    "d = {'a': 1, 'b':1.2, 'c':1j}"
   ]
  },
  {
   "cell_type": "code",
   "execution_count": null,
   "id": "e91edd6f",
   "metadata": {
    "lines_to_next_cell": 2
   },
   "outputs": [],
   "source": [
    "for key, val in d.items():\n",
    "    print('Key: %s has value: %s' % (key, val))"
   ]
  },
  {
   "cell_type": "markdown",
   "id": "5e130ead",
   "metadata": {},
   "source": [
    "## List Comprehensions\n",
    "\n",
    "Instead of creating a list by means of a loop, one can make use\n",
    "of a list comprehension with a rather self-explaining syntax."
   ]
  },
  {
   "cell_type": "code",
   "execution_count": null,
   "id": "7bc43923",
   "metadata": {},
   "outputs": [],
   "source": [
    "[i**2 for i in range(4)]"
   ]
  },
  {
   "cell_type": "markdown",
   "id": "96f82581",
   "metadata": {},
   "source": [
    "**Start of exercise**\n",
    "\n",
    "Compute the decimals of Pi using the Wallis formula:\n",
    "\n",
    "$$\n",
    "\\pi = 2 \\prod_{i=1}^{\\infty} \\frac{4i^2}{4i^2 - 1}\n",
    "$$\n",
    "\n",
    "**End of exercise**"
   ]
  },
  {
   "cell_type": "markdown",
   "id": "29e59a99",
   "metadata": {},
   "source": [
    "**See the [corresponding page](/scipy-lecture-notes/intro/language/control_flow.html) for solution**"
   ]
  }
 ],
 "metadata": {
  "jupytext": {
   "formats": "ipynb,Rmd"
  },
  "kernelspec": {
   "display_name": "Python (Pyodide)",
   "name": "python"
  }
 },
 "nbformat": 4,
 "nbformat_minor": 5
}
