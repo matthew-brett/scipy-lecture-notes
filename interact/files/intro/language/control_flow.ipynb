{
 "cells": [
  {
   "cell_type": "markdown",
   "id": "3899d2c2",
   "metadata": {},
   "source": [
    "# Control Flow\n",
    "\n",
    "Controls the order in which the code is executed.\n",
    "\n",
    "## if/elif/else"
   ]
  },
  {
   "cell_type": "code",
   "execution_count": null,
   "id": "850deb92",
   "metadata": {},
   "outputs": [],
   "source": [
    "if 2**2 == 4:\n",
    "    print(\"Obvious!\")"
   ]
  },
  {
   "cell_type": "markdown",
   "id": "453ef818",
   "metadata": {},
   "source": [
    "**Blocks are delimited by indentation**\n",
    "\n",
    "**Start of note**\n",
    ":class: dropdown\n",
    "\n",
    "Type the following lines in your Python interpreter, and be careful\n",
    "to **respect the indentation depth**. The Jupyter / IPython shell automatically\n",
    "increases the indentation depth after a colon `:` sign; to decrease the\n",
    "indentation depth, go four spaces to the left with the Backspace key. Press the\n",
    "Enter key twice to leave the logical block.\n",
    "**End of note**"
   ]
  },
  {
   "cell_type": "code",
   "execution_count": null,
   "id": "84849346",
   "metadata": {},
   "outputs": [],
   "source": [
    "a = 10"
   ]
  },
  {
   "cell_type": "code",
   "execution_count": null,
   "id": "17e0dac6",
   "metadata": {},
   "outputs": [],
   "source": [
    "if a == 1:\n",
    "    print(1)\n",
    "elif a == 2:\n",
    "    print(2)\n",
    "else:\n",
    "    print(\"A lot\")"
   ]
  },
  {
   "cell_type": "markdown",
   "id": "03381dce",
   "metadata": {},
   "source": [
    "Indentation is compulsory in scripts as well. As an exercise, re-type the\n",
    "previous lines with the same indentation in a script `condition.py`, and\n",
    "execute the script with `run condition.py` in IPython."
   ]
  },
  {
   "cell_type": "markdown",
   "id": "3dd10061",
   "metadata": {},
   "source": [
    "## for/range\n",
    "\n",
    "Iterating with an index:"
   ]
  },
  {
   "cell_type": "code",
   "execution_count": null,
   "id": "5710fc30",
   "metadata": {},
   "outputs": [],
   "source": [
    "for i in range(4):\n",
    "    print(i)"
   ]
  },
  {
   "cell_type": "markdown",
   "id": "94b48184",
   "metadata": {},
   "source": [
    "But most often, it is more readable to iterate over values:"
   ]
  },
  {
   "cell_type": "code",
   "execution_count": null,
   "id": "1026a2e3",
   "metadata": {
    "lines_to_next_cell": 2
   },
   "outputs": [],
   "source": [
    "for word in ('cool', 'powerful', 'readable'):\n",
    "    print('Python is %s' % word)"
   ]
  },
  {
   "cell_type": "markdown",
   "id": "debd4e69",
   "metadata": {},
   "source": [
    "## while/break/continue\n",
    "\n",
    "Typical C-style while loop (Mandelbrot problem):"
   ]
  },
  {
   "cell_type": "code",
   "execution_count": null,
   "id": "4bcc9347",
   "metadata": {},
   "outputs": [],
   "source": [
    "z = 1 + 1j\n",
    "while abs(z) < 100:\n",
    "    z = z**2 + 1\n",
    "z"
   ]
  },
  {
   "cell_type": "markdown",
   "id": "4477da36",
   "metadata": {},
   "source": [
    "**More advanced features**\n",
    "\n",
    "`break` out of enclosing for/while loop:"
   ]
  },
  {
   "cell_type": "code",
   "execution_count": null,
   "id": "da7991fe",
   "metadata": {},
   "outputs": [],
   "source": [
    "z = 1 + 1j"
   ]
  },
  {
   "cell_type": "code",
   "execution_count": null,
   "id": "da8b73b9",
   "metadata": {},
   "outputs": [],
   "source": [
    "while abs(z) < 100:\n",
    "    if z.imag == 0:\n",
    "        break\n",
    "    z = z**2 + 1"
   ]
  },
  {
   "cell_type": "markdown",
   "id": "4c8f2aee",
   "metadata": {},
   "source": [
    "`continue` the next iteration of a loop.:"
   ]
  },
  {
   "cell_type": "code",
   "execution_count": null,
   "id": "8e13ee95",
   "metadata": {},
   "outputs": [],
   "source": [
    "a = [1, 0, 2, 4]\n",
    "for element in a:\n",
    "    if element == 0:\n",
    "        continue\n",
    "    print(1. / element)"
   ]
  },
  {
   "cell_type": "markdown",
   "id": "87e89650",
   "metadata": {},
   "source": [
    "## Conditional Expressions"
   ]
  },
  {
   "cell_type": "markdown",
   "id": "4efac027",
   "metadata": {},
   "source": [
    "### `if <OBJECT>:`\n",
    "\n",
    "Evaluates to `False` for:\n",
    "\n",
    "* any number equal to zero (0, 0.0, 0+0j)\n",
    "* an empty container (list, tuple, set, dictionary, …)\n",
    "* `False`, `None`\n",
    "\n",
    "Evaluates to `True` for:\n",
    "\n",
    "* everything else\n",
    "\n",
    "Examples:"
   ]
  },
  {
   "cell_type": "code",
   "execution_count": null,
   "id": "e2f40846",
   "metadata": {},
   "outputs": [],
   "source": [
    "a = 10\n",
    "if a:\n",
    "    print(\"Evaluated to `True`\")\n",
    "else:\n",
    "    print('Evaluated to `False')"
   ]
  },
  {
   "cell_type": "code",
   "execution_count": null,
   "id": "3463acbe",
   "metadata": {
    "lines_to_next_cell": 2
   },
   "outputs": [],
   "source": [
    "a = []\n",
    "if a:\n",
    "    print(\"Evaluated to `True`\")\n",
    "else:\n",
    "    print('Evaluated to `False')"
   ]
  },
  {
   "cell_type": "markdown",
   "id": "e908c328",
   "metadata": {},
   "source": [
    "### `a == b:`\n",
    "\n",
    "Tests equality, with logics::"
   ]
  },
  {
   "cell_type": "code",
   "execution_count": null,
   "id": "ce60bb64",
   "metadata": {},
   "outputs": [],
   "source": [
    "1 == 1."
   ]
  },
  {
   "cell_type": "markdown",
   "id": "d41f78ff",
   "metadata": {},
   "source": [
    "### `a is b`\n",
    "\n",
    "Tests identity: both sides **are the same object**:"
   ]
  },
  {
   "cell_type": "code",
   "execution_count": null,
   "id": "df0eda67",
   "metadata": {},
   "outputs": [],
   "source": [
    "a = 1\n",
    "b = 1.\n",
    "a == b"
   ]
  },
  {
   "cell_type": "code",
   "execution_count": null,
   "id": "73bc8237",
   "metadata": {},
   "outputs": [],
   "source": [
    "a is b"
   ]
  },
  {
   "cell_type": "code",
   "execution_count": null,
   "id": "bb5d6a60",
   "metadata": {},
   "outputs": [],
   "source": [
    "a = 'A string'\n",
    "b = a\n",
    "a is b"
   ]
  },
  {
   "cell_type": "markdown",
   "id": "92039ce5",
   "metadata": {},
   "source": [
    "### `a in b`\n",
    "\n",
    "For any collection ``b``: ``b`` contains ``a`` :"
   ]
  },
  {
   "cell_type": "code",
   "execution_count": null,
   "id": "0284b057",
   "metadata": {},
   "outputs": [],
   "source": [
    "b = [1, 2, 3]\n",
    "2 in b"
   ]
  },
  {
   "cell_type": "code",
   "execution_count": null,
   "id": "eb121a0f",
   "metadata": {},
   "outputs": [],
   "source": [
    "5 in b"
   ]
  },
  {
   "cell_type": "markdown",
   "id": "8a09ea5e",
   "metadata": {},
   "source": [
    "If ``b`` is a dictionary, this tests that ``a`` is a key of ``b``."
   ]
  },
  {
   "cell_type": "code",
   "execution_count": null,
   "id": "d3cc2737",
   "metadata": {},
   "outputs": [],
   "source": [
    "b = {'first': 0, 'second': 1}\n",
    "# Tests for key.\n",
    "'first' in b"
   ]
  },
  {
   "cell_type": "code",
   "execution_count": null,
   "id": "e3cf1e24",
   "metadata": {
    "lines_to_next_cell": 2
   },
   "outputs": [],
   "source": [
    "# Does not test for value.\n",
    "0 in b"
   ]
  },
  {
   "cell_type": "markdown",
   "id": "de257b34",
   "metadata": {},
   "source": [
    "## Advanced iteration\n",
    "\n",
    "**Iterate over any sequence**:\n",
    "\n",
    "You can iterate over any sequence (string, list, keys in a dictionary, lines in\n",
    "a file, ...):"
   ]
  },
  {
   "cell_type": "code",
   "execution_count": null,
   "id": "58ee2b91",
   "metadata": {},
   "outputs": [],
   "source": [
    "vowels = 'aeiouy'"
   ]
  },
  {
   "cell_type": "code",
   "execution_count": null,
   "id": "279881d4",
   "metadata": {},
   "outputs": [],
   "source": [
    "for i in 'powerful':\n",
    "    if i in vowels:\n",
    "        print(i)"
   ]
  },
  {
   "cell_type": "code",
   "execution_count": null,
   "id": "c062c3b8",
   "metadata": {},
   "outputs": [],
   "source": [
    "message = \"Hello how are you?\"\n",
    "message.split() # returns a list"
   ]
  },
  {
   "cell_type": "code",
   "execution_count": null,
   "id": "6f1db372",
   "metadata": {},
   "outputs": [],
   "source": [
    "for word in message.split():\n",
    "    print(word)"
   ]
  },
  {
   "cell_type": "markdown",
   "id": "01843451",
   "metadata": {},
   "source": [
    "**Start of note**\n",
    ":class: dropdown\n",
    "\n",
    "Few languages (in particular, languages for scientific computing) allow to\n",
    "loop over anything but integers/indices. With Python it is possible to\n",
    "loop exactly over the objects of interest without bothering with indices\n",
    "you often don't care about. This feature can often be used to make\n",
    "code more readable.\n",
    "**End of note**\n",
    "\n",
    "**Start of warning**\n",
    "It is not safe to modify the sequence you are iterating over.\n",
    "**End of warning**\n",
    "\n",
    "### Keeping track of enumeration number\n",
    "\n",
    "Common task is to iterate over a sequence while keeping track of the\n",
    "item number.\n",
    "\n",
    "We could use while loop with a counter as above. Or a for loop:"
   ]
  },
  {
   "cell_type": "code",
   "execution_count": null,
   "id": "a101f567",
   "metadata": {},
   "outputs": [],
   "source": [
    "words = ('cool', 'powerful', 'readable')\n",
    "for i in range(0, len(words)):\n",
    "    print((i, words[i]))"
   ]
  },
  {
   "cell_type": "markdown",
   "id": "b5c415fd",
   "metadata": {},
   "source": [
    "But, Python provides a built-in function - `enumerate` - for this:"
   ]
  },
  {
   "cell_type": "code",
   "execution_count": null,
   "id": "c5fda80b",
   "metadata": {
    "lines_to_next_cell": 2
   },
   "outputs": [],
   "source": [
    "for index, item in enumerate(words):\n",
    "    print((index, item))"
   ]
  },
  {
   "cell_type": "markdown",
   "id": "71e34585",
   "metadata": {},
   "source": [
    "### Looping over a dictionary\n",
    "\n",
    "Use **items**:"
   ]
  },
  {
   "cell_type": "code",
   "execution_count": null,
   "id": "ad4f60d7",
   "metadata": {},
   "outputs": [],
   "source": [
    "d = {'a': 1, 'b':1.2, 'c':1j}"
   ]
  },
  {
   "cell_type": "code",
   "execution_count": null,
   "id": "ed6fc872",
   "metadata": {
    "lines_to_next_cell": 2
   },
   "outputs": [],
   "source": [
    "for key, val in d.items():\n",
    "    print('Key: %s has value: %s' % (key, val))"
   ]
  },
  {
   "cell_type": "markdown",
   "id": "df44b28b",
   "metadata": {},
   "source": [
    "## List Comprehensions\n",
    "\n",
    "Instead of creating a list by means of a loop, one can make use\n",
    "of a list comprehension with a rather self-explaining syntax."
   ]
  },
  {
   "cell_type": "code",
   "execution_count": null,
   "id": "6c4cef45",
   "metadata": {},
   "outputs": [],
   "source": [
    "[i**2 for i in range(4)]"
   ]
  },
  {
   "cell_type": "markdown",
   "id": "cc733f0a",
   "metadata": {},
   "source": [
    "**Start of exercise**\n",
    "\n",
    "Compute the decimals of Pi using the Wallis formula:\n",
    "\n",
    "$$\n",
    "\\pi = 2 \\prod_{i=1}^{\\infty} \\frac{4i^2}{4i^2 - 1}\n",
    "$$\n",
    "\n",
    "**End of exercise**"
   ]
  },
  {
   "cell_type": "markdown",
   "id": "e233b784",
   "metadata": {},
   "source": [
    "**See the [corresponding page](/scipy-lecture-notes/intro/language/control_flow.html) for solution**"
   ]
  }
 ],
 "metadata": {
  "jupytext": {
   "formats": "ipynb,Rmd"
  },
  "kernelspec": {
   "display_name": "Python (Pyodide)",
   "name": "python"
  }
 },
 "nbformat": 4,
 "nbformat_minor": 5
}
