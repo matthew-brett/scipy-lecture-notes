{
 "cells": [
  {
   "cell_type": "markdown",
   "id": "89d7503b",
   "metadata": {},
   "source": [
    "# Defining functions\n",
    "\n",
    "## Function definition"
   ]
  },
  {
   "cell_type": "code",
   "execution_count": null,
   "id": "563271df",
   "metadata": {},
   "outputs": [],
   "source": [
    "def test():\n",
    "    print('in test function')"
   ]
  },
  {
   "cell_type": "code",
   "execution_count": null,
   "id": "61f3f45f",
   "metadata": {},
   "outputs": [],
   "source": [
    "test()"
   ]
  },
  {
   "cell_type": "markdown",
   "id": "5276755c",
   "metadata": {},
   "source": [
    ":::{warning}\n",
    "Function blocks must be indented in the same way as other control-flow blocks.\n",
    ":::"
   ]
  },
  {
   "cell_type": "markdown",
   "id": "4e7ac317",
   "metadata": {},
   "source": [
    "## Return statement\n",
    "\n",
    "Functions _always_ return values:"
   ]
  },
  {
   "cell_type": "code",
   "execution_count": null,
   "id": "c3c87811",
   "metadata": {},
   "outputs": [],
   "source": [
    "def disk_area(radius):\n",
    "    return 3.14 * radius * radius"
   ]
  },
  {
   "cell_type": "code",
   "execution_count": null,
   "id": "51cab447",
   "metadata": {},
   "outputs": [],
   "source": [
    "disk_area(1.5)"
   ]
  },
  {
   "cell_type": "markdown",
   "id": "6928eba5",
   "metadata": {},
   "source": [
    "But - if you do not specify an explicit return value, functions return the\n",
    "special Python value `None`."
   ]
  },
  {
   "cell_type": "code",
   "execution_count": null,
   "id": "6cd13333",
   "metadata": {},
   "outputs": [],
   "source": [
    "def another_func(a):\n",
    "    # Do nothing.\n",
    "    # Notice there is no \"return\" statement.\n",
    "    pass"
   ]
  },
  {
   "cell_type": "code",
   "execution_count": null,
   "id": "f8ccb0b4",
   "metadata": {},
   "outputs": [],
   "source": [
    "result = another_func(10)\n",
    "# Check whether result returned is None value.\n",
    "result is None"
   ]
  },
  {
   "cell_type": "markdown",
   "id": "ce22a7e2",
   "metadata": {},
   "source": [
    ":::{note}\n",
    "Note the syntax to define a function:\n",
    "\n",
    "- the `def` keyword;\n",
    "- is followed by the function's **name**, then\n",
    "- the arguments of the function are given between parentheses followed\n",
    "  by a colon.\n",
    "- the function body;\n",
    "- and `return object` for optionally returning values.\n",
    "  :::"
   ]
  },
  {
   "cell_type": "markdown",
   "id": "f37cca82",
   "metadata": {},
   "source": [
    "## Parameters\n",
    "\n",
    "Mandatory parameters (positional arguments)"
   ]
  },
  {
   "cell_type": "code",
   "execution_count": null,
   "id": "c802edbc",
   "metadata": {},
   "outputs": [],
   "source": [
    "def double_it(x):\n",
    "    return x * 2"
   ]
  },
  {
   "cell_type": "code",
   "execution_count": null,
   "id": "2fd4cae5",
   "metadata": {},
   "outputs": [],
   "source": [
    "double_it(3)"
   ]
  },
  {
   "cell_type": "code",
   "execution_count": null,
   "id": "bee01bb0",
   "metadata": {
    "tags": [
     "raises-exception"
    ]
   },
   "outputs": [],
   "source": [
    "double_it()"
   ]
  },
  {
   "cell_type": "markdown",
   "id": "b263955d",
   "metadata": {},
   "source": [
    "Optional parameters (keyword or named arguments)"
   ]
  },
  {
   "cell_type": "code",
   "execution_count": null,
   "id": "ca9ccd0b",
   "metadata": {},
   "outputs": [],
   "source": [
    "def double_it(x=2):\n",
    "    return x * 2"
   ]
  },
  {
   "cell_type": "code",
   "execution_count": null,
   "id": "17aaa67f",
   "metadata": {},
   "outputs": [],
   "source": [
    "double_it()"
   ]
  },
  {
   "cell_type": "code",
   "execution_count": null,
   "id": "401f763e",
   "metadata": {},
   "outputs": [],
   "source": [
    "double_it(3)"
   ]
  },
  {
   "cell_type": "markdown",
   "id": "c9eed68e",
   "metadata": {},
   "source": [
    "Keyword arguments allow you to specify _default values_.\n",
    "\n",
    "**Warning:** default values are evaluated when the function is defined, not\n",
    "when it is called. This can be problematic when using mutable types (e.g.\n",
    "dictionary or list) and modifying them in the function body, since the\n",
    "modifications will be persistent across invocations of the function.\n",
    "\n",
    "Using an immutable type in a keyword argument:"
   ]
  },
  {
   "cell_type": "code",
   "execution_count": null,
   "id": "513169fd",
   "metadata": {},
   "outputs": [],
   "source": [
    "bigx = 10\n",
    "def double_it(x=bigx):\n",
    "    return x * 2"
   ]
  },
  {
   "cell_type": "code",
   "execution_count": null,
   "id": "8634ad03",
   "metadata": {},
   "outputs": [],
   "source": [
    "bigx = 1e9  # Now really big\n",
    "double_it()"
   ]
  },
  {
   "cell_type": "markdown",
   "id": "f9ee3a3f",
   "metadata": {},
   "source": [
    "Using an mutable type in a keyword argument (and modifying it inside the\n",
    "function body):"
   ]
  },
  {
   "cell_type": "code",
   "execution_count": null,
   "id": "03b50c6a",
   "metadata": {},
   "outputs": [],
   "source": [
    "def add_to_dict(args={'a': 1, 'b': 2}):\n",
    "    for i in args.keys():\n",
    "        args[i] += 1\n",
    "    print(args)"
   ]
  },
  {
   "cell_type": "code",
   "execution_count": null,
   "id": "cfa8527d",
   "metadata": {},
   "outputs": [],
   "source": [
    "add_to_dict"
   ]
  },
  {
   "cell_type": "code",
   "execution_count": null,
   "id": "1892aaa7",
   "metadata": {},
   "outputs": [],
   "source": [
    "add_to_dict()"
   ]
  },
  {
   "cell_type": "code",
   "execution_count": null,
   "id": "ee745d64",
   "metadata": {},
   "outputs": [],
   "source": [
    "add_to_dict()"
   ]
  },
  {
   "cell_type": "code",
   "execution_count": null,
   "id": "3d113038",
   "metadata": {},
   "outputs": [],
   "source": [
    "add_to_dict()"
   ]
  },
  {
   "cell_type": "markdown",
   "id": "376b19dd",
   "metadata": {},
   "source": [
    "More involved example implementing python's slicing:"
   ]
  },
  {
   "cell_type": "code",
   "execution_count": null,
   "id": "737d9139",
   "metadata": {},
   "outputs": [],
   "source": [
    "def slicer(seq, start=None, stop=None, step=None):\n",
    "    \"\"\"Implement basic python slicing.\"\"\"\n",
    "    return seq[start:stop:step]"
   ]
  },
  {
   "cell_type": "code",
   "execution_count": null,
   "id": "b01b0ed9",
   "metadata": {},
   "outputs": [],
   "source": [
    "rhyme = 'one fish, two fish, red fish, blue fish'.split()\n",
    "rhyme"
   ]
  },
  {
   "cell_type": "code",
   "execution_count": null,
   "id": "1add4df6",
   "metadata": {},
   "outputs": [],
   "source": [
    "slicer(rhyme)"
   ]
  },
  {
   "cell_type": "code",
   "execution_count": null,
   "id": "420e2469",
   "metadata": {},
   "outputs": [],
   "source": [
    "slicer(rhyme, step=2)"
   ]
  },
  {
   "cell_type": "code",
   "execution_count": null,
   "id": "a5d5d88b",
   "metadata": {},
   "outputs": [],
   "source": [
    "slicer(rhyme, 1, step=2)"
   ]
  },
  {
   "cell_type": "code",
   "execution_count": null,
   "id": "a45fe0a5",
   "metadata": {},
   "outputs": [],
   "source": [
    "slicer(rhyme, start=1, stop=4, step=2)"
   ]
  },
  {
   "cell_type": "markdown",
   "id": "06802e41",
   "metadata": {},
   "source": [
    "The order of the keyword arguments does not matter:"
   ]
  },
  {
   "cell_type": "code",
   "execution_count": null,
   "id": "ff48a021",
   "metadata": {},
   "outputs": [],
   "source": [
    "slicer(rhyme, step=2, start=1, stop=4)"
   ]
  },
  {
   "cell_type": "markdown",
   "id": "ac3bec14",
   "metadata": {},
   "source": [
    "— but it is good practice to use the same ordering as the function's\n",
    "definition.\n",
    "\n",
    "_Keyword arguments_ are a very convenient feature for defining functions with\n",
    "a variable number of arguments, especially when default values are to be used\n",
    "in most calls to the function."
   ]
  },
  {
   "cell_type": "markdown",
   "id": "3600f829",
   "metadata": {},
   "source": [
    "## Passing by value\n",
    "\n",
    "::: {note}\n",
    ":class: dropdown\n",
    "\n",
    "Can you modify the value of a variable inside a function? Most languages (C,\n",
    "Java, ...) distinguish \"passing by value\" and \"passing by reference\". In\n",
    "Python, such a distinction is somewhat artificial, and it is a bit subtle\n",
    "whether your variables are going to be modified or not. Fortunately, there\n",
    "exist clear rules.\n",
    "\n",
    "Parameters to functions are references to objects, which are passed by\n",
    "value. When you pass a variable to a function, python passes the\n",
    "reference to the object to which the variable refers (the **value**).\n",
    "Not the variable itself.\n",
    ":::\n",
    "\n",
    "If the **value** passed in a function is immutable, the function does not\n",
    "modify the caller's variable. If the **value** is mutable, the function\n",
    "may modify the caller's variable in-place:"
   ]
  },
  {
   "cell_type": "code",
   "execution_count": null,
   "id": "0e14412f",
   "metadata": {},
   "outputs": [],
   "source": [
    "def try_to_modify(x, y, z):\n",
    "    x = 23\n",
    "    y.append(42)\n",
    "    z = [99] # new reference\n",
    "    print(x)\n",
    "    print(y)\n",
    "    print(z)"
   ]
  },
  {
   "cell_type": "code",
   "execution_count": null,
   "id": "b39da314",
   "metadata": {},
   "outputs": [],
   "source": [
    "a = 77    # immutable variable\n",
    "b = [99]  # mutable variable\n",
    "c = [28]\n",
    "try_to_modify(a, b, c)"
   ]
  },
  {
   "cell_type": "code",
   "execution_count": null,
   "id": "4d199900",
   "metadata": {},
   "outputs": [],
   "source": [
    "print(a)"
   ]
  },
  {
   "cell_type": "code",
   "execution_count": null,
   "id": "37594ee4",
   "metadata": {},
   "outputs": [],
   "source": [
    "print(b)"
   ]
  },
  {
   "cell_type": "code",
   "execution_count": null,
   "id": "d3fd77b0",
   "metadata": {},
   "outputs": [],
   "source": [
    "print(c)"
   ]
  },
  {
   "cell_type": "markdown",
   "id": "b80977e5",
   "metadata": {},
   "source": [
    "Functions have a local variable table called a _local namespace_.\n",
    "\n",
    "The variable `x` only exists within the function `try_to_modify`."
   ]
  },
  {
   "cell_type": "markdown",
   "id": "698e750c",
   "metadata": {},
   "source": [
    "## Global variables\n",
    "\n",
    "Variables declared outside the function can be referenced within the function:"
   ]
  },
  {
   "cell_type": "code",
   "execution_count": null,
   "id": "28b03eaa",
   "metadata": {},
   "outputs": [],
   "source": [
    "x = 5\n",
    "def addx(y):\n",
    "    return x + y"
   ]
  },
  {
   "cell_type": "code",
   "execution_count": null,
   "id": "019fb15e",
   "metadata": {},
   "outputs": [],
   "source": [
    "addx(10)"
   ]
  },
  {
   "cell_type": "markdown",
   "id": "1ffbf5a0",
   "metadata": {},
   "source": [
    "But these \"global\" variables cannot be modified within the function, unless\n",
    "declared **global** in the function.\n",
    "\n",
    "This doesn't work:"
   ]
  },
  {
   "cell_type": "code",
   "execution_count": null,
   "id": "6a9a9c63",
   "metadata": {},
   "outputs": [],
   "source": [
    "def setx(y):\n",
    "    x = y\n",
    "    print('x is %d' % x)"
   ]
  },
  {
   "cell_type": "code",
   "execution_count": null,
   "id": "8b383dda",
   "metadata": {},
   "outputs": [],
   "source": [
    "setx(10)"
   ]
  },
  {
   "cell_type": "code",
   "execution_count": null,
   "id": "a60ba9f1",
   "metadata": {},
   "outputs": [],
   "source": [
    "x"
   ]
  },
  {
   "cell_type": "markdown",
   "id": "ce8a89ce",
   "metadata": {},
   "source": [
    "This works:"
   ]
  },
  {
   "cell_type": "code",
   "execution_count": null,
   "id": "443d0159",
   "metadata": {},
   "outputs": [],
   "source": [
    "def setx(y):\n",
    "    global x\n",
    "    x = y\n",
    "    print('x is %d' % x)"
   ]
  },
  {
   "cell_type": "code",
   "execution_count": null,
   "id": "1e122fae",
   "metadata": {},
   "outputs": [],
   "source": [
    "setx(10)"
   ]
  },
  {
   "cell_type": "code",
   "execution_count": null,
   "id": "76a6f782",
   "metadata": {},
   "outputs": [],
   "source": [
    "x"
   ]
  },
  {
   "cell_type": "markdown",
   "id": "ccf5f55b",
   "metadata": {},
   "source": [
    "## Variable number of parameters\n",
    "\n",
    "Special forms of parameters:\n",
    "\n",
    "- `*args`: any number of positional arguments packed into a tuple\n",
    "- `**kwargs`: any number of keyword arguments packed into a dictionary"
   ]
  },
  {
   "cell_type": "code",
   "execution_count": null,
   "id": "016b0c6e",
   "metadata": {},
   "outputs": [],
   "source": [
    "def variable_args(*args, **kwargs):\n",
    "    print('args is', args)\n",
    "    print('kwargs is', kwargs)"
   ]
  },
  {
   "cell_type": "code",
   "execution_count": null,
   "id": "e43cf331",
   "metadata": {},
   "outputs": [],
   "source": [
    "variable_args('one', 'two', x=1, y=2, z=3)"
   ]
  },
  {
   "cell_type": "markdown",
   "id": "d17e9d04",
   "metadata": {},
   "source": [
    "## Docstrings\n",
    "\n",
    "Documentation about what the function does and its parameters. General\n",
    "convention:"
   ]
  },
  {
   "cell_type": "code",
   "execution_count": null,
   "id": "3140828b",
   "metadata": {},
   "outputs": [],
   "source": [
    "def funcname(params):\n",
    "    \"\"\"Concise one-line sentence describing the function.\n",
    "\n",
    "    Extended summary which can contain multiple paragraphs.\n",
    "    \"\"\"\n",
    "    # function body\n",
    "    pass"
   ]
  },
  {
   "cell_type": "code",
   "execution_count": null,
   "id": "38cabfd5",
   "metadata": {},
   "outputs": [],
   "source": [
    "# Also assessible in Jupyter / IPython with \"funcname?\"\n",
    "help(funcname)"
   ]
  },
  {
   "cell_type": "markdown",
   "id": "6e0aa655",
   "metadata": {},
   "source": [
    ":::{note}\n",
    "**Docstring guidelines**\n",
    "\n",
    "For the sake of standardization, the [Docstring\n",
    "Conventions](https://peps.python.org/pep-0257) webpage documents the semantics\n",
    "and conventions associated with Python docstrings.\n",
    "\n",
    "Also, the NumPy and SciPy modules have defined a precise standard for\n",
    "documenting scientific functions, that you may want to follow for your own\n",
    "functions, with a `Parameters` section, an `Examples` section, etc. See\n",
    "<https://numpydoc.readthedocs.io/en/latest/format.html#docstring-standard>\n",
    ":::"
   ]
  },
  {
   "cell_type": "markdown",
   "id": "7dab4559",
   "metadata": {},
   "source": [
    "## Functions are objects\n",
    "\n",
    "Functions are first-class objects, which means they can be:\n",
    "\n",
    "- assigned to a variable\n",
    "- an item in a list (or any collection)\n",
    "- passed as an argument to another function."
   ]
  },
  {
   "cell_type": "code",
   "execution_count": null,
   "id": "e1491065",
   "metadata": {},
   "outputs": [],
   "source": [
    "va = variable_args\n",
    "va('three', x=1, y=2)"
   ]
  },
  {
   "cell_type": "markdown",
   "id": "f3b61cd7",
   "metadata": {},
   "source": [
    "## Methods\n",
    "\n",
    "Methods are functions attached to objects. You've seen these in our examples on\n",
    "_lists_, _dictionaries_, _strings_, etc..."
   ]
  },
  {
   "cell_type": "markdown",
   "id": "b32301ce",
   "metadata": {},
   "source": [
    "## Exercises\n",
    "\n",
    "**Start of exercise**\n",
    "\n",
    "Write a function that displays the `n` first terms of the Fibonacci\n",
    "sequence, defined by:\n",
    "\n",
    "$$\n",
    "\\begin{align}\n",
    "U_{0} &= 0 \\\\\n",
    "U_{1} &= 1 \\\\\n",
    "U_{n+2} &= U_{n+1} + U_{n}\n",
    "\\end{align}\n",
    "$$\n",
    "\n",
    "**End of exercise**\n",
    "\n",
    "\n",
    "**See the [corresponding page](/scipy-lecture-notes/intro/language/functions.html) for solution**\n",
    "\n",
    "Implement the [Quicksort algorithm, as defined by\n",
    "Wikipedia](https://en.wikipedia.org/wiki/Quicksort)\n",
    "\n",
    "```\n",
    "function quicksort(array)\n",
    "    var list less, greater\n",
    "    if length(array) < 2\n",
    "        return array\n",
    "    select and remove a pivot value pivot from array\n",
    "    for each x in array\n",
    "        if x < pivot + 1 then append x to less\n",
    "        else append x to greater\n",
    "    return concatenate(quicksort(less), pivot, quicksort(greater))\n",
    "```\n",
    "\n",
    "**End of exercise**\n",
    "\n",
    "\n",
    "**See the [corresponding page](/scipy-lecture-notes/intro/language/functions.html) for solution**"
   ]
  }
 ],
 "metadata": {
  "kernelspec": {
   "display_name": "Python (Pyodide)",
   "name": "python"
  }
 },
 "nbformat": 4,
 "nbformat_minor": 5
}
