{
 "cells": [
  {
   "cell_type": "markdown",
   "id": "3fd4381c",
   "metadata": {},
   "source": [
    "# Defining functions\n",
    "\n",
    "## Function definition"
   ]
  },
  {
   "cell_type": "code",
   "execution_count": null,
   "id": "3659518c",
   "metadata": {},
   "outputs": [],
   "source": [
    "def test():\n",
    "    print('in test function')"
   ]
  },
  {
   "cell_type": "code",
   "execution_count": null,
   "id": "2f4d201e",
   "metadata": {},
   "outputs": [],
   "source": [
    "test()"
   ]
  },
  {
   "cell_type": "markdown",
   "id": "57462c98",
   "metadata": {},
   "source": [
    "**Start of Warning**\n",
    "Function blocks must be indented in the same way as other control-flow blocks.\n",
    "**End of Warning**"
   ]
  },
  {
   "cell_type": "markdown",
   "id": "c77742be",
   "metadata": {},
   "source": [
    "## Return statement\n",
    "\n",
    "Functions *always* return values:"
   ]
  },
  {
   "cell_type": "code",
   "execution_count": null,
   "id": "70de97d8",
   "metadata": {},
   "outputs": [],
   "source": [
    "def disk_area(radius):\n",
    "    return 3.14 * radius * radius"
   ]
  },
  {
   "cell_type": "code",
   "execution_count": null,
   "id": "5b6c7720",
   "metadata": {},
   "outputs": [],
   "source": [
    "disk_area(1.5)"
   ]
  },
  {
   "cell_type": "markdown",
   "id": "2164aaa4",
   "metadata": {},
   "source": [
    "But - if you do not specify an explicit return value, functions return the\n",
    "special Python value `None`."
   ]
  },
  {
   "cell_type": "code",
   "execution_count": null,
   "id": "959bdc15",
   "metadata": {},
   "outputs": [],
   "source": [
    "def another_func(a):\n",
    "    # Do nothing.\n",
    "    # Notice there is no \"return\" statement.\n",
    "    pass"
   ]
  },
  {
   "cell_type": "code",
   "execution_count": null,
   "id": "ab14833a",
   "metadata": {},
   "outputs": [],
   "source": [
    "result = another_func(10)\n",
    "# Check whether result returned is None value.\n",
    "result is None"
   ]
  },
  {
   "cell_type": "markdown",
   "id": "914dc9f2",
   "metadata": {},
   "source": [
    "**Start of Note**\n",
    "Note the syntax to define a function:\n",
    "\n",
    "- the `def` keyword;\n",
    "- is followed by the function's **name**, then\n",
    "- the arguments of the function are given between parentheses followed\n",
    "  by a colon.\n",
    "- the function body;\n",
    "- and `return object` for optionally returning values.\n",
    "**End of Note**"
   ]
  },
  {
   "cell_type": "markdown",
   "id": "c174f24c",
   "metadata": {},
   "source": [
    "## Parameters\n",
    "\n",
    "Mandatory parameters (positional arguments)"
   ]
  },
  {
   "cell_type": "code",
   "execution_count": null,
   "id": "40b7406b",
   "metadata": {},
   "outputs": [],
   "source": [
    "def double_it(x):\n",
    "    return x * 2"
   ]
  },
  {
   "cell_type": "code",
   "execution_count": null,
   "id": "05dcc0d4",
   "metadata": {},
   "outputs": [],
   "source": [
    "double_it(3)"
   ]
  },
  {
   "cell_type": "code",
   "execution_count": null,
   "id": "0b6e11c0",
   "metadata": {
    "tags": [
     "raises-exception"
    ]
   },
   "outputs": [],
   "source": [
    "double_it()"
   ]
  },
  {
   "cell_type": "markdown",
   "id": "f6903268",
   "metadata": {},
   "source": [
    "Optional parameters (keyword or named arguments)"
   ]
  },
  {
   "cell_type": "code",
   "execution_count": null,
   "id": "14364804",
   "metadata": {},
   "outputs": [],
   "source": [
    "def double_it(x=2):\n",
    "    return x * 2"
   ]
  },
  {
   "cell_type": "code",
   "execution_count": null,
   "id": "0008b73c",
   "metadata": {},
   "outputs": [],
   "source": [
    "double_it()"
   ]
  },
  {
   "cell_type": "code",
   "execution_count": null,
   "id": "a50bc8e2",
   "metadata": {},
   "outputs": [],
   "source": [
    "double_it(3)"
   ]
  },
  {
   "cell_type": "markdown",
   "id": "f879e578",
   "metadata": {},
   "source": [
    "Keyword arguments allow you to specify *default values*.\n",
    "\n",
    "**Warning:** default values are evaluated when the function is defined, not\n",
    "when it is called. This can be problematic when using mutable types (e.g.\n",
    "dictionary or list) and modifying them in the function body, since the\n",
    "modifications will be persistent across invocations of the function.\n",
    "\n",
    "Using an immutable type in a keyword argument:"
   ]
  },
  {
   "cell_type": "code",
   "execution_count": null,
   "id": "22cd7d33",
   "metadata": {},
   "outputs": [],
   "source": [
    "bigx = 10\n",
    "def double_it(x=bigx):\n",
    "    return x * 2"
   ]
  },
  {
   "cell_type": "code",
   "execution_count": null,
   "id": "f35ba2fa",
   "metadata": {},
   "outputs": [],
   "source": [
    "bigx = 1e9  # Now really big\n",
    "double_it()"
   ]
  },
  {
   "cell_type": "markdown",
   "id": "15d927de",
   "metadata": {},
   "source": [
    "Using an mutable type in a keyword argument (and modifying it inside the\n",
    "function body):"
   ]
  },
  {
   "cell_type": "code",
   "execution_count": null,
   "id": "26f02817",
   "metadata": {},
   "outputs": [],
   "source": [
    "def add_to_dict(args={'a': 1, 'b': 2}):\n",
    "    for i in args.keys():\n",
    "        args[i] += 1\n",
    "    print(args)"
   ]
  },
  {
   "cell_type": "code",
   "execution_count": null,
   "id": "441c99d5",
   "metadata": {},
   "outputs": [],
   "source": [
    "add_to_dict"
   ]
  },
  {
   "cell_type": "code",
   "execution_count": null,
   "id": "1c5d0d32",
   "metadata": {},
   "outputs": [],
   "source": [
    "add_to_dict()"
   ]
  },
  {
   "cell_type": "code",
   "execution_count": null,
   "id": "dc7e8f30",
   "metadata": {},
   "outputs": [],
   "source": [
    "add_to_dict()"
   ]
  },
  {
   "cell_type": "code",
   "execution_count": null,
   "id": "e8247d24",
   "metadata": {},
   "outputs": [],
   "source": [
    "add_to_dict()"
   ]
  },
  {
   "cell_type": "markdown",
   "id": "74068326",
   "metadata": {},
   "source": [
    "More involved example implementing python's slicing:"
   ]
  },
  {
   "cell_type": "code",
   "execution_count": null,
   "id": "1bd230f7",
   "metadata": {},
   "outputs": [],
   "source": [
    "def slicer(seq, start=None, stop=None, step=None):\n",
    "    \"\"\"Implement basic python slicing.\"\"\"\n",
    "    return seq[start:stop:step]"
   ]
  },
  {
   "cell_type": "code",
   "execution_count": null,
   "id": "05512557",
   "metadata": {},
   "outputs": [],
   "source": [
    "rhyme = 'one fish, two fish, red fish, blue fish'.split()\n",
    "rhyme"
   ]
  },
  {
   "cell_type": "code",
   "execution_count": null,
   "id": "5189d78c",
   "metadata": {},
   "outputs": [],
   "source": [
    "slicer(rhyme)"
   ]
  },
  {
   "cell_type": "code",
   "execution_count": null,
   "id": "a4ce384c",
   "metadata": {},
   "outputs": [],
   "source": [
    "slicer(rhyme, step=2)"
   ]
  },
  {
   "cell_type": "code",
   "execution_count": null,
   "id": "79e72381",
   "metadata": {},
   "outputs": [],
   "source": [
    "slicer(rhyme, 1, step=2)"
   ]
  },
  {
   "cell_type": "code",
   "execution_count": null,
   "id": "e6ef8c09",
   "metadata": {},
   "outputs": [],
   "source": [
    "slicer(rhyme, start=1, stop=4, step=2)"
   ]
  },
  {
   "cell_type": "markdown",
   "id": "3d81bb98",
   "metadata": {},
   "source": [
    "The order of the keyword arguments does not matter:"
   ]
  },
  {
   "cell_type": "code",
   "execution_count": null,
   "id": "ca804150",
   "metadata": {},
   "outputs": [],
   "source": [
    "slicer(rhyme, step=2, start=1, stop=4)"
   ]
  },
  {
   "cell_type": "markdown",
   "id": "f9234a23",
   "metadata": {},
   "source": [
    "— but it is good practice to use the same ordering as the function's\n",
    "definition.\n",
    "\n",
    "*Keyword arguments* are a very convenient feature for defining functions with\n",
    "a variable number of arguments, especially when default values are to be used\n",
    "in most calls to the function."
   ]
  },
  {
   "cell_type": "markdown",
   "id": "d52d665b",
   "metadata": {},
   "source": [
    "## Passing by value\n",
    "\n",
    "**Start of note**\n",
    ":class: dropdown\n",
    "\n",
    "Can you modify the value of a variable inside a function? Most languages (C,\n",
    "Java, ...) distinguish \"passing by value\" and \"passing by reference\". In\n",
    "Python, such a distinction is somewhat artificial, and it is a bit subtle\n",
    "whether your variables are going to be modified or not. Fortunately, there\n",
    "exist clear rules.\n",
    "\n",
    "Parameters to functions are references to objects, which are passed by\n",
    "value. When you pass a variable to a function, python passes the\n",
    "reference to the object to which the variable refers (the **value**).\n",
    "Not the variable itself.\n",
    "**End of note**\n",
    "\n",
    "If the **value** passed in a function is immutable, the function does not\n",
    "modify the caller's variable. If the **value** is mutable, the function\n",
    "may modify the caller's variable in-place:"
   ]
  },
  {
   "cell_type": "code",
   "execution_count": null,
   "id": "cee19443",
   "metadata": {},
   "outputs": [],
   "source": [
    "def try_to_modify(x, y, z):\n",
    "    x = 23\n",
    "    y.append(42)\n",
    "    z = [99] # new reference\n",
    "    print(x)\n",
    "    print(y)\n",
    "    print(z)"
   ]
  },
  {
   "cell_type": "code",
   "execution_count": null,
   "id": "7fc418e4",
   "metadata": {},
   "outputs": [],
   "source": [
    "a = 77    # immutable variable\n",
    "b = [99]  # mutable variable\n",
    "c = [28]\n",
    "try_to_modify(a, b, c)"
   ]
  },
  {
   "cell_type": "code",
   "execution_count": null,
   "id": "8f518c43",
   "metadata": {},
   "outputs": [],
   "source": [
    "print(a)"
   ]
  },
  {
   "cell_type": "code",
   "execution_count": null,
   "id": "834b5a33",
   "metadata": {},
   "outputs": [],
   "source": [
    "print(b)"
   ]
  },
  {
   "cell_type": "code",
   "execution_count": null,
   "id": "050c9ac7",
   "metadata": {},
   "outputs": [],
   "source": [
    "print(c)"
   ]
  },
  {
   "cell_type": "markdown",
   "id": "722c93fb",
   "metadata": {},
   "source": [
    "Functions have a local variable table called a *local namespace*.\n",
    "\n",
    "The variable `x` only exists within the function `try_to_modify`."
   ]
  },
  {
   "cell_type": "markdown",
   "id": "4e82597d",
   "metadata": {},
   "source": [
    "## Global variables\n",
    "\n",
    "Variables declared outside the function can be referenced within the function:"
   ]
  },
  {
   "cell_type": "code",
   "execution_count": null,
   "id": "b7e02354",
   "metadata": {},
   "outputs": [],
   "source": [
    "x = 5\n",
    "def addx(y):\n",
    "    return x + y"
   ]
  },
  {
   "cell_type": "code",
   "execution_count": null,
   "id": "8b6f98e8",
   "metadata": {},
   "outputs": [],
   "source": [
    "addx(10)"
   ]
  },
  {
   "cell_type": "markdown",
   "id": "31cfb4db",
   "metadata": {},
   "source": [
    "But these \"global\" variables cannot be modified within the function, unless\n",
    "declared **global** in the function.\n",
    "\n",
    "This doesn't work:"
   ]
  },
  {
   "cell_type": "code",
   "execution_count": null,
   "id": "e5166a8f",
   "metadata": {},
   "outputs": [],
   "source": [
    "def setx(y):\n",
    "    x = y\n",
    "    print('x is %d' % x)"
   ]
  },
  {
   "cell_type": "code",
   "execution_count": null,
   "id": "a02af1b3",
   "metadata": {},
   "outputs": [],
   "source": [
    "setx(10)"
   ]
  },
  {
   "cell_type": "code",
   "execution_count": null,
   "id": "e3f5aa75",
   "metadata": {},
   "outputs": [],
   "source": [
    "x"
   ]
  },
  {
   "cell_type": "markdown",
   "id": "eeb2b37d",
   "metadata": {},
   "source": [
    "This works:"
   ]
  },
  {
   "cell_type": "code",
   "execution_count": null,
   "id": "0faa5612",
   "metadata": {},
   "outputs": [],
   "source": [
    "def setx(y):\n",
    "    global x\n",
    "    x = y\n",
    "    print('x is %d' % x)"
   ]
  },
  {
   "cell_type": "code",
   "execution_count": null,
   "id": "a1201e88",
   "metadata": {},
   "outputs": [],
   "source": [
    "setx(10)"
   ]
  },
  {
   "cell_type": "code",
   "execution_count": null,
   "id": "52661fb8",
   "metadata": {},
   "outputs": [],
   "source": [
    "x"
   ]
  },
  {
   "cell_type": "markdown",
   "id": "27da90d3",
   "metadata": {},
   "source": [
    "## Variable number of parameters\n",
    "\n",
    "Special forms of parameters:\n",
    "\n",
    "- `*args`: any number of positional arguments packed into a tuple\n",
    "- `**kwargs`: any number of keyword arguments packed into a dictionary"
   ]
  },
  {
   "cell_type": "code",
   "execution_count": null,
   "id": "33c08a0b",
   "metadata": {},
   "outputs": [],
   "source": [
    "def variable_args(*args, **kwargs):\n",
    "    print('args is', args)\n",
    "    print('kwargs is', kwargs)"
   ]
  },
  {
   "cell_type": "code",
   "execution_count": null,
   "id": "36d63580",
   "metadata": {
    "lines_to_next_cell": 2
   },
   "outputs": [],
   "source": [
    "variable_args('one', 'two', x=1, y=2, z=3)"
   ]
  },
  {
   "cell_type": "markdown",
   "id": "199b0604",
   "metadata": {},
   "source": [
    "## Docstrings\n",
    "\n",
    "Documentation about what the function does and its parameters. General\n",
    "convention:"
   ]
  },
  {
   "cell_type": "code",
   "execution_count": null,
   "id": "1e75bb52",
   "metadata": {},
   "outputs": [],
   "source": [
    "def funcname(params):\n",
    "    \"\"\"Concise one-line sentence describing the function.\n",
    "\n",
    "    Extended summary which can contain multiple paragraphs.\n",
    "    \"\"\"\n",
    "    # function body\n",
    "    pass"
   ]
  },
  {
   "cell_type": "code",
   "execution_count": null,
   "id": "5e6adee2",
   "metadata": {},
   "outputs": [],
   "source": [
    "# Also assessible in Jupyter / IPython with \"funcname?\"\n",
    "help(funcname)"
   ]
  },
  {
   "cell_type": "markdown",
   "id": "ea5ff782",
   "metadata": {},
   "source": [
    "**Start of Note**\n",
    "**Docstring guidelines**\n",
    "\n",
    "For the sake of standardization, the [Docstring\n",
    "Conventions](https://peps.python.org/pep-0257) webpage documents the semantics\n",
    "and conventions associated with Python docstrings.\n",
    "\n",
    "Also, the NumPy and SciPy modules have defined a precise standard for\n",
    "documenting scientific functions, that you may want to follow for your own\n",
    "functions, with a `Parameters` section, an `Examples` section, etc. See\n",
    "<https://numpydoc.readthedocs.io/en/latest/format.html#docstring-standard>\n",
    "**End of Note**"
   ]
  },
  {
   "cell_type": "markdown",
   "id": "c87ad90b",
   "metadata": {},
   "source": [
    "## Functions are objects\n",
    "\n",
    "Functions are first-class objects, which means they can be:\n",
    "\n",
    "- assigned to a variable\n",
    "- an item in a list (or any collection)\n",
    "- passed as an argument to another function."
   ]
  },
  {
   "cell_type": "code",
   "execution_count": null,
   "id": "7b3093cf",
   "metadata": {},
   "outputs": [],
   "source": [
    "va = variable_args\n",
    "va('three', x=1, y=2)"
   ]
  },
  {
   "cell_type": "markdown",
   "id": "7a21ef00",
   "metadata": {},
   "source": [
    "## Methods\n",
    "\n",
    "Methods are functions attached to objects. You've seen these in our examples on\n",
    "*lists*, *dictionaries*, *strings*, etc..."
   ]
  },
  {
   "cell_type": "markdown",
   "id": "b571867d",
   "metadata": {},
   "source": [
    "## Exercises\n",
    "\n",
    "**Start of exercise**\n",
    "\n",
    "Write a function that displays the `n` first terms of the Fibonacci\n",
    "sequence, defined by:\n",
    "\n",
    "$$\n",
    "\\begin{align}\n",
    "U_{0} &= 0 \\\\\n",
    "U_{1} &= 1 \\\\\n",
    "U_{n+2} &= U_{n+1} + U_{n}\n",
    "\\end{align}\n",
    "$$\n",
    "\n",
    "**End of exercise**"
   ]
  },
  {
   "cell_type": "markdown",
   "id": "6b29d3a5",
   "metadata": {},
   "source": [
    "**See the [corresponding page](/scipy-lecture-notes/intro/language/functions.html) for solution**\n",
    "\n",
    "Implement the [Quicksort algorithm, as defined by\n",
    "Wikipedia](https://en.wikipedia.org/wiki/Quicksort)\n",
    "\n",
    "```\n",
    "function quicksort(array)\n",
    "    var list less, greater\n",
    "    if length(array) < 2\n",
    "        return array\n",
    "    select and remove a pivot value pivot from array\n",
    "    for each x in array\n",
    "        if x < pivot + 1 then append x to less\n",
    "        else append x to greater\n",
    "    return concatenate(quicksort(less), pivot, quicksort(greater))\n",
    "```\n",
    "\n",
    "**End of exercise**"
   ]
  },
  {
   "cell_type": "markdown",
   "id": "ed07f2ab",
   "metadata": {},
   "source": [
    "**See the [corresponding page](/scipy-lecture-notes/intro/language/functions.html) for solution**"
   ]
  }
 ],
 "metadata": {
  "jupytext": {
   "formats": "ipynb,Rmd"
  },
  "kernelspec": {
   "display_name": "Python (Pyodide)",
   "name": "python"
  }
 },
 "nbformat": 4,
 "nbformat_minor": 5
}
