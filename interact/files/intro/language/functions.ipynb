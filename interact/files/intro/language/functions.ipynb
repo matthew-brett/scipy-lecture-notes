{
 "cells": [
  {
   "cell_type": "markdown",
   "id": "ab95cf48",
   "metadata": {},
   "source": [
    "# Defining functions\n",
    "\n",
    "## Function definition"
   ]
  },
  {
   "cell_type": "code",
   "execution_count": null,
   "id": "78e017eb",
   "metadata": {},
   "outputs": [],
   "source": [
    "def test():\n",
    "    print('in test function')"
   ]
  },
  {
   "cell_type": "code",
   "execution_count": null,
   "id": "56565e1a",
   "metadata": {},
   "outputs": [],
   "source": [
    "test()"
   ]
  },
  {
   "cell_type": "markdown",
   "id": "b9801259",
   "metadata": {},
   "source": [
    "**Start of Warning**\n",
    "Function blocks must be indented as other control-flow blocks.\n",
    "**End of Warning**\n",
    "\n",
    "## Return statement\n",
    "\n",
    "Functions can *optionally* return values."
   ]
  },
  {
   "cell_type": "code",
   "execution_count": null,
   "id": "23a869a8",
   "metadata": {},
   "outputs": [],
   "source": [
    "def disk_area(radius):\n",
    "    return 3.14 * radius * radius"
   ]
  },
  {
   "cell_type": "code",
   "execution_count": null,
   "id": "0e3fddc5",
   "metadata": {},
   "outputs": [],
   "source": [
    "disk_area(1.5)"
   ]
  },
  {
   "cell_type": "markdown",
   "id": "e984541e",
   "metadata": {},
   "source": [
    "**Start of Note**\n",
    "By default, functions return `None`.\n",
    "**End of Note**\n",
    "\n",
    "**Start of Note**\n",
    "Note the syntax to define a function:\n",
    "\n",
    "- the `def` keyword;\n",
    "- is followed by the function's **name**, then\n",
    "- the arguments of the function are given between parentheses followed\n",
    "  by a colon.\n",
    "- the function body;\n",
    "- and `return object` for optionally returning values.\n",
    "**End of Note**\n",
    "\n",
    "## Parameters\n",
    "\n",
    "Mandatory parameters (positional arguments)"
   ]
  },
  {
   "cell_type": "code",
   "execution_count": null,
   "id": "b6166d4d",
   "metadata": {},
   "outputs": [],
   "source": []
  },
  {
   "cell_type": "code",
   "execution_count": null,
   "id": "6cb52252",
   "metadata": {},
   "outputs": [],
   "source": [
    "def double_it(x):\n",
    "    return x * 2"
   ]
  },
  {
   "cell_type": "code",
   "execution_count": null,
   "id": "09ba8d31",
   "metadata": {},
   "outputs": [],
   "source": [
    "double_it(3)"
   ]
  },
  {
   "cell_type": "code",
   "execution_count": null,
   "id": "f9febcb2",
   "metadata": {
    "tags": [
     "raises-exception"
    ]
   },
   "outputs": [],
   "source": [
    "double_it()"
   ]
  },
  {
   "cell_type": "markdown",
   "id": "f8331418",
   "metadata": {},
   "source": [
    "Optional parameters (keyword or named arguments)"
   ]
  },
  {
   "cell_type": "code",
   "execution_count": null,
   "id": "bddec4c5",
   "metadata": {},
   "outputs": [],
   "source": [
    "def double_it(x=2):\n",
    "    return x * 2"
   ]
  },
  {
   "cell_type": "code",
   "execution_count": null,
   "id": "5a2abfae",
   "metadata": {},
   "outputs": [],
   "source": [
    "double_it()"
   ]
  },
  {
   "cell_type": "code",
   "execution_count": null,
   "id": "5611bb2b",
   "metadata": {},
   "outputs": [],
   "source": [
    "double_it(3)"
   ]
  },
  {
   "cell_type": "markdown",
   "id": "529e2eef",
   "metadata": {},
   "source": [
    "Keyword arguments allow you to specify *default values*.\n",
    "\n",
    "**Start of warning**\n",
    "Default values are evaluated when the function is defined, not when\n",
    "it is called. This can be problematic when using mutable types (e.g.\n",
    "dictionary or list) and modifying them in the function body, since the\n",
    "modifications will be persistent across invocations of the function.\n",
    "\n",
    "Using an immutable type in a keyword argument:"
   ]
  },
  {
   "cell_type": "code",
   "execution_count": null,
   "id": "7fca74fa",
   "metadata": {},
   "outputs": [],
   "source": [
    "bigx = 10\n",
    "def double_it(x=bigx):\n",
    "    return x * 2"
   ]
  },
  {
   "cell_type": "code",
   "execution_count": null,
   "id": "29fb0f56",
   "metadata": {},
   "outputs": [],
   "source": [
    "bigx = 1e9  # Now really big\n",
    "double_it()"
   ]
  },
  {
   "cell_type": "markdown",
   "id": "fc4d1746",
   "metadata": {},
   "source": [
    "Using an mutable type in a keyword argument (and modifying it inside the\n",
    "function body):"
   ]
  },
  {
   "cell_type": "code",
   "execution_count": null,
   "id": "243be0de",
   "metadata": {},
   "outputs": [],
   "source": [
    "def add_to_dict(args={'a': 1, 'b': 2}):\n",
    "    for i in args.keys():\n",
    "        args[i] += 1\n",
    "    print(args)"
   ]
  },
  {
   "cell_type": "code",
   "execution_count": null,
   "id": "0ba175b9",
   "metadata": {},
   "outputs": [],
   "source": [
    "add_to_dict"
   ]
  },
  {
   "cell_type": "code",
   "execution_count": null,
   "id": "957158b0",
   "metadata": {},
   "outputs": [],
   "source": [
    "add_to_dict()"
   ]
  },
  {
   "cell_type": "code",
   "execution_count": null,
   "id": "bdfd2a9b",
   "metadata": {},
   "outputs": [],
   "source": [
    "add_to_dict()"
   ]
  },
  {
   "cell_type": "code",
   "execution_count": null,
   "id": "75fff685",
   "metadata": {
    "lines_to_next_cell": 0
   },
   "outputs": [],
   "source": [
    "add_to_dict()"
   ]
  },
  {
   "cell_type": "markdown",
   "id": "45313b54",
   "metadata": {},
   "source": [
    "**End of warning**\n",
    "\n",
    "**Start of note**\n",
    ":class: dropdown\n",
    "\n",
    "More involved example implementing python's slicing:"
   ]
  },
  {
   "cell_type": "code",
   "execution_count": null,
   "id": "a3816cf2",
   "metadata": {},
   "outputs": [],
   "source": [
    "def slicer(seq, start=None, stop=None, step=None):\n",
    "    \"\"\"Implement basic python slicing.\"\"\"\n",
    "    return seq[start:stop:step]"
   ]
  },
  {
   "cell_type": "code",
   "execution_count": null,
   "id": "1658f891",
   "metadata": {},
   "outputs": [],
   "source": [
    "rhyme = 'one fish, two fish, red fish, blue fish'.split()\n",
    "rhyme"
   ]
  },
  {
   "cell_type": "code",
   "execution_count": null,
   "id": "5d98004d",
   "metadata": {},
   "outputs": [],
   "source": [
    "slicer(rhyme)"
   ]
  },
  {
   "cell_type": "code",
   "execution_count": null,
   "id": "0698387d",
   "metadata": {},
   "outputs": [],
   "source": [
    "slicer(rhyme, step=2)"
   ]
  },
  {
   "cell_type": "code",
   "execution_count": null,
   "id": "6d18a428",
   "metadata": {},
   "outputs": [],
   "source": [
    "slicer(rhyme, 1, step=2)"
   ]
  },
  {
   "cell_type": "code",
   "execution_count": null,
   "id": "b396c96a",
   "metadata": {},
   "outputs": [],
   "source": [
    "slicer(rhyme, start=1, stop=4, step=2)"
   ]
  },
  {
   "cell_type": "markdown",
   "id": "07db148f",
   "metadata": {},
   "source": [
    "The order of the keyword arguments does not matter:"
   ]
  },
  {
   "cell_type": "code",
   "execution_count": null,
   "id": "5f111a74",
   "metadata": {},
   "outputs": [],
   "source": [
    "slicer(rhyme, step=2, start=1, stop=4)"
   ]
  },
  {
   "cell_type": "markdown",
   "id": "a7664d99",
   "metadata": {},
   "source": [
    "but it is good practice to use the same ordering as the function's\n",
    "definition.\n",
    "**End of note**\n",
    "\n",
    "*Keyword arguments* are a very convenient feature for defining functions\n",
    "with a variable number of arguments, especially when default values are\n",
    "to be used in most calls to the function.\n",
    "\n",
    "## Passing by value\n",
    "\n",
    "**Start of note**\n",
    ":class: dropdown\n",
    "\n",
    "Can you modify the value of a variable inside a function? Most languages\n",
    "(C, Java, ...) distinguish \"passing by value\" and \"passing by reference\".\n",
    "In Python, such a distinction is somewhat artificial, and it is a bit\n",
    "subtle whether your variables are going to be modified or not.\n",
    "Fortunately, there exist clear rules.\n",
    "\n",
    "Parameters to functions are references to objects, which are passed by\n",
    "value. When you pass a variable to a function, python passes the\n",
    "reference to the object to which the variable refers (the **value**).\n",
    "Not the variable itself.\n",
    "**End of note**\n",
    "\n",
    "If the **value** passed in a function is immutable, the function does not\n",
    "modify the caller's variable. If the **value** is mutable, the function\n",
    "may modify the caller's variable in-place:"
   ]
  },
  {
   "cell_type": "code",
   "execution_count": null,
   "id": "4c2fef3b",
   "metadata": {},
   "outputs": [],
   "source": [
    "def try_to_modify(x, y, z):\n",
    "    x = 23\n",
    "    y.append(42)\n",
    "    z = [99] # new reference\n",
    "    print(x)\n",
    "    print(y)\n",
    "    print(z)"
   ]
  },
  {
   "cell_type": "code",
   "execution_count": null,
   "id": "095d3ce6",
   "metadata": {},
   "outputs": [],
   "source": [
    "a = 77    # immutable variable\n",
    "b = [99]  # mutable variable\n",
    "c = [28]\n",
    "try_to_modify(a, b, c)"
   ]
  },
  {
   "cell_type": "code",
   "execution_count": null,
   "id": "2e71f88b",
   "metadata": {},
   "outputs": [],
   "source": [
    "print(a)"
   ]
  },
  {
   "cell_type": "code",
   "execution_count": null,
   "id": "edcca2a0",
   "metadata": {},
   "outputs": [],
   "source": [
    "print(b)"
   ]
  },
  {
   "cell_type": "code",
   "execution_count": null,
   "id": "a5226b05",
   "metadata": {},
   "outputs": [],
   "source": [
    "print(c)"
   ]
  },
  {
   "cell_type": "markdown",
   "id": "80a29e26",
   "metadata": {},
   "source": [
    "Functions have a local variable table called a *local namespace*.\n",
    "\n",
    "The variable `x` only exists within the function `try_to_modify`.\n",
    "\n",
    "## Global variables\n",
    "\n",
    "Variables declared outside the function can be referenced within the\n",
    "function:"
   ]
  },
  {
   "cell_type": "code",
   "execution_count": null,
   "id": "f821ff3c",
   "metadata": {},
   "outputs": [],
   "source": [
    "x = 5\n",
    "def addx(y):\n",
    "    return x + y"
   ]
  },
  {
   "cell_type": "code",
   "execution_count": null,
   "id": "8c976062",
   "metadata": {},
   "outputs": [],
   "source": [
    "addx(10)"
   ]
  },
  {
   "cell_type": "markdown",
   "id": "f212de00",
   "metadata": {},
   "source": [
    "But these \"global\" variables cannot be modified within the function,\n",
    "unless declared **global** in the function.\n",
    "\n",
    "This doesn't work:"
   ]
  },
  {
   "cell_type": "code",
   "execution_count": null,
   "id": "843a9ff2",
   "metadata": {},
   "outputs": [],
   "source": [
    "def setx(y):\n",
    "    x = y\n",
    "    print('x is %d' % x)"
   ]
  },
  {
   "cell_type": "code",
   "execution_count": null,
   "id": "4bf01dff",
   "metadata": {},
   "outputs": [],
   "source": [
    "setx(10)"
   ]
  },
  {
   "cell_type": "code",
   "execution_count": null,
   "id": "c3b12706",
   "metadata": {},
   "outputs": [],
   "source": [
    "x"
   ]
  },
  {
   "cell_type": "markdown",
   "id": "6d68852a",
   "metadata": {},
   "source": [
    "This works:"
   ]
  },
  {
   "cell_type": "code",
   "execution_count": null,
   "id": "1b65f9ab",
   "metadata": {},
   "outputs": [],
   "source": [
    "def setx(y):\n",
    "    global x\n",
    "    x = y\n",
    "    print('x is %d' % x)"
   ]
  },
  {
   "cell_type": "code",
   "execution_count": null,
   "id": "83afe614",
   "metadata": {},
   "outputs": [],
   "source": [
    "setx(10)"
   ]
  },
  {
   "cell_type": "code",
   "execution_count": null,
   "id": "d1d5455a",
   "metadata": {},
   "outputs": [],
   "source": [
    "x"
   ]
  },
  {
   "cell_type": "markdown",
   "id": "d247a1dc",
   "metadata": {},
   "source": [
    "## Variable number of parameters\n",
    "\n",
    "Special forms of parameters:\n",
    ": - `*args`: any number of positional arguments packed into a tuple\n",
    "  - `**kwargs`: any number of keyword arguments packed into a dictionary"
   ]
  },
  {
   "cell_type": "code",
   "execution_count": null,
   "id": "f1c2c3b6",
   "metadata": {},
   "outputs": [],
   "source": [
    "def variable_args(*args, **kwargs):\n",
    "    print('args is', args)\n",
    "    print('kwargs is', kwargs)"
   ]
  },
  {
   "cell_type": "code",
   "execution_count": null,
   "id": "5e8c42ec",
   "metadata": {},
   "outputs": [],
   "source": [
    "variable_args('one', 'two', x=1, y=2, z=3)"
   ]
  },
  {
   "cell_type": "markdown",
   "id": "cda2a33f",
   "metadata": {},
   "source": [
    "## Docstrings\n",
    "\n",
    "Documentation about what the function does and its parameters. General\n",
    "convention:"
   ]
  },
  {
   "cell_type": "code",
   "execution_count": null,
   "id": "93a3d125",
   "metadata": {},
   "outputs": [],
   "source": [
    "def funcname(params):\n",
    "    \"\"\"Concise one-line sentence describing the function.\n",
    "\n",
    "    Extended summary which can contain multiple paragraphs.\n",
    "    \"\"\"\n",
    "    # function body\n",
    "    pass"
   ]
  },
  {
   "cell_type": "code",
   "execution_count": null,
   "id": "1ceb6f7e",
   "metadata": {},
   "outputs": [],
   "source": [
    "# Also assessible in Jupyter / IPython with \"funcname?\"\n",
    "help(funcname)"
   ]
  },
  {
   "cell_type": "markdown",
   "id": "86fec398",
   "metadata": {},
   "source": [
    "**Start of Note**\n",
    "**Docstring guidelines**\n",
    "\n",
    "For the sake of standardization, the [Docstring\n",
    "Conventions](https://peps.python.org/pep-0257) webpage\n",
    "documents the semantics and conventions associated with Python\n",
    "docstrings.\n",
    "\n",
    "Also, the NumPy and SciPy modules have defined a precise standard\n",
    "for documenting scientific functions, that you may want to follow for\n",
    "your own functions, with a `Parameters` section, an `Examples`\n",
    "section, etc. See\n",
    "<https://numpydoc.readthedocs.io/en/latest/format.html#docstring-standard>\n",
    "**End of Note**\n",
    "\n",
    "## Functions are objects\n",
    "\n",
    "Functions are first-class objects, which means they can be:\n",
    ": - assigned to a variable\n",
    "  - an item in a list (or any collection)\n",
    "  - passed as an argument to another function."
   ]
  },
  {
   "cell_type": "code",
   "execution_count": null,
   "id": "89c3d981",
   "metadata": {},
   "outputs": [],
   "source": [
    "va = variable_args\n",
    "va('three', x=1, y=2)"
   ]
  },
  {
   "cell_type": "markdown",
   "id": "54450511",
   "metadata": {},
   "source": [
    "## Methods\n",
    "\n",
    "Methods are functions attached to objects. You've seen these in our\n",
    "examples on *lists*, *dictionaries*, *strings*, etc...\n",
    "\n",
    "## Exercises\n",
    "\n",
    "**Start of admonition: Exercise: Fibonacci sequence**\n",
    ":class: green\n",
    "\n",
    "Write a function that displays the `n` first terms of the Fibonacci\n",
    "sequence, defined by:\n",
    "\n",
    "$$\n",
    "\\left\\{     \\begin{array}{ll}         U_{0} = 0 \\\\         U_{1} = 1 \\\\         U_{n+2} = U_{n+1} + U_{n}     \\end{array} \\right.\n",
    "$$\n",
    "**End of admonition**\n",
    "\n",
    "<!---\n",
    ":ref:`fibonacci`\n",
    "-->\n",
    "**Start of admonition: Exercise: Quicksort**\n",
    ":class: green\n",
    "\n",
    "Implement the quicksort algorithm, as defined by wikipedia\n",
    "**End of admonition**\n",
    "\n",
    ".. parsed-literal::\n",
    "\n",
    "    function quicksort(array)\n",
    "        var list less, greater\n",
    "        if length(array) < 2\n",
    "            return array\n",
    "        select and remove a pivot value pivot from array\n",
    "        for each x in array\n",
    "            if x < pivot + 1 then append x to less\n",
    "            else append x to greater\n",
    "        return concatenate(quicksort(less), pivot, quicksort(greater))"
   ]
  }
 ],
 "metadata": {
  "jupytext": {
   "formats": "ipynb,Rmd"
  },
  "kernelspec": {
   "display_name": "Python (Pyodide)",
   "name": "python"
  }
 },
 "nbformat": 4,
 "nbformat_minor": 5
}
