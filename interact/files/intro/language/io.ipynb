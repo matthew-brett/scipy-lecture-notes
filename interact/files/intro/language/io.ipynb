{
 "cells": [
  {
   "cell_type": "markdown",
   "id": "29938a1b",
   "metadata": {},
   "source": [
    "# Input and Output\n",
    "\n",
    "To be exhaustive, here are some information about input and output in\n",
    "Python. Since we will use the NumPy methods to read and write files,\n",
    "**you may skip this chapter at first reading**.\n",
    "\n",
    "We write or read **strings** to/from files (other types must be converted to\n",
    "strings). To write in a file:"
   ]
  },
  {
   "cell_type": "code",
   "execution_count": null,
   "id": "d1a38b02",
   "metadata": {},
   "outputs": [],
   "source": [
    "f = open('workfile', 'w') # opens the workfile file\n",
    "type(f)"
   ]
  },
  {
   "cell_type": "code",
   "execution_count": null,
   "id": "2a3bd19d",
   "metadata": {},
   "outputs": [],
   "source": [
    "f.write('This is a test \\nand another test')\n",
    "f.close()"
   ]
  },
  {
   "cell_type": "markdown",
   "id": "c4322fde",
   "metadata": {},
   "source": [
    "To read from a file"
   ]
  },
  {
   "cell_type": "code",
   "execution_count": null,
   "id": "8be2b992",
   "metadata": {},
   "outputs": [],
   "source": [
    "f = open('workfile', 'r')\n",
    "s = f.read()\n",
    "print(s)"
   ]
  },
  {
   "cell_type": "code",
   "execution_count": null,
   "id": "4eb514cf",
   "metadata": {},
   "outputs": [],
   "source": [
    "f.close()"
   ]
  },
  {
   "cell_type": "markdown",
   "id": "bb0668d0",
   "metadata": {},
   "source": [
    ":::{admonition} See also\n",
    "\n",
    "For more details: <https://docs.python.org/3/tutorial/inputoutput.html>\n",
    ":::\n",
    "\n",
    "## Iterating over a file"
   ]
  },
  {
   "cell_type": "code",
   "execution_count": null,
   "id": "1fdef4c6",
   "metadata": {},
   "outputs": [],
   "source": [
    "f = open('workfile', 'r')\n",
    "\n",
    "for line in f:\n",
    "    print(line)"
   ]
  },
  {
   "cell_type": "code",
   "execution_count": null,
   "id": "be59a97b",
   "metadata": {},
   "outputs": [],
   "source": [
    "f.close()"
   ]
  },
  {
   "cell_type": "markdown",
   "id": "fa6ca114",
   "metadata": {},
   "source": [
    "### File modes\n",
    "\n",
    "- Read-only: `r`\n",
    "\n",
    "- Write-only: `w`\n",
    "\n",
    "  - Note: Create a new file or _overwrite_ existing file.\n",
    "\n",
    "- Append a file: `a`\n",
    "\n",
    "- Read and Write: `r+`\n",
    "\n",
    "- Binary mode: `b`\n",
    "\n",
    "  - Note: Use for binary files, especially on Windows."
   ]
  }
 ],
 "metadata": {
  "kernelspec": {
   "display_name": "Python (Pyodide)",
   "name": "python"
  }
 },
 "nbformat": 4,
 "nbformat_minor": 5
}
