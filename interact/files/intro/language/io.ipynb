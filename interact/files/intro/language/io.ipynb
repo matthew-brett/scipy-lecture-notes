{
 "cells": [
  {
   "cell_type": "markdown",
   "id": "13fea569",
   "metadata": {},
   "source": [
    "# Input and Output\n",
    "\n",
    "To be exhaustive, here are some information about input and output in\n",
    "Python. Since we will use the NumPy methods to read and write files,\n",
    "**you may skip this chapter at first reading**.\n",
    "\n",
    "We write or read **strings** to/from files (other types must be converted to\n",
    "strings). To write in a file:"
   ]
  },
  {
   "cell_type": "code",
   "execution_count": null,
   "id": "bfcf5294",
   "metadata": {},
   "outputs": [],
   "source": [
    "f = open('workfile', 'w') # opens the workfile file\n",
    "type(f)"
   ]
  },
  {
   "cell_type": "code",
   "execution_count": null,
   "id": "d40bb141",
   "metadata": {},
   "outputs": [],
   "source": [
    "f.write('This is a test \\nand another test')\n",
    "f.close()"
   ]
  },
  {
   "cell_type": "markdown",
   "id": "4e98ac1d",
   "metadata": {},
   "source": [
    "To read from a file"
   ]
  },
  {
   "cell_type": "code",
   "execution_count": null,
   "id": "f3ab5931",
   "metadata": {},
   "outputs": [],
   "source": [
    "f = open('workfile', 'r')\n",
    "s = f.read()\n",
    "print(s)"
   ]
  },
  {
   "cell_type": "code",
   "execution_count": null,
   "id": "59012a56",
   "metadata": {},
   "outputs": [],
   "source": [
    "f.close()"
   ]
  },
  {
   "cell_type": "markdown",
   "id": "e4c2d96f",
   "metadata": {},
   "source": [
    ":::{admonition} See also\n",
    "\n",
    "For more details: <https://docs.python.org/3/tutorial/inputoutput.html>\n",
    ":::\n",
    "\n",
    "## Iterating over a file"
   ]
  },
  {
   "cell_type": "code",
   "execution_count": null,
   "id": "6c76214c",
   "metadata": {},
   "outputs": [],
   "source": [
    "f = open('workfile', 'r')\n",
    "\n",
    "for line in f:\n",
    "    print(line)"
   ]
  },
  {
   "cell_type": "code",
   "execution_count": null,
   "id": "13b98d0b",
   "metadata": {},
   "outputs": [],
   "source": [
    "f.close()"
   ]
  },
  {
   "cell_type": "markdown",
   "id": "9ed84251",
   "metadata": {},
   "source": [
    "### File modes\n",
    "\n",
    "- Read-only: `r`\n",
    "\n",
    "- Write-only: `w`\n",
    "\n",
    "  - Note: Create a new file or _overwrite_ existing file.\n",
    "\n",
    "- Append a file: `a`\n",
    "\n",
    "- Read and Write: `r+`\n",
    "\n",
    "- Binary mode: `b`\n",
    "\n",
    "  - Note: Use for binary files, especially on Windows."
   ]
  }
 ],
 "metadata": {
  "kernelspec": {
   "display_name": "Python (Pyodide)",
   "name": "python"
  }
 },
 "nbformat": 4,
 "nbformat_minor": 5
}
