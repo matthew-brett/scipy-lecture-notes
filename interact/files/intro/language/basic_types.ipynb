{
 "cells": [
  {
   "cell_type": "markdown",
   "id": "1aee2bfd",
   "metadata": {},
   "source": [
    "# Basic types\n",
    "\n",
    "## Numerical types\n",
    "\n",
    "::: {note}\n",
    ":class: dropdown\n",
    "\n",
    "Python supports the following numerical, scalar types:\n",
    ":::"
   ]
  },
  {
   "cell_type": "markdown",
   "id": "56595f73",
   "metadata": {},
   "source": [
    "**Floats:**"
   ]
  },
  {
   "cell_type": "code",
   "execution_count": null,
   "id": "0989a50a",
   "metadata": {},
   "outputs": [],
   "source": [
    "c = 2.1\n",
    "type(c)"
   ]
  },
  {
   "cell_type": "markdown",
   "id": "f8f9ebc1",
   "metadata": {},
   "source": [
    "**Complex:**"
   ]
  },
  {
   "cell_type": "code",
   "execution_count": null,
   "id": "f1021f76",
   "metadata": {},
   "outputs": [],
   "source": [
    "a = 1.5 + 0.5j\n",
    "a.real"
   ]
  },
  {
   "cell_type": "code",
   "execution_count": null,
   "id": "921c186a",
   "metadata": {},
   "outputs": [],
   "source": [
    "a.imag"
   ]
  },
  {
   "cell_type": "code",
   "execution_count": null,
   "id": "a41ec7d2",
   "metadata": {},
   "outputs": [],
   "source": [
    "type(1. + 0j)"
   ]
  },
  {
   "cell_type": "markdown",
   "id": "673da50a",
   "metadata": {},
   "source": [
    "**Booleans:**"
   ]
  },
  {
   "cell_type": "code",
   "execution_count": null,
   "id": "552e4196",
   "metadata": {},
   "outputs": [],
   "source": [
    "3 > 4"
   ]
  },
  {
   "cell_type": "code",
   "execution_count": null,
   "id": "687cb616",
   "metadata": {},
   "outputs": [],
   "source": [
    "test = (3 > 4)\n",
    "test"
   ]
  },
  {
   "cell_type": "code",
   "execution_count": null,
   "id": "d44410eb",
   "metadata": {},
   "outputs": [],
   "source": [
    "type(test)"
   ]
  },
  {
   "cell_type": "markdown",
   "id": "189f9872",
   "metadata": {},
   "source": [
    "::: {note}\n",
    ":class: dropdown\n",
    "\n",
    "A Python shell can therefore replace your pocket calculator, with the\n",
    "basic arithmetic operations `+`, `-`, `*`, `/`, `%` (modulo)\n",
    "natively implemented\n",
    ":::"
   ]
  },
  {
   "cell_type": "code",
   "execution_count": null,
   "id": "41fa3bb8",
   "metadata": {},
   "outputs": [],
   "source": [
    "7 * 3."
   ]
  },
  {
   "cell_type": "code",
   "execution_count": null,
   "id": "8c9742f9",
   "metadata": {},
   "outputs": [],
   "source": [
    "2**10"
   ]
  },
  {
   "cell_type": "code",
   "execution_count": null,
   "id": "5c5d5e92",
   "metadata": {},
   "outputs": [],
   "source": [
    "8 % 3"
   ]
  },
  {
   "cell_type": "markdown",
   "id": "2f1c56ee",
   "metadata": {},
   "source": [
    "Type conversion (casting):"
   ]
  },
  {
   "cell_type": "code",
   "execution_count": null,
   "id": "ac8c12f4",
   "metadata": {},
   "outputs": [],
   "source": [
    "float(1)"
   ]
  },
  {
   "cell_type": "markdown",
   "id": "170415da",
   "metadata": {},
   "source": [
    "## Containers\n",
    "\n",
    "::: {note}\n",
    ":class: dropdown\n",
    "\n",
    "Python provides many efficient types of containers, in which\n",
    "collections of objects can be stored.\n",
    ":::\n",
    "\n",
    "### Lists\n",
    "\n",
    "::: {note}\n",
    ":class: dropdown\n",
    "\n",
    "A list is an ordered collection of objects, that may have different\n",
    "types. For example:\n",
    ":::"
   ]
  },
  {
   "cell_type": "code",
   "execution_count": null,
   "id": "8a991690",
   "metadata": {},
   "outputs": [],
   "source": [
    "colors = ['red', 'blue', 'green', 'black', 'white']\n",
    "type(colors)"
   ]
  },
  {
   "cell_type": "markdown",
   "id": "61e0a4e9",
   "metadata": {},
   "source": [
    "Indexing: accessing individual objects contained in the list:"
   ]
  },
  {
   "cell_type": "code",
   "execution_count": null,
   "id": "f3ee131b",
   "metadata": {},
   "outputs": [],
   "source": [
    "colors[2]"
   ]
  },
  {
   "cell_type": "markdown",
   "id": "0f3b6b72",
   "metadata": {},
   "source": [
    "Counting from the end with negative indices:"
   ]
  },
  {
   "cell_type": "code",
   "execution_count": null,
   "id": "acae0a21",
   "metadata": {},
   "outputs": [],
   "source": [
    "colors[-1]"
   ]
  },
  {
   "cell_type": "code",
   "execution_count": null,
   "id": "ef48aedc",
   "metadata": {},
   "outputs": [],
   "source": [
    "colors[-2]"
   ]
  },
  {
   "cell_type": "markdown",
   "id": "36bf4338",
   "metadata": {},
   "source": [
    ":::{warning}\n",
    "**Indexing starts at 0** (as in C), not at 1 (as in Fortran or Matlab)!\n",
    ":::\n",
    "\n",
    "Slicing: obtaining sublists of regularly-spaced elements:"
   ]
  },
  {
   "cell_type": "code",
   "execution_count": null,
   "id": "502ee4c9",
   "metadata": {},
   "outputs": [],
   "source": [
    "colors"
   ]
  },
  {
   "cell_type": "code",
   "execution_count": null,
   "id": "c98ba099",
   "metadata": {},
   "outputs": [],
   "source": [
    "colors[2:4]"
   ]
  },
  {
   "cell_type": "markdown",
   "id": "94faf111",
   "metadata": {},
   "source": [
    ":::{Warning}\n",
    "Note that `colors[start:stop]` contains the elements with indices `i`\n",
    "such as `start<= i < stop` (`i` ranging from `start` to\n",
    "`stop-1`). Therefore, `colors[start:stop]` has `(stop - start)` elements.\n",
    ":::\n",
    "\n",
    "**Slicing syntax**: `colors[start:stop:stride]`\n",
    "\n",
    "::: {note}\n",
    ":class: dropdown\n",
    "\n",
    "All slicing parameters are optional:"
   ]
  },
  {
   "cell_type": "code",
   "execution_count": null,
   "id": "df248b00",
   "metadata": {},
   "outputs": [],
   "source": [
    "colors"
   ]
  },
  {
   "cell_type": "code",
   "execution_count": null,
   "id": "56b8bd99",
   "metadata": {},
   "outputs": [],
   "source": [
    "colors[3:]"
   ]
  },
  {
   "cell_type": "code",
   "execution_count": null,
   "id": "4f76d0e1",
   "metadata": {},
   "outputs": [],
   "source": [
    "colors[:3]"
   ]
  },
  {
   "cell_type": "code",
   "execution_count": null,
   "id": "149d709f",
   "metadata": {},
   "outputs": [],
   "source": [
    "colors[::2]"
   ]
  },
  {
   "cell_type": "markdown",
   "id": "9417e88a",
   "metadata": {},
   "source": [
    ":::\n",
    "\n",
    "Lists are _mutable_ objects and can be modified:"
   ]
  },
  {
   "cell_type": "code",
   "execution_count": null,
   "id": "226006fe",
   "metadata": {},
   "outputs": [],
   "source": [
    "colors[0] = 'yellow'\n",
    "colors"
   ]
  },
  {
   "cell_type": "code",
   "execution_count": null,
   "id": "9e6d6007",
   "metadata": {},
   "outputs": [],
   "source": [
    "colors[2:4] = ['gray', 'purple']\n",
    "colors"
   ]
  },
  {
   "cell_type": "markdown",
   "id": "757f3e8d",
   "metadata": {},
   "source": [
    "::::{Note}\n",
    "The elements of a list may have different types:"
   ]
  },
  {
   "cell_type": "code",
   "execution_count": null,
   "id": "90de9386",
   "metadata": {},
   "outputs": [],
   "source": [
    "colors = [3, -200, 'hello']\n",
    "colors"
   ]
  },
  {
   "cell_type": "code",
   "execution_count": null,
   "id": "60a9fb4e",
   "metadata": {},
   "outputs": [],
   "source": [
    "colors[1], colors[2]"
   ]
  },
  {
   "cell_type": "markdown",
   "id": "8f40f97a",
   "metadata": {},
   "source": [
    "::: {note}\n",
    ":class: dropdown\n",
    "\n",
    "For collections of numerical data that all have the same type, it\n",
    "is often **more efficient** to use the `array` type provided by\n",
    "the `numpy` module. A NumPy array is a chunk of memory\n",
    "containing fixed-sized items. With NumPy arrays, operations on\n",
    "elements can be faster because elements are regularly spaced in\n",
    "memory and more operations are performed through specialized C\n",
    "functions instead of Python loops.\n",
    ":::\n",
    "::::\n",
    "\n",
    "::: {note}\n",
    ":class: dropdown\n",
    "\n",
    "Python offers a large panel of functions to modify lists, or query\n",
    "them. Here are a few examples; for more details, see\n",
    "<https://docs.python.org/3/tutorial/datastructures.html#more-on-lists>\n",
    ":::\n",
    "\n",
    "Add and remove elements:"
   ]
  },
  {
   "cell_type": "code",
   "execution_count": null,
   "id": "6b586c00",
   "metadata": {},
   "outputs": [],
   "source": [
    "colors = ['red', 'blue', 'green', 'black', 'white']\n",
    "colors.append('pink')\n",
    "colors"
   ]
  },
  {
   "cell_type": "code",
   "execution_count": null,
   "id": "a6c58848",
   "metadata": {},
   "outputs": [],
   "source": [
    "colors.pop() # removes and returns the last item"
   ]
  },
  {
   "cell_type": "code",
   "execution_count": null,
   "id": "8178b15b",
   "metadata": {},
   "outputs": [],
   "source": [
    "colors"
   ]
  },
  {
   "cell_type": "code",
   "execution_count": null,
   "id": "0a59bcf3",
   "metadata": {},
   "outputs": [],
   "source": [
    "colors.extend(['pink', 'purple']) # extend colors, in-place\n",
    "colors"
   ]
  },
  {
   "cell_type": "code",
   "execution_count": null,
   "id": "16e3c07e",
   "metadata": {},
   "outputs": [],
   "source": [
    "colors = colors[:-2]\n",
    "colors"
   ]
  },
  {
   "cell_type": "markdown",
   "id": "6620b44d",
   "metadata": {},
   "source": [
    "Reverse:"
   ]
  },
  {
   "cell_type": "code",
   "execution_count": null,
   "id": "e2f10125",
   "metadata": {},
   "outputs": [],
   "source": [
    "rcolors = colors[::-1]\n",
    "rcolors"
   ]
  },
  {
   "cell_type": "code",
   "execution_count": null,
   "id": "39c0d6b8",
   "metadata": {},
   "outputs": [],
   "source": [
    "rcolors2 = list(colors) # new object that is a copy of colors in a different memory area\n",
    "rcolors2"
   ]
  },
  {
   "cell_type": "code",
   "execution_count": null,
   "id": "d3070d22",
   "metadata": {},
   "outputs": [],
   "source": [
    "rcolors2.reverse() # in-place; reversing rcolors2 does not affect colors\n",
    "rcolors2"
   ]
  },
  {
   "cell_type": "markdown",
   "id": "11f4bfb2",
   "metadata": {},
   "source": [
    "Concatenate and repeat lists:"
   ]
  },
  {
   "cell_type": "code",
   "execution_count": null,
   "id": "0ca1152d",
   "metadata": {},
   "outputs": [],
   "source": [
    "rcolors + colors"
   ]
  },
  {
   "cell_type": "code",
   "execution_count": null,
   "id": "01a65658",
   "metadata": {},
   "outputs": [],
   "source": [
    "rcolors * 2"
   ]
  },
  {
   "cell_type": "markdown",
   "id": "6c67ba57",
   "metadata": {},
   "source": [
    "**Sort:**"
   ]
  },
  {
   "cell_type": "code",
   "execution_count": null,
   "id": "e6c1e6e3",
   "metadata": {},
   "outputs": [],
   "source": [
    "sorted(rcolors) # new object"
   ]
  },
  {
   "cell_type": "code",
   "execution_count": null,
   "id": "97675f2b",
   "metadata": {},
   "outputs": [],
   "source": [
    "rcolors"
   ]
  },
  {
   "cell_type": "code",
   "execution_count": null,
   "id": "6561fbad",
   "metadata": {},
   "outputs": [],
   "source": [
    "rcolors.sort()  # in-place\n",
    "rcolors"
   ]
  },
  {
   "cell_type": "markdown",
   "id": "67585f71",
   "metadata": {},
   "source": [
    ":::{admonition} Methods and Object-Oriented Programming\n",
    "The notation `rcolors.method()` (e.g. `rcolors.append(3)` and `colors.pop()`) is our\n",
    "first example of object-oriented programming (OOP). Being a `list`, the\n",
    "object `rcolors` owns the _method_ `function` that is called using the notation\n",
    "**.**. No further knowledge of OOP than understanding the notation **.** is\n",
    "necessary for going through this tutorial.\n",
    ":::\n",
    "\n",
    ":::{admonition} Discovering methods:\n",
    "Reminder: in Ipython: tab-completion (press tab)\n",
    "\n",
    "```python\n",
    "\n",
    "\n",
    "rcolors.<TAB>\n",
    "                 append()  count()   insert()  reverse()\n",
    "                 clear()   extend()  pop()     sort()\n",
    "                 copy()    index()   remove()\n",
    "```\n",
    "\n",
    ":::\n",
    "\n",
    "### Strings\n",
    "\n",
    "Different string syntaxes (simple, double or triple quotes):"
   ]
  },
  {
   "cell_type": "code",
   "execution_count": null,
   "id": "1c1df75f",
   "metadata": {},
   "outputs": [],
   "source": [
    "s = 'Hello, how are you?'\n",
    "s = \"Hi, what's up\"\n",
    "s = '''Hello,\n",
    "       how are you'''         # tripling the quotes allows the\n",
    "                              # string to span more than one line\n",
    "s = \"\"\"Hi,\n",
    "what's up?\"\"\""
   ]
  },
  {
   "cell_type": "markdown",
   "id": "f17afc4c",
   "metadata": {},
   "source": [
    "However, if you try to run this code:\n",
    "\n",
    "```text\n",
    "'Hi, what's up?'\n",
    "```\n",
    "\n",
    "— you will get a syntax error. (Try it.) (Why?)\n",
    "\n",
    "This syntax error can be avoided by enclosing the string in double quotes\n",
    "instead of single quotes. Alternatively, one can prepend a backslash to the\n",
    "second single quote. Other uses of the backslash are, e.g., the newline\n",
    "character `\\n` and the tab character `\\t`.\n",
    "\n",
    "::: {note}\n",
    ":class: dropdown\n",
    "\n",
    "Strings are collections like lists. Hence they can be indexed and\n",
    "sliced, using the same syntax and rules.\n",
    ":::\n",
    "\n",
    "Indexing:"
   ]
  },
  {
   "cell_type": "code",
   "execution_count": null,
   "id": "05d9c6a1",
   "metadata": {},
   "outputs": [],
   "source": [
    "a = \"hello\"\n",
    "a[0]"
   ]
  },
  {
   "cell_type": "code",
   "execution_count": null,
   "id": "bbed015d",
   "metadata": {},
   "outputs": [],
   "source": [
    "a[1]"
   ]
  },
  {
   "cell_type": "code",
   "execution_count": null,
   "id": "f823c7e0",
   "metadata": {},
   "outputs": [],
   "source": [
    "a[-1]"
   ]
  },
  {
   "cell_type": "markdown",
   "id": "6689fcaf",
   "metadata": {},
   "source": [
    "::: {note}\n",
    ":class: dropdown\n",
    "\n",
    "(Remember that negative indices correspond to counting from the right\n",
    "end.)\n",
    ":::\n",
    "\n",
    "Slicing:"
   ]
  },
  {
   "cell_type": "code",
   "execution_count": null,
   "id": "a0cb968b",
   "metadata": {},
   "outputs": [],
   "source": [
    "a = \"hello, world!\"\n",
    "a[3:6] # 3rd to 6th (excluded) elements: elements 3, 4, 5"
   ]
  },
  {
   "cell_type": "code",
   "execution_count": null,
   "id": "00101dce",
   "metadata": {},
   "outputs": [],
   "source": [
    "a[2:10:2] # Syntax: a[start:stop:step]"
   ]
  },
  {
   "cell_type": "code",
   "execution_count": null,
   "id": "7700ee90",
   "metadata": {},
   "outputs": [],
   "source": [
    "a[::3] # every three characters, from beginning to end"
   ]
  },
  {
   "cell_type": "markdown",
   "id": "1e24d771",
   "metadata": {},
   "source": [
    "::: {note}\n",
    ":class: dropdown\n",
    "\n",
    "Accents and special characters can also be handled as in Python 3\n",
    "strings consist of Unicode characters.\n",
    ":::\n",
    "\n",
    "A string is an **immutable object** and it is not possible to modify its\n",
    "contents. One may however create new strings from the original one."
   ]
  },
  {
   "cell_type": "code",
   "execution_count": null,
   "id": "a6e251a9",
   "metadata": {
    "tags": [
     "raises-exception"
    ]
   },
   "outputs": [],
   "source": [
    "a = \"hello, world!\"\n",
    "a[2] = 'z'"
   ]
  },
  {
   "cell_type": "code",
   "execution_count": null,
   "id": "3600ee86",
   "metadata": {},
   "outputs": [],
   "source": [
    "a.replace('l', 'z', 1)"
   ]
  },
  {
   "cell_type": "code",
   "execution_count": null,
   "id": "f2e8ebcb",
   "metadata": {},
   "outputs": [],
   "source": [
    "a.replace('l', 'z')"
   ]
  },
  {
   "cell_type": "markdown",
   "id": "c7695741",
   "metadata": {},
   "source": [
    "::: {note}\n",
    ":class: dropdown\n",
    "\n",
    "Strings have many useful methods, such as `a.replace` as seen\n",
    "above. Remember the `a.` object-oriented notation and use tab\n",
    "completion or `help(str)` to search for new methods.\n",
    ":::\n",
    "\n",
    ":::{admonition} See also\n",
    "\n",
    "Python offers advanced possibilities for manipulating strings,\n",
    "looking for patterns or formatting. The interested reader is referred to\n",
    "<https://docs.python.org/3/library/stdtypes.html#string-methods> and\n",
    "<https://docs.python.org/3/library/string.html#format-string-syntax>\n",
    ":::\n",
    "\n",
    "String formatting:"
   ]
  },
  {
   "cell_type": "code",
   "execution_count": null,
   "id": "80c0b32b",
   "metadata": {},
   "outputs": [],
   "source": [
    "'An integer: %i; a float: %f; another string: %s' % (1, 0.1, 'string') # with more values use tuple after %"
   ]
  },
  {
   "cell_type": "code",
   "execution_count": null,
   "id": "d36f999f",
   "metadata": {},
   "outputs": [],
   "source": [
    "i = 102\n",
    "filename = 'processing_of_dataset_%d.txt' % i   # no need for tuples with just one value after %\n",
    "filename"
   ]
  },
  {
   "cell_type": "markdown",
   "id": "9ff1a5e8",
   "metadata": {},
   "source": [
    "### Dictionaries\n",
    "\n",
    "::: {note}\n",
    ":class: dropdown\n",
    "\n",
    "A dictionary is basically an efficient table that **maps keys to\n",
    "values**.\n",
    ":::"
   ]
  },
  {
   "cell_type": "code",
   "execution_count": null,
   "id": "143d6028",
   "metadata": {},
   "outputs": [],
   "source": [
    "tel = {'emmanuelle': 5752, 'sebastian': 5578}\n",
    "tel['francis'] = 5915\n",
    "tel"
   ]
  },
  {
   "cell_type": "code",
   "execution_count": null,
   "id": "2fb1c8f1",
   "metadata": {},
   "outputs": [],
   "source": [
    "tel['sebastian']"
   ]
  },
  {
   "cell_type": "code",
   "execution_count": null,
   "id": "5d9a3f88",
   "metadata": {},
   "outputs": [],
   "source": [
    "tel.keys()"
   ]
  },
  {
   "cell_type": "code",
   "execution_count": null,
   "id": "3cd16870",
   "metadata": {},
   "outputs": [],
   "source": [
    "tel.values()"
   ]
  },
  {
   "cell_type": "code",
   "execution_count": null,
   "id": "0693a5c5",
   "metadata": {},
   "outputs": [],
   "source": [
    "'francis' in tel"
   ]
  },
  {
   "cell_type": "markdown",
   "id": "053bcc43",
   "metadata": {},
   "source": [
    "::: {note}\n",
    ":class: dropdown\n",
    "\n",
    "It can be used to conveniently store and retrieve values\n",
    "associated with a name (a string for a date, a name, etc.). See\n",
    "<https://docs.python.org/3/tutorial/datastructures.html#dictionaries>\n",
    "for more information.\n",
    "\n",
    "A dictionary can have keys (resp. values) with different types:"
   ]
  },
  {
   "cell_type": "code",
   "execution_count": null,
   "id": "24633637",
   "metadata": {},
   "outputs": [],
   "source": [
    "d = {'a':1, 'b':2, 3:'hello'}\n",
    "d"
   ]
  },
  {
   "cell_type": "markdown",
   "id": "d9c2e815",
   "metadata": {},
   "source": [
    ":::\n",
    "\n",
    "### More container types\n",
    "\n",
    "**Tuples**\n",
    "\n",
    "Tuples are basically immutable lists. The elements of a tuple are written\n",
    "between parentheses, or just separated by commas:"
   ]
  },
  {
   "cell_type": "code",
   "execution_count": null,
   "id": "edb4367b",
   "metadata": {},
   "outputs": [],
   "source": [
    "t = 12345, 54321, 'hello!'\n",
    "t[0]"
   ]
  },
  {
   "cell_type": "code",
   "execution_count": null,
   "id": "3492e81e",
   "metadata": {},
   "outputs": [],
   "source": [
    "t\n",
    "u = (0, 2)"
   ]
  },
  {
   "cell_type": "markdown",
   "id": "774c6c08",
   "metadata": {},
   "source": [
    "**Sets:** unordered, unique items:"
   ]
  },
  {
   "cell_type": "code",
   "execution_count": null,
   "id": "6f933fdd",
   "metadata": {},
   "outputs": [],
   "source": [
    "s = set(('a', 'b', 'c', 'a'))\n",
    "s"
   ]
  },
  {
   "cell_type": "code",
   "execution_count": null,
   "id": "aabf4a0d",
   "metadata": {},
   "outputs": [],
   "source": [
    "s.difference(('a', 'b'))"
   ]
  },
  {
   "cell_type": "markdown",
   "id": "309e2761",
   "metadata": {},
   "source": [
    "## Assignment operator\n",
    "\n",
    "::: {note}\n",
    ":class: dropdown\n",
    "\n",
    "[Python library reference](https://docs.python.org/3/reference/simple_stmts.html#assignment-statements)\n",
    "says:\n",
    "\n",
    "> Assignment statements are used to (re)bind names to values and to\n",
    "> modify attributes or items of mutable objects.\n",
    "\n",
    "In short, it works as follows (simple assignment):\n",
    "\n",
    "1. an expression on the right hand side is evaluated, the corresponding\n",
    "   object is created/obtained\n",
    "2. a **name** on the left hand side is assigned, or bound, to the\n",
    "   r.h.s. object\n",
    "   :::\n",
    "\n",
    "Things to note:\n",
    "\n",
    "- A single object can have several names bound to it:"
   ]
  },
  {
   "cell_type": "code",
   "execution_count": null,
   "id": "d916a5ba",
   "metadata": {},
   "outputs": [],
   "source": [
    "a = [1, 2, 3]\n",
    "b = a\n",
    "a"
   ]
  },
  {
   "cell_type": "code",
   "execution_count": null,
   "id": "ee2f7045",
   "metadata": {},
   "outputs": [],
   "source": [
    "b"
   ]
  },
  {
   "cell_type": "code",
   "execution_count": null,
   "id": "9d7c604e",
   "metadata": {},
   "outputs": [],
   "source": [
    "a is b"
   ]
  },
  {
   "cell_type": "code",
   "execution_count": null,
   "id": "bce48ca0",
   "metadata": {},
   "outputs": [],
   "source": [
    "b[1] = 'hi!'\n",
    "a"
   ]
  },
  {
   "cell_type": "markdown",
   "id": "3b63fb50",
   "metadata": {},
   "source": [
    "- to change a list _in place_, use indexing/slices:"
   ]
  },
  {
   "cell_type": "code",
   "execution_count": null,
   "id": "8543cab4",
   "metadata": {},
   "outputs": [],
   "source": [
    "a = [1, 2, 3]\n",
    "a"
   ]
  },
  {
   "cell_type": "code",
   "execution_count": null,
   "id": "bda35e4f",
   "metadata": {},
   "outputs": [],
   "source": [
    "a = ['a', 'b', 'c'] # Creates another object.\n",
    "a"
   ]
  },
  {
   "cell_type": "code",
   "execution_count": null,
   "id": "a440ea06",
   "metadata": {},
   "outputs": [],
   "source": [
    "id(a)"
   ]
  },
  {
   "cell_type": "code",
   "execution_count": null,
   "id": "5f69af77",
   "metadata": {},
   "outputs": [],
   "source": [
    "a[:] = [1, 2, 3] # Modifies object in place.\n",
    "a"
   ]
  },
  {
   "cell_type": "code",
   "execution_count": null,
   "id": "8a48f1ab",
   "metadata": {},
   "outputs": [],
   "source": [
    "id(a)"
   ]
  },
  {
   "cell_type": "markdown",
   "id": "783f4864",
   "metadata": {},
   "source": [
    "- the key concept here is **mutable vs. immutable**\n",
    "\n",
    "  - mutable objects can be changed in place\n",
    "  - immutable objects cannot be modified once created\n",
    "\n",
    ":::{admonition} See also\n",
    "\n",
    "A very good and detailed explanation of the above issues can\n",
    "be found in David M. Beazley's article [Types and Objects in Python](https://www.informit.com/articles/article.aspx?p=453682).\n",
    ":::"
   ]
  }
 ],
 "metadata": {
  "kernelspec": {
   "display_name": "Python (Pyodide)",
   "name": "python"
  }
 },
 "nbformat": 4,
 "nbformat_minor": 5
}
