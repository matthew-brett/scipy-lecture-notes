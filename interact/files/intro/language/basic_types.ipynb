{
 "cells": [
  {
   "cell_type": "markdown",
   "id": "8b06b775",
   "metadata": {},
   "source": [
    "# Basic types\n",
    "\n",
    "## Numerical types\n",
    "\n",
    "::: {note}\n",
    ":class: dropdown\n",
    "\n",
    "Python supports the following numerical, scalar types:\n",
    ":::"
   ]
  },
  {
   "cell_type": "markdown",
   "id": "0d9aa9cb",
   "metadata": {},
   "source": [
    "**Floats:**"
   ]
  },
  {
   "cell_type": "code",
   "execution_count": null,
   "id": "44bdc41d",
   "metadata": {},
   "outputs": [],
   "source": [
    "c = 2.1\n",
    "type(c)"
   ]
  },
  {
   "cell_type": "markdown",
   "id": "25a41a9b",
   "metadata": {},
   "source": [
    "**Complex:**"
   ]
  },
  {
   "cell_type": "code",
   "execution_count": null,
   "id": "c1ceffc3",
   "metadata": {},
   "outputs": [],
   "source": [
    "a = 1.5 + 0.5j\n",
    "a.real"
   ]
  },
  {
   "cell_type": "code",
   "execution_count": null,
   "id": "7990d152",
   "metadata": {},
   "outputs": [],
   "source": [
    "a.imag"
   ]
  },
  {
   "cell_type": "code",
   "execution_count": null,
   "id": "853c151c",
   "metadata": {},
   "outputs": [],
   "source": [
    "type(1. + 0j)"
   ]
  },
  {
   "cell_type": "markdown",
   "id": "7f0a4f17",
   "metadata": {},
   "source": [
    "**Booleans:**"
   ]
  },
  {
   "cell_type": "code",
   "execution_count": null,
   "id": "83f27185",
   "metadata": {},
   "outputs": [],
   "source": [
    "3 > 4"
   ]
  },
  {
   "cell_type": "code",
   "execution_count": null,
   "id": "e99abd2b",
   "metadata": {},
   "outputs": [],
   "source": [
    "test = (3 > 4)\n",
    "test"
   ]
  },
  {
   "cell_type": "code",
   "execution_count": null,
   "id": "2345fb85",
   "metadata": {},
   "outputs": [],
   "source": [
    "type(test)"
   ]
  },
  {
   "cell_type": "markdown",
   "id": "c25e7e09",
   "metadata": {},
   "source": [
    "::: {note}\n",
    ":class: dropdown\n",
    "\n",
    "A Python shell can therefore replace your pocket calculator, with the\n",
    "basic arithmetic operations `+`, `-`, `*`, `/`, `%` (modulo)\n",
    "natively implemented\n",
    ":::"
   ]
  },
  {
   "cell_type": "code",
   "execution_count": null,
   "id": "16c7bbfe",
   "metadata": {},
   "outputs": [],
   "source": [
    "7 * 3."
   ]
  },
  {
   "cell_type": "code",
   "execution_count": null,
   "id": "d789f61a",
   "metadata": {},
   "outputs": [],
   "source": [
    "2**10"
   ]
  },
  {
   "cell_type": "code",
   "execution_count": null,
   "id": "d342b87c",
   "metadata": {},
   "outputs": [],
   "source": [
    "8 % 3"
   ]
  },
  {
   "cell_type": "markdown",
   "id": "38ac1997",
   "metadata": {},
   "source": [
    "Type conversion (casting):"
   ]
  },
  {
   "cell_type": "code",
   "execution_count": null,
   "id": "ce9f7ac9",
   "metadata": {},
   "outputs": [],
   "source": [
    "float(1)"
   ]
  },
  {
   "cell_type": "markdown",
   "id": "a90c2e31",
   "metadata": {},
   "source": [
    "## Containers\n",
    "\n",
    "::: {note}\n",
    ":class: dropdown\n",
    "\n",
    "Python provides many efficient types of containers, in which\n",
    "collections of objects can be stored.\n",
    ":::\n",
    "\n",
    "### Lists\n",
    "\n",
    "::: {note}\n",
    ":class: dropdown\n",
    "\n",
    "A list is an ordered collection of objects, that may have different\n",
    "types. For example:\n",
    ":::"
   ]
  },
  {
   "cell_type": "code",
   "execution_count": null,
   "id": "838f4d97",
   "metadata": {},
   "outputs": [],
   "source": [
    "colors = ['red', 'blue', 'green', 'black', 'white']\n",
    "type(colors)"
   ]
  },
  {
   "cell_type": "markdown",
   "id": "14b2a515",
   "metadata": {},
   "source": [
    "Indexing: accessing individual objects contained in the list:"
   ]
  },
  {
   "cell_type": "code",
   "execution_count": null,
   "id": "0651173d",
   "metadata": {},
   "outputs": [],
   "source": [
    "colors[2]"
   ]
  },
  {
   "cell_type": "markdown",
   "id": "6a07192d",
   "metadata": {},
   "source": [
    "Counting from the end with negative indices:"
   ]
  },
  {
   "cell_type": "code",
   "execution_count": null,
   "id": "7c8dc4c3",
   "metadata": {},
   "outputs": [],
   "source": [
    "colors[-1]"
   ]
  },
  {
   "cell_type": "code",
   "execution_count": null,
   "id": "1f247bd7",
   "metadata": {},
   "outputs": [],
   "source": [
    "colors[-2]"
   ]
  },
  {
   "cell_type": "markdown",
   "id": "d68df8c9",
   "metadata": {},
   "source": [
    ":::{warning}\n",
    "**Indexing starts at 0** (as in C), not at 1 (as in Fortran or Matlab)!\n",
    ":::\n",
    "\n",
    "Slicing: obtaining sublists of regularly-spaced elements:"
   ]
  },
  {
   "cell_type": "code",
   "execution_count": null,
   "id": "66c482bb",
   "metadata": {},
   "outputs": [],
   "source": [
    "colors"
   ]
  },
  {
   "cell_type": "code",
   "execution_count": null,
   "id": "7d4ee739",
   "metadata": {},
   "outputs": [],
   "source": [
    "colors[2:4]"
   ]
  },
  {
   "cell_type": "markdown",
   "id": "ce7f1da8",
   "metadata": {},
   "source": [
    ":::{Warning}\n",
    "Note that `colors[start:stop]` contains the elements with indices `i`\n",
    "such as `start<= i < stop` (`i` ranging from `start` to\n",
    "`stop-1`). Therefore, `colors[start:stop]` has `(stop - start)` elements.\n",
    ":::\n",
    "\n",
    "**Slicing syntax**: `colors[start:stop:stride]`\n",
    "\n",
    "::: {note}\n",
    ":class: dropdown\n",
    "\n",
    "All slicing parameters are optional:"
   ]
  },
  {
   "cell_type": "code",
   "execution_count": null,
   "id": "584ca321",
   "metadata": {},
   "outputs": [],
   "source": [
    "colors"
   ]
  },
  {
   "cell_type": "code",
   "execution_count": null,
   "id": "0fb3962c",
   "metadata": {},
   "outputs": [],
   "source": [
    "colors[3:]"
   ]
  },
  {
   "cell_type": "code",
   "execution_count": null,
   "id": "8ff3e47d",
   "metadata": {},
   "outputs": [],
   "source": [
    "colors[:3]"
   ]
  },
  {
   "cell_type": "code",
   "execution_count": null,
   "id": "fba3dbce",
   "metadata": {},
   "outputs": [],
   "source": [
    "colors[::2]"
   ]
  },
  {
   "cell_type": "markdown",
   "id": "420b158e",
   "metadata": {},
   "source": [
    ":::\n",
    "\n",
    "Lists are _mutable_ objects and can be modified:"
   ]
  },
  {
   "cell_type": "code",
   "execution_count": null,
   "id": "18e717cd",
   "metadata": {},
   "outputs": [],
   "source": [
    "colors[0] = 'yellow'\n",
    "colors"
   ]
  },
  {
   "cell_type": "code",
   "execution_count": null,
   "id": "c9bb5803",
   "metadata": {},
   "outputs": [],
   "source": [
    "colors[2:4] = ['gray', 'purple']\n",
    "colors"
   ]
  },
  {
   "cell_type": "markdown",
   "id": "5ee5bc80",
   "metadata": {},
   "source": [
    "::::{Note}\n",
    "The elements of a list may have different types:"
   ]
  },
  {
   "cell_type": "code",
   "execution_count": null,
   "id": "6ce758cb",
   "metadata": {},
   "outputs": [],
   "source": [
    "colors = [3, -200, 'hello']\n",
    "colors"
   ]
  },
  {
   "cell_type": "code",
   "execution_count": null,
   "id": "b71dfd6c",
   "metadata": {},
   "outputs": [],
   "source": [
    "colors[1], colors[2]"
   ]
  },
  {
   "cell_type": "markdown",
   "id": "0edfb750",
   "metadata": {},
   "source": [
    "::: {note}\n",
    ":class: dropdown\n",
    "\n",
    "For collections of numerical data that all have the same type, it\n",
    "is often **more efficient** to use the `array` type provided by\n",
    "the `numpy` module. A NumPy array is a chunk of memory\n",
    "containing fixed-sized items. With NumPy arrays, operations on\n",
    "elements can be faster because elements are regularly spaced in\n",
    "memory and more operations are performed through specialized C\n",
    "functions instead of Python loops.\n",
    ":::\n",
    "::::\n",
    "\n",
    "::: {note}\n",
    ":class: dropdown\n",
    "\n",
    "Python offers a large panel of functions to modify lists, or query\n",
    "them. Here are a few examples; for more details, see\n",
    "<https://docs.python.org/3/tutorial/datastructures.html#more-on-lists>\n",
    ":::\n",
    "\n",
    "Add and remove elements:"
   ]
  },
  {
   "cell_type": "code",
   "execution_count": null,
   "id": "2bf27265",
   "metadata": {},
   "outputs": [],
   "source": [
    "colors = ['red', 'blue', 'green', 'black', 'white']\n",
    "colors.append('pink')\n",
    "colors"
   ]
  },
  {
   "cell_type": "code",
   "execution_count": null,
   "id": "027e87c1",
   "metadata": {},
   "outputs": [],
   "source": [
    "colors.pop() # removes and returns the last item"
   ]
  },
  {
   "cell_type": "code",
   "execution_count": null,
   "id": "bf9691d8",
   "metadata": {},
   "outputs": [],
   "source": [
    "colors"
   ]
  },
  {
   "cell_type": "code",
   "execution_count": null,
   "id": "ef01a9ed",
   "metadata": {},
   "outputs": [],
   "source": [
    "colors.extend(['pink', 'purple']) # extend colors, in-place\n",
    "colors"
   ]
  },
  {
   "cell_type": "code",
   "execution_count": null,
   "id": "1f56e525",
   "metadata": {},
   "outputs": [],
   "source": [
    "colors = colors[:-2]\n",
    "colors"
   ]
  },
  {
   "cell_type": "markdown",
   "id": "88d3b7e4",
   "metadata": {},
   "source": [
    "Reverse:"
   ]
  },
  {
   "cell_type": "code",
   "execution_count": null,
   "id": "a1b57473",
   "metadata": {},
   "outputs": [],
   "source": [
    "rcolors = colors[::-1]\n",
    "rcolors"
   ]
  },
  {
   "cell_type": "code",
   "execution_count": null,
   "id": "a8770d47",
   "metadata": {},
   "outputs": [],
   "source": [
    "rcolors2 = list(colors) # new object that is a copy of colors in a different memory area\n",
    "rcolors2"
   ]
  },
  {
   "cell_type": "code",
   "execution_count": null,
   "id": "a4770d19",
   "metadata": {},
   "outputs": [],
   "source": [
    "rcolors2.reverse() # in-place; reversing rcolors2 does not affect colors\n",
    "rcolors2"
   ]
  },
  {
   "cell_type": "markdown",
   "id": "ce629bf3",
   "metadata": {},
   "source": [
    "Concatenate and repeat lists:"
   ]
  },
  {
   "cell_type": "code",
   "execution_count": null,
   "id": "cba9258e",
   "metadata": {},
   "outputs": [],
   "source": [
    "rcolors + colors"
   ]
  },
  {
   "cell_type": "code",
   "execution_count": null,
   "id": "3d0e6858",
   "metadata": {},
   "outputs": [],
   "source": [
    "rcolors * 2"
   ]
  },
  {
   "cell_type": "markdown",
   "id": "3324dad9",
   "metadata": {},
   "source": [
    "**Sort:**"
   ]
  },
  {
   "cell_type": "code",
   "execution_count": null,
   "id": "0f2dff86",
   "metadata": {},
   "outputs": [],
   "source": [
    "sorted(rcolors) # new object"
   ]
  },
  {
   "cell_type": "code",
   "execution_count": null,
   "id": "03d6174e",
   "metadata": {},
   "outputs": [],
   "source": [
    "rcolors"
   ]
  },
  {
   "cell_type": "code",
   "execution_count": null,
   "id": "1a746aeb",
   "metadata": {},
   "outputs": [],
   "source": [
    "rcolors.sort()  # in-place\n",
    "rcolors"
   ]
  },
  {
   "cell_type": "markdown",
   "id": "31086160",
   "metadata": {},
   "source": [
    ":::{admonition} Methods and Object-Oriented Programming\n",
    "The notation `rcolors.method()` (e.g. `rcolors.append(3)` and `colors.pop()`) is our\n",
    "first example of object-oriented programming (OOP). Being a `list`, the\n",
    "object `rcolors` owns the _method_ `function` that is called using the notation\n",
    "**.**. No further knowledge of OOP than understanding the notation **.** is\n",
    "necessary for going through this tutorial.\n",
    ":::\n",
    "\n",
    ":::{admonition} Discovering methods:\n",
    "Reminder: in Ipython: tab-completion (press tab)\n",
    "\n",
    "```python\n",
    "\n",
    "\n",
    "rcolors.<TAB>\n",
    "                 append()  count()   insert()  reverse()\n",
    "                 clear()   extend()  pop()     sort()\n",
    "                 copy()    index()   remove()\n",
    "```\n",
    "\n",
    ":::\n",
    "\n",
    "### Strings\n",
    "\n",
    "Different string syntaxes (simple, double or triple quotes):"
   ]
  },
  {
   "cell_type": "code",
   "execution_count": null,
   "id": "cc0126e9",
   "metadata": {},
   "outputs": [],
   "source": [
    "s = 'Hello, how are you?'\n",
    "s = \"Hi, what's up\"\n",
    "s = '''Hello,\n",
    "       how are you'''         # tripling the quotes allows the\n",
    "                              # string to span more than one line\n",
    "s = \"\"\"Hi,\n",
    "what's up?\"\"\""
   ]
  },
  {
   "cell_type": "markdown",
   "id": "97c1cb12",
   "metadata": {},
   "source": [
    "However, if you try to run this code:\n",
    "\n",
    "```text\n",
    "'Hi, what's up?'\n",
    "```\n",
    "\n",
    "— you will get a syntax error. (Try it.) (Why?)\n",
    "\n",
    "This syntax error can be avoided by enclosing the string in double quotes\n",
    "instead of single quotes. Alternatively, one can prepend a backslash to the\n",
    "second single quote. Other uses of the backslash are, e.g., the newline\n",
    "character `\\n` and the tab character `\\t`.\n",
    "\n",
    "::: {note}\n",
    ":class: dropdown\n",
    "\n",
    "Strings are collections like lists. Hence they can be indexed and\n",
    "sliced, using the same syntax and rules.\n",
    ":::\n",
    "\n",
    "Indexing:"
   ]
  },
  {
   "cell_type": "code",
   "execution_count": null,
   "id": "21fb765f",
   "metadata": {},
   "outputs": [],
   "source": [
    "a = \"hello\"\n",
    "a[0]"
   ]
  },
  {
   "cell_type": "code",
   "execution_count": null,
   "id": "67f80c98",
   "metadata": {},
   "outputs": [],
   "source": [
    "a[1]"
   ]
  },
  {
   "cell_type": "code",
   "execution_count": null,
   "id": "e72a3473",
   "metadata": {},
   "outputs": [],
   "source": [
    "a[-1]"
   ]
  },
  {
   "cell_type": "markdown",
   "id": "93cf82cc",
   "metadata": {},
   "source": [
    "::: {note}\n",
    ":class: dropdown\n",
    "\n",
    "(Remember that negative indices correspond to counting from the right\n",
    "end.)\n",
    ":::\n",
    "\n",
    "Slicing:"
   ]
  },
  {
   "cell_type": "code",
   "execution_count": null,
   "id": "70b399c4",
   "metadata": {},
   "outputs": [],
   "source": [
    "a = \"hello, world!\"\n",
    "a[3:6] # 3rd to 6th (excluded) elements: elements 3, 4, 5"
   ]
  },
  {
   "cell_type": "code",
   "execution_count": null,
   "id": "d5bb5a4b",
   "metadata": {},
   "outputs": [],
   "source": [
    "a[2:10:2] # Syntax: a[start:stop:step]"
   ]
  },
  {
   "cell_type": "code",
   "execution_count": null,
   "id": "8ce15bdf",
   "metadata": {},
   "outputs": [],
   "source": [
    "a[::3] # every three characters, from beginning to end"
   ]
  },
  {
   "cell_type": "markdown",
   "id": "f3edc015",
   "metadata": {},
   "source": [
    "::: {note}\n",
    ":class: dropdown\n",
    "\n",
    "Accents and special characters can also be handled as in Python 3\n",
    "strings consist of Unicode characters.\n",
    ":::\n",
    "\n",
    "A string is an **immutable object** and it is not possible to modify its\n",
    "contents. One may however create new strings from the original one."
   ]
  },
  {
   "cell_type": "code",
   "execution_count": null,
   "id": "95d99f3a",
   "metadata": {
    "tags": [
     "raises-exception"
    ]
   },
   "outputs": [],
   "source": [
    "a = \"hello, world!\"\n",
    "a[2] = 'z'"
   ]
  },
  {
   "cell_type": "code",
   "execution_count": null,
   "id": "188af100",
   "metadata": {},
   "outputs": [],
   "source": [
    "a.replace('l', 'z', 1)"
   ]
  },
  {
   "cell_type": "code",
   "execution_count": null,
   "id": "60f2942e",
   "metadata": {},
   "outputs": [],
   "source": [
    "a.replace('l', 'z')"
   ]
  },
  {
   "cell_type": "markdown",
   "id": "5d06cf50",
   "metadata": {},
   "source": [
    "::: {note}\n",
    ":class: dropdown\n",
    "\n",
    "Strings have many useful methods, such as `a.replace` as seen\n",
    "above. Remember the `a.` object-oriented notation and use tab\n",
    "completion or `help(str)` to search for new methods.\n",
    ":::\n",
    "\n",
    ":::{admonition} See also\n",
    "\n",
    "Python offers advanced possibilities for manipulating strings,\n",
    "looking for patterns or formatting. The interested reader is referred to\n",
    "<https://docs.python.org/3/library/stdtypes.html#string-methods> and\n",
    "<https://docs.python.org/3/library/string.html#format-string-syntax>\n",
    ":::\n",
    "\n",
    "String formatting:"
   ]
  },
  {
   "cell_type": "code",
   "execution_count": null,
   "id": "9d194923",
   "metadata": {},
   "outputs": [],
   "source": [
    "'An integer: %i; a float: %f; another string: %s' % (1, 0.1, 'string') # with more values use tuple after %"
   ]
  },
  {
   "cell_type": "code",
   "execution_count": null,
   "id": "d5a2062a",
   "metadata": {},
   "outputs": [],
   "source": [
    "i = 102\n",
    "filename = 'processing_of_dataset_%d.txt' % i   # no need for tuples with just one value after %\n",
    "filename"
   ]
  },
  {
   "cell_type": "markdown",
   "id": "49db55f0",
   "metadata": {},
   "source": [
    "### Dictionaries\n",
    "\n",
    "::: {note}\n",
    ":class: dropdown\n",
    "\n",
    "A dictionary is basically an efficient table that **maps keys to\n",
    "values**.\n",
    ":::"
   ]
  },
  {
   "cell_type": "code",
   "execution_count": null,
   "id": "c62d5170",
   "metadata": {},
   "outputs": [],
   "source": [
    "tel = {'emmanuelle': 5752, 'sebastian': 5578}\n",
    "tel['francis'] = 5915\n",
    "tel"
   ]
  },
  {
   "cell_type": "code",
   "execution_count": null,
   "id": "a055ac26",
   "metadata": {},
   "outputs": [],
   "source": [
    "tel['sebastian']"
   ]
  },
  {
   "cell_type": "code",
   "execution_count": null,
   "id": "d46864d1",
   "metadata": {},
   "outputs": [],
   "source": [
    "tel.keys()"
   ]
  },
  {
   "cell_type": "code",
   "execution_count": null,
   "id": "660b0359",
   "metadata": {},
   "outputs": [],
   "source": [
    "tel.values()"
   ]
  },
  {
   "cell_type": "code",
   "execution_count": null,
   "id": "f0b87edd",
   "metadata": {},
   "outputs": [],
   "source": [
    "'francis' in tel"
   ]
  },
  {
   "cell_type": "markdown",
   "id": "cc7c4731",
   "metadata": {},
   "source": [
    "::: {note}\n",
    ":class: dropdown\n",
    "\n",
    "It can be used to conveniently store and retrieve values\n",
    "associated with a name (a string for a date, a name, etc.). See\n",
    "<https://docs.python.org/3/tutorial/datastructures.html#dictionaries>\n",
    "for more information.\n",
    "\n",
    "A dictionary can have keys (resp. values) with different types:"
   ]
  },
  {
   "cell_type": "code",
   "execution_count": null,
   "id": "8870edef",
   "metadata": {},
   "outputs": [],
   "source": [
    "d = {'a':1, 'b':2, 3:'hello'}\n",
    "d"
   ]
  },
  {
   "cell_type": "markdown",
   "id": "8b26a049",
   "metadata": {},
   "source": [
    ":::\n",
    "\n",
    "### More container types\n",
    "\n",
    "**Tuples**\n",
    "\n",
    "Tuples are basically immutable lists. The elements of a tuple are written\n",
    "between parentheses, or just separated by commas:"
   ]
  },
  {
   "cell_type": "code",
   "execution_count": null,
   "id": "c06689e0",
   "metadata": {},
   "outputs": [],
   "source": [
    "t = 12345, 54321, 'hello!'\n",
    "t[0]"
   ]
  },
  {
   "cell_type": "code",
   "execution_count": null,
   "id": "b8fc4ffd",
   "metadata": {},
   "outputs": [],
   "source": [
    "t\n",
    "u = (0, 2)"
   ]
  },
  {
   "cell_type": "markdown",
   "id": "f6537344",
   "metadata": {},
   "source": [
    "**Sets:** unordered, unique items:"
   ]
  },
  {
   "cell_type": "code",
   "execution_count": null,
   "id": "48a88d69",
   "metadata": {},
   "outputs": [],
   "source": [
    "s = set(('a', 'b', 'c', 'a'))\n",
    "s"
   ]
  },
  {
   "cell_type": "code",
   "execution_count": null,
   "id": "9844b9fa",
   "metadata": {},
   "outputs": [],
   "source": [
    "s.difference(('a', 'b'))"
   ]
  },
  {
   "cell_type": "markdown",
   "id": "f150a976",
   "metadata": {},
   "source": [
    "## Assignment operator\n",
    "\n",
    "::: {note}\n",
    ":class: dropdown\n",
    "\n",
    "[Python library reference](https://docs.python.org/3/reference/simple_stmts.html#assignment-statements)\n",
    "says:\n",
    "\n",
    "> Assignment statements are used to (re)bind names to values and to\n",
    "> modify attributes or items of mutable objects.\n",
    "\n",
    "In short, it works as follows (simple assignment):\n",
    "\n",
    "1. an expression on the right hand side is evaluated, the corresponding\n",
    "   object is created/obtained\n",
    "2. a **name** on the left hand side is assigned, or bound, to the\n",
    "   r.h.s. object\n",
    "   :::\n",
    "\n",
    "Things to note:\n",
    "\n",
    "- A single object can have several names bound to it:"
   ]
  },
  {
   "cell_type": "code",
   "execution_count": null,
   "id": "6afb032c",
   "metadata": {},
   "outputs": [],
   "source": [
    "a = [1, 2, 3]\n",
    "b = a\n",
    "a"
   ]
  },
  {
   "cell_type": "code",
   "execution_count": null,
   "id": "198b439b",
   "metadata": {},
   "outputs": [],
   "source": [
    "b"
   ]
  },
  {
   "cell_type": "code",
   "execution_count": null,
   "id": "afcac3d7",
   "metadata": {},
   "outputs": [],
   "source": [
    "a is b"
   ]
  },
  {
   "cell_type": "code",
   "execution_count": null,
   "id": "24194bb8",
   "metadata": {},
   "outputs": [],
   "source": [
    "b[1] = 'hi!'\n",
    "a"
   ]
  },
  {
   "cell_type": "markdown",
   "id": "273ba745",
   "metadata": {},
   "source": [
    "- to change a list _in place_, use indexing/slices:"
   ]
  },
  {
   "cell_type": "code",
   "execution_count": null,
   "id": "f5fdfebf",
   "metadata": {},
   "outputs": [],
   "source": [
    "a = [1, 2, 3]\n",
    "a"
   ]
  },
  {
   "cell_type": "code",
   "execution_count": null,
   "id": "9e49789f",
   "metadata": {},
   "outputs": [],
   "source": [
    "a = ['a', 'b', 'c'] # Creates another object.\n",
    "a"
   ]
  },
  {
   "cell_type": "code",
   "execution_count": null,
   "id": "a6524cac",
   "metadata": {},
   "outputs": [],
   "source": [
    "id(a)"
   ]
  },
  {
   "cell_type": "code",
   "execution_count": null,
   "id": "4108a900",
   "metadata": {},
   "outputs": [],
   "source": [
    "a[:] = [1, 2, 3] # Modifies object in place.\n",
    "a"
   ]
  },
  {
   "cell_type": "code",
   "execution_count": null,
   "id": "90b2e847",
   "metadata": {},
   "outputs": [],
   "source": [
    "id(a)"
   ]
  },
  {
   "cell_type": "markdown",
   "id": "432d02b6",
   "metadata": {},
   "source": [
    "- the key concept here is **mutable vs. immutable**\n",
    "\n",
    "  - mutable objects can be changed in place\n",
    "  - immutable objects cannot be modified once created\n",
    "\n",
    ":::{admonition} See also\n",
    "\n",
    "A very good and detailed explanation of the above issues can\n",
    "be found in David M. Beazley's article [Types and Objects in Python](https://www.informit.com/articles/article.aspx?p=453682).\n",
    ":::"
   ]
  }
 ],
 "metadata": {
  "kernelspec": {
   "display_name": "Python (Pyodide)",
   "name": "python"
  }
 },
 "nbformat": 4,
 "nbformat_minor": 5
}
