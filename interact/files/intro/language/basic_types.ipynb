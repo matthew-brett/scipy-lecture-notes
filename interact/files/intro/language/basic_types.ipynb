{
 "cells": [
  {
   "cell_type": "markdown",
   "id": "8c33bd78",
   "metadata": {},
   "source": [
    "# Basic types\n",
    "\n",
    "## Numerical types\n",
    "\n",
    "**Start of note**\n",
    ":class: dropdown\n",
    "\n",
    "Python supports the following numerical, scalar types:\n",
    "**End of note**"
   ]
  },
  {
   "cell_type": "markdown",
   "id": "3474c750",
   "metadata": {},
   "source": [
    "**Floats:**"
   ]
  },
  {
   "cell_type": "code",
   "execution_count": null,
   "id": "fd1efec8",
   "metadata": {},
   "outputs": [],
   "source": [
    "c = 2.1\n",
    "type(c)"
   ]
  },
  {
   "cell_type": "markdown",
   "id": "7fe07198",
   "metadata": {},
   "source": [
    "**Complex:**"
   ]
  },
  {
   "cell_type": "code",
   "execution_count": null,
   "id": "63bef933",
   "metadata": {},
   "outputs": [],
   "source": [
    "a = 1.5 + 0.5j\n",
    "a.real"
   ]
  },
  {
   "cell_type": "code",
   "execution_count": null,
   "id": "24709644",
   "metadata": {},
   "outputs": [],
   "source": [
    "a.imag"
   ]
  },
  {
   "cell_type": "code",
   "execution_count": null,
   "id": "82ecf2dc",
   "metadata": {},
   "outputs": [],
   "source": [
    "type(1. + 0j)"
   ]
  },
  {
   "cell_type": "markdown",
   "id": "297a3a18",
   "metadata": {},
   "source": [
    "**Booleans:**"
   ]
  },
  {
   "cell_type": "code",
   "execution_count": null,
   "id": "67a1e0a6",
   "metadata": {},
   "outputs": [],
   "source": [
    "3 > 4"
   ]
  },
  {
   "cell_type": "code",
   "execution_count": null,
   "id": "c7f157ea",
   "metadata": {},
   "outputs": [],
   "source": [
    "test = (3 > 4)\n",
    "test"
   ]
  },
  {
   "cell_type": "code",
   "execution_count": null,
   "id": "8f226cb1",
   "metadata": {},
   "outputs": [],
   "source": [
    "type(test)"
   ]
  },
  {
   "cell_type": "markdown",
   "id": "9c00b8bc",
   "metadata": {},
   "source": [
    "**Start of note**\n",
    ":class: dropdown\n",
    "\n",
    "A Python shell can therefore replace your pocket calculator, with the\n",
    "basic arithmetic operations `+`, `-`, `*`, `/`, `%` (modulo)\n",
    "natively implemented\n",
    "**End of note**"
   ]
  },
  {
   "cell_type": "code",
   "execution_count": null,
   "id": "4cdfb75e",
   "metadata": {},
   "outputs": [],
   "source": [
    "7 * 3."
   ]
  },
  {
   "cell_type": "code",
   "execution_count": null,
   "id": "c12f0d73",
   "metadata": {},
   "outputs": [],
   "source": [
    "2**10"
   ]
  },
  {
   "cell_type": "code",
   "execution_count": null,
   "id": "397a3595",
   "metadata": {},
   "outputs": [],
   "source": [
    "8 % 3"
   ]
  },
  {
   "cell_type": "markdown",
   "id": "ffc994ad",
   "metadata": {},
   "source": [
    "Type conversion (casting):"
   ]
  },
  {
   "cell_type": "code",
   "execution_count": null,
   "id": "10501c3c",
   "metadata": {},
   "outputs": [],
   "source": [
    "float(1)"
   ]
  },
  {
   "cell_type": "markdown",
   "id": "48bff9ec",
   "metadata": {},
   "source": [
    "## Containers\n",
    "\n",
    "**Start of note**\n",
    ":class: dropdown\n",
    "\n",
    "Python provides many efficient types of containers, in which\n",
    "collections of objects can be stored.\n",
    "**End of note**\n",
    "\n",
    "### Lists\n",
    "\n",
    "**Start of note**\n",
    ":class: dropdown\n",
    "\n",
    "A list is an ordered collection of objects, that may have different\n",
    "types. For example:\n",
    "**End of note**"
   ]
  },
  {
   "cell_type": "code",
   "execution_count": null,
   "id": "4f5ed3e8",
   "metadata": {},
   "outputs": [],
   "source": [
    "colors = ['red', 'blue', 'green', 'black', 'white']\n",
    "type(colors)"
   ]
  },
  {
   "cell_type": "markdown",
   "id": "99f527bf",
   "metadata": {},
   "source": [
    "Indexing: accessing individual objects contained in the list:"
   ]
  },
  {
   "cell_type": "code",
   "execution_count": null,
   "id": "edbdba67",
   "metadata": {},
   "outputs": [],
   "source": [
    "colors[2]"
   ]
  },
  {
   "cell_type": "markdown",
   "id": "00bfd55c",
   "metadata": {},
   "source": [
    "Counting from the end with negative indices:"
   ]
  },
  {
   "cell_type": "code",
   "execution_count": null,
   "id": "fa648a6e",
   "metadata": {},
   "outputs": [],
   "source": [
    "colors[-1]"
   ]
  },
  {
   "cell_type": "code",
   "execution_count": null,
   "id": "8f78c6f8",
   "metadata": {},
   "outputs": [],
   "source": [
    "colors[-2]"
   ]
  },
  {
   "cell_type": "markdown",
   "id": "3d351739",
   "metadata": {},
   "source": [
    "**Start of warning**\n",
    "**Indexing starts at 0** (as in C), not at 1 (as in Fortran or Matlab)!\n",
    "**End of warning**\n",
    "\n",
    "Slicing: obtaining sublists of regularly-spaced elements:"
   ]
  },
  {
   "cell_type": "code",
   "execution_count": null,
   "id": "9abc928a",
   "metadata": {},
   "outputs": [],
   "source": [
    "colors"
   ]
  },
  {
   "cell_type": "code",
   "execution_count": null,
   "id": "80eda30c",
   "metadata": {},
   "outputs": [],
   "source": [
    "colors[2:4]"
   ]
  },
  {
   "cell_type": "markdown",
   "id": "f78df662",
   "metadata": {},
   "source": [
    "**Start of Warning**\n",
    "Note that `colors[start:stop]` contains the elements with indices `i`\n",
    "such as `start<= i < stop` (`i` ranging from `start` to\n",
    "`stop-1`). Therefore, `colors[start:stop]` has `(stop - start)` elements.\n",
    "**End of Warning**\n",
    "\n",
    "**Slicing syntax**: `colors[start:stop:stride]`\n",
    "\n",
    "**Start of note**\n",
    ":class: dropdown\n",
    "\n",
    "All slicing parameters are optional:"
   ]
  },
  {
   "cell_type": "code",
   "execution_count": null,
   "id": "75aaa3ad",
   "metadata": {},
   "outputs": [],
   "source": [
    "colors"
   ]
  },
  {
   "cell_type": "code",
   "execution_count": null,
   "id": "c0a568ca",
   "metadata": {},
   "outputs": [],
   "source": [
    "colors[3:]"
   ]
  },
  {
   "cell_type": "code",
   "execution_count": null,
   "id": "498e5242",
   "metadata": {},
   "outputs": [],
   "source": [
    "colors[:3]"
   ]
  },
  {
   "cell_type": "code",
   "execution_count": null,
   "id": "c5acf11d",
   "metadata": {
    "lines_to_next_cell": 0
   },
   "outputs": [],
   "source": [
    "colors[::2]"
   ]
  },
  {
   "cell_type": "markdown",
   "id": "03cfcaf8",
   "metadata": {},
   "source": [
    "**End of note**\n",
    "\n",
    "Lists are *mutable* objects and can be modified:"
   ]
  },
  {
   "cell_type": "code",
   "execution_count": null,
   "id": "c08c70ba",
   "metadata": {},
   "outputs": [],
   "source": [
    "colors[0] = 'yellow'\n",
    "colors"
   ]
  },
  {
   "cell_type": "code",
   "execution_count": null,
   "id": "565f68c9",
   "metadata": {},
   "outputs": [],
   "source": [
    "colors[2:4] = ['gray', 'purple']\n",
    "colors"
   ]
  },
  {
   "cell_type": "markdown",
   "id": "1485a55c",
   "metadata": {},
   "source": [
    "**Start of Note**\n",
    "The elements of a list may have different types:"
   ]
  },
  {
   "cell_type": "code",
   "execution_count": null,
   "id": "c3a37c76",
   "metadata": {},
   "outputs": [],
   "source": [
    "colors = [3, -200, 'hello']\n",
    "colors"
   ]
  },
  {
   "cell_type": "code",
   "execution_count": null,
   "id": "47341161",
   "metadata": {},
   "outputs": [],
   "source": [
    "colors[1], colors[2]"
   ]
  },
  {
   "cell_type": "markdown",
   "id": "e6802672",
   "metadata": {},
   "source": [
    "**Start of note**\n",
    ":class: dropdown\n",
    "\n",
    "For collections of numerical data that all have the same type, it\n",
    "is often **more efficient** to use the `array` type provided by\n",
    "the `numpy` module. A NumPy array is a chunk of memory\n",
    "containing fixed-sized items. With NumPy arrays, operations on\n",
    "elements can be faster because elements are regularly spaced in\n",
    "memory and more operations are performed through specialized C\n",
    "functions instead of Python loops.\n",
    ":::\n",
    "**End of note**\n",
    "\n",
    "**Start of note**\n",
    ":class: dropdown\n",
    "\n",
    "Python offers a large panel of functions to modify lists, or query\n",
    "them. Here are a few examples; for more details, see\n",
    "<https://docs.python.org/3/tutorial/datastructures.html#more-on-lists>\n",
    "**End of note**\n",
    "\n",
    "Add and remove elements:"
   ]
  },
  {
   "cell_type": "code",
   "execution_count": null,
   "id": "24ad7e63",
   "metadata": {},
   "outputs": [],
   "source": [
    "colors = ['red', 'blue', 'green', 'black', 'white']\n",
    "colors.append('pink')\n",
    "colors"
   ]
  },
  {
   "cell_type": "code",
   "execution_count": null,
   "id": "e7e6c8d1",
   "metadata": {},
   "outputs": [],
   "source": [
    "colors.pop() # removes and returns the last item"
   ]
  },
  {
   "cell_type": "code",
   "execution_count": null,
   "id": "9c629bcb",
   "metadata": {},
   "outputs": [],
   "source": [
    "colors"
   ]
  },
  {
   "cell_type": "code",
   "execution_count": null,
   "id": "2beea513",
   "metadata": {},
   "outputs": [],
   "source": [
    "colors.extend(['pink', 'purple']) # extend colors, in-place\n",
    "colors"
   ]
  },
  {
   "cell_type": "code",
   "execution_count": null,
   "id": "4a22d519",
   "metadata": {},
   "outputs": [],
   "source": [
    "colors = colors[:-2]\n",
    "colors"
   ]
  },
  {
   "cell_type": "markdown",
   "id": "4cccdaac",
   "metadata": {},
   "source": [
    "Reverse:"
   ]
  },
  {
   "cell_type": "code",
   "execution_count": null,
   "id": "aecfef50",
   "metadata": {},
   "outputs": [],
   "source": [
    "rcolors = colors[::-1]\n",
    "rcolors"
   ]
  },
  {
   "cell_type": "code",
   "execution_count": null,
   "id": "794ed6d4",
   "metadata": {},
   "outputs": [],
   "source": [
    "rcolors2 = list(colors) # new object that is a copy of colors in a different memory area\n",
    "rcolors2"
   ]
  },
  {
   "cell_type": "code",
   "execution_count": null,
   "id": "521dd070",
   "metadata": {},
   "outputs": [],
   "source": [
    "rcolors2.reverse() # in-place; reversing rcolors2 does not affect colors\n",
    "rcolors2"
   ]
  },
  {
   "cell_type": "markdown",
   "id": "e0b0e13d",
   "metadata": {},
   "source": [
    "Concatenate and repeat lists:"
   ]
  },
  {
   "cell_type": "code",
   "execution_count": null,
   "id": "7132d83f",
   "metadata": {},
   "outputs": [],
   "source": [
    "rcolors + colors"
   ]
  },
  {
   "cell_type": "code",
   "execution_count": null,
   "id": "128465fa",
   "metadata": {},
   "outputs": [],
   "source": [
    "rcolors * 2"
   ]
  },
  {
   "cell_type": "markdown",
   "id": "cf7b6bed",
   "metadata": {},
   "source": [
    "**Sort:**"
   ]
  },
  {
   "cell_type": "code",
   "execution_count": null,
   "id": "0c055a4a",
   "metadata": {},
   "outputs": [],
   "source": [
    "sorted(rcolors) # new object"
   ]
  },
  {
   "cell_type": "code",
   "execution_count": null,
   "id": "02752256",
   "metadata": {},
   "outputs": [],
   "source": [
    "rcolors"
   ]
  },
  {
   "cell_type": "code",
   "execution_count": null,
   "id": "6fd7150f",
   "metadata": {},
   "outputs": [],
   "source": [
    "rcolors.sort()  # in-place\n",
    "rcolors"
   ]
  },
  {
   "cell_type": "markdown",
   "id": "0b08aff4",
   "metadata": {},
   "source": [
    "**Start of admonition: Methods and Object-Oriented Programming**\n",
    "The notation `rcolors.method()` (e.g. `rcolors.append(3)` and `colors.pop()`) is our\n",
    "first example of object-oriented programming (OOP). Being a `list`, the\n",
    "object `rcolors` owns the *method* `function` that is called using the notation\n",
    "**.**. No further knowledge of OOP than understanding the notation **.** is\n",
    "necessary for going through this tutorial.\n",
    "**End of admonition**\n",
    "\n",
    "**Start of admonition: Discovering methods:**\n",
    "Reminder: in Ipython: tab-completion (press tab)\n",
    "\n",
    "```python\n",
    "\n",
    "\n",
    "rcolors.<TAB>\n",
    "                 append()  count()   insert()  reverse()\n",
    "                 clear()   extend()  pop()     sort()\n",
    "                 copy()    index()   remove()\n",
    "```\n",
    "**End of admonition**\n",
    "\n",
    "### Strings\n",
    "\n",
    "Different string syntaxes (simple, double or triple quotes):"
   ]
  },
  {
   "cell_type": "code",
   "execution_count": null,
   "id": "9bc5cb00",
   "metadata": {},
   "outputs": [],
   "source": [
    "s = 'Hello, how are you?'\n",
    "s = \"Hi, what's up\"\n",
    "s = '''Hello,\n",
    "       how are you'''         # tripling the quotes allows the\n",
    "                              # string to span more than one line\n",
    "s = \"\"\"Hi,\n",
    "what's up?\"\"\""
   ]
  },
  {
   "cell_type": "markdown",
   "id": "7dea1b37",
   "metadata": {},
   "source": [
    "However, if you try to run this code:\n",
    "\n",
    "```text\n",
    "'Hi, what's up?'\n",
    "```\n",
    "\n",
    "— you will get a syntax error.  (Try it.)  (Why?)\n",
    "\n",
    "This syntax error can be avoided by enclosing the string in double quotes\n",
    "instead of single quotes. Alternatively, one can prepend a backslash to the\n",
    "second single quote. Other uses of the backslash are, e.g., the newline\n",
    "character `\\n` and the tab character `\\t`.\n",
    "\n",
    "**Start of note**\n",
    ":class: dropdown\n",
    "\n",
    "Strings are collections like lists. Hence they can be indexed and\n",
    "sliced, using the same syntax and rules.\n",
    "**End of note**\n",
    "\n",
    "Indexing:"
   ]
  },
  {
   "cell_type": "code",
   "execution_count": null,
   "id": "4e72d07e",
   "metadata": {},
   "outputs": [],
   "source": [
    "a = \"hello\"\n",
    "a[0]"
   ]
  },
  {
   "cell_type": "code",
   "execution_count": null,
   "id": "688f00de",
   "metadata": {},
   "outputs": [],
   "source": [
    "a[1]"
   ]
  },
  {
   "cell_type": "code",
   "execution_count": null,
   "id": "cb0b6ce2",
   "metadata": {},
   "outputs": [],
   "source": [
    "a[-1]"
   ]
  },
  {
   "cell_type": "markdown",
   "id": "c41d8691",
   "metadata": {},
   "source": [
    "**Start of note**\n",
    ":class: dropdown\n",
    "\n",
    "(Remember that negative indices correspond to counting from the right\n",
    "end.)\n",
    "**End of note**\n",
    "\n",
    "Slicing:"
   ]
  },
  {
   "cell_type": "code",
   "execution_count": null,
   "id": "6de55bf0",
   "metadata": {},
   "outputs": [],
   "source": [
    "a = \"hello, world!\"\n",
    "a[3:6] # 3rd to 6th (excluded) elements: elements 3, 4, 5"
   ]
  },
  {
   "cell_type": "code",
   "execution_count": null,
   "id": "ed8f58a3",
   "metadata": {},
   "outputs": [],
   "source": [
    "a[2:10:2] # Syntax: a[start:stop:step]"
   ]
  },
  {
   "cell_type": "code",
   "execution_count": null,
   "id": "df122c71",
   "metadata": {},
   "outputs": [],
   "source": [
    "a[::3] # every three characters, from beginning to end"
   ]
  },
  {
   "cell_type": "markdown",
   "id": "54eed81f",
   "metadata": {},
   "source": [
    "**Start of note**\n",
    ":class: dropdown\n",
    "\n",
    "Accents and special characters can also be handled as in Python 3\n",
    "strings consist of Unicode characters.\n",
    "**End of note**\n",
    "\n",
    "A string is an **immutable object** and it is not possible to modify its\n",
    "contents. One may however create new strings from the original one."
   ]
  },
  {
   "cell_type": "code",
   "execution_count": null,
   "id": "bbf51f5b",
   "metadata": {
    "tags": [
     "raises-exception"
    ]
   },
   "outputs": [],
   "source": [
    "a = \"hello, world!\"\n",
    "a[2] = 'z'"
   ]
  },
  {
   "cell_type": "code",
   "execution_count": null,
   "id": "99714b0c",
   "metadata": {},
   "outputs": [],
   "source": [
    "a.replace('l', 'z', 1)"
   ]
  },
  {
   "cell_type": "code",
   "execution_count": null,
   "id": "59fbe5e5",
   "metadata": {},
   "outputs": [],
   "source": [
    "a.replace('l', 'z')"
   ]
  },
  {
   "cell_type": "markdown",
   "id": "19cb084f",
   "metadata": {},
   "source": [
    "**Start of note**\n",
    ":class: dropdown\n",
    "\n",
    "Strings have many useful methods, such as `a.replace` as seen\n",
    "above. Remember the `a.` object-oriented notation and use tab\n",
    "completion or `help(str)` to search for new methods.\n",
    "**End of note**\n",
    "\n",
    "**Start of admonition: See also**\n",
    "\n",
    "Python offers advanced possibilities for manipulating strings,\n",
    "looking for patterns or formatting. The interested reader is referred to\n",
    "<https://docs.python.org/3/library/stdtypes.html#string-methods> and\n",
    "<https://docs.python.org/3/library/string.html#format-string-syntax>\n",
    "**End of admonition**\n",
    "\n",
    "String formatting:"
   ]
  },
  {
   "cell_type": "code",
   "execution_count": null,
   "id": "09eee3ce",
   "metadata": {},
   "outputs": [],
   "source": [
    "'An integer: %i; a float: %f; another string: %s' % (1, 0.1, 'string') # with more values use tuple after %"
   ]
  },
  {
   "cell_type": "code",
   "execution_count": null,
   "id": "63a60781",
   "metadata": {},
   "outputs": [],
   "source": [
    "i = 102\n",
    "filename = 'processing_of_dataset_%d.txt' % i   # no need for tuples with just one value after %\n",
    "filename"
   ]
  },
  {
   "cell_type": "markdown",
   "id": "7875f015",
   "metadata": {},
   "source": [
    "### Dictionaries\n",
    "\n",
    "**Start of note**\n",
    ":class: dropdown\n",
    "\n",
    "A dictionary is basically an efficient table that **maps keys to\n",
    "values**.\n",
    "**End of note**"
   ]
  },
  {
   "cell_type": "code",
   "execution_count": null,
   "id": "26efb63b",
   "metadata": {},
   "outputs": [],
   "source": [
    "tel = {'emmanuelle': 5752, 'sebastian': 5578}\n",
    "tel['francis'] = 5915\n",
    "tel"
   ]
  },
  {
   "cell_type": "code",
   "execution_count": null,
   "id": "20eb7041",
   "metadata": {},
   "outputs": [],
   "source": [
    "tel['sebastian']"
   ]
  },
  {
   "cell_type": "code",
   "execution_count": null,
   "id": "9bbca4ab",
   "metadata": {},
   "outputs": [],
   "source": [
    "tel.keys()"
   ]
  },
  {
   "cell_type": "code",
   "execution_count": null,
   "id": "6bec58cc",
   "metadata": {},
   "outputs": [],
   "source": [
    "tel.values()"
   ]
  },
  {
   "cell_type": "code",
   "execution_count": null,
   "id": "da52eaf3",
   "metadata": {},
   "outputs": [],
   "source": [
    "'francis' in tel"
   ]
  },
  {
   "cell_type": "markdown",
   "id": "aa5e688f",
   "metadata": {},
   "source": [
    "**Start of note**\n",
    ":class: dropdown\n",
    "\n",
    "It can be used to conveniently store and retrieve values\n",
    "associated with a name (a string for a date, a name, etc.). See\n",
    "<https://docs.python.org/3/tutorial/datastructures.html#dictionaries>\n",
    "for more information.\n",
    "\n",
    "A dictionary can have keys (resp. values) with different types:"
   ]
  },
  {
   "cell_type": "code",
   "execution_count": null,
   "id": "fa4d39c4",
   "metadata": {
    "lines_to_next_cell": 0
   },
   "outputs": [],
   "source": [
    "d = {'a':1, 'b':2, 3:'hello'}\n",
    "d"
   ]
  },
  {
   "cell_type": "markdown",
   "id": "446b137a",
   "metadata": {},
   "source": [
    "**End of note**\n",
    "\n",
    "### More container types\n",
    "\n",
    "**Tuples**\n",
    "\n",
    "Tuples are basically immutable lists. The elements of a tuple are written\n",
    "between parentheses, or just separated by commas:"
   ]
  },
  {
   "cell_type": "code",
   "execution_count": null,
   "id": "5dd2bf96",
   "metadata": {},
   "outputs": [],
   "source": [
    "t = 12345, 54321, 'hello!'\n",
    "t[0]"
   ]
  },
  {
   "cell_type": "code",
   "execution_count": null,
   "id": "1c0fa773",
   "metadata": {},
   "outputs": [],
   "source": [
    "t\n",
    "u = (0, 2)"
   ]
  },
  {
   "cell_type": "markdown",
   "id": "a9f7e53e",
   "metadata": {},
   "source": [
    "**Sets:** unordered, unique items:"
   ]
  },
  {
   "cell_type": "code",
   "execution_count": null,
   "id": "6a52f6c4",
   "metadata": {},
   "outputs": [],
   "source": [
    "s = set(('a', 'b', 'c', 'a'))\n",
    "s"
   ]
  },
  {
   "cell_type": "code",
   "execution_count": null,
   "id": "217b9abb",
   "metadata": {},
   "outputs": [],
   "source": [
    "s.difference(('a', 'b'))"
   ]
  },
  {
   "cell_type": "markdown",
   "id": "2f100f95",
   "metadata": {},
   "source": [
    "## Assignment operator\n",
    "\n",
    "**Start of note**\n",
    ":class: dropdown\n",
    "\n",
    "[Python library reference](https://docs.python.org/3/reference/simple_stmts.html#assignment-statements)\n",
    "says:\n",
    "\n",
    "> Assignment statements are used to (re)bind names to values and to\n",
    "> modify attributes or items of mutable objects.\n",
    "\n",
    "In short, it works as follows (simple assignment):\n",
    "\n",
    "1. an expression on the right hand side is evaluated, the corresponding\n",
    "   object is created/obtained\n",
    "2. a **name** on the left hand side is assigned, or bound, to the\n",
    "   r.h.s. object\n",
    "**End of note**\n",
    "\n",
    "Things to note:\n",
    "\n",
    "- A single object can have several names bound to it:"
   ]
  },
  {
   "cell_type": "code",
   "execution_count": null,
   "id": "dc3e7b00",
   "metadata": {},
   "outputs": [],
   "source": [
    "a = [1, 2, 3]\n",
    "b = a\n",
    "a"
   ]
  },
  {
   "cell_type": "code",
   "execution_count": null,
   "id": "5af3ec70",
   "metadata": {},
   "outputs": [],
   "source": [
    "b"
   ]
  },
  {
   "cell_type": "code",
   "execution_count": null,
   "id": "b1254311",
   "metadata": {},
   "outputs": [],
   "source": [
    "a is b"
   ]
  },
  {
   "cell_type": "code",
   "execution_count": null,
   "id": "11001631",
   "metadata": {},
   "outputs": [],
   "source": [
    "b[1] = 'hi!'\n",
    "a"
   ]
  },
  {
   "cell_type": "markdown",
   "id": "869acce7",
   "metadata": {},
   "source": [
    "- to change a list *in place*, use indexing/slices:"
   ]
  },
  {
   "cell_type": "code",
   "execution_count": null,
   "id": "21465552",
   "metadata": {},
   "outputs": [],
   "source": [
    "a = [1, 2, 3]\n",
    "a"
   ]
  },
  {
   "cell_type": "code",
   "execution_count": null,
   "id": "38b975da",
   "metadata": {},
   "outputs": [],
   "source": [
    "a = ['a', 'b', 'c'] # Creates another object.\n",
    "a"
   ]
  },
  {
   "cell_type": "code",
   "execution_count": null,
   "id": "a40afa05",
   "metadata": {},
   "outputs": [],
   "source": [
    "id(a)"
   ]
  },
  {
   "cell_type": "code",
   "execution_count": null,
   "id": "de00ee7b",
   "metadata": {},
   "outputs": [],
   "source": [
    "a[:] = [1, 2, 3] # Modifies object in place.\n",
    "a"
   ]
  },
  {
   "cell_type": "code",
   "execution_count": null,
   "id": "6c1ddf89",
   "metadata": {},
   "outputs": [],
   "source": [
    "id(a)"
   ]
  },
  {
   "cell_type": "markdown",
   "id": "c775a8d9",
   "metadata": {},
   "source": [
    "- the key concept here is **mutable vs. immutable**\n",
    "\n",
    "  - mutable objects can be changed in place\n",
    "  - immutable objects cannot be modified once created\n",
    "\n",
    "**Start of admonition: See also**\n",
    "\n",
    "A very good and detailed explanation of the above issues can\n",
    "be found in David M. Beazley's article [Types and Objects in Python](https://www.informit.com/articles/article.aspx?p=453682).\n",
    "**End of admonition**"
   ]
  }
 ],
 "metadata": {
  "jupytext": {
   "formats": "ipynb,Rmd"
  },
  "kernelspec": {
   "display_name": "Python (Pyodide)",
   "name": "python"
  }
 },
 "nbformat": 4,
 "nbformat_minor": 5
}
