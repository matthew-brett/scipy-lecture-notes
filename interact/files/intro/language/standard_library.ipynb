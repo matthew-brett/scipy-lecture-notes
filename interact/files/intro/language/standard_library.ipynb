{
 "cells": [
  {
   "cell_type": "markdown",
   "id": "1cfb9552",
   "metadata": {},
   "source": [
    "# Standard Library\n",
    "\n",
    ":::{note}\n",
    "Reference document for this section:\n",
    "\n",
    "- The Python Standard Library documentation:\n",
    "  <https://docs.python.org/3/library/index.html>\n",
    "- Python Essential Reference, David Beazley, Addison-Wesley Professional\n",
    "  :::\n",
    "\n",
    "## `os` module: operating system functionality\n",
    "\n",
    "_\"A portable way of using operating system dependent functionality.\"_\n",
    "\n",
    "### Directory and file manipulation\n",
    "\n",
    "Current directory:"
   ]
  },
  {
   "cell_type": "code",
   "execution_count": null,
   "id": "8ace8dfc",
   "metadata": {},
   "outputs": [],
   "source": [
    "import os\n",
    "os.getcwd()"
   ]
  },
  {
   "cell_type": "markdown",
   "id": "0c836ce9",
   "metadata": {},
   "source": [
    "List a directory:"
   ]
  },
  {
   "cell_type": "code",
   "execution_count": null,
   "id": "f611d402",
   "metadata": {},
   "outputs": [],
   "source": [
    "os.listdir(os.curdir)"
   ]
  },
  {
   "cell_type": "markdown",
   "id": "b590e103",
   "metadata": {},
   "source": [
    "Make a directory:"
   ]
  },
  {
   "cell_type": "code",
   "execution_count": null,
   "id": "e88343f8",
   "metadata": {},
   "outputs": [],
   "source": [
    "os.mkdir('junkdir')\n",
    "'junkdir' in os.listdir(os.curdir)"
   ]
  },
  {
   "cell_type": "markdown",
   "id": "be4dcc36",
   "metadata": {},
   "source": [
    "Rename the directory:"
   ]
  },
  {
   "cell_type": "code",
   "execution_count": null,
   "id": "fbf877f3",
   "metadata": {},
   "outputs": [],
   "source": [
    "os.rename('junkdir', 'foodir')\n",
    "'junkdir' in os.listdir(os.curdir)"
   ]
  },
  {
   "cell_type": "code",
   "execution_count": null,
   "id": "13ed148a",
   "metadata": {},
   "outputs": [],
   "source": [
    "'foodir' in os.listdir(os.curdir)"
   ]
  },
  {
   "cell_type": "code",
   "execution_count": null,
   "id": "6a4ce397",
   "metadata": {},
   "outputs": [],
   "source": [
    "os.rmdir('foodir')\n",
    "'foodir' in os.listdir(os.curdir)"
   ]
  },
  {
   "cell_type": "markdown",
   "id": "2a1d078d",
   "metadata": {},
   "source": [
    "Delete a file:"
   ]
  },
  {
   "cell_type": "code",
   "execution_count": null,
   "id": "36ba13f2",
   "metadata": {},
   "outputs": [],
   "source": [
    "fp = open('junk.txt', 'w')\n",
    "fp.close()\n",
    "'junk.txt' in os.listdir(os.curdir)"
   ]
  },
  {
   "cell_type": "code",
   "execution_count": null,
   "id": "b735945c",
   "metadata": {},
   "outputs": [],
   "source": [
    "os.remove('junk.txt')\n",
    "'junk.txt' in os.listdir(os.curdir)"
   ]
  },
  {
   "cell_type": "markdown",
   "id": "33282fea",
   "metadata": {},
   "source": [
    "### `os.path`: path manipulations\n",
    "\n",
    "`os.path` provides common operations on pathnames."
   ]
  },
  {
   "cell_type": "code",
   "execution_count": null,
   "id": "f8052775",
   "metadata": {},
   "outputs": [],
   "source": [
    "fp = open('junk.txt', 'w')\n",
    "fp.close()\n",
    "a = os.path.abspath('junk.txt')\n",
    "a"
   ]
  },
  {
   "cell_type": "code",
   "execution_count": null,
   "id": "0be5bcf8",
   "metadata": {},
   "outputs": [],
   "source": [
    "os.path.split(a)"
   ]
  },
  {
   "cell_type": "code",
   "execution_count": null,
   "id": "367a1500",
   "metadata": {},
   "outputs": [],
   "source": [
    "os.path.dirname(a)"
   ]
  },
  {
   "cell_type": "code",
   "execution_count": null,
   "id": "4c842de4",
   "metadata": {},
   "outputs": [],
   "source": [
    "os.path.basename(a)"
   ]
  },
  {
   "cell_type": "code",
   "execution_count": null,
   "id": "2b1a9f3a",
   "metadata": {},
   "outputs": [],
   "source": [
    "os.path.splitext(os.path.basename(a))"
   ]
  },
  {
   "cell_type": "code",
   "execution_count": null,
   "id": "d782edde",
   "metadata": {},
   "outputs": [],
   "source": [
    "os.path.exists('junk.txt')"
   ]
  },
  {
   "cell_type": "code",
   "execution_count": null,
   "id": "d483cab1",
   "metadata": {},
   "outputs": [],
   "source": [
    "os.path.isfile('junk.txt')"
   ]
  },
  {
   "cell_type": "code",
   "execution_count": null,
   "id": "b2dc585f",
   "metadata": {},
   "outputs": [],
   "source": [
    "os.path.isdir('junk.txt')"
   ]
  },
  {
   "cell_type": "code",
   "execution_count": null,
   "id": "f028348d",
   "metadata": {},
   "outputs": [],
   "source": [
    "os.path.expanduser('~/local')"
   ]
  },
  {
   "cell_type": "code",
   "execution_count": null,
   "id": "7a393930",
   "metadata": {},
   "outputs": [],
   "source": [
    "os.path.join(os.path.expanduser('~'), 'local', 'bin')"
   ]
  },
  {
   "cell_type": "markdown",
   "id": "3f87065b",
   "metadata": {},
   "source": [
    "### Running an external command"
   ]
  },
  {
   "cell_type": "code",
   "execution_count": null,
   "id": "6a126f8a",
   "metadata": {},
   "outputs": [],
   "source": [
    "return_code = os.system('ls')"
   ]
  },
  {
   "cell_type": "markdown",
   "id": "a711da16",
   "metadata": {},
   "source": [
    ":::{note}\n",
    "Alternative to `os.system`\n",
    "\n",
    "A noteworthy alternative to `os.system` is the [sh\n",
    "module](https://amoffat.github.com/sh/). Which provides much more convenient\n",
    "ways to obtain the output, error stream and exit code of the external command.\n",
    "\n",
    "```python\n",
    "import sh\n",
    "com = sh.ls()\n",
    "\n",
    "print(com)\n",
    "basic_types.md    exceptions.md   oop.md               standard_library.md\n",
    "control_flow.md   first_steps.md  python_language.md\n",
    "demo2.py          functions.md    python-logo.png\n",
    "demo.py           io.md           reusing_code.md\n",
    "\n",
    "type(com)\n",
    "Out[33]: str\n",
    "```\n",
    "\n",
    ":::\n",
    "\n",
    "### Walking a directory\n",
    "\n",
    "`os.path.walk` generates a list of filenames in a directory tree."
   ]
  },
  {
   "cell_type": "code",
   "execution_count": null,
   "id": "e821d77c",
   "metadata": {},
   "outputs": [],
   "source": [
    "for dirpath, dirnames, filenames in os.walk(os.curdir):\n",
    "    for fp in filenames:\n",
    "        print(os.path.abspath(fp))"
   ]
  },
  {
   "cell_type": "markdown",
   "id": "13473a11",
   "metadata": {},
   "source": [
    "### Environment variables:\n",
    "\n",
    "```ipython\n",
    "In [2]: os.environ.keys()\n",
    "Out[2]: KeysView(environ({'SHELL': '/bin/bash', 'PWD': '/home/mb312', 'LOGNAME': 'mb312', 'HOME': '/home/mb312', 'TERM': 'xterm', 'USER': 'mb312', 'SHLVL': '1', 'PATH': '/usr/local/sbin:/usr/local/bin:/usr/sbin:/usr/bin:/sbin:/bin:/usr/games:/usr/local/games:/snap/bin', 'MAIL': '/var/mail/mb312', '_': '/usr/bin/python3', 'LC_CTYPE': 'C.UTF-8'}))\n",
    "\n",
    "In [3]: os.environ['SHELL']\n",
    "Out[3]: '/bin/bash'\n",
    "```"
   ]
  },
  {
   "cell_type": "markdown",
   "id": "c5556f23",
   "metadata": {},
   "source": [
    "## `shutil`: high-level file operations\n",
    "\n",
    "The `shutil` provides useful file operations:\n",
    "\n",
    "- `shutil.rmtree`: Recursively delete a directory tree.\n",
    "- `shutil.move`: Recursively move a file or directory to another location.\n",
    "- `shutil.copy`: Copy files or directories.\n",
    "\n",
    "## `glob`: Pattern matching on files\n",
    "\n",
    "The `glob` module provides convenient file pattern matching.\n",
    "\n",
    "Find all files ending in `.txt`:"
   ]
  },
  {
   "cell_type": "code",
   "execution_count": null,
   "id": "49dc8bc6",
   "metadata": {},
   "outputs": [],
   "source": [
    "import glob\n",
    "glob.glob('*.txt')"
   ]
  },
  {
   "cell_type": "markdown",
   "id": "05321b7b",
   "metadata": {},
   "source": [
    "## `sys` module: system-specific information\n",
    "\n",
    "System-specific information related to the Python interpreter.\n",
    "\n",
    "**Which version of Python** are you running and where is it installed:"
   ]
  },
  {
   "cell_type": "code",
   "execution_count": null,
   "id": "19426102",
   "metadata": {},
   "outputs": [],
   "source": [
    "import sys\n",
    "sys.platform"
   ]
  },
  {
   "cell_type": "code",
   "execution_count": null,
   "id": "2878bfff",
   "metadata": {},
   "outputs": [],
   "source": [
    "sys.version"
   ]
  },
  {
   "cell_type": "code",
   "execution_count": null,
   "id": "2b072a88",
   "metadata": {},
   "outputs": [],
   "source": [
    "sys.prefix"
   ]
  },
  {
   "cell_type": "markdown",
   "id": "c2c5d349",
   "metadata": {},
   "source": [
    "`sys.argv` gives you a **list of command line arguments** passed to a Python\n",
    "script. It is useful when you call as script with e.g. `python my_script.py some arguments`. Inside the `my_arguments.py` script, you can get the passed arguments (here ['some', 'arguments']) with `sys.argv`.\n",
    "\n",
    "`sys.path` is a list of strings that specifies the search path for\n",
    "modules. Initialized from `PYTHONPATH`:"
   ]
  },
  {
   "cell_type": "code",
   "execution_count": null,
   "id": "a5d6b54e",
   "metadata": {},
   "outputs": [],
   "source": [
    "sys.path"
   ]
  },
  {
   "cell_type": "markdown",
   "id": "ff4f33f4",
   "metadata": {},
   "source": [
    "## `pickle`: easy persistence\n",
    "\n",
    "Useful to store arbitrary objects to a file. Not safe or fast!"
   ]
  },
  {
   "cell_type": "code",
   "execution_count": null,
   "id": "14f8ca3c",
   "metadata": {},
   "outputs": [],
   "source": [
    "import pickle\n",
    "l = [1, None, 'Stan']\n",
    "with open('test.pkl', 'wb') as file:\n",
    "    pickle.dump(l, file)"
   ]
  },
  {
   "cell_type": "code",
   "execution_count": null,
   "id": "dbde8533",
   "metadata": {},
   "outputs": [],
   "source": [
    "with open('test.pkl', 'rb') as file:\n",
    "    out = pickle.load(file)"
   ]
  },
  {
   "cell_type": "code",
   "execution_count": null,
   "id": "1c2f26a2",
   "metadata": {},
   "outputs": [],
   "source": [
    "out"
   ]
  },
  {
   "cell_type": "markdown",
   "id": "3f18eb69",
   "metadata": {},
   "source": [
    "## Exercises\n",
    "\n",
    "**Start of exercise**\n",
    "\n",
    "Write a function that will load the column of numbers in `data.txt` and\n",
    "calculate the min, max and sum values. Use no modules except those in the\n",
    "standard library; specifically, do not use Numpy.\n",
    "\n",
    "{download}`data.txt`:\n",
    "\n",
    "::: {literalinclude} data.txt\n",
    "\n",
    ":::\n",
    "\n",
    "**End of exercise**\n",
    "\n",
    "\n",
    "**See the [corresponding page](/scipy-lecture-notes/intro/language/standard_library.html) for solution**\n",
    "\n",
    "Implement a _script_ that takes a directory name as argument, and\n",
    "returns the list of '.py' files, sorted by name length.\n",
    "\n",
    "**Hint:** try to understand the docstring of list.sort\n",
    "\n",
    "**End of exercise**\n",
    "\n",
    "\n",
    "**See the [corresponding page](/scipy-lecture-notes/intro/language/standard_library.html) for solution**\n",
    "\n",
    "Write a program to search your `PYTHONPATH` for the module `site.py`.\n",
    "\n",
    "**End of exercise**\n",
    "\n",
    "\n",
    "**See the [corresponding page](/scipy-lecture-notes/intro/language/standard_library.html) for solution**"
   ]
  }
 ],
 "metadata": {
  "kernelspec": {
   "display_name": "Python (Pyodide)",
   "name": "python"
  }
 },
 "nbformat": 4,
 "nbformat_minor": 5
}
