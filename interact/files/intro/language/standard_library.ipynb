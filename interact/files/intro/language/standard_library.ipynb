{
 "cells": [
  {
   "cell_type": "markdown",
   "id": "7e944256",
   "metadata": {},
   "source": [
    "# Standard Library\n",
    "\n",
    "**Start of note**\n",
    "Reference document for this section:\n",
    "\n",
    "- The Python Standard Library documentation:\n",
    "  <https://docs.python.org/3/library/index.html>\n",
    "- Python Essential Reference, David Beazley, Addison-Wesley Professional\n",
    "**End of note**\n",
    "\n",
    "## `os` module: operating system functionality\n",
    "\n",
    "*\"A portable way of using operating system dependent functionality.\"*\n",
    "\n",
    "### Directory and file manipulation\n",
    "\n",
    "Current directory:"
   ]
  },
  {
   "cell_type": "code",
   "execution_count": null,
   "id": "f41e1410",
   "metadata": {},
   "outputs": [],
   "source": [
    "import os\n",
    "os.getcwd()"
   ]
  },
  {
   "cell_type": "markdown",
   "id": "ba3bde3d",
   "metadata": {},
   "source": [
    "List a directory:"
   ]
  },
  {
   "cell_type": "code",
   "execution_count": null,
   "id": "b6e89285",
   "metadata": {},
   "outputs": [],
   "source": [
    "os.listdir(os.curdir)"
   ]
  },
  {
   "cell_type": "markdown",
   "id": "780f26c5",
   "metadata": {},
   "source": [
    "Make a directory:"
   ]
  },
  {
   "cell_type": "code",
   "execution_count": null,
   "id": "f5a6899f",
   "metadata": {},
   "outputs": [],
   "source": [
    "os.mkdir('junkdir')\n",
    "'junkdir' in os.listdir(os.curdir)"
   ]
  },
  {
   "cell_type": "markdown",
   "id": "7484a8a7",
   "metadata": {},
   "source": [
    "Rename the directory:"
   ]
  },
  {
   "cell_type": "code",
   "execution_count": null,
   "id": "332d7cde",
   "metadata": {},
   "outputs": [],
   "source": [
    "os.rename('junkdir', 'foodir')\n",
    "'junkdir' in os.listdir(os.curdir)"
   ]
  },
  {
   "cell_type": "code",
   "execution_count": null,
   "id": "1853d7dc",
   "metadata": {},
   "outputs": [],
   "source": [
    "'foodir' in os.listdir(os.curdir)"
   ]
  },
  {
   "cell_type": "code",
   "execution_count": null,
   "id": "8becb089",
   "metadata": {},
   "outputs": [],
   "source": [
    "os.rmdir('foodir')\n",
    "'foodir' in os.listdir(os.curdir)"
   ]
  },
  {
   "cell_type": "markdown",
   "id": "47bb764a",
   "metadata": {},
   "source": [
    "Delete a file:"
   ]
  },
  {
   "cell_type": "code",
   "execution_count": null,
   "id": "5c0ecb53",
   "metadata": {},
   "outputs": [],
   "source": [
    "fp = open('junk.txt', 'w')\n",
    "fp.close()\n",
    "'junk.txt' in os.listdir(os.curdir)"
   ]
  },
  {
   "cell_type": "code",
   "execution_count": null,
   "id": "1315aaee",
   "metadata": {},
   "outputs": [],
   "source": [
    "os.remove('junk.txt')\n",
    "'junk.txt' in os.listdir(os.curdir)"
   ]
  },
  {
   "cell_type": "markdown",
   "id": "4c1ef989",
   "metadata": {},
   "source": [
    "### `os.path`: path manipulations\n",
    "\n",
    "`os.path` provides common operations on pathnames."
   ]
  },
  {
   "cell_type": "code",
   "execution_count": null,
   "id": "57fd8d80",
   "metadata": {},
   "outputs": [],
   "source": [
    "fp = open('junk.txt', 'w')\n",
    "fp.close()\n",
    "a = os.path.abspath('junk.txt')\n",
    "a"
   ]
  },
  {
   "cell_type": "code",
   "execution_count": null,
   "id": "54b6773b",
   "metadata": {},
   "outputs": [],
   "source": [
    "os.path.split(a)"
   ]
  },
  {
   "cell_type": "code",
   "execution_count": null,
   "id": "90bdb7f8",
   "metadata": {},
   "outputs": [],
   "source": [
    "os.path.dirname(a)"
   ]
  },
  {
   "cell_type": "code",
   "execution_count": null,
   "id": "2a90f579",
   "metadata": {},
   "outputs": [],
   "source": [
    "os.path.basename(a)"
   ]
  },
  {
   "cell_type": "code",
   "execution_count": null,
   "id": "46e6810f",
   "metadata": {},
   "outputs": [],
   "source": [
    "os.path.splitext(os.path.basename(a))"
   ]
  },
  {
   "cell_type": "code",
   "execution_count": null,
   "id": "43872b56",
   "metadata": {},
   "outputs": [],
   "source": [
    "os.path.exists('junk.txt')"
   ]
  },
  {
   "cell_type": "code",
   "execution_count": null,
   "id": "d97ea6ba",
   "metadata": {},
   "outputs": [],
   "source": [
    "os.path.isfile('junk.txt')"
   ]
  },
  {
   "cell_type": "code",
   "execution_count": null,
   "id": "6aea5e30",
   "metadata": {},
   "outputs": [],
   "source": [
    "os.path.isdir('junk.txt')"
   ]
  },
  {
   "cell_type": "code",
   "execution_count": null,
   "id": "6bc1a597",
   "metadata": {},
   "outputs": [],
   "source": [
    "os.path.expanduser('~/local')"
   ]
  },
  {
   "cell_type": "code",
   "execution_count": null,
   "id": "0ca5ae2c",
   "metadata": {},
   "outputs": [],
   "source": [
    "os.path.join(os.path.expanduser('~'), 'local', 'bin')"
   ]
  },
  {
   "cell_type": "markdown",
   "id": "d28c0a30",
   "metadata": {},
   "source": [
    "### Running an external command"
   ]
  },
  {
   "cell_type": "code",
   "execution_count": null,
   "id": "4dd92bbf",
   "metadata": {},
   "outputs": [],
   "source": [
    "return_code = os.system('ls')"
   ]
  },
  {
   "cell_type": "markdown",
   "id": "39b1d16b",
   "metadata": {},
   "source": [
    "**Start of note**\n",
    "Alternative to `os.system`\n",
    "\n",
    "A noteworthy alternative to `os.system` is the [sh\n",
    "module](https://amoffat.github.com/sh/). Which provides much more convenient\n",
    "ways to obtain the output, error stream and exit code of the external command.\n",
    "\n",
    "```python\n",
    "import sh\n",
    "com = sh.ls()\n",
    "\n",
    "print(com)\n",
    "basic_types.Rmd   exceptions.Rmd   oop.Rmd              standard_library.Rmd\n",
    "control_flow.Rmd  first_steps.Rmd  python_language.Rmd\n",
    "demo2.py          functions.Rmd    python-logo.png\n",
    "demo.py           io.Rmd           reusing_code.Rmd\n",
    "\n",
    "type(com)\n",
    "Out[33]: str\n",
    "```\n",
    "**End of note**\n",
    "\n",
    "### Walking a directory\n",
    "\n",
    "`os.path.walk` generates a list of filenames in a directory tree."
   ]
  },
  {
   "cell_type": "code",
   "execution_count": null,
   "id": "99acd14f",
   "metadata": {},
   "outputs": [],
   "source": [
    "for dirpath, dirnames, filenames in os.walk(os.curdir):\n",
    "    for fp in filenames:\n",
    "        print(os.path.abspath(fp))"
   ]
  },
  {
   "cell_type": "markdown",
   "id": "ccf72de1",
   "metadata": {},
   "source": [
    "### Environment variables:\n",
    "\n",
    "```ipython\n",
    "In [2]: os.environ.keys()\n",
    "Out[2]: KeysView(environ({'SHELL': '/bin/bash', 'PWD': '/home/mb312', 'LOGNAME': 'mb312', 'HOME': '/home/mb312', 'TERM': 'xterm', 'USER': 'mb312', 'SHLVL': '1', 'PATH': '/usr/local/sbin:/usr/local/bin:/usr/sbin:/usr/bin:/sbin:/bin:/usr/games:/usr/local/games:/snap/bin', 'MAIL': '/var/mail/mb312', '_': '/usr/bin/python3', 'LC_CTYPE': 'C.UTF-8'}))\n",
    "\n",
    "In [3]: os.environ['SHELL']\n",
    "Out[3]: '/bin/bash'\n",
    "```"
   ]
  },
  {
   "cell_type": "markdown",
   "id": "04106c41",
   "metadata": {},
   "source": [
    "## `shutil`: high-level file operations\n",
    "\n",
    "The `shutil` provides useful file operations:\n",
    "\n",
    "- `shutil.rmtree`: Recursively delete a directory tree.\n",
    "- `shutil.move`: Recursively move a file or directory to another location.\n",
    "- `shutil.copy`: Copy files or directories.\n",
    "\n",
    "## `glob`: Pattern matching on files\n",
    "\n",
    "The `glob` module provides convenient file pattern matching.\n",
    "\n",
    "Find all files ending in `.txt`:"
   ]
  },
  {
   "cell_type": "code",
   "execution_count": null,
   "id": "96602b78",
   "metadata": {},
   "outputs": [],
   "source": [
    "import glob\n",
    "glob.glob('*.txt')"
   ]
  },
  {
   "cell_type": "markdown",
   "id": "bb637466",
   "metadata": {},
   "source": [
    "## `sys` module: system-specific information\n",
    "\n",
    "System-specific information related to the Python interpreter.\n",
    "\n",
    "**Which version of Python** are you running and where is it installed:"
   ]
  },
  {
   "cell_type": "code",
   "execution_count": null,
   "id": "c2b252d2",
   "metadata": {},
   "outputs": [],
   "source": [
    "import sys\n",
    "sys.platform"
   ]
  },
  {
   "cell_type": "code",
   "execution_count": null,
   "id": "9a2bdc43",
   "metadata": {},
   "outputs": [],
   "source": [
    "sys.version"
   ]
  },
  {
   "cell_type": "code",
   "execution_count": null,
   "id": "5fd82091",
   "metadata": {},
   "outputs": [],
   "source": [
    "sys.prefix"
   ]
  },
  {
   "cell_type": "markdown",
   "id": "ae52bc1c",
   "metadata": {},
   "source": [
    "`sys.argv` gives you a **list of command line arguments** passed to a Python\n",
    "script.  It is useful when you call as script with e.g. `python my_script.py some arguments`.  Inside the `my_arguments.py` script, you can get the passed arguments (here ['some', 'arguments']) with `sys.argv`.\n",
    "\n",
    "`sys.path` is a list of strings that specifies the search path for\n",
    "modules. Initialized from `PYTHONPATH`:"
   ]
  },
  {
   "cell_type": "code",
   "execution_count": null,
   "id": "8e05efab",
   "metadata": {},
   "outputs": [],
   "source": [
    "sys.path"
   ]
  },
  {
   "cell_type": "markdown",
   "id": "6419c3a1",
   "metadata": {},
   "source": [
    "## `pickle`: easy persistence\n",
    "\n",
    "Useful to store arbitrary objects to a file. Not safe or fast!"
   ]
  },
  {
   "cell_type": "code",
   "execution_count": null,
   "id": "59674891",
   "metadata": {},
   "outputs": [],
   "source": [
    "import pickle\n",
    "l = [1, None, 'Stan']\n",
    "with open('test.pkl', 'wb') as file:\n",
    "    pickle.dump(l, file)"
   ]
  },
  {
   "cell_type": "code",
   "execution_count": null,
   "id": "db3f204b",
   "metadata": {},
   "outputs": [],
   "source": [
    "with open('test.pkl', 'rb') as file:\n",
    "    out = pickle.load(file)"
   ]
  },
  {
   "cell_type": "code",
   "execution_count": null,
   "id": "8c97d94f",
   "metadata": {},
   "outputs": [],
   "source": [
    "out"
   ]
  },
  {
   "cell_type": "markdown",
   "id": "45cea155",
   "metadata": {},
   "source": [
    "## Exercises\n",
    "\n",
    "**Start of exercise**\n",
    "\n",
    "Write a function that will load the column of numbers in `data.txt` and\n",
    "calculate the min, max and sum values.  Use no modules except those in the\n",
    "standard library; specifically, do not use Numpy.\n",
    "\n",
    "{download}`data.txt`:\n",
    "\n",
    "::: {literalinclude} data.txt\n",
    "\n",
    ":::\n",
    "\n",
    "**End of exercise**"
   ]
  },
  {
   "cell_type": "markdown",
   "id": "9d96def2",
   "metadata": {},
   "source": [
    "**See the [corresponding page](/scipy-lecture-notes/intro/language/standard_library.html) for solution**\n",
    "\n",
    "Implement a *script* that takes a directory name as argument, and\n",
    "returns the list of '.py' files, sorted by name length.\n",
    "\n",
    "**Hint:** try to understand the docstring of list.sort\n",
    "\n",
    "**End of exercise**"
   ]
  },
  {
   "cell_type": "markdown",
   "id": "4131389b",
   "metadata": {},
   "source": [
    "**See the [corresponding page](/scipy-lecture-notes/intro/language/standard_library.html) for solution**\n",
    "\n",
    "Write a program to search your `PYTHONPATH` for the module `site.py`.\n",
    "\n",
    "**End of exercise**"
   ]
  },
  {
   "cell_type": "markdown",
   "id": "72ac00bd",
   "metadata": {},
   "source": [
    "**See the [corresponding page](/scipy-lecture-notes/intro/language/standard_library.html) for solution**"
   ]
  }
 ],
 "metadata": {
  "jupytext": {
   "formats": "ipynb,Rmd"
  },
  "kernelspec": {
   "display_name": "Python (Pyodide)",
   "name": "python"
  }
 },
 "nbformat": 4,
 "nbformat_minor": 5
}
