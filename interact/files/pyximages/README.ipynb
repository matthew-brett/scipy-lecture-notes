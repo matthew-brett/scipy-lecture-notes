{
 "cells": [
  {
   "cell_type": "markdown",
   "id": "92514ddf",
   "metadata": {},
   "source": [
    "# Content of directory pyximages\n",
    "\n",
    "This directory contains files related to schematic drawings in the Scientific\n",
    "Python Lectures which cannot be produced by means of Matplotlib in a simple way\n",
    "and for which no source exists in the repository so far. For each image,\n",
    "a Python source using PyX, a bitmap image for the HTML version, and a PDF image\n",
    "for the PDF version of the lectures are present.\n",
    "\n",
    "The Python source requires the pip installable PyX package and a TeX\n",
    "installation. The image sources should compile with PyX version 0.14+. Note\n",
    "that Python 3 requires at least PyX version 0.13.\n",
    "\n",
    "The source development of PyX is hosted on [Github](https://github.com/pyx-project/pyx)\n",
    "and the documentation can be found on the [PyX project page](https://pyx-project.org/)."
   ]
  }
 ],
 "metadata": {
  "kernelspec": {
   "display_name": "Python (Pyodide)",
   "name": "python"
  },
  "orphan": true
 },
 "nbformat": 4,
 "nbformat_minor": 5
}
